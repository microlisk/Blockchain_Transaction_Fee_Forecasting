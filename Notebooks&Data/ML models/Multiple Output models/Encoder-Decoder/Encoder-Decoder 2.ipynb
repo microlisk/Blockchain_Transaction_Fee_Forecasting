{
 "cells": [
  {
   "cell_type": "markdown",
   "id": "ed254beb-b30d-40dd-b1ab-1675290adaa0",
   "metadata": {
    "tags": []
   },
   "source": [
    "# Encoder Decoder"
   ]
  },
  {
   "cell_type": "markdown",
   "id": "273cf8a4-056b-49a8-8123-cc15d8f2f71b",
   "metadata": {
    "jp-MarkdownHeadingCollapsed": true,
    "tags": []
   },
   "source": [
    "## Load data, functions"
   ]
  },
  {
   "cell_type": "code",
   "execution_count": 1,
   "id": "2243fdcb-c389-4556-be27-9373234fc591",
   "metadata": {},
   "outputs": [],
   "source": [
    "import pandas as pd\n",
    "import numpy as np\n",
    "from numpy import array\n",
    "from numpy import mean\n",
    "from numpy import std\n",
    "from tensorflow import keras\n",
    "from keras import optimizers\n",
    "from keras.models import Sequential\n",
    "from tensorflow.keras.utils import plot_model\n",
    "from tensorflow.keras.layers import LSTM, Dense, Dropout, TimeDistributed, Conv1D, MaxPooling1D, Flatten, Bidirectional, Input, Flatten, Activation, Reshape, RepeatVector, Concatenate\n",
    "import matplotlib.pyplot as plt\n",
    "from sklearn.preprocessing import MinMaxScaler\n",
    "import pywt\n",
    "import matrixprofile as mp"
   ]
  },
  {
   "cell_type": "code",
   "execution_count": 2,
   "id": "fd68e3ae-22e3-43af-b5e2-abdca3c87420",
   "metadata": {},
   "outputs": [],
   "source": [
    "def split_sequence(sequence, n_steps_in, n_steps_out, step_interval, n_step_lookahead):\n",
    "    X, y = list(), list()\n",
    "    example_count = int((len(sequence)/step_interval))\n",
    "    for i in range(example_count):\n",
    "        # find the end of this pattern\n",
    "        end_ix = (i*step_interval) + n_steps_in\n",
    "        out_start_ix = end_ix + n_step_lookahead -1\n",
    "        out_end_ix = end_ix + n_steps_out + n_step_lookahead -1\n",
    "        # check if we are beyond the sequence\n",
    "        if out_end_ix > len(sequence):\n",
    "            break\n",
    "        # gather input and output parts of the pattern\n",
    "        seq_x, seq_y = sequence[(i*step_interval):end_ix], sequence[out_start_ix:out_end_ix]\n",
    "        X.append(seq_x)\n",
    "        y.append(seq_y)\n",
    "    return array(X), array(y)"
   ]
  },
  {
   "cell_type": "code",
   "execution_count": 3,
   "id": "479cb03e-33f8-4df8-afe6-82b2351713ed",
   "metadata": {},
   "outputs": [
    {
     "data": {
      "text/plain": [
       "(array([[0, 1, 2, 3, 4],\n",
       "        [1, 2, 3, 4, 5],\n",
       "        [2, 3, 4, 5, 6],\n",
       "        [3, 4, 5, 6, 7]]),\n",
       " array([[ 9],\n",
       "        [10],\n",
       "        [11],\n",
       "        [12]]))"
      ]
     },
     "execution_count": 3,
     "metadata": {},
     "output_type": "execute_result"
    }
   ],
   "source": [
    "#To demonstrate above function\n",
    "sequence = range(0,13)\n",
    "n_steps_in = 1\n",
    "n_steps_in = 5\n",
    "n_steps_out =1\n",
    "step_interval =1\n",
    "n_step_lookahead=5\n",
    "split_sequence(sequence, n_steps_in, n_steps_out, step_interval, n_step_lookahead)"
   ]
  },
  {
   "cell_type": "code",
   "execution_count": 4,
   "id": "8e0113c1-d102-4605-9fc3-542f00bd488e",
   "metadata": {},
   "outputs": [],
   "source": [
    "percentile_data = pd.read_csv (r'C:\\Users/conal/Desktop/MCM/Practicum - Copy/data/block gas price percentile data.csv', header=0)\n",
    "percentile_data['datetime'] = pd.to_datetime(percentile_data['block_timestamp'], format = '%Y-%m-%d %H:%M:%S UTC')\n",
    "\n",
    "percentile_data = percentile_data.sort_values(by='datetime',ascending=False)\n",
    "percentile_data = percentile_data.set_index('datetime')\n",
    "percentile_data = percentile_data.resample('5T').mean()\n",
    "percentile_data = percentile_data/1000000000"
   ]
  },
  {
   "cell_type": "code",
   "execution_count": 5,
   "id": "a7a6b649-6d02-4b5c-8892-6ca97fa10813",
   "metadata": {},
   "outputs": [],
   "source": [
    "usage_data = pd.read_csv (r'C:\\Users\\conal\\Desktop\\MCM\\Practicum - Copy\\data\\ETH,gas,usage merged 11-26 to 05-26.csv', header=0)\n",
    "usage_data['datetime'] = pd.to_datetime(usage_data['datetime'], format = '%Y-%m-%d %H:%M:%S')\n",
    "usage_data = usage_data.set_index('datetime')\n",
    "\n",
    "usage_data = usage_data.squeeze()\n",
    "usage_data = usage_data.astype('float')\n",
    "usage_data = usage_data.resample('5T').mean()"
   ]
  },
  {
   "cell_type": "code",
   "execution_count": 6,
   "id": "49359adb-72a2-4d36-92a3-160ae229ffc1",
   "metadata": {},
   "outputs": [],
   "source": [
    "usage_data2 = pd.read_csv (r'C:\\Users\\conal\\Desktop\\MCM\\Practicum - Copy\\data\\Contract counts 2021-11-26 to 2022-05-26.csv', header=0, index_col=0)\n",
    "usage_data2['datetime'] = pd.to_datetime(usage_data2['block_timestamp'], format = '%Y-%m-%d %H:%M:%S') \n",
    "usage_data2 = usage_data2.set_index('datetime')\n",
    "usage_data2 = usage_data2.drop(['block_timestamp'], axis=1)\n",
    "usage_data2 = usage_data2.squeeze()\n",
    "usage_data2 = usage_data2.astype('float')\n",
    "usage_data2 = usage_data2.resample('5T').sum()"
   ]
  },
  {
   "cell_type": "code",
   "execution_count": 7,
   "id": "8901dad6-24e3-4393-bce8-03d4ff7aa1c7",
   "metadata": {},
   "outputs": [],
   "source": [
    "data = usage_data.merge(percentile_data, left_index=True, right_index=True)\n",
    "data = data.merge(usage_data2, left_index=True, right_index=True)"
   ]
  },
  {
   "cell_type": "markdown",
   "id": "9123a9bf",
   "metadata": {},
   "source": [
    "Load data, datetime to index, downsample with left edge label, convert wei to gwei"
   ]
  },
  {
   "cell_type": "code",
   "execution_count": 8,
   "id": "ac449a8e",
   "metadata": {},
   "outputs": [],
   "source": [
    "def generate_training_val_examples(data):\n",
    " \n",
    "    #Filter inputs, standardize\n",
    "    data =data[inputs]\n",
    "    scaler = StandardScaler()\n",
    "    data[inputs] = scaler.fit_transform(data[inputs])\n",
    "    \n",
    "\n",
    "    #Creat input:output examples\n",
    "    data = data[start_date:end_date].to_numpy()\n",
    "    X, y = split_sequence(data, n_steps_in, n_steps_out, step_interval, n_step_lookahead)\n",
    "    \n",
    "    X_train, X_val = np.split(X, [int(0.7 * len(X))])\n",
    "    #we are only lookign to forecast the min gas price\n",
    "    y_train, y_val = np.split(y, [int(0.7 * len(X))])\n",
    "\n",
    "    \n",
    "    #Reshape to 3D for LSTM\n",
    "    X_train = X_train.reshape((X_train.shape[0], X_train.shape[1], len(inputs)))\n",
    "    y_train =y_train.reshape((y_train.shape[0], y_train.shape[1], len(inputs)))\n",
    "    X_val = X_val.reshape((X_val.shape[0], X_val.shape[1], len(inputs)))\n",
    "    y_val = y_val.reshape((y_val.shape[0], y_val.shape[1], len(inputs)))\n",
    "\n",
    "    \n",
    "    return X_train, y_train, X_val, y_val, scaler\n",
    "\n"
   ]
  },
  {
   "cell_type": "code",
   "execution_count": 30,
   "id": "046086f6-7346-4550-8d58-ba108d69ceed",
   "metadata": {},
   "outputs": [],
   "source": [
    "def LSTM_model():\n",
    "    model = Sequential()\n",
    "    model.add(LSTM(100, activation='tanh', input_shape=(n_steps_in, len(inputs))))\n",
    "    model.add(RepeatVector(n_steps_out))\n",
    "    model.add(LSTM(100, activation='tanh', return_sequences=True))\n",
    "    model.add(TimeDistributed(Dense(len(inputs))))\n",
    "    model.compile(optimizer='adam', loss='mse')\n",
    "    return model"
   ]
  },
  {
   "cell_type": "code",
   "execution_count": 9,
   "id": "f5878928-c13c-4766-bcfe-2a6d1de3a51f",
   "metadata": {},
   "outputs": [],
   "source": [
    "from sklearn.preprocessing import MinMaxScaler\n",
    "from sklearn.preprocessing import StandardScaler\n",
    "from sklearn.metrics import r2_score\n",
    "from sklearn.metrics import mean_squared_error\n",
    "from sklearn.metrics import mean_absolute_error\n",
    "from sklearn.metrics import mean_absolute_percentage_error\n"
   ]
  },
  {
   "cell_type": "code",
   "execution_count": 10,
   "id": "1251aaea-8a1b-423a-80c4-d88e601b2c74",
   "metadata": {},
   "outputs": [],
   "source": [
    "def descale_y_retrun_metrics(yhat, y_val2):\n",
    "    #We will use validation data that has not had outleirs limited, will be a different min/max scaler as such\n",
    "    dict_indexes=[]\n",
    "    dict_dfs=[]\n",
    "    for j in range(0, n_steps_out):\n",
    "        RMSE_list, MAE_list, MAPE_list, R2_list, MSE_list = [],[],[],[],[]\n",
    "        for i in range(0, len(inputs)):  \n",
    "            pred_descaled= (scaler.inverse_transform(yhat[:,j:j+1,:].reshape(yhat.shape[0], yhat.shape[2])))[:, i:i+1]\n",
    "            groud_truth_descaled= ((scaler2.inverse_transform(y_val2[:,j:j+1,:].reshape(y_val2.shape[0], y_val2.shape[2]))))[:, i:i+1]\n",
    "            RMSE = mean_squared_error(groud_truth_descaled, pred_descaled, squared=False)\n",
    "            MSE = mean_squared_error(groud_truth_descaled, pred_descaled, squared=True)\n",
    "            MAE = mean_absolute_error(groud_truth_descaled, pred_descaled)\n",
    "            MAPE = mean_absolute_percentage_error(groud_truth_descaled, pred_descaled)\n",
    "            R2 = r2_score(groud_truth_descaled, pred_descaled)\n",
    "            RMSE_list.append(RMSE)\n",
    "            MAE_list.append(MAE)\n",
    "            MAPE_list.append(MAPE)\n",
    "            R2_list.append(R2)\n",
    "            MSE_list.append(MSE)\n",
    "        metrics_df = pd.DataFrame({'RMSE':RMSE_list, 'MSE':MSE_list, 'MAE':MAE_list, 'MAPE':MAPE_list, 'R2':R2_list}, index=inputs)\n",
    "        dict_dfs.append(metrics_df)\n",
    "        dict_indexes.append('Lookahead' +str(j))\n",
    "    metrics_dict = dict(zip(dict_indexes, dict_dfs))\n",
    "    return metrics_dict"
   ]
  },
  {
   "cell_type": "markdown",
   "id": "3ecf17f4-7a7f-415e-9ea5-a5ad465a6f01",
   "metadata": {
    "jp-MarkdownHeadingCollapsed": true,
    "tags": []
   },
   "source": [
    "## Lets optimize loss function towards prediction of all variables"
   ]
  },
  {
   "cell_type": "code",
   "execution_count": 167,
   "id": "3874cf91-eb9c-456e-b96a-8b855a7dc1ae",
   "metadata": {
    "collapsed": true,
    "jupyter": {
     "outputs_hidden": true
    },
    "tags": []
   },
   "outputs": [
    {
     "name": "stderr",
     "output_type": "stream",
     "text": [
      "D:\\Anaconda\\lib\\site-packages\\pandas\\core\\frame.py:3678: SettingWithCopyWarning: \n",
      "A value is trying to be set on a copy of a slice from a DataFrame.\n",
      "Try using .loc[row_indexer,col_indexer] = value instead\n",
      "\n",
      "See the caveats in the documentation: https://pandas.pydata.org/pandas-docs/stable/user_guide/indexing.html#returning-a-view-versus-a-copy\n",
      "  self[col] = igetitem(value, i)\n"
     ]
    },
    {
     "name": "stdout",
     "output_type": "stream",
     "text": [
      "Epoch 1/15\n",
      "107/107 [==============================] - 20s 148ms/step - loss: 0.5415 - val_loss: 0.3002\n",
      "Epoch 2/15\n",
      "107/107 [==============================] - 15s 140ms/step - loss: 0.4914 - val_loss: 0.3033\n",
      "Epoch 3/15\n",
      "107/107 [==============================] - 15s 139ms/step - loss: 0.4813 - val_loss: 0.3092\n",
      "Epoch 4/15\n",
      "107/107 [==============================] - 15s 140ms/step - loss: 0.4652 - val_loss: 0.3012\n",
      "Epoch 5/15\n",
      "107/107 [==============================] - 16s 149ms/step - loss: 0.4586 - val_loss: 0.3186\n",
      "Epoch 6/15\n",
      "107/107 [==============================] - 15s 144ms/step - loss: 0.4530 - val_loss: 0.4579\n",
      "Epoch 7/15\n",
      "107/107 [==============================] - 15s 144ms/step - loss: 0.4491 - val_loss: 0.3204\n",
      "Epoch 8/15\n",
      "107/107 [==============================] - 15s 143ms/step - loss: 0.4327 - val_loss: 0.3162\n",
      "Epoch 9/15\n",
      "107/107 [==============================] - 15s 144ms/step - loss: 0.4356 - val_loss: 0.3104\n",
      "Epoch 10/15\n",
      "107/107 [==============================] - 15s 143ms/step - loss: 0.4303 - val_loss: 0.3079\n",
      "Epoch 11/15\n",
      "107/107 [==============================] - 15s 143ms/step - loss: 0.4293 - val_loss: 0.3247\n",
      "Epoch 12/15\n",
      "107/107 [==============================] - 15s 143ms/step - loss: 0.4116 - val_loss: 0.3057\n",
      "Epoch 13/15\n",
      "107/107 [==============================] - 15s 144ms/step - loss: 0.4035 - val_loss: 0.3352\n",
      "Epoch 14/15\n",
      "107/107 [==============================] - 15s 144ms/step - loss: 0.3946 - val_loss: 0.3808\n",
      "Epoch 15/15\n",
      "107/107 [==============================] - 15s 144ms/step - loss: 0.4197 - val_loss: 0.3075\n"
     ]
    },
    {
     "name": "stderr",
     "output_type": "stream",
     "text": [
      "WARNING:absl:Found untraced functions such as lstm_cell_14_layer_call_fn, lstm_cell_14_layer_call_and_return_conditional_losses, lstm_cell_15_layer_call_fn, lstm_cell_15_layer_call_and_return_conditional_losses while saving (showing 4 of 4). These functions will not be directly callable after loading.\n"
     ]
    },
    {
     "name": "stdout",
     "output_type": "stream",
     "text": [
      "INFO:tensorflow:Assets written to: Encoder_Decoder/Month0_pears_step_lookahead\\assets\n"
     ]
    },
    {
     "name": "stderr",
     "output_type": "stream",
     "text": [
      "INFO:tensorflow:Assets written to: Encoder_Decoder/Month0_pears_step_lookahead\\assets\n",
      "WARNING:absl:<keras.layers.recurrent.LSTMCell object at 0x00000208EB73B0D0> has the same name 'LSTMCell' as a built-in Keras object. Consider renaming <class 'keras.layers.recurrent.LSTMCell'> to avoid naming conflicts when loading with `tf.keras.models.load_model`. If renaming is not possible, pass the object in the `custom_objects` parameter of the load function.\n",
      "WARNING:absl:<keras.layers.recurrent.LSTMCell object at 0x00000208E3CDA0A0> has the same name 'LSTMCell' as a built-in Keras object. Consider renaming <class 'keras.layers.recurrent.LSTMCell'> to avoid naming conflicts when loading with `tf.keras.models.load_model`. If renaming is not possible, pass the object in the `custom_objects` parameter of the load function.\n"
     ]
    },
    {
     "name": "stdout",
     "output_type": "stream",
     "text": [
      "107/107 [==============================] - 6s 51ms/step\n",
      "46/46 [==============================] - 3s 51ms/step\n"
     ]
    },
    {
     "name": "stderr",
     "output_type": "stream",
     "text": [
      "D:\\Anaconda\\lib\\site-packages\\pandas\\core\\frame.py:3678: SettingWithCopyWarning: \n",
      "A value is trying to be set on a copy of a slice from a DataFrame.\n",
      "Try using .loc[row_indexer,col_indexer] = value instead\n",
      "\n",
      "See the caveats in the documentation: https://pandas.pydata.org/pandas-docs/stable/user_guide/indexing.html#returning-a-view-versus-a-copy\n",
      "  self[col] = igetitem(value, i)\n"
     ]
    },
    {
     "name": "stdout",
     "output_type": "stream",
     "text": [
      "Epoch 1/15\n",
      "114/114 [==============================] - 23s 154ms/step - loss: 0.6533 - val_loss: 0.5827\n",
      "Epoch 2/15\n",
      "114/114 [==============================] - 16s 144ms/step - loss: 0.5869 - val_loss: 0.5405\n",
      "Epoch 3/15\n",
      "114/114 [==============================] - 16s 143ms/step - loss: 0.5737 - val_loss: 0.5299\n",
      "Epoch 4/15\n",
      "114/114 [==============================] - 16s 143ms/step - loss: 0.5620 - val_loss: 0.5349\n",
      "Epoch 5/15\n",
      "114/114 [==============================] - 16s 143ms/step - loss: 0.5521 - val_loss: 0.5501\n",
      "Epoch 6/15\n",
      "114/114 [==============================] - 16s 143ms/step - loss: 0.5424 - val_loss: 0.5469\n",
      "Epoch 7/15\n",
      "114/114 [==============================] - 16s 142ms/step - loss: 0.5353 - val_loss: 0.5584\n",
      "Epoch 8/15\n",
      "114/114 [==============================] - 16s 143ms/step - loss: 0.5270 - val_loss: 0.5782\n",
      "Epoch 9/15\n",
      "114/114 [==============================] - 16s 142ms/step - loss: 0.5232 - val_loss: 0.5470\n",
      "Epoch 10/15\n",
      "114/114 [==============================] - 16s 142ms/step - loss: 0.5034 - val_loss: 0.5698\n",
      "Epoch 11/15\n",
      "114/114 [==============================] - 16s 142ms/step - loss: 0.4997 - val_loss: 0.5634\n",
      "Epoch 12/15\n",
      "114/114 [==============================] - 16s 142ms/step - loss: 0.5214 - val_loss: 0.5610\n",
      "Epoch 13/15\n",
      "114/114 [==============================] - 16s 142ms/step - loss: 0.4970 - val_loss: 0.5657\n",
      "Epoch 14/15\n",
      "114/114 [==============================] - 16s 142ms/step - loss: 0.4766 - val_loss: 0.5785\n",
      "Epoch 15/15\n",
      "114/114 [==============================] - 16s 142ms/step - loss: 0.4635 - val_loss: 0.6028\n"
     ]
    },
    {
     "name": "stderr",
     "output_type": "stream",
     "text": [
      "WARNING:absl:Found untraced functions such as lstm_cell_16_layer_call_fn, lstm_cell_16_layer_call_and_return_conditional_losses, lstm_cell_17_layer_call_fn, lstm_cell_17_layer_call_and_return_conditional_losses while saving (showing 4 of 4). These functions will not be directly callable after loading.\n"
     ]
    },
    {
     "name": "stdout",
     "output_type": "stream",
     "text": [
      "INFO:tensorflow:Assets written to: Encoder_Decoder/Month1_pears_step_lookahead\\assets\n"
     ]
    },
    {
     "name": "stderr",
     "output_type": "stream",
     "text": [
      "INFO:tensorflow:Assets written to: Encoder_Decoder/Month1_pears_step_lookahead\\assets\n",
      "WARNING:absl:<keras.layers.recurrent.LSTMCell object at 0x00000208E82D7520> has the same name 'LSTMCell' as a built-in Keras object. Consider renaming <class 'keras.layers.recurrent.LSTMCell'> to avoid naming conflicts when loading with `tf.keras.models.load_model`. If renaming is not possible, pass the object in the `custom_objects` parameter of the load function.\n",
      "WARNING:absl:<keras.layers.recurrent.LSTMCell object at 0x00000208E82F0B50> has the same name 'LSTMCell' as a built-in Keras object. Consider renaming <class 'keras.layers.recurrent.LSTMCell'> to avoid naming conflicts when loading with `tf.keras.models.load_model`. If renaming is not possible, pass the object in the `custom_objects` parameter of the load function.\n"
     ]
    },
    {
     "name": "stdout",
     "output_type": "stream",
     "text": [
      "114/114 [==============================] - 7s 51ms/step\n",
      "49/49 [==============================] - 2s 50ms/step\n"
     ]
    },
    {
     "name": "stderr",
     "output_type": "stream",
     "text": [
      "D:\\Anaconda\\lib\\site-packages\\pandas\\core\\frame.py:3678: SettingWithCopyWarning: \n",
      "A value is trying to be set on a copy of a slice from a DataFrame.\n",
      "Try using .loc[row_indexer,col_indexer] = value instead\n",
      "\n",
      "See the caveats in the documentation: https://pandas.pydata.org/pandas-docs/stable/user_guide/indexing.html#returning-a-view-versus-a-copy\n",
      "  self[col] = igetitem(value, i)\n"
     ]
    },
    {
     "name": "stdout",
     "output_type": "stream",
     "text": [
      "Epoch 1/15\n",
      "108/108 [==============================] - 21s 154ms/step - loss: 0.6402 - val_loss: 0.7514\n",
      "Epoch 2/15\n",
      "108/108 [==============================] - 15s 142ms/step - loss: 0.5984 - val_loss: 0.7302\n",
      "Epoch 3/15\n",
      "108/108 [==============================] - 15s 142ms/step - loss: 0.5869 - val_loss: 0.7524\n",
      "Epoch 4/15\n",
      "108/108 [==============================] - 15s 142ms/step - loss: 0.5781 - val_loss: 0.7402\n",
      "Epoch 5/15\n",
      "108/108 [==============================] - 15s 142ms/step - loss: 0.5790 - val_loss: 0.7235\n",
      "Epoch 6/15\n",
      "108/108 [==============================] - 16s 145ms/step - loss: 0.5700 - val_loss: 0.7376\n",
      "Epoch 7/15\n",
      "108/108 [==============================] - 16s 151ms/step - loss: 0.5546 - val_loss: 0.7392\n",
      "Epoch 8/15\n",
      "108/108 [==============================] - 15s 143ms/step - loss: 0.5557 - val_loss: 0.7401\n",
      "Epoch 9/15\n",
      "108/108 [==============================] - 16s 144ms/step - loss: 0.5481 - val_loss: 0.7453\n",
      "Epoch 10/15\n",
      "108/108 [==============================] - 15s 142ms/step - loss: 0.5351 - val_loss: 0.7565\n",
      "Epoch 11/15\n",
      "108/108 [==============================] - 16s 144ms/step - loss: 0.5319 - val_loss: 0.7429\n",
      "Epoch 12/15\n",
      "108/108 [==============================] - 15s 144ms/step - loss: 0.5191 - val_loss: 0.7517\n",
      "Epoch 13/15\n",
      "108/108 [==============================] - 15s 144ms/step - loss: 0.5125 - val_loss: 0.7646\n",
      "Epoch 14/15\n",
      "108/108 [==============================] - 15s 144ms/step - loss: 0.5120 - val_loss: 0.7652\n",
      "Epoch 15/15\n",
      "108/108 [==============================] - 16s 144ms/step - loss: 0.5081 - val_loss: 0.7788\n"
     ]
    },
    {
     "name": "stderr",
     "output_type": "stream",
     "text": [
      "WARNING:absl:Found untraced functions such as lstm_cell_18_layer_call_fn, lstm_cell_18_layer_call_and_return_conditional_losses, lstm_cell_19_layer_call_fn, lstm_cell_19_layer_call_and_return_conditional_losses while saving (showing 4 of 4). These functions will not be directly callable after loading.\n"
     ]
    },
    {
     "name": "stdout",
     "output_type": "stream",
     "text": [
      "INFO:tensorflow:Assets written to: Encoder_Decoder/Month2_pears_step_lookahead\\assets\n"
     ]
    },
    {
     "name": "stderr",
     "output_type": "stream",
     "text": [
      "INFO:tensorflow:Assets written to: Encoder_Decoder/Month2_pears_step_lookahead\\assets\n",
      "WARNING:absl:<keras.layers.recurrent.LSTMCell object at 0x00000208E8E85A60> has the same name 'LSTMCell' as a built-in Keras object. Consider renaming <class 'keras.layers.recurrent.LSTMCell'> to avoid naming conflicts when loading with `tf.keras.models.load_model`. If renaming is not possible, pass the object in the `custom_objects` parameter of the load function.\n",
      "WARNING:absl:<keras.layers.recurrent.LSTMCell object at 0x00000208E82A3E20> has the same name 'LSTMCell' as a built-in Keras object. Consider renaming <class 'keras.layers.recurrent.LSTMCell'> to avoid naming conflicts when loading with `tf.keras.models.load_model`. If renaming is not possible, pass the object in the `custom_objects` parameter of the load function.\n"
     ]
    },
    {
     "name": "stdout",
     "output_type": "stream",
     "text": [
      "108/108 [==============================] - 7s 52ms/step\n",
      "46/46 [==============================] - 2s 51ms/step\n"
     ]
    },
    {
     "name": "stderr",
     "output_type": "stream",
     "text": [
      "D:\\Anaconda\\lib\\site-packages\\pandas\\core\\frame.py:3678: SettingWithCopyWarning: \n",
      "A value is trying to be set on a copy of a slice from a DataFrame.\n",
      "Try using .loc[row_indexer,col_indexer] = value instead\n",
      "\n",
      "See the caveats in the documentation: https://pandas.pydata.org/pandas-docs/stable/user_guide/indexing.html#returning-a-view-versus-a-copy\n",
      "  self[col] = igetitem(value, i)\n"
     ]
    },
    {
     "name": "stdout",
     "output_type": "stream",
     "text": [
      "Epoch 1/15\n",
      "89/89 [==============================] - 18s 158ms/step - loss: 0.5278 - val_loss: 0.3165\n",
      "Epoch 2/15\n",
      "89/89 [==============================] - 13s 143ms/step - loss: 0.4805 - val_loss: 0.3130\n",
      "Epoch 3/15\n",
      "89/89 [==============================] - 13s 145ms/step - loss: 0.4759 - val_loss: 0.3142\n",
      "Epoch 4/15\n",
      "89/89 [==============================] - 13s 145ms/step - loss: 0.4682 - val_loss: 0.3147\n",
      "Epoch 5/15\n",
      "89/89 [==============================] - 14s 154ms/step - loss: 0.4613 - val_loss: 0.3110\n",
      "Epoch 6/15\n",
      "89/89 [==============================] - 14s 153ms/step - loss: 0.4555 - val_loss: 0.3156\n",
      "Epoch 7/15\n",
      "89/89 [==============================] - 13s 149ms/step - loss: 0.4541 - val_loss: 0.3274\n",
      "Epoch 8/15\n",
      "89/89 [==============================] - 13s 145ms/step - loss: 0.4471 - val_loss: 0.3169\n",
      "Epoch 9/15\n",
      "89/89 [==============================] - 13s 145ms/step - loss: 0.4406 - val_loss: 0.3151\n",
      "Epoch 10/15\n",
      "89/89 [==============================] - 13s 144ms/step - loss: 0.4348 - val_loss: 0.3166\n",
      "Epoch 11/15\n",
      "89/89 [==============================] - 13s 145ms/step - loss: 0.4343 - val_loss: 0.3217\n",
      "Epoch 12/15\n",
      "89/89 [==============================] - 13s 146ms/step - loss: 0.4254 - val_loss: 0.3274\n",
      "Epoch 13/15\n",
      "89/89 [==============================] - 13s 143ms/step - loss: 0.4355 - val_loss: 0.3357\n",
      "Epoch 14/15\n",
      "89/89 [==============================] - 13s 144ms/step - loss: 0.4310 - val_loss: 0.3400\n",
      "Epoch 15/15\n",
      "89/89 [==============================] - 13s 145ms/step - loss: 0.4396 - val_loss: 0.3240\n"
     ]
    },
    {
     "name": "stderr",
     "output_type": "stream",
     "text": [
      "WARNING:absl:Found untraced functions such as lstm_cell_20_layer_call_fn, lstm_cell_20_layer_call_and_return_conditional_losses, lstm_cell_21_layer_call_fn, lstm_cell_21_layer_call_and_return_conditional_losses while saving (showing 4 of 4). These functions will not be directly callable after loading.\n"
     ]
    },
    {
     "name": "stdout",
     "output_type": "stream",
     "text": [
      "INFO:tensorflow:Assets written to: Encoder_Decoder/Month3_pears_step_lookahead\\assets\n"
     ]
    },
    {
     "name": "stderr",
     "output_type": "stream",
     "text": [
      "INFO:tensorflow:Assets written to: Encoder_Decoder/Month3_pears_step_lookahead\\assets\n",
      "WARNING:absl:<keras.layers.recurrent.LSTMCell object at 0x00000208E9445700> has the same name 'LSTMCell' as a built-in Keras object. Consider renaming <class 'keras.layers.recurrent.LSTMCell'> to avoid naming conflicts when loading with `tf.keras.models.load_model`. If renaming is not possible, pass the object in the `custom_objects` parameter of the load function.\n",
      "WARNING:absl:<keras.layers.recurrent.LSTMCell object at 0x00000208DF02E250> has the same name 'LSTMCell' as a built-in Keras object. Consider renaming <class 'keras.layers.recurrent.LSTMCell'> to avoid naming conflicts when loading with `tf.keras.models.load_model`. If renaming is not possible, pass the object in the `custom_objects` parameter of the load function.\n"
     ]
    },
    {
     "name": "stdout",
     "output_type": "stream",
     "text": [
      "89/89 [==============================] - 6s 53ms/step\n",
      "38/38 [==============================] - 2s 51ms/step\n"
     ]
    },
    {
     "name": "stderr",
     "output_type": "stream",
     "text": [
      "D:\\Anaconda\\lib\\site-packages\\pandas\\core\\frame.py:3678: SettingWithCopyWarning: \n",
      "A value is trying to be set on a copy of a slice from a DataFrame.\n",
      "Try using .loc[row_indexer,col_indexer] = value instead\n",
      "\n",
      "See the caveats in the documentation: https://pandas.pydata.org/pandas-docs/stable/user_guide/indexing.html#returning-a-view-versus-a-copy\n",
      "  self[col] = igetitem(value, i)\n"
     ]
    },
    {
     "name": "stdout",
     "output_type": "stream",
     "text": [
      "Epoch 1/15\n",
      "108/108 [==============================] - 22s 165ms/step - loss: 0.4163 - val_loss: 0.3550\n",
      "Epoch 2/15\n",
      "108/108 [==============================] - 16s 152ms/step - loss: 0.3930 - val_loss: 0.3475\n",
      "Epoch 3/15\n",
      "108/108 [==============================] - 16s 151ms/step - loss: 0.3842 - val_loss: 0.3488\n",
      "Epoch 4/15\n",
      "108/108 [==============================] - 16s 150ms/step - loss: 0.3809 - val_loss: 0.3460\n",
      "Epoch 5/15\n",
      "108/108 [==============================] - 16s 150ms/step - loss: 0.3774 - val_loss: 0.3479\n",
      "Epoch 6/15\n",
      "108/108 [==============================] - 16s 149ms/step - loss: 0.3743 - val_loss: 0.3459\n",
      "Epoch 7/15\n",
      "108/108 [==============================] - 15s 143ms/step - loss: 0.3729 - val_loss: 0.3482\n",
      "Epoch 8/15\n",
      "108/108 [==============================] - 16s 144ms/step - loss: 0.3694 - val_loss: 0.3504\n",
      "Epoch 9/15\n",
      "108/108 [==============================] - 15s 144ms/step - loss: 0.3720 - val_loss: 0.3481\n",
      "Epoch 10/15\n",
      "108/108 [==============================] - 15s 143ms/step - loss: 0.3646 - val_loss: 0.3494\n",
      "Epoch 11/15\n",
      "108/108 [==============================] - 15s 142ms/step - loss: 0.3620 - val_loss: 0.3501\n",
      "Epoch 12/15\n",
      "108/108 [==============================] - 15s 143ms/step - loss: 0.3601 - val_loss: 0.3528\n",
      "Epoch 13/15\n",
      "108/108 [==============================] - 15s 143ms/step - loss: 0.3545 - val_loss: 0.3536\n",
      "Epoch 14/15\n",
      "108/108 [==============================] - 15s 143ms/step - loss: 0.3512 - val_loss: 0.3576\n",
      "Epoch 15/15\n",
      "108/108 [==============================] - 16s 144ms/step - loss: 0.3522 - val_loss: 0.3547\n"
     ]
    },
    {
     "name": "stderr",
     "output_type": "stream",
     "text": [
      "WARNING:absl:Found untraced functions such as lstm_cell_22_layer_call_fn, lstm_cell_22_layer_call_and_return_conditional_losses, lstm_cell_23_layer_call_fn, lstm_cell_23_layer_call_and_return_conditional_losses while saving (showing 4 of 4). These functions will not be directly callable after loading.\n"
     ]
    },
    {
     "name": "stdout",
     "output_type": "stream",
     "text": [
      "INFO:tensorflow:Assets written to: Encoder_Decoder/Month4_pears_step_lookahead\\assets\n"
     ]
    },
    {
     "name": "stderr",
     "output_type": "stream",
     "text": [
      "INFO:tensorflow:Assets written to: Encoder_Decoder/Month4_pears_step_lookahead\\assets\n",
      "WARNING:absl:<keras.layers.recurrent.LSTMCell object at 0x00000208EB283940> has the same name 'LSTMCell' as a built-in Keras object. Consider renaming <class 'keras.layers.recurrent.LSTMCell'> to avoid naming conflicts when loading with `tf.keras.models.load_model`. If renaming is not possible, pass the object in the `custom_objects` parameter of the load function.\n",
      "WARNING:absl:<keras.layers.recurrent.LSTMCell object at 0x000002093C2E2F70> has the same name 'LSTMCell' as a built-in Keras object. Consider renaming <class 'keras.layers.recurrent.LSTMCell'> to avoid naming conflicts when loading with `tf.keras.models.load_model`. If renaming is not possible, pass the object in the `custom_objects` parameter of the load function.\n"
     ]
    },
    {
     "name": "stdout",
     "output_type": "stream",
     "text": [
      "108/108 [==============================] - 7s 52ms/step\n",
      "46/46 [==============================] - 2s 50ms/step\n"
     ]
    }
   ],
   "source": [
    "#Create Training Examples for all lookaheads\n",
    "resample_rate = '5T'\n",
    "end_dates = ['2021-12-26 23:55:00', '2022-01-26 23:55:00', '2022-02-26 23:55:00', '2022-03-26 23:55:00', '2022-04-26 23:55:00'  ]\n",
    "Start_dates = ['2021-11-26 00:00:00', '2021-12-26 00:00:00', '2022-01-26 23:55:00', '2022-02-26 23:55:00', '2022-03-26 23:55:00']\n",
    "\n",
    "#end_dates = ['2022-01-26 23:55:00', '2022-03-26 23:55:00']\n",
    "#Start_dates = ['2021-11-26 00:00:00', '2022-01-26 00:00:00']\n",
    "inputs = ['min_gas_price', 'block_gas_5th_percentile', 'block_gas_95th_percentile', 'gas_used', 'base_fee_per_gas', 'transaction_count', 'size', 'Open', 'contracts']\n",
    "#No of timesteps behind to forecast on, no of timesteps to forecast ahead\n",
    "n_steps_in = 4032\n",
    "n_steps_out = 5\n",
    "#How many timesteps between start of training examples\n",
    "step_interval = 1\n",
    "n_step_lookahead = 1\n",
    "\n",
    "\n",
    "\n",
    "y_hat_list=[]\n",
    "train_loss_list=[]\n",
    "val_loss_list=[]\n",
    "training_metrics_dicts=[]\n",
    "valdiation_metrics_dicts=[]\n",
    "for month in [0, 1, 2, 3, 4]:\n",
    "    n_step_lookahead = 1\n",
    "    start_date=Start_dates[month]\n",
    "    end_date=end_dates[month]\n",
    "    X_train, y_train, X_val, y_val, scaler = generate_training_val_examples(data)\n",
    "    \n",
    "\n",
    "    \n",
    "    \n",
    "    model = LSTM_model()\n",
    "    train_history = model.fit(X_train, y_train,validation_data=(X_val, y_val), epochs=15, verbose=1)\n",
    "    train_loss_list.append(train_history.history['loss'])\n",
    "    val_loss_list.append(train_history.history['val_loss'])\n",
    "    model.save(('Encoder_Decoder_2/Month' +str(month)))\n",
    "    \n",
    "    yhat_train=model.predict(X_train, verbose=1)\n",
    "    yhat_val = model.predict(X_val, verbose=1)\n",
    "    \n",
    "    training_metrics_dicts.append(descale_y_retrun_metrics(yhat_train, y_train))\n",
    "    valdiation_metrics_dicts.append(descale_y_retrun_metrics(yhat_val, y_val))\n",
    "    \n",
    "    \n",
    "    "
   ]
  },
  {
   "cell_type": "code",
   "execution_count": 8,
   "id": "aecd74dc-446c-4666-b961-422b39915328",
   "metadata": {
    "collapsed": true,
    "jupyter": {
     "outputs_hidden": true
    },
    "tags": []
   },
   "outputs": [
    {
     "data": {
      "text/plain": [
       "array([[[1.68098673e+01, 2.82571638e+02, 8.64928467e+00, 1.19404758e-01,\n",
       "         5.05659610e-01],\n",
       "        [1.89262528e+01, 3.58203046e+02, 1.08748015e+01, 1.50478888e-01,\n",
       "         3.73165120e-01],\n",
       "        [1.99322571e+01, 3.97294873e+02, 1.21897020e+01, 1.70127489e-01,\n",
       "         3.04794814e-01],\n",
       "        [2.12319241e+01, 4.50794603e+02, 1.29565851e+01, 1.82262335e-01,\n",
       "         2.11900081e-01],\n",
       "        [2.23455285e+01, 4.99322645e+02, 1.34147264e+01, 1.89091133e-01,\n",
       "         1.27186224e-01]],\n",
       "\n",
       "       [[3.17902620e+01, 1.01062076e+03, 1.78014682e+01, 1.15707586e-01,\n",
       "         7.35022476e-01],\n",
       "        [4.05445919e+01, 1.64386393e+03, 2.33814681e+01, 1.55269704e-01,\n",
       "         5.69041417e-01],\n",
       "        [4.41085812e+01, 1.94556693e+03, 2.61993724e+01, 1.76175617e-01,\n",
       "         4.90110759e-01],\n",
       "        [4.62554880e+01, 2.13957017e+03, 2.78675563e+01, 1.89776721e-01,\n",
       "         4.39133457e-01],\n",
       "        [4.73942896e+01, 2.24621869e+03, 2.92279299e+01, 2.01785489e-01,\n",
       "         4.11122340e-01]],\n",
       "\n",
       "       [[3.48821716e+01, 1.21676590e+03, 1.30128783e+01, 1.74866189e-01,\n",
       "         5.10717227e-01],\n",
       "        [3.88370726e+01, 1.50831821e+03, 1.63994528e+01, 2.27763902e-01,\n",
       "         3.93357771e-01],\n",
       "        [4.01927975e+01, 1.61546097e+03, 1.76246290e+01, 2.45115412e-01,\n",
       "         3.50222599e-01],\n",
       "        [4.11802862e+01, 1.69581597e+03, 1.85500485e+01, 2.60053697e-01,\n",
       "         3.17752856e-01],\n",
       "        [4.18348145e+01, 1.75015171e+03, 1.92100366e+01, 2.68977205e-01,\n",
       "         2.95826130e-01]],\n",
       "\n",
       "       [[1.08339415e+01, 1.17374288e+02, 6.55753663e+00, 1.45800947e-01,\n",
       "         7.03283264e-01],\n",
       "        [1.44182136e+01, 2.07884885e+02, 8.28336082e+00, 1.77809421e-01,\n",
       "         4.74983536e-01],\n",
       "        [1.57912973e+01, 2.49365070e+02, 8.94644922e+00, 1.95238412e-01,\n",
       "         3.70803206e-01],\n",
       "        [1.66907021e+01, 2.78579537e+02, 9.51391196e+00, 2.14357119e-01,\n",
       "         2.97415296e-01],\n",
       "        [1.75570940e+01, 3.08251549e+02, 1.00764609e+01, 2.31290963e-01,\n",
       "         2.22879402e-01]],\n",
       "\n",
       "       [[1.22064978e+01, 1.48998588e+02, 7.32902199e+00, 1.73747901e-01,\n",
       "         6.62419685e-01],\n",
       "        [1.47452993e+01, 2.17423851e+02, 8.80683689e+00, 2.01948128e-01,\n",
       "         5.07394634e-01],\n",
       "        [1.58134291e+01, 2.50064540e+02, 9.29024830e+00, 2.10834554e-01,\n",
       "         4.33416562e-01],\n",
       "        [1.60460135e+01, 2.57474548e+02, 9.55434107e+00, 2.16495726e-01,\n",
       "         4.17129645e-01],\n",
       "        [1.62272778e+01, 2.63324545e+02, 9.75788495e+00, 2.18593036e-01,\n",
       "         4.05633485e-01]]])"
      ]
     },
     "execution_count": 8,
     "metadata": {},
     "output_type": "execute_result"
    }
   ],
   "source": [
    "np.load('Encoder_Decoder_2/validation_metric_dict_1.npy', allow_pickle=True)"
   ]
  },
  {
   "cell_type": "code",
   "execution_count": 191,
   "id": "1674fa2c-d54a-40fc-8c63-b40c0178a56e",
   "metadata": {},
   "outputs": [],
   "source": [
    "average_keys = list(valdiation_metrics_dicts[0].keys())"
   ]
  },
  {
   "cell_type": "code",
   "execution_count": 263,
   "id": "4547673b-83d0-466f-8ce8-4c3d90fa86e8",
   "metadata": {},
   "outputs": [
    {
     "data": {
      "text/html": [
       "<div>\n",
       "<style scoped>\n",
       "    .dataframe tbody tr th:only-of-type {\n",
       "        vertical-align: middle;\n",
       "    }\n",
       "\n",
       "    .dataframe tbody tr th {\n",
       "        vertical-align: top;\n",
       "    }\n",
       "\n",
       "    .dataframe thead th {\n",
       "        text-align: right;\n",
       "    }\n",
       "</style>\n",
       "<table border=\"1\" class=\"dataframe\">\n",
       "  <thead>\n",
       "    <tr style=\"text-align: right;\">\n",
       "      <th></th>\n",
       "      <th>RMSE</th>\n",
       "      <th>MSE</th>\n",
       "      <th>MAE</th>\n",
       "      <th>MAPE</th>\n",
       "      <th>R2</th>\n",
       "    </tr>\n",
       "  </thead>\n",
       "  <tbody>\n",
       "    <tr>\n",
       "      <th>min_gas_price</th>\n",
       "      <td>2.955788e+01</td>\n",
       "      <td>1.088852e+03</td>\n",
       "      <td>1.703250e+01</td>\n",
       "      <td>0.235236</td>\n",
       "      <td>0.304757</td>\n",
       "    </tr>\n",
       "    <tr>\n",
       "      <th>block_gas_5th_percentile</th>\n",
       "      <td>3.478283e+01</td>\n",
       "      <td>1.604899e+03</td>\n",
       "      <td>1.716701e+01</td>\n",
       "      <td>0.231692</td>\n",
       "      <td>0.265231</td>\n",
       "    </tr>\n",
       "    <tr>\n",
       "      <th>block_gas_95th_percentile</th>\n",
       "      <td>7.806099e+01</td>\n",
       "      <td>8.597283e+03</td>\n",
       "      <td>2.878426e+01</td>\n",
       "      <td>0.269449</td>\n",
       "      <td>0.005841</td>\n",
       "    </tr>\n",
       "    <tr>\n",
       "      <th>gas_used</th>\n",
       "      <td>2.023481e+06</td>\n",
       "      <td>4.105746e+12</td>\n",
       "      <td>1.606715e+06</td>\n",
       "      <td>0.094682</td>\n",
       "      <td>-0.014156</td>\n",
       "    </tr>\n",
       "    <tr>\n",
       "      <th>base_fee_per_gas</th>\n",
       "      <td>2.566189e+01</td>\n",
       "      <td>8.275509e+02</td>\n",
       "      <td>1.626360e+01</td>\n",
       "      <td>0.230212</td>\n",
       "      <td>0.397588</td>\n",
       "    </tr>\n",
       "    <tr>\n",
       "      <th>transaction_count</th>\n",
       "      <td>3.622706e+01</td>\n",
       "      <td>1.313428e+03</td>\n",
       "      <td>2.775937e+01</td>\n",
       "      <td>0.137649</td>\n",
       "      <td>-0.044208</td>\n",
       "    </tr>\n",
       "    <tr>\n",
       "      <th>size</th>\n",
       "      <td>1.734421e+04</td>\n",
       "      <td>3.114874e+08</td>\n",
       "      <td>1.327472e+04</td>\n",
       "      <td>0.139229</td>\n",
       "      <td>-0.026644</td>\n",
       "    </tr>\n",
       "    <tr>\n",
       "      <th>Open</th>\n",
       "      <td>9.572247e+01</td>\n",
       "      <td>1.498083e+04</td>\n",
       "      <td>8.002370e+01</td>\n",
       "      <td>0.030349</td>\n",
       "      <td>-0.459802</td>\n",
       "    </tr>\n",
       "    <tr>\n",
       "      <th>contracts</th>\n",
       "      <td>3.699251e+01</td>\n",
       "      <td>1.541857e+03</td>\n",
       "      <td>2.199122e+01</td>\n",
       "      <td>0.551590</td>\n",
       "      <td>0.014958</td>\n",
       "    </tr>\n",
       "  </tbody>\n",
       "</table>\n",
       "</div>"
      ],
      "text/plain": [
       "                                   RMSE           MSE           MAE      MAPE  \\\n",
       "min_gas_price              2.955788e+01  1.088852e+03  1.703250e+01  0.235236   \n",
       "block_gas_5th_percentile   3.478283e+01  1.604899e+03  1.716701e+01  0.231692   \n",
       "block_gas_95th_percentile  7.806099e+01  8.597283e+03  2.878426e+01  0.269449   \n",
       "gas_used                   2.023481e+06  4.105746e+12  1.606715e+06  0.094682   \n",
       "base_fee_per_gas           2.566189e+01  8.275509e+02  1.626360e+01  0.230212   \n",
       "transaction_count          3.622706e+01  1.313428e+03  2.775937e+01  0.137649   \n",
       "size                       1.734421e+04  3.114874e+08  1.327472e+04  0.139229   \n",
       "Open                       9.572247e+01  1.498083e+04  8.002370e+01  0.030349   \n",
       "contracts                  3.699251e+01  1.541857e+03  2.199122e+01  0.551590   \n",
       "\n",
       "                                 R2  \n",
       "min_gas_price              0.304757  \n",
       "block_gas_5th_percentile   0.265231  \n",
       "block_gas_95th_percentile  0.005841  \n",
       "gas_used                  -0.014156  \n",
       "base_fee_per_gas           0.397588  \n",
       "transaction_count         -0.044208  \n",
       "size                      -0.026644  \n",
       "Open                      -0.459802  \n",
       "contracts                  0.014958  "
      ]
     },
     "execution_count": 263,
     "metadata": {},
     "output_type": "execute_result"
    }
   ],
   "source": [
    "#Final lookahead for all months\n",
    "(valdiation_metrics_dicts[0]['Lookahead4']+valdiation_metrics_dicts[1]['Lookahead4']+valdiation_metrics_dicts[2]['Lookahead4']+valdiation_metrics_dicts[3]['Lookahead4']+valdiation_metrics_dicts[4]['Lookahead4'])/5"
   ]
  },
  {
   "cell_type": "markdown",
   "id": "65cf2429-887b-4ef9-9255-169e8ea494f8",
   "metadata": {},
   "source": [
    "Encoder-Decoder shows improved performance over a simple LSTM when predicting multivariate data."
   ]
  },
  {
   "cell_type": "code",
   "execution_count": 269,
   "id": "cec66173-3ea5-4214-a971-8df72150f734",
   "metadata": {},
   "outputs": [],
   "source": [
    "averaged_dfs = []\n",
    "average_keys = list(valdiation_metrics_dicts[0].keys())\n",
    "for j in average_keys:\n",
    "    average_df = verage_df=[]\n",
    "    for i in range(0, len(valdiation_metrics_dicts)):\n",
    "        average_df.append(valdiation_metrics_dicts[i][j])\n",
    "    averaged_dfs.append((sum(average_df))/5)   \n",
    "averaged_metrics_dict = dict(zip(average_keys, averaged_dfs))"
   ]
  },
  {
   "cell_type": "code",
   "execution_count": 270,
   "id": "be982bdc-6882-4cfb-9368-ce2f7e5ea19a",
   "metadata": {
    "tags": []
   },
   "outputs": [
    {
     "data": {
      "text/plain": [
       "{'Lookahead0':                                    RMSE           MSE           MAE      MAPE  \\\n",
       " min_gas_price              2.161757e+01  5.916021e+02  1.143324e+01  0.162173   \n",
       " block_gas_5th_percentile   2.827227e+01  1.122858e+03  1.171577e+01  0.160988   \n",
       " block_gas_95th_percentile  7.129544e+01  7.546303e+03  2.070955e+01  0.193550   \n",
       " gas_used                   1.985275e+06  3.951620e+12  1.569293e+06  0.092002   \n",
       " base_fee_per_gas           1.674487e+01  3.438127e+02  1.074580e+01  0.158522   \n",
       " transaction_count          3.498671e+01  1.224803e+03  2.666822e+01  0.131644   \n",
       " size                       1.634182e+04  2.749926e+08  1.257136e+04  0.131681   \n",
       " Open                       1.059465e+02  1.922064e+04  9.091249e+01  0.034346   \n",
       " contracts                  3.539016e+01  1.395937e+03  2.092365e+01  0.510994   \n",
       " \n",
       "                                  R2  \n",
       " min_gas_price              0.627645  \n",
       " block_gas_5th_percentile   0.520705  \n",
       " block_gas_95th_percentile  0.146025  \n",
       " gas_used                   0.022521  \n",
       " base_fee_per_gas           0.735181  \n",
       " transaction_count          0.026476  \n",
       " size                       0.077704  \n",
       " Open                      -0.871284  \n",
       " contracts                  0.093798  ,\n",
       " 'Lookahead1':                                    RMSE           MSE           MAE      MAPE  \\\n",
       " min_gas_price              2.637455e+01  8.704648e+02  1.449070e+01  0.198788   \n",
       " block_gas_5th_percentile   3.240958e+01  1.403038e+03  1.465643e+01  0.194927   \n",
       " block_gas_95th_percentile  7.635105e+01  8.204452e+03  2.486517e+01  0.226629   \n",
       " gas_used                   2.025079e+06  4.112524e+12  1.603908e+06  0.094245   \n",
       " base_fee_per_gas           2.195809e+01  6.074321e+02  1.378409e+01  0.193297   \n",
       " transaction_count          3.552085e+01  1.262841e+03  2.708385e+01  0.133772   \n",
       " size                       1.684257e+04  2.927176e+08  1.293406e+04  0.135584   \n",
       " Open                       9.246453e+01  1.230258e+04  7.794784e+01  0.028958   \n",
       " contracts                  3.646696e+01  1.494734e+03  2.164766e+01  0.534372   \n",
       " \n",
       "                                  R2  \n",
       " min_gas_price              0.445755  \n",
       " block_gas_5th_percentile   0.351904  \n",
       " block_gas_95th_percentile -0.052383  \n",
       " gas_used                  -0.016788  \n",
       " base_fee_per_gas           0.558350  \n",
       " transaction_count         -0.003528  \n",
       " size                       0.020948  \n",
       " Open                      -0.317677  \n",
       " contracts                  0.046536  ,\n",
       " 'Lookahead2':                                    RMSE           MSE           MAE      MAPE  \\\n",
       " min_gas_price              2.807199e+01  9.883128e+02  1.569835e+01  0.213495   \n",
       " block_gas_5th_percentile   3.368666e+01  1.510862e+03  1.578701e+01  0.208798   \n",
       " block_gas_95th_percentile  7.746237e+01  8.428738e+03  2.669349e+01  0.242837   \n",
       " gas_used                   2.021989e+06  4.099727e+12  1.603077e+06  0.094357   \n",
       " base_fee_per_gas           2.395127e+01  7.255636e+02  1.495896e+01  0.208315   \n",
       " transaction_count          3.587443e+01  1.288015e+03  2.742201e+01  0.135710   \n",
       " size                       1.711955e+04  3.029036e+08  1.312643e+04  0.137611   \n",
       " Open                       9.094751e+01  1.290726e+04  7.580997e+01  0.028587   \n",
       " contracts                  3.675330e+01  1.521830e+03  2.184491e+01  0.541319   \n",
       " \n",
       "                                  R2  \n",
       " min_gas_price              0.376036  \n",
       " block_gas_5th_percentile   0.307437  \n",
       " block_gas_95th_percentile -0.034449  \n",
       " gas_used                  -0.013781  \n",
       " base_fee_per_gas           0.476203  \n",
       " transaction_count         -0.024087  \n",
       " size                      -0.005149  \n",
       " Open                      -0.284046  \n",
       " contracts                  0.029624  ,\n",
       " 'Lookahead3':                                    RMSE           MSE           MAE      MAPE  \\\n",
       " min_gas_price              2.895449e+01  1.049961e+03  1.648781e+01  0.226527   \n",
       " block_gas_5th_percentile   3.432779e+01  1.568716e+03  1.655223e+01  0.221744   \n",
       " block_gas_95th_percentile  7.780811e+01  8.531396e+03  2.794703e+01  0.259082   \n",
       " gas_used                   2.025095e+06  4.112475e+12  1.607931e+06  0.094720   \n",
       " base_fee_per_gas           2.497734e+01  7.871408e+02  1.573091e+01  0.221414   \n",
       " transaction_count          3.601613e+01  1.298229e+03  2.759694e+01  0.136764   \n",
       " size                       1.721990e+04  3.067666e+08  1.319196e+04  0.138396   \n",
       " Open                       9.382095e+01  1.417693e+04  7.848734e+01  0.029702   \n",
       " contracts                  3.694322e+01  1.538262e+03  2.193869e+01  0.546650   \n",
       " \n",
       "                                  R2  \n",
       " min_gas_price              0.335914  \n",
       " block_gas_5th_percentile   0.285074  \n",
       " block_gas_95th_percentile -0.006279  \n",
       " gas_used                  -0.016832  \n",
       " base_fee_per_gas           0.430209  \n",
       " transaction_count         -0.032012  \n",
       " size                      -0.015241  \n",
       " Open                      -0.387972  \n",
       " contracts                  0.019022  ,\n",
       " 'Lookahead4':                                    RMSE           MSE           MAE      MAPE  \\\n",
       " min_gas_price              2.955788e+01  1.088852e+03  1.703250e+01  0.235236   \n",
       " block_gas_5th_percentile   3.478283e+01  1.604899e+03  1.716701e+01  0.231692   \n",
       " block_gas_95th_percentile  7.806099e+01  8.597283e+03  2.878426e+01  0.269449   \n",
       " gas_used                   2.023481e+06  4.105746e+12  1.606715e+06  0.094682   \n",
       " base_fee_per_gas           2.566189e+01  8.275509e+02  1.626360e+01  0.230212   \n",
       " transaction_count          3.622706e+01  1.313428e+03  2.775937e+01  0.137649   \n",
       " size                       1.734421e+04  3.114874e+08  1.327472e+04  0.139229   \n",
       " Open                       9.572247e+01  1.498083e+04  8.002370e+01  0.030349   \n",
       " contracts                  3.699251e+01  1.541857e+03  2.199122e+01  0.551590   \n",
       " \n",
       "                                  R2  \n",
       " min_gas_price              0.304757  \n",
       " block_gas_5th_percentile   0.265231  \n",
       " block_gas_95th_percentile  0.005841  \n",
       " gas_used                  -0.014156  \n",
       " base_fee_per_gas           0.397588  \n",
       " transaction_count         -0.044208  \n",
       " size                      -0.026644  \n",
       " Open                      -0.459802  \n",
       " contracts                  0.014958  }"
      ]
     },
     "execution_count": 270,
     "metadata": {},
     "output_type": "execute_result"
    }
   ],
   "source": [
    "averaged_metrics_dict"
   ]
  },
  {
   "cell_type": "markdown",
   "id": "19565781-e265-467d-a122-883125f0f4a6",
   "metadata": {
    "jp-MarkdownHeadingCollapsed": true,
    "tags": []
   },
   "source": [
    "## Lets optimize for min gas price only"
   ]
  },
  {
   "cell_type": "code",
   "execution_count": 11,
   "id": "b56bbfa4-bbed-4264-a42f-11dbd8963553",
   "metadata": {
    "tags": []
   },
   "outputs": [],
   "source": [
    "def generate_training_val_examples_univariate_output(data):\n",
    " \n",
    "    #Filter inputs, standardize\n",
    "    data =data[inputs]\n",
    "    scaler = StandardScaler()\n",
    "    data[inputs] = scaler.fit_transform(data[inputs])\n",
    "    \n",
    "\n",
    "    #Creat input:output examples\n",
    "    data = data[start_date:end_date].to_numpy()\n",
    "    X, y = split_sequence(data, n_steps_in, n_steps_out, step_interval, n_step_lookahead)\n",
    "    \n",
    "    X_train, X_val = np.split(X, [int(0.7 * len(X))])\n",
    "    \n",
    "    y_train, y_val = np.split(y, [int(0.7 * len(X))])\n",
    "\n",
    "    \n",
    "    #Reshape to 3D for LSTM, filter output to only the first input\n",
    "    X_train = X_train.reshape((X_train.shape[0], X_train.shape[1], len(inputs)))\n",
    "    y_train =y_train.reshape((y_train.shape[0], y_train.shape[1], len(inputs)))[:,:,:1]\n",
    "    X_val = X_val.reshape((X_val.shape[0], X_val.shape[1], len(inputs)))\n",
    "    y_val = y_val.reshape((y_val.shape[0], y_val.shape[1], len(inputs)))[:,:,:1]\n",
    "\n",
    "    \n",
    "    return X_train, y_train, X_val, y_val, scaler"
   ]
  },
  {
   "cell_type": "code",
   "execution_count": 12,
   "id": "b1069371-d77e-4dd4-be6f-b1dc11287b19",
   "metadata": {},
   "outputs": [],
   "source": [
    "def descale_y_retrun_metrics_univariate_y(yhat, y_val2):\n",
    "    #reverts standard scaling, returns dictionary of metrics for single output, for all lookaheads\n",
    "    dict_indexes=[]\n",
    "    dict_dfs=[]\n",
    "    RMSE_list, MAE_list, MAPE_list, R2_list, MSE_list = [],[],[],[],[]\n",
    "    for j in range(0, n_steps_out):\n",
    "        pred_descaled= (scaler.inverse_transform(yhat[:, j:j+1, :len(inputs)].reshape(yhat.shape[0], len(inputs))))[:,:1]\n",
    "        groud_truth_descaled= (scaler.inverse_transform(array([y_val2[ :, j:j+1,0].reshape(y_val2.shape[0])]*len(inputs)).transpose()))[:,:1]\n",
    "        RMSE = mean_squared_error(groud_truth_descaled, pred_descaled, squared=False)\n",
    "        MSE = mean_squared_error(groud_truth_descaled, pred_descaled, squared=True)\n",
    "        MAE = mean_absolute_error(groud_truth_descaled, pred_descaled)\n",
    "        MAPE = mean_absolute_percentage_error(groud_truth_descaled, pred_descaled)\n",
    "        R2 = r2_score(groud_truth_descaled, pred_descaled)\n",
    "        RMSE_list.append(RMSE)\n",
    "        MAE_list.append(MAE)\n",
    "        MAPE_list.append(MAPE)\n",
    "        R2_list.append(R2)\n",
    "        MSE_list.append(MSE)\n",
    "    metrics_df = pd.DataFrame({'RMSE':RMSE_list, 'MSE':MSE_list, 'MAE':MAE_list, 'MAPE':MAPE_list, 'R2':R2_list}, index=range(1, (n_steps_out+1)))\n",
    "\n",
    " \n",
    "    return metrics_df"
   ]
  },
  {
   "cell_type": "code",
   "execution_count": 40,
   "id": "b0a08e01-1aa8-4f23-827e-d2c0eab22503",
   "metadata": {
    "collapsed": true,
    "jupyter": {
     "outputs_hidden": true
    },
    "tags": []
   },
   "outputs": [
    {
     "name": "stderr",
     "output_type": "stream",
     "text": [
      "D:\\Anaconda\\lib\\site-packages\\pandas\\core\\frame.py:3678: SettingWithCopyWarning: \n",
      "A value is trying to be set on a copy of a slice from a DataFrame.\n",
      "Try using .loc[row_indexer,col_indexer] = value instead\n",
      "\n",
      "See the caveats in the documentation: https://pandas.pydata.org/pandas-docs/stable/user_guide/indexing.html#returning-a-view-versus-a-copy\n",
      "  self[col] = igetitem(value, i)\n"
     ]
    },
    {
     "name": "stdout",
     "output_type": "stream",
     "text": [
      "Epoch 1/15\n",
      "107/107 [==============================] - 22s 166ms/step - loss: 0.3511 - val_loss: 0.0493\n",
      "Epoch 2/15\n",
      "107/107 [==============================] - 16s 150ms/step - loss: 0.3114 - val_loss: 0.0646\n",
      "Epoch 3/15\n",
      "107/107 [==============================] - 17s 158ms/step - loss: 0.3002 - val_loss: 0.0461\n",
      "Epoch 4/15\n",
      "107/107 [==============================] - 16s 148ms/step - loss: 0.2813 - val_loss: 0.0494\n",
      "Epoch 5/15\n",
      "107/107 [==============================] - 16s 148ms/step - loss: 0.2684 - val_loss: 0.0777\n",
      "Epoch 6/15\n",
      "107/107 [==============================] - 16s 146ms/step - loss: 0.2599 - val_loss: 0.0882\n",
      "Epoch 7/15\n",
      "107/107 [==============================] - 15s 145ms/step - loss: 0.2520 - val_loss: 0.0620\n",
      "Epoch 8/15\n",
      "107/107 [==============================] - 16s 146ms/step - loss: 0.2385 - val_loss: 0.0651\n",
      "Epoch 9/15\n",
      "107/107 [==============================] - 15s 144ms/step - loss: 0.2359 - val_loss: 0.0708\n",
      "Epoch 10/15\n",
      "107/107 [==============================] - 15s 145ms/step - loss: 0.2549 - val_loss: 0.0564\n",
      "Epoch 11/15\n",
      "107/107 [==============================] - 15s 144ms/step - loss: 0.2405 - val_loss: 0.0791\n",
      "Epoch 12/15\n",
      "107/107 [==============================] - 15s 144ms/step - loss: 0.2074 - val_loss: 0.1290\n",
      "Epoch 13/15\n",
      "107/107 [==============================] - 15s 143ms/step - loss: 0.2564 - val_loss: 0.0556\n",
      "Epoch 14/15\n",
      "107/107 [==============================] - 15s 142ms/step - loss: 0.2337 - val_loss: 0.0948\n",
      "Epoch 15/15\n",
      "107/107 [==============================] - 15s 143ms/step - loss: 0.2337 - val_loss: 0.0731\n"
     ]
    },
    {
     "name": "stderr",
     "output_type": "stream",
     "text": [
      "WARNING:absl:Found untraced functions such as lstm_cell_4_layer_call_fn, lstm_cell_4_layer_call_and_return_conditional_losses, lstm_cell_5_layer_call_fn, lstm_cell_5_layer_call_and_return_conditional_losses while saving (showing 4 of 4). These functions will not be directly callable after loading.\n"
     ]
    },
    {
     "name": "stdout",
     "output_type": "stream",
     "text": [
      "INFO:tensorflow:Assets written to: Encoder_Decoder/Month0\\assets\n"
     ]
    },
    {
     "name": "stderr",
     "output_type": "stream",
     "text": [
      "INFO:tensorflow:Assets written to: Encoder_Decoder/Month0\\assets\n",
      "WARNING:absl:<keras.layers.recurrent.LSTMCell object at 0x00000220C60C8550> has the same name 'LSTMCell' as a built-in Keras object. Consider renaming <class 'keras.layers.recurrent.LSTMCell'> to avoid naming conflicts when loading with `tf.keras.models.load_model`. If renaming is not possible, pass the object in the `custom_objects` parameter of the load function.\n",
      "WARNING:absl:<keras.layers.recurrent.LSTMCell object at 0x0000021E06BBC070> has the same name 'LSTMCell' as a built-in Keras object. Consider renaming <class 'keras.layers.recurrent.LSTMCell'> to avoid naming conflicts when loading with `tf.keras.models.load_model`. If renaming is not possible, pass the object in the `custom_objects` parameter of the load function.\n"
     ]
    },
    {
     "name": "stdout",
     "output_type": "stream",
     "text": [
      "107/107 [==============================] - 6s 49ms/step\n",
      "46/46 [==============================] - 3s 48ms/step\n"
     ]
    },
    {
     "name": "stderr",
     "output_type": "stream",
     "text": [
      "D:\\Anaconda\\lib\\site-packages\\pandas\\core\\frame.py:3678: SettingWithCopyWarning: \n",
      "A value is trying to be set on a copy of a slice from a DataFrame.\n",
      "Try using .loc[row_indexer,col_indexer] = value instead\n",
      "\n",
      "See the caveats in the documentation: https://pandas.pydata.org/pandas-docs/stable/user_guide/indexing.html#returning-a-view-versus-a-copy\n",
      "  self[col] = igetitem(value, i)\n"
     ]
    },
    {
     "name": "stdout",
     "output_type": "stream",
     "text": [
      "Epoch 1/15\n",
      "114/114 [==============================] - 22s 146ms/step - loss: 0.6495 - val_loss: 0.3701\n",
      "Epoch 2/15\n",
      "114/114 [==============================] - 16s 137ms/step - loss: 0.4939 - val_loss: 0.3175\n",
      "Epoch 3/15\n",
      "114/114 [==============================] - 16s 137ms/step - loss: 0.4856 - val_loss: 0.3093\n",
      "Epoch 4/15\n",
      "114/114 [==============================] - 16s 138ms/step - loss: 0.4625 - val_loss: 0.3057\n",
      "Epoch 5/15\n",
      "114/114 [==============================] - 16s 141ms/step - loss: 0.4570 - val_loss: 0.3477\n",
      "Epoch 6/15\n",
      "114/114 [==============================] - 16s 144ms/step - loss: 0.4423 - val_loss: 0.3481\n",
      "Epoch 7/15\n",
      "114/114 [==============================] - 16s 144ms/step - loss: 0.4232 - val_loss: 0.3990\n",
      "Epoch 8/15\n",
      "114/114 [==============================] - 16s 144ms/step - loss: 0.4361 - val_loss: 0.3099\n",
      "Epoch 9/15\n",
      "114/114 [==============================] - 16s 144ms/step - loss: 0.4029 - val_loss: 0.3141\n",
      "Epoch 10/15\n",
      "114/114 [==============================] - 16s 144ms/step - loss: 0.3999 - val_loss: 0.3106\n",
      "Epoch 11/15\n",
      "114/114 [==============================] - 16s 145ms/step - loss: 0.3693 - val_loss: 0.3192\n",
      "Epoch 12/15\n",
      "114/114 [==============================] - 16s 141ms/step - loss: 0.3814 - val_loss: 0.3439\n",
      "Epoch 13/15\n",
      "114/114 [==============================] - 16s 141ms/step - loss: 0.3518 - val_loss: 0.3083\n",
      "Epoch 14/15\n",
      "114/114 [==============================] - 16s 143ms/step - loss: 0.3433 - val_loss: 0.3125\n",
      "Epoch 15/15\n",
      "114/114 [==============================] - 16s 141ms/step - loss: 0.3181 - val_loss: 0.3347\n"
     ]
    },
    {
     "name": "stderr",
     "output_type": "stream",
     "text": [
      "WARNING:absl:Found untraced functions such as lstm_cell_6_layer_call_fn, lstm_cell_6_layer_call_and_return_conditional_losses, lstm_cell_7_layer_call_fn, lstm_cell_7_layer_call_and_return_conditional_losses while saving (showing 4 of 4). These functions will not be directly callable after loading.\n"
     ]
    },
    {
     "name": "stdout",
     "output_type": "stream",
     "text": [
      "INFO:tensorflow:Assets written to: Encoder_Decoder/Month1\\assets\n"
     ]
    },
    {
     "name": "stderr",
     "output_type": "stream",
     "text": [
      "INFO:tensorflow:Assets written to: Encoder_Decoder/Month1\\assets\n",
      "WARNING:absl:<keras.layers.recurrent.LSTMCell object at 0x000002209F5BAD90> has the same name 'LSTMCell' as a built-in Keras object. Consider renaming <class 'keras.layers.recurrent.LSTMCell'> to avoid naming conflicts when loading with `tf.keras.models.load_model`. If renaming is not possible, pass the object in the `custom_objects` parameter of the load function.\n",
      "WARNING:absl:<keras.layers.recurrent.LSTMCell object at 0x00000220B458F670> has the same name 'LSTMCell' as a built-in Keras object. Consider renaming <class 'keras.layers.recurrent.LSTMCell'> to avoid naming conflicts when loading with `tf.keras.models.load_model`. If renaming is not possible, pass the object in the `custom_objects` parameter of the load function.\n"
     ]
    },
    {
     "name": "stdout",
     "output_type": "stream",
     "text": [
      "114/114 [==============================] - 7s 52ms/step\n",
      "49/49 [==============================] - 2s 50ms/step\n"
     ]
    },
    {
     "name": "stderr",
     "output_type": "stream",
     "text": [
      "D:\\Anaconda\\lib\\site-packages\\pandas\\core\\frame.py:3678: SettingWithCopyWarning: \n",
      "A value is trying to be set on a copy of a slice from a DataFrame.\n",
      "Try using .loc[row_indexer,col_indexer] = value instead\n",
      "\n",
      "See the caveats in the documentation: https://pandas.pydata.org/pandas-docs/stable/user_guide/indexing.html#returning-a-view-versus-a-copy\n",
      "  self[col] = igetitem(value, i)\n"
     ]
    },
    {
     "name": "stdout",
     "output_type": "stream",
     "text": [
      "Epoch 1/15\n",
      "108/108 [==============================] - 21s 155ms/step - loss: 0.2468 - val_loss: 0.3080\n",
      "Epoch 2/15\n",
      "108/108 [==============================] - 15s 142ms/step - loss: 0.2250 - val_loss: 0.2963\n",
      "Epoch 3/15\n",
      "108/108 [==============================] - 15s 137ms/step - loss: 0.2202 - val_loss: 0.2992\n",
      "Epoch 4/15\n",
      "108/108 [==============================] - 15s 142ms/step - loss: 0.2124 - val_loss: 0.2836\n",
      "Epoch 5/15\n",
      "108/108 [==============================] - 16s 145ms/step - loss: 0.2060 - val_loss: 0.2880\n",
      "Epoch 6/15\n",
      "108/108 [==============================] - 15s 143ms/step - loss: 0.2104 - val_loss: 0.2809\n",
      "Epoch 7/15\n",
      "108/108 [==============================] - 15s 137ms/step - loss: 0.2009 - val_loss: 0.2914\n",
      "Epoch 8/15\n",
      "108/108 [==============================] - 15s 139ms/step - loss: 0.2063 - val_loss: 0.2888\n",
      "Epoch 9/15\n",
      "108/108 [==============================] - 15s 136ms/step - loss: 0.1969 - val_loss: 0.2915\n",
      "Epoch 10/15\n",
      "108/108 [==============================] - 15s 136ms/step - loss: 0.1788 - val_loss: 0.2950\n",
      "Epoch 11/15\n",
      "108/108 [==============================] - 15s 137ms/step - loss: 0.1848 - val_loss: 0.2953\n",
      "Epoch 12/15\n",
      "108/108 [==============================] - 15s 137ms/step - loss: 0.1670 - val_loss: 0.2856\n",
      "Epoch 13/15\n",
      "108/108 [==============================] - 15s 136ms/step - loss: 0.1580 - val_loss: 0.2925\n",
      "Epoch 14/15\n",
      "108/108 [==============================] - 15s 136ms/step - loss: 0.1741 - val_loss: 0.2844\n",
      "Epoch 15/15\n",
      "108/108 [==============================] - 15s 136ms/step - loss: 0.1554 - val_loss: 0.2899\n"
     ]
    },
    {
     "name": "stderr",
     "output_type": "stream",
     "text": [
      "WARNING:absl:Found untraced functions such as lstm_cell_8_layer_call_fn, lstm_cell_8_layer_call_and_return_conditional_losses, lstm_cell_9_layer_call_fn, lstm_cell_9_layer_call_and_return_conditional_losses while saving (showing 4 of 4). These functions will not be directly callable after loading.\n"
     ]
    },
    {
     "name": "stdout",
     "output_type": "stream",
     "text": [
      "INFO:tensorflow:Assets written to: Encoder_Decoder/Month2\\assets\n"
     ]
    },
    {
     "name": "stderr",
     "output_type": "stream",
     "text": [
      "INFO:tensorflow:Assets written to: Encoder_Decoder/Month2\\assets\n",
      "WARNING:absl:<keras.layers.recurrent.LSTMCell object at 0x00000220C5411E20> has the same name 'LSTMCell' as a built-in Keras object. Consider renaming <class 'keras.layers.recurrent.LSTMCell'> to avoid naming conflicts when loading with `tf.keras.models.load_model`. If renaming is not possible, pass the object in the `custom_objects` parameter of the load function.\n",
      "WARNING:absl:<keras.layers.recurrent.LSTMCell object at 0x000002209E897790> has the same name 'LSTMCell' as a built-in Keras object. Consider renaming <class 'keras.layers.recurrent.LSTMCell'> to avoid naming conflicts when loading with `tf.keras.models.load_model`. If renaming is not possible, pass the object in the `custom_objects` parameter of the load function.\n"
     ]
    },
    {
     "name": "stdout",
     "output_type": "stream",
     "text": [
      "108/108 [==============================] - 6s 48ms/step\n",
      "46/46 [==============================] - 2s 47ms/step\n"
     ]
    },
    {
     "name": "stderr",
     "output_type": "stream",
     "text": [
      "D:\\Anaconda\\lib\\site-packages\\pandas\\core\\frame.py:3678: SettingWithCopyWarning: \n",
      "A value is trying to be set on a copy of a slice from a DataFrame.\n",
      "Try using .loc[row_indexer,col_indexer] = value instead\n",
      "\n",
      "See the caveats in the documentation: https://pandas.pydata.org/pandas-docs/stable/user_guide/indexing.html#returning-a-view-versus-a-copy\n",
      "  self[col] = igetitem(value, i)\n"
     ]
    },
    {
     "name": "stdout",
     "output_type": "stream",
     "text": [
      "Epoch 1/15\n",
      "89/89 [==============================] - 18s 152ms/step - loss: 0.2153 - val_loss: 0.0341\n",
      "Epoch 2/15\n",
      "89/89 [==============================] - 12s 137ms/step - loss: 0.1604 - val_loss: 0.0326\n",
      "Epoch 3/15\n",
      "89/89 [==============================] - 12s 137ms/step - loss: 0.1536 - val_loss: 0.0370\n",
      "Epoch 4/15\n",
      "89/89 [==============================] - 12s 135ms/step - loss: 0.1510 - val_loss: 0.0348\n",
      "Epoch 5/15\n",
      "89/89 [==============================] - 12s 135ms/step - loss: 0.1499 - val_loss: 0.0451\n",
      "Epoch 6/15\n",
      "89/89 [==============================] - 12s 135ms/step - loss: 0.1451 - val_loss: 0.0474\n",
      "Epoch 7/15\n",
      "89/89 [==============================] - 12s 136ms/step - loss: 0.1360 - val_loss: 0.0371\n",
      "Epoch 8/15\n",
      "89/89 [==============================] - 12s 136ms/step - loss: 0.1340 - val_loss: 0.0442\n",
      "Epoch 9/15\n",
      "89/89 [==============================] - 12s 135ms/step - loss: 0.1209 - val_loss: 0.0409\n",
      "Epoch 10/15\n",
      "89/89 [==============================] - 12s 135ms/step - loss: 0.1137 - val_loss: 0.0348\n",
      "Epoch 11/15\n",
      "89/89 [==============================] - 12s 134ms/step - loss: 0.1282 - val_loss: 0.0314\n",
      "Epoch 12/15\n",
      "89/89 [==============================] - 12s 134ms/step - loss: 0.1483 - val_loss: 0.0345\n",
      "Epoch 13/15\n",
      "89/89 [==============================] - 12s 136ms/step - loss: 0.1180 - val_loss: 0.0354\n",
      "Epoch 14/15\n",
      "89/89 [==============================] - 13s 142ms/step - loss: 0.1111 - val_loss: 0.0362\n",
      "Epoch 15/15\n",
      "89/89 [==============================] - 13s 144ms/step - loss: 0.1054 - val_loss: 0.0422\n"
     ]
    },
    {
     "name": "stderr",
     "output_type": "stream",
     "text": [
      "WARNING:absl:Found untraced functions such as lstm_cell_10_layer_call_fn, lstm_cell_10_layer_call_and_return_conditional_losses, lstm_cell_11_layer_call_fn, lstm_cell_11_layer_call_and_return_conditional_losses while saving (showing 4 of 4). These functions will not be directly callable after loading.\n"
     ]
    },
    {
     "name": "stdout",
     "output_type": "stream",
     "text": [
      "INFO:tensorflow:Assets written to: Encoder_Decoder/Month3\\assets\n"
     ]
    },
    {
     "name": "stderr",
     "output_type": "stream",
     "text": [
      "INFO:tensorflow:Assets written to: Encoder_Decoder/Month3\\assets\n",
      "WARNING:absl:<keras.layers.recurrent.LSTMCell object at 0x00000220A0CB2310> has the same name 'LSTMCell' as a built-in Keras object. Consider renaming <class 'keras.layers.recurrent.LSTMCell'> to avoid naming conflicts when loading with `tf.keras.models.load_model`. If renaming is not possible, pass the object in the `custom_objects` parameter of the load function.\n",
      "WARNING:absl:<keras.layers.recurrent.LSTMCell object at 0x00000220C3CF86D0> has the same name 'LSTMCell' as a built-in Keras object. Consider renaming <class 'keras.layers.recurrent.LSTMCell'> to avoid naming conflicts when loading with `tf.keras.models.load_model`. If renaming is not possible, pass the object in the `custom_objects` parameter of the load function.\n"
     ]
    },
    {
     "name": "stdout",
     "output_type": "stream",
     "text": [
      "89/89 [==============================] - 6s 54ms/step\n",
      "38/38 [==============================] - 2s 53ms/step\n"
     ]
    },
    {
     "name": "stderr",
     "output_type": "stream",
     "text": [
      "D:\\Anaconda\\lib\\site-packages\\pandas\\core\\frame.py:3678: SettingWithCopyWarning: \n",
      "A value is trying to be set on a copy of a slice from a DataFrame.\n",
      "Try using .loc[row_indexer,col_indexer] = value instead\n",
      "\n",
      "See the caveats in the documentation: https://pandas.pydata.org/pandas-docs/stable/user_guide/indexing.html#returning-a-view-versus-a-copy\n",
      "  self[col] = igetitem(value, i)\n"
     ]
    },
    {
     "name": "stdout",
     "output_type": "stream",
     "text": [
      "Epoch 1/15\n",
      "108/108 [==============================] - 22s 166ms/step - loss: 0.1119 - val_loss: 0.0371\n",
      "Epoch 2/15\n",
      "108/108 [==============================] - 17s 159ms/step - loss: 0.0687 - val_loss: 0.0356\n",
      "Epoch 3/15\n",
      "108/108 [==============================] - 17s 155ms/step - loss: 0.0621 - val_loss: 0.0363\n",
      "Epoch 4/15\n",
      "108/108 [==============================] - 16s 152ms/step - loss: 0.0615 - val_loss: 0.0342\n",
      "Epoch 5/15\n",
      "108/108 [==============================] - 17s 158ms/step - loss: 0.0563 - val_loss: 0.0346\n",
      "Epoch 6/15\n",
      "108/108 [==============================] - 17s 158ms/step - loss: 0.0541 - val_loss: 0.0354\n",
      "Epoch 7/15\n",
      "108/108 [==============================] - 16s 152ms/step - loss: 0.0567 - val_loss: 0.0378\n",
      "Epoch 8/15\n",
      "108/108 [==============================] - 16s 153ms/step - loss: 0.0537 - val_loss: 0.0363\n",
      "Epoch 9/15\n",
      "108/108 [==============================] - 16s 148ms/step - loss: 0.0521 - val_loss: 0.0387\n",
      "Epoch 10/15\n",
      "108/108 [==============================] - 16s 151ms/step - loss: 0.0472 - val_loss: 0.0380\n",
      "Epoch 11/15\n",
      "108/108 [==============================] - 16s 149ms/step - loss: 0.0462 - val_loss: 0.0419\n",
      "Epoch 12/15\n",
      "108/108 [==============================] - 16s 149ms/step - loss: 0.0511 - val_loss: 0.0380\n",
      "Epoch 13/15\n",
      "108/108 [==============================] - 16s 147ms/step - loss: 0.0465 - val_loss: 0.0414\n",
      "Epoch 14/15\n",
      "108/108 [==============================] - 17s 155ms/step - loss: 0.0484 - val_loss: 0.0405\n",
      "Epoch 15/15\n",
      "108/108 [==============================] - 16s 149ms/step - loss: 0.0445 - val_loss: 0.0425\n"
     ]
    },
    {
     "name": "stderr",
     "output_type": "stream",
     "text": [
      "WARNING:absl:Found untraced functions such as lstm_cell_12_layer_call_fn, lstm_cell_12_layer_call_and_return_conditional_losses, lstm_cell_13_layer_call_fn, lstm_cell_13_layer_call_and_return_conditional_losses while saving (showing 4 of 4). These functions will not be directly callable after loading.\n"
     ]
    },
    {
     "name": "stdout",
     "output_type": "stream",
     "text": [
      "INFO:tensorflow:Assets written to: Encoder_Decoder/Month4\\assets\n"
     ]
    },
    {
     "name": "stderr",
     "output_type": "stream",
     "text": [
      "INFO:tensorflow:Assets written to: Encoder_Decoder/Month4\\assets\n",
      "WARNING:absl:<keras.layers.recurrent.LSTMCell object at 0x0000021E0E0AA430> has the same name 'LSTMCell' as a built-in Keras object. Consider renaming <class 'keras.layers.recurrent.LSTMCell'> to avoid naming conflicts when loading with `tf.keras.models.load_model`. If renaming is not possible, pass the object in the `custom_objects` parameter of the load function.\n",
      "WARNING:absl:<keras.layers.recurrent.LSTMCell object at 0x00000220C6EE47F0> has the same name 'LSTMCell' as a built-in Keras object. Consider renaming <class 'keras.layers.recurrent.LSTMCell'> to avoid naming conflicts when loading with `tf.keras.models.load_model`. If renaming is not possible, pass the object in the `custom_objects` parameter of the load function.\n"
     ]
    },
    {
     "name": "stdout",
     "output_type": "stream",
     "text": [
      "108/108 [==============================] - 7s 55ms/step\n",
      "46/46 [==============================] - 2s 53ms/step\n"
     ]
    }
   ],
   "source": [
    "#Create Training Examples for all lookaheads\n",
    "resample_rate = '5T'\n",
    "end_dates = ['2021-12-26 23:55:00', '2022-01-26 23:55:00', '2022-02-26 23:55:00', '2022-03-26 23:55:00', '2022-04-26 23:55:00'  ]\n",
    "Start_dates = ['2021-11-26 00:00:00', '2021-12-26 00:00:00', '2022-01-26 23:55:00', '2022-02-26 23:55:00', '2022-03-26 23:55:00']\n",
    "\n",
    "#end_dates = ['2022-01-26 23:55:00', '2022-03-26 23:55:00']\n",
    "#Start_dates = ['2021-11-26 00:00:00', '2022-01-26 00:00:00']\n",
    "inputs = ['min_gas_price', 'block_gas_5th_percentile', 'block_gas_95th_percentile', 'gas_used', 'base_fee_per_gas', 'transaction_count', 'size', 'Open', 'contracts']\n",
    "#No of timesteps behind to forecast on, no of timesteps to forecast ahead\n",
    "n_steps_in = 4032\n",
    "n_steps_out = 5\n",
    "#How many timesteps between start of training examples\n",
    "step_interval = 1\n",
    "n_step_lookahead = 1\n",
    "\n",
    "\n",
    "\n",
    "y_hat_list=[]\n",
    "train_loss_list=[]\n",
    "val_loss_list=[]\n",
    "training_metrics_dicts=[]\n",
    "valdiation_metrics_dicts=[]\n",
    "for month in [0, 1, 2, 3, 4]:\n",
    "    n_step_lookahead = 1\n",
    "    start_date=Start_dates[month]\n",
    "    end_date=end_dates[month]\n",
    "    X_train, y_train, X_val, y_val, scaler = generate_training_val_examples_univariate_output(data)\n",
    "    \n",
    "\n",
    "    \n",
    "    \n",
    "    model = LSTM_model()\n",
    "    train_history = model.fit(X_train, y_train,validation_data=(X_val, y_val), epochs=15, verbose=1)\n",
    "    train_loss_list.append(train_history.history['loss'])\n",
    "    val_loss_list.append(train_history.history['val_loss'])\n",
    "    model.save(('Encoder_Decoder/Month' +str(month)))\n",
    "    \n",
    "    yhat_train=model.predict(X_train, verbose=1)\n",
    "    yhat_val = model.predict(X_val, verbose=1)\n",
    "    \n",
    "    training_metrics_dicts.append(descale_y_retrun_metrics_univariate_y(yhat_train, y_train))\n",
    "    valdiation_metrics_dicts.append(descale_y_retrun_metrics_univariate_y(yhat_val, y_val))\n",
    "\n",
    "    pd.DataFrame(train_loss_list).to_csv('Encoder_Decoder/train_loss.csv')\n",
    "    pd.DataFrame(val_loss_list).to_csv('Encoder_Decoder/val_loss.csv')"
   ]
  },
  {
   "cell_type": "code",
   "execution_count": 44,
   "id": "6c313f4e-e1e5-4da8-ab29-1ee4edb2b593",
   "metadata": {},
   "outputs": [
    {
     "data": {
      "text/html": [
       "<div>\n",
       "<style scoped>\n",
       "    .dataframe tbody tr th:only-of-type {\n",
       "        vertical-align: middle;\n",
       "    }\n",
       "\n",
       "    .dataframe tbody tr th {\n",
       "        vertical-align: top;\n",
       "    }\n",
       "\n",
       "    .dataframe thead th {\n",
       "        text-align: right;\n",
       "    }\n",
       "</style>\n",
       "<table border=\"1\" class=\"dataframe\">\n",
       "  <thead>\n",
       "    <tr style=\"text-align: right;\">\n",
       "      <th></th>\n",
       "      <th>RMSE</th>\n",
       "      <th>MSE</th>\n",
       "      <th>MAE</th>\n",
       "      <th>MAPE</th>\n",
       "      <th>R2</th>\n",
       "    </tr>\n",
       "  </thead>\n",
       "  <tbody>\n",
       "    <tr>\n",
       "      <th>1</th>\n",
       "      <td>21.304548</td>\n",
       "      <td>555.266234</td>\n",
       "      <td>10.670038</td>\n",
       "      <td>0.145905</td>\n",
       "      <td>0.623420</td>\n",
       "    </tr>\n",
       "    <tr>\n",
       "      <th>2</th>\n",
       "      <td>25.494286</td>\n",
       "      <td>787.138785</td>\n",
       "      <td>13.549184</td>\n",
       "      <td>0.182654</td>\n",
       "      <td>0.463588</td>\n",
       "    </tr>\n",
       "    <tr>\n",
       "      <th>3</th>\n",
       "      <td>27.167672</td>\n",
       "      <td>891.550477</td>\n",
       "      <td>14.850080</td>\n",
       "      <td>0.199498</td>\n",
       "      <td>0.389870</td>\n",
       "    </tr>\n",
       "    <tr>\n",
       "      <th>4</th>\n",
       "      <td>28.280883</td>\n",
       "      <td>964.446965</td>\n",
       "      <td>15.688489</td>\n",
       "      <td>0.212589</td>\n",
       "      <td>0.336666</td>\n",
       "    </tr>\n",
       "    <tr>\n",
       "      <th>5</th>\n",
       "      <td>29.071801</td>\n",
       "      <td>1013.453827</td>\n",
       "      <td>16.337408</td>\n",
       "      <td>0.221948</td>\n",
       "      <td>0.292530</td>\n",
       "    </tr>\n",
       "  </tbody>\n",
       "</table>\n",
       "</div>"
      ],
      "text/plain": [
       "        RMSE          MSE        MAE      MAPE        R2\n",
       "1  21.304548   555.266234  10.670038  0.145905  0.623420\n",
       "2  25.494286   787.138785  13.549184  0.182654  0.463588\n",
       "3  27.167672   891.550477  14.850080  0.199498  0.389870\n",
       "4  28.280883   964.446965  15.688489  0.212589  0.336666\n",
       "5  29.071801  1013.453827  16.337408  0.221948  0.292530"
      ]
     },
     "execution_count": 48,
     "metadata": {},
     "output_type": "execute_result"
    }
   ],
   "source": [
    "sum(valdiation_metrics_dicts)/5"
   ]
  },
  {
   "cell_type": "code",
   "execution_count": 46,
   "id": "67649f2f-b23f-468a-9fe2-16d0bfea3914",
   "metadata": {},
   "outputs": [
    {
     "data": {
      "text/html": [
       "<div>\n",
       "<style scoped>\n",
       "    .dataframe tbody tr th:only-of-type {\n",
       "        vertical-align: middle;\n",
       "    }\n",
       "\n",
       "    .dataframe tbody tr th {\n",
       "        vertical-align: top;\n",
       "    }\n",
       "\n",
       "    .dataframe thead th {\n",
       "        text-align: right;\n",
       "    }\n",
       "</style>\n",
       "<table border=\"1\" class=\"dataframe\">\n",
       "  <thead>\n",
       "    <tr style=\"text-align: right;\">\n",
       "      <th></th>\n",
       "      <th>RMSE</th>\n",
       "      <th>MSE</th>\n",
       "      <th>MAE</th>\n",
       "      <th>MAPE</th>\n",
       "      <th>R2</th>\n",
       "    </tr>\n",
       "  </thead>\n",
       "  <tbody>\n",
       "    <tr>\n",
       "      <th>1</th>\n",
       "      <td>24.776080</td>\n",
       "      <td>650.818995</td>\n",
       "      <td>10.074590</td>\n",
       "      <td>0.135005</td>\n",
       "      <td>0.696787</td>\n",
       "    </tr>\n",
       "    <tr>\n",
       "      <th>2</th>\n",
       "      <td>28.278432</td>\n",
       "      <td>861.197492</td>\n",
       "      <td>12.848631</td>\n",
       "      <td>0.170483</td>\n",
       "      <td>0.616118</td>\n",
       "    </tr>\n",
       "    <tr>\n",
       "      <th>3</th>\n",
       "      <td>28.642705</td>\n",
       "      <td>907.210278</td>\n",
       "      <td>13.570277</td>\n",
       "      <td>0.179138</td>\n",
       "      <td>0.605765</td>\n",
       "    </tr>\n",
       "    <tr>\n",
       "      <th>4</th>\n",
       "      <td>29.274516</td>\n",
       "      <td>956.460390</td>\n",
       "      <td>14.130286</td>\n",
       "      <td>0.188039</td>\n",
       "      <td>0.591803</td>\n",
       "    </tr>\n",
       "    <tr>\n",
       "      <th>5</th>\n",
       "      <td>30.087603</td>\n",
       "      <td>1024.946407</td>\n",
       "      <td>14.661874</td>\n",
       "      <td>0.194577</td>\n",
       "      <td>0.572933</td>\n",
       "    </tr>\n",
       "  </tbody>\n",
       "</table>\n",
       "</div>"
      ],
      "text/plain": [
       "        RMSE          MSE        MAE      MAPE        R2\n",
       "1  24.776080   650.818995  10.074590  0.135005  0.696787\n",
       "2  28.278432   861.197492  12.848631  0.170483  0.616118\n",
       "3  28.642705   907.210278  13.570277  0.179138  0.605765\n",
       "4  29.274516   956.460390  14.130286  0.188039  0.591803\n",
       "5  30.087603  1024.946407  14.661874  0.194577  0.572933"
      ]
     },
     "execution_count": 49,
     "metadata": {},
     "output_type": "execute_result"
    }
   ],
   "source": [
    "sum(training_metrics_dicts)/5"
   ]
  }
 ],
 "metadata": {
  "kernelspec": {
   "display_name": "Python 3 (ipykernel)",
   "language": "python",
   "name": "python3"
  },
  "language_info": {
   "codemirror_mode": {
    "name": "ipython",
    "version": 3
   },
   "file_extension": ".py",
   "mimetype": "text/x-python",
   "name": "python",
   "nbconvert_exporter": "python",
   "pygments_lexer": "ipython3",
   "version": "3.9.7"
  }
 },
 "nbformat": 4,
 "nbformat_minor": 5
}
