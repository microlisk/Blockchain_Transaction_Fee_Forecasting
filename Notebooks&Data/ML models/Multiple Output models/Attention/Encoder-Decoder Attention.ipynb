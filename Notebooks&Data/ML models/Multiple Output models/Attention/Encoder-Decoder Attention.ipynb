{
 "cells": [
  {
   "cell_type": "markdown",
   "id": "ed254beb-b30d-40dd-b1ab-1675290adaa0",
   "metadata": {
    "tags": []
   },
   "source": [
    "# Encoder Decoder; Attention"
   ]
  },
  {
   "cell_type": "markdown",
   "id": "bb4e502d-6092-4e20-b503-48751d61133d",
   "metadata": {},
   "source": [
    "https://levelup.gitconnected.com/building-seq2seq-lstm-with-luong-attention-in-keras-for-time-series-forecasting-1ee00958decb"
   ]
  },
  {
   "cell_type": "markdown",
   "id": "46cf725a-4782-4c7e-9b9b-4d9424817346",
   "metadata": {},
   "source": [
    "Lets test a few models on the first month of data, then run the full 5 months on the best"
   ]
  },
  {
   "cell_type": "markdown",
   "id": "273cf8a4-056b-49a8-8123-cc15d8f2f71b",
   "metadata": {
    "jp-MarkdownHeadingCollapsed": true,
    "tags": []
   },
   "source": [
    "## Load data, functions"
   ]
  },
  {
   "cell_type": "code",
   "execution_count": 2,
   "id": "2243fdcb-c389-4556-be27-9373234fc591",
   "metadata": {},
   "outputs": [],
   "source": [
    "import pandas as pd\n",
    "import numpy as np\n",
    "from numpy import array\n",
    "from numpy import mean\n",
    "from numpy import std\n",
    "from tensorflow import keras\n",
    "from keras import optimizers\n",
    "from keras.models import Sequential\n",
    "from tensorflow.keras.utils import plot_model\n",
    "from tensorflow.keras.layers import MultiHeadAttention, BatchNormalization, LSTM, Dense, Dropout, TimeDistributed, Conv1D, MaxPooling1D, Flatten, Bidirectional, Input, Flatten, Activation, Reshape, RepeatVector, Concatenate\n",
    "import matplotlib.pyplot as plt\n",
    "from sklearn.preprocessing import MinMaxScaler\n",
    "import pywt\n",
    "import matrixprofile as mp\n",
    "from keras import Model\n",
    "from keras.layers import dot"
   ]
  },
  {
   "cell_type": "code",
   "execution_count": 2,
   "id": "fd68e3ae-22e3-43af-b5e2-abdca3c87420",
   "metadata": {},
   "outputs": [],
   "source": [
    "def split_sequence(sequence, n_steps_in, n_steps_out, step_interval, n_step_lookahead):\n",
    "    X, y = list(), list()\n",
    "    example_count = int((len(sequence)/step_interval))\n",
    "    for i in range(example_count):\n",
    "        # find the end of this pattern\n",
    "        end_ix = (i*step_interval) + n_steps_in\n",
    "        out_start_ix = end_ix + n_step_lookahead -1\n",
    "        out_end_ix = end_ix + n_steps_out + n_step_lookahead -1\n",
    "        # check if we are beyond the sequence\n",
    "        if out_end_ix > len(sequence):\n",
    "            break\n",
    "        # gather input and output parts of the pattern\n",
    "        seq_x, seq_y = sequence[(i*step_interval):end_ix], sequence[out_start_ix:out_end_ix]\n",
    "        X.append(seq_x)\n",
    "        y.append(seq_y)\n",
    "    return array(X), array(y)"
   ]
  },
  {
   "cell_type": "code",
   "execution_count": 3,
   "id": "479cb03e-33f8-4df8-afe6-82b2351713ed",
   "metadata": {},
   "outputs": [
    {
     "data": {
      "text/plain": [
       "(array([[0, 1, 2, 3, 4],\n",
       "        [1, 2, 3, 4, 5],\n",
       "        [2, 3, 4, 5, 6],\n",
       "        [3, 4, 5, 6, 7]]),\n",
       " array([[ 9],\n",
       "        [10],\n",
       "        [11],\n",
       "        [12]]))"
      ]
     },
     "execution_count": 3,
     "metadata": {},
     "output_type": "execute_result"
    }
   ],
   "source": [
    "#To demonstrate above function\n",
    "sequence = range(0,13)\n",
    "n_steps_in = 1\n",
    "n_steps_in = 5\n",
    "n_steps_out =1\n",
    "step_interval =1\n",
    "n_step_lookahead=5\n",
    "split_sequence(sequence, n_steps_in, n_steps_out, step_interval, n_step_lookahead)"
   ]
  },
  {
   "cell_type": "code",
   "execution_count": 4,
   "id": "8e0113c1-d102-4605-9fc3-542f00bd488e",
   "metadata": {},
   "outputs": [],
   "source": [
    "percentile_data = pd.read_csv (r'C:\\Users/conal/Desktop/MCM/Practicum - Copy/data/block gas price percentile data.csv', header=0)\n",
    "percentile_data['datetime'] = pd.to_datetime(percentile_data['block_timestamp'], format = '%Y-%m-%d %H:%M:%S UTC')\n",
    "\n",
    "percentile_data = percentile_data.sort_values(by='datetime',ascending=False)\n",
    "percentile_data = percentile_data.set_index('datetime')\n",
    "percentile_data = percentile_data.resample('5T').mean()\n",
    "percentile_data = percentile_data/1000000000"
   ]
  },
  {
   "cell_type": "code",
   "execution_count": 5,
   "id": "a7a6b649-6d02-4b5c-8892-6ca97fa10813",
   "metadata": {},
   "outputs": [],
   "source": [
    "usage_data = pd.read_csv (r'C:\\Users\\conal\\Desktop\\MCM\\Practicum - Copy\\data\\ETH,gas,usage merged 11-26 to 05-26.csv', header=0)\n",
    "usage_data['datetime'] = pd.to_datetime(usage_data['datetime'], format = '%Y-%m-%d %H:%M:%S')\n",
    "usage_data = usage_data.set_index('datetime')\n",
    "\n",
    "usage_data = usage_data.squeeze()\n",
    "usage_data = usage_data.astype('float')\n",
    "usage_data = usage_data.resample('5T').mean()"
   ]
  },
  {
   "cell_type": "code",
   "execution_count": 6,
   "id": "49359adb-72a2-4d36-92a3-160ae229ffc1",
   "metadata": {},
   "outputs": [],
   "source": [
    "usage_data2 = pd.read_csv (r'C:\\Users\\conal\\Desktop\\MCM\\Practicum - Copy\\data\\Contract counts 2021-11-26 to 2022-05-26.csv', header=0, index_col=0)\n",
    "usage_data2['datetime'] = pd.to_datetime(usage_data2['block_timestamp'], format = '%Y-%m-%d %H:%M:%S') \n",
    "usage_data2 = usage_data2.set_index('datetime')\n",
    "usage_data2 = usage_data2.drop(['block_timestamp'], axis=1)\n",
    "usage_data2 = usage_data2.squeeze()\n",
    "usage_data2 = usage_data2.astype('float')\n",
    "usage_data2 = usage_data2.resample('5T').sum()"
   ]
  },
  {
   "cell_type": "code",
   "execution_count": 7,
   "id": "8901dad6-24e3-4393-bce8-03d4ff7aa1c7",
   "metadata": {},
   "outputs": [],
   "source": [
    "data = usage_data.merge(percentile_data, left_index=True, right_index=True)\n",
    "data = data.merge(usage_data2, left_index=True, right_index=True)"
   ]
  },
  {
   "cell_type": "markdown",
   "id": "9123a9bf",
   "metadata": {},
   "source": [
    "Load data, datetime to index, downsample with left edge label, convert wei to gwei"
   ]
  },
  {
   "cell_type": "code",
   "execution_count": 8,
   "id": "ac449a8e",
   "metadata": {},
   "outputs": [],
   "source": [
    "def generate_training_val_examples(data):\n",
    " \n",
    "    #Filter inputs, standardize\n",
    "    data =data[inputs]\n",
    "    scaler = StandardScaler()\n",
    "    data[inputs] = scaler.fit_transform(data[inputs])\n",
    "    \n",
    "\n",
    "    #Creat input:output examples\n",
    "    data = data[start_date:end_date].to_numpy()\n",
    "    X, y = split_sequence(data, n_steps_in, n_steps_out, step_interval, n_step_lookahead)\n",
    "    \n",
    "    X_train, X_val = np.split(X, [int(0.7 * len(X))])\n",
    "    #we are only lookign to forecast the min gas price\n",
    "    y_train, y_val = np.split(y, [int(0.7 * len(X))])\n",
    "\n",
    "    \n",
    "    #Reshape to 3D for LSTM\n",
    "    X_train = X_train.reshape((X_train.shape[0], X_train.shape[1], len(inputs)))\n",
    "    y_train =y_train.reshape((y_train.shape[0], y_train.shape[1], len(inputs)))\n",
    "    X_val = X_val.reshape((X_val.shape[0], X_val.shape[1], len(inputs)))\n",
    "    y_val = y_val.reshape((y_val.shape[0], y_val.shape[1], len(inputs)))\n",
    "\n",
    "    \n",
    "    return X_train, y_train, X_val, y_val, scaler\n",
    "\n"
   ]
  },
  {
   "cell_type": "code",
   "execution_count": 9,
   "id": "f5878928-c13c-4766-bcfe-2a6d1de3a51f",
   "metadata": {},
   "outputs": [],
   "source": [
    "from sklearn.preprocessing import MinMaxScaler\n",
    "from sklearn.preprocessing import StandardScaler\n",
    "from sklearn.metrics import r2_score\n",
    "from sklearn.metrics import mean_squared_error\n",
    "from sklearn.metrics import mean_absolute_error\n",
    "from sklearn.metrics import mean_absolute_percentage_error\n"
   ]
  },
  {
   "cell_type": "code",
   "execution_count": 10,
   "id": "1251aaea-8a1b-423a-80c4-d88e601b2c74",
   "metadata": {},
   "outputs": [],
   "source": [
    "def descale_y_retrun_metrics(yhat, y_val2):\n",
    "    #We will use validation data that has not had outleirs limited, will be a different min/max scaler as such\n",
    "    dict_indexes=[]\n",
    "    dict_dfs=[]\n",
    "    for j in range(0, n_steps_out):\n",
    "        RMSE_list, MAE_list, MAPE_list, R2_list, MSE_list = [],[],[],[],[]\n",
    "        for i in range(0, len(inputs)):  \n",
    "            pred_descaled= (scaler.inverse_transform(yhat[:,j:j+1,:].reshape(yhat.shape[0], yhat.shape[2])))[:, i:i+1]\n",
    "            groud_truth_descaled= ((scaler2.inverse_transform(y_val2[:,j:j+1,:].reshape(y_val2.shape[0], y_val2.shape[2]))))[:, i:i+1]\n",
    "            RMSE = mean_squared_error(groud_truth_descaled, pred_descaled, squared=False)\n",
    "            MSE = mean_squared_error(groud_truth_descaled, pred_descaled, squared=True)\n",
    "            MAE = mean_absolute_error(groud_truth_descaled, pred_descaled)\n",
    "            MAPE = mean_absolute_percentage_error(groud_truth_descaled, pred_descaled)\n",
    "            R2 = r2_score(groud_truth_descaled, pred_descaled)\n",
    "            RMSE_list.append(RMSE)\n",
    "            MAE_list.append(MAE)\n",
    "            MAPE_list.append(MAPE)\n",
    "            R2_list.append(R2)\n",
    "            MSE_list.append(MSE)\n",
    "        metrics_df = pd.DataFrame({'RMSE':RMSE_list, 'MSE':MSE_list, 'MAE':MAE_list, 'MAPE':MAPE_list, 'R2':R2_list}, index=inputs)\n",
    "        dict_dfs.append(metrics_df)\n",
    "        dict_indexes.append('Lookahead' +str(j))\n",
    "    metrics_dict = dict(zip(dict_indexes, dict_dfs))\n",
    "    return metrics_dict"
   ]
  },
  {
   "cell_type": "code",
   "execution_count": 11,
   "id": "b29778f2-615e-4fca-878d-a1f3f4c7b7ee",
   "metadata": {},
   "outputs": [],
   "source": [
    "def generate_training_val_examples_univariate_output(data):\n",
    " \n",
    "    #Filter inputs, standardize\n",
    "    data =data[inputs]\n",
    "    scaler = StandardScaler()\n",
    "    data[inputs] = scaler.fit_transform(data[inputs])\n",
    "    \n",
    "\n",
    "    #Creat input:output examples\n",
    "    data = data[start_date:end_date].to_numpy()\n",
    "    X, y = split_sequence(data, n_steps_in, n_steps_out, step_interval, n_step_lookahead)\n",
    "    \n",
    "    X_train, X_val = np.split(X, [int(0.7 * len(X))])\n",
    "    \n",
    "    y_train, y_val = np.split(y, [int(0.7 * len(X))])\n",
    "\n",
    "    \n",
    "    #Reshape to 3D for LSTM, filter output to only the first input\n",
    "    X_train = X_train.reshape((X_train.shape[0], X_train.shape[1], len(inputs)))\n",
    "    y_train =y_train.reshape((y_train.shape[0], y_train.shape[1], len(inputs)))[:,:,:1]\n",
    "    X_val = X_val.reshape((X_val.shape[0], X_val.shape[1], len(inputs)))\n",
    "    y_val = y_val.reshape((y_val.shape[0], y_val.shape[1], len(inputs)))[:,:,:1]\n",
    "\n",
    "    \n",
    "    return X_train, y_train, X_val, y_val, scaler"
   ]
  },
  {
   "cell_type": "code",
   "execution_count": 12,
   "id": "8a382560-4bf0-4dac-bc61-eb8cebeaafc2",
   "metadata": {},
   "outputs": [],
   "source": [
    "def descale_y_retrun_metrics_univariate_y(yhat, y_val2):\n",
    "    #reverts standard scaling, returns dictionary of metrics for single output, for all lookaheads\n",
    "    dict_indexes=[]\n",
    "    dict_dfs=[]\n",
    "    RMSE_list, MAE_list, MAPE_list, R2_list, MSE_list = [],[],[],[],[]\n",
    "    yhat_stretched= np.repeat(yhat[:,:,0],len(inputs)).reshape(yhat.shape[0], yhat.shape[1], len(inputs))\n",
    "    y_val2_stretched= np.repeat(y_val2[:,:,0],len(inputs)).reshape(y_val2.shape[0], y_val2.shape[1], len(inputs))\n",
    "    \n",
    "    for j in range(0, n_steps_out):\n",
    "        \n",
    "        \n",
    "        pred_descaled= (scaler.inverse_transform(yhat_stretched[:, j:j+1, :].reshape(yhat_stretched.shape[0], yhat_stretched.shape[2])))[:,:1]\n",
    "        groud_truth_descaled= (scaler.inverse_transform(array([y_val2[ :, j:j+1,0].reshape(y_val2.shape[0])]*len(inputs)).transpose()))[:,:1]\n",
    "        RMSE = mean_squared_error(groud_truth_descaled, pred_descaled, squared=False)\n",
    "        MSE = mean_squared_error(groud_truth_descaled, pred_descaled, squared=True)\n",
    "        MAE = mean_absolute_error(groud_truth_descaled, pred_descaled)\n",
    "        MAPE = mean_absolute_percentage_error(groud_truth_descaled, pred_descaled)\n",
    "        R2 = r2_score(groud_truth_descaled, pred_descaled)\n",
    "        RMSE_list.append(RMSE)\n",
    "        MAE_list.append(MAE)\n",
    "        MAPE_list.append(MAPE)\n",
    "        R2_list.append(R2)\n",
    "        MSE_list.append(MSE)\n",
    "    metrics_df = pd.DataFrame({'RMSE':RMSE_list, 'MSE':MSE_list, 'MAE':MAE_list, 'MAPE':MAPE_list, 'R2':R2_list}, index=range(1, (n_steps_out+1)))\n",
    "\n",
    " \n",
    "    return metrics_df"
   ]
  },
  {
   "cell_type": "code",
   "execution_count": 13,
   "id": "f6169681-82c4-4bfc-8339-abd4f990ac7c",
   "metadata": {},
   "outputs": [],
   "source": [
    "def add_mp_reversed(data, window):\n",
    "    #Given 3d array, add matrix profile of (x,y,0) as new dimension; new array has dimensiosn (x,y,z+1) \n",
    "    mp_list=[]\n",
    "    for i in data[:,:,0]:\n",
    "        profile = mp.compute(np.flip(i, axis=0), window, n_jobs=4)['mp']\n",
    "        #we are padding the end of the sequence with the mean\n",
    "        #matrix profile is always 1 full window size smalelr than input data\n",
    "        mp_list.append(np.append(profile,([mean(profile)]*(data.shape[1]-len(profile)))))\n",
    "        \n",
    "    #concatenate matrix profile data with original    \n",
    "    mp_array = np.array(mp_list).reshape(data.shape[0], data.shape[1])\n",
    "    std_array = ((mp_array-mean(mp_array))/np.std(mp_array)).reshape(data.shape[0], data.shape[1],1)\n",
    "    data = np.concatenate((data, std_array), axis=2)\n",
    "    \n",
    "    return data"
   ]
  },
  {
   "cell_type": "markdown",
   "id": "bbc56298-673a-4381-8760-c23b67b27efc",
   "metadata": {
    "tags": []
   },
   "source": [
    "## Attention LSTM"
   ]
  },
  {
   "cell_type": "markdown",
   "id": "ae390e2e-5ecc-46d4-bbba-0ec78f547d80",
   "metadata": {},
   "source": [
    "Rough hyperparameter testing on first month of data"
   ]
  },
  {
   "cell_type": "code",
   "execution_count": 15,
   "id": "ddb9ee89-928e-47bb-a4ed-f0402cd2113c",
   "metadata": {},
   "outputs": [],
   "source": [
    "#Create Training Examples for all lookaheads\n",
    "resample_rate = '5T'\n",
    "end_dates = ['2021-12-26 23:55:00', '2022-01-26 23:55:00', '2022-02-26 23:55:00', '2022-03-26 23:55:00', '2022-04-26 23:55:00'  ]\n",
    "Start_dates = ['2021-11-26 00:00:00', '2021-12-26 00:00:00', '2022-01-26 23:55:00', '2022-02-26 23:55:00', '2022-03-26 23:55:00']\n",
    "\n",
    "#end_dates = ['2022-01-26 23:55:00', '2022-03-26 23:55:00']\n",
    "#Start_dates = ['2021-11-26 00:00:00', '2022-01-26 00:00:00']\n",
    "inputs = ['min_gas_price', 'block_gas_5th_percentile', 'block_gas_95th_percentile', 'gas_used', 'base_fee_per_gas', 'size', 'contracts']\n",
    "#No of timesteps behind to forecast on, no of timesteps to forecast ahead\n",
    "n_steps_in = 4320\n",
    "n_steps_out = 15\n",
    "#How many timesteps between start of training examples\n",
    "step_interval = 1\n",
    "n_step_lookahead = 1\n",
    "mp_window = 288\n",
    "\n",
    "month=0\n",
    "start_date=Start_dates[month]\n",
    "end_date=end_dates[month]\n"
   ]
  },
  {
   "cell_type": "code",
   "execution_count": 16,
   "id": "5b22d361-9bb7-463b-ac29-f0c0d89247ea",
   "metadata": {},
   "outputs": [
    {
     "name": "stderr",
     "output_type": "stream",
     "text": [
      "D:\\Anaconda\\lib\\site-packages\\pandas\\core\\frame.py:3678: SettingWithCopyWarning: \n",
      "A value is trying to be set on a copy of a slice from a DataFrame.\n",
      "Try using .loc[row_indexer,col_indexer] = value instead\n",
      "\n",
      "See the caveats in the documentation: https://pandas.pydata.org/pandas-docs/stable/user_guide/indexing.html#returning-a-view-versus-a-copy\n",
      "  self[col] = igetitem(value, i)\n"
     ]
    }
   ],
   "source": [
    "mp_window=288\n",
    "X_train, y_train, X_val, y_val, scaler = generate_training_val_examples_univariate_output(data)\n",
    "#X_train = (add_mp_reversed(X_train, mp_window))[:,mp_window:,:]\n",
    "#X_val = (add_mp_reversed(X_val, mp_window))[:,mp_window:,:]\n",
    "#y_train = y_train.reshape(y_train.shape[0], y_train.shape[1], y_train.shape[2])\n",
    "#y_val = y_val.reshape(y_val.shape[0], y_val.shape[1], y_val.shape[2])"
   ]
  },
  {
   "cell_type": "code",
   "execution_count": 200,
   "id": "2de222bf-9d8e-40f5-a9ce-85c6331bd065",
   "metadata": {},
   "outputs": [],
   "source": [
    "input_train = Input(shape=(X_train.shape[1], X_train.shape[2]-1))\n",
    "output_train = Input(shape=(X_train.shape[1], X_train.shape[2]-1))\n",
    "\n",
    "\n",
    "\n",
    "encoder_last_h1, encoder_last_h2, encoder_last_c = LSTM(\n",
    " n_hidden, activation='tanh', dropout=0.2, recurrent_dropout=0.2, \n",
    " return_sequences=False, return_state=True)(input_train)\n",
    "\n",
    "decoder = RepeatVector(output_train.shape[1])(encoder_last_h1)\n",
    "decoder = LSTM(n_hidden, activation='tanh', dropout=0.2, recurrent_dropout=0.2, return_state=False, return_sequences=True)(\n",
    "    decoder, initial_state=[encoder_last_h1, encoder_last_c])\n",
    "\n",
    "out = TimeDistributed(Dense(output_train.shape[2]))(decoder)\n",
    "\n",
    "model = Model(inputs=input_train, outputs=out)\n",
    "\n"
   ]
  },
  {
   "cell_type": "code",
   "execution_count": null,
   "id": "a66c1c60-b6a8-414b-a065-1b7797e87360",
   "metadata": {
    "tags": []
   },
   "outputs": [],
   "source": [
    "n_hidden = 200\n",
    "input_train = Input(shape=(n_steps_in, X_train.shape[2]),name='input')\n",
    "output_train = Input(shape=(y_train.shape[1], y_train.shape[2]))\n",
    "\n",
    "\n",
    "\n",
    "\n",
    "\n",
    "encoder_stack_h, encoder_last_h, encoder_last_c = LSTM(\n",
    "    n_hidden, activation='tanh', dropout=0.2, \n",
    "    return_state=True, return_sequences=True,name='encoder')(input_train)\n",
    "\n",
    "\n",
    "\n",
    "decoder_input = RepeatVector(output_train.shape[1],name='repeat_vector')(encoder_last_h)\n",
    "\n",
    "decoder_stack_h = LSTM(n_hidden, activation='tanh', dropout=0.2,\n",
    " return_state=False, return_sequences=True,name='decoder')(decoder_input, initial_state=[encoder_last_h, encoder_last_c])\n",
    "\n",
    "attention = dot([decoder_stack_h, encoder_stack_h], axes=[2, 2], name='attention_dot')\n",
    "attention = Activation('softmax', name='attention_activation')(attention)\n",
    "\n",
    "context = dot([attention, encoder_stack_h], axes=[2,1],name='Context')\n",
    "\n",
    "decoder_combined_context = Concatenate(axis=2)([context, decoder_stack_h])\n",
    "\n",
    "out = TimeDistributed(Dense(output_train.shape[2]))(context)\n",
    "\n",
    "model = Model(inputs=input_train, outputs=out)\n",
    "\n",
    "model.compile(loss='mean_squared_error', optimizer='Adam', metrics=['mae'])\n",
    "model.summary()"
   ]
  },
  {
   "cell_type": "code",
   "execution_count": 337,
   "id": "3d8bcb7a-e791-431f-b4ac-bd4889836b5f",
   "metadata": {},
   "outputs": [
    {
     "data": {
      "image/png": "[encoded data removed]",
      "text/plain": [
       "<IPython.core.display.Image object>"
      ]
     },
     "execution_count": 337,
     "metadata": {},
     "output_type": "execute_result"
    }
   ],
   "source": [
    "plot_model(model, to_file='model_plot.png', show_shapes=True, show_layer_names=True)"
   ]
  },
  {
   "cell_type": "code",
   "execution_count": 346,
   "id": "5465f6fc-cc2b-4792-89c9-ab2114d2439d",
   "metadata": {
    "collapsed": true,
    "jupyter": {
     "outputs_hidden": true
    },
    "tags": []
   },
   "outputs": [
    {
     "name": "stdout",
     "output_type": "stream",
     "text": [
      "Epoch 1/15\n",
      "492/492 [==============================] - 151s 295ms/step - loss: 0.4016 - mae: 0.3347 - val_loss: 1.1312 - val_mae: 0.3144\n",
      "Epoch 2/15\n",
      " 53/492 [==>...........................] - ETA: 1:42 - loss: 0.3964 - mae: 0.3232"
     ]
    },
    {
     "ename": "KeyboardInterrupt",
     "evalue": "",
     "output_type": "error",
     "traceback": [
      "\u001b[1;31m---------------------------------------------------------------------------\u001b[0m",
      "\u001b[1;31mKeyboardInterrupt\u001b[0m                         Traceback (most recent call last)",
      "\u001b[1;32m~\\AppData\\Local\\Temp/ipykernel_27036/3271013526.py\u001b[0m in \u001b[0;36m<module>\u001b[1;34m\u001b[0m\n\u001b[1;32m----> 1\u001b[1;33m \u001b[0mmodel\u001b[0m\u001b[1;33m.\u001b[0m\u001b[0mfit\u001b[0m\u001b[1;33m(\u001b[0m\u001b[0mX_train\u001b[0m\u001b[1;33m,\u001b[0m \u001b[0my_train\u001b[0m\u001b[1;33m,\u001b[0m\u001b[0mvalidation_data\u001b[0m\u001b[1;33m=\u001b[0m\u001b[1;33m(\u001b[0m\u001b[0mX_val\u001b[0m\u001b[1;33m,\u001b[0m \u001b[0my_val\u001b[0m\u001b[1;33m)\u001b[0m\u001b[1;33m,\u001b[0m \u001b[0mepochs\u001b[0m\u001b[1;33m=\u001b[0m\u001b[1;36m15\u001b[0m\u001b[1;33m,\u001b[0m \u001b[0mverbose\u001b[0m\u001b[1;33m=\u001b[0m\u001b[1;36m1\u001b[0m\u001b[1;33m)\u001b[0m\u001b[1;33m\u001b[0m\u001b[1;33m\u001b[0m\u001b[0m\n\u001b[0m",
      "\u001b[1;32mD:\\Anaconda\\lib\\site-packages\\keras\\utils\\traceback_utils.py\u001b[0m in \u001b[0;36merror_handler\u001b[1;34m(*args, **kwargs)\u001b[0m\n\u001b[0;32m     62\u001b[0m     \u001b[0mfiltered_tb\u001b[0m \u001b[1;33m=\u001b[0m \u001b[1;32mNone\u001b[0m\u001b[1;33m\u001b[0m\u001b[1;33m\u001b[0m\u001b[0m\n\u001b[0;32m     63\u001b[0m     \u001b[1;32mtry\u001b[0m\u001b[1;33m:\u001b[0m\u001b[1;33m\u001b[0m\u001b[1;33m\u001b[0m\u001b[0m\n\u001b[1;32m---> 64\u001b[1;33m       \u001b[1;32mreturn\u001b[0m \u001b[0mfn\u001b[0m\u001b[1;33m(\u001b[0m\u001b[1;33m*\u001b[0m\u001b[0margs\u001b[0m\u001b[1;33m,\u001b[0m \u001b[1;33m**\u001b[0m\u001b[0mkwargs\u001b[0m\u001b[1;33m)\u001b[0m\u001b[1;33m\u001b[0m\u001b[1;33m\u001b[0m\u001b[0m\n\u001b[0m\u001b[0;32m     65\u001b[0m     \u001b[1;32mexcept\u001b[0m \u001b[0mException\u001b[0m \u001b[1;32mas\u001b[0m \u001b[0me\u001b[0m\u001b[1;33m:\u001b[0m  \u001b[1;31m# pylint: disable=broad-except\u001b[0m\u001b[1;33m\u001b[0m\u001b[1;33m\u001b[0m\u001b[0m\n\u001b[0;32m     66\u001b[0m       \u001b[0mfiltered_tb\u001b[0m \u001b[1;33m=\u001b[0m \u001b[0m_process_traceback_frames\u001b[0m\u001b[1;33m(\u001b[0m\u001b[0me\u001b[0m\u001b[1;33m.\u001b[0m\u001b[0m__traceback__\u001b[0m\u001b[1;33m)\u001b[0m\u001b[1;33m\u001b[0m\u001b[1;33m\u001b[0m\u001b[0m\n",
      "\u001b[1;32mD:\\Anaconda\\lib\\site-packages\\keras\\engine\\training.py\u001b[0m in \u001b[0;36mfit\u001b[1;34m(self, x, y, batch_size, epochs, verbose, callbacks, validation_split, validation_data, shuffle, class_weight, sample_weight, initial_epoch, steps_per_epoch, validation_steps, validation_batch_size, validation_freq, max_queue_size, workers, use_multiprocessing)\u001b[0m\n\u001b[0;32m   1382\u001b[0m                 _r=1):\n\u001b[0;32m   1383\u001b[0m               \u001b[0mcallbacks\u001b[0m\u001b[1;33m.\u001b[0m\u001b[0mon_train_batch_begin\u001b[0m\u001b[1;33m(\u001b[0m\u001b[0mstep\u001b[0m\u001b[1;33m)\u001b[0m\u001b[1;33m\u001b[0m\u001b[1;33m\u001b[0m\u001b[0m\n\u001b[1;32m-> 1384\u001b[1;33m               \u001b[0mtmp_logs\u001b[0m \u001b[1;33m=\u001b[0m \u001b[0mself\u001b[0m\u001b[1;33m.\u001b[0m\u001b[0mtrain_function\u001b[0m\u001b[1;33m(\u001b[0m\u001b[0miterator\u001b[0m\u001b[1;33m)\u001b[0m\u001b[1;33m\u001b[0m\u001b[1;33m\u001b[0m\u001b[0m\n\u001b[0m\u001b[0;32m   1385\u001b[0m               \u001b[1;32mif\u001b[0m \u001b[0mdata_handler\u001b[0m\u001b[1;33m.\u001b[0m\u001b[0mshould_sync\u001b[0m\u001b[1;33m:\u001b[0m\u001b[1;33m\u001b[0m\u001b[1;33m\u001b[0m\u001b[0m\n\u001b[0;32m   1386\u001b[0m                 \u001b[0mcontext\u001b[0m\u001b[1;33m.\u001b[0m\u001b[0masync_wait\u001b[0m\u001b[1;33m(\u001b[0m\u001b[1;33m)\u001b[0m\u001b[1;33m\u001b[0m\u001b[1;33m\u001b[0m\u001b[0m\n",
      "\u001b[1;32m~\\AppData\\Roaming\\Python\\Python39\\site-packages\\tensorflow\\python\\util\\traceback_utils.py\u001b[0m in \u001b[0;36merror_handler\u001b[1;34m(*args, **kwargs)\u001b[0m\n\u001b[0;32m    148\u001b[0m     \u001b[0mfiltered_tb\u001b[0m \u001b[1;33m=\u001b[0m \u001b[1;32mNone\u001b[0m\u001b[1;33m\u001b[0m\u001b[1;33m\u001b[0m\u001b[0m\n\u001b[0;32m    149\u001b[0m     \u001b[1;32mtry\u001b[0m\u001b[1;33m:\u001b[0m\u001b[1;33m\u001b[0m\u001b[1;33m\u001b[0m\u001b[0m\n\u001b[1;32m--> 150\u001b[1;33m       \u001b[1;32mreturn\u001b[0m \u001b[0mfn\u001b[0m\u001b[1;33m(\u001b[0m\u001b[1;33m*\u001b[0m\u001b[0margs\u001b[0m\u001b[1;33m,\u001b[0m \u001b[1;33m**\u001b[0m\u001b[0mkwargs\u001b[0m\u001b[1;33m)\u001b[0m\u001b[1;33m\u001b[0m\u001b[1;33m\u001b[0m\u001b[0m\n\u001b[0m\u001b[0;32m    151\u001b[0m     \u001b[1;32mexcept\u001b[0m \u001b[0mException\u001b[0m \u001b[1;32mas\u001b[0m \u001b[0me\u001b[0m\u001b[1;33m:\u001b[0m\u001b[1;33m\u001b[0m\u001b[1;33m\u001b[0m\u001b[0m\n\u001b[0;32m    152\u001b[0m       \u001b[0mfiltered_tb\u001b[0m \u001b[1;33m=\u001b[0m \u001b[0m_process_traceback_frames\u001b[0m\u001b[1;33m(\u001b[0m\u001b[0me\u001b[0m\u001b[1;33m.\u001b[0m\u001b[0m__traceback__\u001b[0m\u001b[1;33m)\u001b[0m\u001b[1;33m\u001b[0m\u001b[1;33m\u001b[0m\u001b[0m\n",
      "\u001b[1;32m~\\AppData\\Roaming\\Python\\Python39\\site-packages\\tensorflow\\python\\eager\\def_function.py\u001b[0m in \u001b[0;36m__call__\u001b[1;34m(self, *args, **kwds)\u001b[0m\n\u001b[0;32m    913\u001b[0m \u001b[1;33m\u001b[0m\u001b[0m\n\u001b[0;32m    914\u001b[0m       \u001b[1;32mwith\u001b[0m \u001b[0mOptionalXlaContext\u001b[0m\u001b[1;33m(\u001b[0m\u001b[0mself\u001b[0m\u001b[1;33m.\u001b[0m\u001b[0m_jit_compile\u001b[0m\u001b[1;33m)\u001b[0m\u001b[1;33m:\u001b[0m\u001b[1;33m\u001b[0m\u001b[1;33m\u001b[0m\u001b[0m\n\u001b[1;32m--> 915\u001b[1;33m         \u001b[0mresult\u001b[0m \u001b[1;33m=\u001b[0m \u001b[0mself\u001b[0m\u001b[1;33m.\u001b[0m\u001b[0m_call\u001b[0m\u001b[1;33m(\u001b[0m\u001b[1;33m*\u001b[0m\u001b[0margs\u001b[0m\u001b[1;33m,\u001b[0m \u001b[1;33m**\u001b[0m\u001b[0mkwds\u001b[0m\u001b[1;33m)\u001b[0m\u001b[1;33m\u001b[0m\u001b[1;33m\u001b[0m\u001b[0m\n\u001b[0m\u001b[0;32m    916\u001b[0m \u001b[1;33m\u001b[0m\u001b[0m\n\u001b[0;32m    917\u001b[0m       \u001b[0mnew_tracing_count\u001b[0m \u001b[1;33m=\u001b[0m \u001b[0mself\u001b[0m\u001b[1;33m.\u001b[0m\u001b[0mexperimental_get_tracing_count\u001b[0m\u001b[1;33m(\u001b[0m\u001b[1;33m)\u001b[0m\u001b[1;33m\u001b[0m\u001b[1;33m\u001b[0m\u001b[0m\n",
      "\u001b[1;32m~\\AppData\\Roaming\\Python\\Python39\\site-packages\\tensorflow\\python\\eager\\def_function.py\u001b[0m in \u001b[0;36m_call\u001b[1;34m(self, *args, **kwds)\u001b[0m\n\u001b[0;32m    945\u001b[0m       \u001b[1;31m# In this case we have created variables on the first call, so we run the\u001b[0m\u001b[1;33m\u001b[0m\u001b[1;33m\u001b[0m\u001b[0m\n\u001b[0;32m    946\u001b[0m       \u001b[1;31m# defunned version which is guaranteed to never create variables.\u001b[0m\u001b[1;33m\u001b[0m\u001b[1;33m\u001b[0m\u001b[0m\n\u001b[1;32m--> 947\u001b[1;33m       \u001b[1;32mreturn\u001b[0m \u001b[0mself\u001b[0m\u001b[1;33m.\u001b[0m\u001b[0m_stateless_fn\u001b[0m\u001b[1;33m(\u001b[0m\u001b[1;33m*\u001b[0m\u001b[0margs\u001b[0m\u001b[1;33m,\u001b[0m \u001b[1;33m**\u001b[0m\u001b[0mkwds\u001b[0m\u001b[1;33m)\u001b[0m  \u001b[1;31m# pylint: disable=not-callable\u001b[0m\u001b[1;33m\u001b[0m\u001b[1;33m\u001b[0m\u001b[0m\n\u001b[0m\u001b[0;32m    948\u001b[0m     \u001b[1;32melif\u001b[0m \u001b[0mself\u001b[0m\u001b[1;33m.\u001b[0m\u001b[0m_stateful_fn\u001b[0m \u001b[1;32mis\u001b[0m \u001b[1;32mnot\u001b[0m \u001b[1;32mNone\u001b[0m\u001b[1;33m:\u001b[0m\u001b[1;33m\u001b[0m\u001b[1;33m\u001b[0m\u001b[0m\n\u001b[0;32m    949\u001b[0m       \u001b[1;31m# Release the lock early so that multiple threads can perform the call\u001b[0m\u001b[1;33m\u001b[0m\u001b[1;33m\u001b[0m\u001b[0m\n",
      "\u001b[1;32m~\\AppData\\Roaming\\Python\\Python39\\site-packages\\tensorflow\\python\\eager\\function.py\u001b[0m in \u001b[0;36m__call__\u001b[1;34m(self, *args, **kwargs)\u001b[0m\n\u001b[0;32m   2954\u001b[0m       (graph_function,\n\u001b[0;32m   2955\u001b[0m        filtered_flat_args) = self._maybe_define_function(args, kwargs)\n\u001b[1;32m-> 2956\u001b[1;33m     return graph_function._call_flat(\n\u001b[0m\u001b[0;32m   2957\u001b[0m         filtered_flat_args, captured_inputs=graph_function.captured_inputs)  # pylint: disable=protected-access\n\u001b[0;32m   2958\u001b[0m \u001b[1;33m\u001b[0m\u001b[0m\n",
      "\u001b[1;32m~\\AppData\\Roaming\\Python\\Python39\\site-packages\\tensorflow\\python\\eager\\function.py\u001b[0m in \u001b[0;36m_call_flat\u001b[1;34m(self, args, captured_inputs, cancellation_manager)\u001b[0m\n\u001b[0;32m   1851\u001b[0m         and executing_eagerly):\n\u001b[0;32m   1852\u001b[0m       \u001b[1;31m# No tape is watching; skip to running the function.\u001b[0m\u001b[1;33m\u001b[0m\u001b[1;33m\u001b[0m\u001b[0m\n\u001b[1;32m-> 1853\u001b[1;33m       return self._build_call_outputs(self._inference_function.call(\n\u001b[0m\u001b[0;32m   1854\u001b[0m           ctx, args, cancellation_manager=cancellation_manager))\n\u001b[0;32m   1855\u001b[0m     forward_backward = self._select_forward_and_backward_functions(\n",
      "\u001b[1;32m~\\AppData\\Roaming\\Python\\Python39\\site-packages\\tensorflow\\python\\eager\\function.py\u001b[0m in \u001b[0;36mcall\u001b[1;34m(self, ctx, args, cancellation_manager)\u001b[0m\n\u001b[0;32m    497\u001b[0m       \u001b[1;32mwith\u001b[0m \u001b[0m_InterpolateFunctionError\u001b[0m\u001b[1;33m(\u001b[0m\u001b[0mself\u001b[0m\u001b[1;33m)\u001b[0m\u001b[1;33m:\u001b[0m\u001b[1;33m\u001b[0m\u001b[1;33m\u001b[0m\u001b[0m\n\u001b[0;32m    498\u001b[0m         \u001b[1;32mif\u001b[0m \u001b[0mcancellation_manager\u001b[0m \u001b[1;32mis\u001b[0m \u001b[1;32mNone\u001b[0m\u001b[1;33m:\u001b[0m\u001b[1;33m\u001b[0m\u001b[1;33m\u001b[0m\u001b[0m\n\u001b[1;32m--> 499\u001b[1;33m           outputs = execute.execute(\n\u001b[0m\u001b[0;32m    500\u001b[0m               \u001b[0mstr\u001b[0m\u001b[1;33m(\u001b[0m\u001b[0mself\u001b[0m\u001b[1;33m.\u001b[0m\u001b[0msignature\u001b[0m\u001b[1;33m.\u001b[0m\u001b[0mname\u001b[0m\u001b[1;33m)\u001b[0m\u001b[1;33m,\u001b[0m\u001b[1;33m\u001b[0m\u001b[1;33m\u001b[0m\u001b[0m\n\u001b[0;32m    501\u001b[0m               \u001b[0mnum_outputs\u001b[0m\u001b[1;33m=\u001b[0m\u001b[0mself\u001b[0m\u001b[1;33m.\u001b[0m\u001b[0m_num_outputs\u001b[0m\u001b[1;33m,\u001b[0m\u001b[1;33m\u001b[0m\u001b[1;33m\u001b[0m\u001b[0m\n",
      "\u001b[1;32m~\\AppData\\Roaming\\Python\\Python39\\site-packages\\tensorflow\\python\\eager\\execute.py\u001b[0m in \u001b[0;36mquick_execute\u001b[1;34m(op_name, num_outputs, inputs, attrs, ctx, name)\u001b[0m\n\u001b[0;32m     52\u001b[0m   \u001b[1;32mtry\u001b[0m\u001b[1;33m:\u001b[0m\u001b[1;33m\u001b[0m\u001b[1;33m\u001b[0m\u001b[0m\n\u001b[0;32m     53\u001b[0m     \u001b[0mctx\u001b[0m\u001b[1;33m.\u001b[0m\u001b[0mensure_initialized\u001b[0m\u001b[1;33m(\u001b[0m\u001b[1;33m)\u001b[0m\u001b[1;33m\u001b[0m\u001b[1;33m\u001b[0m\u001b[0m\n\u001b[1;32m---> 54\u001b[1;33m     tensors = pywrap_tfe.TFE_Py_Execute(ctx._handle, device_name, op_name,\n\u001b[0m\u001b[0;32m     55\u001b[0m                                         inputs, attrs, num_outputs)\n\u001b[0;32m     56\u001b[0m   \u001b[1;32mexcept\u001b[0m \u001b[0mcore\u001b[0m\u001b[1;33m.\u001b[0m\u001b[0m_NotOkStatusException\u001b[0m \u001b[1;32mas\u001b[0m \u001b[0me\u001b[0m\u001b[1;33m:\u001b[0m\u001b[1;33m\u001b[0m\u001b[1;33m\u001b[0m\u001b[0m\n",
      "\u001b[1;31mKeyboardInterrupt\u001b[0m: "
     ]
    }
   ],
   "source": [
    "model.fit(X_train, y_train,validation_data=(X_val, y_val), epochs=15, verbose=1)"
   ]
  },
  {
   "cell_type": "code",
   "execution_count": 339,
   "id": "420619df-a21b-4328-a74c-2979c99f0300",
   "metadata": {},
   "outputs": [
    {
     "name": "stdout",
     "output_type": "stream",
     "text": [
      "101/101 [==============================] - 11s 100ms/step\n",
      "44/44 [==============================] - 4s 101ms/step\n"
     ]
    }
   ],
   "source": [
    "yhat_train=model.predict(X_train, verbose=1)\n",
    "yhat_val = model.predict(X_val, verbose=1)\n",
    "    \n"
   ]
  },
  {
   "cell_type": "code",
   "execution_count": 340,
   "id": "bf13a970-2edb-4124-b626-9256ef9082ad",
   "metadata": {},
   "outputs": [],
   "source": [
    "training_metrics_dicts=[]\n",
    "valdiation_metrics_dicts=[]\n",
    "training_metrics_dicts.append(descale_y_retrun_metrics_univariate_y(yhat_train, y_train))\n",
    "valdiation_metrics_dicts.append(descale_y_retrun_metrics_univariate_y(yhat_val, y_val))\n",
    "\n"
   ]
  },
  {
   "cell_type": "markdown",
   "id": "cf07a1c5-e9ef-4a81-9500-9201a6c1d62b",
   "metadata": {
    "tags": []
   },
   "source": [
    "## Longer Lookahead"
   ]
  },
  {
   "cell_type": "code",
   "execution_count": 341,
   "id": "900afe07-db3b-4551-9c3b-ed5d792137d1",
   "metadata": {},
   "outputs": [
    {
     "data": {
      "text/plain": [
       "[         RMSE          MSE        MAE      MAPE        R2\n",
       " 1   26.025717   677.337921  10.305420  0.131118  0.639572\n",
       " 2   28.258194   798.525540  11.976923  0.152382  0.574910\n",
       " 3   29.092051   846.347453  12.949673  0.165970  0.549150\n",
       " 4   29.832153   889.957347  13.443774  0.172522  0.525834\n",
       " 5   30.324368   919.567273  13.596614  0.175107  0.510001\n",
       " 6   30.431417   926.071128  13.595442  0.175728  0.506504\n",
       " 7   30.579869   935.128412  13.672235  0.177125  0.501489\n",
       " 8   30.739379   944.909421  13.766863  0.178925  0.496174\n",
       " 9   30.804452   948.914254  13.891704  0.180997  0.493964\n",
       " 10  30.823927   950.114458  13.994564  0.182976  0.493318\n",
       " 11  31.060362   964.746077  14.183363  0.185948  0.485447\n",
       " 12  31.316632   980.731463  14.364038  0.188849  0.476872\n",
       " 13  31.715111  1005.848260  14.687792  0.193089  0.463425\n",
       " 14  32.202230  1036.983639  15.013763  0.197098  0.446783\n",
       " 15  32.788398  1075.079045  15.400085  0.201558  0.426364]"
      ]
     },
     "execution_count": 341,
     "metadata": {},
     "output_type": "execute_result"
    }
   ],
   "source": [
    "training_metrics_dicts"
   ]
  },
  {
   "cell_type": "code",
   "execution_count": 342,
   "id": "a2c96964-e7c0-4218-9f80-e01f3a6fa642",
   "metadata": {},
   "outputs": [
    {
     "data": {
      "text/plain": [
       "[         RMSE         MSE        MAE      MAPE        R2\n",
       " 1   15.745903  247.933476   9.894911  0.127353  0.551198\n",
       " 2   17.309433  299.616468  10.765267  0.139590  0.458438\n",
       " 3   18.008613  324.310147  11.272753  0.148042  0.413861\n",
       " 4   18.491014  341.917589  11.779972  0.156665  0.382034\n",
       " 5   18.858211  355.632138  12.123609  0.162897  0.357230\n",
       " 6   19.083360  364.174621  12.405016  0.168225  0.341818\n",
       " 7   19.182840  367.981361  12.524401  0.171524  0.334918\n",
       " 8   19.242145  370.260144  12.616712  0.174134  0.330739\n",
       " 9   19.320600  373.285584  12.730713  0.176921  0.325142\n",
       " 10  19.433224  377.650187  12.851777  0.179630  0.317055\n",
       " 11  19.477404  379.369279  12.879721  0.181171  0.313842\n",
       " 12  19.527593  381.326871  12.943865  0.183079  0.310045\n",
       " 13  19.531122  381.464719  12.941786  0.183878  0.309825\n",
       " 14  19.529881  381.416252  13.015962  0.185878  0.310553\n",
       " 15  19.530657  381.446559  13.085035  0.187291  0.310765]"
      ]
     },
     "execution_count": 342,
     "metadata": {},
     "output_type": "execute_result"
    }
   ],
   "source": [
    "valdiation_metrics_dicts"
   ]
  },
  {
   "cell_type": "markdown",
   "id": "1a063477-ab7c-4b5d-9791-976e3214b3c1",
   "metadata": {},
   "source": [
    "## Batch Normalization + 200 hidden"
   ]
  },
  {
   "cell_type": "code",
   "execution_count": 315,
   "id": "b945e56a-69c0-43df-a90f-e248c91793b5",
   "metadata": {},
   "outputs": [
    {
     "data": {
      "text/plain": [
       "[        RMSE          MSE        MAE      MAPE        R2\n",
       " 1  27.372008   749.226843  13.004301  0.176288  0.600523\n",
       " 2  31.415444   986.930102  15.423984  0.208229  0.473570\n",
       " 3  32.316433  1044.351812  16.349033  0.221919  0.442607\n",
       " 4  33.110901  1096.331769  17.138189  0.234425  0.414795\n",
       " 5  34.325391  1178.232457  17.901585  0.246461  0.371076]"
      ]
     },
     "execution_count": 315,
     "metadata": {},
     "output_type": "execute_result"
    }
   ],
   "source": [
    "training_metrics_dicts"
   ]
  },
  {
   "cell_type": "code",
   "execution_count": 316,
   "id": "ad3e7f3a-54fc-428b-ad6f-8e13658c7a58",
   "metadata": {},
   "outputs": [
    {
     "data": {
      "text/plain": [
       "[        RMSE         MSE        MAE      MAPE        R2\n",
       " 1  13.922585  193.838375   8.734242  0.124335  0.648961\n",
       " 2  17.073722  291.511998  10.924657  0.153643  0.472129\n",
       " 3  18.633802  347.218561  12.336426  0.173867  0.371176\n",
       " 4  19.244081  370.334651  13.094953  0.187173  0.329728\n",
       " 5  19.597376  384.057141  13.675414  0.197946  0.304881]"
      ]
     },
     "execution_count": 316,
     "metadata": {},
     "output_type": "execute_result"
    }
   ],
   "source": [
    "valdiation_metrics_dicts"
   ]
  },
  {
   "cell_type": "markdown",
   "id": "97087c94-9f42-4faa-a755-5b861ffa64f1",
   "metadata": {},
   "source": [
    "## 200 hidden ***"
   ]
  },
  {
   "cell_type": "code",
   "execution_count": 306,
   "id": "5a067303-0c2d-456c-87c0-0ba485fcdff7",
   "metadata": {},
   "outputs": [
    {
     "data": {
      "text/plain": [
       "[        RMSE         MSE        MAE      MAPE        R2\n",
       " 1  25.955085  673.666429   9.531117  0.117856  0.640811\n",
       " 2  28.348174  803.618946  12.000904  0.148661  0.571349\n",
       " 3  29.711282  882.760255  13.030442  0.161426  0.528852\n",
       " 4  30.627722  938.057383  13.711982  0.168999  0.499280\n",
       " 5  31.307164  980.138529  14.203849  0.173941  0.476816]"
      ]
     },
     "execution_count": 306,
     "metadata": {},
     "output_type": "execute_result"
    }
   ],
   "source": [
    "training_metrics_dicts"
   ]
  },
  {
   "cell_type": "code",
   "execution_count": 307,
   "id": "0ca8d2f9-00f3-4645-a10e-092802b1c234",
   "metadata": {},
   "outputs": [
    {
     "data": {
      "text/plain": [
       "[        RMSE         MSE        MAE      MAPE        R2\n",
       " 1  12.624890  159.387854   7.937724  0.109418  0.711351\n",
       " 2  14.967525  224.026804   9.409025  0.130552  0.594332\n",
       " 3  15.926301  253.647077  10.135774  0.139871  0.540637\n",
       " 4  16.463512  271.047239  10.606332  0.146606  0.509429\n",
       " 5  16.897997  285.542307  10.955312  0.151366  0.483187]"
      ]
     },
     "execution_count": 307,
     "metadata": {},
     "output_type": "execute_result"
    }
   ],
   "source": [
    "valdiation_metrics_dicts"
   ]
  },
  {
   "cell_type": "markdown",
   "id": "2d675378-4470-4f03-9788-8e75e6279604",
   "metadata": {},
   "source": [
    "## 100 hidden"
   ]
  },
  {
   "cell_type": "code",
   "execution_count": 294,
   "id": "6fb8fc39-482b-48ea-940c-7c597dfebab4",
   "metadata": {},
   "outputs": [
    {
     "data": {
      "text/plain": [
       "[        RMSE          MSE        MAE      MAPE        R2\n",
       " 1  26.891660   723.161372  10.784685  0.152176  0.614421\n",
       " 2  30.479887   929.023523  12.871599  0.176672  0.504458\n",
       " 3  31.114880   968.135728  13.829383  0.191018  0.483286\n",
       " 4  31.391028   985.396670  14.530961  0.200327  0.474011\n",
       " 5  31.923218  1019.091863  15.085831  0.207604  0.456023]"
      ]
     },
     "execution_count": 294,
     "metadata": {},
     "output_type": "execute_result"
    }
   ],
   "source": [
    "training_metrics_dicts"
   ]
  },
  {
   "cell_type": "code",
   "execution_count": 295,
   "id": "dd0d5e24-b99a-4f93-a9c3-5a4da94ae769",
   "metadata": {},
   "outputs": [
    {
     "data": {
      "text/plain": [
       "[        RMSE         MSE        MAE      MAPE        R2\n",
       " 1  14.201220  201.674644   9.335226  0.140333  0.634770\n",
       " 2  15.939422  254.065165  10.318553  0.151945  0.539938\n",
       " 3  16.714763  279.383288  10.858177  0.159221  0.494028\n",
       " 4  17.098453  292.357086  11.198643  0.164113  0.470860\n",
       " 5  17.370116  301.720940  11.506529  0.168700  0.453904]"
      ]
     },
     "execution_count": 295,
     "metadata": {},
     "output_type": "execute_result"
    }
   ],
   "source": [
    "valdiation_metrics_dicts"
   ]
  },
  {
   "cell_type": "markdown",
   "id": "318cefd4-fb33-4f4a-b34e-179ea7e338e7",
   "metadata": {},
   "source": [
    "## Lets test across all months with a lookahead of 10"
   ]
  },
  {
   "cell_type": "code",
   "execution_count": 15,
   "id": "281992a3-d9bb-468c-8472-bd24fdd8348a",
   "metadata": {},
   "outputs": [],
   "source": [
    "def LSTM_model():\n",
    "    \n",
    "    checkpoint_filepath='./cnn/checkpoint'\n",
    "    model_checkpoint_callback = keras.callbacks.ModelCheckpoint(\n",
    "    filepath=checkpoint_filepath,\n",
    "    save_weights_only=True,\n",
    "    monitor='val_loss',\n",
    "    mode='min',\n",
    "    save_best_only=True)\n",
    "    \n",
    "    n_hidden = 200\n",
    "    input_train = Input(shape=(n_steps_in, X_train.shape[2]),name='input')\n",
    "    output_train = Input(shape=(y_train.shape[1], y_train.shape[2]))\n",
    "\n",
    "\n",
    "\n",
    "\n",
    "\n",
    "    encoder_stack_h, encoder_last_h, encoder_last_c = LSTM(\n",
    "    n_hidden, activation='tanh', dropout=0.2, \n",
    "    return_state=True, return_sequences=True,name='encoder')(input_train)\n",
    "\n",
    "\n",
    "\n",
    "    decoder_input = RepeatVector(output_train.shape[1],name='repeat_vector')(encoder_last_h)\n",
    "\n",
    "    decoder_stack_h = LSTM(n_hidden, activation='tanh', dropout=0.2,\n",
    "     return_state=False, return_sequences=True,name='decoder')(decoder_input, initial_state=[encoder_last_h, encoder_last_c])\n",
    "\n",
    "    attention = dot([decoder_stack_h, encoder_stack_h], axes=[2, 2], name='attention_dot')\n",
    "    attention = Activation('softmax', name='attention_activation')(attention)\n",
    "\n",
    "    context = dot([attention, encoder_stack_h], axes=[2,1],name='Context')\n",
    "\n",
    "    decoder_combined_context = Concatenate(axis=2)([context, decoder_stack_h])\n",
    "\n",
    "    out = TimeDistributed(Dense(output_train.shape[2]))(context)\n",
    "\n",
    "    model = Model(inputs=input_train, outputs=out)\n",
    "\n",
    "    model.compile(loss='mean_squared_error', optimizer='Adam', metrics=['mae'])\n",
    "    return model, model_checkpoint_callback, checkpoint_filepath"
   ]
  },
  {
   "cell_type": "code",
   "execution_count": 18,
   "id": "681d2b41-72f8-4a18-86a3-d9ea2f323858",
   "metadata": {
    "collapsed": true,
    "jupyter": {
     "outputs_hidden": true
    },
    "tags": []
   },
   "outputs": [
    {
     "name": "stderr",
     "output_type": "stream",
     "text": [
      "D:\\Anaconda\\lib\\site-packages\\pandas\\core\\frame.py:3678: SettingWithCopyWarning: \n",
      "A value is trying to be set on a copy of a slice from a DataFrame.\n",
      "Try using .loc[row_indexer,col_indexer] = value instead\n",
      "\n",
      "See the caveats in the documentation: https://pandas.pydata.org/pandas-docs/stable/user_guide/indexing.html#returning-a-view-versus-a-copy\n",
      "  self[col] = igetitem(value, i)\n"
     ]
    },
    {
     "name": "stdout",
     "output_type": "stream",
     "text": [
      "Epoch 1/15\n",
      "107/107 [==============================] - 35s 285ms/step - loss: 0.3618 - mae: 0.2542 - val_loss: 0.0720 - val_mae: 0.1713\n",
      "Epoch 2/15\n",
      "107/107 [==============================] - 30s 277ms/step - loss: 0.3373 - mae: 0.2309 - val_loss: 0.0583 - val_mae: 0.1558\n",
      "Epoch 3/15\n",
      "107/107 [==============================] - 29s 274ms/step - loss: 0.3308 - mae: 0.2298 - val_loss: 0.0593 - val_mae: 0.1591\n",
      "Epoch 4/15\n",
      "107/107 [==============================] - 29s 275ms/step - loss: 0.3257 - mae: 0.2293 - val_loss: 0.0557 - val_mae: 0.1555\n",
      "Epoch 5/15\n",
      "107/107 [==============================] - 29s 276ms/step - loss: 0.3131 - mae: 0.2200 - val_loss: 0.0537 - val_mae: 0.1566\n",
      "Epoch 6/15\n",
      "107/107 [==============================] - 29s 274ms/step - loss: 0.3156 - mae: 0.2197 - val_loss: 0.0585 - val_mae: 0.1645\n",
      "Epoch 7/15\n",
      "107/107 [==============================] - 29s 272ms/step - loss: 0.3102 - mae: 0.2205 - val_loss: 0.0571 - val_mae: 0.1485\n",
      "Epoch 8/15\n",
      "107/107 [==============================] - 29s 275ms/step - loss: 0.3047 - mae: 0.2111 - val_loss: 0.0590 - val_mae: 0.1532\n",
      "Epoch 9/15\n",
      "107/107 [==============================] - 29s 276ms/step - loss: 0.3106 - mae: 0.2227 - val_loss: 0.0565 - val_mae: 0.1622\n",
      "Epoch 10/15\n",
      "107/107 [==============================] - 29s 272ms/step - loss: 0.3033 - mae: 0.2157 - val_loss: 0.0551 - val_mae: 0.1497\n",
      "Epoch 11/15\n",
      "107/107 [==============================] - 29s 273ms/step - loss: 0.2917 - mae: 0.2115 - val_loss: 0.0594 - val_mae: 0.1772\n",
      "Epoch 12/15\n",
      "107/107 [==============================] - 29s 273ms/step - loss: 0.2964 - mae: 0.2128 - val_loss: 0.0579 - val_mae: 0.1638\n",
      "Epoch 13/15\n",
      "107/107 [==============================] - 29s 273ms/step - loss: 0.2923 - mae: 0.2095 - val_loss: 0.0660 - val_mae: 0.1825\n",
      "Epoch 14/15\n",
      "107/107 [==============================] - 29s 274ms/step - loss: 0.2949 - mae: 0.2177 - val_loss: 0.0589 - val_mae: 0.1569\n",
      "Epoch 15/15\n",
      "107/107 [==============================] - 29s 272ms/step - loss: 0.2945 - mae: 0.2192 - val_loss: 0.0596 - val_mae: 0.1595\n"
     ]
    },
    {
     "name": "stderr",
     "output_type": "stream",
     "text": [
      "WARNING:absl:Found untraced functions such as lstm_cell_16_layer_call_fn, lstm_cell_16_layer_call_and_return_conditional_losses, lstm_cell_17_layer_call_fn, lstm_cell_17_layer_call_and_return_conditional_losses while saving (showing 4 of 4). These functions will not be directly callable after loading.\n"
     ]
    },
    {
     "name": "stdout",
     "output_type": "stream",
     "text": [
      "INFO:tensorflow:Assets written to: Encoder_Decoder_5/Month0\\assets\n"
     ]
    },
    {
     "name": "stderr",
     "output_type": "stream",
     "text": [
      "INFO:tensorflow:Assets written to: Encoder_Decoder_5/Month0\\assets\n",
      "WARNING:absl:<keras.layers.recurrent.LSTMCell object at 0x0000027EAA4622B0> has the same name 'LSTMCell' as a built-in Keras object. Consider renaming <class 'keras.layers.recurrent.LSTMCell'> to avoid naming conflicts when loading with `tf.keras.models.load_model`. If renaming is not possible, pass the object in the `custom_objects` parameter of the load function.\n",
      "WARNING:absl:<keras.layers.recurrent.LSTMCell object at 0x0000027BF476F0A0> has the same name 'LSTMCell' as a built-in Keras object. Consider renaming <class 'keras.layers.recurrent.LSTMCell'> to avoid naming conflicts when loading with `tf.keras.models.load_model`. If renaming is not possible, pass the object in the `custom_objects` parameter of the load function.\n"
     ]
    },
    {
     "name": "stdout",
     "output_type": "stream",
     "text": [
      "107/107 [==============================] - 12s 99ms/step\n",
      "46/46 [==============================] - 5s 99ms/step\n"
     ]
    },
    {
     "name": "stderr",
     "output_type": "stream",
     "text": [
      "D:\\Anaconda\\lib\\site-packages\\pandas\\core\\frame.py:3678: SettingWithCopyWarning: \n",
      "A value is trying to be set on a copy of a slice from a DataFrame.\n",
      "Try using .loc[row_indexer,col_indexer] = value instead\n",
      "\n",
      "See the caveats in the documentation: https://pandas.pydata.org/pandas-docs/stable/user_guide/indexing.html#returning-a-view-versus-a-copy\n",
      "  self[col] = igetitem(value, i)\n"
     ]
    },
    {
     "name": "stdout",
     "output_type": "stream",
     "text": [
      "Epoch 1/15\n",
      "114/114 [==============================] - 37s 282ms/step - loss: 0.6380 - mae: 0.4387 - val_loss: 0.4427 - val_mae: 0.4246\n",
      "Epoch 2/15\n",
      "114/114 [==============================] - 31s 272ms/step - loss: 0.5613 - mae: 0.3995 - val_loss: 0.6942 - val_mae: 0.5716\n",
      "Epoch 3/15\n",
      "114/114 [==============================] - 31s 273ms/step - loss: 0.5464 - mae: 0.3908 - val_loss: 0.4299 - val_mae: 0.3904\n",
      "Epoch 4/15\n",
      "114/114 [==============================] - 31s 271ms/step - loss: 0.5426 - mae: 0.3908 - val_loss: 0.5303 - val_mae: 0.4641\n",
      "Epoch 5/15\n",
      "114/114 [==============================] - 31s 273ms/step - loss: 0.5195 - mae: 0.3822 - val_loss: 0.4299 - val_mae: 0.3882\n",
      "Epoch 6/15\n",
      "114/114 [==============================] - 31s 274ms/step - loss: 0.5144 - mae: 0.3770 - val_loss: 0.4922 - val_mae: 0.4208\n",
      "Epoch 7/15\n",
      "114/114 [==============================] - 31s 273ms/step - loss: 0.5268 - mae: 0.3875 - val_loss: 0.4744 - val_mae: 0.4099\n",
      "Epoch 8/15\n",
      "114/114 [==============================] - 31s 271ms/step - loss: 0.5082 - mae: 0.3786 - val_loss: 0.5150 - val_mae: 0.4388\n",
      "Epoch 9/15\n",
      "114/114 [==============================] - 31s 272ms/step - loss: 0.4780 - mae: 0.3695 - val_loss: 0.4657 - val_mae: 0.4023\n",
      "Epoch 10/15\n",
      "114/114 [==============================] - 31s 273ms/step - loss: 0.4822 - mae: 0.3652 - val_loss: 0.4482 - val_mae: 0.3962\n",
      "Epoch 11/15\n",
      "114/114 [==============================] - 31s 272ms/step - loss: 0.4585 - mae: 0.3604 - val_loss: 0.5037 - val_mae: 0.4128\n",
      "Epoch 12/15\n",
      "114/114 [==============================] - 31s 271ms/step - loss: 0.4629 - mae: 0.3595 - val_loss: 0.4823 - val_mae: 0.3961\n",
      "Epoch 13/15\n",
      "114/114 [==============================] - 32s 277ms/step - loss: 0.4475 - mae: 0.3535 - val_loss: 0.5673 - val_mae: 0.4457\n",
      "Epoch 14/15\n",
      "114/114 [==============================] - 31s 270ms/step - loss: 0.4768 - mae: 0.3701 - val_loss: 0.4745 - val_mae: 0.4212\n",
      "Epoch 15/15\n",
      "114/114 [==============================] - 31s 271ms/step - loss: 0.4906 - mae: 0.3721 - val_loss: 0.4679 - val_mae: 0.4018\n"
     ]
    },
    {
     "name": "stderr",
     "output_type": "stream",
     "text": [
      "WARNING:absl:Found untraced functions such as lstm_cell_18_layer_call_fn, lstm_cell_18_layer_call_and_return_conditional_losses, lstm_cell_19_layer_call_fn, lstm_cell_19_layer_call_and_return_conditional_losses while saving (showing 4 of 4). These functions will not be directly callable after loading.\n"
     ]
    },
    {
     "name": "stdout",
     "output_type": "stream",
     "text": [
      "INFO:tensorflow:Assets written to: Encoder_Decoder_5/Month1\\assets\n"
     ]
    },
    {
     "name": "stderr",
     "output_type": "stream",
     "text": [
      "INFO:tensorflow:Assets written to: Encoder_Decoder_5/Month1\\assets\n",
      "WARNING:absl:<keras.layers.recurrent.LSTMCell object at 0x0000027C60D97700> has the same name 'LSTMCell' as a built-in Keras object. Consider renaming <class 'keras.layers.recurrent.LSTMCell'> to avoid naming conflicts when loading with `tf.keras.models.load_model`. If renaming is not possible, pass the object in the `custom_objects` parameter of the load function.\n",
      "WARNING:absl:<keras.layers.recurrent.LSTMCell object at 0x0000027ED5135CA0> has the same name 'LSTMCell' as a built-in Keras object. Consider renaming <class 'keras.layers.recurrent.LSTMCell'> to avoid naming conflicts when loading with `tf.keras.models.load_model`. If renaming is not possible, pass the object in the `custom_objects` parameter of the load function.\n"
     ]
    },
    {
     "name": "stdout",
     "output_type": "stream",
     "text": [
      "114/114 [==============================] - 12s 98ms/step\n",
      "49/49 [==============================] - 5s 99ms/step\n"
     ]
    },
    {
     "name": "stderr",
     "output_type": "stream",
     "text": [
      "D:\\Anaconda\\lib\\site-packages\\pandas\\core\\frame.py:3678: SettingWithCopyWarning: \n",
      "A value is trying to be set on a copy of a slice from a DataFrame.\n",
      "Try using .loc[row_indexer,col_indexer] = value instead\n",
      "\n",
      "See the caveats in the documentation: https://pandas.pydata.org/pandas-docs/stable/user_guide/indexing.html#returning-a-view-versus-a-copy\n",
      "  self[col] = igetitem(value, i)\n"
     ]
    },
    {
     "name": "stdout",
     "output_type": "stream",
     "text": [
      "Epoch 1/15\n",
      "107/107 [==============================] - 35s 283ms/step - loss: 0.2616 - mae: 0.2442 - val_loss: 0.3391 - val_mae: 0.2715\n",
      "Epoch 2/15\n",
      "107/107 [==============================] - 29s 273ms/step - loss: 0.2431 - mae: 0.2279 - val_loss: 0.3386 - val_mae: 0.2607\n",
      "Epoch 3/15\n",
      "107/107 [==============================] - 29s 273ms/step - loss: 0.2345 - mae: 0.2209 - val_loss: 0.3300 - val_mae: 0.2745\n",
      "Epoch 4/15\n",
      "107/107 [==============================] - 29s 271ms/step - loss: 0.2332 - mae: 0.2205 - val_loss: 0.3422 - val_mae: 0.2826\n",
      "Epoch 5/15\n",
      "107/107 [==============================] - 29s 275ms/step - loss: 0.2252 - mae: 0.2143 - val_loss: 0.3415 - val_mae: 0.3013\n",
      "Epoch 6/15\n",
      "107/107 [==============================] - 29s 271ms/step - loss: 0.2254 - mae: 0.2177 - val_loss: 0.3318 - val_mae: 0.2633\n",
      "Epoch 7/15\n",
      "107/107 [==============================] - 29s 274ms/step - loss: 0.2125 - mae: 0.2131 - val_loss: 0.3285 - val_mae: 0.2701\n",
      "Epoch 8/15\n",
      "107/107 [==============================] - 29s 273ms/step - loss: 0.2165 - mae: 0.2115 - val_loss: 0.3315 - val_mae: 0.2827\n",
      "Epoch 9/15\n",
      "107/107 [==============================] - 29s 271ms/step - loss: 0.2082 - mae: 0.2091 - val_loss: 0.3456 - val_mae: 0.2983\n",
      "Epoch 10/15\n",
      "107/107 [==============================] - 29s 271ms/step - loss: 0.1940 - mae: 0.2021 - val_loss: 0.3411 - val_mae: 0.2786\n",
      "Epoch 11/15\n",
      "107/107 [==============================] - 29s 271ms/step - loss: 0.2110 - mae: 0.2097 - val_loss: 0.3446 - val_mae: 0.3068\n",
      "Epoch 12/15\n",
      "107/107 [==============================] - 29s 268ms/step - loss: 0.2063 - mae: 0.2069 - val_loss: 0.3571 - val_mae: 0.2976\n",
      "Epoch 13/15\n",
      "107/107 [==============================] - 29s 270ms/step - loss: 0.2075 - mae: 0.2088 - val_loss: 0.3419 - val_mae: 0.2952\n",
      "Epoch 14/15\n",
      "107/107 [==============================] - 29s 269ms/step - loss: 0.1832 - mae: 0.1991 - val_loss: 0.3449 - val_mae: 0.2870\n",
      "Epoch 15/15\n",
      "107/107 [==============================] - 29s 269ms/step - loss: 0.1964 - mae: 0.2029 - val_loss: 0.3391 - val_mae: 0.2811\n"
     ]
    },
    {
     "name": "stderr",
     "output_type": "stream",
     "text": [
      "WARNING:absl:Found untraced functions such as lstm_cell_20_layer_call_fn, lstm_cell_20_layer_call_and_return_conditional_losses, lstm_cell_21_layer_call_fn, lstm_cell_21_layer_call_and_return_conditional_losses while saving (showing 4 of 4). These functions will not be directly callable after loading.\n"
     ]
    },
    {
     "name": "stdout",
     "output_type": "stream",
     "text": [
      "INFO:tensorflow:Assets written to: Encoder_Decoder_5/Month2\\assets\n"
     ]
    },
    {
     "name": "stderr",
     "output_type": "stream",
     "text": [
      "INFO:tensorflow:Assets written to: Encoder_Decoder_5/Month2\\assets\n",
      "WARNING:absl:<keras.layers.recurrent.LSTMCell object at 0x0000027BF4A01DC0> has the same name 'LSTMCell' as a built-in Keras object. Consider renaming <class 'keras.layers.recurrent.LSTMCell'> to avoid naming conflicts when loading with `tf.keras.models.load_model`. If renaming is not possible, pass the object in the `custom_objects` parameter of the load function.\n",
      "WARNING:absl:<keras.layers.recurrent.LSTMCell object at 0x0000027BF4A0D700> has the same name 'LSTMCell' as a built-in Keras object. Consider renaming <class 'keras.layers.recurrent.LSTMCell'> to avoid naming conflicts when loading with `tf.keras.models.load_model`. If renaming is not possible, pass the object in the `custom_objects` parameter of the load function.\n"
     ]
    },
    {
     "name": "stdout",
     "output_type": "stream",
     "text": [
      "107/107 [==============================] - 12s 101ms/step\n",
      "46/46 [==============================] - 5s 100ms/step\n"
     ]
    },
    {
     "name": "stderr",
     "output_type": "stream",
     "text": [
      "D:\\Anaconda\\lib\\site-packages\\pandas\\core\\frame.py:3678: SettingWithCopyWarning: \n",
      "A value is trying to be set on a copy of a slice from a DataFrame.\n",
      "Try using .loc[row_indexer,col_indexer] = value instead\n",
      "\n",
      "See the caveats in the documentation: https://pandas.pydata.org/pandas-docs/stable/user_guide/indexing.html#returning-a-view-versus-a-copy\n",
      "  self[col] = igetitem(value, i)\n"
     ]
    },
    {
     "name": "stdout",
     "output_type": "stream",
     "text": [
      "Epoch 1/15\n",
      "88/88 [==============================] - 29s 286ms/step - loss: 0.2048 - mae: 0.1870 - val_loss: 0.0549 - val_mae: 0.1639\n",
      "Epoch 2/15\n",
      "88/88 [==============================] - 24s 273ms/step - loss: 0.1765 - mae: 0.1556 - val_loss: 0.0452 - val_mae: 0.1545\n",
      "Epoch 3/15\n",
      "88/88 [==============================] - 24s 268ms/step - loss: 0.1718 - mae: 0.1504 - val_loss: 0.0463 - val_mae: 0.1510\n",
      "Epoch 4/15\n",
      "88/88 [==============================] - 24s 271ms/step - loss: 0.1679 - mae: 0.1423 - val_loss: 0.0400 - val_mae: 0.1301\n",
      "Epoch 5/15\n",
      "88/88 [==============================] - 24s 269ms/step - loss: 0.1691 - mae: 0.1420 - val_loss: 0.0463 - val_mae: 0.1702\n",
      "Epoch 6/15\n",
      "88/88 [==============================] - 24s 271ms/step - loss: 0.1611 - mae: 0.1399 - val_loss: 0.0465 - val_mae: 0.1427\n",
      "Epoch 7/15\n",
      "88/88 [==============================] - 24s 268ms/step - loss: 0.1648 - mae: 0.1445 - val_loss: 0.0405 - val_mae: 0.1311\n",
      "Epoch 8/15\n",
      "88/88 [==============================] - 23s 268ms/step - loss: 0.1629 - mae: 0.1436 - val_loss: 0.0465 - val_mae: 0.1511\n",
      "Epoch 9/15\n",
      "88/88 [==============================] - 24s 268ms/step - loss: 0.1606 - mae: 0.1377 - val_loss: 0.0460 - val_mae: 0.1371\n",
      "Epoch 10/15\n",
      "88/88 [==============================] - 24s 269ms/step - loss: 0.1567 - mae: 0.1326 - val_loss: 0.0549 - val_mae: 0.1464\n",
      "Epoch 11/15\n",
      "88/88 [==============================] - 24s 269ms/step - loss: 0.1560 - mae: 0.1291 - val_loss: 0.0453 - val_mae: 0.1439\n",
      "Epoch 12/15\n",
      "88/88 [==============================] - 24s 271ms/step - loss: 0.1510 - mae: 0.1355 - val_loss: 0.0377 - val_mae: 0.1306\n",
      "Epoch 13/15\n",
      "88/88 [==============================] - 24s 270ms/step - loss: 0.1607 - mae: 0.1442 - val_loss: 0.0467 - val_mae: 0.1441\n",
      "Epoch 14/15\n",
      "88/88 [==============================] - 24s 269ms/step - loss: 0.1649 - mae: 0.1402 - val_loss: 0.0422 - val_mae: 0.1372\n",
      "Epoch 15/15\n",
      "88/88 [==============================] - 24s 270ms/step - loss: 0.1593 - mae: 0.1330 - val_loss: 0.0434 - val_mae: 0.1379\n"
     ]
    },
    {
     "name": "stderr",
     "output_type": "stream",
     "text": [
      "WARNING:absl:Found untraced functions such as lstm_cell_22_layer_call_fn, lstm_cell_22_layer_call_and_return_conditional_losses, lstm_cell_23_layer_call_fn, lstm_cell_23_layer_call_and_return_conditional_losses while saving (showing 4 of 4). These functions will not be directly callable after loading.\n"
     ]
    },
    {
     "name": "stdout",
     "output_type": "stream",
     "text": [
      "INFO:tensorflow:Assets written to: Encoder_Decoder_5/Month3\\assets\n"
     ]
    },
    {
     "name": "stderr",
     "output_type": "stream",
     "text": [
      "INFO:tensorflow:Assets written to: Encoder_Decoder_5/Month3\\assets\n",
      "WARNING:absl:<keras.layers.recurrent.LSTMCell object at 0x0000027C5E66C5E0> has the same name 'LSTMCell' as a built-in Keras object. Consider renaming <class 'keras.layers.recurrent.LSTMCell'> to avoid naming conflicts when loading with `tf.keras.models.load_model`. If renaming is not possible, pass the object in the `custom_objects` parameter of the load function.\n",
      "WARNING:absl:<keras.layers.recurrent.LSTMCell object at 0x0000027C5E652A30> has the same name 'LSTMCell' as a built-in Keras object. Consider renaming <class 'keras.layers.recurrent.LSTMCell'> to avoid naming conflicts when loading with `tf.keras.models.load_model`. If renaming is not possible, pass the object in the `custom_objects` parameter of the load function.\n"
     ]
    },
    {
     "name": "stdout",
     "output_type": "stream",
     "text": [
      "88/88 [==============================] - 10s 100ms/step\n",
      "38/38 [==============================] - 5s 100ms/step\n"
     ]
    },
    {
     "name": "stderr",
     "output_type": "stream",
     "text": [
      "D:\\Anaconda\\lib\\site-packages\\pandas\\core\\frame.py:3678: SettingWithCopyWarning: \n",
      "A value is trying to be set on a copy of a slice from a DataFrame.\n",
      "Try using .loc[row_indexer,col_indexer] = value instead\n",
      "\n",
      "See the caveats in the documentation: https://pandas.pydata.org/pandas-docs/stable/user_guide/indexing.html#returning-a-view-versus-a-copy\n",
      "  self[col] = igetitem(value, i)\n"
     ]
    },
    {
     "name": "stdout",
     "output_type": "stream",
     "text": [
      "Epoch 1/15\n",
      "107/107 [==============================] - 35s 282ms/step - loss: 0.1058 - mae: 0.1795 - val_loss: 0.0511 - val_mae: 0.1606\n",
      "Epoch 2/15\n",
      "107/107 [==============================] - 29s 269ms/step - loss: 0.0814 - mae: 0.1504 - val_loss: 0.0574 - val_mae: 0.1908\n",
      "Epoch 3/15\n",
      "107/107 [==============================] - 29s 273ms/step - loss: 0.0837 - mae: 0.1499 - val_loss: 0.0461 - val_mae: 0.1567\n",
      "Epoch 4/15\n",
      "107/107 [==============================] - 29s 274ms/step - loss: 0.0691 - mae: 0.1377 - val_loss: 0.0410 - val_mae: 0.1390\n",
      "Epoch 5/15\n",
      "107/107 [==============================] - 29s 269ms/step - loss: 0.0714 - mae: 0.1365 - val_loss: 0.0436 - val_mae: 0.1511\n",
      "Epoch 6/15\n",
      "107/107 [==============================] - 29s 274ms/step - loss: 0.0758 - mae: 0.1398 - val_loss: 0.0531 - val_mae: 0.1791\n",
      "Epoch 7/15\n",
      "107/107 [==============================] - 29s 271ms/step - loss: 0.0709 - mae: 0.1384 - val_loss: 0.0486 - val_mae: 0.1497\n",
      "Epoch 8/15\n",
      "107/107 [==============================] - 29s 272ms/step - loss: 0.0635 - mae: 0.1313 - val_loss: 0.0522 - val_mae: 0.1789\n",
      "Epoch 9/15\n",
      "107/107 [==============================] - 29s 276ms/step - loss: 0.0599 - mae: 0.1288 - val_loss: 0.0489 - val_mae: 0.1647\n",
      "Epoch 10/15\n",
      "107/107 [==============================] - 29s 273ms/step - loss: 0.0512 - mae: 0.1223 - val_loss: 0.0433 - val_mae: 0.1501\n",
      "Epoch 11/15\n",
      "107/107 [==============================] - 29s 275ms/step - loss: 0.0598 - mae: 0.1263 - val_loss: 0.0544 - val_mae: 0.1841\n",
      "Epoch 12/15\n",
      "107/107 [==============================] - 33s 307ms/step - loss: 0.0545 - mae: 0.1224 - val_loss: 0.0580 - val_mae: 0.1830\n",
      "Epoch 13/15\n",
      "107/107 [==============================] - 30s 279ms/step - loss: 0.0537 - mae: 0.1207 - val_loss: 0.0511 - val_mae: 0.1658\n",
      "Epoch 14/15\n",
      "107/107 [==============================] - 30s 279ms/step - loss: 0.0478 - mae: 0.1169 - val_loss: 0.0583 - val_mae: 0.1890\n",
      "Epoch 15/15\n",
      "107/107 [==============================] - 30s 278ms/step - loss: 0.0513 - mae: 0.1227 - val_loss: 0.0526 - val_mae: 0.1738\n"
     ]
    },
    {
     "name": "stderr",
     "output_type": "stream",
     "text": [
      "WARNING:absl:Found untraced functions such as lstm_cell_24_layer_call_fn, lstm_cell_24_layer_call_and_return_conditional_losses, lstm_cell_25_layer_call_fn, lstm_cell_25_layer_call_and_return_conditional_losses while saving (showing 4 of 4). These functions will not be directly callable after loading.\n"
     ]
    },
    {
     "name": "stdout",
     "output_type": "stream",
     "text": [
      "INFO:tensorflow:Assets written to: Encoder_Decoder_5/Month4\\assets\n"
     ]
    },
    {
     "name": "stderr",
     "output_type": "stream",
     "text": [
      "INFO:tensorflow:Assets written to: Encoder_Decoder_5/Month4\\assets\n",
      "WARNING:absl:<keras.layers.recurrent.LSTMCell object at 0x0000027BF54FF280> has the same name 'LSTMCell' as a built-in Keras object. Consider renaming <class 'keras.layers.recurrent.LSTMCell'> to avoid naming conflicts when loading with `tf.keras.models.load_model`. If renaming is not possible, pass the object in the `custom_objects` parameter of the load function.\n",
      "WARNING:absl:<keras.layers.recurrent.LSTMCell object at 0x0000027EAC900250> has the same name 'LSTMCell' as a built-in Keras object. Consider renaming <class 'keras.layers.recurrent.LSTMCell'> to avoid naming conflicts when loading with `tf.keras.models.load_model`. If renaming is not possible, pass the object in the `custom_objects` parameter of the load function.\n"
     ]
    },
    {
     "name": "stdout",
     "output_type": "stream",
     "text": [
      "107/107 [==============================] - 12s 105ms/step\n",
      "46/46 [==============================] - 5s 101ms/step\n"
     ]
    }
   ],
   "source": [
    "#Create Training Examples for all lookaheads\n",
    "resample_rate = '5T'\n",
    "end_dates = ['2021-12-26 23:55:00', '2022-01-26 23:55:00', '2022-02-26 23:55:00', '2022-03-26 23:55:00', '2022-04-26 23:55:00'  ]\n",
    "Start_dates = ['2021-11-26 00:00:00', '2021-12-26 00:00:00', '2022-01-26 23:55:00', '2022-02-26 23:55:00', '2022-03-26 23:55:00']\n",
    "\n",
    "#end_dates = ['2022-01-26 23:55:00', '2022-03-26 23:55:00']\n",
    "#Start_dates = ['2021-11-26 00:00:00', '2022-01-26 00:00:00']\n",
    "inputs = ['min_gas_price', 'block_gas_5th_percentile', 'block_gas_95th_percentile', 'gas_used', 'base_fee_per_gas', 'transaction_count', 'size', 'Open', 'contracts']\n",
    "#No of timesteps behind to forecast on, no of timesteps to forecast ahead\n",
    "n_steps_in = 4032\n",
    "n_steps_out = 10\n",
    "#How many timesteps between start of training examples\n",
    "step_interval = 1\n",
    "n_step_lookahead = 1\n",
    "mp_window = 288\n",
    "\n",
    "\n",
    "\n",
    "y_hat_list=[]\n",
    "train_loss_list=[]\n",
    "val_loss_list=[]\n",
    "training_metrics_dicts=[]\n",
    "valdiation_metrics_dicts=[]\n",
    "for month in [0, 1, 2, 3, 4]:\n",
    "    n_step_lookahead = 1\n",
    "    start_date=Start_dates[month]\n",
    "    end_date=end_dates[month]\n",
    "    X_train, y_train, X_val, y_val, scaler = generate_training_val_examples_univariate_output(data)\n",
    "    X_train = add_mp_reversed(X_train, mp_window)\n",
    "    X_val = add_mp_reversed(X_val, mp_window)\n",
    "    \n",
    "\n",
    "    \n",
    "    \n",
    "    model, model_checkpoint_callback, checkpoint_filepath = LSTM_model()\n",
    "    train_history = model.fit(X_train, y_train,validation_data=(X_val, y_val), epochs=15, verbose=1, callbacks=[model_checkpoint_callback])\n",
    "    train_loss_list.append(train_history.history['loss'])\n",
    "    val_loss_list.append(train_history.history['val_loss'])\n",
    "    model.load_weights(checkpoint_filepath)\n",
    "    model.save(('Encoder_Decoder_5/Month' +str(month)))\n",
    "    \n",
    "    yhat_train=model.predict(X_train, verbose=1)\n",
    "    yhat_val = model.predict(X_val, verbose=1)\n",
    "    \n",
    "    training_metrics_dicts.append(descale_y_retrun_metrics_univariate_y(yhat_train, y_train))\n",
    "    valdiation_metrics_dicts.append(descale_y_retrun_metrics_univariate_y(yhat_val, y_val))\n",
    "\n",
    "    pd.DataFrame(train_loss_list).to_csv('Encoder_Decoder_5/train_loss')\n",
    "    pd.DataFrame(val_loss_list).to_csv('Encoder_Decoder_5/val_loss')\n",
    "    np.save(\"Encoder_Decoder_5/validation_metric_dict_1.npy\", valdiation_metrics_dicts)\n",
    "    np.save(\"Encoder_Decoder_5/training_metric_dict_1.npy\", training_metrics_dicts)"
   ]
  },
  {
   "cell_type": "code",
   "execution_count": 3,
   "id": "0c63cd38-6680-439e-a257-eb78a024e325",
   "metadata": {},
   "outputs": [
    {
     "data": {
      "text/plain": [
       "array([[[1.50896535e+01, 2.27697643e+02, 1.04049353e+01, 1.57993216e-01,\n",
       "         6.02255704e-01],\n",
       "        [1.59786283e+01, 2.55316564e+02, 1.03799963e+01, 1.49508432e-01,\n",
       "         5.53992422e-01],\n",
       "        [1.65360266e+01, 2.73440175e+02, 1.07483683e+01, 1.53305216e-01,\n",
       "         5.22360082e-01],\n",
       "        [1.68818799e+01, 2.84997870e+02, 1.10795225e+01, 1.58644371e-01,\n",
       "         5.02033188e-01],\n",
       "        [1.71401953e+01, 2.93786293e+02, 1.14217561e+01, 1.64598393e-01,\n",
       "         4.86294811e-01],\n",
       "        [1.73275194e+01, 3.00242928e+02, 1.16990991e+01, 1.69522384e-01,\n",
       "         4.74777258e-01],\n",
       "        [1.74711296e+01, 3.05240371e+02, 1.19438274e+01, 1.73403220e-01,\n",
       "         4.66101376e-01],\n",
       "        [1.75766378e+01, 3.08938196e+02, 1.21387999e+01, 1.76486564e-01,\n",
       "         4.59766884e-01],\n",
       "        [1.77101607e+01, 3.13649791e+02, 1.23351366e+01, 1.79609337e-01,\n",
       "         4.51749149e-01],\n",
       "        [1.78701426e+01, 3.19341996e+02, 1.25370132e+01, 1.82651055e-01,\n",
       "         4.42046489e-01]],\n",
       "\n",
       "       [[3.87328359e+01, 1.50023258e+03, 2.36505537e+01, 1.54477851e-01,\n",
       "         6.06577735e-01],\n",
       "        [4.44410834e+01, 1.97500989e+03, 2.59912488e+01, 1.64067439e-01,\n",
       "         4.82206205e-01],\n",
       "        [4.64085448e+01, 2.15375303e+03, 2.71392123e+01, 1.69103248e-01,\n",
       "         4.35257106e-01],\n",
       "        [4.77406808e+01, 2.27917260e+03, 2.78339160e+01, 1.71690440e-01,\n",
       "         4.02495083e-01],\n",
       "        [4.86508072e+01, 2.36690104e+03, 2.85650419e+01, 1.75951634e-01,\n",
       "         3.79670538e-01],\n",
       "        [4.94366537e+01, 2.44398273e+03, 2.92351999e+01, 1.80224860e-01,\n",
       "         3.60006492e-01],\n",
       "        [5.02497781e+01, 2.52504020e+03, 2.99292369e+01, 1.84887553e-01,\n",
       "         3.38694256e-01],\n",
       "        [5.08376542e+01, 2.58446708e+03, 3.02807041e+01, 1.86903033e-01,\n",
       "         3.23306653e-01],\n",
       "        [5.11086481e+01, 2.61209391e+03, 3.06983316e+01, 1.89494884e-01,\n",
       "         3.15860250e-01],\n",
       "        [5.12439682e+01, 2.62594427e+03, 3.10307240e+01, 1.92207088e-01,\n",
       "         3.12177070e-01]],\n",
       "\n",
       "       [[3.62736152e+01, 1.31577516e+03, 1.56522229e+01, 2.20419448e-01,\n",
       "         4.70630561e-01],\n",
       "        [3.95395987e+01, 1.56337987e+03, 1.77358765e+01, 2.46620974e-01,\n",
       "         3.71014726e-01],\n",
       "        [4.10275748e+01, 1.68326189e+03, 1.88630293e+01, 2.60433651e-01,\n",
       "         3.22867856e-01],\n",
       "        [4.18807213e+01, 1.75399481e+03, 1.95154225e+01, 2.69876776e-01,\n",
       "         2.94661328e-01],\n",
       "        [4.24672122e+01, 1.80346411e+03, 2.00317757e+01, 2.78162946e-01,\n",
       "         2.75034859e-01],\n",
       "        [4.29439810e+01, 1.84418551e+03, 2.04947575e+01, 2.85561696e-01,\n",
       "         2.58577444e-01],\n",
       "        [4.33940825e+01, 1.88304640e+03, 2.09486355e+01, 2.92709852e-01,\n",
       "         2.43029462e-01],\n",
       "        [4.36441964e+01, 1.90481588e+03, 2.12198076e+01, 2.97641828e-01,\n",
       "         2.34025479e-01],\n",
       "        [4.38584701e+01, 1.92356540e+03, 2.15418946e+01, 3.03494829e-01,\n",
       "         2.26334508e-01],\n",
       "        [4.41295889e+01, 1.94742061e+03, 2.18471584e+01, 3.09072678e-01,\n",
       "         2.16927874e-01]],\n",
       "\n",
       "       [[1.17549884e+01, 1.38179753e+02, 8.29646581e+00, 2.14509511e-01,\n",
       "         6.49840521e-01],\n",
       "        [1.31291483e+01, 1.72374535e+02, 8.77199007e+00, 2.19888360e-01,\n",
       "         5.63668225e-01],\n",
       "        [1.38748080e+01, 1.92510296e+02, 9.20293906e+00, 2.27783229e-01,\n",
       "         5.12837475e-01],\n",
       "        [1.41851418e+01, 2.01218249e+02, 9.51253347e+00, 2.36323381e-01,\n",
       "         4.91056959e-01],\n",
       "        [1.43877519e+01, 2.07007406e+02, 9.62787104e+00, 2.41868407e-01,\n",
       "         4.76702686e-01],\n",
       "        [1.45556681e+01, 2.11867475e+02, 9.71989656e+00, 2.46824136e-01,\n",
       "         4.64851078e-01],\n",
       "        [1.47582047e+01, 2.17804606e+02, 9.88045419e+00, 2.53465675e-01,\n",
       "         4.50385300e-01],\n",
       "        [1.49326253e+01, 2.22983299e+02, 1.00595799e+01, 2.60289177e-01,\n",
       "         4.37765556e-01],\n",
       "        [1.51088530e+01, 2.28277439e+02, 1.02162974e+01, 2.65926628e-01,\n",
       "         4.24587328e-01],\n",
       "        [1.51522428e+01, 2.29590460e+02, 1.03428901e+01, 2.70806109e-01,\n",
       "         4.21244299e-01]],\n",
       "\n",
       "       [[1.26504049e+01, 1.60032744e+02, 8.43915793e+00, 2.22650514e-01,\n",
       "         6.40724666e-01],\n",
       "        [1.35209688e+01, 1.82816598e+02, 8.72077996e+00, 2.18380630e-01,\n",
       "         5.88600904e-01],\n",
       "        [1.41394708e+01, 1.99924635e+02, 9.29517290e+00, 2.34551490e-01,\n",
       "         5.48544555e-01],\n",
       "        [1.44751283e+01, 2.09529338e+02, 9.78917333e+00, 2.52270325e-01,\n",
       "         5.25769202e-01],\n",
       "        [1.48295649e+01, 2.19915996e+02, 1.02752017e+01, 2.68466500e-01,\n",
       "         5.01739367e-01],\n",
       "        [1.51169778e+01, 2.28523016e+02, 1.06013283e+01, 2.79706136e-01,\n",
       "         4.82378582e-01],\n",
       "        [1.54146775e+01, 2.37612282e+02, 1.08821672e+01, 2.88112571e-01,\n",
       "         4.61754587e-01],\n",
       "        [1.57137883e+01, 2.46923144e+02, 1.11030553e+01, 2.93918456e-01,\n",
       "         4.40586276e-01],\n",
       "        [1.59114937e+01, 2.53175630e+02, 1.12495318e+01, 2.98082343e-01,\n",
       "         4.27000593e-01],\n",
       "        [1.61136572e+01, 2.59649948e+02, 1.14543764e+01, 3.02689760e-01,\n",
       "         4.13925398e-01]]])"
      ]
     },
     "execution_count": 3,
     "metadata": {},
     "output_type": "execute_result"
    }
   ],
   "source": [
    "np.load('Encoder_Decoder_5/validation_metric_dict_1.npy', allow_pickle=True)"
   ]
  }
 ],
 "metadata": {
  "kernelspec": {
   "display_name": "Python 3 (ipykernel)",
   "language": "python",
   "name": "python3"
  },
  "language_info": {
   "codemirror_mode": {
    "name": "ipython",
    "version": 3
   },
   "file_extension": ".py",
   "mimetype": "text/x-python",
   "name": "python",
   "nbconvert_exporter": "python",
   "pygments_lexer": "ipython3",
   "version": "3.9.7"
  }
 },
 "nbformat": 4,
 "nbformat_minor": 5
}
