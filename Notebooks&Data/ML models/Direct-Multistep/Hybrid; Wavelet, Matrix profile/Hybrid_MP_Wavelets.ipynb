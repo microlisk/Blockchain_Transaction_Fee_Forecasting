{
 "cells": [
  {
   "cell_type": "markdown",
   "id": "ed254beb-b30d-40dd-b1ab-1675290adaa0",
   "metadata": {},
   "source": [
    "# Hybrid Wavelets/MP"
   ]
  },
  {
   "cell_type": "markdown",
   "id": "273cf8a4-056b-49a8-8123-cc15d8f2f71b",
   "metadata": {},
   "source": [
    "We are training a seperate model for each timestep in the lookahead window\n",
    "\n",
    "We are denoising the input for each training example using wavelet threshold denoising, then computing the matrix profile\n",
    "\n",
    "Due to a coding slip, the matrix profile is flipped; this is adressed in the Hybrid_Mp_Wavelets-Fwd notebook"
   ]
  },
  {
   "cell_type": "markdown",
   "id": "586b442b-1c83-4c55-9ed1-db96823c1d8f",
   "metadata": {},
   "source": [
    "## Load data and functions"
   ]
  },
  {
   "cell_type": "code",
   "execution_count": 20,
   "id": "2243fdcb-c389-4556-be27-9373234fc591",
   "metadata": {},
   "outputs": [],
   "source": [
    "import pandas as pd\n",
    "import numpy as np\n",
    "from numpy import array\n",
    "from numpy import mean\n",
    "from numpy import std\n",
    "import tensorflow as tf\n",
    "from tensorflow import keras\n",
    "from keras import optimizers\n",
    "from keras.models import Sequential\n",
    "from keras import callbacks\n",
    "from tensorflow.keras.utils import plot_model\n",
    "from tensorflow.keras.layers import LSTM, Dense, Dropout, TimeDistributed, Conv1D, MaxPooling1D, Flatten, Bidirectional, Input, Flatten, Activation, Reshape, RepeatVector, Concatenate\n",
    "from tensorflow.keras.models import Model\n",
    "import matplotlib.pyplot as plt\n",
    "\n",
    "import datetime \n",
    "from datetime import timedelta\n",
    "from datetime import datetime\n",
    "import pywt\n",
    "import matrixprofile as mp"
   ]
  },
  {
   "cell_type": "code",
   "execution_count": 2,
   "id": "fd68e3ae-22e3-43af-b5e2-abdca3c87420",
   "metadata": {},
   "outputs": [],
   "source": [
    "def split_sequence(sequence, n_steps_in, n_steps_out, step_interval, n_step_lookahead):\n",
    "    X, y = list(), list()\n",
    "    example_count = int((len(sequence)/step_interval))\n",
    "    for i in range(example_count):\n",
    "        # find the end of this pattern\n",
    "        end_ix = (i*step_interval) + n_steps_in\n",
    "        out_start_ix = end_ix + n_step_lookahead -1\n",
    "        out_end_ix = end_ix + n_steps_out + n_step_lookahead -1\n",
    "        # check if we are beyond the sequence\n",
    "        if out_end_ix > len(sequence):\n",
    "            break\n",
    "        # gather input and output parts of the pattern\n",
    "        seq_x, seq_y = sequence[(i*step_interval):end_ix], sequence[out_start_ix:out_end_ix]\n",
    "        X.append(seq_x)\n",
    "        y.append(seq_y)\n",
    "    return array(X), array(y)"
   ]
  },
  {
   "cell_type": "code",
   "execution_count": 3,
   "id": "479cb03e-33f8-4df8-afe6-82b2351713ed",
   "metadata": {},
   "outputs": [
    {
     "data": {
      "text/plain": [
       "(array([[0, 1, 2, 3, 4],\n",
       "        [1, 2, 3, 4, 5],\n",
       "        [2, 3, 4, 5, 6],\n",
       "        [3, 4, 5, 6, 7]]),\n",
       " array([[ 9],\n",
       "        [10],\n",
       "        [11],\n",
       "        [12]]))"
      ]
     },
     "execution_count": 3,
     "metadata": {},
     "output_type": "execute_result"
    }
   ],
   "source": [
    "#To demonstrate above function\n",
    "sequence = range(0,13)\n",
    "n_steps_in = 1\n",
    "n_steps_in = 5\n",
    "n_steps_out =1\n",
    "step_interval =1\n",
    "n_step_lookahead=5\n",
    "split_sequence(sequence, n_steps_in, n_steps_out, step_interval, n_step_lookahead)"
   ]
  },
  {
   "cell_type": "code",
   "execution_count": 4,
   "id": "71242122-b9c7-4b3e-8bad-7f44d1f0a345",
   "metadata": {},
   "outputs": [],
   "source": [
    "percentile_data = pd.read_csv (r'C:\\Users/conal/Desktop/MCM/Practicum - Copy/data/block gas price percentile data.csv', header=0)\n",
    "percentile_data['datetime'] = pd.to_datetime(percentile_data['block_timestamp'], format = '%Y-%m-%d %H:%M:%S UTC')\n",
    "\n",
    "percentile_data = percentile_data.sort_values(by='datetime',ascending=False)\n",
    "percentile_data = percentile_data.set_index('datetime')\n",
    "percentile_data = percentile_data.resample('5T').mean()\n",
    "percentile_data = percentile_data/1000000000"
   ]
  },
  {
   "cell_type": "code",
   "execution_count": 5,
   "id": "addfff7a-1ca9-4e3c-b832-ef9531018074",
   "metadata": {},
   "outputs": [],
   "source": [
    "usage_data = pd.read_csv (r'C:\\Users\\conal\\Desktop\\MCM\\Practicum - Copy\\data\\ETH,gas,usage merged 11-26 to 05-26.csv', header=0)\n",
    "usage_data['datetime'] = pd.to_datetime(usage_data['datetime'], format = '%Y-%m-%d %H:%M:%S')\n",
    "usage_data = usage_data.set_index('datetime')\n",
    "\n",
    "usage_data = usage_data.squeeze()\n",
    "usage_data = usage_data.astype('float')\n",
    "usage_data = usage_data.resample('5T').mean()"
   ]
  },
  {
   "cell_type": "code",
   "execution_count": 6,
   "id": "6249d6f0-1245-44dc-8b97-18b4efb26ed4",
   "metadata": {},
   "outputs": [],
   "source": [
    "usage_data2 = pd.read_csv (r'C:\\Users\\conal\\Desktop\\MCM\\Practicum - Copy\\data\\Contract counts 2021-11-26 to 2022-05-26.csv', header=0, index_col=0)\n",
    "usage_data2['datetime'] = pd.to_datetime(usage_data2['block_timestamp'], format = '%Y-%m-%d %H:%M:%S') \n",
    "usage_data2 = usage_data2.set_index('datetime')\n",
    "usage_data2 = usage_data2.drop(['block_timestamp'], axis=1)\n",
    "usage_data2 = usage_data2.squeeze()\n",
    "usage_data2 = usage_data2.astype('float')\n",
    "usage_data2 = usage_data2.resample('5T').sum()"
   ]
  },
  {
   "cell_type": "code",
   "execution_count": 7,
   "id": "ecd8d838-d20b-44b3-b500-60255a2a295f",
   "metadata": {},
   "outputs": [],
   "source": [
    "data = usage_data.merge(percentile_data, left_index=True, right_index=True)\n",
    "data = data.merge(usage_data2, left_index=True, right_index=True)"
   ]
  },
  {
   "cell_type": "markdown",
   "id": "9123a9bf",
   "metadata": {},
   "source": [
    "Load data, datetime to index, downsample with left edge label, convert wei to gwei"
   ]
  },
  {
   "cell_type": "code",
   "execution_count": 8,
   "id": "ac449a8e",
   "metadata": {},
   "outputs": [],
   "source": [
    "def generate_training_val_examples_univariate_output(data):\n",
    " \n",
    "    #Filter inputs, standardize\n",
    "    data =data[inputs]\n",
    "    scaler = StandardScaler()\n",
    "    data[inputs] = scaler.fit_transform(data[inputs])\n",
    "    \n",
    "\n",
    "    #Creat input:output examples\n",
    "    data = data[start_date:end_date].to_numpy()\n",
    "    X, y = split_sequence(data, n_steps_in, n_steps_out, step_interval, n_step_lookahead)\n",
    "    \n",
    "    X_train, X_val = np.split(X, [int(0.7 * len(X))])\n",
    "    \n",
    "    y_train, y_val = np.split(y, [int(0.7 * len(X))])\n",
    "\n",
    "    \n",
    "    #Reshape to 3D for LSTM, filter output to only the first input\n",
    "    X_train = X_train.reshape((X_train.shape[0], X_train.shape[1], len(inputs)))\n",
    "    y_train =y_train.reshape((y_train.shape[0], y_train.shape[1], len(inputs)))[:,:,:1]\n",
    "    X_val = X_val.reshape((X_val.shape[0], X_val.shape[1], len(inputs)))\n",
    "    y_val = y_val.reshape((y_val.shape[0], y_val.shape[1], len(inputs)))[:,:,:1]\n",
    "\n",
    "    \n",
    "    return X_train, y_train, X_val, y_val, scaler\n"
   ]
  },
  {
   "cell_type": "code",
   "execution_count": 9,
   "id": "f5878928-c13c-4766-bcfe-2a6d1de3a51f",
   "metadata": {},
   "outputs": [],
   "source": [
    "from sklearn.preprocessing import MinMaxScaler\n",
    "from sklearn.preprocessing import StandardScaler\n",
    "from sklearn.metrics import r2_score\n",
    "from sklearn.metrics import mean_squared_error\n",
    "from sklearn.metrics import mean_absolute_error\n",
    "from sklearn.metrics import mean_absolute_percentage_error\n"
   ]
  },
  {
   "cell_type": "code",
   "execution_count": 10,
   "id": "464a45e7-5fd8-42b5-8d79-ca17e2da26c1",
   "metadata": {},
   "outputs": [],
   "source": [
    "def descale_y_retrun_metrics(yhat, y_val2):\n",
    "    #reverts standard scaling, returns dictionary of metrics for each output, for all lookaheads\n",
    "    dict_indexes=[]\n",
    "    dict_dfs=[]\n",
    "    for j in range(0, n_steps_out):\n",
    "        RMSE_list, MAE_list, MAPE_list, R2_list, MSE_list = [],[],[],[],[]\n",
    "        for i in range(0, len(inputs)):  \n",
    "            pred_descaled= (scaler.inverse_transform(yhat[:,j:j+1,:].reshape(yhat.shape[0], yhat.shape[2])))[:, i:i+1]\n",
    "            groud_truth_descaled= ((scaler.inverse_transform(y_val2[:,j:j+1,:].reshape(y_val2.shape[0], y_val2.shape[2]))))[:, i:i+1]\n",
    "            RMSE = mean_squared_error(groud_truth_descaled, pred_descaled, squared=False)\n",
    "            MSE = mean_squared_error(groud_truth_descaled, pred_descaled, squared=True)\n",
    "            MAE = mean_absolute_error(groud_truth_descaled, pred_descaled)\n",
    "            MAPE = mean_absolute_percentage_error(groud_truth_descaled, pred_descaled)\n",
    "            R2 = r2_score(groud_truth_descaled, pred_descaled)\n",
    "            RMSE_list.append(RMSE)\n",
    "            MAE_list.append(MAE)\n",
    "            MAPE_list.append(MAPE)\n",
    "            R2_list.append(R2)\n",
    "            MSE_list.append(MSE)\n",
    "        metrics_df = pd.DataFrame({'RMSE':RMSE_list, 'MSE':MSE_list, 'MAE':MAE_list, 'MAPE':MAPE_list, 'R2':R2_list}, index=inputs)\n",
    "        dict_dfs.append(metrics_df)\n",
    "        dict_indexes.append('Lookahead' +str(j))\n",
    "    metrics_dict = dict(zip(dict_indexes, dict_dfs))\n",
    "    return metrics_dict"
   ]
  },
  {
   "cell_type": "code",
   "execution_count": 11,
   "id": "56029e3c-602d-4fec-ae79-6988dcd5ae20",
   "metadata": {},
   "outputs": [],
   "source": [
    "def descale_y_retrun_metrics_univariate_y(yhat, y_val2):\n",
    "    #reverts standard scaling, returns dictionary of metrics for single output, for all lookaheads\n",
    "    dict_indexes=[]\n",
    "    dict_dfs=[]\n",
    "    RMSE_list, MAE_list, MAPE_list, R2_list, MSE_list = [],[],[],[],[]\n",
    "    for j in range(0, n_steps_out):\n",
    "        pred_descaled= scaler.inverse_transform(yhat)\n",
    "        groud_truth_descaled= scaler.inverse_transform(y_val2[:,0,])\n",
    "        RMSE = mean_squared_error(groud_truth_descaled, pred_descaled, squared=False)\n",
    "        MSE = mean_squared_error(groud_truth_descaled, pred_descaled, squared=True)\n",
    "        MAE = mean_absolute_error(groud_truth_descaled, pred_descaled)\n",
    "        MAPE = mean_absolute_percentage_error(groud_truth_descaled, pred_descaled)\n",
    "        R2 = r2_score(groud_truth_descaled, pred_descaled)\n",
    "        RMSE_list.append(RMSE)\n",
    "        MAE_list.append(MAE)\n",
    "        MAPE_list.append(MAPE)\n",
    "        R2_list.append(R2)\n",
    "        MSE_list.append(MSE)\n",
    "    metrics_df = pd.DataFrame({'RMSE':RMSE_list, 'MSE':MSE_list, 'MAE':MAE_list, 'MAPE':MAPE_list, 'R2':R2_list}, index=range(1, (n_steps_out+1)))\n",
    "\n",
    " \n",
    "    return metrics_df"
   ]
  },
  {
   "cell_type": "code",
   "execution_count": 26,
   "id": "59d345e1-b61a-4ca0-a546-5d11c2ae299a",
   "metadata": {},
   "outputs": [],
   "source": [
    "def LSTM_model():\n",
    "    checkpoint_filepath='./Hybrid Univarite2/'\n",
    "    model_checkpoint_callback = keras.callbacks.ModelCheckpoint(\n",
    "    filepath=checkpoint_filepath,\n",
    "    save_weights_only=True,\n",
    "    monitor='val_loss',\n",
    "    mode='min',\n",
    "    save_best_only=True)\n",
    "    \n",
    "    model = Sequential()\n",
    "    model.add(LSTM(units =15,activation='tanh',input_shape=((n_steps_in-288), len(inputs)+1),dropout=0.01))\n",
    "    model.add(Dense(n_steps_out))\n",
    "    model.compile(optimizer='adam', loss='mse')\n",
    "    return model, model_checkpoint_callback, checkpoint_filepath"
   ]
  },
  {
   "cell_type": "code",
   "execution_count": 13,
   "id": "ce803b83-8425-4a45-976f-9641e615c78f",
   "metadata": {},
   "outputs": [],
   "source": [
    "def add_mp_reversed(data, window):\n",
    "    #Given 3d array, add matrix profile of (x,y,0) as new dimension; new array has dimensiosn (x,y,z+1) \n",
    "    mp_list=[]\n",
    "    for i in data[:,:,0]:\n",
    "        profile = mp.compute(np.flip(i, axis=0), window, n_jobs=4)['mp']\n",
    "        #we are padding the end of the sequence with the mean\n",
    "        #matrix profile is always 1 full window size smalelr than input data\n",
    "        mp_list.append(np.append(profile,([mean(profile)]*(data.shape[1]-len(profile)))))\n",
    "        \n",
    "    #concatenate matrix profile data with original    \n",
    "    mp_array = np.array(mp_list).reshape(data.shape[0], data.shape[1])\n",
    "    std_array = ((mp_array-mean(mp_array))/np.std(mp_array)).reshape(data.shape[0], data.shape[1],1)\n",
    "    data = np.concatenate((data, std_array), axis=2)[:, window:, :]\n",
    "    \n",
    "    return data"
   ]
  },
  {
   "cell_type": "code",
   "execution_count": 14,
   "id": "8db1b93e-d9b2-436a-89de-a514649d19ad",
   "metadata": {},
   "outputs": [],
   "source": [
    "def madev(d, axis=None):\n",
    "    \"\"\" Mean absolute deviation of a signal \"\"\"\n",
    "    return np.mean(np.absolute(d - np.mean(d, axis)), axis)"
   ]
  },
  {
   "cell_type": "code",
   "execution_count": 15,
   "id": "cfec6ee1-1e73-439b-88f7-b6288abd3995",
   "metadata": {},
   "outputs": [],
   "source": [
    "def wavelet_denoising(x, wavelet='db4', level=2, tmod=1):\n",
    "    \n",
    "    coeff = pywt.wavedec(x, wavelet, mode=\"per\")\n",
    "    sigma = (1/tmod) * madev(coeff[-level])\n",
    "    uthresh = sigma * np.sqrt(3 * np.log(len(x)))\n",
    "    coeff[1:] = (pywt.threshold(i, value=uthresh, mode='hard') for i in coeff[1:])\n",
    "    return pywt.waverec(coeff, wavelet, mode='per')"
   ]
  },
  {
   "cell_type": "code",
   "execution_count": 16,
   "id": "013a8782-039b-4440-87fb-65a1f7e713c6",
   "metadata": {},
   "outputs": [],
   "source": [
    "def denoise_array(data, variable, wavelet, level, tmod):\n",
    "    denoised_examples=[]\n",
    "    for i in (data[:,:,variable]):\n",
    "        \n",
    "        denoised_examples.append(wavelet_denoising(i, wavelet=wavelet, level=level, tmod=tmod))\n",
    "        denoised_array= np.array(denoised_examples)\n",
    "        denoised_array= denoised_array.reshape(denoised_array.shape[0], denoised_array.shape[1], 1)\n",
    "    return np.concatenate((denoised_array, data[:,:,1:]),axis=2)"
   ]
  },
  {
   "cell_type": "markdown",
   "id": "40ce56c3-10e8-4768-bfca-ebb0d262af5a",
   "metadata": {},
   "source": [
    "## Training loop; Hybrid + MP(reversed)"
   ]
  },
  {
   "cell_type": "code",
   "execution_count": 27,
   "id": "d85f0a74-b6c8-4ba0-aca0-8b2774d56f21",
   "metadata": {
    "collapsed": true,
    "jupyter": {
     "outputs_hidden": true
    },
    "tags": []
   },
   "outputs": [
    {
     "name": "stderr",
     "output_type": "stream",
     "text": [
      "D:\\Anaconda\\lib\\site-packages\\pandas\\core\\frame.py:3678: SettingWithCopyWarning: \n",
      "A value is trying to be set on a copy of a slice from a DataFrame.\n",
      "Try using .loc[row_indexer,col_indexer] = value instead\n",
      "\n",
      "See the caveats in the documentation: https://pandas.pydata.org/pandas-docs/stable/user_guide/indexing.html#returning-a-view-versus-a-copy\n",
      "  self[col] = igetitem(value, i)\n"
     ]
    },
    {
     "name": "stdout",
     "output_type": "stream",
     "text": [
      "Epoch 1/15\n",
      "145/145 [==============================] - 15s 62ms/step - loss: 0.3644 - val_loss: 0.0423\n",
      "Epoch 2/15\n",
      "145/145 [==============================] - 8s 57ms/step - loss: 0.3063 - val_loss: 0.0385\n",
      "Epoch 3/15\n",
      "145/145 [==============================] - 8s 58ms/step - loss: 0.2703 - val_loss: 0.0359\n",
      "Epoch 4/15\n",
      "145/145 [==============================] - 8s 58ms/step - loss: 0.2474 - val_loss: 0.0333\n",
      "Epoch 5/15\n",
      "145/145 [==============================] - 8s 58ms/step - loss: 0.2301 - val_loss: 0.0321\n",
      "Epoch 6/15\n",
      "145/145 [==============================] - 8s 58ms/step - loss: 0.2175 - val_loss: 0.0301\n",
      "Epoch 7/15\n",
      "145/145 [==============================] - 8s 58ms/step - loss: 0.2080 - val_loss: 0.0290\n",
      "Epoch 8/15\n",
      "145/145 [==============================] - 9s 59ms/step - loss: 0.2007 - val_loss: 0.0294\n",
      "Epoch 9/15\n",
      "145/145 [==============================] - 8s 58ms/step - loss: 0.1973 - val_loss: 0.0281\n",
      "Epoch 10/15\n",
      "145/145 [==============================] - 8s 58ms/step - loss: 0.1922 - val_loss: 0.0281\n",
      "Epoch 11/15\n",
      "145/145 [==============================] - 8s 58ms/step - loss: 0.1908 - val_loss: 0.0300\n",
      "Epoch 12/15\n",
      "145/145 [==============================] - 8s 57ms/step - loss: 0.1882 - val_loss: 0.0304\n",
      "Epoch 13/15\n",
      "145/145 [==============================] - 8s 58ms/step - loss: 0.1851 - val_loss: 0.0293\n",
      "Epoch 14/15\n",
      "145/145 [==============================] - 8s 57ms/step - loss: 0.1897 - val_loss: 0.0292\n",
      "Epoch 15/15\n",
      "145/145 [==============================] - 8s 57ms/step - loss: 0.1831 - val_loss: 0.0299\n"
     ]
    },
    {
     "name": "stderr",
     "output_type": "stream",
     "text": [
      "WARNING:absl:Found untraced functions such as lstm_cell_3_layer_call_fn, lstm_cell_3_layer_call_and_return_conditional_losses while saving (showing 2 of 2). These functions will not be directly callable after loading.\n"
     ]
    },
    {
     "name": "stdout",
     "output_type": "stream",
     "text": [
      "INFO:tensorflow:Assets written to: Hybrid MP/month0_1_step_lookahead_Hybrid\\assets\n"
     ]
    },
    {
     "name": "stderr",
     "output_type": "stream",
     "text": [
      "INFO:tensorflow:Assets written to: Hybrid MP/month0_1_step_lookahead_Hybrid\\assets\n",
      "WARNING:absl:<keras.layers.recurrent.LSTMCell object at 0x000002079B0D4850> has the same name 'LSTMCell' as a built-in Keras object. Consider renaming <class 'keras.layers.recurrent.LSTMCell'> to avoid naming conflicts when loading with `tf.keras.models.load_model`. If renaming is not possible, pass the object in the `custom_objects` parameter of the load function.\n"
     ]
    },
    {
     "name": "stdout",
     "output_type": "stream",
     "text": [
      "145/145 [==============================] - 4s 23ms/step\n",
      "63/63 [==============================] - 1s 21ms/step\n"
     ]
    },
    {
     "name": "stderr",
     "output_type": "stream",
     "text": [
      "D:\\Anaconda\\lib\\site-packages\\pandas\\core\\frame.py:3678: SettingWithCopyWarning: \n",
      "A value is trying to be set on a copy of a slice from a DataFrame.\n",
      "Try using .loc[row_indexer,col_indexer] = value instead\n",
      "\n",
      "See the caveats in the documentation: https://pandas.pydata.org/pandas-docs/stable/user_guide/indexing.html#returning-a-view-versus-a-copy\n",
      "  self[col] = igetitem(value, i)\n"
     ]
    },
    {
     "name": "stdout",
     "output_type": "stream",
     "text": [
      "Epoch 1/15\n",
      "145/145 [==============================] - 11s 61ms/step - loss: 0.4250 - val_loss: 0.0545\n",
      "Epoch 2/15\n",
      "145/145 [==============================] - 8s 58ms/step - loss: 0.3439 - val_loss: 0.0535\n",
      "Epoch 3/15\n",
      "145/145 [==============================] - 8s 59ms/step - loss: 0.3233 - val_loss: 0.0487\n",
      "Epoch 4/15\n",
      "145/145 [==============================] - 9s 62ms/step - loss: 0.3128 - val_loss: 0.0477\n",
      "Epoch 5/15\n",
      "145/145 [==============================] - 9s 60ms/step - loss: 0.3063 - val_loss: 0.0590\n",
      "Epoch 6/15\n",
      "145/145 [==============================] - 9s 59ms/step - loss: 0.2998 - val_loss: 0.0467\n",
      "Epoch 7/15\n",
      "145/145 [==============================] - 9s 61ms/step - loss: 0.2990 - val_loss: 0.0488\n",
      "Epoch 8/15\n",
      "145/145 [==============================] - 8s 56ms/step - loss: 0.2932 - val_loss: 0.0468\n",
      "Epoch 9/15\n",
      "145/145 [==============================] - 8s 55ms/step - loss: 0.2895 - val_loss: 0.0518\n",
      "Epoch 10/15\n",
      "145/145 [==============================] - 8s 54ms/step - loss: 0.2860 - val_loss: 0.0449\n",
      "Epoch 11/15\n",
      "145/145 [==============================] - 8s 54ms/step - loss: 0.2868 - val_loss: 0.0460\n",
      "Epoch 12/15\n",
      "145/145 [==============================] - 8s 53ms/step - loss: 0.2863 - val_loss: 0.0470\n",
      "Epoch 13/15\n",
      "145/145 [==============================] - 8s 54ms/step - loss: 0.2812 - val_loss: 0.0528\n",
      "Epoch 14/15\n",
      "145/145 [==============================] - 8s 53ms/step - loss: 0.2779 - val_loss: 0.0453\n",
      "Epoch 15/15\n",
      "145/145 [==============================] - 8s 54ms/step - loss: 0.2760 - val_loss: 0.0514\n"
     ]
    },
    {
     "name": "stderr",
     "output_type": "stream",
     "text": [
      "WARNING:absl:Found untraced functions such as lstm_cell_4_layer_call_fn, lstm_cell_4_layer_call_and_return_conditional_losses while saving (showing 2 of 2). These functions will not be directly callable after loading.\n"
     ]
    },
    {
     "name": "stdout",
     "output_type": "stream",
     "text": [
      "INFO:tensorflow:Assets written to: Hybrid MP/month0_2_step_lookahead_Hybrid\\assets\n"
     ]
    },
    {
     "name": "stderr",
     "output_type": "stream",
     "text": [
      "INFO:tensorflow:Assets written to: Hybrid MP/month0_2_step_lookahead_Hybrid\\assets\n",
      "WARNING:absl:<keras.layers.recurrent.LSTMCell object at 0x0000020ADE3755E0> has the same name 'LSTMCell' as a built-in Keras object. Consider renaming <class 'keras.layers.recurrent.LSTMCell'> to avoid naming conflicts when loading with `tf.keras.models.load_model`. If renaming is not possible, pass the object in the `custom_objects` parameter of the load function.\n"
     ]
    },
    {
     "name": "stdout",
     "output_type": "stream",
     "text": [
      "145/145 [==============================] - 4s 25ms/step\n",
      "63/63 [==============================] - 1s 20ms/step\n"
     ]
    },
    {
     "name": "stderr",
     "output_type": "stream",
     "text": [
      "D:\\Anaconda\\lib\\site-packages\\pandas\\core\\frame.py:3678: SettingWithCopyWarning: \n",
      "A value is trying to be set on a copy of a slice from a DataFrame.\n",
      "Try using .loc[row_indexer,col_indexer] = value instead\n",
      "\n",
      "See the caveats in the documentation: https://pandas.pydata.org/pandas-docs/stable/user_guide/indexing.html#returning-a-view-versus-a-copy\n",
      "  self[col] = igetitem(value, i)\n"
     ]
    },
    {
     "name": "stdout",
     "output_type": "stream",
     "text": [
      "Epoch 1/15\n",
      "145/145 [==============================] - 11s 63ms/step - loss: 0.3848 - val_loss: 0.0508\n",
      "Epoch 2/15\n",
      "145/145 [==============================] - 8s 56ms/step - loss: 0.3496 - val_loss: 0.0474\n",
      "Epoch 3/15\n",
      "145/145 [==============================] - 8s 56ms/step - loss: 0.3383 - val_loss: 0.0471\n",
      "Epoch 4/15\n",
      "145/145 [==============================] - 8s 56ms/step - loss: 0.3319 - val_loss: 0.0466\n",
      "Epoch 5/15\n",
      "145/145 [==============================] - 8s 56ms/step - loss: 0.3278 - val_loss: 0.0497\n",
      "Epoch 6/15\n",
      "145/145 [==============================] - 8s 57ms/step - loss: 0.3239 - val_loss: 0.0525\n",
      "Epoch 7/15\n",
      "145/145 [==============================] - 8s 56ms/step - loss: 0.3242 - val_loss: 0.0454\n",
      "Epoch 8/15\n",
      "145/145 [==============================] - 8s 57ms/step - loss: 0.3224 - val_loss: 0.0492\n",
      "Epoch 9/15\n",
      "145/145 [==============================] - 8s 56ms/step - loss: 0.3154 - val_loss: 0.0473\n",
      "Epoch 10/15\n",
      "145/145 [==============================] - 8s 56ms/step - loss: 0.3129 - val_loss: 0.0453\n",
      "Epoch 11/15\n",
      "145/145 [==============================] - 8s 56ms/step - loss: 0.3119 - val_loss: 0.0465\n",
      "Epoch 12/15\n",
      "145/145 [==============================] - 8s 56ms/step - loss: 0.3081 - val_loss: 0.0456\n",
      "Epoch 13/15\n",
      "145/145 [==============================] - 8s 56ms/step - loss: 0.3083 - val_loss: 0.0458\n",
      "Epoch 14/15\n",
      "145/145 [==============================] - 8s 56ms/step - loss: 0.3067 - val_loss: 0.0455\n",
      "Epoch 15/15\n",
      "145/145 [==============================] - 8s 58ms/step - loss: 0.3055 - val_loss: 0.0475\n"
     ]
    },
    {
     "name": "stderr",
     "output_type": "stream",
     "text": [
      "WARNING:absl:Found untraced functions such as lstm_cell_5_layer_call_fn, lstm_cell_5_layer_call_and_return_conditional_losses while saving (showing 2 of 2). These functions will not be directly callable after loading.\n"
     ]
    },
    {
     "name": "stdout",
     "output_type": "stream",
     "text": [
      "INFO:tensorflow:Assets written to: Hybrid MP/month0_3_step_lookahead_Hybrid\\assets\n"
     ]
    },
    {
     "name": "stderr",
     "output_type": "stream",
     "text": [
      "INFO:tensorflow:Assets written to: Hybrid MP/month0_3_step_lookahead_Hybrid\\assets\n",
      "WARNING:absl:<keras.layers.recurrent.LSTMCell object at 0x00000207ACE44EB0> has the same name 'LSTMCell' as a built-in Keras object. Consider renaming <class 'keras.layers.recurrent.LSTMCell'> to avoid naming conflicts when loading with `tf.keras.models.load_model`. If renaming is not possible, pass the object in the `custom_objects` parameter of the load function.\n"
     ]
    },
    {
     "name": "stdout",
     "output_type": "stream",
     "text": [
      "145/145 [==============================] - 3s 21ms/step\n",
      "63/63 [==============================] - 1s 20ms/step\n"
     ]
    },
    {
     "name": "stderr",
     "output_type": "stream",
     "text": [
      "D:\\Anaconda\\lib\\site-packages\\pandas\\core\\frame.py:3678: SettingWithCopyWarning: \n",
      "A value is trying to be set on a copy of a slice from a DataFrame.\n",
      "Try using .loc[row_indexer,col_indexer] = value instead\n",
      "\n",
      "See the caveats in the documentation: https://pandas.pydata.org/pandas-docs/stable/user_guide/indexing.html#returning-a-view-versus-a-copy\n",
      "  self[col] = igetitem(value, i)\n"
     ]
    },
    {
     "name": "stdout",
     "output_type": "stream",
     "text": [
      "Epoch 1/15\n",
      "145/145 [==============================] - 11s 61ms/step - loss: 0.4263 - val_loss: 0.0519\n",
      "Epoch 2/15\n",
      "145/145 [==============================] - 8s 58ms/step - loss: 0.3597 - val_loss: 0.0490\n",
      "Epoch 3/15\n",
      "145/145 [==============================] - 8s 58ms/step - loss: 0.3492 - val_loss: 0.0491\n",
      "Epoch 4/15\n",
      "145/145 [==============================] - 8s 58ms/step - loss: 0.3441 - val_loss: 0.0479\n",
      "Epoch 5/15\n",
      "145/145 [==============================] - 8s 58ms/step - loss: 0.3391 - val_loss: 0.0469\n",
      "Epoch 6/15\n",
      "145/145 [==============================] - 8s 57ms/step - loss: 0.3394 - val_loss: 0.0494\n",
      "Epoch 7/15\n",
      "145/145 [==============================] - 8s 57ms/step - loss: 0.3330 - val_loss: 0.0551\n",
      "Epoch 8/15\n",
      "145/145 [==============================] - 8s 57ms/step - loss: 0.3324 - val_loss: 0.0505\n",
      "Epoch 9/15\n",
      "145/145 [==============================] - 8s 57ms/step - loss: 0.3280 - val_loss: 0.0515\n",
      "Epoch 10/15\n",
      "145/145 [==============================] - 8s 57ms/step - loss: 0.3249 - val_loss: 0.0581\n",
      "Epoch 11/15\n",
      "145/145 [==============================] - 8s 58ms/step - loss: 0.3235 - val_loss: 0.0538\n",
      "Epoch 12/15\n",
      "145/145 [==============================] - 8s 57ms/step - loss: 0.3205 - val_loss: 0.0564\n",
      "Epoch 13/15\n",
      "145/145 [==============================] - 9s 59ms/step - loss: 0.3165 - val_loss: 0.0562\n",
      "Epoch 14/15\n",
      "145/145 [==============================] - 8s 55ms/step - loss: 0.3159 - val_loss: 0.0553\n",
      "Epoch 15/15\n",
      "145/145 [==============================] - 8s 53ms/step - loss: 0.3137 - val_loss: 0.0562\n"
     ]
    },
    {
     "name": "stderr",
     "output_type": "stream",
     "text": [
      "WARNING:absl:Found untraced functions such as lstm_cell_6_layer_call_fn, lstm_cell_6_layer_call_and_return_conditional_losses while saving (showing 2 of 2). These functions will not be directly callable after loading.\n"
     ]
    },
    {
     "name": "stdout",
     "output_type": "stream",
     "text": [
      "INFO:tensorflow:Assets written to: Hybrid MP/month0_4_step_lookahead_Hybrid\\assets\n"
     ]
    },
    {
     "name": "stderr",
     "output_type": "stream",
     "text": [
      "INFO:tensorflow:Assets written to: Hybrid MP/month0_4_step_lookahead_Hybrid\\assets\n",
      "WARNING:absl:<keras.layers.recurrent.LSTMCell object at 0x0000020A68DA1DC0> has the same name 'LSTMCell' as a built-in Keras object. Consider renaming <class 'keras.layers.recurrent.LSTMCell'> to avoid naming conflicts when loading with `tf.keras.models.load_model`. If renaming is not possible, pass the object in the `custom_objects` parameter of the load function.\n"
     ]
    },
    {
     "name": "stdout",
     "output_type": "stream",
     "text": [
      "145/145 [==============================] - 4s 22ms/step\n",
      "63/63 [==============================] - 1s 19ms/step\n"
     ]
    },
    {
     "name": "stderr",
     "output_type": "stream",
     "text": [
      "D:\\Anaconda\\lib\\site-packages\\pandas\\core\\frame.py:3678: SettingWithCopyWarning: \n",
      "A value is trying to be set on a copy of a slice from a DataFrame.\n",
      "Try using .loc[row_indexer,col_indexer] = value instead\n",
      "\n",
      "See the caveats in the documentation: https://pandas.pydata.org/pandas-docs/stable/user_guide/indexing.html#returning-a-view-versus-a-copy\n",
      "  self[col] = igetitem(value, i)\n"
     ]
    },
    {
     "name": "stdout",
     "output_type": "stream",
     "text": [
      "Epoch 1/15\n",
      "145/145 [==============================] - 11s 61ms/step - loss: 0.4432 - val_loss: 0.0713\n",
      "Epoch 2/15\n",
      "145/145 [==============================] - 8s 55ms/step - loss: 0.3765 - val_loss: 0.0555\n",
      "Epoch 3/15\n",
      "145/145 [==============================] - 8s 53ms/step - loss: 0.3635 - val_loss: 0.0578\n",
      "Epoch 4/15\n",
      "145/145 [==============================] - 8s 53ms/step - loss: 0.3565 - val_loss: 0.0636\n",
      "Epoch 5/15\n",
      "145/145 [==============================] - 8s 54ms/step - loss: 0.3541 - val_loss: 0.0590\n",
      "Epoch 6/15\n",
      "145/145 [==============================] - 8s 54ms/step - loss: 0.3496 - val_loss: 0.0649\n",
      "Epoch 7/15\n",
      "145/145 [==============================] - 8s 54ms/step - loss: 0.3467 - val_loss: 0.0624\n",
      "Epoch 8/15\n",
      "145/145 [==============================] - 8s 53ms/step - loss: 0.3454 - val_loss: 0.0588\n",
      "Epoch 9/15\n",
      "145/145 [==============================] - 8s 53ms/step - loss: 0.3433 - val_loss: 0.0605\n",
      "Epoch 10/15\n",
      "145/145 [==============================] - 8s 54ms/step - loss: 0.3422 - val_loss: 0.0627\n",
      "Epoch 11/15\n",
      "145/145 [==============================] - 8s 54ms/step - loss: 0.3428 - val_loss: 0.0579\n",
      "Epoch 12/15\n",
      "145/145 [==============================] - 8s 53ms/step - loss: 0.3357 - val_loss: 0.0621\n",
      "Epoch 13/15\n",
      "145/145 [==============================] - 8s 54ms/step - loss: 0.3356 - val_loss: 0.0671\n",
      "Epoch 14/15\n",
      "145/145 [==============================] - 8s 54ms/step - loss: 0.3370 - val_loss: 0.0613\n",
      "Epoch 15/15\n",
      "145/145 [==============================] - 8s 54ms/step - loss: 0.3260 - val_loss: 0.0633\n"
     ]
    },
    {
     "name": "stderr",
     "output_type": "stream",
     "text": [
      "WARNING:absl:Found untraced functions such as lstm_cell_7_layer_call_fn, lstm_cell_7_layer_call_and_return_conditional_losses while saving (showing 2 of 2). These functions will not be directly callable after loading.\n"
     ]
    },
    {
     "name": "stdout",
     "output_type": "stream",
     "text": [
      "INFO:tensorflow:Assets written to: Hybrid MP/month0_5_step_lookahead_Hybrid\\assets\n"
     ]
    },
    {
     "name": "stderr",
     "output_type": "stream",
     "text": [
      "INFO:tensorflow:Assets written to: Hybrid MP/month0_5_step_lookahead_Hybrid\\assets\n",
      "WARNING:absl:<keras.layers.recurrent.LSTMCell object at 0x00000207B9AD90A0> has the same name 'LSTMCell' as a built-in Keras object. Consider renaming <class 'keras.layers.recurrent.LSTMCell'> to avoid naming conflicts when loading with `tf.keras.models.load_model`. If renaming is not possible, pass the object in the `custom_objects` parameter of the load function.\n"
     ]
    },
    {
     "name": "stdout",
     "output_type": "stream",
     "text": [
      "145/145 [==============================] - 3s 21ms/step\n",
      "63/63 [==============================] - 1s 19ms/step\n"
     ]
    },
    {
     "name": "stderr",
     "output_type": "stream",
     "text": [
      "D:\\Anaconda\\lib\\site-packages\\pandas\\core\\frame.py:3678: SettingWithCopyWarning: \n",
      "A value is trying to be set on a copy of a slice from a DataFrame.\n",
      "Try using .loc[row_indexer,col_indexer] = value instead\n",
      "\n",
      "See the caveats in the documentation: https://pandas.pydata.org/pandas-docs/stable/user_guide/indexing.html#returning-a-view-versus-a-copy\n",
      "  self[col] = igetitem(value, i)\n"
     ]
    },
    {
     "name": "stdout",
     "output_type": "stream",
     "text": [
      "Epoch 1/15\n",
      "145/145 [==============================] - 11s 57ms/step - loss: 0.4533 - val_loss: 0.0564\n",
      "Epoch 2/15\n",
      "145/145 [==============================] - 8s 54ms/step - loss: 0.3794 - val_loss: 0.0570\n",
      "Epoch 3/15\n",
      "145/145 [==============================] - 8s 53ms/step - loss: 0.3695 - val_loss: 0.0601\n",
      "Epoch 4/15\n",
      "145/145 [==============================] - 8s 53ms/step - loss: 0.3651 - val_loss: 0.0561\n",
      "Epoch 5/15\n",
      "145/145 [==============================] - 8s 54ms/step - loss: 0.3611 - val_loss: 0.0604\n",
      "Epoch 6/15\n",
      "145/145 [==============================] - 8s 57ms/step - loss: 0.3606 - val_loss: 0.0565\n",
      "Epoch 7/15\n",
      "145/145 [==============================] - 8s 53ms/step - loss: 0.3586 - val_loss: 0.0607\n",
      "Epoch 8/15\n",
      "145/145 [==============================] - 8s 57ms/step - loss: 0.3567 - val_loss: 0.0581\n",
      "Epoch 9/15\n",
      "145/145 [==============================] - 8s 52ms/step - loss: 0.3523 - val_loss: 0.0562\n",
      "Epoch 10/15\n",
      "145/145 [==============================] - 8s 55ms/step - loss: 0.3567 - val_loss: 0.0628\n",
      "Epoch 11/15\n",
      "145/145 [==============================] - 8s 53ms/step - loss: 0.3561 - val_loss: 0.0608\n",
      "Epoch 12/15\n",
      "145/145 [==============================] - 8s 52ms/step - loss: 0.3572 - val_loss: 0.0566\n",
      "Epoch 13/15\n",
      "145/145 [==============================] - 8s 52ms/step - loss: 0.3551 - val_loss: 0.0586\n",
      "Epoch 14/15\n",
      "145/145 [==============================] - 8s 52ms/step - loss: 0.3557 - val_loss: 0.0675\n",
      "Epoch 15/15\n",
      "145/145 [==============================] - 8s 52ms/step - loss: 0.3528 - val_loss: 0.0663\n"
     ]
    },
    {
     "name": "stderr",
     "output_type": "stream",
     "text": [
      "WARNING:absl:Found untraced functions such as lstm_cell_8_layer_call_fn, lstm_cell_8_layer_call_and_return_conditional_losses while saving (showing 2 of 2). These functions will not be directly callable after loading.\n"
     ]
    },
    {
     "name": "stdout",
     "output_type": "stream",
     "text": [
      "INFO:tensorflow:Assets written to: Hybrid MP/month0_6_step_lookahead_Hybrid\\assets\n"
     ]
    },
    {
     "name": "stderr",
     "output_type": "stream",
     "text": [
      "INFO:tensorflow:Assets written to: Hybrid MP/month0_6_step_lookahead_Hybrid\\assets\n",
      "WARNING:absl:<keras.layers.recurrent.LSTMCell object at 0x0000020A68905550> has the same name 'LSTMCell' as a built-in Keras object. Consider renaming <class 'keras.layers.recurrent.LSTMCell'> to avoid naming conflicts when loading with `tf.keras.models.load_model`. If renaming is not possible, pass the object in the `custom_objects` parameter of the load function.\n"
     ]
    },
    {
     "name": "stdout",
     "output_type": "stream",
     "text": [
      "145/145 [==============================] - 3s 21ms/step\n",
      "63/63 [==============================] - 1s 19ms/step\n"
     ]
    },
    {
     "name": "stderr",
     "output_type": "stream",
     "text": [
      "D:\\Anaconda\\lib\\site-packages\\pandas\\core\\frame.py:3678: SettingWithCopyWarning: \n",
      "A value is trying to be set on a copy of a slice from a DataFrame.\n",
      "Try using .loc[row_indexer,col_indexer] = value instead\n",
      "\n",
      "See the caveats in the documentation: https://pandas.pydata.org/pandas-docs/stable/user_guide/indexing.html#returning-a-view-versus-a-copy\n",
      "  self[col] = igetitem(value, i)\n"
     ]
    },
    {
     "name": "stdout",
     "output_type": "stream",
     "text": [
      "Epoch 1/15\n",
      "145/145 [==============================] - 10s 56ms/step - loss: 0.4112 - val_loss: 0.0574\n",
      "Epoch 2/15\n",
      "145/145 [==============================] - 8s 52ms/step - loss: 0.3866 - val_loss: 0.0564\n",
      "Epoch 3/15\n",
      "145/145 [==============================] - 8s 52ms/step - loss: 0.3772 - val_loss: 0.0628\n",
      "Epoch 4/15\n",
      "145/145 [==============================] - 8s 52ms/step - loss: 0.3771 - val_loss: 0.0569\n",
      "Epoch 5/15\n",
      "145/145 [==============================] - 8s 53ms/step - loss: 0.3704 - val_loss: 0.0540\n",
      "Epoch 6/15\n",
      "145/145 [==============================] - 8s 52ms/step - loss: 0.3682 - val_loss: 0.0555\n",
      "Epoch 7/15\n",
      "145/145 [==============================] - 8s 52ms/step - loss: 0.3717 - val_loss: 0.0565\n",
      "Epoch 8/15\n",
      "145/145 [==============================] - 8s 52ms/step - loss: 0.3662 - val_loss: 0.0594\n",
      "Epoch 9/15\n",
      "145/145 [==============================] - 8s 52ms/step - loss: 0.3658 - val_loss: 0.0569\n",
      "Epoch 10/15\n",
      "145/145 [==============================] - 8s 52ms/step - loss: 0.3652 - val_loss: 0.0531\n",
      "Epoch 11/15\n",
      "145/145 [==============================] - 8s 52ms/step - loss: 0.3617 - val_loss: 0.0625\n",
      "Epoch 12/15\n",
      "145/145 [==============================] - 8s 52ms/step - loss: 0.3592 - val_loss: 0.0557\n",
      "Epoch 13/15\n",
      "145/145 [==============================] - 8s 52ms/step - loss: 0.3578 - val_loss: 0.0586\n",
      "Epoch 14/15\n",
      "145/145 [==============================] - 8s 52ms/step - loss: 0.3540 - val_loss: 0.0641\n",
      "Epoch 15/15\n",
      "145/145 [==============================] - 8s 52ms/step - loss: 0.3532 - val_loss: 0.0628\n"
     ]
    },
    {
     "name": "stderr",
     "output_type": "stream",
     "text": [
      "WARNING:absl:Found untraced functions such as lstm_cell_9_layer_call_fn, lstm_cell_9_layer_call_and_return_conditional_losses while saving (showing 2 of 2). These functions will not be directly callable after loading.\n"
     ]
    },
    {
     "name": "stdout",
     "output_type": "stream",
     "text": [
      "INFO:tensorflow:Assets written to: Hybrid MP/month0_7_step_lookahead_Hybrid\\assets\n"
     ]
    },
    {
     "name": "stderr",
     "output_type": "stream",
     "text": [
      "INFO:tensorflow:Assets written to: Hybrid MP/month0_7_step_lookahead_Hybrid\\assets\n",
      "WARNING:absl:<keras.layers.recurrent.LSTMCell object at 0x00000207B8F3D520> has the same name 'LSTMCell' as a built-in Keras object. Consider renaming <class 'keras.layers.recurrent.LSTMCell'> to avoid naming conflicts when loading with `tf.keras.models.load_model`. If renaming is not possible, pass the object in the `custom_objects` parameter of the load function.\n"
     ]
    },
    {
     "name": "stdout",
     "output_type": "stream",
     "text": [
      "145/145 [==============================] - 3s 21ms/step\n",
      "63/63 [==============================] - 1s 19ms/step\n"
     ]
    },
    {
     "name": "stderr",
     "output_type": "stream",
     "text": [
      "D:\\Anaconda\\lib\\site-packages\\pandas\\core\\frame.py:3678: SettingWithCopyWarning: \n",
      "A value is trying to be set on a copy of a slice from a DataFrame.\n",
      "Try using .loc[row_indexer,col_indexer] = value instead\n",
      "\n",
      "See the caveats in the documentation: https://pandas.pydata.org/pandas-docs/stable/user_guide/indexing.html#returning-a-view-versus-a-copy\n",
      "  self[col] = igetitem(value, i)\n"
     ]
    },
    {
     "name": "stdout",
     "output_type": "stream",
     "text": [
      "Epoch 1/15\n",
      "145/145 [==============================] - 10s 57ms/step - loss: 0.4076 - val_loss: 0.0584\n",
      "Epoch 2/15\n",
      "145/145 [==============================] - 8s 53ms/step - loss: 0.3832 - val_loss: 0.0585\n",
      "Epoch 3/15\n",
      "145/145 [==============================] - 8s 53ms/step - loss: 0.3824 - val_loss: 0.0592\n",
      "Epoch 4/15\n",
      "145/145 [==============================] - 8s 55ms/step - loss: 0.3782 - val_loss: 0.0548\n",
      "Epoch 5/15\n",
      "145/145 [==============================] - 8s 53ms/step - loss: 0.3771 - val_loss: 0.0617\n",
      "Epoch 6/15\n",
      "145/145 [==============================] - 8s 52ms/step - loss: 0.3765 - val_loss: 0.0568\n",
      "Epoch 7/15\n",
      "145/145 [==============================] - 8s 52ms/step - loss: 0.3753 - val_loss: 0.0580\n",
      "Epoch 8/15\n",
      "145/145 [==============================] - 8s 52ms/step - loss: 0.3782 - val_loss: 0.0555\n",
      "Epoch 9/15\n",
      "145/145 [==============================] - 8s 52ms/step - loss: 0.3748 - val_loss: 0.0560\n",
      "Epoch 10/15\n",
      "145/145 [==============================] - 8s 53ms/step - loss: 0.3734 - val_loss: 0.0599\n",
      "Epoch 11/15\n",
      "145/145 [==============================] - 8s 52ms/step - loss: 0.3717 - val_loss: 0.0577\n",
      "Epoch 12/15\n",
      "145/145 [==============================] - 8s 52ms/step - loss: 0.3716 - val_loss: 0.0573\n",
      "Epoch 13/15\n",
      "145/145 [==============================] - 8s 52ms/step - loss: 0.3740 - val_loss: 0.0608\n",
      "Epoch 14/15\n",
      "145/145 [==============================] - 8s 53ms/step - loss: 0.3718 - val_loss: 0.0571\n",
      "Epoch 15/15\n",
      "145/145 [==============================] - 8s 52ms/step - loss: 0.3724 - val_loss: 0.0593\n"
     ]
    },
    {
     "name": "stderr",
     "output_type": "stream",
     "text": [
      "WARNING:absl:Found untraced functions such as lstm_cell_10_layer_call_fn, lstm_cell_10_layer_call_and_return_conditional_losses while saving (showing 2 of 2). These functions will not be directly callable after loading.\n"
     ]
    },
    {
     "name": "stdout",
     "output_type": "stream",
     "text": [
      "INFO:tensorflow:Assets written to: Hybrid MP/month0_8_step_lookahead_Hybrid\\assets\n"
     ]
    },
    {
     "name": "stderr",
     "output_type": "stream",
     "text": [
      "INFO:tensorflow:Assets written to: Hybrid MP/month0_8_step_lookahead_Hybrid\\assets\n",
      "WARNING:absl:<keras.layers.recurrent.LSTMCell object at 0x00000207B9C236A0> has the same name 'LSTMCell' as a built-in Keras object. Consider renaming <class 'keras.layers.recurrent.LSTMCell'> to avoid naming conflicts when loading with `tf.keras.models.load_model`. If renaming is not possible, pass the object in the `custom_objects` parameter of the load function.\n"
     ]
    },
    {
     "name": "stdout",
     "output_type": "stream",
     "text": [
      "145/145 [==============================] - 3s 21ms/step\n",
      "63/63 [==============================] - 1s 19ms/step\n"
     ]
    },
    {
     "name": "stderr",
     "output_type": "stream",
     "text": [
      "D:\\Anaconda\\lib\\site-packages\\pandas\\core\\frame.py:3678: SettingWithCopyWarning: \n",
      "A value is trying to be set on a copy of a slice from a DataFrame.\n",
      "Try using .loc[row_indexer,col_indexer] = value instead\n",
      "\n",
      "See the caveats in the documentation: https://pandas.pydata.org/pandas-docs/stable/user_guide/indexing.html#returning-a-view-versus-a-copy\n",
      "  self[col] = igetitem(value, i)\n"
     ]
    },
    {
     "name": "stdout",
     "output_type": "stream",
     "text": [
      "Epoch 1/15\n",
      "145/145 [==============================] - 10s 57ms/step - loss: 0.4825 - val_loss: 0.0638\n",
      "Epoch 2/15\n",
      "145/145 [==============================] - 8s 53ms/step - loss: 0.4027 - val_loss: 0.0664\n",
      "Epoch 3/15\n",
      "145/145 [==============================] - 8s 52ms/step - loss: 0.3933 - val_loss: 0.0665\n",
      "Epoch 4/15\n",
      "145/145 [==============================] - 8s 52ms/step - loss: 0.3908 - val_loss: 0.0633\n",
      "Epoch 5/15\n",
      "145/145 [==============================] - 8s 52ms/step - loss: 0.3875 - val_loss: 0.0653\n",
      "Epoch 6/15\n",
      "145/145 [==============================] - 8s 52ms/step - loss: 0.3895 - val_loss: 0.0635\n",
      "Epoch 7/15\n",
      "145/145 [==============================] - 8s 52ms/step - loss: 0.3853 - val_loss: 0.0637\n",
      "Epoch 8/15\n",
      "145/145 [==============================] - 8s 52ms/step - loss: 0.3870 - val_loss: 0.0639\n",
      "Epoch 9/15\n",
      "145/145 [==============================] - 8s 52ms/step - loss: 0.3823 - val_loss: 0.0712\n",
      "Epoch 10/15\n",
      "145/145 [==============================] - 8s 52ms/step - loss: 0.3823 - val_loss: 0.0763\n",
      "Epoch 11/15\n",
      "145/145 [==============================] - 8s 52ms/step - loss: 0.3808 - val_loss: 0.0713\n",
      "Epoch 12/15\n",
      "145/145 [==============================] - 8s 52ms/step - loss: 0.3810 - val_loss: 0.0747\n",
      "Epoch 13/15\n",
      "145/145 [==============================] - 8s 52ms/step - loss: 0.3804 - val_loss: 0.0675\n",
      "Epoch 14/15\n",
      "145/145 [==============================] - 8s 52ms/step - loss: 0.3790 - val_loss: 0.0728\n",
      "Epoch 15/15\n",
      "145/145 [==============================] - 8s 52ms/step - loss: 0.3784 - val_loss: 0.0704\n"
     ]
    },
    {
     "name": "stderr",
     "output_type": "stream",
     "text": [
      "WARNING:absl:Found untraced functions such as lstm_cell_11_layer_call_fn, lstm_cell_11_layer_call_and_return_conditional_losses while saving (showing 2 of 2). These functions will not be directly callable after loading.\n"
     ]
    },
    {
     "name": "stdout",
     "output_type": "stream",
     "text": [
      "INFO:tensorflow:Assets written to: Hybrid MP/month0_9_step_lookahead_Hybrid\\assets\n"
     ]
    },
    {
     "name": "stderr",
     "output_type": "stream",
     "text": [
      "INFO:tensorflow:Assets written to: Hybrid MP/month0_9_step_lookahead_Hybrid\\assets\n",
      "WARNING:absl:<keras.layers.recurrent.LSTMCell object at 0x0000020A646E2070> has the same name 'LSTMCell' as a built-in Keras object. Consider renaming <class 'keras.layers.recurrent.LSTMCell'> to avoid naming conflicts when loading with `tf.keras.models.load_model`. If renaming is not possible, pass the object in the `custom_objects` parameter of the load function.\n"
     ]
    },
    {
     "name": "stdout",
     "output_type": "stream",
     "text": [
      "145/145 [==============================] - 3s 21ms/step\n",
      "63/63 [==============================] - 1s 19ms/step\n"
     ]
    },
    {
     "name": "stderr",
     "output_type": "stream",
     "text": [
      "D:\\Anaconda\\lib\\site-packages\\pandas\\core\\frame.py:3678: SettingWithCopyWarning: \n",
      "A value is trying to be set on a copy of a slice from a DataFrame.\n",
      "Try using .loc[row_indexer,col_indexer] = value instead\n",
      "\n",
      "See the caveats in the documentation: https://pandas.pydata.org/pandas-docs/stable/user_guide/indexing.html#returning-a-view-versus-a-copy\n",
      "  self[col] = igetitem(value, i)\n"
     ]
    },
    {
     "name": "stdout",
     "output_type": "stream",
     "text": [
      "Epoch 1/15\n",
      "145/145 [==============================] - 10s 56ms/step - loss: 0.4488 - val_loss: 0.0656\n",
      "Epoch 2/15\n",
      "145/145 [==============================] - 8s 52ms/step - loss: 0.4037 - val_loss: 0.0598\n",
      "Epoch 3/15\n",
      "145/145 [==============================] - 8s 52ms/step - loss: 0.3968 - val_loss: 0.0570\n",
      "Epoch 4/15\n",
      "145/145 [==============================] - 8s 52ms/step - loss: 0.3942 - val_loss: 0.0663\n",
      "Epoch 5/15\n",
      "145/145 [==============================] - 8s 52ms/step - loss: 0.3927 - val_loss: 0.0693\n",
      "Epoch 6/15\n",
      "145/145 [==============================] - 8s 52ms/step - loss: 0.3904 - val_loss: 0.0694\n",
      "Epoch 7/15\n",
      "145/145 [==============================] - 7s 52ms/step - loss: 0.3899 - val_loss: 0.0661\n",
      "Epoch 8/15\n",
      "145/145 [==============================] - 7s 52ms/step - loss: 0.3875 - val_loss: 0.0683\n",
      "Epoch 9/15\n",
      "145/145 [==============================] - 7s 52ms/step - loss: 0.3882 - val_loss: 0.0759\n",
      "Epoch 10/15\n",
      "145/145 [==============================] - 8s 52ms/step - loss: 0.3857 - val_loss: 0.0661\n",
      "Epoch 11/15\n",
      "145/145 [==============================] - 8s 52ms/step - loss: 0.3851 - val_loss: 0.0665\n",
      "Epoch 12/15\n",
      "145/145 [==============================] - 8s 52ms/step - loss: 0.3811 - val_loss: 0.0827\n",
      "Epoch 13/15\n",
      "145/145 [==============================] - 7s 52ms/step - loss: 0.3839 - val_loss: 0.0788\n",
      "Epoch 14/15\n",
      "145/145 [==============================] - 7s 52ms/step - loss: 0.3848 - val_loss: 0.0699\n",
      "Epoch 15/15\n",
      "145/145 [==============================] - 8s 52ms/step - loss: 0.3839 - val_loss: 0.0776\n"
     ]
    },
    {
     "name": "stderr",
     "output_type": "stream",
     "text": [
      "WARNING:absl:Found untraced functions such as lstm_cell_12_layer_call_fn, lstm_cell_12_layer_call_and_return_conditional_losses while saving (showing 2 of 2). These functions will not be directly callable after loading.\n"
     ]
    },
    {
     "name": "stdout",
     "output_type": "stream",
     "text": [
      "INFO:tensorflow:Assets written to: Hybrid MP/month0_10_step_lookahead_Hybrid\\assets\n"
     ]
    },
    {
     "name": "stderr",
     "output_type": "stream",
     "text": [
      "INFO:tensorflow:Assets written to: Hybrid MP/month0_10_step_lookahead_Hybrid\\assets\n",
      "WARNING:absl:<keras.layers.recurrent.LSTMCell object at 0x00000207B8DF3DF0> has the same name 'LSTMCell' as a built-in Keras object. Consider renaming <class 'keras.layers.recurrent.LSTMCell'> to avoid naming conflicts when loading with `tf.keras.models.load_model`. If renaming is not possible, pass the object in the `custom_objects` parameter of the load function.\n"
     ]
    },
    {
     "name": "stdout",
     "output_type": "stream",
     "text": [
      "145/145 [==============================] - 3s 20ms/step\n",
      "63/63 [==============================] - 1s 19ms/step\n"
     ]
    },
    {
     "name": "stderr",
     "output_type": "stream",
     "text": [
      "D:\\Anaconda\\lib\\site-packages\\pandas\\core\\frame.py:3678: SettingWithCopyWarning: \n",
      "A value is trying to be set on a copy of a slice from a DataFrame.\n",
      "Try using .loc[row_indexer,col_indexer] = value instead\n",
      "\n",
      "See the caveats in the documentation: https://pandas.pydata.org/pandas-docs/stable/user_guide/indexing.html#returning-a-view-versus-a-copy\n",
      "  self[col] = igetitem(value, i)\n",
      "D:\\Anaconda\\lib\\site-packages\\pandas\\core\\frame.py:3678: SettingWithCopyWarning: \n",
      "A value is trying to be set on a copy of a slice from a DataFrame.\n",
      "Try using .loc[row_indexer,col_indexer] = value instead\n",
      "\n",
      "See the caveats in the documentation: https://pandas.pydata.org/pandas-docs/stable/user_guide/indexing.html#returning-a-view-versus-a-copy\n",
      "  self[col] = igetitem(value, i)\n"
     ]
    },
    {
     "name": "stdout",
     "output_type": "stream",
     "text": [
      "Epoch 1/15\n",
      "152/152 [==============================] - 11s 56ms/step - loss: 0.6542 - val_loss: 0.4334\n",
      "Epoch 2/15\n",
      "152/152 [==============================] - 8s 52ms/step - loss: 0.3646 - val_loss: 0.3581\n",
      "Epoch 3/15\n",
      "152/152 [==============================] - 8s 52ms/step - loss: 0.3302 - val_loss: 0.3236\n",
      "Epoch 4/15\n",
      "152/152 [==============================] - 8s 52ms/step - loss: 0.3074 - val_loss: 0.2994\n",
      "Epoch 5/15\n",
      "152/152 [==============================] - 8s 52ms/step - loss: 0.2934 - val_loss: 0.2817\n",
      "Epoch 6/15\n",
      "152/152 [==============================] - 8s 52ms/step - loss: 0.2802 - val_loss: 0.2725\n",
      "Epoch 7/15\n",
      "152/152 [==============================] - 8s 52ms/step - loss: 0.2823 - val_loss: 0.2597\n",
      "Epoch 8/15\n",
      "152/152 [==============================] - 8s 52ms/step - loss: 0.2719 - val_loss: 0.2523\n",
      "Epoch 9/15\n",
      "152/152 [==============================] - 8s 52ms/step - loss: 0.2640 - val_loss: 0.2480\n",
      "Epoch 10/15\n",
      "152/152 [==============================] - 8s 52ms/step - loss: 0.2608 - val_loss: 0.2427\n",
      "Epoch 11/15\n",
      "152/152 [==============================] - 8s 52ms/step - loss: 0.2600 - val_loss: 0.2409\n",
      "Epoch 12/15\n",
      "152/152 [==============================] - 8s 52ms/step - loss: 0.2585 - val_loss: 0.2394\n",
      "Epoch 13/15\n",
      "152/152 [==============================] - 8s 52ms/step - loss: 0.2551 - val_loss: 0.2365\n",
      "Epoch 14/15\n",
      "152/152 [==============================] - 8s 52ms/step - loss: 0.2567 - val_loss: 0.2357\n",
      "Epoch 15/15\n",
      "152/152 [==============================] - 8s 52ms/step - loss: 0.2593 - val_loss: 0.2373\n"
     ]
    },
    {
     "name": "stderr",
     "output_type": "stream",
     "text": [
      "WARNING:absl:Found untraced functions such as lstm_cell_13_layer_call_fn, lstm_cell_13_layer_call_and_return_conditional_losses while saving (showing 2 of 2). These functions will not be directly callable after loading.\n"
     ]
    },
    {
     "name": "stdout",
     "output_type": "stream",
     "text": [
      "INFO:tensorflow:Assets written to: Hybrid MP/month1_1_step_lookahead_Hybrid\\assets\n"
     ]
    },
    {
     "name": "stderr",
     "output_type": "stream",
     "text": [
      "INFO:tensorflow:Assets written to: Hybrid MP/month1_1_step_lookahead_Hybrid\\assets\n",
      "WARNING:absl:<keras.layers.recurrent.LSTMCell object at 0x00000207B9571A60> has the same name 'LSTMCell' as a built-in Keras object. Consider renaming <class 'keras.layers.recurrent.LSTMCell'> to avoid naming conflicts when loading with `tf.keras.models.load_model`. If renaming is not possible, pass the object in the `custom_objects` parameter of the load function.\n"
     ]
    },
    {
     "name": "stdout",
     "output_type": "stream",
     "text": [
      "152/152 [==============================] - 3s 20ms/step\n",
      "65/65 [==============================] - 1s 19ms/step\n"
     ]
    },
    {
     "name": "stderr",
     "output_type": "stream",
     "text": [
      "D:\\Anaconda\\lib\\site-packages\\pandas\\core\\frame.py:3678: SettingWithCopyWarning: \n",
      "A value is trying to be set on a copy of a slice from a DataFrame.\n",
      "Try using .loc[row_indexer,col_indexer] = value instead\n",
      "\n",
      "See the caveats in the documentation: https://pandas.pydata.org/pandas-docs/stable/user_guide/indexing.html#returning-a-view-versus-a-copy\n",
      "  self[col] = igetitem(value, i)\n"
     ]
    },
    {
     "name": "stdout",
     "output_type": "stream",
     "text": [
      "Epoch 1/15\n",
      "152/152 [==============================] - 11s 56ms/step - loss: 0.5094 - val_loss: 0.3696\n",
      "Epoch 2/15\n",
      "152/152 [==============================] - 8s 52ms/step - loss: 0.3903 - val_loss: 0.3360\n",
      "Epoch 3/15\n",
      "152/152 [==============================] - 8s 52ms/step - loss: 0.3815 - val_loss: 0.3193\n",
      "Epoch 4/15\n",
      "152/152 [==============================] - 8s 52ms/step - loss: 0.3776 - val_loss: 0.3077\n",
      "Epoch 5/15\n",
      "152/152 [==============================] - 8s 52ms/step - loss: 0.3747 - val_loss: 0.3010\n",
      "Epoch 6/15\n",
      "152/152 [==============================] - 8s 52ms/step - loss: 0.3735 - val_loss: 0.2916\n",
      "Epoch 7/15\n",
      "152/152 [==============================] - 8s 52ms/step - loss: 0.3723 - val_loss: 0.2883\n",
      "Epoch 8/15\n",
      "152/152 [==============================] - 8s 52ms/step - loss: 0.3688 - val_loss: 0.2906\n",
      "Epoch 9/15\n",
      "152/152 [==============================] - 8s 52ms/step - loss: 0.3679 - val_loss: 0.2847\n",
      "Epoch 10/15\n",
      "152/152 [==============================] - 8s 52ms/step - loss: 0.3689 - val_loss: 0.2820\n",
      "Epoch 11/15\n",
      "152/152 [==============================] - 8s 52ms/step - loss: 0.3692 - val_loss: 0.2791\n",
      "Epoch 12/15\n",
      "152/152 [==============================] - 8s 52ms/step - loss: 0.3671 - val_loss: 0.2804\n",
      "Epoch 13/15\n",
      "152/152 [==============================] - 8s 52ms/step - loss: 0.3665 - val_loss: 0.2799\n",
      "Epoch 14/15\n",
      "152/152 [==============================] - 8s 52ms/step - loss: 0.3664 - val_loss: 0.2808\n",
      "Epoch 15/15\n",
      "152/152 [==============================] - 8s 52ms/step - loss: 0.3662 - val_loss: 0.2895\n"
     ]
    },
    {
     "name": "stderr",
     "output_type": "stream",
     "text": [
      "WARNING:absl:Found untraced functions such as lstm_cell_14_layer_call_fn, lstm_cell_14_layer_call_and_return_conditional_losses while saving (showing 2 of 2). These functions will not be directly callable after loading.\n"
     ]
    },
    {
     "name": "stdout",
     "output_type": "stream",
     "text": [
      "INFO:tensorflow:Assets written to: Hybrid MP/month1_2_step_lookahead_Hybrid\\assets\n"
     ]
    },
    {
     "name": "stderr",
     "output_type": "stream",
     "text": [
      "INFO:tensorflow:Assets written to: Hybrid MP/month1_2_step_lookahead_Hybrid\\assets\n",
      "WARNING:absl:<keras.layers.recurrent.LSTMCell object at 0x0000020AB9987160> has the same name 'LSTMCell' as a built-in Keras object. Consider renaming <class 'keras.layers.recurrent.LSTMCell'> to avoid naming conflicts when loading with `tf.keras.models.load_model`. If renaming is not possible, pass the object in the `custom_objects` parameter of the load function.\n"
     ]
    },
    {
     "name": "stdout",
     "output_type": "stream",
     "text": [
      "152/152 [==============================] - 4s 21ms/step\n",
      "65/65 [==============================] - 1s 19ms/step\n"
     ]
    },
    {
     "name": "stderr",
     "output_type": "stream",
     "text": [
      "D:\\Anaconda\\lib\\site-packages\\pandas\\core\\frame.py:3678: SettingWithCopyWarning: \n",
      "A value is trying to be set on a copy of a slice from a DataFrame.\n",
      "Try using .loc[row_indexer,col_indexer] = value instead\n",
      "\n",
      "See the caveats in the documentation: https://pandas.pydata.org/pandas-docs/stable/user_guide/indexing.html#returning-a-view-versus-a-copy\n",
      "  self[col] = igetitem(value, i)\n"
     ]
    },
    {
     "name": "stdout",
     "output_type": "stream",
     "text": [
      "Epoch 1/15\n",
      "152/152 [==============================] - 11s 56ms/step - loss: 0.6046 - val_loss: 0.4441\n",
      "Epoch 2/15\n",
      "152/152 [==============================] - 8s 53ms/step - loss: 0.4279 - val_loss: 0.4171\n",
      "Epoch 3/15\n",
      "152/152 [==============================] - 8s 53ms/step - loss: 0.4206 - val_loss: 0.4065\n",
      "Epoch 4/15\n",
      "152/152 [==============================] - 8s 53ms/step - loss: 0.4170 - val_loss: 0.4005\n",
      "Epoch 5/15\n",
      "152/152 [==============================] - 8s 52ms/step - loss: 0.4149 - val_loss: 0.4026\n",
      "Epoch 6/15\n",
      "152/152 [==============================] - 8s 52ms/step - loss: 0.4120 - val_loss: 0.4001\n",
      "Epoch 7/15\n",
      "152/152 [==============================] - 8s 52ms/step - loss: 0.4129 - val_loss: 0.4038\n",
      "Epoch 8/15\n",
      "152/152 [==============================] - 8s 52ms/step - loss: 0.4129 - val_loss: 0.3928\n",
      "Epoch 9/15\n",
      "152/152 [==============================] - 8s 52ms/step - loss: 0.4131 - val_loss: 0.3904\n",
      "Epoch 10/15\n",
      "152/152 [==============================] - 8s 52ms/step - loss: 0.4121 - val_loss: 0.3921\n",
      "Epoch 11/15\n",
      "152/152 [==============================] - 8s 52ms/step - loss: 0.4104 - val_loss: 0.3960\n",
      "Epoch 12/15\n",
      "152/152 [==============================] - 8s 52ms/step - loss: 0.4108 - val_loss: 0.4048\n",
      "Epoch 13/15\n",
      "152/152 [==============================] - 8s 52ms/step - loss: 0.4145 - val_loss: 0.3932\n",
      "Epoch 14/15\n",
      "152/152 [==============================] - 8s 52ms/step - loss: 0.4102 - val_loss: 0.3922\n",
      "Epoch 15/15\n",
      "152/152 [==============================] - 8s 52ms/step - loss: 0.4085 - val_loss: 0.3836\n"
     ]
    },
    {
     "name": "stderr",
     "output_type": "stream",
     "text": [
      "WARNING:absl:Found untraced functions such as lstm_cell_15_layer_call_fn, lstm_cell_15_layer_call_and_return_conditional_losses while saving (showing 2 of 2). These functions will not be directly callable after loading.\n"
     ]
    },
    {
     "name": "stdout",
     "output_type": "stream",
     "text": [
      "INFO:tensorflow:Assets written to: Hybrid MP/month1_3_step_lookahead_Hybrid\\assets\n"
     ]
    },
    {
     "name": "stderr",
     "output_type": "stream",
     "text": [
      "INFO:tensorflow:Assets written to: Hybrid MP/month1_3_step_lookahead_Hybrid\\assets\n",
      "WARNING:absl:<keras.layers.recurrent.LSTMCell object at 0x00000207B910AA00> has the same name 'LSTMCell' as a built-in Keras object. Consider renaming <class 'keras.layers.recurrent.LSTMCell'> to avoid naming conflicts when loading with `tf.keras.models.load_model`. If renaming is not possible, pass the object in the `custom_objects` parameter of the load function.\n"
     ]
    },
    {
     "name": "stdout",
     "output_type": "stream",
     "text": [
      "152/152 [==============================] - 3s 20ms/step\n",
      "65/65 [==============================] - 1s 19ms/step\n"
     ]
    },
    {
     "name": "stderr",
     "output_type": "stream",
     "text": [
      "D:\\Anaconda\\lib\\site-packages\\pandas\\core\\frame.py:3678: SettingWithCopyWarning: \n",
      "A value is trying to be set on a copy of a slice from a DataFrame.\n",
      "Try using .loc[row_indexer,col_indexer] = value instead\n",
      "\n",
      "See the caveats in the documentation: https://pandas.pydata.org/pandas-docs/stable/user_guide/indexing.html#returning-a-view-versus-a-copy\n",
      "  self[col] = igetitem(value, i)\n"
     ]
    },
    {
     "name": "stdout",
     "output_type": "stream",
     "text": [
      "Epoch 1/15\n",
      "152/152 [==============================] - 11s 56ms/step - loss: 0.8511 - val_loss: 0.4852\n",
      "Epoch 2/15\n",
      "152/152 [==============================] - 8s 52ms/step - loss: 0.4654 - val_loss: 0.4373\n",
      "Epoch 3/15\n",
      "152/152 [==============================] - 8s 52ms/step - loss: 0.4505 - val_loss: 0.4250\n",
      "Epoch 4/15\n",
      "152/152 [==============================] - 8s 53ms/step - loss: 0.4477 - val_loss: 0.4191\n",
      "Epoch 5/15\n",
      "152/152 [==============================] - 8s 52ms/step - loss: 0.4462 - val_loss: 0.4158\n",
      "Epoch 6/15\n",
      "152/152 [==============================] - 8s 53ms/step - loss: 0.4421 - val_loss: 0.4137\n",
      "Epoch 7/15\n",
      "152/152 [==============================] - 8s 53ms/step - loss: 0.4385 - val_loss: 0.4089\n",
      "Epoch 8/15\n",
      "152/152 [==============================] - 8s 53ms/step - loss: 0.4375 - val_loss: 0.4129\n",
      "Epoch 9/15\n",
      "152/152 [==============================] - 8s 52ms/step - loss: 0.4385 - val_loss: 0.4127\n",
      "Epoch 10/15\n",
      "152/152 [==============================] - 8s 52ms/step - loss: 0.4378 - val_loss: 0.4087\n",
      "Epoch 11/15\n",
      "152/152 [==============================] - 8s 52ms/step - loss: 0.4360 - val_loss: 0.4090\n",
      "Epoch 12/15\n",
      "152/152 [==============================] - 8s 52ms/step - loss: 0.4343 - val_loss: 0.4090\n",
      "Epoch 13/15\n",
      "152/152 [==============================] - 8s 53ms/step - loss: 0.4363 - val_loss: 0.4052\n",
      "Epoch 14/15\n",
      "152/152 [==============================] - 8s 52ms/step - loss: 0.4389 - val_loss: 0.4007\n",
      "Epoch 15/15\n",
      "152/152 [==============================] - 8s 52ms/step - loss: 0.4344 - val_loss: 0.4211\n"
     ]
    },
    {
     "name": "stderr",
     "output_type": "stream",
     "text": [
      "WARNING:absl:Found untraced functions such as lstm_cell_16_layer_call_fn, lstm_cell_16_layer_call_and_return_conditional_losses while saving (showing 2 of 2). These functions will not be directly callable after loading.\n"
     ]
    },
    {
     "name": "stdout",
     "output_type": "stream",
     "text": [
      "INFO:tensorflow:Assets written to: Hybrid MP/month1_4_step_lookahead_Hybrid\\assets\n"
     ]
    },
    {
     "name": "stderr",
     "output_type": "stream",
     "text": [
      "INFO:tensorflow:Assets written to: Hybrid MP/month1_4_step_lookahead_Hybrid\\assets\n",
      "WARNING:absl:<keras.layers.recurrent.LSTMCell object at 0x0000020AE8716550> has the same name 'LSTMCell' as a built-in Keras object. Consider renaming <class 'keras.layers.recurrent.LSTMCell'> to avoid naming conflicts when loading with `tf.keras.models.load_model`. If renaming is not possible, pass the object in the `custom_objects` parameter of the load function.\n"
     ]
    },
    {
     "name": "stdout",
     "output_type": "stream",
     "text": [
      "152/152 [==============================] - 4s 21ms/step\n",
      "65/65 [==============================] - 1s 20ms/step\n"
     ]
    },
    {
     "name": "stderr",
     "output_type": "stream",
     "text": [
      "D:\\Anaconda\\lib\\site-packages\\pandas\\core\\frame.py:3678: SettingWithCopyWarning: \n",
      "A value is trying to be set on a copy of a slice from a DataFrame.\n",
      "Try using .loc[row_indexer,col_indexer] = value instead\n",
      "\n",
      "See the caveats in the documentation: https://pandas.pydata.org/pandas-docs/stable/user_guide/indexing.html#returning-a-view-versus-a-copy\n",
      "  self[col] = igetitem(value, i)\n"
     ]
    },
    {
     "name": "stdout",
     "output_type": "stream",
     "text": [
      "Epoch 1/15\n",
      "152/152 [==============================] - 11s 56ms/step - loss: 0.7681 - val_loss: 0.4795\n",
      "Epoch 2/15\n",
      "152/152 [==============================] - 8s 52ms/step - loss: 0.4708 - val_loss: 0.4545\n",
      "Epoch 3/15\n",
      "152/152 [==============================] - 8s 52ms/step - loss: 0.4620 - val_loss: 0.4346\n",
      "Epoch 4/15\n",
      "152/152 [==============================] - 8s 52ms/step - loss: 0.4596 - val_loss: 0.4335\n",
      "Epoch 5/15\n",
      "152/152 [==============================] - 8s 52ms/step - loss: 0.4567 - val_loss: 0.4255\n",
      "Epoch 6/15\n",
      "152/152 [==============================] - 8s 52ms/step - loss: 0.4572 - val_loss: 0.4401\n",
      "Epoch 7/15\n",
      "152/152 [==============================] - 8s 52ms/step - loss: 0.4525 - val_loss: 0.4190\n",
      "Epoch 8/15\n",
      "152/152 [==============================] - 8s 52ms/step - loss: 0.4496 - val_loss: 0.4154\n",
      "Epoch 9/15\n",
      "152/152 [==============================] - 8s 52ms/step - loss: 0.4504 - val_loss: 0.4122\n",
      "Epoch 10/15\n",
      "152/152 [==============================] - 8s 52ms/step - loss: 0.4463 - val_loss: 0.4119\n",
      "Epoch 11/15\n",
      "152/152 [==============================] - 8s 52ms/step - loss: 0.4471 - val_loss: 0.4289\n",
      "Epoch 12/15\n",
      "152/152 [==============================] - 8s 51ms/step - loss: 0.4437 - val_loss: 0.4135\n",
      "Epoch 13/15\n",
      "152/152 [==============================] - 8s 52ms/step - loss: 0.4486 - val_loss: 0.4141\n",
      "Epoch 14/15\n",
      "152/152 [==============================] - 8s 52ms/step - loss: 0.4442 - val_loss: 0.4186\n",
      "Epoch 15/15\n",
      "152/152 [==============================] - 8s 52ms/step - loss: 0.4443 - val_loss: 0.4161\n"
     ]
    },
    {
     "name": "stderr",
     "output_type": "stream",
     "text": [
      "WARNING:absl:Found untraced functions such as lstm_cell_17_layer_call_fn, lstm_cell_17_layer_call_and_return_conditional_losses while saving (showing 2 of 2). These functions will not be directly callable after loading.\n"
     ]
    },
    {
     "name": "stdout",
     "output_type": "stream",
     "text": [
      "INFO:tensorflow:Assets written to: Hybrid MP/month1_5_step_lookahead_Hybrid\\assets\n"
     ]
    },
    {
     "name": "stderr",
     "output_type": "stream",
     "text": [
      "INFO:tensorflow:Assets written to: Hybrid MP/month1_5_step_lookahead_Hybrid\\assets\n",
      "WARNING:absl:<keras.layers.recurrent.LSTMCell object at 0x0000020A75AA8C10> has the same name 'LSTMCell' as a built-in Keras object. Consider renaming <class 'keras.layers.recurrent.LSTMCell'> to avoid naming conflicts when loading with `tf.keras.models.load_model`. If renaming is not possible, pass the object in the `custom_objects` parameter of the load function.\n"
     ]
    },
    {
     "name": "stdout",
     "output_type": "stream",
     "text": [
      "152/152 [==============================] - 4s 21ms/step\n",
      "65/65 [==============================] - 1s 20ms/step\n"
     ]
    },
    {
     "name": "stderr",
     "output_type": "stream",
     "text": [
      "D:\\Anaconda\\lib\\site-packages\\pandas\\core\\frame.py:3678: SettingWithCopyWarning: \n",
      "A value is trying to be set on a copy of a slice from a DataFrame.\n",
      "Try using .loc[row_indexer,col_indexer] = value instead\n",
      "\n",
      "See the caveats in the documentation: https://pandas.pydata.org/pandas-docs/stable/user_guide/indexing.html#returning-a-view-versus-a-copy\n",
      "  self[col] = igetitem(value, i)\n"
     ]
    },
    {
     "name": "stdout",
     "output_type": "stream",
     "text": [
      "Epoch 1/15\n",
      "152/152 [==============================] - 11s 59ms/step - loss: 0.6185 - val_loss: 0.4518\n",
      "Epoch 2/15\n",
      "152/152 [==============================] - 8s 52ms/step - loss: 0.4712 - val_loss: 0.4326\n",
      "Epoch 3/15\n",
      "152/152 [==============================] - 8s 52ms/step - loss: 0.4679 - val_loss: 0.4247\n",
      "Epoch 4/15\n",
      "152/152 [==============================] - 8s 52ms/step - loss: 0.4651 - val_loss: 0.4232\n",
      "Epoch 5/15\n",
      "152/152 [==============================] - 8s 51ms/step - loss: 0.4634 - val_loss: 0.4259\n",
      "Epoch 6/15\n",
      "152/152 [==============================] - 8s 52ms/step - loss: 0.4642 - val_loss: 0.4426\n",
      "Epoch 7/15\n",
      "152/152 [==============================] - 8s 51ms/step - loss: 0.4629 - val_loss: 0.4243\n",
      "Epoch 8/15\n",
      "152/152 [==============================] - 8s 51ms/step - loss: 0.4644 - val_loss: 0.4273\n",
      "Epoch 9/15\n",
      "152/152 [==============================] - 8s 52ms/step - loss: 0.4608 - val_loss: 0.4179\n",
      "Epoch 10/15\n",
      "152/152 [==============================] - 8s 52ms/step - loss: 0.4620 - val_loss: 0.4291\n",
      "Epoch 11/15\n",
      "152/152 [==============================] - 8s 52ms/step - loss: 0.4630 - val_loss: 0.4117\n",
      "Epoch 12/15\n",
      "152/152 [==============================] - 8s 52ms/step - loss: 0.4610 - val_loss: 0.4223\n",
      "Epoch 13/15\n",
      "152/152 [==============================] - 8s 51ms/step - loss: 0.4623 - val_loss: 0.4202\n",
      "Epoch 14/15\n",
      "152/152 [==============================] - 8s 52ms/step - loss: 0.4587 - val_loss: 0.4185\n",
      "Epoch 15/15\n",
      "152/152 [==============================] - 8s 52ms/step - loss: 0.4614 - val_loss: 0.4218\n"
     ]
    },
    {
     "name": "stderr",
     "output_type": "stream",
     "text": [
      "WARNING:absl:Found untraced functions such as lstm_cell_18_layer_call_fn, lstm_cell_18_layer_call_and_return_conditional_losses while saving (showing 2 of 2). These functions will not be directly callable after loading.\n"
     ]
    },
    {
     "name": "stdout",
     "output_type": "stream",
     "text": [
      "INFO:tensorflow:Assets written to: Hybrid MP/month1_6_step_lookahead_Hybrid\\assets\n"
     ]
    },
    {
     "name": "stderr",
     "output_type": "stream",
     "text": [
      "INFO:tensorflow:Assets written to: Hybrid MP/month1_6_step_lookahead_Hybrid\\assets\n",
      "WARNING:absl:<keras.layers.recurrent.LSTMCell object at 0x0000020A63712520> has the same name 'LSTMCell' as a built-in Keras object. Consider renaming <class 'keras.layers.recurrent.LSTMCell'> to avoid naming conflicts when loading with `tf.keras.models.load_model`. If renaming is not possible, pass the object in the `custom_objects` parameter of the load function.\n"
     ]
    },
    {
     "name": "stdout",
     "output_type": "stream",
     "text": [
      "152/152 [==============================] - 4s 21ms/step\n",
      "65/65 [==============================] - 1s 19ms/step\n"
     ]
    },
    {
     "name": "stderr",
     "output_type": "stream",
     "text": [
      "D:\\Anaconda\\lib\\site-packages\\pandas\\core\\frame.py:3678: SettingWithCopyWarning: \n",
      "A value is trying to be set on a copy of a slice from a DataFrame.\n",
      "Try using .loc[row_indexer,col_indexer] = value instead\n",
      "\n",
      "See the caveats in the documentation: https://pandas.pydata.org/pandas-docs/stable/user_guide/indexing.html#returning-a-view-versus-a-copy\n",
      "  self[col] = igetitem(value, i)\n"
     ]
    },
    {
     "name": "stdout",
     "output_type": "stream",
     "text": [
      "Epoch 1/15\n",
      "152/152 [==============================] - 11s 56ms/step - loss: 0.5772 - val_loss: 0.4842\n",
      "Epoch 2/15\n",
      "152/152 [==============================] - 8s 52ms/step - loss: 0.4760 - val_loss: 0.4688\n",
      "Epoch 3/15\n",
      "152/152 [==============================] - 8s 51ms/step - loss: 0.4732 - val_loss: 0.4696\n",
      "Epoch 4/15\n",
      "152/152 [==============================] - 8s 52ms/step - loss: 0.4715 - val_loss: 0.4713\n",
      "Epoch 5/15\n",
      "152/152 [==============================] - 8s 52ms/step - loss: 0.4715 - val_loss: 0.4643\n",
      "Epoch 6/15\n",
      "152/152 [==============================] - 8s 52ms/step - loss: 0.4728 - val_loss: 0.4769\n",
      "Epoch 7/15\n",
      "152/152 [==============================] - 8s 52ms/step - loss: 0.4700 - val_loss: 0.4670\n",
      "Epoch 8/15\n",
      "152/152 [==============================] - 8s 52ms/step - loss: 0.4686 - val_loss: 0.4757\n",
      "Epoch 9/15\n",
      "152/152 [==============================] - 8s 51ms/step - loss: 0.4680 - val_loss: 0.4582\n",
      "Epoch 10/15\n",
      "152/152 [==============================] - 8s 52ms/step - loss: 0.4682 - val_loss: 0.4752\n",
      "Epoch 11/15\n",
      "152/152 [==============================] - 8s 52ms/step - loss: 0.4684 - val_loss: 0.4625\n",
      "Epoch 12/15\n",
      "152/152 [==============================] - 8s 52ms/step - loss: 0.4685 - val_loss: 0.4652\n",
      "Epoch 13/15\n",
      "152/152 [==============================] - 8s 52ms/step - loss: 0.4684 - val_loss: 0.4568\n",
      "Epoch 14/15\n",
      "152/152 [==============================] - 8s 51ms/step - loss: 0.4677 - val_loss: 0.4623\n",
      "Epoch 15/15\n",
      "152/152 [==============================] - 8s 52ms/step - loss: 0.4672 - val_loss: 0.4623\n"
     ]
    },
    {
     "name": "stderr",
     "output_type": "stream",
     "text": [
      "WARNING:absl:Found untraced functions such as lstm_cell_19_layer_call_fn, lstm_cell_19_layer_call_and_return_conditional_losses while saving (showing 2 of 2). These functions will not be directly callable after loading.\n"
     ]
    },
    {
     "name": "stdout",
     "output_type": "stream",
     "text": [
      "INFO:tensorflow:Assets written to: Hybrid MP/month1_7_step_lookahead_Hybrid\\assets\n"
     ]
    },
    {
     "name": "stderr",
     "output_type": "stream",
     "text": [
      "INFO:tensorflow:Assets written to: Hybrid MP/month1_7_step_lookahead_Hybrid\\assets\n",
      "WARNING:absl:<keras.layers.recurrent.LSTMCell object at 0x00000207C71C7D60> has the same name 'LSTMCell' as a built-in Keras object. Consider renaming <class 'keras.layers.recurrent.LSTMCell'> to avoid naming conflicts when loading with `tf.keras.models.load_model`. If renaming is not possible, pass the object in the `custom_objects` parameter of the load function.\n"
     ]
    },
    {
     "name": "stdout",
     "output_type": "stream",
     "text": [
      "152/152 [==============================] - 4s 21ms/step\n",
      "65/65 [==============================] - 1s 19ms/step\n"
     ]
    },
    {
     "name": "stderr",
     "output_type": "stream",
     "text": [
      "D:\\Anaconda\\lib\\site-packages\\pandas\\core\\frame.py:3678: SettingWithCopyWarning: \n",
      "A value is trying to be set on a copy of a slice from a DataFrame.\n",
      "Try using .loc[row_indexer,col_indexer] = value instead\n",
      "\n",
      "See the caveats in the documentation: https://pandas.pydata.org/pandas-docs/stable/user_guide/indexing.html#returning-a-view-versus-a-copy\n",
      "  self[col] = igetitem(value, i)\n"
     ]
    },
    {
     "name": "stdout",
     "output_type": "stream",
     "text": [
      "Epoch 1/15\n",
      "152/152 [==============================] - 11s 56ms/step - loss: 0.6730 - val_loss: 0.5024\n",
      "Epoch 2/15\n",
      "152/152 [==============================] - 8s 52ms/step - loss: 0.4877 - val_loss: 0.4940\n",
      "Epoch 3/15\n",
      "152/152 [==============================] - 8s 52ms/step - loss: 0.4809 - val_loss: 0.4746\n",
      "Epoch 4/15\n",
      "152/152 [==============================] - 8s 52ms/step - loss: 0.4793 - val_loss: 0.4761\n",
      "Epoch 5/15\n",
      "152/152 [==============================] - 8s 52ms/step - loss: 0.4781 - val_loss: 0.4849\n",
      "Epoch 6/15\n",
      "152/152 [==============================] - 8s 52ms/step - loss: 0.4760 - val_loss: 0.4726\n",
      "Epoch 7/15\n",
      "152/152 [==============================] - 8s 52ms/step - loss: 0.4744 - val_loss: 0.4749\n",
      "Epoch 8/15\n",
      "152/152 [==============================] - 8s 52ms/step - loss: 0.4762 - val_loss: 0.4815\n",
      "Epoch 9/15\n",
      "152/152 [==============================] - 8s 52ms/step - loss: 0.4749 - val_loss: 0.4692\n",
      "Epoch 10/15\n",
      "152/152 [==============================] - 8s 52ms/step - loss: 0.4744 - val_loss: 0.4656\n",
      "Epoch 11/15\n",
      "152/152 [==============================] - 8s 52ms/step - loss: 0.4748 - val_loss: 0.4822\n",
      "Epoch 12/15\n",
      "152/152 [==============================] - 8s 52ms/step - loss: 0.4763 - val_loss: 0.4668\n",
      "Epoch 13/15\n",
      "152/152 [==============================] - 8s 52ms/step - loss: 0.4730 - val_loss: 0.4707\n",
      "Epoch 14/15\n",
      "152/152 [==============================] - 8s 51ms/step - loss: 0.4730 - val_loss: 0.4760\n",
      "Epoch 15/15\n",
      "152/152 [==============================] - 8s 51ms/step - loss: 0.4717 - val_loss: 0.4590\n"
     ]
    },
    {
     "name": "stderr",
     "output_type": "stream",
     "text": [
      "WARNING:absl:Found untraced functions such as lstm_cell_20_layer_call_fn, lstm_cell_20_layer_call_and_return_conditional_losses while saving (showing 2 of 2). These functions will not be directly callable after loading.\n"
     ]
    },
    {
     "name": "stdout",
     "output_type": "stream",
     "text": [
      "INFO:tensorflow:Assets written to: Hybrid MP/month1_8_step_lookahead_Hybrid\\assets\n"
     ]
    },
    {
     "name": "stderr",
     "output_type": "stream",
     "text": [
      "INFO:tensorflow:Assets written to: Hybrid MP/month1_8_step_lookahead_Hybrid\\assets\n",
      "WARNING:absl:<keras.layers.recurrent.LSTMCell object at 0x0000020A6B6AE340> has the same name 'LSTMCell' as a built-in Keras object. Consider renaming <class 'keras.layers.recurrent.LSTMCell'> to avoid naming conflicts when loading with `tf.keras.models.load_model`. If renaming is not possible, pass the object in the `custom_objects` parameter of the load function.\n"
     ]
    },
    {
     "name": "stdout",
     "output_type": "stream",
     "text": [
      "152/152 [==============================] - 3s 20ms/step\n",
      "65/65 [==============================] - 1s 19ms/step\n"
     ]
    },
    {
     "name": "stderr",
     "output_type": "stream",
     "text": [
      "D:\\Anaconda\\lib\\site-packages\\pandas\\core\\frame.py:3678: SettingWithCopyWarning: \n",
      "A value is trying to be set on a copy of a slice from a DataFrame.\n",
      "Try using .loc[row_indexer,col_indexer] = value instead\n",
      "\n",
      "See the caveats in the documentation: https://pandas.pydata.org/pandas-docs/stable/user_guide/indexing.html#returning-a-view-versus-a-copy\n",
      "  self[col] = igetitem(value, i)\n"
     ]
    },
    {
     "name": "stdout",
     "output_type": "stream",
     "text": [
      "Epoch 1/15\n",
      "151/151 [==============================] - 10s 54ms/step - loss: 0.6488 - val_loss: 0.4871\n",
      "Epoch 2/15\n",
      "151/151 [==============================] - 8s 51ms/step - loss: 0.4876 - val_loss: 0.4770\n",
      "Epoch 3/15\n",
      "151/151 [==============================] - 8s 51ms/step - loss: 0.4878 - val_loss: 0.4740\n",
      "Epoch 4/15\n",
      "151/151 [==============================] - 8s 50ms/step - loss: 0.4858 - val_loss: 0.4715\n",
      "Epoch 5/15\n",
      "151/151 [==============================] - 8s 50ms/step - loss: 0.4850 - val_loss: 0.4679\n",
      "Epoch 6/15\n",
      "151/151 [==============================] - 8s 50ms/step - loss: 0.4838 - val_loss: 0.4682\n",
      "Epoch 7/15\n",
      "151/151 [==============================] - 8s 50ms/step - loss: 0.4830 - val_loss: 0.4791\n",
      "Epoch 8/15\n",
      "151/151 [==============================] - 8s 50ms/step - loss: 0.4824 - val_loss: 0.4670\n",
      "Epoch 9/15\n",
      "151/151 [==============================] - 8s 51ms/step - loss: 0.4812 - val_loss: 0.4659\n",
      "Epoch 10/15\n",
      "151/151 [==============================] - 8s 50ms/step - loss: 0.4831 - val_loss: 0.4693\n",
      "Epoch 11/15\n",
      "151/151 [==============================] - 8s 50ms/step - loss: 0.4794 - val_loss: 0.4722\n",
      "Epoch 12/15\n",
      "151/151 [==============================] - 8s 50ms/step - loss: 0.4805 - val_loss: 0.4643\n",
      "Epoch 13/15\n",
      "151/151 [==============================] - 8s 50ms/step - loss: 0.4806 - val_loss: 0.4813\n",
      "Epoch 14/15\n",
      "151/151 [==============================] - 8s 50ms/step - loss: 0.4796 - val_loss: 0.4697\n",
      "Epoch 15/15\n",
      "151/151 [==============================] - 8s 50ms/step - loss: 0.4789 - val_loss: 0.4602\n"
     ]
    },
    {
     "name": "stderr",
     "output_type": "stream",
     "text": [
      "WARNING:absl:Found untraced functions such as lstm_cell_21_layer_call_fn, lstm_cell_21_layer_call_and_return_conditional_losses while saving (showing 2 of 2). These functions will not be directly callable after loading.\n"
     ]
    },
    {
     "name": "stdout",
     "output_type": "stream",
     "text": [
      "INFO:tensorflow:Assets written to: Hybrid MP/month1_9_step_lookahead_Hybrid\\assets\n"
     ]
    },
    {
     "name": "stderr",
     "output_type": "stream",
     "text": [
      "INFO:tensorflow:Assets written to: Hybrid MP/month1_9_step_lookahead_Hybrid\\assets\n",
      "WARNING:absl:<keras.layers.recurrent.LSTMCell object at 0x0000020A68ACADC0> has the same name 'LSTMCell' as a built-in Keras object. Consider renaming <class 'keras.layers.recurrent.LSTMCell'> to avoid naming conflicts when loading with `tf.keras.models.load_model`. If renaming is not possible, pass the object in the `custom_objects` parameter of the load function.\n"
     ]
    },
    {
     "name": "stdout",
     "output_type": "stream",
     "text": [
      "151/151 [==============================] - 3s 20ms/step\n",
      "65/65 [==============================] - 2s 19ms/step\n"
     ]
    },
    {
     "name": "stderr",
     "output_type": "stream",
     "text": [
      "D:\\Anaconda\\lib\\site-packages\\pandas\\core\\frame.py:3678: SettingWithCopyWarning: \n",
      "A value is trying to be set on a copy of a slice from a DataFrame.\n",
      "Try using .loc[row_indexer,col_indexer] = value instead\n",
      "\n",
      "See the caveats in the documentation: https://pandas.pydata.org/pandas-docs/stable/user_guide/indexing.html#returning-a-view-versus-a-copy\n",
      "  self[col] = igetitem(value, i)\n"
     ]
    },
    {
     "name": "stdout",
     "output_type": "stream",
     "text": [
      "Epoch 1/15\n",
      "151/151 [==============================] - 10s 54ms/step - loss: 0.5841 - val_loss: 0.5062\n",
      "Epoch 2/15\n",
      "151/151 [==============================] - 8s 50ms/step - loss: 0.4909 - val_loss: 0.4985\n",
      "Epoch 3/15\n",
      "151/151 [==============================] - 8s 50ms/step - loss: 0.4888 - val_loss: 0.4952\n",
      "Epoch 4/15\n",
      "151/151 [==============================] - 8s 50ms/step - loss: 0.4887 - val_loss: 0.5075\n",
      "Epoch 5/15\n",
      "151/151 [==============================] - 8s 50ms/step - loss: 0.4875 - val_loss: 0.4984\n",
      "Epoch 6/15\n",
      "151/151 [==============================] - 8s 50ms/step - loss: 0.4878 - val_loss: 0.5069\n",
      "Epoch 7/15\n",
      "151/151 [==============================] - 8s 50ms/step - loss: 0.4867 - val_loss: 0.4938\n",
      "Epoch 8/15\n",
      "151/151 [==============================] - 8s 50ms/step - loss: 0.4855 - val_loss: 0.4930\n",
      "Epoch 9/15\n",
      "151/151 [==============================] - 8s 51ms/step - loss: 0.4869 - val_loss: 0.5065\n",
      "Epoch 10/15\n",
      "151/151 [==============================] - 8s 50ms/step - loss: 0.4853 - val_loss: 0.4982\n",
      "Epoch 11/15\n",
      "151/151 [==============================] - 8s 50ms/step - loss: 0.4870 - val_loss: 0.4929\n",
      "Epoch 12/15\n",
      "151/151 [==============================] - 8s 50ms/step - loss: 0.4846 - val_loss: 0.5028\n",
      "Epoch 13/15\n",
      "151/151 [==============================] - 8s 50ms/step - loss: 0.4893 - val_loss: 0.4934\n",
      "Epoch 14/15\n",
      "151/151 [==============================] - 8s 50ms/step - loss: 0.4855 - val_loss: 0.5255\n",
      "Epoch 15/15\n",
      "151/151 [==============================] - 8s 51ms/step - loss: 0.4840 - val_loss: 0.4937\n"
     ]
    },
    {
     "name": "stderr",
     "output_type": "stream",
     "text": [
      "WARNING:absl:Found untraced functions such as lstm_cell_22_layer_call_fn, lstm_cell_22_layer_call_and_return_conditional_losses while saving (showing 2 of 2). These functions will not be directly callable after loading.\n"
     ]
    },
    {
     "name": "stdout",
     "output_type": "stream",
     "text": [
      "INFO:tensorflow:Assets written to: Hybrid MP/month1_10_step_lookahead_Hybrid\\assets\n"
     ]
    },
    {
     "name": "stderr",
     "output_type": "stream",
     "text": [
      "INFO:tensorflow:Assets written to: Hybrid MP/month1_10_step_lookahead_Hybrid\\assets\n",
      "WARNING:absl:<keras.layers.recurrent.LSTMCell object at 0x0000020A69E8F670> has the same name 'LSTMCell' as a built-in Keras object. Consider renaming <class 'keras.layers.recurrent.LSTMCell'> to avoid naming conflicts when loading with `tf.keras.models.load_model`. If renaming is not possible, pass the object in the `custom_objects` parameter of the load function.\n"
     ]
    },
    {
     "name": "stdout",
     "output_type": "stream",
     "text": [
      "151/151 [==============================] - 4s 21ms/step\n",
      "65/65 [==============================] - 2s 19ms/step\n"
     ]
    },
    {
     "name": "stderr",
     "output_type": "stream",
     "text": [
      "D:\\Anaconda\\lib\\site-packages\\pandas\\core\\frame.py:3678: SettingWithCopyWarning: \n",
      "A value is trying to be set on a copy of a slice from a DataFrame.\n",
      "Try using .loc[row_indexer,col_indexer] = value instead\n",
      "\n",
      "See the caveats in the documentation: https://pandas.pydata.org/pandas-docs/stable/user_guide/indexing.html#returning-a-view-versus-a-copy\n",
      "  self[col] = igetitem(value, i)\n",
      "D:\\Anaconda\\lib\\site-packages\\pandas\\core\\frame.py:3678: SettingWithCopyWarning: \n",
      "A value is trying to be set on a copy of a slice from a DataFrame.\n",
      "Try using .loc[row_indexer,col_indexer] = value instead\n",
      "\n",
      "See the caveats in the documentation: https://pandas.pydata.org/pandas-docs/stable/user_guide/indexing.html#returning-a-view-versus-a-copy\n",
      "  self[col] = igetitem(value, i)\n"
     ]
    },
    {
     "name": "stdout",
     "output_type": "stream",
     "text": [
      "Epoch 1/15\n",
      "145/145 [==============================] - 10s 57ms/step - loss: 1.4013 - val_loss: 0.2896\n",
      "Epoch 2/15\n",
      "145/145 [==============================] - 8s 53ms/step - loss: 1.3355 - val_loss: 0.2699\n",
      "Epoch 3/15\n",
      "145/145 [==============================] - 8s 52ms/step - loss: 1.3266 - val_loss: 0.2623\n",
      "Epoch 4/15\n",
      "145/145 [==============================] - 8s 53ms/step - loss: 1.3231 - val_loss: 0.2513\n",
      "Epoch 5/15\n",
      "145/145 [==============================] - 8s 53ms/step - loss: 1.3179 - val_loss: 0.2469\n",
      "Epoch 6/15\n",
      "145/145 [==============================] - 7s 52ms/step - loss: 1.3153 - val_loss: 0.2421\n",
      "Epoch 7/15\n",
      "145/145 [==============================] - 8s 53ms/step - loss: 1.3124 - val_loss: 0.2391\n",
      "Epoch 8/15\n",
      "145/145 [==============================] - 8s 52ms/step - loss: 1.3111 - val_loss: 0.2359\n",
      "Epoch 9/15\n",
      "145/145 [==============================] - 8s 53ms/step - loss: 1.3085 - val_loss: 0.2347\n",
      "Epoch 10/15\n",
      "145/145 [==============================] - 8s 52ms/step - loss: 1.3068 - val_loss: 0.2332\n",
      "Epoch 11/15\n",
      "145/145 [==============================] - 8s 52ms/step - loss: 1.3050 - val_loss: 0.2306\n",
      "Epoch 12/15\n",
      "145/145 [==============================] - 8s 53ms/step - loss: 1.3032 - val_loss: 0.2297\n",
      "Epoch 13/15\n",
      "145/145 [==============================] - 8s 52ms/step - loss: 1.3046 - val_loss: 0.2289\n",
      "Epoch 14/15\n",
      "145/145 [==============================] - 8s 52ms/step - loss: 1.3009 - val_loss: 0.2285\n",
      "Epoch 15/15\n",
      "145/145 [==============================] - 8s 52ms/step - loss: 1.3001 - val_loss: 0.2282\n"
     ]
    },
    {
     "name": "stderr",
     "output_type": "stream",
     "text": [
      "WARNING:absl:Found untraced functions such as lstm_cell_23_layer_call_fn, lstm_cell_23_layer_call_and_return_conditional_losses while saving (showing 2 of 2). These functions will not be directly callable after loading.\n"
     ]
    },
    {
     "name": "stdout",
     "output_type": "stream",
     "text": [
      "INFO:tensorflow:Assets written to: Hybrid MP/month2_1_step_lookahead_Hybrid\\assets\n"
     ]
    },
    {
     "name": "stderr",
     "output_type": "stream",
     "text": [
      "INFO:tensorflow:Assets written to: Hybrid MP/month2_1_step_lookahead_Hybrid\\assets\n",
      "WARNING:absl:<keras.layers.recurrent.LSTMCell object at 0x00000207AA3180D0> has the same name 'LSTMCell' as a built-in Keras object. Consider renaming <class 'keras.layers.recurrent.LSTMCell'> to avoid naming conflicts when loading with `tf.keras.models.load_model`. If renaming is not possible, pass the object in the `custom_objects` parameter of the load function.\n"
     ]
    },
    {
     "name": "stdout",
     "output_type": "stream",
     "text": [
      "145/145 [==============================] - 3s 20ms/step\n",
      "63/63 [==============================] - 1s 19ms/step\n"
     ]
    },
    {
     "name": "stderr",
     "output_type": "stream",
     "text": [
      "D:\\Anaconda\\lib\\site-packages\\pandas\\core\\frame.py:3678: SettingWithCopyWarning: \n",
      "A value is trying to be set on a copy of a slice from a DataFrame.\n",
      "Try using .loc[row_indexer,col_indexer] = value instead\n",
      "\n",
      "See the caveats in the documentation: https://pandas.pydata.org/pandas-docs/stable/user_guide/indexing.html#returning-a-view-versus-a-copy\n",
      "  self[col] = igetitem(value, i)\n"
     ]
    },
    {
     "name": "stdout",
     "output_type": "stream",
     "text": [
      "Epoch 1/15\n",
      "145/145 [==============================] - 10s 57ms/step - loss: 1.3790 - val_loss: 0.2735\n",
      "Epoch 2/15\n",
      "145/145 [==============================] - 8s 53ms/step - loss: 1.3477 - val_loss: 0.2705\n",
      "Epoch 3/15\n",
      "145/145 [==============================] - 8s 52ms/step - loss: 1.3461 - val_loss: 0.2571\n",
      "Epoch 4/15\n",
      "145/145 [==============================] - 8s 53ms/step - loss: 1.3436 - val_loss: 0.2538\n",
      "Epoch 5/15\n",
      "145/145 [==============================] - 8s 52ms/step - loss: 1.3432 - val_loss: 0.2515\n",
      "Epoch 6/15\n",
      "145/145 [==============================] - 8s 53ms/step - loss: 1.3425 - val_loss: 0.2504\n",
      "Epoch 7/15\n",
      "145/145 [==============================] - 8s 52ms/step - loss: 1.3421 - val_loss: 0.2483\n",
      "Epoch 8/15\n",
      "145/145 [==============================] - 8s 53ms/step - loss: 1.3423 - val_loss: 0.2476\n",
      "Epoch 9/15\n",
      "145/145 [==============================] - 8s 52ms/step - loss: 1.3419 - val_loss: 0.2466\n",
      "Epoch 10/15\n",
      "145/145 [==============================] - 8s 52ms/step - loss: 1.3411 - val_loss: 0.2478\n",
      "Epoch 11/15\n",
      "145/145 [==============================] - 8s 53ms/step - loss: 1.3408 - val_loss: 0.2461\n",
      "Epoch 12/15\n",
      "145/145 [==============================] - 8s 52ms/step - loss: 1.3411 - val_loss: 0.2448\n",
      "Epoch 13/15\n",
      "145/145 [==============================] - 8s 53ms/step - loss: 1.3410 - val_loss: 0.2442\n",
      "Epoch 14/15\n",
      "145/145 [==============================] - 10s 68ms/step - loss: 1.3415 - val_loss: 0.2455\n",
      "Epoch 15/15\n",
      "145/145 [==============================] - 8s 54ms/step - loss: 1.3400 - val_loss: 0.2475\n"
     ]
    },
    {
     "name": "stderr",
     "output_type": "stream",
     "text": [
      "WARNING:absl:Found untraced functions such as lstm_cell_24_layer_call_fn, lstm_cell_24_layer_call_and_return_conditional_losses while saving (showing 2 of 2). These functions will not be directly callable after loading.\n"
     ]
    },
    {
     "name": "stdout",
     "output_type": "stream",
     "text": [
      "INFO:tensorflow:Assets written to: Hybrid MP/month2_2_step_lookahead_Hybrid\\assets\n"
     ]
    },
    {
     "name": "stderr",
     "output_type": "stream",
     "text": [
      "INFO:tensorflow:Assets written to: Hybrid MP/month2_2_step_lookahead_Hybrid\\assets\n",
      "WARNING:absl:<keras.layers.recurrent.LSTMCell object at 0x00000207BADDCB80> has the same name 'LSTMCell' as a built-in Keras object. Consider renaming <class 'keras.layers.recurrent.LSTMCell'> to avoid naming conflicts when loading with `tf.keras.models.load_model`. If renaming is not possible, pass the object in the `custom_objects` parameter of the load function.\n"
     ]
    },
    {
     "name": "stdout",
     "output_type": "stream",
     "text": [
      "145/145 [==============================] - 3s 21ms/step\n",
      "63/63 [==============================] - 1s 19ms/step\n"
     ]
    },
    {
     "name": "stderr",
     "output_type": "stream",
     "text": [
      "D:\\Anaconda\\lib\\site-packages\\pandas\\core\\frame.py:3678: SettingWithCopyWarning: \n",
      "A value is trying to be set on a copy of a slice from a DataFrame.\n",
      "Try using .loc[row_indexer,col_indexer] = value instead\n",
      "\n",
      "See the caveats in the documentation: https://pandas.pydata.org/pandas-docs/stable/user_guide/indexing.html#returning-a-view-versus-a-copy\n",
      "  self[col] = igetitem(value, i)\n"
     ]
    },
    {
     "name": "stdout",
     "output_type": "stream",
     "text": [
      "Epoch 1/15\n",
      "145/145 [==============================] - 11s 57ms/step - loss: 1.3824 - val_loss: 0.3080\n",
      "Epoch 2/15\n",
      "145/145 [==============================] - 8s 52ms/step - loss: 1.3609 - val_loss: 0.3082\n",
      "Epoch 3/15\n",
      "145/145 [==============================] - 8s 52ms/step - loss: 1.3580 - val_loss: 0.2953\n",
      "Epoch 4/15\n",
      "145/145 [==============================] - 8s 53ms/step - loss: 1.3579 - val_loss: 0.2936\n",
      "Epoch 5/15\n",
      "145/145 [==============================] - 8s 52ms/step - loss: 1.3569 - val_loss: 0.2932\n",
      "Epoch 6/15\n",
      "145/145 [==============================] - 8s 53ms/step - loss: 1.3555 - val_loss: 0.2912\n",
      "Epoch 7/15\n",
      "145/145 [==============================] - 8s 52ms/step - loss: 1.3560 - val_loss: 0.2942\n",
      "Epoch 8/15\n",
      "145/145 [==============================] - 8s 52ms/step - loss: 1.3572 - val_loss: 0.2905\n",
      "Epoch 9/15\n",
      "145/145 [==============================] - 8s 52ms/step - loss: 1.3553 - val_loss: 0.2905\n",
      "Epoch 10/15\n",
      "145/145 [==============================] - 8s 52ms/step - loss: 1.3552 - val_loss: 0.2903\n",
      "Epoch 11/15\n",
      "145/145 [==============================] - 8s 52ms/step - loss: 1.3548 - val_loss: 0.2927\n",
      "Epoch 12/15\n",
      "145/145 [==============================] - 8s 52ms/step - loss: 1.3549 - val_loss: 0.2916\n",
      "Epoch 13/15\n",
      "145/145 [==============================] - 8s 52ms/step - loss: 1.3547 - val_loss: 0.2903\n",
      "Epoch 14/15\n",
      "145/145 [==============================] - 8s 52ms/step - loss: 1.3549 - val_loss: 0.2905\n",
      "Epoch 15/15\n",
      "145/145 [==============================] - 8s 52ms/step - loss: 1.3544 - val_loss: 0.2910\n"
     ]
    },
    {
     "name": "stderr",
     "output_type": "stream",
     "text": [
      "WARNING:absl:Found untraced functions such as lstm_cell_25_layer_call_fn, lstm_cell_25_layer_call_and_return_conditional_losses while saving (showing 2 of 2). These functions will not be directly callable after loading.\n"
     ]
    },
    {
     "name": "stdout",
     "output_type": "stream",
     "text": [
      "INFO:tensorflow:Assets written to: Hybrid MP/month2_3_step_lookahead_Hybrid\\assets\n"
     ]
    },
    {
     "name": "stderr",
     "output_type": "stream",
     "text": [
      "INFO:tensorflow:Assets written to: Hybrid MP/month2_3_step_lookahead_Hybrid\\assets\n",
      "WARNING:absl:<keras.layers.recurrent.LSTMCell object at 0x000002079EAF63A0> has the same name 'LSTMCell' as a built-in Keras object. Consider renaming <class 'keras.layers.recurrent.LSTMCell'> to avoid naming conflicts when loading with `tf.keras.models.load_model`. If renaming is not possible, pass the object in the `custom_objects` parameter of the load function.\n"
     ]
    },
    {
     "name": "stdout",
     "output_type": "stream",
     "text": [
      "145/145 [==============================] - 3s 20ms/step\n",
      "63/63 [==============================] - 1s 19ms/step\n"
     ]
    },
    {
     "name": "stderr",
     "output_type": "stream",
     "text": [
      "D:\\Anaconda\\lib\\site-packages\\pandas\\core\\frame.py:3678: SettingWithCopyWarning: \n",
      "A value is trying to be set on a copy of a slice from a DataFrame.\n",
      "Try using .loc[row_indexer,col_indexer] = value instead\n",
      "\n",
      "See the caveats in the documentation: https://pandas.pydata.org/pandas-docs/stable/user_guide/indexing.html#returning-a-view-versus-a-copy\n",
      "  self[col] = igetitem(value, i)\n"
     ]
    },
    {
     "name": "stdout",
     "output_type": "stream",
     "text": [
      "Epoch 1/15\n",
      "145/145 [==============================] - 11s 59ms/step - loss: 1.3769 - val_loss: 0.3029\n",
      "Epoch 2/15\n",
      "145/145 [==============================] - 8s 54ms/step - loss: 1.3647 - val_loss: 0.2934\n",
      "Epoch 3/15\n",
      "145/145 [==============================] - 8s 55ms/step - loss: 1.3643 - val_loss: 0.2927\n",
      "Epoch 4/15\n",
      "145/145 [==============================] - 8s 54ms/step - loss: 1.3636 - val_loss: 0.2918\n",
      "Epoch 5/15\n",
      "145/145 [==============================] - 8s 53ms/step - loss: 1.3622 - val_loss: 0.2954\n",
      "Epoch 6/15\n",
      "145/145 [==============================] - 8s 53ms/step - loss: 1.3631 - val_loss: 0.2902\n",
      "Epoch 7/15\n",
      "145/145 [==============================] - 8s 52ms/step - loss: 1.3628 - val_loss: 0.2902\n",
      "Epoch 8/15\n",
      "145/145 [==============================] - 8s 52ms/step - loss: 1.3619 - val_loss: 0.2912\n",
      "Epoch 9/15\n",
      "145/145 [==============================] - 8s 53ms/step - loss: 1.3625 - val_loss: 0.2897\n",
      "Epoch 10/15\n",
      "145/145 [==============================] - 8s 53ms/step - loss: 1.3622 - val_loss: 0.2901\n",
      "Epoch 11/15\n",
      "145/145 [==============================] - 8s 52ms/step - loss: 1.3613 - val_loss: 0.2928\n",
      "Epoch 12/15\n",
      "145/145 [==============================] - 8s 53ms/step - loss: 1.3622 - val_loss: 0.2896\n",
      "Epoch 13/15\n",
      "145/145 [==============================] - 8s 53ms/step - loss: 1.3608 - val_loss: 0.2906\n",
      "Epoch 14/15\n",
      "145/145 [==============================] - 8s 52ms/step - loss: 1.3616 - val_loss: 0.2926\n",
      "Epoch 15/15\n",
      "145/145 [==============================] - 8s 52ms/step - loss: 1.3612 - val_loss: 0.2908\n"
     ]
    },
    {
     "name": "stderr",
     "output_type": "stream",
     "text": [
      "WARNING:absl:Found untraced functions such as lstm_cell_26_layer_call_fn, lstm_cell_26_layer_call_and_return_conditional_losses while saving (showing 2 of 2). These functions will not be directly callable after loading.\n"
     ]
    },
    {
     "name": "stdout",
     "output_type": "stream",
     "text": [
      "INFO:tensorflow:Assets written to: Hybrid MP/month2_4_step_lookahead_Hybrid\\assets\n"
     ]
    },
    {
     "name": "stderr",
     "output_type": "stream",
     "text": [
      "INFO:tensorflow:Assets written to: Hybrid MP/month2_4_step_lookahead_Hybrid\\assets\n",
      "WARNING:absl:<keras.layers.recurrent.LSTMCell object at 0x00000207B903C4F0> has the same name 'LSTMCell' as a built-in Keras object. Consider renaming <class 'keras.layers.recurrent.LSTMCell'> to avoid naming conflicts when loading with `tf.keras.models.load_model`. If renaming is not possible, pass the object in the `custom_objects` parameter of the load function.\n"
     ]
    },
    {
     "name": "stdout",
     "output_type": "stream",
     "text": [
      "145/145 [==============================] - 3s 21ms/step\n",
      "63/63 [==============================] - 1s 19ms/step\n"
     ]
    },
    {
     "name": "stderr",
     "output_type": "stream",
     "text": [
      "D:\\Anaconda\\lib\\site-packages\\pandas\\core\\frame.py:3678: SettingWithCopyWarning: \n",
      "A value is trying to be set on a copy of a slice from a DataFrame.\n",
      "Try using .loc[row_indexer,col_indexer] = value instead\n",
      "\n",
      "See the caveats in the documentation: https://pandas.pydata.org/pandas-docs/stable/user_guide/indexing.html#returning-a-view-versus-a-copy\n",
      "  self[col] = igetitem(value, i)\n"
     ]
    },
    {
     "name": "stdout",
     "output_type": "stream",
     "text": [
      "Epoch 1/15\n",
      "145/145 [==============================] - 11s 60ms/step - loss: 1.3779 - val_loss: 0.2974\n",
      "Epoch 2/15\n",
      "145/145 [==============================] - 8s 53ms/step - loss: 1.3680 - val_loss: 0.2944\n",
      "Epoch 3/15\n",
      "145/145 [==============================] - 8s 53ms/step - loss: 1.3673 - val_loss: 0.2922\n",
      "Epoch 4/15\n",
      "145/145 [==============================] - 8s 52ms/step - loss: 1.3664 - val_loss: 0.2913\n",
      "Epoch 5/15\n",
      "145/145 [==============================] - 8s 52ms/step - loss: 1.3665 - val_loss: 0.2910\n",
      "Epoch 6/15\n",
      "145/145 [==============================] - 8s 53ms/step - loss: 1.3655 - val_loss: 0.2910\n",
      "Epoch 7/15\n",
      "145/145 [==============================] - 8s 52ms/step - loss: 1.3651 - val_loss: 0.2889\n",
      "Epoch 8/15\n",
      "145/145 [==============================] - 8s 53ms/step - loss: 1.3653 - val_loss: 0.2899\n",
      "Epoch 9/15\n",
      "145/145 [==============================] - 8s 52ms/step - loss: 1.3650 - val_loss: 0.2906\n",
      "Epoch 10/15\n",
      "145/145 [==============================] - 8s 52ms/step - loss: 1.3646 - val_loss: 0.2891\n",
      "Epoch 11/15\n",
      "145/145 [==============================] - 8s 52ms/step - loss: 1.3650 - val_loss: 0.2884\n",
      "Epoch 12/15\n",
      "145/145 [==============================] - 8s 53ms/step - loss: 1.3641 - val_loss: 0.2891\n",
      "Epoch 13/15\n",
      "145/145 [==============================] - 8s 52ms/step - loss: 1.3640 - val_loss: 0.2886\n",
      "Epoch 14/15\n",
      "145/145 [==============================] - 7s 52ms/step - loss: 1.3634 - val_loss: 0.2893\n",
      "Epoch 15/15\n",
      "145/145 [==============================] - 8s 52ms/step - loss: 1.3635 - val_loss: 0.2900\n"
     ]
    },
    {
     "name": "stderr",
     "output_type": "stream",
     "text": [
      "WARNING:absl:Found untraced functions such as lstm_cell_27_layer_call_fn, lstm_cell_27_layer_call_and_return_conditional_losses while saving (showing 2 of 2). These functions will not be directly callable after loading.\n"
     ]
    },
    {
     "name": "stdout",
     "output_type": "stream",
     "text": [
      "INFO:tensorflow:Assets written to: Hybrid MP/month2_5_step_lookahead_Hybrid\\assets\n"
     ]
    },
    {
     "name": "stderr",
     "output_type": "stream",
     "text": [
      "INFO:tensorflow:Assets written to: Hybrid MP/month2_5_step_lookahead_Hybrid\\assets\n",
      "WARNING:absl:<keras.layers.recurrent.LSTMCell object at 0x0000020A6A155EE0> has the same name 'LSTMCell' as a built-in Keras object. Consider renaming <class 'keras.layers.recurrent.LSTMCell'> to avoid naming conflicts when loading with `tf.keras.models.load_model`. If renaming is not possible, pass the object in the `custom_objects` parameter of the load function.\n"
     ]
    },
    {
     "name": "stdout",
     "output_type": "stream",
     "text": [
      "145/145 [==============================] - 3s 21ms/step\n",
      "63/63 [==============================] - 1s 19ms/step\n"
     ]
    },
    {
     "name": "stderr",
     "output_type": "stream",
     "text": [
      "D:\\Anaconda\\lib\\site-packages\\pandas\\core\\frame.py:3678: SettingWithCopyWarning: \n",
      "A value is trying to be set on a copy of a slice from a DataFrame.\n",
      "Try using .loc[row_indexer,col_indexer] = value instead\n",
      "\n",
      "See the caveats in the documentation: https://pandas.pydata.org/pandas-docs/stable/user_guide/indexing.html#returning-a-view-versus-a-copy\n",
      "  self[col] = igetitem(value, i)\n"
     ]
    },
    {
     "name": "stdout",
     "output_type": "stream",
     "text": [
      "Epoch 1/15\n",
      "145/145 [==============================] - 10s 57ms/step - loss: 1.4142 - val_loss: 0.3157\n",
      "Epoch 2/15\n",
      "145/145 [==============================] - 8s 52ms/step - loss: 1.3723 - val_loss: 0.3124\n",
      "Epoch 3/15\n",
      "145/145 [==============================] - 8s 52ms/step - loss: 1.3710 - val_loss: 0.3110\n",
      "Epoch 4/15\n",
      "145/145 [==============================] - 8s 52ms/step - loss: 1.3710 - val_loss: 0.3097\n",
      "Epoch 5/15\n",
      "145/145 [==============================] - 8s 52ms/step - loss: 1.3699 - val_loss: 0.3112\n",
      "Epoch 6/15\n",
      "145/145 [==============================] - 7s 52ms/step - loss: 1.3694 - val_loss: 0.3094\n",
      "Epoch 7/15\n",
      "145/145 [==============================] - 8s 52ms/step - loss: 1.3693 - val_loss: 0.3097\n",
      "Epoch 8/15\n",
      "145/145 [==============================] - 8s 52ms/step - loss: 1.3689 - val_loss: 0.3087\n",
      "Epoch 9/15\n",
      "145/145 [==============================] - 8s 52ms/step - loss: 1.3688 - val_loss: 0.3096\n",
      "Epoch 10/15\n",
      "145/145 [==============================] - 7s 52ms/step - loss: 1.3676 - val_loss: 0.3088\n",
      "Epoch 11/15\n",
      "145/145 [==============================] - 8s 52ms/step - loss: 1.3676 - val_loss: 0.3126\n",
      "Epoch 12/15\n",
      "145/145 [==============================] - 7s 52ms/step - loss: 1.3681 - val_loss: 0.3095\n",
      "Epoch 13/15\n",
      "145/145 [==============================] - 8s 52ms/step - loss: 1.3679 - val_loss: 0.3081\n",
      "Epoch 14/15\n",
      "145/145 [==============================] - 8s 52ms/step - loss: 1.3673 - val_loss: 0.3085\n",
      "Epoch 15/15\n",
      "145/145 [==============================] - 7s 52ms/step - loss: 1.3668 - val_loss: 0.3107\n"
     ]
    },
    {
     "name": "stderr",
     "output_type": "stream",
     "text": [
      "WARNING:absl:Found untraced functions such as lstm_cell_28_layer_call_fn, lstm_cell_28_layer_call_and_return_conditional_losses while saving (showing 2 of 2). These functions will not be directly callable after loading.\n"
     ]
    },
    {
     "name": "stdout",
     "output_type": "stream",
     "text": [
      "INFO:tensorflow:Assets written to: Hybrid MP/month2_6_step_lookahead_Hybrid\\assets\n"
     ]
    },
    {
     "name": "stderr",
     "output_type": "stream",
     "text": [
      "INFO:tensorflow:Assets written to: Hybrid MP/month2_6_step_lookahead_Hybrid\\assets\n",
      "WARNING:absl:<keras.layers.recurrent.LSTMCell object at 0x00000207ACCD8C10> has the same name 'LSTMCell' as a built-in Keras object. Consider renaming <class 'keras.layers.recurrent.LSTMCell'> to avoid naming conflicts when loading with `tf.keras.models.load_model`. If renaming is not possible, pass the object in the `custom_objects` parameter of the load function.\n"
     ]
    },
    {
     "name": "stdout",
     "output_type": "stream",
     "text": [
      "145/145 [==============================] - 3s 21ms/step\n",
      "63/63 [==============================] - 1s 19ms/step\n"
     ]
    },
    {
     "name": "stderr",
     "output_type": "stream",
     "text": [
      "D:\\Anaconda\\lib\\site-packages\\pandas\\core\\frame.py:3678: SettingWithCopyWarning: \n",
      "A value is trying to be set on a copy of a slice from a DataFrame.\n",
      "Try using .loc[row_indexer,col_indexer] = value instead\n",
      "\n",
      "See the caveats in the documentation: https://pandas.pydata.org/pandas-docs/stable/user_guide/indexing.html#returning-a-view-versus-a-copy\n",
      "  self[col] = igetitem(value, i)\n"
     ]
    },
    {
     "name": "stdout",
     "output_type": "stream",
     "text": [
      "Epoch 1/15\n",
      "145/145 [==============================] - 11s 57ms/step - loss: 1.4365 - val_loss: 0.3235\n",
      "Epoch 2/15\n",
      "145/145 [==============================] - 8s 52ms/step - loss: 1.3819 - val_loss: 0.3126\n",
      "Epoch 3/15\n",
      "145/145 [==============================] - 8s 52ms/step - loss: 1.3789 - val_loss: 0.3099\n",
      "Epoch 4/15\n",
      "145/145 [==============================] - 8s 52ms/step - loss: 1.3775 - val_loss: 0.3088\n",
      "Epoch 5/15\n",
      "145/145 [==============================] - 8s 52ms/step - loss: 1.3771 - val_loss: 0.3082\n",
      "Epoch 6/15\n",
      "145/145 [==============================] - 8s 52ms/step - loss: 1.3766 - val_loss: 0.3085\n",
      "Epoch 7/15\n",
      "145/145 [==============================] - 8s 52ms/step - loss: 1.3767 - val_loss: 0.3088\n",
      "Epoch 8/15\n",
      "145/145 [==============================] - 8s 52ms/step - loss: 1.3758 - val_loss: 0.3084\n",
      "Epoch 9/15\n",
      "145/145 [==============================] - 8s 52ms/step - loss: 1.3761 - val_loss: 0.3073\n",
      "Epoch 10/15\n",
      "145/145 [==============================] - 8s 52ms/step - loss: 1.3760 - val_loss: 0.3093\n",
      "Epoch 11/15\n",
      "145/145 [==============================] - 7s 52ms/step - loss: 1.3757 - val_loss: 0.3083\n",
      "Epoch 12/15\n",
      "145/145 [==============================] - 7s 52ms/step - loss: 1.3750 - val_loss: 0.3077\n",
      "Epoch 13/15\n",
      "145/145 [==============================] - 7s 52ms/step - loss: 1.3744 - val_loss: 0.3077\n",
      "Epoch 14/15\n",
      "145/145 [==============================] - 8s 52ms/step - loss: 1.3751 - val_loss: 0.3085\n",
      "Epoch 15/15\n",
      "145/145 [==============================] - 8s 52ms/step - loss: 1.3738 - val_loss: 0.3075\n"
     ]
    },
    {
     "name": "stderr",
     "output_type": "stream",
     "text": [
      "WARNING:absl:Found untraced functions such as lstm_cell_29_layer_call_fn, lstm_cell_29_layer_call_and_return_conditional_losses while saving (showing 2 of 2). These functions will not be directly callable after loading.\n"
     ]
    },
    {
     "name": "stdout",
     "output_type": "stream",
     "text": [
      "INFO:tensorflow:Assets written to: Hybrid MP/month2_7_step_lookahead_Hybrid\\assets\n"
     ]
    },
    {
     "name": "stderr",
     "output_type": "stream",
     "text": [
      "INFO:tensorflow:Assets written to: Hybrid MP/month2_7_step_lookahead_Hybrid\\assets\n",
      "WARNING:absl:<keras.layers.recurrent.LSTMCell object at 0x00000207ACD319D0> has the same name 'LSTMCell' as a built-in Keras object. Consider renaming <class 'keras.layers.recurrent.LSTMCell'> to avoid naming conflicts when loading with `tf.keras.models.load_model`. If renaming is not possible, pass the object in the `custom_objects` parameter of the load function.\n"
     ]
    },
    {
     "name": "stdout",
     "output_type": "stream",
     "text": [
      "145/145 [==============================] - 3s 21ms/step\n",
      "63/63 [==============================] - 1s 19ms/step\n"
     ]
    },
    {
     "name": "stderr",
     "output_type": "stream",
     "text": [
      "D:\\Anaconda\\lib\\site-packages\\pandas\\core\\frame.py:3678: SettingWithCopyWarning: \n",
      "A value is trying to be set on a copy of a slice from a DataFrame.\n",
      "Try using .loc[row_indexer,col_indexer] = value instead\n",
      "\n",
      "See the caveats in the documentation: https://pandas.pydata.org/pandas-docs/stable/user_guide/indexing.html#returning-a-view-versus-a-copy\n",
      "  self[col] = igetitem(value, i)\n"
     ]
    },
    {
     "name": "stdout",
     "output_type": "stream",
     "text": [
      "Epoch 1/15\n",
      "145/145 [==============================] - 10s 57ms/step - loss: 1.4023 - val_loss: 0.3148\n",
      "Epoch 2/15\n",
      "145/145 [==============================] - 8s 52ms/step - loss: 1.3856 - val_loss: 0.3116\n",
      "Epoch 3/15\n",
      "145/145 [==============================] - 8s 52ms/step - loss: 1.3845 - val_loss: 0.3115\n",
      "Epoch 4/15\n",
      "145/145 [==============================] - 8s 52ms/step - loss: 1.3835 - val_loss: 0.3134\n",
      "Epoch 5/15\n",
      "145/145 [==============================] - 8s 52ms/step - loss: 1.3837 - val_loss: 0.3117\n",
      "Epoch 6/15\n",
      "145/145 [==============================] - 8s 52ms/step - loss: 1.3833 - val_loss: 0.3078\n",
      "Epoch 7/15\n",
      "145/145 [==============================] - 8s 52ms/step - loss: 1.3826 - val_loss: 0.3097\n",
      "Epoch 8/15\n",
      "145/145 [==============================] - 8s 52ms/step - loss: 1.3829 - val_loss: 0.3079\n",
      "Epoch 9/15\n",
      "145/145 [==============================] - 8s 52ms/step - loss: 1.3813 - val_loss: 0.3118\n",
      "Epoch 10/15\n",
      "145/145 [==============================] - 8s 53ms/step - loss: 1.3826 - val_loss: 0.3072\n",
      "Epoch 11/15\n",
      "145/145 [==============================] - 8s 52ms/step - loss: 1.3817 - val_loss: 0.3085\n",
      "Epoch 12/15\n",
      "145/145 [==============================] - 7s 52ms/step - loss: 1.3823 - val_loss: 0.3076\n",
      "Epoch 13/15\n",
      "145/145 [==============================] - 8s 52ms/step - loss: 1.3807 - val_loss: 0.3069\n",
      "Epoch 14/15\n",
      "145/145 [==============================] - 8s 53ms/step - loss: 1.3795 - val_loss: 0.3085\n",
      "Epoch 15/15\n",
      "145/145 [==============================] - 8s 52ms/step - loss: 1.3805 - val_loss: 0.3095\n"
     ]
    },
    {
     "name": "stderr",
     "output_type": "stream",
     "text": [
      "WARNING:absl:Found untraced functions such as lstm_cell_30_layer_call_fn, lstm_cell_30_layer_call_and_return_conditional_losses while saving (showing 2 of 2). These functions will not be directly callable after loading.\n"
     ]
    },
    {
     "name": "stdout",
     "output_type": "stream",
     "text": [
      "INFO:tensorflow:Assets written to: Hybrid MP/month2_8_step_lookahead_Hybrid\\assets\n"
     ]
    },
    {
     "name": "stderr",
     "output_type": "stream",
     "text": [
      "INFO:tensorflow:Assets written to: Hybrid MP/month2_8_step_lookahead_Hybrid\\assets\n",
      "WARNING:absl:<keras.layers.recurrent.LSTMCell object at 0x0000020AE6246580> has the same name 'LSTMCell' as a built-in Keras object. Consider renaming <class 'keras.layers.recurrent.LSTMCell'> to avoid naming conflicts when loading with `tf.keras.models.load_model`. If renaming is not possible, pass the object in the `custom_objects` parameter of the load function.\n"
     ]
    },
    {
     "name": "stdout",
     "output_type": "stream",
     "text": [
      "145/145 [==============================] - 3s 20ms/step\n",
      "63/63 [==============================] - 1s 19ms/step\n"
     ]
    },
    {
     "name": "stderr",
     "output_type": "stream",
     "text": [
      "D:\\Anaconda\\lib\\site-packages\\pandas\\core\\frame.py:3678: SettingWithCopyWarning: \n",
      "A value is trying to be set on a copy of a slice from a DataFrame.\n",
      "Try using .loc[row_indexer,col_indexer] = value instead\n",
      "\n",
      "See the caveats in the documentation: https://pandas.pydata.org/pandas-docs/stable/user_guide/indexing.html#returning-a-view-versus-a-copy\n",
      "  self[col] = igetitem(value, i)\n"
     ]
    },
    {
     "name": "stdout",
     "output_type": "stream",
     "text": [
      "Epoch 1/15\n",
      "145/145 [==============================] - 11s 59ms/step - loss: 1.4199 - val_loss: 0.3182\n",
      "Epoch 2/15\n",
      "145/145 [==============================] - 8s 52ms/step - loss: 1.3903 - val_loss: 0.3141\n",
      "Epoch 3/15\n",
      "145/145 [==============================] - 8s 52ms/step - loss: 1.3882 - val_loss: 0.3110\n",
      "Epoch 4/15\n",
      "145/145 [==============================] - 8s 52ms/step - loss: 1.3867 - val_loss: 0.3097\n",
      "Epoch 5/15\n",
      "145/145 [==============================] - 8s 52ms/step - loss: 1.3870 - val_loss: 0.3121\n",
      "Epoch 6/15\n",
      "145/145 [==============================] - 8s 54ms/step - loss: 1.3859 - val_loss: 0.3094\n",
      "Epoch 7/15\n",
      "145/145 [==============================] - 8s 52ms/step - loss: 1.3849 - val_loss: 0.3089\n",
      "Epoch 8/15\n",
      "145/145 [==============================] - 8s 52ms/step - loss: 1.3844 - val_loss: 0.3104\n",
      "Epoch 9/15\n",
      "145/145 [==============================] - 7s 52ms/step - loss: 1.3842 - val_loss: 0.3109\n",
      "Epoch 10/15\n",
      "145/145 [==============================] - 8s 53ms/step - loss: 1.3835 - val_loss: 0.3087\n",
      "Epoch 11/15\n",
      "145/145 [==============================] - 8s 52ms/step - loss: 1.3832 - val_loss: 0.3100\n",
      "Epoch 12/15\n",
      "145/145 [==============================] - 8s 52ms/step - loss: 1.3832 - val_loss: 0.3094\n",
      "Epoch 13/15\n",
      "145/145 [==============================] - 8s 52ms/step - loss: 1.3838 - val_loss: 0.3107\n",
      "Epoch 14/15\n",
      "145/145 [==============================] - 8s 52ms/step - loss: 1.3834 - val_loss: 0.3084\n",
      "Epoch 15/15\n",
      "145/145 [==============================] - 8s 52ms/step - loss: 1.3830 - val_loss: 0.3080\n"
     ]
    },
    {
     "name": "stderr",
     "output_type": "stream",
     "text": [
      "WARNING:absl:Found untraced functions such as lstm_cell_31_layer_call_fn, lstm_cell_31_layer_call_and_return_conditional_losses while saving (showing 2 of 2). These functions will not be directly callable after loading.\n"
     ]
    },
    {
     "name": "stdout",
     "output_type": "stream",
     "text": [
      "INFO:tensorflow:Assets written to: Hybrid MP/month2_9_step_lookahead_Hybrid\\assets\n"
     ]
    },
    {
     "name": "stderr",
     "output_type": "stream",
     "text": [
      "INFO:tensorflow:Assets written to: Hybrid MP/month2_9_step_lookahead_Hybrid\\assets\n",
      "WARNING:absl:<keras.layers.recurrent.LSTMCell object at 0x0000020ADE2B1040> has the same name 'LSTMCell' as a built-in Keras object. Consider renaming <class 'keras.layers.recurrent.LSTMCell'> to avoid naming conflicts when loading with `tf.keras.models.load_model`. If renaming is not possible, pass the object in the `custom_objects` parameter of the load function.\n"
     ]
    },
    {
     "name": "stdout",
     "output_type": "stream",
     "text": [
      "145/145 [==============================] - 3s 20ms/step\n",
      "63/63 [==============================] - 1s 19ms/step\n"
     ]
    },
    {
     "name": "stderr",
     "output_type": "stream",
     "text": [
      "D:\\Anaconda\\lib\\site-packages\\pandas\\core\\frame.py:3678: SettingWithCopyWarning: \n",
      "A value is trying to be set on a copy of a slice from a DataFrame.\n",
      "Try using .loc[row_indexer,col_indexer] = value instead\n",
      "\n",
      "See the caveats in the documentation: https://pandas.pydata.org/pandas-docs/stable/user_guide/indexing.html#returning-a-view-versus-a-copy\n",
      "  self[col] = igetitem(value, i)\n"
     ]
    },
    {
     "name": "stdout",
     "output_type": "stream",
     "text": [
      "Epoch 1/15\n",
      "145/145 [==============================] - 10s 57ms/step - loss: 1.4555 - val_loss: 0.3333\n",
      "Epoch 2/15\n",
      "145/145 [==============================] - 8s 52ms/step - loss: 1.3958 - val_loss: 0.3375\n",
      "Epoch 3/15\n",
      "145/145 [==============================] - 8s 52ms/step - loss: 1.3940 - val_loss: 0.3320\n",
      "Epoch 4/15\n",
      "145/145 [==============================] - 8s 52ms/step - loss: 1.3931 - val_loss: 0.3262\n",
      "Epoch 5/15\n",
      "145/145 [==============================] - 8s 53ms/step - loss: 1.3919 - val_loss: 0.3253\n",
      "Epoch 6/15\n",
      "145/145 [==============================] - 8s 52ms/step - loss: 1.3920 - val_loss: 0.3273\n",
      "Epoch 7/15\n",
      "145/145 [==============================] - 8s 52ms/step - loss: 1.3921 - val_loss: 0.3254\n",
      "Epoch 8/15\n",
      "145/145 [==============================] - 8s 52ms/step - loss: 1.3906 - val_loss: 0.3251\n",
      "Epoch 9/15\n",
      "145/145 [==============================] - 8s 53ms/step - loss: 1.3903 - val_loss: 0.3270\n",
      "Epoch 10/15\n",
      "145/145 [==============================] - 8s 52ms/step - loss: 1.3905 - val_loss: 0.3252\n",
      "Epoch 11/15\n",
      "145/145 [==============================] - 8s 52ms/step - loss: 1.3905 - val_loss: 0.3251\n",
      "Epoch 12/15\n",
      "145/145 [==============================] - 8s 52ms/step - loss: 1.3899 - val_loss: 0.3261\n",
      "Epoch 13/15\n",
      "145/145 [==============================] - 8s 52ms/step - loss: 1.3899 - val_loss: 0.3254\n",
      "Epoch 14/15\n",
      "145/145 [==============================] - 8s 52ms/step - loss: 1.3894 - val_loss: 0.3251\n",
      "Epoch 15/15\n",
      "145/145 [==============================] - 8s 52ms/step - loss: 1.3893 - val_loss: 0.3256\n"
     ]
    },
    {
     "name": "stderr",
     "output_type": "stream",
     "text": [
      "WARNING:absl:Found untraced functions such as lstm_cell_32_layer_call_fn, lstm_cell_32_layer_call_and_return_conditional_losses while saving (showing 2 of 2). These functions will not be directly callable after loading.\n"
     ]
    },
    {
     "name": "stdout",
     "output_type": "stream",
     "text": [
      "INFO:tensorflow:Assets written to: Hybrid MP/month2_10_step_lookahead_Hybrid\\assets\n"
     ]
    },
    {
     "name": "stderr",
     "output_type": "stream",
     "text": [
      "INFO:tensorflow:Assets written to: Hybrid MP/month2_10_step_lookahead_Hybrid\\assets\n",
      "WARNING:absl:<keras.layers.recurrent.LSTMCell object at 0x00000207B9693A00> has the same name 'LSTMCell' as a built-in Keras object. Consider renaming <class 'keras.layers.recurrent.LSTMCell'> to avoid naming conflicts when loading with `tf.keras.models.load_model`. If renaming is not possible, pass the object in the `custom_objects` parameter of the load function.\n"
     ]
    },
    {
     "name": "stdout",
     "output_type": "stream",
     "text": [
      "145/145 [==============================] - 3s 21ms/step\n",
      "63/63 [==============================] - 1s 19ms/step\n"
     ]
    },
    {
     "name": "stderr",
     "output_type": "stream",
     "text": [
      "D:\\Anaconda\\lib\\site-packages\\pandas\\core\\frame.py:3678: SettingWithCopyWarning: \n",
      "A value is trying to be set on a copy of a slice from a DataFrame.\n",
      "Try using .loc[row_indexer,col_indexer] = value instead\n",
      "\n",
      "See the caveats in the documentation: https://pandas.pydata.org/pandas-docs/stable/user_guide/indexing.html#returning-a-view-versus-a-copy\n",
      "  self[col] = igetitem(value, i)\n",
      "D:\\Anaconda\\lib\\site-packages\\pandas\\core\\frame.py:3678: SettingWithCopyWarning: \n",
      "A value is trying to be set on a copy of a slice from a DataFrame.\n",
      "Try using .loc[row_indexer,col_indexer] = value instead\n",
      "\n",
      "See the caveats in the documentation: https://pandas.pydata.org/pandas-docs/stable/user_guide/indexing.html#returning-a-view-versus-a-copy\n",
      "  self[col] = igetitem(value, i)\n"
     ]
    },
    {
     "name": "stdout",
     "output_type": "stream",
     "text": [
      "Epoch 1/15\n",
      "126/126 [==============================] - 9s 55ms/step - loss: 0.1711 - val_loss: 0.0241\n",
      "Epoch 2/15\n",
      "126/126 [==============================] - 6s 51ms/step - loss: 0.1203 - val_loss: 0.0211\n",
      "Epoch 3/15\n",
      "126/126 [==============================] - 6s 51ms/step - loss: 0.1157 - val_loss: 0.0199\n",
      "Epoch 4/15\n",
      "126/126 [==============================] - 6s 51ms/step - loss: 0.1136 - val_loss: 0.0193\n",
      "Epoch 5/15\n",
      "126/126 [==============================] - 6s 51ms/step - loss: 0.1120 - val_loss: 0.0195\n",
      "Epoch 6/15\n",
      "126/126 [==============================] - 6s 51ms/step - loss: 0.1104 - val_loss: 0.0186\n",
      "Epoch 7/15\n",
      "126/126 [==============================] - 6s 51ms/step - loss: 0.1089 - val_loss: 0.0182\n",
      "Epoch 8/15\n",
      "126/126 [==============================] - 6s 51ms/step - loss: 0.1086 - val_loss: 0.0182\n",
      "Epoch 9/15\n",
      "126/126 [==============================] - 6s 51ms/step - loss: 0.1076 - val_loss: 0.0179\n",
      "Epoch 10/15\n",
      "126/126 [==============================] - 6s 51ms/step - loss: 0.1069 - val_loss: 0.0176\n",
      "Epoch 11/15\n",
      "126/126 [==============================] - 6s 51ms/step - loss: 0.1060 - val_loss: 0.0172\n",
      "Epoch 12/15\n",
      "126/126 [==============================] - 6s 51ms/step - loss: 0.1059 - val_loss: 0.0170\n",
      "Epoch 13/15\n",
      "126/126 [==============================] - 6s 51ms/step - loss: 0.1048 - val_loss: 0.0170\n",
      "Epoch 14/15\n",
      "126/126 [==============================] - 6s 51ms/step - loss: 0.1043 - val_loss: 0.0170\n",
      "Epoch 15/15\n",
      "126/126 [==============================] - 6s 51ms/step - loss: 0.1038 - val_loss: 0.0167\n"
     ]
    },
    {
     "name": "stderr",
     "output_type": "stream",
     "text": [
      "WARNING:absl:Found untraced functions such as lstm_cell_33_layer_call_fn, lstm_cell_33_layer_call_and_return_conditional_losses while saving (showing 2 of 2). These functions will not be directly callable after loading.\n"
     ]
    },
    {
     "name": "stdout",
     "output_type": "stream",
     "text": [
      "INFO:tensorflow:Assets written to: Hybrid MP/month3_1_step_lookahead_Hybrid\\assets\n"
     ]
    },
    {
     "name": "stderr",
     "output_type": "stream",
     "text": [
      "INFO:tensorflow:Assets written to: Hybrid MP/month3_1_step_lookahead_Hybrid\\assets\n",
      "WARNING:absl:<keras.layers.recurrent.LSTMCell object at 0x00000207ADBFE7F0> has the same name 'LSTMCell' as a built-in Keras object. Consider renaming <class 'keras.layers.recurrent.LSTMCell'> to avoid naming conflicts when loading with `tf.keras.models.load_model`. If renaming is not possible, pass the object in the `custom_objects` parameter of the load function.\n"
     ]
    },
    {
     "name": "stdout",
     "output_type": "stream",
     "text": [
      "126/126 [==============================] - 3s 20ms/step\n",
      "55/55 [==============================] - 1s 19ms/step\n"
     ]
    },
    {
     "name": "stderr",
     "output_type": "stream",
     "text": [
      "D:\\Anaconda\\lib\\site-packages\\pandas\\core\\frame.py:3678: SettingWithCopyWarning: \n",
      "A value is trying to be set on a copy of a slice from a DataFrame.\n",
      "Try using .loc[row_indexer,col_indexer] = value instead\n",
      "\n",
      "See the caveats in the documentation: https://pandas.pydata.org/pandas-docs/stable/user_guide/indexing.html#returning-a-view-versus-a-copy\n",
      "  self[col] = igetitem(value, i)\n"
     ]
    },
    {
     "name": "stdout",
     "output_type": "stream",
     "text": [
      "Epoch 1/15\n",
      "126/126 [==============================] - 9s 57ms/step - loss: 0.2319 - val_loss: 0.0310\n",
      "Epoch 2/15\n",
      "126/126 [==============================] - 7s 52ms/step - loss: 0.1340 - val_loss: 0.0237\n",
      "Epoch 3/15\n",
      "126/126 [==============================] - 7s 53ms/step - loss: 0.1261 - val_loss: 0.0224\n",
      "Epoch 4/15\n",
      "126/126 [==============================] - 7s 53ms/step - loss: 0.1225 - val_loss: 0.0212\n",
      "Epoch 5/15\n",
      "126/126 [==============================] - 7s 53ms/step - loss: 0.1201 - val_loss: 0.0205\n",
      "Epoch 6/15\n",
      "126/126 [==============================] - 7s 52ms/step - loss: 0.1197 - val_loss: 0.0199\n",
      "Epoch 7/15\n",
      "126/126 [==============================] - 7s 52ms/step - loss: 0.1182 - val_loss: 0.0199\n",
      "Epoch 8/15\n",
      "126/126 [==============================] - 7s 52ms/step - loss: 0.1176 - val_loss: 0.0195\n",
      "Epoch 9/15\n",
      "126/126 [==============================] - 7s 53ms/step - loss: 0.1170 - val_loss: 0.0192\n",
      "Epoch 10/15\n",
      "126/126 [==============================] - 7s 52ms/step - loss: 0.1166 - val_loss: 0.0200\n",
      "Epoch 11/15\n",
      "126/126 [==============================] - 7s 52ms/step - loss: 0.1160 - val_loss: 0.0188\n",
      "Epoch 12/15\n",
      "126/126 [==============================] - 7s 52ms/step - loss: 0.1167 - val_loss: 0.0187\n",
      "Epoch 13/15\n",
      "126/126 [==============================] - 7s 53ms/step - loss: 0.1159 - val_loss: 0.0202\n",
      "Epoch 14/15\n",
      "126/126 [==============================] - 7s 52ms/step - loss: 0.1151 - val_loss: 0.0184\n",
      "Epoch 15/15\n",
      "126/126 [==============================] - 7s 53ms/step - loss: 0.1151 - val_loss: 0.0183\n"
     ]
    },
    {
     "name": "stderr",
     "output_type": "stream",
     "text": [
      "WARNING:absl:Found untraced functions such as lstm_cell_34_layer_call_fn, lstm_cell_34_layer_call_and_return_conditional_losses while saving (showing 2 of 2). These functions will not be directly callable after loading.\n"
     ]
    },
    {
     "name": "stdout",
     "output_type": "stream",
     "text": [
      "INFO:tensorflow:Assets written to: Hybrid MP/month3_2_step_lookahead_Hybrid\\assets\n"
     ]
    },
    {
     "name": "stderr",
     "output_type": "stream",
     "text": [
      "INFO:tensorflow:Assets written to: Hybrid MP/month3_2_step_lookahead_Hybrid\\assets\n",
      "WARNING:absl:<keras.layers.recurrent.LSTMCell object at 0x0000020A68D6FF40> has the same name 'LSTMCell' as a built-in Keras object. Consider renaming <class 'keras.layers.recurrent.LSTMCell'> to avoid naming conflicts when loading with `tf.keras.models.load_model`. If renaming is not possible, pass the object in the `custom_objects` parameter of the load function.\n"
     ]
    },
    {
     "name": "stdout",
     "output_type": "stream",
     "text": [
      "126/126 [==============================] - 3s 21ms/step\n",
      "55/55 [==============================] - 1s 19ms/step\n"
     ]
    },
    {
     "name": "stderr",
     "output_type": "stream",
     "text": [
      "D:\\Anaconda\\lib\\site-packages\\pandas\\core\\frame.py:3678: SettingWithCopyWarning: \n",
      "A value is trying to be set on a copy of a slice from a DataFrame.\n",
      "Try using .loc[row_indexer,col_indexer] = value instead\n",
      "\n",
      "See the caveats in the documentation: https://pandas.pydata.org/pandas-docs/stable/user_guide/indexing.html#returning-a-view-versus-a-copy\n",
      "  self[col] = igetitem(value, i)\n"
     ]
    },
    {
     "name": "stdout",
     "output_type": "stream",
     "text": [
      "Epoch 1/15\n",
      "126/126 [==============================] - 9s 58ms/step - loss: 0.1703 - val_loss: 0.0259\n",
      "Epoch 2/15\n",
      "126/126 [==============================] - 7s 52ms/step - loss: 0.1263 - val_loss: 0.0249\n",
      "Epoch 3/15\n",
      "126/126 [==============================] - 7s 52ms/step - loss: 0.1235 - val_loss: 0.0244\n",
      "Epoch 4/15\n",
      "126/126 [==============================] - 6s 52ms/step - loss: 0.1223 - val_loss: 0.0245\n",
      "Epoch 5/15\n",
      "126/126 [==============================] - 6s 51ms/step - loss: 0.1216 - val_loss: 0.0246\n",
      "Epoch 6/15\n",
      "126/126 [==============================] - 6s 51ms/step - loss: 0.1209 - val_loss: 0.0248\n",
      "Epoch 7/15\n",
      "126/126 [==============================] - 6s 52ms/step - loss: 0.1203 - val_loss: 0.0250\n",
      "Epoch 8/15\n",
      "126/126 [==============================] - 7s 52ms/step - loss: 0.1206 - val_loss: 0.0254\n",
      "Epoch 9/15\n",
      "126/126 [==============================] - 7s 52ms/step - loss: 0.1200 - val_loss: 0.0251\n",
      "Epoch 10/15\n",
      "126/126 [==============================] - 6s 52ms/step - loss: 0.1197 - val_loss: 0.0252\n",
      "Epoch 11/15\n",
      "126/126 [==============================] - 7s 52ms/step - loss: 0.1193 - val_loss: 0.0260\n",
      "Epoch 12/15\n",
      "126/126 [==============================] - 6s 52ms/step - loss: 0.1203 - val_loss: 0.0255\n",
      "Epoch 13/15\n",
      "126/126 [==============================] - 6s 52ms/step - loss: 0.1194 - val_loss: 0.0257\n",
      "Epoch 14/15\n",
      "126/126 [==============================] - 6s 52ms/step - loss: 0.1188 - val_loss: 0.0255\n",
      "Epoch 15/15\n",
      "126/126 [==============================] - 7s 52ms/step - loss: 0.1187 - val_loss: 0.0257\n"
     ]
    },
    {
     "name": "stderr",
     "output_type": "stream",
     "text": [
      "WARNING:absl:Found untraced functions such as lstm_cell_35_layer_call_fn, lstm_cell_35_layer_call_and_return_conditional_losses while saving (showing 2 of 2). These functions will not be directly callable after loading.\n"
     ]
    },
    {
     "name": "stdout",
     "output_type": "stream",
     "text": [
      "INFO:tensorflow:Assets written to: Hybrid MP/month3_3_step_lookahead_Hybrid\\assets\n"
     ]
    },
    {
     "name": "stderr",
     "output_type": "stream",
     "text": [
      "INFO:tensorflow:Assets written to: Hybrid MP/month3_3_step_lookahead_Hybrid\\assets\n",
      "WARNING:absl:<keras.layers.recurrent.LSTMCell object at 0x00000207B9BA64F0> has the same name 'LSTMCell' as a built-in Keras object. Consider renaming <class 'keras.layers.recurrent.LSTMCell'> to avoid naming conflicts when loading with `tf.keras.models.load_model`. If renaming is not possible, pass the object in the `custom_objects` parameter of the load function.\n"
     ]
    },
    {
     "name": "stdout",
     "output_type": "stream",
     "text": [
      "126/126 [==============================] - 3s 21ms/step\n",
      "54/54 [==============================] - 1s 19ms/step\n"
     ]
    },
    {
     "name": "stderr",
     "output_type": "stream",
     "text": [
      "D:\\Anaconda\\lib\\site-packages\\pandas\\core\\frame.py:3678: SettingWithCopyWarning: \n",
      "A value is trying to be set on a copy of a slice from a DataFrame.\n",
      "Try using .loc[row_indexer,col_indexer] = value instead\n",
      "\n",
      "See the caveats in the documentation: https://pandas.pydata.org/pandas-docs/stable/user_guide/indexing.html#returning-a-view-versus-a-copy\n",
      "  self[col] = igetitem(value, i)\n"
     ]
    },
    {
     "name": "stdout",
     "output_type": "stream",
     "text": [
      "Epoch 1/15\n",
      "126/126 [==============================] - 9s 57ms/step - loss: 0.2210 - val_loss: 0.0287\n",
      "Epoch 2/15\n",
      "126/126 [==============================] - 7s 52ms/step - loss: 0.1372 - val_loss: 0.0253\n",
      "Epoch 3/15\n",
      "126/126 [==============================] - 7s 52ms/step - loss: 0.1335 - val_loss: 0.0245\n",
      "Epoch 4/15\n",
      "126/126 [==============================] - 7s 52ms/step - loss: 0.1308 - val_loss: 0.0244\n",
      "Epoch 5/15\n",
      "126/126 [==============================] - 6s 52ms/step - loss: 0.1296 - val_loss: 0.0246\n",
      "Epoch 6/15\n",
      "126/126 [==============================] - 7s 52ms/step - loss: 0.1286 - val_loss: 0.0247\n",
      "Epoch 7/15\n",
      "126/126 [==============================] - 7s 52ms/step - loss: 0.1280 - val_loss: 0.0249\n",
      "Epoch 8/15\n",
      "126/126 [==============================] - 7s 52ms/step - loss: 0.1270 - val_loss: 0.0253\n",
      "Epoch 9/15\n",
      "126/126 [==============================] - 6s 52ms/step - loss: 0.1267 - val_loss: 0.0251\n",
      "Epoch 10/15\n",
      "126/126 [==============================] - 6s 52ms/step - loss: 0.1267 - val_loss: 0.0251\n",
      "Epoch 11/15\n",
      "126/126 [==============================] - 6s 51ms/step - loss: 0.1260 - val_loss: 0.0249\n",
      "Epoch 12/15\n",
      "126/126 [==============================] - 6s 52ms/step - loss: 0.1252 - val_loss: 0.0250\n",
      "Epoch 13/15\n",
      "126/126 [==============================] - 6s 51ms/step - loss: 0.1249 - val_loss: 0.0251\n",
      "Epoch 14/15\n",
      "126/126 [==============================] - 6s 51ms/step - loss: 0.1251 - val_loss: 0.0253\n",
      "Epoch 15/15\n",
      "126/126 [==============================] - 7s 52ms/step - loss: 0.1246 - val_loss: 0.0254\n"
     ]
    },
    {
     "name": "stderr",
     "output_type": "stream",
     "text": [
      "WARNING:absl:Found untraced functions such as lstm_cell_36_layer_call_fn, lstm_cell_36_layer_call_and_return_conditional_losses while saving (showing 2 of 2). These functions will not be directly callable after loading.\n"
     ]
    },
    {
     "name": "stdout",
     "output_type": "stream",
     "text": [
      "INFO:tensorflow:Assets written to: Hybrid MP/month3_4_step_lookahead_Hybrid\\assets\n"
     ]
    },
    {
     "name": "stderr",
     "output_type": "stream",
     "text": [
      "INFO:tensorflow:Assets written to: Hybrid MP/month3_4_step_lookahead_Hybrid\\assets\n",
      "WARNING:absl:<keras.layers.recurrent.LSTMCell object at 0x0000020A689E7760> has the same name 'LSTMCell' as a built-in Keras object. Consider renaming <class 'keras.layers.recurrent.LSTMCell'> to avoid naming conflicts when loading with `tf.keras.models.load_model`. If renaming is not possible, pass the object in the `custom_objects` parameter of the load function.\n"
     ]
    },
    {
     "name": "stdout",
     "output_type": "stream",
     "text": [
      "126/126 [==============================] - 3s 21ms/step\n",
      "54/54 [==============================] - 1s 19ms/step\n"
     ]
    },
    {
     "name": "stderr",
     "output_type": "stream",
     "text": [
      "D:\\Anaconda\\lib\\site-packages\\pandas\\core\\frame.py:3678: SettingWithCopyWarning: \n",
      "A value is trying to be set on a copy of a slice from a DataFrame.\n",
      "Try using .loc[row_indexer,col_indexer] = value instead\n",
      "\n",
      "See the caveats in the documentation: https://pandas.pydata.org/pandas-docs/stable/user_guide/indexing.html#returning-a-view-versus-a-copy\n",
      "  self[col] = igetitem(value, i)\n"
     ]
    },
    {
     "name": "stdout",
     "output_type": "stream",
     "text": [
      "Epoch 1/15\n",
      "126/126 [==============================] - 9s 57ms/step - loss: 0.1681 - val_loss: 0.0262\n",
      "Epoch 2/15\n",
      "126/126 [==============================] - 7s 52ms/step - loss: 0.1338 - val_loss: 0.0252\n",
      "Epoch 3/15\n",
      "126/126 [==============================] - 7s 52ms/step - loss: 0.1324 - val_loss: 0.0249\n",
      "Epoch 4/15\n",
      "126/126 [==============================] - 7s 52ms/step - loss: 0.1314 - val_loss: 0.0246\n",
      "Epoch 5/15\n",
      "126/126 [==============================] - 7s 52ms/step - loss: 0.1311 - val_loss: 0.0247\n",
      "Epoch 6/15\n",
      "126/126 [==============================] - 7s 52ms/step - loss: 0.1306 - val_loss: 0.0252\n",
      "Epoch 7/15\n",
      "126/126 [==============================] - 7s 52ms/step - loss: 0.1301 - val_loss: 0.0249\n",
      "Epoch 8/15\n",
      "126/126 [==============================] - 7s 52ms/step - loss: 0.1298 - val_loss: 0.0251\n",
      "Epoch 9/15\n",
      "126/126 [==============================] - 7s 52ms/step - loss: 0.1292 - val_loss: 0.0253\n",
      "Epoch 10/15\n",
      "126/126 [==============================] - 7s 52ms/step - loss: 0.1288 - val_loss: 0.0254\n",
      "Epoch 11/15\n",
      "126/126 [==============================] - 7s 52ms/step - loss: 0.1286 - val_loss: 0.0254\n",
      "Epoch 12/15\n",
      "126/126 [==============================] - 7s 52ms/step - loss: 0.1282 - val_loss: 0.0273\n",
      "Epoch 13/15\n",
      "126/126 [==============================] - 7s 52ms/step - loss: 0.1282 - val_loss: 0.0258\n",
      "Epoch 14/15\n",
      "126/126 [==============================] - 6s 52ms/step - loss: 0.1275 - val_loss: 0.0256\n",
      "Epoch 15/15\n",
      "126/126 [==============================] - 7s 52ms/step - loss: 0.1275 - val_loss: 0.0261\n"
     ]
    },
    {
     "name": "stderr",
     "output_type": "stream",
     "text": [
      "WARNING:absl:Found untraced functions such as lstm_cell_37_layer_call_fn, lstm_cell_37_layer_call_and_return_conditional_losses while saving (showing 2 of 2). These functions will not be directly callable after loading.\n"
     ]
    },
    {
     "name": "stdout",
     "output_type": "stream",
     "text": [
      "INFO:tensorflow:Assets written to: Hybrid MP/month3_5_step_lookahead_Hybrid\\assets\n"
     ]
    },
    {
     "name": "stderr",
     "output_type": "stream",
     "text": [
      "INFO:tensorflow:Assets written to: Hybrid MP/month3_5_step_lookahead_Hybrid\\assets\n",
      "WARNING:absl:<keras.layers.recurrent.LSTMCell object at 0x0000020A69E5F7F0> has the same name 'LSTMCell' as a built-in Keras object. Consider renaming <class 'keras.layers.recurrent.LSTMCell'> to avoid naming conflicts when loading with `tf.keras.models.load_model`. If renaming is not possible, pass the object in the `custom_objects` parameter of the load function.\n"
     ]
    },
    {
     "name": "stdout",
     "output_type": "stream",
     "text": [
      "126/126 [==============================] - 3s 21ms/step\n",
      "54/54 [==============================] - 1s 19ms/step\n"
     ]
    },
    {
     "name": "stderr",
     "output_type": "stream",
     "text": [
      "D:\\Anaconda\\lib\\site-packages\\pandas\\core\\frame.py:3678: SettingWithCopyWarning: \n",
      "A value is trying to be set on a copy of a slice from a DataFrame.\n",
      "Try using .loc[row_indexer,col_indexer] = value instead\n",
      "\n",
      "See the caveats in the documentation: https://pandas.pydata.org/pandas-docs/stable/user_guide/indexing.html#returning-a-view-versus-a-copy\n",
      "  self[col] = igetitem(value, i)\n"
     ]
    },
    {
     "name": "stdout",
     "output_type": "stream",
     "text": [
      "Epoch 1/15\n",
      "126/126 [==============================] - 10s 57ms/step - loss: 0.1501 - val_loss: 0.0282\n",
      "Epoch 2/15\n",
      "126/126 [==============================] - 7s 53ms/step - loss: 0.1365 - val_loss: 0.0276\n",
      "Epoch 3/15\n",
      "126/126 [==============================] - 7s 53ms/step - loss: 0.1359 - val_loss: 0.0273\n",
      "Epoch 4/15\n",
      "126/126 [==============================] - 7s 52ms/step - loss: 0.1353 - val_loss: 0.0275\n",
      "Epoch 5/15\n",
      "126/126 [==============================] - 7s 52ms/step - loss: 0.1346 - val_loss: 0.0283\n",
      "Epoch 6/15\n",
      "126/126 [==============================] - 7s 52ms/step - loss: 0.1342 - val_loss: 0.0280\n",
      "Epoch 7/15\n",
      "126/126 [==============================] - 7s 52ms/step - loss: 0.1339 - val_loss: 0.0286\n",
      "Epoch 8/15\n",
      "126/126 [==============================] - 7s 52ms/step - loss: 0.1343 - val_loss: 0.0284\n",
      "Epoch 9/15\n",
      "126/126 [==============================] - 7s 52ms/step - loss: 0.1341 - val_loss: 0.0292\n",
      "Epoch 10/15\n",
      "126/126 [==============================] - 7s 52ms/step - loss: 0.1333 - val_loss: 0.0285\n",
      "Epoch 11/15\n",
      "126/126 [==============================] - 7s 52ms/step - loss: 0.1332 - val_loss: 0.0287\n",
      "Epoch 12/15\n",
      "126/126 [==============================] - 7s 52ms/step - loss: 0.1324 - val_loss: 0.0297\n",
      "Epoch 13/15\n",
      "126/126 [==============================] - 7s 52ms/step - loss: 0.1333 - val_loss: 0.0282\n",
      "Epoch 14/15\n",
      "126/126 [==============================] - 7s 52ms/step - loss: 0.1325 - val_loss: 0.0282\n",
      "Epoch 15/15\n",
      "126/126 [==============================] - 7s 52ms/step - loss: 0.1321 - val_loss: 0.0289\n"
     ]
    },
    {
     "name": "stderr",
     "output_type": "stream",
     "text": [
      "WARNING:absl:Found untraced functions such as lstm_cell_38_layer_call_fn, lstm_cell_38_layer_call_and_return_conditional_losses while saving (showing 2 of 2). These functions will not be directly callable after loading.\n"
     ]
    },
    {
     "name": "stdout",
     "output_type": "stream",
     "text": [
      "INFO:tensorflow:Assets written to: Hybrid MP/month3_6_step_lookahead_Hybrid\\assets\n"
     ]
    },
    {
     "name": "stderr",
     "output_type": "stream",
     "text": [
      "INFO:tensorflow:Assets written to: Hybrid MP/month3_6_step_lookahead_Hybrid\\assets\n",
      "WARNING:absl:<keras.layers.recurrent.LSTMCell object at 0x0000020AE62E9B80> has the same name 'LSTMCell' as a built-in Keras object. Consider renaming <class 'keras.layers.recurrent.LSTMCell'> to avoid naming conflicts when loading with `tf.keras.models.load_model`. If renaming is not possible, pass the object in the `custom_objects` parameter of the load function.\n"
     ]
    },
    {
     "name": "stdout",
     "output_type": "stream",
     "text": [
      "126/126 [==============================] - 3s 21ms/step\n",
      "54/54 [==============================] - 1s 19ms/step\n"
     ]
    },
    {
     "name": "stderr",
     "output_type": "stream",
     "text": [
      "D:\\Anaconda\\lib\\site-packages\\pandas\\core\\frame.py:3678: SettingWithCopyWarning: \n",
      "A value is trying to be set on a copy of a slice from a DataFrame.\n",
      "Try using .loc[row_indexer,col_indexer] = value instead\n",
      "\n",
      "See the caveats in the documentation: https://pandas.pydata.org/pandas-docs/stable/user_guide/indexing.html#returning-a-view-versus-a-copy\n",
      "  self[col] = igetitem(value, i)\n"
     ]
    },
    {
     "name": "stdout",
     "output_type": "stream",
     "text": [
      "Epoch 1/15\n",
      "126/126 [==============================] - 9s 57ms/step - loss: 0.1607 - val_loss: 0.0288\n",
      "Epoch 2/15\n",
      "126/126 [==============================] - 7s 53ms/step - loss: 0.1408 - val_loss: 0.0276\n",
      "Epoch 3/15\n",
      "126/126 [==============================] - 7s 52ms/step - loss: 0.1402 - val_loss: 0.0278\n",
      "Epoch 4/15\n",
      "126/126 [==============================] - 7s 52ms/step - loss: 0.1395 - val_loss: 0.0285\n",
      "Epoch 5/15\n",
      "126/126 [==============================] - 7s 52ms/step - loss: 0.1390 - val_loss: 0.0282\n",
      "Epoch 6/15\n",
      "126/126 [==============================] - 7s 52ms/step - loss: 0.1384 - val_loss: 0.0285\n",
      "Epoch 7/15\n",
      "126/126 [==============================] - 7s 52ms/step - loss: 0.1380 - val_loss: 0.0286\n",
      "Epoch 8/15\n",
      "126/126 [==============================] - 7s 53ms/step - loss: 0.1378 - val_loss: 0.0276\n",
      "Epoch 9/15\n",
      "126/126 [==============================] - 7s 52ms/step - loss: 0.1379 - val_loss: 0.0278\n",
      "Epoch 10/15\n",
      "126/126 [==============================] - 7s 53ms/step - loss: 0.1377 - val_loss: 0.0280\n",
      "Epoch 11/15\n",
      "126/126 [==============================] - 7s 52ms/step - loss: 0.1372 - val_loss: 0.0282\n",
      "Epoch 12/15\n",
      "126/126 [==============================] - 7s 52ms/step - loss: 0.1370 - val_loss: 0.0278\n",
      "Epoch 13/15\n",
      "126/126 [==============================] - 7s 52ms/step - loss: 0.1361 - val_loss: 0.0279\n",
      "Epoch 14/15\n",
      "126/126 [==============================] - 7s 52ms/step - loss: 0.1363 - val_loss: 0.0279\n",
      "Epoch 15/15\n",
      "126/126 [==============================] - 7s 52ms/step - loss: 0.1356 - val_loss: 0.0311\n"
     ]
    },
    {
     "name": "stderr",
     "output_type": "stream",
     "text": [
      "WARNING:absl:Found untraced functions such as lstm_cell_39_layer_call_fn, lstm_cell_39_layer_call_and_return_conditional_losses while saving (showing 2 of 2). These functions will not be directly callable after loading.\n"
     ]
    },
    {
     "name": "stdout",
     "output_type": "stream",
     "text": [
      "INFO:tensorflow:Assets written to: Hybrid MP/month3_7_step_lookahead_Hybrid\\assets\n"
     ]
    },
    {
     "name": "stderr",
     "output_type": "stream",
     "text": [
      "INFO:tensorflow:Assets written to: Hybrid MP/month3_7_step_lookahead_Hybrid\\assets\n",
      "WARNING:absl:<keras.layers.recurrent.LSTMCell object at 0x00000207B99CF520> has the same name 'LSTMCell' as a built-in Keras object. Consider renaming <class 'keras.layers.recurrent.LSTMCell'> to avoid naming conflicts when loading with `tf.keras.models.load_model`. If renaming is not possible, pass the object in the `custom_objects` parameter of the load function.\n"
     ]
    },
    {
     "name": "stdout",
     "output_type": "stream",
     "text": [
      "126/126 [==============================] - 3s 20ms/step\n",
      "54/54 [==============================] - 1s 19ms/step\n"
     ]
    },
    {
     "name": "stderr",
     "output_type": "stream",
     "text": [
      "D:\\Anaconda\\lib\\site-packages\\pandas\\core\\frame.py:3678: SettingWithCopyWarning: \n",
      "A value is trying to be set on a copy of a slice from a DataFrame.\n",
      "Try using .loc[row_indexer,col_indexer] = value instead\n",
      "\n",
      "See the caveats in the documentation: https://pandas.pydata.org/pandas-docs/stable/user_guide/indexing.html#returning-a-view-versus-a-copy\n",
      "  self[col] = igetitem(value, i)\n"
     ]
    },
    {
     "name": "stdout",
     "output_type": "stream",
     "text": [
      "Epoch 1/15\n",
      "126/126 [==============================] - 9s 57ms/step - loss: 0.2419 - val_loss: 0.0328\n",
      "Epoch 2/15\n",
      "126/126 [==============================] - 7s 52ms/step - loss: 0.1479 - val_loss: 0.0282\n",
      "Epoch 3/15\n",
      "126/126 [==============================] - 7s 52ms/step - loss: 0.1458 - val_loss: 0.0277\n",
      "Epoch 4/15\n",
      "126/126 [==============================] - 7s 53ms/step - loss: 0.1443 - val_loss: 0.0278\n",
      "Epoch 5/15\n",
      "126/126 [==============================] - 7s 52ms/step - loss: 0.1440 - val_loss: 0.0279\n",
      "Epoch 6/15\n",
      "126/126 [==============================] - 7s 52ms/step - loss: 0.1429 - val_loss: 0.0279\n",
      "Epoch 7/15\n",
      "126/126 [==============================] - 7s 52ms/step - loss: 0.1426 - val_loss: 0.0287\n",
      "Epoch 8/15\n",
      "126/126 [==============================] - 7s 52ms/step - loss: 0.1420 - val_loss: 0.0283\n",
      "Epoch 9/15\n",
      "126/126 [==============================] - 7s 52ms/step - loss: 0.1419 - val_loss: 0.0294\n",
      "Epoch 10/15\n",
      "126/126 [==============================] - 7s 52ms/step - loss: 0.1422 - val_loss: 0.0281\n",
      "Epoch 11/15\n",
      "126/126 [==============================] - 7s 52ms/step - loss: 0.1414 - val_loss: 0.0278\n",
      "Epoch 12/15\n",
      "126/126 [==============================] - 7s 52ms/step - loss: 0.1418 - val_loss: 0.0286\n",
      "Epoch 13/15\n",
      "126/126 [==============================] - 7s 52ms/step - loss: 0.1406 - val_loss: 0.0283\n",
      "Epoch 14/15\n",
      "126/126 [==============================] - 7s 52ms/step - loss: 0.1410 - val_loss: 0.0283\n",
      "Epoch 15/15\n",
      "126/126 [==============================] - 7s 52ms/step - loss: 0.1408 - val_loss: 0.0288\n"
     ]
    },
    {
     "name": "stderr",
     "output_type": "stream",
     "text": [
      "WARNING:absl:Found untraced functions such as lstm_cell_40_layer_call_fn, lstm_cell_40_layer_call_and_return_conditional_losses while saving (showing 2 of 2). These functions will not be directly callable after loading.\n"
     ]
    },
    {
     "name": "stdout",
     "output_type": "stream",
     "text": [
      "INFO:tensorflow:Assets written to: Hybrid MP/month3_8_step_lookahead_Hybrid\\assets\n"
     ]
    },
    {
     "name": "stderr",
     "output_type": "stream",
     "text": [
      "INFO:tensorflow:Assets written to: Hybrid MP/month3_8_step_lookahead_Hybrid\\assets\n",
      "WARNING:absl:<keras.layers.recurrent.LSTMCell object at 0x00000207BAC68550> has the same name 'LSTMCell' as a built-in Keras object. Consider renaming <class 'keras.layers.recurrent.LSTMCell'> to avoid naming conflicts when loading with `tf.keras.models.load_model`. If renaming is not possible, pass the object in the `custom_objects` parameter of the load function.\n"
     ]
    },
    {
     "name": "stdout",
     "output_type": "stream",
     "text": [
      "126/126 [==============================] - 3s 21ms/step\n",
      "54/54 [==============================] - 1s 19ms/step\n"
     ]
    },
    {
     "name": "stderr",
     "output_type": "stream",
     "text": [
      "D:\\Anaconda\\lib\\site-packages\\pandas\\core\\frame.py:3678: SettingWithCopyWarning: \n",
      "A value is trying to be set on a copy of a slice from a DataFrame.\n",
      "Try using .loc[row_indexer,col_indexer] = value instead\n",
      "\n",
      "See the caveats in the documentation: https://pandas.pydata.org/pandas-docs/stable/user_guide/indexing.html#returning-a-view-versus-a-copy\n",
      "  self[col] = igetitem(value, i)\n"
     ]
    },
    {
     "name": "stdout",
     "output_type": "stream",
     "text": [
      "Epoch 1/15\n",
      "126/126 [==============================] - 9s 57ms/step - loss: 0.1663 - val_loss: 0.0324\n",
      "Epoch 2/15\n",
      "126/126 [==============================] - 7s 52ms/step - loss: 0.1455 - val_loss: 0.0306\n",
      "Epoch 3/15\n",
      "126/126 [==============================] - 7s 53ms/step - loss: 0.1447 - val_loss: 0.0301\n",
      "Epoch 4/15\n",
      "126/126 [==============================] - 7s 52ms/step - loss: 0.1448 - val_loss: 0.0301\n",
      "Epoch 5/15\n",
      "126/126 [==============================] - 7s 52ms/step - loss: 0.1439 - val_loss: 0.0341\n",
      "Epoch 6/15\n",
      "126/126 [==============================] - 7s 52ms/step - loss: 0.1442 - val_loss: 0.0305\n",
      "Epoch 7/15\n",
      "126/126 [==============================] - 7s 52ms/step - loss: 0.1440 - val_loss: 0.0314\n",
      "Epoch 8/15\n",
      "126/126 [==============================] - 7s 52ms/step - loss: 0.1437 - val_loss: 0.0301\n",
      "Epoch 9/15\n",
      "126/126 [==============================] - 7s 52ms/step - loss: 0.1437 - val_loss: 0.0299\n",
      "Epoch 10/15\n",
      "126/126 [==============================] - 7s 52ms/step - loss: 0.1436 - val_loss: 0.0304\n",
      "Epoch 11/15\n",
      "126/126 [==============================] - 6s 52ms/step - loss: 0.1430 - val_loss: 0.0301\n",
      "Epoch 12/15\n",
      "126/126 [==============================] - 6s 52ms/step - loss: 0.1427 - val_loss: 0.0316\n",
      "Epoch 13/15\n",
      "126/126 [==============================] - 7s 52ms/step - loss: 0.1425 - val_loss: 0.0303\n",
      "Epoch 14/15\n",
      "126/126 [==============================] - 7s 52ms/step - loss: 0.1424 - val_loss: 0.0307\n",
      "Epoch 15/15\n",
      "126/126 [==============================] - 7s 52ms/step - loss: 0.1423 - val_loss: 0.0298\n"
     ]
    },
    {
     "name": "stderr",
     "output_type": "stream",
     "text": [
      "WARNING:absl:Found untraced functions such as lstm_cell_41_layer_call_fn, lstm_cell_41_layer_call_and_return_conditional_losses while saving (showing 2 of 2). These functions will not be directly callable after loading.\n"
     ]
    },
    {
     "name": "stdout",
     "output_type": "stream",
     "text": [
      "INFO:tensorflow:Assets written to: Hybrid MP/month3_9_step_lookahead_Hybrid\\assets\n"
     ]
    },
    {
     "name": "stderr",
     "output_type": "stream",
     "text": [
      "INFO:tensorflow:Assets written to: Hybrid MP/month3_9_step_lookahead_Hybrid\\assets\n",
      "WARNING:absl:<keras.layers.recurrent.LSTMCell object at 0x00000207C324B100> has the same name 'LSTMCell' as a built-in Keras object. Consider renaming <class 'keras.layers.recurrent.LSTMCell'> to avoid naming conflicts when loading with `tf.keras.models.load_model`. If renaming is not possible, pass the object in the `custom_objects` parameter of the load function.\n"
     ]
    },
    {
     "name": "stdout",
     "output_type": "stream",
     "text": [
      "126/126 [==============================] - 3s 21ms/step\n",
      "54/54 [==============================] - 1s 19ms/step\n"
     ]
    },
    {
     "name": "stderr",
     "output_type": "stream",
     "text": [
      "D:\\Anaconda\\lib\\site-packages\\pandas\\core\\frame.py:3678: SettingWithCopyWarning: \n",
      "A value is trying to be set on a copy of a slice from a DataFrame.\n",
      "Try using .loc[row_indexer,col_indexer] = value instead\n",
      "\n",
      "See the caveats in the documentation: https://pandas.pydata.org/pandas-docs/stable/user_guide/indexing.html#returning-a-view-versus-a-copy\n",
      "  self[col] = igetitem(value, i)\n"
     ]
    },
    {
     "name": "stdout",
     "output_type": "stream",
     "text": [
      "Epoch 1/15\n",
      "126/126 [==============================] - 9s 57ms/step - loss: 0.1923 - val_loss: 0.0340\n",
      "Epoch 2/15\n",
      "126/126 [==============================] - 7s 52ms/step - loss: 0.1491 - val_loss: 0.0319\n",
      "Epoch 3/15\n",
      "126/126 [==============================] - 7s 52ms/step - loss: 0.1481 - val_loss: 0.0299\n",
      "Epoch 4/15\n",
      "126/126 [==============================] - 7s 52ms/step - loss: 0.1477 - val_loss: 0.0305\n",
      "Epoch 5/15\n",
      "126/126 [==============================] - 7s 52ms/step - loss: 0.1477 - val_loss: 0.0299\n",
      "Epoch 6/15\n",
      "126/126 [==============================] - 7s 52ms/step - loss: 0.1470 - val_loss: 0.0299\n",
      "Epoch 7/15\n",
      "126/126 [==============================] - 7s 53ms/step - loss: 0.1470 - val_loss: 0.0295\n",
      "Epoch 8/15\n",
      "126/126 [==============================] - 7s 52ms/step - loss: 0.1466 - val_loss: 0.0297\n",
      "Epoch 9/15\n",
      "126/126 [==============================] - 7s 52ms/step - loss: 0.1471 - val_loss: 0.0303\n",
      "Epoch 10/15\n",
      "126/126 [==============================] - 7s 52ms/step - loss: 0.1463 - val_loss: 0.0295\n",
      "Epoch 11/15\n",
      "126/126 [==============================] - 7s 52ms/step - loss: 0.1464 - val_loss: 0.0298\n",
      "Epoch 12/15\n",
      "126/126 [==============================] - 7s 52ms/step - loss: 0.1458 - val_loss: 0.0307\n",
      "Epoch 13/15\n",
      "126/126 [==============================] - 7s 52ms/step - loss: 0.1451 - val_loss: 0.0300\n",
      "Epoch 14/15\n",
      "126/126 [==============================] - 7s 52ms/step - loss: 0.1452 - val_loss: 0.0321\n",
      "Epoch 15/15\n",
      "126/126 [==============================] - 7s 53ms/step - loss: 0.1454 - val_loss: 0.0301\n"
     ]
    },
    {
     "name": "stderr",
     "output_type": "stream",
     "text": [
      "WARNING:absl:Found untraced functions such as lstm_cell_42_layer_call_fn, lstm_cell_42_layer_call_and_return_conditional_losses while saving (showing 2 of 2). These functions will not be directly callable after loading.\n"
     ]
    },
    {
     "name": "stdout",
     "output_type": "stream",
     "text": [
      "INFO:tensorflow:Assets written to: Hybrid MP/month3_10_step_lookahead_Hybrid\\assets\n"
     ]
    },
    {
     "name": "stderr",
     "output_type": "stream",
     "text": [
      "INFO:tensorflow:Assets written to: Hybrid MP/month3_10_step_lookahead_Hybrid\\assets\n",
      "WARNING:absl:<keras.layers.recurrent.LSTMCell object at 0x0000020A68A30DC0> has the same name 'LSTMCell' as a built-in Keras object. Consider renaming <class 'keras.layers.recurrent.LSTMCell'> to avoid naming conflicts when loading with `tf.keras.models.load_model`. If renaming is not possible, pass the object in the `custom_objects` parameter of the load function.\n"
     ]
    },
    {
     "name": "stdout",
     "output_type": "stream",
     "text": [
      "126/126 [==============================] - 3s 21ms/step\n",
      "54/54 [==============================] - 1s 19ms/step\n"
     ]
    },
    {
     "name": "stderr",
     "output_type": "stream",
     "text": [
      "D:\\Anaconda\\lib\\site-packages\\pandas\\core\\frame.py:3678: SettingWithCopyWarning: \n",
      "A value is trying to be set on a copy of a slice from a DataFrame.\n",
      "Try using .loc[row_indexer,col_indexer] = value instead\n",
      "\n",
      "See the caveats in the documentation: https://pandas.pydata.org/pandas-docs/stable/user_guide/indexing.html#returning-a-view-versus-a-copy\n",
      "  self[col] = igetitem(value, i)\n",
      "D:\\Anaconda\\lib\\site-packages\\pandas\\core\\frame.py:3678: SettingWithCopyWarning: \n",
      "A value is trying to be set on a copy of a slice from a DataFrame.\n",
      "Try using .loc[row_indexer,col_indexer] = value instead\n",
      "\n",
      "See the caveats in the documentation: https://pandas.pydata.org/pandas-docs/stable/user_guide/indexing.html#returning-a-view-versus-a-copy\n",
      "  self[col] = igetitem(value, i)\n"
     ]
    },
    {
     "name": "stdout",
     "output_type": "stream",
     "text": [
      "Epoch 1/15\n",
      "145/145 [==============================] - 10s 55ms/step - loss: 1.5492 - val_loss: 0.1077\n",
      "Epoch 2/15\n",
      "145/145 [==============================] - 8s 52ms/step - loss: 1.5002 - val_loss: 0.0938\n",
      "Epoch 3/15\n",
      "145/145 [==============================] - 8s 52ms/step - loss: 1.4713 - val_loss: 0.0816\n",
      "Epoch 4/15\n",
      "145/145 [==============================] - 8s 52ms/step - loss: 1.4351 - val_loss: 0.0740\n",
      "Epoch 5/15\n",
      "145/145 [==============================] - 8s 53ms/step - loss: 1.4053 - val_loss: 0.0689\n",
      "Epoch 6/15\n",
      "145/145 [==============================] - 8s 52ms/step - loss: 1.3709 - val_loss: 0.0670\n",
      "Epoch 7/15\n",
      "145/145 [==============================] - 8s 53ms/step - loss: 1.3338 - val_loss: 0.0657\n",
      "Epoch 8/15\n",
      "145/145 [==============================] - 8s 53ms/step - loss: 1.2955 - val_loss: 0.0601\n",
      "Epoch 9/15\n",
      "145/145 [==============================] - 8s 53ms/step - loss: 1.2725 - val_loss: 0.0589\n",
      "Epoch 10/15\n",
      "145/145 [==============================] - 8s 52ms/step - loss: 1.2507 - val_loss: 0.0568\n",
      "Epoch 11/15\n",
      "145/145 [==============================] - 8s 52ms/step - loss: 1.2341 - val_loss: 0.0560\n",
      "Epoch 12/15\n",
      "145/145 [==============================] - 8s 52ms/step - loss: 1.2180 - val_loss: 0.0540\n",
      "Epoch 13/15\n",
      "145/145 [==============================] - 8s 52ms/step - loss: 1.2067 - val_loss: 0.0559\n",
      "Epoch 14/15\n",
      "145/145 [==============================] - 8s 52ms/step - loss: 1.1938 - val_loss: 0.0532\n",
      "Epoch 15/15\n",
      "145/145 [==============================] - 8s 52ms/step - loss: 1.1767 - val_loss: 0.0518\n"
     ]
    },
    {
     "name": "stderr",
     "output_type": "stream",
     "text": [
      "WARNING:absl:Found untraced functions such as lstm_cell_43_layer_call_fn, lstm_cell_43_layer_call_and_return_conditional_losses while saving (showing 2 of 2). These functions will not be directly callable after loading.\n"
     ]
    },
    {
     "name": "stdout",
     "output_type": "stream",
     "text": [
      "INFO:tensorflow:Assets written to: Hybrid MP/month4_1_step_lookahead_Hybrid\\assets\n"
     ]
    },
    {
     "name": "stderr",
     "output_type": "stream",
     "text": [
      "INFO:tensorflow:Assets written to: Hybrid MP/month4_1_step_lookahead_Hybrid\\assets\n",
      "WARNING:absl:<keras.layers.recurrent.LSTMCell object at 0x00000207B9AF7160> has the same name 'LSTMCell' as a built-in Keras object. Consider renaming <class 'keras.layers.recurrent.LSTMCell'> to avoid naming conflicts when loading with `tf.keras.models.load_model`. If renaming is not possible, pass the object in the `custom_objects` parameter of the load function.\n"
     ]
    },
    {
     "name": "stdout",
     "output_type": "stream",
     "text": [
      "145/145 [==============================] - 3s 21ms/step\n",
      "63/63 [==============================] - 1s 19ms/step\n"
     ]
    },
    {
     "name": "stderr",
     "output_type": "stream",
     "text": [
      "D:\\Anaconda\\lib\\site-packages\\pandas\\core\\frame.py:3678: SettingWithCopyWarning: \n",
      "A value is trying to be set on a copy of a slice from a DataFrame.\n",
      "Try using .loc[row_indexer,col_indexer] = value instead\n",
      "\n",
      "See the caveats in the documentation: https://pandas.pydata.org/pandas-docs/stable/user_guide/indexing.html#returning-a-view-versus-a-copy\n",
      "  self[col] = igetitem(value, i)\n"
     ]
    },
    {
     "name": "stdout",
     "output_type": "stream",
     "text": [
      "Epoch 1/15\n",
      "145/145 [==============================] - 10s 56ms/step - loss: 1.5907 - val_loss: 0.1013\n",
      "Epoch 2/15\n",
      "145/145 [==============================] - 8s 53ms/step - loss: 1.5392 - val_loss: 0.0883\n",
      "Epoch 3/15\n",
      "145/145 [==============================] - 8s 52ms/step - loss: 1.5168 - val_loss: 0.0814\n",
      "Epoch 4/15\n",
      "145/145 [==============================] - 8s 52ms/step - loss: 1.4925 - val_loss: 0.0772\n",
      "Epoch 5/15\n",
      "145/145 [==============================] - 8s 52ms/step - loss: 1.4655 - val_loss: 0.0693\n",
      "Epoch 6/15\n",
      "145/145 [==============================] - 8s 52ms/step - loss: 1.4417 - val_loss: 0.0663\n",
      "Epoch 7/15\n",
      "145/145 [==============================] - 8s 52ms/step - loss: 1.4239 - val_loss: 0.0629\n",
      "Epoch 8/15\n",
      "145/145 [==============================] - 8s 52ms/step - loss: 1.4029 - val_loss: 0.0598\n",
      "Epoch 9/15\n",
      "145/145 [==============================] - 8s 52ms/step - loss: 1.3830 - val_loss: 0.0643\n",
      "Epoch 10/15\n",
      "145/145 [==============================] - 8s 52ms/step - loss: 1.3675 - val_loss: 0.0576\n",
      "Epoch 11/15\n",
      "145/145 [==============================] - 8s 52ms/step - loss: 1.3524 - val_loss: 0.0550\n",
      "Epoch 12/15\n",
      "145/145 [==============================] - 8s 53ms/step - loss: 1.3436 - val_loss: 0.0524\n",
      "Epoch 13/15\n",
      "145/145 [==============================] - 8s 52ms/step - loss: 1.3287 - val_loss: 0.0575\n",
      "Epoch 14/15\n",
      "145/145 [==============================] - 8s 52ms/step - loss: 1.3195 - val_loss: 0.0550\n",
      "Epoch 15/15\n",
      "145/145 [==============================] - 8s 52ms/step - loss: 1.3073 - val_loss: 0.0584\n"
     ]
    },
    {
     "name": "stderr",
     "output_type": "stream",
     "text": [
      "WARNING:absl:Found untraced functions such as lstm_cell_44_layer_call_fn, lstm_cell_44_layer_call_and_return_conditional_losses while saving (showing 2 of 2). These functions will not be directly callable after loading.\n"
     ]
    },
    {
     "name": "stdout",
     "output_type": "stream",
     "text": [
      "INFO:tensorflow:Assets written to: Hybrid MP/month4_2_step_lookahead_Hybrid\\assets\n"
     ]
    },
    {
     "name": "stderr",
     "output_type": "stream",
     "text": [
      "INFO:tensorflow:Assets written to: Hybrid MP/month4_2_step_lookahead_Hybrid\\assets\n",
      "WARNING:absl:<keras.layers.recurrent.LSTMCell object at 0x00000207B97997C0> has the same name 'LSTMCell' as a built-in Keras object. Consider renaming <class 'keras.layers.recurrent.LSTMCell'> to avoid naming conflicts when loading with `tf.keras.models.load_model`. If renaming is not possible, pass the object in the `custom_objects` parameter of the load function.\n"
     ]
    },
    {
     "name": "stdout",
     "output_type": "stream",
     "text": [
      "145/145 [==============================] - 4s 21ms/step\n",
      "63/63 [==============================] - 1s 19ms/step\n"
     ]
    },
    {
     "name": "stderr",
     "output_type": "stream",
     "text": [
      "D:\\Anaconda\\lib\\site-packages\\pandas\\core\\frame.py:3678: SettingWithCopyWarning: \n",
      "A value is trying to be set on a copy of a slice from a DataFrame.\n",
      "Try using .loc[row_indexer,col_indexer] = value instead\n",
      "\n",
      "See the caveats in the documentation: https://pandas.pydata.org/pandas-docs/stable/user_guide/indexing.html#returning-a-view-versus-a-copy\n",
      "  self[col] = igetitem(value, i)\n"
     ]
    },
    {
     "name": "stdout",
     "output_type": "stream",
     "text": [
      "Epoch 1/15\n",
      "145/145 [==============================] - 10s 57ms/step - loss: 1.6382 - val_loss: 0.1242\n",
      "Epoch 2/15\n",
      "145/145 [==============================] - 8s 53ms/step - loss: 1.5934 - val_loss: 0.1113\n",
      "Epoch 3/15\n",
      "145/145 [==============================] - 8s 52ms/step - loss: 1.5772 - val_loss: 0.1002\n",
      "Epoch 4/15\n",
      "145/145 [==============================] - 8s 53ms/step - loss: 1.5626 - val_loss: 0.0920\n",
      "Epoch 5/15\n",
      "145/145 [==============================] - 8s 52ms/step - loss: 1.5489 - val_loss: 0.0893\n",
      "Epoch 6/15\n",
      "145/145 [==============================] - 8s 52ms/step - loss: 1.5335 - val_loss: 0.0866\n",
      "Epoch 7/15\n",
      "145/145 [==============================] - 8s 52ms/step - loss: 1.5202 - val_loss: 0.0856\n",
      "Epoch 8/15\n",
      "145/145 [==============================] - 8s 52ms/step - loss: 1.5058 - val_loss: 0.0812\n",
      "Epoch 9/15\n",
      "145/145 [==============================] - 8s 52ms/step - loss: 1.4939 - val_loss: 0.0802\n",
      "Epoch 10/15\n",
      "145/145 [==============================] - 8s 52ms/step - loss: 1.4847 - val_loss: 0.0825\n",
      "Epoch 11/15\n",
      "145/145 [==============================] - 8s 52ms/step - loss: 1.4919 - val_loss: 0.0778\n",
      "Epoch 12/15\n",
      "145/145 [==============================] - 8s 52ms/step - loss: 1.4697 - val_loss: 0.0829\n",
      "Epoch 13/15\n",
      "145/145 [==============================] - 7s 52ms/step - loss: 1.4562 - val_loss: 0.0861\n",
      "Epoch 14/15\n",
      "145/145 [==============================] - 8s 52ms/step - loss: 1.4535 - val_loss: 0.0861\n",
      "Epoch 15/15\n",
      "145/145 [==============================] - 8s 52ms/step - loss: 1.4470 - val_loss: 0.0912\n"
     ]
    },
    {
     "name": "stderr",
     "output_type": "stream",
     "text": [
      "WARNING:absl:Found untraced functions such as lstm_cell_45_layer_call_fn, lstm_cell_45_layer_call_and_return_conditional_losses while saving (showing 2 of 2). These functions will not be directly callable after loading.\n"
     ]
    },
    {
     "name": "stdout",
     "output_type": "stream",
     "text": [
      "INFO:tensorflow:Assets written to: Hybrid MP/month4_3_step_lookahead_Hybrid\\assets\n"
     ]
    },
    {
     "name": "stderr",
     "output_type": "stream",
     "text": [
      "INFO:tensorflow:Assets written to: Hybrid MP/month4_3_step_lookahead_Hybrid\\assets\n",
      "WARNING:absl:<keras.layers.recurrent.LSTMCell object at 0x0000020AEE7184F0> has the same name 'LSTMCell' as a built-in Keras object. Consider renaming <class 'keras.layers.recurrent.LSTMCell'> to avoid naming conflicts when loading with `tf.keras.models.load_model`. If renaming is not possible, pass the object in the `custom_objects` parameter of the load function.\n"
     ]
    },
    {
     "name": "stdout",
     "output_type": "stream",
     "text": [
      "145/145 [==============================] - 3s 21ms/step\n",
      "63/63 [==============================] - 1s 19ms/step\n"
     ]
    },
    {
     "name": "stderr",
     "output_type": "stream",
     "text": [
      "D:\\Anaconda\\lib\\site-packages\\pandas\\core\\frame.py:3678: SettingWithCopyWarning: \n",
      "A value is trying to be set on a copy of a slice from a DataFrame.\n",
      "Try using .loc[row_indexer,col_indexer] = value instead\n",
      "\n",
      "See the caveats in the documentation: https://pandas.pydata.org/pandas-docs/stable/user_guide/indexing.html#returning-a-view-versus-a-copy\n",
      "  self[col] = igetitem(value, i)\n"
     ]
    },
    {
     "name": "stdout",
     "output_type": "stream",
     "text": [
      "Epoch 1/15\n",
      "145/145 [==============================] - 11s 57ms/step - loss: 1.6768 - val_loss: 0.1316\n",
      "Epoch 2/15\n",
      "145/145 [==============================] - 8s 53ms/step - loss: 1.6106 - val_loss: 0.1170\n",
      "Epoch 3/15\n",
      "145/145 [==============================] - 8s 52ms/step - loss: 1.6000 - val_loss: 0.1072\n",
      "Epoch 4/15\n",
      "145/145 [==============================] - 8s 52ms/step - loss: 1.5937 - val_loss: 0.1015\n",
      "Epoch 5/15\n",
      "145/145 [==============================] - 8s 53ms/step - loss: 1.5868 - val_loss: 0.0984\n",
      "Epoch 6/15\n",
      "145/145 [==============================] - 8s 53ms/step - loss: 1.5829 - val_loss: 0.0983\n",
      "Epoch 7/15\n",
      "145/145 [==============================] - 8s 52ms/step - loss: 1.5796 - val_loss: 0.1059\n",
      "Epoch 8/15\n",
      "145/145 [==============================] - 8s 52ms/step - loss: 1.5743 - val_loss: 0.0958\n",
      "Epoch 9/15\n",
      "145/145 [==============================] - 8s 52ms/step - loss: 1.5724 - val_loss: 0.0964\n",
      "Epoch 10/15\n",
      "145/145 [==============================] - 8s 52ms/step - loss: 1.5741 - val_loss: 0.1003\n",
      "Epoch 11/15\n",
      "145/145 [==============================] - 8s 52ms/step - loss: 1.5660 - val_loss: 0.0936\n",
      "Epoch 12/15\n",
      "145/145 [==============================] - 8s 53ms/step - loss: 1.5684 - val_loss: 0.0943\n",
      "Epoch 13/15\n",
      "145/145 [==============================] - 8s 53ms/step - loss: 1.5649 - val_loss: 0.0905\n",
      "Epoch 14/15\n",
      "145/145 [==============================] - 8s 53ms/step - loss: 1.5492 - val_loss: 0.0922\n",
      "Epoch 15/15\n",
      "145/145 [==============================] - 8s 52ms/step - loss: 1.5514 - val_loss: 0.1066\n"
     ]
    },
    {
     "name": "stderr",
     "output_type": "stream",
     "text": [
      "WARNING:absl:Found untraced functions such as lstm_cell_46_layer_call_fn, lstm_cell_46_layer_call_and_return_conditional_losses while saving (showing 2 of 2). These functions will not be directly callable after loading.\n"
     ]
    },
    {
     "name": "stdout",
     "output_type": "stream",
     "text": [
      "INFO:tensorflow:Assets written to: Hybrid MP/month4_4_step_lookahead_Hybrid\\assets\n"
     ]
    },
    {
     "name": "stderr",
     "output_type": "stream",
     "text": [
      "INFO:tensorflow:Assets written to: Hybrid MP/month4_4_step_lookahead_Hybrid\\assets\n",
      "WARNING:absl:<keras.layers.recurrent.LSTMCell object at 0x00000207ADAAFEE0> has the same name 'LSTMCell' as a built-in Keras object. Consider renaming <class 'keras.layers.recurrent.LSTMCell'> to avoid naming conflicts when loading with `tf.keras.models.load_model`. If renaming is not possible, pass the object in the `custom_objects` parameter of the load function.\n"
     ]
    },
    {
     "name": "stdout",
     "output_type": "stream",
     "text": [
      "145/145 [==============================] - 3s 20ms/step\n",
      "63/63 [==============================] - 1s 19ms/step\n"
     ]
    },
    {
     "name": "stderr",
     "output_type": "stream",
     "text": [
      "D:\\Anaconda\\lib\\site-packages\\pandas\\core\\frame.py:3678: SettingWithCopyWarning: \n",
      "A value is trying to be set on a copy of a slice from a DataFrame.\n",
      "Try using .loc[row_indexer,col_indexer] = value instead\n",
      "\n",
      "See the caveats in the documentation: https://pandas.pydata.org/pandas-docs/stable/user_guide/indexing.html#returning-a-view-versus-a-copy\n",
      "  self[col] = igetitem(value, i)\n"
     ]
    },
    {
     "name": "stdout",
     "output_type": "stream",
     "text": [
      "Epoch 1/15\n",
      "145/145 [==============================] - 11s 57ms/step - loss: 1.6089 - val_loss: 0.1194\n",
      "Epoch 2/15\n",
      "145/145 [==============================] - 8s 52ms/step - loss: 1.6017 - val_loss: 0.1215\n",
      "Epoch 3/15\n",
      "145/145 [==============================] - 8s 52ms/step - loss: 1.5968 - val_loss: 0.1247\n",
      "Epoch 4/15\n",
      "145/145 [==============================] - 7s 52ms/step - loss: 1.5958 - val_loss: 0.1259\n",
      "Epoch 5/15\n",
      "145/145 [==============================] - 8s 52ms/step - loss: 1.5953 - val_loss: 0.1299\n",
      "Epoch 6/15\n",
      "145/145 [==============================] - 8s 52ms/step - loss: 1.5856 - val_loss: 0.1360\n",
      "Epoch 7/15\n",
      "145/145 [==============================] - 8s 52ms/step - loss: 1.5754 - val_loss: 0.1334\n",
      "Epoch 8/15\n",
      "145/145 [==============================] - 8s 52ms/step - loss: 1.5506 - val_loss: 0.1451\n",
      "Epoch 9/15\n",
      "145/145 [==============================] - 8s 52ms/step - loss: 1.5904 - val_loss: 0.1391\n",
      "Epoch 10/15\n",
      "145/145 [==============================] - 8s 52ms/step - loss: 1.5338 - val_loss: 0.1511\n",
      "Epoch 11/15\n",
      "145/145 [==============================] - 8s 52ms/step - loss: 1.5291 - val_loss: 0.1544\n",
      "Epoch 12/15\n",
      "145/145 [==============================] - 8s 52ms/step - loss: 1.4239 - val_loss: 0.1637\n",
      "Epoch 13/15\n",
      "145/145 [==============================] - 8s 52ms/step - loss: 1.4325 - val_loss: 0.1805\n",
      "Epoch 14/15\n",
      "145/145 [==============================] - 8s 53ms/step - loss: 1.3057 - val_loss: 0.2468\n",
      "Epoch 15/15\n",
      "145/145 [==============================] - 8s 52ms/step - loss: 1.2314 - val_loss: 0.3050\n"
     ]
    },
    {
     "name": "stderr",
     "output_type": "stream",
     "text": [
      "WARNING:absl:Found untraced functions such as lstm_cell_47_layer_call_fn, lstm_cell_47_layer_call_and_return_conditional_losses while saving (showing 2 of 2). These functions will not be directly callable after loading.\n"
     ]
    },
    {
     "name": "stdout",
     "output_type": "stream",
     "text": [
      "INFO:tensorflow:Assets written to: Hybrid MP/month4_5_step_lookahead_Hybrid\\assets\n"
     ]
    },
    {
     "name": "stderr",
     "output_type": "stream",
     "text": [
      "INFO:tensorflow:Assets written to: Hybrid MP/month4_5_step_lookahead_Hybrid\\assets\n",
      "WARNING:absl:<keras.layers.recurrent.LSTMCell object at 0x0000020AE82E4100> has the same name 'LSTMCell' as a built-in Keras object. Consider renaming <class 'keras.layers.recurrent.LSTMCell'> to avoid naming conflicts when loading with `tf.keras.models.load_model`. If renaming is not possible, pass the object in the `custom_objects` parameter of the load function.\n"
     ]
    },
    {
     "name": "stdout",
     "output_type": "stream",
     "text": [
      "145/145 [==============================] - 3s 21ms/step\n",
      "63/63 [==============================] - 1s 19ms/step\n"
     ]
    },
    {
     "name": "stderr",
     "output_type": "stream",
     "text": [
      "D:\\Anaconda\\lib\\site-packages\\pandas\\core\\frame.py:3678: SettingWithCopyWarning: \n",
      "A value is trying to be set on a copy of a slice from a DataFrame.\n",
      "Try using .loc[row_indexer,col_indexer] = value instead\n",
      "\n",
      "See the caveats in the documentation: https://pandas.pydata.org/pandas-docs/stable/user_guide/indexing.html#returning-a-view-versus-a-copy\n",
      "  self[col] = igetitem(value, i)\n"
     ]
    },
    {
     "name": "stdout",
     "output_type": "stream",
     "text": [
      "Epoch 1/15\n",
      "145/145 [==============================] - 10s 57ms/step - loss: 1.6612 - val_loss: 0.1391\n",
      "Epoch 2/15\n",
      "145/145 [==============================] - 8s 52ms/step - loss: 1.6127 - val_loss: 0.1340\n",
      "Epoch 3/15\n",
      "145/145 [==============================] - 8s 52ms/step - loss: 1.6077 - val_loss: 0.1312\n",
      "Epoch 4/15\n",
      "145/145 [==============================] - 8s 52ms/step - loss: 1.6049 - val_loss: 0.1322\n",
      "Epoch 5/15\n",
      "145/145 [==============================] - 7s 52ms/step - loss: 1.6035 - val_loss: 0.1344\n",
      "Epoch 6/15\n",
      "145/145 [==============================] - 8s 52ms/step - loss: 1.6023 - val_loss: 0.1382\n",
      "Epoch 7/15\n",
      "145/145 [==============================] - 8s 52ms/step - loss: 1.6015 - val_loss: 0.1348\n",
      "Epoch 8/15\n",
      "145/145 [==============================] - 8s 52ms/step - loss: 1.6009 - val_loss: 0.1389\n",
      "Epoch 9/15\n",
      "145/145 [==============================] - 8s 52ms/step - loss: 1.5974 - val_loss: 0.1353\n",
      "Epoch 10/15\n",
      "145/145 [==============================] - 8s 52ms/step - loss: 1.5915 - val_loss: 0.1400\n",
      "Epoch 11/15\n",
      "145/145 [==============================] - 7s 52ms/step - loss: 1.6036 - val_loss: 0.1596\n",
      "Epoch 12/15\n",
      "145/145 [==============================] - 8s 52ms/step - loss: 1.5891 - val_loss: 0.1418\n",
      "Epoch 13/15\n",
      "145/145 [==============================] - 7s 52ms/step - loss: 1.5847 - val_loss: 0.1376\n",
      "Epoch 14/15\n",
      "145/145 [==============================] - 8s 52ms/step - loss: 1.6123 - val_loss: 0.1302\n",
      "Epoch 15/15\n",
      "145/145 [==============================] - 8s 52ms/step - loss: 1.6043 - val_loss: 0.1317\n"
     ]
    },
    {
     "name": "stderr",
     "output_type": "stream",
     "text": [
      "WARNING:absl:Found untraced functions such as lstm_cell_48_layer_call_fn, lstm_cell_48_layer_call_and_return_conditional_losses while saving (showing 2 of 2). These functions will not be directly callable after loading.\n"
     ]
    },
    {
     "name": "stdout",
     "output_type": "stream",
     "text": [
      "INFO:tensorflow:Assets written to: Hybrid MP/month4_6_step_lookahead_Hybrid\\assets\n"
     ]
    },
    {
     "name": "stderr",
     "output_type": "stream",
     "text": [
      "INFO:tensorflow:Assets written to: Hybrid MP/month4_6_step_lookahead_Hybrid\\assets\n",
      "WARNING:absl:<keras.layers.recurrent.LSTMCell object at 0x00000207B90F7F70> has the same name 'LSTMCell' as a built-in Keras object. Consider renaming <class 'keras.layers.recurrent.LSTMCell'> to avoid naming conflicts when loading with `tf.keras.models.load_model`. If renaming is not possible, pass the object in the `custom_objects` parameter of the load function.\n"
     ]
    },
    {
     "name": "stdout",
     "output_type": "stream",
     "text": [
      "145/145 [==============================] - 3s 21ms/step\n",
      "63/63 [==============================] - 1s 19ms/step\n"
     ]
    },
    {
     "name": "stderr",
     "output_type": "stream",
     "text": [
      "D:\\Anaconda\\lib\\site-packages\\pandas\\core\\frame.py:3678: SettingWithCopyWarning: \n",
      "A value is trying to be set on a copy of a slice from a DataFrame.\n",
      "Try using .loc[row_indexer,col_indexer] = value instead\n",
      "\n",
      "See the caveats in the documentation: https://pandas.pydata.org/pandas-docs/stable/user_guide/indexing.html#returning-a-view-versus-a-copy\n",
      "  self[col] = igetitem(value, i)\n"
     ]
    },
    {
     "name": "stdout",
     "output_type": "stream",
     "text": [
      "Epoch 1/15\n",
      "145/145 [==============================] - 10s 57ms/step - loss: 1.6403 - val_loss: 0.1359\n",
      "Epoch 2/15\n",
      "145/145 [==============================] - 8s 52ms/step - loss: 1.6100 - val_loss: 0.1379\n",
      "Epoch 3/15\n",
      "145/145 [==============================] - 7s 52ms/step - loss: 1.6066 - val_loss: 0.1391\n",
      "Epoch 4/15\n",
      "145/145 [==============================] - 8s 52ms/step - loss: 1.6043 - val_loss: 0.1426\n",
      "Epoch 5/15\n",
      "145/145 [==============================] - 8s 52ms/step - loss: 1.6050 - val_loss: 0.1487\n",
      "Epoch 6/15\n",
      "145/145 [==============================] - 8s 52ms/step - loss: 1.5988 - val_loss: 0.1453\n",
      "Epoch 7/15\n",
      "145/145 [==============================] - 8s 52ms/step - loss: 1.5927 - val_loss: 0.1524\n",
      "Epoch 8/15\n",
      "145/145 [==============================] - 8s 52ms/step - loss: 1.5893 - val_loss: 0.1562\n",
      "Epoch 9/15\n",
      "145/145 [==============================] - 8s 52ms/step - loss: 1.5717 - val_loss: 0.1644\n",
      "Epoch 10/15\n",
      "145/145 [==============================] - 8s 52ms/step - loss: 1.5784 - val_loss: 0.1521\n",
      "Epoch 11/15\n",
      "145/145 [==============================] - 8s 52ms/step - loss: 1.5456 - val_loss: 0.1762\n",
      "Epoch 12/15\n",
      "145/145 [==============================] - 8s 52ms/step - loss: 1.5327 - val_loss: 0.1567\n",
      "Epoch 13/15\n",
      "145/145 [==============================] - 8s 52ms/step - loss: 1.4695 - val_loss: 0.1614\n",
      "Epoch 14/15\n",
      "145/145 [==============================] - 8s 52ms/step - loss: 1.4353 - val_loss: 0.1666\n",
      "Epoch 15/15\n",
      "145/145 [==============================] - 7s 52ms/step - loss: 1.5026 - val_loss: 0.1781\n"
     ]
    },
    {
     "name": "stderr",
     "output_type": "stream",
     "text": [
      "WARNING:absl:Found untraced functions such as lstm_cell_49_layer_call_fn, lstm_cell_49_layer_call_and_return_conditional_losses while saving (showing 2 of 2). These functions will not be directly callable after loading.\n"
     ]
    },
    {
     "name": "stdout",
     "output_type": "stream",
     "text": [
      "INFO:tensorflow:Assets written to: Hybrid MP/month4_7_step_lookahead_Hybrid\\assets\n"
     ]
    },
    {
     "name": "stderr",
     "output_type": "stream",
     "text": [
      "INFO:tensorflow:Assets written to: Hybrid MP/month4_7_step_lookahead_Hybrid\\assets\n",
      "WARNING:absl:<keras.layers.recurrent.LSTMCell object at 0x00000207ACC9FDC0> has the same name 'LSTMCell' as a built-in Keras object. Consider renaming <class 'keras.layers.recurrent.LSTMCell'> to avoid naming conflicts when loading with `tf.keras.models.load_model`. If renaming is not possible, pass the object in the `custom_objects` parameter of the load function.\n"
     ]
    },
    {
     "name": "stdout",
     "output_type": "stream",
     "text": [
      "145/145 [==============================] - 4s 21ms/step\n",
      "63/63 [==============================] - 1s 19ms/step\n"
     ]
    },
    {
     "name": "stderr",
     "output_type": "stream",
     "text": [
      "D:\\Anaconda\\lib\\site-packages\\pandas\\core\\frame.py:3678: SettingWithCopyWarning: \n",
      "A value is trying to be set on a copy of a slice from a DataFrame.\n",
      "Try using .loc[row_indexer,col_indexer] = value instead\n",
      "\n",
      "See the caveats in the documentation: https://pandas.pydata.org/pandas-docs/stable/user_guide/indexing.html#returning-a-view-versus-a-copy\n",
      "  self[col] = igetitem(value, i)\n"
     ]
    },
    {
     "name": "stdout",
     "output_type": "stream",
     "text": [
      "Epoch 1/15\n",
      "145/145 [==============================] - 10s 56ms/step - loss: 1.6672 - val_loss: 0.1405\n",
      "Epoch 2/15\n",
      "145/145 [==============================] - 8s 53ms/step - loss: 1.6133 - val_loss: 0.1369\n",
      "Epoch 3/15\n",
      "145/145 [==============================] - 8s 53ms/step - loss: 1.6092 - val_loss: 0.1363\n",
      "Epoch 4/15\n",
      "145/145 [==============================] - 8s 53ms/step - loss: 1.6082 - val_loss: 0.1369\n",
      "Epoch 5/15\n",
      "145/145 [==============================] - 7s 52ms/step - loss: 1.6073 - val_loss: 0.1387\n",
      "Epoch 6/15\n",
      "145/145 [==============================] - 8s 52ms/step - loss: 1.6053 - val_loss: 0.1369\n",
      "Epoch 7/15\n",
      "145/145 [==============================] - 7s 52ms/step - loss: 1.6030 - val_loss: 0.1401\n",
      "Epoch 8/15\n",
      "145/145 [==============================] - 8s 52ms/step - loss: 1.5984 - val_loss: 0.1364\n",
      "Epoch 9/15\n",
      "145/145 [==============================] - 7s 52ms/step - loss: 1.6055 - val_loss: 0.1470\n",
      "Epoch 10/15\n",
      "145/145 [==============================] - 8s 52ms/step - loss: 1.5914 - val_loss: 0.1548\n",
      "Epoch 11/15\n",
      "145/145 [==============================] - 8s 52ms/step - loss: 1.5778 - val_loss: 0.1692\n",
      "Epoch 12/15\n",
      "145/145 [==============================] - 7s 52ms/step - loss: 1.5774 - val_loss: 0.1710\n",
      "Epoch 13/15\n",
      "145/145 [==============================] - 8s 52ms/step - loss: 1.5585 - val_loss: 0.1874\n",
      "Epoch 14/15\n",
      "145/145 [==============================] - 8s 52ms/step - loss: 1.5618 - val_loss: 0.1592\n",
      "Epoch 15/15\n",
      "145/145 [==============================] - 8s 52ms/step - loss: 1.5607 - val_loss: 0.1920\n"
     ]
    },
    {
     "name": "stderr",
     "output_type": "stream",
     "text": [
      "WARNING:absl:Found untraced functions such as lstm_cell_50_layer_call_fn, lstm_cell_50_layer_call_and_return_conditional_losses while saving (showing 2 of 2). These functions will not be directly callable after loading.\n"
     ]
    },
    {
     "name": "stdout",
     "output_type": "stream",
     "text": [
      "INFO:tensorflow:Assets written to: Hybrid MP/month4_8_step_lookahead_Hybrid\\assets\n"
     ]
    },
    {
     "name": "stderr",
     "output_type": "stream",
     "text": [
      "INFO:tensorflow:Assets written to: Hybrid MP/month4_8_step_lookahead_Hybrid\\assets\n",
      "WARNING:absl:<keras.layers.recurrent.LSTMCell object at 0x00000207B964EAC0> has the same name 'LSTMCell' as a built-in Keras object. Consider renaming <class 'keras.layers.recurrent.LSTMCell'> to avoid naming conflicts when loading with `tf.keras.models.load_model`. If renaming is not possible, pass the object in the `custom_objects` parameter of the load function.\n"
     ]
    },
    {
     "name": "stdout",
     "output_type": "stream",
     "text": [
      "145/145 [==============================] - 3s 21ms/step\n",
      "63/63 [==============================] - 1s 19ms/step\n"
     ]
    },
    {
     "name": "stderr",
     "output_type": "stream",
     "text": [
      "D:\\Anaconda\\lib\\site-packages\\pandas\\core\\frame.py:3678: SettingWithCopyWarning: \n",
      "A value is trying to be set on a copy of a slice from a DataFrame.\n",
      "Try using .loc[row_indexer,col_indexer] = value instead\n",
      "\n",
      "See the caveats in the documentation: https://pandas.pydata.org/pandas-docs/stable/user_guide/indexing.html#returning-a-view-versus-a-copy\n",
      "  self[col] = igetitem(value, i)\n"
     ]
    },
    {
     "name": "stdout",
     "output_type": "stream",
     "text": [
      "Epoch 1/15\n",
      "145/145 [==============================] - 10s 56ms/step - loss: 1.6852 - val_loss: 0.1269\n",
      "Epoch 2/15\n",
      "145/145 [==============================] - 8s 52ms/step - loss: 1.6191 - val_loss: 0.1285\n",
      "Epoch 3/15\n",
      "145/145 [==============================] - 8s 52ms/step - loss: 1.6137 - val_loss: 0.1301\n",
      "Epoch 4/15\n",
      "145/145 [==============================] - 8s 52ms/step - loss: 1.6117 - val_loss: 0.1369\n",
      "Epoch 5/15\n",
      "145/145 [==============================] - 8s 52ms/step - loss: 1.6100 - val_loss: 0.1369\n",
      "Epoch 6/15\n",
      "145/145 [==============================] - 8s 52ms/step - loss: 1.6080 - val_loss: 0.1423\n",
      "Epoch 7/15\n",
      "145/145 [==============================] - 8s 52ms/step - loss: 1.6065 - val_loss: 0.1457\n",
      "Epoch 8/15\n",
      "145/145 [==============================] - 8s 52ms/step - loss: 1.6071 - val_loss: 0.1404\n",
      "Epoch 9/15\n",
      "145/145 [==============================] - 8s 52ms/step - loss: 1.6054 - val_loss: 0.1424\n",
      "Epoch 10/15\n",
      "145/145 [==============================] - 8s 52ms/step - loss: 1.6026 - val_loss: 0.1506\n",
      "Epoch 11/15\n",
      "145/145 [==============================] - 8s 52ms/step - loss: 1.6016 - val_loss: 0.1515\n",
      "Epoch 12/15\n",
      "145/145 [==============================] - 8s 53ms/step - loss: 1.6002 - val_loss: 0.1527\n",
      "Epoch 13/15\n",
      "145/145 [==============================] - 8s 53ms/step - loss: 1.5971 - val_loss: 0.1471\n",
      "Epoch 14/15\n",
      "145/145 [==============================] - 8s 52ms/step - loss: 1.5923 - val_loss: 0.1505\n",
      "Epoch 15/15\n",
      "145/145 [==============================] - 8s 52ms/step - loss: 1.5861 - val_loss: 0.1514\n"
     ]
    },
    {
     "name": "stderr",
     "output_type": "stream",
     "text": [
      "WARNING:absl:Found untraced functions such as lstm_cell_51_layer_call_fn, lstm_cell_51_layer_call_and_return_conditional_losses while saving (showing 2 of 2). These functions will not be directly callable after loading.\n"
     ]
    },
    {
     "name": "stdout",
     "output_type": "stream",
     "text": [
      "INFO:tensorflow:Assets written to: Hybrid MP/month4_9_step_lookahead_Hybrid\\assets\n"
     ]
    },
    {
     "name": "stderr",
     "output_type": "stream",
     "text": [
      "INFO:tensorflow:Assets written to: Hybrid MP/month4_9_step_lookahead_Hybrid\\assets\n",
      "WARNING:absl:<keras.layers.recurrent.LSTMCell object at 0x0000020A689B52E0> has the same name 'LSTMCell' as a built-in Keras object. Consider renaming <class 'keras.layers.recurrent.LSTMCell'> to avoid naming conflicts when loading with `tf.keras.models.load_model`. If renaming is not possible, pass the object in the `custom_objects` parameter of the load function.\n"
     ]
    },
    {
     "name": "stdout",
     "output_type": "stream",
     "text": [
      "145/145 [==============================] - 3s 20ms/step\n",
      "63/63 [==============================] - 1s 18ms/step\n"
     ]
    },
    {
     "name": "stderr",
     "output_type": "stream",
     "text": [
      "D:\\Anaconda\\lib\\site-packages\\pandas\\core\\frame.py:3678: SettingWithCopyWarning: \n",
      "A value is trying to be set on a copy of a slice from a DataFrame.\n",
      "Try using .loc[row_indexer,col_indexer] = value instead\n",
      "\n",
      "See the caveats in the documentation: https://pandas.pydata.org/pandas-docs/stable/user_guide/indexing.html#returning-a-view-versus-a-copy\n",
      "  self[col] = igetitem(value, i)\n"
     ]
    },
    {
     "name": "stdout",
     "output_type": "stream",
     "text": [
      "Epoch 1/15\n",
      "145/145 [==============================] - 11s 56ms/step - loss: 1.6250 - val_loss: 0.1244\n",
      "Epoch 2/15\n",
      "145/145 [==============================] - 8s 52ms/step - loss: 1.6143 - val_loss: 0.1253\n",
      "Epoch 3/15\n",
      "145/145 [==============================] - 8s 52ms/step - loss: 1.6122 - val_loss: 0.1298\n",
      "Epoch 4/15\n",
      "145/145 [==============================] - 8s 52ms/step - loss: 1.6119 - val_loss: 0.1300\n",
      "Epoch 5/15\n",
      "145/145 [==============================] - 7s 52ms/step - loss: 1.6110 - val_loss: 0.1364\n",
      "Epoch 6/15\n",
      "145/145 [==============================] - 7s 52ms/step - loss: 1.6093 - val_loss: 0.1508\n",
      "Epoch 7/15\n",
      "145/145 [==============================] - 8s 52ms/step - loss: 1.6015 - val_loss: 0.1622\n",
      "Epoch 8/15\n",
      "145/145 [==============================] - 8s 52ms/step - loss: 1.5919 - val_loss: 0.1468\n",
      "Epoch 9/15\n",
      "145/145 [==============================] - 8s 52ms/step - loss: 1.5937 - val_loss: 0.1766\n",
      "Epoch 10/15\n",
      "145/145 [==============================] - 8s 52ms/step - loss: 1.5881 - val_loss: 0.1607\n",
      "Epoch 11/15\n",
      "145/145 [==============================] - 8s 52ms/step - loss: 1.5806 - val_loss: 0.1575\n",
      "Epoch 12/15\n",
      "145/145 [==============================] - 8s 52ms/step - loss: 1.5677 - val_loss: 0.2136\n",
      "Epoch 13/15\n",
      "145/145 [==============================] - 8s 52ms/step - loss: 1.5855 - val_loss: 0.1737\n",
      "Epoch 14/15\n",
      "145/145 [==============================] - 8s 52ms/step - loss: 1.5391 - val_loss: 0.1633\n",
      "Epoch 15/15\n",
      "145/145 [==============================] - 8s 53ms/step - loss: 1.4709 - val_loss: 1.1443\n"
     ]
    },
    {
     "name": "stderr",
     "output_type": "stream",
     "text": [
      "WARNING:absl:Found untraced functions such as lstm_cell_52_layer_call_fn, lstm_cell_52_layer_call_and_return_conditional_losses while saving (showing 2 of 2). These functions will not be directly callable after loading.\n"
     ]
    },
    {
     "name": "stdout",
     "output_type": "stream",
     "text": [
      "INFO:tensorflow:Assets written to: Hybrid MP/month4_10_step_lookahead_Hybrid\\assets\n"
     ]
    },
    {
     "name": "stderr",
     "output_type": "stream",
     "text": [
      "INFO:tensorflow:Assets written to: Hybrid MP/month4_10_step_lookahead_Hybrid\\assets\n",
      "WARNING:absl:<keras.layers.recurrent.LSTMCell object at 0x0000020AE8425F70> has the same name 'LSTMCell' as a built-in Keras object. Consider renaming <class 'keras.layers.recurrent.LSTMCell'> to avoid naming conflicts when loading with `tf.keras.models.load_model`. If renaming is not possible, pass the object in the `custom_objects` parameter of the load function.\n"
     ]
    },
    {
     "name": "stdout",
     "output_type": "stream",
     "text": [
      "145/145 [==============================] - 3s 21ms/step\n",
      "63/63 [==============================] - 1s 19ms/step\n"
     ]
    },
    {
     "name": "stderr",
     "output_type": "stream",
     "text": [
      "D:\\Anaconda\\lib\\site-packages\\pandas\\core\\frame.py:3678: SettingWithCopyWarning: \n",
      "A value is trying to be set on a copy of a slice from a DataFrame.\n",
      "Try using .loc[row_indexer,col_indexer] = value instead\n",
      "\n",
      "See the caveats in the documentation: https://pandas.pydata.org/pandas-docs/stable/user_guide/indexing.html#returning-a-view-versus-a-copy\n",
      "  self[col] = igetitem(value, i)\n"
     ]
    }
   ],
   "source": [
    "end_dates = ['2021-12-26 23:55:00', '2022-01-26 23:55:00', '2022-02-26 23:55:00', '2022-03-26 23:55:00', '2022-04-26 23:55:00'  ]\n",
    "Start_dates = ['2021-11-26 00:00:00', '2021-12-26 00:00:00', '2022-01-26 23:55:00', '2022-02-26 23:55:00', '2022-03-26 23:55:00']\n",
    "\n",
    "#Create Training Examples for all lookaheads\n",
    "resample_rate = '5T'\n",
    "start_date='2021-11-26 00:00:00'\n",
    "end_date='2021-12-26 23:55:00' \n",
    "inputs = ['min_gas_price']\n",
    "#No of timesteps behind to forecast on, no of timesteps to forecast ahead\n",
    "n_steps_in = 2016+288\n",
    "n_steps_out = 1\n",
    "#How many timesteps between start of training examples\n",
    "step_interval = 1\n",
    "n_step_lookahead = 1\n",
    "\n",
    "y_hat_list=[]\n",
    "train_loss_list=[]\n",
    "val_loss_list=[]\n",
    "training_metrics_dicts=[]\n",
    "valdiation_metrics_dicts=[]\n",
    "mp_window=288\n",
    "for month in [0, 1, 2, 3, 4]:\n",
    "    n_step_lookahead=1\n",
    "    start_date=Start_dates[month]\n",
    "    end_date=end_dates[month]\n",
    "    X_train, y_train, X_val, y_val, scaler = generate_training_val_examples_univariate_output(data)\n",
    "    for i in range(1,11):\n",
    "        n_step_lookahead = i\n",
    "        \n",
    "        #X_train_denoised= denoise_array(X_train, 0, 'db4', 2, 3)\n",
    "        #X_val_denoised= denoise_array(X_val, 0, 'db4', 2, 3)\n",
    "        X_train_mp = add_mp_reversed(X_train, mp_window)\n",
    "        X_val_mp = add_mp_reversed(X_val, mp_window)\n",
    "     \n",
    "\n",
    "\n",
    "        model, model_checkpoint_callback, checkpoint_filepath = LSTM_model()\n",
    "        train_history = model.fit(X_train_mp, y_train,validation_data=(X_val_mp, y_val), epochs=15, verbose=1, callbacks=[model_checkpoint_callback])\n",
    "        model.load_weights(checkpoint_filepath)\n",
    "        model.save(('Hybrid MP/month' +str(month)+'_'+ str(i) + '_step_lookahead_Hybrid'))\n",
    "\n",
    "        yhat_train = model.predict(X_train_mp, verbose=1)\n",
    "        yhat_val = model.predict(X_val_mp, verbose=1)\n",
    "        y_hat_list.append(yhat_val)\n",
    "\n",
    "        train_loss_list.append(train_history.history['loss'])\n",
    "        val_loss_list.append(train_history.history['val_loss'])\n",
    "        pd.DataFrame(train_loss_list).to_csv('Hybrid MP_fwd/train_loss')\n",
    "        pd.DataFrame(val_loss_list).to_csv('Hybrid MP_fwd/val_loss')\n",
    "        \n",
    "        training_metrics_dicts.append(descale_y_retrun_metrics_univariate_y(yhat_train, y_train))\n",
    "        valdiation_metrics_dicts.append(descale_y_retrun_metrics_univariate_y(yhat_val, y_val))\n",
    "\n",
    "    \n",
    "        x_train_extended = []\n",
    "        for j in range(0, len(X_train)):\n",
    "            X_train_t = np.append(X_train[j], yhat_train[j])\n",
    "            x_train_extended.append(X_train_t)\n",
    "\n",
    "        x_val_extended = []\n",
    "        for k in range(0, len(X_val)):\n",
    "            X_val_t = np.append(X_val[k], yhat_val[k])\n",
    "            x_val_extended.append(X_val_t)\n",
    "\n",
    "        n_step_lookahead = i+1\n",
    "        X_traindummy, y_train, X_valdummy, y_val, scaler = generate_training_val_examples_univariate_output(data)\n",
    "        x_train = np.array(x_train_extended)\n",
    "        x_val = np.array(x_val_extended)\n",
    "        x_train = x_train.reshape(x_train.shape[0], x_train.shape[1],1)\n",
    "        x_val = x_val.reshape(x_val.shape[0], x_val.shape[1],1)\n",
    "        x_train = x_train[:,1:]\n",
    "        x_val = x_val[:,1:]\n",
    "        X_train = x_train[:(y_train.shape[0]),:,:]\n",
    "        X_val = x_val[:(y_val.shape[0]),:,:]\n",
    "        np.save(\"Hybrid MP_fwd/train_metric_dict.npy\", training_metrics_dicts)  \n",
    "        np.save(\"Hybrid MP_fwd/val_metric_dict.npy\", valdiation_metrics_dicts)  \n",
    "\n",
    "        \n",
    "        \n"
   ]
  },
  {
   "cell_type": "code",
   "execution_count": 44,
   "id": "9b7a982a-a42c-4e37-b810-16dca0dde959",
   "metadata": {},
   "outputs": [
    {
     "data": {
      "text/plain": [
       "0     27.334770\n",
       "1    932.324675\n",
       "2     13.919162\n",
       "3      0.184442\n",
       "4      0.509187\n",
       "dtype: float64"
      ]
     },
     "execution_count": 44,
     "metadata": {},
     "output_type": "execute_result"
    }
   ],
   "source": [
    "pd.DataFrame(np.load('Hybrid MP/val_metric_dict.npy', allow_pickle=True).reshape(50,5)).mean()"
   ]
  },
  {
   "cell_type": "code",
   "execution_count": 48,
   "id": "408ffacd-599b-456a-8e50-2a80bd04f37a",
   "metadata": {},
   "outputs": [
    {
     "data": {
      "text/plain": [
       "0     26.082692\n",
       "1    852.171591\n",
       "2     13.094625\n",
       "3      0.171413\n",
       "4      0.542148\n",
       "dtype: float64"
      ]
     },
     "execution_count": 48,
     "metadata": {},
     "output_type": "execute_result"
    }
   ],
   "source": [
    "pd.DataFrame(np.load('Hybrid Univarite3/val_metric_dict_1.npy', allow_pickle=True).reshape(50,5)).mean()"
   ]
  },
  {
   "cell_type": "markdown",
   "id": "35b87c5a-1a48-4c85-8255-d53171e6bde2",
   "metadata": {},
   "source": [
    "## Training loop:hybrid + MP(reversed) + DB4 denoising"
   ]
  },
  {
   "cell_type": "code",
   "execution_count": 28,
   "id": "38873e1f-a93f-430f-83f9-08d6a3aa75e7",
   "metadata": {
    "collapsed": true,
    "jupyter": {
     "outputs_hidden": true
    },
    "tags": []
   },
   "outputs": [
    {
     "name": "stderr",
     "output_type": "stream",
     "text": [
      "D:\\Anaconda\\lib\\site-packages\\pandas\\core\\frame.py:3678: SettingWithCopyWarning: \n",
      "A value is trying to be set on a copy of a slice from a DataFrame.\n",
      "Try using .loc[row_indexer,col_indexer] = value instead\n",
      "\n",
      "See the caveats in the documentation: https://pandas.pydata.org/pandas-docs/stable/user_guide/indexing.html#returning-a-view-versus-a-copy\n",
      "  self[col] = igetitem(value, i)\n"
     ]
    },
    {
     "name": "stdout",
     "output_type": "stream",
     "text": [
      "Epoch 1/15\n",
      "145/145 [==============================] - 10s 56ms/step - loss: 0.3582 - val_loss: 0.0410\n",
      "Epoch 2/15\n",
      "145/145 [==============================] - 8s 53ms/step - loss: 0.2942 - val_loss: 0.0366\n",
      "Epoch 3/15\n",
      "145/145 [==============================] - 8s 52ms/step - loss: 0.2624 - val_loss: 0.0320\n",
      "Epoch 4/15\n",
      "145/145 [==============================] - 8s 53ms/step - loss: 0.2422 - val_loss: 0.0304\n",
      "Epoch 5/15\n",
      "145/145 [==============================] - 8s 52ms/step - loss: 0.2277 - val_loss: 0.0357\n",
      "Epoch 6/15\n",
      "145/145 [==============================] - 8s 52ms/step - loss: 0.2183 - val_loss: 0.0291\n",
      "Epoch 7/15\n",
      "145/145 [==============================] - 8s 52ms/step - loss: 0.2111 - val_loss: 0.0399\n",
      "Epoch 8/15\n",
      "145/145 [==============================] - 8s 52ms/step - loss: 0.2051 - val_loss: 0.0277\n",
      "Epoch 9/15\n",
      "145/145 [==============================] - 8s 52ms/step - loss: 0.2039 - val_loss: 0.0278\n",
      "Epoch 10/15\n",
      "145/145 [==============================] - 8s 55ms/step - loss: 0.1967 - val_loss: 0.0278\n",
      "Epoch 11/15\n",
      "145/145 [==============================] - 8s 54ms/step - loss: 0.1960 - val_loss: 0.0293\n",
      "Epoch 12/15\n",
      "145/145 [==============================] - 8s 53ms/step - loss: 0.1921 - val_loss: 0.0285\n",
      "Epoch 13/15\n",
      "145/145 [==============================] - 8s 52ms/step - loss: 0.1921 - val_loss: 0.0286\n",
      "Epoch 14/15\n",
      "145/145 [==============================] - 8s 52ms/step - loss: 0.1924 - val_loss: 0.0283\n",
      "Epoch 15/15\n",
      "145/145 [==============================] - 8s 52ms/step - loss: 0.1882 - val_loss: 0.0287\n"
     ]
    },
    {
     "name": "stderr",
     "output_type": "stream",
     "text": [
      "WARNING:absl:Found untraced functions such as lstm_cell_53_layer_call_fn, lstm_cell_53_layer_call_and_return_conditional_losses while saving (showing 2 of 2). These functions will not be directly callable after loading.\n"
     ]
    },
    {
     "name": "stdout",
     "output_type": "stream",
     "text": [
      "INFO:tensorflow:Assets written to: Hybrid MP_wav/month0_1_step_lookahead_Hybrid\\assets\n"
     ]
    },
    {
     "name": "stderr",
     "output_type": "stream",
     "text": [
      "INFO:tensorflow:Assets written to: Hybrid MP_wav/month0_1_step_lookahead_Hybrid\\assets\n",
      "WARNING:absl:<keras.layers.recurrent.LSTMCell object at 0x00000207B8E74A30> has the same name 'LSTMCell' as a built-in Keras object. Consider renaming <class 'keras.layers.recurrent.LSTMCell'> to avoid naming conflicts when loading with `tf.keras.models.load_model`. If renaming is not possible, pass the object in the `custom_objects` parameter of the load function.\n"
     ]
    },
    {
     "name": "stdout",
     "output_type": "stream",
     "text": [
      "145/145 [==============================] - 3s 21ms/step\n",
      "63/63 [==============================] - 1s 19ms/step\n"
     ]
    },
    {
     "name": "stderr",
     "output_type": "stream",
     "text": [
      "D:\\Anaconda\\lib\\site-packages\\pandas\\core\\frame.py:3678: SettingWithCopyWarning: \n",
      "A value is trying to be set on a copy of a slice from a DataFrame.\n",
      "Try using .loc[row_indexer,col_indexer] = value instead\n",
      "\n",
      "See the caveats in the documentation: https://pandas.pydata.org/pandas-docs/stable/user_guide/indexing.html#returning-a-view-versus-a-copy\n",
      "  self[col] = igetitem(value, i)\n"
     ]
    },
    {
     "name": "stdout",
     "output_type": "stream",
     "text": [
      "Epoch 1/15\n",
      "145/145 [==============================] - 11s 56ms/step - loss: 0.4137 - val_loss: 0.0568\n",
      "Epoch 2/15\n",
      "145/145 [==============================] - 8s 53ms/step - loss: 0.3335 - val_loss: 0.0480\n",
      "Epoch 3/15\n",
      "145/145 [==============================] - 8s 52ms/step - loss: 0.3167 - val_loss: 0.0481\n",
      "Epoch 4/15\n",
      "145/145 [==============================] - 8s 52ms/step - loss: 0.3076 - val_loss: 0.0464\n",
      "Epoch 5/15\n",
      "145/145 [==============================] - 8s 52ms/step - loss: 0.3029 - val_loss: 0.0477\n",
      "Epoch 6/15\n",
      "145/145 [==============================] - 8s 52ms/step - loss: 0.2979 - val_loss: 0.0471\n",
      "Epoch 7/15\n",
      "145/145 [==============================] - 8s 52ms/step - loss: 0.2941 - val_loss: 0.0469\n",
      "Epoch 8/15\n",
      "145/145 [==============================] - 8s 52ms/step - loss: 0.2935 - val_loss: 0.0482\n",
      "Epoch 9/15\n",
      "145/145 [==============================] - 8s 53ms/step - loss: 0.2902 - val_loss: 0.0461\n",
      "Epoch 10/15\n",
      "145/145 [==============================] - 8s 52ms/step - loss: 0.2870 - val_loss: 0.0457\n",
      "Epoch 11/15\n",
      "145/145 [==============================] - 8s 52ms/step - loss: 0.2860 - val_loss: 0.0448\n",
      "Epoch 12/15\n",
      "145/145 [==============================] - 8s 53ms/step - loss: 0.2833 - val_loss: 0.0452\n",
      "Epoch 13/15\n",
      "145/145 [==============================] - 8s 53ms/step - loss: 0.2841 - val_loss: 0.0464\n",
      "Epoch 14/15\n",
      "145/145 [==============================] - 8s 52ms/step - loss: 0.2780 - val_loss: 0.0470\n",
      "Epoch 15/15\n",
      "145/145 [==============================] - 8s 53ms/step - loss: 0.2768 - val_loss: 0.0471\n"
     ]
    },
    {
     "name": "stderr",
     "output_type": "stream",
     "text": [
      "WARNING:absl:Found untraced functions such as lstm_cell_54_layer_call_fn, lstm_cell_54_layer_call_and_return_conditional_losses while saving (showing 2 of 2). These functions will not be directly callable after loading.\n"
     ]
    },
    {
     "name": "stdout",
     "output_type": "stream",
     "text": [
      "INFO:tensorflow:Assets written to: Hybrid MP_wav/month0_2_step_lookahead_Hybrid\\assets\n"
     ]
    },
    {
     "name": "stderr",
     "output_type": "stream",
     "text": [
      "INFO:tensorflow:Assets written to: Hybrid MP_wav/month0_2_step_lookahead_Hybrid\\assets\n",
      "WARNING:absl:<keras.layers.recurrent.LSTMCell object at 0x0000020AB9A35760> has the same name 'LSTMCell' as a built-in Keras object. Consider renaming <class 'keras.layers.recurrent.LSTMCell'> to avoid naming conflicts when loading with `tf.keras.models.load_model`. If renaming is not possible, pass the object in the `custom_objects` parameter of the load function.\n"
     ]
    },
    {
     "name": "stdout",
     "output_type": "stream",
     "text": [
      "145/145 [==============================] - 3s 20ms/step\n",
      "63/63 [==============================] - 1s 19ms/step\n"
     ]
    },
    {
     "name": "stderr",
     "output_type": "stream",
     "text": [
      "D:\\Anaconda\\lib\\site-packages\\pandas\\core\\frame.py:3678: SettingWithCopyWarning: \n",
      "A value is trying to be set on a copy of a slice from a DataFrame.\n",
      "Try using .loc[row_indexer,col_indexer] = value instead\n",
      "\n",
      "See the caveats in the documentation: https://pandas.pydata.org/pandas-docs/stable/user_guide/indexing.html#returning-a-view-versus-a-copy\n",
      "  self[col] = igetitem(value, i)\n"
     ]
    },
    {
     "name": "stdout",
     "output_type": "stream",
     "text": [
      "Epoch 1/15\n",
      "145/145 [==============================] - 10s 56ms/step - loss: 0.4126 - val_loss: 0.0481\n",
      "Epoch 2/15\n",
      "145/145 [==============================] - 8s 53ms/step - loss: 0.3560 - val_loss: 0.0462\n",
      "Epoch 3/15\n",
      "145/145 [==============================] - 8s 52ms/step - loss: 0.3423 - val_loss: 0.0479\n",
      "Epoch 4/15\n",
      "145/145 [==============================] - 8s 52ms/step - loss: 0.3351 - val_loss: 0.0487\n",
      "Epoch 5/15\n",
      "145/145 [==============================] - 8s 53ms/step - loss: 0.3311 - val_loss: 0.0458\n",
      "Epoch 6/15\n",
      "145/145 [==============================] - 8s 52ms/step - loss: 0.3275 - val_loss: 0.0469\n",
      "Epoch 7/15\n",
      "145/145 [==============================] - 8s 53ms/step - loss: 0.3243 - val_loss: 0.0494\n",
      "Epoch 8/15\n",
      "145/145 [==============================] - 8s 52ms/step - loss: 0.3223 - val_loss: 0.0466\n",
      "Epoch 9/15\n",
      "145/145 [==============================] - 8s 52ms/step - loss: 0.3208 - val_loss: 0.0498\n",
      "Epoch 10/15\n",
      "145/145 [==============================] - 8s 52ms/step - loss: 0.3160 - val_loss: 0.0500\n",
      "Epoch 11/15\n",
      "145/145 [==============================] - 8s 52ms/step - loss: 0.3142 - val_loss: 0.0514\n",
      "Epoch 12/15\n",
      "145/145 [==============================] - 8s 52ms/step - loss: 0.3099 - val_loss: 0.0550\n",
      "Epoch 13/15\n",
      "145/145 [==============================] - 8s 52ms/step - loss: 0.3121 - val_loss: 0.0503\n",
      "Epoch 14/15\n",
      "145/145 [==============================] - 8s 52ms/step - loss: 0.3039 - val_loss: 0.0508\n",
      "Epoch 15/15\n",
      "145/145 [==============================] - 8s 53ms/step - loss: 0.3035 - val_loss: 0.0603\n"
     ]
    },
    {
     "name": "stderr",
     "output_type": "stream",
     "text": [
      "WARNING:absl:Found untraced functions such as lstm_cell_55_layer_call_fn, lstm_cell_55_layer_call_and_return_conditional_losses while saving (showing 2 of 2). These functions will not be directly callable after loading.\n"
     ]
    },
    {
     "name": "stdout",
     "output_type": "stream",
     "text": [
      "INFO:tensorflow:Assets written to: Hybrid MP_wav/month0_3_step_lookahead_Hybrid\\assets\n"
     ]
    },
    {
     "name": "stderr",
     "output_type": "stream",
     "text": [
      "INFO:tensorflow:Assets written to: Hybrid MP_wav/month0_3_step_lookahead_Hybrid\\assets\n",
      "WARNING:absl:<keras.layers.recurrent.LSTMCell object at 0x0000020A64CCA250> has the same name 'LSTMCell' as a built-in Keras object. Consider renaming <class 'keras.layers.recurrent.LSTMCell'> to avoid naming conflicts when loading with `tf.keras.models.load_model`. If renaming is not possible, pass the object in the `custom_objects` parameter of the load function.\n"
     ]
    },
    {
     "name": "stdout",
     "output_type": "stream",
     "text": [
      "145/145 [==============================] - 3s 21ms/step\n",
      "63/63 [==============================] - 1s 19ms/step\n"
     ]
    },
    {
     "name": "stderr",
     "output_type": "stream",
     "text": [
      "D:\\Anaconda\\lib\\site-packages\\pandas\\core\\frame.py:3678: SettingWithCopyWarning: \n",
      "A value is trying to be set on a copy of a slice from a DataFrame.\n",
      "Try using .loc[row_indexer,col_indexer] = value instead\n",
      "\n",
      "See the caveats in the documentation: https://pandas.pydata.org/pandas-docs/stable/user_guide/indexing.html#returning-a-view-versus-a-copy\n",
      "  self[col] = igetitem(value, i)\n"
     ]
    },
    {
     "name": "stdout",
     "output_type": "stream",
     "text": [
      "Epoch 1/15\n",
      "145/145 [==============================] - 10s 57ms/step - loss: 0.3993 - val_loss: 0.0535\n",
      "Epoch 2/15\n",
      "145/145 [==============================] - 8s 53ms/step - loss: 0.3622 - val_loss: 0.0528\n",
      "Epoch 3/15\n",
      "145/145 [==============================] - 8s 52ms/step - loss: 0.3535 - val_loss: 0.0508\n",
      "Epoch 4/15\n",
      "145/145 [==============================] - 8s 52ms/step - loss: 0.3494 - val_loss: 0.0480\n",
      "Epoch 5/15\n",
      "145/145 [==============================] - 8s 53ms/step - loss: 0.3458 - val_loss: 0.0460\n",
      "Epoch 6/15\n",
      "145/145 [==============================] - 8s 52ms/step - loss: 0.3444 - val_loss: 0.0479\n",
      "Epoch 7/15\n",
      "145/145 [==============================] - 8s 52ms/step - loss: 0.3404 - val_loss: 0.0550\n",
      "Epoch 8/15\n",
      "145/145 [==============================] - 8s 52ms/step - loss: 0.3365 - val_loss: 0.0480\n",
      "Epoch 9/15\n",
      "145/145 [==============================] - 8s 52ms/step - loss: 0.3333 - val_loss: 0.0534\n",
      "Epoch 10/15\n",
      "145/145 [==============================] - 8s 52ms/step - loss: 0.3309 - val_loss: 0.0516\n",
      "Epoch 11/15\n",
      "145/145 [==============================] - 8s 52ms/step - loss: 0.3280 - val_loss: 0.0481\n",
      "Epoch 12/15\n",
      "145/145 [==============================] - 8s 52ms/step - loss: 0.3245 - val_loss: 0.0530\n",
      "Epoch 13/15\n",
      "145/145 [==============================] - 8s 52ms/step - loss: 0.3272 - val_loss: 0.0519\n",
      "Epoch 14/15\n",
      "145/145 [==============================] - 8s 52ms/step - loss: 0.3215 - val_loss: 0.0501\n",
      "Epoch 15/15\n",
      "145/145 [==============================] - 8s 52ms/step - loss: 0.3209 - val_loss: 0.0468\n"
     ]
    },
    {
     "name": "stderr",
     "output_type": "stream",
     "text": [
      "WARNING:absl:Found untraced functions such as lstm_cell_56_layer_call_fn, lstm_cell_56_layer_call_and_return_conditional_losses while saving (showing 2 of 2). These functions will not be directly callable after loading.\n"
     ]
    },
    {
     "name": "stdout",
     "output_type": "stream",
     "text": [
      "INFO:tensorflow:Assets written to: Hybrid MP_wav/month0_4_step_lookahead_Hybrid\\assets\n"
     ]
    },
    {
     "name": "stderr",
     "output_type": "stream",
     "text": [
      "INFO:tensorflow:Assets written to: Hybrid MP_wav/month0_4_step_lookahead_Hybrid\\assets\n",
      "WARNING:absl:<keras.layers.recurrent.LSTMCell object at 0x00000207BB237880> has the same name 'LSTMCell' as a built-in Keras object. Consider renaming <class 'keras.layers.recurrent.LSTMCell'> to avoid naming conflicts when loading with `tf.keras.models.load_model`. If renaming is not possible, pass the object in the `custom_objects` parameter of the load function.\n"
     ]
    },
    {
     "name": "stdout",
     "output_type": "stream",
     "text": [
      "145/145 [==============================] - 3s 21ms/step\n",
      "63/63 [==============================] - 1s 19ms/step\n"
     ]
    },
    {
     "name": "stderr",
     "output_type": "stream",
     "text": [
      "D:\\Anaconda\\lib\\site-packages\\pandas\\core\\frame.py:3678: SettingWithCopyWarning: \n",
      "A value is trying to be set on a copy of a slice from a DataFrame.\n",
      "Try using .loc[row_indexer,col_indexer] = value instead\n",
      "\n",
      "See the caveats in the documentation: https://pandas.pydata.org/pandas-docs/stable/user_guide/indexing.html#returning-a-view-versus-a-copy\n",
      "  self[col] = igetitem(value, i)\n"
     ]
    },
    {
     "name": "stdout",
     "output_type": "stream",
     "text": [
      "Epoch 1/15\n",
      "145/145 [==============================] - 10s 56ms/step - loss: 0.3846 - val_loss: 0.0542\n",
      "Epoch 2/15\n",
      "145/145 [==============================] - 8s 52ms/step - loss: 0.3668 - val_loss: 0.0568\n",
      "Epoch 3/15\n",
      "145/145 [==============================] - 8s 52ms/step - loss: 0.3604 - val_loss: 0.0600\n",
      "Epoch 4/15\n",
      "145/145 [==============================] - 8s 52ms/step - loss: 0.3570 - val_loss: 0.0557\n",
      "Epoch 5/15\n",
      "145/145 [==============================] - 8s 52ms/step - loss: 0.3531 - val_loss: 0.0570\n",
      "Epoch 6/15\n",
      "145/145 [==============================] - 8s 52ms/step - loss: 0.3514 - val_loss: 0.0597\n",
      "Epoch 7/15\n",
      "145/145 [==============================] - 8s 52ms/step - loss: 0.3476 - val_loss: 0.0634\n",
      "Epoch 8/15\n",
      "145/145 [==============================] - 8s 52ms/step - loss: 0.3440 - val_loss: 0.0671\n",
      "Epoch 9/15\n",
      "145/145 [==============================] - 8s 52ms/step - loss: 0.3425 - val_loss: 0.0619\n",
      "Epoch 10/15\n",
      "145/145 [==============================] - 8s 53ms/step - loss: 0.3400 - val_loss: 0.0675\n",
      "Epoch 11/15\n",
      "145/145 [==============================] - 8s 52ms/step - loss: 0.3393 - val_loss: 0.0652\n",
      "Epoch 12/15\n",
      "145/145 [==============================] - 8s 52ms/step - loss: 0.3378 - val_loss: 0.0698\n",
      "Epoch 13/15\n",
      "145/145 [==============================] - 8s 52ms/step - loss: 0.3515 - val_loss: 0.0629\n",
      "Epoch 14/15\n",
      "145/145 [==============================] - 8s 52ms/step - loss: 0.3347 - val_loss: 0.0648\n",
      "Epoch 15/15\n",
      "145/145 [==============================] - 8s 52ms/step - loss: 0.3323 - val_loss: 0.0703\n"
     ]
    },
    {
     "name": "stderr",
     "output_type": "stream",
     "text": [
      "WARNING:absl:Found untraced functions such as lstm_cell_57_layer_call_fn, lstm_cell_57_layer_call_and_return_conditional_losses while saving (showing 2 of 2). These functions will not be directly callable after loading.\n"
     ]
    },
    {
     "name": "stdout",
     "output_type": "stream",
     "text": [
      "INFO:tensorflow:Assets written to: Hybrid MP_wav/month0_5_step_lookahead_Hybrid\\assets\n"
     ]
    },
    {
     "name": "stderr",
     "output_type": "stream",
     "text": [
      "INFO:tensorflow:Assets written to: Hybrid MP_wav/month0_5_step_lookahead_Hybrid\\assets\n",
      "WARNING:absl:<keras.layers.recurrent.LSTMCell object at 0x0000020ADD554880> has the same name 'LSTMCell' as a built-in Keras object. Consider renaming <class 'keras.layers.recurrent.LSTMCell'> to avoid naming conflicts when loading with `tf.keras.models.load_model`. If renaming is not possible, pass the object in the `custom_objects` parameter of the load function.\n"
     ]
    },
    {
     "name": "stdout",
     "output_type": "stream",
     "text": [
      "145/145 [==============================] - 3s 20ms/step\n",
      "63/63 [==============================] - 1s 19ms/step\n"
     ]
    },
    {
     "name": "stderr",
     "output_type": "stream",
     "text": [
      "D:\\Anaconda\\lib\\site-packages\\pandas\\core\\frame.py:3678: SettingWithCopyWarning: \n",
      "A value is trying to be set on a copy of a slice from a DataFrame.\n",
      "Try using .loc[row_indexer,col_indexer] = value instead\n",
      "\n",
      "See the caveats in the documentation: https://pandas.pydata.org/pandas-docs/stable/user_guide/indexing.html#returning-a-view-versus-a-copy\n",
      "  self[col] = igetitem(value, i)\n"
     ]
    },
    {
     "name": "stdout",
     "output_type": "stream",
     "text": [
      "Epoch 1/15\n",
      "145/145 [==============================] - 10s 57ms/step - loss: 0.4484 - val_loss: 0.0552\n",
      "Epoch 2/15\n",
      "145/145 [==============================] - 8s 52ms/step - loss: 0.3907 - val_loss: 0.0574\n",
      "Epoch 3/15\n",
      "145/145 [==============================] - 8s 52ms/step - loss: 0.3820 - val_loss: 0.0571\n",
      "Epoch 4/15\n",
      "145/145 [==============================] - 8s 52ms/step - loss: 0.3765 - val_loss: 0.0553\n",
      "Epoch 5/15\n",
      "145/145 [==============================] - 8s 52ms/step - loss: 0.3733 - val_loss: 0.0564\n",
      "Epoch 6/15\n",
      "145/145 [==============================] - 8s 52ms/step - loss: 0.3679 - val_loss: 0.0530\n",
      "Epoch 7/15\n",
      "145/145 [==============================] - 8s 52ms/step - loss: 0.3665 - val_loss: 0.0591\n",
      "Epoch 8/15\n",
      "145/145 [==============================] - 8s 52ms/step - loss: 0.3649 - val_loss: 0.0552\n",
      "Epoch 9/15\n",
      "145/145 [==============================] - 8s 52ms/step - loss: 0.3635 - val_loss: 0.0555\n",
      "Epoch 10/15\n",
      "145/145 [==============================] - 8s 52ms/step - loss: 0.3630 - val_loss: 0.0593\n",
      "Epoch 11/15\n",
      "145/145 [==============================] - 8s 52ms/step - loss: 0.3587 - val_loss: 0.0576\n",
      "Epoch 12/15\n",
      "145/145 [==============================] - 8s 52ms/step - loss: 0.3567 - val_loss: 0.0537\n",
      "Epoch 13/15\n",
      "145/145 [==============================] - 8s 52ms/step - loss: 0.3542 - val_loss: 0.0513\n",
      "Epoch 14/15\n",
      "145/145 [==============================] - 8s 52ms/step - loss: 0.3560 - val_loss: 0.0564\n",
      "Epoch 15/15\n",
      "145/145 [==============================] - 8s 52ms/step - loss: 0.3497 - val_loss: 0.0557\n"
     ]
    },
    {
     "name": "stderr",
     "output_type": "stream",
     "text": [
      "WARNING:absl:Found untraced functions such as lstm_cell_58_layer_call_fn, lstm_cell_58_layer_call_and_return_conditional_losses while saving (showing 2 of 2). These functions will not be directly callable after loading.\n"
     ]
    },
    {
     "name": "stdout",
     "output_type": "stream",
     "text": [
      "INFO:tensorflow:Assets written to: Hybrid MP_wav/month0_6_step_lookahead_Hybrid\\assets\n"
     ]
    },
    {
     "name": "stderr",
     "output_type": "stream",
     "text": [
      "INFO:tensorflow:Assets written to: Hybrid MP_wav/month0_6_step_lookahead_Hybrid\\assets\n",
      "WARNING:absl:<keras.layers.recurrent.LSTMCell object at 0x00000207ADC0BD00> has the same name 'LSTMCell' as a built-in Keras object. Consider renaming <class 'keras.layers.recurrent.LSTMCell'> to avoid naming conflicts when loading with `tf.keras.models.load_model`. If renaming is not possible, pass the object in the `custom_objects` parameter of the load function.\n"
     ]
    },
    {
     "name": "stdout",
     "output_type": "stream",
     "text": [
      "145/145 [==============================] - 3s 20ms/step\n",
      "63/63 [==============================] - 1s 19ms/step\n"
     ]
    },
    {
     "name": "stderr",
     "output_type": "stream",
     "text": [
      "D:\\Anaconda\\lib\\site-packages\\pandas\\core\\frame.py:3678: SettingWithCopyWarning: \n",
      "A value is trying to be set on a copy of a slice from a DataFrame.\n",
      "Try using .loc[row_indexer,col_indexer] = value instead\n",
      "\n",
      "See the caveats in the documentation: https://pandas.pydata.org/pandas-docs/stable/user_guide/indexing.html#returning-a-view-versus-a-copy\n",
      "  self[col] = igetitem(value, i)\n"
     ]
    },
    {
     "name": "stdout",
     "output_type": "stream",
     "text": [
      "Epoch 1/15\n",
      "145/145 [==============================] - 10s 56ms/step - loss: 0.4685 - val_loss: 0.0581\n",
      "Epoch 2/15\n",
      "145/145 [==============================] - 8s 52ms/step - loss: 0.3937 - val_loss: 0.0562\n",
      "Epoch 3/15\n",
      "145/145 [==============================] - 8s 52ms/step - loss: 0.3840 - val_loss: 0.0575\n",
      "Epoch 4/15\n",
      "145/145 [==============================] - 8s 52ms/step - loss: 0.3806 - val_loss: 0.0593\n",
      "Epoch 5/15\n",
      "145/145 [==============================] - 8s 53ms/step - loss: 0.3767 - val_loss: 0.0539\n",
      "Epoch 6/15\n",
      "145/145 [==============================] - 8s 52ms/step - loss: 0.3742 - val_loss: 0.0601\n",
      "Epoch 7/15\n",
      "145/145 [==============================] - 8s 52ms/step - loss: 0.3710 - val_loss: 0.0621\n",
      "Epoch 8/15\n",
      "145/145 [==============================] - 8s 52ms/step - loss: 0.3687 - val_loss: 0.0641\n",
      "Epoch 9/15\n",
      "145/145 [==============================] - 7s 52ms/step - loss: 0.3711 - val_loss: 0.0623\n",
      "Epoch 10/15\n",
      "145/145 [==============================] - 8s 52ms/step - loss: 0.3669 - val_loss: 0.0608\n",
      "Epoch 11/15\n",
      "145/145 [==============================] - 8s 52ms/step - loss: 0.3649 - val_loss: 0.0662\n",
      "Epoch 12/15\n",
      "145/145 [==============================] - 8s 52ms/step - loss: 0.3601 - val_loss: 0.0742\n",
      "Epoch 13/15\n",
      "145/145 [==============================] - 8s 52ms/step - loss: 0.3596 - val_loss: 0.0740\n",
      "Epoch 14/15\n",
      "145/145 [==============================] - 8s 52ms/step - loss: 0.3607 - val_loss: 0.0632\n",
      "Epoch 15/15\n",
      "145/145 [==============================] - 8s 52ms/step - loss: 0.3578 - val_loss: 0.0658\n"
     ]
    },
    {
     "name": "stderr",
     "output_type": "stream",
     "text": [
      "WARNING:absl:Found untraced functions such as lstm_cell_59_layer_call_fn, lstm_cell_59_layer_call_and_return_conditional_losses while saving (showing 2 of 2). These functions will not be directly callable after loading.\n"
     ]
    },
    {
     "name": "stdout",
     "output_type": "stream",
     "text": [
      "INFO:tensorflow:Assets written to: Hybrid MP_wav/month0_7_step_lookahead_Hybrid\\assets\n"
     ]
    },
    {
     "name": "stderr",
     "output_type": "stream",
     "text": [
      "INFO:tensorflow:Assets written to: Hybrid MP_wav/month0_7_step_lookahead_Hybrid\\assets\n",
      "WARNING:absl:<keras.layers.recurrent.LSTMCell object at 0x0000020A88CCA6D0> has the same name 'LSTMCell' as a built-in Keras object. Consider renaming <class 'keras.layers.recurrent.LSTMCell'> to avoid naming conflicts when loading with `tf.keras.models.load_model`. If renaming is not possible, pass the object in the `custom_objects` parameter of the load function.\n"
     ]
    },
    {
     "name": "stdout",
     "output_type": "stream",
     "text": [
      "145/145 [==============================] - 3s 21ms/step\n",
      "63/63 [==============================] - 1s 19ms/step\n"
     ]
    },
    {
     "name": "stderr",
     "output_type": "stream",
     "text": [
      "D:\\Anaconda\\lib\\site-packages\\pandas\\core\\frame.py:3678: SettingWithCopyWarning: \n",
      "A value is trying to be set on a copy of a slice from a DataFrame.\n",
      "Try using .loc[row_indexer,col_indexer] = value instead\n",
      "\n",
      "See the caveats in the documentation: https://pandas.pydata.org/pandas-docs/stable/user_guide/indexing.html#returning-a-view-versus-a-copy\n",
      "  self[col] = igetitem(value, i)\n"
     ]
    },
    {
     "name": "stdout",
     "output_type": "stream",
     "text": [
      "Epoch 1/15\n",
      "145/145 [==============================] - 10s 57ms/step - loss: 0.4580 - val_loss: 0.0577\n",
      "Epoch 2/15\n",
      "145/145 [==============================] - 8s 52ms/step - loss: 0.3955 - val_loss: 0.0594\n",
      "Epoch 3/15\n",
      "145/145 [==============================] - 8s 53ms/step - loss: 0.3895 - val_loss: 0.0556\n",
      "Epoch 4/15\n",
      "145/145 [==============================] - 8s 53ms/step - loss: 0.3856 - val_loss: 0.0576\n",
      "Epoch 5/15\n",
      "145/145 [==============================] - 8s 52ms/step - loss: 0.3827 - val_loss: 0.0580\n",
      "Epoch 6/15\n",
      "145/145 [==============================] - 8s 52ms/step - loss: 0.3808 - val_loss: 0.0589\n",
      "Epoch 7/15\n",
      "145/145 [==============================] - 8s 52ms/step - loss: 0.3804 - val_loss: 0.0575\n",
      "Epoch 8/15\n",
      "145/145 [==============================] - 8s 52ms/step - loss: 0.3758 - val_loss: 0.0684\n",
      "Epoch 9/15\n",
      "145/145 [==============================] - 8s 52ms/step - loss: 0.3751 - val_loss: 0.0655\n",
      "Epoch 10/15\n",
      "145/145 [==============================] - 8s 52ms/step - loss: 0.3713 - val_loss: 0.0681\n",
      "Epoch 11/15\n",
      "145/145 [==============================] - 8s 52ms/step - loss: 0.3704 - val_loss: 0.0716\n",
      "Epoch 12/15\n",
      "145/145 [==============================] - 8s 52ms/step - loss: 0.3717 - val_loss: 0.0767\n",
      "Epoch 13/15\n",
      "145/145 [==============================] - 8s 52ms/step - loss: 0.3691 - val_loss: 0.0781\n",
      "Epoch 14/15\n",
      "145/145 [==============================] - 8s 52ms/step - loss: 0.3683 - val_loss: 0.0679\n",
      "Epoch 15/15\n",
      "145/145 [==============================] - 8s 52ms/step - loss: 0.3657 - val_loss: 0.0727\n"
     ]
    },
    {
     "name": "stderr",
     "output_type": "stream",
     "text": [
      "WARNING:absl:Found untraced functions such as lstm_cell_60_layer_call_fn, lstm_cell_60_layer_call_and_return_conditional_losses while saving (showing 2 of 2). These functions will not be directly callable after loading.\n"
     ]
    },
    {
     "name": "stdout",
     "output_type": "stream",
     "text": [
      "INFO:tensorflow:Assets written to: Hybrid MP_wav/month0_8_step_lookahead_Hybrid\\assets\n"
     ]
    },
    {
     "name": "stderr",
     "output_type": "stream",
     "text": [
      "INFO:tensorflow:Assets written to: Hybrid MP_wav/month0_8_step_lookahead_Hybrid\\assets\n",
      "WARNING:absl:<keras.layers.recurrent.LSTMCell object at 0x0000020A63342D30> has the same name 'LSTMCell' as a built-in Keras object. Consider renaming <class 'keras.layers.recurrent.LSTMCell'> to avoid naming conflicts when loading with `tf.keras.models.load_model`. If renaming is not possible, pass the object in the `custom_objects` parameter of the load function.\n"
     ]
    },
    {
     "name": "stdout",
     "output_type": "stream",
     "text": [
      "145/145 [==============================] - 3s 20ms/step\n",
      "63/63 [==============================] - 1s 19ms/step\n"
     ]
    },
    {
     "name": "stderr",
     "output_type": "stream",
     "text": [
      "D:\\Anaconda\\lib\\site-packages\\pandas\\core\\frame.py:3678: SettingWithCopyWarning: \n",
      "A value is trying to be set on a copy of a slice from a DataFrame.\n",
      "Try using .loc[row_indexer,col_indexer] = value instead\n",
      "\n",
      "See the caveats in the documentation: https://pandas.pydata.org/pandas-docs/stable/user_guide/indexing.html#returning-a-view-versus-a-copy\n",
      "  self[col] = igetitem(value, i)\n"
     ]
    },
    {
     "name": "stdout",
     "output_type": "stream",
     "text": [
      "Epoch 1/15\n",
      "145/145 [==============================] - 10s 56ms/step - loss: 0.4549 - val_loss: 0.0650\n",
      "Epoch 2/15\n",
      "145/145 [==============================] - 8s 53ms/step - loss: 0.4073 - val_loss: 0.0634\n",
      "Epoch 3/15\n",
      "145/145 [==============================] - 8s 52ms/step - loss: 0.3975 - val_loss: 0.0652\n",
      "Epoch 4/15\n",
      "145/145 [==============================] - 8s 53ms/step - loss: 0.3922 - val_loss: 0.0612\n",
      "Epoch 5/15\n",
      "145/145 [==============================] - 8s 53ms/step - loss: 0.3906 - val_loss: 0.0650\n",
      "Epoch 6/15\n",
      "145/145 [==============================] - 8s 52ms/step - loss: 0.3887 - val_loss: 0.0641\n",
      "Epoch 7/15\n",
      "145/145 [==============================] - 8s 52ms/step - loss: 0.3884 - val_loss: 0.0672\n",
      "Epoch 8/15\n",
      "145/145 [==============================] - 8s 52ms/step - loss: 0.3846 - val_loss: 0.0680\n",
      "Epoch 9/15\n",
      "145/145 [==============================] - 8s 52ms/step - loss: 0.3844 - val_loss: 0.0645\n",
      "Epoch 10/15\n",
      "145/145 [==============================] - 8s 52ms/step - loss: 0.3836 - val_loss: 0.0658\n",
      "Epoch 11/15\n",
      "145/145 [==============================] - 8s 52ms/step - loss: 0.3820 - val_loss: 0.0761\n",
      "Epoch 12/15\n",
      "145/145 [==============================] - 8s 52ms/step - loss: 0.3829 - val_loss: 0.0609\n",
      "Epoch 13/15\n",
      "145/145 [==============================] - 8s 53ms/step - loss: 0.3817 - val_loss: 0.0640\n",
      "Epoch 14/15\n",
      "145/145 [==============================] - 8s 52ms/step - loss: 0.3805 - val_loss: 0.0730\n",
      "Epoch 15/15\n",
      "145/145 [==============================] - 8s 52ms/step - loss: 0.3795 - val_loss: 0.0675\n"
     ]
    },
    {
     "name": "stderr",
     "output_type": "stream",
     "text": [
      "WARNING:absl:Found untraced functions such as lstm_cell_61_layer_call_fn, lstm_cell_61_layer_call_and_return_conditional_losses while saving (showing 2 of 2). These functions will not be directly callable after loading.\n"
     ]
    },
    {
     "name": "stdout",
     "output_type": "stream",
     "text": [
      "INFO:tensorflow:Assets written to: Hybrid MP_wav/month0_9_step_lookahead_Hybrid\\assets\n"
     ]
    },
    {
     "name": "stderr",
     "output_type": "stream",
     "text": [
      "INFO:tensorflow:Assets written to: Hybrid MP_wav/month0_9_step_lookahead_Hybrid\\assets\n",
      "WARNING:absl:<keras.layers.recurrent.LSTMCell object at 0x0000020A63F0D100> has the same name 'LSTMCell' as a built-in Keras object. Consider renaming <class 'keras.layers.recurrent.LSTMCell'> to avoid naming conflicts when loading with `tf.keras.models.load_model`. If renaming is not possible, pass the object in the `custom_objects` parameter of the load function.\n"
     ]
    },
    {
     "name": "stdout",
     "output_type": "stream",
     "text": [
      "145/145 [==============================] - 3s 21ms/step\n",
      "63/63 [==============================] - 1s 19ms/step\n"
     ]
    },
    {
     "name": "stderr",
     "output_type": "stream",
     "text": [
      "D:\\Anaconda\\lib\\site-packages\\pandas\\core\\frame.py:3678: SettingWithCopyWarning: \n",
      "A value is trying to be set on a copy of a slice from a DataFrame.\n",
      "Try using .loc[row_indexer,col_indexer] = value instead\n",
      "\n",
      "See the caveats in the documentation: https://pandas.pydata.org/pandas-docs/stable/user_guide/indexing.html#returning-a-view-versus-a-copy\n",
      "  self[col] = igetitem(value, i)\n"
     ]
    },
    {
     "name": "stdout",
     "output_type": "stream",
     "text": [
      "Epoch 1/15\n",
      "145/145 [==============================] - 10s 56ms/step - loss: 0.4868 - val_loss: 0.0646\n",
      "Epoch 2/15\n",
      "145/145 [==============================] - 8s 52ms/step - loss: 0.4060 - val_loss: 0.0589\n",
      "Epoch 3/15\n",
      "145/145 [==============================] - 8s 52ms/step - loss: 0.3972 - val_loss: 0.0710\n",
      "Epoch 4/15\n",
      "145/145 [==============================] - 8s 52ms/step - loss: 0.3965 - val_loss: 0.0613\n",
      "Epoch 5/15\n",
      "145/145 [==============================] - 8s 52ms/step - loss: 0.3941 - val_loss: 0.0622\n",
      "Epoch 6/15\n",
      "145/145 [==============================] - 8s 52ms/step - loss: 0.3895 - val_loss: 0.0651\n",
      "Epoch 7/15\n",
      "145/145 [==============================] - 8s 53ms/step - loss: 0.3882 - val_loss: 0.0690\n",
      "Epoch 8/15\n",
      "145/145 [==============================] - 8s 52ms/step - loss: 0.3868 - val_loss: 0.0676\n",
      "Epoch 9/15\n",
      "145/145 [==============================] - 8s 52ms/step - loss: 0.3845 - val_loss: 0.0684\n",
      "Epoch 10/15\n",
      "145/145 [==============================] - 8s 52ms/step - loss: 0.3841 - val_loss: 0.0690\n",
      "Epoch 11/15\n",
      "145/145 [==============================] - 8s 52ms/step - loss: 0.3813 - val_loss: 0.0869\n",
      "Epoch 12/15\n",
      "145/145 [==============================] - 8s 52ms/step - loss: 0.3828 - val_loss: 0.0653\n",
      "Epoch 13/15\n",
      "145/145 [==============================] - 8s 52ms/step - loss: 0.3803 - val_loss: 0.0834\n",
      "Epoch 14/15\n",
      "145/145 [==============================] - 7s 52ms/step - loss: 0.3785 - val_loss: 0.0841\n",
      "Epoch 15/15\n",
      "145/145 [==============================] - 8s 52ms/step - loss: 0.3811 - val_loss: 0.0888\n"
     ]
    },
    {
     "name": "stderr",
     "output_type": "stream",
     "text": [
      "WARNING:absl:Found untraced functions such as lstm_cell_62_layer_call_fn, lstm_cell_62_layer_call_and_return_conditional_losses while saving (showing 2 of 2). These functions will not be directly callable after loading.\n"
     ]
    },
    {
     "name": "stdout",
     "output_type": "stream",
     "text": [
      "INFO:tensorflow:Assets written to: Hybrid MP_wav/month0_10_step_lookahead_Hybrid\\assets\n"
     ]
    },
    {
     "name": "stderr",
     "output_type": "stream",
     "text": [
      "INFO:tensorflow:Assets written to: Hybrid MP_wav/month0_10_step_lookahead_Hybrid\\assets\n",
      "WARNING:absl:<keras.layers.recurrent.LSTMCell object at 0x0000020A648F2760> has the same name 'LSTMCell' as a built-in Keras object. Consider renaming <class 'keras.layers.recurrent.LSTMCell'> to avoid naming conflicts when loading with `tf.keras.models.load_model`. If renaming is not possible, pass the object in the `custom_objects` parameter of the load function.\n"
     ]
    },
    {
     "name": "stdout",
     "output_type": "stream",
     "text": [
      "145/145 [==============================] - 3s 21ms/step\n",
      "63/63 [==============================] - 1s 19ms/step\n"
     ]
    },
    {
     "name": "stderr",
     "output_type": "stream",
     "text": [
      "D:\\Anaconda\\lib\\site-packages\\pandas\\core\\frame.py:3678: SettingWithCopyWarning: \n",
      "A value is trying to be set on a copy of a slice from a DataFrame.\n",
      "Try using .loc[row_indexer,col_indexer] = value instead\n",
      "\n",
      "See the caveats in the documentation: https://pandas.pydata.org/pandas-docs/stable/user_guide/indexing.html#returning-a-view-versus-a-copy\n",
      "  self[col] = igetitem(value, i)\n",
      "D:\\Anaconda\\lib\\site-packages\\pandas\\core\\frame.py:3678: SettingWithCopyWarning: \n",
      "A value is trying to be set on a copy of a slice from a DataFrame.\n",
      "Try using .loc[row_indexer,col_indexer] = value instead\n",
      "\n",
      "See the caveats in the documentation: https://pandas.pydata.org/pandas-docs/stable/user_guide/indexing.html#returning-a-view-versus-a-copy\n",
      "  self[col] = igetitem(value, i)\n"
     ]
    },
    {
     "name": "stdout",
     "output_type": "stream",
     "text": [
      "Epoch 1/15\n",
      "152/152 [==============================] - 11s 56ms/step - loss: 0.6857 - val_loss: 0.4282\n",
      "Epoch 2/15\n",
      "152/152 [==============================] - 8s 52ms/step - loss: 0.3618 - val_loss: 0.3565\n",
      "Epoch 3/15\n",
      "152/152 [==============================] - 8s 52ms/step - loss: 0.3276 - val_loss: 0.3245\n",
      "Epoch 4/15\n",
      "152/152 [==============================] - 8s 51ms/step - loss: 0.3052 - val_loss: 0.3004\n",
      "Epoch 5/15\n",
      "152/152 [==============================] - 8s 52ms/step - loss: 0.2909 - val_loss: 0.2831\n",
      "Epoch 6/15\n",
      "152/152 [==============================] - 8s 53ms/step - loss: 0.2790 - val_loss: 0.2701\n",
      "Epoch 7/15\n",
      "152/152 [==============================] - 8s 52ms/step - loss: 0.2751 - val_loss: 0.2621\n",
      "Epoch 8/15\n",
      "152/152 [==============================] - 8s 52ms/step - loss: 0.2707 - val_loss: 0.2542\n",
      "Epoch 9/15\n",
      "152/152 [==============================] - 8s 52ms/step - loss: 0.2653 - val_loss: 0.2502\n",
      "Epoch 10/15\n",
      "152/152 [==============================] - 8s 52ms/step - loss: 0.2579 - val_loss: 0.2452\n",
      "Epoch 11/15\n",
      "152/152 [==============================] - 8s 52ms/step - loss: 0.2576 - val_loss: 0.2467\n",
      "Epoch 12/15\n",
      "152/152 [==============================] - 8s 52ms/step - loss: 0.2562 - val_loss: 0.2421\n",
      "Epoch 13/15\n",
      "152/152 [==============================] - 8s 52ms/step - loss: 0.2609 - val_loss: 0.2416\n",
      "Epoch 14/15\n",
      "152/152 [==============================] - 8s 52ms/step - loss: 0.2555 - val_loss: 0.2402\n",
      "Epoch 15/15\n",
      "152/152 [==============================] - 8s 52ms/step - loss: 0.2577 - val_loss: 0.2383\n"
     ]
    },
    {
     "name": "stderr",
     "output_type": "stream",
     "text": [
      "WARNING:absl:Found untraced functions such as lstm_cell_63_layer_call_fn, lstm_cell_63_layer_call_and_return_conditional_losses while saving (showing 2 of 2). These functions will not be directly callable after loading.\n"
     ]
    },
    {
     "name": "stdout",
     "output_type": "stream",
     "text": [
      "INFO:tensorflow:Assets written to: Hybrid MP_wav/month1_1_step_lookahead_Hybrid\\assets\n"
     ]
    },
    {
     "name": "stderr",
     "output_type": "stream",
     "text": [
      "INFO:tensorflow:Assets written to: Hybrid MP_wav/month1_1_step_lookahead_Hybrid\\assets\n",
      "WARNING:absl:<keras.layers.recurrent.LSTMCell object at 0x0000020ADD4CFE20> has the same name 'LSTMCell' as a built-in Keras object. Consider renaming <class 'keras.layers.recurrent.LSTMCell'> to avoid naming conflicts when loading with `tf.keras.models.load_model`. If renaming is not possible, pass the object in the `custom_objects` parameter of the load function.\n"
     ]
    },
    {
     "name": "stdout",
     "output_type": "stream",
     "text": [
      "152/152 [==============================] - 3s 20ms/step\n",
      "65/65 [==============================] - 1s 19ms/step\n"
     ]
    },
    {
     "name": "stderr",
     "output_type": "stream",
     "text": [
      "D:\\Anaconda\\lib\\site-packages\\pandas\\core\\frame.py:3678: SettingWithCopyWarning: \n",
      "A value is trying to be set on a copy of a slice from a DataFrame.\n",
      "Try using .loc[row_indexer,col_indexer] = value instead\n",
      "\n",
      "See the caveats in the documentation: https://pandas.pydata.org/pandas-docs/stable/user_guide/indexing.html#returning-a-view-versus-a-copy\n",
      "  self[col] = igetitem(value, i)\n"
     ]
    },
    {
     "name": "stdout",
     "output_type": "stream",
     "text": [
      "Epoch 1/15\n",
      "152/152 [==============================] - 11s 56ms/step - loss: 0.6272 - val_loss: 0.4134\n",
      "Epoch 2/15\n",
      "152/152 [==============================] - 8s 52ms/step - loss: 0.4023 - val_loss: 0.3493\n",
      "Epoch 3/15\n",
      "152/152 [==============================] - 8s 52ms/step - loss: 0.3893 - val_loss: 0.3278\n",
      "Epoch 4/15\n",
      "152/152 [==============================] - 8s 53ms/step - loss: 0.3816 - val_loss: 0.3117\n",
      "Epoch 5/15\n",
      "152/152 [==============================] - 8s 52ms/step - loss: 0.3767 - val_loss: 0.3034\n",
      "Epoch 6/15\n",
      "152/152 [==============================] - 8s 52ms/step - loss: 0.3768 - val_loss: 0.3103\n",
      "Epoch 7/15\n",
      "152/152 [==============================] - 8s 52ms/step - loss: 0.3752 - val_loss: 0.2932\n",
      "Epoch 8/15\n",
      "152/152 [==============================] - 8s 52ms/step - loss: 0.3737 - val_loss: 0.2914\n",
      "Epoch 9/15\n",
      "152/152 [==============================] - 8s 53ms/step - loss: 0.3699 - val_loss: 0.2858\n",
      "Epoch 10/15\n",
      "152/152 [==============================] - 8s 52ms/step - loss: 0.3714 - val_loss: 0.2933\n",
      "Epoch 11/15\n",
      "152/152 [==============================] - 8s 52ms/step - loss: 0.3706 - val_loss: 0.2937\n",
      "Epoch 12/15\n",
      "152/152 [==============================] - 8s 52ms/step - loss: 0.3717 - val_loss: 0.2981\n",
      "Epoch 13/15\n",
      "152/152 [==============================] - 8s 52ms/step - loss: 0.3701 - val_loss: 0.2820\n",
      "Epoch 14/15\n",
      "152/152 [==============================] - 8s 52ms/step - loss: 0.3676 - val_loss: 0.2858\n",
      "Epoch 15/15\n",
      "152/152 [==============================] - 8s 52ms/step - loss: 0.3677 - val_loss: 0.2918\n"
     ]
    },
    {
     "name": "stderr",
     "output_type": "stream",
     "text": [
      "WARNING:absl:Found untraced functions such as lstm_cell_64_layer_call_fn, lstm_cell_64_layer_call_and_return_conditional_losses while saving (showing 2 of 2). These functions will not be directly callable after loading.\n"
     ]
    },
    {
     "name": "stdout",
     "output_type": "stream",
     "text": [
      "INFO:tensorflow:Assets written to: Hybrid MP_wav/month1_2_step_lookahead_Hybrid\\assets\n"
     ]
    },
    {
     "name": "stderr",
     "output_type": "stream",
     "text": [
      "INFO:tensorflow:Assets written to: Hybrid MP_wav/month1_2_step_lookahead_Hybrid\\assets\n",
      "WARNING:absl:<keras.layers.recurrent.LSTMCell object at 0x00000207AD0BD0D0> has the same name 'LSTMCell' as a built-in Keras object. Consider renaming <class 'keras.layers.recurrent.LSTMCell'> to avoid naming conflicts when loading with `tf.keras.models.load_model`. If renaming is not possible, pass the object in the `custom_objects` parameter of the load function.\n"
     ]
    },
    {
     "name": "stdout",
     "output_type": "stream",
     "text": [
      "152/152 [==============================] - 4s 21ms/step\n",
      "65/65 [==============================] - 1s 19ms/step\n"
     ]
    },
    {
     "name": "stderr",
     "output_type": "stream",
     "text": [
      "D:\\Anaconda\\lib\\site-packages\\pandas\\core\\frame.py:3678: SettingWithCopyWarning: \n",
      "A value is trying to be set on a copy of a slice from a DataFrame.\n",
      "Try using .loc[row_indexer,col_indexer] = value instead\n",
      "\n",
      "See the caveats in the documentation: https://pandas.pydata.org/pandas-docs/stable/user_guide/indexing.html#returning-a-view-versus-a-copy\n",
      "  self[col] = igetitem(value, i)\n"
     ]
    },
    {
     "name": "stdout",
     "output_type": "stream",
     "text": [
      "Epoch 1/15\n",
      "152/152 [==============================] - 11s 56ms/step - loss: 0.8165 - val_loss: 0.4874\n",
      "Epoch 2/15\n",
      "152/152 [==============================] - 8s 52ms/step - loss: 0.4499 - val_loss: 0.4452\n",
      "Epoch 3/15\n",
      "152/152 [==============================] - 8s 52ms/step - loss: 0.4310 - val_loss: 0.4244\n",
      "Epoch 4/15\n",
      "152/152 [==============================] - 8s 52ms/step - loss: 0.4228 - val_loss: 0.4165\n",
      "Epoch 5/15\n",
      "152/152 [==============================] - 8s 52ms/step - loss: 0.4201 - val_loss: 0.4074\n",
      "Epoch 6/15\n",
      "152/152 [==============================] - 8s 52ms/step - loss: 0.4181 - val_loss: 0.4026\n",
      "Epoch 7/15\n",
      "152/152 [==============================] - 8s 52ms/step - loss: 0.4151 - val_loss: 0.4022\n",
      "Epoch 8/15\n",
      "152/152 [==============================] - 8s 52ms/step - loss: 0.4137 - val_loss: 0.4024\n",
      "Epoch 9/15\n",
      "152/152 [==============================] - 8s 52ms/step - loss: 0.4128 - val_loss: 0.3944\n",
      "Epoch 10/15\n",
      "152/152 [==============================] - 8s 52ms/step - loss: 0.4136 - val_loss: 0.3973\n",
      "Epoch 11/15\n",
      "152/152 [==============================] - 8s 52ms/step - loss: 0.4138 - val_loss: 0.3988\n",
      "Epoch 12/15\n",
      "152/152 [==============================] - 8s 52ms/step - loss: 0.4144 - val_loss: 0.4005\n",
      "Epoch 13/15\n",
      "152/152 [==============================] - 8s 52ms/step - loss: 0.4110 - val_loss: 0.3956\n",
      "Epoch 14/15\n",
      "152/152 [==============================] - 8s 51ms/step - loss: 0.4127 - val_loss: 0.3956\n",
      "Epoch 15/15\n",
      "152/152 [==============================] - 8s 52ms/step - loss: 0.4094 - val_loss: 0.3933\n"
     ]
    },
    {
     "name": "stderr",
     "output_type": "stream",
     "text": [
      "WARNING:absl:Found untraced functions such as lstm_cell_65_layer_call_fn, lstm_cell_65_layer_call_and_return_conditional_losses while saving (showing 2 of 2). These functions will not be directly callable after loading.\n"
     ]
    },
    {
     "name": "stdout",
     "output_type": "stream",
     "text": [
      "INFO:tensorflow:Assets written to: Hybrid MP_wav/month1_3_step_lookahead_Hybrid\\assets\n"
     ]
    },
    {
     "name": "stderr",
     "output_type": "stream",
     "text": [
      "INFO:tensorflow:Assets written to: Hybrid MP_wav/month1_3_step_lookahead_Hybrid\\assets\n",
      "WARNING:absl:<keras.layers.recurrent.LSTMCell object at 0x00000207AC731730> has the same name 'LSTMCell' as a built-in Keras object. Consider renaming <class 'keras.layers.recurrent.LSTMCell'> to avoid naming conflicts when loading with `tf.keras.models.load_model`. If renaming is not possible, pass the object in the `custom_objects` parameter of the load function.\n"
     ]
    },
    {
     "name": "stdout",
     "output_type": "stream",
     "text": [
      "152/152 [==============================] - 4s 21ms/step\n",
      "65/65 [==============================] - 1s 19ms/step\n"
     ]
    },
    {
     "name": "stderr",
     "output_type": "stream",
     "text": [
      "D:\\Anaconda\\lib\\site-packages\\pandas\\core\\frame.py:3678: SettingWithCopyWarning: \n",
      "A value is trying to be set on a copy of a slice from a DataFrame.\n",
      "Try using .loc[row_indexer,col_indexer] = value instead\n",
      "\n",
      "See the caveats in the documentation: https://pandas.pydata.org/pandas-docs/stable/user_guide/indexing.html#returning-a-view-versus-a-copy\n",
      "  self[col] = igetitem(value, i)\n"
     ]
    },
    {
     "name": "stdout",
     "output_type": "stream",
     "text": [
      "Epoch 1/15\n",
      "152/152 [==============================] - 11s 56ms/step - loss: 0.5225 - val_loss: 0.4425\n",
      "Epoch 2/15\n",
      "152/152 [==============================] - 8s 52ms/step - loss: 0.4468 - val_loss: 0.4364\n",
      "Epoch 3/15\n",
      "152/152 [==============================] - 8s 52ms/step - loss: 0.4451 - val_loss: 0.4238\n",
      "Epoch 4/15\n",
      "152/152 [==============================] - 8s 52ms/step - loss: 0.4416 - val_loss: 0.4183\n",
      "Epoch 5/15\n",
      "152/152 [==============================] - 8s 52ms/step - loss: 0.4409 - val_loss: 0.4155\n",
      "Epoch 6/15\n",
      "152/152 [==============================] - 8s 52ms/step - loss: 0.4373 - val_loss: 0.4060\n",
      "Epoch 7/15\n",
      "152/152 [==============================] - 8s 52ms/step - loss: 0.4384 - val_loss: 0.4097\n",
      "Epoch 8/15\n",
      "152/152 [==============================] - 8s 51ms/step - loss: 0.4374 - val_loss: 0.4125\n",
      "Epoch 9/15\n",
      "152/152 [==============================] - 8s 52ms/step - loss: 0.4371 - val_loss: 0.4113\n",
      "Epoch 10/15\n",
      "152/152 [==============================] - 8s 52ms/step - loss: 0.4375 - val_loss: 0.4096\n",
      "Epoch 11/15\n",
      "152/152 [==============================] - 8s 52ms/step - loss: 0.4355 - val_loss: 0.4118\n",
      "Epoch 12/15\n",
      "152/152 [==============================] - 8s 52ms/step - loss: 0.4370 - val_loss: 0.4062\n",
      "Epoch 13/15\n",
      "152/152 [==============================] - 8s 52ms/step - loss: 0.4345 - val_loss: 0.4058\n",
      "Epoch 14/15\n",
      "152/152 [==============================] - 8s 52ms/step - loss: 0.4359 - val_loss: 0.4149\n",
      "Epoch 15/15\n",
      "152/152 [==============================] - 8s 52ms/step - loss: 0.4344 - val_loss: 0.4140\n"
     ]
    },
    {
     "name": "stderr",
     "output_type": "stream",
     "text": [
      "WARNING:absl:Found untraced functions such as lstm_cell_66_layer_call_fn, lstm_cell_66_layer_call_and_return_conditional_losses while saving (showing 2 of 2). These functions will not be directly callable after loading.\n"
     ]
    },
    {
     "name": "stdout",
     "output_type": "stream",
     "text": [
      "INFO:tensorflow:Assets written to: Hybrid MP_wav/month1_4_step_lookahead_Hybrid\\assets\n"
     ]
    },
    {
     "name": "stderr",
     "output_type": "stream",
     "text": [
      "INFO:tensorflow:Assets written to: Hybrid MP_wav/month1_4_step_lookahead_Hybrid\\assets\n",
      "WARNING:absl:<keras.layers.recurrent.LSTMCell object at 0x00000207B8FB4190> has the same name 'LSTMCell' as a built-in Keras object. Consider renaming <class 'keras.layers.recurrent.LSTMCell'> to avoid naming conflicts when loading with `tf.keras.models.load_model`. If renaming is not possible, pass the object in the `custom_objects` parameter of the load function.\n"
     ]
    },
    {
     "name": "stdout",
     "output_type": "stream",
     "text": [
      "152/152 [==============================] - 3s 20ms/step\n",
      "65/65 [==============================] - 1s 19ms/step\n"
     ]
    },
    {
     "name": "stderr",
     "output_type": "stream",
     "text": [
      "D:\\Anaconda\\lib\\site-packages\\pandas\\core\\frame.py:3678: SettingWithCopyWarning: \n",
      "A value is trying to be set on a copy of a slice from a DataFrame.\n",
      "Try using .loc[row_indexer,col_indexer] = value instead\n",
      "\n",
      "See the caveats in the documentation: https://pandas.pydata.org/pandas-docs/stable/user_guide/indexing.html#returning-a-view-versus-a-copy\n",
      "  self[col] = igetitem(value, i)\n"
     ]
    },
    {
     "name": "stdout",
     "output_type": "stream",
     "text": [
      "Epoch 1/15\n",
      "152/152 [==============================] - 11s 57ms/step - loss: 0.6378 - val_loss: 0.4561\n",
      "Epoch 2/15\n",
      "152/152 [==============================] - 8s 52ms/step - loss: 0.4703 - val_loss: 0.4324\n",
      "Epoch 3/15\n",
      "152/152 [==============================] - 8s 52ms/step - loss: 0.4614 - val_loss: 0.4244\n",
      "Epoch 4/15\n",
      "152/152 [==============================] - 8s 53ms/step - loss: 0.4584 - val_loss: 0.4218\n",
      "Epoch 5/15\n",
      "152/152 [==============================] - 8s 52ms/step - loss: 0.4548 - val_loss: 0.4172\n",
      "Epoch 6/15\n",
      "152/152 [==============================] - 8s 53ms/step - loss: 0.4555 - val_loss: 0.4222\n",
      "Epoch 7/15\n",
      "152/152 [==============================] - 8s 52ms/step - loss: 0.4547 - val_loss: 0.4156\n",
      "Epoch 8/15\n",
      "152/152 [==============================] - 8s 52ms/step - loss: 0.4535 - val_loss: 0.4124\n",
      "Epoch 9/15\n",
      "152/152 [==============================] - 8s 52ms/step - loss: 0.4543 - val_loss: 0.4208\n",
      "Epoch 10/15\n",
      "152/152 [==============================] - 8s 52ms/step - loss: 0.4509 - val_loss: 0.4128\n",
      "Epoch 11/15\n",
      "152/152 [==============================] - 8s 52ms/step - loss: 0.4523 - val_loss: 0.4126\n",
      "Epoch 12/15\n",
      "152/152 [==============================] - 8s 53ms/step - loss: 0.4540 - val_loss: 0.4256\n",
      "Epoch 13/15\n",
      "152/152 [==============================] - 8s 52ms/step - loss: 0.4519 - val_loss: 0.4083\n",
      "Epoch 14/15\n",
      "152/152 [==============================] - 8s 53ms/step - loss: 0.4519 - val_loss: 0.4115\n",
      "Epoch 15/15\n",
      "152/152 [==============================] - 8s 52ms/step - loss: 0.4511 - val_loss: 0.4175\n"
     ]
    },
    {
     "name": "stderr",
     "output_type": "stream",
     "text": [
      "WARNING:absl:Found untraced functions such as lstm_cell_67_layer_call_fn, lstm_cell_67_layer_call_and_return_conditional_losses while saving (showing 2 of 2). These functions will not be directly callable after loading.\n"
     ]
    },
    {
     "name": "stdout",
     "output_type": "stream",
     "text": [
      "INFO:tensorflow:Assets written to: Hybrid MP_wav/month1_5_step_lookahead_Hybrid\\assets\n"
     ]
    },
    {
     "name": "stderr",
     "output_type": "stream",
     "text": [
      "INFO:tensorflow:Assets written to: Hybrid MP_wav/month1_5_step_lookahead_Hybrid\\assets\n",
      "WARNING:absl:<keras.layers.recurrent.LSTMCell object at 0x0000020AE63CC760> has the same name 'LSTMCell' as a built-in Keras object. Consider renaming <class 'keras.layers.recurrent.LSTMCell'> to avoid naming conflicts when loading with `tf.keras.models.load_model`. If renaming is not possible, pass the object in the `custom_objects` parameter of the load function.\n"
     ]
    },
    {
     "name": "stdout",
     "output_type": "stream",
     "text": [
      "152/152 [==============================] - 3s 20ms/step\n",
      "65/65 [==============================] - 1s 19ms/step\n"
     ]
    },
    {
     "name": "stderr",
     "output_type": "stream",
     "text": [
      "D:\\Anaconda\\lib\\site-packages\\pandas\\core\\frame.py:3678: SettingWithCopyWarning: \n",
      "A value is trying to be set on a copy of a slice from a DataFrame.\n",
      "Try using .loc[row_indexer,col_indexer] = value instead\n",
      "\n",
      "See the caveats in the documentation: https://pandas.pydata.org/pandas-docs/stable/user_guide/indexing.html#returning-a-view-versus-a-copy\n",
      "  self[col] = igetitem(value, i)\n"
     ]
    },
    {
     "name": "stdout",
     "output_type": "stream",
     "text": [
      "Epoch 1/15\n",
      "152/152 [==============================] - 11s 56ms/step - loss: 0.6127 - val_loss: 0.4517\n",
      "Epoch 2/15\n",
      "152/152 [==============================] - 8s 52ms/step - loss: 0.4756 - val_loss: 0.4561\n",
      "Epoch 3/15\n",
      "152/152 [==============================] - 8s 52ms/step - loss: 0.4670 - val_loss: 0.4304\n",
      "Epoch 4/15\n",
      "152/152 [==============================] - 8s 52ms/step - loss: 0.4684 - val_loss: 0.4312\n",
      "Epoch 5/15\n",
      "152/152 [==============================] - 8s 52ms/step - loss: 0.4657 - val_loss: 0.4338\n",
      "Epoch 6/15\n",
      "152/152 [==============================] - 8s 52ms/step - loss: 0.4630 - val_loss: 0.4241\n",
      "Epoch 7/15\n",
      "152/152 [==============================] - 8s 52ms/step - loss: 0.4656 - val_loss: 0.4396\n",
      "Epoch 8/15\n",
      "152/152 [==============================] - 8s 52ms/step - loss: 0.4638 - val_loss: 0.4273\n",
      "Epoch 9/15\n",
      "152/152 [==============================] - 8s 52ms/step - loss: 0.4627 - val_loss: 0.4293\n",
      "Epoch 10/15\n",
      "152/152 [==============================] - 8s 52ms/step - loss: 0.4621 - val_loss: 0.4323\n",
      "Epoch 11/15\n",
      "152/152 [==============================] - 8s 52ms/step - loss: 0.4598 - val_loss: 0.4169\n",
      "Epoch 12/15\n",
      "152/152 [==============================] - 8s 52ms/step - loss: 0.4616 - val_loss: 0.4369\n",
      "Epoch 13/15\n",
      "152/152 [==============================] - 8s 53ms/step - loss: 0.4603 - val_loss: 0.4228\n",
      "Epoch 14/15\n",
      "152/152 [==============================] - 8s 53ms/step - loss: 0.4598 - val_loss: 0.4183\n",
      "Epoch 15/15\n",
      "152/152 [==============================] - 8s 52ms/step - loss: 0.4572 - val_loss: 0.4270\n"
     ]
    },
    {
     "name": "stderr",
     "output_type": "stream",
     "text": [
      "WARNING:absl:Found untraced functions such as lstm_cell_68_layer_call_fn, lstm_cell_68_layer_call_and_return_conditional_losses while saving (showing 2 of 2). These functions will not be directly callable after loading.\n"
     ]
    },
    {
     "name": "stdout",
     "output_type": "stream",
     "text": [
      "INFO:tensorflow:Assets written to: Hybrid MP_wav/month1_6_step_lookahead_Hybrid\\assets\n"
     ]
    },
    {
     "name": "stderr",
     "output_type": "stream",
     "text": [
      "INFO:tensorflow:Assets written to: Hybrid MP_wav/month1_6_step_lookahead_Hybrid\\assets\n",
      "WARNING:absl:<keras.layers.recurrent.LSTMCell object at 0x00000207B9222C40> has the same name 'LSTMCell' as a built-in Keras object. Consider renaming <class 'keras.layers.recurrent.LSTMCell'> to avoid naming conflicts when loading with `tf.keras.models.load_model`. If renaming is not possible, pass the object in the `custom_objects` parameter of the load function.\n"
     ]
    },
    {
     "name": "stdout",
     "output_type": "stream",
     "text": [
      "152/152 [==============================] - 4s 21ms/step\n",
      "65/65 [==============================] - 1s 19ms/step\n"
     ]
    },
    {
     "name": "stderr",
     "output_type": "stream",
     "text": [
      "D:\\Anaconda\\lib\\site-packages\\pandas\\core\\frame.py:3678: SettingWithCopyWarning: \n",
      "A value is trying to be set on a copy of a slice from a DataFrame.\n",
      "Try using .loc[row_indexer,col_indexer] = value instead\n",
      "\n",
      "See the caveats in the documentation: https://pandas.pydata.org/pandas-docs/stable/user_guide/indexing.html#returning-a-view-versus-a-copy\n",
      "  self[col] = igetitem(value, i)\n"
     ]
    },
    {
     "name": "stdout",
     "output_type": "stream",
     "text": [
      "Epoch 1/15\n",
      "152/152 [==============================] - 11s 59ms/step - loss: 0.6398 - val_loss: 0.4841\n",
      "Epoch 2/15\n",
      "152/152 [==============================] - 8s 52ms/step - loss: 0.4790 - val_loss: 0.4826\n",
      "Epoch 3/15\n",
      "152/152 [==============================] - 8s 52ms/step - loss: 0.4769 - val_loss: 0.4762\n",
      "Epoch 4/15\n",
      "152/152 [==============================] - 8s 52ms/step - loss: 0.4751 - val_loss: 0.4736\n",
      "Epoch 5/15\n",
      "152/152 [==============================] - 8s 52ms/step - loss: 0.4747 - val_loss: 0.4719\n",
      "Epoch 6/15\n",
      "152/152 [==============================] - 8s 52ms/step - loss: 0.4742 - val_loss: 0.4673\n",
      "Epoch 7/15\n",
      "152/152 [==============================] - 8s 52ms/step - loss: 0.4723 - val_loss: 0.4816\n",
      "Epoch 8/15\n",
      "152/152 [==============================] - 8s 52ms/step - loss: 0.4726 - val_loss: 0.4752\n",
      "Epoch 9/15\n",
      "152/152 [==============================] - 8s 52ms/step - loss: 0.4723 - val_loss: 0.4693\n",
      "Epoch 10/15\n",
      "152/152 [==============================] - 8s 52ms/step - loss: 0.4700 - val_loss: 0.4675\n",
      "Epoch 11/15\n",
      "152/152 [==============================] - 8s 52ms/step - loss: 0.4702 - val_loss: 0.4838\n",
      "Epoch 12/15\n",
      "152/152 [==============================] - 8s 52ms/step - loss: 0.4699 - val_loss: 0.4761\n",
      "Epoch 13/15\n",
      "152/152 [==============================] - 8s 52ms/step - loss: 0.4719 - val_loss: 0.4634\n",
      "Epoch 14/15\n",
      "152/152 [==============================] - 8s 52ms/step - loss: 0.4717 - val_loss: 0.4577\n",
      "Epoch 15/15\n",
      "152/152 [==============================] - 8s 52ms/step - loss: 0.4693 - val_loss: 0.4685\n"
     ]
    },
    {
     "name": "stderr",
     "output_type": "stream",
     "text": [
      "WARNING:absl:Found untraced functions such as lstm_cell_69_layer_call_fn, lstm_cell_69_layer_call_and_return_conditional_losses while saving (showing 2 of 2). These functions will not be directly callable after loading.\n"
     ]
    },
    {
     "name": "stdout",
     "output_type": "stream",
     "text": [
      "INFO:tensorflow:Assets written to: Hybrid MP_wav/month1_7_step_lookahead_Hybrid\\assets\n"
     ]
    },
    {
     "name": "stderr",
     "output_type": "stream",
     "text": [
      "INFO:tensorflow:Assets written to: Hybrid MP_wav/month1_7_step_lookahead_Hybrid\\assets\n",
      "WARNING:absl:<keras.layers.recurrent.LSTMCell object at 0x0000020A6B4B2C10> has the same name 'LSTMCell' as a built-in Keras object. Consider renaming <class 'keras.layers.recurrent.LSTMCell'> to avoid naming conflicts when loading with `tf.keras.models.load_model`. If renaming is not possible, pass the object in the `custom_objects` parameter of the load function.\n"
     ]
    },
    {
     "name": "stdout",
     "output_type": "stream",
     "text": [
      "152/152 [==============================] - 4s 21ms/step\n",
      "65/65 [==============================] - 1s 19ms/step\n"
     ]
    },
    {
     "name": "stderr",
     "output_type": "stream",
     "text": [
      "D:\\Anaconda\\lib\\site-packages\\pandas\\core\\frame.py:3678: SettingWithCopyWarning: \n",
      "A value is trying to be set on a copy of a slice from a DataFrame.\n",
      "Try using .loc[row_indexer,col_indexer] = value instead\n",
      "\n",
      "See the caveats in the documentation: https://pandas.pydata.org/pandas-docs/stable/user_guide/indexing.html#returning-a-view-versus-a-copy\n",
      "  self[col] = igetitem(value, i)\n"
     ]
    },
    {
     "name": "stdout",
     "output_type": "stream",
     "text": [
      "Epoch 1/15\n",
      "152/152 [==============================] - 11s 56ms/step - loss: 0.7439 - val_loss: 0.5082\n",
      "Epoch 2/15\n",
      "152/152 [==============================] - 8s 52ms/step - loss: 0.4935 - val_loss: 0.4984\n",
      "Epoch 3/15\n",
      "152/152 [==============================] - 8s 52ms/step - loss: 0.4844 - val_loss: 0.4850\n",
      "Epoch 4/15\n",
      "152/152 [==============================] - 8s 52ms/step - loss: 0.4857 - val_loss: 0.4800\n",
      "Epoch 5/15\n",
      "152/152 [==============================] - 8s 52ms/step - loss: 0.4801 - val_loss: 0.4764\n",
      "Epoch 6/15\n",
      "152/152 [==============================] - 8s 52ms/step - loss: 0.4815 - val_loss: 0.4789\n",
      "Epoch 7/15\n",
      "152/152 [==============================] - 8s 52ms/step - loss: 0.4807 - val_loss: 0.4761\n",
      "Epoch 8/15\n",
      "152/152 [==============================] - 8s 52ms/step - loss: 0.4812 - val_loss: 0.4711\n",
      "Epoch 9/15\n",
      "152/152 [==============================] - 8s 52ms/step - loss: 0.4760 - val_loss: 0.4746\n",
      "Epoch 10/15\n",
      "152/152 [==============================] - 8s 52ms/step - loss: 0.4804 - val_loss: 0.4629\n",
      "Epoch 11/15\n",
      "152/152 [==============================] - 8s 52ms/step - loss: 0.4778 - val_loss: 0.4775\n",
      "Epoch 12/15\n",
      "152/152 [==============================] - 8s 52ms/step - loss: 0.4783 - val_loss: 0.4695\n",
      "Epoch 13/15\n",
      "152/152 [==============================] - 8s 52ms/step - loss: 0.4745 - val_loss: 0.4613\n",
      "Epoch 14/15\n",
      "152/152 [==============================] - 8s 52ms/step - loss: 0.4751 - val_loss: 0.4620\n",
      "Epoch 15/15\n",
      "152/152 [==============================] - 8s 52ms/step - loss: 0.4766 - val_loss: 0.4680\n"
     ]
    },
    {
     "name": "stderr",
     "output_type": "stream",
     "text": [
      "WARNING:absl:Found untraced functions such as lstm_cell_70_layer_call_fn, lstm_cell_70_layer_call_and_return_conditional_losses while saving (showing 2 of 2). These functions will not be directly callable after loading.\n"
     ]
    },
    {
     "name": "stdout",
     "output_type": "stream",
     "text": [
      "INFO:tensorflow:Assets written to: Hybrid MP_wav/month1_8_step_lookahead_Hybrid\\assets\n"
     ]
    },
    {
     "name": "stderr",
     "output_type": "stream",
     "text": [
      "INFO:tensorflow:Assets written to: Hybrid MP_wav/month1_8_step_lookahead_Hybrid\\assets\n",
      "WARNING:absl:<keras.layers.recurrent.LSTMCell object at 0x0000020AE82D79D0> has the same name 'LSTMCell' as a built-in Keras object. Consider renaming <class 'keras.layers.recurrent.LSTMCell'> to avoid naming conflicts when loading with `tf.keras.models.load_model`. If renaming is not possible, pass the object in the `custom_objects` parameter of the load function.\n"
     ]
    },
    {
     "name": "stdout",
     "output_type": "stream",
     "text": [
      "152/152 [==============================] - 4s 20ms/step\n",
      "65/65 [==============================] - 1s 19ms/step\n"
     ]
    },
    {
     "name": "stderr",
     "output_type": "stream",
     "text": [
      "D:\\Anaconda\\lib\\site-packages\\pandas\\core\\frame.py:3678: SettingWithCopyWarning: \n",
      "A value is trying to be set on a copy of a slice from a DataFrame.\n",
      "Try using .loc[row_indexer,col_indexer] = value instead\n",
      "\n",
      "See the caveats in the documentation: https://pandas.pydata.org/pandas-docs/stable/user_guide/indexing.html#returning-a-view-versus-a-copy\n",
      "  self[col] = igetitem(value, i)\n"
     ]
    },
    {
     "name": "stdout",
     "output_type": "stream",
     "text": [
      "Epoch 1/15\n",
      "151/151 [==============================] - 10s 54ms/step - loss: 0.7643 - val_loss: 0.5152\n",
      "Epoch 2/15\n",
      "151/151 [==============================] - 8s 51ms/step - loss: 0.4945 - val_loss: 0.4924\n",
      "Epoch 3/15\n",
      "151/151 [==============================] - 8s 50ms/step - loss: 0.4872 - val_loss: 0.4974\n",
      "Epoch 4/15\n",
      "151/151 [==============================] - 8s 50ms/step - loss: 0.4854 - val_loss: 0.4931\n",
      "Epoch 5/15\n",
      "151/151 [==============================] - 8s 50ms/step - loss: 0.4848 - val_loss: 0.4779\n",
      "Epoch 6/15\n",
      "151/151 [==============================] - 8s 50ms/step - loss: 0.4838 - val_loss: 0.4831\n",
      "Epoch 7/15\n",
      "151/151 [==============================] - 8s 50ms/step - loss: 0.4845 - val_loss: 0.4718\n",
      "Epoch 8/15\n",
      "151/151 [==============================] - 8s 50ms/step - loss: 0.4841 - val_loss: 0.4762\n",
      "Epoch 9/15\n",
      "151/151 [==============================] - 8s 50ms/step - loss: 0.4810 - val_loss: 0.4826\n",
      "Epoch 10/15\n",
      "151/151 [==============================] - 8s 50ms/step - loss: 0.4828 - val_loss: 0.4835\n",
      "Epoch 11/15\n",
      "151/151 [==============================] - 8s 50ms/step - loss: 0.4835 - val_loss: 0.4703\n",
      "Epoch 12/15\n",
      "151/151 [==============================] - 8s 50ms/step - loss: 0.4800 - val_loss: 0.4853\n",
      "Epoch 13/15\n",
      "151/151 [==============================] - 8s 50ms/step - loss: 0.4819 - val_loss: 0.4801\n",
      "Epoch 14/15\n",
      "151/151 [==============================] - 8s 50ms/step - loss: 0.4810 - val_loss: 0.4915\n",
      "Epoch 15/15\n",
      "151/151 [==============================] - 8s 50ms/step - loss: 0.4799 - val_loss: 0.4807\n"
     ]
    },
    {
     "name": "stderr",
     "output_type": "stream",
     "text": [
      "WARNING:absl:Found untraced functions such as lstm_cell_71_layer_call_fn, lstm_cell_71_layer_call_and_return_conditional_losses while saving (showing 2 of 2). These functions will not be directly callable after loading.\n"
     ]
    },
    {
     "name": "stdout",
     "output_type": "stream",
     "text": [
      "INFO:tensorflow:Assets written to: Hybrid MP_wav/month1_9_step_lookahead_Hybrid\\assets\n"
     ]
    },
    {
     "name": "stderr",
     "output_type": "stream",
     "text": [
      "INFO:tensorflow:Assets written to: Hybrid MP_wav/month1_9_step_lookahead_Hybrid\\assets\n",
      "WARNING:absl:<keras.layers.recurrent.LSTMCell object at 0x0000020A6B874FD0> has the same name 'LSTMCell' as a built-in Keras object. Consider renaming <class 'keras.layers.recurrent.LSTMCell'> to avoid naming conflicts when loading with `tf.keras.models.load_model`. If renaming is not possible, pass the object in the `custom_objects` parameter of the load function.\n"
     ]
    },
    {
     "name": "stdout",
     "output_type": "stream",
     "text": [
      "151/151 [==============================] - 3s 20ms/step\n",
      "65/65 [==============================] - 2s 19ms/step\n"
     ]
    },
    {
     "name": "stderr",
     "output_type": "stream",
     "text": [
      "D:\\Anaconda\\lib\\site-packages\\pandas\\core\\frame.py:3678: SettingWithCopyWarning: \n",
      "A value is trying to be set on a copy of a slice from a DataFrame.\n",
      "Try using .loc[row_indexer,col_indexer] = value instead\n",
      "\n",
      "See the caveats in the documentation: https://pandas.pydata.org/pandas-docs/stable/user_guide/indexing.html#returning-a-view-versus-a-copy\n",
      "  self[col] = igetitem(value, i)\n"
     ]
    },
    {
     "name": "stdout",
     "output_type": "stream",
     "text": [
      "Epoch 1/15\n",
      "151/151 [==============================] - 10s 54ms/step - loss: 0.6005 - val_loss: 0.4996\n",
      "Epoch 2/15\n",
      "151/151 [==============================] - 8s 51ms/step - loss: 0.4950 - val_loss: 0.4933\n",
      "Epoch 3/15\n",
      "151/151 [==============================] - 8s 50ms/step - loss: 0.4928 - val_loss: 0.5146\n",
      "Epoch 4/15\n",
      "151/151 [==============================] - 8s 51ms/step - loss: 0.4890 - val_loss: 0.4923\n",
      "Epoch 5/15\n",
      "151/151 [==============================] - 8s 50ms/step - loss: 0.4925 - val_loss: 0.4977\n",
      "Epoch 6/15\n",
      "151/151 [==============================] - 8s 50ms/step - loss: 0.4874 - val_loss: 0.4909\n",
      "Epoch 7/15\n",
      "151/151 [==============================] - 8s 51ms/step - loss: 0.4891 - val_loss: 0.4948\n",
      "Epoch 8/15\n",
      "151/151 [==============================] - 8s 50ms/step - loss: 0.4885 - val_loss: 0.5070\n",
      "Epoch 9/15\n",
      "151/151 [==============================] - 8s 51ms/step - loss: 0.4887 - val_loss: 0.4950\n",
      "Epoch 10/15\n",
      "151/151 [==============================] - 8s 50ms/step - loss: 0.4870 - val_loss: 0.4908\n",
      "Epoch 11/15\n",
      "151/151 [==============================] - 8s 51ms/step - loss: 0.4883 - val_loss: 0.4971\n",
      "Epoch 12/15\n",
      "151/151 [==============================] - 8s 51ms/step - loss: 0.4881 - val_loss: 0.4920\n",
      "Epoch 13/15\n",
      "151/151 [==============================] - 8s 50ms/step - loss: 0.4883 - val_loss: 0.5011\n",
      "Epoch 14/15\n",
      "151/151 [==============================] - 8s 50ms/step - loss: 0.4875 - val_loss: 0.4926\n",
      "Epoch 15/15\n",
      "151/151 [==============================] - 8s 50ms/step - loss: 0.4859 - val_loss: 0.4984\n"
     ]
    },
    {
     "name": "stderr",
     "output_type": "stream",
     "text": [
      "WARNING:absl:Found untraced functions such as lstm_cell_72_layer_call_fn, lstm_cell_72_layer_call_and_return_conditional_losses while saving (showing 2 of 2). These functions will not be directly callable after loading.\n"
     ]
    },
    {
     "name": "stdout",
     "output_type": "stream",
     "text": [
      "INFO:tensorflow:Assets written to: Hybrid MP_wav/month1_10_step_lookahead_Hybrid\\assets\n"
     ]
    },
    {
     "name": "stderr",
     "output_type": "stream",
     "text": [
      "INFO:tensorflow:Assets written to: Hybrid MP_wav/month1_10_step_lookahead_Hybrid\\assets\n",
      "WARNING:absl:<keras.layers.recurrent.LSTMCell object at 0x00000207B93132B0> has the same name 'LSTMCell' as a built-in Keras object. Consider renaming <class 'keras.layers.recurrent.LSTMCell'> to avoid naming conflicts when loading with `tf.keras.models.load_model`. If renaming is not possible, pass the object in the `custom_objects` parameter of the load function.\n"
     ]
    },
    {
     "name": "stdout",
     "output_type": "stream",
     "text": [
      "151/151 [==============================] - 3s 20ms/step\n",
      "65/65 [==============================] - 2s 19ms/step\n"
     ]
    },
    {
     "name": "stderr",
     "output_type": "stream",
     "text": [
      "D:\\Anaconda\\lib\\site-packages\\pandas\\core\\frame.py:3678: SettingWithCopyWarning: \n",
      "A value is trying to be set on a copy of a slice from a DataFrame.\n",
      "Try using .loc[row_indexer,col_indexer] = value instead\n",
      "\n",
      "See the caveats in the documentation: https://pandas.pydata.org/pandas-docs/stable/user_guide/indexing.html#returning-a-view-versus-a-copy\n",
      "  self[col] = igetitem(value, i)\n",
      "D:\\Anaconda\\lib\\site-packages\\pandas\\core\\frame.py:3678: SettingWithCopyWarning: \n",
      "A value is trying to be set on a copy of a slice from a DataFrame.\n",
      "Try using .loc[row_indexer,col_indexer] = value instead\n",
      "\n",
      "See the caveats in the documentation: https://pandas.pydata.org/pandas-docs/stable/user_guide/indexing.html#returning-a-view-versus-a-copy\n",
      "  self[col] = igetitem(value, i)\n"
     ]
    },
    {
     "name": "stdout",
     "output_type": "stream",
     "text": [
      "Epoch 1/15\n",
      "145/145 [==============================] - 10s 57ms/step - loss: 1.3419 - val_loss: 0.2680\n",
      "Epoch 2/15\n",
      "145/145 [==============================] - 8s 52ms/step - loss: 1.3273 - val_loss: 0.2583\n",
      "Epoch 3/15\n",
      "145/145 [==============================] - 8s 52ms/step - loss: 1.3209 - val_loss: 0.2515\n",
      "Epoch 4/15\n",
      "145/145 [==============================] - 8s 52ms/step - loss: 1.3176 - val_loss: 0.2474\n",
      "Epoch 5/15\n",
      "145/145 [==============================] - 8s 53ms/step - loss: 1.3144 - val_loss: 0.2428\n",
      "Epoch 6/15\n",
      "145/145 [==============================] - 8s 52ms/step - loss: 1.3120 - val_loss: 0.2405\n",
      "Epoch 7/15\n",
      "145/145 [==============================] - 8s 53ms/step - loss: 1.3082 - val_loss: 0.2371\n",
      "Epoch 8/15\n",
      "145/145 [==============================] - 8s 52ms/step - loss: 1.3102 - val_loss: 0.2374\n",
      "Epoch 9/15\n",
      "145/145 [==============================] - 8s 53ms/step - loss: 1.3056 - val_loss: 0.2399\n",
      "Epoch 10/15\n",
      "145/145 [==============================] - 8s 52ms/step - loss: 1.3039 - val_loss: 0.2313\n",
      "Epoch 11/15\n",
      "145/145 [==============================] - 8s 53ms/step - loss: 1.3030 - val_loss: 0.2316\n",
      "Epoch 12/15\n",
      "145/145 [==============================] - 8s 52ms/step - loss: 1.3039 - val_loss: 0.2327\n",
      "Epoch 13/15\n",
      "145/145 [==============================] - 8s 52ms/step - loss: 1.3018 - val_loss: 0.2297\n",
      "Epoch 14/15\n",
      "145/145 [==============================] - 8s 52ms/step - loss: 1.3015 - val_loss: 0.2301\n",
      "Epoch 15/15\n",
      "145/145 [==============================] - 8s 52ms/step - loss: 1.3004 - val_loss: 0.2296\n"
     ]
    },
    {
     "name": "stderr",
     "output_type": "stream",
     "text": [
      "WARNING:absl:Found untraced functions such as lstm_cell_73_layer_call_fn, lstm_cell_73_layer_call_and_return_conditional_losses while saving (showing 2 of 2). These functions will not be directly callable after loading.\n"
     ]
    },
    {
     "name": "stdout",
     "output_type": "stream",
     "text": [
      "INFO:tensorflow:Assets written to: Hybrid MP_wav/month2_1_step_lookahead_Hybrid\\assets\n"
     ]
    },
    {
     "name": "stderr",
     "output_type": "stream",
     "text": [
      "INFO:tensorflow:Assets written to: Hybrid MP_wav/month2_1_step_lookahead_Hybrid\\assets\n",
      "WARNING:absl:<keras.layers.recurrent.LSTMCell object at 0x00000207ADCA4250> has the same name 'LSTMCell' as a built-in Keras object. Consider renaming <class 'keras.layers.recurrent.LSTMCell'> to avoid naming conflicts when loading with `tf.keras.models.load_model`. If renaming is not possible, pass the object in the `custom_objects` parameter of the load function.\n"
     ]
    },
    {
     "name": "stdout",
     "output_type": "stream",
     "text": [
      "145/145 [==============================] - 4s 21ms/step\n",
      "63/63 [==============================] - 1s 19ms/step\n"
     ]
    },
    {
     "name": "stderr",
     "output_type": "stream",
     "text": [
      "D:\\Anaconda\\lib\\site-packages\\pandas\\core\\frame.py:3678: SettingWithCopyWarning: \n",
      "A value is trying to be set on a copy of a slice from a DataFrame.\n",
      "Try using .loc[row_indexer,col_indexer] = value instead\n",
      "\n",
      "See the caveats in the documentation: https://pandas.pydata.org/pandas-docs/stable/user_guide/indexing.html#returning-a-view-versus-a-copy\n",
      "  self[col] = igetitem(value, i)\n"
     ]
    },
    {
     "name": "stdout",
     "output_type": "stream",
     "text": [
      "Epoch 1/15\n",
      "145/145 [==============================] - 10s 57ms/step - loss: 1.3593 - val_loss: 0.2710\n",
      "Epoch 2/15\n",
      "145/145 [==============================] - 8s 52ms/step - loss: 1.3484 - val_loss: 0.2663\n",
      "Epoch 3/15\n",
      "145/145 [==============================] - 8s 52ms/step - loss: 1.3470 - val_loss: 0.2594\n",
      "Epoch 4/15\n",
      "145/145 [==============================] - 8s 52ms/step - loss: 1.3435 - val_loss: 0.2528\n",
      "Epoch 5/15\n",
      "145/145 [==============================] - 8s 52ms/step - loss: 1.3437 - val_loss: 0.2507\n",
      "Epoch 6/15\n",
      "145/145 [==============================] - 8s 52ms/step - loss: 1.3434 - val_loss: 0.2496\n",
      "Epoch 7/15\n",
      "145/145 [==============================] - 8s 52ms/step - loss: 1.3419 - val_loss: 0.2476\n",
      "Epoch 8/15\n",
      "145/145 [==============================] - 8s 52ms/step - loss: 1.3424 - val_loss: 0.2475\n",
      "Epoch 9/15\n",
      "145/145 [==============================] - 8s 53ms/step - loss: 1.3413 - val_loss: 0.2455\n",
      "Epoch 10/15\n",
      "145/145 [==============================] - 8s 52ms/step - loss: 1.3406 - val_loss: 0.2474\n",
      "Epoch 11/15\n",
      "145/145 [==============================] - 8s 52ms/step - loss: 1.3415 - val_loss: 0.2473\n",
      "Epoch 12/15\n",
      "145/145 [==============================] - 8s 52ms/step - loss: 1.3397 - val_loss: 0.2457\n",
      "Epoch 13/15\n",
      "145/145 [==============================] - 8s 52ms/step - loss: 1.3398 - val_loss: 0.2484\n",
      "Epoch 14/15\n",
      "145/145 [==============================] - 8s 53ms/step - loss: 1.3397 - val_loss: 0.2439\n",
      "Epoch 15/15\n",
      "145/145 [==============================] - 8s 52ms/step - loss: 1.3411 - val_loss: 0.2441\n"
     ]
    },
    {
     "name": "stderr",
     "output_type": "stream",
     "text": [
      "WARNING:absl:Found untraced functions such as lstm_cell_74_layer_call_fn, lstm_cell_74_layer_call_and_return_conditional_losses while saving (showing 2 of 2). These functions will not be directly callable after loading.\n"
     ]
    },
    {
     "name": "stdout",
     "output_type": "stream",
     "text": [
      "INFO:tensorflow:Assets written to: Hybrid MP_wav/month2_2_step_lookahead_Hybrid\\assets\n"
     ]
    },
    {
     "name": "stderr",
     "output_type": "stream",
     "text": [
      "INFO:tensorflow:Assets written to: Hybrid MP_wav/month2_2_step_lookahead_Hybrid\\assets\n",
      "WARNING:absl:<keras.layers.recurrent.LSTMCell object at 0x0000020AB9CFA130> has the same name 'LSTMCell' as a built-in Keras object. Consider renaming <class 'keras.layers.recurrent.LSTMCell'> to avoid naming conflicts when loading with `tf.keras.models.load_model`. If renaming is not possible, pass the object in the `custom_objects` parameter of the load function.\n"
     ]
    },
    {
     "name": "stdout",
     "output_type": "stream",
     "text": [
      "145/145 [==============================] - 3s 20ms/step\n",
      "63/63 [==============================] - 1s 19ms/step\n"
     ]
    },
    {
     "name": "stderr",
     "output_type": "stream",
     "text": [
      "D:\\Anaconda\\lib\\site-packages\\pandas\\core\\frame.py:3678: SettingWithCopyWarning: \n",
      "A value is trying to be set on a copy of a slice from a DataFrame.\n",
      "Try using .loc[row_indexer,col_indexer] = value instead\n",
      "\n",
      "See the caveats in the documentation: https://pandas.pydata.org/pandas-docs/stable/user_guide/indexing.html#returning-a-view-versus-a-copy\n",
      "  self[col] = igetitem(value, i)\n"
     ]
    },
    {
     "name": "stdout",
     "output_type": "stream",
     "text": [
      "Epoch 1/15\n",
      "145/145 [==============================] - 11s 57ms/step - loss: 1.3775 - val_loss: 0.3066\n",
      "Epoch 2/15\n",
      "145/145 [==============================] - 8s 52ms/step - loss: 1.3595 - val_loss: 0.2986\n",
      "Epoch 3/15\n",
      "145/145 [==============================] - 8s 52ms/step - loss: 1.3570 - val_loss: 0.2957\n",
      "Epoch 4/15\n",
      "145/145 [==============================] - 8s 52ms/step - loss: 1.3565 - val_loss: 0.2930\n",
      "Epoch 5/15\n",
      "145/145 [==============================] - 8s 52ms/step - loss: 1.3550 - val_loss: 0.2925\n",
      "Epoch 6/15\n",
      "145/145 [==============================] - 8s 53ms/step - loss: 1.3552 - val_loss: 0.2919\n",
      "Epoch 7/15\n",
      "145/145 [==============================] - 7s 52ms/step - loss: 1.3551 - val_loss: 0.2919\n",
      "Epoch 8/15\n",
      "145/145 [==============================] - 8s 52ms/step - loss: 1.3547 - val_loss: 0.2907\n",
      "Epoch 9/15\n",
      "145/145 [==============================] - 8s 52ms/step - loss: 1.3545 - val_loss: 0.2909\n",
      "Epoch 10/15\n",
      "145/145 [==============================] - 8s 52ms/step - loss: 1.3540 - val_loss: 0.2916\n",
      "Epoch 11/15\n",
      "145/145 [==============================] - 8s 52ms/step - loss: 1.3541 - val_loss: 0.2918\n",
      "Epoch 12/15\n",
      "145/145 [==============================] - 8s 52ms/step - loss: 1.3540 - val_loss: 0.2910\n",
      "Epoch 13/15\n",
      "145/145 [==============================] - 7s 52ms/step - loss: 1.3534 - val_loss: 0.2924\n",
      "Epoch 14/15\n",
      "145/145 [==============================] - 8s 52ms/step - loss: 1.3541 - val_loss: 0.2904\n",
      "Epoch 15/15\n",
      "145/145 [==============================] - 8s 52ms/step - loss: 1.3519 - val_loss: 0.2917\n"
     ]
    },
    {
     "name": "stderr",
     "output_type": "stream",
     "text": [
      "WARNING:absl:Found untraced functions such as lstm_cell_75_layer_call_fn, lstm_cell_75_layer_call_and_return_conditional_losses while saving (showing 2 of 2). These functions will not be directly callable after loading.\n"
     ]
    },
    {
     "name": "stdout",
     "output_type": "stream",
     "text": [
      "INFO:tensorflow:Assets written to: Hybrid MP_wav/month2_3_step_lookahead_Hybrid\\assets\n"
     ]
    },
    {
     "name": "stderr",
     "output_type": "stream",
     "text": [
      "INFO:tensorflow:Assets written to: Hybrid MP_wav/month2_3_step_lookahead_Hybrid\\assets\n",
      "WARNING:absl:<keras.layers.recurrent.LSTMCell object at 0x0000020A68AEFF10> has the same name 'LSTMCell' as a built-in Keras object. Consider renaming <class 'keras.layers.recurrent.LSTMCell'> to avoid naming conflicts when loading with `tf.keras.models.load_model`. If renaming is not possible, pass the object in the `custom_objects` parameter of the load function.\n"
     ]
    },
    {
     "name": "stdout",
     "output_type": "stream",
     "text": [
      "145/145 [==============================] - 4s 21ms/step\n",
      "63/63 [==============================] - 1s 19ms/step\n"
     ]
    },
    {
     "name": "stderr",
     "output_type": "stream",
     "text": [
      "D:\\Anaconda\\lib\\site-packages\\pandas\\core\\frame.py:3678: SettingWithCopyWarning: \n",
      "A value is trying to be set on a copy of a slice from a DataFrame.\n",
      "Try using .loc[row_indexer,col_indexer] = value instead\n",
      "\n",
      "See the caveats in the documentation: https://pandas.pydata.org/pandas-docs/stable/user_guide/indexing.html#returning-a-view-versus-a-copy\n",
      "  self[col] = igetitem(value, i)\n"
     ]
    },
    {
     "name": "stdout",
     "output_type": "stream",
     "text": [
      "Epoch 1/15\n",
      "145/145 [==============================] - 11s 56ms/step - loss: 1.3971 - val_loss: 0.3051\n",
      "Epoch 2/15\n",
      "145/145 [==============================] - 8s 52ms/step - loss: 1.3661 - val_loss: 0.2974\n",
      "Epoch 3/15\n",
      "145/145 [==============================] - 8s 52ms/step - loss: 1.3642 - val_loss: 0.2939\n",
      "Epoch 4/15\n",
      "145/145 [==============================] - 8s 52ms/step - loss: 1.3627 - val_loss: 0.2944\n",
      "Epoch 5/15\n",
      "145/145 [==============================] - 8s 52ms/step - loss: 1.3622 - val_loss: 0.2922\n",
      "Epoch 6/15\n",
      "145/145 [==============================] - 8s 52ms/step - loss: 1.3622 - val_loss: 0.2912\n",
      "Epoch 7/15\n",
      "145/145 [==============================] - 8s 52ms/step - loss: 1.3614 - val_loss: 0.2915\n",
      "Epoch 8/15\n",
      "145/145 [==============================] - 8s 52ms/step - loss: 1.3615 - val_loss: 0.2903\n",
      "Epoch 9/15\n",
      "145/145 [==============================] - 8s 52ms/step - loss: 1.3617 - val_loss: 0.2916\n",
      "Epoch 10/15\n",
      "145/145 [==============================] - 8s 52ms/step - loss: 1.3611 - val_loss: 0.2932\n",
      "Epoch 11/15\n",
      "145/145 [==============================] - 8s 52ms/step - loss: 1.3614 - val_loss: 0.2909\n",
      "Epoch 12/15\n",
      "145/145 [==============================] - 8s 52ms/step - loss: 1.3617 - val_loss: 0.2916\n",
      "Epoch 13/15\n",
      "145/145 [==============================] - 7s 52ms/step - loss: 1.3612 - val_loss: 0.2908\n",
      "Epoch 14/15\n",
      "145/145 [==============================] - 8s 52ms/step - loss: 1.3603 - val_loss: 0.2949\n",
      "Epoch 15/15\n",
      "145/145 [==============================] - 8s 52ms/step - loss: 1.3608 - val_loss: 0.2907\n"
     ]
    },
    {
     "name": "stderr",
     "output_type": "stream",
     "text": [
      "WARNING:absl:Found untraced functions such as lstm_cell_76_layer_call_fn, lstm_cell_76_layer_call_and_return_conditional_losses while saving (showing 2 of 2). These functions will not be directly callable after loading.\n"
     ]
    },
    {
     "name": "stdout",
     "output_type": "stream",
     "text": [
      "INFO:tensorflow:Assets written to: Hybrid MP_wav/month2_4_step_lookahead_Hybrid\\assets\n"
     ]
    },
    {
     "name": "stderr",
     "output_type": "stream",
     "text": [
      "INFO:tensorflow:Assets written to: Hybrid MP_wav/month2_4_step_lookahead_Hybrid\\assets\n",
      "WARNING:absl:<keras.layers.recurrent.LSTMCell object at 0x00000207ACD02940> has the same name 'LSTMCell' as a built-in Keras object. Consider renaming <class 'keras.layers.recurrent.LSTMCell'> to avoid naming conflicts when loading with `tf.keras.models.load_model`. If renaming is not possible, pass the object in the `custom_objects` parameter of the load function.\n"
     ]
    },
    {
     "name": "stdout",
     "output_type": "stream",
     "text": [
      "145/145 [==============================] - 3s 21ms/step\n",
      "63/63 [==============================] - 1s 19ms/step\n"
     ]
    },
    {
     "name": "stderr",
     "output_type": "stream",
     "text": [
      "D:\\Anaconda\\lib\\site-packages\\pandas\\core\\frame.py:3678: SettingWithCopyWarning: \n",
      "A value is trying to be set on a copy of a slice from a DataFrame.\n",
      "Try using .loc[row_indexer,col_indexer] = value instead\n",
      "\n",
      "See the caveats in the documentation: https://pandas.pydata.org/pandas-docs/stable/user_guide/indexing.html#returning-a-view-versus-a-copy\n",
      "  self[col] = igetitem(value, i)\n"
     ]
    },
    {
     "name": "stdout",
     "output_type": "stream",
     "text": [
      "Epoch 1/15\n",
      "145/145 [==============================] - 10s 56ms/step - loss: 1.4225 - val_loss: 0.3034\n",
      "Epoch 2/15\n",
      "145/145 [==============================] - 8s 52ms/step - loss: 1.3693 - val_loss: 0.2959\n",
      "Epoch 3/15\n",
      "145/145 [==============================] - 8s 52ms/step - loss: 1.3669 - val_loss: 0.2939\n",
      "Epoch 4/15\n",
      "145/145 [==============================] - 8s 52ms/step - loss: 1.3667 - val_loss: 0.2922\n",
      "Epoch 5/15\n",
      "145/145 [==============================] - 8s 52ms/step - loss: 1.3659 - val_loss: 0.2916\n",
      "Epoch 6/15\n",
      "145/145 [==============================] - 8s 52ms/step - loss: 1.3656 - val_loss: 0.2908\n",
      "Epoch 7/15\n",
      "145/145 [==============================] - 8s 52ms/step - loss: 1.3645 - val_loss: 0.2908\n",
      "Epoch 8/15\n",
      "145/145 [==============================] - 8s 52ms/step - loss: 1.3642 - val_loss: 0.2933\n",
      "Epoch 9/15\n",
      "145/145 [==============================] - 8s 52ms/step - loss: 1.3645 - val_loss: 0.2900\n",
      "Epoch 10/15\n",
      "145/145 [==============================] - 8s 52ms/step - loss: 1.3638 - val_loss: 0.2896\n",
      "Epoch 11/15\n",
      "145/145 [==============================] - 8s 52ms/step - loss: 1.3637 - val_loss: 0.2900\n",
      "Epoch 12/15\n",
      "145/145 [==============================] - 7s 52ms/step - loss: 1.3628 - val_loss: 0.2903\n",
      "Epoch 13/15\n",
      "145/145 [==============================] - 7s 52ms/step - loss: 1.3632 - val_loss: 0.2904\n",
      "Epoch 14/15\n",
      "145/145 [==============================] - 7s 52ms/step - loss: 1.3625 - val_loss: 0.2903\n",
      "Epoch 15/15\n",
      "145/145 [==============================] - 7s 52ms/step - loss: 1.3624 - val_loss: 0.2900\n"
     ]
    },
    {
     "name": "stderr",
     "output_type": "stream",
     "text": [
      "WARNING:absl:Found untraced functions such as lstm_cell_77_layer_call_fn, lstm_cell_77_layer_call_and_return_conditional_losses while saving (showing 2 of 2). These functions will not be directly callable after loading.\n"
     ]
    },
    {
     "name": "stdout",
     "output_type": "stream",
     "text": [
      "INFO:tensorflow:Assets written to: Hybrid MP_wav/month2_5_step_lookahead_Hybrid\\assets\n"
     ]
    },
    {
     "name": "stderr",
     "output_type": "stream",
     "text": [
      "INFO:tensorflow:Assets written to: Hybrid MP_wav/month2_5_step_lookahead_Hybrid\\assets\n",
      "WARNING:absl:<keras.layers.recurrent.LSTMCell object at 0x00000207B93E6610> has the same name 'LSTMCell' as a built-in Keras object. Consider renaming <class 'keras.layers.recurrent.LSTMCell'> to avoid naming conflicts when loading with `tf.keras.models.load_model`. If renaming is not possible, pass the object in the `custom_objects` parameter of the load function.\n"
     ]
    },
    {
     "name": "stdout",
     "output_type": "stream",
     "text": [
      "145/145 [==============================] - 3s 21ms/step\n",
      "63/63 [==============================] - 1s 19ms/step\n"
     ]
    },
    {
     "name": "stderr",
     "output_type": "stream",
     "text": [
      "D:\\Anaconda\\lib\\site-packages\\pandas\\core\\frame.py:3678: SettingWithCopyWarning: \n",
      "A value is trying to be set on a copy of a slice from a DataFrame.\n",
      "Try using .loc[row_indexer,col_indexer] = value instead\n",
      "\n",
      "See the caveats in the documentation: https://pandas.pydata.org/pandas-docs/stable/user_guide/indexing.html#returning-a-view-versus-a-copy\n",
      "  self[col] = igetitem(value, i)\n"
     ]
    },
    {
     "name": "stdout",
     "output_type": "stream",
     "text": [
      "Epoch 1/15\n",
      "145/145 [==============================] - 10s 57ms/step - loss: 1.3837 - val_loss: 0.3115\n",
      "Epoch 2/15\n",
      "145/145 [==============================] - 8s 52ms/step - loss: 1.3707 - val_loss: 0.3099\n",
      "Epoch 3/15\n",
      "145/145 [==============================] - 8s 52ms/step - loss: 1.3698 - val_loss: 0.3087\n",
      "Epoch 4/15\n",
      "145/145 [==============================] - 8s 52ms/step - loss: 1.3692 - val_loss: 0.3097\n",
      "Epoch 5/15\n",
      "145/145 [==============================] - 8s 52ms/step - loss: 1.3689 - val_loss: 0.3080\n",
      "Epoch 6/15\n",
      "145/145 [==============================] - 8s 52ms/step - loss: 1.3694 - val_loss: 0.3075\n",
      "Epoch 7/15\n",
      "145/145 [==============================] - 8s 52ms/step - loss: 1.3684 - val_loss: 0.3072\n",
      "Epoch 8/15\n",
      "145/145 [==============================] - 8s 52ms/step - loss: 1.3682 - val_loss: 0.3069\n",
      "Epoch 9/15\n",
      "145/145 [==============================] - 8s 52ms/step - loss: 1.3669 - val_loss: 0.3110\n",
      "Epoch 10/15\n",
      "145/145 [==============================] - 8s 52ms/step - loss: 1.3679 - val_loss: 0.3065\n",
      "Epoch 11/15\n",
      "145/145 [==============================] - 8s 52ms/step - loss: 1.3670 - val_loss: 0.3075\n",
      "Epoch 12/15\n",
      "145/145 [==============================] - 7s 52ms/step - loss: 1.3673 - val_loss: 0.3085\n",
      "Epoch 13/15\n",
      "145/145 [==============================] - 8s 52ms/step - loss: 1.3670 - val_loss: 0.3081\n",
      "Epoch 14/15\n",
      "145/145 [==============================] - 8s 52ms/step - loss: 1.3677 - val_loss: 0.3063\n",
      "Epoch 15/15\n",
      "145/145 [==============================] - 8s 52ms/step - loss: 1.3668 - val_loss: 0.3088\n"
     ]
    },
    {
     "name": "stderr",
     "output_type": "stream",
     "text": [
      "WARNING:absl:Found untraced functions such as lstm_cell_78_layer_call_fn, lstm_cell_78_layer_call_and_return_conditional_losses while saving (showing 2 of 2). These functions will not be directly callable after loading.\n"
     ]
    },
    {
     "name": "stdout",
     "output_type": "stream",
     "text": [
      "INFO:tensorflow:Assets written to: Hybrid MP_wav/month2_6_step_lookahead_Hybrid\\assets\n"
     ]
    },
    {
     "name": "stderr",
     "output_type": "stream",
     "text": [
      "INFO:tensorflow:Assets written to: Hybrid MP_wav/month2_6_step_lookahead_Hybrid\\assets\n",
      "WARNING:absl:<keras.layers.recurrent.LSTMCell object at 0x0000020AE60D7250> has the same name 'LSTMCell' as a built-in Keras object. Consider renaming <class 'keras.layers.recurrent.LSTMCell'> to avoid naming conflicts when loading with `tf.keras.models.load_model`. If renaming is not possible, pass the object in the `custom_objects` parameter of the load function.\n"
     ]
    },
    {
     "name": "stdout",
     "output_type": "stream",
     "text": [
      "145/145 [==============================] - 3s 21ms/step\n",
      "63/63 [==============================] - 1s 19ms/step\n"
     ]
    },
    {
     "name": "stderr",
     "output_type": "stream",
     "text": [
      "D:\\Anaconda\\lib\\site-packages\\pandas\\core\\frame.py:3678: SettingWithCopyWarning: \n",
      "A value is trying to be set on a copy of a slice from a DataFrame.\n",
      "Try using .loc[row_indexer,col_indexer] = value instead\n",
      "\n",
      "See the caveats in the documentation: https://pandas.pydata.org/pandas-docs/stable/user_guide/indexing.html#returning-a-view-versus-a-copy\n",
      "  self[col] = igetitem(value, i)\n"
     ]
    },
    {
     "name": "stdout",
     "output_type": "stream",
     "text": [
      "Epoch 1/15\n",
      "145/145 [==============================] - 10s 57ms/step - loss: 1.4038 - val_loss: 0.3096\n",
      "Epoch 2/15\n",
      "145/145 [==============================] - 8s 52ms/step - loss: 1.3765 - val_loss: 0.3081\n",
      "Epoch 3/15\n",
      "145/145 [==============================] - 8s 52ms/step - loss: 1.3762 - val_loss: 0.3082\n",
      "Epoch 4/15\n",
      "145/145 [==============================] - 8s 52ms/step - loss: 1.3760 - val_loss: 0.3076\n",
      "Epoch 5/15\n",
      "145/145 [==============================] - 8s 52ms/step - loss: 1.3752 - val_loss: 0.3072\n",
      "Epoch 6/15\n",
      "145/145 [==============================] - 8s 52ms/step - loss: 1.3746 - val_loss: 0.3084\n",
      "Epoch 7/15\n",
      "145/145 [==============================] - 8s 52ms/step - loss: 1.3742 - val_loss: 0.3081\n",
      "Epoch 8/15\n",
      "145/145 [==============================] - 8s 52ms/step - loss: 1.3744 - val_loss: 0.3068\n",
      "Epoch 9/15\n",
      "145/145 [==============================] - 8s 52ms/step - loss: 1.3729 - val_loss: 0.3088\n",
      "Epoch 10/15\n",
      "145/145 [==============================] - 8s 52ms/step - loss: 1.3731 - val_loss: 0.3066\n",
      "Epoch 11/15\n",
      "145/145 [==============================] - 8s 52ms/step - loss: 1.3732 - val_loss: 0.3070\n",
      "Epoch 12/15\n",
      "145/145 [==============================] - 8s 52ms/step - loss: 1.3710 - val_loss: 0.3044\n",
      "Epoch 13/15\n",
      "145/145 [==============================] - 8s 52ms/step - loss: 1.3723 - val_loss: 0.3083\n",
      "Epoch 14/15\n",
      "145/145 [==============================] - 8s 52ms/step - loss: 1.3723 - val_loss: 0.3068\n",
      "Epoch 15/15\n",
      "145/145 [==============================] - 8s 52ms/step - loss: 1.3705 - val_loss: 0.3091\n"
     ]
    },
    {
     "name": "stderr",
     "output_type": "stream",
     "text": [
      "WARNING:absl:Found untraced functions such as lstm_cell_79_layer_call_fn, lstm_cell_79_layer_call_and_return_conditional_losses while saving (showing 2 of 2). These functions will not be directly callable after loading.\n"
     ]
    },
    {
     "name": "stdout",
     "output_type": "stream",
     "text": [
      "INFO:tensorflow:Assets written to: Hybrid MP_wav/month2_7_step_lookahead_Hybrid\\assets\n"
     ]
    },
    {
     "name": "stderr",
     "output_type": "stream",
     "text": [
      "INFO:tensorflow:Assets written to: Hybrid MP_wav/month2_7_step_lookahead_Hybrid\\assets\n",
      "WARNING:absl:<keras.layers.recurrent.LSTMCell object at 0x000002079D88ED90> has the same name 'LSTMCell' as a built-in Keras object. Consider renaming <class 'keras.layers.recurrent.LSTMCell'> to avoid naming conflicts when loading with `tf.keras.models.load_model`. If renaming is not possible, pass the object in the `custom_objects` parameter of the load function.\n"
     ]
    },
    {
     "name": "stdout",
     "output_type": "stream",
     "text": [
      "145/145 [==============================] - 3s 21ms/step\n",
      "63/63 [==============================] - 1s 19ms/step\n"
     ]
    },
    {
     "name": "stderr",
     "output_type": "stream",
     "text": [
      "D:\\Anaconda\\lib\\site-packages\\pandas\\core\\frame.py:3678: SettingWithCopyWarning: \n",
      "A value is trying to be set on a copy of a slice from a DataFrame.\n",
      "Try using .loc[row_indexer,col_indexer] = value instead\n",
      "\n",
      "See the caveats in the documentation: https://pandas.pydata.org/pandas-docs/stable/user_guide/indexing.html#returning-a-view-versus-a-copy\n",
      "  self[col] = igetitem(value, i)\n"
     ]
    },
    {
     "name": "stdout",
     "output_type": "stream",
     "text": [
      "Epoch 1/15\n",
      "145/145 [==============================] - 11s 56ms/step - loss: 1.3965 - val_loss: 0.3175\n",
      "Epoch 2/15\n",
      "145/145 [==============================] - 8s 52ms/step - loss: 1.3855 - val_loss: 0.3127\n",
      "Epoch 3/15\n",
      "145/145 [==============================] - 8s 53ms/step - loss: 1.3839 - val_loss: 0.3136\n",
      "Epoch 4/15\n",
      "145/145 [==============================] - 8s 53ms/step - loss: 1.3830 - val_loss: 0.3134\n",
      "Epoch 5/15\n",
      "145/145 [==============================] - 8s 52ms/step - loss: 1.3836 - val_loss: 0.3105\n",
      "Epoch 6/15\n",
      "145/145 [==============================] - 8s 53ms/step - loss: 1.3825 - val_loss: 0.3100\n",
      "Epoch 7/15\n",
      "145/145 [==============================] - 8s 53ms/step - loss: 1.3822 - val_loss: 0.3102\n",
      "Epoch 8/15\n",
      "145/145 [==============================] - 8s 52ms/step - loss: 1.3810 - val_loss: 0.3128\n",
      "Epoch 9/15\n",
      "145/145 [==============================] - 8s 52ms/step - loss: 1.3809 - val_loss: 0.3090\n",
      "Epoch 10/15\n",
      "145/145 [==============================] - 8s 52ms/step - loss: 1.3802 - val_loss: 0.3098\n",
      "Epoch 11/15\n",
      "145/145 [==============================] - 8s 52ms/step - loss: 1.3795 - val_loss: 0.3108\n",
      "Epoch 12/15\n",
      "145/145 [==============================] - 8s 52ms/step - loss: 1.3794 - val_loss: 0.3108\n",
      "Epoch 13/15\n",
      "145/145 [==============================] - 8s 53ms/step - loss: 1.3783 - val_loss: 0.3114\n",
      "Epoch 14/15\n",
      "145/145 [==============================] - 8s 52ms/step - loss: 1.3788 - val_loss: 0.3117\n",
      "Epoch 15/15\n",
      "145/145 [==============================] - 8s 53ms/step - loss: 1.3771 - val_loss: 0.3112\n"
     ]
    },
    {
     "name": "stderr",
     "output_type": "stream",
     "text": [
      "WARNING:absl:Found untraced functions such as lstm_cell_80_layer_call_fn, lstm_cell_80_layer_call_and_return_conditional_losses while saving (showing 2 of 2). These functions will not be directly callable after loading.\n"
     ]
    },
    {
     "name": "stdout",
     "output_type": "stream",
     "text": [
      "INFO:tensorflow:Assets written to: Hybrid MP_wav/month2_8_step_lookahead_Hybrid\\assets\n"
     ]
    },
    {
     "name": "stderr",
     "output_type": "stream",
     "text": [
      "INFO:tensorflow:Assets written to: Hybrid MP_wav/month2_8_step_lookahead_Hybrid\\assets\n",
      "WARNING:absl:<keras.layers.recurrent.LSTMCell object at 0x0000020AE832E8B0> has the same name 'LSTMCell' as a built-in Keras object. Consider renaming <class 'keras.layers.recurrent.LSTMCell'> to avoid naming conflicts when loading with `tf.keras.models.load_model`. If renaming is not possible, pass the object in the `custom_objects` parameter of the load function.\n"
     ]
    },
    {
     "name": "stdout",
     "output_type": "stream",
     "text": [
      "145/145 [==============================] - 3s 21ms/step\n",
      "63/63 [==============================] - 1s 19ms/step\n"
     ]
    },
    {
     "name": "stderr",
     "output_type": "stream",
     "text": [
      "D:\\Anaconda\\lib\\site-packages\\pandas\\core\\frame.py:3678: SettingWithCopyWarning: \n",
      "A value is trying to be set on a copy of a slice from a DataFrame.\n",
      "Try using .loc[row_indexer,col_indexer] = value instead\n",
      "\n",
      "See the caveats in the documentation: https://pandas.pydata.org/pandas-docs/stable/user_guide/indexing.html#returning-a-view-versus-a-copy\n",
      "  self[col] = igetitem(value, i)\n"
     ]
    },
    {
     "name": "stdout",
     "output_type": "stream",
     "text": [
      "Epoch 1/15\n",
      "145/145 [==============================] - 11s 61ms/step - loss: 1.4092 - val_loss: 0.3106\n",
      "Epoch 2/15\n",
      "145/145 [==============================] - 8s 52ms/step - loss: 1.3882 - val_loss: 0.3080\n",
      "Epoch 3/15\n",
      "145/145 [==============================] - 8s 52ms/step - loss: 1.3867 - val_loss: 0.3093\n",
      "Epoch 4/15\n",
      "145/145 [==============================] - 8s 52ms/step - loss: 1.3864 - val_loss: 0.3087\n",
      "Epoch 5/15\n",
      "145/145 [==============================] - 8s 52ms/step - loss: 1.3859 - val_loss: 0.3099\n",
      "Epoch 6/15\n",
      "145/145 [==============================] - 8s 52ms/step - loss: 1.3860 - val_loss: 0.3074\n",
      "Epoch 7/15\n",
      "145/145 [==============================] - 8s 52ms/step - loss: 1.3854 - val_loss: 0.3074\n",
      "Epoch 8/15\n",
      "145/145 [==============================] - 8s 52ms/step - loss: 1.3853 - val_loss: 0.3070\n",
      "Epoch 9/15\n",
      "145/145 [==============================] - 8s 53ms/step - loss: 1.3854 - val_loss: 0.3097\n",
      "Epoch 10/15\n",
      "145/145 [==============================] - 8s 52ms/step - loss: 1.3846 - val_loss: 0.3076\n",
      "Epoch 11/15\n",
      "145/145 [==============================] - 8s 52ms/step - loss: 1.3851 - val_loss: 0.3066\n",
      "Epoch 12/15\n",
      "145/145 [==============================] - 8s 52ms/step - loss: 1.3841 - val_loss: 0.3061\n",
      "Epoch 13/15\n",
      "145/145 [==============================] - 8s 52ms/step - loss: 1.3835 - val_loss: 0.3070\n",
      "Epoch 14/15\n",
      "145/145 [==============================] - 8s 52ms/step - loss: 1.3841 - val_loss: 0.3064\n",
      "Epoch 15/15\n",
      "145/145 [==============================] - 8s 52ms/step - loss: 1.3835 - val_loss: 0.3062\n"
     ]
    },
    {
     "name": "stderr",
     "output_type": "stream",
     "text": [
      "WARNING:absl:Found untraced functions such as lstm_cell_81_layer_call_fn, lstm_cell_81_layer_call_and_return_conditional_losses while saving (showing 2 of 2). These functions will not be directly callable after loading.\n"
     ]
    },
    {
     "name": "stdout",
     "output_type": "stream",
     "text": [
      "INFO:tensorflow:Assets written to: Hybrid MP_wav/month2_9_step_lookahead_Hybrid\\assets\n"
     ]
    },
    {
     "name": "stderr",
     "output_type": "stream",
     "text": [
      "INFO:tensorflow:Assets written to: Hybrid MP_wav/month2_9_step_lookahead_Hybrid\\assets\n",
      "WARNING:absl:<keras.layers.recurrent.LSTMCell object at 0x00000207ACEB19A0> has the same name 'LSTMCell' as a built-in Keras object. Consider renaming <class 'keras.layers.recurrent.LSTMCell'> to avoid naming conflicts when loading with `tf.keras.models.load_model`. If renaming is not possible, pass the object in the `custom_objects` parameter of the load function.\n"
     ]
    },
    {
     "name": "stdout",
     "output_type": "stream",
     "text": [
      "145/145 [==============================] - 3s 20ms/step\n",
      "63/63 [==============================] - 1s 19ms/step\n"
     ]
    },
    {
     "name": "stderr",
     "output_type": "stream",
     "text": [
      "D:\\Anaconda\\lib\\site-packages\\pandas\\core\\frame.py:3678: SettingWithCopyWarning: \n",
      "A value is trying to be set on a copy of a slice from a DataFrame.\n",
      "Try using .loc[row_indexer,col_indexer] = value instead\n",
      "\n",
      "See the caveats in the documentation: https://pandas.pydata.org/pandas-docs/stable/user_guide/indexing.html#returning-a-view-versus-a-copy\n",
      "  self[col] = igetitem(value, i)\n"
     ]
    },
    {
     "name": "stdout",
     "output_type": "stream",
     "text": [
      "Epoch 1/15\n",
      "145/145 [==============================] - 11s 56ms/step - loss: 1.4123 - val_loss: 0.3284\n",
      "Epoch 2/15\n",
      "145/145 [==============================] - 8s 52ms/step - loss: 1.3947 - val_loss: 0.3257\n",
      "Epoch 3/15\n",
      "145/145 [==============================] - 8s 52ms/step - loss: 1.3932 - val_loss: 0.3254\n",
      "Epoch 4/15\n",
      "145/145 [==============================] - 8s 52ms/step - loss: 1.3931 - val_loss: 0.3249\n",
      "Epoch 5/15\n",
      "145/145 [==============================] - 8s 52ms/step - loss: 1.3924 - val_loss: 0.3281\n",
      "Epoch 6/15\n",
      "145/145 [==============================] - 8s 52ms/step - loss: 1.3928 - val_loss: 0.3242\n",
      "Epoch 7/15\n",
      "145/145 [==============================] - 8s 52ms/step - loss: 1.3918 - val_loss: 0.3254\n",
      "Epoch 8/15\n",
      "145/145 [==============================] - 8s 52ms/step - loss: 1.3916 - val_loss: 0.3244\n",
      "Epoch 9/15\n",
      "145/145 [==============================] - 8s 52ms/step - loss: 1.3907 - val_loss: 0.3264\n",
      "Epoch 10/15\n",
      "145/145 [==============================] - 8s 52ms/step - loss: 1.3907 - val_loss: 0.3249\n",
      "Epoch 11/15\n",
      "145/145 [==============================] - 8s 52ms/step - loss: 1.3903 - val_loss: 0.3292\n",
      "Epoch 12/15\n",
      "145/145 [==============================] - 8s 52ms/step - loss: 1.3908 - val_loss: 0.3250\n",
      "Epoch 13/15\n",
      "145/145 [==============================] - 8s 52ms/step - loss: 1.3902 - val_loss: 0.3235\n",
      "Epoch 14/15\n",
      "145/145 [==============================] - 8s 52ms/step - loss: 1.3909 - val_loss: 0.3253\n",
      "Epoch 15/15\n",
      "145/145 [==============================] - 8s 52ms/step - loss: 1.3884 - val_loss: 0.3260\n"
     ]
    },
    {
     "name": "stderr",
     "output_type": "stream",
     "text": [
      "WARNING:absl:Found untraced functions such as lstm_cell_82_layer_call_fn, lstm_cell_82_layer_call_and_return_conditional_losses while saving (showing 2 of 2). These functions will not be directly callable after loading.\n"
     ]
    },
    {
     "name": "stdout",
     "output_type": "stream",
     "text": [
      "INFO:tensorflow:Assets written to: Hybrid MP_wav/month2_10_step_lookahead_Hybrid\\assets\n"
     ]
    },
    {
     "name": "stderr",
     "output_type": "stream",
     "text": [
      "INFO:tensorflow:Assets written to: Hybrid MP_wav/month2_10_step_lookahead_Hybrid\\assets\n",
      "WARNING:absl:<keras.layers.recurrent.LSTMCell object at 0x0000020A67564850> has the same name 'LSTMCell' as a built-in Keras object. Consider renaming <class 'keras.layers.recurrent.LSTMCell'> to avoid naming conflicts when loading with `tf.keras.models.load_model`. If renaming is not possible, pass the object in the `custom_objects` parameter of the load function.\n"
     ]
    },
    {
     "name": "stdout",
     "output_type": "stream",
     "text": [
      "145/145 [==============================] - 3s 21ms/step\n",
      "63/63 [==============================] - 1s 19ms/step\n"
     ]
    },
    {
     "name": "stderr",
     "output_type": "stream",
     "text": [
      "D:\\Anaconda\\lib\\site-packages\\pandas\\core\\frame.py:3678: SettingWithCopyWarning: \n",
      "A value is trying to be set on a copy of a slice from a DataFrame.\n",
      "Try using .loc[row_indexer,col_indexer] = value instead\n",
      "\n",
      "See the caveats in the documentation: https://pandas.pydata.org/pandas-docs/stable/user_guide/indexing.html#returning-a-view-versus-a-copy\n",
      "  self[col] = igetitem(value, i)\n",
      "D:\\Anaconda\\lib\\site-packages\\pandas\\core\\frame.py:3678: SettingWithCopyWarning: \n",
      "A value is trying to be set on a copy of a slice from a DataFrame.\n",
      "Try using .loc[row_indexer,col_indexer] = value instead\n",
      "\n",
      "See the caveats in the documentation: https://pandas.pydata.org/pandas-docs/stable/user_guide/indexing.html#returning-a-view-versus-a-copy\n",
      "  self[col] = igetitem(value, i)\n"
     ]
    },
    {
     "name": "stdout",
     "output_type": "stream",
     "text": [
      "Epoch 1/15\n",
      "126/126 [==============================] - 9s 55ms/step - loss: 0.1566 - val_loss: 0.0246\n",
      "Epoch 2/15\n",
      "126/126 [==============================] - 6s 51ms/step - loss: 0.1169 - val_loss: 0.0206\n",
      "Epoch 3/15\n",
      "126/126 [==============================] - 6s 51ms/step - loss: 0.1125 - val_loss: 0.0202\n",
      "Epoch 4/15\n",
      "126/126 [==============================] - 6s 50ms/step - loss: 0.1104 - val_loss: 0.0204\n",
      "Epoch 5/15\n",
      "126/126 [==============================] - 6s 51ms/step - loss: 0.1104 - val_loss: 0.0192\n",
      "Epoch 6/15\n",
      "126/126 [==============================] - 6s 51ms/step - loss: 0.1083 - val_loss: 0.0187\n",
      "Epoch 7/15\n",
      "126/126 [==============================] - 6s 51ms/step - loss: 0.1070 - val_loss: 0.0183\n",
      "Epoch 8/15\n",
      "126/126 [==============================] - 6s 51ms/step - loss: 0.1063 - val_loss: 0.0180\n",
      "Epoch 9/15\n",
      "126/126 [==============================] - 6s 51ms/step - loss: 0.1067 - val_loss: 0.0179\n",
      "Epoch 10/15\n",
      "126/126 [==============================] - 6s 51ms/step - loss: 0.1050 - val_loss: 0.0177\n",
      "Epoch 11/15\n",
      "126/126 [==============================] - 6s 51ms/step - loss: 0.1049 - val_loss: 0.0172\n",
      "Epoch 12/15\n",
      "126/126 [==============================] - 6s 51ms/step - loss: 0.1046 - val_loss: 0.0172\n",
      "Epoch 13/15\n",
      "126/126 [==============================] - 7s 52ms/step - loss: 0.1041 - val_loss: 0.0168\n",
      "Epoch 14/15\n",
      "126/126 [==============================] - 6s 52ms/step - loss: 0.1036 - val_loss: 0.0168\n",
      "Epoch 15/15\n",
      "126/126 [==============================] - 6s 51ms/step - loss: 0.1033 - val_loss: 0.0171\n"
     ]
    },
    {
     "name": "stderr",
     "output_type": "stream",
     "text": [
      "WARNING:absl:Found untraced functions such as lstm_cell_83_layer_call_fn, lstm_cell_83_layer_call_and_return_conditional_losses while saving (showing 2 of 2). These functions will not be directly callable after loading.\n"
     ]
    },
    {
     "name": "stdout",
     "output_type": "stream",
     "text": [
      "INFO:tensorflow:Assets written to: Hybrid MP_wav/month3_1_step_lookahead_Hybrid\\assets\n"
     ]
    },
    {
     "name": "stderr",
     "output_type": "stream",
     "text": [
      "INFO:tensorflow:Assets written to: Hybrid MP_wav/month3_1_step_lookahead_Hybrid\\assets\n",
      "WARNING:absl:<keras.layers.recurrent.LSTMCell object at 0x00000207ACED8DC0> has the same name 'LSTMCell' as a built-in Keras object. Consider renaming <class 'keras.layers.recurrent.LSTMCell'> to avoid naming conflicts when loading with `tf.keras.models.load_model`. If renaming is not possible, pass the object in the `custom_objects` parameter of the load function.\n"
     ]
    },
    {
     "name": "stdout",
     "output_type": "stream",
     "text": [
      "126/126 [==============================] - 3s 20ms/step\n",
      "55/55 [==============================] - 1s 19ms/step\n"
     ]
    },
    {
     "name": "stderr",
     "output_type": "stream",
     "text": [
      "D:\\Anaconda\\lib\\site-packages\\pandas\\core\\frame.py:3678: SettingWithCopyWarning: \n",
      "A value is trying to be set on a copy of a slice from a DataFrame.\n",
      "Try using .loc[row_indexer,col_indexer] = value instead\n",
      "\n",
      "See the caveats in the documentation: https://pandas.pydata.org/pandas-docs/stable/user_guide/indexing.html#returning-a-view-versus-a-copy\n",
      "  self[col] = igetitem(value, i)\n"
     ]
    },
    {
     "name": "stdout",
     "output_type": "stream",
     "text": [
      "Epoch 1/15\n",
      "126/126 [==============================] - 9s 56ms/step - loss: 0.2125 - val_loss: 0.0276\n",
      "Epoch 2/15\n",
      "126/126 [==============================] - 7s 53ms/step - loss: 0.1305 - val_loss: 0.0226\n",
      "Epoch 3/15\n",
      "126/126 [==============================] - 7s 52ms/step - loss: 0.1240 - val_loss: 0.0219\n",
      "Epoch 4/15\n",
      "126/126 [==============================] - 7s 53ms/step - loss: 0.1212 - val_loss: 0.0200\n",
      "Epoch 5/15\n",
      "126/126 [==============================] - 7s 52ms/step - loss: 0.1189 - val_loss: 0.0197\n",
      "Epoch 6/15\n",
      "126/126 [==============================] - 7s 53ms/step - loss: 0.1180 - val_loss: 0.0194\n",
      "Epoch 7/15\n",
      "126/126 [==============================] - 7s 52ms/step - loss: 0.1174 - val_loss: 0.0197\n",
      "Epoch 8/15\n",
      "126/126 [==============================] - 7s 52ms/step - loss: 0.1170 - val_loss: 0.0203\n",
      "Epoch 9/15\n",
      "126/126 [==============================] - 7s 52ms/step - loss: 0.1174 - val_loss: 0.0192\n",
      "Epoch 10/15\n",
      "126/126 [==============================] - 7s 52ms/step - loss: 0.1161 - val_loss: 0.0188\n",
      "Epoch 11/15\n",
      "126/126 [==============================] - 7s 52ms/step - loss: 0.1159 - val_loss: 0.0191\n",
      "Epoch 12/15\n",
      "126/126 [==============================] - 7s 52ms/step - loss: 0.1155 - val_loss: 0.0187\n",
      "Epoch 13/15\n",
      "126/126 [==============================] - 7s 52ms/step - loss: 0.1154 - val_loss: 0.0184\n",
      "Epoch 14/15\n",
      "126/126 [==============================] - 7s 52ms/step - loss: 0.1151 - val_loss: 0.0188\n",
      "Epoch 15/15\n",
      "126/126 [==============================] - 7s 52ms/step - loss: 0.1151 - val_loss: 0.0183\n"
     ]
    },
    {
     "name": "stderr",
     "output_type": "stream",
     "text": [
      "WARNING:absl:Found untraced functions such as lstm_cell_84_layer_call_fn, lstm_cell_84_layer_call_and_return_conditional_losses while saving (showing 2 of 2). These functions will not be directly callable after loading.\n"
     ]
    },
    {
     "name": "stdout",
     "output_type": "stream",
     "text": [
      "INFO:tensorflow:Assets written to: Hybrid MP_wav/month3_2_step_lookahead_Hybrid\\assets\n"
     ]
    },
    {
     "name": "stderr",
     "output_type": "stream",
     "text": [
      "INFO:tensorflow:Assets written to: Hybrid MP_wav/month3_2_step_lookahead_Hybrid\\assets\n",
      "WARNING:absl:<keras.layers.recurrent.LSTMCell object at 0x0000020A675A8220> has the same name 'LSTMCell' as a built-in Keras object. Consider renaming <class 'keras.layers.recurrent.LSTMCell'> to avoid naming conflicts when loading with `tf.keras.models.load_model`. If renaming is not possible, pass the object in the `custom_objects` parameter of the load function.\n"
     ]
    },
    {
     "name": "stdout",
     "output_type": "stream",
     "text": [
      "126/126 [==============================] - 3s 21ms/step\n",
      "55/55 [==============================] - 1s 19ms/step\n"
     ]
    },
    {
     "name": "stderr",
     "output_type": "stream",
     "text": [
      "D:\\Anaconda\\lib\\site-packages\\pandas\\core\\frame.py:3678: SettingWithCopyWarning: \n",
      "A value is trying to be set on a copy of a slice from a DataFrame.\n",
      "Try using .loc[row_indexer,col_indexer] = value instead\n",
      "\n",
      "See the caveats in the documentation: https://pandas.pydata.org/pandas-docs/stable/user_guide/indexing.html#returning-a-view-versus-a-copy\n",
      "  self[col] = igetitem(value, i)\n"
     ]
    },
    {
     "name": "stdout",
     "output_type": "stream",
     "text": [
      "Epoch 1/15\n",
      "126/126 [==============================] - 9s 56ms/step - loss: 0.2211 - val_loss: 0.0295\n",
      "Epoch 2/15\n",
      "126/126 [==============================] - 7s 52ms/step - loss: 0.1304 - val_loss: 0.0260\n",
      "Epoch 3/15\n",
      "126/126 [==============================] - 7s 52ms/step - loss: 0.1264 - val_loss: 0.0271\n",
      "Epoch 4/15\n",
      "126/126 [==============================] - 7s 52ms/step - loss: 0.1246 - val_loss: 0.0255\n",
      "Epoch 5/15\n",
      "126/126 [==============================] - 7s 52ms/step - loss: 0.1240 - val_loss: 0.0250\n",
      "Epoch 6/15\n",
      "126/126 [==============================] - 7s 52ms/step - loss: 0.1234 - val_loss: 0.0250\n",
      "Epoch 7/15\n",
      "126/126 [==============================] - 7s 52ms/step - loss: 0.1223 - val_loss: 0.0256\n",
      "Epoch 8/15\n",
      "126/126 [==============================] - 7s 52ms/step - loss: 0.1216 - val_loss: 0.0263\n",
      "Epoch 9/15\n",
      "126/126 [==============================] - 7s 52ms/step - loss: 0.1224 - val_loss: 0.0254\n",
      "Epoch 10/15\n",
      "126/126 [==============================] - 6s 51ms/step - loss: 0.1216 - val_loss: 0.0264\n",
      "Epoch 11/15\n",
      "126/126 [==============================] - 6s 52ms/step - loss: 0.1209 - val_loss: 0.0260\n",
      "Epoch 12/15\n",
      "126/126 [==============================] - 7s 52ms/step - loss: 0.1206 - val_loss: 0.0253\n",
      "Epoch 13/15\n",
      "126/126 [==============================] - 7s 52ms/step - loss: 0.1204 - val_loss: 0.0256\n",
      "Epoch 14/15\n",
      "126/126 [==============================] - 7s 52ms/step - loss: 0.1196 - val_loss: 0.0254\n",
      "Epoch 15/15\n",
      "126/126 [==============================] - 6s 52ms/step - loss: 0.1193 - val_loss: 0.0254\n"
     ]
    },
    {
     "name": "stderr",
     "output_type": "stream",
     "text": [
      "WARNING:absl:Found untraced functions such as lstm_cell_85_layer_call_fn, lstm_cell_85_layer_call_and_return_conditional_losses while saving (showing 2 of 2). These functions will not be directly callable after loading.\n"
     ]
    },
    {
     "name": "stdout",
     "output_type": "stream",
     "text": [
      "INFO:tensorflow:Assets written to: Hybrid MP_wav/month3_3_step_lookahead_Hybrid\\assets\n"
     ]
    },
    {
     "name": "stderr",
     "output_type": "stream",
     "text": [
      "INFO:tensorflow:Assets written to: Hybrid MP_wav/month3_3_step_lookahead_Hybrid\\assets\n",
      "WARNING:absl:<keras.layers.recurrent.LSTMCell object at 0x00000207B9632400> has the same name 'LSTMCell' as a built-in Keras object. Consider renaming <class 'keras.layers.recurrent.LSTMCell'> to avoid naming conflicts when loading with `tf.keras.models.load_model`. If renaming is not possible, pass the object in the `custom_objects` parameter of the load function.\n"
     ]
    },
    {
     "name": "stdout",
     "output_type": "stream",
     "text": [
      "126/126 [==============================] - 3s 20ms/step\n",
      "54/54 [==============================] - 1s 19ms/step\n"
     ]
    },
    {
     "name": "stderr",
     "output_type": "stream",
     "text": [
      "D:\\Anaconda\\lib\\site-packages\\pandas\\core\\frame.py:3678: SettingWithCopyWarning: \n",
      "A value is trying to be set on a copy of a slice from a DataFrame.\n",
      "Try using .loc[row_indexer,col_indexer] = value instead\n",
      "\n",
      "See the caveats in the documentation: https://pandas.pydata.org/pandas-docs/stable/user_guide/indexing.html#returning-a-view-versus-a-copy\n",
      "  self[col] = igetitem(value, i)\n"
     ]
    },
    {
     "name": "stdout",
     "output_type": "stream",
     "text": [
      "Epoch 1/15\n",
      "126/126 [==============================] - 9s 57ms/step - loss: 0.2143 - val_loss: 0.0315\n",
      "Epoch 2/15\n",
      "126/126 [==============================] - 6s 52ms/step - loss: 0.1373 - val_loss: 0.0258\n",
      "Epoch 3/15\n",
      "126/126 [==============================] - 7s 52ms/step - loss: 0.1333 - val_loss: 0.0247\n",
      "Epoch 4/15\n",
      "126/126 [==============================] - 7s 52ms/step - loss: 0.1310 - val_loss: 0.0252\n",
      "Epoch 5/15\n",
      "126/126 [==============================] - 7s 52ms/step - loss: 0.1298 - val_loss: 0.0249\n",
      "Epoch 6/15\n",
      "126/126 [==============================] - 7s 52ms/step - loss: 0.1286 - val_loss: 0.0249\n",
      "Epoch 7/15\n",
      "126/126 [==============================] - 6s 52ms/step - loss: 0.1271 - val_loss: 0.0252\n",
      "Epoch 8/15\n",
      "126/126 [==============================] - 7s 52ms/step - loss: 0.1274 - val_loss: 0.0252\n",
      "Epoch 9/15\n",
      "126/126 [==============================] - 7s 52ms/step - loss: 0.1263 - val_loss: 0.0253\n",
      "Epoch 10/15\n",
      "126/126 [==============================] - 6s 52ms/step - loss: 0.1259 - val_loss: 0.0256\n",
      "Epoch 11/15\n",
      "126/126 [==============================] - 6s 52ms/step - loss: 0.1254 - val_loss: 0.0257\n",
      "Epoch 12/15\n",
      "126/126 [==============================] - 7s 52ms/step - loss: 0.1251 - val_loss: 0.0257\n",
      "Epoch 13/15\n",
      "126/126 [==============================] - 6s 51ms/step - loss: 0.1241 - val_loss: 0.0260\n",
      "Epoch 14/15\n",
      "126/126 [==============================] - 6s 52ms/step - loss: 0.1245 - val_loss: 0.0262\n",
      "Epoch 15/15\n",
      "126/126 [==============================] - 7s 52ms/step - loss: 0.1240 - val_loss: 0.0260\n"
     ]
    },
    {
     "name": "stderr",
     "output_type": "stream",
     "text": [
      "WARNING:absl:Found untraced functions such as lstm_cell_86_layer_call_fn, lstm_cell_86_layer_call_and_return_conditional_losses while saving (showing 2 of 2). These functions will not be directly callable after loading.\n"
     ]
    },
    {
     "name": "stdout",
     "output_type": "stream",
     "text": [
      "INFO:tensorflow:Assets written to: Hybrid MP_wav/month3_4_step_lookahead_Hybrid\\assets\n"
     ]
    },
    {
     "name": "stderr",
     "output_type": "stream",
     "text": [
      "INFO:tensorflow:Assets written to: Hybrid MP_wav/month3_4_step_lookahead_Hybrid\\assets\n",
      "WARNING:absl:<keras.layers.recurrent.LSTMCell object at 0x0000020A650B1FD0> has the same name 'LSTMCell' as a built-in Keras object. Consider renaming <class 'keras.layers.recurrent.LSTMCell'> to avoid naming conflicts when loading with `tf.keras.models.load_model`. If renaming is not possible, pass the object in the `custom_objects` parameter of the load function.\n"
     ]
    },
    {
     "name": "stdout",
     "output_type": "stream",
     "text": [
      "126/126 [==============================] - 3s 21ms/step\n",
      "54/54 [==============================] - 1s 19ms/step\n"
     ]
    },
    {
     "name": "stderr",
     "output_type": "stream",
     "text": [
      "D:\\Anaconda\\lib\\site-packages\\pandas\\core\\frame.py:3678: SettingWithCopyWarning: \n",
      "A value is trying to be set on a copy of a slice from a DataFrame.\n",
      "Try using .loc[row_indexer,col_indexer] = value instead\n",
      "\n",
      "See the caveats in the documentation: https://pandas.pydata.org/pandas-docs/stable/user_guide/indexing.html#returning-a-view-versus-a-copy\n",
      "  self[col] = igetitem(value, i)\n"
     ]
    },
    {
     "name": "stdout",
     "output_type": "stream",
     "text": [
      "Epoch 1/15\n",
      "126/126 [==============================] - 9s 57ms/step - loss: 0.1740 - val_loss: 0.0279\n",
      "Epoch 2/15\n",
      "126/126 [==============================] - 7s 52ms/step - loss: 0.1335 - val_loss: 0.0264\n",
      "Epoch 3/15\n",
      "126/126 [==============================] - 7s 52ms/step - loss: 0.1324 - val_loss: 0.0260\n",
      "Epoch 4/15\n",
      "126/126 [==============================] - 7s 52ms/step - loss: 0.1317 - val_loss: 0.0250\n",
      "Epoch 5/15\n",
      "126/126 [==============================] - 7s 52ms/step - loss: 0.1317 - val_loss: 0.0259\n",
      "Epoch 6/15\n",
      "126/126 [==============================] - 7s 52ms/step - loss: 0.1309 - val_loss: 0.0248\n",
      "Epoch 7/15\n",
      "126/126 [==============================] - 7s 52ms/step - loss: 0.1304 - val_loss: 0.0249\n",
      "Epoch 8/15\n",
      "126/126 [==============================] - 7s 52ms/step - loss: 0.1307 - val_loss: 0.0249\n",
      "Epoch 9/15\n",
      "126/126 [==============================] - 6s 52ms/step - loss: 0.1301 - val_loss: 0.0248\n",
      "Epoch 10/15\n",
      "126/126 [==============================] - 6s 51ms/step - loss: 0.1297 - val_loss: 0.0251\n",
      "Epoch 11/15\n",
      "126/126 [==============================] - 7s 52ms/step - loss: 0.1294 - val_loss: 0.0253\n",
      "Epoch 12/15\n",
      "126/126 [==============================] - 7s 52ms/step - loss: 0.1294 - val_loss: 0.0250\n",
      "Epoch 13/15\n",
      "126/126 [==============================] - 6s 51ms/step - loss: 0.1293 - val_loss: 0.0250\n",
      "Epoch 14/15\n",
      "126/126 [==============================] - 7s 53ms/step - loss: 0.1289 - val_loss: 0.0255\n",
      "Epoch 15/15\n",
      "126/126 [==============================] - 7s 53ms/step - loss: 0.1280 - val_loss: 0.0254\n"
     ]
    },
    {
     "name": "stderr",
     "output_type": "stream",
     "text": [
      "WARNING:absl:Found untraced functions such as lstm_cell_87_layer_call_fn, lstm_cell_87_layer_call_and_return_conditional_losses while saving (showing 2 of 2). These functions will not be directly callable after loading.\n"
     ]
    },
    {
     "name": "stdout",
     "output_type": "stream",
     "text": [
      "INFO:tensorflow:Assets written to: Hybrid MP_wav/month3_5_step_lookahead_Hybrid\\assets\n"
     ]
    },
    {
     "name": "stderr",
     "output_type": "stream",
     "text": [
      "INFO:tensorflow:Assets written to: Hybrid MP_wav/month3_5_step_lookahead_Hybrid\\assets\n",
      "WARNING:absl:<keras.layers.recurrent.LSTMCell object at 0x0000020AE8471D90> has the same name 'LSTMCell' as a built-in Keras object. Consider renaming <class 'keras.layers.recurrent.LSTMCell'> to avoid naming conflicts when loading with `tf.keras.models.load_model`. If renaming is not possible, pass the object in the `custom_objects` parameter of the load function.\n"
     ]
    },
    {
     "name": "stdout",
     "output_type": "stream",
     "text": [
      "126/126 [==============================] - 3s 21ms/step\n",
      "54/54 [==============================] - 1s 19ms/step\n"
     ]
    },
    {
     "name": "stderr",
     "output_type": "stream",
     "text": [
      "D:\\Anaconda\\lib\\site-packages\\pandas\\core\\frame.py:3678: SettingWithCopyWarning: \n",
      "A value is trying to be set on a copy of a slice from a DataFrame.\n",
      "Try using .loc[row_indexer,col_indexer] = value instead\n",
      "\n",
      "See the caveats in the documentation: https://pandas.pydata.org/pandas-docs/stable/user_guide/indexing.html#returning-a-view-versus-a-copy\n",
      "  self[col] = igetitem(value, i)\n"
     ]
    },
    {
     "name": "stdout",
     "output_type": "stream",
     "text": [
      "Epoch 1/15\n",
      "126/126 [==============================] - 9s 57ms/step - loss: 0.2210 - val_loss: 0.0317\n",
      "Epoch 2/15\n",
      "126/126 [==============================] - 7s 52ms/step - loss: 0.1429 - val_loss: 0.0290\n",
      "Epoch 3/15\n",
      "126/126 [==============================] - 7s 52ms/step - loss: 0.1398 - val_loss: 0.0276\n",
      "Epoch 4/15\n",
      "126/126 [==============================] - 7s 52ms/step - loss: 0.1378 - val_loss: 0.0279\n",
      "Epoch 5/15\n",
      "126/126 [==============================] - 7s 52ms/step - loss: 0.1376 - val_loss: 0.0283\n",
      "Epoch 6/15\n",
      "126/126 [==============================] - 7s 52ms/step - loss: 0.1360 - val_loss: 0.0282\n",
      "Epoch 7/15\n",
      "126/126 [==============================] - 7s 52ms/step - loss: 0.1351 - val_loss: 0.0283\n",
      "Epoch 8/15\n",
      "126/126 [==============================] - 7s 52ms/step - loss: 0.1348 - val_loss: 0.0291\n",
      "Epoch 9/15\n",
      "126/126 [==============================] - 7s 52ms/step - loss: 0.1346 - val_loss: 0.0303\n",
      "Epoch 10/15\n",
      "126/126 [==============================] - 7s 52ms/step - loss: 0.1337 - val_loss: 0.0287\n",
      "Epoch 11/15\n",
      "126/126 [==============================] - 7s 52ms/step - loss: 0.1333 - val_loss: 0.0290\n",
      "Epoch 12/15\n",
      "126/126 [==============================] - 7s 52ms/step - loss: 0.1332 - val_loss: 0.0296\n",
      "Epoch 13/15\n",
      "126/126 [==============================] - 7s 52ms/step - loss: 0.1331 - val_loss: 0.0294\n",
      "Epoch 14/15\n",
      "126/126 [==============================] - 7s 52ms/step - loss: 0.1321 - val_loss: 0.0295\n",
      "Epoch 15/15\n",
      "126/126 [==============================] - 7s 52ms/step - loss: 0.1321 - val_loss: 0.0291\n"
     ]
    },
    {
     "name": "stderr",
     "output_type": "stream",
     "text": [
      "WARNING:absl:Found untraced functions such as lstm_cell_88_layer_call_fn, lstm_cell_88_layer_call_and_return_conditional_losses while saving (showing 2 of 2). These functions will not be directly callable after loading.\n"
     ]
    },
    {
     "name": "stdout",
     "output_type": "stream",
     "text": [
      "INFO:tensorflow:Assets written to: Hybrid MP_wav/month3_6_step_lookahead_Hybrid\\assets\n"
     ]
    },
    {
     "name": "stderr",
     "output_type": "stream",
     "text": [
      "INFO:tensorflow:Assets written to: Hybrid MP_wav/month3_6_step_lookahead_Hybrid\\assets\n",
      "WARNING:absl:<keras.layers.recurrent.LSTMCell object at 0x0000020A6B8696A0> has the same name 'LSTMCell' as a built-in Keras object. Consider renaming <class 'keras.layers.recurrent.LSTMCell'> to avoid naming conflicts when loading with `tf.keras.models.load_model`. If renaming is not possible, pass the object in the `custom_objects` parameter of the load function.\n"
     ]
    },
    {
     "name": "stdout",
     "output_type": "stream",
     "text": [
      "126/126 [==============================] - 3s 21ms/step\n",
      "54/54 [==============================] - 1s 19ms/step\n"
     ]
    },
    {
     "name": "stderr",
     "output_type": "stream",
     "text": [
      "D:\\Anaconda\\lib\\site-packages\\pandas\\core\\frame.py:3678: SettingWithCopyWarning: \n",
      "A value is trying to be set on a copy of a slice from a DataFrame.\n",
      "Try using .loc[row_indexer,col_indexer] = value instead\n",
      "\n",
      "See the caveats in the documentation: https://pandas.pydata.org/pandas-docs/stable/user_guide/indexing.html#returning-a-view-versus-a-copy\n",
      "  self[col] = igetitem(value, i)\n"
     ]
    },
    {
     "name": "stdout",
     "output_type": "stream",
     "text": [
      "Epoch 1/15\n",
      "126/126 [==============================] - 9s 57ms/step - loss: 0.2024 - val_loss: 0.0333\n",
      "Epoch 2/15\n",
      "126/126 [==============================] - 7s 52ms/step - loss: 0.1440 - val_loss: 0.0280\n",
      "Epoch 3/15\n",
      "126/126 [==============================] - 7s 52ms/step - loss: 0.1418 - val_loss: 0.0281\n",
      "Epoch 4/15\n",
      "126/126 [==============================] - 7s 52ms/step - loss: 0.1412 - val_loss: 0.0305\n",
      "Epoch 5/15\n",
      "126/126 [==============================] - 7s 52ms/step - loss: 0.1410 - val_loss: 0.0299\n",
      "Epoch 6/15\n",
      "126/126 [==============================] - 7s 52ms/step - loss: 0.1401 - val_loss: 0.0275\n",
      "Epoch 7/15\n",
      "126/126 [==============================] - 7s 52ms/step - loss: 0.1398 - val_loss: 0.0279\n",
      "Epoch 8/15\n",
      "126/126 [==============================] - 7s 52ms/step - loss: 0.1393 - val_loss: 0.0277\n",
      "Epoch 9/15\n",
      "126/126 [==============================] - 7s 52ms/step - loss: 0.1388 - val_loss: 0.0282\n",
      "Epoch 10/15\n",
      "126/126 [==============================] - 7s 52ms/step - loss: 0.1389 - val_loss: 0.0282\n",
      "Epoch 11/15\n",
      "126/126 [==============================] - 7s 52ms/step - loss: 0.1388 - val_loss: 0.0278\n",
      "Epoch 12/15\n",
      "126/126 [==============================] - 7s 52ms/step - loss: 0.1385 - val_loss: 0.0278\n",
      "Epoch 13/15\n",
      "126/126 [==============================] - 7s 52ms/step - loss: 0.1377 - val_loss: 0.0278\n",
      "Epoch 14/15\n",
      "126/126 [==============================] - 7s 52ms/step - loss: 0.1377 - val_loss: 0.0285\n",
      "Epoch 15/15\n",
      "126/126 [==============================] - 6s 51ms/step - loss: 0.1372 - val_loss: 0.0283\n"
     ]
    },
    {
     "name": "stderr",
     "output_type": "stream",
     "text": [
      "WARNING:absl:Found untraced functions such as lstm_cell_89_layer_call_fn, lstm_cell_89_layer_call_and_return_conditional_losses while saving (showing 2 of 2). These functions will not be directly callable after loading.\n"
     ]
    },
    {
     "name": "stdout",
     "output_type": "stream",
     "text": [
      "INFO:tensorflow:Assets written to: Hybrid MP_wav/month3_7_step_lookahead_Hybrid\\assets\n"
     ]
    },
    {
     "name": "stderr",
     "output_type": "stream",
     "text": [
      "INFO:tensorflow:Assets written to: Hybrid MP_wav/month3_7_step_lookahead_Hybrid\\assets\n",
      "WARNING:absl:<keras.layers.recurrent.LSTMCell object at 0x00000207ADBC8B80> has the same name 'LSTMCell' as a built-in Keras object. Consider renaming <class 'keras.layers.recurrent.LSTMCell'> to avoid naming conflicts when loading with `tf.keras.models.load_model`. If renaming is not possible, pass the object in the `custom_objects` parameter of the load function.\n"
     ]
    },
    {
     "name": "stdout",
     "output_type": "stream",
     "text": [
      "126/126 [==============================] - 3s 21ms/step\n",
      "54/54 [==============================] - 1s 19ms/step\n"
     ]
    },
    {
     "name": "stderr",
     "output_type": "stream",
     "text": [
      "D:\\Anaconda\\lib\\site-packages\\pandas\\core\\frame.py:3678: SettingWithCopyWarning: \n",
      "A value is trying to be set on a copy of a slice from a DataFrame.\n",
      "Try using .loc[row_indexer,col_indexer] = value instead\n",
      "\n",
      "See the caveats in the documentation: https://pandas.pydata.org/pandas-docs/stable/user_guide/indexing.html#returning-a-view-versus-a-copy\n",
      "  self[col] = igetitem(value, i)\n"
     ]
    },
    {
     "name": "stdout",
     "output_type": "stream",
     "text": [
      "Epoch 1/15\n",
      "126/126 [==============================] - 9s 57ms/step - loss: 0.1744 - val_loss: 0.0298\n",
      "Epoch 2/15\n",
      "126/126 [==============================] - 7s 53ms/step - loss: 0.1451 - val_loss: 0.0288\n",
      "Epoch 3/15\n",
      "126/126 [==============================] - 7s 52ms/step - loss: 0.1441 - val_loss: 0.0280\n",
      "Epoch 4/15\n",
      "126/126 [==============================] - 7s 52ms/step - loss: 0.1432 - val_loss: 0.0287\n",
      "Epoch 5/15\n",
      "126/126 [==============================] - 7s 53ms/step - loss: 0.1433 - val_loss: 0.0280\n",
      "Epoch 6/15\n",
      "126/126 [==============================] - 7s 52ms/step - loss: 0.1430 - val_loss: 0.0294\n",
      "Epoch 7/15\n",
      "126/126 [==============================] - 6s 52ms/step - loss: 0.1427 - val_loss: 0.0280\n",
      "Epoch 8/15\n",
      "126/126 [==============================] - 7s 52ms/step - loss: 0.1422 - val_loss: 0.0306\n",
      "Epoch 9/15\n",
      "126/126 [==============================] - 7s 53ms/step - loss: 0.1426 - val_loss: 0.0280\n",
      "Epoch 10/15\n",
      "126/126 [==============================] - 7s 52ms/step - loss: 0.1423 - val_loss: 0.0280\n",
      "Epoch 11/15\n",
      "126/126 [==============================] - 7s 52ms/step - loss: 0.1423 - val_loss: 0.0292\n",
      "Epoch 12/15\n",
      "126/126 [==============================] - 7s 52ms/step - loss: 0.1411 - val_loss: 0.0283\n",
      "Epoch 13/15\n",
      "126/126 [==============================] - 7s 52ms/step - loss: 0.1410 - val_loss: 0.0289\n",
      "Epoch 14/15\n",
      "126/126 [==============================] - 7s 52ms/step - loss: 0.1408 - val_loss: 0.0282\n",
      "Epoch 15/15\n",
      "126/126 [==============================] - 7s 52ms/step - loss: 0.1413 - val_loss: 0.0286\n"
     ]
    },
    {
     "name": "stderr",
     "output_type": "stream",
     "text": [
      "WARNING:absl:Found untraced functions such as lstm_cell_90_layer_call_fn, lstm_cell_90_layer_call_and_return_conditional_losses while saving (showing 2 of 2). These functions will not be directly callable after loading.\n"
     ]
    },
    {
     "name": "stdout",
     "output_type": "stream",
     "text": [
      "INFO:tensorflow:Assets written to: Hybrid MP_wav/month3_8_step_lookahead_Hybrid\\assets\n"
     ]
    },
    {
     "name": "stderr",
     "output_type": "stream",
     "text": [
      "INFO:tensorflow:Assets written to: Hybrid MP_wav/month3_8_step_lookahead_Hybrid\\assets\n",
      "WARNING:absl:<keras.layers.recurrent.LSTMCell object at 0x0000020A64CDB4F0> has the same name 'LSTMCell' as a built-in Keras object. Consider renaming <class 'keras.layers.recurrent.LSTMCell'> to avoid naming conflicts when loading with `tf.keras.models.load_model`. If renaming is not possible, pass the object in the `custom_objects` parameter of the load function.\n"
     ]
    },
    {
     "name": "stdout",
     "output_type": "stream",
     "text": [
      "126/126 [==============================] - 3s 21ms/step\n",
      "54/54 [==============================] - 1s 19ms/step\n"
     ]
    },
    {
     "name": "stderr",
     "output_type": "stream",
     "text": [
      "D:\\Anaconda\\lib\\site-packages\\pandas\\core\\frame.py:3678: SettingWithCopyWarning: \n",
      "A value is trying to be set on a copy of a slice from a DataFrame.\n",
      "Try using .loc[row_indexer,col_indexer] = value instead\n",
      "\n",
      "See the caveats in the documentation: https://pandas.pydata.org/pandas-docs/stable/user_guide/indexing.html#returning-a-view-versus-a-copy\n",
      "  self[col] = igetitem(value, i)\n"
     ]
    },
    {
     "name": "stdout",
     "output_type": "stream",
     "text": [
      "Epoch 1/15\n",
      "126/126 [==============================] - 9s 56ms/step - loss: 0.1786 - val_loss: 0.0317\n",
      "Epoch 2/15\n",
      "126/126 [==============================] - 7s 52ms/step - loss: 0.1461 - val_loss: 0.0292\n",
      "Epoch 3/15\n",
      "126/126 [==============================] - 7s 52ms/step - loss: 0.1456 - val_loss: 0.0304\n",
      "Epoch 4/15\n",
      "126/126 [==============================] - 6s 52ms/step - loss: 0.1456 - val_loss: 0.0295\n",
      "Epoch 5/15\n",
      "126/126 [==============================] - 6s 51ms/step - loss: 0.1446 - val_loss: 0.0295\n",
      "Epoch 6/15\n",
      "126/126 [==============================] - 7s 52ms/step - loss: 0.1446 - val_loss: 0.0295\n",
      "Epoch 7/15\n",
      "126/126 [==============================] - 6s 52ms/step - loss: 0.1447 - val_loss: 0.0308\n",
      "Epoch 8/15\n",
      "126/126 [==============================] - 7s 52ms/step - loss: 0.1444 - val_loss: 0.0296\n",
      "Epoch 9/15\n",
      "126/126 [==============================] - 7s 52ms/step - loss: 0.1443 - val_loss: 0.0309\n",
      "Epoch 10/15\n",
      "126/126 [==============================] - 7s 53ms/step - loss: 0.1449 - val_loss: 0.0305\n",
      "Epoch 11/15\n",
      "126/126 [==============================] - 7s 52ms/step - loss: 0.1446 - val_loss: 0.0302\n",
      "Epoch 12/15\n",
      "126/126 [==============================] - 7s 52ms/step - loss: 0.1442 - val_loss: 0.0298\n",
      "Epoch 13/15\n",
      "126/126 [==============================] - 7s 52ms/step - loss: 0.1438 - val_loss: 0.0295\n",
      "Epoch 14/15\n",
      "126/126 [==============================] - 7s 52ms/step - loss: 0.1439 - val_loss: 0.0301\n",
      "Epoch 15/15\n",
      "126/126 [==============================] - 7s 52ms/step - loss: 0.1439 - val_loss: 0.0298\n"
     ]
    },
    {
     "name": "stderr",
     "output_type": "stream",
     "text": [
      "WARNING:absl:Found untraced functions such as lstm_cell_91_layer_call_fn, lstm_cell_91_layer_call_and_return_conditional_losses while saving (showing 2 of 2). These functions will not be directly callable after loading.\n"
     ]
    },
    {
     "name": "stdout",
     "output_type": "stream",
     "text": [
      "INFO:tensorflow:Assets written to: Hybrid MP_wav/month3_9_step_lookahead_Hybrid\\assets\n"
     ]
    },
    {
     "name": "stderr",
     "output_type": "stream",
     "text": [
      "INFO:tensorflow:Assets written to: Hybrid MP_wav/month3_9_step_lookahead_Hybrid\\assets\n",
      "WARNING:absl:<keras.layers.recurrent.LSTMCell object at 0x0000020AE6273760> has the same name 'LSTMCell' as a built-in Keras object. Consider renaming <class 'keras.layers.recurrent.LSTMCell'> to avoid naming conflicts when loading with `tf.keras.models.load_model`. If renaming is not possible, pass the object in the `custom_objects` parameter of the load function.\n"
     ]
    },
    {
     "name": "stdout",
     "output_type": "stream",
     "text": [
      "126/126 [==============================] - 3s 20ms/step\n",
      "54/54 [==============================] - 1s 19ms/step\n"
     ]
    },
    {
     "name": "stderr",
     "output_type": "stream",
     "text": [
      "D:\\Anaconda\\lib\\site-packages\\pandas\\core\\frame.py:3678: SettingWithCopyWarning: \n",
      "A value is trying to be set on a copy of a slice from a DataFrame.\n",
      "Try using .loc[row_indexer,col_indexer] = value instead\n",
      "\n",
      "See the caveats in the documentation: https://pandas.pydata.org/pandas-docs/stable/user_guide/indexing.html#returning-a-view-versus-a-copy\n",
      "  self[col] = igetitem(value, i)\n"
     ]
    },
    {
     "name": "stdout",
     "output_type": "stream",
     "text": [
      "Epoch 1/15\n",
      "126/126 [==============================] - 9s 56ms/step - loss: 0.2500 - val_loss: 0.0361\n",
      "Epoch 2/15\n",
      "126/126 [==============================] - 7s 53ms/step - loss: 0.1528 - val_loss: 0.0311\n",
      "Epoch 3/15\n",
      "126/126 [==============================] - 7s 52ms/step - loss: 0.1505 - val_loss: 0.0300\n",
      "Epoch 4/15\n",
      "126/126 [==============================] - 7s 52ms/step - loss: 0.1496 - val_loss: 0.0300\n",
      "Epoch 5/15\n",
      "126/126 [==============================] - 7s 52ms/step - loss: 0.1492 - val_loss: 0.0304\n",
      "Epoch 6/15\n",
      "126/126 [==============================] - 7s 52ms/step - loss: 0.1490 - val_loss: 0.0305\n",
      "Epoch 7/15\n",
      "126/126 [==============================] - 7s 52ms/step - loss: 0.1482 - val_loss: 0.0302\n",
      "Epoch 8/15\n",
      "126/126 [==============================] - 6s 52ms/step - loss: 0.1478 - val_loss: 0.0314\n",
      "Epoch 9/15\n",
      "126/126 [==============================] - 7s 52ms/step - loss: 0.1475 - val_loss: 0.0306\n",
      "Epoch 10/15\n",
      "126/126 [==============================] - 7s 52ms/step - loss: 0.1471 - val_loss: 0.0300\n",
      "Epoch 11/15\n",
      "126/126 [==============================] - 7s 52ms/step - loss: 0.1459 - val_loss: 0.0316\n",
      "Epoch 12/15\n",
      "126/126 [==============================] - 7s 52ms/step - loss: 0.1460 - val_loss: 0.0309\n",
      "Epoch 13/15\n",
      "126/126 [==============================] - 7s 52ms/step - loss: 0.1462 - val_loss: 0.0335\n",
      "Epoch 14/15\n",
      "126/126 [==============================] - 7s 52ms/step - loss: 0.1453 - val_loss: 0.0315\n",
      "Epoch 15/15\n",
      "126/126 [==============================] - 7s 52ms/step - loss: 0.1461 - val_loss: 0.0314\n"
     ]
    },
    {
     "name": "stderr",
     "output_type": "stream",
     "text": [
      "WARNING:absl:Found untraced functions such as lstm_cell_92_layer_call_fn, lstm_cell_92_layer_call_and_return_conditional_losses while saving (showing 2 of 2). These functions will not be directly callable after loading.\n"
     ]
    },
    {
     "name": "stdout",
     "output_type": "stream",
     "text": [
      "INFO:tensorflow:Assets written to: Hybrid MP_wav/month3_10_step_lookahead_Hybrid\\assets\n"
     ]
    },
    {
     "name": "stderr",
     "output_type": "stream",
     "text": [
      "INFO:tensorflow:Assets written to: Hybrid MP_wav/month3_10_step_lookahead_Hybrid\\assets\n",
      "WARNING:absl:<keras.layers.recurrent.LSTMCell object at 0x0000020A68BEB040> has the same name 'LSTMCell' as a built-in Keras object. Consider renaming <class 'keras.layers.recurrent.LSTMCell'> to avoid naming conflicts when loading with `tf.keras.models.load_model`. If renaming is not possible, pass the object in the `custom_objects` parameter of the load function.\n"
     ]
    },
    {
     "name": "stdout",
     "output_type": "stream",
     "text": [
      "126/126 [==============================] - 3s 22ms/step\n",
      "54/54 [==============================] - 1s 20ms/step\n"
     ]
    },
    {
     "name": "stderr",
     "output_type": "stream",
     "text": [
      "D:\\Anaconda\\lib\\site-packages\\pandas\\core\\frame.py:3678: SettingWithCopyWarning: \n",
      "A value is trying to be set on a copy of a slice from a DataFrame.\n",
      "Try using .loc[row_indexer,col_indexer] = value instead\n",
      "\n",
      "See the caveats in the documentation: https://pandas.pydata.org/pandas-docs/stable/user_guide/indexing.html#returning-a-view-versus-a-copy\n",
      "  self[col] = igetitem(value, i)\n",
      "D:\\Anaconda\\lib\\site-packages\\pandas\\core\\frame.py:3678: SettingWithCopyWarning: \n",
      "A value is trying to be set on a copy of a slice from a DataFrame.\n",
      "Try using .loc[row_indexer,col_indexer] = value instead\n",
      "\n",
      "See the caveats in the documentation: https://pandas.pydata.org/pandas-docs/stable/user_guide/indexing.html#returning-a-view-versus-a-copy\n",
      "  self[col] = igetitem(value, i)\n"
     ]
    },
    {
     "name": "stdout",
     "output_type": "stream",
     "text": [
      "Epoch 1/15\n",
      "145/145 [==============================] - 10s 57ms/step - loss: 1.5878 - val_loss: 0.1058\n",
      "Epoch 2/15\n",
      "145/145 [==============================] - 8s 53ms/step - loss: 1.5530 - val_loss: 0.0973\n",
      "Epoch 3/15\n",
      "145/145 [==============================] - 8s 53ms/step - loss: 1.5057 - val_loss: 0.0895\n",
      "Epoch 4/15\n",
      "145/145 [==============================] - 8s 52ms/step - loss: 1.4665 - val_loss: 0.0829\n",
      "Epoch 5/15\n",
      "145/145 [==============================] - 8s 52ms/step - loss: 1.4438 - val_loss: 0.0780\n",
      "Epoch 6/15\n",
      "145/145 [==============================] - 8s 52ms/step - loss: 1.4191 - val_loss: 0.0729\n",
      "Epoch 7/15\n",
      "145/145 [==============================] - 8s 53ms/step - loss: 1.4321 - val_loss: 0.0715\n",
      "Epoch 8/15\n",
      "145/145 [==============================] - 8s 52ms/step - loss: 1.3688 - val_loss: 0.0665\n",
      "Epoch 9/15\n",
      "145/145 [==============================] - 8s 52ms/step - loss: 1.3494 - val_loss: 0.0655\n",
      "Epoch 10/15\n",
      "145/145 [==============================] - 8s 52ms/step - loss: 1.3337 - val_loss: 0.0637\n",
      "Epoch 11/15\n",
      "145/145 [==============================] - 8s 52ms/step - loss: 1.3176 - val_loss: 0.0621\n",
      "Epoch 12/15\n",
      "145/145 [==============================] - 8s 52ms/step - loss: 1.3025 - val_loss: 0.0613\n",
      "Epoch 13/15\n",
      "145/145 [==============================] - 8s 52ms/step - loss: 1.2884 - val_loss: 0.0622\n",
      "Epoch 14/15\n",
      "145/145 [==============================] - 8s 52ms/step - loss: 1.2743 - val_loss: 0.0592\n",
      "Epoch 15/15\n",
      "145/145 [==============================] - 8s 53ms/step - loss: 1.2608 - val_loss: 0.0583\n"
     ]
    },
    {
     "name": "stderr",
     "output_type": "stream",
     "text": [
      "WARNING:absl:Found untraced functions such as lstm_cell_93_layer_call_fn, lstm_cell_93_layer_call_and_return_conditional_losses while saving (showing 2 of 2). These functions will not be directly callable after loading.\n"
     ]
    },
    {
     "name": "stdout",
     "output_type": "stream",
     "text": [
      "INFO:tensorflow:Assets written to: Hybrid MP_wav/month4_1_step_lookahead_Hybrid\\assets\n"
     ]
    },
    {
     "name": "stderr",
     "output_type": "stream",
     "text": [
      "INFO:tensorflow:Assets written to: Hybrid MP_wav/month4_1_step_lookahead_Hybrid\\assets\n",
      "WARNING:absl:<keras.layers.recurrent.LSTMCell object at 0x0000020ADE53AD00> has the same name 'LSTMCell' as a built-in Keras object. Consider renaming <class 'keras.layers.recurrent.LSTMCell'> to avoid naming conflicts when loading with `tf.keras.models.load_model`. If renaming is not possible, pass the object in the `custom_objects` parameter of the load function.\n"
     ]
    },
    {
     "name": "stdout",
     "output_type": "stream",
     "text": [
      "145/145 [==============================] - 3s 20ms/step\n",
      "63/63 [==============================] - 1s 19ms/step\n"
     ]
    },
    {
     "name": "stderr",
     "output_type": "stream",
     "text": [
      "D:\\Anaconda\\lib\\site-packages\\pandas\\core\\frame.py:3678: SettingWithCopyWarning: \n",
      "A value is trying to be set on a copy of a slice from a DataFrame.\n",
      "Try using .loc[row_indexer,col_indexer] = value instead\n",
      "\n",
      "See the caveats in the documentation: https://pandas.pydata.org/pandas-docs/stable/user_guide/indexing.html#returning-a-view-versus-a-copy\n",
      "  self[col] = igetitem(value, i)\n"
     ]
    },
    {
     "name": "stdout",
     "output_type": "stream",
     "text": [
      "Epoch 1/15\n",
      "145/145 [==============================] - 11s 56ms/step - loss: 1.6178 - val_loss: 0.0959\n",
      "Epoch 2/15\n",
      "145/145 [==============================] - 8s 52ms/step - loss: 1.5601 - val_loss: 0.0841\n",
      "Epoch 3/15\n",
      "145/145 [==============================] - 8s 52ms/step - loss: 1.5303 - val_loss: 0.0758\n",
      "Epoch 4/15\n",
      "145/145 [==============================] - 8s 52ms/step - loss: 1.5004 - val_loss: 0.0671\n",
      "Epoch 5/15\n",
      "145/145 [==============================] - 8s 52ms/step - loss: 1.4748 - val_loss: 0.0662\n",
      "Epoch 6/15\n",
      "145/145 [==============================] - 8s 52ms/step - loss: 1.4460 - val_loss: 0.0663\n",
      "Epoch 7/15\n",
      "145/145 [==============================] - 8s 52ms/step - loss: 1.4234 - val_loss: 0.0645\n",
      "Epoch 8/15\n",
      "145/145 [==============================] - 8s 52ms/step - loss: 1.3998 - val_loss: 0.0644\n",
      "Epoch 9/15\n",
      "145/145 [==============================] - 8s 52ms/step - loss: 1.3858 - val_loss: 0.0731\n",
      "Epoch 10/15\n",
      "145/145 [==============================] - 8s 52ms/step - loss: 1.3695 - val_loss: 0.0861\n",
      "Epoch 11/15\n",
      "145/145 [==============================] - 8s 53ms/step - loss: 1.3573 - val_loss: 0.0588\n",
      "Epoch 12/15\n",
      "145/145 [==============================] - 8s 52ms/step - loss: 1.3437 - val_loss: 0.0590\n",
      "Epoch 13/15\n",
      "145/145 [==============================] - 7s 52ms/step - loss: 1.3334 - val_loss: 0.0631\n",
      "Epoch 14/15\n",
      "145/145 [==============================] - 8s 52ms/step - loss: 1.3221 - val_loss: 0.0729\n",
      "Epoch 15/15\n",
      "145/145 [==============================] - 8s 52ms/step - loss: 1.3146 - val_loss: 0.0728\n"
     ]
    },
    {
     "name": "stderr",
     "output_type": "stream",
     "text": [
      "WARNING:absl:Found untraced functions such as lstm_cell_94_layer_call_fn, lstm_cell_94_layer_call_and_return_conditional_losses while saving (showing 2 of 2). These functions will not be directly callable after loading.\n"
     ]
    },
    {
     "name": "stdout",
     "output_type": "stream",
     "text": [
      "INFO:tensorflow:Assets written to: Hybrid MP_wav/month4_2_step_lookahead_Hybrid\\assets\n"
     ]
    },
    {
     "name": "stderr",
     "output_type": "stream",
     "text": [
      "INFO:tensorflow:Assets written to: Hybrid MP_wav/month4_2_step_lookahead_Hybrid\\assets\n",
      "WARNING:absl:<keras.layers.recurrent.LSTMCell object at 0x0000020AE85808B0> has the same name 'LSTMCell' as a built-in Keras object. Consider renaming <class 'keras.layers.recurrent.LSTMCell'> to avoid naming conflicts when loading with `tf.keras.models.load_model`. If renaming is not possible, pass the object in the `custom_objects` parameter of the load function.\n"
     ]
    },
    {
     "name": "stdout",
     "output_type": "stream",
     "text": [
      "145/145 [==============================] - 3s 20ms/step\n",
      "63/63 [==============================] - 1s 19ms/step\n"
     ]
    },
    {
     "name": "stderr",
     "output_type": "stream",
     "text": [
      "D:\\Anaconda\\lib\\site-packages\\pandas\\core\\frame.py:3678: SettingWithCopyWarning: \n",
      "A value is trying to be set on a copy of a slice from a DataFrame.\n",
      "Try using .loc[row_indexer,col_indexer] = value instead\n",
      "\n",
      "See the caveats in the documentation: https://pandas.pydata.org/pandas-docs/stable/user_guide/indexing.html#returning-a-view-versus-a-copy\n",
      "  self[col] = igetitem(value, i)\n"
     ]
    },
    {
     "name": "stdout",
     "output_type": "stream",
     "text": [
      "Epoch 1/15\n",
      "145/145 [==============================] - 10s 57ms/step - loss: 1.6049 - val_loss: 0.1017\n",
      "Epoch 2/15\n",
      "145/145 [==============================] - 8s 52ms/step - loss: 1.5799 - val_loss: 0.0944\n",
      "Epoch 3/15\n",
      "145/145 [==============================] - 8s 52ms/step - loss: 1.5695 - val_loss: 0.0879\n",
      "Epoch 4/15\n",
      "145/145 [==============================] - 8s 52ms/step - loss: 1.5583 - val_loss: 0.0880\n",
      "Epoch 5/15\n",
      "145/145 [==============================] - 8s 52ms/step - loss: 1.5467 - val_loss: 0.0845\n",
      "Epoch 6/15\n",
      "145/145 [==============================] - 8s 52ms/step - loss: 1.5397 - val_loss: 0.0872\n",
      "Epoch 7/15\n",
      "145/145 [==============================] - 8s 52ms/step - loss: 1.5253 - val_loss: 0.0891\n",
      "Epoch 8/15\n",
      "145/145 [==============================] - 8s 52ms/step - loss: 1.5144 - val_loss: 0.0970\n",
      "Epoch 9/15\n",
      "145/145 [==============================] - 8s 52ms/step - loss: 1.5025 - val_loss: 0.0930\n",
      "Epoch 10/15\n",
      "145/145 [==============================] - 8s 52ms/step - loss: 1.4896 - val_loss: 0.0914\n",
      "Epoch 11/15\n",
      "145/145 [==============================] - 8s 52ms/step - loss: 1.4919 - val_loss: 0.0939\n",
      "Epoch 12/15\n",
      "145/145 [==============================] - 8s 52ms/step - loss: 1.4762 - val_loss: 0.0967\n",
      "Epoch 13/15\n",
      "145/145 [==============================] - 8s 52ms/step - loss: 1.4617 - val_loss: 0.1050\n",
      "Epoch 14/15\n",
      "145/145 [==============================] - 8s 52ms/step - loss: 1.4497 - val_loss: 0.1020\n",
      "Epoch 15/15\n",
      "145/145 [==============================] - 8s 52ms/step - loss: 1.4568 - val_loss: 0.1125\n"
     ]
    },
    {
     "name": "stderr",
     "output_type": "stream",
     "text": [
      "WARNING:absl:Found untraced functions such as lstm_cell_95_layer_call_fn, lstm_cell_95_layer_call_and_return_conditional_losses while saving (showing 2 of 2). These functions will not be directly callable after loading.\n"
     ]
    },
    {
     "name": "stdout",
     "output_type": "stream",
     "text": [
      "INFO:tensorflow:Assets written to: Hybrid MP_wav/month4_3_step_lookahead_Hybrid\\assets\n"
     ]
    },
    {
     "name": "stderr",
     "output_type": "stream",
     "text": [
      "INFO:tensorflow:Assets written to: Hybrid MP_wav/month4_3_step_lookahead_Hybrid\\assets\n",
      "WARNING:absl:<keras.layers.recurrent.LSTMCell object at 0x0000020AD17A7370> has the same name 'LSTMCell' as a built-in Keras object. Consider renaming <class 'keras.layers.recurrent.LSTMCell'> to avoid naming conflicts when loading with `tf.keras.models.load_model`. If renaming is not possible, pass the object in the `custom_objects` parameter of the load function.\n"
     ]
    },
    {
     "name": "stdout",
     "output_type": "stream",
     "text": [
      "145/145 [==============================] - 3s 21ms/step\n",
      "63/63 [==============================] - 1s 18ms/step\n"
     ]
    },
    {
     "name": "stderr",
     "output_type": "stream",
     "text": [
      "D:\\Anaconda\\lib\\site-packages\\pandas\\core\\frame.py:3678: SettingWithCopyWarning: \n",
      "A value is trying to be set on a copy of a slice from a DataFrame.\n",
      "Try using .loc[row_indexer,col_indexer] = value instead\n",
      "\n",
      "See the caveats in the documentation: https://pandas.pydata.org/pandas-docs/stable/user_guide/indexing.html#returning-a-view-versus-a-copy\n",
      "  self[col] = igetitem(value, i)\n"
     ]
    },
    {
     "name": "stdout",
     "output_type": "stream",
     "text": [
      "Epoch 1/15\n",
      "145/145 [==============================] - 11s 60ms/step - loss: 1.6385 - val_loss: 0.1297\n",
      "Epoch 2/15\n",
      "145/145 [==============================] - 8s 52ms/step - loss: 1.6055 - val_loss: 0.1175\n",
      "Epoch 3/15\n",
      "145/145 [==============================] - 8s 53ms/step - loss: 1.5991 - val_loss: 0.1098\n",
      "Epoch 4/15\n",
      "145/145 [==============================] - 8s 53ms/step - loss: 1.5961 - val_loss: 0.1071\n",
      "Epoch 5/15\n",
      "145/145 [==============================] - 8s 52ms/step - loss: 1.5912 - val_loss: 0.1050\n",
      "Epoch 6/15\n",
      "145/145 [==============================] - 8s 53ms/step - loss: 1.5880 - val_loss: 0.1048\n",
      "Epoch 7/15\n",
      "145/145 [==============================] - 8s 52ms/step - loss: 1.5838 - val_loss: 0.1069\n",
      "Epoch 8/15\n",
      "145/145 [==============================] - 8s 52ms/step - loss: 1.5787 - val_loss: 0.1124\n",
      "Epoch 9/15\n",
      "145/145 [==============================] - 8s 52ms/step - loss: 1.5726 - val_loss: 0.1134\n",
      "Epoch 10/15\n",
      "145/145 [==============================] - 8s 52ms/step - loss: 1.5671 - val_loss: 0.1135\n",
      "Epoch 11/15\n",
      "145/145 [==============================] - 8s 52ms/step - loss: 1.5555 - val_loss: 0.1163\n",
      "Epoch 12/15\n",
      "145/145 [==============================] - 8s 52ms/step - loss: 1.5706 - val_loss: 0.1187\n",
      "Epoch 13/15\n",
      "145/145 [==============================] - 8s 52ms/step - loss: 1.5503 - val_loss: 0.1238\n",
      "Epoch 14/15\n",
      "145/145 [==============================] - 8s 52ms/step - loss: 1.5358 - val_loss: 0.1437\n",
      "Epoch 15/15\n",
      "145/145 [==============================] - 8s 52ms/step - loss: 1.5503 - val_loss: 0.1650\n"
     ]
    },
    {
     "name": "stderr",
     "output_type": "stream",
     "text": [
      "WARNING:absl:Found untraced functions such as lstm_cell_96_layer_call_fn, lstm_cell_96_layer_call_and_return_conditional_losses while saving (showing 2 of 2). These functions will not be directly callable after loading.\n"
     ]
    },
    {
     "name": "stdout",
     "output_type": "stream",
     "text": [
      "INFO:tensorflow:Assets written to: Hybrid MP_wav/month4_4_step_lookahead_Hybrid\\assets\n"
     ]
    },
    {
     "name": "stderr",
     "output_type": "stream",
     "text": [
      "INFO:tensorflow:Assets written to: Hybrid MP_wav/month4_4_step_lookahead_Hybrid\\assets\n",
      "WARNING:absl:<keras.layers.recurrent.LSTMCell object at 0x0000020AB9A353A0> has the same name 'LSTMCell' as a built-in Keras object. Consider renaming <class 'keras.layers.recurrent.LSTMCell'> to avoid naming conflicts when loading with `tf.keras.models.load_model`. If renaming is not possible, pass the object in the `custom_objects` parameter of the load function.\n"
     ]
    },
    {
     "name": "stdout",
     "output_type": "stream",
     "text": [
      "145/145 [==============================] - 3s 20ms/step\n",
      "63/63 [==============================] - 1s 19ms/step\n"
     ]
    },
    {
     "name": "stderr",
     "output_type": "stream",
     "text": [
      "D:\\Anaconda\\lib\\site-packages\\pandas\\core\\frame.py:3678: SettingWithCopyWarning: \n",
      "A value is trying to be set on a copy of a slice from a DataFrame.\n",
      "Try using .loc[row_indexer,col_indexer] = value instead\n",
      "\n",
      "See the caveats in the documentation: https://pandas.pydata.org/pandas-docs/stable/user_guide/indexing.html#returning-a-view-versus-a-copy\n",
      "  self[col] = igetitem(value, i)\n"
     ]
    },
    {
     "name": "stdout",
     "output_type": "stream",
     "text": [
      "Epoch 1/15\n",
      "145/145 [==============================] - 11s 56ms/step - loss: 1.6509 - val_loss: 0.1399\n",
      "Epoch 2/15\n",
      "145/145 [==============================] - 8s 52ms/step - loss: 1.6085 - val_loss: 0.1333\n",
      "Epoch 3/15\n",
      "145/145 [==============================] - 8s 52ms/step - loss: 1.6061 - val_loss: 0.1297\n",
      "Epoch 4/15\n",
      "145/145 [==============================] - 8s 52ms/step - loss: 1.6024 - val_loss: 0.1341\n",
      "Epoch 5/15\n",
      "145/145 [==============================] - 8s 52ms/step - loss: 1.5980 - val_loss: 0.1336\n",
      "Epoch 6/15\n",
      "145/145 [==============================] - 8s 52ms/step - loss: 1.5976 - val_loss: 0.1396\n",
      "Epoch 7/15\n",
      "145/145 [==============================] - 7s 52ms/step - loss: 1.5983 - val_loss: 0.1419\n",
      "Epoch 8/15\n",
      "145/145 [==============================] - 8s 52ms/step - loss: 1.5850 - val_loss: 0.1409\n",
      "Epoch 9/15\n",
      "145/145 [==============================] - 8s 52ms/step - loss: 1.5838 - val_loss: 0.1401\n",
      "Epoch 10/15\n",
      "145/145 [==============================] - 8s 52ms/step - loss: 1.5677 - val_loss: 0.1527\n",
      "Epoch 11/15\n",
      "145/145 [==============================] - 8s 52ms/step - loss: 1.5662 - val_loss: 0.1483\n",
      "Epoch 12/15\n",
      "145/145 [==============================] - 8s 52ms/step - loss: 1.5803 - val_loss: 0.1400\n",
      "Epoch 13/15\n",
      "145/145 [==============================] - 7s 52ms/step - loss: 1.6027 - val_loss: 0.1496\n",
      "Epoch 14/15\n",
      "145/145 [==============================] - 7s 52ms/step - loss: 1.5794 - val_loss: 0.1565\n",
      "Epoch 15/15\n",
      "145/145 [==============================] - 8s 52ms/step - loss: 1.5605 - val_loss: 0.1596\n"
     ]
    },
    {
     "name": "stderr",
     "output_type": "stream",
     "text": [
      "WARNING:absl:Found untraced functions such as lstm_cell_97_layer_call_fn, lstm_cell_97_layer_call_and_return_conditional_losses while saving (showing 2 of 2). These functions will not be directly callable after loading.\n"
     ]
    },
    {
     "name": "stdout",
     "output_type": "stream",
     "text": [
      "INFO:tensorflow:Assets written to: Hybrid MP_wav/month4_5_step_lookahead_Hybrid\\assets\n"
     ]
    },
    {
     "name": "stderr",
     "output_type": "stream",
     "text": [
      "INFO:tensorflow:Assets written to: Hybrid MP_wav/month4_5_step_lookahead_Hybrid\\assets\n",
      "WARNING:absl:<keras.layers.recurrent.LSTMCell object at 0x0000020AE84F04F0> has the same name 'LSTMCell' as a built-in Keras object. Consider renaming <class 'keras.layers.recurrent.LSTMCell'> to avoid naming conflicts when loading with `tf.keras.models.load_model`. If renaming is not possible, pass the object in the `custom_objects` parameter of the load function.\n"
     ]
    },
    {
     "name": "stdout",
     "output_type": "stream",
     "text": [
      "145/145 [==============================] - 3s 20ms/step\n",
      "63/63 [==============================] - 1s 19ms/step\n"
     ]
    },
    {
     "name": "stderr",
     "output_type": "stream",
     "text": [
      "D:\\Anaconda\\lib\\site-packages\\pandas\\core\\frame.py:3678: SettingWithCopyWarning: \n",
      "A value is trying to be set on a copy of a slice from a DataFrame.\n",
      "Try using .loc[row_indexer,col_indexer] = value instead\n",
      "\n",
      "See the caveats in the documentation: https://pandas.pydata.org/pandas-docs/stable/user_guide/indexing.html#returning-a-view-versus-a-copy\n",
      "  self[col] = igetitem(value, i)\n"
     ]
    },
    {
     "name": "stdout",
     "output_type": "stream",
     "text": [
      "Epoch 1/15\n",
      "145/145 [==============================] - 11s 60ms/step - loss: 1.6463 - val_loss: 0.1292\n",
      "Epoch 2/15\n",
      "145/145 [==============================] - 8s 52ms/step - loss: 1.6115 - val_loss: 0.1194\n",
      "Epoch 3/15\n",
      "145/145 [==============================] - 8s 52ms/step - loss: 1.6084 - val_loss: 0.1224\n",
      "Epoch 4/15\n",
      "145/145 [==============================] - 8s 52ms/step - loss: 1.6063 - val_loss: 0.1251\n",
      "Epoch 5/15\n",
      "145/145 [==============================] - 8s 52ms/step - loss: 1.6077 - val_loss: 0.1338\n",
      "Epoch 6/15\n",
      "145/145 [==============================] - 8s 52ms/step - loss: 1.6023 - val_loss: 0.1306\n",
      "Epoch 7/15\n",
      "145/145 [==============================] - 8s 52ms/step - loss: 1.5975 - val_loss: 0.1311\n",
      "Epoch 8/15\n",
      "145/145 [==============================] - 8s 52ms/step - loss: 1.5963 - val_loss: 0.1438\n",
      "Epoch 9/15\n",
      "145/145 [==============================] - 8s 52ms/step - loss: 1.5952 - val_loss: 0.1364\n",
      "Epoch 10/15\n",
      "145/145 [==============================] - 8s 52ms/step - loss: 1.6093 - val_loss: 0.1269\n",
      "Epoch 11/15\n",
      "145/145 [==============================] - 8s 52ms/step - loss: 1.6020 - val_loss: 0.1414\n",
      "Epoch 12/15\n",
      "145/145 [==============================] - 8s 52ms/step - loss: 1.5828 - val_loss: 0.1306\n",
      "Epoch 13/15\n",
      "145/145 [==============================] - 8s 52ms/step - loss: 1.5948 - val_loss: 0.1539\n",
      "Epoch 14/15\n",
      "145/145 [==============================] - 8s 52ms/step - loss: 1.5418 - val_loss: 0.1333\n",
      "Epoch 15/15\n",
      "145/145 [==============================] - 8s 52ms/step - loss: 1.5843 - val_loss: 0.2175\n"
     ]
    },
    {
     "name": "stderr",
     "output_type": "stream",
     "text": [
      "WARNING:absl:Found untraced functions such as lstm_cell_98_layer_call_fn, lstm_cell_98_layer_call_and_return_conditional_losses while saving (showing 2 of 2). These functions will not be directly callable after loading.\n"
     ]
    },
    {
     "name": "stdout",
     "output_type": "stream",
     "text": [
      "INFO:tensorflow:Assets written to: Hybrid MP_wav/month4_6_step_lookahead_Hybrid\\assets\n"
     ]
    },
    {
     "name": "stderr",
     "output_type": "stream",
     "text": [
      "INFO:tensorflow:Assets written to: Hybrid MP_wav/month4_6_step_lookahead_Hybrid\\assets\n",
      "WARNING:absl:<keras.layers.recurrent.LSTMCell object at 0x0000020A675A8850> has the same name 'LSTMCell' as a built-in Keras object. Consider renaming <class 'keras.layers.recurrent.LSTMCell'> to avoid naming conflicts when loading with `tf.keras.models.load_model`. If renaming is not possible, pass the object in the `custom_objects` parameter of the load function.\n"
     ]
    },
    {
     "name": "stdout",
     "output_type": "stream",
     "text": [
      "145/145 [==============================] - 3s 20ms/step\n",
      "63/63 [==============================] - 1s 19ms/step\n"
     ]
    },
    {
     "name": "stderr",
     "output_type": "stream",
     "text": [
      "D:\\Anaconda\\lib\\site-packages\\pandas\\core\\frame.py:3678: SettingWithCopyWarning: \n",
      "A value is trying to be set on a copy of a slice from a DataFrame.\n",
      "Try using .loc[row_indexer,col_indexer] = value instead\n",
      "\n",
      "See the caveats in the documentation: https://pandas.pydata.org/pandas-docs/stable/user_guide/indexing.html#returning-a-view-versus-a-copy\n",
      "  self[col] = igetitem(value, i)\n"
     ]
    },
    {
     "name": "stdout",
     "output_type": "stream",
     "text": [
      "Epoch 1/15\n",
      "145/145 [==============================] - 10s 56ms/step - loss: 1.6385 - val_loss: 0.1139\n",
      "Epoch 2/15\n",
      "145/145 [==============================] - 8s 52ms/step - loss: 1.6149 - val_loss: 0.1169\n",
      "Epoch 3/15\n",
      "145/145 [==============================] - 8s 52ms/step - loss: 1.6104 - val_loss: 0.1203\n",
      "Epoch 4/15\n",
      "145/145 [==============================] - 7s 52ms/step - loss: 1.6080 - val_loss: 0.1208\n",
      "Epoch 5/15\n",
      "145/145 [==============================] - 8s 52ms/step - loss: 1.6048 - val_loss: 0.1272\n",
      "Epoch 6/15\n",
      "145/145 [==============================] - 8s 53ms/step - loss: 1.6037 - val_loss: 0.1305\n",
      "Epoch 7/15\n",
      "145/145 [==============================] - 8s 53ms/step - loss: 1.6031 - val_loss: 0.1338\n",
      "Epoch 8/15\n",
      "145/145 [==============================] - 8s 53ms/step - loss: 1.5983 - val_loss: 0.1366\n",
      "Epoch 9/15\n",
      "145/145 [==============================] - 8s 52ms/step - loss: 1.5942 - val_loss: 0.1457\n",
      "Epoch 10/15\n",
      "145/145 [==============================] - 8s 52ms/step - loss: 1.5957 - val_loss: 0.1563\n",
      "Epoch 11/15\n",
      "145/145 [==============================] - 8s 52ms/step - loss: 1.5891 - val_loss: 0.1522\n",
      "Epoch 12/15\n",
      "145/145 [==============================] - 8s 52ms/step - loss: 1.5931 - val_loss: 0.1417\n",
      "Epoch 13/15\n",
      "145/145 [==============================] - 8s 52ms/step - loss: 1.5844 - val_loss: 0.1393\n",
      "Epoch 14/15\n",
      "145/145 [==============================] - 8s 52ms/step - loss: 1.5969 - val_loss: 0.1379\n",
      "Epoch 15/15\n",
      "145/145 [==============================] - 8s 52ms/step - loss: 1.5639 - val_loss: 0.1392\n"
     ]
    },
    {
     "name": "stderr",
     "output_type": "stream",
     "text": [
      "WARNING:absl:Found untraced functions such as lstm_cell_99_layer_call_fn, lstm_cell_99_layer_call_and_return_conditional_losses while saving (showing 2 of 2). These functions will not be directly callable after loading.\n"
     ]
    },
    {
     "name": "stdout",
     "output_type": "stream",
     "text": [
      "INFO:tensorflow:Assets written to: Hybrid MP_wav/month4_7_step_lookahead_Hybrid\\assets\n"
     ]
    },
    {
     "name": "stderr",
     "output_type": "stream",
     "text": [
      "INFO:tensorflow:Assets written to: Hybrid MP_wav/month4_7_step_lookahead_Hybrid\\assets\n",
      "WARNING:absl:<keras.layers.recurrent.LSTMCell object at 0x0000020A64DACF40> has the same name 'LSTMCell' as a built-in Keras object. Consider renaming <class 'keras.layers.recurrent.LSTMCell'> to avoid naming conflicts when loading with `tf.keras.models.load_model`. If renaming is not possible, pass the object in the `custom_objects` parameter of the load function.\n"
     ]
    },
    {
     "name": "stdout",
     "output_type": "stream",
     "text": [
      "145/145 [==============================] - 3s 20ms/step\n",
      "63/63 [==============================] - 1s 19ms/step\n"
     ]
    },
    {
     "name": "stderr",
     "output_type": "stream",
     "text": [
      "D:\\Anaconda\\lib\\site-packages\\pandas\\core\\frame.py:3678: SettingWithCopyWarning: \n",
      "A value is trying to be set on a copy of a slice from a DataFrame.\n",
      "Try using .loc[row_indexer,col_indexer] = value instead\n",
      "\n",
      "See the caveats in the documentation: https://pandas.pydata.org/pandas-docs/stable/user_guide/indexing.html#returning-a-view-versus-a-copy\n",
      "  self[col] = igetitem(value, i)\n"
     ]
    },
    {
     "name": "stdout",
     "output_type": "stream",
     "text": [
      "Epoch 1/15\n",
      "145/145 [==============================] - 11s 56ms/step - loss: 1.6418 - val_loss: 0.1308\n",
      "Epoch 2/15\n",
      "145/145 [==============================] - 7s 52ms/step - loss: 1.6132 - val_loss: 0.1346\n",
      "Epoch 3/15\n",
      "145/145 [==============================] - 7s 52ms/step - loss: 1.6110 - val_loss: 0.1372\n",
      "Epoch 4/15\n",
      "145/145 [==============================] - 8s 52ms/step - loss: 1.6098 - val_loss: 0.1394\n",
      "Epoch 5/15\n",
      "145/145 [==============================] - 8s 52ms/step - loss: 1.6087 - val_loss: 0.1449\n",
      "Epoch 6/15\n",
      "145/145 [==============================] - 8s 52ms/step - loss: 1.6062 - val_loss: 0.1484\n",
      "Epoch 7/15\n",
      "145/145 [==============================] - 8s 52ms/step - loss: 1.6044 - val_loss: 0.1539\n",
      "Epoch 8/15\n",
      "145/145 [==============================] - 8s 52ms/step - loss: 1.5989 - val_loss: 0.1519\n",
      "Epoch 9/15\n",
      "145/145 [==============================] - 8s 52ms/step - loss: 1.5940 - val_loss: 0.1571\n",
      "Epoch 10/15\n",
      "145/145 [==============================] - 8s 52ms/step - loss: 1.5681 - val_loss: 0.1579\n",
      "Epoch 11/15\n",
      "145/145 [==============================] - 8s 52ms/step - loss: 1.5933 - val_loss: 0.1767\n",
      "Epoch 12/15\n",
      "145/145 [==============================] - 8s 52ms/step - loss: 1.5774 - val_loss: 0.1880\n",
      "Epoch 13/15\n",
      "145/145 [==============================] - 8s 52ms/step - loss: 1.5714 - val_loss: 0.2059\n",
      "Epoch 14/15\n",
      "145/145 [==============================] - 8s 52ms/step - loss: 1.5664 - val_loss: 0.2138\n",
      "Epoch 15/15\n",
      "145/145 [==============================] - 8s 52ms/step - loss: 1.5443 - val_loss: 0.1809\n"
     ]
    },
    {
     "name": "stderr",
     "output_type": "stream",
     "text": [
      "WARNING:absl:Found untraced functions such as lstm_cell_100_layer_call_fn, lstm_cell_100_layer_call_and_return_conditional_losses while saving (showing 2 of 2). These functions will not be directly callable after loading.\n"
     ]
    },
    {
     "name": "stdout",
     "output_type": "stream",
     "text": [
      "INFO:tensorflow:Assets written to: Hybrid MP_wav/month4_8_step_lookahead_Hybrid\\assets\n"
     ]
    },
    {
     "name": "stderr",
     "output_type": "stream",
     "text": [
      "INFO:tensorflow:Assets written to: Hybrid MP_wav/month4_8_step_lookahead_Hybrid\\assets\n",
      "WARNING:absl:<keras.layers.recurrent.LSTMCell object at 0x00000207ACD856D0> has the same name 'LSTMCell' as a built-in Keras object. Consider renaming <class 'keras.layers.recurrent.LSTMCell'> to avoid naming conflicts when loading with `tf.keras.models.load_model`. If renaming is not possible, pass the object in the `custom_objects` parameter of the load function.\n"
     ]
    },
    {
     "name": "stdout",
     "output_type": "stream",
     "text": [
      "145/145 [==============================] - 3s 21ms/step\n",
      "63/63 [==============================] - 1s 19ms/step\n"
     ]
    },
    {
     "name": "stderr",
     "output_type": "stream",
     "text": [
      "D:\\Anaconda\\lib\\site-packages\\pandas\\core\\frame.py:3678: SettingWithCopyWarning: \n",
      "A value is trying to be set on a copy of a slice from a DataFrame.\n",
      "Try using .loc[row_indexer,col_indexer] = value instead\n",
      "\n",
      "See the caveats in the documentation: https://pandas.pydata.org/pandas-docs/stable/user_guide/indexing.html#returning-a-view-versus-a-copy\n",
      "  self[col] = igetitem(value, i)\n"
     ]
    },
    {
     "name": "stdout",
     "output_type": "stream",
     "text": [
      "Epoch 1/15\n",
      "145/145 [==============================] - 11s 60ms/step - loss: 1.6240 - val_loss: 0.1197\n",
      "Epoch 2/15\n",
      "145/145 [==============================] - 8s 52ms/step - loss: 1.6169 - val_loss: 0.1228\n",
      "Epoch 3/15\n",
      "145/145 [==============================] - 8s 52ms/step - loss: 1.6136 - val_loss: 0.1305\n",
      "Epoch 4/15\n",
      "145/145 [==============================] - 8s 52ms/step - loss: 1.6119 - val_loss: 0.1331\n",
      "Epoch 5/15\n",
      "145/145 [==============================] - 8s 52ms/step - loss: 1.6101 - val_loss: 0.1385\n",
      "Epoch 6/15\n",
      "145/145 [==============================] - 8s 52ms/step - loss: 1.6096 - val_loss: 0.1460\n",
      "Epoch 7/15\n",
      "145/145 [==============================] - 8s 52ms/step - loss: 1.6058 - val_loss: 0.1489\n",
      "Epoch 8/15\n",
      "145/145 [==============================] - 8s 52ms/step - loss: 1.6005 - val_loss: 0.1531\n",
      "Epoch 9/15\n",
      "145/145 [==============================] - 8s 52ms/step - loss: 1.5846 - val_loss: 0.1592\n",
      "Epoch 10/15\n",
      "145/145 [==============================] - 8s 53ms/step - loss: 1.5996 - val_loss: 0.1670\n",
      "Epoch 11/15\n",
      "145/145 [==============================] - 8s 52ms/step - loss: 1.5815 - val_loss: 0.1499\n",
      "Epoch 12/15\n",
      "145/145 [==============================] - 8s 52ms/step - loss: 1.5773 - val_loss: 0.1569\n",
      "Epoch 13/15\n",
      "145/145 [==============================] - 8s 52ms/step - loss: 1.5623 - val_loss: 0.1483\n",
      "Epoch 14/15\n",
      "145/145 [==============================] - 7s 52ms/step - loss: 1.5398 - val_loss: 0.1514\n",
      "Epoch 15/15\n",
      "145/145 [==============================] - 8s 52ms/step - loss: 1.5468 - val_loss: 0.1485\n"
     ]
    },
    {
     "name": "stderr",
     "output_type": "stream",
     "text": [
      "WARNING:absl:Found untraced functions such as lstm_cell_101_layer_call_fn, lstm_cell_101_layer_call_and_return_conditional_losses while saving (showing 2 of 2). These functions will not be directly callable after loading.\n"
     ]
    },
    {
     "name": "stdout",
     "output_type": "stream",
     "text": [
      "INFO:tensorflow:Assets written to: Hybrid MP_wav/month4_9_step_lookahead_Hybrid\\assets\n"
     ]
    },
    {
     "name": "stderr",
     "output_type": "stream",
     "text": [
      "INFO:tensorflow:Assets written to: Hybrid MP_wav/month4_9_step_lookahead_Hybrid\\assets\n",
      "WARNING:absl:<keras.layers.recurrent.LSTMCell object at 0x00000207B8E62310> has the same name 'LSTMCell' as a built-in Keras object. Consider renaming <class 'keras.layers.recurrent.LSTMCell'> to avoid naming conflicts when loading with `tf.keras.models.load_model`. If renaming is not possible, pass the object in the `custom_objects` parameter of the load function.\n"
     ]
    },
    {
     "name": "stdout",
     "output_type": "stream",
     "text": [
      "145/145 [==============================] - 3s 21ms/step\n",
      "63/63 [==============================] - 1s 19ms/step\n"
     ]
    },
    {
     "name": "stderr",
     "output_type": "stream",
     "text": [
      "D:\\Anaconda\\lib\\site-packages\\pandas\\core\\frame.py:3678: SettingWithCopyWarning: \n",
      "A value is trying to be set on a copy of a slice from a DataFrame.\n",
      "Try using .loc[row_indexer,col_indexer] = value instead\n",
      "\n",
      "See the caveats in the documentation: https://pandas.pydata.org/pandas-docs/stable/user_guide/indexing.html#returning-a-view-versus-a-copy\n",
      "  self[col] = igetitem(value, i)\n"
     ]
    },
    {
     "name": "stdout",
     "output_type": "stream",
     "text": [
      "Epoch 1/15\n",
      "145/145 [==============================] - 11s 57ms/step - loss: 1.6425 - val_loss: 0.1336\n",
      "Epoch 2/15\n",
      "145/145 [==============================] - 8s 52ms/step - loss: 1.6194 - val_loss: 0.1345\n",
      "Epoch 3/15\n",
      "145/145 [==============================] - 8s 52ms/step - loss: 1.6166 - val_loss: 0.1352\n",
      "Epoch 4/15\n",
      "145/145 [==============================] - 8s 52ms/step - loss: 1.6130 - val_loss: 0.1376\n",
      "Epoch 5/15\n",
      "145/145 [==============================] - 8s 52ms/step - loss: 1.6099 - val_loss: 0.1418\n",
      "Epoch 6/15\n",
      "145/145 [==============================] - 8s 52ms/step - loss: 1.6065 - val_loss: 0.1466\n",
      "Epoch 7/15\n",
      "145/145 [==============================] - 8s 52ms/step - loss: 1.6046 - val_loss: 0.1488\n",
      "Epoch 8/15\n",
      "145/145 [==============================] - 8s 52ms/step - loss: 1.5966 - val_loss: 0.1568\n",
      "Epoch 9/15\n",
      "145/145 [==============================] - 8s 52ms/step - loss: 1.5859 - val_loss: 0.1530\n",
      "Epoch 10/15\n",
      "145/145 [==============================] - 8s 52ms/step - loss: 1.6105 - val_loss: 0.1800\n",
      "Epoch 11/15\n",
      "145/145 [==============================] - 8s 52ms/step - loss: 1.5910 - val_loss: 0.1592\n",
      "Epoch 12/15\n",
      "145/145 [==============================] - 8s 52ms/step - loss: 1.5653 - val_loss: 0.1689\n",
      "Epoch 13/15\n",
      "145/145 [==============================] - 8s 52ms/step - loss: 1.6335 - val_loss: 0.1641\n",
      "Epoch 14/15\n",
      "145/145 [==============================] - 8s 52ms/step - loss: 1.6202 - val_loss: 0.1668\n",
      "Epoch 15/15\n",
      "145/145 [==============================] - 8s 52ms/step - loss: 1.6177 - val_loss: 0.1759\n"
     ]
    },
    {
     "name": "stderr",
     "output_type": "stream",
     "text": [
      "WARNING:absl:Found untraced functions such as lstm_cell_102_layer_call_fn, lstm_cell_102_layer_call_and_return_conditional_losses while saving (showing 2 of 2). These functions will not be directly callable after loading.\n"
     ]
    },
    {
     "name": "stdout",
     "output_type": "stream",
     "text": [
      "INFO:tensorflow:Assets written to: Hybrid MP_wav/month4_10_step_lookahead_Hybrid\\assets\n"
     ]
    },
    {
     "name": "stderr",
     "output_type": "stream",
     "text": [
      "INFO:tensorflow:Assets written to: Hybrid MP_wav/month4_10_step_lookahead_Hybrid\\assets\n",
      "WARNING:absl:<keras.layers.recurrent.LSTMCell object at 0x00000207B9C0A040> has the same name 'LSTMCell' as a built-in Keras object. Consider renaming <class 'keras.layers.recurrent.LSTMCell'> to avoid naming conflicts when loading with `tf.keras.models.load_model`. If renaming is not possible, pass the object in the `custom_objects` parameter of the load function.\n"
     ]
    },
    {
     "name": "stdout",
     "output_type": "stream",
     "text": [
      "145/145 [==============================] - 3s 21ms/step\n",
      "63/63 [==============================] - 1s 19ms/step\n"
     ]
    },
    {
     "name": "stderr",
     "output_type": "stream",
     "text": [
      "D:\\Anaconda\\lib\\site-packages\\pandas\\core\\frame.py:3678: SettingWithCopyWarning: \n",
      "A value is trying to be set on a copy of a slice from a DataFrame.\n",
      "Try using .loc[row_indexer,col_indexer] = value instead\n",
      "\n",
      "See the caveats in the documentation: https://pandas.pydata.org/pandas-docs/stable/user_guide/indexing.html#returning-a-view-versus-a-copy\n",
      "  self[col] = igetitem(value, i)\n"
     ]
    }
   ],
   "source": [
    "end_dates = ['2021-12-26 23:55:00', '2022-01-26 23:55:00', '2022-02-26 23:55:00', '2022-03-26 23:55:00', '2022-04-26 23:55:00'  ]\n",
    "Start_dates = ['2021-11-26 00:00:00', '2021-12-26 00:00:00', '2022-01-26 23:55:00', '2022-02-26 23:55:00', '2022-03-26 23:55:00']\n",
    "\n",
    "#Create Training Examples for all lookaheads\n",
    "resample_rate = '5T'\n",
    "start_date='2021-11-26 00:00:00'\n",
    "end_date='2021-12-26 23:55:00' \n",
    "inputs = ['min_gas_price']\n",
    "#No of timesteps behind to forecast on, no of timesteps to forecast ahead\n",
    "n_steps_in = 2016+288\n",
    "n_steps_out = 1\n",
    "#How many timesteps between start of training examples\n",
    "step_interval = 1\n",
    "n_step_lookahead = 1\n",
    "\n",
    "y_hat_list=[]\n",
    "train_loss_list=[]\n",
    "val_loss_list=[]\n",
    "training_metrics_dicts=[]\n",
    "valdiation_metrics_dicts=[]\n",
    "mp_window=288\n",
    "for month in [0, 1, 2, 3, 4]:\n",
    "    n_step_lookahead=1\n",
    "    start_date=Start_dates[month]\n",
    "    end_date=end_dates[month]\n",
    "    X_train, y_train, X_val, y_val, scaler = generate_training_val_examples_univariate_output(data)\n",
    "    for i in range(1,11):\n",
    "        n_step_lookahead = i\n",
    "        \n",
    "        X_train_denoised= denoise_array(X_train, 0, 'db4', 2, 3)\n",
    "        X_val_denoised= denoise_array(X_val, 0, 'db4', 2, 3)\n",
    "        X_train_mp = add_mp_reversed(X_train, mp_window)\n",
    "        X_val_mp = add_mp_reversed(X_val, mp_window)\n",
    "     \n",
    "\n",
    "\n",
    "        model, model_checkpoint_callback, checkpoint_filepath = LSTM_model()\n",
    "        train_history = model.fit(X_train_mp, y_train,validation_data=(X_val_mp, y_val), epochs=15, verbose=1, callbacks=[model_checkpoint_callback])\n",
    "        model.load_weights(checkpoint_filepath)\n",
    "        model.save(('Hybrid MP_wav/month' +str(month)+'_'+ str(i) + '_step_lookahead_Hybrid'))\n",
    "\n",
    "        yhat_train = model.predict(X_train_mp, verbose=1)\n",
    "        yhat_val = model.predict(X_val_mp, verbose=1)\n",
    "        y_hat_list.append(yhat_val)\n",
    "\n",
    "        train_loss_list.append(train_history.history['loss'])\n",
    "        val_loss_list.append(train_history.history['val_loss'])\n",
    "        pd.DataFrame(train_loss_list).to_csv('Hybrid MP_wav/train_loss')\n",
    "        pd.DataFrame(val_loss_list).to_csv('Hybrid MP_wav/val_loss')\n",
    "        \n",
    "        training_metrics_dicts.append(descale_y_retrun_metrics_univariate_y(yhat_train, y_train))\n",
    "        valdiation_metrics_dicts.append(descale_y_retrun_metrics_univariate_y(yhat_val, y_val))\n",
    "\n",
    "    \n",
    "        x_train_extended = []\n",
    "        for j in range(0, len(X_train)):\n",
    "            X_train_t = np.append(X_train[j], yhat_train[j])\n",
    "            x_train_extended.append(X_train_t)\n",
    "\n",
    "        x_val_extended = []\n",
    "        for k in range(0, len(X_val)):\n",
    "            X_val_t = np.append(X_val[k], yhat_val[k])\n",
    "            x_val_extended.append(X_val_t)\n",
    "\n",
    "        n_step_lookahead = i+1\n",
    "        X_traindummy, y_train, X_valdummy, y_val, scaler = generate_training_val_examples_univariate_output(data)\n",
    "        x_train = np.array(x_train_extended)\n",
    "        x_val = np.array(x_val_extended)\n",
    "        x_train = x_train.reshape(x_train.shape[0], x_train.shape[1],1)\n",
    "        x_val = x_val.reshape(x_val.shape[0], x_val.shape[1],1)\n",
    "        x_train = x_train[:,1:]\n",
    "        x_val = x_val[:,1:]\n",
    "        X_train = x_train[:(y_train.shape[0]),:,:]\n",
    "        X_val = x_val[:(y_val.shape[0]),:,:]\n",
    "        np.save(\"Hybrid MP_wav/train_metric_dict.npy\", training_metrics_dicts)  \n",
    "        np.save(\"Hybrid MP_wav/val_metric_dict.npy\", valdiation_metrics_dicts)  "
   ]
  },
  {
   "cell_type": "code",
   "execution_count": 36,
   "id": "b782e836-778e-4e31-b1b5-a3863ed73fec",
   "metadata": {
    "tags": []
   },
   "outputs": [
    {
     "data": {
      "text/plain": [
       "RMSE     27.395974\n",
       "MSE     935.968461\n",
       "MAE      13.822675\n",
       "MAPE      0.179238\n",
       "R2        0.508363\n",
       "dtype: float64"
      ]
     },
     "execution_count": 36,
     "metadata": {},
     "output_type": "execute_result"
    }
   ],
   "source": [
    "pd.concat(valdiation_metrics_dicts).mean()"
   ]
  }
 ],
 "metadata": {
  "kernelspec": {
   "display_name": "Python 3 (ipykernel)",
   "language": "python",
   "name": "python3"
  },
  "language_info": {
   "codemirror_mode": {
    "name": "ipython",
    "version": 3
   },
   "file_extension": ".py",
   "mimetype": "text/x-python",
   "name": "python",
   "nbconvert_exporter": "python",
   "pygments_lexer": "ipython3",
   "version": "3.9.7"
  }
 },
 "nbformat": 4,
 "nbformat_minor": 5
}
