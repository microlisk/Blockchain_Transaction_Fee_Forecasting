{
 "cells": [
  {
   "cell_type": "markdown",
   "id": "ed254beb-b30d-40dd-b1ab-1675290adaa0",
   "metadata": {},
   "source": [
    "# Direct Multistep Ensemble, Multivarite"
   ]
  },
  {
   "cell_type": "markdown",
   "id": "273cf8a4-056b-49a8-8123-cc15d8f2f71b",
   "metadata": {},
   "source": [
    "We are training a seperate model for each timestep in the lookahead window\n",
    "\n",
    "We are denoising the input for each training example using wavelet threshold denoising, then computing the matrix profile\n",
    "\n",
    "Matrix profile computed correctly"
   ]
  },
  {
   "cell_type": "markdown",
   "id": "c48f90a4-fdeb-421f-bc9c-df77b1ae232b",
   "metadata": {},
   "source": [
    "## Load data and functions"
   ]
  },
  {
   "cell_type": "code",
   "execution_count": 1,
   "id": "2243fdcb-c389-4556-be27-9373234fc591",
   "metadata": {},
   "outputs": [],
   "source": [
    "import pandas as pd\n",
    "import numpy as np\n",
    "from numpy import array\n",
    "from numpy import mean\n",
    "from numpy import std\n",
    "import tensorflow as tf\n",
    "from tensorflow import keras\n",
    "from keras import optimizers\n",
    "from keras.models import Sequential\n",
    "from keras import callbacks\n",
    "from tensorflow.keras.utils import plot_model\n",
    "from tensorflow.keras.layers import LSTM, Dense, Dropout, TimeDistributed, Conv1D, MaxPooling1D, Flatten, Bidirectional, Input, Flatten, Activation, Reshape, RepeatVector, Concatenate\n",
    "from tensorflow.keras.models import Model\n",
    "import matplotlib.pyplot as plt\n",
    "\n",
    "import datetime \n",
    "from datetime import timedelta\n",
    "from datetime import datetime\n",
    "import pywt\n",
    "import matrixprofile as mp"
   ]
  },
  {
   "cell_type": "code",
   "execution_count": 2,
   "id": "fd68e3ae-22e3-43af-b5e2-abdca3c87420",
   "metadata": {},
   "outputs": [],
   "source": [
    "def split_sequence(sequence, n_steps_in, n_steps_out, step_interval, n_step_lookahead):\n",
    "    X, y = list(), list()\n",
    "    example_count = int((len(sequence)/step_interval))\n",
    "    for i in range(example_count):\n",
    "        # find the end of this pattern\n",
    "        end_ix = (i*step_interval) + n_steps_in\n",
    "        out_start_ix = end_ix + n_step_lookahead -1\n",
    "        out_end_ix = end_ix + n_steps_out + n_step_lookahead -1\n",
    "        # check if we are beyond the sequence\n",
    "        if out_end_ix > len(sequence):\n",
    "            break\n",
    "        # gather input and output parts of the pattern\n",
    "        seq_x, seq_y = sequence[(i*step_interval):end_ix], sequence[out_start_ix:out_end_ix]\n",
    "        X.append(seq_x)\n",
    "        y.append(seq_y)\n",
    "    return array(X), array(y)"
   ]
  },
  {
   "cell_type": "code",
   "execution_count": 3,
   "id": "479cb03e-33f8-4df8-afe6-82b2351713ed",
   "metadata": {},
   "outputs": [
    {
     "data": {
      "text/plain": [
       "(array([[0, 1, 2, 3, 4],\n",
       "        [1, 2, 3, 4, 5],\n",
       "        [2, 3, 4, 5, 6],\n",
       "        [3, 4, 5, 6, 7]]),\n",
       " array([[ 9],\n",
       "        [10],\n",
       "        [11],\n",
       "        [12]]))"
      ]
     },
     "execution_count": 3,
     "metadata": {},
     "output_type": "execute_result"
    }
   ],
   "source": [
    "#To demonstrate above function\n",
    "sequence = range(0,13)\n",
    "n_steps_in = 1\n",
    "n_steps_in = 5\n",
    "n_steps_out =1\n",
    "step_interval =1\n",
    "n_step_lookahead=5\n",
    "split_sequence(sequence, n_steps_in, n_steps_out, step_interval, n_step_lookahead)"
   ]
  },
  {
   "cell_type": "code",
   "execution_count": 4,
   "id": "71242122-b9c7-4b3e-8bad-7f44d1f0a345",
   "metadata": {},
   "outputs": [],
   "source": [
    "percentile_data = pd.read_csv (r'C:\\Users/conal/Desktop/MCM/Practicum - Copy/data/block gas price percentile data.csv', header=0)\n",
    "percentile_data['datetime'] = pd.to_datetime(percentile_data['block_timestamp'], format = '%Y-%m-%d %H:%M:%S UTC')\n",
    "\n",
    "percentile_data = percentile_data.sort_values(by='datetime',ascending=False)\n",
    "percentile_data = percentile_data.set_index('datetime')\n",
    "percentile_data = percentile_data.resample('5T').mean()\n",
    "percentile_data = percentile_data/1000000000"
   ]
  },
  {
   "cell_type": "code",
   "execution_count": 5,
   "id": "addfff7a-1ca9-4e3c-b832-ef9531018074",
   "metadata": {},
   "outputs": [],
   "source": [
    "usage_data = pd.read_csv (r'C:\\Users\\conal\\Desktop\\MCM\\Practicum - Copy\\data\\ETH,gas,usage merged 11-26 to 05-26.csv', header=0)\n",
    "usage_data['datetime'] = pd.to_datetime(usage_data['datetime'], format = '%Y-%m-%d %H:%M:%S')\n",
    "usage_data = usage_data.set_index('datetime')\n",
    "\n",
    "usage_data = usage_data.squeeze()\n",
    "usage_data = usage_data.astype('float')\n",
    "usage_data = usage_data.resample('5T').mean()"
   ]
  },
  {
   "cell_type": "code",
   "execution_count": 6,
   "id": "6249d6f0-1245-44dc-8b97-18b4efb26ed4",
   "metadata": {},
   "outputs": [],
   "source": [
    "usage_data2 = pd.read_csv (r'C:\\Users\\conal\\Desktop\\MCM\\Practicum - Copy\\data\\Contract counts 2021-11-26 to 2022-05-26.csv', header=0, index_col=0)\n",
    "usage_data2['datetime'] = pd.to_datetime(usage_data2['block_timestamp'], format = '%Y-%m-%d %H:%M:%S') \n",
    "usage_data2 = usage_data2.set_index('datetime')\n",
    "usage_data2 = usage_data2.drop(['block_timestamp'], axis=1)\n",
    "usage_data2 = usage_data2.squeeze()\n",
    "usage_data2 = usage_data2.astype('float')\n",
    "usage_data2 = usage_data2.resample('5T').sum()"
   ]
  },
  {
   "cell_type": "code",
   "execution_count": 7,
   "id": "ecd8d838-d20b-44b3-b500-60255a2a295f",
   "metadata": {},
   "outputs": [],
   "source": [
    "data = usage_data.merge(percentile_data, left_index=True, right_index=True)\n",
    "data = data.merge(usage_data2, left_index=True, right_index=True)"
   ]
  },
  {
   "cell_type": "markdown",
   "id": "9123a9bf",
   "metadata": {},
   "source": [
    "Load data, datetime to index, downsample with left edge label, convert wei to gwei"
   ]
  },
  {
   "cell_type": "code",
   "execution_count": 8,
   "id": "ac449a8e",
   "metadata": {},
   "outputs": [],
   "source": [
    "def generate_training_val_examples_univariate_output(data):\n",
    " \n",
    "    #Filter inputs, standardize\n",
    "    data =data[inputs]\n",
    "    scaler = StandardScaler()\n",
    "    data[inputs] = scaler.fit_transform(data[inputs])\n",
    "    \n",
    "\n",
    "    #Creat input:output examples\n",
    "    data = data[start_date:end_date].to_numpy()\n",
    "    X, y = split_sequence(data, n_steps_in, n_steps_out, step_interval, n_step_lookahead)\n",
    "    \n",
    "    X_train, X_val = np.split(X, [int(0.7 * len(X))])\n",
    "    \n",
    "    y_train, y_val = np.split(y, [int(0.7 * len(X))])\n",
    "\n",
    "    \n",
    "    #Reshape to 3D for LSTM, filter output to only the first input\n",
    "    X_train = X_train.reshape((X_train.shape[0], X_train.shape[1], len(inputs)))\n",
    "    y_train =y_train.reshape((y_train.shape[0], y_train.shape[1], len(inputs)))[:,:,:1]\n",
    "    X_val = X_val.reshape((X_val.shape[0], X_val.shape[1], len(inputs)))\n",
    "    y_val = y_val.reshape((y_val.shape[0], y_val.shape[1], len(inputs)))[:,:,:1]\n",
    "\n",
    "    \n",
    "    return X_train, y_train, X_val, y_val, scaler\n"
   ]
  },
  {
   "cell_type": "code",
   "execution_count": 9,
   "id": "f5878928-c13c-4766-bcfe-2a6d1de3a51f",
   "metadata": {},
   "outputs": [],
   "source": [
    "from sklearn.preprocessing import MinMaxScaler\n",
    "from sklearn.preprocessing import StandardScaler\n",
    "from sklearn.metrics import r2_score\n",
    "from sklearn.metrics import mean_squared_error\n",
    "from sklearn.metrics import mean_absolute_error\n",
    "from sklearn.metrics import mean_absolute_percentage_error\n"
   ]
  },
  {
   "cell_type": "code",
   "execution_count": 10,
   "id": "464a45e7-5fd8-42b5-8d79-ca17e2da26c1",
   "metadata": {},
   "outputs": [],
   "source": [
    "def descale_y_retrun_metrics(yhat, y_val2):\n",
    "    #reverts standard scaling, returns dictionary of metrics for each output, for all lookaheads\n",
    "    dict_indexes=[]\n",
    "    dict_dfs=[]\n",
    "    for j in range(0, n_steps_out):\n",
    "        RMSE_list, MAE_list, MAPE_list, R2_list, MSE_list = [],[],[],[],[]\n",
    "        for i in range(0, len(inputs)):  \n",
    "            pred_descaled= (scaler.inverse_transform(yhat[:,j:j+1,:].reshape(yhat.shape[0], yhat.shape[2])))[:, i:i+1]\n",
    "            groud_truth_descaled= ((scaler.inverse_transform(y_val2[:,j:j+1,:].reshape(y_val2.shape[0], y_val2.shape[2]))))[:, i:i+1]\n",
    "            RMSE = mean_squared_error(groud_truth_descaled, pred_descaled, squared=False)\n",
    "            MSE = mean_squared_error(groud_truth_descaled, pred_descaled, squared=True)\n",
    "            MAE = mean_absolute_error(groud_truth_descaled, pred_descaled)\n",
    "            MAPE = mean_absolute_percentage_error(groud_truth_descaled, pred_descaled)\n",
    "            R2 = r2_score(groud_truth_descaled, pred_descaled)\n",
    "            RMSE_list.append(RMSE)\n",
    "            MAE_list.append(MAE)\n",
    "            MAPE_list.append(MAPE)\n",
    "            R2_list.append(R2)\n",
    "            MSE_list.append(MSE)\n",
    "        metrics_df = pd.DataFrame({'RMSE':RMSE_list, 'MSE':MSE_list, 'MAE':MAE_list, 'MAPE':MAPE_list, 'R2':R2_list}, index=inputs)\n",
    "        dict_dfs.append(metrics_df)\n",
    "        dict_indexes.append('Lookahead' +str(j))\n",
    "    metrics_dict = dict(zip(dict_indexes, dict_dfs))\n",
    "    return metrics_dict"
   ]
  },
  {
   "cell_type": "code",
   "execution_count": 11,
   "id": "56029e3c-602d-4fec-ae79-6988dcd5ae20",
   "metadata": {},
   "outputs": [],
   "source": [
    "def descale_y_retrun_metrics_univariate_y(yhat, y_val2):\n",
    "    #reverts standard scaling, returns dictionary of metrics for single output, for all lookaheads\n",
    "    dict_indexes=[]\n",
    "    dict_dfs=[]\n",
    "    RMSE_list, MAE_list, MAPE_list, R2_list, MSE_list = [],[],[],[],[]\n",
    "    for j in range(0, n_steps_out):\n",
    "        pred_descaled= scaler.inverse_transform(yhat)\n",
    "        groud_truth_descaled= scaler.inverse_transform(y_val2[:,0,])\n",
    "        RMSE = mean_squared_error(groud_truth_descaled, pred_descaled, squared=False)\n",
    "        MSE = mean_squared_error(groud_truth_descaled, pred_descaled, squared=True)\n",
    "        MAE = mean_absolute_error(groud_truth_descaled, pred_descaled)\n",
    "        MAPE = mean_absolute_percentage_error(groud_truth_descaled, pred_descaled)\n",
    "        R2 = r2_score(groud_truth_descaled, pred_descaled)\n",
    "        RMSE_list.append(RMSE)\n",
    "        MAE_list.append(MAE)\n",
    "        MAPE_list.append(MAPE)\n",
    "        R2_list.append(R2)\n",
    "        MSE_list.append(MSE)\n",
    "    metrics_df = pd.DataFrame({'RMSE':RMSE_list, 'MSE':MSE_list, 'MAE':MAE_list, 'MAPE':MAPE_list, 'R2':R2_list}, index=range(1, (n_steps_out+1)))\n",
    "\n",
    " \n",
    "    return metrics_df"
   ]
  },
  {
   "cell_type": "code",
   "execution_count": 12,
   "id": "59d345e1-b61a-4ca0-a546-5d11c2ae299a",
   "metadata": {},
   "outputs": [],
   "source": [
    "def LSTM_model():\n",
    "    checkpoint_filepath='./Hybrid Univarite2/'\n",
    "    model_checkpoint_callback = keras.callbacks.ModelCheckpoint(\n",
    "    filepath=checkpoint_filepath,\n",
    "    save_weights_only=True,\n",
    "    monitor='val_loss',\n",
    "    mode='min',\n",
    "    save_best_only=True)\n",
    "    \n",
    "    model = Sequential()\n",
    "    model.add(LSTM(units =15,activation='tanh',input_shape=((n_steps_in-288), len(inputs)+1),dropout=0.01))\n",
    "    model.add(Dense(n_steps_out))\n",
    "    model.compile(optimizer='adam', loss='mse')\n",
    "    return model, model_checkpoint_callback, checkpoint_filepath"
   ]
  },
  {
   "cell_type": "code",
   "execution_count": 13,
   "id": "ce803b83-8425-4a45-976f-9641e615c78f",
   "metadata": {},
   "outputs": [],
   "source": [
    "def add_mp(data, window):\n",
    "    #Given 3d array, add matrix profile of (x,y,0) as new dimension; new array has dimensiosn (x,y,z+1) \n",
    "    mp_list=[]\n",
    "    for i in data[:,:,0]:\n",
    "        profile = mp.compute(i, window, n_jobs=4)['mp']\n",
    "        #we are padding the end of the sequence with the mean\n",
    "        #matrix profile is always 1 full window size smalelr than input data\n",
    "        mp_list.append(np.append(([mean(profile)]*(data.shape[1]-len(profile))),profile))\n",
    "        \n",
    "    #concatenate matrix profile data with original    \n",
    "    mp_array = np.array(mp_list).reshape(data.shape[0], data.shape[1])\n",
    "    std_array = ((mp_array-mean(mp_array))/np.std(mp_array)).reshape(data.shape[0], data.shape[1],1)\n",
    "    data = np.concatenate((data, std_array), axis=2)[:, window:, :]\n",
    "    \n",
    "    return data"
   ]
  },
  {
   "cell_type": "code",
   "execution_count": 14,
   "id": "8db1b93e-d9b2-436a-89de-a514649d19ad",
   "metadata": {},
   "outputs": [],
   "source": [
    "def madev(d, axis=None):\n",
    "    \"\"\" Mean absolute deviation of a signal \"\"\"\n",
    "    return np.mean(np.absolute(d - np.mean(d, axis)), axis)"
   ]
  },
  {
   "cell_type": "code",
   "execution_count": 15,
   "id": "cfec6ee1-1e73-439b-88f7-b6288abd3995",
   "metadata": {},
   "outputs": [],
   "source": [
    "def wavelet_denoising(x, wavelet='db4', level=2, tmod=1):\n",
    "    \n",
    "    coeff = pywt.wavedec(x, wavelet, mode=\"per\")\n",
    "    sigma = (1/tmod) * madev(coeff[-level])\n",
    "    uthresh = sigma * np.sqrt(3 * np.log(len(x)))\n",
    "    coeff[1:] = (pywt.threshold(i, value=uthresh, mode='hard') for i in coeff[1:])\n",
    "    return pywt.waverec(coeff, wavelet, mode='per')"
   ]
  },
  {
   "cell_type": "code",
   "execution_count": 16,
   "id": "013a8782-039b-4440-87fb-65a1f7e713c6",
   "metadata": {},
   "outputs": [],
   "source": [
    "def denoise_array(data, variable, wavelet, level, tmod):\n",
    "    denoised_examples=[]\n",
    "    for i in (data[:,:,variable]):\n",
    "        \n",
    "        denoised_examples.append(wavelet_denoising(i, wavelet=wavelet, level=level, tmod=tmod))\n",
    "        denoised_array= np.array(denoised_examples)\n",
    "        denoised_array= denoised_array.reshape(denoised_array.shape[0], denoised_array.shape[1], 1)\n",
    "    return np.concatenate((denoised_array, data[:,:,1:]),axis=2)"
   ]
  },
  {
   "cell_type": "markdown",
   "id": "8adc0895-9b3d-4195-a22a-99958f2b65c5",
   "metadata": {},
   "source": [
    "## Training loop: Hybrid+MP"
   ]
  },
  {
   "cell_type": "code",
   "execution_count": 19,
   "id": "d85f0a74-b6c8-4ba0-aca0-8b2774d56f21",
   "metadata": {
    "collapsed": true,
    "jupyter": {
     "outputs_hidden": true
    },
    "tags": []
   },
   "outputs": [
    {
     "name": "stderr",
     "output_type": "stream",
     "text": [
      "D:\\Anaconda\\lib\\site-packages\\pandas\\core\\frame.py:3678: SettingWithCopyWarning: \n",
      "A value is trying to be set on a copy of a slice from a DataFrame.\n",
      "Try using .loc[row_indexer,col_indexer] = value instead\n",
      "\n",
      "See the caveats in the documentation: https://pandas.pydata.org/pandas-docs/stable/user_guide/indexing.html#returning-a-view-versus-a-copy\n",
      "  self[col] = igetitem(value, i)\n"
     ]
    },
    {
     "name": "stdout",
     "output_type": "stream",
     "text": [
      "Epoch 1/15\n",
      "145/145 [==============================] - 11s 63ms/step - loss: 0.4031 - val_loss: 0.0629\n",
      "Epoch 2/15\n",
      "145/145 [==============================] - 8s 57ms/step - loss: 0.2943 - val_loss: 0.0470\n",
      "Epoch 3/15\n",
      "145/145 [==============================] - 8s 57ms/step - loss: 0.2660 - val_loss: 0.0384\n",
      "Epoch 4/15\n",
      "145/145 [==============================] - 8s 57ms/step - loss: 0.2456 - val_loss: 0.0340\n",
      "Epoch 5/15\n",
      "145/145 [==============================] - 8s 57ms/step - loss: 0.2293 - val_loss: 0.0325\n",
      "Epoch 6/15\n",
      "145/145 [==============================] - 8s 57ms/step - loss: 0.2142 - val_loss: 0.0317\n",
      "Epoch 7/15\n",
      "145/145 [==============================] - 8s 57ms/step - loss: 0.2124 - val_loss: 0.0318\n",
      "Epoch 8/15\n",
      "145/145 [==============================] - 8s 57ms/step - loss: 0.2029 - val_loss: 0.0312\n",
      "Epoch 9/15\n",
      "145/145 [==============================] - 8s 57ms/step - loss: 0.1986 - val_loss: 0.0316\n",
      "Epoch 10/15\n",
      "145/145 [==============================] - 8s 58ms/step - loss: 0.1899 - val_loss: 0.0353\n",
      "Epoch 11/15\n",
      "145/145 [==============================] - 8s 58ms/step - loss: 0.1900 - val_loss: 0.0367\n",
      "Epoch 12/15\n",
      "145/145 [==============================] - 8s 57ms/step - loss: 0.1906 - val_loss: 0.0362\n",
      "Epoch 13/15\n",
      "145/145 [==============================] - 8s 58ms/step - loss: 0.1863 - val_loss: 0.0341\n",
      "Epoch 14/15\n",
      "145/145 [==============================] - 8s 58ms/step - loss: 0.1858 - val_loss: 0.0375\n",
      "Epoch 15/15\n",
      "145/145 [==============================] - 8s 58ms/step - loss: 0.1840 - val_loss: 0.0346\n"
     ]
    },
    {
     "name": "stderr",
     "output_type": "stream",
     "text": [
      "WARNING:absl:Found untraced functions such as lstm_cell_1_layer_call_fn, lstm_cell_1_layer_call_and_return_conditional_losses while saving (showing 2 of 2). These functions will not be directly callable after loading.\n"
     ]
    },
    {
     "name": "stdout",
     "output_type": "stream",
     "text": [
      "INFO:tensorflow:Assets written to: Hybrid MP/month0_1_step_lookahead_Hybrid\\assets\n"
     ]
    },
    {
     "name": "stderr",
     "output_type": "stream",
     "text": [
      "INFO:tensorflow:Assets written to: Hybrid MP/month0_1_step_lookahead_Hybrid\\assets\n",
      "WARNING:absl:<keras.layers.recurrent.LSTMCell object at 0x000001F5BDC4A370> has the same name 'LSTMCell' as a built-in Keras object. Consider renaming <class 'keras.layers.recurrent.LSTMCell'> to avoid naming conflicts when loading with `tf.keras.models.load_model`. If renaming is not possible, pass the object in the `custom_objects` parameter of the load function.\n"
     ]
    },
    {
     "name": "stdout",
     "output_type": "stream",
     "text": [
      "145/145 [==============================] - 4s 23ms/step\n",
      "63/63 [==============================] - 1s 21ms/step\n"
     ]
    },
    {
     "name": "stderr",
     "output_type": "stream",
     "text": [
      "D:\\Anaconda\\lib\\site-packages\\pandas\\core\\frame.py:3678: SettingWithCopyWarning: \n",
      "A value is trying to be set on a copy of a slice from a DataFrame.\n",
      "Try using .loc[row_indexer,col_indexer] = value instead\n",
      "\n",
      "See the caveats in the documentation: https://pandas.pydata.org/pandas-docs/stable/user_guide/indexing.html#returning-a-view-versus-a-copy\n",
      "  self[col] = igetitem(value, i)\n"
     ]
    },
    {
     "name": "stdout",
     "output_type": "stream",
     "text": [
      "Epoch 1/15\n",
      "145/145 [==============================] - 12s 63ms/step - loss: 0.3644 - val_loss: 0.0760\n",
      "Epoch 2/15\n",
      "145/145 [==============================] - 8s 58ms/step - loss: 0.3283 - val_loss: 0.0649\n",
      "Epoch 3/15\n",
      "145/145 [==============================] - 9s 59ms/step - loss: 0.3111 - val_loss: 0.0529\n",
      "Epoch 4/15\n",
      "145/145 [==============================] - 8s 58ms/step - loss: 0.2991 - val_loss: 0.0503\n",
      "Epoch 5/15\n",
      "145/145 [==============================] - 8s 58ms/step - loss: 0.2888 - val_loss: 0.0543\n",
      "Epoch 6/15\n",
      "145/145 [==============================] - 8s 58ms/step - loss: 0.2834 - val_loss: 0.0552\n",
      "Epoch 7/15\n",
      "145/145 [==============================] - 8s 57ms/step - loss: 0.2774 - val_loss: 0.0571\n",
      "Epoch 8/15\n",
      "145/145 [==============================] - 8s 57ms/step - loss: 0.2719 - val_loss: 0.0641\n",
      "Epoch 9/15\n",
      "145/145 [==============================] - 8s 59ms/step - loss: 0.2733 - val_loss: 0.0695\n",
      "Epoch 10/15\n",
      "145/145 [==============================] - 8s 58ms/step - loss: 0.2684 - val_loss: 0.0625\n",
      "Epoch 11/15\n",
      "145/145 [==============================] - 8s 58ms/step - loss: 0.2625 - val_loss: 0.0598\n",
      "Epoch 12/15\n",
      "145/145 [==============================] - 8s 58ms/step - loss: 0.2607 - val_loss: 0.0590\n",
      "Epoch 13/15\n",
      "145/145 [==============================] - 8s 57ms/step - loss: 0.2636 - val_loss: 0.0597\n",
      "Epoch 14/15\n",
      "145/145 [==============================] - 8s 58ms/step - loss: 0.2542 - val_loss: 0.0617\n",
      "Epoch 15/15\n",
      "145/145 [==============================] - 9s 59ms/step - loss: 0.2520 - val_loss: 0.0554\n"
     ]
    },
    {
     "name": "stderr",
     "output_type": "stream",
     "text": [
      "WARNING:absl:Found untraced functions such as lstm_cell_2_layer_call_fn, lstm_cell_2_layer_call_and_return_conditional_losses while saving (showing 2 of 2). These functions will not be directly callable after loading.\n"
     ]
    },
    {
     "name": "stdout",
     "output_type": "stream",
     "text": [
      "INFO:tensorflow:Assets written to: Hybrid MP/month0_2_step_lookahead_Hybrid\\assets\n"
     ]
    },
    {
     "name": "stderr",
     "output_type": "stream",
     "text": [
      "INFO:tensorflow:Assets written to: Hybrid MP/month0_2_step_lookahead_Hybrid\\assets\n",
      "WARNING:absl:<keras.layers.recurrent.LSTMCell object at 0x000001F28ED99430> has the same name 'LSTMCell' as a built-in Keras object. Consider renaming <class 'keras.layers.recurrent.LSTMCell'> to avoid naming conflicts when loading with `tf.keras.models.load_model`. If renaming is not possible, pass the object in the `custom_objects` parameter of the load function.\n"
     ]
    },
    {
     "name": "stdout",
     "output_type": "stream",
     "text": [
      "145/145 [==============================] - 4s 24ms/step\n",
      "63/63 [==============================] - 1s 22ms/step\n"
     ]
    },
    {
     "name": "stderr",
     "output_type": "stream",
     "text": [
      "D:\\Anaconda\\lib\\site-packages\\pandas\\core\\frame.py:3678: SettingWithCopyWarning: \n",
      "A value is trying to be set on a copy of a slice from a DataFrame.\n",
      "Try using .loc[row_indexer,col_indexer] = value instead\n",
      "\n",
      "See the caveats in the documentation: https://pandas.pydata.org/pandas-docs/stable/user_guide/indexing.html#returning-a-view-versus-a-copy\n",
      "  self[col] = igetitem(value, i)\n"
     ]
    },
    {
     "name": "stdout",
     "output_type": "stream",
     "text": [
      "Epoch 1/15\n",
      "145/145 [==============================] - 11s 62ms/step - loss: 0.4369 - val_loss: 0.0586\n",
      "Epoch 2/15\n",
      "145/145 [==============================] - 8s 58ms/step - loss: 0.3589 - val_loss: 0.0711\n",
      "Epoch 3/15\n",
      "145/145 [==============================] - 8s 57ms/step - loss: 0.3387 - val_loss: 0.0535\n",
      "Epoch 4/15\n",
      "145/145 [==============================] - 8s 57ms/step - loss: 0.3293 - val_loss: 0.0590\n",
      "Epoch 5/15\n",
      "145/145 [==============================] - 8s 58ms/step - loss: 0.3240 - val_loss: 0.0882\n",
      "Epoch 6/15\n",
      "145/145 [==============================] - 8s 57ms/step - loss: 0.3155 - val_loss: 0.0582\n",
      "Epoch 7/15\n",
      "145/145 [==============================] - 8s 58ms/step - loss: 0.3133 - val_loss: 0.0734\n",
      "Epoch 8/15\n",
      "145/145 [==============================] - 8s 58ms/step - loss: 0.3064 - val_loss: 0.0869\n",
      "Epoch 9/15\n",
      "145/145 [==============================] - 8s 57ms/step - loss: 0.3028 - val_loss: 0.0712\n",
      "Epoch 10/15\n",
      "145/145 [==============================] - 8s 57ms/step - loss: 0.2958 - val_loss: 0.0994\n",
      "Epoch 11/15\n",
      "145/145 [==============================] - 8s 57ms/step - loss: 0.2913 - val_loss: 0.0625\n",
      "Epoch 12/15\n",
      "145/145 [==============================] - 8s 56ms/step - loss: 0.2842 - val_loss: 0.0735\n",
      "Epoch 13/15\n",
      "145/145 [==============================] - 8s 58ms/step - loss: 0.2826 - val_loss: 0.0865\n",
      "Epoch 14/15\n",
      "145/145 [==============================] - 8s 57ms/step - loss: 0.2776 - val_loss: 0.0967\n",
      "Epoch 15/15\n",
      "145/145 [==============================] - 8s 57ms/step - loss: 0.2752 - val_loss: 0.1018\n"
     ]
    },
    {
     "name": "stderr",
     "output_type": "stream",
     "text": [
      "WARNING:absl:Found untraced functions such as lstm_cell_3_layer_call_fn, lstm_cell_3_layer_call_and_return_conditional_losses while saving (showing 2 of 2). These functions will not be directly callable after loading.\n"
     ]
    },
    {
     "name": "stdout",
     "output_type": "stream",
     "text": [
      "INFO:tensorflow:Assets written to: Hybrid MP/month0_3_step_lookahead_Hybrid\\assets\n"
     ]
    },
    {
     "name": "stderr",
     "output_type": "stream",
     "text": [
      "INFO:tensorflow:Assets written to: Hybrid MP/month0_3_step_lookahead_Hybrid\\assets\n",
      "WARNING:absl:<keras.layers.recurrent.LSTMCell object at 0x000001F2F6798790> has the same name 'LSTMCell' as a built-in Keras object. Consider renaming <class 'keras.layers.recurrent.LSTMCell'> to avoid naming conflicts when loading with `tf.keras.models.load_model`. If renaming is not possible, pass the object in the `custom_objects` parameter of the load function.\n"
     ]
    },
    {
     "name": "stdout",
     "output_type": "stream",
     "text": [
      "145/145 [==============================] - 4s 22ms/step\n",
      "63/63 [==============================] - 1s 21ms/step\n"
     ]
    },
    {
     "name": "stderr",
     "output_type": "stream",
     "text": [
      "D:\\Anaconda\\lib\\site-packages\\pandas\\core\\frame.py:3678: SettingWithCopyWarning: \n",
      "A value is trying to be set on a copy of a slice from a DataFrame.\n",
      "Try using .loc[row_indexer,col_indexer] = value instead\n",
      "\n",
      "See the caveats in the documentation: https://pandas.pydata.org/pandas-docs/stable/user_guide/indexing.html#returning-a-view-versus-a-copy\n",
      "  self[col] = igetitem(value, i)\n"
     ]
    },
    {
     "name": "stdout",
     "output_type": "stream",
     "text": [
      "Epoch 1/15\n",
      "145/145 [==============================] - 11s 61ms/step - loss: 0.4276 - val_loss: 0.0544\n",
      "Epoch 2/15\n",
      "145/145 [==============================] - 8s 58ms/step - loss: 0.3722 - val_loss: 0.0536\n",
      "Epoch 3/15\n",
      "145/145 [==============================] - 8s 57ms/step - loss: 0.3586 - val_loss: 0.0576\n",
      "Epoch 4/15\n",
      "145/145 [==============================] - 8s 57ms/step - loss: 0.3487 - val_loss: 0.0639\n",
      "Epoch 5/15\n",
      "145/145 [==============================] - 8s 57ms/step - loss: 0.3433 - val_loss: 0.0552\n",
      "Epoch 6/15\n",
      "145/145 [==============================] - 8s 57ms/step - loss: 0.3352 - val_loss: 0.0658\n",
      "Epoch 7/15\n",
      "145/145 [==============================] - 8s 58ms/step - loss: 0.3309 - val_loss: 0.0631\n",
      "Epoch 8/15\n",
      "145/145 [==============================] - 8s 57ms/step - loss: 0.3233 - val_loss: 0.0619\n",
      "Epoch 9/15\n",
      "145/145 [==============================] - 8s 57ms/step - loss: 0.3205 - val_loss: 0.0663\n",
      "Epoch 10/15\n",
      "145/145 [==============================] - 8s 57ms/step - loss: 0.3146 - val_loss: 0.0744\n",
      "Epoch 11/15\n",
      "145/145 [==============================] - 8s 58ms/step - loss: 0.3138 - val_loss: 0.0797\n",
      "Epoch 12/15\n",
      "145/145 [==============================] - 8s 56ms/step - loss: 0.3092 - val_loss: 0.0721\n",
      "Epoch 13/15\n",
      "145/145 [==============================] - 8s 56ms/step - loss: 0.3043 - val_loss: 0.0642\n",
      "Epoch 14/15\n",
      "145/145 [==============================] - 8s 57ms/step - loss: 0.3024 - val_loss: 0.0554\n",
      "Epoch 15/15\n",
      "145/145 [==============================] - 8s 57ms/step - loss: 0.3000 - val_loss: 0.0617\n"
     ]
    },
    {
     "name": "stderr",
     "output_type": "stream",
     "text": [
      "WARNING:absl:Found untraced functions such as lstm_cell_4_layer_call_fn, lstm_cell_4_layer_call_and_return_conditional_losses while saving (showing 2 of 2). These functions will not be directly callable after loading.\n"
     ]
    },
    {
     "name": "stdout",
     "output_type": "stream",
     "text": [
      "INFO:tensorflow:Assets written to: Hybrid MP/month0_4_step_lookahead_Hybrid\\assets\n"
     ]
    },
    {
     "name": "stderr",
     "output_type": "stream",
     "text": [
      "INFO:tensorflow:Assets written to: Hybrid MP/month0_4_step_lookahead_Hybrid\\assets\n",
      "WARNING:absl:<keras.layers.recurrent.LSTMCell object at 0x000001F28C0D15E0> has the same name 'LSTMCell' as a built-in Keras object. Consider renaming <class 'keras.layers.recurrent.LSTMCell'> to avoid naming conflicts when loading with `tf.keras.models.load_model`. If renaming is not possible, pass the object in the `custom_objects` parameter of the load function.\n"
     ]
    },
    {
     "name": "stdout",
     "output_type": "stream",
     "text": [
      "145/145 [==============================] - 4s 23ms/step\n",
      "63/63 [==============================] - 1s 21ms/step\n"
     ]
    },
    {
     "name": "stderr",
     "output_type": "stream",
     "text": [
      "D:\\Anaconda\\lib\\site-packages\\pandas\\core\\frame.py:3678: SettingWithCopyWarning: \n",
      "A value is trying to be set on a copy of a slice from a DataFrame.\n",
      "Try using .loc[row_indexer,col_indexer] = value instead\n",
      "\n",
      "See the caveats in the documentation: https://pandas.pydata.org/pandas-docs/stable/user_guide/indexing.html#returning-a-view-versus-a-copy\n",
      "  self[col] = igetitem(value, i)\n"
     ]
    },
    {
     "name": "stdout",
     "output_type": "stream",
     "text": [
      "Epoch 1/15\n",
      "145/145 [==============================] - 11s 61ms/step - loss: 0.4207 - val_loss: 0.0692\n",
      "Epoch 2/15\n",
      "145/145 [==============================] - 8s 58ms/step - loss: 0.3770 - val_loss: 0.0868\n",
      "Epoch 3/15\n",
      "145/145 [==============================] - 8s 57ms/step - loss: 0.3651 - val_loss: 0.0656\n",
      "Epoch 4/15\n",
      "145/145 [==============================] - 8s 57ms/step - loss: 0.3555 - val_loss: 0.0648\n",
      "Epoch 5/15\n",
      "145/145 [==============================] - 8s 57ms/step - loss: 0.3489 - val_loss: 0.0739\n",
      "Epoch 6/15\n",
      "145/145 [==============================] - 8s 57ms/step - loss: 0.3422 - val_loss: 0.0681\n",
      "Epoch 7/15\n",
      "145/145 [==============================] - 8s 57ms/step - loss: 0.3357 - val_loss: 0.0648\n",
      "Epoch 8/15\n",
      "145/145 [==============================] - 8s 58ms/step - loss: 0.3301 - val_loss: 0.0693\n",
      "Epoch 9/15\n",
      "145/145 [==============================] - 8s 58ms/step - loss: 0.3230 - val_loss: 0.0635\n",
      "Epoch 10/15\n",
      "145/145 [==============================] - 8s 57ms/step - loss: 0.3172 - val_loss: 0.0673\n",
      "Epoch 11/15\n",
      "145/145 [==============================] - 8s 58ms/step - loss: 0.3097 - val_loss: 0.0671\n",
      "Epoch 12/15\n",
      "145/145 [==============================] - 9s 59ms/step - loss: 0.3062 - val_loss: 0.0756\n",
      "Epoch 13/15\n",
      "145/145 [==============================] - 8s 58ms/step - loss: 0.3017 - val_loss: 0.0754\n",
      "Epoch 14/15\n",
      "145/145 [==============================] - 8s 58ms/step - loss: 0.2994 - val_loss: 0.0745\n",
      "Epoch 15/15\n",
      "145/145 [==============================] - 8s 58ms/step - loss: 0.2908 - val_loss: 0.0878\n"
     ]
    },
    {
     "name": "stderr",
     "output_type": "stream",
     "text": [
      "WARNING:absl:Found untraced functions such as lstm_cell_5_layer_call_fn, lstm_cell_5_layer_call_and_return_conditional_losses while saving (showing 2 of 2). These functions will not be directly callable after loading.\n"
     ]
    },
    {
     "name": "stdout",
     "output_type": "stream",
     "text": [
      "INFO:tensorflow:Assets written to: Hybrid MP/month0_5_step_lookahead_Hybrid\\assets\n"
     ]
    },
    {
     "name": "stderr",
     "output_type": "stream",
     "text": [
      "INFO:tensorflow:Assets written to: Hybrid MP/month0_5_step_lookahead_Hybrid\\assets\n",
      "WARNING:absl:<keras.layers.recurrent.LSTMCell object at 0x000001F2A4750DF0> has the same name 'LSTMCell' as a built-in Keras object. Consider renaming <class 'keras.layers.recurrent.LSTMCell'> to avoid naming conflicts when loading with `tf.keras.models.load_model`. If renaming is not possible, pass the object in the `custom_objects` parameter of the load function.\n"
     ]
    },
    {
     "name": "stdout",
     "output_type": "stream",
     "text": [
      "145/145 [==============================] - 4s 23ms/step\n",
      "63/63 [==============================] - 1s 22ms/step\n"
     ]
    },
    {
     "name": "stderr",
     "output_type": "stream",
     "text": [
      "D:\\Anaconda\\lib\\site-packages\\pandas\\core\\frame.py:3678: SettingWithCopyWarning: \n",
      "A value is trying to be set on a copy of a slice from a DataFrame.\n",
      "Try using .loc[row_indexer,col_indexer] = value instead\n",
      "\n",
      "See the caveats in the documentation: https://pandas.pydata.org/pandas-docs/stable/user_guide/indexing.html#returning-a-view-versus-a-copy\n",
      "  self[col] = igetitem(value, i)\n"
     ]
    },
    {
     "name": "stdout",
     "output_type": "stream",
     "text": [
      "Epoch 1/15\n",
      "145/145 [==============================] - 11s 61ms/step - loss: 0.3876 - val_loss: 0.0667\n",
      "Epoch 2/15\n",
      "145/145 [==============================] - 8s 57ms/step - loss: 0.3599 - val_loss: 0.0596\n",
      "Epoch 3/15\n",
      "145/145 [==============================] - 8s 58ms/step - loss: 0.3548 - val_loss: 0.0582\n",
      "Epoch 4/15\n",
      "145/145 [==============================] - 8s 59ms/step - loss: 0.3481 - val_loss: 0.0581\n",
      "Epoch 5/15\n",
      "145/145 [==============================] - 9s 60ms/step - loss: 0.3439 - val_loss: 0.0565\n",
      "Epoch 6/15\n",
      "145/145 [==============================] - 9s 60ms/step - loss: 0.3402 - val_loss: 0.0580\n",
      "Epoch 7/15\n",
      "145/145 [==============================] - 8s 58ms/step - loss: 0.3361 - val_loss: 0.0600\n",
      "Epoch 8/15\n",
      "145/145 [==============================] - 8s 57ms/step - loss: 0.3319 - val_loss: 0.0617\n",
      "Epoch 9/15\n",
      "145/145 [==============================] - 8s 58ms/step - loss: 0.3292 - val_loss: 0.0588\n",
      "Epoch 10/15\n",
      "145/145 [==============================] - 8s 58ms/step - loss: 0.3271 - val_loss: 0.0588\n",
      "Epoch 11/15\n",
      "145/145 [==============================] - 8s 58ms/step - loss: 0.3219 - val_loss: 0.0581\n",
      "Epoch 12/15\n",
      "145/145 [==============================] - 8s 56ms/step - loss: 0.3189 - val_loss: 0.0633\n",
      "Epoch 13/15\n",
      "145/145 [==============================] - 8s 58ms/step - loss: 0.3184 - val_loss: 0.0607\n",
      "Epoch 14/15\n",
      "145/145 [==============================] - 8s 58ms/step - loss: 0.3177 - val_loss: 0.0664\n",
      "Epoch 15/15\n",
      "145/145 [==============================] - 8s 58ms/step - loss: 0.3119 - val_loss: 0.0675\n"
     ]
    },
    {
     "name": "stderr",
     "output_type": "stream",
     "text": [
      "WARNING:absl:Found untraced functions such as lstm_cell_6_layer_call_fn, lstm_cell_6_layer_call_and_return_conditional_losses while saving (showing 2 of 2). These functions will not be directly callable after loading.\n"
     ]
    },
    {
     "name": "stdout",
     "output_type": "stream",
     "text": [
      "INFO:tensorflow:Assets written to: Hybrid MP/month0_6_step_lookahead_Hybrid\\assets\n"
     ]
    },
    {
     "name": "stderr",
     "output_type": "stream",
     "text": [
      "INFO:tensorflow:Assets written to: Hybrid MP/month0_6_step_lookahead_Hybrid\\assets\n",
      "WARNING:absl:<keras.layers.recurrent.LSTMCell object at 0x000001F56A5C5940> has the same name 'LSTMCell' as a built-in Keras object. Consider renaming <class 'keras.layers.recurrent.LSTMCell'> to avoid naming conflicts when loading with `tf.keras.models.load_model`. If renaming is not possible, pass the object in the `custom_objects` parameter of the load function.\n"
     ]
    },
    {
     "name": "stdout",
     "output_type": "stream",
     "text": [
      "145/145 [==============================] - 4s 24ms/step\n",
      "63/63 [==============================] - 1s 22ms/step\n"
     ]
    },
    {
     "name": "stderr",
     "output_type": "stream",
     "text": [
      "D:\\Anaconda\\lib\\site-packages\\pandas\\core\\frame.py:3678: SettingWithCopyWarning: \n",
      "A value is trying to be set on a copy of a slice from a DataFrame.\n",
      "Try using .loc[row_indexer,col_indexer] = value instead\n",
      "\n",
      "See the caveats in the documentation: https://pandas.pydata.org/pandas-docs/stable/user_guide/indexing.html#returning-a-view-versus-a-copy\n",
      "  self[col] = igetitem(value, i)\n"
     ]
    },
    {
     "name": "stdout",
     "output_type": "stream",
     "text": [
      "Epoch 1/15\n",
      "145/145 [==============================] - 12s 62ms/step - loss: 0.4168 - val_loss: 0.0614\n",
      "Epoch 2/15\n",
      "145/145 [==============================] - 8s 58ms/step - loss: 0.3867 - val_loss: 0.0623\n",
      "Epoch 3/15\n",
      "145/145 [==============================] - 8s 57ms/step - loss: 0.3750 - val_loss: 0.0677\n",
      "Epoch 4/15\n",
      "145/145 [==============================] - 9s 59ms/step - loss: 0.3694 - val_loss: 0.0633\n",
      "Epoch 5/15\n",
      "145/145 [==============================] - 8s 58ms/step - loss: 0.3650 - val_loss: 0.0673\n",
      "Epoch 6/15\n",
      "145/145 [==============================] - 8s 57ms/step - loss: 0.3606 - val_loss: 0.0599\n",
      "Epoch 7/15\n",
      "145/145 [==============================] - 8s 58ms/step - loss: 0.3583 - val_loss: 0.0647\n",
      "Epoch 8/15\n",
      "145/145 [==============================] - 8s 58ms/step - loss: 0.3541 - val_loss: 0.0634\n",
      "Epoch 9/15\n",
      "145/145 [==============================] - 8s 57ms/step - loss: 0.3501 - val_loss: 0.0623\n",
      "Epoch 10/15\n",
      "145/145 [==============================] - 8s 57ms/step - loss: 0.3450 - val_loss: 0.0622\n",
      "Epoch 11/15\n",
      "145/145 [==============================] - 8s 57ms/step - loss: 0.3411 - val_loss: 0.0655\n",
      "Epoch 12/15\n",
      "145/145 [==============================] - 8s 57ms/step - loss: 0.3376 - val_loss: 0.0702\n",
      "Epoch 13/15\n",
      "145/145 [==============================] - 8s 58ms/step - loss: 0.3332 - val_loss: 0.0807\n",
      "Epoch 14/15\n",
      "145/145 [==============================] - 8s 58ms/step - loss: 0.3282 - val_loss: 0.1014\n",
      "Epoch 15/15\n",
      "145/145 [==============================] - 9s 59ms/step - loss: 0.3233 - val_loss: 0.0990\n"
     ]
    },
    {
     "name": "stderr",
     "output_type": "stream",
     "text": [
      "WARNING:absl:Found untraced functions such as lstm_cell_7_layer_call_fn, lstm_cell_7_layer_call_and_return_conditional_losses while saving (showing 2 of 2). These functions will not be directly callable after loading.\n"
     ]
    },
    {
     "name": "stdout",
     "output_type": "stream",
     "text": [
      "INFO:tensorflow:Assets written to: Hybrid MP/month0_7_step_lookahead_Hybrid\\assets\n"
     ]
    },
    {
     "name": "stderr",
     "output_type": "stream",
     "text": [
      "INFO:tensorflow:Assets written to: Hybrid MP/month0_7_step_lookahead_Hybrid\\assets\n",
      "WARNING:absl:<keras.layers.recurrent.LSTMCell object at 0x000001F569060760> has the same name 'LSTMCell' as a built-in Keras object. Consider renaming <class 'keras.layers.recurrent.LSTMCell'> to avoid naming conflicts when loading with `tf.keras.models.load_model`. If renaming is not possible, pass the object in the `custom_objects` parameter of the load function.\n"
     ]
    },
    {
     "name": "stdout",
     "output_type": "stream",
     "text": [
      "145/145 [==============================] - 4s 23ms/step\n",
      "63/63 [==============================] - 1s 20ms/step\n"
     ]
    },
    {
     "name": "stderr",
     "output_type": "stream",
     "text": [
      "D:\\Anaconda\\lib\\site-packages\\pandas\\core\\frame.py:3678: SettingWithCopyWarning: \n",
      "A value is trying to be set on a copy of a slice from a DataFrame.\n",
      "Try using .loc[row_indexer,col_indexer] = value instead\n",
      "\n",
      "See the caveats in the documentation: https://pandas.pydata.org/pandas-docs/stable/user_guide/indexing.html#returning-a-view-versus-a-copy\n",
      "  self[col] = igetitem(value, i)\n"
     ]
    },
    {
     "name": "stdout",
     "output_type": "stream",
     "text": [
      "Epoch 1/15\n",
      "145/145 [==============================] - 11s 65ms/step - loss: 0.4324 - val_loss: 0.0649\n",
      "Epoch 2/15\n",
      "145/145 [==============================] - 8s 57ms/step - loss: 0.3928 - val_loss: 0.0787\n",
      "Epoch 3/15\n",
      "145/145 [==============================] - 9s 59ms/step - loss: 0.3845 - val_loss: 0.0610\n",
      "Epoch 4/15\n",
      "145/145 [==============================] - 9s 60ms/step - loss: 0.3783 - val_loss: 0.0578\n",
      "Epoch 5/15\n",
      "145/145 [==============================] - 8s 57ms/step - loss: 0.3738 - val_loss: 0.0594\n",
      "Epoch 6/15\n",
      "145/145 [==============================] - 8s 57ms/step - loss: 0.3693 - val_loss: 0.0607\n",
      "Epoch 7/15\n",
      "145/145 [==============================] - 8s 57ms/step - loss: 0.3655 - val_loss: 0.0610\n",
      "Epoch 8/15\n",
      "145/145 [==============================] - 8s 57ms/step - loss: 0.3619 - val_loss: 0.0660\n",
      "Epoch 9/15\n",
      "145/145 [==============================] - 8s 57ms/step - loss: 0.3621 - val_loss: 0.0686\n",
      "Epoch 10/15\n",
      "145/145 [==============================] - 8s 58ms/step - loss: 0.3572 - val_loss: 0.0640\n",
      "Epoch 11/15\n",
      "145/145 [==============================] - 8s 57ms/step - loss: 0.3488 - val_loss: 0.0722\n",
      "Epoch 12/15\n",
      "145/145 [==============================] - 8s 57ms/step - loss: 0.3383 - val_loss: 0.0803\n",
      "Epoch 13/15\n",
      "145/145 [==============================] - 8s 57ms/step - loss: 0.3407 - val_loss: 0.0724\n",
      "Epoch 14/15\n",
      "145/145 [==============================] - 8s 56ms/step - loss: 0.3301 - val_loss: 0.0876\n",
      "Epoch 15/15\n",
      "145/145 [==============================] - 8s 57ms/step - loss: 0.3182 - val_loss: 0.1186\n"
     ]
    },
    {
     "name": "stderr",
     "output_type": "stream",
     "text": [
      "WARNING:absl:Found untraced functions such as lstm_cell_8_layer_call_fn, lstm_cell_8_layer_call_and_return_conditional_losses while saving (showing 2 of 2). These functions will not be directly callable after loading.\n"
     ]
    },
    {
     "name": "stdout",
     "output_type": "stream",
     "text": [
      "INFO:tensorflow:Assets written to: Hybrid MP/month0_8_step_lookahead_Hybrid\\assets\n"
     ]
    },
    {
     "name": "stderr",
     "output_type": "stream",
     "text": [
      "INFO:tensorflow:Assets written to: Hybrid MP/month0_8_step_lookahead_Hybrid\\assets\n",
      "WARNING:absl:<keras.layers.recurrent.LSTMCell object at 0x000001F5D1E2A580> has the same name 'LSTMCell' as a built-in Keras object. Consider renaming <class 'keras.layers.recurrent.LSTMCell'> to avoid naming conflicts when loading with `tf.keras.models.load_model`. If renaming is not possible, pass the object in the `custom_objects` parameter of the load function.\n"
     ]
    },
    {
     "name": "stdout",
     "output_type": "stream",
     "text": [
      "145/145 [==============================] - 4s 23ms/step\n",
      "63/63 [==============================] - 1s 22ms/step\n"
     ]
    },
    {
     "name": "stderr",
     "output_type": "stream",
     "text": [
      "D:\\Anaconda\\lib\\site-packages\\pandas\\core\\frame.py:3678: SettingWithCopyWarning: \n",
      "A value is trying to be set on a copy of a slice from a DataFrame.\n",
      "Try using .loc[row_indexer,col_indexer] = value instead\n",
      "\n",
      "See the caveats in the documentation: https://pandas.pydata.org/pandas-docs/stable/user_guide/indexing.html#returning-a-view-versus-a-copy\n",
      "  self[col] = igetitem(value, i)\n"
     ]
    },
    {
     "name": "stdout",
     "output_type": "stream",
     "text": [
      "Epoch 1/15\n",
      "145/145 [==============================] - 11s 62ms/step - loss: 0.4750 - val_loss: 0.0785\n",
      "Epoch 2/15\n",
      "145/145 [==============================] - 8s 57ms/step - loss: 0.4107 - val_loss: 0.0792\n",
      "Epoch 3/15\n",
      "145/145 [==============================] - 8s 58ms/step - loss: 0.3996 - val_loss: 0.0761\n",
      "Epoch 4/15\n",
      "145/145 [==============================] - 8s 57ms/step - loss: 0.3918 - val_loss: 0.0891\n",
      "Epoch 5/15\n",
      "145/145 [==============================] - 8s 58ms/step - loss: 0.3868 - val_loss: 0.1040\n",
      "Epoch 6/15\n",
      "145/145 [==============================] - 8s 57ms/step - loss: 0.3796 - val_loss: 0.0987\n",
      "Epoch 7/15\n",
      "145/145 [==============================] - 8s 56ms/step - loss: 0.3743 - val_loss: 0.1125\n",
      "Epoch 8/15\n",
      "145/145 [==============================] - 8s 57ms/step - loss: 0.3672 - val_loss: 0.1765\n",
      "Epoch 9/15\n",
      "145/145 [==============================] - 8s 58ms/step - loss: 0.3815 - val_loss: 0.1351\n",
      "Epoch 10/15\n",
      "145/145 [==============================] - 8s 58ms/step - loss: 0.3617 - val_loss: 0.1409\n",
      "Epoch 11/15\n",
      "145/145 [==============================] - 8s 57ms/step - loss: 0.3570 - val_loss: 0.1285\n",
      "Epoch 12/15\n",
      "145/145 [==============================] - 8s 58ms/step - loss: 0.3493 - val_loss: 0.1370\n",
      "Epoch 13/15\n",
      "145/145 [==============================] - 8s 58ms/step - loss: 0.3712 - val_loss: 0.1330\n",
      "Epoch 14/15\n",
      "145/145 [==============================] - 8s 58ms/step - loss: 0.3582 - val_loss: 0.1589\n",
      "Epoch 15/15\n",
      "145/145 [==============================] - 8s 58ms/step - loss: 0.3409 - val_loss: 0.1697\n"
     ]
    },
    {
     "name": "stderr",
     "output_type": "stream",
     "text": [
      "WARNING:absl:Found untraced functions such as lstm_cell_9_layer_call_fn, lstm_cell_9_layer_call_and_return_conditional_losses while saving (showing 2 of 2). These functions will not be directly callable after loading.\n"
     ]
    },
    {
     "name": "stdout",
     "output_type": "stream",
     "text": [
      "INFO:tensorflow:Assets written to: Hybrid MP/month0_9_step_lookahead_Hybrid\\assets\n"
     ]
    },
    {
     "name": "stderr",
     "output_type": "stream",
     "text": [
      "INFO:tensorflow:Assets written to: Hybrid MP/month0_9_step_lookahead_Hybrid\\assets\n",
      "WARNING:absl:<keras.layers.recurrent.LSTMCell object at 0x000001F5BDACCDF0> has the same name 'LSTMCell' as a built-in Keras object. Consider renaming <class 'keras.layers.recurrent.LSTMCell'> to avoid naming conflicts when loading with `tf.keras.models.load_model`. If renaming is not possible, pass the object in the `custom_objects` parameter of the load function.\n"
     ]
    },
    {
     "name": "stdout",
     "output_type": "stream",
     "text": [
      "145/145 [==============================] - 4s 23ms/step\n",
      "63/63 [==============================] - 1s 23ms/step\n"
     ]
    },
    {
     "name": "stderr",
     "output_type": "stream",
     "text": [
      "D:\\Anaconda\\lib\\site-packages\\pandas\\core\\frame.py:3678: SettingWithCopyWarning: \n",
      "A value is trying to be set on a copy of a slice from a DataFrame.\n",
      "Try using .loc[row_indexer,col_indexer] = value instead\n",
      "\n",
      "See the caveats in the documentation: https://pandas.pydata.org/pandas-docs/stable/user_guide/indexing.html#returning-a-view-versus-a-copy\n",
      "  self[col] = igetitem(value, i)\n"
     ]
    },
    {
     "name": "stdout",
     "output_type": "stream",
     "text": [
      "Epoch 1/15\n",
      "145/145 [==============================] - 11s 64ms/step - loss: 0.5454 - val_loss: 0.0739\n",
      "Epoch 2/15\n",
      "145/145 [==============================] - 8s 59ms/step - loss: 0.4235 - val_loss: 0.0715\n",
      "Epoch 3/15\n",
      "145/145 [==============================] - 8s 58ms/step - loss: 0.4124 - val_loss: 0.0771\n",
      "Epoch 4/15\n",
      "145/145 [==============================] - 8s 58ms/step - loss: 0.4049 - val_loss: 0.0830\n",
      "Epoch 5/15\n",
      "145/145 [==============================] - 9s 59ms/step - loss: 0.3980 - val_loss: 0.0867\n",
      "Epoch 6/15\n",
      "145/145 [==============================] - 8s 58ms/step - loss: 0.3938 - val_loss: 0.0713\n",
      "Epoch 7/15\n",
      "145/145 [==============================] - 8s 58ms/step - loss: 0.3897 - val_loss: 0.0777\n",
      "Epoch 8/15\n",
      "145/145 [==============================] - 8s 58ms/step - loss: 0.3867 - val_loss: 0.0683\n",
      "Epoch 9/15\n",
      "145/145 [==============================] - 8s 57ms/step - loss: 0.3843 - val_loss: 0.0684\n",
      "Epoch 10/15\n",
      "145/145 [==============================] - 8s 58ms/step - loss: 0.3806 - val_loss: 0.0705\n",
      "Epoch 11/15\n",
      "145/145 [==============================] - 8s 58ms/step - loss: 0.3826 - val_loss: 0.0641\n",
      "Epoch 12/15\n",
      "145/145 [==============================] - 8s 57ms/step - loss: 0.3795 - val_loss: 0.0722\n",
      "Epoch 13/15\n",
      "145/145 [==============================] - 8s 58ms/step - loss: 0.3777 - val_loss: 0.0601\n",
      "Epoch 14/15\n",
      "145/145 [==============================] - 8s 58ms/step - loss: 0.3774 - val_loss: 0.0642\n",
      "Epoch 15/15\n",
      "145/145 [==============================] - 8s 58ms/step - loss: 0.3756 - val_loss: 0.0604\n"
     ]
    },
    {
     "name": "stderr",
     "output_type": "stream",
     "text": [
      "WARNING:absl:Found untraced functions such as lstm_cell_10_layer_call_fn, lstm_cell_10_layer_call_and_return_conditional_losses while saving (showing 2 of 2). These functions will not be directly callable after loading.\n"
     ]
    },
    {
     "name": "stdout",
     "output_type": "stream",
     "text": [
      "INFO:tensorflow:Assets written to: Hybrid MP/month0_10_step_lookahead_Hybrid\\assets\n"
     ]
    },
    {
     "name": "stderr",
     "output_type": "stream",
     "text": [
      "INFO:tensorflow:Assets written to: Hybrid MP/month0_10_step_lookahead_Hybrid\\assets\n",
      "WARNING:absl:<keras.layers.recurrent.LSTMCell object at 0x000001F2A6273DC0> has the same name 'LSTMCell' as a built-in Keras object. Consider renaming <class 'keras.layers.recurrent.LSTMCell'> to avoid naming conflicts when loading with `tf.keras.models.load_model`. If renaming is not possible, pass the object in the `custom_objects` parameter of the load function.\n"
     ]
    },
    {
     "name": "stdout",
     "output_type": "stream",
     "text": [
      "145/145 [==============================] - 4s 23ms/step\n",
      "63/63 [==============================] - 1s 21ms/step\n"
     ]
    },
    {
     "name": "stderr",
     "output_type": "stream",
     "text": [
      "D:\\Anaconda\\lib\\site-packages\\pandas\\core\\frame.py:3678: SettingWithCopyWarning: \n",
      "A value is trying to be set on a copy of a slice from a DataFrame.\n",
      "Try using .loc[row_indexer,col_indexer] = value instead\n",
      "\n",
      "See the caveats in the documentation: https://pandas.pydata.org/pandas-docs/stable/user_guide/indexing.html#returning-a-view-versus-a-copy\n",
      "  self[col] = igetitem(value, i)\n",
      "D:\\Anaconda\\lib\\site-packages\\pandas\\core\\frame.py:3678: SettingWithCopyWarning: \n",
      "A value is trying to be set on a copy of a slice from a DataFrame.\n",
      "Try using .loc[row_indexer,col_indexer] = value instead\n",
      "\n",
      "See the caveats in the documentation: https://pandas.pydata.org/pandas-docs/stable/user_guide/indexing.html#returning-a-view-versus-a-copy\n",
      "  self[col] = igetitem(value, i)\n"
     ]
    },
    {
     "name": "stdout",
     "output_type": "stream",
     "text": [
      "Epoch 1/15\n",
      "152/152 [==============================] - 11s 61ms/step - loss: 0.5794 - val_loss: 0.4120\n",
      "Epoch 2/15\n",
      "152/152 [==============================] - 9s 58ms/step - loss: 0.3594 - val_loss: 0.3479\n",
      "Epoch 3/15\n",
      "152/152 [==============================] - 9s 57ms/step - loss: 0.3331 - val_loss: 0.3212\n",
      "Epoch 4/15\n",
      "152/152 [==============================] - 9s 58ms/step - loss: 0.3077 - val_loss: 0.2974\n",
      "Epoch 5/15\n",
      "152/152 [==============================] - 9s 57ms/step - loss: 0.2936 - val_loss: 0.2803\n",
      "Epoch 6/15\n",
      "152/152 [==============================] - 9s 58ms/step - loss: 0.2814 - val_loss: 0.2689\n",
      "Epoch 7/15\n",
      "152/152 [==============================] - 9s 57ms/step - loss: 0.2785 - val_loss: 0.2596\n",
      "Epoch 8/15\n",
      "152/152 [==============================] - 9s 58ms/step - loss: 0.2711 - val_loss: 0.2546\n",
      "Epoch 9/15\n",
      "152/152 [==============================] - 9s 57ms/step - loss: 0.2771 - val_loss: 0.2491\n",
      "Epoch 10/15\n",
      "152/152 [==============================] - 9s 57ms/step - loss: 0.2629 - val_loss: 0.2451\n",
      "Epoch 11/15\n",
      "152/152 [==============================] - 9s 58ms/step - loss: 0.2592 - val_loss: 0.2414\n",
      "Epoch 12/15\n",
      "152/152 [==============================] - 9s 57ms/step - loss: 0.2593 - val_loss: 0.2427\n",
      "Epoch 13/15\n",
      "152/152 [==============================] - 9s 58ms/step - loss: 0.2557 - val_loss: 0.2376\n",
      "Epoch 14/15\n",
      "152/152 [==============================] - 9s 58ms/step - loss: 0.2619 - val_loss: 0.2381\n",
      "Epoch 15/15\n",
      "152/152 [==============================] - 9s 57ms/step - loss: 0.2580 - val_loss: 0.2356\n"
     ]
    },
    {
     "name": "stderr",
     "output_type": "stream",
     "text": [
      "WARNING:absl:Found untraced functions such as lstm_cell_11_layer_call_fn, lstm_cell_11_layer_call_and_return_conditional_losses while saving (showing 2 of 2). These functions will not be directly callable after loading.\n"
     ]
    },
    {
     "name": "stdout",
     "output_type": "stream",
     "text": [
      "INFO:tensorflow:Assets written to: Hybrid MP/month1_1_step_lookahead_Hybrid\\assets\n"
     ]
    },
    {
     "name": "stderr",
     "output_type": "stream",
     "text": [
      "INFO:tensorflow:Assets written to: Hybrid MP/month1_1_step_lookahead_Hybrid\\assets\n",
      "WARNING:absl:<keras.layers.recurrent.LSTMCell object at 0x000001F2A4537220> has the same name 'LSTMCell' as a built-in Keras object. Consider renaming <class 'keras.layers.recurrent.LSTMCell'> to avoid naming conflicts when loading with `tf.keras.models.load_model`. If renaming is not possible, pass the object in the `custom_objects` parameter of the load function.\n"
     ]
    },
    {
     "name": "stdout",
     "output_type": "stream",
     "text": [
      "152/152 [==============================] - 4s 24ms/step\n",
      "65/65 [==============================] - 1s 22ms/step\n"
     ]
    },
    {
     "name": "stderr",
     "output_type": "stream",
     "text": [
      "D:\\Anaconda\\lib\\site-packages\\pandas\\core\\frame.py:3678: SettingWithCopyWarning: \n",
      "A value is trying to be set on a copy of a slice from a DataFrame.\n",
      "Try using .loc[row_indexer,col_indexer] = value instead\n",
      "\n",
      "See the caveats in the documentation: https://pandas.pydata.org/pandas-docs/stable/user_guide/indexing.html#returning-a-view-versus-a-copy\n",
      "  self[col] = igetitem(value, i)\n"
     ]
    },
    {
     "name": "stdout",
     "output_type": "stream",
     "text": [
      "Epoch 1/15\n",
      "152/152 [==============================] - 11s 62ms/step - loss: 0.5389 - val_loss: 0.4158\n",
      "Epoch 2/15\n",
      "152/152 [==============================] - 9s 57ms/step - loss: 0.4045 - val_loss: 0.3538\n",
      "Epoch 3/15\n",
      "152/152 [==============================] - 9s 58ms/step - loss: 0.3901 - val_loss: 0.3256\n",
      "Epoch 4/15\n",
      "152/152 [==============================] - 9s 57ms/step - loss: 0.3851 - val_loss: 0.3132\n",
      "Epoch 5/15\n",
      "152/152 [==============================] - 9s 58ms/step - loss: 0.3807 - val_loss: 0.3006\n",
      "Epoch 6/15\n",
      "152/152 [==============================] - 9s 57ms/step - loss: 0.3739 - val_loss: 0.2921\n",
      "Epoch 7/15\n",
      "152/152 [==============================] - 9s 58ms/step - loss: 0.3744 - val_loss: 0.2876\n",
      "Epoch 8/15\n",
      "152/152 [==============================] - 9s 57ms/step - loss: 0.3704 - val_loss: 0.2881\n",
      "Epoch 9/15\n",
      "152/152 [==============================] - 9s 57ms/step - loss: 0.3697 - val_loss: 0.2799\n",
      "Epoch 10/15\n",
      "152/152 [==============================] - 9s 58ms/step - loss: 0.3717 - val_loss: 0.2777\n",
      "Epoch 11/15\n",
      "152/152 [==============================] - 9s 58ms/step - loss: 0.3710 - val_loss: 0.2777\n",
      "Epoch 12/15\n",
      "152/152 [==============================] - 9s 58ms/step - loss: 0.3708 - val_loss: 0.2757\n",
      "Epoch 13/15\n",
      "152/152 [==============================] - 9s 57ms/step - loss: 0.3679 - val_loss: 0.2766\n",
      "Epoch 14/15\n",
      "152/152 [==============================] - 9s 58ms/step - loss: 0.3696 - val_loss: 0.2741\n",
      "Epoch 15/15\n",
      "152/152 [==============================] - 9s 57ms/step - loss: 0.3660 - val_loss: 0.2779\n"
     ]
    },
    {
     "name": "stderr",
     "output_type": "stream",
     "text": [
      "WARNING:absl:Found untraced functions such as lstm_cell_12_layer_call_fn, lstm_cell_12_layer_call_and_return_conditional_losses while saving (showing 2 of 2). These functions will not be directly callable after loading.\n"
     ]
    },
    {
     "name": "stdout",
     "output_type": "stream",
     "text": [
      "INFO:tensorflow:Assets written to: Hybrid MP/month1_2_step_lookahead_Hybrid\\assets\n"
     ]
    },
    {
     "name": "stderr",
     "output_type": "stream",
     "text": [
      "INFO:tensorflow:Assets written to: Hybrid MP/month1_2_step_lookahead_Hybrid\\assets\n",
      "WARNING:absl:<keras.layers.recurrent.LSTMCell object at 0x000001F56A9056A0> has the same name 'LSTMCell' as a built-in Keras object. Consider renaming <class 'keras.layers.recurrent.LSTMCell'> to avoid naming conflicts when loading with `tf.keras.models.load_model`. If renaming is not possible, pass the object in the `custom_objects` parameter of the load function.\n"
     ]
    },
    {
     "name": "stdout",
     "output_type": "stream",
     "text": [
      "152/152 [==============================] - 4s 24ms/step\n",
      "65/65 [==============================] - 2s 23ms/step\n"
     ]
    },
    {
     "name": "stderr",
     "output_type": "stream",
     "text": [
      "D:\\Anaconda\\lib\\site-packages\\pandas\\core\\frame.py:3678: SettingWithCopyWarning: \n",
      "A value is trying to be set on a copy of a slice from a DataFrame.\n",
      "Try using .loc[row_indexer,col_indexer] = value instead\n",
      "\n",
      "See the caveats in the documentation: https://pandas.pydata.org/pandas-docs/stable/user_guide/indexing.html#returning-a-view-versus-a-copy\n",
      "  self[col] = igetitem(value, i)\n"
     ]
    },
    {
     "name": "stdout",
     "output_type": "stream",
     "text": [
      "Epoch 1/15\n",
      "152/152 [==============================] - 11s 61ms/step - loss: 0.5889 - val_loss: 0.4600\n",
      "Epoch 2/15\n",
      "152/152 [==============================] - 9s 58ms/step - loss: 0.4355 - val_loss: 0.4198\n",
      "Epoch 3/15\n",
      "152/152 [==============================] - 9s 57ms/step - loss: 0.4277 - val_loss: 0.4065\n",
      "Epoch 4/15\n",
      "152/152 [==============================] - 9s 58ms/step - loss: 0.4231 - val_loss: 0.3988\n",
      "Epoch 5/15\n",
      "152/152 [==============================] - 9s 57ms/step - loss: 0.4196 - val_loss: 0.4082\n",
      "Epoch 6/15\n",
      "152/152 [==============================] - 9s 58ms/step - loss: 0.4170 - val_loss: 0.3926\n",
      "Epoch 7/15\n",
      "152/152 [==============================] - 9s 58ms/step - loss: 0.4206 - val_loss: 0.3901\n",
      "Epoch 8/15\n",
      "152/152 [==============================] - 9s 57ms/step - loss: 0.4171 - val_loss: 0.3963\n",
      "Epoch 9/15\n",
      "152/152 [==============================] - 9s 57ms/step - loss: 0.4174 - val_loss: 0.3904\n",
      "Epoch 10/15\n",
      "152/152 [==============================] - 9s 57ms/step - loss: 0.4120 - val_loss: 0.3921\n",
      "Epoch 11/15\n",
      "152/152 [==============================] - 9s 57ms/step - loss: 0.4105 - val_loss: 0.3895\n",
      "Epoch 12/15\n",
      "152/152 [==============================] - 9s 57ms/step - loss: 0.4107 - val_loss: 0.3948\n",
      "Epoch 13/15\n",
      "152/152 [==============================] - 9s 57ms/step - loss: 0.4077 - val_loss: 0.3881\n",
      "Epoch 14/15\n",
      "152/152 [==============================] - 9s 57ms/step - loss: 0.4071 - val_loss: 0.3924\n",
      "Epoch 15/15\n",
      "152/152 [==============================] - 9s 57ms/step - loss: 0.4098 - val_loss: 0.3950\n"
     ]
    },
    {
     "name": "stderr",
     "output_type": "stream",
     "text": [
      "WARNING:absl:Found untraced functions such as lstm_cell_13_layer_call_fn, lstm_cell_13_layer_call_and_return_conditional_losses while saving (showing 2 of 2). These functions will not be directly callable after loading.\n"
     ]
    },
    {
     "name": "stdout",
     "output_type": "stream",
     "text": [
      "INFO:tensorflow:Assets written to: Hybrid MP/month1_3_step_lookahead_Hybrid\\assets\n"
     ]
    },
    {
     "name": "stderr",
     "output_type": "stream",
     "text": [
      "INFO:tensorflow:Assets written to: Hybrid MP/month1_3_step_lookahead_Hybrid\\assets\n",
      "WARNING:absl:<keras.layers.recurrent.LSTMCell object at 0x000001F56A5FF640> has the same name 'LSTMCell' as a built-in Keras object. Consider renaming <class 'keras.layers.recurrent.LSTMCell'> to avoid naming conflicts when loading with `tf.keras.models.load_model`. If renaming is not possible, pass the object in the `custom_objects` parameter of the load function.\n"
     ]
    },
    {
     "name": "stdout",
     "output_type": "stream",
     "text": [
      "152/152 [==============================] - 4s 23ms/step\n",
      "65/65 [==============================] - 1s 22ms/step\n"
     ]
    },
    {
     "name": "stderr",
     "output_type": "stream",
     "text": [
      "D:\\Anaconda\\lib\\site-packages\\pandas\\core\\frame.py:3678: SettingWithCopyWarning: \n",
      "A value is trying to be set on a copy of a slice from a DataFrame.\n",
      "Try using .loc[row_indexer,col_indexer] = value instead\n",
      "\n",
      "See the caveats in the documentation: https://pandas.pydata.org/pandas-docs/stable/user_guide/indexing.html#returning-a-view-versus-a-copy\n",
      "  self[col] = igetitem(value, i)\n"
     ]
    },
    {
     "name": "stdout",
     "output_type": "stream",
     "text": [
      "Epoch 1/15\n",
      "152/152 [==============================] - 11s 61ms/step - loss: 0.5280 - val_loss: 0.4141\n",
      "Epoch 2/15\n",
      "152/152 [==============================] - 9s 56ms/step - loss: 0.4483 - val_loss: 0.4164\n",
      "Epoch 3/15\n",
      "152/152 [==============================] - 9s 57ms/step - loss: 0.4472 - val_loss: 0.4002\n",
      "Epoch 4/15\n",
      "152/152 [==============================] - 9s 57ms/step - loss: 0.4436 - val_loss: 0.4022\n",
      "Epoch 5/15\n",
      "152/152 [==============================] - 9s 57ms/step - loss: 0.4396 - val_loss: 0.3972\n",
      "Epoch 6/15\n",
      "152/152 [==============================] - 9s 57ms/step - loss: 0.4382 - val_loss: 0.3994\n",
      "Epoch 7/15\n",
      "152/152 [==============================] - 9s 58ms/step - loss: 0.4381 - val_loss: 0.3961\n",
      "Epoch 8/15\n",
      "152/152 [==============================] - 9s 57ms/step - loss: 0.4334 - val_loss: 0.3978\n",
      "Epoch 9/15\n",
      "152/152 [==============================] - 9s 58ms/step - loss: 0.4328 - val_loss: 0.4197\n",
      "Epoch 10/15\n",
      "152/152 [==============================] - 9s 58ms/step - loss: 0.4308 - val_loss: 0.4002\n",
      "Epoch 11/15\n",
      "152/152 [==============================] - 9s 57ms/step - loss: 0.4281 - val_loss: 0.4160\n",
      "Epoch 12/15\n",
      "152/152 [==============================] - 9s 57ms/step - loss: 0.4296 - val_loss: 0.3967\n",
      "Epoch 13/15\n",
      "152/152 [==============================] - 9s 56ms/step - loss: 0.4264 - val_loss: 0.4113\n",
      "Epoch 14/15\n",
      "152/152 [==============================] - 9s 58ms/step - loss: 0.4267 - val_loss: 0.4183\n",
      "Epoch 15/15\n",
      "152/152 [==============================] - 9s 57ms/step - loss: 0.4215 - val_loss: 0.4073\n"
     ]
    },
    {
     "name": "stderr",
     "output_type": "stream",
     "text": [
      "WARNING:absl:Found untraced functions such as lstm_cell_14_layer_call_fn, lstm_cell_14_layer_call_and_return_conditional_losses while saving (showing 2 of 2). These functions will not be directly callable after loading.\n"
     ]
    },
    {
     "name": "stdout",
     "output_type": "stream",
     "text": [
      "INFO:tensorflow:Assets written to: Hybrid MP/month1_4_step_lookahead_Hybrid\\assets\n"
     ]
    },
    {
     "name": "stderr",
     "output_type": "stream",
     "text": [
      "INFO:tensorflow:Assets written to: Hybrid MP/month1_4_step_lookahead_Hybrid\\assets\n",
      "WARNING:absl:<keras.layers.recurrent.LSTMCell object at 0x000001F56B81DD90> has the same name 'LSTMCell' as a built-in Keras object. Consider renaming <class 'keras.layers.recurrent.LSTMCell'> to avoid naming conflicts when loading with `tf.keras.models.load_model`. If renaming is not possible, pass the object in the `custom_objects` parameter of the load function.\n"
     ]
    },
    {
     "name": "stdout",
     "output_type": "stream",
     "text": [
      "152/152 [==============================] - 4s 24ms/step\n",
      "65/65 [==============================] - 1s 21ms/step\n"
     ]
    },
    {
     "name": "stderr",
     "output_type": "stream",
     "text": [
      "D:\\Anaconda\\lib\\site-packages\\pandas\\core\\frame.py:3678: SettingWithCopyWarning: \n",
      "A value is trying to be set on a copy of a slice from a DataFrame.\n",
      "Try using .loc[row_indexer,col_indexer] = value instead\n",
      "\n",
      "See the caveats in the documentation: https://pandas.pydata.org/pandas-docs/stable/user_guide/indexing.html#returning-a-view-versus-a-copy\n",
      "  self[col] = igetitem(value, i)\n"
     ]
    },
    {
     "name": "stdout",
     "output_type": "stream",
     "text": [
      "Epoch 1/15\n",
      "152/152 [==============================] - 11s 61ms/step - loss: 0.6705 - val_loss: 0.4647\n",
      "Epoch 2/15\n",
      "152/152 [==============================] - 9s 58ms/step - loss: 0.4742 - val_loss: 0.4347\n",
      "Epoch 3/15\n",
      "152/152 [==============================] - 9s 57ms/step - loss: 0.4645 - val_loss: 0.4234\n",
      "Epoch 4/15\n",
      "152/152 [==============================] - 9s 58ms/step - loss: 0.4629 - val_loss: 0.4215\n",
      "Epoch 5/15\n",
      "152/152 [==============================] - 9s 57ms/step - loss: 0.4583 - val_loss: 0.4185\n",
      "Epoch 6/15\n",
      "152/152 [==============================] - 9s 56ms/step - loss: 0.4565 - val_loss: 0.4218\n",
      "Epoch 7/15\n",
      "152/152 [==============================] - 9s 57ms/step - loss: 0.4514 - val_loss: 0.4481\n",
      "Epoch 8/15\n",
      "152/152 [==============================] - 9s 57ms/step - loss: 0.4478 - val_loss: 0.4241\n",
      "Epoch 9/15\n",
      "152/152 [==============================] - 9s 57ms/step - loss: 0.4474 - val_loss: 0.4604\n",
      "Epoch 10/15\n",
      "152/152 [==============================] - 9s 57ms/step - loss: 0.4421 - val_loss: 0.4392\n",
      "Epoch 11/15\n",
      "152/152 [==============================] - 9s 57ms/step - loss: 0.4353 - val_loss: 0.4512\n",
      "Epoch 12/15\n",
      "152/152 [==============================] - 9s 57ms/step - loss: 0.4337 - val_loss: 0.4392\n",
      "Epoch 13/15\n",
      "152/152 [==============================] - 9s 57ms/step - loss: 0.4317 - val_loss: 0.4481\n",
      "Epoch 14/15\n",
      "152/152 [==============================] - 9s 57ms/step - loss: 0.4287 - val_loss: 0.5201\n",
      "Epoch 15/15\n",
      "152/152 [==============================] - 9s 57ms/step - loss: 0.4411 - val_loss: 0.4731\n"
     ]
    },
    {
     "name": "stderr",
     "output_type": "stream",
     "text": [
      "WARNING:absl:Found untraced functions such as lstm_cell_15_layer_call_fn, lstm_cell_15_layer_call_and_return_conditional_losses while saving (showing 2 of 2). These functions will not be directly callable after loading.\n"
     ]
    },
    {
     "name": "stdout",
     "output_type": "stream",
     "text": [
      "INFO:tensorflow:Assets written to: Hybrid MP/month1_5_step_lookahead_Hybrid\\assets\n"
     ]
    },
    {
     "name": "stderr",
     "output_type": "stream",
     "text": [
      "INFO:tensorflow:Assets written to: Hybrid MP/month1_5_step_lookahead_Hybrid\\assets\n",
      "WARNING:absl:<keras.layers.recurrent.LSTMCell object at 0x000001F28E66EAC0> has the same name 'LSTMCell' as a built-in Keras object. Consider renaming <class 'keras.layers.recurrent.LSTMCell'> to avoid naming conflicts when loading with `tf.keras.models.load_model`. If renaming is not possible, pass the object in the `custom_objects` parameter of the load function.\n"
     ]
    },
    {
     "name": "stdout",
     "output_type": "stream",
     "text": [
      "152/152 [==============================] - 4s 24ms/step\n",
      "65/65 [==============================] - 1s 22ms/step\n"
     ]
    },
    {
     "name": "stderr",
     "output_type": "stream",
     "text": [
      "D:\\Anaconda\\lib\\site-packages\\pandas\\core\\frame.py:3678: SettingWithCopyWarning: \n",
      "A value is trying to be set on a copy of a slice from a DataFrame.\n",
      "Try using .loc[row_indexer,col_indexer] = value instead\n",
      "\n",
      "See the caveats in the documentation: https://pandas.pydata.org/pandas-docs/stable/user_guide/indexing.html#returning-a-view-versus-a-copy\n",
      "  self[col] = igetitem(value, i)\n"
     ]
    },
    {
     "name": "stdout",
     "output_type": "stream",
     "text": [
      "Epoch 1/15\n",
      "152/152 [==============================] - 12s 62ms/step - loss: 0.5667 - val_loss: 0.4555\n",
      "Epoch 2/15\n",
      "152/152 [==============================] - 9s 58ms/step - loss: 0.4796 - val_loss: 0.4260\n",
      "Epoch 3/15\n",
      "152/152 [==============================] - 9s 58ms/step - loss: 0.4718 - val_loss: 0.4242\n",
      "Epoch 4/15\n",
      "152/152 [==============================] - 9s 58ms/step - loss: 0.4718 - val_loss: 0.4232\n",
      "Epoch 5/15\n",
      "152/152 [==============================] - 9s 58ms/step - loss: 0.4699 - val_loss: 0.4215\n",
      "Epoch 6/15\n",
      "152/152 [==============================] - 9s 58ms/step - loss: 0.4670 - val_loss: 0.4195\n",
      "Epoch 7/15\n",
      "152/152 [==============================] - 9s 58ms/step - loss: 0.4669 - val_loss: 0.4178\n",
      "Epoch 8/15\n",
      "152/152 [==============================] - 9s 58ms/step - loss: 0.4681 - val_loss: 0.4170\n",
      "Epoch 9/15\n",
      "152/152 [==============================] - 9s 57ms/step - loss: 0.4646 - val_loss: 0.4120\n",
      "Epoch 10/15\n",
      "152/152 [==============================] - 9s 58ms/step - loss: 0.4637 - val_loss: 0.4129\n",
      "Epoch 11/15\n",
      "152/152 [==============================] - 9s 57ms/step - loss: 0.4642 - val_loss: 0.4128\n",
      "Epoch 12/15\n",
      "152/152 [==============================] - 9s 57ms/step - loss: 0.4634 - val_loss: 0.4114\n",
      "Epoch 13/15\n",
      "152/152 [==============================] - 9s 58ms/step - loss: 0.4600 - val_loss: 0.4158\n",
      "Epoch 14/15\n",
      "152/152 [==============================] - 9s 58ms/step - loss: 0.4616 - val_loss: 0.4147\n",
      "Epoch 15/15\n",
      "152/152 [==============================] - 9s 58ms/step - loss: 0.4555 - val_loss: 0.4318\n"
     ]
    },
    {
     "name": "stderr",
     "output_type": "stream",
     "text": [
      "WARNING:absl:Found untraced functions such as lstm_cell_16_layer_call_fn, lstm_cell_16_layer_call_and_return_conditional_losses while saving (showing 2 of 2). These functions will not be directly callable after loading.\n"
     ]
    },
    {
     "name": "stdout",
     "output_type": "stream",
     "text": [
      "INFO:tensorflow:Assets written to: Hybrid MP/month1_6_step_lookahead_Hybrid\\assets\n"
     ]
    },
    {
     "name": "stderr",
     "output_type": "stream",
     "text": [
      "INFO:tensorflow:Assets written to: Hybrid MP/month1_6_step_lookahead_Hybrid\\assets\n",
      "WARNING:absl:<keras.layers.recurrent.LSTMCell object at 0x000001F28F1A2790> has the same name 'LSTMCell' as a built-in Keras object. Consider renaming <class 'keras.layers.recurrent.LSTMCell'> to avoid naming conflicts when loading with `tf.keras.models.load_model`. If renaming is not possible, pass the object in the `custom_objects` parameter of the load function.\n"
     ]
    },
    {
     "name": "stdout",
     "output_type": "stream",
     "text": [
      "152/152 [==============================] - 4s 23ms/step\n",
      "65/65 [==============================] - 1s 21ms/step\n"
     ]
    },
    {
     "name": "stderr",
     "output_type": "stream",
     "text": [
      "D:\\Anaconda\\lib\\site-packages\\pandas\\core\\frame.py:3678: SettingWithCopyWarning: \n",
      "A value is trying to be set on a copy of a slice from a DataFrame.\n",
      "Try using .loc[row_indexer,col_indexer] = value instead\n",
      "\n",
      "See the caveats in the documentation: https://pandas.pydata.org/pandas-docs/stable/user_guide/indexing.html#returning-a-view-versus-a-copy\n",
      "  self[col] = igetitem(value, i)\n"
     ]
    },
    {
     "name": "stdout",
     "output_type": "stream",
     "text": [
      "Epoch 1/15\n",
      "152/152 [==============================] - 12s 62ms/step - loss: 0.8654 - val_loss: 0.5237\n",
      "Epoch 2/15\n",
      "152/152 [==============================] - 9s 58ms/step - loss: 0.4944 - val_loss: 0.4859\n",
      "Epoch 3/15\n",
      "152/152 [==============================] - 9s 58ms/step - loss: 0.4890 - val_loss: 0.4721\n",
      "Epoch 4/15\n",
      "152/152 [==============================] - 9s 57ms/step - loss: 0.4846 - val_loss: 0.4668\n",
      "Epoch 5/15\n",
      "152/152 [==============================] - 9s 56ms/step - loss: 0.4808 - val_loss: 0.4777\n",
      "Epoch 6/15\n",
      "152/152 [==============================] - 9s 57ms/step - loss: 0.4808 - val_loss: 0.4623\n",
      "Epoch 7/15\n",
      "152/152 [==============================] - 9s 57ms/step - loss: 0.4769 - val_loss: 0.4642\n",
      "Epoch 8/15\n",
      "152/152 [==============================] - 9s 57ms/step - loss: 0.4746 - val_loss: 0.4568\n",
      "Epoch 9/15\n",
      "152/152 [==============================] - 9s 56ms/step - loss: 0.4723 - val_loss: 0.4608\n",
      "Epoch 10/15\n",
      "152/152 [==============================] - 9s 57ms/step - loss: 0.4683 - val_loss: 0.4861\n",
      "Epoch 11/15\n",
      "152/152 [==============================] - 9s 56ms/step - loss: 0.4696 - val_loss: 0.5018\n",
      "Epoch 12/15\n",
      "152/152 [==============================] - 9s 56ms/step - loss: 0.4661 - val_loss: 0.4936\n",
      "Epoch 13/15\n",
      "152/152 [==============================] - 9s 57ms/step - loss: 0.4627 - val_loss: 0.4794\n",
      "Epoch 14/15\n",
      "152/152 [==============================] - 9s 56ms/step - loss: 0.4597 - val_loss: 0.4723\n",
      "Epoch 15/15\n",
      "152/152 [==============================] - 9s 57ms/step - loss: 0.4544 - val_loss: 0.5141\n"
     ]
    },
    {
     "name": "stderr",
     "output_type": "stream",
     "text": [
      "WARNING:absl:Found untraced functions such as lstm_cell_17_layer_call_fn, lstm_cell_17_layer_call_and_return_conditional_losses while saving (showing 2 of 2). These functions will not be directly callable after loading.\n"
     ]
    },
    {
     "name": "stdout",
     "output_type": "stream",
     "text": [
      "INFO:tensorflow:Assets written to: Hybrid MP/month1_7_step_lookahead_Hybrid\\assets\n"
     ]
    },
    {
     "name": "stderr",
     "output_type": "stream",
     "text": [
      "INFO:tensorflow:Assets written to: Hybrid MP/month1_7_step_lookahead_Hybrid\\assets\n",
      "WARNING:absl:<keras.layers.recurrent.LSTMCell object at 0x000001F2A4517430> has the same name 'LSTMCell' as a built-in Keras object. Consider renaming <class 'keras.layers.recurrent.LSTMCell'> to avoid naming conflicts when loading with `tf.keras.models.load_model`. If renaming is not possible, pass the object in the `custom_objects` parameter of the load function.\n"
     ]
    },
    {
     "name": "stdout",
     "output_type": "stream",
     "text": [
      "152/152 [==============================] - 4s 23ms/step\n",
      "65/65 [==============================] - 1s 22ms/step\n"
     ]
    },
    {
     "name": "stderr",
     "output_type": "stream",
     "text": [
      "D:\\Anaconda\\lib\\site-packages\\pandas\\core\\frame.py:3678: SettingWithCopyWarning: \n",
      "A value is trying to be set on a copy of a slice from a DataFrame.\n",
      "Try using .loc[row_indexer,col_indexer] = value instead\n",
      "\n",
      "See the caveats in the documentation: https://pandas.pydata.org/pandas-docs/stable/user_guide/indexing.html#returning-a-view-versus-a-copy\n",
      "  self[col] = igetitem(value, i)\n"
     ]
    },
    {
     "name": "stdout",
     "output_type": "stream",
     "text": [
      "Epoch 1/15\n",
      "152/152 [==============================] - 11s 61ms/step - loss: 0.6317 - val_loss: 0.4788\n",
      "Epoch 2/15\n",
      "152/152 [==============================] - 9s 57ms/step - loss: 0.4895 - val_loss: 0.4700\n",
      "Epoch 3/15\n",
      "152/152 [==============================] - 9s 56ms/step - loss: 0.4897 - val_loss: 0.4658\n",
      "Epoch 4/15\n",
      "152/152 [==============================] - 9s 56ms/step - loss: 0.4853 - val_loss: 0.4587\n",
      "Epoch 5/15\n",
      "152/152 [==============================] - 9s 56ms/step - loss: 0.4844 - val_loss: 0.4613\n",
      "Epoch 6/15\n",
      "152/152 [==============================] - 9s 56ms/step - loss: 0.4836 - val_loss: 0.4566\n",
      "Epoch 7/15\n",
      "152/152 [==============================] - 9s 56ms/step - loss: 0.4814 - val_loss: 0.4556\n",
      "Epoch 8/15\n",
      "152/152 [==============================] - 9s 56ms/step - loss: 0.4778 - val_loss: 0.4597\n",
      "Epoch 9/15\n",
      "152/152 [==============================] - 9s 56ms/step - loss: 0.4736 - val_loss: 0.4898\n",
      "Epoch 10/15\n",
      "152/152 [==============================] - 9s 57ms/step - loss: 0.4726 - val_loss: 0.4757\n",
      "Epoch 11/15\n",
      "152/152 [==============================] - 9s 57ms/step - loss: 0.4612 - val_loss: 0.4859\n",
      "Epoch 12/15\n",
      "152/152 [==============================] - 9s 56ms/step - loss: 0.4616 - val_loss: 0.5018\n",
      "Epoch 13/15\n",
      "152/152 [==============================] - 9s 56ms/step - loss: 0.4573 - val_loss: 0.4599\n",
      "Epoch 14/15\n",
      "152/152 [==============================] - 9s 57ms/step - loss: 0.4549 - val_loss: 0.4774\n",
      "Epoch 15/15\n",
      "152/152 [==============================] - 9s 56ms/step - loss: 0.4617 - val_loss: 0.5280\n"
     ]
    },
    {
     "name": "stderr",
     "output_type": "stream",
     "text": [
      "WARNING:absl:Found untraced functions such as lstm_cell_18_layer_call_fn, lstm_cell_18_layer_call_and_return_conditional_losses while saving (showing 2 of 2). These functions will not be directly callable after loading.\n"
     ]
    },
    {
     "name": "stdout",
     "output_type": "stream",
     "text": [
      "INFO:tensorflow:Assets written to: Hybrid MP/month1_8_step_lookahead_Hybrid\\assets\n"
     ]
    },
    {
     "name": "stderr",
     "output_type": "stream",
     "text": [
      "INFO:tensorflow:Assets written to: Hybrid MP/month1_8_step_lookahead_Hybrid\\assets\n",
      "WARNING:absl:<keras.layers.recurrent.LSTMCell object at 0x000001F28834A7C0> has the same name 'LSTMCell' as a built-in Keras object. Consider renaming <class 'keras.layers.recurrent.LSTMCell'> to avoid naming conflicts when loading with `tf.keras.models.load_model`. If renaming is not possible, pass the object in the `custom_objects` parameter of the load function.\n"
     ]
    },
    {
     "name": "stdout",
     "output_type": "stream",
     "text": [
      "152/152 [==============================] - 4s 23ms/step\n",
      "65/65 [==============================] - 1s 21ms/step\n"
     ]
    },
    {
     "name": "stderr",
     "output_type": "stream",
     "text": [
      "D:\\Anaconda\\lib\\site-packages\\pandas\\core\\frame.py:3678: SettingWithCopyWarning: \n",
      "A value is trying to be set on a copy of a slice from a DataFrame.\n",
      "Try using .loc[row_indexer,col_indexer] = value instead\n",
      "\n",
      "See the caveats in the documentation: https://pandas.pydata.org/pandas-docs/stable/user_guide/indexing.html#returning-a-view-versus-a-copy\n",
      "  self[col] = igetitem(value, i)\n"
     ]
    },
    {
     "name": "stdout",
     "output_type": "stream",
     "text": [
      "Epoch 1/15\n",
      "151/151 [==============================] - 11s 60ms/step - loss: 0.6820 - val_loss: 0.4949\n",
      "Epoch 2/15\n",
      "151/151 [==============================] - 9s 57ms/step - loss: 0.5003 - val_loss: 0.4729\n",
      "Epoch 3/15\n",
      "151/151 [==============================] - 9s 57ms/step - loss: 0.4932 - val_loss: 0.4660\n",
      "Epoch 4/15\n",
      "151/151 [==============================] - 9s 57ms/step - loss: 0.4911 - val_loss: 0.4597\n",
      "Epoch 5/15\n",
      "151/151 [==============================] - 8s 56ms/step - loss: 0.4871 - val_loss: 0.4726\n",
      "Epoch 6/15\n",
      "151/151 [==============================] - 8s 56ms/step - loss: 0.4877 - val_loss: 0.4534\n",
      "Epoch 7/15\n",
      "151/151 [==============================] - 9s 56ms/step - loss: 0.4854 - val_loss: 0.4613\n",
      "Epoch 8/15\n",
      "151/151 [==============================] - 8s 56ms/step - loss: 0.4808 - val_loss: 0.4571\n",
      "Epoch 9/15\n",
      "151/151 [==============================] - 8s 55ms/step - loss: 0.4769 - val_loss: 0.4556\n",
      "Epoch 10/15\n",
      "151/151 [==============================] - 8s 56ms/step - loss: 0.4707 - val_loss: 0.4698\n",
      "Epoch 11/15\n",
      "151/151 [==============================] - 8s 56ms/step - loss: 0.4706 - val_loss: 0.4745\n",
      "Epoch 12/15\n",
      "151/151 [==============================] - 8s 56ms/step - loss: 0.4623 - val_loss: 0.4683\n",
      "Epoch 13/15\n",
      "151/151 [==============================] - 8s 56ms/step - loss: 0.4585 - val_loss: 0.4690\n",
      "Epoch 14/15\n",
      "151/151 [==============================] - 8s 55ms/step - loss: 0.4582 - val_loss: 0.4801\n",
      "Epoch 15/15\n",
      "151/151 [==============================] - 9s 56ms/step - loss: 0.4558 - val_loss: 0.4862\n"
     ]
    },
    {
     "name": "stderr",
     "output_type": "stream",
     "text": [
      "WARNING:absl:Found untraced functions such as lstm_cell_19_layer_call_fn, lstm_cell_19_layer_call_and_return_conditional_losses while saving (showing 2 of 2). These functions will not be directly callable after loading.\n"
     ]
    },
    {
     "name": "stdout",
     "output_type": "stream",
     "text": [
      "INFO:tensorflow:Assets written to: Hybrid MP/month1_9_step_lookahead_Hybrid\\assets\n"
     ]
    },
    {
     "name": "stderr",
     "output_type": "stream",
     "text": [
      "INFO:tensorflow:Assets written to: Hybrid MP/month1_9_step_lookahead_Hybrid\\assets\n",
      "WARNING:absl:<keras.layers.recurrent.LSTMCell object at 0x000001F28F5F5EB0> has the same name 'LSTMCell' as a built-in Keras object. Consider renaming <class 'keras.layers.recurrent.LSTMCell'> to avoid naming conflicts when loading with `tf.keras.models.load_model`. If renaming is not possible, pass the object in the `custom_objects` parameter of the load function.\n"
     ]
    },
    {
     "name": "stdout",
     "output_type": "stream",
     "text": [
      "151/151 [==============================] - 4s 22ms/step\n",
      "65/65 [==============================] - 2s 22ms/step\n"
     ]
    },
    {
     "name": "stderr",
     "output_type": "stream",
     "text": [
      "D:\\Anaconda\\lib\\site-packages\\pandas\\core\\frame.py:3678: SettingWithCopyWarning: \n",
      "A value is trying to be set on a copy of a slice from a DataFrame.\n",
      "Try using .loc[row_indexer,col_indexer] = value instead\n",
      "\n",
      "See the caveats in the documentation: https://pandas.pydata.org/pandas-docs/stable/user_guide/indexing.html#returning-a-view-versus-a-copy\n",
      "  self[col] = igetitem(value, i)\n"
     ]
    },
    {
     "name": "stdout",
     "output_type": "stream",
     "text": [
      "Epoch 1/15\n",
      "151/151 [==============================] - 11s 61ms/step - loss: 0.6780 - val_loss: 0.5101\n",
      "Epoch 2/15\n",
      "151/151 [==============================] - 8s 56ms/step - loss: 0.5085 - val_loss: 0.4934\n",
      "Epoch 3/15\n",
      "151/151 [==============================] - 8s 56ms/step - loss: 0.5016 - val_loss: 0.5133\n",
      "Epoch 4/15\n",
      "151/151 [==============================] - 8s 55ms/step - loss: 0.4991 - val_loss: 0.4871\n",
      "Epoch 5/15\n",
      "151/151 [==============================] - 9s 57ms/step - loss: 0.4956 - val_loss: 0.4860\n",
      "Epoch 6/15\n",
      "151/151 [==============================] - 9s 57ms/step - loss: 0.4964 - val_loss: 0.4844\n",
      "Epoch 7/15\n",
      "151/151 [==============================] - 9s 57ms/step - loss: 0.4938 - val_loss: 0.4831\n",
      "Epoch 8/15\n",
      "151/151 [==============================] - 8s 56ms/step - loss: 0.4933 - val_loss: 0.4821\n",
      "Epoch 9/15\n",
      "151/151 [==============================] - 8s 56ms/step - loss: 0.4900 - val_loss: 0.4905\n",
      "Epoch 10/15\n",
      "151/151 [==============================] - 8s 56ms/step - loss: 0.4877 - val_loss: 0.4832\n",
      "Epoch 11/15\n",
      "151/151 [==============================] - 8s 56ms/step - loss: 0.4859 - val_loss: 0.4822\n",
      "Epoch 12/15\n",
      "151/151 [==============================] - 9s 56ms/step - loss: 0.4845 - val_loss: 0.4801\n",
      "Epoch 13/15\n",
      "151/151 [==============================] - 9s 57ms/step - loss: 0.4784 - val_loss: 0.4747\n",
      "Epoch 14/15\n",
      "151/151 [==============================] - 9s 57ms/step - loss: 0.4796 - val_loss: 0.4945\n",
      "Epoch 15/15\n",
      "151/151 [==============================] - 9s 56ms/step - loss: 0.4748 - val_loss: 0.4812\n"
     ]
    },
    {
     "name": "stderr",
     "output_type": "stream",
     "text": [
      "WARNING:absl:Found untraced functions such as lstm_cell_20_layer_call_fn, lstm_cell_20_layer_call_and_return_conditional_losses while saving (showing 2 of 2). These functions will not be directly callable after loading.\n"
     ]
    },
    {
     "name": "stdout",
     "output_type": "stream",
     "text": [
      "INFO:tensorflow:Assets written to: Hybrid MP/month1_10_step_lookahead_Hybrid\\assets\n"
     ]
    },
    {
     "name": "stderr",
     "output_type": "stream",
     "text": [
      "INFO:tensorflow:Assets written to: Hybrid MP/month1_10_step_lookahead_Hybrid\\assets\n",
      "WARNING:absl:<keras.layers.recurrent.LSTMCell object at 0x000001F28F2C1FA0> has the same name 'LSTMCell' as a built-in Keras object. Consider renaming <class 'keras.layers.recurrent.LSTMCell'> to avoid naming conflicts when loading with `tf.keras.models.load_model`. If renaming is not possible, pass the object in the `custom_objects` parameter of the load function.\n"
     ]
    },
    {
     "name": "stdout",
     "output_type": "stream",
     "text": [
      "151/151 [==============================] - 4s 23ms/step\n",
      "65/65 [==============================] - 2s 22ms/step\n"
     ]
    },
    {
     "name": "stderr",
     "output_type": "stream",
     "text": [
      "D:\\Anaconda\\lib\\site-packages\\pandas\\core\\frame.py:3678: SettingWithCopyWarning: \n",
      "A value is trying to be set on a copy of a slice from a DataFrame.\n",
      "Try using .loc[row_indexer,col_indexer] = value instead\n",
      "\n",
      "See the caveats in the documentation: https://pandas.pydata.org/pandas-docs/stable/user_guide/indexing.html#returning-a-view-versus-a-copy\n",
      "  self[col] = igetitem(value, i)\n",
      "D:\\Anaconda\\lib\\site-packages\\pandas\\core\\frame.py:3678: SettingWithCopyWarning: \n",
      "A value is trying to be set on a copy of a slice from a DataFrame.\n",
      "Try using .loc[row_indexer,col_indexer] = value instead\n",
      "\n",
      "See the caveats in the documentation: https://pandas.pydata.org/pandas-docs/stable/user_guide/indexing.html#returning-a-view-versus-a-copy\n",
      "  self[col] = igetitem(value, i)\n"
     ]
    },
    {
     "name": "stdout",
     "output_type": "stream",
     "text": [
      "Epoch 1/15\n",
      "145/145 [==============================] - 11s 62ms/step - loss: 1.3898 - val_loss: 0.3019\n",
      "Epoch 2/15\n",
      "145/145 [==============================] - 8s 58ms/step - loss: 1.3391 - val_loss: 0.2800\n",
      "Epoch 3/15\n",
      "145/145 [==============================] - 8s 57ms/step - loss: 1.3303 - val_loss: 0.2676\n",
      "Epoch 4/15\n",
      "145/145 [==============================] - 8s 57ms/step - loss: 1.3238 - val_loss: 0.2581\n",
      "Epoch 5/15\n",
      "145/145 [==============================] - 8s 58ms/step - loss: 1.3187 - val_loss: 0.2559\n",
      "Epoch 6/15\n",
      "145/145 [==============================] - 8s 58ms/step - loss: 1.3161 - val_loss: 0.2499\n",
      "Epoch 7/15\n",
      "145/145 [==============================] - 8s 58ms/step - loss: 1.3118 - val_loss: 0.2434\n",
      "Epoch 8/15\n",
      "145/145 [==============================] - 8s 57ms/step - loss: 1.3095 - val_loss: 0.2443\n",
      "Epoch 9/15\n",
      "145/145 [==============================] - 8s 58ms/step - loss: 1.3071 - val_loss: 0.2431\n",
      "Epoch 10/15\n",
      "145/145 [==============================] - 8s 57ms/step - loss: 1.3046 - val_loss: 0.2381\n",
      "Epoch 11/15\n",
      "145/145 [==============================] - 8s 57ms/step - loss: 1.3029 - val_loss: 0.2383\n",
      "Epoch 12/15\n",
      "145/145 [==============================] - 8s 57ms/step - loss: 1.3008 - val_loss: 0.2395\n",
      "Epoch 13/15\n",
      "145/145 [==============================] - 8s 57ms/step - loss: 1.3005 - val_loss: 0.2379\n",
      "Epoch 14/15\n",
      "145/145 [==============================] - 8s 58ms/step - loss: 1.2997 - val_loss: 0.2359\n",
      "Epoch 15/15\n",
      "145/145 [==============================] - 8s 57ms/step - loss: 1.2990 - val_loss: 0.2357\n"
     ]
    },
    {
     "name": "stderr",
     "output_type": "stream",
     "text": [
      "WARNING:absl:Found untraced functions such as lstm_cell_21_layer_call_fn, lstm_cell_21_layer_call_and_return_conditional_losses while saving (showing 2 of 2). These functions will not be directly callable after loading.\n"
     ]
    },
    {
     "name": "stdout",
     "output_type": "stream",
     "text": [
      "INFO:tensorflow:Assets written to: Hybrid MP/month2_1_step_lookahead_Hybrid\\assets\n"
     ]
    },
    {
     "name": "stderr",
     "output_type": "stream",
     "text": [
      "INFO:tensorflow:Assets written to: Hybrid MP/month2_1_step_lookahead_Hybrid\\assets\n",
      "WARNING:absl:<keras.layers.recurrent.LSTMCell object at 0x000001F28F1F0190> has the same name 'LSTMCell' as a built-in Keras object. Consider renaming <class 'keras.layers.recurrent.LSTMCell'> to avoid naming conflicts when loading with `tf.keras.models.load_model`. If renaming is not possible, pass the object in the `custom_objects` parameter of the load function.\n"
     ]
    },
    {
     "name": "stdout",
     "output_type": "stream",
     "text": [
      "145/145 [==============================] - 4s 23ms/step\n",
      "63/63 [==============================] - 1s 22ms/step\n"
     ]
    },
    {
     "name": "stderr",
     "output_type": "stream",
     "text": [
      "D:\\Anaconda\\lib\\site-packages\\pandas\\core\\frame.py:3678: SettingWithCopyWarning: \n",
      "A value is trying to be set on a copy of a slice from a DataFrame.\n",
      "Try using .loc[row_indexer,col_indexer] = value instead\n",
      "\n",
      "See the caveats in the documentation: https://pandas.pydata.org/pandas-docs/stable/user_guide/indexing.html#returning-a-view-versus-a-copy\n",
      "  self[col] = igetitem(value, i)\n"
     ]
    },
    {
     "name": "stdout",
     "output_type": "stream",
     "text": [
      "Epoch 1/15\n",
      "145/145 [==============================] - 11s 62ms/step - loss: 1.4006 - val_loss: 0.3008\n",
      "Epoch 2/15\n",
      "145/145 [==============================] - 8s 59ms/step - loss: 1.3530 - val_loss: 0.2877\n",
      "Epoch 3/15\n",
      "145/145 [==============================] - 8s 58ms/step - loss: 1.3469 - val_loss: 0.2754\n",
      "Epoch 4/15\n",
      "145/145 [==============================] - 8s 58ms/step - loss: 1.3456 - val_loss: 0.2697\n",
      "Epoch 5/15\n",
      "145/145 [==============================] - 9s 59ms/step - loss: 1.3431 - val_loss: 0.2631\n",
      "Epoch 6/15\n",
      "145/145 [==============================] - 8s 57ms/step - loss: 1.3427 - val_loss: 0.2628\n",
      "Epoch 7/15\n",
      "145/145 [==============================] - 8s 57ms/step - loss: 1.3420 - val_loss: 0.2603\n",
      "Epoch 8/15\n",
      "145/145 [==============================] - 8s 58ms/step - loss: 1.3412 - val_loss: 0.2568\n",
      "Epoch 9/15\n",
      "145/145 [==============================] - 8s 57ms/step - loss: 1.3424 - val_loss: 0.2567\n",
      "Epoch 10/15\n",
      "145/145 [==============================] - 8s 57ms/step - loss: 1.3408 - val_loss: 0.2564\n",
      "Epoch 11/15\n",
      "145/145 [==============================] - 8s 57ms/step - loss: 1.3405 - val_loss: 0.2562\n",
      "Epoch 12/15\n",
      "145/145 [==============================] - 8s 57ms/step - loss: 1.3401 - val_loss: 0.2561\n",
      "Epoch 13/15\n",
      "145/145 [==============================] - 8s 57ms/step - loss: 1.3397 - val_loss: 0.2554\n",
      "Epoch 14/15\n",
      "145/145 [==============================] - 8s 56ms/step - loss: 1.3382 - val_loss: 0.2573\n",
      "Epoch 15/15\n",
      "145/145 [==============================] - 8s 56ms/step - loss: 1.3394 - val_loss: 0.2560\n"
     ]
    },
    {
     "name": "stderr",
     "output_type": "stream",
     "text": [
      "WARNING:absl:Found untraced functions such as lstm_cell_22_layer_call_fn, lstm_cell_22_layer_call_and_return_conditional_losses while saving (showing 2 of 2). These functions will not be directly callable after loading.\n"
     ]
    },
    {
     "name": "stdout",
     "output_type": "stream",
     "text": [
      "INFO:tensorflow:Assets written to: Hybrid MP/month2_2_step_lookahead_Hybrid\\assets\n"
     ]
    },
    {
     "name": "stderr",
     "output_type": "stream",
     "text": [
      "INFO:tensorflow:Assets written to: Hybrid MP/month2_2_step_lookahead_Hybrid\\assets\n",
      "WARNING:absl:<keras.layers.recurrent.LSTMCell object at 0x000001F5B14B4400> has the same name 'LSTMCell' as a built-in Keras object. Consider renaming <class 'keras.layers.recurrent.LSTMCell'> to avoid naming conflicts when loading with `tf.keras.models.load_model`. If renaming is not possible, pass the object in the `custom_objects` parameter of the load function.\n"
     ]
    },
    {
     "name": "stdout",
     "output_type": "stream",
     "text": [
      "145/145 [==============================] - 4s 23ms/step\n",
      "63/63 [==============================] - 1s 21ms/step\n"
     ]
    },
    {
     "name": "stderr",
     "output_type": "stream",
     "text": [
      "D:\\Anaconda\\lib\\site-packages\\pandas\\core\\frame.py:3678: SettingWithCopyWarning: \n",
      "A value is trying to be set on a copy of a slice from a DataFrame.\n",
      "Try using .loc[row_indexer,col_indexer] = value instead\n",
      "\n",
      "See the caveats in the documentation: https://pandas.pydata.org/pandas-docs/stable/user_guide/indexing.html#returning-a-view-versus-a-copy\n",
      "  self[col] = igetitem(value, i)\n"
     ]
    },
    {
     "name": "stdout",
     "output_type": "stream",
     "text": [
      "Epoch 1/15\n",
      "145/145 [==============================] - 11s 61ms/step - loss: 1.3920 - val_loss: 0.3112\n",
      "Epoch 2/15\n",
      "145/145 [==============================] - 9s 59ms/step - loss: 1.3599 - val_loss: 0.2968\n",
      "Epoch 3/15\n",
      "145/145 [==============================] - 8s 57ms/step - loss: 1.3571 - val_loss: 0.2936\n",
      "Epoch 4/15\n",
      "145/145 [==============================] - 8s 58ms/step - loss: 1.3557 - val_loss: 0.2980\n",
      "Epoch 5/15\n",
      "145/145 [==============================] - 8s 58ms/step - loss: 1.3557 - val_loss: 0.2914\n",
      "Epoch 6/15\n",
      "145/145 [==============================] - 8s 58ms/step - loss: 1.3563 - val_loss: 0.2908\n",
      "Epoch 7/15\n",
      "145/145 [==============================] - 8s 58ms/step - loss: 1.3545 - val_loss: 0.2902\n",
      "Epoch 8/15\n",
      "145/145 [==============================] - 8s 57ms/step - loss: 1.3543 - val_loss: 0.2918\n",
      "Epoch 9/15\n",
      "145/145 [==============================] - 8s 58ms/step - loss: 1.3537 - val_loss: 0.2912\n",
      "Epoch 10/15\n",
      "145/145 [==============================] - 8s 57ms/step - loss: 1.3538 - val_loss: 0.2920\n",
      "Epoch 11/15\n",
      "145/145 [==============================] - 8s 58ms/step - loss: 1.3528 - val_loss: 0.2902\n",
      "Epoch 12/15\n",
      "145/145 [==============================] - 8s 57ms/step - loss: 1.3536 - val_loss: 0.2904\n",
      "Epoch 13/15\n",
      "145/145 [==============================] - 8s 58ms/step - loss: 1.3525 - val_loss: 0.2920\n",
      "Epoch 14/15\n",
      "145/145 [==============================] - 8s 57ms/step - loss: 1.3531 - val_loss: 0.2900\n",
      "Epoch 15/15\n",
      "145/145 [==============================] - 8s 58ms/step - loss: 1.3518 - val_loss: 0.2899\n"
     ]
    },
    {
     "name": "stderr",
     "output_type": "stream",
     "text": [
      "WARNING:absl:Found untraced functions such as lstm_cell_23_layer_call_fn, lstm_cell_23_layer_call_and_return_conditional_losses while saving (showing 2 of 2). These functions will not be directly callable after loading.\n"
     ]
    },
    {
     "name": "stdout",
     "output_type": "stream",
     "text": [
      "INFO:tensorflow:Assets written to: Hybrid MP/month2_3_step_lookahead_Hybrid\\assets\n"
     ]
    },
    {
     "name": "stderr",
     "output_type": "stream",
     "text": [
      "INFO:tensorflow:Assets written to: Hybrid MP/month2_3_step_lookahead_Hybrid\\assets\n",
      "WARNING:absl:<keras.layers.recurrent.LSTMCell object at 0x000001F28FB0DD30> has the same name 'LSTMCell' as a built-in Keras object. Consider renaming <class 'keras.layers.recurrent.LSTMCell'> to avoid naming conflicts when loading with `tf.keras.models.load_model`. If renaming is not possible, pass the object in the `custom_objects` parameter of the load function.\n"
     ]
    },
    {
     "name": "stdout",
     "output_type": "stream",
     "text": [
      "145/145 [==============================] - 4s 23ms/step\n",
      "63/63 [==============================] - 1s 22ms/step\n"
     ]
    },
    {
     "name": "stderr",
     "output_type": "stream",
     "text": [
      "D:\\Anaconda\\lib\\site-packages\\pandas\\core\\frame.py:3678: SettingWithCopyWarning: \n",
      "A value is trying to be set on a copy of a slice from a DataFrame.\n",
      "Try using .loc[row_indexer,col_indexer] = value instead\n",
      "\n",
      "See the caveats in the documentation: https://pandas.pydata.org/pandas-docs/stable/user_guide/indexing.html#returning-a-view-versus-a-copy\n",
      "  self[col] = igetitem(value, i)\n"
     ]
    },
    {
     "name": "stdout",
     "output_type": "stream",
     "text": [
      "Epoch 1/15\n",
      "145/145 [==============================] - 11s 61ms/step - loss: 1.4661 - val_loss: 0.3285\n",
      "Epoch 2/15\n",
      "145/145 [==============================] - 8s 57ms/step - loss: 1.3728 - val_loss: 0.3117\n",
      "Epoch 3/15\n",
      "145/145 [==============================] - 8s 57ms/step - loss: 1.3674 - val_loss: 0.3064\n",
      "Epoch 4/15\n",
      "145/145 [==============================] - 8s 58ms/step - loss: 1.3647 - val_loss: 0.3043\n",
      "Epoch 5/15\n",
      "145/145 [==============================] - 8s 58ms/step - loss: 1.3628 - val_loss: 0.3027\n",
      "Epoch 6/15\n",
      "145/145 [==============================] - 8s 58ms/step - loss: 1.3625 - val_loss: 0.3026\n",
      "Epoch 7/15\n",
      "145/145 [==============================] - 8s 57ms/step - loss: 1.3625 - val_loss: 0.2998\n",
      "Epoch 8/15\n",
      "145/145 [==============================] - 8s 57ms/step - loss: 1.3620 - val_loss: 0.3003\n",
      "Epoch 9/15\n",
      "145/145 [==============================] - 8s 57ms/step - loss: 1.3617 - val_loss: 0.3006\n",
      "Epoch 10/15\n",
      "145/145 [==============================] - 8s 57ms/step - loss: 1.3614 - val_loss: 0.3033\n",
      "Epoch 11/15\n",
      "145/145 [==============================] - 8s 57ms/step - loss: 1.3613 - val_loss: 0.3071\n",
      "Epoch 12/15\n",
      "145/145 [==============================] - 8s 57ms/step - loss: 1.3610 - val_loss: 0.3050\n",
      "Epoch 13/15\n",
      "145/145 [==============================] - 8s 57ms/step - loss: 1.3593 - val_loss: 0.3061\n",
      "Epoch 14/15\n",
      "145/145 [==============================] - 8s 58ms/step - loss: 1.3600 - val_loss: 0.3077\n",
      "Epoch 15/15\n",
      "145/145 [==============================] - 8s 57ms/step - loss: 1.3598 - val_loss: 0.3060\n"
     ]
    },
    {
     "name": "stderr",
     "output_type": "stream",
     "text": [
      "WARNING:absl:Found untraced functions such as lstm_cell_24_layer_call_fn, lstm_cell_24_layer_call_and_return_conditional_losses while saving (showing 2 of 2). These functions will not be directly callable after loading.\n"
     ]
    },
    {
     "name": "stdout",
     "output_type": "stream",
     "text": [
      "INFO:tensorflow:Assets written to: Hybrid MP/month2_4_step_lookahead_Hybrid\\assets\n"
     ]
    },
    {
     "name": "stderr",
     "output_type": "stream",
     "text": [
      "INFO:tensorflow:Assets written to: Hybrid MP/month2_4_step_lookahead_Hybrid\\assets\n",
      "WARNING:absl:<keras.layers.recurrent.LSTMCell object at 0x000001F2842B3640> has the same name 'LSTMCell' as a built-in Keras object. Consider renaming <class 'keras.layers.recurrent.LSTMCell'> to avoid naming conflicts when loading with `tf.keras.models.load_model`. If renaming is not possible, pass the object in the `custom_objects` parameter of the load function.\n"
     ]
    },
    {
     "name": "stdout",
     "output_type": "stream",
     "text": [
      "145/145 [==============================] - 4s 24ms/step\n",
      "63/63 [==============================] - 1s 21ms/step\n"
     ]
    },
    {
     "name": "stderr",
     "output_type": "stream",
     "text": [
      "D:\\Anaconda\\lib\\site-packages\\pandas\\core\\frame.py:3678: SettingWithCopyWarning: \n",
      "A value is trying to be set on a copy of a slice from a DataFrame.\n",
      "Try using .loc[row_indexer,col_indexer] = value instead\n",
      "\n",
      "See the caveats in the documentation: https://pandas.pydata.org/pandas-docs/stable/user_guide/indexing.html#returning-a-view-versus-a-copy\n",
      "  self[col] = igetitem(value, i)\n"
     ]
    },
    {
     "name": "stdout",
     "output_type": "stream",
     "text": [
      "Epoch 1/15\n",
      "145/145 [==============================] - 11s 61ms/step - loss: 1.4185 - val_loss: 0.3171\n",
      "Epoch 2/15\n",
      "145/145 [==============================] - 8s 58ms/step - loss: 1.3717 - val_loss: 0.3051\n",
      "Epoch 3/15\n",
      "145/145 [==============================] - 8s 58ms/step - loss: 1.3671 - val_loss: 0.2981\n",
      "Epoch 4/15\n",
      "145/145 [==============================] - 8s 57ms/step - loss: 1.3662 - val_loss: 0.2978\n",
      "Epoch 5/15\n",
      "145/145 [==============================] - 8s 57ms/step - loss: 1.3652 - val_loss: 0.2979\n",
      "Epoch 6/15\n",
      "145/145 [==============================] - 8s 58ms/step - loss: 1.3647 - val_loss: 0.2955\n",
      "Epoch 7/15\n",
      "145/145 [==============================] - 9s 60ms/step - loss: 1.3647 - val_loss: 0.2990\n",
      "Epoch 8/15\n",
      "145/145 [==============================] - 9s 59ms/step - loss: 1.3649 - val_loss: 0.2948\n",
      "Epoch 9/15\n",
      "145/145 [==============================] - 9s 59ms/step - loss: 1.3644 - val_loss: 0.2941\n",
      "Epoch 10/15\n",
      "145/145 [==============================] - 9s 59ms/step - loss: 1.3641 - val_loss: 0.2956\n",
      "Epoch 11/15\n",
      "145/145 [==============================] - 9s 59ms/step - loss: 1.3633 - val_loss: 0.2925\n",
      "Epoch 12/15\n",
      "145/145 [==============================] - 9s 59ms/step - loss: 1.3636 - val_loss: 0.2950\n",
      "Epoch 13/15\n",
      "145/145 [==============================] - 9s 61ms/step - loss: 1.3624 - val_loss: 0.2928\n",
      "Epoch 14/15\n",
      "145/145 [==============================] - 8s 58ms/step - loss: 1.3616 - val_loss: 0.2951\n",
      "Epoch 15/15\n",
      "145/145 [==============================] - 8s 58ms/step - loss: 1.3610 - val_loss: 0.2953\n"
     ]
    },
    {
     "name": "stderr",
     "output_type": "stream",
     "text": [
      "WARNING:absl:Found untraced functions such as lstm_cell_25_layer_call_fn, lstm_cell_25_layer_call_and_return_conditional_losses while saving (showing 2 of 2). These functions will not be directly callable after loading.\n"
     ]
    },
    {
     "name": "stdout",
     "output_type": "stream",
     "text": [
      "INFO:tensorflow:Assets written to: Hybrid MP/month2_5_step_lookahead_Hybrid\\assets\n"
     ]
    },
    {
     "name": "stderr",
     "output_type": "stream",
     "text": [
      "INFO:tensorflow:Assets written to: Hybrid MP/month2_5_step_lookahead_Hybrid\\assets\n",
      "WARNING:absl:<keras.layers.recurrent.LSTMCell object at 0x000001F2A49E4580> has the same name 'LSTMCell' as a built-in Keras object. Consider renaming <class 'keras.layers.recurrent.LSTMCell'> to avoid naming conflicts when loading with `tf.keras.models.load_model`. If renaming is not possible, pass the object in the `custom_objects` parameter of the load function.\n"
     ]
    },
    {
     "name": "stdout",
     "output_type": "stream",
     "text": [
      "145/145 [==============================] - 4s 23ms/step\n",
      "63/63 [==============================] - 1s 22ms/step\n"
     ]
    },
    {
     "name": "stderr",
     "output_type": "stream",
     "text": [
      "D:\\Anaconda\\lib\\site-packages\\pandas\\core\\frame.py:3678: SettingWithCopyWarning: \n",
      "A value is trying to be set on a copy of a slice from a DataFrame.\n",
      "Try using .loc[row_indexer,col_indexer] = value instead\n",
      "\n",
      "See the caveats in the documentation: https://pandas.pydata.org/pandas-docs/stable/user_guide/indexing.html#returning-a-view-versus-a-copy\n",
      "  self[col] = igetitem(value, i)\n"
     ]
    },
    {
     "name": "stdout",
     "output_type": "stream",
     "text": [
      "Epoch 1/15\n",
      "145/145 [==============================] - 12s 62ms/step - loss: 1.4530 - val_loss: 0.3434\n",
      "Epoch 2/15\n",
      "145/145 [==============================] - 8s 59ms/step - loss: 1.3750 - val_loss: 0.3205\n",
      "Epoch 3/15\n",
      "145/145 [==============================] - 8s 58ms/step - loss: 1.3722 - val_loss: 0.3178\n",
      "Epoch 4/15\n",
      "145/145 [==============================] - 8s 58ms/step - loss: 1.3703 - val_loss: 0.3160\n",
      "Epoch 5/15\n",
      "145/145 [==============================] - 9s 59ms/step - loss: 1.3689 - val_loss: 0.3159\n",
      "Epoch 6/15\n",
      "145/145 [==============================] - 8s 58ms/step - loss: 1.3681 - val_loss: 0.3201\n",
      "Epoch 7/15\n",
      "145/145 [==============================] - 8s 58ms/step - loss: 1.3688 - val_loss: 0.3146\n",
      "Epoch 8/15\n",
      "145/145 [==============================] - 8s 58ms/step - loss: 1.3673 - val_loss: 0.3174\n",
      "Epoch 9/15\n",
      "145/145 [==============================] - 8s 58ms/step - loss: 1.3669 - val_loss: 0.3170\n",
      "Epoch 10/15\n",
      "145/145 [==============================] - 8s 58ms/step - loss: 1.3666 - val_loss: 0.3165\n",
      "Epoch 11/15\n",
      "145/145 [==============================] - 8s 58ms/step - loss: 1.3662 - val_loss: 0.3174\n",
      "Epoch 12/15\n",
      "145/145 [==============================] - 8s 59ms/step - loss: 1.3651 - val_loss: 0.3151\n",
      "Epoch 13/15\n",
      "145/145 [==============================] - 8s 59ms/step - loss: 1.3638 - val_loss: 0.3179\n",
      "Epoch 14/15\n",
      "145/145 [==============================] - 8s 58ms/step - loss: 1.3644 - val_loss: 0.3157\n",
      "Epoch 15/15\n",
      "145/145 [==============================] - 8s 58ms/step - loss: 1.3613 - val_loss: 0.3160\n"
     ]
    },
    {
     "name": "stderr",
     "output_type": "stream",
     "text": [
      "WARNING:absl:Found untraced functions such as lstm_cell_26_layer_call_fn, lstm_cell_26_layer_call_and_return_conditional_losses while saving (showing 2 of 2). These functions will not be directly callable after loading.\n"
     ]
    },
    {
     "name": "stdout",
     "output_type": "stream",
     "text": [
      "INFO:tensorflow:Assets written to: Hybrid MP/month2_6_step_lookahead_Hybrid\\assets\n"
     ]
    },
    {
     "name": "stderr",
     "output_type": "stream",
     "text": [
      "INFO:tensorflow:Assets written to: Hybrid MP/month2_6_step_lookahead_Hybrid\\assets\n",
      "WARNING:absl:<keras.layers.recurrent.LSTMCell object at 0x000001F291B128E0> has the same name 'LSTMCell' as a built-in Keras object. Consider renaming <class 'keras.layers.recurrent.LSTMCell'> to avoid naming conflicts when loading with `tf.keras.models.load_model`. If renaming is not possible, pass the object in the `custom_objects` parameter of the load function.\n"
     ]
    },
    {
     "name": "stdout",
     "output_type": "stream",
     "text": [
      "145/145 [==============================] - 4s 23ms/step\n",
      "63/63 [==============================] - 1s 21ms/step\n"
     ]
    },
    {
     "name": "stderr",
     "output_type": "stream",
     "text": [
      "D:\\Anaconda\\lib\\site-packages\\pandas\\core\\frame.py:3678: SettingWithCopyWarning: \n",
      "A value is trying to be set on a copy of a slice from a DataFrame.\n",
      "Try using .loc[row_indexer,col_indexer] = value instead\n",
      "\n",
      "See the caveats in the documentation: https://pandas.pydata.org/pandas-docs/stable/user_guide/indexing.html#returning-a-view-versus-a-copy\n",
      "  self[col] = igetitem(value, i)\n"
     ]
    },
    {
     "name": "stdout",
     "output_type": "stream",
     "text": [
      "Epoch 1/15\n",
      "145/145 [==============================] - 12s 62ms/step - loss: 1.4121 - val_loss: 0.3280\n",
      "Epoch 2/15\n",
      "145/145 [==============================] - 9s 59ms/step - loss: 1.3835 - val_loss: 0.3209\n",
      "Epoch 3/15\n",
      "145/145 [==============================] - 8s 58ms/step - loss: 1.3795 - val_loss: 0.3211\n",
      "Epoch 4/15\n",
      "145/145 [==============================] - 8s 58ms/step - loss: 1.3786 - val_loss: 0.3199\n",
      "Epoch 5/15\n",
      "145/145 [==============================] - 8s 58ms/step - loss: 1.3769 - val_loss: 0.3201\n",
      "Epoch 6/15\n",
      "145/145 [==============================] - 8s 57ms/step - loss: 1.3769 - val_loss: 0.3210\n",
      "Epoch 7/15\n",
      "145/145 [==============================] - 8s 58ms/step - loss: 1.3765 - val_loss: 0.3215\n",
      "Epoch 8/15\n",
      "145/145 [==============================] - 8s 58ms/step - loss: 1.3760 - val_loss: 0.3178\n",
      "Epoch 9/15\n",
      "145/145 [==============================] - 8s 58ms/step - loss: 1.3753 - val_loss: 0.3147\n",
      "Epoch 10/15\n",
      "145/145 [==============================] - 8s 58ms/step - loss: 1.3755 - val_loss: 0.3130\n",
      "Epoch 11/15\n",
      "145/145 [==============================] - 8s 59ms/step - loss: 1.3743 - val_loss: 0.3132\n",
      "Epoch 12/15\n",
      "145/145 [==============================] - 9s 59ms/step - loss: 1.3754 - val_loss: 0.3203\n",
      "Epoch 13/15\n",
      "145/145 [==============================] - 8s 58ms/step - loss: 1.3743 - val_loss: 0.3145\n",
      "Epoch 14/15\n",
      "145/145 [==============================] - 8s 59ms/step - loss: 1.3743 - val_loss: 0.3127\n",
      "Epoch 15/15\n",
      "145/145 [==============================] - 8s 58ms/step - loss: 1.3728 - val_loss: 0.3146\n"
     ]
    },
    {
     "name": "stderr",
     "output_type": "stream",
     "text": [
      "WARNING:absl:Found untraced functions such as lstm_cell_27_layer_call_fn, lstm_cell_27_layer_call_and_return_conditional_losses while saving (showing 2 of 2). These functions will not be directly callable after loading.\n"
     ]
    },
    {
     "name": "stdout",
     "output_type": "stream",
     "text": [
      "INFO:tensorflow:Assets written to: Hybrid MP/month2_7_step_lookahead_Hybrid\\assets\n"
     ]
    },
    {
     "name": "stderr",
     "output_type": "stream",
     "text": [
      "INFO:tensorflow:Assets written to: Hybrid MP/month2_7_step_lookahead_Hybrid\\assets\n",
      "WARNING:absl:<keras.layers.recurrent.LSTMCell object at 0x000001F2A4634B80> has the same name 'LSTMCell' as a built-in Keras object. Consider renaming <class 'keras.layers.recurrent.LSTMCell'> to avoid naming conflicts when loading with `tf.keras.models.load_model`. If renaming is not possible, pass the object in the `custom_objects` parameter of the load function.\n"
     ]
    },
    {
     "name": "stdout",
     "output_type": "stream",
     "text": [
      "145/145 [==============================] - 4s 22ms/step\n",
      "63/63 [==============================] - 1s 22ms/step\n"
     ]
    },
    {
     "name": "stderr",
     "output_type": "stream",
     "text": [
      "D:\\Anaconda\\lib\\site-packages\\pandas\\core\\frame.py:3678: SettingWithCopyWarning: \n",
      "A value is trying to be set on a copy of a slice from a DataFrame.\n",
      "Try using .loc[row_indexer,col_indexer] = value instead\n",
      "\n",
      "See the caveats in the documentation: https://pandas.pydata.org/pandas-docs/stable/user_guide/indexing.html#returning-a-view-versus-a-copy\n",
      "  self[col] = igetitem(value, i)\n"
     ]
    },
    {
     "name": "stdout",
     "output_type": "stream",
     "text": [
      "Epoch 1/15\n",
      "145/145 [==============================] - 11s 63ms/step - loss: 1.4157 - val_loss: 0.3289\n",
      "Epoch 2/15\n",
      "145/145 [==============================] - 8s 59ms/step - loss: 1.3859 - val_loss: 0.3235\n",
      "Epoch 3/15\n",
      "145/145 [==============================] - 9s 59ms/step - loss: 1.3836 - val_loss: 0.3233\n",
      "Epoch 4/15\n",
      "145/145 [==============================] - 9s 59ms/step - loss: 1.3828 - val_loss: 0.3166\n",
      "Epoch 5/15\n",
      "145/145 [==============================] - 8s 58ms/step - loss: 1.3816 - val_loss: 0.3157\n",
      "Epoch 6/15\n",
      "145/145 [==============================] - 8s 58ms/step - loss: 1.3814 - val_loss: 0.3188\n",
      "Epoch 7/15\n",
      "145/145 [==============================] - 8s 58ms/step - loss: 1.3813 - val_loss: 0.3170\n",
      "Epoch 8/15\n",
      "145/145 [==============================] - 8s 57ms/step - loss: 1.3805 - val_loss: 0.3180\n",
      "Epoch 9/15\n",
      "145/145 [==============================] - 8s 58ms/step - loss: 1.3808 - val_loss: 0.3165\n",
      "Epoch 10/15\n",
      "145/145 [==============================] - 8s 59ms/step - loss: 1.3799 - val_loss: 0.3182\n",
      "Epoch 11/15\n",
      "145/145 [==============================] - 9s 59ms/step - loss: 1.3797 - val_loss: 0.3163\n",
      "Epoch 12/15\n",
      "145/145 [==============================] - 8s 58ms/step - loss: 1.3787 - val_loss: 0.3138\n",
      "Epoch 13/15\n",
      "145/145 [==============================] - 8s 58ms/step - loss: 1.3789 - val_loss: 0.3135\n",
      "Epoch 14/15\n",
      "145/145 [==============================] - 8s 58ms/step - loss: 1.3789 - val_loss: 0.3146\n",
      "Epoch 15/15\n",
      "145/145 [==============================] - 8s 58ms/step - loss: 1.3776 - val_loss: 0.3119\n"
     ]
    },
    {
     "name": "stderr",
     "output_type": "stream",
     "text": [
      "WARNING:absl:Found untraced functions such as lstm_cell_28_layer_call_fn, lstm_cell_28_layer_call_and_return_conditional_losses while saving (showing 2 of 2). These functions will not be directly callable after loading.\n"
     ]
    },
    {
     "name": "stdout",
     "output_type": "stream",
     "text": [
      "INFO:tensorflow:Assets written to: Hybrid MP/month2_8_step_lookahead_Hybrid\\assets\n"
     ]
    },
    {
     "name": "stderr",
     "output_type": "stream",
     "text": [
      "INFO:tensorflow:Assets written to: Hybrid MP/month2_8_step_lookahead_Hybrid\\assets\n",
      "WARNING:absl:<keras.layers.recurrent.LSTMCell object at 0x000001F5D8F43BB0> has the same name 'LSTMCell' as a built-in Keras object. Consider renaming <class 'keras.layers.recurrent.LSTMCell'> to avoid naming conflicts when loading with `tf.keras.models.load_model`. If renaming is not possible, pass the object in the `custom_objects` parameter of the load function.\n"
     ]
    },
    {
     "name": "stdout",
     "output_type": "stream",
     "text": [
      "145/145 [==============================] - 4s 24ms/step\n",
      "63/63 [==============================] - 1s 22ms/step\n"
     ]
    },
    {
     "name": "stderr",
     "output_type": "stream",
     "text": [
      "D:\\Anaconda\\lib\\site-packages\\pandas\\core\\frame.py:3678: SettingWithCopyWarning: \n",
      "A value is trying to be set on a copy of a slice from a DataFrame.\n",
      "Try using .loc[row_indexer,col_indexer] = value instead\n",
      "\n",
      "See the caveats in the documentation: https://pandas.pydata.org/pandas-docs/stable/user_guide/indexing.html#returning-a-view-versus-a-copy\n",
      "  self[col] = igetitem(value, i)\n"
     ]
    },
    {
     "name": "stdout",
     "output_type": "stream",
     "text": [
      "Epoch 1/15\n",
      "145/145 [==============================] - 11s 62ms/step - loss: 1.4326 - val_loss: 0.3347\n",
      "Epoch 2/15\n",
      "145/145 [==============================] - 9s 59ms/step - loss: 1.3916 - val_loss: 0.3225\n",
      "Epoch 3/15\n",
      "145/145 [==============================] - 8s 58ms/step - loss: 1.3888 - val_loss: 0.3190\n",
      "Epoch 4/15\n",
      "145/145 [==============================] - 8s 58ms/step - loss: 1.3872 - val_loss: 0.3238\n",
      "Epoch 5/15\n",
      "145/145 [==============================] - 8s 58ms/step - loss: 1.3856 - val_loss: 0.3242\n",
      "Epoch 6/15\n",
      "145/145 [==============================] - 8s 59ms/step - loss: 1.3852 - val_loss: 0.3175\n",
      "Epoch 7/15\n",
      "145/145 [==============================] - 8s 58ms/step - loss: 1.3843 - val_loss: 0.3168\n",
      "Epoch 8/15\n",
      "145/145 [==============================] - 8s 58ms/step - loss: 1.3847 - val_loss: 0.3176\n",
      "Epoch 9/15\n",
      "145/145 [==============================] - 8s 58ms/step - loss: 1.3840 - val_loss: 0.3205\n",
      "Epoch 10/15\n",
      "145/145 [==============================] - 8s 58ms/step - loss: 1.3849 - val_loss: 0.3216\n",
      "Epoch 11/15\n",
      "145/145 [==============================] - 8s 58ms/step - loss: 1.3839 - val_loss: 0.3176\n",
      "Epoch 12/15\n",
      "145/145 [==============================] - 9s 59ms/step - loss: 1.3829 - val_loss: 0.3146\n",
      "Epoch 13/15\n",
      "145/145 [==============================] - 8s 58ms/step - loss: 1.3837 - val_loss: 0.3145\n",
      "Epoch 14/15\n",
      "145/145 [==============================] - 8s 58ms/step - loss: 1.3827 - val_loss: 0.3166\n",
      "Epoch 15/15\n",
      "145/145 [==============================] - 8s 57ms/step - loss: 1.3826 - val_loss: 0.3181\n"
     ]
    },
    {
     "name": "stderr",
     "output_type": "stream",
     "text": [
      "WARNING:absl:Found untraced functions such as lstm_cell_29_layer_call_fn, lstm_cell_29_layer_call_and_return_conditional_losses while saving (showing 2 of 2). These functions will not be directly callable after loading.\n"
     ]
    },
    {
     "name": "stdout",
     "output_type": "stream",
     "text": [
      "INFO:tensorflow:Assets written to: Hybrid MP/month2_9_step_lookahead_Hybrid\\assets\n"
     ]
    },
    {
     "name": "stderr",
     "output_type": "stream",
     "text": [
      "INFO:tensorflow:Assets written to: Hybrid MP/month2_9_step_lookahead_Hybrid\\assets\n",
      "WARNING:absl:<keras.layers.recurrent.LSTMCell object at 0x000001F2A4F181C0> has the same name 'LSTMCell' as a built-in Keras object. Consider renaming <class 'keras.layers.recurrent.LSTMCell'> to avoid naming conflicts when loading with `tf.keras.models.load_model`. If renaming is not possible, pass the object in the `custom_objects` parameter of the load function.\n"
     ]
    },
    {
     "name": "stdout",
     "output_type": "stream",
     "text": [
      "145/145 [==============================] - 4s 23ms/step\n",
      "63/63 [==============================] - 1s 21ms/step\n"
     ]
    },
    {
     "name": "stderr",
     "output_type": "stream",
     "text": [
      "D:\\Anaconda\\lib\\site-packages\\pandas\\core\\frame.py:3678: SettingWithCopyWarning: \n",
      "A value is trying to be set on a copy of a slice from a DataFrame.\n",
      "Try using .loc[row_indexer,col_indexer] = value instead\n",
      "\n",
      "See the caveats in the documentation: https://pandas.pydata.org/pandas-docs/stable/user_guide/indexing.html#returning-a-view-versus-a-copy\n",
      "  self[col] = igetitem(value, i)\n"
     ]
    },
    {
     "name": "stdout",
     "output_type": "stream",
     "text": [
      "Epoch 1/15\n",
      "145/145 [==============================] - 11s 63ms/step - loss: 1.4317 - val_loss: 0.3471\n",
      "Epoch 2/15\n",
      "145/145 [==============================] - 8s 59ms/step - loss: 1.3924 - val_loss: 0.3404\n",
      "Epoch 3/15\n",
      "145/145 [==============================] - 8s 58ms/step - loss: 1.3913 - val_loss: 0.3380\n",
      "Epoch 4/15\n",
      "145/145 [==============================] - 9s 59ms/step - loss: 1.3910 - val_loss: 0.3353\n",
      "Epoch 5/15\n",
      "145/145 [==============================] - 8s 58ms/step - loss: 1.3894 - val_loss: 0.3400\n",
      "Epoch 6/15\n",
      "145/145 [==============================] - 8s 58ms/step - loss: 1.3890 - val_loss: 0.3400\n",
      "Epoch 7/15\n",
      "145/145 [==============================] - 8s 58ms/step - loss: 1.3882 - val_loss: 0.3322\n",
      "Epoch 8/15\n",
      "145/145 [==============================] - 8s 58ms/step - loss: 1.3887 - val_loss: 0.3353\n",
      "Epoch 9/15\n",
      "145/145 [==============================] - 8s 58ms/step - loss: 1.3880 - val_loss: 0.3359\n",
      "Epoch 10/15\n",
      "145/145 [==============================] - 8s 58ms/step - loss: 1.3876 - val_loss: 0.3373\n",
      "Epoch 11/15\n",
      "145/145 [==============================] - 8s 58ms/step - loss: 1.3880 - val_loss: 0.3322\n",
      "Epoch 12/15\n",
      "145/145 [==============================] - 8s 58ms/step - loss: 1.3865 - val_loss: 0.3384\n",
      "Epoch 13/15\n",
      "145/145 [==============================] - 8s 58ms/step - loss: 1.3863 - val_loss: 0.3391\n",
      "Epoch 14/15\n",
      "145/145 [==============================] - 8s 58ms/step - loss: 1.3863 - val_loss: 0.3349\n",
      "Epoch 15/15\n",
      "145/145 [==============================] - 8s 57ms/step - loss: 1.3842 - val_loss: 0.3427\n"
     ]
    },
    {
     "name": "stderr",
     "output_type": "stream",
     "text": [
      "WARNING:absl:Found untraced functions such as lstm_cell_30_layer_call_fn, lstm_cell_30_layer_call_and_return_conditional_losses while saving (showing 2 of 2). These functions will not be directly callable after loading.\n"
     ]
    },
    {
     "name": "stdout",
     "output_type": "stream",
     "text": [
      "INFO:tensorflow:Assets written to: Hybrid MP/month2_10_step_lookahead_Hybrid\\assets\n"
     ]
    },
    {
     "name": "stderr",
     "output_type": "stream",
     "text": [
      "INFO:tensorflow:Assets written to: Hybrid MP/month2_10_step_lookahead_Hybrid\\assets\n",
      "WARNING:absl:<keras.layers.recurrent.LSTMCell object at 0x000001F28F180760> has the same name 'LSTMCell' as a built-in Keras object. Consider renaming <class 'keras.layers.recurrent.LSTMCell'> to avoid naming conflicts when loading with `tf.keras.models.load_model`. If renaming is not possible, pass the object in the `custom_objects` parameter of the load function.\n"
     ]
    },
    {
     "name": "stdout",
     "output_type": "stream",
     "text": [
      "145/145 [==============================] - 4s 24ms/step\n",
      "63/63 [==============================] - 1s 22ms/step\n"
     ]
    },
    {
     "name": "stderr",
     "output_type": "stream",
     "text": [
      "D:\\Anaconda\\lib\\site-packages\\pandas\\core\\frame.py:3678: SettingWithCopyWarning: \n",
      "A value is trying to be set on a copy of a slice from a DataFrame.\n",
      "Try using .loc[row_indexer,col_indexer] = value instead\n",
      "\n",
      "See the caveats in the documentation: https://pandas.pydata.org/pandas-docs/stable/user_guide/indexing.html#returning-a-view-versus-a-copy\n",
      "  self[col] = igetitem(value, i)\n",
      "D:\\Anaconda\\lib\\site-packages\\pandas\\core\\frame.py:3678: SettingWithCopyWarning: \n",
      "A value is trying to be set on a copy of a slice from a DataFrame.\n",
      "Try using .loc[row_indexer,col_indexer] = value instead\n",
      "\n",
      "See the caveats in the documentation: https://pandas.pydata.org/pandas-docs/stable/user_guide/indexing.html#returning-a-view-versus-a-copy\n",
      "  self[col] = igetitem(value, i)\n"
     ]
    },
    {
     "name": "stdout",
     "output_type": "stream",
     "text": [
      "Epoch 1/15\n",
      "126/126 [==============================] - 10s 61ms/step - loss: 0.3208 - val_loss: 0.0406\n",
      "Epoch 2/15\n",
      "126/126 [==============================] - 7s 58ms/step - loss: 0.1503 - val_loss: 0.0307\n",
      "Epoch 3/15\n",
      "126/126 [==============================] - 7s 57ms/step - loss: 0.1353 - val_loss: 0.0284\n",
      "Epoch 4/15\n",
      "126/126 [==============================] - 7s 57ms/step - loss: 0.1266 - val_loss: 0.0262\n",
      "Epoch 5/15\n",
      "126/126 [==============================] - 7s 56ms/step - loss: 0.1212 - val_loss: 0.0244\n",
      "Epoch 6/15\n",
      "126/126 [==============================] - 7s 58ms/step - loss: 0.1181 - val_loss: 0.0239\n",
      "Epoch 7/15\n",
      "126/126 [==============================] - 7s 56ms/step - loss: 0.1146 - val_loss: 0.0231\n",
      "Epoch 8/15\n",
      "126/126 [==============================] - 7s 57ms/step - loss: 0.1136 - val_loss: 0.0225\n",
      "Epoch 9/15\n",
      "126/126 [==============================] - 7s 57ms/step - loss: 0.1112 - val_loss: 0.0223\n",
      "Epoch 10/15\n",
      "126/126 [==============================] - 7s 56ms/step - loss: 0.1102 - val_loss: 0.0213\n",
      "Epoch 11/15\n",
      "126/126 [==============================] - 7s 58ms/step - loss: 0.1092 - val_loss: 0.0207\n",
      "Epoch 12/15\n",
      "126/126 [==============================] - 7s 57ms/step - loss: 0.1081 - val_loss: 0.0202\n",
      "Epoch 13/15\n",
      "126/126 [==============================] - 7s 56ms/step - loss: 0.1075 - val_loss: 0.0204\n",
      "Epoch 14/15\n",
      "126/126 [==============================] - 7s 57ms/step - loss: 0.1067 - val_loss: 0.0190\n",
      "Epoch 15/15\n",
      "126/126 [==============================] - 7s 57ms/step - loss: 0.1061 - val_loss: 0.0192\n"
     ]
    },
    {
     "name": "stderr",
     "output_type": "stream",
     "text": [
      "WARNING:absl:Found untraced functions such as lstm_cell_31_layer_call_fn, lstm_cell_31_layer_call_and_return_conditional_losses while saving (showing 2 of 2). These functions will not be directly callable after loading.\n"
     ]
    },
    {
     "name": "stdout",
     "output_type": "stream",
     "text": [
      "INFO:tensorflow:Assets written to: Hybrid MP/month3_1_step_lookahead_Hybrid\\assets\n"
     ]
    },
    {
     "name": "stderr",
     "output_type": "stream",
     "text": [
      "INFO:tensorflow:Assets written to: Hybrid MP/month3_1_step_lookahead_Hybrid\\assets\n",
      "WARNING:absl:<keras.layers.recurrent.LSTMCell object at 0x000001F2A43C2700> has the same name 'LSTMCell' as a built-in Keras object. Consider renaming <class 'keras.layers.recurrent.LSTMCell'> to avoid naming conflicts when loading with `tf.keras.models.load_model`. If renaming is not possible, pass the object in the `custom_objects` parameter of the load function.\n"
     ]
    },
    {
     "name": "stdout",
     "output_type": "stream",
     "text": [
      "126/126 [==============================] - 3s 23ms/step\n",
      "55/55 [==============================] - 2s 23ms/step\n"
     ]
    },
    {
     "name": "stderr",
     "output_type": "stream",
     "text": [
      "D:\\Anaconda\\lib\\site-packages\\pandas\\core\\frame.py:3678: SettingWithCopyWarning: \n",
      "A value is trying to be set on a copy of a slice from a DataFrame.\n",
      "Try using .loc[row_indexer,col_indexer] = value instead\n",
      "\n",
      "See the caveats in the documentation: https://pandas.pydata.org/pandas-docs/stable/user_guide/indexing.html#returning-a-view-versus-a-copy\n",
      "  self[col] = igetitem(value, i)\n"
     ]
    },
    {
     "name": "stdout",
     "output_type": "stream",
     "text": [
      "Epoch 1/15\n",
      "126/126 [==============================] - 10s 63ms/step - loss: 0.2004 - val_loss: 0.0308\n",
      "Epoch 2/15\n",
      "126/126 [==============================] - 7s 59ms/step - loss: 0.1280 - val_loss: 0.0266\n",
      "Epoch 3/15\n",
      "126/126 [==============================] - 7s 58ms/step - loss: 0.1227 - val_loss: 0.0238\n",
      "Epoch 4/15\n",
      "126/126 [==============================] - 7s 58ms/step - loss: 0.1197 - val_loss: 0.0246\n",
      "Epoch 5/15\n",
      "126/126 [==============================] - 7s 58ms/step - loss: 0.1192 - val_loss: 0.0220\n",
      "Epoch 6/15\n",
      "126/126 [==============================] - 7s 58ms/step - loss: 0.1178 - val_loss: 0.0216\n",
      "Epoch 7/15\n",
      "126/126 [==============================] - 7s 58ms/step - loss: 0.1175 - val_loss: 0.0207\n",
      "Epoch 8/15\n",
      "126/126 [==============================] - 7s 59ms/step - loss: 0.1172 - val_loss: 0.0206\n",
      "Epoch 9/15\n",
      "126/126 [==============================] - 7s 59ms/step - loss: 0.1168 - val_loss: 0.0210\n",
      "Epoch 10/15\n",
      "126/126 [==============================] - 7s 58ms/step - loss: 0.1156 - val_loss: 0.0202\n",
      "Epoch 11/15\n",
      "126/126 [==============================] - 7s 59ms/step - loss: 0.1158 - val_loss: 0.0199\n",
      "Epoch 12/15\n",
      "126/126 [==============================] - 7s 59ms/step - loss: 0.1155 - val_loss: 0.0206\n",
      "Epoch 13/15\n",
      "126/126 [==============================] - 7s 59ms/step - loss: 0.1156 - val_loss: 0.0198\n",
      "Epoch 14/15\n",
      "126/126 [==============================] - 7s 58ms/step - loss: 0.1153 - val_loss: 0.0197\n",
      "Epoch 15/15\n",
      "126/126 [==============================] - 7s 58ms/step - loss: 0.1156 - val_loss: 0.0194\n"
     ]
    },
    {
     "name": "stderr",
     "output_type": "stream",
     "text": [
      "WARNING:absl:Found untraced functions such as lstm_cell_32_layer_call_fn, lstm_cell_32_layer_call_and_return_conditional_losses while saving (showing 2 of 2). These functions will not be directly callable after loading.\n"
     ]
    },
    {
     "name": "stdout",
     "output_type": "stream",
     "text": [
      "INFO:tensorflow:Assets written to: Hybrid MP/month3_2_step_lookahead_Hybrid\\assets\n"
     ]
    },
    {
     "name": "stderr",
     "output_type": "stream",
     "text": [
      "INFO:tensorflow:Assets written to: Hybrid MP/month3_2_step_lookahead_Hybrid\\assets\n",
      "WARNING:absl:<keras.layers.recurrent.LSTMCell object at 0x000001F2F5C91370> has the same name 'LSTMCell' as a built-in Keras object. Consider renaming <class 'keras.layers.recurrent.LSTMCell'> to avoid naming conflicts when loading with `tf.keras.models.load_model`. If renaming is not possible, pass the object in the `custom_objects` parameter of the load function.\n"
     ]
    },
    {
     "name": "stdout",
     "output_type": "stream",
     "text": [
      "126/126 [==============================] - 3s 24ms/step\n",
      "55/55 [==============================] - 1s 22ms/step\n"
     ]
    },
    {
     "name": "stderr",
     "output_type": "stream",
     "text": [
      "D:\\Anaconda\\lib\\site-packages\\pandas\\core\\frame.py:3678: SettingWithCopyWarning: \n",
      "A value is trying to be set on a copy of a slice from a DataFrame.\n",
      "Try using .loc[row_indexer,col_indexer] = value instead\n",
      "\n",
      "See the caveats in the documentation: https://pandas.pydata.org/pandas-docs/stable/user_guide/indexing.html#returning-a-view-versus-a-copy\n",
      "  self[col] = igetitem(value, i)\n"
     ]
    },
    {
     "name": "stdout",
     "output_type": "stream",
     "text": [
      "Epoch 1/15\n",
      "126/126 [==============================] - 10s 63ms/step - loss: 0.1918 - val_loss: 0.0361\n",
      "Epoch 2/15\n",
      "126/126 [==============================] - 7s 58ms/step - loss: 0.1328 - val_loss: 0.0296\n",
      "Epoch 3/15\n",
      "126/126 [==============================] - 7s 58ms/step - loss: 0.1285 - val_loss: 0.0294\n",
      "Epoch 4/15\n",
      "126/126 [==============================] - 7s 58ms/step - loss: 0.1262 - val_loss: 0.0278\n",
      "Epoch 5/15\n",
      "126/126 [==============================] - 7s 59ms/step - loss: 0.1239 - val_loss: 0.0277\n",
      "Epoch 6/15\n",
      "126/126 [==============================] - 7s 58ms/step - loss: 0.1230 - val_loss: 0.0268\n",
      "Epoch 7/15\n",
      "126/126 [==============================] - 7s 58ms/step - loss: 0.1224 - val_loss: 0.0270\n",
      "Epoch 8/15\n",
      "126/126 [==============================] - 7s 58ms/step - loss: 0.1218 - val_loss: 0.0269\n",
      "Epoch 9/15\n",
      "126/126 [==============================] - 7s 58ms/step - loss: 0.1217 - val_loss: 0.0267\n",
      "Epoch 10/15\n",
      "126/126 [==============================] - 7s 59ms/step - loss: 0.1202 - val_loss: 0.0268\n",
      "Epoch 11/15\n",
      "126/126 [==============================] - 7s 58ms/step - loss: 0.1199 - val_loss: 0.0280\n",
      "Epoch 12/15\n",
      "126/126 [==============================] - 7s 58ms/step - loss: 0.1200 - val_loss: 0.0267\n",
      "Epoch 13/15\n",
      "126/126 [==============================] - 7s 58ms/step - loss: 0.1197 - val_loss: 0.0264\n",
      "Epoch 14/15\n",
      "126/126 [==============================] - 7s 58ms/step - loss: 0.1192 - val_loss: 0.0264\n",
      "Epoch 15/15\n",
      "126/126 [==============================] - 7s 59ms/step - loss: 0.1189 - val_loss: 0.0265\n"
     ]
    },
    {
     "name": "stderr",
     "output_type": "stream",
     "text": [
      "WARNING:absl:Found untraced functions such as lstm_cell_33_layer_call_fn, lstm_cell_33_layer_call_and_return_conditional_losses while saving (showing 2 of 2). These functions will not be directly callable after loading.\n"
     ]
    },
    {
     "name": "stdout",
     "output_type": "stream",
     "text": [
      "INFO:tensorflow:Assets written to: Hybrid MP/month3_3_step_lookahead_Hybrid\\assets\n"
     ]
    },
    {
     "name": "stderr",
     "output_type": "stream",
     "text": [
      "INFO:tensorflow:Assets written to: Hybrid MP/month3_3_step_lookahead_Hybrid\\assets\n",
      "WARNING:absl:<keras.layers.recurrent.LSTMCell object at 0x000001F5691EF4C0> has the same name 'LSTMCell' as a built-in Keras object. Consider renaming <class 'keras.layers.recurrent.LSTMCell'> to avoid naming conflicts when loading with `tf.keras.models.load_model`. If renaming is not possible, pass the object in the `custom_objects` parameter of the load function.\n"
     ]
    },
    {
     "name": "stdout",
     "output_type": "stream",
     "text": [
      "126/126 [==============================] - 3s 23ms/step\n",
      "54/54 [==============================] - 2s 22ms/step\n"
     ]
    },
    {
     "name": "stderr",
     "output_type": "stream",
     "text": [
      "D:\\Anaconda\\lib\\site-packages\\pandas\\core\\frame.py:3678: SettingWithCopyWarning: \n",
      "A value is trying to be set on a copy of a slice from a DataFrame.\n",
      "Try using .loc[row_indexer,col_indexer] = value instead\n",
      "\n",
      "See the caveats in the documentation: https://pandas.pydata.org/pandas-docs/stable/user_guide/indexing.html#returning-a-view-versus-a-copy\n",
      "  self[col] = igetitem(value, i)\n"
     ]
    },
    {
     "name": "stdout",
     "output_type": "stream",
     "text": [
      "Epoch 1/15\n",
      "126/126 [==============================] - 10s 65ms/step - loss: 0.2000 - val_loss: 0.0305\n",
      "Epoch 2/15\n",
      "126/126 [==============================] - 7s 58ms/step - loss: 0.1334 - val_loss: 0.0270\n",
      "Epoch 3/15\n",
      "126/126 [==============================] - 7s 58ms/step - loss: 0.1292 - val_loss: 0.0258\n",
      "Epoch 4/15\n",
      "126/126 [==============================] - 7s 58ms/step - loss: 0.1280 - val_loss: 0.0273\n",
      "Epoch 5/15\n",
      "126/126 [==============================] - 7s 58ms/step - loss: 0.1266 - val_loss: 0.0261\n",
      "Epoch 6/15\n",
      "126/126 [==============================] - 7s 59ms/step - loss: 0.1260 - val_loss: 0.0269\n",
      "Epoch 7/15\n",
      "126/126 [==============================] - 7s 58ms/step - loss: 0.1256 - val_loss: 0.0263\n",
      "Epoch 8/15\n",
      "126/126 [==============================] - 7s 58ms/step - loss: 0.1252 - val_loss: 0.0256\n",
      "Epoch 9/15\n",
      "126/126 [==============================] - 7s 59ms/step - loss: 0.1252 - val_loss: 0.0257\n",
      "Epoch 10/15\n",
      "126/126 [==============================] - 7s 58ms/step - loss: 0.1245 - val_loss: 0.0265\n",
      "Epoch 11/15\n",
      "126/126 [==============================] - 7s 59ms/step - loss: 0.1242 - val_loss: 0.0255\n",
      "Epoch 12/15\n",
      "126/126 [==============================] - 7s 58ms/step - loss: 0.1243 - val_loss: 0.0255\n",
      "Epoch 13/15\n",
      "126/126 [==============================] - 7s 58ms/step - loss: 0.1238 - val_loss: 0.0259\n",
      "Epoch 14/15\n",
      "126/126 [==============================] - 7s 59ms/step - loss: 0.1239 - val_loss: 0.0261\n",
      "Epoch 15/15\n",
      "126/126 [==============================] - 7s 58ms/step - loss: 0.1229 - val_loss: 0.0264\n"
     ]
    },
    {
     "name": "stderr",
     "output_type": "stream",
     "text": [
      "WARNING:absl:Found untraced functions such as lstm_cell_34_layer_call_fn, lstm_cell_34_layer_call_and_return_conditional_losses while saving (showing 2 of 2). These functions will not be directly callable after loading.\n"
     ]
    },
    {
     "name": "stdout",
     "output_type": "stream",
     "text": [
      "INFO:tensorflow:Assets written to: Hybrid MP/month3_4_step_lookahead_Hybrid\\assets\n"
     ]
    },
    {
     "name": "stderr",
     "output_type": "stream",
     "text": [
      "INFO:tensorflow:Assets written to: Hybrid MP/month3_4_step_lookahead_Hybrid\\assets\n",
      "WARNING:absl:<keras.layers.recurrent.LSTMCell object at 0x000001F2A4418A00> has the same name 'LSTMCell' as a built-in Keras object. Consider renaming <class 'keras.layers.recurrent.LSTMCell'> to avoid naming conflicts when loading with `tf.keras.models.load_model`. If renaming is not possible, pass the object in the `custom_objects` parameter of the load function.\n"
     ]
    },
    {
     "name": "stdout",
     "output_type": "stream",
     "text": [
      "126/126 [==============================] - 3s 23ms/step\n",
      "54/54 [==============================] - 2s 22ms/step\n"
     ]
    },
    {
     "name": "stderr",
     "output_type": "stream",
     "text": [
      "D:\\Anaconda\\lib\\site-packages\\pandas\\core\\frame.py:3678: SettingWithCopyWarning: \n",
      "A value is trying to be set on a copy of a slice from a DataFrame.\n",
      "Try using .loc[row_indexer,col_indexer] = value instead\n",
      "\n",
      "See the caveats in the documentation: https://pandas.pydata.org/pandas-docs/stable/user_guide/indexing.html#returning-a-view-versus-a-copy\n",
      "  self[col] = igetitem(value, i)\n"
     ]
    },
    {
     "name": "stdout",
     "output_type": "stream",
     "text": [
      "Epoch 1/15\n",
      "126/126 [==============================] - 10s 62ms/step - loss: 0.1850 - val_loss: 0.0304\n",
      "Epoch 2/15\n",
      "126/126 [==============================] - 7s 59ms/step - loss: 0.1350 - val_loss: 0.0281\n",
      "Epoch 3/15\n",
      "126/126 [==============================] - 7s 58ms/step - loss: 0.1330 - val_loss: 0.0271\n",
      "Epoch 4/15\n",
      "126/126 [==============================] - 7s 58ms/step - loss: 0.1315 - val_loss: 0.0273\n",
      "Epoch 5/15\n",
      "126/126 [==============================] - 7s 58ms/step - loss: 0.1312 - val_loss: 0.0264\n",
      "Epoch 6/15\n",
      "126/126 [==============================] - 7s 58ms/step - loss: 0.1302 - val_loss: 0.0259\n",
      "Epoch 7/15\n",
      "126/126 [==============================] - 7s 57ms/step - loss: 0.1297 - val_loss: 0.0256\n",
      "Epoch 8/15\n",
      "126/126 [==============================] - 7s 58ms/step - loss: 0.1291 - val_loss: 0.0265\n",
      "Epoch 9/15\n",
      "126/126 [==============================] - 7s 58ms/step - loss: 0.1286 - val_loss: 0.0260\n",
      "Epoch 10/15\n",
      "126/126 [==============================] - 7s 58ms/step - loss: 0.1288 - val_loss: 0.0261\n",
      "Epoch 11/15\n",
      "126/126 [==============================] - 7s 57ms/step - loss: 0.1285 - val_loss: 0.0264\n",
      "Epoch 12/15\n",
      "126/126 [==============================] - 7s 57ms/step - loss: 0.1282 - val_loss: 0.0264\n",
      "Epoch 13/15\n",
      "126/126 [==============================] - 7s 58ms/step - loss: 0.1280 - val_loss: 0.0254\n",
      "Epoch 14/15\n",
      "126/126 [==============================] - 7s 58ms/step - loss: 0.1274 - val_loss: 0.0269\n",
      "Epoch 15/15\n",
      "126/126 [==============================] - 7s 58ms/step - loss: 0.1275 - val_loss: 0.0254\n"
     ]
    },
    {
     "name": "stderr",
     "output_type": "stream",
     "text": [
      "WARNING:absl:Found untraced functions such as lstm_cell_35_layer_call_fn, lstm_cell_35_layer_call_and_return_conditional_losses while saving (showing 2 of 2). These functions will not be directly callable after loading.\n"
     ]
    },
    {
     "name": "stdout",
     "output_type": "stream",
     "text": [
      "INFO:tensorflow:Assets written to: Hybrid MP/month3_5_step_lookahead_Hybrid\\assets\n"
     ]
    },
    {
     "name": "stderr",
     "output_type": "stream",
     "text": [
      "INFO:tensorflow:Assets written to: Hybrid MP/month3_5_step_lookahead_Hybrid\\assets\n",
      "WARNING:absl:<keras.layers.recurrent.LSTMCell object at 0x000001F5D1F37A60> has the same name 'LSTMCell' as a built-in Keras object. Consider renaming <class 'keras.layers.recurrent.LSTMCell'> to avoid naming conflicts when loading with `tf.keras.models.load_model`. If renaming is not possible, pass the object in the `custom_objects` parameter of the load function.\n"
     ]
    },
    {
     "name": "stdout",
     "output_type": "stream",
     "text": [
      "126/126 [==============================] - 3s 23ms/step\n",
      "54/54 [==============================] - 2s 22ms/step\n"
     ]
    },
    {
     "name": "stderr",
     "output_type": "stream",
     "text": [
      "D:\\Anaconda\\lib\\site-packages\\pandas\\core\\frame.py:3678: SettingWithCopyWarning: \n",
      "A value is trying to be set on a copy of a slice from a DataFrame.\n",
      "Try using .loc[row_indexer,col_indexer] = value instead\n",
      "\n",
      "See the caveats in the documentation: https://pandas.pydata.org/pandas-docs/stable/user_guide/indexing.html#returning-a-view-versus-a-copy\n",
      "  self[col] = igetitem(value, i)\n"
     ]
    },
    {
     "name": "stdout",
     "output_type": "stream",
     "text": [
      "Epoch 1/15\n",
      "126/126 [==============================] - 10s 63ms/step - loss: 0.2423 - val_loss: 0.0400\n",
      "Epoch 2/15\n",
      "126/126 [==============================] - 7s 58ms/step - loss: 0.1427 - val_loss: 0.0327\n",
      "Epoch 3/15\n",
      "126/126 [==============================] - 7s 58ms/step - loss: 0.1394 - val_loss: 0.0320\n",
      "Epoch 4/15\n",
      "126/126 [==============================] - 7s 58ms/step - loss: 0.1376 - val_loss: 0.0316\n",
      "Epoch 5/15\n",
      "126/126 [==============================] - 7s 59ms/step - loss: 0.1362 - val_loss: 0.0301\n",
      "Epoch 6/15\n",
      "126/126 [==============================] - 7s 58ms/step - loss: 0.1346 - val_loss: 0.0296\n",
      "Epoch 7/15\n",
      "126/126 [==============================] - 7s 58ms/step - loss: 0.1341 - val_loss: 0.0299\n",
      "Epoch 8/15\n",
      "126/126 [==============================] - 7s 58ms/step - loss: 0.1335 - val_loss: 0.0296\n",
      "Epoch 9/15\n",
      "126/126 [==============================] - 7s 58ms/step - loss: 0.1336 - val_loss: 0.0296\n",
      "Epoch 10/15\n",
      "126/126 [==============================] - 7s 58ms/step - loss: 0.1330 - val_loss: 0.0304\n",
      "Epoch 11/15\n",
      "126/126 [==============================] - 7s 57ms/step - loss: 0.1327 - val_loss: 0.0291\n",
      "Epoch 12/15\n",
      "126/126 [==============================] - 7s 58ms/step - loss: 0.1322 - val_loss: 0.0290\n",
      "Epoch 13/15\n",
      "126/126 [==============================] - 7s 58ms/step - loss: 0.1320 - val_loss: 0.0296\n",
      "Epoch 14/15\n",
      "126/126 [==============================] - 7s 58ms/step - loss: 0.1320 - val_loss: 0.0326\n",
      "Epoch 15/15\n",
      "126/126 [==============================] - 7s 57ms/step - loss: 0.1323 - val_loss: 0.0294\n"
     ]
    },
    {
     "name": "stderr",
     "output_type": "stream",
     "text": [
      "WARNING:absl:Found untraced functions such as lstm_cell_36_layer_call_fn, lstm_cell_36_layer_call_and_return_conditional_losses while saving (showing 2 of 2). These functions will not be directly callable after loading.\n"
     ]
    },
    {
     "name": "stdout",
     "output_type": "stream",
     "text": [
      "INFO:tensorflow:Assets written to: Hybrid MP/month3_6_step_lookahead_Hybrid\\assets\n"
     ]
    },
    {
     "name": "stderr",
     "output_type": "stream",
     "text": [
      "INFO:tensorflow:Assets written to: Hybrid MP/month3_6_step_lookahead_Hybrid\\assets\n",
      "WARNING:absl:<keras.layers.recurrent.LSTMCell object at 0x000001F56A7CB4F0> has the same name 'LSTMCell' as a built-in Keras object. Consider renaming <class 'keras.layers.recurrent.LSTMCell'> to avoid naming conflicts when loading with `tf.keras.models.load_model`. If renaming is not possible, pass the object in the `custom_objects` parameter of the load function.\n"
     ]
    },
    {
     "name": "stdout",
     "output_type": "stream",
     "text": [
      "126/126 [==============================] - 3s 23ms/step\n",
      "54/54 [==============================] - 1s 21ms/step\n"
     ]
    },
    {
     "name": "stderr",
     "output_type": "stream",
     "text": [
      "D:\\Anaconda\\lib\\site-packages\\pandas\\core\\frame.py:3678: SettingWithCopyWarning: \n",
      "A value is trying to be set on a copy of a slice from a DataFrame.\n",
      "Try using .loc[row_indexer,col_indexer] = value instead\n",
      "\n",
      "See the caveats in the documentation: https://pandas.pydata.org/pandas-docs/stable/user_guide/indexing.html#returning-a-view-versus-a-copy\n",
      "  self[col] = igetitem(value, i)\n"
     ]
    },
    {
     "name": "stdout",
     "output_type": "stream",
     "text": [
      "Epoch 1/15\n",
      "126/126 [==============================] - 10s 62ms/step - loss: 0.1872 - val_loss: 0.0351\n",
      "Epoch 2/15\n",
      "126/126 [==============================] - 7s 58ms/step - loss: 0.1421 - val_loss: 0.0325\n",
      "Epoch 3/15\n",
      "126/126 [==============================] - 7s 58ms/step - loss: 0.1407 - val_loss: 0.0314\n",
      "Epoch 4/15\n",
      "126/126 [==============================] - 7s 57ms/step - loss: 0.1392 - val_loss: 0.0314\n",
      "Epoch 5/15\n",
      "126/126 [==============================] - 7s 57ms/step - loss: 0.1392 - val_loss: 0.0320\n",
      "Epoch 6/15\n",
      "126/126 [==============================] - 7s 58ms/step - loss: 0.1386 - val_loss: 0.0307\n",
      "Epoch 7/15\n",
      "126/126 [==============================] - 7s 58ms/step - loss: 0.1383 - val_loss: 0.0306\n",
      "Epoch 8/15\n",
      "126/126 [==============================] - 7s 58ms/step - loss: 0.1376 - val_loss: 0.0316\n",
      "Epoch 9/15\n",
      "126/126 [==============================] - 7s 59ms/step - loss: 0.1376 - val_loss: 0.0310\n",
      "Epoch 10/15\n",
      "126/126 [==============================] - 7s 58ms/step - loss: 0.1376 - val_loss: 0.0302\n",
      "Epoch 11/15\n",
      "126/126 [==============================] - 7s 58ms/step - loss: 0.1368 - val_loss: 0.0306\n",
      "Epoch 12/15\n",
      "126/126 [==============================] - 7s 58ms/step - loss: 0.1373 - val_loss: 0.0307\n",
      "Epoch 13/15\n",
      "126/126 [==============================] - 7s 57ms/step - loss: 0.1370 - val_loss: 0.0303\n",
      "Epoch 14/15\n",
      "126/126 [==============================] - 7s 58ms/step - loss: 0.1367 - val_loss: 0.0301\n",
      "Epoch 15/15\n",
      "126/126 [==============================] - 7s 58ms/step - loss: 0.1369 - val_loss: 0.0295\n"
     ]
    },
    {
     "name": "stderr",
     "output_type": "stream",
     "text": [
      "WARNING:absl:Found untraced functions such as lstm_cell_37_layer_call_fn, lstm_cell_37_layer_call_and_return_conditional_losses while saving (showing 2 of 2). These functions will not be directly callable after loading.\n"
     ]
    },
    {
     "name": "stdout",
     "output_type": "stream",
     "text": [
      "INFO:tensorflow:Assets written to: Hybrid MP/month3_7_step_lookahead_Hybrid\\assets\n"
     ]
    },
    {
     "name": "stderr",
     "output_type": "stream",
     "text": [
      "INFO:tensorflow:Assets written to: Hybrid MP/month3_7_step_lookahead_Hybrid\\assets\n",
      "WARNING:absl:<keras.layers.recurrent.LSTMCell object at 0x000001F28E8A7430> has the same name 'LSTMCell' as a built-in Keras object. Consider renaming <class 'keras.layers.recurrent.LSTMCell'> to avoid naming conflicts when loading with `tf.keras.models.load_model`. If renaming is not possible, pass the object in the `custom_objects` parameter of the load function.\n"
     ]
    },
    {
     "name": "stdout",
     "output_type": "stream",
     "text": [
      "126/126 [==============================] - 3s 24ms/step\n",
      "54/54 [==============================] - 1s 21ms/step\n"
     ]
    },
    {
     "name": "stderr",
     "output_type": "stream",
     "text": [
      "D:\\Anaconda\\lib\\site-packages\\pandas\\core\\frame.py:3678: SettingWithCopyWarning: \n",
      "A value is trying to be set on a copy of a slice from a DataFrame.\n",
      "Try using .loc[row_indexer,col_indexer] = value instead\n",
      "\n",
      "See the caveats in the documentation: https://pandas.pydata.org/pandas-docs/stable/user_guide/indexing.html#returning-a-view-versus-a-copy\n",
      "  self[col] = igetitem(value, i)\n"
     ]
    },
    {
     "name": "stdout",
     "output_type": "stream",
     "text": [
      "Epoch 1/15\n",
      "126/126 [==============================] - 10s 64ms/step - loss: 0.2295 - val_loss: 0.0424\n",
      "Epoch 2/15\n",
      "126/126 [==============================] - 7s 58ms/step - loss: 0.1470 - val_loss: 0.0387\n",
      "Epoch 3/15\n",
      "126/126 [==============================] - 7s 58ms/step - loss: 0.1450 - val_loss: 0.0349\n",
      "Epoch 4/15\n",
      "126/126 [==============================] - 7s 58ms/step - loss: 0.1439 - val_loss: 0.0319\n",
      "Epoch 5/15\n",
      "126/126 [==============================] - 7s 59ms/step - loss: 0.1430 - val_loss: 0.0310\n",
      "Epoch 6/15\n",
      "126/126 [==============================] - 7s 58ms/step - loss: 0.1424 - val_loss: 0.0312\n",
      "Epoch 7/15\n",
      "126/126 [==============================] - 7s 57ms/step - loss: 0.1423 - val_loss: 0.0324\n",
      "Epoch 8/15\n",
      "126/126 [==============================] - 7s 58ms/step - loss: 0.1417 - val_loss: 0.0302\n",
      "Epoch 9/15\n",
      "126/126 [==============================] - 7s 58ms/step - loss: 0.1417 - val_loss: 0.0302\n",
      "Epoch 10/15\n",
      "126/126 [==============================] - 7s 59ms/step - loss: 0.1406 - val_loss: 0.0296\n",
      "Epoch 11/15\n",
      "126/126 [==============================] - 7s 59ms/step - loss: 0.1405 - val_loss: 0.0292\n",
      "Epoch 12/15\n",
      "126/126 [==============================] - 7s 58ms/step - loss: 0.1405 - val_loss: 0.0293\n",
      "Epoch 13/15\n",
      "126/126 [==============================] - 7s 59ms/step - loss: 0.1404 - val_loss: 0.0292\n",
      "Epoch 14/15\n",
      "126/126 [==============================] - 7s 58ms/step - loss: 0.1397 - val_loss: 0.0310\n",
      "Epoch 15/15\n",
      "126/126 [==============================] - 7s 58ms/step - loss: 0.1393 - val_loss: 0.0301\n"
     ]
    },
    {
     "name": "stderr",
     "output_type": "stream",
     "text": [
      "WARNING:absl:Found untraced functions such as lstm_cell_38_layer_call_fn, lstm_cell_38_layer_call_and_return_conditional_losses while saving (showing 2 of 2). These functions will not be directly callable after loading.\n"
     ]
    },
    {
     "name": "stdout",
     "output_type": "stream",
     "text": [
      "INFO:tensorflow:Assets written to: Hybrid MP/month3_8_step_lookahead_Hybrid\\assets\n"
     ]
    },
    {
     "name": "stderr",
     "output_type": "stream",
     "text": [
      "INFO:tensorflow:Assets written to: Hybrid MP/month3_8_step_lookahead_Hybrid\\assets\n",
      "WARNING:absl:<keras.layers.recurrent.LSTMCell object at 0x000001F56B013520> has the same name 'LSTMCell' as a built-in Keras object. Consider renaming <class 'keras.layers.recurrent.LSTMCell'> to avoid naming conflicts when loading with `tf.keras.models.load_model`. If renaming is not possible, pass the object in the `custom_objects` parameter of the load function.\n"
     ]
    },
    {
     "name": "stdout",
     "output_type": "stream",
     "text": [
      "126/126 [==============================] - 4s 25ms/step\n",
      "54/54 [==============================] - 1s 21ms/step\n"
     ]
    },
    {
     "name": "stderr",
     "output_type": "stream",
     "text": [
      "D:\\Anaconda\\lib\\site-packages\\pandas\\core\\frame.py:3678: SettingWithCopyWarning: \n",
      "A value is trying to be set on a copy of a slice from a DataFrame.\n",
      "Try using .loc[row_indexer,col_indexer] = value instead\n",
      "\n",
      "See the caveats in the documentation: https://pandas.pydata.org/pandas-docs/stable/user_guide/indexing.html#returning-a-view-versus-a-copy\n",
      "  self[col] = igetitem(value, i)\n"
     ]
    },
    {
     "name": "stdout",
     "output_type": "stream",
     "text": [
      "Epoch 1/15\n",
      "126/126 [==============================] - 10s 63ms/step - loss: 0.2565 - val_loss: 0.0449\n",
      "Epoch 2/15\n",
      "126/126 [==============================] - 7s 58ms/step - loss: 0.1487 - val_loss: 0.0399\n",
      "Epoch 3/15\n",
      "126/126 [==============================] - 7s 58ms/step - loss: 0.1467 - val_loss: 0.0371\n",
      "Epoch 4/15\n",
      "126/126 [==============================] - 7s 58ms/step - loss: 0.1456 - val_loss: 0.0365\n",
      "Epoch 5/15\n",
      "126/126 [==============================] - 7s 58ms/step - loss: 0.1447 - val_loss: 0.0335\n",
      "Epoch 6/15\n",
      "126/126 [==============================] - 7s 58ms/step - loss: 0.1445 - val_loss: 0.0330\n",
      "Epoch 7/15\n",
      "126/126 [==============================] - 7s 58ms/step - loss: 0.1445 - val_loss: 0.0325\n",
      "Epoch 8/15\n",
      "126/126 [==============================] - 7s 58ms/step - loss: 0.1443 - val_loss: 0.0353\n",
      "Epoch 9/15\n",
      "126/126 [==============================] - 7s 58ms/step - loss: 0.1440 - val_loss: 0.0321\n",
      "Epoch 10/15\n",
      "126/126 [==============================] - 7s 58ms/step - loss: 0.1436 - val_loss: 0.0318\n",
      "Epoch 11/15\n",
      "126/126 [==============================] - 7s 57ms/step - loss: 0.1434 - val_loss: 0.0332\n",
      "Epoch 12/15\n",
      "126/126 [==============================] - 7s 58ms/step - loss: 0.1428 - val_loss: 0.0324\n",
      "Epoch 13/15\n",
      "126/126 [==============================] - 7s 58ms/step - loss: 0.1426 - val_loss: 0.0319\n",
      "Epoch 14/15\n",
      "126/126 [==============================] - 7s 58ms/step - loss: 0.1431 - val_loss: 0.0328\n",
      "Epoch 15/15\n",
      "126/126 [==============================] - 7s 58ms/step - loss: 0.1429 - val_loss: 0.0323\n"
     ]
    },
    {
     "name": "stderr",
     "output_type": "stream",
     "text": [
      "WARNING:absl:Found untraced functions such as lstm_cell_39_layer_call_fn, lstm_cell_39_layer_call_and_return_conditional_losses while saving (showing 2 of 2). These functions will not be directly callable after loading.\n"
     ]
    },
    {
     "name": "stdout",
     "output_type": "stream",
     "text": [
      "INFO:tensorflow:Assets written to: Hybrid MP/month3_9_step_lookahead_Hybrid\\assets\n"
     ]
    },
    {
     "name": "stderr",
     "output_type": "stream",
     "text": [
      "INFO:tensorflow:Assets written to: Hybrid MP/month3_9_step_lookahead_Hybrid\\assets\n",
      "WARNING:absl:<keras.layers.recurrent.LSTMCell object at 0x000001F28EF28850> has the same name 'LSTMCell' as a built-in Keras object. Consider renaming <class 'keras.layers.recurrent.LSTMCell'> to avoid naming conflicts when loading with `tf.keras.models.load_model`. If renaming is not possible, pass the object in the `custom_objects` parameter of the load function.\n"
     ]
    },
    {
     "name": "stdout",
     "output_type": "stream",
     "text": [
      "126/126 [==============================] - 3s 23ms/step\n",
      "54/54 [==============================] - 1s 21ms/step\n"
     ]
    },
    {
     "name": "stderr",
     "output_type": "stream",
     "text": [
      "D:\\Anaconda\\lib\\site-packages\\pandas\\core\\frame.py:3678: SettingWithCopyWarning: \n",
      "A value is trying to be set on a copy of a slice from a DataFrame.\n",
      "Try using .loc[row_indexer,col_indexer] = value instead\n",
      "\n",
      "See the caveats in the documentation: https://pandas.pydata.org/pandas-docs/stable/user_guide/indexing.html#returning-a-view-versus-a-copy\n",
      "  self[col] = igetitem(value, i)\n"
     ]
    },
    {
     "name": "stdout",
     "output_type": "stream",
     "text": [
      "Epoch 1/15\n",
      "126/126 [==============================] - 10s 62ms/step - loss: 0.1557 - val_loss: 0.0342\n",
      "Epoch 2/15\n",
      "126/126 [==============================] - 7s 58ms/step - loss: 0.1479 - val_loss: 0.0334\n",
      "Epoch 3/15\n",
      "126/126 [==============================] - 7s 58ms/step - loss: 0.1472 - val_loss: 0.0343\n",
      "Epoch 4/15\n",
      "126/126 [==============================] - 7s 58ms/step - loss: 0.1471 - val_loss: 0.0324\n",
      "Epoch 5/15\n",
      "126/126 [==============================] - 7s 58ms/step - loss: 0.1471 - val_loss: 0.0327\n",
      "Epoch 6/15\n",
      "126/126 [==============================] - 7s 58ms/step - loss: 0.1468 - val_loss: 0.0329\n",
      "Epoch 7/15\n",
      "126/126 [==============================] - 7s 58ms/step - loss: 0.1465 - val_loss: 0.0349\n",
      "Epoch 8/15\n",
      "126/126 [==============================] - 7s 58ms/step - loss: 0.1463 - val_loss: 0.0337\n",
      "Epoch 9/15\n",
      "126/126 [==============================] - 7s 58ms/step - loss: 0.1468 - val_loss: 0.0324\n",
      "Epoch 10/15\n",
      "126/126 [==============================] - 7s 57ms/step - loss: 0.1455 - val_loss: 0.0348\n",
      "Epoch 11/15\n",
      "126/126 [==============================] - 7s 58ms/step - loss: 0.1458 - val_loss: 0.0334\n",
      "Epoch 12/15\n",
      "126/126 [==============================] - 7s 59ms/step - loss: 0.1457 - val_loss: 0.0322\n",
      "Epoch 13/15\n",
      "126/126 [==============================] - 7s 58ms/step - loss: 0.1461 - val_loss: 0.0331\n",
      "Epoch 14/15\n",
      "126/126 [==============================] - 7s 58ms/step - loss: 0.1459 - val_loss: 0.0321\n",
      "Epoch 15/15\n",
      "126/126 [==============================] - 7s 58ms/step - loss: 0.1452 - val_loss: 0.0326\n"
     ]
    },
    {
     "name": "stderr",
     "output_type": "stream",
     "text": [
      "WARNING:absl:Found untraced functions such as lstm_cell_40_layer_call_fn, lstm_cell_40_layer_call_and_return_conditional_losses while saving (showing 2 of 2). These functions will not be directly callable after loading.\n"
     ]
    },
    {
     "name": "stdout",
     "output_type": "stream",
     "text": [
      "INFO:tensorflow:Assets written to: Hybrid MP/month3_10_step_lookahead_Hybrid\\assets\n"
     ]
    },
    {
     "name": "stderr",
     "output_type": "stream",
     "text": [
      "INFO:tensorflow:Assets written to: Hybrid MP/month3_10_step_lookahead_Hybrid\\assets\n",
      "WARNING:absl:<keras.layers.recurrent.LSTMCell object at 0x000001F56A940970> has the same name 'LSTMCell' as a built-in Keras object. Consider renaming <class 'keras.layers.recurrent.LSTMCell'> to avoid naming conflicts when loading with `tf.keras.models.load_model`. If renaming is not possible, pass the object in the `custom_objects` parameter of the load function.\n"
     ]
    },
    {
     "name": "stdout",
     "output_type": "stream",
     "text": [
      "126/126 [==============================] - 3s 23ms/step\n",
      "54/54 [==============================] - 1s 21ms/step\n"
     ]
    },
    {
     "name": "stderr",
     "output_type": "stream",
     "text": [
      "D:\\Anaconda\\lib\\site-packages\\pandas\\core\\frame.py:3678: SettingWithCopyWarning: \n",
      "A value is trying to be set on a copy of a slice from a DataFrame.\n",
      "Try using .loc[row_indexer,col_indexer] = value instead\n",
      "\n",
      "See the caveats in the documentation: https://pandas.pydata.org/pandas-docs/stable/user_guide/indexing.html#returning-a-view-versus-a-copy\n",
      "  self[col] = igetitem(value, i)\n",
      "D:\\Anaconda\\lib\\site-packages\\pandas\\core\\frame.py:3678: SettingWithCopyWarning: \n",
      "A value is trying to be set on a copy of a slice from a DataFrame.\n",
      "Try using .loc[row_indexer,col_indexer] = value instead\n",
      "\n",
      "See the caveats in the documentation: https://pandas.pydata.org/pandas-docs/stable/user_guide/indexing.html#returning-a-view-versus-a-copy\n",
      "  self[col] = igetitem(value, i)\n"
     ]
    },
    {
     "name": "stdout",
     "output_type": "stream",
     "text": [
      "Epoch 1/15\n",
      "145/145 [==============================] - 12s 62ms/step - loss: 1.5369 - val_loss: 0.0901\n",
      "Epoch 2/15\n",
      "145/145 [==============================] - 8s 59ms/step - loss: 1.5035 - val_loss: 0.0818\n",
      "Epoch 3/15\n",
      "145/145 [==============================] - 8s 59ms/step - loss: 1.4870 - val_loss: 0.0759\n",
      "Epoch 4/15\n",
      "145/145 [==============================] - 8s 58ms/step - loss: 1.4597 - val_loss: 0.0718\n",
      "Epoch 5/15\n",
      "145/145 [==============================] - 8s 58ms/step - loss: 1.4447 - val_loss: 0.0678\n",
      "Epoch 6/15\n",
      "145/145 [==============================] - 8s 58ms/step - loss: 1.4329 - val_loss: 0.0646\n",
      "Epoch 7/15\n",
      "145/145 [==============================] - 8s 58ms/step - loss: 1.4181 - val_loss: 0.0617\n",
      "Epoch 8/15\n",
      "145/145 [==============================] - 8s 58ms/step - loss: 1.4065 - val_loss: 0.0594\n",
      "Epoch 9/15\n",
      "145/145 [==============================] - 9s 59ms/step - loss: 1.3934 - val_loss: 0.0564\n",
      "Epoch 10/15\n",
      "145/145 [==============================] - 8s 58ms/step - loss: 1.3799 - val_loss: 0.0551\n",
      "Epoch 11/15\n",
      "145/145 [==============================] - 8s 58ms/step - loss: 1.3680 - val_loss: 0.0520\n",
      "Epoch 12/15\n",
      "145/145 [==============================] - 8s 58ms/step - loss: 1.3568 - val_loss: 0.0512\n",
      "Epoch 13/15\n",
      "145/145 [==============================] - 8s 58ms/step - loss: 1.3456 - val_loss: 0.0496\n",
      "Epoch 14/15\n",
      "145/145 [==============================] - 8s 58ms/step - loss: 1.3330 - val_loss: 0.0500\n",
      "Epoch 15/15\n",
      "145/145 [==============================] - 8s 58ms/step - loss: 1.3216 - val_loss: 0.0486\n"
     ]
    },
    {
     "name": "stderr",
     "output_type": "stream",
     "text": [
      "WARNING:absl:Found untraced functions such as lstm_cell_41_layer_call_fn, lstm_cell_41_layer_call_and_return_conditional_losses while saving (showing 2 of 2). These functions will not be directly callable after loading.\n"
     ]
    },
    {
     "name": "stdout",
     "output_type": "stream",
     "text": [
      "INFO:tensorflow:Assets written to: Hybrid MP/month4_1_step_lookahead_Hybrid\\assets\n"
     ]
    },
    {
     "name": "stderr",
     "output_type": "stream",
     "text": [
      "INFO:tensorflow:Assets written to: Hybrid MP/month4_1_step_lookahead_Hybrid\\assets\n",
      "WARNING:absl:<keras.layers.recurrent.LSTMCell object at 0x000001F2BF761610> has the same name 'LSTMCell' as a built-in Keras object. Consider renaming <class 'keras.layers.recurrent.LSTMCell'> to avoid naming conflicts when loading with `tf.keras.models.load_model`. If renaming is not possible, pass the object in the `custom_objects` parameter of the load function.\n"
     ]
    },
    {
     "name": "stdout",
     "output_type": "stream",
     "text": [
      "145/145 [==============================] - 4s 24ms/step\n",
      "63/63 [==============================] - 1s 22ms/step\n"
     ]
    },
    {
     "name": "stderr",
     "output_type": "stream",
     "text": [
      "D:\\Anaconda\\lib\\site-packages\\pandas\\core\\frame.py:3678: SettingWithCopyWarning: \n",
      "A value is trying to be set on a copy of a slice from a DataFrame.\n",
      "Try using .loc[row_indexer,col_indexer] = value instead\n",
      "\n",
      "See the caveats in the documentation: https://pandas.pydata.org/pandas-docs/stable/user_guide/indexing.html#returning-a-view-versus-a-copy\n",
      "  self[col] = igetitem(value, i)\n"
     ]
    },
    {
     "name": "stdout",
     "output_type": "stream",
     "text": [
      "Epoch 1/15\n",
      "145/145 [==============================] - 12s 62ms/step - loss: 1.6430 - val_loss: 0.1041\n",
      "Epoch 2/15\n",
      "145/145 [==============================] - 8s 58ms/step - loss: 1.5531 - val_loss: 0.0798\n",
      "Epoch 3/15\n",
      "145/145 [==============================] - 8s 58ms/step - loss: 1.5265 - val_loss: 0.0706\n",
      "Epoch 4/15\n",
      "145/145 [==============================] - 8s 58ms/step - loss: 1.5047 - val_loss: 0.0650\n",
      "Epoch 5/15\n",
      "145/145 [==============================] - 8s 58ms/step - loss: 1.4723 - val_loss: 0.0601\n",
      "Epoch 6/15\n",
      "145/145 [==============================] - 8s 57ms/step - loss: 1.4413 - val_loss: 0.0579\n",
      "Epoch 7/15\n",
      "145/145 [==============================] - 8s 58ms/step - loss: 1.4175 - val_loss: 0.0551\n",
      "Epoch 8/15\n",
      "145/145 [==============================] - 8s 58ms/step - loss: 1.3889 - val_loss: 0.0579\n",
      "Epoch 9/15\n",
      "145/145 [==============================] - 8s 58ms/step - loss: 1.3598 - val_loss: 0.0554\n",
      "Epoch 10/15\n",
      "145/145 [==============================] - 8s 58ms/step - loss: 1.3651 - val_loss: 0.0525\n",
      "Epoch 11/15\n",
      "145/145 [==============================] - 8s 58ms/step - loss: 1.3214 - val_loss: 0.0558\n",
      "Epoch 12/15\n",
      "145/145 [==============================] - 8s 58ms/step - loss: 1.2844 - val_loss: 0.0552\n",
      "Epoch 13/15\n",
      "145/145 [==============================] - 8s 58ms/step - loss: 1.2542 - val_loss: 0.0528\n",
      "Epoch 14/15\n",
      "145/145 [==============================] - 8s 57ms/step - loss: 1.2629 - val_loss: 0.0565\n",
      "Epoch 15/15\n",
      "145/145 [==============================] - 8s 57ms/step - loss: 1.2710 - val_loss: 0.0583\n"
     ]
    },
    {
     "name": "stderr",
     "output_type": "stream",
     "text": [
      "WARNING:absl:Found untraced functions such as lstm_cell_42_layer_call_fn, lstm_cell_42_layer_call_and_return_conditional_losses while saving (showing 2 of 2). These functions will not be directly callable after loading.\n"
     ]
    },
    {
     "name": "stdout",
     "output_type": "stream",
     "text": [
      "INFO:tensorflow:Assets written to: Hybrid MP/month4_2_step_lookahead_Hybrid\\assets\n"
     ]
    },
    {
     "name": "stderr",
     "output_type": "stream",
     "text": [
      "INFO:tensorflow:Assets written to: Hybrid MP/month4_2_step_lookahead_Hybrid\\assets\n",
      "WARNING:absl:<keras.layers.recurrent.LSTMCell object at 0x000001F2BA76E370> has the same name 'LSTMCell' as a built-in Keras object. Consider renaming <class 'keras.layers.recurrent.LSTMCell'> to avoid naming conflicts when loading with `tf.keras.models.load_model`. If renaming is not possible, pass the object in the `custom_objects` parameter of the load function.\n"
     ]
    },
    {
     "name": "stdout",
     "output_type": "stream",
     "text": [
      "145/145 [==============================] - 4s 24ms/step\n",
      "63/63 [==============================] - 1s 22ms/step\n"
     ]
    },
    {
     "name": "stderr",
     "output_type": "stream",
     "text": [
      "D:\\Anaconda\\lib\\site-packages\\pandas\\core\\frame.py:3678: SettingWithCopyWarning: \n",
      "A value is trying to be set on a copy of a slice from a DataFrame.\n",
      "Try using .loc[row_indexer,col_indexer] = value instead\n",
      "\n",
      "See the caveats in the documentation: https://pandas.pydata.org/pandas-docs/stable/user_guide/indexing.html#returning-a-view-versus-a-copy\n",
      "  self[col] = igetitem(value, i)\n"
     ]
    },
    {
     "name": "stdout",
     "output_type": "stream",
     "text": [
      "Epoch 1/15\n",
      "145/145 [==============================] - 12s 65ms/step - loss: 1.7139 - val_loss: 0.1423\n",
      "Epoch 2/15\n",
      "145/145 [==============================] - 9s 59ms/step - loss: 1.6092 - val_loss: 0.1138\n",
      "Epoch 3/15\n",
      "145/145 [==============================] - 8s 59ms/step - loss: 1.5717 - val_loss: 0.0992\n",
      "Epoch 4/15\n",
      "145/145 [==============================] - 8s 58ms/step - loss: 1.5435 - val_loss: 0.0876\n",
      "Epoch 5/15\n",
      "145/145 [==============================] - 8s 58ms/step - loss: 1.5247 - val_loss: 0.0751\n",
      "Epoch 6/15\n",
      "145/145 [==============================] - 8s 58ms/step - loss: 1.5015 - val_loss: 0.0730\n",
      "Epoch 7/15\n",
      "145/145 [==============================] - 8s 58ms/step - loss: 1.4817 - val_loss: 0.0764\n",
      "Epoch 8/15\n",
      "145/145 [==============================] - 9s 59ms/step - loss: 1.4577 - val_loss: 0.0876\n",
      "Epoch 9/15\n",
      "145/145 [==============================] - 8s 57ms/step - loss: 1.4303 - val_loss: 0.0908\n",
      "Epoch 10/15\n",
      "145/145 [==============================] - 8s 57ms/step - loss: 1.4005 - val_loss: 0.0964\n",
      "Epoch 11/15\n",
      "145/145 [==============================] - 8s 58ms/step - loss: 1.4529 - val_loss: 0.0875\n",
      "Epoch 12/15\n",
      "145/145 [==============================] - 8s 58ms/step - loss: 1.4250 - val_loss: 0.0837\n",
      "Epoch 13/15\n",
      "145/145 [==============================] - 8s 58ms/step - loss: 1.4149 - val_loss: 0.0838\n",
      "Epoch 14/15\n",
      "145/145 [==============================] - 8s 58ms/step - loss: 1.4030 - val_loss: 0.0829\n",
      "Epoch 15/15\n",
      "145/145 [==============================] - 8s 58ms/step - loss: 1.3911 - val_loss: 0.0839\n"
     ]
    },
    {
     "name": "stderr",
     "output_type": "stream",
     "text": [
      "WARNING:absl:Found untraced functions such as lstm_cell_43_layer_call_fn, lstm_cell_43_layer_call_and_return_conditional_losses while saving (showing 2 of 2). These functions will not be directly callable after loading.\n"
     ]
    },
    {
     "name": "stdout",
     "output_type": "stream",
     "text": [
      "INFO:tensorflow:Assets written to: Hybrid MP/month4_3_step_lookahead_Hybrid\\assets\n"
     ]
    },
    {
     "name": "stderr",
     "output_type": "stream",
     "text": [
      "INFO:tensorflow:Assets written to: Hybrid MP/month4_3_step_lookahead_Hybrid\\assets\n",
      "WARNING:absl:<keras.layers.recurrent.LSTMCell object at 0x000001F28F495CA0> has the same name 'LSTMCell' as a built-in Keras object. Consider renaming <class 'keras.layers.recurrent.LSTMCell'> to avoid naming conflicts when loading with `tf.keras.models.load_model`. If renaming is not possible, pass the object in the `custom_objects` parameter of the load function.\n"
     ]
    },
    {
     "name": "stdout",
     "output_type": "stream",
     "text": [
      "145/145 [==============================] - 4s 23ms/step\n",
      "63/63 [==============================] - 1s 21ms/step\n"
     ]
    },
    {
     "name": "stderr",
     "output_type": "stream",
     "text": [
      "D:\\Anaconda\\lib\\site-packages\\pandas\\core\\frame.py:3678: SettingWithCopyWarning: \n",
      "A value is trying to be set on a copy of a slice from a DataFrame.\n",
      "Try using .loc[row_indexer,col_indexer] = value instead\n",
      "\n",
      "See the caveats in the documentation: https://pandas.pydata.org/pandas-docs/stable/user_guide/indexing.html#returning-a-view-versus-a-copy\n",
      "  self[col] = igetitem(value, i)\n"
     ]
    },
    {
     "name": "stdout",
     "output_type": "stream",
     "text": [
      "Epoch 1/15\n",
      "145/145 [==============================] - 11s 61ms/step - loss: 1.7007 - val_loss: 0.1356\n",
      "Epoch 2/15\n",
      "145/145 [==============================] - 8s 58ms/step - loss: 1.6034 - val_loss: 0.1126\n",
      "Epoch 3/15\n",
      "145/145 [==============================] - 8s 58ms/step - loss: 1.5824 - val_loss: 0.0949\n",
      "Epoch 4/15\n",
      "145/145 [==============================] - 8s 58ms/step - loss: 1.5695 - val_loss: 0.0942\n",
      "Epoch 5/15\n",
      "145/145 [==============================] - 8s 58ms/step - loss: 1.5535 - val_loss: 0.0973\n",
      "Epoch 6/15\n",
      "145/145 [==============================] - 8s 57ms/step - loss: 1.5405 - val_loss: 0.0857\n",
      "Epoch 7/15\n",
      "145/145 [==============================] - 8s 57ms/step - loss: 1.5255 - val_loss: 0.0915\n",
      "Epoch 8/15\n",
      "145/145 [==============================] - 8s 58ms/step - loss: 1.5124 - val_loss: 0.0933\n",
      "Epoch 9/15\n",
      "145/145 [==============================] - 8s 58ms/step - loss: 1.5007 - val_loss: 0.1003\n",
      "Epoch 10/15\n",
      "145/145 [==============================] - 8s 58ms/step - loss: 1.4912 - val_loss: 0.0914\n",
      "Epoch 11/15\n",
      "145/145 [==============================] - 8s 58ms/step - loss: 1.4693 - val_loss: 0.0937\n",
      "Epoch 12/15\n",
      "145/145 [==============================] - 8s 57ms/step - loss: 1.4184 - val_loss: 0.1005\n",
      "Epoch 13/15\n",
      "145/145 [==============================] - 8s 59ms/step - loss: 1.3655 - val_loss: 0.1377\n",
      "Epoch 14/15\n",
      "145/145 [==============================] - 8s 58ms/step - loss: 1.3383 - val_loss: 0.1154\n",
      "Epoch 15/15\n",
      "145/145 [==============================] - 8s 59ms/step - loss: 1.2822 - val_loss: 0.1183\n"
     ]
    },
    {
     "name": "stderr",
     "output_type": "stream",
     "text": [
      "WARNING:absl:Found untraced functions such as lstm_cell_44_layer_call_fn, lstm_cell_44_layer_call_and_return_conditional_losses while saving (showing 2 of 2). These functions will not be directly callable after loading.\n"
     ]
    },
    {
     "name": "stdout",
     "output_type": "stream",
     "text": [
      "INFO:tensorflow:Assets written to: Hybrid MP/month4_4_step_lookahead_Hybrid\\assets\n"
     ]
    },
    {
     "name": "stderr",
     "output_type": "stream",
     "text": [
      "INFO:tensorflow:Assets written to: Hybrid MP/month4_4_step_lookahead_Hybrid\\assets\n",
      "WARNING:absl:<keras.layers.recurrent.LSTMCell object at 0x000001F5BDD1DB80> has the same name 'LSTMCell' as a built-in Keras object. Consider renaming <class 'keras.layers.recurrent.LSTMCell'> to avoid naming conflicts when loading with `tf.keras.models.load_model`. If renaming is not possible, pass the object in the `custom_objects` parameter of the load function.\n"
     ]
    },
    {
     "name": "stdout",
     "output_type": "stream",
     "text": [
      "145/145 [==============================] - 4s 23ms/step\n",
      "63/63 [==============================] - 1s 21ms/step\n"
     ]
    },
    {
     "name": "stderr",
     "output_type": "stream",
     "text": [
      "D:\\Anaconda\\lib\\site-packages\\pandas\\core\\frame.py:3678: SettingWithCopyWarning: \n",
      "A value is trying to be set on a copy of a slice from a DataFrame.\n",
      "Try using .loc[row_indexer,col_indexer] = value instead\n",
      "\n",
      "See the caveats in the documentation: https://pandas.pydata.org/pandas-docs/stable/user_guide/indexing.html#returning-a-view-versus-a-copy\n",
      "  self[col] = igetitem(value, i)\n"
     ]
    },
    {
     "name": "stdout",
     "output_type": "stream",
     "text": [
      "Epoch 1/15\n",
      "145/145 [==============================] - 11s 61ms/step - loss: 1.5969 - val_loss: 0.0982\n",
      "Epoch 2/15\n",
      "145/145 [==============================] - 8s 58ms/step - loss: 1.5750 - val_loss: 0.0923\n",
      "Epoch 3/15\n",
      "145/145 [==============================] - 8s 58ms/step - loss: 1.5592 - val_loss: 0.0897\n",
      "Epoch 4/15\n",
      "145/145 [==============================] - 9s 59ms/step - loss: 1.5460 - val_loss: 0.0912\n",
      "Epoch 5/15\n",
      "145/145 [==============================] - 8s 58ms/step - loss: 1.5206 - val_loss: 0.0946\n",
      "Epoch 6/15\n",
      "145/145 [==============================] - 8s 58ms/step - loss: 1.4995 - val_loss: 0.1103\n",
      "Epoch 7/15\n",
      "145/145 [==============================] - 8s 58ms/step - loss: 1.4350 - val_loss: 0.1354\n",
      "Epoch 8/15\n",
      "145/145 [==============================] - 8s 58ms/step - loss: 1.3165 - val_loss: 0.1321\n",
      "Epoch 9/15\n",
      "145/145 [==============================] - 8s 59ms/step - loss: 1.3047 - val_loss: 0.2028\n",
      "Epoch 10/15\n",
      "145/145 [==============================] - 8s 58ms/step - loss: 1.2152 - val_loss: 0.1476\n",
      "Epoch 11/15\n",
      "145/145 [==============================] - 8s 58ms/step - loss: 1.2813 - val_loss: 0.1779\n",
      "Epoch 12/15\n",
      "145/145 [==============================] - 8s 58ms/step - loss: 1.1582 - val_loss: 0.1909\n",
      "Epoch 13/15\n",
      "145/145 [==============================] - 8s 58ms/step - loss: 1.1318 - val_loss: 0.1686\n",
      "Epoch 14/15\n",
      "145/145 [==============================] - 8s 57ms/step - loss: 1.1146 - val_loss: 0.1854\n",
      "Epoch 15/15\n",
      "145/145 [==============================] - 8s 57ms/step - loss: 1.0752 - val_loss: 0.1783\n"
     ]
    },
    {
     "name": "stderr",
     "output_type": "stream",
     "text": [
      "WARNING:absl:Found untraced functions such as lstm_cell_45_layer_call_fn, lstm_cell_45_layer_call_and_return_conditional_losses while saving (showing 2 of 2). These functions will not be directly callable after loading.\n"
     ]
    },
    {
     "name": "stdout",
     "output_type": "stream",
     "text": [
      "INFO:tensorflow:Assets written to: Hybrid MP/month4_5_step_lookahead_Hybrid\\assets\n"
     ]
    },
    {
     "name": "stderr",
     "output_type": "stream",
     "text": [
      "INFO:tensorflow:Assets written to: Hybrid MP/month4_5_step_lookahead_Hybrid\\assets\n",
      "WARNING:absl:<keras.layers.recurrent.LSTMCell object at 0x000001F56AF55760> has the same name 'LSTMCell' as a built-in Keras object. Consider renaming <class 'keras.layers.recurrent.LSTMCell'> to avoid naming conflicts when loading with `tf.keras.models.load_model`. If renaming is not possible, pass the object in the `custom_objects` parameter of the load function.\n"
     ]
    },
    {
     "name": "stdout",
     "output_type": "stream",
     "text": [
      "145/145 [==============================] - 4s 23ms/step\n",
      "63/63 [==============================] - 1s 21ms/step\n"
     ]
    },
    {
     "name": "stderr",
     "output_type": "stream",
     "text": [
      "D:\\Anaconda\\lib\\site-packages\\pandas\\core\\frame.py:3678: SettingWithCopyWarning: \n",
      "A value is trying to be set on a copy of a slice from a DataFrame.\n",
      "Try using .loc[row_indexer,col_indexer] = value instead\n",
      "\n",
      "See the caveats in the documentation: https://pandas.pydata.org/pandas-docs/stable/user_guide/indexing.html#returning-a-view-versus-a-copy\n",
      "  self[col] = igetitem(value, i)\n"
     ]
    },
    {
     "name": "stdout",
     "output_type": "stream",
     "text": [
      "Epoch 1/15\n",
      "145/145 [==============================] - 11s 62ms/step - loss: 1.6457 - val_loss: 0.1114\n",
      "Epoch 2/15\n",
      "145/145 [==============================] - 8s 58ms/step - loss: 1.5763 - val_loss: 0.1019\n",
      "Epoch 3/15\n",
      "145/145 [==============================] - 8s 58ms/step - loss: 1.5527 - val_loss: 0.0999\n",
      "Epoch 4/15\n",
      "145/145 [==============================] - 8s 58ms/step - loss: 1.5252 - val_loss: 0.1020\n",
      "Epoch 5/15\n",
      "145/145 [==============================] - 8s 58ms/step - loss: 1.4746 - val_loss: 0.1185\n",
      "Epoch 6/15\n",
      "145/145 [==============================] - 8s 58ms/step - loss: 1.5057 - val_loss: 0.0838\n",
      "Epoch 7/15\n",
      "145/145 [==============================] - 8s 57ms/step - loss: 1.3761 - val_loss: 0.1143\n",
      "Epoch 8/15\n",
      "145/145 [==============================] - 8s 57ms/step - loss: 1.3235 - val_loss: 0.1283\n",
      "Epoch 9/15\n",
      "145/145 [==============================] - 8s 58ms/step - loss: 1.3233 - val_loss: 0.1360\n",
      "Epoch 10/15\n",
      "145/145 [==============================] - 8s 58ms/step - loss: 1.3029 - val_loss: 0.1483\n",
      "Epoch 11/15\n",
      "145/145 [==============================] - 8s 58ms/step - loss: 1.2270 - val_loss: 0.1526\n",
      "Epoch 12/15\n",
      "145/145 [==============================] - 8s 58ms/step - loss: 1.1898 - val_loss: 0.1570\n",
      "Epoch 13/15\n",
      "145/145 [==============================] - 8s 57ms/step - loss: 1.1726 - val_loss: 0.1604\n",
      "Epoch 14/15\n",
      "145/145 [==============================] - 8s 57ms/step - loss: 1.1326 - val_loss: 0.1651\n",
      "Epoch 15/15\n",
      "145/145 [==============================] - 8s 57ms/step - loss: 1.1126 - val_loss: 0.1609\n"
     ]
    },
    {
     "name": "stderr",
     "output_type": "stream",
     "text": [
      "WARNING:absl:Found untraced functions such as lstm_cell_46_layer_call_fn, lstm_cell_46_layer_call_and_return_conditional_losses while saving (showing 2 of 2). These functions will not be directly callable after loading.\n"
     ]
    },
    {
     "name": "stdout",
     "output_type": "stream",
     "text": [
      "INFO:tensorflow:Assets written to: Hybrid MP/month4_6_step_lookahead_Hybrid\\assets\n"
     ]
    },
    {
     "name": "stderr",
     "output_type": "stream",
     "text": [
      "INFO:tensorflow:Assets written to: Hybrid MP/month4_6_step_lookahead_Hybrid\\assets\n",
      "WARNING:absl:<keras.layers.recurrent.LSTMCell object at 0x000001F56AEEA640> has the same name 'LSTMCell' as a built-in Keras object. Consider renaming <class 'keras.layers.recurrent.LSTMCell'> to avoid naming conflicts when loading with `tf.keras.models.load_model`. If renaming is not possible, pass the object in the `custom_objects` parameter of the load function.\n"
     ]
    },
    {
     "name": "stdout",
     "output_type": "stream",
     "text": [
      "145/145 [==============================] - 4s 22ms/step\n",
      "63/63 [==============================] - 1s 21ms/step\n"
     ]
    },
    {
     "name": "stderr",
     "output_type": "stream",
     "text": [
      "D:\\Anaconda\\lib\\site-packages\\pandas\\core\\frame.py:3678: SettingWithCopyWarning: \n",
      "A value is trying to be set on a copy of a slice from a DataFrame.\n",
      "Try using .loc[row_indexer,col_indexer] = value instead\n",
      "\n",
      "See the caveats in the documentation: https://pandas.pydata.org/pandas-docs/stable/user_guide/indexing.html#returning-a-view-versus-a-copy\n",
      "  self[col] = igetitem(value, i)\n"
     ]
    },
    {
     "name": "stdout",
     "output_type": "stream",
     "text": [
      "Epoch 1/15\n",
      "145/145 [==============================] - 11s 62ms/step - loss: 1.6125 - val_loss: 0.1133\n",
      "Epoch 2/15\n",
      "145/145 [==============================] - 8s 58ms/step - loss: 1.5655 - val_loss: 0.1012\n",
      "Epoch 3/15\n",
      "145/145 [==============================] - 8s 58ms/step - loss: 1.5450 - val_loss: 0.0978\n",
      "Epoch 4/15\n",
      "145/145 [==============================] - 8s 58ms/step - loss: 1.5249 - val_loss: 0.0996\n",
      "Epoch 5/15\n",
      "145/145 [==============================] - 8s 58ms/step - loss: 1.5045 - val_loss: 0.0972\n",
      "Epoch 6/15\n",
      "145/145 [==============================] - 8s 58ms/step - loss: 1.4853 - val_loss: 0.1056\n",
      "Epoch 7/15\n",
      "145/145 [==============================] - 8s 58ms/step - loss: 1.4539 - val_loss: 0.0970\n",
      "Epoch 8/15\n",
      "145/145 [==============================] - 8s 58ms/step - loss: 1.4051 - val_loss: 0.0954\n",
      "Epoch 9/15\n",
      "145/145 [==============================] - 8s 59ms/step - loss: 1.3497 - val_loss: 0.1093\n",
      "Epoch 10/15\n",
      "145/145 [==============================] - 8s 57ms/step - loss: 1.3024 - val_loss: 0.3512\n",
      "Epoch 11/15\n",
      "145/145 [==============================] - 8s 58ms/step - loss: 1.3073 - val_loss: 0.1939\n",
      "Epoch 12/15\n",
      "145/145 [==============================] - 8s 58ms/step - loss: 1.3043 - val_loss: 0.0920\n",
      "Epoch 13/15\n",
      "145/145 [==============================] - 8s 58ms/step - loss: 1.2405 - val_loss: 0.0923\n",
      "Epoch 14/15\n",
      "145/145 [==============================] - 8s 57ms/step - loss: 1.2239 - val_loss: 0.1011\n",
      "Epoch 15/15\n",
      "145/145 [==============================] - 8s 58ms/step - loss: 1.1753 - val_loss: 0.1000\n"
     ]
    },
    {
     "name": "stderr",
     "output_type": "stream",
     "text": [
      "WARNING:absl:Found untraced functions such as lstm_cell_47_layer_call_fn, lstm_cell_47_layer_call_and_return_conditional_losses while saving (showing 2 of 2). These functions will not be directly callable after loading.\n"
     ]
    },
    {
     "name": "stdout",
     "output_type": "stream",
     "text": [
      "INFO:tensorflow:Assets written to: Hybrid MP/month4_7_step_lookahead_Hybrid\\assets\n"
     ]
    },
    {
     "name": "stderr",
     "output_type": "stream",
     "text": [
      "INFO:tensorflow:Assets written to: Hybrid MP/month4_7_step_lookahead_Hybrid\\assets\n",
      "WARNING:absl:<keras.layers.recurrent.LSTMCell object at 0x000001F5BDE7ECD0> has the same name 'LSTMCell' as a built-in Keras object. Consider renaming <class 'keras.layers.recurrent.LSTMCell'> to avoid naming conflicts when loading with `tf.keras.models.load_model`. If renaming is not possible, pass the object in the `custom_objects` parameter of the load function.\n"
     ]
    },
    {
     "name": "stdout",
     "output_type": "stream",
     "text": [
      "145/145 [==============================] - 4s 26ms/step\n",
      "63/63 [==============================] - 2s 25ms/step\n"
     ]
    },
    {
     "name": "stderr",
     "output_type": "stream",
     "text": [
      "D:\\Anaconda\\lib\\site-packages\\pandas\\core\\frame.py:3678: SettingWithCopyWarning: \n",
      "A value is trying to be set on a copy of a slice from a DataFrame.\n",
      "Try using .loc[row_indexer,col_indexer] = value instead\n",
      "\n",
      "See the caveats in the documentation: https://pandas.pydata.org/pandas-docs/stable/user_guide/indexing.html#returning-a-view-versus-a-copy\n",
      "  self[col] = igetitem(value, i)\n"
     ]
    },
    {
     "name": "stdout",
     "output_type": "stream",
     "text": [
      "Epoch 1/15\n",
      "145/145 [==============================] - 11s 61ms/step - loss: 1.6959 - val_loss: 0.1334\n",
      "Epoch 2/15\n",
      "145/145 [==============================] - 8s 58ms/step - loss: 1.5787 - val_loss: 0.1035\n",
      "Epoch 3/15\n",
      "145/145 [==============================] - 8s 58ms/step - loss: 1.5311 - val_loss: 0.0932\n",
      "Epoch 4/15\n",
      "145/145 [==============================] - 9s 59ms/step - loss: 1.4942 - val_loss: 0.0876\n",
      "Epoch 5/15\n",
      "145/145 [==============================] - 8s 57ms/step - loss: 1.4389 - val_loss: 0.0860\n",
      "Epoch 6/15\n",
      "145/145 [==============================] - 8s 59ms/step - loss: 1.3970 - val_loss: 0.0835\n",
      "Epoch 7/15\n",
      "145/145 [==============================] - 9s 60ms/step - loss: 1.3534 - val_loss: 0.0845\n",
      "Epoch 8/15\n",
      "145/145 [==============================] - 8s 59ms/step - loss: 1.3208 - val_loss: 0.0865\n",
      "Epoch 9/15\n",
      "145/145 [==============================] - 9s 59ms/step - loss: 1.2965 - val_loss: 0.0877\n",
      "Epoch 10/15\n",
      "145/145 [==============================] - 8s 59ms/step - loss: 1.2911 - val_loss: 0.0882\n",
      "Epoch 11/15\n",
      "145/145 [==============================] - 9s 59ms/step - loss: 1.2642 - val_loss: 0.0867\n",
      "Epoch 12/15\n",
      "145/145 [==============================] - 9s 59ms/step - loss: 1.2260 - val_loss: 0.0904\n",
      "Epoch 13/15\n",
      "145/145 [==============================] - 9s 59ms/step - loss: 1.2031 - val_loss: 0.0926\n",
      "Epoch 14/15\n",
      "145/145 [==============================] - 8s 58ms/step - loss: 1.1800 - val_loss: 0.0932\n",
      "Epoch 15/15\n",
      "145/145 [==============================] - 9s 59ms/step - loss: 1.1753 - val_loss: 0.0996\n"
     ]
    },
    {
     "name": "stderr",
     "output_type": "stream",
     "text": [
      "WARNING:absl:Found untraced functions such as lstm_cell_48_layer_call_fn, lstm_cell_48_layer_call_and_return_conditional_losses while saving (showing 2 of 2). These functions will not be directly callable after loading.\n"
     ]
    },
    {
     "name": "stdout",
     "output_type": "stream",
     "text": [
      "INFO:tensorflow:Assets written to: Hybrid MP/month4_8_step_lookahead_Hybrid\\assets\n"
     ]
    },
    {
     "name": "stderr",
     "output_type": "stream",
     "text": [
      "INFO:tensorflow:Assets written to: Hybrid MP/month4_8_step_lookahead_Hybrid\\assets\n",
      "WARNING:absl:<keras.layers.recurrent.LSTMCell object at 0x000001F28ECC14F0> has the same name 'LSTMCell' as a built-in Keras object. Consider renaming <class 'keras.layers.recurrent.LSTMCell'> to avoid naming conflicts when loading with `tf.keras.models.load_model`. If renaming is not possible, pass the object in the `custom_objects` parameter of the load function.\n"
     ]
    },
    {
     "name": "stdout",
     "output_type": "stream",
     "text": [
      "145/145 [==============================] - 4s 22ms/step\n",
      "63/63 [==============================] - 1s 21ms/step\n"
     ]
    },
    {
     "name": "stderr",
     "output_type": "stream",
     "text": [
      "D:\\Anaconda\\lib\\site-packages\\pandas\\core\\frame.py:3678: SettingWithCopyWarning: \n",
      "A value is trying to be set on a copy of a slice from a DataFrame.\n",
      "Try using .loc[row_indexer,col_indexer] = value instead\n",
      "\n",
      "See the caveats in the documentation: https://pandas.pydata.org/pandas-docs/stable/user_guide/indexing.html#returning-a-view-versus-a-copy\n",
      "  self[col] = igetitem(value, i)\n"
     ]
    },
    {
     "name": "stdout",
     "output_type": "stream",
     "text": [
      "Epoch 1/15\n",
      "145/145 [==============================] - 11s 60ms/step - loss: 1.7104 - val_loss: 0.1317\n",
      "Epoch 2/15\n",
      "145/145 [==============================] - 8s 57ms/step - loss: 1.6070 - val_loss: 0.1069\n",
      "Epoch 3/15\n",
      "145/145 [==============================] - 8s 57ms/step - loss: 1.5658 - val_loss: 0.1057\n",
      "Epoch 4/15\n",
      "145/145 [==============================] - 8s 58ms/step - loss: 1.5258 - val_loss: 0.0907\n",
      "Epoch 5/15\n",
      "145/145 [==============================] - 8s 57ms/step - loss: 1.4893 - val_loss: 0.0821\n",
      "Epoch 6/15\n",
      "145/145 [==============================] - 8s 57ms/step - loss: 1.4552 - val_loss: 0.0776\n",
      "Epoch 7/15\n",
      "145/145 [==============================] - 8s 57ms/step - loss: 1.4344 - val_loss: 0.0786\n",
      "Epoch 8/15\n",
      "145/145 [==============================] - 8s 58ms/step - loss: 1.3842 - val_loss: 0.0844\n",
      "Epoch 9/15\n",
      "145/145 [==============================] - 8s 57ms/step - loss: 1.3492 - val_loss: 0.0973\n",
      "Epoch 10/15\n",
      "145/145 [==============================] - 8s 58ms/step - loss: 1.3180 - val_loss: 0.0986\n",
      "Epoch 11/15\n",
      "145/145 [==============================] - 8s 57ms/step - loss: 1.3113 - val_loss: 0.1219\n",
      "Epoch 12/15\n",
      "145/145 [==============================] - 8s 58ms/step - loss: 1.2948 - val_loss: 0.1099\n",
      "Epoch 13/15\n",
      "145/145 [==============================] - 8s 58ms/step - loss: 1.2563 - val_loss: 0.1269\n",
      "Epoch 14/15\n",
      "145/145 [==============================] - 8s 57ms/step - loss: 1.2265 - val_loss: 0.1408\n",
      "Epoch 15/15\n",
      "145/145 [==============================] - 8s 58ms/step - loss: 1.2076 - val_loss: 0.1532\n"
     ]
    },
    {
     "name": "stderr",
     "output_type": "stream",
     "text": [
      "WARNING:absl:Found untraced functions such as lstm_cell_49_layer_call_fn, lstm_cell_49_layer_call_and_return_conditional_losses while saving (showing 2 of 2). These functions will not be directly callable after loading.\n"
     ]
    },
    {
     "name": "stdout",
     "output_type": "stream",
     "text": [
      "INFO:tensorflow:Assets written to: Hybrid MP/month4_9_step_lookahead_Hybrid\\assets\n"
     ]
    },
    {
     "name": "stderr",
     "output_type": "stream",
     "text": [
      "INFO:tensorflow:Assets written to: Hybrid MP/month4_9_step_lookahead_Hybrid\\assets\n",
      "WARNING:absl:<keras.layers.recurrent.LSTMCell object at 0x000001F5D8C5F520> has the same name 'LSTMCell' as a built-in Keras object. Consider renaming <class 'keras.layers.recurrent.LSTMCell'> to avoid naming conflicts when loading with `tf.keras.models.load_model`. If renaming is not possible, pass the object in the `custom_objects` parameter of the load function.\n"
     ]
    },
    {
     "name": "stdout",
     "output_type": "stream",
     "text": [
      "145/145 [==============================] - 4s 23ms/step\n",
      "63/63 [==============================] - 1s 22ms/step\n"
     ]
    },
    {
     "name": "stderr",
     "output_type": "stream",
     "text": [
      "D:\\Anaconda\\lib\\site-packages\\pandas\\core\\frame.py:3678: SettingWithCopyWarning: \n",
      "A value is trying to be set on a copy of a slice from a DataFrame.\n",
      "Try using .loc[row_indexer,col_indexer] = value instead\n",
      "\n",
      "See the caveats in the documentation: https://pandas.pydata.org/pandas-docs/stable/user_guide/indexing.html#returning-a-view-versus-a-copy\n",
      "  self[col] = igetitem(value, i)\n"
     ]
    },
    {
     "name": "stdout",
     "output_type": "stream",
     "text": [
      "Epoch 1/15\n",
      "145/145 [==============================] - 12s 62ms/step - loss: 1.6293 - val_loss: 0.1197\n",
      "Epoch 2/15\n",
      "145/145 [==============================] - 8s 58ms/step - loss: 1.5651 - val_loss: 0.1000\n",
      "Epoch 3/15\n",
      "145/145 [==============================] - 8s 59ms/step - loss: 1.5352 - val_loss: 0.0918\n",
      "Epoch 4/15\n",
      "145/145 [==============================] - 8s 57ms/step - loss: 1.4988 - val_loss: 0.0856\n",
      "Epoch 5/15\n",
      "145/145 [==============================] - 8s 59ms/step - loss: 1.4641 - val_loss: 0.0952\n",
      "Epoch 6/15\n",
      "145/145 [==============================] - 8s 57ms/step - loss: 1.4238 - val_loss: 0.0816\n",
      "Epoch 7/15\n",
      "145/145 [==============================] - 8s 57ms/step - loss: 1.3902 - val_loss: 0.0853\n",
      "Epoch 8/15\n",
      "145/145 [==============================] - 8s 56ms/step - loss: 1.3440 - val_loss: 0.0897\n",
      "Epoch 9/15\n",
      "145/145 [==============================] - 8s 57ms/step - loss: 1.3131 - val_loss: 0.0975\n",
      "Epoch 10/15\n",
      "145/145 [==============================] - 8s 57ms/step - loss: 1.3472 - val_loss: 0.1292\n",
      "Epoch 11/15\n",
      "145/145 [==============================] - 8s 57ms/step - loss: 1.3931 - val_loss: 0.0953\n",
      "Epoch 12/15\n",
      "145/145 [==============================] - 8s 58ms/step - loss: 1.2605 - val_loss: 0.0897\n",
      "Epoch 13/15\n",
      "145/145 [==============================] - 8s 58ms/step - loss: 1.2424 - val_loss: 0.0833\n",
      "Epoch 14/15\n",
      "145/145 [==============================] - 8s 58ms/step - loss: 1.2174 - val_loss: 0.1047\n",
      "Epoch 15/15\n",
      "145/145 [==============================] - 8s 57ms/step - loss: 1.2027 - val_loss: 0.0936\n"
     ]
    },
    {
     "name": "stderr",
     "output_type": "stream",
     "text": [
      "WARNING:absl:Found untraced functions such as lstm_cell_50_layer_call_fn, lstm_cell_50_layer_call_and_return_conditional_losses while saving (showing 2 of 2). These functions will not be directly callable after loading.\n"
     ]
    },
    {
     "name": "stdout",
     "output_type": "stream",
     "text": [
      "INFO:tensorflow:Assets written to: Hybrid MP/month4_10_step_lookahead_Hybrid\\assets\n"
     ]
    },
    {
     "name": "stderr",
     "output_type": "stream",
     "text": [
      "INFO:tensorflow:Assets written to: Hybrid MP/month4_10_step_lookahead_Hybrid\\assets\n",
      "WARNING:absl:<keras.layers.recurrent.LSTMCell object at 0x000001F2A60E7D90> has the same name 'LSTMCell' as a built-in Keras object. Consider renaming <class 'keras.layers.recurrent.LSTMCell'> to avoid naming conflicts when loading with `tf.keras.models.load_model`. If renaming is not possible, pass the object in the `custom_objects` parameter of the load function.\n"
     ]
    },
    {
     "name": "stdout",
     "output_type": "stream",
     "text": [
      "145/145 [==============================] - 4s 23ms/step\n",
      "63/63 [==============================] - 1s 23ms/step\n"
     ]
    },
    {
     "name": "stderr",
     "output_type": "stream",
     "text": [
      "D:\\Anaconda\\lib\\site-packages\\pandas\\core\\frame.py:3678: SettingWithCopyWarning: \n",
      "A value is trying to be set on a copy of a slice from a DataFrame.\n",
      "Try using .loc[row_indexer,col_indexer] = value instead\n",
      "\n",
      "See the caveats in the documentation: https://pandas.pydata.org/pandas-docs/stable/user_guide/indexing.html#returning-a-view-versus-a-copy\n",
      "  self[col] = igetitem(value, i)\n"
     ]
    }
   ],
   "source": [
    "end_dates = ['2021-12-26 23:55:00', '2022-01-26 23:55:00', '2022-02-26 23:55:00', '2022-03-26 23:55:00', '2022-04-26 23:55:00'  ]\n",
    "Start_dates = ['2021-11-26 00:00:00', '2021-12-26 00:00:00', '2022-01-26 23:55:00', '2022-02-26 23:55:00', '2022-03-26 23:55:00']\n",
    "\n",
    "#Create Training Examples for all lookaheads\n",
    "resample_rate = '5T'\n",
    "start_date='2021-11-26 00:00:00'\n",
    "end_date='2021-12-26 23:55:00' \n",
    "inputs = ['min_gas_price']\n",
    "#No of timesteps behind to forecast on, no of timesteps to forecast ahead\n",
    "n_steps_in = 2016+288\n",
    "n_steps_out = 1\n",
    "#How many timesteps between start of training examples\n",
    "step_interval = 1\n",
    "n_step_lookahead = 1\n",
    "\n",
    "y_hat_list=[]\n",
    "train_loss_list=[]\n",
    "val_loss_list=[]\n",
    "training_metrics_dicts=[]\n",
    "valdiation_metrics_dicts=[]\n",
    "mp_window=288\n",
    "for month in [0, 1, 2, 3, 4]:\n",
    "    n_step_lookahead=1\n",
    "    start_date=Start_dates[month]\n",
    "    end_date=end_dates[month]\n",
    "    X_train, y_train, X_val, y_val, scaler = generate_training_val_examples_univariate_output(data)\n",
    "    for i in range(1,11):\n",
    "        n_step_lookahead = i\n",
    "        \n",
    "        #X_train_denoised= denoise_array(X_train, 0, 'db4', 2, 3)\n",
    "        #X_val_denoised= denoise_array(X_val, 0, 'db4', 2, 3)\n",
    "        X_train_mp = add_mp(X_train, mp_window)\n",
    "        X_val_mp = add_mp(X_val, mp_window)\n",
    "     \n",
    "\n",
    "\n",
    "        model, model_checkpoint_callback, checkpoint_filepath = LSTM_model()\n",
    "        train_history = model.fit(X_train_mp, y_train,validation_data=(X_val_mp, y_val), epochs=15, verbose=1, callbacks=[model_checkpoint_callback])\n",
    "        model.load_weights(checkpoint_filepath)\n",
    "        model.save(('Hybrid MP/month' +str(month)+'_'+ str(i) + '_step_lookahead_Hybrid'))\n",
    "\n",
    "        yhat_train = model.predict(X_train_mp, verbose=1)\n",
    "        yhat_val = model.predict(X_val_mp, verbose=1)\n",
    "        y_hat_list.append(yhat_val)\n",
    "\n",
    "        train_loss_list.append(train_history.history['loss'])\n",
    "        val_loss_list.append(train_history.history['val_loss'])\n",
    "        pd.DataFrame(train_loss_list).to_csv('Hybrid MP_fwd/train_loss')\n",
    "        pd.DataFrame(val_loss_list).to_csv('Hybrid MP_fwd/val_loss')\n",
    "        \n",
    "        training_metrics_dicts.append(descale_y_retrun_metrics_univariate_y(yhat_train, y_train))\n",
    "        valdiation_metrics_dicts.append(descale_y_retrun_metrics_univariate_y(yhat_val, y_val))\n",
    "\n",
    "    \n",
    "        x_train_extended = []\n",
    "        for j in range(0, len(X_train)):\n",
    "            X_train_t = np.append(X_train[j], yhat_train[j])\n",
    "            x_train_extended.append(X_train_t)\n",
    "\n",
    "        x_val_extended = []\n",
    "        for k in range(0, len(X_val)):\n",
    "            X_val_t = np.append(X_val[k], yhat_val[k])\n",
    "            x_val_extended.append(X_val_t)\n",
    "\n",
    "        n_step_lookahead = i+1\n",
    "        X_traindummy, y_train, X_valdummy, y_val, scaler = generate_training_val_examples_univariate_output(data)\n",
    "        x_train = np.array(x_train_extended)\n",
    "        x_val = np.array(x_val_extended)\n",
    "        x_train = x_train.reshape(x_train.shape[0], x_train.shape[1],1)\n",
    "        x_val = x_val.reshape(x_val.shape[0], x_val.shape[1],1)\n",
    "        x_train = x_train[:,1:]\n",
    "        x_val = x_val[:,1:]\n",
    "        X_train = x_train[:(y_train.shape[0]),:,:]\n",
    "        X_val = x_val[:(y_val.shape[0]),:,:]\n",
    "        np.save(\"Hybrid MP_fwd/train_metric_dict.npy\", training_metrics_dicts)  \n",
    "        np.save(\"Hybrid MP_fwd/val_metric_dict.npy\", valdiation_metrics_dicts)  \n",
    "\n",
    "        \n",
    "        \n"
   ]
  },
  {
   "cell_type": "code",
   "execution_count": 20,
   "id": "9b7a982a-a42c-4e37-b810-16dca0dde959",
   "metadata": {},
   "outputs": [
    {
     "data": {
      "text/plain": [
       "0     27.018489\n",
       "1    914.400049\n",
       "2     14.288602\n",
       "3      0.194688\n",
       "4      0.516550\n",
       "dtype: float64"
      ]
     },
     "execution_count": 20,
     "metadata": {},
     "output_type": "execute_result"
    }
   ],
   "source": [
    "pd.DataFrame(np.load('Hybrid MP_fwd/val_metric_dict.npy', allow_pickle=True).reshape(50,5)).mean()"
   ]
  },
  {
   "cell_type": "code",
   "execution_count": 22,
   "id": "f92f9c9d-75a9-49f8-8bdd-3d297a710d55",
   "metadata": {},
   "outputs": [
    {
     "data": {
      "text/plain": [
       "0     27.334770\n",
       "1    932.324675\n",
       "2     13.919162\n",
       "3      0.184442\n",
       "4      0.509187\n",
       "dtype: float64"
      ]
     },
     "execution_count": 22,
     "metadata": {},
     "output_type": "execute_result"
    }
   ],
   "source": [
    "pd.DataFrame(np.load('Hybrid MP/val_metric_dict.npy', allow_pickle=True).reshape(50,5)).mean()"
   ]
  },
  {
   "cell_type": "code",
   "execution_count": 21,
   "id": "408ffacd-599b-456a-8e50-2a80bd04f37a",
   "metadata": {},
   "outputs": [
    {
     "data": {
      "text/plain": [
       "0     26.082692\n",
       "1    852.171591\n",
       "2     13.094625\n",
       "3      0.171413\n",
       "4      0.542148\n",
       "dtype: float64"
      ]
     },
     "execution_count": 21,
     "metadata": {},
     "output_type": "execute_result"
    }
   ],
   "source": [
    "pd.DataFrame(np.load('Hybrid Univarite3/val_metric_dict_1.npy', allow_pickle=True).reshape(50,5)).mean()"
   ]
  },
  {
   "cell_type": "markdown",
   "id": "d967d050-8118-445c-a7dc-48d1f1690f8d",
   "metadata": {},
   "source": [
    "## Training loop:hybrid + MP + DB4 denoising"
   ]
  },
  {
   "cell_type": "code",
   "execution_count": 17,
   "id": "38873e1f-a93f-430f-83f9-08d6a3aa75e7",
   "metadata": {
    "collapsed": true,
    "jupyter": {
     "outputs_hidden": true
    },
    "tags": []
   },
   "outputs": [
    {
     "name": "stderr",
     "output_type": "stream",
     "text": [
      "D:\\Anaconda\\lib\\site-packages\\pandas\\core\\frame.py:3678: SettingWithCopyWarning: \n",
      "A value is trying to be set on a copy of a slice from a DataFrame.\n",
      "Try using .loc[row_indexer,col_indexer] = value instead\n",
      "\n",
      "See the caveats in the documentation: https://pandas.pydata.org/pandas-docs/stable/user_guide/indexing.html#returning-a-view-versus-a-copy\n",
      "  self[col] = igetitem(value, i)\n"
     ]
    },
    {
     "name": "stdout",
     "output_type": "stream",
     "text": [
      "Epoch 1/15\n",
      "145/145 [==============================] - 15s 62ms/step - loss: 0.3960 - val_loss: 0.0495\n",
      "Epoch 2/15\n",
      "145/145 [==============================] - 8s 56ms/step - loss: 0.3107 - val_loss: 0.0411\n",
      "Epoch 3/15\n",
      "145/145 [==============================] - 8s 57ms/step - loss: 0.2788 - val_loss: 0.0407\n",
      "Epoch 4/15\n",
      "145/145 [==============================] - 8s 57ms/step - loss: 0.2659 - val_loss: 0.0363\n",
      "Epoch 5/15\n",
      "145/145 [==============================] - 8s 57ms/step - loss: 0.2437 - val_loss: 0.0359\n",
      "Epoch 6/15\n",
      "145/145 [==============================] - 8s 56ms/step - loss: 0.2295 - val_loss: 0.0328\n",
      "Epoch 7/15\n",
      "145/145 [==============================] - 8s 57ms/step - loss: 0.2185 - val_loss: 0.0316\n",
      "Epoch 8/15\n",
      "145/145 [==============================] - 8s 56ms/step - loss: 0.2096 - val_loss: 0.0328\n",
      "Epoch 9/15\n",
      "145/145 [==============================] - 8s 57ms/step - loss: 0.2023 - val_loss: 0.0300\n",
      "Epoch 10/15\n",
      "145/145 [==============================] - 8s 57ms/step - loss: 0.2000 - val_loss: 0.0348\n",
      "Epoch 11/15\n",
      "145/145 [==============================] - 8s 56ms/step - loss: 0.1928 - val_loss: 0.0300\n",
      "Epoch 12/15\n",
      "145/145 [==============================] - 8s 56ms/step - loss: 0.2080 - val_loss: 0.0303\n",
      "Epoch 13/15\n",
      "145/145 [==============================] - 9s 59ms/step - loss: 0.1876 - val_loss: 0.0289\n",
      "Epoch 14/15\n",
      "145/145 [==============================] - 8s 58ms/step - loss: 0.1869 - val_loss: 0.0301\n",
      "Epoch 15/15\n",
      "145/145 [==============================] - 8s 57ms/step - loss: 0.1841 - val_loss: 0.0299\n"
     ]
    },
    {
     "name": "stderr",
     "output_type": "stream",
     "text": [
      "WARNING:absl:Found untraced functions such as lstm_cell_layer_call_fn, lstm_cell_layer_call_and_return_conditional_losses while saving (showing 2 of 2). These functions will not be directly callable after loading.\n"
     ]
    },
    {
     "name": "stdout",
     "output_type": "stream",
     "text": [
      "INFO:tensorflow:Assets written to: Hybrid MP_fwd_wav/month0_1_step_lookahead_Hybrid\\assets\n"
     ]
    },
    {
     "name": "stderr",
     "output_type": "stream",
     "text": [
      "INFO:tensorflow:Assets written to: Hybrid MP_fwd_wav/month0_1_step_lookahead_Hybrid\\assets\n",
      "WARNING:absl:<keras.layers.recurrent.LSTMCell object at 0x0000022E847060D0> has the same name 'LSTMCell' as a built-in Keras object. Consider renaming <class 'keras.layers.recurrent.LSTMCell'> to avoid naming conflicts when loading with `tf.keras.models.load_model`. If renaming is not possible, pass the object in the `custom_objects` parameter of the load function.\n"
     ]
    },
    {
     "name": "stdout",
     "output_type": "stream",
     "text": [
      "145/145 [==============================] - 4s 23ms/step\n",
      "63/63 [==============================] - 1s 21ms/step\n"
     ]
    },
    {
     "name": "stderr",
     "output_type": "stream",
     "text": [
      "D:\\Anaconda\\lib\\site-packages\\pandas\\core\\frame.py:3678: SettingWithCopyWarning: \n",
      "A value is trying to be set on a copy of a slice from a DataFrame.\n",
      "Try using .loc[row_indexer,col_indexer] = value instead\n",
      "\n",
      "See the caveats in the documentation: https://pandas.pydata.org/pandas-docs/stable/user_guide/indexing.html#returning-a-view-versus-a-copy\n",
      "  self[col] = igetitem(value, i)\n"
     ]
    },
    {
     "name": "stdout",
     "output_type": "stream",
     "text": [
      "Epoch 1/15\n",
      "145/145 [==============================] - 11s 60ms/step - loss: 0.3728 - val_loss: 0.0469\n",
      "Epoch 2/15\n",
      "145/145 [==============================] - 8s 57ms/step - loss: 0.3124 - val_loss: 0.0465\n",
      "Epoch 3/15\n",
      "145/145 [==============================] - 8s 57ms/step - loss: 0.2953 - val_loss: 0.0472\n",
      "Epoch 4/15\n",
      "145/145 [==============================] - 8s 56ms/step - loss: 0.2875 - val_loss: 0.0526\n",
      "Epoch 5/15\n",
      "145/145 [==============================] - 8s 56ms/step - loss: 0.2802 - val_loss: 0.0500\n",
      "Epoch 6/15\n",
      "145/145 [==============================] - 8s 57ms/step - loss: 0.2753 - val_loss: 0.0480\n",
      "Epoch 7/15\n",
      "145/145 [==============================] - 8s 55ms/step - loss: 0.2708 - val_loss: 0.0501\n",
      "Epoch 8/15\n",
      "145/145 [==============================] - 8s 57ms/step - loss: 0.2660 - val_loss: 0.0495\n",
      "Epoch 9/15\n",
      "145/145 [==============================] - 8s 56ms/step - loss: 0.2637 - val_loss: 0.0514\n",
      "Epoch 10/15\n",
      "145/145 [==============================] - 8s 57ms/step - loss: 0.2596 - val_loss: 0.0514\n",
      "Epoch 11/15\n",
      "145/145 [==============================] - 8s 57ms/step - loss: 0.2583 - val_loss: 0.0499\n",
      "Epoch 12/15\n",
      "145/145 [==============================] - 8s 56ms/step - loss: 0.2535 - val_loss: 0.0526\n",
      "Epoch 13/15\n",
      "145/145 [==============================] - 8s 56ms/step - loss: 0.2512 - val_loss: 0.0507\n",
      "Epoch 14/15\n",
      "145/145 [==============================] - 9s 59ms/step - loss: 0.2517 - val_loss: 0.0499\n",
      "Epoch 15/15\n",
      "145/145 [==============================] - 9s 59ms/step - loss: 0.2661 - val_loss: 0.0510\n"
     ]
    },
    {
     "name": "stderr",
     "output_type": "stream",
     "text": [
      "WARNING:absl:Found untraced functions such as lstm_cell_1_layer_call_fn, lstm_cell_1_layer_call_and_return_conditional_losses while saving (showing 2 of 2). These functions will not be directly callable after loading.\n"
     ]
    },
    {
     "name": "stdout",
     "output_type": "stream",
     "text": [
      "INFO:tensorflow:Assets written to: Hybrid MP_fwd_wav/month0_2_step_lookahead_Hybrid\\assets\n"
     ]
    },
    {
     "name": "stderr",
     "output_type": "stream",
     "text": [
      "INFO:tensorflow:Assets written to: Hybrid MP_fwd_wav/month0_2_step_lookahead_Hybrid\\assets\n",
      "WARNING:absl:<keras.layers.recurrent.LSTMCell object at 0x00000231C6D8B1F0> has the same name 'LSTMCell' as a built-in Keras object. Consider renaming <class 'keras.layers.recurrent.LSTMCell'> to avoid naming conflicts when loading with `tf.keras.models.load_model`. If renaming is not possible, pass the object in the `custom_objects` parameter of the load function.\n"
     ]
    },
    {
     "name": "stdout",
     "output_type": "stream",
     "text": [
      "145/145 [==============================] - 4s 24ms/step\n",
      "63/63 [==============================] - 1s 22ms/step\n"
     ]
    },
    {
     "name": "stderr",
     "output_type": "stream",
     "text": [
      "D:\\Anaconda\\lib\\site-packages\\pandas\\core\\frame.py:3678: SettingWithCopyWarning: \n",
      "A value is trying to be set on a copy of a slice from a DataFrame.\n",
      "Try using .loc[row_indexer,col_indexer] = value instead\n",
      "\n",
      "See the caveats in the documentation: https://pandas.pydata.org/pandas-docs/stable/user_guide/indexing.html#returning-a-view-versus-a-copy\n",
      "  self[col] = igetitem(value, i)\n"
     ]
    },
    {
     "name": "stdout",
     "output_type": "stream",
     "text": [
      "Epoch 1/15\n",
      "145/145 [==============================] - 12s 68ms/step - loss: 0.3718 - val_loss: 0.0467\n",
      "Epoch 2/15\n",
      "145/145 [==============================] - 9s 61ms/step - loss: 0.3479 - val_loss: 0.0472\n",
      "Epoch 3/15\n",
      "145/145 [==============================] - 9s 64ms/step - loss: 0.3357 - val_loss: 0.0491\n",
      "Epoch 4/15\n",
      "145/145 [==============================] - 9s 64ms/step - loss: 0.3254 - val_loss: 0.0653\n",
      "Epoch 5/15\n",
      "145/145 [==============================] - 9s 62ms/step - loss: 0.3196 - val_loss: 0.0574\n",
      "Epoch 6/15\n",
      "145/145 [==============================] - 9s 62ms/step - loss: 0.3133 - val_loss: 0.0527\n",
      "Epoch 7/15\n",
      "145/145 [==============================] - 9s 64ms/step - loss: 0.3069 - val_loss: 0.0624\n",
      "Epoch 8/15\n",
      "145/145 [==============================] - 9s 64ms/step - loss: 0.3054 - val_loss: 0.0621\n",
      "Epoch 9/15\n",
      "145/145 [==============================] - 9s 61ms/step - loss: 0.2961 - val_loss: 0.0571\n",
      "Epoch 10/15\n",
      "145/145 [==============================] - 9s 61ms/step - loss: 0.2918 - val_loss: 0.0651\n",
      "Epoch 11/15\n",
      "145/145 [==============================] - 9s 61ms/step - loss: 0.2869 - val_loss: 0.0579\n",
      "Epoch 12/15\n",
      "145/145 [==============================] - 9s 60ms/step - loss: 0.2863 - val_loss: 0.0629\n",
      "Epoch 13/15\n",
      "145/145 [==============================] - 9s 60ms/step - loss: 0.2807 - val_loss: 0.0805\n",
      "Epoch 14/15\n",
      "145/145 [==============================] - 9s 59ms/step - loss: 0.2760 - val_loss: 0.0729\n",
      "Epoch 15/15\n",
      "145/145 [==============================] - 9s 59ms/step - loss: 0.2730 - val_loss: 0.0765\n"
     ]
    },
    {
     "name": "stderr",
     "output_type": "stream",
     "text": [
      "WARNING:absl:Found untraced functions such as lstm_cell_2_layer_call_fn, lstm_cell_2_layer_call_and_return_conditional_losses while saving (showing 2 of 2). These functions will not be directly callable after loading.\n"
     ]
    },
    {
     "name": "stdout",
     "output_type": "stream",
     "text": [
      "INFO:tensorflow:Assets written to: Hybrid MP_fwd_wav/month0_3_step_lookahead_Hybrid\\assets\n"
     ]
    },
    {
     "name": "stderr",
     "output_type": "stream",
     "text": [
      "INFO:tensorflow:Assets written to: Hybrid MP_fwd_wav/month0_3_step_lookahead_Hybrid\\assets\n",
      "WARNING:absl:<keras.layers.recurrent.LSTMCell object at 0x0000022E8B759310> has the same name 'LSTMCell' as a built-in Keras object. Consider renaming <class 'keras.layers.recurrent.LSTMCell'> to avoid naming conflicts when loading with `tf.keras.models.load_model`. If renaming is not possible, pass the object in the `custom_objects` parameter of the load function.\n"
     ]
    },
    {
     "name": "stdout",
     "output_type": "stream",
     "text": [
      "145/145 [==============================] - 4s 24ms/step\n",
      "63/63 [==============================] - 1s 22ms/step\n"
     ]
    },
    {
     "name": "stderr",
     "output_type": "stream",
     "text": [
      "D:\\Anaconda\\lib\\site-packages\\pandas\\core\\frame.py:3678: SettingWithCopyWarning: \n",
      "A value is trying to be set on a copy of a slice from a DataFrame.\n",
      "Try using .loc[row_indexer,col_indexer] = value instead\n",
      "\n",
      "See the caveats in the documentation: https://pandas.pydata.org/pandas-docs/stable/user_guide/indexing.html#returning-a-view-versus-a-copy\n",
      "  self[col] = igetitem(value, i)\n"
     ]
    },
    {
     "name": "stdout",
     "output_type": "stream",
     "text": [
      "Epoch 1/15\n",
      "145/145 [==============================] - 11s 63ms/step - loss: 0.4478 - val_loss: 0.0761\n",
      "Epoch 2/15\n",
      "145/145 [==============================] - 9s 59ms/step - loss: 0.3667 - val_loss: 0.0811\n",
      "Epoch 3/15\n",
      "145/145 [==============================] - 9s 59ms/step - loss: 0.3556 - val_loss: 0.0726\n",
      "Epoch 4/15\n",
      "145/145 [==============================] - 9s 60ms/step - loss: 0.3468 - val_loss: 0.0687\n",
      "Epoch 5/15\n",
      "145/145 [==============================] - 9s 60ms/step - loss: 0.3382 - val_loss: 0.0712\n",
      "Epoch 6/15\n",
      "145/145 [==============================] - 9s 59ms/step - loss: 0.3313 - val_loss: 0.0844\n",
      "Epoch 7/15\n",
      "145/145 [==============================] - 9s 60ms/step - loss: 0.3261 - val_loss: 0.0830\n",
      "Epoch 8/15\n",
      "145/145 [==============================] - 9s 61ms/step - loss: 0.3236 - val_loss: 0.0941\n",
      "Epoch 9/15\n",
      "145/145 [==============================] - 9s 60ms/step - loss: 0.3140 - val_loss: 0.1116\n",
      "Epoch 10/15\n",
      "145/145 [==============================] - 9s 60ms/step - loss: 0.3090 - val_loss: 0.1173\n",
      "Epoch 11/15\n",
      "145/145 [==============================] - 9s 60ms/step - loss: 0.3065 - val_loss: 0.1288\n",
      "Epoch 12/15\n",
      "145/145 [==============================] - 9s 61ms/step - loss: 0.2985 - val_loss: 0.1401\n",
      "Epoch 13/15\n",
      "145/145 [==============================] - 9s 60ms/step - loss: 0.2961 - val_loss: 0.1331\n",
      "Epoch 14/15\n",
      "145/145 [==============================] - 9s 60ms/step - loss: 0.2888 - val_loss: 0.2460\n",
      "Epoch 15/15\n",
      "145/145 [==============================] - 9s 60ms/step - loss: 0.2956 - val_loss: 0.1398\n"
     ]
    },
    {
     "name": "stderr",
     "output_type": "stream",
     "text": [
      "WARNING:absl:Found untraced functions such as lstm_cell_3_layer_call_fn, lstm_cell_3_layer_call_and_return_conditional_losses while saving (showing 2 of 2). These functions will not be directly callable after loading.\n"
     ]
    },
    {
     "name": "stdout",
     "output_type": "stream",
     "text": [
      "INFO:tensorflow:Assets written to: Hybrid MP_fwd_wav/month0_4_step_lookahead_Hybrid\\assets\n"
     ]
    },
    {
     "name": "stderr",
     "output_type": "stream",
     "text": [
      "INFO:tensorflow:Assets written to: Hybrid MP_fwd_wav/month0_4_step_lookahead_Hybrid\\assets\n",
      "WARNING:absl:<keras.layers.recurrent.LSTMCell object at 0x0000022E8B0A29A0> has the same name 'LSTMCell' as a built-in Keras object. Consider renaming <class 'keras.layers.recurrent.LSTMCell'> to avoid naming conflicts when loading with `tf.keras.models.load_model`. If renaming is not possible, pass the object in the `custom_objects` parameter of the load function.\n"
     ]
    },
    {
     "name": "stdout",
     "output_type": "stream",
     "text": [
      "145/145 [==============================] - 4s 24ms/step\n",
      "63/63 [==============================] - 1s 22ms/step\n"
     ]
    },
    {
     "name": "stderr",
     "output_type": "stream",
     "text": [
      "D:\\Anaconda\\lib\\site-packages\\pandas\\core\\frame.py:3678: SettingWithCopyWarning: \n",
      "A value is trying to be set on a copy of a slice from a DataFrame.\n",
      "Try using .loc[row_indexer,col_indexer] = value instead\n",
      "\n",
      "See the caveats in the documentation: https://pandas.pydata.org/pandas-docs/stable/user_guide/indexing.html#returning-a-view-versus-a-copy\n",
      "  self[col] = igetitem(value, i)\n"
     ]
    },
    {
     "name": "stdout",
     "output_type": "stream",
     "text": [
      "Epoch 1/15\n",
      "145/145 [==============================] - 12s 64ms/step - loss: 0.4417 - val_loss: 0.0642\n",
      "Epoch 2/15\n",
      "145/145 [==============================] - 9s 61ms/step - loss: 0.3771 - val_loss: 0.0582\n",
      "Epoch 3/15\n",
      "145/145 [==============================] - 9s 60ms/step - loss: 0.3679 - val_loss: 0.0620\n",
      "Epoch 4/15\n",
      "145/145 [==============================] - 9s 60ms/step - loss: 0.3600 - val_loss: 0.0664\n",
      "Epoch 5/15\n",
      "145/145 [==============================] - 9s 60ms/step - loss: 0.3580 - val_loss: 0.0614\n",
      "Epoch 6/15\n",
      "145/145 [==============================] - 9s 60ms/step - loss: 0.3527 - val_loss: 0.0603\n",
      "Epoch 7/15\n",
      "145/145 [==============================] - 9s 63ms/step - loss: 0.3439 - val_loss: 0.0616\n",
      "Epoch 8/15\n",
      "145/145 [==============================] - 9s 60ms/step - loss: 0.3343 - val_loss: 0.0708\n",
      "Epoch 9/15\n",
      "145/145 [==============================] - 9s 60ms/step - loss: 0.3265 - val_loss: 0.0666\n",
      "Epoch 10/15\n",
      "145/145 [==============================] - 9s 60ms/step - loss: 0.3240 - val_loss: 0.0533\n",
      "Epoch 11/15\n",
      "145/145 [==============================] - 9s 61ms/step - loss: 0.3602 - val_loss: 0.0620\n",
      "Epoch 12/15\n",
      "145/145 [==============================] - 9s 60ms/step - loss: 0.3319 - val_loss: 0.0630\n",
      "Epoch 13/15\n",
      "145/145 [==============================] - 9s 60ms/step - loss: 0.3235 - val_loss: 0.0827\n",
      "Epoch 14/15\n",
      "145/145 [==============================] - 9s 60ms/step - loss: 0.3196 - val_loss: 0.0720\n",
      "Epoch 15/15\n",
      "145/145 [==============================] - 9s 60ms/step - loss: 0.3141 - val_loss: 0.0731\n"
     ]
    },
    {
     "name": "stderr",
     "output_type": "stream",
     "text": [
      "WARNING:absl:Found untraced functions such as lstm_cell_4_layer_call_fn, lstm_cell_4_layer_call_and_return_conditional_losses while saving (showing 2 of 2). These functions will not be directly callable after loading.\n"
     ]
    },
    {
     "name": "stdout",
     "output_type": "stream",
     "text": [
      "INFO:tensorflow:Assets written to: Hybrid MP_fwd_wav/month0_5_step_lookahead_Hybrid\\assets\n"
     ]
    },
    {
     "name": "stderr",
     "output_type": "stream",
     "text": [
      "INFO:tensorflow:Assets written to: Hybrid MP_fwd_wav/month0_5_step_lookahead_Hybrid\\assets\n",
      "WARNING:absl:<keras.layers.recurrent.LSTMCell object at 0x0000022EBBB247C0> has the same name 'LSTMCell' as a built-in Keras object. Consider renaming <class 'keras.layers.recurrent.LSTMCell'> to avoid naming conflicts when loading with `tf.keras.models.load_model`. If renaming is not possible, pass the object in the `custom_objects` parameter of the load function.\n"
     ]
    },
    {
     "name": "stdout",
     "output_type": "stream",
     "text": [
      "145/145 [==============================] - 4s 23ms/step\n",
      "63/63 [==============================] - 1s 22ms/step\n"
     ]
    },
    {
     "name": "stderr",
     "output_type": "stream",
     "text": [
      "D:\\Anaconda\\lib\\site-packages\\pandas\\core\\frame.py:3678: SettingWithCopyWarning: \n",
      "A value is trying to be set on a copy of a slice from a DataFrame.\n",
      "Try using .loc[row_indexer,col_indexer] = value instead\n",
      "\n",
      "See the caveats in the documentation: https://pandas.pydata.org/pandas-docs/stable/user_guide/indexing.html#returning-a-view-versus-a-copy\n",
      "  self[col] = igetitem(value, i)\n"
     ]
    },
    {
     "name": "stdout",
     "output_type": "stream",
     "text": [
      "Epoch 1/15\n",
      "145/145 [==============================] - 12s 67ms/step - loss: 0.4358 - val_loss: 0.0670\n",
      "Epoch 2/15\n",
      "145/145 [==============================] - 9s 60ms/step - loss: 0.3842 - val_loss: 0.0664\n",
      "Epoch 3/15\n",
      "145/145 [==============================] - 9s 60ms/step - loss: 0.3730 - val_loss: 0.0661\n",
      "Epoch 4/15\n",
      "145/145 [==============================] - 9s 60ms/step - loss: 0.3649 - val_loss: 0.0681\n",
      "Epoch 5/15\n",
      "145/145 [==============================] - 9s 60ms/step - loss: 0.3587 - val_loss: 0.0723\n",
      "Epoch 6/15\n",
      "145/145 [==============================] - 9s 60ms/step - loss: 0.3523 - val_loss: 0.0683\n",
      "Epoch 7/15\n",
      "145/145 [==============================] - 9s 59ms/step - loss: 0.3477 - val_loss: 0.0837\n",
      "Epoch 8/15\n",
      "145/145 [==============================] - 9s 60ms/step - loss: 0.3382 - val_loss: 0.0713\n",
      "Epoch 9/15\n",
      "145/145 [==============================] - 9s 60ms/step - loss: 0.3326 - val_loss: 0.1453\n",
      "Epoch 10/15\n",
      "145/145 [==============================] - 9s 60ms/step - loss: 0.3289 - val_loss: 0.1605\n",
      "Epoch 11/15\n",
      "145/145 [==============================] - 9s 60ms/step - loss: 0.3202 - val_loss: 0.1356\n",
      "Epoch 12/15\n",
      "145/145 [==============================] - 9s 60ms/step - loss: 0.3116 - val_loss: 0.1319\n",
      "Epoch 13/15\n",
      "145/145 [==============================] - 9s 59ms/step - loss: 0.3122 - val_loss: 0.1301\n",
      "Epoch 14/15\n",
      "145/145 [==============================] - 9s 59ms/step - loss: 0.3057 - val_loss: 0.1239\n",
      "Epoch 15/15\n",
      "145/145 [==============================] - 9s 59ms/step - loss: 0.3043 - val_loss: 0.1066\n"
     ]
    },
    {
     "name": "stderr",
     "output_type": "stream",
     "text": [
      "WARNING:absl:Found untraced functions such as lstm_cell_5_layer_call_fn, lstm_cell_5_layer_call_and_return_conditional_losses while saving (showing 2 of 2). These functions will not be directly callable after loading.\n"
     ]
    },
    {
     "name": "stdout",
     "output_type": "stream",
     "text": [
      "INFO:tensorflow:Assets written to: Hybrid MP_fwd_wav/month0_6_step_lookahead_Hybrid\\assets\n"
     ]
    },
    {
     "name": "stderr",
     "output_type": "stream",
     "text": [
      "INFO:tensorflow:Assets written to: Hybrid MP_fwd_wav/month0_6_step_lookahead_Hybrid\\assets\n",
      "WARNING:absl:<keras.layers.recurrent.LSTMCell object at 0x0000022E86386C70> has the same name 'LSTMCell' as a built-in Keras object. Consider renaming <class 'keras.layers.recurrent.LSTMCell'> to avoid naming conflicts when loading with `tf.keras.models.load_model`. If renaming is not possible, pass the object in the `custom_objects` parameter of the load function.\n"
     ]
    },
    {
     "name": "stdout",
     "output_type": "stream",
     "text": [
      "145/145 [==============================] - 4s 24ms/step\n",
      "63/63 [==============================] - 1s 22ms/step\n"
     ]
    },
    {
     "name": "stderr",
     "output_type": "stream",
     "text": [
      "D:\\Anaconda\\lib\\site-packages\\pandas\\core\\frame.py:3678: SettingWithCopyWarning: \n",
      "A value is trying to be set on a copy of a slice from a DataFrame.\n",
      "Try using .loc[row_indexer,col_indexer] = value instead\n",
      "\n",
      "See the caveats in the documentation: https://pandas.pydata.org/pandas-docs/stable/user_guide/indexing.html#returning-a-view-versus-a-copy\n",
      "  self[col] = igetitem(value, i)\n"
     ]
    },
    {
     "name": "stdout",
     "output_type": "stream",
     "text": [
      "Epoch 1/15\n",
      "145/145 [==============================] - 12s 64ms/step - loss: 0.4118 - val_loss: 0.0700\n",
      "Epoch 2/15\n",
      "145/145 [==============================] - 9s 61ms/step - loss: 0.3875 - val_loss: 0.0613\n",
      "Epoch 3/15\n",
      "145/145 [==============================] - 9s 61ms/step - loss: 0.3807 - val_loss: 0.0599\n",
      "Epoch 4/15\n",
      "145/145 [==============================] - 9s 60ms/step - loss: 0.3751 - val_loss: 0.0598\n",
      "Epoch 5/15\n",
      "145/145 [==============================] - 9s 60ms/step - loss: 0.3723 - val_loss: 0.0590\n",
      "Epoch 6/15\n",
      "145/145 [==============================] - 9s 60ms/step - loss: 0.3676 - val_loss: 0.0578\n",
      "Epoch 7/15\n",
      "145/145 [==============================] - 9s 60ms/step - loss: 0.3667 - val_loss: 0.0662\n",
      "Epoch 8/15\n",
      "145/145 [==============================] - 9s 60ms/step - loss: 0.3618 - val_loss: 0.0603\n",
      "Epoch 9/15\n",
      "145/145 [==============================] - 9s 60ms/step - loss: 0.3559 - val_loss: 0.0618\n",
      "Epoch 10/15\n",
      "145/145 [==============================] - 9s 60ms/step - loss: 0.3499 - val_loss: 0.0633\n",
      "Epoch 11/15\n",
      "145/145 [==============================] - 9s 61ms/step - loss: 0.3483 - val_loss: 0.0583\n",
      "Epoch 12/15\n",
      "145/145 [==============================] - 9s 59ms/step - loss: 0.3449 - val_loss: 0.0787\n",
      "Epoch 13/15\n",
      "145/145 [==============================] - 9s 59ms/step - loss: 0.3415 - val_loss: 0.0574\n",
      "Epoch 14/15\n",
      "145/145 [==============================] - 9s 59ms/step - loss: 0.3375 - val_loss: 0.0613\n",
      "Epoch 15/15\n",
      "145/145 [==============================] - 8s 57ms/step - loss: 0.3354 - val_loss: 0.0628\n"
     ]
    },
    {
     "name": "stderr",
     "output_type": "stream",
     "text": [
      "WARNING:absl:Found untraced functions such as lstm_cell_6_layer_call_fn, lstm_cell_6_layer_call_and_return_conditional_losses while saving (showing 2 of 2). These functions will not be directly callable after loading.\n"
     ]
    },
    {
     "name": "stdout",
     "output_type": "stream",
     "text": [
      "INFO:tensorflow:Assets written to: Hybrid MP_fwd_wav/month0_7_step_lookahead_Hybrid\\assets\n"
     ]
    },
    {
     "name": "stderr",
     "output_type": "stream",
     "text": [
      "INFO:tensorflow:Assets written to: Hybrid MP_fwd_wav/month0_7_step_lookahead_Hybrid\\assets\n",
      "WARNING:absl:<keras.layers.recurrent.LSTMCell object at 0x0000022EC2060F10> has the same name 'LSTMCell' as a built-in Keras object. Consider renaming <class 'keras.layers.recurrent.LSTMCell'> to avoid naming conflicts when loading with `tf.keras.models.load_model`. If renaming is not possible, pass the object in the `custom_objects` parameter of the load function.\n"
     ]
    },
    {
     "name": "stdout",
     "output_type": "stream",
     "text": [
      "145/145 [==============================] - 4s 23ms/step\n",
      "63/63 [==============================] - 1s 21ms/step\n"
     ]
    },
    {
     "name": "stderr",
     "output_type": "stream",
     "text": [
      "D:\\Anaconda\\lib\\site-packages\\pandas\\core\\frame.py:3678: SettingWithCopyWarning: \n",
      "A value is trying to be set on a copy of a slice from a DataFrame.\n",
      "Try using .loc[row_indexer,col_indexer] = value instead\n",
      "\n",
      "See the caveats in the documentation: https://pandas.pydata.org/pandas-docs/stable/user_guide/indexing.html#returning-a-view-versus-a-copy\n",
      "  self[col] = igetitem(value, i)\n"
     ]
    },
    {
     "name": "stdout",
     "output_type": "stream",
     "text": [
      "Epoch 1/15\n",
      "145/145 [==============================] - 11s 61ms/step - loss: 0.4525 - val_loss: 0.0767\n",
      "Epoch 2/15\n",
      "145/145 [==============================] - 8s 58ms/step - loss: 0.3981 - val_loss: 0.0716\n",
      "Epoch 3/15\n",
      "145/145 [==============================] - 8s 57ms/step - loss: 0.3892 - val_loss: 0.0650\n",
      "Epoch 4/15\n",
      "145/145 [==============================] - 8s 58ms/step - loss: 0.3836 - val_loss: 0.0604\n",
      "Epoch 5/15\n",
      "145/145 [==============================] - 8s 58ms/step - loss: 0.3790 - val_loss: 0.0592\n",
      "Epoch 6/15\n",
      "145/145 [==============================] - 8s 58ms/step - loss: 0.3752 - val_loss: 0.0622\n",
      "Epoch 7/15\n",
      "145/145 [==============================] - 8s 58ms/step - loss: 0.3720 - val_loss: 0.0574\n",
      "Epoch 8/15\n",
      "145/145 [==============================] - 8s 57ms/step - loss: 0.3696 - val_loss: 0.0608\n",
      "Epoch 9/15\n",
      "145/145 [==============================] - 8s 58ms/step - loss: 0.3657 - val_loss: 0.0596\n",
      "Epoch 10/15\n",
      "145/145 [==============================] - 8s 57ms/step - loss: 0.3643 - val_loss: 0.0555\n",
      "Epoch 11/15\n",
      "145/145 [==============================] - 8s 57ms/step - loss: 0.3655 - val_loss: 0.0569\n",
      "Epoch 12/15\n",
      "145/145 [==============================] - 8s 58ms/step - loss: 0.3608 - val_loss: 0.0555\n",
      "Epoch 13/15\n",
      "145/145 [==============================] - 9s 60ms/step - loss: 0.3568 - val_loss: 0.0557\n",
      "Epoch 14/15\n",
      "145/145 [==============================] - 8s 58ms/step - loss: 0.3545 - val_loss: 0.0621\n",
      "Epoch 15/15\n",
      "145/145 [==============================] - 8s 58ms/step - loss: 0.3540 - val_loss: 0.0595\n"
     ]
    },
    {
     "name": "stderr",
     "output_type": "stream",
     "text": [
      "WARNING:absl:Found untraced functions such as lstm_cell_7_layer_call_fn, lstm_cell_7_layer_call_and_return_conditional_losses while saving (showing 2 of 2). These functions will not be directly callable after loading.\n"
     ]
    },
    {
     "name": "stdout",
     "output_type": "stream",
     "text": [
      "INFO:tensorflow:Assets written to: Hybrid MP_fwd_wav/month0_8_step_lookahead_Hybrid\\assets\n"
     ]
    },
    {
     "name": "stderr",
     "output_type": "stream",
     "text": [
      "INFO:tensorflow:Assets written to: Hybrid MP_fwd_wav/month0_8_step_lookahead_Hybrid\\assets\n",
      "WARNING:absl:<keras.layers.recurrent.LSTMCell object at 0x0000022E8B452E80> has the same name 'LSTMCell' as a built-in Keras object. Consider renaming <class 'keras.layers.recurrent.LSTMCell'> to avoid naming conflicts when loading with `tf.keras.models.load_model`. If renaming is not possible, pass the object in the `custom_objects` parameter of the load function.\n"
     ]
    },
    {
     "name": "stdout",
     "output_type": "stream",
     "text": [
      "145/145 [==============================] - 4s 23ms/step\n",
      "63/63 [==============================] - 1s 21ms/step\n"
     ]
    },
    {
     "name": "stderr",
     "output_type": "stream",
     "text": [
      "D:\\Anaconda\\lib\\site-packages\\pandas\\core\\frame.py:3678: SettingWithCopyWarning: \n",
      "A value is trying to be set on a copy of a slice from a DataFrame.\n",
      "Try using .loc[row_indexer,col_indexer] = value instead\n",
      "\n",
      "See the caveats in the documentation: https://pandas.pydata.org/pandas-docs/stable/user_guide/indexing.html#returning-a-view-versus-a-copy\n",
      "  self[col] = igetitem(value, i)\n"
     ]
    },
    {
     "name": "stdout",
     "output_type": "stream",
     "text": [
      "Epoch 1/15\n",
      "145/145 [==============================] - 11s 61ms/step - loss: 0.4536 - val_loss: 0.0681\n",
      "Epoch 2/15\n",
      "145/145 [==============================] - 8s 58ms/step - loss: 0.4025 - val_loss: 0.0720\n",
      "Epoch 3/15\n",
      "145/145 [==============================] - 8s 58ms/step - loss: 0.3962 - val_loss: 0.0626\n",
      "Epoch 4/15\n",
      "145/145 [==============================] - 8s 58ms/step - loss: 0.3902 - val_loss: 0.0682\n",
      "Epoch 5/15\n",
      "145/145 [==============================] - 8s 58ms/step - loss: 0.3877 - val_loss: 0.0792\n",
      "Epoch 6/15\n",
      "145/145 [==============================] - 8s 57ms/step - loss: 0.3844 - val_loss: 0.0711\n",
      "Epoch 7/15\n",
      "145/145 [==============================] - 8s 58ms/step - loss: 0.3821 - val_loss: 0.0697\n",
      "Epoch 8/15\n",
      "145/145 [==============================] - 8s 57ms/step - loss: 0.3806 - val_loss: 0.0686\n",
      "Epoch 9/15\n",
      "145/145 [==============================] - 9s 62ms/step - loss: 0.3781 - val_loss: 0.0863\n",
      "Epoch 10/15\n",
      "145/145 [==============================] - 8s 58ms/step - loss: 0.3761 - val_loss: 0.0722\n",
      "Epoch 11/15\n",
      "145/145 [==============================] - 8s 57ms/step - loss: 0.3752 - val_loss: 0.0676\n",
      "Epoch 12/15\n",
      "145/145 [==============================] - 9s 60ms/step - loss: 0.3739 - val_loss: 0.0860\n",
      "Epoch 13/15\n",
      "145/145 [==============================] - 8s 58ms/step - loss: 0.3721 - val_loss: 0.0627\n",
      "Epoch 14/15\n",
      "145/145 [==============================] - 8s 58ms/step - loss: 0.3702 - val_loss: 0.0635\n",
      "Epoch 15/15\n",
      "145/145 [==============================] - 8s 58ms/step - loss: 0.3691 - val_loss: 0.0696\n"
     ]
    },
    {
     "name": "stderr",
     "output_type": "stream",
     "text": [
      "WARNING:absl:Found untraced functions such as lstm_cell_8_layer_call_fn, lstm_cell_8_layer_call_and_return_conditional_losses while saving (showing 2 of 2). These functions will not be directly callable after loading.\n"
     ]
    },
    {
     "name": "stdout",
     "output_type": "stream",
     "text": [
      "INFO:tensorflow:Assets written to: Hybrid MP_fwd_wav/month0_9_step_lookahead_Hybrid\\assets\n"
     ]
    },
    {
     "name": "stderr",
     "output_type": "stream",
     "text": [
      "INFO:tensorflow:Assets written to: Hybrid MP_fwd_wav/month0_9_step_lookahead_Hybrid\\assets\n",
      "WARNING:absl:<keras.layers.recurrent.LSTMCell object at 0x0000022E8B5E0070> has the same name 'LSTMCell' as a built-in Keras object. Consider renaming <class 'keras.layers.recurrent.LSTMCell'> to avoid naming conflicts when loading with `tf.keras.models.load_model`. If renaming is not possible, pass the object in the `custom_objects` parameter of the load function.\n"
     ]
    },
    {
     "name": "stdout",
     "output_type": "stream",
     "text": [
      "145/145 [==============================] - 4s 23ms/step\n",
      "63/63 [==============================] - 1s 22ms/step\n"
     ]
    },
    {
     "name": "stderr",
     "output_type": "stream",
     "text": [
      "D:\\Anaconda\\lib\\site-packages\\pandas\\core\\frame.py:3678: SettingWithCopyWarning: \n",
      "A value is trying to be set on a copy of a slice from a DataFrame.\n",
      "Try using .loc[row_indexer,col_indexer] = value instead\n",
      "\n",
      "See the caveats in the documentation: https://pandas.pydata.org/pandas-docs/stable/user_guide/indexing.html#returning-a-view-versus-a-copy\n",
      "  self[col] = igetitem(value, i)\n"
     ]
    },
    {
     "name": "stdout",
     "output_type": "stream",
     "text": [
      "Epoch 1/15\n",
      "145/145 [==============================] - 12s 62ms/step - loss: 0.4249 - val_loss: 0.0971\n",
      "Epoch 2/15\n",
      "145/145 [==============================] - 8s 58ms/step - loss: 0.4046 - val_loss: 0.0792\n",
      "Epoch 3/15\n",
      "145/145 [==============================] - 8s 58ms/step - loss: 0.3980 - val_loss: 0.0774\n",
      "Epoch 4/15\n",
      "145/145 [==============================] - 8s 58ms/step - loss: 0.3981 - val_loss: 0.0762\n",
      "Epoch 5/15\n",
      "145/145 [==============================] - 8s 58ms/step - loss: 0.3921 - val_loss: 0.0786\n",
      "Epoch 6/15\n",
      "145/145 [==============================] - 8s 58ms/step - loss: 0.3910 - val_loss: 0.0925\n",
      "Epoch 7/15\n",
      "145/145 [==============================] - 8s 58ms/step - loss: 0.3881 - val_loss: 0.0771\n",
      "Epoch 8/15\n",
      "145/145 [==============================] - 8s 58ms/step - loss: 0.3859 - val_loss: 0.1138\n",
      "Epoch 9/15\n",
      "145/145 [==============================] - 8s 56ms/step - loss: 0.3858 - val_loss: 0.1029\n",
      "Epoch 10/15\n",
      "145/145 [==============================] - 8s 57ms/step - loss: 0.3841 - val_loss: 0.0974\n",
      "Epoch 11/15\n",
      "145/145 [==============================] - 8s 56ms/step - loss: 0.3832 - val_loss: 0.1051\n",
      "Epoch 12/15\n",
      "145/145 [==============================] - 8s 56ms/step - loss: 0.3822 - val_loss: 0.1086\n",
      "Epoch 13/15\n",
      "145/145 [==============================] - 8s 57ms/step - loss: 0.3804 - val_loss: 0.1060\n",
      "Epoch 14/15\n",
      "145/145 [==============================] - 8s 58ms/step - loss: 0.3794 - val_loss: 0.0878\n",
      "Epoch 15/15\n",
      "145/145 [==============================] - 8s 57ms/step - loss: 0.3773 - val_loss: 0.1143\n"
     ]
    },
    {
     "name": "stderr",
     "output_type": "stream",
     "text": [
      "WARNING:absl:Found untraced functions such as lstm_cell_9_layer_call_fn, lstm_cell_9_layer_call_and_return_conditional_losses while saving (showing 2 of 2). These functions will not be directly callable after loading.\n"
     ]
    },
    {
     "name": "stdout",
     "output_type": "stream",
     "text": [
      "INFO:tensorflow:Assets written to: Hybrid MP_fwd_wav/month0_10_step_lookahead_Hybrid\\assets\n"
     ]
    },
    {
     "name": "stderr",
     "output_type": "stream",
     "text": [
      "INFO:tensorflow:Assets written to: Hybrid MP_fwd_wav/month0_10_step_lookahead_Hybrid\\assets\n",
      "WARNING:absl:<keras.layers.recurrent.LSTMCell object at 0x00000231D6A73250> has the same name 'LSTMCell' as a built-in Keras object. Consider renaming <class 'keras.layers.recurrent.LSTMCell'> to avoid naming conflicts when loading with `tf.keras.models.load_model`. If renaming is not possible, pass the object in the `custom_objects` parameter of the load function.\n"
     ]
    },
    {
     "name": "stdout",
     "output_type": "stream",
     "text": [
      "145/145 [==============================] - 4s 24ms/step\n",
      "63/63 [==============================] - 1s 23ms/step\n"
     ]
    },
    {
     "name": "stderr",
     "output_type": "stream",
     "text": [
      "D:\\Anaconda\\lib\\site-packages\\pandas\\core\\frame.py:3678: SettingWithCopyWarning: \n",
      "A value is trying to be set on a copy of a slice from a DataFrame.\n",
      "Try using .loc[row_indexer,col_indexer] = value instead\n",
      "\n",
      "See the caveats in the documentation: https://pandas.pydata.org/pandas-docs/stable/user_guide/indexing.html#returning-a-view-versus-a-copy\n",
      "  self[col] = igetitem(value, i)\n",
      "D:\\Anaconda\\lib\\site-packages\\pandas\\core\\frame.py:3678: SettingWithCopyWarning: \n",
      "A value is trying to be set on a copy of a slice from a DataFrame.\n",
      "Try using .loc[row_indexer,col_indexer] = value instead\n",
      "\n",
      "See the caveats in the documentation: https://pandas.pydata.org/pandas-docs/stable/user_guide/indexing.html#returning-a-view-versus-a-copy\n",
      "  self[col] = igetitem(value, i)\n"
     ]
    },
    {
     "name": "stdout",
     "output_type": "stream",
     "text": [
      "Epoch 1/15\n",
      "152/152 [==============================] - 12s 62ms/step - loss: 0.7342 - val_loss: 0.4496\n",
      "Epoch 2/15\n",
      "152/152 [==============================] - 9s 59ms/step - loss: 0.3836 - val_loss: 0.3706\n",
      "Epoch 3/15\n",
      "152/152 [==============================] - 9s 58ms/step - loss: 0.3341 - val_loss: 0.3204\n",
      "Epoch 4/15\n",
      "152/152 [==============================] - 9s 57ms/step - loss: 0.3091 - val_loss: 0.2949\n",
      "Epoch 5/15\n",
      "152/152 [==============================] - 9s 57ms/step - loss: 0.2919 - val_loss: 0.2785\n",
      "Epoch 6/15\n",
      "152/152 [==============================] - 9s 57ms/step - loss: 0.2825 - val_loss: 0.2693\n",
      "Epoch 7/15\n",
      "152/152 [==============================] - 9s 56ms/step - loss: 0.2782 - val_loss: 0.2610\n",
      "Epoch 8/15\n",
      "152/152 [==============================] - 9s 57ms/step - loss: 0.2660 - val_loss: 0.2510\n",
      "Epoch 9/15\n",
      "152/152 [==============================] - 9s 57ms/step - loss: 0.2657 - val_loss: 0.2464\n",
      "Epoch 10/15\n",
      "152/152 [==============================] - 9s 57ms/step - loss: 0.2595 - val_loss: 0.2459\n",
      "Epoch 11/15\n",
      "152/152 [==============================] - 9s 56ms/step - loss: 0.2564 - val_loss: 0.2400\n",
      "Epoch 12/15\n",
      "152/152 [==============================] - 9s 57ms/step - loss: 0.2603 - val_loss: 0.2376\n",
      "Epoch 13/15\n",
      "152/152 [==============================] - 9s 57ms/step - loss: 0.2587 - val_loss: 0.2360\n",
      "Epoch 14/15\n",
      "152/152 [==============================] - 9s 57ms/step - loss: 0.2572 - val_loss: 0.2350\n",
      "Epoch 15/15\n",
      "152/152 [==============================] - 9s 56ms/step - loss: 0.2540 - val_loss: 0.2331\n"
     ]
    },
    {
     "name": "stderr",
     "output_type": "stream",
     "text": [
      "WARNING:absl:Found untraced functions such as lstm_cell_10_layer_call_fn, lstm_cell_10_layer_call_and_return_conditional_losses while saving (showing 2 of 2). These functions will not be directly callable after loading.\n"
     ]
    },
    {
     "name": "stdout",
     "output_type": "stream",
     "text": [
      "INFO:tensorflow:Assets written to: Hybrid MP_fwd_wav/month1_1_step_lookahead_Hybrid\\assets\n"
     ]
    },
    {
     "name": "stderr",
     "output_type": "stream",
     "text": [
      "INFO:tensorflow:Assets written to: Hybrid MP_fwd_wav/month1_1_step_lookahead_Hybrid\\assets\n",
      "WARNING:absl:<keras.layers.recurrent.LSTMCell object at 0x0000022E8A8B7130> has the same name 'LSTMCell' as a built-in Keras object. Consider renaming <class 'keras.layers.recurrent.LSTMCell'> to avoid naming conflicts when loading with `tf.keras.models.load_model`. If renaming is not possible, pass the object in the `custom_objects` parameter of the load function.\n"
     ]
    },
    {
     "name": "stdout",
     "output_type": "stream",
     "text": [
      "152/152 [==============================] - 4s 23ms/step\n",
      "65/65 [==============================] - 1s 21ms/step\n"
     ]
    },
    {
     "name": "stderr",
     "output_type": "stream",
     "text": [
      "D:\\Anaconda\\lib\\site-packages\\pandas\\core\\frame.py:3678: SettingWithCopyWarning: \n",
      "A value is trying to be set on a copy of a slice from a DataFrame.\n",
      "Try using .loc[row_indexer,col_indexer] = value instead\n",
      "\n",
      "See the caveats in the documentation: https://pandas.pydata.org/pandas-docs/stable/user_guide/indexing.html#returning-a-view-versus-a-copy\n",
      "  self[col] = igetitem(value, i)\n"
     ]
    },
    {
     "name": "stdout",
     "output_type": "stream",
     "text": [
      "Epoch 1/15\n",
      "152/152 [==============================] - 12s 61ms/step - loss: 0.5064 - val_loss: 0.3905\n",
      "Epoch 2/15\n",
      "152/152 [==============================] - 9s 57ms/step - loss: 0.3964 - val_loss: 0.3367\n",
      "Epoch 3/15\n",
      "152/152 [==============================] - 9s 58ms/step - loss: 0.3834 - val_loss: 0.3076\n",
      "Epoch 4/15\n",
      "152/152 [==============================] - 9s 56ms/step - loss: 0.3813 - val_loss: 0.3123\n",
      "Epoch 5/15\n",
      "152/152 [==============================] - 9s 56ms/step - loss: 0.3778 - val_loss: 0.2916\n",
      "Epoch 6/15\n",
      "152/152 [==============================] - 9s 57ms/step - loss: 0.3717 - val_loss: 0.2860\n",
      "Epoch 7/15\n",
      "152/152 [==============================] - 9s 57ms/step - loss: 0.3719 - val_loss: 0.2842\n",
      "Epoch 8/15\n",
      "152/152 [==============================] - 9s 57ms/step - loss: 0.3696 - val_loss: 0.2825\n",
      "Epoch 9/15\n",
      "152/152 [==============================] - 9s 57ms/step - loss: 0.3653 - val_loss: 0.2841\n",
      "Epoch 10/15\n",
      "152/152 [==============================] - 9s 57ms/step - loss: 0.3672 - val_loss: 0.2792\n",
      "Epoch 11/15\n",
      "152/152 [==============================] - 9s 56ms/step - loss: 0.3689 - val_loss: 0.2818\n",
      "Epoch 12/15\n",
      "152/152 [==============================] - 9s 56ms/step - loss: 0.3651 - val_loss: 0.2847\n",
      "Epoch 13/15\n",
      "152/152 [==============================] - 9s 57ms/step - loss: 0.3632 - val_loss: 0.2897\n",
      "Epoch 14/15\n",
      "152/152 [==============================] - 9s 56ms/step - loss: 0.3627 - val_loss: 0.2996\n",
      "Epoch 15/15\n",
      "152/152 [==============================] - 9s 57ms/step - loss: 0.3628 - val_loss: 0.2957\n"
     ]
    },
    {
     "name": "stderr",
     "output_type": "stream",
     "text": [
      "WARNING:absl:Found untraced functions such as lstm_cell_11_layer_call_fn, lstm_cell_11_layer_call_and_return_conditional_losses while saving (showing 2 of 2). These functions will not be directly callable after loading.\n"
     ]
    },
    {
     "name": "stdout",
     "output_type": "stream",
     "text": [
      "INFO:tensorflow:Assets written to: Hybrid MP_fwd_wav/month1_2_step_lookahead_Hybrid\\assets\n"
     ]
    },
    {
     "name": "stderr",
     "output_type": "stream",
     "text": [
      "INFO:tensorflow:Assets written to: Hybrid MP_fwd_wav/month1_2_step_lookahead_Hybrid\\assets\n",
      "WARNING:absl:<keras.layers.recurrent.LSTMCell object at 0x0000022EBBD75B50> has the same name 'LSTMCell' as a built-in Keras object. Consider renaming <class 'keras.layers.recurrent.LSTMCell'> to avoid naming conflicts when loading with `tf.keras.models.load_model`. If renaming is not possible, pass the object in the `custom_objects` parameter of the load function.\n"
     ]
    },
    {
     "name": "stdout",
     "output_type": "stream",
     "text": [
      "152/152 [==============================] - 4s 23ms/step\n",
      "65/65 [==============================] - 1s 21ms/step\n"
     ]
    },
    {
     "name": "stderr",
     "output_type": "stream",
     "text": [
      "D:\\Anaconda\\lib\\site-packages\\pandas\\core\\frame.py:3678: SettingWithCopyWarning: \n",
      "A value is trying to be set on a copy of a slice from a DataFrame.\n",
      "Try using .loc[row_indexer,col_indexer] = value instead\n",
      "\n",
      "See the caveats in the documentation: https://pandas.pydata.org/pandas-docs/stable/user_guide/indexing.html#returning-a-view-versus-a-copy\n",
      "  self[col] = igetitem(value, i)\n"
     ]
    },
    {
     "name": "stdout",
     "output_type": "stream",
     "text": [
      "Epoch 1/15\n",
      "152/152 [==============================] - 11s 60ms/step - loss: 0.7280 - val_loss: 0.4645\n",
      "Epoch 2/15\n",
      "152/152 [==============================] - 9s 57ms/step - loss: 0.4422 - val_loss: 0.4337\n",
      "Epoch 3/15\n",
      "152/152 [==============================] - 9s 56ms/step - loss: 0.4301 - val_loss: 0.4182\n",
      "Epoch 4/15\n",
      "152/152 [==============================] - 9s 57ms/step - loss: 0.4247 - val_loss: 0.4078\n",
      "Epoch 5/15\n",
      "152/152 [==============================] - 9s 57ms/step - loss: 0.4195 - val_loss: 0.4029\n",
      "Epoch 6/15\n",
      "152/152 [==============================] - 8s 56ms/step - loss: 0.4216 - val_loss: 0.4015\n",
      "Epoch 7/15\n",
      "152/152 [==============================] - 9s 57ms/step - loss: 0.4181 - val_loss: 0.3991\n",
      "Epoch 8/15\n",
      "152/152 [==============================] - 9s 56ms/step - loss: 0.4185 - val_loss: 0.3967\n",
      "Epoch 9/15\n",
      "152/152 [==============================] - 9s 57ms/step - loss: 0.4175 - val_loss: 0.3926\n",
      "Epoch 10/15\n",
      "152/152 [==============================] - 9s 56ms/step - loss: 0.4163 - val_loss: 0.3933\n",
      "Epoch 11/15\n",
      "152/152 [==============================] - 9s 56ms/step - loss: 0.4131 - val_loss: 0.3926\n",
      "Epoch 12/15\n",
      "152/152 [==============================] - 9s 57ms/step - loss: 0.4131 - val_loss: 0.3895\n",
      "Epoch 13/15\n",
      "152/152 [==============================] - 9s 57ms/step - loss: 0.4105 - val_loss: 0.3912\n",
      "Epoch 14/15\n",
      "152/152 [==============================] - 9s 57ms/step - loss: 0.4113 - val_loss: 0.3876\n",
      "Epoch 15/15\n",
      "152/152 [==============================] - 9s 56ms/step - loss: 0.4090 - val_loss: 0.3896\n"
     ]
    },
    {
     "name": "stderr",
     "output_type": "stream",
     "text": [
      "WARNING:absl:Found untraced functions such as lstm_cell_12_layer_call_fn, lstm_cell_12_layer_call_and_return_conditional_losses while saving (showing 2 of 2). These functions will not be directly callable after loading.\n"
     ]
    },
    {
     "name": "stdout",
     "output_type": "stream",
     "text": [
      "INFO:tensorflow:Assets written to: Hybrid MP_fwd_wav/month1_3_step_lookahead_Hybrid\\assets\n"
     ]
    },
    {
     "name": "stderr",
     "output_type": "stream",
     "text": [
      "INFO:tensorflow:Assets written to: Hybrid MP_fwd_wav/month1_3_step_lookahead_Hybrid\\assets\n",
      "WARNING:absl:<keras.layers.recurrent.LSTMCell object at 0x0000022E8B96A2E0> has the same name 'LSTMCell' as a built-in Keras object. Consider renaming <class 'keras.layers.recurrent.LSTMCell'> to avoid naming conflicts when loading with `tf.keras.models.load_model`. If renaming is not possible, pass the object in the `custom_objects` parameter of the load function.\n"
     ]
    },
    {
     "name": "stdout",
     "output_type": "stream",
     "text": [
      "152/152 [==============================] - 4s 23ms/step\n",
      "65/65 [==============================] - 1s 21ms/step\n"
     ]
    },
    {
     "name": "stderr",
     "output_type": "stream",
     "text": [
      "D:\\Anaconda\\lib\\site-packages\\pandas\\core\\frame.py:3678: SettingWithCopyWarning: \n",
      "A value is trying to be set on a copy of a slice from a DataFrame.\n",
      "Try using .loc[row_indexer,col_indexer] = value instead\n",
      "\n",
      "See the caveats in the documentation: https://pandas.pydata.org/pandas-docs/stable/user_guide/indexing.html#returning-a-view-versus-a-copy\n",
      "  self[col] = igetitem(value, i)\n"
     ]
    },
    {
     "name": "stdout",
     "output_type": "stream",
     "text": [
      "Epoch 1/15\n",
      "152/152 [==============================] - 11s 61ms/step - loss: 0.5742 - val_loss: 0.4356\n",
      "Epoch 2/15\n",
      "152/152 [==============================] - 9s 56ms/step - loss: 0.4525 - val_loss: 0.4161\n",
      "Epoch 3/15\n",
      "152/152 [==============================] - 9s 57ms/step - loss: 0.4443 - val_loss: 0.4027\n",
      "Epoch 4/15\n",
      "152/152 [==============================] - 9s 57ms/step - loss: 0.4431 - val_loss: 0.3974\n",
      "Epoch 5/15\n",
      "152/152 [==============================] - 9s 57ms/step - loss: 0.4422 - val_loss: 0.4017\n",
      "Epoch 6/15\n",
      "152/152 [==============================] - 9s 56ms/step - loss: 0.4370 - val_loss: 0.4034\n",
      "Epoch 7/15\n",
      "152/152 [==============================] - 9s 56ms/step - loss: 0.4361 - val_loss: 0.3966\n",
      "Epoch 8/15\n",
      "152/152 [==============================] - 9s 57ms/step - loss: 0.4321 - val_loss: 0.4005\n",
      "Epoch 9/15\n",
      "152/152 [==============================] - 9s 57ms/step - loss: 0.4310 - val_loss: 0.4009\n",
      "Epoch 10/15\n",
      "152/152 [==============================] - 8s 55ms/step - loss: 0.4311 - val_loss: 0.4099\n",
      "Epoch 11/15\n",
      "152/152 [==============================] - 8s 56ms/step - loss: 0.4285 - val_loss: 0.4186\n",
      "Epoch 12/15\n",
      "152/152 [==============================] - 8s 56ms/step - loss: 0.4274 - val_loss: 0.4046\n",
      "Epoch 13/15\n",
      "152/152 [==============================] - 8s 56ms/step - loss: 0.4234 - val_loss: 0.4200\n",
      "Epoch 14/15\n",
      "152/152 [==============================] - 8s 56ms/step - loss: 0.4257 - val_loss: 0.4334\n",
      "Epoch 15/15\n",
      "152/152 [==============================] - 9s 56ms/step - loss: 0.4222 - val_loss: 0.4298\n"
     ]
    },
    {
     "name": "stderr",
     "output_type": "stream",
     "text": [
      "WARNING:absl:Found untraced functions such as lstm_cell_13_layer_call_fn, lstm_cell_13_layer_call_and_return_conditional_losses while saving (showing 2 of 2). These functions will not be directly callable after loading.\n"
     ]
    },
    {
     "name": "stdout",
     "output_type": "stream",
     "text": [
      "INFO:tensorflow:Assets written to: Hybrid MP_fwd_wav/month1_4_step_lookahead_Hybrid\\assets\n"
     ]
    },
    {
     "name": "stderr",
     "output_type": "stream",
     "text": [
      "INFO:tensorflow:Assets written to: Hybrid MP_fwd_wav/month1_4_step_lookahead_Hybrid\\assets\n",
      "WARNING:absl:<keras.layers.recurrent.LSTMCell object at 0x00000231DB7038E0> has the same name 'LSTMCell' as a built-in Keras object. Consider renaming <class 'keras.layers.recurrent.LSTMCell'> to avoid naming conflicts when loading with `tf.keras.models.load_model`. If renaming is not possible, pass the object in the `custom_objects` parameter of the load function.\n"
     ]
    },
    {
     "name": "stdout",
     "output_type": "stream",
     "text": [
      "152/152 [==============================] - 4s 22ms/step\n",
      "65/65 [==============================] - 1s 21ms/step\n"
     ]
    },
    {
     "name": "stderr",
     "output_type": "stream",
     "text": [
      "D:\\Anaconda\\lib\\site-packages\\pandas\\core\\frame.py:3678: SettingWithCopyWarning: \n",
      "A value is trying to be set on a copy of a slice from a DataFrame.\n",
      "Try using .loc[row_indexer,col_indexer] = value instead\n",
      "\n",
      "See the caveats in the documentation: https://pandas.pydata.org/pandas-docs/stable/user_guide/indexing.html#returning-a-view-versus-a-copy\n",
      "  self[col] = igetitem(value, i)\n"
     ]
    },
    {
     "name": "stdout",
     "output_type": "stream",
     "text": [
      "Epoch 1/15\n",
      "152/152 [==============================] - 11s 61ms/step - loss: 0.6272 - val_loss: 0.4414\n",
      "Epoch 2/15\n",
      "152/152 [==============================] - 9s 57ms/step - loss: 0.4623 - val_loss: 0.4280\n",
      "Epoch 3/15\n",
      "152/152 [==============================] - 8s 56ms/step - loss: 0.4589 - val_loss: 0.4244\n",
      "Epoch 4/15\n",
      "152/152 [==============================] - 9s 57ms/step - loss: 0.4540 - val_loss: 0.4245\n",
      "Epoch 5/15\n",
      "152/152 [==============================] - 9s 57ms/step - loss: 0.4560 - val_loss: 0.4180\n",
      "Epoch 6/15\n",
      "152/152 [==============================] - 9s 57ms/step - loss: 0.4523 - val_loss: 0.4185\n",
      "Epoch 7/15\n",
      "152/152 [==============================] - 9s 57ms/step - loss: 0.4481 - val_loss: 0.4195\n",
      "Epoch 8/15\n",
      "152/152 [==============================] - 9s 56ms/step - loss: 0.4439 - val_loss: 0.4386\n",
      "Epoch 9/15\n",
      "152/152 [==============================] - 9s 57ms/step - loss: 0.4425 - val_loss: 0.4354\n",
      "Epoch 10/15\n",
      "152/152 [==============================] - 9s 57ms/step - loss: 0.4410 - val_loss: 0.4312\n",
      "Epoch 11/15\n",
      "152/152 [==============================] - 9s 56ms/step - loss: 0.4329 - val_loss: 0.4239\n",
      "Epoch 12/15\n",
      "152/152 [==============================] - 9s 56ms/step - loss: 0.4334 - val_loss: 0.4597\n",
      "Epoch 13/15\n",
      "152/152 [==============================] - 8s 56ms/step - loss: 0.4233 - val_loss: 0.4478\n",
      "Epoch 14/15\n",
      "152/152 [==============================] - 9s 57ms/step - loss: 0.4219 - val_loss: 0.4607\n",
      "Epoch 15/15\n",
      "152/152 [==============================] - 9s 56ms/step - loss: 0.4240 - val_loss: 0.4605\n"
     ]
    },
    {
     "name": "stderr",
     "output_type": "stream",
     "text": [
      "WARNING:absl:Found untraced functions such as lstm_cell_14_layer_call_fn, lstm_cell_14_layer_call_and_return_conditional_losses while saving (showing 2 of 2). These functions will not be directly callable after loading.\n"
     ]
    },
    {
     "name": "stdout",
     "output_type": "stream",
     "text": [
      "INFO:tensorflow:Assets written to: Hybrid MP_fwd_wav/month1_5_step_lookahead_Hybrid\\assets\n"
     ]
    },
    {
     "name": "stderr",
     "output_type": "stream",
     "text": [
      "INFO:tensorflow:Assets written to: Hybrid MP_fwd_wav/month1_5_step_lookahead_Hybrid\\assets\n",
      "WARNING:absl:<keras.layers.recurrent.LSTMCell object at 0x00000231D6A45520> has the same name 'LSTMCell' as a built-in Keras object. Consider renaming <class 'keras.layers.recurrent.LSTMCell'> to avoid naming conflicts when loading with `tf.keras.models.load_model`. If renaming is not possible, pass the object in the `custom_objects` parameter of the load function.\n"
     ]
    },
    {
     "name": "stdout",
     "output_type": "stream",
     "text": [
      "152/152 [==============================] - 4s 22ms/step\n",
      "65/65 [==============================] - 1s 21ms/step\n"
     ]
    },
    {
     "name": "stderr",
     "output_type": "stream",
     "text": [
      "D:\\Anaconda\\lib\\site-packages\\pandas\\core\\frame.py:3678: SettingWithCopyWarning: \n",
      "A value is trying to be set on a copy of a slice from a DataFrame.\n",
      "Try using .loc[row_indexer,col_indexer] = value instead\n",
      "\n",
      "See the caveats in the documentation: https://pandas.pydata.org/pandas-docs/stable/user_guide/indexing.html#returning-a-view-versus-a-copy\n",
      "  self[col] = igetitem(value, i)\n"
     ]
    },
    {
     "name": "stdout",
     "output_type": "stream",
     "text": [
      "Epoch 1/15\n",
      "152/152 [==============================] - 12s 61ms/step - loss: 0.7232 - val_loss: 0.5018\n",
      "Epoch 2/15\n",
      "152/152 [==============================] - 9s 57ms/step - loss: 0.4865 - val_loss: 0.4572\n",
      "Epoch 3/15\n",
      "152/152 [==============================] - 9s 58ms/step - loss: 0.4751 - val_loss: 0.4428\n",
      "Epoch 4/15\n",
      "152/152 [==============================] - 9s 58ms/step - loss: 0.4708 - val_loss: 0.4315\n",
      "Epoch 5/15\n",
      "152/152 [==============================] - 10s 67ms/step - loss: 0.4709 - val_loss: 0.4515\n",
      "Epoch 6/15\n",
      "152/152 [==============================] - 9s 59ms/step - loss: 0.4688 - val_loss: 0.4333\n",
      "Epoch 7/15\n",
      "152/152 [==============================] - 9s 59ms/step - loss: 0.4678 - val_loss: 0.4374\n",
      "Epoch 8/15\n",
      "152/152 [==============================] - 9s 58ms/step - loss: 0.4666 - val_loss: 0.4386\n",
      "Epoch 9/15\n",
      "152/152 [==============================] - 9s 59ms/step - loss: 0.4673 - val_loss: 0.4449\n",
      "Epoch 10/15\n",
      "152/152 [==============================] - 9s 60ms/step - loss: 0.4665 - val_loss: 0.4307\n",
      "Epoch 11/15\n",
      "152/152 [==============================] - 8s 56ms/step - loss: 0.4651 - val_loss: 0.4363\n",
      "Epoch 12/15\n",
      "152/152 [==============================] - 8s 56ms/step - loss: 0.4611 - val_loss: 0.4333\n",
      "Epoch 13/15\n",
      "152/152 [==============================] - 9s 56ms/step - loss: 0.4612 - val_loss: 0.4374\n",
      "Epoch 14/15\n",
      "152/152 [==============================] - 9s 56ms/step - loss: 0.4620 - val_loss: 0.4588\n",
      "Epoch 15/15\n",
      "152/152 [==============================] - 9s 56ms/step - loss: 0.4617 - val_loss: 0.4423\n"
     ]
    },
    {
     "name": "stderr",
     "output_type": "stream",
     "text": [
      "WARNING:absl:Found untraced functions such as lstm_cell_15_layer_call_fn, lstm_cell_15_layer_call_and_return_conditional_losses while saving (showing 2 of 2). These functions will not be directly callable after loading.\n"
     ]
    },
    {
     "name": "stdout",
     "output_type": "stream",
     "text": [
      "INFO:tensorflow:Assets written to: Hybrid MP_fwd_wav/month1_6_step_lookahead_Hybrid\\assets\n"
     ]
    },
    {
     "name": "stderr",
     "output_type": "stream",
     "text": [
      "INFO:tensorflow:Assets written to: Hybrid MP_fwd_wav/month1_6_step_lookahead_Hybrid\\assets\n",
      "WARNING:absl:<keras.layers.recurrent.LSTMCell object at 0x0000022E8ACC6AF0> has the same name 'LSTMCell' as a built-in Keras object. Consider renaming <class 'keras.layers.recurrent.LSTMCell'> to avoid naming conflicts when loading with `tf.keras.models.load_model`. If renaming is not possible, pass the object in the `custom_objects` parameter of the load function.\n"
     ]
    },
    {
     "name": "stdout",
     "output_type": "stream",
     "text": [
      "152/152 [==============================] - 4s 22ms/step\n",
      "65/65 [==============================] - 1s 20ms/step\n"
     ]
    },
    {
     "name": "stderr",
     "output_type": "stream",
     "text": [
      "D:\\Anaconda\\lib\\site-packages\\pandas\\core\\frame.py:3678: SettingWithCopyWarning: \n",
      "A value is trying to be set on a copy of a slice from a DataFrame.\n",
      "Try using .loc[row_indexer,col_indexer] = value instead\n",
      "\n",
      "See the caveats in the documentation: https://pandas.pydata.org/pandas-docs/stable/user_guide/indexing.html#returning-a-view-versus-a-copy\n",
      "  self[col] = igetitem(value, i)\n"
     ]
    },
    {
     "name": "stdout",
     "output_type": "stream",
     "text": [
      "Epoch 1/15\n",
      "152/152 [==============================] - 11s 61ms/step - loss: 0.7385 - val_loss: 0.4986\n",
      "Epoch 2/15\n",
      "152/152 [==============================] - 9s 57ms/step - loss: 0.4904 - val_loss: 0.4702\n",
      "Epoch 3/15\n",
      "152/152 [==============================] - 9s 57ms/step - loss: 0.4833 - val_loss: 0.4753\n",
      "Epoch 4/15\n",
      "152/152 [==============================] - 9s 56ms/step - loss: 0.4782 - val_loss: 0.4670\n",
      "Epoch 5/15\n",
      "152/152 [==============================] - 9s 57ms/step - loss: 0.4730 - val_loss: 0.4622\n",
      "Epoch 6/15\n",
      "152/152 [==============================] - 9s 57ms/step - loss: 0.4726 - val_loss: 0.4683\n",
      "Epoch 7/15\n",
      "152/152 [==============================] - 8s 56ms/step - loss: 0.4681 - val_loss: 0.4823\n",
      "Epoch 8/15\n",
      "152/152 [==============================] - 8s 55ms/step - loss: 0.4638 - val_loss: 0.5175\n",
      "Epoch 9/15\n",
      "152/152 [==============================] - 8s 56ms/step - loss: 0.4577 - val_loss: 0.5350\n",
      "Epoch 10/15\n",
      "152/152 [==============================] - 9s 57ms/step - loss: 0.4588 - val_loss: 0.5101\n",
      "Epoch 11/15\n",
      "152/152 [==============================] - 9s 56ms/step - loss: 0.4548 - val_loss: 0.5052\n",
      "Epoch 12/15\n",
      "152/152 [==============================] - 9s 59ms/step - loss: 0.4513 - val_loss: 0.5166\n",
      "Epoch 13/15\n",
      "152/152 [==============================] - 9s 61ms/step - loss: 0.4500 - val_loss: 0.5282\n",
      "Epoch 14/15\n",
      "152/152 [==============================] - 9s 60ms/step - loss: 0.4448 - val_loss: 0.5149\n",
      "Epoch 15/15\n",
      "152/152 [==============================] - 9s 58ms/step - loss: 0.4425 - val_loss: 0.5037\n"
     ]
    },
    {
     "name": "stderr",
     "output_type": "stream",
     "text": [
      "WARNING:absl:Found untraced functions such as lstm_cell_16_layer_call_fn, lstm_cell_16_layer_call_and_return_conditional_losses while saving (showing 2 of 2). These functions will not be directly callable after loading.\n"
     ]
    },
    {
     "name": "stdout",
     "output_type": "stream",
     "text": [
      "INFO:tensorflow:Assets written to: Hybrid MP_fwd_wav/month1_7_step_lookahead_Hybrid\\assets\n"
     ]
    },
    {
     "name": "stderr",
     "output_type": "stream",
     "text": [
      "INFO:tensorflow:Assets written to: Hybrid MP_fwd_wav/month1_7_step_lookahead_Hybrid\\assets\n",
      "WARNING:absl:<keras.layers.recurrent.LSTMCell object at 0x000002316E331220> has the same name 'LSTMCell' as a built-in Keras object. Consider renaming <class 'keras.layers.recurrent.LSTMCell'> to avoid naming conflicts when loading with `tf.keras.models.load_model`. If renaming is not possible, pass the object in the `custom_objects` parameter of the load function.\n"
     ]
    },
    {
     "name": "stdout",
     "output_type": "stream",
     "text": [
      "152/152 [==============================] - 4s 24ms/step\n",
      "65/65 [==============================] - 1s 22ms/step\n"
     ]
    },
    {
     "name": "stderr",
     "output_type": "stream",
     "text": [
      "D:\\Anaconda\\lib\\site-packages\\pandas\\core\\frame.py:3678: SettingWithCopyWarning: \n",
      "A value is trying to be set on a copy of a slice from a DataFrame.\n",
      "Try using .loc[row_indexer,col_indexer] = value instead\n",
      "\n",
      "See the caveats in the documentation: https://pandas.pydata.org/pandas-docs/stable/user_guide/indexing.html#returning-a-view-versus-a-copy\n",
      "  self[col] = igetitem(value, i)\n"
     ]
    },
    {
     "name": "stdout",
     "output_type": "stream",
     "text": [
      "Epoch 1/15\n",
      "152/152 [==============================] - 12s 63ms/step - loss: 0.6038 - val_loss: 0.4972\n",
      "Epoch 2/15\n",
      "152/152 [==============================] - 9s 57ms/step - loss: 0.4979 - val_loss: 0.4767\n",
      "Epoch 3/15\n",
      "152/152 [==============================] - 9s 57ms/step - loss: 0.4891 - val_loss: 0.4647\n",
      "Epoch 4/15\n",
      "152/152 [==============================] - 9s 57ms/step - loss: 0.4872 - val_loss: 0.4683\n",
      "Epoch 5/15\n",
      "152/152 [==============================] - 9s 58ms/step - loss: 0.4842 - val_loss: 0.4623\n",
      "Epoch 6/15\n",
      "152/152 [==============================] - 9s 58ms/step - loss: 0.4807 - val_loss: 0.4853\n",
      "Epoch 7/15\n",
      "152/152 [==============================] - 9s 57ms/step - loss: 0.4715 - val_loss: 0.5046\n",
      "Epoch 8/15\n",
      "152/152 [==============================] - 9s 57ms/step - loss: 0.4709 - val_loss: 0.4634\n",
      "Epoch 9/15\n",
      "152/152 [==============================] - 8s 56ms/step - loss: 0.4674 - val_loss: 0.4829\n",
      "Epoch 10/15\n",
      "152/152 [==============================] - 9s 56ms/step - loss: 0.4648 - val_loss: 0.4766\n",
      "Epoch 11/15\n",
      "152/152 [==============================] - 9s 57ms/step - loss: 0.4665 - val_loss: 0.5016\n",
      "Epoch 12/15\n",
      "152/152 [==============================] - 9s 57ms/step - loss: 0.4610 - val_loss: 0.4941\n",
      "Epoch 13/15\n",
      "152/152 [==============================] - 9s 56ms/step - loss: 0.4569 - val_loss: 0.5246\n",
      "Epoch 14/15\n",
      "152/152 [==============================] - 9s 56ms/step - loss: 0.4528 - val_loss: 0.5058\n",
      "Epoch 15/15\n",
      "152/152 [==============================] - 9s 57ms/step - loss: 0.4497 - val_loss: 0.5258\n"
     ]
    },
    {
     "name": "stderr",
     "output_type": "stream",
     "text": [
      "WARNING:absl:Found untraced functions such as lstm_cell_17_layer_call_fn, lstm_cell_17_layer_call_and_return_conditional_losses while saving (showing 2 of 2). These functions will not be directly callable after loading.\n"
     ]
    },
    {
     "name": "stdout",
     "output_type": "stream",
     "text": [
      "INFO:tensorflow:Assets written to: Hybrid MP_fwd_wav/month1_8_step_lookahead_Hybrid\\assets\n"
     ]
    },
    {
     "name": "stderr",
     "output_type": "stream",
     "text": [
      "INFO:tensorflow:Assets written to: Hybrid MP_fwd_wav/month1_8_step_lookahead_Hybrid\\assets\n",
      "WARNING:absl:<keras.layers.recurrent.LSTMCell object at 0x00000231BE7F3C70> has the same name 'LSTMCell' as a built-in Keras object. Consider renaming <class 'keras.layers.recurrent.LSTMCell'> to avoid naming conflicts when loading with `tf.keras.models.load_model`. If renaming is not possible, pass the object in the `custom_objects` parameter of the load function.\n"
     ]
    },
    {
     "name": "stdout",
     "output_type": "stream",
     "text": [
      "152/152 [==============================] - 4s 23ms/step\n",
      "65/65 [==============================] - 1s 21ms/step\n"
     ]
    },
    {
     "name": "stderr",
     "output_type": "stream",
     "text": [
      "D:\\Anaconda\\lib\\site-packages\\pandas\\core\\frame.py:3678: SettingWithCopyWarning: \n",
      "A value is trying to be set on a copy of a slice from a DataFrame.\n",
      "Try using .loc[row_indexer,col_indexer] = value instead\n",
      "\n",
      "See the caveats in the documentation: https://pandas.pydata.org/pandas-docs/stable/user_guide/indexing.html#returning-a-view-versus-a-copy\n",
      "  self[col] = igetitem(value, i)\n"
     ]
    },
    {
     "name": "stdout",
     "output_type": "stream",
     "text": [
      "Epoch 1/15\n",
      "151/151 [==============================] - 11s 60ms/step - loss: 0.7356 - val_loss: 0.4950\n",
      "Epoch 2/15\n",
      "151/151 [==============================] - 8s 56ms/step - loss: 0.5000 - val_loss: 0.4777\n",
      "Epoch 3/15\n",
      "151/151 [==============================] - 8s 56ms/step - loss: 0.4920 - val_loss: 0.4662\n",
      "Epoch 4/15\n",
      "151/151 [==============================] - 9s 56ms/step - loss: 0.4899 - val_loss: 0.4627\n",
      "Epoch 5/15\n",
      "151/151 [==============================] - 8s 55ms/step - loss: 0.4881 - val_loss: 0.4747\n",
      "Epoch 6/15\n",
      "151/151 [==============================] - 8s 56ms/step - loss: 0.4871 - val_loss: 0.4647\n",
      "Epoch 7/15\n",
      "151/151 [==============================] - 8s 56ms/step - loss: 0.4825 - val_loss: 0.4538\n",
      "Epoch 8/15\n",
      "151/151 [==============================] - 9s 56ms/step - loss: 0.4801 - val_loss: 0.4554\n",
      "Epoch 9/15\n",
      "151/151 [==============================] - 8s 56ms/step - loss: 0.4789 - val_loss: 0.4667\n",
      "Epoch 10/15\n",
      "151/151 [==============================] - 8s 56ms/step - loss: 0.4701 - val_loss: 0.4558\n",
      "Epoch 11/15\n",
      "151/151 [==============================] - 8s 55ms/step - loss: 0.4715 - val_loss: 0.4608\n",
      "Epoch 12/15\n",
      "151/151 [==============================] - 8s 55ms/step - loss: 0.4655 - val_loss: 0.4865\n",
      "Epoch 13/15\n",
      "151/151 [==============================] - 8s 55ms/step - loss: 0.4675 - val_loss: 0.4689\n",
      "Epoch 14/15\n",
      "151/151 [==============================] - 8s 56ms/step - loss: 0.4611 - val_loss: 0.4833\n",
      "Epoch 15/15\n",
      "151/151 [==============================] - 9s 57ms/step - loss: 0.4610 - val_loss: 0.4973\n"
     ]
    },
    {
     "name": "stderr",
     "output_type": "stream",
     "text": [
      "WARNING:absl:Found untraced functions such as lstm_cell_18_layer_call_fn, lstm_cell_18_layer_call_and_return_conditional_losses while saving (showing 2 of 2). These functions will not be directly callable after loading.\n"
     ]
    },
    {
     "name": "stdout",
     "output_type": "stream",
     "text": [
      "INFO:tensorflow:Assets written to: Hybrid MP_fwd_wav/month1_9_step_lookahead_Hybrid\\assets\n"
     ]
    },
    {
     "name": "stderr",
     "output_type": "stream",
     "text": [
      "INFO:tensorflow:Assets written to: Hybrid MP_fwd_wav/month1_9_step_lookahead_Hybrid\\assets\n",
      "WARNING:absl:<keras.layers.recurrent.LSTMCell object at 0x000002316BA98670> has the same name 'LSTMCell' as a built-in Keras object. Consider renaming <class 'keras.layers.recurrent.LSTMCell'> to avoid naming conflicts when loading with `tf.keras.models.load_model`. If renaming is not possible, pass the object in the `custom_objects` parameter of the load function.\n"
     ]
    },
    {
     "name": "stdout",
     "output_type": "stream",
     "text": [
      "151/151 [==============================] - 4s 23ms/step\n",
      "65/65 [==============================] - 2s 21ms/step\n"
     ]
    },
    {
     "name": "stderr",
     "output_type": "stream",
     "text": [
      "D:\\Anaconda\\lib\\site-packages\\pandas\\core\\frame.py:3678: SettingWithCopyWarning: \n",
      "A value is trying to be set on a copy of a slice from a DataFrame.\n",
      "Try using .loc[row_indexer,col_indexer] = value instead\n",
      "\n",
      "See the caveats in the documentation: https://pandas.pydata.org/pandas-docs/stable/user_guide/indexing.html#returning-a-view-versus-a-copy\n",
      "  self[col] = igetitem(value, i)\n"
     ]
    },
    {
     "name": "stdout",
     "output_type": "stream",
     "text": [
      "Epoch 1/15\n",
      "151/151 [==============================] - 11s 59ms/step - loss: 0.6601 - val_loss: 0.5338\n",
      "Epoch 2/15\n",
      "151/151 [==============================] - 8s 56ms/step - loss: 0.5052 - val_loss: 0.5099\n",
      "Epoch 3/15\n",
      "151/151 [==============================] - 9s 57ms/step - loss: 0.5001 - val_loss: 0.4974\n",
      "Epoch 4/15\n",
      "151/151 [==============================] - 8s 56ms/step - loss: 0.4958 - val_loss: 0.4900\n",
      "Epoch 5/15\n",
      "151/151 [==============================] - 8s 56ms/step - loss: 0.4940 - val_loss: 0.4941\n",
      "Epoch 6/15\n",
      "151/151 [==============================] - 9s 57ms/step - loss: 0.4915 - val_loss: 0.4895\n",
      "Epoch 7/15\n",
      "151/151 [==============================] - 8s 56ms/step - loss: 0.4885 - val_loss: 0.4903\n",
      "Epoch 8/15\n",
      "151/151 [==============================] - 8s 56ms/step - loss: 0.4877 - val_loss: 0.4921\n",
      "Epoch 9/15\n",
      "151/151 [==============================] - 8s 55ms/step - loss: 0.4822 - val_loss: 0.5048\n",
      "Epoch 10/15\n",
      "151/151 [==============================] - 8s 56ms/step - loss: 0.4819 - val_loss: 0.5060\n",
      "Epoch 11/15\n",
      "151/151 [==============================] - 9s 57ms/step - loss: 0.4750 - val_loss: 0.5329\n",
      "Epoch 12/15\n",
      "151/151 [==============================] - 8s 56ms/step - loss: 0.4752 - val_loss: 0.5239\n",
      "Epoch 13/15\n",
      "151/151 [==============================] - 8s 56ms/step - loss: 0.4720 - val_loss: 0.5252\n",
      "Epoch 14/15\n",
      "151/151 [==============================] - 9s 56ms/step - loss: 0.4681 - val_loss: 0.5346\n",
      "Epoch 15/15\n",
      "151/151 [==============================] - 8s 56ms/step - loss: 0.4601 - val_loss: 0.5504\n"
     ]
    },
    {
     "name": "stderr",
     "output_type": "stream",
     "text": [
      "WARNING:absl:Found untraced functions such as lstm_cell_19_layer_call_fn, lstm_cell_19_layer_call_and_return_conditional_losses while saving (showing 2 of 2). These functions will not be directly callable after loading.\n"
     ]
    },
    {
     "name": "stdout",
     "output_type": "stream",
     "text": [
      "INFO:tensorflow:Assets written to: Hybrid MP_fwd_wav/month1_10_step_lookahead_Hybrid\\assets\n"
     ]
    },
    {
     "name": "stderr",
     "output_type": "stream",
     "text": [
      "INFO:tensorflow:Assets written to: Hybrid MP_fwd_wav/month1_10_step_lookahead_Hybrid\\assets\n",
      "WARNING:absl:<keras.layers.recurrent.LSTMCell object at 0x0000022E8B46BF70> has the same name 'LSTMCell' as a built-in Keras object. Consider renaming <class 'keras.layers.recurrent.LSTMCell'> to avoid naming conflicts when loading with `tf.keras.models.load_model`. If renaming is not possible, pass the object in the `custom_objects` parameter of the load function.\n"
     ]
    },
    {
     "name": "stdout",
     "output_type": "stream",
     "text": [
      "151/151 [==============================] - 4s 23ms/step\n",
      "65/65 [==============================] - 2s 22ms/step\n"
     ]
    },
    {
     "name": "stderr",
     "output_type": "stream",
     "text": [
      "D:\\Anaconda\\lib\\site-packages\\pandas\\core\\frame.py:3678: SettingWithCopyWarning: \n",
      "A value is trying to be set on a copy of a slice from a DataFrame.\n",
      "Try using .loc[row_indexer,col_indexer] = value instead\n",
      "\n",
      "See the caveats in the documentation: https://pandas.pydata.org/pandas-docs/stable/user_guide/indexing.html#returning-a-view-versus-a-copy\n",
      "  self[col] = igetitem(value, i)\n",
      "D:\\Anaconda\\lib\\site-packages\\pandas\\core\\frame.py:3678: SettingWithCopyWarning: \n",
      "A value is trying to be set on a copy of a slice from a DataFrame.\n",
      "Try using .loc[row_indexer,col_indexer] = value instead\n",
      "\n",
      "See the caveats in the documentation: https://pandas.pydata.org/pandas-docs/stable/user_guide/indexing.html#returning-a-view-versus-a-copy\n",
      "  self[col] = igetitem(value, i)\n"
     ]
    },
    {
     "name": "stdout",
     "output_type": "stream",
     "text": [
      "Epoch 1/15\n",
      "145/145 [==============================] - 11s 61ms/step - loss: 1.3447 - val_loss: 0.2723\n",
      "Epoch 2/15\n",
      "145/145 [==============================] - 8s 56ms/step - loss: 1.3295 - val_loss: 0.2623\n",
      "Epoch 3/15\n",
      "145/145 [==============================] - 8s 56ms/step - loss: 1.3215 - val_loss: 0.2550\n",
      "Epoch 4/15\n",
      "145/145 [==============================] - 8s 57ms/step - loss: 1.3165 - val_loss: 0.2552\n",
      "Epoch 5/15\n",
      "145/145 [==============================] - 8s 56ms/step - loss: 1.3128 - val_loss: 0.2467\n",
      "Epoch 6/15\n",
      "145/145 [==============================] - 8s 56ms/step - loss: 1.3104 - val_loss: 0.2404\n",
      "Epoch 7/15\n",
      "145/145 [==============================] - 8s 55ms/step - loss: 1.3115 - val_loss: 0.2423\n",
      "Epoch 8/15\n",
      "145/145 [==============================] - 8s 56ms/step - loss: 1.3074 - val_loss: 0.2395\n",
      "Epoch 9/15\n",
      "145/145 [==============================] - 8s 56ms/step - loss: 1.3042 - val_loss: 0.2406\n",
      "Epoch 10/15\n",
      "145/145 [==============================] - 8s 57ms/step - loss: 1.3028 - val_loss: 0.2354\n",
      "Epoch 11/15\n",
      "145/145 [==============================] - 8s 56ms/step - loss: 1.3037 - val_loss: 0.2364\n",
      "Epoch 12/15\n",
      "145/145 [==============================] - 8s 56ms/step - loss: 1.3022 - val_loss: 0.2385\n",
      "Epoch 13/15\n",
      "145/145 [==============================] - 8s 56ms/step - loss: 1.3004 - val_loss: 0.2394\n",
      "Epoch 14/15\n",
      "145/145 [==============================] - 8s 56ms/step - loss: 1.3005 - val_loss: 0.2432\n",
      "Epoch 15/15\n",
      "145/145 [==============================] - 8s 56ms/step - loss: 1.3004 - val_loss: 0.2367\n"
     ]
    },
    {
     "name": "stderr",
     "output_type": "stream",
     "text": [
      "WARNING:absl:Found untraced functions such as lstm_cell_20_layer_call_fn, lstm_cell_20_layer_call_and_return_conditional_losses while saving (showing 2 of 2). These functions will not be directly callable after loading.\n"
     ]
    },
    {
     "name": "stdout",
     "output_type": "stream",
     "text": [
      "INFO:tensorflow:Assets written to: Hybrid MP_fwd_wav/month2_1_step_lookahead_Hybrid\\assets\n"
     ]
    },
    {
     "name": "stderr",
     "output_type": "stream",
     "text": [
      "INFO:tensorflow:Assets written to: Hybrid MP_fwd_wav/month2_1_step_lookahead_Hybrid\\assets\n",
      "WARNING:absl:<keras.layers.recurrent.LSTMCell object at 0x0000022EBBC89880> has the same name 'LSTMCell' as a built-in Keras object. Consider renaming <class 'keras.layers.recurrent.LSTMCell'> to avoid naming conflicts when loading with `tf.keras.models.load_model`. If renaming is not possible, pass the object in the `custom_objects` parameter of the load function.\n"
     ]
    },
    {
     "name": "stdout",
     "output_type": "stream",
     "text": [
      "145/145 [==============================] - 4s 23ms/step\n",
      "63/63 [==============================] - 1s 21ms/step\n"
     ]
    },
    {
     "name": "stderr",
     "output_type": "stream",
     "text": [
      "D:\\Anaconda\\lib\\site-packages\\pandas\\core\\frame.py:3678: SettingWithCopyWarning: \n",
      "A value is trying to be set on a copy of a slice from a DataFrame.\n",
      "Try using .loc[row_indexer,col_indexer] = value instead\n",
      "\n",
      "See the caveats in the documentation: https://pandas.pydata.org/pandas-docs/stable/user_guide/indexing.html#returning-a-view-versus-a-copy\n",
      "  self[col] = igetitem(value, i)\n"
     ]
    },
    {
     "name": "stdout",
     "output_type": "stream",
     "text": [
      "Epoch 1/15\n",
      "145/145 [==============================] - 11s 62ms/step - loss: 1.4327 - val_loss: 0.3000\n",
      "Epoch 2/15\n",
      "145/145 [==============================] - 8s 58ms/step - loss: 1.3560 - val_loss: 0.2831\n",
      "Epoch 3/15\n",
      "145/145 [==============================] - 8s 56ms/step - loss: 1.3499 - val_loss: 0.2711\n",
      "Epoch 4/15\n",
      "145/145 [==============================] - 8s 57ms/step - loss: 1.3463 - val_loss: 0.2680\n",
      "Epoch 5/15\n",
      "145/145 [==============================] - 8s 58ms/step - loss: 1.3452 - val_loss: 0.2623\n",
      "Epoch 6/15\n",
      "145/145 [==============================] - 8s 56ms/step - loss: 1.3452 - val_loss: 0.2605\n",
      "Epoch 7/15\n",
      "145/145 [==============================] - 8s 57ms/step - loss: 1.3439 - val_loss: 0.2588\n",
      "Epoch 8/15\n",
      "145/145 [==============================] - 8s 56ms/step - loss: 1.3430 - val_loss: 0.2566\n",
      "Epoch 9/15\n",
      "145/145 [==============================] - 8s 57ms/step - loss: 1.3417 - val_loss: 0.2598\n",
      "Epoch 10/15\n",
      "145/145 [==============================] - 8s 57ms/step - loss: 1.3417 - val_loss: 0.2647\n",
      "Epoch 11/15\n",
      "145/145 [==============================] - 8s 57ms/step - loss: 1.3415 - val_loss: 0.2553\n",
      "Epoch 12/15\n",
      "145/145 [==============================] - 8s 56ms/step - loss: 1.3412 - val_loss: 0.2574\n",
      "Epoch 13/15\n",
      "145/145 [==============================] - 8s 56ms/step - loss: 1.3423 - val_loss: 0.2627\n",
      "Epoch 14/15\n",
      "145/145 [==============================] - 8s 56ms/step - loss: 1.3415 - val_loss: 0.2583\n",
      "Epoch 15/15\n",
      "145/145 [==============================] - 8s 56ms/step - loss: 1.3389 - val_loss: 0.2564\n"
     ]
    },
    {
     "name": "stderr",
     "output_type": "stream",
     "text": [
      "WARNING:absl:Found untraced functions such as lstm_cell_21_layer_call_fn, lstm_cell_21_layer_call_and_return_conditional_losses while saving (showing 2 of 2). These functions will not be directly callable after loading.\n"
     ]
    },
    {
     "name": "stdout",
     "output_type": "stream",
     "text": [
      "INFO:tensorflow:Assets written to: Hybrid MP_fwd_wav/month2_2_step_lookahead_Hybrid\\assets\n"
     ]
    },
    {
     "name": "stderr",
     "output_type": "stream",
     "text": [
      "INFO:tensorflow:Assets written to: Hybrid MP_fwd_wav/month2_2_step_lookahead_Hybrid\\assets\n",
      "WARNING:absl:<keras.layers.recurrent.LSTMCell object at 0x0000022E8A935850> has the same name 'LSTMCell' as a built-in Keras object. Consider renaming <class 'keras.layers.recurrent.LSTMCell'> to avoid naming conflicts when loading with `tf.keras.models.load_model`. If renaming is not possible, pass the object in the `custom_objects` parameter of the load function.\n"
     ]
    },
    {
     "name": "stdout",
     "output_type": "stream",
     "text": [
      "145/145 [==============================] - 4s 22ms/step\n",
      "63/63 [==============================] - 1s 21ms/step\n"
     ]
    },
    {
     "name": "stderr",
     "output_type": "stream",
     "text": [
      "D:\\Anaconda\\lib\\site-packages\\pandas\\core\\frame.py:3678: SettingWithCopyWarning: \n",
      "A value is trying to be set on a copy of a slice from a DataFrame.\n",
      "Try using .loc[row_indexer,col_indexer] = value instead\n",
      "\n",
      "See the caveats in the documentation: https://pandas.pydata.org/pandas-docs/stable/user_guide/indexing.html#returning-a-view-versus-a-copy\n",
      "  self[col] = igetitem(value, i)\n"
     ]
    },
    {
     "name": "stdout",
     "output_type": "stream",
     "text": [
      "Epoch 1/15\n",
      "145/145 [==============================] - 11s 62ms/step - loss: 1.3929 - val_loss: 0.3122\n",
      "Epoch 2/15\n",
      "145/145 [==============================] - 8s 58ms/step - loss: 1.3628 - val_loss: 0.3038\n",
      "Epoch 3/15\n",
      "145/145 [==============================] - 8s 57ms/step - loss: 1.3589 - val_loss: 0.2998\n",
      "Epoch 4/15\n",
      "145/145 [==============================] - 8s 57ms/step - loss: 1.3572 - val_loss: 0.3030\n",
      "Epoch 5/15\n",
      "145/145 [==============================] - 8s 57ms/step - loss: 1.3557 - val_loss: 0.2968\n",
      "Epoch 6/15\n",
      "145/145 [==============================] - 8s 57ms/step - loss: 1.3557 - val_loss: 0.2992\n",
      "Epoch 7/15\n",
      "145/145 [==============================] - 8s 57ms/step - loss: 1.3559 - val_loss: 0.2962\n",
      "Epoch 8/15\n",
      "145/145 [==============================] - 8s 57ms/step - loss: 1.3556 - val_loss: 0.2953\n",
      "Epoch 9/15\n",
      "145/145 [==============================] - 8s 58ms/step - loss: 1.3546 - val_loss: 0.2945\n",
      "Epoch 10/15\n",
      "145/145 [==============================] - 8s 56ms/step - loss: 1.3537 - val_loss: 0.2946\n",
      "Epoch 11/15\n",
      "145/145 [==============================] - 8s 56ms/step - loss: 1.3536 - val_loss: 0.2963\n",
      "Epoch 12/15\n",
      "145/145 [==============================] - 8s 56ms/step - loss: 1.3533 - val_loss: 0.2945\n",
      "Epoch 13/15\n",
      "145/145 [==============================] - 8s 57ms/step - loss: 1.3522 - val_loss: 0.2969\n",
      "Epoch 14/15\n",
      "145/145 [==============================] - 8s 56ms/step - loss: 1.3521 - val_loss: 0.2934\n",
      "Epoch 15/15\n",
      "145/145 [==============================] - 8s 57ms/step - loss: 1.3522 - val_loss: 0.2956\n"
     ]
    },
    {
     "name": "stderr",
     "output_type": "stream",
     "text": [
      "WARNING:absl:Found untraced functions such as lstm_cell_22_layer_call_fn, lstm_cell_22_layer_call_and_return_conditional_losses while saving (showing 2 of 2). These functions will not be directly callable after loading.\n"
     ]
    },
    {
     "name": "stdout",
     "output_type": "stream",
     "text": [
      "INFO:tensorflow:Assets written to: Hybrid MP_fwd_wav/month2_3_step_lookahead_Hybrid\\assets\n"
     ]
    },
    {
     "name": "stderr",
     "output_type": "stream",
     "text": [
      "INFO:tensorflow:Assets written to: Hybrid MP_fwd_wav/month2_3_step_lookahead_Hybrid\\assets\n",
      "WARNING:absl:<keras.layers.recurrent.LSTMCell object at 0x000002316E1CE7C0> has the same name 'LSTMCell' as a built-in Keras object. Consider renaming <class 'keras.layers.recurrent.LSTMCell'> to avoid naming conflicts when loading with `tf.keras.models.load_model`. If renaming is not possible, pass the object in the `custom_objects` parameter of the load function.\n"
     ]
    },
    {
     "name": "stdout",
     "output_type": "stream",
     "text": [
      "145/145 [==============================] - 4s 24ms/step\n",
      "63/63 [==============================] - 1s 21ms/step\n"
     ]
    },
    {
     "name": "stderr",
     "output_type": "stream",
     "text": [
      "D:\\Anaconda\\lib\\site-packages\\pandas\\core\\frame.py:3678: SettingWithCopyWarning: \n",
      "A value is trying to be set on a copy of a slice from a DataFrame.\n",
      "Try using .loc[row_indexer,col_indexer] = value instead\n",
      "\n",
      "See the caveats in the documentation: https://pandas.pydata.org/pandas-docs/stable/user_guide/indexing.html#returning-a-view-versus-a-copy\n",
      "  self[col] = igetitem(value, i)\n"
     ]
    },
    {
     "name": "stdout",
     "output_type": "stream",
     "text": [
      "Epoch 1/15\n",
      "145/145 [==============================] - 11s 61ms/step - loss: 1.4612 - val_loss: 0.3419\n",
      "Epoch 2/15\n",
      "145/145 [==============================] - 8s 57ms/step - loss: 1.3721 - val_loss: 0.3156\n",
      "Epoch 3/15\n",
      "145/145 [==============================] - 8s 57ms/step - loss: 1.3664 - val_loss: 0.3076\n",
      "Epoch 4/15\n",
      "145/145 [==============================] - 8s 56ms/step - loss: 1.3645 - val_loss: 0.3055\n",
      "Epoch 5/15\n",
      "145/145 [==============================] - 8s 57ms/step - loss: 1.3634 - val_loss: 0.3040\n",
      "Epoch 6/15\n",
      "145/145 [==============================] - 8s 56ms/step - loss: 1.3626 - val_loss: 0.3003\n",
      "Epoch 7/15\n",
      "145/145 [==============================] - 8s 56ms/step - loss: 1.3623 - val_loss: 0.3022\n",
      "Epoch 8/15\n",
      "145/145 [==============================] - 8s 56ms/step - loss: 1.3624 - val_loss: 0.3017\n",
      "Epoch 9/15\n",
      "145/145 [==============================] - 8s 56ms/step - loss: 1.3617 - val_loss: 0.2962\n",
      "Epoch 10/15\n",
      "145/145 [==============================] - 8s 57ms/step - loss: 1.3612 - val_loss: 0.3002\n",
      "Epoch 11/15\n",
      "145/145 [==============================] - 8s 56ms/step - loss: 1.3614 - val_loss: 0.2999\n",
      "Epoch 12/15\n",
      "145/145 [==============================] - 8s 57ms/step - loss: 1.3609 - val_loss: 0.2954\n",
      "Epoch 13/15\n",
      "145/145 [==============================] - 8s 58ms/step - loss: 1.3611 - val_loss: 0.2951\n",
      "Epoch 14/15\n",
      "145/145 [==============================] - 8s 57ms/step - loss: 1.3604 - val_loss: 0.2934\n",
      "Epoch 15/15\n",
      "145/145 [==============================] - 8s 57ms/step - loss: 1.3599 - val_loss: 0.2928\n"
     ]
    },
    {
     "name": "stderr",
     "output_type": "stream",
     "text": [
      "WARNING:absl:Found untraced functions such as lstm_cell_23_layer_call_fn, lstm_cell_23_layer_call_and_return_conditional_losses while saving (showing 2 of 2). These functions will not be directly callable after loading.\n"
     ]
    },
    {
     "name": "stdout",
     "output_type": "stream",
     "text": [
      "INFO:tensorflow:Assets written to: Hybrid MP_fwd_wav/month2_4_step_lookahead_Hybrid\\assets\n"
     ]
    },
    {
     "name": "stderr",
     "output_type": "stream",
     "text": [
      "INFO:tensorflow:Assets written to: Hybrid MP_fwd_wav/month2_4_step_lookahead_Hybrid\\assets\n",
      "WARNING:absl:<keras.layers.recurrent.LSTMCell object at 0x0000022E999133A0> has the same name 'LSTMCell' as a built-in Keras object. Consider renaming <class 'keras.layers.recurrent.LSTMCell'> to avoid naming conflicts when loading with `tf.keras.models.load_model`. If renaming is not possible, pass the object in the `custom_objects` parameter of the load function.\n"
     ]
    },
    {
     "name": "stdout",
     "output_type": "stream",
     "text": [
      "145/145 [==============================] - 4s 23ms/step\n",
      "63/63 [==============================] - 1s 20ms/step\n"
     ]
    },
    {
     "name": "stderr",
     "output_type": "stream",
     "text": [
      "D:\\Anaconda\\lib\\site-packages\\pandas\\core\\frame.py:3678: SettingWithCopyWarning: \n",
      "A value is trying to be set on a copy of a slice from a DataFrame.\n",
      "Try using .loc[row_indexer,col_indexer] = value instead\n",
      "\n",
      "See the caveats in the documentation: https://pandas.pydata.org/pandas-docs/stable/user_guide/indexing.html#returning-a-view-versus-a-copy\n",
      "  self[col] = igetitem(value, i)\n"
     ]
    },
    {
     "name": "stdout",
     "output_type": "stream",
     "text": [
      "Epoch 1/15\n",
      "145/145 [==============================] - 11s 60ms/step - loss: 1.4092 - val_loss: 0.3194\n",
      "Epoch 2/15\n",
      "145/145 [==============================] - 8s 57ms/step - loss: 1.3709 - val_loss: 0.3133\n",
      "Epoch 3/15\n",
      "145/145 [==============================] - 8s 56ms/step - loss: 1.3679 - val_loss: 0.3035\n",
      "Epoch 4/15\n",
      "145/145 [==============================] - 8s 57ms/step - loss: 1.3661 - val_loss: 0.3034\n",
      "Epoch 5/15\n",
      "145/145 [==============================] - 8s 58ms/step - loss: 1.3659 - val_loss: 0.3022\n",
      "Epoch 6/15\n",
      "145/145 [==============================] - 8s 57ms/step - loss: 1.3655 - val_loss: 0.3002\n",
      "Epoch 7/15\n",
      "145/145 [==============================] - 8s 57ms/step - loss: 1.3646 - val_loss: 0.2961\n",
      "Epoch 8/15\n",
      "145/145 [==============================] - 8s 57ms/step - loss: 1.3638 - val_loss: 0.2967\n",
      "Epoch 9/15\n",
      "145/145 [==============================] - 8s 58ms/step - loss: 1.3642 - val_loss: 0.2943\n",
      "Epoch 10/15\n",
      "145/145 [==============================] - 8s 57ms/step - loss: 1.3635 - val_loss: 0.2958\n",
      "Epoch 11/15\n",
      "145/145 [==============================] - 8s 57ms/step - loss: 1.3640 - val_loss: 0.2942\n",
      "Epoch 12/15\n",
      "145/145 [==============================] - 8s 56ms/step - loss: 1.3633 - val_loss: 0.2953\n",
      "Epoch 13/15\n",
      "145/145 [==============================] - 8s 57ms/step - loss: 1.3627 - val_loss: 0.2945\n",
      "Epoch 14/15\n",
      "145/145 [==============================] - 8s 56ms/step - loss: 1.3626 - val_loss: 0.2965\n",
      "Epoch 15/15\n",
      "145/145 [==============================] - 8s 56ms/step - loss: 1.3614 - val_loss: 0.2946\n"
     ]
    },
    {
     "name": "stderr",
     "output_type": "stream",
     "text": [
      "WARNING:absl:Found untraced functions such as lstm_cell_24_layer_call_fn, lstm_cell_24_layer_call_and_return_conditional_losses while saving (showing 2 of 2). These functions will not be directly callable after loading.\n"
     ]
    },
    {
     "name": "stdout",
     "output_type": "stream",
     "text": [
      "INFO:tensorflow:Assets written to: Hybrid MP_fwd_wav/month2_5_step_lookahead_Hybrid\\assets\n"
     ]
    },
    {
     "name": "stderr",
     "output_type": "stream",
     "text": [
      "INFO:tensorflow:Assets written to: Hybrid MP_fwd_wav/month2_5_step_lookahead_Hybrid\\assets\n",
      "WARNING:absl:<keras.layers.recurrent.LSTMCell object at 0x0000022E8B1CE700> has the same name 'LSTMCell' as a built-in Keras object. Consider renaming <class 'keras.layers.recurrent.LSTMCell'> to avoid naming conflicts when loading with `tf.keras.models.load_model`. If renaming is not possible, pass the object in the `custom_objects` parameter of the load function.\n"
     ]
    },
    {
     "name": "stdout",
     "output_type": "stream",
     "text": [
      "145/145 [==============================] - 4s 23ms/step\n",
      "63/63 [==============================] - 1s 21ms/step\n"
     ]
    },
    {
     "name": "stderr",
     "output_type": "stream",
     "text": [
      "D:\\Anaconda\\lib\\site-packages\\pandas\\core\\frame.py:3678: SettingWithCopyWarning: \n",
      "A value is trying to be set on a copy of a slice from a DataFrame.\n",
      "Try using .loc[row_indexer,col_indexer] = value instead\n",
      "\n",
      "See the caveats in the documentation: https://pandas.pydata.org/pandas-docs/stable/user_guide/indexing.html#returning-a-view-versus-a-copy\n",
      "  self[col] = igetitem(value, i)\n"
     ]
    },
    {
     "name": "stdout",
     "output_type": "stream",
     "text": [
      "Epoch 1/15\n",
      "145/145 [==============================] - 11s 61ms/step - loss: 1.3906 - val_loss: 0.3171\n",
      "Epoch 2/15\n",
      "145/145 [==============================] - 8s 57ms/step - loss: 1.3727 - val_loss: 0.3182\n",
      "Epoch 3/15\n",
      "145/145 [==============================] - 8s 57ms/step - loss: 1.3703 - val_loss: 0.3135\n",
      "Epoch 4/15\n",
      "145/145 [==============================] - 8s 57ms/step - loss: 1.3692 - val_loss: 0.3126\n",
      "Epoch 5/15\n",
      "145/145 [==============================] - 9s 59ms/step - loss: 1.3689 - val_loss: 0.3114\n",
      "Epoch 6/15\n",
      "145/145 [==============================] - 8s 57ms/step - loss: 1.3681 - val_loss: 0.3108\n",
      "Epoch 7/15\n",
      "145/145 [==============================] - 8s 58ms/step - loss: 1.3686 - val_loss: 0.3106\n",
      "Epoch 8/15\n",
      "145/145 [==============================] - 8s 57ms/step - loss: 1.3673 - val_loss: 0.3092\n",
      "Epoch 9/15\n",
      "145/145 [==============================] - 8s 57ms/step - loss: 1.3677 - val_loss: 0.3108\n",
      "Epoch 10/15\n",
      "145/145 [==============================] - 8s 55ms/step - loss: 1.3673 - val_loss: 0.3151\n",
      "Epoch 11/15\n",
      "145/145 [==============================] - 8s 56ms/step - loss: 1.3671 - val_loss: 0.3102\n",
      "Epoch 12/15\n",
      "145/145 [==============================] - 8s 57ms/step - loss: 1.3679 - val_loss: 0.3092\n",
      "Epoch 13/15\n",
      "145/145 [==============================] - 8s 57ms/step - loss: 1.3669 - val_loss: 0.3098\n",
      "Epoch 14/15\n",
      "145/145 [==============================] - 8s 57ms/step - loss: 1.3671 - val_loss: 0.3097\n",
      "Epoch 15/15\n",
      "145/145 [==============================] - 8s 57ms/step - loss: 1.3676 - val_loss: 0.3104\n"
     ]
    },
    {
     "name": "stderr",
     "output_type": "stream",
     "text": [
      "WARNING:absl:Found untraced functions such as lstm_cell_25_layer_call_fn, lstm_cell_25_layer_call_and_return_conditional_losses while saving (showing 2 of 2). These functions will not be directly callable after loading.\n"
     ]
    },
    {
     "name": "stdout",
     "output_type": "stream",
     "text": [
      "INFO:tensorflow:Assets written to: Hybrid MP_fwd_wav/month2_6_step_lookahead_Hybrid\\assets\n"
     ]
    },
    {
     "name": "stderr",
     "output_type": "stream",
     "text": [
      "INFO:tensorflow:Assets written to: Hybrid MP_fwd_wav/month2_6_step_lookahead_Hybrid\\assets\n",
      "WARNING:absl:<keras.layers.recurrent.LSTMCell object at 0x000002316E5F3610> has the same name 'LSTMCell' as a built-in Keras object. Consider renaming <class 'keras.layers.recurrent.LSTMCell'> to avoid naming conflicts when loading with `tf.keras.models.load_model`. If renaming is not possible, pass the object in the `custom_objects` parameter of the load function.\n"
     ]
    },
    {
     "name": "stdout",
     "output_type": "stream",
     "text": [
      "145/145 [==============================] - 4s 24ms/step\n",
      "63/63 [==============================] - 1s 21ms/step\n"
     ]
    },
    {
     "name": "stderr",
     "output_type": "stream",
     "text": [
      "D:\\Anaconda\\lib\\site-packages\\pandas\\core\\frame.py:3678: SettingWithCopyWarning: \n",
      "A value is trying to be set on a copy of a slice from a DataFrame.\n",
      "Try using .loc[row_indexer,col_indexer] = value instead\n",
      "\n",
      "See the caveats in the documentation: https://pandas.pydata.org/pandas-docs/stable/user_guide/indexing.html#returning-a-view-versus-a-copy\n",
      "  self[col] = igetitem(value, i)\n"
     ]
    },
    {
     "name": "stdout",
     "output_type": "stream",
     "text": [
      "Epoch 1/15\n",
      "145/145 [==============================] - 12s 65ms/step - loss: 1.4259 - val_loss: 0.3354\n",
      "Epoch 2/15\n",
      "145/145 [==============================] - 9s 60ms/step - loss: 1.3791 - val_loss: 0.3222\n",
      "Epoch 3/15\n",
      "145/145 [==============================] - 9s 59ms/step - loss: 1.3775 - val_loss: 0.3286\n",
      "Epoch 4/15\n",
      "145/145 [==============================] - 9s 64ms/step - loss: 1.3774 - val_loss: 0.3234\n",
      "Epoch 5/15\n",
      "145/145 [==============================] - 9s 61ms/step - loss: 1.3761 - val_loss: 0.3184\n",
      "Epoch 6/15\n",
      "145/145 [==============================] - 9s 60ms/step - loss: 1.3756 - val_loss: 0.3162\n",
      "Epoch 7/15\n",
      "145/145 [==============================] - 9s 60ms/step - loss: 1.3759 - val_loss: 0.3138\n",
      "Epoch 8/15\n",
      "145/145 [==============================] - 9s 59ms/step - loss: 1.3755 - val_loss: 0.3163\n",
      "Epoch 9/15\n",
      "145/145 [==============================] - 8s 59ms/step - loss: 1.3744 - val_loss: 0.3175\n",
      "Epoch 10/15\n",
      "145/145 [==============================] - 9s 60ms/step - loss: 1.3753 - val_loss: 0.3153\n",
      "Epoch 11/15\n",
      "145/145 [==============================] - 8s 58ms/step - loss: 1.3743 - val_loss: 0.3120\n",
      "Epoch 12/15\n",
      "145/145 [==============================] - 8s 58ms/step - loss: 1.3734 - val_loss: 0.3127\n",
      "Epoch 13/15\n",
      "145/145 [==============================] - 8s 58ms/step - loss: 1.3744 - val_loss: 0.3131\n",
      "Epoch 14/15\n",
      "145/145 [==============================] - 8s 58ms/step - loss: 1.3735 - val_loss: 0.3118\n",
      "Epoch 15/15\n",
      "145/145 [==============================] - 9s 59ms/step - loss: 1.3726 - val_loss: 0.3105\n"
     ]
    },
    {
     "name": "stderr",
     "output_type": "stream",
     "text": [
      "WARNING:absl:Found untraced functions such as lstm_cell_26_layer_call_fn, lstm_cell_26_layer_call_and_return_conditional_losses while saving (showing 2 of 2). These functions will not be directly callable after loading.\n"
     ]
    },
    {
     "name": "stdout",
     "output_type": "stream",
     "text": [
      "INFO:tensorflow:Assets written to: Hybrid MP_fwd_wav/month2_7_step_lookahead_Hybrid\\assets\n"
     ]
    },
    {
     "name": "stderr",
     "output_type": "stream",
     "text": [
      "INFO:tensorflow:Assets written to: Hybrid MP_fwd_wav/month2_7_step_lookahead_Hybrid\\assets\n",
      "WARNING:absl:<keras.layers.recurrent.LSTMCell object at 0x00000231C5C47550> has the same name 'LSTMCell' as a built-in Keras object. Consider renaming <class 'keras.layers.recurrent.LSTMCell'> to avoid naming conflicts when loading with `tf.keras.models.load_model`. If renaming is not possible, pass the object in the `custom_objects` parameter of the load function.\n"
     ]
    },
    {
     "name": "stdout",
     "output_type": "stream",
     "text": [
      "145/145 [==============================] - 4s 22ms/step\n",
      "63/63 [==============================] - 1s 21ms/step\n"
     ]
    },
    {
     "name": "stderr",
     "output_type": "stream",
     "text": [
      "D:\\Anaconda\\lib\\site-packages\\pandas\\core\\frame.py:3678: SettingWithCopyWarning: \n",
      "A value is trying to be set on a copy of a slice from a DataFrame.\n",
      "Try using .loc[row_indexer,col_indexer] = value instead\n",
      "\n",
      "See the caveats in the documentation: https://pandas.pydata.org/pandas-docs/stable/user_guide/indexing.html#returning-a-view-versus-a-copy\n",
      "  self[col] = igetitem(value, i)\n"
     ]
    },
    {
     "name": "stdout",
     "output_type": "stream",
     "text": [
      "Epoch 1/15\n",
      "145/145 [==============================] - 12s 65ms/step - loss: 1.4236 - val_loss: 0.3333\n",
      "Epoch 2/15\n",
      "145/145 [==============================] - 8s 58ms/step - loss: 1.3888 - val_loss: 0.3271\n",
      "Epoch 3/15\n",
      "145/145 [==============================] - 8s 58ms/step - loss: 1.3843 - val_loss: 0.3233\n",
      "Epoch 4/15\n",
      "145/145 [==============================] - 8s 58ms/step - loss: 1.3827 - val_loss: 0.3190\n",
      "Epoch 5/15\n",
      "145/145 [==============================] - 8s 59ms/step - loss: 1.3825 - val_loss: 0.3118\n",
      "Epoch 6/15\n",
      "145/145 [==============================] - 8s 58ms/step - loss: 1.3819 - val_loss: 0.3163\n",
      "Epoch 7/15\n",
      "145/145 [==============================] - 8s 57ms/step - loss: 1.3814 - val_loss: 0.3147\n",
      "Epoch 8/15\n",
      "145/145 [==============================] - 8s 58ms/step - loss: 1.3811 - val_loss: 0.3162\n",
      "Epoch 9/15\n",
      "145/145 [==============================] - 8s 58ms/step - loss: 1.3806 - val_loss: 0.3152\n",
      "Epoch 10/15\n",
      "145/145 [==============================] - 8s 58ms/step - loss: 1.3798 - val_loss: 0.3139\n",
      "Epoch 11/15\n",
      "145/145 [==============================] - 8s 58ms/step - loss: 1.3797 - val_loss: 0.3114\n",
      "Epoch 12/15\n",
      "145/145 [==============================] - 8s 58ms/step - loss: 1.3798 - val_loss: 0.3190\n",
      "Epoch 13/15\n",
      "145/145 [==============================] - 8s 57ms/step - loss: 1.3797 - val_loss: 0.3138\n",
      "Epoch 14/15\n",
      "145/145 [==============================] - 8s 58ms/step - loss: 1.3788 - val_loss: 0.3159\n",
      "Epoch 15/15\n",
      "145/145 [==============================] - 8s 58ms/step - loss: 1.3786 - val_loss: 0.3143\n"
     ]
    },
    {
     "name": "stderr",
     "output_type": "stream",
     "text": [
      "WARNING:absl:Found untraced functions such as lstm_cell_27_layer_call_fn, lstm_cell_27_layer_call_and_return_conditional_losses while saving (showing 2 of 2). These functions will not be directly callable after loading.\n"
     ]
    },
    {
     "name": "stdout",
     "output_type": "stream",
     "text": [
      "INFO:tensorflow:Assets written to: Hybrid MP_fwd_wav/month2_8_step_lookahead_Hybrid\\assets\n"
     ]
    },
    {
     "name": "stderr",
     "output_type": "stream",
     "text": [
      "INFO:tensorflow:Assets written to: Hybrid MP_fwd_wav/month2_8_step_lookahead_Hybrid\\assets\n",
      "WARNING:absl:<keras.layers.recurrent.LSTMCell object at 0x00000231C5CE60A0> has the same name 'LSTMCell' as a built-in Keras object. Consider renaming <class 'keras.layers.recurrent.LSTMCell'> to avoid naming conflicts when loading with `tf.keras.models.load_model`. If renaming is not possible, pass the object in the `custom_objects` parameter of the load function.\n"
     ]
    },
    {
     "name": "stdout",
     "output_type": "stream",
     "text": [
      "145/145 [==============================] - 4s 23ms/step\n",
      "63/63 [==============================] - 1s 21ms/step\n"
     ]
    },
    {
     "name": "stderr",
     "output_type": "stream",
     "text": [
      "D:\\Anaconda\\lib\\site-packages\\pandas\\core\\frame.py:3678: SettingWithCopyWarning: \n",
      "A value is trying to be set on a copy of a slice from a DataFrame.\n",
      "Try using .loc[row_indexer,col_indexer] = value instead\n",
      "\n",
      "See the caveats in the documentation: https://pandas.pydata.org/pandas-docs/stable/user_guide/indexing.html#returning-a-view-versus-a-copy\n",
      "  self[col] = igetitem(value, i)\n"
     ]
    },
    {
     "name": "stdout",
     "output_type": "stream",
     "text": [
      "Epoch 1/15\n",
      "145/145 [==============================] - 11s 62ms/step - loss: 1.3994 - val_loss: 0.3248\n",
      "Epoch 2/15\n",
      "145/145 [==============================] - 8s 58ms/step - loss: 1.3859 - val_loss: 0.3205\n",
      "Epoch 3/15\n",
      "145/145 [==============================] - 9s 59ms/step - loss: 1.3860 - val_loss: 0.3227\n",
      "Epoch 4/15\n",
      "145/145 [==============================] - 8s 59ms/step - loss: 1.3852 - val_loss: 0.3203\n",
      "Epoch 5/15\n",
      "145/145 [==============================] - 8s 58ms/step - loss: 1.3854 - val_loss: 0.3223\n",
      "Epoch 6/15\n",
      "145/145 [==============================] - 8s 58ms/step - loss: 1.3850 - val_loss: 0.3191\n",
      "Epoch 7/15\n",
      "145/145 [==============================] - 8s 58ms/step - loss: 1.3856 - val_loss: 0.3192\n",
      "Epoch 8/15\n",
      "145/145 [==============================] - 9s 59ms/step - loss: 1.3851 - val_loss: 0.3190\n",
      "Epoch 9/15\n",
      "145/145 [==============================] - 9s 59ms/step - loss: 1.3849 - val_loss: 0.3191\n",
      "Epoch 10/15\n",
      "145/145 [==============================] - 8s 58ms/step - loss: 1.3836 - val_loss: 0.3188\n",
      "Epoch 11/15\n",
      "145/145 [==============================] - 9s 59ms/step - loss: 1.3846 - val_loss: 0.3171\n",
      "Epoch 12/15\n",
      "145/145 [==============================] - 8s 59ms/step - loss: 1.3842 - val_loss: 0.3198\n",
      "Epoch 13/15\n",
      "145/145 [==============================] - 8s 58ms/step - loss: 1.3844 - val_loss: 0.3197\n",
      "Epoch 14/15\n",
      "145/145 [==============================] - 8s 59ms/step - loss: 1.3841 - val_loss: 0.3191\n",
      "Epoch 15/15\n",
      "145/145 [==============================] - 8s 58ms/step - loss: 1.3840 - val_loss: 0.3149\n"
     ]
    },
    {
     "name": "stderr",
     "output_type": "stream",
     "text": [
      "WARNING:absl:Found untraced functions such as lstm_cell_28_layer_call_fn, lstm_cell_28_layer_call_and_return_conditional_losses while saving (showing 2 of 2). These functions will not be directly callable after loading.\n"
     ]
    },
    {
     "name": "stdout",
     "output_type": "stream",
     "text": [
      "INFO:tensorflow:Assets written to: Hybrid MP_fwd_wav/month2_9_step_lookahead_Hybrid\\assets\n"
     ]
    },
    {
     "name": "stderr",
     "output_type": "stream",
     "text": [
      "INFO:tensorflow:Assets written to: Hybrid MP_fwd_wav/month2_9_step_lookahead_Hybrid\\assets\n",
      "WARNING:absl:<keras.layers.recurrent.LSTMCell object at 0x0000022E997E2940> has the same name 'LSTMCell' as a built-in Keras object. Consider renaming <class 'keras.layers.recurrent.LSTMCell'> to avoid naming conflicts when loading with `tf.keras.models.load_model`. If renaming is not possible, pass the object in the `custom_objects` parameter of the load function.\n"
     ]
    },
    {
     "name": "stdout",
     "output_type": "stream",
     "text": [
      "145/145 [==============================] - 4s 22ms/step\n",
      "63/63 [==============================] - 1s 22ms/step\n"
     ]
    },
    {
     "name": "stderr",
     "output_type": "stream",
     "text": [
      "D:\\Anaconda\\lib\\site-packages\\pandas\\core\\frame.py:3678: SettingWithCopyWarning: \n",
      "A value is trying to be set on a copy of a slice from a DataFrame.\n",
      "Try using .loc[row_indexer,col_indexer] = value instead\n",
      "\n",
      "See the caveats in the documentation: https://pandas.pydata.org/pandas-docs/stable/user_guide/indexing.html#returning-a-view-versus-a-copy\n",
      "  self[col] = igetitem(value, i)\n"
     ]
    },
    {
     "name": "stdout",
     "output_type": "stream",
     "text": [
      "Epoch 1/15\n",
      "145/145 [==============================] - 11s 62ms/step - loss: 1.4338 - val_loss: 0.3420\n",
      "Epoch 2/15\n",
      "145/145 [==============================] - 8s 58ms/step - loss: 1.3981 - val_loss: 0.3460\n",
      "Epoch 3/15\n",
      "145/145 [==============================] - 8s 58ms/step - loss: 1.3950 - val_loss: 0.3341\n",
      "Epoch 4/15\n",
      "145/145 [==============================] - 9s 59ms/step - loss: 1.3938 - val_loss: 0.3327\n",
      "Epoch 5/15\n",
      "145/145 [==============================] - 8s 58ms/step - loss: 1.3919 - val_loss: 0.3372\n",
      "Epoch 6/15\n",
      "145/145 [==============================] - 8s 58ms/step - loss: 1.3921 - val_loss: 0.3294\n",
      "Epoch 7/15\n",
      "145/145 [==============================] - 8s 58ms/step - loss: 1.3919 - val_loss: 0.3300\n",
      "Epoch 8/15\n",
      "145/145 [==============================] - 8s 58ms/step - loss: 1.3916 - val_loss: 0.3301\n",
      "Epoch 9/15\n",
      "145/145 [==============================] - 9s 59ms/step - loss: 1.3910 - val_loss: 0.3297\n",
      "Epoch 10/15\n",
      "145/145 [==============================] - 8s 58ms/step - loss: 1.3905 - val_loss: 0.3359\n",
      "Epoch 11/15\n",
      "145/145 [==============================] - 8s 58ms/step - loss: 1.3909 - val_loss: 0.3335\n",
      "Epoch 12/15\n",
      "145/145 [==============================] - 8s 58ms/step - loss: 1.3899 - val_loss: 0.3317\n",
      "Epoch 13/15\n",
      "145/145 [==============================] - 8s 57ms/step - loss: 1.3903 - val_loss: 0.3291\n",
      "Epoch 14/15\n",
      "145/145 [==============================] - 8s 58ms/step - loss: 1.3894 - val_loss: 0.3356\n",
      "Epoch 15/15\n",
      "145/145 [==============================] - 8s 57ms/step - loss: 1.3898 - val_loss: 0.3336\n"
     ]
    },
    {
     "name": "stderr",
     "output_type": "stream",
     "text": [
      "WARNING:absl:Found untraced functions such as lstm_cell_29_layer_call_fn, lstm_cell_29_layer_call_and_return_conditional_losses while saving (showing 2 of 2). These functions will not be directly callable after loading.\n"
     ]
    },
    {
     "name": "stdout",
     "output_type": "stream",
     "text": [
      "INFO:tensorflow:Assets written to: Hybrid MP_fwd_wav/month2_10_step_lookahead_Hybrid\\assets\n"
     ]
    },
    {
     "name": "stderr",
     "output_type": "stream",
     "text": [
      "INFO:tensorflow:Assets written to: Hybrid MP_fwd_wav/month2_10_step_lookahead_Hybrid\\assets\n",
      "WARNING:absl:<keras.layers.recurrent.LSTMCell object at 0x0000022E8ACDF7F0> has the same name 'LSTMCell' as a built-in Keras object. Consider renaming <class 'keras.layers.recurrent.LSTMCell'> to avoid naming conflicts when loading with `tf.keras.models.load_model`. If renaming is not possible, pass the object in the `custom_objects` parameter of the load function.\n"
     ]
    },
    {
     "name": "stdout",
     "output_type": "stream",
     "text": [
      "145/145 [==============================] - 4s 23ms/step\n",
      "63/63 [==============================] - 1s 22ms/step\n"
     ]
    },
    {
     "name": "stderr",
     "output_type": "stream",
     "text": [
      "D:\\Anaconda\\lib\\site-packages\\pandas\\core\\frame.py:3678: SettingWithCopyWarning: \n",
      "A value is trying to be set on a copy of a slice from a DataFrame.\n",
      "Try using .loc[row_indexer,col_indexer] = value instead\n",
      "\n",
      "See the caveats in the documentation: https://pandas.pydata.org/pandas-docs/stable/user_guide/indexing.html#returning-a-view-versus-a-copy\n",
      "  self[col] = igetitem(value, i)\n",
      "D:\\Anaconda\\lib\\site-packages\\pandas\\core\\frame.py:3678: SettingWithCopyWarning: \n",
      "A value is trying to be set on a copy of a slice from a DataFrame.\n",
      "Try using .loc[row_indexer,col_indexer] = value instead\n",
      "\n",
      "See the caveats in the documentation: https://pandas.pydata.org/pandas-docs/stable/user_guide/indexing.html#returning-a-view-versus-a-copy\n",
      "  self[col] = igetitem(value, i)\n"
     ]
    },
    {
     "name": "stdout",
     "output_type": "stream",
     "text": [
      "Epoch 1/15\n",
      "126/126 [==============================] - 10s 62ms/step - loss: 0.3339 - val_loss: 0.0310\n",
      "Epoch 2/15\n",
      "126/126 [==============================] - 7s 57ms/step - loss: 0.1393 - val_loss: 0.0251\n",
      "Epoch 3/15\n",
      "126/126 [==============================] - 7s 59ms/step - loss: 0.1284 - val_loss: 0.0222\n",
      "Epoch 4/15\n",
      "126/126 [==============================] - 7s 57ms/step - loss: 0.1215 - val_loss: 0.0208\n",
      "Epoch 5/15\n",
      "126/126 [==============================] - 7s 57ms/step - loss: 0.1163 - val_loss: 0.0200\n",
      "Epoch 6/15\n",
      "126/126 [==============================] - 7s 59ms/step - loss: 0.1116 - val_loss: 0.0202\n",
      "Epoch 7/15\n",
      "126/126 [==============================] - 7s 59ms/step - loss: 0.1101 - val_loss: 0.0193\n",
      "Epoch 8/15\n",
      "126/126 [==============================] - 7s 59ms/step - loss: 0.1088 - val_loss: 0.0199\n",
      "Epoch 9/15\n",
      "126/126 [==============================] - 7s 57ms/step - loss: 0.1078 - val_loss: 0.0175\n",
      "Epoch 10/15\n",
      "126/126 [==============================] - 7s 58ms/step - loss: 0.1061 - val_loss: 0.0180\n",
      "Epoch 11/15\n",
      "126/126 [==============================] - 7s 57ms/step - loss: 0.1068 - val_loss: 0.0198\n",
      "Epoch 12/15\n",
      "126/126 [==============================] - 7s 58ms/step - loss: 0.1059 - val_loss: 0.0166\n",
      "Epoch 13/15\n",
      "126/126 [==============================] - 7s 58ms/step - loss: 0.1055 - val_loss: 0.0168\n",
      "Epoch 14/15\n",
      "126/126 [==============================] - 7s 57ms/step - loss: 0.1046 - val_loss: 0.0159\n",
      "Epoch 15/15\n",
      "126/126 [==============================] - 7s 58ms/step - loss: 0.1038 - val_loss: 0.0171\n"
     ]
    },
    {
     "name": "stderr",
     "output_type": "stream",
     "text": [
      "WARNING:absl:Found untraced functions such as lstm_cell_30_layer_call_fn, lstm_cell_30_layer_call_and_return_conditional_losses while saving (showing 2 of 2). These functions will not be directly callable after loading.\n"
     ]
    },
    {
     "name": "stdout",
     "output_type": "stream",
     "text": [
      "INFO:tensorflow:Assets written to: Hybrid MP_fwd_wav/month3_1_step_lookahead_Hybrid\\assets\n"
     ]
    },
    {
     "name": "stderr",
     "output_type": "stream",
     "text": [
      "INFO:tensorflow:Assets written to: Hybrid MP_fwd_wav/month3_1_step_lookahead_Hybrid\\assets\n",
      "WARNING:absl:<keras.layers.recurrent.LSTMCell object at 0x000002316B755430> has the same name 'LSTMCell' as a built-in Keras object. Consider renaming <class 'keras.layers.recurrent.LSTMCell'> to avoid naming conflicts when loading with `tf.keras.models.load_model`. If renaming is not possible, pass the object in the `custom_objects` parameter of the load function.\n"
     ]
    },
    {
     "name": "stdout",
     "output_type": "stream",
     "text": [
      "126/126 [==============================] - 3s 23ms/step\n",
      "55/55 [==============================] - 2s 21ms/step\n"
     ]
    },
    {
     "name": "stderr",
     "output_type": "stream",
     "text": [
      "D:\\Anaconda\\lib\\site-packages\\pandas\\core\\frame.py:3678: SettingWithCopyWarning: \n",
      "A value is trying to be set on a copy of a slice from a DataFrame.\n",
      "Try using .loc[row_indexer,col_indexer] = value instead\n",
      "\n",
      "See the caveats in the documentation: https://pandas.pydata.org/pandas-docs/stable/user_guide/indexing.html#returning-a-view-versus-a-copy\n",
      "  self[col] = igetitem(value, i)\n"
     ]
    },
    {
     "name": "stdout",
     "output_type": "stream",
     "text": [
      "Epoch 1/15\n",
      "126/126 [==============================] - 10s 62ms/step - loss: 0.2811 - val_loss: 0.0383\n",
      "Epoch 2/15\n",
      "126/126 [==============================] - 7s 58ms/step - loss: 0.1379 - val_loss: 0.0276\n",
      "Epoch 3/15\n",
      "126/126 [==============================] - 7s 57ms/step - loss: 0.1290 - val_loss: 0.0245\n",
      "Epoch 4/15\n",
      "126/126 [==============================] - 7s 58ms/step - loss: 0.1241 - val_loss: 0.0259\n",
      "Epoch 5/15\n",
      "126/126 [==============================] - 7s 59ms/step - loss: 0.1222 - val_loss: 0.0225\n",
      "Epoch 6/15\n",
      "126/126 [==============================] - 7s 58ms/step - loss: 0.1204 - val_loss: 0.0220\n",
      "Epoch 7/15\n",
      "126/126 [==============================] - 7s 58ms/step - loss: 0.1189 - val_loss: 0.0221\n",
      "Epoch 8/15\n",
      "126/126 [==============================] - 7s 58ms/step - loss: 0.1187 - val_loss: 0.0210\n",
      "Epoch 9/15\n",
      "126/126 [==============================] - 7s 59ms/step - loss: 0.1177 - val_loss: 0.0206\n",
      "Epoch 10/15\n",
      "126/126 [==============================] - 7s 58ms/step - loss: 0.1169 - val_loss: 0.0205\n",
      "Epoch 11/15\n",
      "126/126 [==============================] - 7s 58ms/step - loss: 0.1162 - val_loss: 0.0212\n",
      "Epoch 12/15\n",
      "126/126 [==============================] - 7s 58ms/step - loss: 0.1157 - val_loss: 0.0203\n",
      "Epoch 13/15\n",
      "126/126 [==============================] - 7s 58ms/step - loss: 0.1154 - val_loss: 0.0199\n",
      "Epoch 14/15\n",
      "126/126 [==============================] - 7s 58ms/step - loss: 0.1145 - val_loss: 0.0206\n",
      "Epoch 15/15\n",
      "126/126 [==============================] - 7s 57ms/step - loss: 0.1140 - val_loss: 0.0199\n"
     ]
    },
    {
     "name": "stderr",
     "output_type": "stream",
     "text": [
      "WARNING:absl:Found untraced functions such as lstm_cell_31_layer_call_fn, lstm_cell_31_layer_call_and_return_conditional_losses while saving (showing 2 of 2). These functions will not be directly callable after loading.\n"
     ]
    },
    {
     "name": "stdout",
     "output_type": "stream",
     "text": [
      "INFO:tensorflow:Assets written to: Hybrid MP_fwd_wav/month3_2_step_lookahead_Hybrid\\assets\n"
     ]
    },
    {
     "name": "stderr",
     "output_type": "stream",
     "text": [
      "INFO:tensorflow:Assets written to: Hybrid MP_fwd_wav/month3_2_step_lookahead_Hybrid\\assets\n",
      "WARNING:absl:<keras.layers.recurrent.LSTMCell object at 0x0000022E8AFDB6D0> has the same name 'LSTMCell' as a built-in Keras object. Consider renaming <class 'keras.layers.recurrent.LSTMCell'> to avoid naming conflicts when loading with `tf.keras.models.load_model`. If renaming is not possible, pass the object in the `custom_objects` parameter of the load function.\n"
     ]
    },
    {
     "name": "stdout",
     "output_type": "stream",
     "text": [
      "126/126 [==============================] - 3s 23ms/step\n",
      "55/55 [==============================] - 1s 22ms/step\n"
     ]
    },
    {
     "name": "stderr",
     "output_type": "stream",
     "text": [
      "D:\\Anaconda\\lib\\site-packages\\pandas\\core\\frame.py:3678: SettingWithCopyWarning: \n",
      "A value is trying to be set on a copy of a slice from a DataFrame.\n",
      "Try using .loc[row_indexer,col_indexer] = value instead\n",
      "\n",
      "See the caveats in the documentation: https://pandas.pydata.org/pandas-docs/stable/user_guide/indexing.html#returning-a-view-versus-a-copy\n",
      "  self[col] = igetitem(value, i)\n"
     ]
    },
    {
     "name": "stdout",
     "output_type": "stream",
     "text": [
      "Epoch 1/15\n",
      "126/126 [==============================] - 10s 62ms/step - loss: 0.1561 - val_loss: 0.0283\n",
      "Epoch 2/15\n",
      "126/126 [==============================] - 7s 59ms/step - loss: 0.1249 - val_loss: 0.0259\n",
      "Epoch 3/15\n",
      "126/126 [==============================] - 7s 57ms/step - loss: 0.1231 - val_loss: 0.0264\n",
      "Epoch 4/15\n",
      "126/126 [==============================] - 7s 58ms/step - loss: 0.1217 - val_loss: 0.0255\n",
      "Epoch 5/15\n",
      "126/126 [==============================] - 7s 59ms/step - loss: 0.1222 - val_loss: 0.0261\n",
      "Epoch 6/15\n",
      "126/126 [==============================] - 7s 57ms/step - loss: 0.1212 - val_loss: 0.0265\n",
      "Epoch 7/15\n",
      "126/126 [==============================] - 7s 57ms/step - loss: 0.1213 - val_loss: 0.0253\n",
      "Epoch 8/15\n",
      "126/126 [==============================] - 7s 57ms/step - loss: 0.1203 - val_loss: 0.0263\n",
      "Epoch 9/15\n",
      "126/126 [==============================] - 7s 57ms/step - loss: 0.1203 - val_loss: 0.0251\n",
      "Epoch 10/15\n",
      "126/126 [==============================] - 7s 58ms/step - loss: 0.1202 - val_loss: 0.0258\n",
      "Epoch 11/15\n",
      "126/126 [==============================] - 7s 57ms/step - loss: 0.1199 - val_loss: 0.0249\n",
      "Epoch 12/15\n",
      "126/126 [==============================] - 7s 57ms/step - loss: 0.1198 - val_loss: 0.0255\n",
      "Epoch 13/15\n",
      "126/126 [==============================] - 7s 58ms/step - loss: 0.1193 - val_loss: 0.0246\n",
      "Epoch 14/15\n",
      "126/126 [==============================] - 7s 58ms/step - loss: 0.1192 - val_loss: 0.0245\n",
      "Epoch 15/15\n",
      "126/126 [==============================] - 7s 59ms/step - loss: 0.1198 - val_loss: 0.0246\n"
     ]
    },
    {
     "name": "stderr",
     "output_type": "stream",
     "text": [
      "WARNING:absl:Found untraced functions such as lstm_cell_32_layer_call_fn, lstm_cell_32_layer_call_and_return_conditional_losses while saving (showing 2 of 2). These functions will not be directly callable after loading.\n"
     ]
    },
    {
     "name": "stdout",
     "output_type": "stream",
     "text": [
      "INFO:tensorflow:Assets written to: Hybrid MP_fwd_wav/month3_3_step_lookahead_Hybrid\\assets\n"
     ]
    },
    {
     "name": "stderr",
     "output_type": "stream",
     "text": [
      "INFO:tensorflow:Assets written to: Hybrid MP_fwd_wav/month3_3_step_lookahead_Hybrid\\assets\n",
      "WARNING:absl:<keras.layers.recurrent.LSTMCell object at 0x000002316B71C370> has the same name 'LSTMCell' as a built-in Keras object. Consider renaming <class 'keras.layers.recurrent.LSTMCell'> to avoid naming conflicts when loading with `tf.keras.models.load_model`. If renaming is not possible, pass the object in the `custom_objects` parameter of the load function.\n"
     ]
    },
    {
     "name": "stdout",
     "output_type": "stream",
     "text": [
      "126/126 [==============================] - 3s 24ms/step\n",
      "54/54 [==============================] - 2s 21ms/step\n"
     ]
    },
    {
     "name": "stderr",
     "output_type": "stream",
     "text": [
      "D:\\Anaconda\\lib\\site-packages\\pandas\\core\\frame.py:3678: SettingWithCopyWarning: \n",
      "A value is trying to be set on a copy of a slice from a DataFrame.\n",
      "Try using .loc[row_indexer,col_indexer] = value instead\n",
      "\n",
      "See the caveats in the documentation: https://pandas.pydata.org/pandas-docs/stable/user_guide/indexing.html#returning-a-view-versus-a-copy\n",
      "  self[col] = igetitem(value, i)\n"
     ]
    },
    {
     "name": "stdout",
     "output_type": "stream",
     "text": [
      "Epoch 1/15\n",
      "126/126 [==============================] - 10s 62ms/step - loss: 0.2066 - val_loss: 0.0334\n",
      "Epoch 2/15\n",
      "126/126 [==============================] - 7s 58ms/step - loss: 0.1376 - val_loss: 0.0279\n",
      "Epoch 3/15\n",
      "126/126 [==============================] - 7s 58ms/step - loss: 0.1323 - val_loss: 0.0265\n",
      "Epoch 4/15\n",
      "126/126 [==============================] - 7s 58ms/step - loss: 0.1302 - val_loss: 0.0263\n",
      "Epoch 5/15\n",
      "126/126 [==============================] - 7s 58ms/step - loss: 0.1283 - val_loss: 0.0266\n",
      "Epoch 6/15\n",
      "126/126 [==============================] - 7s 56ms/step - loss: 0.1284 - val_loss: 0.0268\n",
      "Epoch 7/15\n",
      "126/126 [==============================] - 7s 58ms/step - loss: 0.1267 - val_loss: 0.0262\n",
      "Epoch 8/15\n",
      "126/126 [==============================] - 7s 58ms/step - loss: 0.1265 - val_loss: 0.0262\n",
      "Epoch 9/15\n",
      "126/126 [==============================] - 7s 58ms/step - loss: 0.1260 - val_loss: 0.0264\n",
      "Epoch 10/15\n",
      "126/126 [==============================] - 7s 58ms/step - loss: 0.1257 - val_loss: 0.0264\n",
      "Epoch 11/15\n",
      "126/126 [==============================] - 7s 58ms/step - loss: 0.1249 - val_loss: 0.0266\n",
      "Epoch 12/15\n",
      "126/126 [==============================] - 7s 58ms/step - loss: 0.1250 - val_loss: 0.0260\n",
      "Epoch 13/15\n",
      "126/126 [==============================] - 7s 58ms/step - loss: 0.1244 - val_loss: 0.0263\n",
      "Epoch 14/15\n",
      "126/126 [==============================] - 7s 57ms/step - loss: 0.1245 - val_loss: 0.0261\n",
      "Epoch 15/15\n",
      "126/126 [==============================] - 7s 57ms/step - loss: 0.1242 - val_loss: 0.0258\n"
     ]
    },
    {
     "name": "stderr",
     "output_type": "stream",
     "text": [
      "WARNING:absl:Found untraced functions such as lstm_cell_33_layer_call_fn, lstm_cell_33_layer_call_and_return_conditional_losses while saving (showing 2 of 2). These functions will not be directly callable after loading.\n"
     ]
    },
    {
     "name": "stdout",
     "output_type": "stream",
     "text": [
      "INFO:tensorflow:Assets written to: Hybrid MP_fwd_wav/month3_4_step_lookahead_Hybrid\\assets\n"
     ]
    },
    {
     "name": "stderr",
     "output_type": "stream",
     "text": [
      "INFO:tensorflow:Assets written to: Hybrid MP_fwd_wav/month3_4_step_lookahead_Hybrid\\assets\n",
      "WARNING:absl:<keras.layers.recurrent.LSTMCell object at 0x00000231C6DDE280> has the same name 'LSTMCell' as a built-in Keras object. Consider renaming <class 'keras.layers.recurrent.LSTMCell'> to avoid naming conflicts when loading with `tf.keras.models.load_model`. If renaming is not possible, pass the object in the `custom_objects` parameter of the load function.\n"
     ]
    },
    {
     "name": "stdout",
     "output_type": "stream",
     "text": [
      "126/126 [==============================] - 4s 25ms/step\n",
      "54/54 [==============================] - 2s 22ms/step\n"
     ]
    },
    {
     "name": "stderr",
     "output_type": "stream",
     "text": [
      "D:\\Anaconda\\lib\\site-packages\\pandas\\core\\frame.py:3678: SettingWithCopyWarning: \n",
      "A value is trying to be set on a copy of a slice from a DataFrame.\n",
      "Try using .loc[row_indexer,col_indexer] = value instead\n",
      "\n",
      "See the caveats in the documentation: https://pandas.pydata.org/pandas-docs/stable/user_guide/indexing.html#returning-a-view-versus-a-copy\n",
      "  self[col] = igetitem(value, i)\n"
     ]
    },
    {
     "name": "stdout",
     "output_type": "stream",
     "text": [
      "Epoch 1/15\n",
      "126/126 [==============================] - 10s 62ms/step - loss: 0.2897 - val_loss: 0.0406\n",
      "Epoch 2/15\n",
      "126/126 [==============================] - 7s 57ms/step - loss: 0.1469 - val_loss: 0.0313\n",
      "Epoch 3/15\n",
      "126/126 [==============================] - 7s 59ms/step - loss: 0.1391 - val_loss: 0.0285\n",
      "Epoch 4/15\n",
      "126/126 [==============================] - 7s 59ms/step - loss: 0.1360 - val_loss: 0.0261\n",
      "Epoch 5/15\n",
      "126/126 [==============================] - 7s 58ms/step - loss: 0.1344 - val_loss: 0.0262\n",
      "Epoch 6/15\n",
      "126/126 [==============================] - 7s 58ms/step - loss: 0.1330 - val_loss: 0.0254\n",
      "Epoch 7/15\n",
      "126/126 [==============================] - 7s 58ms/step - loss: 0.1315 - val_loss: 0.0254\n",
      "Epoch 8/15\n",
      "126/126 [==============================] - 7s 58ms/step - loss: 0.1307 - val_loss: 0.0252\n",
      "Epoch 9/15\n",
      "126/126 [==============================] - 7s 58ms/step - loss: 0.1306 - val_loss: 0.0255\n",
      "Epoch 10/15\n",
      "126/126 [==============================] - 7s 58ms/step - loss: 0.1298 - val_loss: 0.0256\n",
      "Epoch 11/15\n",
      "126/126 [==============================] - 7s 58ms/step - loss: 0.1295 - val_loss: 0.0278\n",
      "Epoch 12/15\n",
      "126/126 [==============================] - 7s 58ms/step - loss: 0.1289 - val_loss: 0.0256\n",
      "Epoch 13/15\n",
      "126/126 [==============================] - 7s 58ms/step - loss: 0.1284 - val_loss: 0.0272\n",
      "Epoch 14/15\n",
      "126/126 [==============================] - 7s 58ms/step - loss: 0.1284 - val_loss: 0.0257\n",
      "Epoch 15/15\n",
      "126/126 [==============================] - 7s 58ms/step - loss: 0.1281 - val_loss: 0.0264\n"
     ]
    },
    {
     "name": "stderr",
     "output_type": "stream",
     "text": [
      "WARNING:absl:Found untraced functions such as lstm_cell_34_layer_call_fn, lstm_cell_34_layer_call_and_return_conditional_losses while saving (showing 2 of 2). These functions will not be directly callable after loading.\n"
     ]
    },
    {
     "name": "stdout",
     "output_type": "stream",
     "text": [
      "INFO:tensorflow:Assets written to: Hybrid MP_fwd_wav/month3_5_step_lookahead_Hybrid\\assets\n"
     ]
    },
    {
     "name": "stderr",
     "output_type": "stream",
     "text": [
      "INFO:tensorflow:Assets written to: Hybrid MP_fwd_wav/month3_5_step_lookahead_Hybrid\\assets\n",
      "WARNING:absl:<keras.layers.recurrent.LSTMCell object at 0x0000022E8AAE81F0> has the same name 'LSTMCell' as a built-in Keras object. Consider renaming <class 'keras.layers.recurrent.LSTMCell'> to avoid naming conflicts when loading with `tf.keras.models.load_model`. If renaming is not possible, pass the object in the `custom_objects` parameter of the load function.\n"
     ]
    },
    {
     "name": "stdout",
     "output_type": "stream",
     "text": [
      "126/126 [==============================] - 3s 23ms/step\n",
      "54/54 [==============================] - 2s 21ms/step\n"
     ]
    },
    {
     "name": "stderr",
     "output_type": "stream",
     "text": [
      "D:\\Anaconda\\lib\\site-packages\\pandas\\core\\frame.py:3678: SettingWithCopyWarning: \n",
      "A value is trying to be set on a copy of a slice from a DataFrame.\n",
      "Try using .loc[row_indexer,col_indexer] = value instead\n",
      "\n",
      "See the caveats in the documentation: https://pandas.pydata.org/pandas-docs/stable/user_guide/indexing.html#returning-a-view-versus-a-copy\n",
      "  self[col] = igetitem(value, i)\n"
     ]
    },
    {
     "name": "stdout",
     "output_type": "stream",
     "text": [
      "Epoch 1/15\n",
      "126/126 [==============================] - 10s 62ms/step - loss: 0.1614 - val_loss: 0.0329\n",
      "Epoch 2/15\n",
      "126/126 [==============================] - 7s 58ms/step - loss: 0.1385 - val_loss: 0.0284\n",
      "Epoch 3/15\n",
      "126/126 [==============================] - 7s 57ms/step - loss: 0.1364 - val_loss: 0.0300\n",
      "Epoch 4/15\n",
      "126/126 [==============================] - 7s 59ms/step - loss: 0.1354 - val_loss: 0.0292\n",
      "Epoch 5/15\n",
      "126/126 [==============================] - 7s 58ms/step - loss: 0.1344 - val_loss: 0.0288\n",
      "Epoch 6/15\n",
      "126/126 [==============================] - 7s 58ms/step - loss: 0.1338 - val_loss: 0.0294\n",
      "Epoch 7/15\n",
      "126/126 [==============================] - 7s 58ms/step - loss: 0.1340 - val_loss: 0.0286\n",
      "Epoch 8/15\n",
      "126/126 [==============================] - 7s 57ms/step - loss: 0.1334 - val_loss: 0.0294\n",
      "Epoch 9/15\n",
      "126/126 [==============================] - 7s 58ms/step - loss: 0.1335 - val_loss: 0.0288\n",
      "Epoch 10/15\n",
      "126/126 [==============================] - 7s 58ms/step - loss: 0.1329 - val_loss: 0.0288\n",
      "Epoch 11/15\n",
      "126/126 [==============================] - 7s 58ms/step - loss: 0.1327 - val_loss: 0.0285\n",
      "Epoch 12/15\n",
      "126/126 [==============================] - 7s 58ms/step - loss: 0.1326 - val_loss: 0.0293\n",
      "Epoch 13/15\n",
      "126/126 [==============================] - 7s 59ms/step - loss: 0.1320 - val_loss: 0.0290\n",
      "Epoch 14/15\n",
      "126/126 [==============================] - 7s 59ms/step - loss: 0.1320 - val_loss: 0.0290\n",
      "Epoch 15/15\n",
      "126/126 [==============================] - 7s 58ms/step - loss: 0.1314 - val_loss: 0.0288\n"
     ]
    },
    {
     "name": "stderr",
     "output_type": "stream",
     "text": [
      "WARNING:absl:Found untraced functions such as lstm_cell_35_layer_call_fn, lstm_cell_35_layer_call_and_return_conditional_losses while saving (showing 2 of 2). These functions will not be directly callable after loading.\n"
     ]
    },
    {
     "name": "stdout",
     "output_type": "stream",
     "text": [
      "INFO:tensorflow:Assets written to: Hybrid MP_fwd_wav/month3_6_step_lookahead_Hybrid\\assets\n"
     ]
    },
    {
     "name": "stderr",
     "output_type": "stream",
     "text": [
      "INFO:tensorflow:Assets written to: Hybrid MP_fwd_wav/month3_6_step_lookahead_Hybrid\\assets\n",
      "WARNING:absl:<keras.layers.recurrent.LSTMCell object at 0x0000022E8B196D00> has the same name 'LSTMCell' as a built-in Keras object. Consider renaming <class 'keras.layers.recurrent.LSTMCell'> to avoid naming conflicts when loading with `tf.keras.models.load_model`. If renaming is not possible, pass the object in the `custom_objects` parameter of the load function.\n"
     ]
    },
    {
     "name": "stdout",
     "output_type": "stream",
     "text": [
      "126/126 [==============================] - 3s 24ms/step\n",
      "54/54 [==============================] - 1s 21ms/step\n"
     ]
    },
    {
     "name": "stderr",
     "output_type": "stream",
     "text": [
      "D:\\Anaconda\\lib\\site-packages\\pandas\\core\\frame.py:3678: SettingWithCopyWarning: \n",
      "A value is trying to be set on a copy of a slice from a DataFrame.\n",
      "Try using .loc[row_indexer,col_indexer] = value instead\n",
      "\n",
      "See the caveats in the documentation: https://pandas.pydata.org/pandas-docs/stable/user_guide/indexing.html#returning-a-view-versus-a-copy\n",
      "  self[col] = igetitem(value, i)\n"
     ]
    },
    {
     "name": "stdout",
     "output_type": "stream",
     "text": [
      "Epoch 1/15\n",
      "126/126 [==============================] - 10s 62ms/step - loss: 0.2422 - val_loss: 0.0424\n",
      "Epoch 2/15\n",
      "126/126 [==============================] - 7s 58ms/step - loss: 0.1446 - val_loss: 0.0397\n",
      "Epoch 3/15\n",
      "126/126 [==============================] - 7s 59ms/step - loss: 0.1418 - val_loss: 0.0337\n",
      "Epoch 4/15\n",
      "126/126 [==============================] - 7s 58ms/step - loss: 0.1409 - val_loss: 0.0340\n",
      "Epoch 5/15\n",
      "126/126 [==============================] - 7s 58ms/step - loss: 0.1404 - val_loss: 0.0332\n",
      "Epoch 6/15\n",
      "126/126 [==============================] - 7s 59ms/step - loss: 0.1399 - val_loss: 0.0327\n",
      "Epoch 7/15\n",
      "126/126 [==============================] - 7s 59ms/step - loss: 0.1395 - val_loss: 0.0317\n",
      "Epoch 8/15\n",
      "126/126 [==============================] - 7s 58ms/step - loss: 0.1388 - val_loss: 0.0322\n",
      "Epoch 9/15\n",
      "126/126 [==============================] - 7s 59ms/step - loss: 0.1391 - val_loss: 0.0309\n",
      "Epoch 10/15\n",
      "126/126 [==============================] - 7s 58ms/step - loss: 0.1382 - val_loss: 0.0351\n",
      "Epoch 11/15\n",
      "126/126 [==============================] - 7s 58ms/step - loss: 0.1389 - val_loss: 0.0307\n",
      "Epoch 12/15\n",
      "126/126 [==============================] - 7s 59ms/step - loss: 0.1383 - val_loss: 0.0307\n",
      "Epoch 13/15\n",
      "126/126 [==============================] - 7s 57ms/step - loss: 0.1376 - val_loss: 0.0319\n",
      "Epoch 14/15\n",
      "126/126 [==============================] - 7s 58ms/step - loss: 0.1374 - val_loss: 0.0301\n",
      "Epoch 15/15\n",
      "126/126 [==============================] - 7s 58ms/step - loss: 0.1371 - val_loss: 0.0309\n"
     ]
    },
    {
     "name": "stderr",
     "output_type": "stream",
     "text": [
      "WARNING:absl:Found untraced functions such as lstm_cell_36_layer_call_fn, lstm_cell_36_layer_call_and_return_conditional_losses while saving (showing 2 of 2). These functions will not be directly callable after loading.\n"
     ]
    },
    {
     "name": "stdout",
     "output_type": "stream",
     "text": [
      "INFO:tensorflow:Assets written to: Hybrid MP_fwd_wav/month3_7_step_lookahead_Hybrid\\assets\n"
     ]
    },
    {
     "name": "stderr",
     "output_type": "stream",
     "text": [
      "INFO:tensorflow:Assets written to: Hybrid MP_fwd_wav/month3_7_step_lookahead_Hybrid\\assets\n",
      "WARNING:absl:<keras.layers.recurrent.LSTMCell object at 0x0000022EBB545370> has the same name 'LSTMCell' as a built-in Keras object. Consider renaming <class 'keras.layers.recurrent.LSTMCell'> to avoid naming conflicts when loading with `tf.keras.models.load_model`. If renaming is not possible, pass the object in the `custom_objects` parameter of the load function.\n"
     ]
    },
    {
     "name": "stdout",
     "output_type": "stream",
     "text": [
      "126/126 [==============================] - 3s 23ms/step\n",
      "54/54 [==============================] - 1s 21ms/step\n"
     ]
    },
    {
     "name": "stderr",
     "output_type": "stream",
     "text": [
      "D:\\Anaconda\\lib\\site-packages\\pandas\\core\\frame.py:3678: SettingWithCopyWarning: \n",
      "A value is trying to be set on a copy of a slice from a DataFrame.\n",
      "Try using .loc[row_indexer,col_indexer] = value instead\n",
      "\n",
      "See the caveats in the documentation: https://pandas.pydata.org/pandas-docs/stable/user_guide/indexing.html#returning-a-view-versus-a-copy\n",
      "  self[col] = igetitem(value, i)\n"
     ]
    },
    {
     "name": "stdout",
     "output_type": "stream",
     "text": [
      "Epoch 1/15\n",
      "126/126 [==============================] - 10s 62ms/step - loss: 0.2161 - val_loss: 0.0366\n",
      "Epoch 2/15\n",
      "126/126 [==============================] - 7s 58ms/step - loss: 0.1483 - val_loss: 0.0371\n",
      "Epoch 3/15\n",
      "126/126 [==============================] - 7s 57ms/step - loss: 0.1462 - val_loss: 0.0348\n",
      "Epoch 4/15\n",
      "126/126 [==============================] - 7s 58ms/step - loss: 0.1446 - val_loss: 0.0324\n",
      "Epoch 5/15\n",
      "126/126 [==============================] - 7s 58ms/step - loss: 0.1435 - val_loss: 0.0298\n",
      "Epoch 6/15\n",
      "126/126 [==============================] - 7s 58ms/step - loss: 0.1429 - val_loss: 0.0301\n",
      "Epoch 7/15\n",
      "126/126 [==============================] - 7s 58ms/step - loss: 0.1422 - val_loss: 0.0298\n",
      "Epoch 8/15\n",
      "126/126 [==============================] - 7s 57ms/step - loss: 0.1422 - val_loss: 0.0288\n",
      "Epoch 9/15\n",
      "126/126 [==============================] - 7s 59ms/step - loss: 0.1415 - val_loss: 0.0295\n",
      "Epoch 10/15\n",
      "126/126 [==============================] - 7s 57ms/step - loss: 0.1414 - val_loss: 0.0296\n",
      "Epoch 11/15\n",
      "126/126 [==============================] - 7s 58ms/step - loss: 0.1409 - val_loss: 0.0296\n",
      "Epoch 12/15\n",
      "126/126 [==============================] - 7s 57ms/step - loss: 0.1410 - val_loss: 0.0299\n",
      "Epoch 13/15\n",
      "126/126 [==============================] - 7s 58ms/step - loss: 0.1410 - val_loss: 0.0290\n",
      "Epoch 14/15\n",
      "126/126 [==============================] - 7s 58ms/step - loss: 0.1400 - val_loss: 0.0285\n",
      "Epoch 15/15\n",
      "126/126 [==============================] - 7s 58ms/step - loss: 0.1401 - val_loss: 0.0293\n"
     ]
    },
    {
     "name": "stderr",
     "output_type": "stream",
     "text": [
      "WARNING:absl:Found untraced functions such as lstm_cell_37_layer_call_fn, lstm_cell_37_layer_call_and_return_conditional_losses while saving (showing 2 of 2). These functions will not be directly callable after loading.\n"
     ]
    },
    {
     "name": "stdout",
     "output_type": "stream",
     "text": [
      "INFO:tensorflow:Assets written to: Hybrid MP_fwd_wav/month3_8_step_lookahead_Hybrid\\assets\n"
     ]
    },
    {
     "name": "stderr",
     "output_type": "stream",
     "text": [
      "INFO:tensorflow:Assets written to: Hybrid MP_fwd_wav/month3_8_step_lookahead_Hybrid\\assets\n",
      "WARNING:absl:<keras.layers.recurrent.LSTMCell object at 0x00000231D6A43490> has the same name 'LSTMCell' as a built-in Keras object. Consider renaming <class 'keras.layers.recurrent.LSTMCell'> to avoid naming conflicts when loading with `tf.keras.models.load_model`. If renaming is not possible, pass the object in the `custom_objects` parameter of the load function.\n"
     ]
    },
    {
     "name": "stdout",
     "output_type": "stream",
     "text": [
      "126/126 [==============================] - 3s 22ms/step\n",
      "54/54 [==============================] - 1s 21ms/step\n"
     ]
    },
    {
     "name": "stderr",
     "output_type": "stream",
     "text": [
      "D:\\Anaconda\\lib\\site-packages\\pandas\\core\\frame.py:3678: SettingWithCopyWarning: \n",
      "A value is trying to be set on a copy of a slice from a DataFrame.\n",
      "Try using .loc[row_indexer,col_indexer] = value instead\n",
      "\n",
      "See the caveats in the documentation: https://pandas.pydata.org/pandas-docs/stable/user_guide/indexing.html#returning-a-view-versus-a-copy\n",
      "  self[col] = igetitem(value, i)\n"
     ]
    },
    {
     "name": "stdout",
     "output_type": "stream",
     "text": [
      "Epoch 1/15\n",
      "126/126 [==============================] - 10s 62ms/step - loss: 0.1825 - val_loss: 0.0362\n",
      "Epoch 2/15\n",
      "126/126 [==============================] - 7s 58ms/step - loss: 0.1467 - val_loss: 0.0339\n",
      "Epoch 3/15\n",
      "126/126 [==============================] - 7s 59ms/step - loss: 0.1455 - val_loss: 0.0354\n",
      "Epoch 4/15\n",
      "126/126 [==============================] - 7s 58ms/step - loss: 0.1454 - val_loss: 0.0319\n",
      "Epoch 5/15\n",
      "126/126 [==============================] - 7s 57ms/step - loss: 0.1445 - val_loss: 0.0341\n",
      "Epoch 6/15\n",
      "126/126 [==============================] - 7s 59ms/step - loss: 0.1448 - val_loss: 0.0329\n",
      "Epoch 7/15\n",
      "126/126 [==============================] - 7s 57ms/step - loss: 0.1441 - val_loss: 0.0317\n",
      "Epoch 8/15\n",
      "126/126 [==============================] - 7s 58ms/step - loss: 0.1437 - val_loss: 0.0315\n",
      "Epoch 9/15\n",
      "126/126 [==============================] - 7s 59ms/step - loss: 0.1433 - val_loss: 0.0312\n",
      "Epoch 10/15\n",
      "126/126 [==============================] - 7s 58ms/step - loss: 0.1436 - val_loss: 0.0311\n",
      "Epoch 11/15\n",
      "126/126 [==============================] - 7s 59ms/step - loss: 0.1435 - val_loss: 0.0333\n",
      "Epoch 12/15\n",
      "126/126 [==============================] - 7s 58ms/step - loss: 0.1429 - val_loss: 0.0326\n",
      "Epoch 13/15\n",
      "126/126 [==============================] - 7s 58ms/step - loss: 0.1429 - val_loss: 0.0318\n",
      "Epoch 14/15\n",
      "126/126 [==============================] - 7s 58ms/step - loss: 0.1428 - val_loss: 0.0312\n",
      "Epoch 15/15\n",
      "126/126 [==============================] - 7s 59ms/step - loss: 0.1422 - val_loss: 0.0320\n"
     ]
    },
    {
     "name": "stderr",
     "output_type": "stream",
     "text": [
      "WARNING:absl:Found untraced functions such as lstm_cell_38_layer_call_fn, lstm_cell_38_layer_call_and_return_conditional_losses while saving (showing 2 of 2). These functions will not be directly callable after loading.\n"
     ]
    },
    {
     "name": "stdout",
     "output_type": "stream",
     "text": [
      "INFO:tensorflow:Assets written to: Hybrid MP_fwd_wav/month3_9_step_lookahead_Hybrid\\assets\n"
     ]
    },
    {
     "name": "stderr",
     "output_type": "stream",
     "text": [
      "INFO:tensorflow:Assets written to: Hybrid MP_fwd_wav/month3_9_step_lookahead_Hybrid\\assets\n",
      "WARNING:absl:<keras.layers.recurrent.LSTMCell object at 0x0000022E8B497D00> has the same name 'LSTMCell' as a built-in Keras object. Consider renaming <class 'keras.layers.recurrent.LSTMCell'> to avoid naming conflicts when loading with `tf.keras.models.load_model`. If renaming is not possible, pass the object in the `custom_objects` parameter of the load function.\n"
     ]
    },
    {
     "name": "stdout",
     "output_type": "stream",
     "text": [
      "126/126 [==============================] - 3s 23ms/step\n",
      "54/54 [==============================] - 1s 22ms/step\n"
     ]
    },
    {
     "name": "stderr",
     "output_type": "stream",
     "text": [
      "D:\\Anaconda\\lib\\site-packages\\pandas\\core\\frame.py:3678: SettingWithCopyWarning: \n",
      "A value is trying to be set on a copy of a slice from a DataFrame.\n",
      "Try using .loc[row_indexer,col_indexer] = value instead\n",
      "\n",
      "See the caveats in the documentation: https://pandas.pydata.org/pandas-docs/stable/user_guide/indexing.html#returning-a-view-versus-a-copy\n",
      "  self[col] = igetitem(value, i)\n"
     ]
    },
    {
     "name": "stdout",
     "output_type": "stream",
     "text": [
      "Epoch 1/15\n",
      "126/126 [==============================] - 10s 62ms/step - loss: 0.1873 - val_loss: 0.0391\n",
      "Epoch 2/15\n",
      "126/126 [==============================] - 7s 57ms/step - loss: 0.1483 - val_loss: 0.0366\n",
      "Epoch 3/15\n",
      "126/126 [==============================] - 7s 57ms/step - loss: 0.1471 - val_loss: 0.0343\n",
      "Epoch 4/15\n",
      "126/126 [==============================] - 7s 57ms/step - loss: 0.1469 - val_loss: 0.0333\n",
      "Epoch 5/15\n",
      "126/126 [==============================] - 7s 57ms/step - loss: 0.1462 - val_loss: 0.0341\n",
      "Epoch 6/15\n",
      "126/126 [==============================] - 7s 57ms/step - loss: 0.1467 - val_loss: 0.0333\n",
      "Epoch 7/15\n",
      "126/126 [==============================] - 7s 56ms/step - loss: 0.1466 - val_loss: 0.0322\n",
      "Epoch 8/15\n",
      "126/126 [==============================] - 7s 56ms/step - loss: 0.1459 - val_loss: 0.0323\n",
      "Epoch 9/15\n",
      "126/126 [==============================] - 7s 55ms/step - loss: 0.1456 - val_loss: 0.0313\n",
      "Epoch 10/15\n",
      "126/126 [==============================] - 7s 56ms/step - loss: 0.1453 - val_loss: 0.0334\n",
      "Epoch 11/15\n",
      "126/126 [==============================] - 7s 56ms/step - loss: 0.1453 - val_loss: 0.0320\n",
      "Epoch 12/15\n",
      "126/126 [==============================] - 7s 56ms/step - loss: 0.1449 - val_loss: 0.0310\n",
      "Epoch 13/15\n",
      "126/126 [==============================] - 7s 55ms/step - loss: 0.1452 - val_loss: 0.0311\n",
      "Epoch 14/15\n",
      "126/126 [==============================] - 7s 55ms/step - loss: 0.1448 - val_loss: 0.0310\n",
      "Epoch 15/15\n",
      "126/126 [==============================] - 7s 55ms/step - loss: 0.1448 - val_loss: 0.0314\n"
     ]
    },
    {
     "name": "stderr",
     "output_type": "stream",
     "text": [
      "WARNING:absl:Found untraced functions such as lstm_cell_39_layer_call_fn, lstm_cell_39_layer_call_and_return_conditional_losses while saving (showing 2 of 2). These functions will not be directly callable after loading.\n"
     ]
    },
    {
     "name": "stdout",
     "output_type": "stream",
     "text": [
      "INFO:tensorflow:Assets written to: Hybrid MP_fwd_wav/month3_10_step_lookahead_Hybrid\\assets\n"
     ]
    },
    {
     "name": "stderr",
     "output_type": "stream",
     "text": [
      "INFO:tensorflow:Assets written to: Hybrid MP_fwd_wav/month3_10_step_lookahead_Hybrid\\assets\n",
      "WARNING:absl:<keras.layers.recurrent.LSTMCell object at 0x00000231C92B7E80> has the same name 'LSTMCell' as a built-in Keras object. Consider renaming <class 'keras.layers.recurrent.LSTMCell'> to avoid naming conflicts when loading with `tf.keras.models.load_model`. If renaming is not possible, pass the object in the `custom_objects` parameter of the load function.\n"
     ]
    },
    {
     "name": "stdout",
     "output_type": "stream",
     "text": [
      "126/126 [==============================] - 3s 23ms/step\n",
      "54/54 [==============================] - 1s 20ms/step\n"
     ]
    },
    {
     "name": "stderr",
     "output_type": "stream",
     "text": [
      "D:\\Anaconda\\lib\\site-packages\\pandas\\core\\frame.py:3678: SettingWithCopyWarning: \n",
      "A value is trying to be set on a copy of a slice from a DataFrame.\n",
      "Try using .loc[row_indexer,col_indexer] = value instead\n",
      "\n",
      "See the caveats in the documentation: https://pandas.pydata.org/pandas-docs/stable/user_guide/indexing.html#returning-a-view-versus-a-copy\n",
      "  self[col] = igetitem(value, i)\n",
      "D:\\Anaconda\\lib\\site-packages\\pandas\\core\\frame.py:3678: SettingWithCopyWarning: \n",
      "A value is trying to be set on a copy of a slice from a DataFrame.\n",
      "Try using .loc[row_indexer,col_indexer] = value instead\n",
      "\n",
      "See the caveats in the documentation: https://pandas.pydata.org/pandas-docs/stable/user_guide/indexing.html#returning-a-view-versus-a-copy\n",
      "  self[col] = igetitem(value, i)\n"
     ]
    },
    {
     "name": "stdout",
     "output_type": "stream",
     "text": [
      "Epoch 1/15\n",
      "145/145 [==============================] - 11s 61ms/step - loss: 1.5911 - val_loss: 0.0889\n",
      "Epoch 2/15\n",
      "145/145 [==============================] - 8s 57ms/step - loss: 1.5175 - val_loss: 0.0793\n",
      "Epoch 3/15\n",
      "145/145 [==============================] - 8s 56ms/step - loss: 1.4624 - val_loss: 0.0721\n",
      "Epoch 4/15\n",
      "145/145 [==============================] - 8s 58ms/step - loss: 1.4197 - val_loss: 0.0616\n",
      "Epoch 5/15\n",
      "145/145 [==============================] - 8s 56ms/step - loss: 1.3858 - val_loss: 0.0576\n",
      "Epoch 6/15\n",
      "145/145 [==============================] - 8s 56ms/step - loss: 1.3580 - val_loss: 0.0550\n",
      "Epoch 7/15\n",
      "145/145 [==============================] - 8s 57ms/step - loss: 1.3328 - val_loss: 0.0523\n",
      "Epoch 8/15\n",
      "145/145 [==============================] - 8s 57ms/step - loss: 1.3127 - val_loss: 0.0488\n",
      "Epoch 9/15\n",
      "145/145 [==============================] - 8s 56ms/step - loss: 1.2989 - val_loss: 0.0487\n",
      "Epoch 10/15\n",
      "145/145 [==============================] - 8s 56ms/step - loss: 1.2812 - val_loss: 0.0472\n",
      "Epoch 11/15\n",
      "145/145 [==============================] - 8s 58ms/step - loss: 1.2650 - val_loss: 0.0460\n",
      "Epoch 12/15\n",
      "145/145 [==============================] - 8s 57ms/step - loss: 1.2511 - val_loss: 0.0457\n",
      "Epoch 13/15\n",
      "145/145 [==============================] - 8s 56ms/step - loss: 1.2345 - val_loss: 0.0455\n",
      "Epoch 14/15\n",
      "145/145 [==============================] - 8s 57ms/step - loss: 1.2209 - val_loss: 0.0475\n",
      "Epoch 15/15\n",
      "145/145 [==============================] - 8s 56ms/step - loss: 1.2073 - val_loss: 0.0447\n"
     ]
    },
    {
     "name": "stderr",
     "output_type": "stream",
     "text": [
      "WARNING:absl:Found untraced functions such as lstm_cell_40_layer_call_fn, lstm_cell_40_layer_call_and_return_conditional_losses while saving (showing 2 of 2). These functions will not be directly callable after loading.\n"
     ]
    },
    {
     "name": "stdout",
     "output_type": "stream",
     "text": [
      "INFO:tensorflow:Assets written to: Hybrid MP_fwd_wav/month4_1_step_lookahead_Hybrid\\assets\n"
     ]
    },
    {
     "name": "stderr",
     "output_type": "stream",
     "text": [
      "INFO:tensorflow:Assets written to: Hybrid MP_fwd_wav/month4_1_step_lookahead_Hybrid\\assets\n",
      "WARNING:absl:<keras.layers.recurrent.LSTMCell object at 0x0000022EBBEE91C0> has the same name 'LSTMCell' as a built-in Keras object. Consider renaming <class 'keras.layers.recurrent.LSTMCell'> to avoid naming conflicts when loading with `tf.keras.models.load_model`. If renaming is not possible, pass the object in the `custom_objects` parameter of the load function.\n"
     ]
    },
    {
     "name": "stdout",
     "output_type": "stream",
     "text": [
      "145/145 [==============================] - 4s 22ms/step\n",
      "63/63 [==============================] - 1s 22ms/step\n"
     ]
    },
    {
     "name": "stderr",
     "output_type": "stream",
     "text": [
      "D:\\Anaconda\\lib\\site-packages\\pandas\\core\\frame.py:3678: SettingWithCopyWarning: \n",
      "A value is trying to be set on a copy of a slice from a DataFrame.\n",
      "Try using .loc[row_indexer,col_indexer] = value instead\n",
      "\n",
      "See the caveats in the documentation: https://pandas.pydata.org/pandas-docs/stable/user_guide/indexing.html#returning-a-view-versus-a-copy\n",
      "  self[col] = igetitem(value, i)\n"
     ]
    },
    {
     "name": "stdout",
     "output_type": "stream",
     "text": [
      "Epoch 1/15\n",
      "145/145 [==============================] - 11s 60ms/step - loss: 1.6003 - val_loss: 0.0955\n",
      "Epoch 2/15\n",
      "145/145 [==============================] - 8s 56ms/step - loss: 1.5547 - val_loss: 0.0824\n",
      "Epoch 3/15\n",
      "145/145 [==============================] - 8s 57ms/step - loss: 1.5274 - val_loss: 0.0739\n",
      "Epoch 4/15\n",
      "145/145 [==============================] - 8s 56ms/step - loss: 1.4961 - val_loss: 0.0654\n",
      "Epoch 5/15\n",
      "145/145 [==============================] - 8s 56ms/step - loss: 1.4662 - val_loss: 0.0660\n",
      "Epoch 6/15\n",
      "145/145 [==============================] - 8s 56ms/step - loss: 1.4602 - val_loss: 0.0627\n",
      "Epoch 7/15\n",
      "145/145 [==============================] - 8s 58ms/step - loss: 1.4200 - val_loss: 0.0674\n",
      "Epoch 8/15\n",
      "145/145 [==============================] - 8s 57ms/step - loss: 1.3809 - val_loss: 0.0608\n",
      "Epoch 9/15\n",
      "145/145 [==============================] - 8s 57ms/step - loss: 1.3564 - val_loss: 0.0586\n",
      "Epoch 10/15\n",
      "145/145 [==============================] - 8s 57ms/step - loss: 1.3312 - val_loss: 0.0597\n",
      "Epoch 11/15\n",
      "145/145 [==============================] - 8s 57ms/step - loss: 1.3192 - val_loss: 0.0692\n",
      "Epoch 12/15\n",
      "145/145 [==============================] - 8s 57ms/step - loss: 1.2933 - val_loss: 0.2266\n",
      "Epoch 13/15\n",
      "145/145 [==============================] - 8s 57ms/step - loss: 1.2591 - val_loss: 0.7344\n",
      "Epoch 14/15\n",
      "145/145 [==============================] - 8s 57ms/step - loss: 1.2447 - val_loss: 0.0799\n",
      "Epoch 15/15\n",
      "145/145 [==============================] - 8s 56ms/step - loss: 1.3557 - val_loss: 0.0770\n"
     ]
    },
    {
     "name": "stderr",
     "output_type": "stream",
     "text": [
      "WARNING:absl:Found untraced functions such as lstm_cell_41_layer_call_fn, lstm_cell_41_layer_call_and_return_conditional_losses while saving (showing 2 of 2). These functions will not be directly callable after loading.\n"
     ]
    },
    {
     "name": "stdout",
     "output_type": "stream",
     "text": [
      "INFO:tensorflow:Assets written to: Hybrid MP_fwd_wav/month4_2_step_lookahead_Hybrid\\assets\n"
     ]
    },
    {
     "name": "stderr",
     "output_type": "stream",
     "text": [
      "INFO:tensorflow:Assets written to: Hybrid MP_fwd_wav/month4_2_step_lookahead_Hybrid\\assets\n",
      "WARNING:absl:<keras.layers.recurrent.LSTMCell object at 0x0000022E91E60250> has the same name 'LSTMCell' as a built-in Keras object. Consider renaming <class 'keras.layers.recurrent.LSTMCell'> to avoid naming conflicts when loading with `tf.keras.models.load_model`. If renaming is not possible, pass the object in the `custom_objects` parameter of the load function.\n"
     ]
    },
    {
     "name": "stdout",
     "output_type": "stream",
     "text": [
      "145/145 [==============================] - 4s 23ms/step\n",
      "63/63 [==============================] - 1s 21ms/step\n"
     ]
    },
    {
     "name": "stderr",
     "output_type": "stream",
     "text": [
      "D:\\Anaconda\\lib\\site-packages\\pandas\\core\\frame.py:3678: SettingWithCopyWarning: \n",
      "A value is trying to be set on a copy of a slice from a DataFrame.\n",
      "Try using .loc[row_indexer,col_indexer] = value instead\n",
      "\n",
      "See the caveats in the documentation: https://pandas.pydata.org/pandas-docs/stable/user_guide/indexing.html#returning-a-view-versus-a-copy\n",
      "  self[col] = igetitem(value, i)\n"
     ]
    },
    {
     "name": "stdout",
     "output_type": "stream",
     "text": [
      "Epoch 1/15\n",
      "145/145 [==============================] - 11s 60ms/step - loss: 1.6384 - val_loss: 0.0975\n",
      "Epoch 2/15\n",
      "145/145 [==============================] - 8s 56ms/step - loss: 1.5753 - val_loss: 0.0848\n",
      "Epoch 3/15\n",
      "145/145 [==============================] - 8s 56ms/step - loss: 1.5518 - val_loss: 0.0804\n",
      "Epoch 4/15\n",
      "145/145 [==============================] - 8s 56ms/step - loss: 1.5342 - val_loss: 0.0762\n",
      "Epoch 5/15\n",
      "145/145 [==============================] - 8s 56ms/step - loss: 1.5209 - val_loss: 0.0745\n",
      "Epoch 6/15\n",
      "145/145 [==============================] - 8s 56ms/step - loss: 1.5037 - val_loss: 0.0730\n",
      "Epoch 7/15\n",
      "145/145 [==============================] - 8s 56ms/step - loss: 1.4879 - val_loss: 0.0805\n",
      "Epoch 8/15\n",
      "145/145 [==============================] - 8s 56ms/step - loss: 1.4618 - val_loss: 0.0979\n",
      "Epoch 9/15\n",
      "145/145 [==============================] - 8s 56ms/step - loss: 1.4300 - val_loss: 0.1428\n",
      "Epoch 10/15\n",
      "145/145 [==============================] - 8s 56ms/step - loss: 1.3910 - val_loss: 0.1464\n",
      "Epoch 11/15\n",
      "145/145 [==============================] - 8s 56ms/step - loss: 1.3504 - val_loss: 0.5931\n",
      "Epoch 12/15\n",
      "145/145 [==============================] - 8s 56ms/step - loss: 1.3171 - val_loss: 0.1256\n",
      "Epoch 13/15\n",
      "145/145 [==============================] - 8s 56ms/step - loss: 1.2834 - val_loss: 0.1702\n",
      "Epoch 14/15\n",
      "145/145 [==============================] - 8s 56ms/step - loss: 1.2414 - val_loss: 0.1196\n",
      "Epoch 15/15\n",
      "145/145 [==============================] - 8s 57ms/step - loss: 1.2303 - val_loss: 0.1123\n"
     ]
    },
    {
     "name": "stderr",
     "output_type": "stream",
     "text": [
      "WARNING:absl:Found untraced functions such as lstm_cell_42_layer_call_fn, lstm_cell_42_layer_call_and_return_conditional_losses while saving (showing 2 of 2). These functions will not be directly callable after loading.\n"
     ]
    },
    {
     "name": "stdout",
     "output_type": "stream",
     "text": [
      "INFO:tensorflow:Assets written to: Hybrid MP_fwd_wav/month4_3_step_lookahead_Hybrid\\assets\n"
     ]
    },
    {
     "name": "stderr",
     "output_type": "stream",
     "text": [
      "INFO:tensorflow:Assets written to: Hybrid MP_fwd_wav/month4_3_step_lookahead_Hybrid\\assets\n",
      "WARNING:absl:<keras.layers.recurrent.LSTMCell object at 0x0000022E8B790160> has the same name 'LSTMCell' as a built-in Keras object. Consider renaming <class 'keras.layers.recurrent.LSTMCell'> to avoid naming conflicts when loading with `tf.keras.models.load_model`. If renaming is not possible, pass the object in the `custom_objects` parameter of the load function.\n"
     ]
    },
    {
     "name": "stdout",
     "output_type": "stream",
     "text": [
      "145/145 [==============================] - 4s 23ms/step\n",
      "63/63 [==============================] - 1s 21ms/step\n"
     ]
    },
    {
     "name": "stderr",
     "output_type": "stream",
     "text": [
      "D:\\Anaconda\\lib\\site-packages\\pandas\\core\\frame.py:3678: SettingWithCopyWarning: \n",
      "A value is trying to be set on a copy of a slice from a DataFrame.\n",
      "Try using .loc[row_indexer,col_indexer] = value instead\n",
      "\n",
      "See the caveats in the documentation: https://pandas.pydata.org/pandas-docs/stable/user_guide/indexing.html#returning-a-view-versus-a-copy\n",
      "  self[col] = igetitem(value, i)\n"
     ]
    },
    {
     "name": "stdout",
     "output_type": "stream",
     "text": [
      "Epoch 1/15\n",
      "145/145 [==============================] - 11s 61ms/step - loss: 1.6586 - val_loss: 0.1007\n",
      "Epoch 2/15\n",
      "145/145 [==============================] - 8s 57ms/step - loss: 1.5905 - val_loss: 0.0889\n",
      "Epoch 3/15\n",
      "145/145 [==============================] - 8s 57ms/step - loss: 1.5757 - val_loss: 0.0846\n",
      "Epoch 4/15\n",
      "145/145 [==============================] - 8s 56ms/step - loss: 1.5587 - val_loss: 0.0886\n",
      "Epoch 5/15\n",
      "145/145 [==============================] - 8s 56ms/step - loss: 1.5393 - val_loss: 0.0928\n",
      "Epoch 6/15\n",
      "145/145 [==============================] - 8s 56ms/step - loss: 1.5039 - val_loss: 0.0868\n",
      "Epoch 7/15\n",
      "145/145 [==============================] - 8s 56ms/step - loss: 1.4825 - val_loss: 0.1209\n",
      "Epoch 8/15\n",
      "145/145 [==============================] - 8s 59ms/step - loss: 1.3920 - val_loss: 0.1235\n",
      "Epoch 9/15\n",
      "145/145 [==============================] - 8s 57ms/step - loss: 1.3525 - val_loss: 0.3190\n",
      "Epoch 10/15\n",
      "145/145 [==============================] - 8s 56ms/step - loss: 1.3174 - val_loss: 1.1267\n",
      "Epoch 11/15\n",
      "145/145 [==============================] - 8s 56ms/step - loss: 1.2556 - val_loss: 1.1601\n",
      "Epoch 12/15\n",
      "145/145 [==============================] - 8s 56ms/step - loss: 1.2218 - val_loss: 1.5939\n",
      "Epoch 13/15\n",
      "145/145 [==============================] - 8s 56ms/step - loss: 1.2243 - val_loss: 1.5468\n",
      "Epoch 14/15\n",
      "145/145 [==============================] - 8s 57ms/step - loss: 1.4110 - val_loss: 0.2023\n",
      "Epoch 15/15\n",
      "145/145 [==============================] - 9s 59ms/step - loss: 1.1963 - val_loss: 0.2572\n"
     ]
    },
    {
     "name": "stderr",
     "output_type": "stream",
     "text": [
      "WARNING:absl:Found untraced functions such as lstm_cell_43_layer_call_fn, lstm_cell_43_layer_call_and_return_conditional_losses while saving (showing 2 of 2). These functions will not be directly callable after loading.\n"
     ]
    },
    {
     "name": "stdout",
     "output_type": "stream",
     "text": [
      "INFO:tensorflow:Assets written to: Hybrid MP_fwd_wav/month4_4_step_lookahead_Hybrid\\assets\n"
     ]
    },
    {
     "name": "stderr",
     "output_type": "stream",
     "text": [
      "INFO:tensorflow:Assets written to: Hybrid MP_fwd_wav/month4_4_step_lookahead_Hybrid\\assets\n",
      "WARNING:absl:<keras.layers.recurrent.LSTMCell object at 0x000002316E3531F0> has the same name 'LSTMCell' as a built-in Keras object. Consider renaming <class 'keras.layers.recurrent.LSTMCell'> to avoid naming conflicts when loading with `tf.keras.models.load_model`. If renaming is not possible, pass the object in the `custom_objects` parameter of the load function.\n"
     ]
    },
    {
     "name": "stdout",
     "output_type": "stream",
     "text": [
      "145/145 [==============================] - 4s 23ms/step\n",
      "63/63 [==============================] - 1s 21ms/step\n"
     ]
    },
    {
     "name": "stderr",
     "output_type": "stream",
     "text": [
      "D:\\Anaconda\\lib\\site-packages\\pandas\\core\\frame.py:3678: SettingWithCopyWarning: \n",
      "A value is trying to be set on a copy of a slice from a DataFrame.\n",
      "Try using .loc[row_indexer,col_indexer] = value instead\n",
      "\n",
      "See the caveats in the documentation: https://pandas.pydata.org/pandas-docs/stable/user_guide/indexing.html#returning-a-view-versus-a-copy\n",
      "  self[col] = igetitem(value, i)\n"
     ]
    },
    {
     "name": "stdout",
     "output_type": "stream",
     "text": [
      "Epoch 1/15\n",
      "145/145 [==============================] - 12s 62ms/step - loss: 1.6596 - val_loss: 0.1134\n",
      "Epoch 2/15\n",
      "145/145 [==============================] - 8s 58ms/step - loss: 1.5999 - val_loss: 0.0982\n",
      "Epoch 3/15\n",
      "145/145 [==============================] - 9s 59ms/step - loss: 1.5850 - val_loss: 0.0950\n",
      "Epoch 4/15\n",
      "145/145 [==============================] - 8s 59ms/step - loss: 1.5754 - val_loss: 0.0940\n",
      "Epoch 5/15\n",
      "145/145 [==============================] - 8s 58ms/step - loss: 1.5658 - val_loss: 0.1078\n",
      "Epoch 6/15\n",
      "145/145 [==============================] - 8s 58ms/step - loss: 1.5370 - val_loss: 0.1595\n",
      "Epoch 7/15\n",
      "145/145 [==============================] - 8s 58ms/step - loss: 1.4767 - val_loss: 0.1245\n",
      "Epoch 8/15\n",
      "145/145 [==============================] - 8s 59ms/step - loss: 1.4606 - val_loss: 0.1338\n",
      "Epoch 9/15\n",
      "145/145 [==============================] - 8s 58ms/step - loss: 1.3939 - val_loss: 0.1361\n",
      "Epoch 10/15\n",
      "145/145 [==============================] - 9s 60ms/step - loss: 1.3356 - val_loss: 0.1323\n",
      "Epoch 11/15\n",
      "145/145 [==============================] - 9s 59ms/step - loss: 1.2837 - val_loss: 0.1756\n",
      "Epoch 12/15\n",
      "145/145 [==============================] - 8s 58ms/step - loss: 1.3591 - val_loss: 0.1136\n",
      "Epoch 13/15\n",
      "145/145 [==============================] - 8s 59ms/step - loss: 1.2744 - val_loss: 0.1537\n",
      "Epoch 14/15\n",
      "145/145 [==============================] - 8s 57ms/step - loss: 1.2226 - val_loss: 0.1315\n",
      "Epoch 15/15\n",
      "145/145 [==============================] - 8s 58ms/step - loss: 1.2027 - val_loss: 0.1742\n"
     ]
    },
    {
     "name": "stderr",
     "output_type": "stream",
     "text": [
      "WARNING:absl:Found untraced functions such as lstm_cell_44_layer_call_fn, lstm_cell_44_layer_call_and_return_conditional_losses while saving (showing 2 of 2). These functions will not be directly callable after loading.\n"
     ]
    },
    {
     "name": "stdout",
     "output_type": "stream",
     "text": [
      "INFO:tensorflow:Assets written to: Hybrid MP_fwd_wav/month4_5_step_lookahead_Hybrid\\assets\n"
     ]
    },
    {
     "name": "stderr",
     "output_type": "stream",
     "text": [
      "INFO:tensorflow:Assets written to: Hybrid MP_fwd_wav/month4_5_step_lookahead_Hybrid\\assets\n",
      "WARNING:absl:<keras.layers.recurrent.LSTMCell object at 0x0000022EBB88AE80> has the same name 'LSTMCell' as a built-in Keras object. Consider renaming <class 'keras.layers.recurrent.LSTMCell'> to avoid naming conflicts when loading with `tf.keras.models.load_model`. If renaming is not possible, pass the object in the `custom_objects` parameter of the load function.\n"
     ]
    },
    {
     "name": "stdout",
     "output_type": "stream",
     "text": [
      "145/145 [==============================] - 4s 22ms/step\n",
      "63/63 [==============================] - 1s 21ms/step\n"
     ]
    },
    {
     "name": "stderr",
     "output_type": "stream",
     "text": [
      "D:\\Anaconda\\lib\\site-packages\\pandas\\core\\frame.py:3678: SettingWithCopyWarning: \n",
      "A value is trying to be set on a copy of a slice from a DataFrame.\n",
      "Try using .loc[row_indexer,col_indexer] = value instead\n",
      "\n",
      "See the caveats in the documentation: https://pandas.pydata.org/pandas-docs/stable/user_guide/indexing.html#returning-a-view-versus-a-copy\n",
      "  self[col] = igetitem(value, i)\n"
     ]
    },
    {
     "name": "stdout",
     "output_type": "stream",
     "text": [
      "Epoch 1/15\n",
      "145/145 [==============================] - 12s 61ms/step - loss: 1.6643 - val_loss: 0.1267\n",
      "Epoch 2/15\n",
      "145/145 [==============================] - 8s 56ms/step - loss: 1.6019 - val_loss: 0.1095\n",
      "Epoch 3/15\n",
      "145/145 [==============================] - 8s 58ms/step - loss: 1.5815 - val_loss: 0.0988\n",
      "Epoch 4/15\n",
      "145/145 [==============================] - 8s 57ms/step - loss: 1.5641 - val_loss: 0.0899\n",
      "Epoch 5/15\n",
      "145/145 [==============================] - 8s 57ms/step - loss: 1.5487 - val_loss: 0.0944\n",
      "Epoch 6/15\n",
      "145/145 [==============================] - 8s 56ms/step - loss: 1.5083 - val_loss: 0.0998\n",
      "Epoch 7/15\n",
      "145/145 [==============================] - 8s 57ms/step - loss: 1.4493 - val_loss: 0.0930\n",
      "Epoch 8/15\n",
      "145/145 [==============================] - 8s 56ms/step - loss: 1.4566 - val_loss: 0.1258\n",
      "Epoch 9/15\n",
      "145/145 [==============================] - 8s 56ms/step - loss: 1.3444 - val_loss: 0.1256\n",
      "Epoch 10/15\n",
      "145/145 [==============================] - 8s 56ms/step - loss: 1.2908 - val_loss: 0.1281\n",
      "Epoch 11/15\n",
      "145/145 [==============================] - 8s 56ms/step - loss: 1.2592 - val_loss: 0.1297\n",
      "Epoch 12/15\n",
      "145/145 [==============================] - 8s 56ms/step - loss: 1.2016 - val_loss: 0.1289\n",
      "Epoch 13/15\n",
      "145/145 [==============================] - 8s 56ms/step - loss: 1.1718 - val_loss: 0.1387\n",
      "Epoch 14/15\n",
      "145/145 [==============================] - 8s 55ms/step - loss: 1.1420 - val_loss: 0.1457\n",
      "Epoch 15/15\n",
      "145/145 [==============================] - 8s 55ms/step - loss: 1.2389 - val_loss: 0.1487\n"
     ]
    },
    {
     "name": "stderr",
     "output_type": "stream",
     "text": [
      "WARNING:absl:Found untraced functions such as lstm_cell_45_layer_call_fn, lstm_cell_45_layer_call_and_return_conditional_losses while saving (showing 2 of 2). These functions will not be directly callable after loading.\n"
     ]
    },
    {
     "name": "stdout",
     "output_type": "stream",
     "text": [
      "INFO:tensorflow:Assets written to: Hybrid MP_fwd_wav/month4_6_step_lookahead_Hybrid\\assets\n"
     ]
    },
    {
     "name": "stderr",
     "output_type": "stream",
     "text": [
      "INFO:tensorflow:Assets written to: Hybrid MP_fwd_wav/month4_6_step_lookahead_Hybrid\\assets\n",
      "WARNING:absl:<keras.layers.recurrent.LSTMCell object at 0x0000022E9939AE50> has the same name 'LSTMCell' as a built-in Keras object. Consider renaming <class 'keras.layers.recurrent.LSTMCell'> to avoid naming conflicts when loading with `tf.keras.models.load_model`. If renaming is not possible, pass the object in the `custom_objects` parameter of the load function.\n"
     ]
    },
    {
     "name": "stdout",
     "output_type": "stream",
     "text": [
      "145/145 [==============================] - 4s 23ms/step\n",
      "63/63 [==============================] - 1s 21ms/step\n"
     ]
    },
    {
     "name": "stderr",
     "output_type": "stream",
     "text": [
      "D:\\Anaconda\\lib\\site-packages\\pandas\\core\\frame.py:3678: SettingWithCopyWarning: \n",
      "A value is trying to be set on a copy of a slice from a DataFrame.\n",
      "Try using .loc[row_indexer,col_indexer] = value instead\n",
      "\n",
      "See the caveats in the documentation: https://pandas.pydata.org/pandas-docs/stable/user_guide/indexing.html#returning-a-view-versus-a-copy\n",
      "  self[col] = igetitem(value, i)\n"
     ]
    },
    {
     "name": "stdout",
     "output_type": "stream",
     "text": [
      "Epoch 1/15\n",
      "145/145 [==============================] - 12s 61ms/step - loss: 1.6302 - val_loss: 0.1186\n",
      "Epoch 2/15\n",
      "145/145 [==============================] - 8s 56ms/step - loss: 1.5779 - val_loss: 0.1255\n",
      "Epoch 3/15\n",
      "145/145 [==============================] - 8s 57ms/step - loss: 1.5609 - val_loss: 0.1460\n",
      "Epoch 4/15\n",
      "145/145 [==============================] - 8s 57ms/step - loss: 1.5379 - val_loss: 0.1219\n",
      "Epoch 5/15\n",
      "145/145 [==============================] - 8s 57ms/step - loss: 1.5197 - val_loss: 0.1231\n",
      "Epoch 6/15\n",
      "145/145 [==============================] - 8s 56ms/step - loss: 1.4781 - val_loss: 0.1185\n",
      "Epoch 7/15\n",
      "145/145 [==============================] - 8s 56ms/step - loss: 1.3934 - val_loss: 0.1346\n",
      "Epoch 8/15\n",
      "145/145 [==============================] - 8s 57ms/step - loss: 1.3844 - val_loss: 0.1545\n",
      "Epoch 9/15\n",
      "145/145 [==============================] - 8s 57ms/step - loss: 1.3099 - val_loss: 0.1437\n",
      "Epoch 10/15\n",
      "145/145 [==============================] - 8s 57ms/step - loss: 1.2791 - val_loss: 0.1426\n",
      "Epoch 11/15\n",
      "145/145 [==============================] - 8s 57ms/step - loss: 1.2993 - val_loss: 0.1586\n",
      "Epoch 12/15\n",
      "145/145 [==============================] - 8s 58ms/step - loss: 1.2087 - val_loss: 0.1646\n",
      "Epoch 13/15\n",
      "145/145 [==============================] - 8s 57ms/step - loss: 1.1757 - val_loss: 0.1795\n",
      "Epoch 14/15\n",
      "145/145 [==============================] - 8s 56ms/step - loss: 1.1533 - val_loss: 0.1846\n",
      "Epoch 15/15\n",
      "145/145 [==============================] - 8s 56ms/step - loss: 1.2819 - val_loss: 0.1975\n"
     ]
    },
    {
     "name": "stderr",
     "output_type": "stream",
     "text": [
      "WARNING:absl:Found untraced functions such as lstm_cell_46_layer_call_fn, lstm_cell_46_layer_call_and_return_conditional_losses while saving (showing 2 of 2). These functions will not be directly callable after loading.\n"
     ]
    },
    {
     "name": "stdout",
     "output_type": "stream",
     "text": [
      "INFO:tensorflow:Assets written to: Hybrid MP_fwd_wav/month4_7_step_lookahead_Hybrid\\assets\n"
     ]
    },
    {
     "name": "stderr",
     "output_type": "stream",
     "text": [
      "INFO:tensorflow:Assets written to: Hybrid MP_fwd_wav/month4_7_step_lookahead_Hybrid\\assets\n",
      "WARNING:absl:<keras.layers.recurrent.LSTMCell object at 0x0000022E8A9495B0> has the same name 'LSTMCell' as a built-in Keras object. Consider renaming <class 'keras.layers.recurrent.LSTMCell'> to avoid naming conflicts when loading with `tf.keras.models.load_model`. If renaming is not possible, pass the object in the `custom_objects` parameter of the load function.\n"
     ]
    },
    {
     "name": "stdout",
     "output_type": "stream",
     "text": [
      "145/145 [==============================] - 4s 23ms/step\n",
      "63/63 [==============================] - 1s 21ms/step\n"
     ]
    },
    {
     "name": "stderr",
     "output_type": "stream",
     "text": [
      "D:\\Anaconda\\lib\\site-packages\\pandas\\core\\frame.py:3678: SettingWithCopyWarning: \n",
      "A value is trying to be set on a copy of a slice from a DataFrame.\n",
      "Try using .loc[row_indexer,col_indexer] = value instead\n",
      "\n",
      "See the caveats in the documentation: https://pandas.pydata.org/pandas-docs/stable/user_guide/indexing.html#returning-a-view-versus-a-copy\n",
      "  self[col] = igetitem(value, i)\n"
     ]
    },
    {
     "name": "stdout",
     "output_type": "stream",
     "text": [
      "Epoch 1/15\n",
      "145/145 [==============================] - 11s 62ms/step - loss: 1.6617 - val_loss: 0.1212\n",
      "Epoch 2/15\n",
      "145/145 [==============================] - 8s 57ms/step - loss: 1.5918 - val_loss: 0.1056\n",
      "Epoch 3/15\n",
      "145/145 [==============================] - 8s 57ms/step - loss: 1.5641 - val_loss: 0.1082\n",
      "Epoch 4/15\n",
      "145/145 [==============================] - 8s 57ms/step - loss: 1.5399 - val_loss: 0.1132\n",
      "Epoch 5/15\n",
      "145/145 [==============================] - 8s 57ms/step - loss: 1.5213 - val_loss: 0.1265\n",
      "Epoch 6/15\n",
      "145/145 [==============================] - 8s 56ms/step - loss: 1.4946 - val_loss: 0.1307\n",
      "Epoch 7/15\n",
      "145/145 [==============================] - 8s 56ms/step - loss: 1.4705 - val_loss: 0.1358\n",
      "Epoch 8/15\n",
      "145/145 [==============================] - 8s 56ms/step - loss: 1.4192 - val_loss: 0.1402\n",
      "Epoch 9/15\n",
      "145/145 [==============================] - 8s 58ms/step - loss: 1.3959 - val_loss: 0.2030\n",
      "Epoch 10/15\n",
      "145/145 [==============================] - 8s 58ms/step - loss: 1.2834 - val_loss: 0.1656\n",
      "Epoch 11/15\n",
      "145/145 [==============================] - 8s 57ms/step - loss: 1.2863 - val_loss: 0.1499\n",
      "Epoch 12/15\n",
      "145/145 [==============================] - 8s 58ms/step - loss: 1.2175 - val_loss: 0.1974\n",
      "Epoch 13/15\n",
      "145/145 [==============================] - 8s 57ms/step - loss: 1.2381 - val_loss: 0.2023\n",
      "Epoch 14/15\n",
      "145/145 [==============================] - 8s 57ms/step - loss: 1.1835 - val_loss: 0.2452\n",
      "Epoch 15/15\n",
      "145/145 [==============================] - 8s 57ms/step - loss: 1.1279 - val_loss: 0.2359\n"
     ]
    },
    {
     "name": "stderr",
     "output_type": "stream",
     "text": [
      "WARNING:absl:Found untraced functions such as lstm_cell_47_layer_call_fn, lstm_cell_47_layer_call_and_return_conditional_losses while saving (showing 2 of 2). These functions will not be directly callable after loading.\n"
     ]
    },
    {
     "name": "stdout",
     "output_type": "stream",
     "text": [
      "INFO:tensorflow:Assets written to: Hybrid MP_fwd_wav/month4_8_step_lookahead_Hybrid\\assets\n"
     ]
    },
    {
     "name": "stderr",
     "output_type": "stream",
     "text": [
      "INFO:tensorflow:Assets written to: Hybrid MP_fwd_wav/month4_8_step_lookahead_Hybrid\\assets\n",
      "WARNING:absl:<keras.layers.recurrent.LSTMCell object at 0x0000022E8BA842B0> has the same name 'LSTMCell' as a built-in Keras object. Consider renaming <class 'keras.layers.recurrent.LSTMCell'> to avoid naming conflicts when loading with `tf.keras.models.load_model`. If renaming is not possible, pass the object in the `custom_objects` parameter of the load function.\n"
     ]
    },
    {
     "name": "stdout",
     "output_type": "stream",
     "text": [
      "145/145 [==============================] - 4s 22ms/step\n",
      "63/63 [==============================] - 1s 21ms/step\n"
     ]
    },
    {
     "name": "stderr",
     "output_type": "stream",
     "text": [
      "D:\\Anaconda\\lib\\site-packages\\pandas\\core\\frame.py:3678: SettingWithCopyWarning: \n",
      "A value is trying to be set on a copy of a slice from a DataFrame.\n",
      "Try using .loc[row_indexer,col_indexer] = value instead\n",
      "\n",
      "See the caveats in the documentation: https://pandas.pydata.org/pandas-docs/stable/user_guide/indexing.html#returning-a-view-versus-a-copy\n",
      "  self[col] = igetitem(value, i)\n"
     ]
    },
    {
     "name": "stdout",
     "output_type": "stream",
     "text": [
      "Epoch 1/15\n",
      "145/145 [==============================] - 11s 61ms/step - loss: 1.6326 - val_loss: 0.1135\n",
      "Epoch 2/15\n",
      "145/145 [==============================] - 8s 57ms/step - loss: 1.5805 - val_loss: 0.1078\n",
      "Epoch 3/15\n",
      "145/145 [==============================] - 8s 57ms/step - loss: 1.5632 - val_loss: 0.1064\n",
      "Epoch 4/15\n",
      "145/145 [==============================] - 8s 56ms/step - loss: 1.5412 - val_loss: 0.0990\n",
      "Epoch 5/15\n",
      "145/145 [==============================] - 8s 56ms/step - loss: 1.5179 - val_loss: 0.1040\n",
      "Epoch 6/15\n",
      "145/145 [==============================] - 8s 56ms/step - loss: 1.4815 - val_loss: 0.1126\n",
      "Epoch 7/15\n",
      "145/145 [==============================] - 8s 56ms/step - loss: 1.4304 - val_loss: 0.1526\n",
      "Epoch 8/15\n",
      "145/145 [==============================] - 8s 57ms/step - loss: 1.3821 - val_loss: 0.1600\n",
      "Epoch 9/15\n",
      "145/145 [==============================] - 8s 57ms/step - loss: 1.3486 - val_loss: 0.1275\n",
      "Epoch 10/15\n",
      "145/145 [==============================] - 8s 57ms/step - loss: 1.3108 - val_loss: 0.1870\n",
      "Epoch 11/15\n",
      "145/145 [==============================] - 8s 57ms/step - loss: 1.2983 - val_loss: 0.1768\n",
      "Epoch 12/15\n",
      "145/145 [==============================] - 8s 56ms/step - loss: 1.2582 - val_loss: 0.1526\n",
      "Epoch 13/15\n",
      "145/145 [==============================] - 8s 56ms/step - loss: 1.2270 - val_loss: 0.2213\n",
      "Epoch 14/15\n",
      "145/145 [==============================] - 8s 56ms/step - loss: 1.5473 - val_loss: 0.2284\n",
      "Epoch 15/15\n",
      "145/145 [==============================] - 8s 56ms/step - loss: 1.3340 - val_loss: 0.3119\n"
     ]
    },
    {
     "name": "stderr",
     "output_type": "stream",
     "text": [
      "WARNING:absl:Found untraced functions such as lstm_cell_48_layer_call_fn, lstm_cell_48_layer_call_and_return_conditional_losses while saving (showing 2 of 2). These functions will not be directly callable after loading.\n"
     ]
    },
    {
     "name": "stdout",
     "output_type": "stream",
     "text": [
      "INFO:tensorflow:Assets written to: Hybrid MP_fwd_wav/month4_9_step_lookahead_Hybrid\\assets\n"
     ]
    },
    {
     "name": "stderr",
     "output_type": "stream",
     "text": [
      "INFO:tensorflow:Assets written to: Hybrid MP_fwd_wav/month4_9_step_lookahead_Hybrid\\assets\n",
      "WARNING:absl:<keras.layers.recurrent.LSTMCell object at 0x0000022E849139A0> has the same name 'LSTMCell' as a built-in Keras object. Consider renaming <class 'keras.layers.recurrent.LSTMCell'> to avoid naming conflicts when loading with `tf.keras.models.load_model`. If renaming is not possible, pass the object in the `custom_objects` parameter of the load function.\n"
     ]
    },
    {
     "name": "stdout",
     "output_type": "stream",
     "text": [
      "145/145 [==============================] - 4s 23ms/step\n",
      "63/63 [==============================] - 1s 21ms/step\n"
     ]
    },
    {
     "name": "stderr",
     "output_type": "stream",
     "text": [
      "D:\\Anaconda\\lib\\site-packages\\pandas\\core\\frame.py:3678: SettingWithCopyWarning: \n",
      "A value is trying to be set on a copy of a slice from a DataFrame.\n",
      "Try using .loc[row_indexer,col_indexer] = value instead\n",
      "\n",
      "See the caveats in the documentation: https://pandas.pydata.org/pandas-docs/stable/user_guide/indexing.html#returning-a-view-versus-a-copy\n",
      "  self[col] = igetitem(value, i)\n"
     ]
    },
    {
     "name": "stdout",
     "output_type": "stream",
     "text": [
      "Epoch 1/15\n",
      "145/145 [==============================] - 12s 66ms/step - loss: 1.6744 - val_loss: 0.1273\n",
      "Epoch 2/15\n",
      "145/145 [==============================] - 8s 57ms/step - loss: 1.5999 - val_loss: 0.1130\n",
      "Epoch 3/15\n",
      "145/145 [==============================] - 8s 58ms/step - loss: 1.5735 - val_loss: 0.1094\n",
      "Epoch 4/15\n",
      "145/145 [==============================] - 8s 58ms/step - loss: 1.5561 - val_loss: 0.1172\n",
      "Epoch 5/15\n",
      "145/145 [==============================] - 8s 56ms/step - loss: 1.5365 - val_loss: 0.1176\n",
      "Epoch 6/15\n",
      "145/145 [==============================] - 8s 56ms/step - loss: 1.5336 - val_loss: 0.1341\n",
      "Epoch 7/15\n",
      "145/145 [==============================] - 8s 57ms/step - loss: 1.4926 - val_loss: 0.1531\n",
      "Epoch 8/15\n",
      "145/145 [==============================] - 8s 56ms/step - loss: 1.4384 - val_loss: 0.1705\n",
      "Epoch 9/15\n",
      "145/145 [==============================] - 8s 57ms/step - loss: 1.4887 - val_loss: 0.1617\n",
      "Epoch 10/15\n",
      "145/145 [==============================] - 8s 57ms/step - loss: 1.4133 - val_loss: 0.1822\n",
      "Epoch 11/15\n",
      "145/145 [==============================] - 8s 56ms/step - loss: 1.3738 - val_loss: 0.2173\n",
      "Epoch 12/15\n",
      "145/145 [==============================] - 8s 57ms/step - loss: 1.3368 - val_loss: 0.2317\n",
      "Epoch 13/15\n",
      "145/145 [==============================] - 8s 57ms/step - loss: 1.2956 - val_loss: 0.1876\n",
      "Epoch 14/15\n",
      "145/145 [==============================] - 8s 57ms/step - loss: 1.2761 - val_loss: 0.1420\n",
      "Epoch 15/15\n",
      "145/145 [==============================] - 8s 57ms/step - loss: 1.2885 - val_loss: 0.1366\n"
     ]
    },
    {
     "name": "stderr",
     "output_type": "stream",
     "text": [
      "WARNING:absl:Found untraced functions such as lstm_cell_49_layer_call_fn, lstm_cell_49_layer_call_and_return_conditional_losses while saving (showing 2 of 2). These functions will not be directly callable after loading.\n"
     ]
    },
    {
     "name": "stdout",
     "output_type": "stream",
     "text": [
      "INFO:tensorflow:Assets written to: Hybrid MP_fwd_wav/month4_10_step_lookahead_Hybrid\\assets\n"
     ]
    },
    {
     "name": "stderr",
     "output_type": "stream",
     "text": [
      "INFO:tensorflow:Assets written to: Hybrid MP_fwd_wav/month4_10_step_lookahead_Hybrid\\assets\n",
      "WARNING:absl:<keras.layers.recurrent.LSTMCell object at 0x0000022E8A9AC790> has the same name 'LSTMCell' as a built-in Keras object. Consider renaming <class 'keras.layers.recurrent.LSTMCell'> to avoid naming conflicts when loading with `tf.keras.models.load_model`. If renaming is not possible, pass the object in the `custom_objects` parameter of the load function.\n"
     ]
    },
    {
     "name": "stdout",
     "output_type": "stream",
     "text": [
      "145/145 [==============================] - 4s 23ms/step\n",
      "63/63 [==============================] - 1s 22ms/step\n"
     ]
    },
    {
     "name": "stderr",
     "output_type": "stream",
     "text": [
      "D:\\Anaconda\\lib\\site-packages\\pandas\\core\\frame.py:3678: SettingWithCopyWarning: \n",
      "A value is trying to be set on a copy of a slice from a DataFrame.\n",
      "Try using .loc[row_indexer,col_indexer] = value instead\n",
      "\n",
      "See the caveats in the documentation: https://pandas.pydata.org/pandas-docs/stable/user_guide/indexing.html#returning-a-view-versus-a-copy\n",
      "  self[col] = igetitem(value, i)\n"
     ]
    }
   ],
   "source": [
    "end_dates = ['2021-12-26 23:55:00', '2022-01-26 23:55:00', '2022-02-26 23:55:00', '2022-03-26 23:55:00', '2022-04-26 23:55:00'  ]\n",
    "Start_dates = ['2021-11-26 00:00:00', '2021-12-26 00:00:00', '2022-01-26 23:55:00', '2022-02-26 23:55:00', '2022-03-26 23:55:00']\n",
    "\n",
    "#Create Training Examples for all lookaheads\n",
    "resample_rate = '5T'\n",
    "start_date='2021-11-26 00:00:00'\n",
    "end_date='2021-12-26 23:55:00' \n",
    "inputs = ['min_gas_price']\n",
    "#No of timesteps behind to forecast on, no of timesteps to forecast ahead\n",
    "n_steps_in = 2016+288\n",
    "n_steps_out = 1\n",
    "#How many timesteps between start of training examples\n",
    "step_interval = 1\n",
    "n_step_lookahead = 1\n",
    "\n",
    "y_hat_list=[]\n",
    "train_loss_list=[]\n",
    "val_loss_list=[]\n",
    "training_metrics_dicts=[]\n",
    "valdiation_metrics_dicts=[]\n",
    "mp_window=288\n",
    "for month in [0, 1, 2, 3, 4]:\n",
    "    n_step_lookahead=1\n",
    "    start_date=Start_dates[month]\n",
    "    end_date=end_dates[month]\n",
    "    X_train, y_train, X_val, y_val, scaler = generate_training_val_examples_univariate_output(data)\n",
    "    for i in range(1,11):\n",
    "        n_step_lookahead = i\n",
    "        \n",
    "        X_train_denoised= denoise_array(X_train, 0, 'db4', 2, 3)\n",
    "        X_val_denoised= denoise_array(X_val, 0, 'db4', 2, 3)\n",
    "        X_train_mp = add_mp(X_train, mp_window)\n",
    "        X_val_mp = add_mp(X_val, mp_window)\n",
    "     \n",
    "\n",
    "\n",
    "        model, model_checkpoint_callback, checkpoint_filepath = LSTM_model()\n",
    "        train_history = model.fit(X_train_mp, y_train,validation_data=(X_val_mp, y_val), epochs=15, verbose=1, callbacks=[model_checkpoint_callback])\n",
    "        model.load_weights(checkpoint_filepath)\n",
    "        model.save(('Hybrid MP_fwd_wav/month' +str(month)+'_'+ str(i) + '_step_lookahead_Hybrid'))\n",
    "\n",
    "        yhat_train = model.predict(X_train_mp, verbose=1)\n",
    "        yhat_val = model.predict(X_val_mp, verbose=1)\n",
    "        y_hat_list.append(yhat_val)\n",
    "\n",
    "        train_loss_list.append(train_history.history['loss'])\n",
    "        val_loss_list.append(train_history.history['val_loss'])\n",
    "        pd.DataFrame(train_loss_list).to_csv('Hybrid MP_fwd_wav/train_loss')\n",
    "        pd.DataFrame(val_loss_list).to_csv('Hybrid MP_fwd_wav/val_loss')\n",
    "        \n",
    "        training_metrics_dicts.append(descale_y_retrun_metrics_univariate_y(yhat_train, y_train))\n",
    "        valdiation_metrics_dicts.append(descale_y_retrun_metrics_univariate_y(yhat_val, y_val))\n",
    "\n",
    "    \n",
    "        x_train_extended = []\n",
    "        for j in range(0, len(X_train)):\n",
    "            X_train_t = np.append(X_train[j], yhat_train[j])\n",
    "            x_train_extended.append(X_train_t)\n",
    "\n",
    "        x_val_extended = []\n",
    "        for k in range(0, len(X_val)):\n",
    "            X_val_t = np.append(X_val[k], yhat_val[k])\n",
    "            x_val_extended.append(X_val_t)\n",
    "\n",
    "        n_step_lookahead = i+1\n",
    "        X_traindummy, y_train, X_valdummy, y_val, scaler = generate_training_val_examples_univariate_output(data)\n",
    "        x_train = np.array(x_train_extended)\n",
    "        x_val = np.array(x_val_extended)\n",
    "        x_train = x_train.reshape(x_train.shape[0], x_train.shape[1],1)\n",
    "        x_val = x_val.reshape(x_val.shape[0], x_val.shape[1],1)\n",
    "        x_train = x_train[:,1:]\n",
    "        x_val = x_val[:,1:]\n",
    "        X_train = x_train[:(y_train.shape[0]),:,:]\n",
    "        X_val = x_val[:(y_val.shape[0]),:,:]\n",
    "        np.save(\"Hybrid MP_fwd_wav/train_metric_dict.npy\", training_metrics_dicts)  \n",
    "        np.save(\"Hybrid MP_fwd_wav/val_metric_dict.npy\", valdiation_metrics_dicts)  "
   ]
  },
  {
   "cell_type": "code",
   "execution_count": 18,
   "id": "b782e836-778e-4e31-b1b5-a3863ed73fec",
   "metadata": {
    "tags": []
   },
   "outputs": [
    {
     "data": {
      "text/plain": [
       "RMSE     27.271779\n",
       "MSE     929.121454\n",
       "MAE      14.338439\n",
       "MAPE      0.193319\n",
       "R2        0.508225\n",
       "dtype: float64"
      ]
     },
     "execution_count": 18,
     "metadata": {},
     "output_type": "execute_result"
    }
   ],
   "source": [
    "pd.concat(valdiation_metrics_dicts).mean()"
   ]
  }
 ],
 "metadata": {
  "kernelspec": {
   "display_name": "Python 3 (ipykernel)",
   "language": "python",
   "name": "python3"
  },
  "language_info": {
   "codemirror_mode": {
    "name": "ipython",
    "version": 3
   },
   "file_extension": ".py",
   "mimetype": "text/x-python",
   "name": "python",
   "nbconvert_exporter": "python",
   "pygments_lexer": "ipython3",
   "version": "3.9.7"
  }
 },
 "nbformat": 4,
 "nbformat_minor": 5
}
