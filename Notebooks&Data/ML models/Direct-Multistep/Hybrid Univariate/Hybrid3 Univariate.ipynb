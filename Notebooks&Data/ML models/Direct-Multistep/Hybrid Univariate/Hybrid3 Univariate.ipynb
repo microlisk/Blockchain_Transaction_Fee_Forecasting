{
 "cells": [
  {
   "cell_type": "markdown",
   "id": "ed254beb-b30d-40dd-b1ab-1675290adaa0",
   "metadata": {},
   "source": [
    "# Hybrid Univariate #3"
   ]
  },
  {
   "cell_type": "markdown",
   "id": "273cf8a4-056b-49a8-8123-cc15d8f2f71b",
   "metadata": {},
   "source": [
    "We are training a seperate model for each timestep in the lookahead window; univaraite input and output\n",
    "We are feeding the output of the previous model to each succesive model"
   ]
  },
  {
   "cell_type": "markdown",
   "id": "5c0a8d66-0a3b-441a-af77-6ddf848674c4",
   "metadata": {},
   "source": [
    "Fixed an error in the code with Hybrid Univariate #2, metrics and training loss behaving as expected"
   ]
  },
  {
   "cell_type": "markdown",
   "id": "ed7b02be-e865-475e-9654-61f40166f5e3",
   "metadata": {
    "tags": []
   },
   "source": [
    "## Load functions and data"
   ]
  },
  {
   "cell_type": "code",
   "execution_count": 32,
   "id": "2243fdcb-c389-4556-be27-9373234fc591",
   "metadata": {},
   "outputs": [],
   "source": [
    "import pandas as pd\n",
    "import numpy as np\n",
    "from numpy import array\n",
    "from numpy import mean\n",
    "from numpy import std\n",
    "import tensorflow as tf\n",
    "from tensorflow import keras\n",
    "from keras import optimizers\n",
    "from keras.models import Sequential\n",
    "from keras import callbacks\n",
    "from tensorflow.keras.utils import plot_model\n",
    "from tensorflow.keras.layers import LSTM, Dense, Dropout, TimeDistributed, Conv1D, MaxPooling1D, Flatten, Bidirectional, Input, Flatten, Activation, Reshape, RepeatVector, Concatenate\n",
    "from tensorflow.keras.models import Model\n",
    "import matplotlib.pyplot as plt\n",
    "\n",
    "import datetime \n",
    "from datetime import timedelta\n",
    "from datetime import datetime"
   ]
  },
  {
   "cell_type": "code",
   "execution_count": 2,
   "id": "fd68e3ae-22e3-43af-b5e2-abdca3c87420",
   "metadata": {},
   "outputs": [],
   "source": [
    "def split_sequence(sequence, n_steps_in, n_steps_out, step_interval, n_step_lookahead):\n",
    "    X, y = list(), list()\n",
    "    example_count = int((len(sequence)/step_interval))\n",
    "    for i in range(example_count):\n",
    "        # find the end of this pattern\n",
    "        end_ix = (i*step_interval) + n_steps_in\n",
    "        out_start_ix = end_ix + n_step_lookahead -1\n",
    "        out_end_ix = end_ix + n_steps_out + n_step_lookahead -1\n",
    "        # check if we are beyond the sequence\n",
    "        if out_end_ix > len(sequence):\n",
    "            break\n",
    "        # gather input and output parts of the pattern\n",
    "        seq_x, seq_y = sequence[(i*step_interval):end_ix], sequence[out_start_ix:out_end_ix]\n",
    "        X.append(seq_x)\n",
    "        y.append(seq_y)\n",
    "    return array(X), array(y)"
   ]
  },
  {
   "cell_type": "code",
   "execution_count": 3,
   "id": "479cb03e-33f8-4df8-afe6-82b2351713ed",
   "metadata": {},
   "outputs": [
    {
     "data": {
      "text/plain": [
       "(array([[0, 1, 2, 3, 4],\n",
       "        [1, 2, 3, 4, 5],\n",
       "        [2, 3, 4, 5, 6],\n",
       "        [3, 4, 5, 6, 7]]),\n",
       " array([[ 9],\n",
       "        [10],\n",
       "        [11],\n",
       "        [12]]))"
      ]
     },
     "execution_count": 3,
     "metadata": {},
     "output_type": "execute_result"
    }
   ],
   "source": [
    "#To demonstrate above function\n",
    "sequence = range(0,13)\n",
    "n_steps_in = 1\n",
    "n_steps_in = 5\n",
    "n_steps_out =1\n",
    "step_interval =1\n",
    "n_step_lookahead=5\n",
    "split_sequence(sequence, n_steps_in, n_steps_out, step_interval, n_step_lookahead)"
   ]
  },
  {
   "cell_type": "code",
   "execution_count": 4,
   "id": "71242122-b9c7-4b3e-8bad-7f44d1f0a345",
   "metadata": {},
   "outputs": [],
   "source": [
    "percentile_data = pd.read_csv (r'C:\\Users/conal/Desktop/MCM/Practicum - Copy/data/block gas price percentile data.csv', header=0)\n",
    "percentile_data['datetime'] = pd.to_datetime(percentile_data['block_timestamp'], format = '%Y-%m-%d %H:%M:%S UTC')\n",
    "\n",
    "percentile_data = percentile_data.sort_values(by='datetime',ascending=False)\n",
    "percentile_data = percentile_data.set_index('datetime')\n",
    "percentile_data = percentile_data.resample('5T').mean()\n",
    "percentile_data = percentile_data/1000000000"
   ]
  },
  {
   "cell_type": "code",
   "execution_count": 5,
   "id": "addfff7a-1ca9-4e3c-b832-ef9531018074",
   "metadata": {},
   "outputs": [],
   "source": [
    "usage_data = pd.read_csv (r'C:\\Users\\conal\\Desktop\\MCM\\Practicum - Copy\\data\\ETH,gas,usage merged 11-26 to 05-26.csv', header=0)\n",
    "usage_data['datetime'] = pd.to_datetime(usage_data['datetime'], format = '%Y-%m-%d %H:%M:%S')\n",
    "usage_data = usage_data.set_index('datetime')\n",
    "\n",
    "usage_data = usage_data.squeeze()\n",
    "usage_data = usage_data.astype('float')\n",
    "usage_data = usage_data.resample('5T').mean()"
   ]
  },
  {
   "cell_type": "code",
   "execution_count": 6,
   "id": "6249d6f0-1245-44dc-8b97-18b4efb26ed4",
   "metadata": {},
   "outputs": [],
   "source": [
    "usage_data2 = pd.read_csv (r'C:\\Users\\conal\\Desktop\\MCM\\Practicum - Copy\\data\\Contract counts 2021-11-26 to 2022-05-26.csv', header=0, index_col=0)\n",
    "usage_data2['datetime'] = pd.to_datetime(usage_data2['block_timestamp'], format = '%Y-%m-%d %H:%M:%S') \n",
    "usage_data2 = usage_data2.set_index('datetime')\n",
    "usage_data2 = usage_data2.drop(['block_timestamp'], axis=1)\n",
    "usage_data2 = usage_data2.squeeze()\n",
    "usage_data2 = usage_data2.astype('float')\n",
    "usage_data2 = usage_data2.resample('5T').sum()"
   ]
  },
  {
   "cell_type": "code",
   "execution_count": 7,
   "id": "ecd8d838-d20b-44b3-b500-60255a2a295f",
   "metadata": {},
   "outputs": [],
   "source": [
    "data = usage_data.merge(percentile_data, left_index=True, right_index=True)\n",
    "data = data.merge(usage_data2, left_index=True, right_index=True)"
   ]
  },
  {
   "cell_type": "markdown",
   "id": "9123a9bf",
   "metadata": {},
   "source": [
    "Load data, datetime to index, downsample with left edge label, convert wei to gwei"
   ]
  },
  {
   "cell_type": "code",
   "execution_count": 8,
   "id": "ac449a8e",
   "metadata": {},
   "outputs": [],
   "source": [
    "def generate_training_val_examples_univariate_output(data):\n",
    " \n",
    "    #Filter inputs, standardize\n",
    "    data =data[inputs]\n",
    "    scaler = StandardScaler()\n",
    "    data[inputs] = scaler.fit_transform(data[inputs])\n",
    "    \n",
    "\n",
    "    #Creat input:output examples\n",
    "    data = data[start_date:end_date].to_numpy()\n",
    "    X, y = split_sequence(data, n_steps_in, n_steps_out, step_interval, n_step_lookahead)\n",
    "    \n",
    "    X_train, X_val = np.split(X, [int(0.7 * len(X))])\n",
    "    \n",
    "    y_train, y_val = np.split(y, [int(0.7 * len(X))])\n",
    "\n",
    "    \n",
    "    #Reshape to 3D for LSTM, filter output to only the first input\n",
    "    X_train = X_train.reshape((X_train.shape[0], X_train.shape[1], len(inputs)))\n",
    "    y_train =y_train.reshape((y_train.shape[0], y_train.shape[1], len(inputs)))[:,:,:1]\n",
    "    X_val = X_val.reshape((X_val.shape[0], X_val.shape[1], len(inputs)))\n",
    "    y_val = y_val.reshape((y_val.shape[0], y_val.shape[1], len(inputs)))[:,:,:1]\n",
    "\n",
    "    \n",
    "    return X_train, y_train, X_val, y_val, scaler\n"
   ]
  },
  {
   "cell_type": "code",
   "execution_count": 9,
   "id": "f5878928-c13c-4766-bcfe-2a6d1de3a51f",
   "metadata": {},
   "outputs": [],
   "source": [
    "from sklearn.preprocessing import MinMaxScaler\n",
    "from sklearn.preprocessing import StandardScaler\n",
    "from sklearn.metrics import r2_score\n",
    "from sklearn.metrics import mean_squared_error\n",
    "from sklearn.metrics import mean_absolute_error\n",
    "from sklearn.metrics import mean_absolute_percentage_error\n"
   ]
  },
  {
   "cell_type": "code",
   "execution_count": 10,
   "id": "464a45e7-5fd8-42b5-8d79-ca17e2da26c1",
   "metadata": {},
   "outputs": [],
   "source": [
    "def descale_y_retrun_metrics(yhat, y_val2):\n",
    "    #reverts standard scaling, returns dictionary of metrics for each output, for all lookaheads\n",
    "    dict_indexes=[]\n",
    "    dict_dfs=[]\n",
    "    for j in range(0, n_steps_out):\n",
    "        RMSE_list, MAE_list, MAPE_list, R2_list, MSE_list = [],[],[],[],[]\n",
    "        for i in range(0, len(inputs)):  \n",
    "            pred_descaled= (scaler.inverse_transform(yhat[:,j:j+1,:].reshape(yhat.shape[0], yhat.shape[2])))[:, i:i+1]\n",
    "            groud_truth_descaled= ((scaler.inverse_transform(y_val2[:,j:j+1,:].reshape(y_val2.shape[0], y_val2.shape[2]))))[:, i:i+1]\n",
    "            RMSE = mean_squared_error(groud_truth_descaled, pred_descaled, squared=False)\n",
    "            MSE = mean_squared_error(groud_truth_descaled, pred_descaled, squared=True)\n",
    "            MAE = mean_absolute_error(groud_truth_descaled, pred_descaled)\n",
    "            MAPE = mean_absolute_percentage_error(groud_truth_descaled, pred_descaled)\n",
    "            R2 = r2_score(groud_truth_descaled, pred_descaled)\n",
    "            RMSE_list.append(RMSE)\n",
    "            MAE_list.append(MAE)\n",
    "            MAPE_list.append(MAPE)\n",
    "            R2_list.append(R2)\n",
    "            MSE_list.append(MSE)\n",
    "        metrics_df = pd.DataFrame({'RMSE':RMSE_list, 'MSE':MSE_list, 'MAE':MAE_list, 'MAPE':MAPE_list, 'R2':R2_list}, index=inputs)\n",
    "        dict_dfs.append(metrics_df)\n",
    "        dict_indexes.append('Lookahead' +str(j))\n",
    "    metrics_dict = dict(zip(dict_indexes, dict_dfs))\n",
    "    return metrics_dict"
   ]
  },
  {
   "cell_type": "code",
   "execution_count": 11,
   "id": "56029e3c-602d-4fec-ae79-6988dcd5ae20",
   "metadata": {},
   "outputs": [],
   "source": [
    "def descale_y_retrun_metrics_univariate_y(yhat, y_val2):\n",
    "    #reverts standard scaling, returns dictionary of metrics for single output, for all lookaheads\n",
    "    dict_indexes=[]\n",
    "    dict_dfs=[]\n",
    "    RMSE_list, MAE_list, MAPE_list, R2_list, MSE_list = [],[],[],[],[]\n",
    "    for j in range(0, n_steps_out):\n",
    "        pred_descaled= scaler.inverse_transform(yhat)\n",
    "        groud_truth_descaled= scaler.inverse_transform(y_val2[:,0,])\n",
    "        RMSE = mean_squared_error(groud_truth_descaled, pred_descaled, squared=False)\n",
    "        MSE = mean_squared_error(groud_truth_descaled, pred_descaled, squared=True)\n",
    "        MAE = mean_absolute_error(groud_truth_descaled, pred_descaled)\n",
    "        MAPE = mean_absolute_percentage_error(groud_truth_descaled, pred_descaled)\n",
    "        R2 = r2_score(groud_truth_descaled, pred_descaled)\n",
    "        RMSE_list.append(RMSE)\n",
    "        MAE_list.append(MAE)\n",
    "        MAPE_list.append(MAPE)\n",
    "        R2_list.append(R2)\n",
    "        MSE_list.append(MSE)\n",
    "    metrics_df = pd.DataFrame({'RMSE':RMSE_list, 'MSE':MSE_list, 'MAE':MAE_list, 'MAPE':MAPE_list, 'R2':R2_list}, index=range(1, (n_steps_out+1)))\n",
    "\n",
    " \n",
    "    return metrics_df"
   ]
  },
  {
   "cell_type": "code",
   "execution_count": 12,
   "id": "59d345e1-b61a-4ca0-a546-5d11c2ae299a",
   "metadata": {},
   "outputs": [],
   "source": [
    "def LSTM_model():\n",
    "    checkpoint_filepath='./Hybrid Univarite2/'\n",
    "    model_checkpoint_callback = keras.callbacks.ModelCheckpoint(\n",
    "    filepath=checkpoint_filepath,\n",
    "    save_weights_only=True,\n",
    "    monitor='val_loss',\n",
    "    mode='min',\n",
    "    save_best_only=True)\n",
    "    \n",
    "    model = Sequential()\n",
    "    model.add(LSTM(units =15,activation='tanh',input_shape=(n_steps_in, len(inputs)),dropout=0.01))\n",
    "    model.add(Dense(n_steps_out))\n",
    "    model.compile(optimizer='adam', loss='mse')\n",
    "    return model, model_checkpoint_callback, checkpoint_filepath"
   ]
  },
  {
   "cell_type": "markdown",
   "id": "34d8f4aa-44e6-409e-b3b0-7ebca79e2c25",
   "metadata": {},
   "source": [
    "## Training loop"
   ]
  },
  {
   "cell_type": "code",
   "execution_count": 63,
   "id": "d85f0a74-b6c8-4ba0-aca0-8b2774d56f21",
   "metadata": {
    "collapsed": true,
    "jupyter": {
     "outputs_hidden": true
    },
    "tags": []
   },
   "outputs": [
    {
     "name": "stderr",
     "output_type": "stream",
     "text": [
      "D:\\Anaconda\\lib\\site-packages\\pandas\\core\\frame.py:3678: SettingWithCopyWarning: \n",
      "A value is trying to be set on a copy of a slice from a DataFrame.\n",
      "Try using .loc[row_indexer,col_indexer] = value instead\n",
      "\n",
      "See the caveats in the documentation: https://pandas.pydata.org/pandas-docs/stable/user_guide/indexing.html#returning-a-view-versus-a-copy\n",
      "  self[col] = igetitem(value, i)\n"
     ]
    },
    {
     "name": "stdout",
     "output_type": "stream",
     "text": [
      "Epoch 1/15\n",
      "152/152 [==============================] - 11s 60ms/step - loss: 0.3314 - val_loss: 0.0400\n",
      "Epoch 2/15\n",
      "152/152 [==============================] - 8s 53ms/step - loss: 0.2792 - val_loss: 0.0357\n",
      "Epoch 3/15\n",
      "152/152 [==============================] - 8s 52ms/step - loss: 0.2519 - val_loss: 0.0341\n",
      "Epoch 4/15\n",
      "152/152 [==============================] - 8s 52ms/step - loss: 0.2327 - val_loss: 0.0319\n",
      "Epoch 5/15\n",
      "152/152 [==============================] - 8s 52ms/step - loss: 0.2191 - val_loss: 0.0306\n",
      "Epoch 6/15\n",
      "152/152 [==============================] - 8s 52ms/step - loss: 0.2092 - val_loss: 0.0294\n",
      "Epoch 7/15\n",
      "152/152 [==============================] - 8s 53ms/step - loss: 0.2020 - val_loss: 0.0285\n",
      "Epoch 8/15\n",
      "152/152 [==============================] - 8s 52ms/step - loss: 0.1961 - val_loss: 0.0290\n",
      "Epoch 9/15\n",
      "152/152 [==============================] - 8s 52ms/step - loss: 0.1925 - val_loss: 0.0293\n",
      "Epoch 10/15\n",
      "152/152 [==============================] - 8s 52ms/step - loss: 0.1873 - val_loss: 0.0347\n",
      "Epoch 11/15\n",
      "152/152 [==============================] - 8s 52ms/step - loss: 0.1898 - val_loss: 0.0306\n",
      "Epoch 12/15\n",
      "152/152 [==============================] - 8s 52ms/step - loss: 0.1930 - val_loss: 0.0315\n",
      "Epoch 13/15\n",
      "152/152 [==============================] - 8s 52ms/step - loss: 0.1869 - val_loss: 0.0369\n",
      "Epoch 14/15\n",
      "152/152 [==============================] - 8s 52ms/step - loss: 0.1834 - val_loss: 0.0323\n",
      "Epoch 15/15\n",
      "152/152 [==============================] - 8s 52ms/step - loss: 0.1828 - val_loss: 0.0321\n"
     ]
    },
    {
     "name": "stderr",
     "output_type": "stream",
     "text": [
      "WARNING:absl:Found untraced functions such as lstm_cell_9_layer_call_fn, lstm_cell_9_layer_call_and_return_conditional_losses while saving (showing 2 of 2). These functions will not be directly callable after loading.\n"
     ]
    },
    {
     "name": "stdout",
     "output_type": "stream",
     "text": [
      "INFO:tensorflow:Assets written to: Hybrid Univarite3/month0_1_step_lookahead_Hybrid\\assets\n"
     ]
    },
    {
     "name": "stderr",
     "output_type": "stream",
     "text": [
      "INFO:tensorflow:Assets written to: Hybrid Univarite3/month0_1_step_lookahead_Hybrid\\assets\n",
      "WARNING:absl:<keras.layers.recurrent.LSTMCell object at 0x0000014D37CAF7F0> has the same name 'LSTMCell' as a built-in Keras object. Consider renaming <class 'keras.layers.recurrent.LSTMCell'> to avoid naming conflicts when loading with `tf.keras.models.load_model`. If renaming is not possible, pass the object in the `custom_objects` parameter of the load function.\n"
     ]
    },
    {
     "name": "stdout",
     "output_type": "stream",
     "text": [
      "152/152 [==============================] - 4s 21ms/step\n",
      "65/65 [==============================] - 1s 19ms/step\n"
     ]
    },
    {
     "name": "stderr",
     "output_type": "stream",
     "text": [
      "D:\\Anaconda\\lib\\site-packages\\pandas\\core\\frame.py:3678: SettingWithCopyWarning: \n",
      "A value is trying to be set on a copy of a slice from a DataFrame.\n",
      "Try using .loc[row_indexer,col_indexer] = value instead\n",
      "\n",
      "See the caveats in the documentation: https://pandas.pydata.org/pandas-docs/stable/user_guide/indexing.html#returning-a-view-versus-a-copy\n",
      "  self[col] = igetitem(value, i)\n"
     ]
    },
    {
     "name": "stdout",
     "output_type": "stream",
     "text": [
      "Epoch 1/15\n",
      "152/152 [==============================] - 11s 60ms/step - loss: 0.3537 - val_loss: 0.0364\n",
      "Epoch 2/15\n",
      "152/152 [==============================] - 8s 52ms/step - loss: 0.3119 - val_loss: 0.0374\n",
      "Epoch 3/15\n",
      "152/152 [==============================] - 8s 52ms/step - loss: 0.3007 - val_loss: 0.0346\n",
      "Epoch 4/15\n",
      "152/152 [==============================] - 8s 52ms/step - loss: 0.2937 - val_loss: 0.0375\n",
      "Epoch 5/15\n",
      "152/152 [==============================] - 8s 52ms/step - loss: 0.2893 - val_loss: 0.0324\n",
      "Epoch 6/15\n",
      "152/152 [==============================] - 9s 60ms/step - loss: 0.2874 - val_loss: 0.0330\n",
      "Epoch 7/15\n",
      "152/152 [==============================] - 8s 53ms/step - loss: 0.2847 - val_loss: 0.0335\n",
      "Epoch 8/15\n",
      "152/152 [==============================] - 8s 52ms/step - loss: 0.2845 - val_loss: 0.0319\n",
      "Epoch 9/15\n",
      "152/152 [==============================] - 8s 52ms/step - loss: 0.2807 - val_loss: 0.0334\n",
      "Epoch 10/15\n",
      "152/152 [==============================] - 8s 52ms/step - loss: 0.2797 - val_loss: 0.0314\n",
      "Epoch 11/15\n",
      "152/152 [==============================] - 8s 52ms/step - loss: 0.2775 - val_loss: 0.0310\n",
      "Epoch 12/15\n",
      "152/152 [==============================] - 8s 52ms/step - loss: 0.2775 - val_loss: 0.0311\n",
      "Epoch 13/15\n",
      "152/152 [==============================] - 8s 54ms/step - loss: 0.2741 - val_loss: 0.0307\n",
      "Epoch 14/15\n",
      "152/152 [==============================] - 8s 53ms/step - loss: 0.2735 - val_loss: 0.0304\n",
      "Epoch 15/15\n",
      "152/152 [==============================] - 8s 52ms/step - loss: 0.2740 - val_loss: 0.0306\n"
     ]
    },
    {
     "name": "stderr",
     "output_type": "stream",
     "text": [
      "WARNING:absl:Found untraced functions such as lstm_cell_10_layer_call_fn, lstm_cell_10_layer_call_and_return_conditional_losses while saving (showing 2 of 2). These functions will not be directly callable after loading.\n"
     ]
    },
    {
     "name": "stdout",
     "output_type": "stream",
     "text": [
      "INFO:tensorflow:Assets written to: Hybrid Univarite3/month0_2_step_lookahead_Hybrid\\assets\n"
     ]
    },
    {
     "name": "stderr",
     "output_type": "stream",
     "text": [
      "INFO:tensorflow:Assets written to: Hybrid Univarite3/month0_2_step_lookahead_Hybrid\\assets\n",
      "WARNING:absl:<keras.layers.recurrent.LSTMCell object at 0x0000014D1F9F1250> has the same name 'LSTMCell' as a built-in Keras object. Consider renaming <class 'keras.layers.recurrent.LSTMCell'> to avoid naming conflicts when loading with `tf.keras.models.load_model`. If renaming is not possible, pass the object in the `custom_objects` parameter of the load function.\n"
     ]
    },
    {
     "name": "stdout",
     "output_type": "stream",
     "text": [
      "152/152 [==============================] - 4s 21ms/step\n",
      "65/65 [==============================] - 1s 20ms/step\n"
     ]
    },
    {
     "name": "stderr",
     "output_type": "stream",
     "text": [
      "D:\\Anaconda\\lib\\site-packages\\pandas\\core\\frame.py:3678: SettingWithCopyWarning: \n",
      "A value is trying to be set on a copy of a slice from a DataFrame.\n",
      "Try using .loc[row_indexer,col_indexer] = value instead\n",
      "\n",
      "See the caveats in the documentation: https://pandas.pydata.org/pandas-docs/stable/user_guide/indexing.html#returning-a-view-versus-a-copy\n",
      "  self[col] = igetitem(value, i)\n"
     ]
    },
    {
     "name": "stdout",
     "output_type": "stream",
     "text": [
      "Epoch 1/15\n",
      "152/152 [==============================] - 11s 60ms/step - loss: 0.3786 - val_loss: 0.0471\n",
      "Epoch 2/15\n",
      "152/152 [==============================] - 8s 52ms/step - loss: 0.3409 - val_loss: 0.0459\n",
      "Epoch 3/15\n",
      "152/152 [==============================] - 8s 52ms/step - loss: 0.3287 - val_loss: 0.0444\n",
      "Epoch 4/15\n",
      "152/152 [==============================] - 8s 52ms/step - loss: 0.3228 - val_loss: 0.0435\n",
      "Epoch 5/15\n",
      "152/152 [==============================] - 8s 52ms/step - loss: 0.3177 - val_loss: 0.0448\n",
      "Epoch 6/15\n",
      "152/152 [==============================] - 8s 52ms/step - loss: 0.3175 - val_loss: 0.0439\n",
      "Epoch 7/15\n",
      "152/152 [==============================] - 8s 52ms/step - loss: 0.3171 - val_loss: 0.0430\n",
      "Epoch 8/15\n",
      "152/152 [==============================] - 8s 52ms/step - loss: 0.3146 - val_loss: 0.0458\n",
      "Epoch 9/15\n",
      "152/152 [==============================] - 8s 52ms/step - loss: 0.3146 - val_loss: 0.0466\n",
      "Epoch 10/15\n",
      "152/152 [==============================] - 8s 52ms/step - loss: 0.3128 - val_loss: 0.0448\n",
      "Epoch 11/15\n",
      "152/152 [==============================] - 8s 54ms/step - loss: 0.3115 - val_loss: 0.0461\n",
      "Epoch 12/15\n",
      "152/152 [==============================] - 8s 52ms/step - loss: 0.3111 - val_loss: 0.0460\n",
      "Epoch 13/15\n",
      "152/152 [==============================] - 8s 52ms/step - loss: 0.3093 - val_loss: 0.0434\n",
      "Epoch 14/15\n",
      "152/152 [==============================] - 8s 52ms/step - loss: 0.3079 - val_loss: 0.0431\n",
      "Epoch 15/15\n",
      "152/152 [==============================] - 8s 52ms/step - loss: 0.3112 - val_loss: 0.0444\n"
     ]
    },
    {
     "name": "stderr",
     "output_type": "stream",
     "text": [
      "WARNING:absl:Found untraced functions such as lstm_cell_11_layer_call_fn, lstm_cell_11_layer_call_and_return_conditional_losses while saving (showing 2 of 2). These functions will not be directly callable after loading.\n"
     ]
    },
    {
     "name": "stdout",
     "output_type": "stream",
     "text": [
      "INFO:tensorflow:Assets written to: Hybrid Univarite3/month0_3_step_lookahead_Hybrid\\assets\n"
     ]
    },
    {
     "name": "stderr",
     "output_type": "stream",
     "text": [
      "INFO:tensorflow:Assets written to: Hybrid Univarite3/month0_3_step_lookahead_Hybrid\\assets\n",
      "WARNING:absl:<keras.layers.recurrent.LSTMCell object at 0x0000014D2A455280> has the same name 'LSTMCell' as a built-in Keras object. Consider renaming <class 'keras.layers.recurrent.LSTMCell'> to avoid naming conflicts when loading with `tf.keras.models.load_model`. If renaming is not possible, pass the object in the `custom_objects` parameter of the load function.\n"
     ]
    },
    {
     "name": "stdout",
     "output_type": "stream",
     "text": [
      "152/152 [==============================] - 4s 21ms/step\n",
      "65/65 [==============================] - 1s 19ms/step\n"
     ]
    },
    {
     "name": "stderr",
     "output_type": "stream",
     "text": [
      "D:\\Anaconda\\lib\\site-packages\\pandas\\core\\frame.py:3678: SettingWithCopyWarning: \n",
      "A value is trying to be set on a copy of a slice from a DataFrame.\n",
      "Try using .loc[row_indexer,col_indexer] = value instead\n",
      "\n",
      "See the caveats in the documentation: https://pandas.pydata.org/pandas-docs/stable/user_guide/indexing.html#returning-a-view-versus-a-copy\n",
      "  self[col] = igetitem(value, i)\n"
     ]
    },
    {
     "name": "stdout",
     "output_type": "stream",
     "text": [
      "Epoch 1/15\n",
      "152/152 [==============================] - 11s 56ms/step - loss: 0.4459 - val_loss: 0.0482\n",
      "Epoch 2/15\n",
      "152/152 [==============================] - 8s 52ms/step - loss: 0.3718 - val_loss: 0.0519\n",
      "Epoch 3/15\n",
      "152/152 [==============================] - 8s 52ms/step - loss: 0.3575 - val_loss: 0.0494\n",
      "Epoch 4/15\n",
      "152/152 [==============================] - 8s 52ms/step - loss: 0.3522 - val_loss: 0.0508\n",
      "Epoch 5/15\n",
      "152/152 [==============================] - 8s 52ms/step - loss: 0.3455 - val_loss: 0.0453\n",
      "Epoch 6/15\n",
      "152/152 [==============================] - 8s 52ms/step - loss: 0.3426 - val_loss: 0.0468\n",
      "Epoch 7/15\n",
      "152/152 [==============================] - 8s 52ms/step - loss: 0.3418 - val_loss: 0.0474\n",
      "Epoch 8/15\n",
      "152/152 [==============================] - 8s 52ms/step - loss: 0.3405 - val_loss: 0.0440\n",
      "Epoch 9/15\n",
      "152/152 [==============================] - 8s 52ms/step - loss: 0.3387 - val_loss: 0.0447\n",
      "Epoch 10/15\n",
      "152/152 [==============================] - 8s 51ms/step - loss: 0.3405 - val_loss: 0.0477\n",
      "Epoch 11/15\n",
      "152/152 [==============================] - 8s 52ms/step - loss: 0.3359 - val_loss: 0.0500\n",
      "Epoch 12/15\n",
      "152/152 [==============================] - 8s 52ms/step - loss: 0.3344 - val_loss: 0.0449\n",
      "Epoch 13/15\n",
      "152/152 [==============================] - 8s 52ms/step - loss: 0.3306 - val_loss: 0.0445\n",
      "Epoch 14/15\n",
      "152/152 [==============================] - 8s 52ms/step - loss: 0.3271 - val_loss: 0.0440\n",
      "Epoch 15/15\n",
      "152/152 [==============================] - 8s 52ms/step - loss: 0.3258 - val_loss: 0.0444\n"
     ]
    },
    {
     "name": "stderr",
     "output_type": "stream",
     "text": [
      "WARNING:absl:Found untraced functions such as lstm_cell_12_layer_call_fn, lstm_cell_12_layer_call_and_return_conditional_losses while saving (showing 2 of 2). These functions will not be directly callable after loading.\n"
     ]
    },
    {
     "name": "stdout",
     "output_type": "stream",
     "text": [
      "INFO:tensorflow:Assets written to: Hybrid Univarite3/month0_4_step_lookahead_Hybrid\\assets\n"
     ]
    },
    {
     "name": "stderr",
     "output_type": "stream",
     "text": [
      "INFO:tensorflow:Assets written to: Hybrid Univarite3/month0_4_step_lookahead_Hybrid\\assets\n",
      "WARNING:absl:<keras.layers.recurrent.LSTMCell object at 0x0000014D3373DC10> has the same name 'LSTMCell' as a built-in Keras object. Consider renaming <class 'keras.layers.recurrent.LSTMCell'> to avoid naming conflicts when loading with `tf.keras.models.load_model`. If renaming is not possible, pass the object in the `custom_objects` parameter of the load function.\n"
     ]
    },
    {
     "name": "stdout",
     "output_type": "stream",
     "text": [
      "152/152 [==============================] - 4s 21ms/step\n",
      "65/65 [==============================] - 1s 20ms/step\n"
     ]
    },
    {
     "name": "stderr",
     "output_type": "stream",
     "text": [
      "D:\\Anaconda\\lib\\site-packages\\pandas\\core\\frame.py:3678: SettingWithCopyWarning: \n",
      "A value is trying to be set on a copy of a slice from a DataFrame.\n",
      "Try using .loc[row_indexer,col_indexer] = value instead\n",
      "\n",
      "See the caveats in the documentation: https://pandas.pydata.org/pandas-docs/stable/user_guide/indexing.html#returning-a-view-versus-a-copy\n",
      "  self[col] = igetitem(value, i)\n"
     ]
    },
    {
     "name": "stdout",
     "output_type": "stream",
     "text": [
      "Epoch 1/15\n",
      "152/152 [==============================] - 11s 56ms/step - loss: 0.3938 - val_loss: 0.0455\n",
      "Epoch 2/15\n",
      "152/152 [==============================] - 8s 52ms/step - loss: 0.3677 - val_loss: 0.0485\n",
      "Epoch 3/15\n",
      "152/152 [==============================] - 8s 52ms/step - loss: 0.3580 - val_loss: 0.0445\n",
      "Epoch 4/15\n",
      "152/152 [==============================] - 8s 52ms/step - loss: 0.3538 - val_loss: 0.0458\n",
      "Epoch 5/15\n",
      "152/152 [==============================] - 8s 52ms/step - loss: 0.3500 - val_loss: 0.0541\n",
      "Epoch 6/15\n",
      "152/152 [==============================] - 8s 52ms/step - loss: 0.3483 - val_loss: 0.0444\n",
      "Epoch 7/15\n",
      "152/152 [==============================] - 9s 56ms/step - loss: 0.3502 - val_loss: 0.0485\n",
      "Epoch 8/15\n",
      "152/152 [==============================] - 8s 52ms/step - loss: 0.3441 - val_loss: 0.0448\n",
      "Epoch 9/15\n",
      "152/152 [==============================] - 8s 52ms/step - loss: 0.3420 - val_loss: 0.0441\n",
      "Epoch 10/15\n",
      "152/152 [==============================] - 8s 52ms/step - loss: 0.3438 - val_loss: 0.0445\n",
      "Epoch 11/15\n",
      "152/152 [==============================] - 8s 52ms/step - loss: 0.3396 - val_loss: 0.0459\n",
      "Epoch 12/15\n",
      "152/152 [==============================] - 8s 52ms/step - loss: 0.3407 - val_loss: 0.0510\n",
      "Epoch 13/15\n",
      "152/152 [==============================] - 8s 52ms/step - loss: 0.3354 - val_loss: 0.0519\n",
      "Epoch 14/15\n",
      "152/152 [==============================] - 8s 51ms/step - loss: 0.3345 - val_loss: 0.0449\n",
      "Epoch 15/15\n",
      "152/152 [==============================] - 8s 52ms/step - loss: 0.3363 - val_loss: 0.0481\n"
     ]
    },
    {
     "name": "stderr",
     "output_type": "stream",
     "text": [
      "WARNING:absl:Found untraced functions such as lstm_cell_13_layer_call_fn, lstm_cell_13_layer_call_and_return_conditional_losses while saving (showing 2 of 2). These functions will not be directly callable after loading.\n"
     ]
    },
    {
     "name": "stdout",
     "output_type": "stream",
     "text": [
      "INFO:tensorflow:Assets written to: Hybrid Univarite3/month0_5_step_lookahead_Hybrid\\assets\n"
     ]
    },
    {
     "name": "stderr",
     "output_type": "stream",
     "text": [
      "INFO:tensorflow:Assets written to: Hybrid Univarite3/month0_5_step_lookahead_Hybrid\\assets\n",
      "WARNING:absl:<keras.layers.recurrent.LSTMCell object at 0x0000014D354CF8E0> has the same name 'LSTMCell' as a built-in Keras object. Consider renaming <class 'keras.layers.recurrent.LSTMCell'> to avoid naming conflicts when loading with `tf.keras.models.load_model`. If renaming is not possible, pass the object in the `custom_objects` parameter of the load function.\n"
     ]
    },
    {
     "name": "stdout",
     "output_type": "stream",
     "text": [
      "152/152 [==============================] - 4s 21ms/step\n",
      "65/65 [==============================] - 1s 20ms/step\n"
     ]
    },
    {
     "name": "stderr",
     "output_type": "stream",
     "text": [
      "D:\\Anaconda\\lib\\site-packages\\pandas\\core\\frame.py:3678: SettingWithCopyWarning: \n",
      "A value is trying to be set on a copy of a slice from a DataFrame.\n",
      "Try using .loc[row_indexer,col_indexer] = value instead\n",
      "\n",
      "See the caveats in the documentation: https://pandas.pydata.org/pandas-docs/stable/user_guide/indexing.html#returning-a-view-versus-a-copy\n",
      "  self[col] = igetitem(value, i)\n"
     ]
    },
    {
     "name": "stdout",
     "output_type": "stream",
     "text": [
      "Epoch 1/15\n",
      "152/152 [==============================] - 11s 56ms/step - loss: 0.3967 - val_loss: 0.0498\n",
      "Epoch 2/15\n",
      "152/152 [==============================] - 8s 52ms/step - loss: 0.3700 - val_loss: 0.0461\n",
      "Epoch 3/15\n",
      "152/152 [==============================] - 8s 52ms/step - loss: 0.3645 - val_loss: 0.0484\n",
      "Epoch 4/15\n",
      "152/152 [==============================] - 8s 52ms/step - loss: 0.3598 - val_loss: 0.0456\n",
      "Epoch 5/15\n",
      "152/152 [==============================] - 10s 64ms/step - loss: 0.3582 - val_loss: 0.0449\n",
      "Epoch 6/15\n",
      "152/152 [==============================] - 8s 53ms/step - loss: 0.3566 - val_loss: 0.0464\n",
      "Epoch 7/15\n",
      "152/152 [==============================] - 8s 53ms/step - loss: 0.3552 - val_loss: 0.0448\n",
      "Epoch 8/15\n",
      "152/152 [==============================] - 8s 53ms/step - loss: 0.3546 - val_loss: 0.0444\n",
      "Epoch 9/15\n",
      "152/152 [==============================] - 8s 53ms/step - loss: 0.3548 - val_loss: 0.0461\n",
      "Epoch 10/15\n",
      "152/152 [==============================] - 8s 53ms/step - loss: 0.3523 - val_loss: 0.0499\n",
      "Epoch 11/15\n",
      "152/152 [==============================] - 8s 53ms/step - loss: 0.3507 - val_loss: 0.0455\n",
      "Epoch 12/15\n",
      "152/152 [==============================] - 8s 52ms/step - loss: 0.3502 - val_loss: 0.0548\n",
      "Epoch 13/15\n",
      "152/152 [==============================] - 8s 52ms/step - loss: 0.3491 - val_loss: 0.0468\n",
      "Epoch 14/15\n",
      "152/152 [==============================] - 8s 52ms/step - loss: 0.3489 - val_loss: 0.0496\n",
      "Epoch 15/15\n",
      "152/152 [==============================] - 8s 52ms/step - loss: 0.3454 - val_loss: 0.0504\n"
     ]
    },
    {
     "name": "stderr",
     "output_type": "stream",
     "text": [
      "WARNING:absl:Found untraced functions such as lstm_cell_14_layer_call_fn, lstm_cell_14_layer_call_and_return_conditional_losses while saving (showing 2 of 2). These functions will not be directly callable after loading.\n"
     ]
    },
    {
     "name": "stdout",
     "output_type": "stream",
     "text": [
      "INFO:tensorflow:Assets written to: Hybrid Univarite3/month0_6_step_lookahead_Hybrid\\assets\n"
     ]
    },
    {
     "name": "stderr",
     "output_type": "stream",
     "text": [
      "INFO:tensorflow:Assets written to: Hybrid Univarite3/month0_6_step_lookahead_Hybrid\\assets\n",
      "WARNING:absl:<keras.layers.recurrent.LSTMCell object at 0x0000014D37016730> has the same name 'LSTMCell' as a built-in Keras object. Consider renaming <class 'keras.layers.recurrent.LSTMCell'> to avoid naming conflicts when loading with `tf.keras.models.load_model`. If renaming is not possible, pass the object in the `custom_objects` parameter of the load function.\n"
     ]
    },
    {
     "name": "stdout",
     "output_type": "stream",
     "text": [
      "152/152 [==============================] - 4s 21ms/step\n",
      "65/65 [==============================] - 1s 19ms/step\n"
     ]
    },
    {
     "name": "stderr",
     "output_type": "stream",
     "text": [
      "D:\\Anaconda\\lib\\site-packages\\pandas\\core\\frame.py:3678: SettingWithCopyWarning: \n",
      "A value is trying to be set on a copy of a slice from a DataFrame.\n",
      "Try using .loc[row_indexer,col_indexer] = value instead\n",
      "\n",
      "See the caveats in the documentation: https://pandas.pydata.org/pandas-docs/stable/user_guide/indexing.html#returning-a-view-versus-a-copy\n",
      "  self[col] = igetitem(value, i)\n"
     ]
    },
    {
     "name": "stdout",
     "output_type": "stream",
     "text": [
      "Epoch 1/15\n",
      "152/152 [==============================] - 11s 55ms/step - loss: 0.3840 - val_loss: 0.0565\n",
      "Epoch 2/15\n",
      "152/152 [==============================] - 8s 52ms/step - loss: 0.3747 - val_loss: 0.0503\n",
      "Epoch 3/15\n",
      "152/152 [==============================] - 8s 53ms/step - loss: 0.3699 - val_loss: 0.0564\n",
      "Epoch 4/15\n",
      "152/152 [==============================] - 8s 52ms/step - loss: 0.3705 - val_loss: 0.0513\n",
      "Epoch 5/15\n",
      "152/152 [==============================] - 8s 52ms/step - loss: 0.3666 - val_loss: 0.0510\n",
      "Epoch 6/15\n",
      "152/152 [==============================] - 8s 53ms/step - loss: 0.3684 - val_loss: 0.0524\n",
      "Epoch 7/15\n",
      "152/152 [==============================] - 9s 59ms/step - loss: 0.3660 - val_loss: 0.0540\n",
      "Epoch 8/15\n",
      "152/152 [==============================] - 9s 57ms/step - loss: 0.3651 - val_loss: 0.0527\n",
      "Epoch 9/15\n",
      "152/152 [==============================] - 9s 57ms/step - loss: 0.3661 - val_loss: 0.0529\n",
      "Epoch 10/15\n",
      "152/152 [==============================] - 9s 56ms/step - loss: 0.3644 - val_loss: 0.0530\n",
      "Epoch 11/15\n",
      "152/152 [==============================] - 8s 55ms/step - loss: 0.3637 - val_loss: 0.0536\n",
      "Epoch 12/15\n",
      "152/152 [==============================] - 8s 55ms/step - loss: 0.3652 - val_loss: 0.0509\n",
      "Epoch 13/15\n",
      "152/152 [==============================] - 8s 55ms/step - loss: 0.3659 - val_loss: 0.0499\n",
      "Epoch 14/15\n",
      "152/152 [==============================] - 8s 56ms/step - loss: 0.3629 - val_loss: 0.0507\n",
      "Epoch 15/15\n",
      "152/152 [==============================] - 8s 55ms/step - loss: 0.3653 - val_loss: 0.0504\n"
     ]
    },
    {
     "name": "stderr",
     "output_type": "stream",
     "text": [
      "WARNING:absl:Found untraced functions such as lstm_cell_15_layer_call_fn, lstm_cell_15_layer_call_and_return_conditional_losses while saving (showing 2 of 2). These functions will not be directly callable after loading.\n"
     ]
    },
    {
     "name": "stdout",
     "output_type": "stream",
     "text": [
      "INFO:tensorflow:Assets written to: Hybrid Univarite3/month0_7_step_lookahead_Hybrid\\assets\n"
     ]
    },
    {
     "name": "stderr",
     "output_type": "stream",
     "text": [
      "INFO:tensorflow:Assets written to: Hybrid Univarite3/month0_7_step_lookahead_Hybrid\\assets\n",
      "WARNING:absl:<keras.layers.recurrent.LSTMCell object at 0x0000014D42680B20> has the same name 'LSTMCell' as a built-in Keras object. Consider renaming <class 'keras.layers.recurrent.LSTMCell'> to avoid naming conflicts when loading with `tf.keras.models.load_model`. If renaming is not possible, pass the object in the `custom_objects` parameter of the load function.\n"
     ]
    },
    {
     "name": "stdout",
     "output_type": "stream",
     "text": [
      "152/152 [==============================] - 4s 22ms/step\n",
      "65/65 [==============================] - 1s 20ms/step\n"
     ]
    },
    {
     "name": "stderr",
     "output_type": "stream",
     "text": [
      "D:\\Anaconda\\lib\\site-packages\\pandas\\core\\frame.py:3678: SettingWithCopyWarning: \n",
      "A value is trying to be set on a copy of a slice from a DataFrame.\n",
      "Try using .loc[row_indexer,col_indexer] = value instead\n",
      "\n",
      "See the caveats in the documentation: https://pandas.pydata.org/pandas-docs/stable/user_guide/indexing.html#returning-a-view-versus-a-copy\n",
      "  self[col] = igetitem(value, i)\n"
     ]
    },
    {
     "name": "stdout",
     "output_type": "stream",
     "text": [
      "Epoch 1/15\n",
      "152/152 [==============================] - 11s 59ms/step - loss: 0.3969 - val_loss: 0.0526\n",
      "Epoch 2/15\n",
      "152/152 [==============================] - 8s 55ms/step - loss: 0.3822 - val_loss: 0.0528\n",
      "Epoch 3/15\n",
      "152/152 [==============================] - 8s 55ms/step - loss: 0.3798 - val_loss: 0.0513\n",
      "Epoch 4/15\n",
      "152/152 [==============================] - 8s 55ms/step - loss: 0.3780 - val_loss: 0.0513\n",
      "Epoch 5/15\n",
      "152/152 [==============================] - 8s 56ms/step - loss: 0.3778 - val_loss: 0.0543\n",
      "Epoch 6/15\n",
      "152/152 [==============================] - 8s 55ms/step - loss: 0.3771 - val_loss: 0.0595\n",
      "Epoch 7/15\n",
      "152/152 [==============================] - 8s 55ms/step - loss: 0.3767 - val_loss: 0.0499\n",
      "Epoch 8/15\n",
      "152/152 [==============================] - 8s 55ms/step - loss: 0.3807 - val_loss: 0.0520\n",
      "Epoch 9/15\n",
      "152/152 [==============================] - 8s 55ms/step - loss: 0.3757 - val_loss: 0.0511\n",
      "Epoch 10/15\n",
      "152/152 [==============================] - 8s 56ms/step - loss: 0.3752 - val_loss: 0.0548\n",
      "Epoch 11/15\n",
      "152/152 [==============================] - 8s 55ms/step - loss: 0.3744 - val_loss: 0.0504\n",
      "Epoch 12/15\n",
      "152/152 [==============================] - 8s 54ms/step - loss: 0.3749 - val_loss: 0.0572\n",
      "Epoch 13/15\n",
      "152/152 [==============================] - 8s 53ms/step - loss: 0.3738 - val_loss: 0.0539\n",
      "Epoch 14/15\n",
      "152/152 [==============================] - 8s 53ms/step - loss: 0.3755 - val_loss: 0.0502\n",
      "Epoch 15/15\n",
      "152/152 [==============================] - 8s 52ms/step - loss: 0.3746 - val_loss: 0.0507\n"
     ]
    },
    {
     "name": "stderr",
     "output_type": "stream",
     "text": [
      "WARNING:absl:Found untraced functions such as lstm_cell_16_layer_call_fn, lstm_cell_16_layer_call_and_return_conditional_losses while saving (showing 2 of 2). These functions will not be directly callable after loading.\n"
     ]
    },
    {
     "name": "stdout",
     "output_type": "stream",
     "text": [
      "INFO:tensorflow:Assets written to: Hybrid Univarite3/month0_8_step_lookahead_Hybrid\\assets\n"
     ]
    },
    {
     "name": "stderr",
     "output_type": "stream",
     "text": [
      "INFO:tensorflow:Assets written to: Hybrid Univarite3/month0_8_step_lookahead_Hybrid\\assets\n",
      "WARNING:absl:<keras.layers.recurrent.LSTMCell object at 0x0000014D348A6CA0> has the same name 'LSTMCell' as a built-in Keras object. Consider renaming <class 'keras.layers.recurrent.LSTMCell'> to avoid naming conflicts when loading with `tf.keras.models.load_model`. If renaming is not possible, pass the object in the `custom_objects` parameter of the load function.\n"
     ]
    },
    {
     "name": "stdout",
     "output_type": "stream",
     "text": [
      "152/152 [==============================] - 4s 21ms/step\n",
      "65/65 [==============================] - 1s 19ms/step\n"
     ]
    },
    {
     "name": "stderr",
     "output_type": "stream",
     "text": [
      "D:\\Anaconda\\lib\\site-packages\\pandas\\core\\frame.py:3678: SettingWithCopyWarning: \n",
      "A value is trying to be set on a copy of a slice from a DataFrame.\n",
      "Try using .loc[row_indexer,col_indexer] = value instead\n",
      "\n",
      "See the caveats in the documentation: https://pandas.pydata.org/pandas-docs/stable/user_guide/indexing.html#returning-a-view-versus-a-copy\n",
      "  self[col] = igetitem(value, i)\n"
     ]
    },
    {
     "name": "stdout",
     "output_type": "stream",
     "text": [
      "Epoch 1/15\n",
      "151/151 [==============================] - 10s 55ms/step - loss: 0.4267 - val_loss: 0.0548\n",
      "Epoch 2/15\n",
      "151/151 [==============================] - 8s 51ms/step - loss: 0.3962 - val_loss: 0.0561\n",
      "Epoch 3/15\n",
      "151/151 [==============================] - 8s 51ms/step - loss: 0.3913 - val_loss: 0.0512\n",
      "Epoch 4/15\n",
      "151/151 [==============================] - 8s 51ms/step - loss: 0.3896 - val_loss: 0.0516\n",
      "Epoch 5/15\n",
      "151/151 [==============================] - 8s 51ms/step - loss: 0.3879 - val_loss: 0.0562\n",
      "Epoch 6/15\n",
      "151/151 [==============================] - 8s 50ms/step - loss: 0.3876 - val_loss: 0.0524\n",
      "Epoch 7/15\n",
      "151/151 [==============================] - 8s 51ms/step - loss: 0.3882 - val_loss: 0.0548\n",
      "Epoch 8/15\n",
      "151/151 [==============================] - 8s 51ms/step - loss: 0.3865 - val_loss: 0.0508\n",
      "Epoch 9/15\n",
      "151/151 [==============================] - 8s 52ms/step - loss: 0.3864 - val_loss: 0.0514\n",
      "Epoch 10/15\n",
      "151/151 [==============================] - 8s 53ms/step - loss: 0.3851 - val_loss: 0.0558\n",
      "Epoch 11/15\n",
      "151/151 [==============================] - 8s 53ms/step - loss: 0.3848 - val_loss: 0.0563\n",
      "Epoch 12/15\n",
      "151/151 [==============================] - 8s 54ms/step - loss: 0.3871 - val_loss: 0.0527\n",
      "Epoch 13/15\n",
      "151/151 [==============================] - 8s 51ms/step - loss: 0.3854 - val_loss: 0.0530\n",
      "Epoch 14/15\n",
      "151/151 [==============================] - 8s 51ms/step - loss: 0.3837 - val_loss: 0.0500\n",
      "Epoch 15/15\n",
      "151/151 [==============================] - 8s 52ms/step - loss: 0.3829 - val_loss: 0.0545\n"
     ]
    },
    {
     "name": "stderr",
     "output_type": "stream",
     "text": [
      "WARNING:absl:Found untraced functions such as lstm_cell_17_layer_call_fn, lstm_cell_17_layer_call_and_return_conditional_losses while saving (showing 2 of 2). These functions will not be directly callable after loading.\n"
     ]
    },
    {
     "name": "stdout",
     "output_type": "stream",
     "text": [
      "INFO:tensorflow:Assets written to: Hybrid Univarite3/month0_9_step_lookahead_Hybrid\\assets\n"
     ]
    },
    {
     "name": "stderr",
     "output_type": "stream",
     "text": [
      "INFO:tensorflow:Assets written to: Hybrid Univarite3/month0_9_step_lookahead_Hybrid\\assets\n",
      "WARNING:absl:<keras.layers.recurrent.LSTMCell object at 0x0000014D36E4D580> has the same name 'LSTMCell' as a built-in Keras object. Consider renaming <class 'keras.layers.recurrent.LSTMCell'> to avoid naming conflicts when loading with `tf.keras.models.load_model`. If renaming is not possible, pass the object in the `custom_objects` parameter of the load function.\n"
     ]
    },
    {
     "name": "stdout",
     "output_type": "stream",
     "text": [
      "151/151 [==============================] - 3s 20ms/step\n",
      "65/65 [==============================] - 2s 20ms/step\n"
     ]
    },
    {
     "name": "stderr",
     "output_type": "stream",
     "text": [
      "D:\\Anaconda\\lib\\site-packages\\pandas\\core\\frame.py:3678: SettingWithCopyWarning: \n",
      "A value is trying to be set on a copy of a slice from a DataFrame.\n",
      "Try using .loc[row_indexer,col_indexer] = value instead\n",
      "\n",
      "See the caveats in the documentation: https://pandas.pydata.org/pandas-docs/stable/user_guide/indexing.html#returning-a-view-versus-a-copy\n",
      "  self[col] = igetitem(value, i)\n"
     ]
    },
    {
     "name": "stdout",
     "output_type": "stream",
     "text": [
      "Epoch 1/15\n",
      "151/151 [==============================] - 10s 56ms/step - loss: 0.4070 - val_loss: 0.0571\n",
      "Epoch 2/15\n",
      "151/151 [==============================] - 8s 54ms/step - loss: 0.3924 - val_loss: 0.0560\n",
      "Epoch 3/15\n",
      "151/151 [==============================] - 8s 51ms/step - loss: 0.3915 - val_loss: 0.0571\n",
      "Epoch 4/15\n",
      "151/151 [==============================] - 8s 50ms/step - loss: 0.3909 - val_loss: 0.0599\n",
      "Epoch 5/15\n",
      "151/151 [==============================] - 8s 51ms/step - loss: 0.3915 - val_loss: 0.0552\n",
      "Epoch 6/15\n",
      "151/151 [==============================] - 8s 50ms/step - loss: 0.3907 - val_loss: 0.0588\n",
      "Epoch 7/15\n",
      "151/151 [==============================] - 8s 50ms/step - loss: 0.3903 - val_loss: 0.0562\n",
      "Epoch 8/15\n",
      "151/151 [==============================] - 8s 50ms/step - loss: 0.3899 - val_loss: 0.0560\n",
      "Epoch 9/15\n",
      "151/151 [==============================] - 8s 50ms/step - loss: 0.3900 - val_loss: 0.0549\n",
      "Epoch 10/15\n",
      "151/151 [==============================] - 8s 51ms/step - loss: 0.3897 - val_loss: 0.0558\n",
      "Epoch 11/15\n",
      "151/151 [==============================] - 8s 50ms/step - loss: 0.3896 - val_loss: 0.0557\n",
      "Epoch 12/15\n",
      "151/151 [==============================] - 8s 50ms/step - loss: 0.3888 - val_loss: 0.0569\n",
      "Epoch 13/15\n",
      "151/151 [==============================] - 8s 51ms/step - loss: 0.3901 - val_loss: 0.0547\n",
      "Epoch 14/15\n",
      "151/151 [==============================] - 8s 50ms/step - loss: 0.3889 - val_loss: 0.0577\n",
      "Epoch 15/15\n",
      "151/151 [==============================] - 8s 50ms/step - loss: 0.3885 - val_loss: 0.0568\n"
     ]
    },
    {
     "name": "stderr",
     "output_type": "stream",
     "text": [
      "WARNING:absl:Found untraced functions such as lstm_cell_18_layer_call_fn, lstm_cell_18_layer_call_and_return_conditional_losses while saving (showing 2 of 2). These functions will not be directly callable after loading.\n"
     ]
    },
    {
     "name": "stdout",
     "output_type": "stream",
     "text": [
      "INFO:tensorflow:Assets written to: Hybrid Univarite3/month0_10_step_lookahead_Hybrid\\assets\n"
     ]
    },
    {
     "name": "stderr",
     "output_type": "stream",
     "text": [
      "INFO:tensorflow:Assets written to: Hybrid Univarite3/month0_10_step_lookahead_Hybrid\\assets\n",
      "WARNING:absl:<keras.layers.recurrent.LSTMCell object at 0x0000014D33D580A0> has the same name 'LSTMCell' as a built-in Keras object. Consider renaming <class 'keras.layers.recurrent.LSTMCell'> to avoid naming conflicts when loading with `tf.keras.models.load_model`. If renaming is not possible, pass the object in the `custom_objects` parameter of the load function.\n"
     ]
    },
    {
     "name": "stdout",
     "output_type": "stream",
     "text": [
      "151/151 [==============================] - 4s 20ms/step\n",
      "65/65 [==============================] - 2s 19ms/step\n"
     ]
    },
    {
     "name": "stderr",
     "output_type": "stream",
     "text": [
      "D:\\Anaconda\\lib\\site-packages\\pandas\\core\\frame.py:3678: SettingWithCopyWarning: \n",
      "A value is trying to be set on a copy of a slice from a DataFrame.\n",
      "Try using .loc[row_indexer,col_indexer] = value instead\n",
      "\n",
      "See the caveats in the documentation: https://pandas.pydata.org/pandas-docs/stable/user_guide/indexing.html#returning-a-view-versus-a-copy\n",
      "  self[col] = igetitem(value, i)\n",
      "D:\\Anaconda\\lib\\site-packages\\pandas\\core\\frame.py:3678: SettingWithCopyWarning: \n",
      "A value is trying to be set on a copy of a slice from a DataFrame.\n",
      "Try using .loc[row_indexer,col_indexer] = value instead\n",
      "\n",
      "See the caveats in the documentation: https://pandas.pydata.org/pandas-docs/stable/user_guide/indexing.html#returning-a-view-versus-a-copy\n",
      "  self[col] = igetitem(value, i)\n"
     ]
    },
    {
     "name": "stdout",
     "output_type": "stream",
     "text": [
      "Epoch 1/15\n",
      "158/158 [==============================] - 11s 55ms/step - loss: 0.9693 - val_loss: 0.4824\n",
      "Epoch 2/15\n",
      "158/158 [==============================] - 8s 52ms/step - loss: 0.4131 - val_loss: 0.3935\n",
      "Epoch 3/15\n",
      "158/158 [==============================] - 8s 51ms/step - loss: 0.3631 - val_loss: 0.3486\n",
      "Epoch 4/15\n",
      "158/158 [==============================] - 8s 51ms/step - loss: 0.3364 - val_loss: 0.3188\n",
      "Epoch 5/15\n",
      "158/158 [==============================] - 8s 52ms/step - loss: 0.3121 - val_loss: 0.2982\n",
      "Epoch 6/15\n",
      "158/158 [==============================] - 8s 52ms/step - loss: 0.2964 - val_loss: 0.2832\n",
      "Epoch 7/15\n",
      "158/158 [==============================] - 8s 52ms/step - loss: 0.2848 - val_loss: 0.2704\n",
      "Epoch 8/15\n",
      "158/158 [==============================] - 8s 52ms/step - loss: 0.2776 - val_loss: 0.2619\n",
      "Epoch 9/15\n",
      "158/158 [==============================] - 8s 52ms/step - loss: 0.2680 - val_loss: 0.2544\n",
      "Epoch 10/15\n",
      "158/158 [==============================] - 8s 52ms/step - loss: 0.2686 - val_loss: 0.2461\n",
      "Epoch 11/15\n",
      "158/158 [==============================] - 8s 51ms/step - loss: 0.2617 - val_loss: 0.2418\n",
      "Epoch 12/15\n",
      "158/158 [==============================] - 8s 53ms/step - loss: 0.2552 - val_loss: 0.2381\n",
      "Epoch 13/15\n",
      "158/158 [==============================] - 8s 52ms/step - loss: 0.2536 - val_loss: 0.2353\n",
      "Epoch 14/15\n",
      "158/158 [==============================] - 8s 51ms/step - loss: 0.2624 - val_loss: 0.2337\n",
      "Epoch 15/15\n",
      "158/158 [==============================] - 8s 52ms/step - loss: 0.2540 - val_loss: 0.2320\n"
     ]
    },
    {
     "name": "stderr",
     "output_type": "stream",
     "text": [
      "WARNING:absl:Found untraced functions such as lstm_cell_19_layer_call_fn, lstm_cell_19_layer_call_and_return_conditional_losses while saving (showing 2 of 2). These functions will not be directly callable after loading.\n"
     ]
    },
    {
     "name": "stdout",
     "output_type": "stream",
     "text": [
      "INFO:tensorflow:Assets written to: Hybrid Univarite3/month1_1_step_lookahead_Hybrid\\assets\n"
     ]
    },
    {
     "name": "stderr",
     "output_type": "stream",
     "text": [
      "INFO:tensorflow:Assets written to: Hybrid Univarite3/month1_1_step_lookahead_Hybrid\\assets\n",
      "WARNING:absl:<keras.layers.recurrent.LSTMCell object at 0x0000014FF8BB26A0> has the same name 'LSTMCell' as a built-in Keras object. Consider renaming <class 'keras.layers.recurrent.LSTMCell'> to avoid naming conflicts when loading with `tf.keras.models.load_model`. If renaming is not possible, pass the object in the `custom_objects` parameter of the load function.\n"
     ]
    },
    {
     "name": "stdout",
     "output_type": "stream",
     "text": [
      "158/158 [==============================] - 4s 22ms/step\n",
      "68/68 [==============================] - 1s 21ms/step\n"
     ]
    },
    {
     "name": "stderr",
     "output_type": "stream",
     "text": [
      "D:\\Anaconda\\lib\\site-packages\\pandas\\core\\frame.py:3678: SettingWithCopyWarning: \n",
      "A value is trying to be set on a copy of a slice from a DataFrame.\n",
      "Try using .loc[row_indexer,col_indexer] = value instead\n",
      "\n",
      "See the caveats in the documentation: https://pandas.pydata.org/pandas-docs/stable/user_guide/indexing.html#returning-a-view-versus-a-copy\n",
      "  self[col] = igetitem(value, i)\n"
     ]
    },
    {
     "name": "stdout",
     "output_type": "stream",
     "text": [
      "Epoch 1/15\n",
      "158/158 [==============================] - 11s 55ms/step - loss: 0.4820 - val_loss: 0.3526\n",
      "Epoch 2/15\n",
      "158/158 [==============================] - 8s 52ms/step - loss: 0.3912 - val_loss: 0.3100\n",
      "Epoch 3/15\n",
      "158/158 [==============================] - 8s 51ms/step - loss: 0.3799 - val_loss: 0.2932\n",
      "Epoch 4/15\n",
      "158/158 [==============================] - 8s 52ms/step - loss: 0.3790 - val_loss: 0.2862\n",
      "Epoch 5/15\n",
      "158/158 [==============================] - 8s 52ms/step - loss: 0.3743 - val_loss: 0.2812\n",
      "Epoch 6/15\n",
      "158/158 [==============================] - 8s 52ms/step - loss: 0.3746 - val_loss: 0.2746\n",
      "Epoch 7/15\n",
      "158/158 [==============================] - 8s 52ms/step - loss: 0.3708 - val_loss: 0.2739\n",
      "Epoch 8/15\n",
      "158/158 [==============================] - 8s 51ms/step - loss: 0.3688 - val_loss: 0.2747\n",
      "Epoch 9/15\n",
      "158/158 [==============================] - 8s 51ms/step - loss: 0.3721 - val_loss: 0.2718\n",
      "Epoch 10/15\n",
      "158/158 [==============================] - 8s 53ms/step - loss: 0.3686 - val_loss: 0.2699\n",
      "Epoch 11/15\n",
      "158/158 [==============================] - 8s 52ms/step - loss: 0.3697 - val_loss: 0.2647\n",
      "Epoch 12/15\n",
      "158/158 [==============================] - 8s 52ms/step - loss: 0.3667 - val_loss: 0.2626\n",
      "Epoch 13/15\n",
      "158/158 [==============================] - 8s 51ms/step - loss: 0.3704 - val_loss: 0.2658\n",
      "Epoch 14/15\n",
      "158/158 [==============================] - 8s 51ms/step - loss: 0.3676 - val_loss: 0.2640\n",
      "Epoch 15/15\n",
      "158/158 [==============================] - 8s 51ms/step - loss: 0.3656 - val_loss: 0.2613\n"
     ]
    },
    {
     "name": "stderr",
     "output_type": "stream",
     "text": [
      "WARNING:absl:Found untraced functions such as lstm_cell_20_layer_call_fn, lstm_cell_20_layer_call_and_return_conditional_losses while saving (showing 2 of 2). These functions will not be directly callable after loading.\n"
     ]
    },
    {
     "name": "stdout",
     "output_type": "stream",
     "text": [
      "INFO:tensorflow:Assets written to: Hybrid Univarite3/month1_2_step_lookahead_Hybrid\\assets\n"
     ]
    },
    {
     "name": "stderr",
     "output_type": "stream",
     "text": [
      "INFO:tensorflow:Assets written to: Hybrid Univarite3/month1_2_step_lookahead_Hybrid\\assets\n",
      "WARNING:absl:<keras.layers.recurrent.LSTMCell object at 0x0000014D33747E80> has the same name 'LSTMCell' as a built-in Keras object. Consider renaming <class 'keras.layers.recurrent.LSTMCell'> to avoid naming conflicts when loading with `tf.keras.models.load_model`. If renaming is not possible, pass the object in the `custom_objects` parameter of the load function.\n"
     ]
    },
    {
     "name": "stdout",
     "output_type": "stream",
     "text": [
      "158/158 [==============================] - 4s 21ms/step\n",
      "68/68 [==============================] - 1s 19ms/step\n"
     ]
    },
    {
     "name": "stderr",
     "output_type": "stream",
     "text": [
      "D:\\Anaconda\\lib\\site-packages\\pandas\\core\\frame.py:3678: SettingWithCopyWarning: \n",
      "A value is trying to be set on a copy of a slice from a DataFrame.\n",
      "Try using .loc[row_indexer,col_indexer] = value instead\n",
      "\n",
      "See the caveats in the documentation: https://pandas.pydata.org/pandas-docs/stable/user_guide/indexing.html#returning-a-view-versus-a-copy\n",
      "  self[col] = igetitem(value, i)\n"
     ]
    },
    {
     "name": "stdout",
     "output_type": "stream",
     "text": [
      "Epoch 1/15\n",
      "158/158 [==============================] - 11s 56ms/step - loss: 0.5445 - val_loss: 0.3890\n",
      "Epoch 2/15\n",
      "158/158 [==============================] - 8s 52ms/step - loss: 0.4368 - val_loss: 0.3477\n",
      "Epoch 3/15\n",
      "158/158 [==============================] - 8s 52ms/step - loss: 0.4300 - val_loss: 0.3266\n",
      "Epoch 4/15\n",
      "158/158 [==============================] - 8s 52ms/step - loss: 0.4259 - val_loss: 0.3197\n",
      "Epoch 5/15\n",
      "158/158 [==============================] - 8s 52ms/step - loss: 0.4216 - val_loss: 0.3075\n",
      "Epoch 6/15\n",
      "158/158 [==============================] - 8s 52ms/step - loss: 0.4195 - val_loss: 0.2966\n",
      "Epoch 7/15\n",
      "158/158 [==============================] - 8s 51ms/step - loss: 0.4170 - val_loss: 0.3018\n",
      "Epoch 8/15\n",
      "158/158 [==============================] - 8s 51ms/step - loss: 0.4165 - val_loss: 0.2979\n",
      "Epoch 9/15\n",
      "158/158 [==============================] - 8s 51ms/step - loss: 0.4129 - val_loss: 0.2916\n",
      "Epoch 10/15\n",
      "158/158 [==============================] - 8s 52ms/step - loss: 0.4147 - val_loss: 0.2952\n",
      "Epoch 11/15\n",
      "158/158 [==============================] - 8s 51ms/step - loss: 0.4127 - val_loss: 0.2951\n",
      "Epoch 12/15\n",
      "158/158 [==============================] - 8s 51ms/step - loss: 0.4117 - val_loss: 0.2953\n",
      "Epoch 13/15\n",
      "158/158 [==============================] - 8s 51ms/step - loss: 0.4126 - val_loss: 0.3001\n",
      "Epoch 14/15\n",
      "158/158 [==============================] - 8s 51ms/step - loss: 0.4124 - val_loss: 0.3065\n",
      "Epoch 15/15\n",
      "158/158 [==============================] - 8s 51ms/step - loss: 0.4147 - val_loss: 0.2946\n"
     ]
    },
    {
     "name": "stderr",
     "output_type": "stream",
     "text": [
      "WARNING:absl:Found untraced functions such as lstm_cell_21_layer_call_fn, lstm_cell_21_layer_call_and_return_conditional_losses while saving (showing 2 of 2). These functions will not be directly callable after loading.\n"
     ]
    },
    {
     "name": "stdout",
     "output_type": "stream",
     "text": [
      "INFO:tensorflow:Assets written to: Hybrid Univarite3/month1_3_step_lookahead_Hybrid\\assets\n"
     ]
    },
    {
     "name": "stderr",
     "output_type": "stream",
     "text": [
      "INFO:tensorflow:Assets written to: Hybrid Univarite3/month1_3_step_lookahead_Hybrid\\assets\n",
      "WARNING:absl:<keras.layers.recurrent.LSTMCell object at 0x000001503A554A30> has the same name 'LSTMCell' as a built-in Keras object. Consider renaming <class 'keras.layers.recurrent.LSTMCell'> to avoid naming conflicts when loading with `tf.keras.models.load_model`. If renaming is not possible, pass the object in the `custom_objects` parameter of the load function.\n"
     ]
    },
    {
     "name": "stdout",
     "output_type": "stream",
     "text": [
      "158/158 [==============================] - 4s 21ms/step\n",
      "68/68 [==============================] - 1s 19ms/step\n"
     ]
    },
    {
     "name": "stderr",
     "output_type": "stream",
     "text": [
      "D:\\Anaconda\\lib\\site-packages\\pandas\\core\\frame.py:3678: SettingWithCopyWarning: \n",
      "A value is trying to be set on a copy of a slice from a DataFrame.\n",
      "Try using .loc[row_indexer,col_indexer] = value instead\n",
      "\n",
      "See the caveats in the documentation: https://pandas.pydata.org/pandas-docs/stable/user_guide/indexing.html#returning-a-view-versus-a-copy\n",
      "  self[col] = igetitem(value, i)\n"
     ]
    },
    {
     "name": "stdout",
     "output_type": "stream",
     "text": [
      "Epoch 1/15\n",
      "158/158 [==============================] - 11s 55ms/step - loss: 0.5027 - val_loss: 0.3615\n",
      "Epoch 2/15\n",
      "158/158 [==============================] - 8s 52ms/step - loss: 0.4561 - val_loss: 0.3424\n",
      "Epoch 3/15\n",
      "158/158 [==============================] - 8s 52ms/step - loss: 0.4513 - val_loss: 0.3267\n",
      "Epoch 4/15\n",
      "158/158 [==============================] - 9s 54ms/step - loss: 0.4493 - val_loss: 0.3242\n",
      "Epoch 5/15\n",
      "158/158 [==============================] - 8s 52ms/step - loss: 0.4466 - val_loss: 0.3174\n",
      "Epoch 6/15\n",
      "158/158 [==============================] - 8s 52ms/step - loss: 0.4466 - val_loss: 0.3135\n",
      "Epoch 7/15\n",
      "158/158 [==============================] - 8s 52ms/step - loss: 0.4447 - val_loss: 0.3113\n",
      "Epoch 8/15\n",
      "158/158 [==============================] - 8s 51ms/step - loss: 0.4430 - val_loss: 0.3213\n",
      "Epoch 9/15\n",
      "158/158 [==============================] - 8s 51ms/step - loss: 0.4462 - val_loss: 0.3141\n",
      "Epoch 10/15\n",
      "158/158 [==============================] - 8s 51ms/step - loss: 0.4428 - val_loss: 0.3062\n",
      "Epoch 11/15\n",
      "158/158 [==============================] - 8s 51ms/step - loss: 0.4405 - val_loss: 0.3290\n",
      "Epoch 12/15\n",
      "158/158 [==============================] - 8s 51ms/step - loss: 0.4413 - val_loss: 0.3187\n",
      "Epoch 13/15\n",
      "158/158 [==============================] - 8s 51ms/step - loss: 0.4392 - val_loss: 0.3211\n",
      "Epoch 14/15\n",
      "158/158 [==============================] - 8s 51ms/step - loss: 0.4370 - val_loss: 0.3327\n",
      "Epoch 15/15\n",
      "158/158 [==============================] - 8s 51ms/step - loss: 0.4367 - val_loss: 0.3223\n"
     ]
    },
    {
     "name": "stderr",
     "output_type": "stream",
     "text": [
      "WARNING:absl:Found untraced functions such as lstm_cell_22_layer_call_fn, lstm_cell_22_layer_call_and_return_conditional_losses while saving (showing 2 of 2). These functions will not be directly callable after loading.\n"
     ]
    },
    {
     "name": "stdout",
     "output_type": "stream",
     "text": [
      "INFO:tensorflow:Assets written to: Hybrid Univarite3/month1_4_step_lookahead_Hybrid\\assets\n"
     ]
    },
    {
     "name": "stderr",
     "output_type": "stream",
     "text": [
      "INFO:tensorflow:Assets written to: Hybrid Univarite3/month1_4_step_lookahead_Hybrid\\assets\n",
      "WARNING:absl:<keras.layers.recurrent.LSTMCell object at 0x0000014D3493C0D0> has the same name 'LSTMCell' as a built-in Keras object. Consider renaming <class 'keras.layers.recurrent.LSTMCell'> to avoid naming conflicts when loading with `tf.keras.models.load_model`. If renaming is not possible, pass the object in the `custom_objects` parameter of the load function.\n"
     ]
    },
    {
     "name": "stdout",
     "output_type": "stream",
     "text": [
      "158/158 [==============================] - 4s 21ms/step\n",
      "68/68 [==============================] - 1s 19ms/step\n"
     ]
    },
    {
     "name": "stderr",
     "output_type": "stream",
     "text": [
      "D:\\Anaconda\\lib\\site-packages\\pandas\\core\\frame.py:3678: SettingWithCopyWarning: \n",
      "A value is trying to be set on a copy of a slice from a DataFrame.\n",
      "Try using .loc[row_indexer,col_indexer] = value instead\n",
      "\n",
      "See the caveats in the documentation: https://pandas.pydata.org/pandas-docs/stable/user_guide/indexing.html#returning-a-view-versus-a-copy\n",
      "  self[col] = igetitem(value, i)\n"
     ]
    },
    {
     "name": "stdout",
     "output_type": "stream",
     "text": [
      "Epoch 1/15\n",
      "158/158 [==============================] - 11s 55ms/step - loss: 0.4775 - val_loss: 0.4069\n",
      "Epoch 2/15\n",
      "158/158 [==============================] - 8s 52ms/step - loss: 0.4711 - val_loss: 0.3993\n",
      "Epoch 3/15\n",
      "158/158 [==============================] - 8s 51ms/step - loss: 0.4675 - val_loss: 0.4040\n",
      "Epoch 4/15\n",
      "158/158 [==============================] - 8s 52ms/step - loss: 0.4698 - val_loss: 0.3920\n",
      "Epoch 5/15\n",
      "158/158 [==============================] - 8s 52ms/step - loss: 0.4665 - val_loss: 0.3907\n",
      "Epoch 6/15\n",
      "158/158 [==============================] - 8s 52ms/step - loss: 0.4653 - val_loss: 0.3900\n",
      "Epoch 7/15\n",
      "158/158 [==============================] - 8s 51ms/step - loss: 0.4641 - val_loss: 0.3918\n",
      "Epoch 8/15\n",
      "158/158 [==============================] - 8s 51ms/step - loss: 0.4646 - val_loss: 0.3938\n",
      "Epoch 9/15\n",
      "158/158 [==============================] - 8s 51ms/step - loss: 0.4640 - val_loss: 0.3922\n",
      "Epoch 10/15\n",
      "158/158 [==============================] - 8s 52ms/step - loss: 0.4632 - val_loss: 0.3891\n",
      "Epoch 11/15\n",
      "158/158 [==============================] - 8s 51ms/step - loss: 0.4610 - val_loss: 0.4041\n",
      "Epoch 12/15\n",
      "158/158 [==============================] - 8s 51ms/step - loss: 0.4613 - val_loss: 0.3942\n",
      "Epoch 13/15\n",
      "158/158 [==============================] - 8s 51ms/step - loss: 0.4602 - val_loss: 0.3880\n",
      "Epoch 14/15\n",
      "158/158 [==============================] - 8s 51ms/step - loss: 0.4622 - val_loss: 0.3894\n",
      "Epoch 15/15\n",
      "158/158 [==============================] - 8s 51ms/step - loss: 0.4602 - val_loss: 0.3962\n"
     ]
    },
    {
     "name": "stderr",
     "output_type": "stream",
     "text": [
      "WARNING:absl:Found untraced functions such as lstm_cell_23_layer_call_fn, lstm_cell_23_layer_call_and_return_conditional_losses while saving (showing 2 of 2). These functions will not be directly callable after loading.\n"
     ]
    },
    {
     "name": "stdout",
     "output_type": "stream",
     "text": [
      "INFO:tensorflow:Assets written to: Hybrid Univarite3/month1_5_step_lookahead_Hybrid\\assets\n"
     ]
    },
    {
     "name": "stderr",
     "output_type": "stream",
     "text": [
      "INFO:tensorflow:Assets written to: Hybrid Univarite3/month1_5_step_lookahead_Hybrid\\assets\n",
      "WARNING:absl:<keras.layers.recurrent.LSTMCell object at 0x0000014D41DF3DF0> has the same name 'LSTMCell' as a built-in Keras object. Consider renaming <class 'keras.layers.recurrent.LSTMCell'> to avoid naming conflicts when loading with `tf.keras.models.load_model`. If renaming is not possible, pass the object in the `custom_objects` parameter of the load function.\n"
     ]
    },
    {
     "name": "stdout",
     "output_type": "stream",
     "text": [
      "158/158 [==============================] - 4s 20ms/step\n",
      "68/68 [==============================] - 1s 19ms/step\n"
     ]
    },
    {
     "name": "stderr",
     "output_type": "stream",
     "text": [
      "D:\\Anaconda\\lib\\site-packages\\pandas\\core\\frame.py:3678: SettingWithCopyWarning: \n",
      "A value is trying to be set on a copy of a slice from a DataFrame.\n",
      "Try using .loc[row_indexer,col_indexer] = value instead\n",
      "\n",
      "See the caveats in the documentation: https://pandas.pydata.org/pandas-docs/stable/user_guide/indexing.html#returning-a-view-versus-a-copy\n",
      "  self[col] = igetitem(value, i)\n"
     ]
    },
    {
     "name": "stdout",
     "output_type": "stream",
     "text": [
      "Epoch 1/15\n",
      "158/158 [==============================] - 11s 55ms/step - loss: 0.6372 - val_loss: 0.4382\n",
      "Epoch 2/15\n",
      "158/158 [==============================] - 8s 52ms/step - loss: 0.4873 - val_loss: 0.4210\n",
      "Epoch 3/15\n",
      "158/158 [==============================] - 8s 52ms/step - loss: 0.4822 - val_loss: 0.4110\n",
      "Epoch 4/15\n",
      "158/158 [==============================] - 8s 51ms/step - loss: 0.4813 - val_loss: 0.4129\n",
      "Epoch 5/15\n",
      "158/158 [==============================] - 8s 51ms/step - loss: 0.4764 - val_loss: 0.4087\n",
      "Epoch 6/15\n",
      "158/158 [==============================] - 8s 51ms/step - loss: 0.4755 - val_loss: 0.4026\n",
      "Epoch 7/15\n",
      "158/158 [==============================] - 8s 51ms/step - loss: 0.4758 - val_loss: 0.4050\n",
      "Epoch 8/15\n",
      "158/158 [==============================] - 8s 51ms/step - loss: 0.4728 - val_loss: 0.4159\n",
      "Epoch 9/15\n",
      "158/158 [==============================] - 8s 51ms/step - loss: 0.4755 - val_loss: 0.4017\n",
      "Epoch 10/15\n",
      "158/158 [==============================] - 8s 52ms/step - loss: 0.4717 - val_loss: 0.4011\n",
      "Epoch 11/15\n",
      "158/158 [==============================] - 8s 52ms/step - loss: 0.4721 - val_loss: 0.4027\n",
      "Epoch 12/15\n",
      "158/158 [==============================] - 8s 51ms/step - loss: 0.4738 - val_loss: 0.4006\n",
      "Epoch 13/15\n",
      "158/158 [==============================] - 8s 52ms/step - loss: 0.4692 - val_loss: 0.3968\n",
      "Epoch 14/15\n",
      "158/158 [==============================] - 8s 52ms/step - loss: 0.4686 - val_loss: 0.3943\n",
      "Epoch 15/15\n",
      "158/158 [==============================] - 8s 51ms/step - loss: 0.4699 - val_loss: 0.4008\n"
     ]
    },
    {
     "name": "stderr",
     "output_type": "stream",
     "text": [
      "WARNING:absl:Found untraced functions such as lstm_cell_24_layer_call_fn, lstm_cell_24_layer_call_and_return_conditional_losses while saving (showing 2 of 2). These functions will not be directly callable after loading.\n"
     ]
    },
    {
     "name": "stdout",
     "output_type": "stream",
     "text": [
      "INFO:tensorflow:Assets written to: Hybrid Univarite3/month1_6_step_lookahead_Hybrid\\assets\n"
     ]
    },
    {
     "name": "stderr",
     "output_type": "stream",
     "text": [
      "INFO:tensorflow:Assets written to: Hybrid Univarite3/month1_6_step_lookahead_Hybrid\\assets\n",
      "WARNING:absl:<keras.layers.recurrent.LSTMCell object at 0x0000014D2D5F29D0> has the same name 'LSTMCell' as a built-in Keras object. Consider renaming <class 'keras.layers.recurrent.LSTMCell'> to avoid naming conflicts when loading with `tf.keras.models.load_model`. If renaming is not possible, pass the object in the `custom_objects` parameter of the load function.\n"
     ]
    },
    {
     "name": "stdout",
     "output_type": "stream",
     "text": [
      "158/158 [==============================] - 4s 20ms/step\n",
      "68/68 [==============================] - 1s 19ms/step\n"
     ]
    },
    {
     "name": "stderr",
     "output_type": "stream",
     "text": [
      "D:\\Anaconda\\lib\\site-packages\\pandas\\core\\frame.py:3678: SettingWithCopyWarning: \n",
      "A value is trying to be set on a copy of a slice from a DataFrame.\n",
      "Try using .loc[row_indexer,col_indexer] = value instead\n",
      "\n",
      "See the caveats in the documentation: https://pandas.pydata.org/pandas-docs/stable/user_guide/indexing.html#returning-a-view-versus-a-copy\n",
      "  self[col] = igetitem(value, i)\n"
     ]
    },
    {
     "name": "stdout",
     "output_type": "stream",
     "text": [
      "Epoch 1/15\n",
      "158/158 [==============================] - 11s 55ms/step - loss: 0.7292 - val_loss: 0.4346\n",
      "Epoch 2/15\n",
      "158/158 [==============================] - 8s 52ms/step - loss: 0.4936 - val_loss: 0.4179\n",
      "Epoch 3/15\n",
      "158/158 [==============================] - 8s 52ms/step - loss: 0.4910 - val_loss: 0.4130\n",
      "Epoch 4/15\n",
      "158/158 [==============================] - 8s 51ms/step - loss: 0.4912 - val_loss: 0.4132\n",
      "Epoch 5/15\n",
      "158/158 [==============================] - 8s 51ms/step - loss: 0.4876 - val_loss: 0.4057\n",
      "Epoch 6/15\n",
      "158/158 [==============================] - 8s 52ms/step - loss: 0.4860 - val_loss: 0.4006\n",
      "Epoch 7/15\n",
      "158/158 [==============================] - 8s 51ms/step - loss: 0.4832 - val_loss: 0.4043\n",
      "Epoch 8/15\n",
      "158/158 [==============================] - 8s 51ms/step - loss: 0.4841 - val_loss: 0.4162\n",
      "Epoch 9/15\n",
      "158/158 [==============================] - 8s 51ms/step - loss: 0.4801 - val_loss: 0.3980\n",
      "Epoch 10/15\n",
      "158/158 [==============================] - 8s 52ms/step - loss: 0.4826 - val_loss: 0.3954\n",
      "Epoch 11/15\n",
      "158/158 [==============================] - 8s 51ms/step - loss: 0.4799 - val_loss: 0.3993\n",
      "Epoch 12/15\n",
      "158/158 [==============================] - 8s 51ms/step - loss: 0.4799 - val_loss: 0.4023\n",
      "Epoch 13/15\n",
      "158/158 [==============================] - 8s 51ms/step - loss: 0.4789 - val_loss: 0.3994\n",
      "Epoch 14/15\n",
      "158/158 [==============================] - 8s 51ms/step - loss: 0.4793 - val_loss: 0.4014\n",
      "Epoch 15/15\n",
      "158/158 [==============================] - 8s 51ms/step - loss: 0.4794 - val_loss: 0.3955\n"
     ]
    },
    {
     "name": "stderr",
     "output_type": "stream",
     "text": [
      "WARNING:absl:Found untraced functions such as lstm_cell_25_layer_call_fn, lstm_cell_25_layer_call_and_return_conditional_losses while saving (showing 2 of 2). These functions will not be directly callable after loading.\n"
     ]
    },
    {
     "name": "stdout",
     "output_type": "stream",
     "text": [
      "INFO:tensorflow:Assets written to: Hybrid Univarite3/month1_7_step_lookahead_Hybrid\\assets\n"
     ]
    },
    {
     "name": "stderr",
     "output_type": "stream",
     "text": [
      "INFO:tensorflow:Assets written to: Hybrid Univarite3/month1_7_step_lookahead_Hybrid\\assets\n",
      "WARNING:absl:<keras.layers.recurrent.LSTMCell object at 0x00000150386E0EE0> has the same name 'LSTMCell' as a built-in Keras object. Consider renaming <class 'keras.layers.recurrent.LSTMCell'> to avoid naming conflicts when loading with `tf.keras.models.load_model`. If renaming is not possible, pass the object in the `custom_objects` parameter of the load function.\n"
     ]
    },
    {
     "name": "stdout",
     "output_type": "stream",
     "text": [
      "158/158 [==============================] - 4s 21ms/step\n",
      "68/68 [==============================] - 1s 19ms/step\n"
     ]
    },
    {
     "name": "stderr",
     "output_type": "stream",
     "text": [
      "D:\\Anaconda\\lib\\site-packages\\pandas\\core\\frame.py:3678: SettingWithCopyWarning: \n",
      "A value is trying to be set on a copy of a slice from a DataFrame.\n",
      "Try using .loc[row_indexer,col_indexer] = value instead\n",
      "\n",
      "See the caveats in the documentation: https://pandas.pydata.org/pandas-docs/stable/user_guide/indexing.html#returning-a-view-versus-a-copy\n",
      "  self[col] = igetitem(value, i)\n"
     ]
    },
    {
     "name": "stdout",
     "output_type": "stream",
     "text": [
      "Epoch 1/15\n",
      "158/158 [==============================] - 11s 55ms/step - loss: 0.5991 - val_loss: 0.4614\n",
      "Epoch 2/15\n",
      "158/158 [==============================] - 8s 51ms/step - loss: 0.4992 - val_loss: 0.4531\n",
      "Epoch 3/15\n",
      "158/158 [==============================] - 8s 52ms/step - loss: 0.4950 - val_loss: 0.4470\n",
      "Epoch 4/15\n",
      "158/158 [==============================] - 8s 52ms/step - loss: 0.4923 - val_loss: 0.4462\n",
      "Epoch 5/15\n",
      "158/158 [==============================] - 8s 52ms/step - loss: 0.4928 - val_loss: 0.4500\n",
      "Epoch 6/15\n",
      "158/158 [==============================] - 8s 52ms/step - loss: 0.4933 - val_loss: 0.4384\n",
      "Epoch 7/15\n",
      "158/158 [==============================] - 8s 51ms/step - loss: 0.4903 - val_loss: 0.4411\n",
      "Epoch 8/15\n",
      "158/158 [==============================] - 8s 52ms/step - loss: 0.4902 - val_loss: 0.4423\n",
      "Epoch 9/15\n",
      "158/158 [==============================] - 8s 51ms/step - loss: 0.4872 - val_loss: 0.4371\n",
      "Epoch 10/15\n",
      "158/158 [==============================] - 8s 52ms/step - loss: 0.4884 - val_loss: 0.4383\n",
      "Epoch 11/15\n",
      "158/158 [==============================] - 8s 51ms/step - loss: 0.4896 - val_loss: 0.4386\n",
      "Epoch 12/15\n",
      "158/158 [==============================] - 8s 51ms/step - loss: 0.4875 - val_loss: 0.4344\n",
      "Epoch 13/15\n",
      "158/158 [==============================] - 8s 51ms/step - loss: 0.4867 - val_loss: 0.4345\n",
      "Epoch 14/15\n",
      "158/158 [==============================] - 8s 51ms/step - loss: 0.4858 - val_loss: 0.4423\n",
      "Epoch 15/15\n",
      "158/158 [==============================] - 8s 51ms/step - loss: 0.4839 - val_loss: 0.4414\n"
     ]
    },
    {
     "name": "stderr",
     "output_type": "stream",
     "text": [
      "WARNING:absl:Found untraced functions such as lstm_cell_26_layer_call_fn, lstm_cell_26_layer_call_and_return_conditional_losses while saving (showing 2 of 2). These functions will not be directly callable after loading.\n"
     ]
    },
    {
     "name": "stdout",
     "output_type": "stream",
     "text": [
      "INFO:tensorflow:Assets written to: Hybrid Univarite3/month1_8_step_lookahead_Hybrid\\assets\n"
     ]
    },
    {
     "name": "stderr",
     "output_type": "stream",
     "text": [
      "INFO:tensorflow:Assets written to: Hybrid Univarite3/month1_8_step_lookahead_Hybrid\\assets\n",
      "WARNING:absl:<keras.layers.recurrent.LSTMCell object at 0x0000014D36C08DC0> has the same name 'LSTMCell' as a built-in Keras object. Consider renaming <class 'keras.layers.recurrent.LSTMCell'> to avoid naming conflicts when loading with `tf.keras.models.load_model`. If renaming is not possible, pass the object in the `custom_objects` parameter of the load function.\n"
     ]
    },
    {
     "name": "stdout",
     "output_type": "stream",
     "text": [
      "158/158 [==============================] - 4s 21ms/step\n",
      "68/68 [==============================] - 1s 19ms/step\n"
     ]
    },
    {
     "name": "stderr",
     "output_type": "stream",
     "text": [
      "D:\\Anaconda\\lib\\site-packages\\pandas\\core\\frame.py:3678: SettingWithCopyWarning: \n",
      "A value is trying to be set on a copy of a slice from a DataFrame.\n",
      "Try using .loc[row_indexer,col_indexer] = value instead\n",
      "\n",
      "See the caveats in the documentation: https://pandas.pydata.org/pandas-docs/stable/user_guide/indexing.html#returning-a-view-versus-a-copy\n",
      "  self[col] = igetitem(value, i)\n"
     ]
    },
    {
     "name": "stdout",
     "output_type": "stream",
     "text": [
      "Epoch 1/15\n",
      "158/158 [==============================] - 11s 55ms/step - loss: 0.7947 - val_loss: 0.4825\n",
      "Epoch 2/15\n",
      "158/158 [==============================] - 8s 52ms/step - loss: 0.5114 - val_loss: 0.4618\n",
      "Epoch 3/15\n",
      "158/158 [==============================] - 8s 52ms/step - loss: 0.5043 - val_loss: 0.4501\n",
      "Epoch 4/15\n",
      "158/158 [==============================] - 8s 52ms/step - loss: 0.4988 - val_loss: 0.4472\n",
      "Epoch 5/15\n",
      "158/158 [==============================] - 8s 52ms/step - loss: 0.4980 - val_loss: 0.4439\n",
      "Epoch 6/15\n",
      "158/158 [==============================] - 8s 52ms/step - loss: 0.4975 - val_loss: 0.4411\n",
      "Epoch 7/15\n",
      "158/158 [==============================] - 8s 52ms/step - loss: 0.4974 - val_loss: 0.4395\n",
      "Epoch 8/15\n",
      "158/158 [==============================] - 8s 52ms/step - loss: 0.4955 - val_loss: 0.4387\n",
      "Epoch 9/15\n",
      "158/158 [==============================] - 8s 52ms/step - loss: 0.4963 - val_loss: 0.4450\n",
      "Epoch 10/15\n",
      "158/158 [==============================] - 8s 51ms/step - loss: 0.4953 - val_loss: 0.4363\n",
      "Epoch 11/15\n",
      "158/158 [==============================] - 8s 51ms/step - loss: 0.4926 - val_loss: 0.4370\n",
      "Epoch 12/15\n",
      "158/158 [==============================] - 8s 51ms/step - loss: 0.4895 - val_loss: 0.4372\n",
      "Epoch 13/15\n",
      "158/158 [==============================] - 8s 51ms/step - loss: 0.4903 - val_loss: 0.4336\n",
      "Epoch 14/15\n",
      "158/158 [==============================] - 8s 51ms/step - loss: 0.4872 - val_loss: 0.4521\n",
      "Epoch 15/15\n",
      "158/158 [==============================] - 8s 51ms/step - loss: 0.4835 - val_loss: 0.4582\n"
     ]
    },
    {
     "name": "stderr",
     "output_type": "stream",
     "text": [
      "WARNING:absl:Found untraced functions such as lstm_cell_27_layer_call_fn, lstm_cell_27_layer_call_and_return_conditional_losses while saving (showing 2 of 2). These functions will not be directly callable after loading.\n"
     ]
    },
    {
     "name": "stdout",
     "output_type": "stream",
     "text": [
      "INFO:tensorflow:Assets written to: Hybrid Univarite3/month1_9_step_lookahead_Hybrid\\assets\n"
     ]
    },
    {
     "name": "stderr",
     "output_type": "stream",
     "text": [
      "INFO:tensorflow:Assets written to: Hybrid Univarite3/month1_9_step_lookahead_Hybrid\\assets\n",
      "WARNING:absl:<keras.layers.recurrent.LSTMCell object at 0x00000150479EFFD0> has the same name 'LSTMCell' as a built-in Keras object. Consider renaming <class 'keras.layers.recurrent.LSTMCell'> to avoid naming conflicts when loading with `tf.keras.models.load_model`. If renaming is not possible, pass the object in the `custom_objects` parameter of the load function.\n"
     ]
    },
    {
     "name": "stdout",
     "output_type": "stream",
     "text": [
      "158/158 [==============================] - 4s 21ms/step\n",
      "68/68 [==============================] - 1s 19ms/step\n"
     ]
    },
    {
     "name": "stderr",
     "output_type": "stream",
     "text": [
      "D:\\Anaconda\\lib\\site-packages\\pandas\\core\\frame.py:3678: SettingWithCopyWarning: \n",
      "A value is trying to be set on a copy of a slice from a DataFrame.\n",
      "Try using .loc[row_indexer,col_indexer] = value instead\n",
      "\n",
      "See the caveats in the documentation: https://pandas.pydata.org/pandas-docs/stable/user_guide/indexing.html#returning-a-view-versus-a-copy\n",
      "  self[col] = igetitem(value, i)\n"
     ]
    },
    {
     "name": "stdout",
     "output_type": "stream",
     "text": [
      "Epoch 1/15\n",
      "158/158 [==============================] - 11s 55ms/step - loss: 0.6247 - val_loss: 0.4627\n",
      "Epoch 2/15\n",
      "158/158 [==============================] - 8s 52ms/step - loss: 0.5077 - val_loss: 0.4537\n",
      "Epoch 3/15\n",
      "158/158 [==============================] - 8s 52ms/step - loss: 0.5068 - val_loss: 0.4443\n",
      "Epoch 4/15\n",
      "158/158 [==============================] - 8s 51ms/step - loss: 0.5038 - val_loss: 0.4468\n",
      "Epoch 5/15\n",
      "158/158 [==============================] - 8s 51ms/step - loss: 0.5007 - val_loss: 0.4392\n",
      "Epoch 6/15\n",
      "158/158 [==============================] - 8s 51ms/step - loss: 0.4986 - val_loss: 0.4396\n",
      "Epoch 7/15\n",
      "158/158 [==============================] - 8s 51ms/step - loss: 0.4976 - val_loss: 0.4613\n",
      "Epoch 8/15\n",
      "158/158 [==============================] - 8s 51ms/step - loss: 0.4955 - val_loss: 0.4385\n",
      "Epoch 9/15\n",
      "158/158 [==============================] - 8s 51ms/step - loss: 0.4969 - val_loss: 0.4537\n",
      "Epoch 10/15\n",
      "158/158 [==============================] - 8s 51ms/step - loss: 0.4963 - val_loss: 0.4405\n",
      "Epoch 11/15\n",
      "158/158 [==============================] - 8s 51ms/step - loss: 0.4942 - val_loss: 0.4435\n",
      "Epoch 12/15\n",
      "158/158 [==============================] - 8s 51ms/step - loss: 0.4945 - val_loss: 0.4398\n",
      "Epoch 13/15\n",
      "158/158 [==============================] - 8s 51ms/step - loss: 0.4928 - val_loss: 0.4501\n",
      "Epoch 14/15\n",
      "158/158 [==============================] - 8s 51ms/step - loss: 0.4935 - val_loss: 0.4395\n",
      "Epoch 15/15\n",
      "158/158 [==============================] - 8s 51ms/step - loss: 0.4927 - val_loss: 0.4412\n"
     ]
    },
    {
     "name": "stderr",
     "output_type": "stream",
     "text": [
      "WARNING:absl:Found untraced functions such as lstm_cell_28_layer_call_fn, lstm_cell_28_layer_call_and_return_conditional_losses while saving (showing 2 of 2). These functions will not be directly callable after loading.\n"
     ]
    },
    {
     "name": "stdout",
     "output_type": "stream",
     "text": [
      "INFO:tensorflow:Assets written to: Hybrid Univarite3/month1_10_step_lookahead_Hybrid\\assets\n"
     ]
    },
    {
     "name": "stderr",
     "output_type": "stream",
     "text": [
      "INFO:tensorflow:Assets written to: Hybrid Univarite3/month1_10_step_lookahead_Hybrid\\assets\n",
      "WARNING:absl:<keras.layers.recurrent.LSTMCell object at 0x00000150485C9700> has the same name 'LSTMCell' as a built-in Keras object. Consider renaming <class 'keras.layers.recurrent.LSTMCell'> to avoid naming conflicts when loading with `tf.keras.models.load_model`. If renaming is not possible, pass the object in the `custom_objects` parameter of the load function.\n"
     ]
    },
    {
     "name": "stdout",
     "output_type": "stream",
     "text": [
      "158/158 [==============================] - 4s 20ms/step\n",
      "68/68 [==============================] - 1s 19ms/step\n"
     ]
    },
    {
     "name": "stderr",
     "output_type": "stream",
     "text": [
      "D:\\Anaconda\\lib\\site-packages\\pandas\\core\\frame.py:3678: SettingWithCopyWarning: \n",
      "A value is trying to be set on a copy of a slice from a DataFrame.\n",
      "Try using .loc[row_indexer,col_indexer] = value instead\n",
      "\n",
      "See the caveats in the documentation: https://pandas.pydata.org/pandas-docs/stable/user_guide/indexing.html#returning-a-view-versus-a-copy\n",
      "  self[col] = igetitem(value, i)\n",
      "D:\\Anaconda\\lib\\site-packages\\pandas\\core\\frame.py:3678: SettingWithCopyWarning: \n",
      "A value is trying to be set on a copy of a slice from a DataFrame.\n",
      "Try using .loc[row_indexer,col_indexer] = value instead\n",
      "\n",
      "See the caveats in the documentation: https://pandas.pydata.org/pandas-docs/stable/user_guide/indexing.html#returning-a-view-versus-a-copy\n",
      "  self[col] = igetitem(value, i)\n"
     ]
    },
    {
     "name": "stdout",
     "output_type": "stream",
     "text": [
      "Epoch 1/15\n",
      "152/152 [==============================] - 11s 56ms/step - loss: 1.3387 - val_loss: 0.2876\n",
      "Epoch 2/15\n",
      "152/152 [==============================] - 8s 52ms/step - loss: 1.2953 - val_loss: 0.2665\n",
      "Epoch 3/15\n",
      "152/152 [==============================] - 8s 51ms/step - loss: 1.2872 - val_loss: 0.2586\n",
      "Epoch 4/15\n",
      "152/152 [==============================] - 8s 51ms/step - loss: 1.2802 - val_loss: 0.2462\n",
      "Epoch 5/15\n",
      "152/152 [==============================] - 8s 52ms/step - loss: 1.2747 - val_loss: 0.2347\n",
      "Epoch 6/15\n",
      "152/152 [==============================] - 8s 51ms/step - loss: 1.2695 - val_loss: 0.2295\n",
      "Epoch 7/15\n",
      "152/152 [==============================] - 8s 52ms/step - loss: 1.2663 - val_loss: 0.2258\n",
      "Epoch 8/15\n",
      "152/152 [==============================] - 8s 51ms/step - loss: 1.2645 - val_loss: 0.2260\n",
      "Epoch 9/15\n",
      "152/152 [==============================] - 8s 51ms/step - loss: 1.2617 - val_loss: 0.2379\n",
      "Epoch 10/15\n",
      "152/152 [==============================] - 8s 51ms/step - loss: 1.2621 - val_loss: 0.2232\n",
      "Epoch 11/15\n",
      "152/152 [==============================] - 8s 51ms/step - loss: 1.2621 - val_loss: 0.2230\n",
      "Epoch 12/15\n",
      "152/152 [==============================] - 8s 51ms/step - loss: 1.2597 - val_loss: 0.2243\n",
      "Epoch 13/15\n",
      "152/152 [==============================] - 8s 51ms/step - loss: 1.2600 - val_loss: 0.2225\n",
      "Epoch 14/15\n",
      "152/152 [==============================] - 8s 51ms/step - loss: 1.2587 - val_loss: 0.2228\n",
      "Epoch 15/15\n",
      "152/152 [==============================] - 8s 51ms/step - loss: 1.2590 - val_loss: 0.2221\n"
     ]
    },
    {
     "name": "stderr",
     "output_type": "stream",
     "text": [
      "WARNING:absl:Found untraced functions such as lstm_cell_29_layer_call_fn, lstm_cell_29_layer_call_and_return_conditional_losses while saving (showing 2 of 2). These functions will not be directly callable after loading.\n"
     ]
    },
    {
     "name": "stdout",
     "output_type": "stream",
     "text": [
      "INFO:tensorflow:Assets written to: Hybrid Univarite3/month2_1_step_lookahead_Hybrid\\assets\n"
     ]
    },
    {
     "name": "stderr",
     "output_type": "stream",
     "text": [
      "INFO:tensorflow:Assets written to: Hybrid Univarite3/month2_1_step_lookahead_Hybrid\\assets\n",
      "WARNING:absl:<keras.layers.recurrent.LSTMCell object at 0x0000014D281D7430> has the same name 'LSTMCell' as a built-in Keras object. Consider renaming <class 'keras.layers.recurrent.LSTMCell'> to avoid naming conflicts when loading with `tf.keras.models.load_model`. If renaming is not possible, pass the object in the `custom_objects` parameter of the load function.\n"
     ]
    },
    {
     "name": "stdout",
     "output_type": "stream",
     "text": [
      "152/152 [==============================] - 3s 20ms/step\n",
      "65/65 [==============================] - 1s 19ms/step\n"
     ]
    },
    {
     "name": "stderr",
     "output_type": "stream",
     "text": [
      "D:\\Anaconda\\lib\\site-packages\\pandas\\core\\frame.py:3678: SettingWithCopyWarning: \n",
      "A value is trying to be set on a copy of a slice from a DataFrame.\n",
      "Try using .loc[row_indexer,col_indexer] = value instead\n",
      "\n",
      "See the caveats in the documentation: https://pandas.pydata.org/pandas-docs/stable/user_guide/indexing.html#returning-a-view-versus-a-copy\n",
      "  self[col] = igetitem(value, i)\n"
     ]
    },
    {
     "name": "stdout",
     "output_type": "stream",
     "text": [
      "Epoch 1/15\n",
      "152/152 [==============================] - 10s 55ms/step - loss: 1.3168 - val_loss: 0.2583\n",
      "Epoch 2/15\n",
      "152/152 [==============================] - 8s 52ms/step - loss: 1.3069 - val_loss: 0.2564\n",
      "Epoch 3/15\n",
      "152/152 [==============================] - 8s 52ms/step - loss: 1.3050 - val_loss: 0.2536\n",
      "Epoch 4/15\n",
      "152/152 [==============================] - 8s 51ms/step - loss: 1.3041 - val_loss: 0.2453\n",
      "Epoch 5/15\n",
      "152/152 [==============================] - 8s 52ms/step - loss: 1.3036 - val_loss: 0.2440\n",
      "Epoch 6/15\n",
      "152/152 [==============================] - 8s 51ms/step - loss: 1.3043 - val_loss: 0.2445\n",
      "Epoch 7/15\n",
      "152/152 [==============================] - 8s 51ms/step - loss: 1.3029 - val_loss: 0.2412\n",
      "Epoch 8/15\n",
      "152/152 [==============================] - 8s 51ms/step - loss: 1.3035 - val_loss: 0.2412\n",
      "Epoch 9/15\n",
      "152/152 [==============================] - 8s 51ms/step - loss: 1.3037 - val_loss: 0.2429\n",
      "Epoch 10/15\n",
      "152/152 [==============================] - 8s 51ms/step - loss: 1.3025 - val_loss: 0.2446\n",
      "Epoch 11/15\n",
      "152/152 [==============================] - 8s 51ms/step - loss: 1.3026 - val_loss: 0.2411\n",
      "Epoch 12/15\n",
      "152/152 [==============================] - 8s 52ms/step - loss: 1.3043 - val_loss: 0.2401\n",
      "Epoch 13/15\n",
      "152/152 [==============================] - 8s 51ms/step - loss: 1.3025 - val_loss: 0.2413\n",
      "Epoch 14/15\n",
      "152/152 [==============================] - 8s 51ms/step - loss: 1.3031 - val_loss: 0.2438\n",
      "Epoch 15/15\n",
      "152/152 [==============================] - 8s 51ms/step - loss: 1.3032 - val_loss: 0.2415\n"
     ]
    },
    {
     "name": "stderr",
     "output_type": "stream",
     "text": [
      "WARNING:absl:Found untraced functions such as lstm_cell_30_layer_call_fn, lstm_cell_30_layer_call_and_return_conditional_losses while saving (showing 2 of 2). These functions will not be directly callable after loading.\n"
     ]
    },
    {
     "name": "stdout",
     "output_type": "stream",
     "text": [
      "INFO:tensorflow:Assets written to: Hybrid Univarite3/month2_2_step_lookahead_Hybrid\\assets\n"
     ]
    },
    {
     "name": "stderr",
     "output_type": "stream",
     "text": [
      "INFO:tensorflow:Assets written to: Hybrid Univarite3/month2_2_step_lookahead_Hybrid\\assets\n",
      "WARNING:absl:<keras.layers.recurrent.LSTMCell object at 0x000001504A9EF850> has the same name 'LSTMCell' as a built-in Keras object. Consider renaming <class 'keras.layers.recurrent.LSTMCell'> to avoid naming conflicts when loading with `tf.keras.models.load_model`. If renaming is not possible, pass the object in the `custom_objects` parameter of the load function.\n"
     ]
    },
    {
     "name": "stdout",
     "output_type": "stream",
     "text": [
      "152/152 [==============================] - 4s 21ms/step\n",
      "65/65 [==============================] - 1s 19ms/step\n"
     ]
    },
    {
     "name": "stderr",
     "output_type": "stream",
     "text": [
      "D:\\Anaconda\\lib\\site-packages\\pandas\\core\\frame.py:3678: SettingWithCopyWarning: \n",
      "A value is trying to be set on a copy of a slice from a DataFrame.\n",
      "Try using .loc[row_indexer,col_indexer] = value instead\n",
      "\n",
      "See the caveats in the documentation: https://pandas.pydata.org/pandas-docs/stable/user_guide/indexing.html#returning-a-view-versus-a-copy\n",
      "  self[col] = igetitem(value, i)\n"
     ]
    },
    {
     "name": "stdout",
     "output_type": "stream",
     "text": [
      "Epoch 1/15\n",
      "152/152 [==============================] - 11s 56ms/step - loss: 1.3445 - val_loss: 0.2645\n",
      "Epoch 2/15\n",
      "152/152 [==============================] - 8s 51ms/step - loss: 1.3198 - val_loss: 0.2644\n",
      "Epoch 3/15\n",
      "152/152 [==============================] - 8s 52ms/step - loss: 1.3197 - val_loss: 0.2554\n",
      "Epoch 4/15\n",
      "152/152 [==============================] - 8s 52ms/step - loss: 1.3182 - val_loss: 0.2602\n",
      "Epoch 5/15\n",
      "152/152 [==============================] - 8s 51ms/step - loss: 1.3183 - val_loss: 0.2558\n",
      "Epoch 6/15\n",
      "152/152 [==============================] - 8s 51ms/step - loss: 1.3181 - val_loss: 0.2514\n",
      "Epoch 7/15\n",
      "152/152 [==============================] - 8s 51ms/step - loss: 1.3173 - val_loss: 0.2523\n",
      "Epoch 8/15\n",
      "152/152 [==============================] - 8s 51ms/step - loss: 1.3161 - val_loss: 0.2528\n",
      "Epoch 9/15\n",
      "152/152 [==============================] - 8s 51ms/step - loss: 1.3171 - val_loss: 0.2531\n",
      "Epoch 10/15\n",
      "152/152 [==============================] - 8s 51ms/step - loss: 1.3173 - val_loss: 0.2533\n",
      "Epoch 11/15\n",
      "152/152 [==============================] - 8s 52ms/step - loss: 1.3167 - val_loss: 0.2510\n",
      "Epoch 12/15\n",
      "152/152 [==============================] - 8s 52ms/step - loss: 1.3165 - val_loss: 0.2525\n",
      "Epoch 13/15\n",
      "152/152 [==============================] - 8s 51ms/step - loss: 1.3170 - val_loss: 0.2522\n",
      "Epoch 14/15\n",
      "152/152 [==============================] - 8s 51ms/step - loss: 1.3158 - val_loss: 0.2528\n",
      "Epoch 15/15\n",
      "152/152 [==============================] - 8s 51ms/step - loss: 1.3161 - val_loss: 0.2529\n"
     ]
    },
    {
     "name": "stderr",
     "output_type": "stream",
     "text": [
      "WARNING:absl:Found untraced functions such as lstm_cell_31_layer_call_fn, lstm_cell_31_layer_call_and_return_conditional_losses while saving (showing 2 of 2). These functions will not be directly callable after loading.\n"
     ]
    },
    {
     "name": "stdout",
     "output_type": "stream",
     "text": [
      "INFO:tensorflow:Assets written to: Hybrid Univarite3/month2_3_step_lookahead_Hybrid\\assets\n"
     ]
    },
    {
     "name": "stderr",
     "output_type": "stream",
     "text": [
      "INFO:tensorflow:Assets written to: Hybrid Univarite3/month2_3_step_lookahead_Hybrid\\assets\n",
      "WARNING:absl:<keras.layers.recurrent.LSTMCell object at 0x000001504A95D730> has the same name 'LSTMCell' as a built-in Keras object. Consider renaming <class 'keras.layers.recurrent.LSTMCell'> to avoid naming conflicts when loading with `tf.keras.models.load_model`. If renaming is not possible, pass the object in the `custom_objects` parameter of the load function.\n"
     ]
    },
    {
     "name": "stdout",
     "output_type": "stream",
     "text": [
      "152/152 [==============================] - 4s 21ms/step\n",
      "65/65 [==============================] - 1s 19ms/step\n"
     ]
    },
    {
     "name": "stderr",
     "output_type": "stream",
     "text": [
      "D:\\Anaconda\\lib\\site-packages\\pandas\\core\\frame.py:3678: SettingWithCopyWarning: \n",
      "A value is trying to be set on a copy of a slice from a DataFrame.\n",
      "Try using .loc[row_indexer,col_indexer] = value instead\n",
      "\n",
      "See the caveats in the documentation: https://pandas.pydata.org/pandas-docs/stable/user_guide/indexing.html#returning-a-view-versus-a-copy\n",
      "  self[col] = igetitem(value, i)\n"
     ]
    },
    {
     "name": "stdout",
     "output_type": "stream",
     "text": [
      "Epoch 1/15\n",
      "152/152 [==============================] - 10s 56ms/step - loss: 1.3737 - val_loss: 0.3028\n",
      "Epoch 2/15\n",
      "152/152 [==============================] - 8s 52ms/step - loss: 1.3260 - val_loss: 0.2909\n",
      "Epoch 3/15\n",
      "152/152 [==============================] - 8s 52ms/step - loss: 1.3260 - val_loss: 0.2885\n",
      "Epoch 4/15\n",
      "152/152 [==============================] - 8s 52ms/step - loss: 1.3250 - val_loss: 0.2875\n",
      "Epoch 5/15\n",
      "152/152 [==============================] - 8s 52ms/step - loss: 1.3247 - val_loss: 0.2866\n",
      "Epoch 6/15\n",
      "152/152 [==============================] - 8s 51ms/step - loss: 1.3240 - val_loss: 0.2899\n",
      "Epoch 7/15\n",
      "152/152 [==============================] - 8s 51ms/step - loss: 1.3242 - val_loss: 0.2853\n",
      "Epoch 8/15\n",
      "152/152 [==============================] - 8s 51ms/step - loss: 1.3231 - val_loss: 0.2897\n",
      "Epoch 9/15\n",
      "152/152 [==============================] - 8s 51ms/step - loss: 1.3241 - val_loss: 0.2852\n",
      "Epoch 10/15\n",
      "152/152 [==============================] - 8s 51ms/step - loss: 1.3236 - val_loss: 0.2870\n",
      "Epoch 11/15\n",
      "152/152 [==============================] - 8s 51ms/step - loss: 1.3234 - val_loss: 0.2862\n",
      "Epoch 12/15\n",
      "152/152 [==============================] - 8s 51ms/step - loss: 1.3241 - val_loss: 0.2869\n",
      "Epoch 13/15\n",
      "152/152 [==============================] - 8s 52ms/step - loss: 1.3229 - val_loss: 0.2852\n",
      "Epoch 14/15\n",
      "152/152 [==============================] - 8s 51ms/step - loss: 1.3224 - val_loss: 0.2863\n",
      "Epoch 15/15\n",
      "152/152 [==============================] - 8s 52ms/step - loss: 1.3230 - val_loss: 0.2856\n"
     ]
    },
    {
     "name": "stderr",
     "output_type": "stream",
     "text": [
      "WARNING:absl:Found untraced functions such as lstm_cell_32_layer_call_fn, lstm_cell_32_layer_call_and_return_conditional_losses while saving (showing 2 of 2). These functions will not be directly callable after loading.\n"
     ]
    },
    {
     "name": "stdout",
     "output_type": "stream",
     "text": [
      "INFO:tensorflow:Assets written to: Hybrid Univarite3/month2_4_step_lookahead_Hybrid\\assets\n"
     ]
    },
    {
     "name": "stderr",
     "output_type": "stream",
     "text": [
      "INFO:tensorflow:Assets written to: Hybrid Univarite3/month2_4_step_lookahead_Hybrid\\assets\n",
      "WARNING:absl:<keras.layers.recurrent.LSTMCell object at 0x0000014D4228B730> has the same name 'LSTMCell' as a built-in Keras object. Consider renaming <class 'keras.layers.recurrent.LSTMCell'> to avoid naming conflicts when loading with `tf.keras.models.load_model`. If renaming is not possible, pass the object in the `custom_objects` parameter of the load function.\n"
     ]
    },
    {
     "name": "stdout",
     "output_type": "stream",
     "text": [
      "152/152 [==============================] - 4s 21ms/step\n",
      "65/65 [==============================] - 1s 19ms/step\n"
     ]
    },
    {
     "name": "stderr",
     "output_type": "stream",
     "text": [
      "D:\\Anaconda\\lib\\site-packages\\pandas\\core\\frame.py:3678: SettingWithCopyWarning: \n",
      "A value is trying to be set on a copy of a slice from a DataFrame.\n",
      "Try using .loc[row_indexer,col_indexer] = value instead\n",
      "\n",
      "See the caveats in the documentation: https://pandas.pydata.org/pandas-docs/stable/user_guide/indexing.html#returning-a-view-versus-a-copy\n",
      "  self[col] = igetitem(value, i)\n"
     ]
    },
    {
     "name": "stdout",
     "output_type": "stream",
     "text": [
      "Epoch 1/15\n",
      "152/152 [==============================] - 11s 59ms/step - loss: 1.3740 - val_loss: 0.3100\n",
      "Epoch 2/15\n",
      "152/152 [==============================] - 8s 53ms/step - loss: 1.3342 - val_loss: 0.2974\n",
      "Epoch 3/15\n",
      "152/152 [==============================] - 8s 52ms/step - loss: 1.3311 - val_loss: 0.2908\n",
      "Epoch 4/15\n",
      "152/152 [==============================] - 8s 51ms/step - loss: 1.3286 - val_loss: 0.2944\n",
      "Epoch 5/15\n",
      "152/152 [==============================] - 8s 51ms/step - loss: 1.3288 - val_loss: 0.2872\n",
      "Epoch 6/15\n",
      "152/152 [==============================] - 8s 51ms/step - loss: 1.3280 - val_loss: 0.2902\n",
      "Epoch 7/15\n",
      "152/152 [==============================] - 8s 51ms/step - loss: 1.3277 - val_loss: 0.2886\n",
      "Epoch 8/15\n",
      "152/152 [==============================] - 8s 51ms/step - loss: 1.3266 - val_loss: 0.2855\n",
      "Epoch 9/15\n",
      "152/152 [==============================] - 8s 51ms/step - loss: 1.3273 - val_loss: 0.2857\n",
      "Epoch 10/15\n",
      "152/152 [==============================] - 8s 52ms/step - loss: 1.3275 - val_loss: 0.2850\n",
      "Epoch 11/15\n",
      "152/152 [==============================] - 8s 52ms/step - loss: 1.3267 - val_loss: 0.2847\n",
      "Epoch 12/15\n",
      "152/152 [==============================] - 8s 51ms/step - loss: 1.3263 - val_loss: 0.2851\n",
      "Epoch 13/15\n",
      "152/152 [==============================] - 8s 51ms/step - loss: 1.3262 - val_loss: 0.2855\n",
      "Epoch 14/15\n",
      "152/152 [==============================] - 8s 51ms/step - loss: 1.3264 - val_loss: 0.2845\n",
      "Epoch 15/15\n",
      "152/152 [==============================] - 8s 51ms/step - loss: 1.3256 - val_loss: 0.2867\n"
     ]
    },
    {
     "name": "stderr",
     "output_type": "stream",
     "text": [
      "WARNING:absl:Found untraced functions such as lstm_cell_33_layer_call_fn, lstm_cell_33_layer_call_and_return_conditional_losses while saving (showing 2 of 2). These functions will not be directly callable after loading.\n"
     ]
    },
    {
     "name": "stdout",
     "output_type": "stream",
     "text": [
      "INFO:tensorflow:Assets written to: Hybrid Univarite3/month2_5_step_lookahead_Hybrid\\assets\n"
     ]
    },
    {
     "name": "stderr",
     "output_type": "stream",
     "text": [
      "INFO:tensorflow:Assets written to: Hybrid Univarite3/month2_5_step_lookahead_Hybrid\\assets\n",
      "WARNING:absl:<keras.layers.recurrent.LSTMCell object at 0x0000014D2C2BAD90> has the same name 'LSTMCell' as a built-in Keras object. Consider renaming <class 'keras.layers.recurrent.LSTMCell'> to avoid naming conflicts when loading with `tf.keras.models.load_model`. If renaming is not possible, pass the object in the `custom_objects` parameter of the load function.\n"
     ]
    },
    {
     "name": "stdout",
     "output_type": "stream",
     "text": [
      "152/152 [==============================] - 4s 20ms/step\n",
      "65/65 [==============================] - 1s 20ms/step\n"
     ]
    },
    {
     "name": "stderr",
     "output_type": "stream",
     "text": [
      "D:\\Anaconda\\lib\\site-packages\\pandas\\core\\frame.py:3678: SettingWithCopyWarning: \n",
      "A value is trying to be set on a copy of a slice from a DataFrame.\n",
      "Try using .loc[row_indexer,col_indexer] = value instead\n",
      "\n",
      "See the caveats in the documentation: https://pandas.pydata.org/pandas-docs/stable/user_guide/indexing.html#returning-a-view-versus-a-copy\n",
      "  self[col] = igetitem(value, i)\n"
     ]
    },
    {
     "name": "stdout",
     "output_type": "stream",
     "text": [
      "Epoch 1/15\n",
      "152/152 [==============================] - 11s 56ms/step - loss: 1.3492 - val_loss: 0.2961\n",
      "Epoch 2/15\n",
      "152/152 [==============================] - 8s 52ms/step - loss: 1.3358 - val_loss: 0.2905\n",
      "Epoch 3/15\n",
      "152/152 [==============================] - 8s 52ms/step - loss: 1.3329 - val_loss: 0.2875\n",
      "Epoch 4/15\n",
      "152/152 [==============================] - 8s 52ms/step - loss: 1.3324 - val_loss: 0.2867\n",
      "Epoch 5/15\n",
      "152/152 [==============================] - 8s 52ms/step - loss: 1.3319 - val_loss: 0.2854\n",
      "Epoch 6/15\n",
      "152/152 [==============================] - 8s 51ms/step - loss: 1.3314 - val_loss: 0.2863\n",
      "Epoch 7/15\n",
      "152/152 [==============================] - 8s 51ms/step - loss: 1.3310 - val_loss: 0.2847\n",
      "Epoch 8/15\n",
      "152/152 [==============================] - 8s 52ms/step - loss: 1.3308 - val_loss: 0.2842\n",
      "Epoch 9/15\n",
      "152/152 [==============================] - 8s 51ms/step - loss: 1.3307 - val_loss: 0.2851\n",
      "Epoch 10/15\n",
      "152/152 [==============================] - 8s 52ms/step - loss: 1.3304 - val_loss: 0.2869\n",
      "Epoch 11/15\n",
      "152/152 [==============================] - 8s 51ms/step - loss: 1.3308 - val_loss: 0.2870\n",
      "Epoch 12/15\n",
      "152/152 [==============================] - 8s 51ms/step - loss: 1.3289 - val_loss: 0.2880\n",
      "Epoch 13/15\n",
      "152/152 [==============================] - 8s 52ms/step - loss: 1.3293 - val_loss: 0.2836\n",
      "Epoch 14/15\n",
      "152/152 [==============================] - 8s 52ms/step - loss: 1.3297 - val_loss: 0.2863\n",
      "Epoch 15/15\n",
      "152/152 [==============================] - 8s 52ms/step - loss: 1.3291 - val_loss: 0.2843\n"
     ]
    },
    {
     "name": "stderr",
     "output_type": "stream",
     "text": [
      "WARNING:absl:Found untraced functions such as lstm_cell_34_layer_call_fn, lstm_cell_34_layer_call_and_return_conditional_losses while saving (showing 2 of 2). These functions will not be directly callable after loading.\n"
     ]
    },
    {
     "name": "stdout",
     "output_type": "stream",
     "text": [
      "INFO:tensorflow:Assets written to: Hybrid Univarite3/month2_6_step_lookahead_Hybrid\\assets\n"
     ]
    },
    {
     "name": "stderr",
     "output_type": "stream",
     "text": [
      "INFO:tensorflow:Assets written to: Hybrid Univarite3/month2_6_step_lookahead_Hybrid\\assets\n",
      "WARNING:absl:<keras.layers.recurrent.LSTMCell object at 0x0000014D34D57BB0> has the same name 'LSTMCell' as a built-in Keras object. Consider renaming <class 'keras.layers.recurrent.LSTMCell'> to avoid naming conflicts when loading with `tf.keras.models.load_model`. If renaming is not possible, pass the object in the `custom_objects` parameter of the load function.\n"
     ]
    },
    {
     "name": "stdout",
     "output_type": "stream",
     "text": [
      "152/152 [==============================] - 4s 21ms/step\n",
      "65/65 [==============================] - 1s 19ms/step\n"
     ]
    },
    {
     "name": "stderr",
     "output_type": "stream",
     "text": [
      "D:\\Anaconda\\lib\\site-packages\\pandas\\core\\frame.py:3678: SettingWithCopyWarning: \n",
      "A value is trying to be set on a copy of a slice from a DataFrame.\n",
      "Try using .loc[row_indexer,col_indexer] = value instead\n",
      "\n",
      "See the caveats in the documentation: https://pandas.pydata.org/pandas-docs/stable/user_guide/indexing.html#returning-a-view-versus-a-copy\n",
      "  self[col] = igetitem(value, i)\n"
     ]
    },
    {
     "name": "stdout",
     "output_type": "stream",
     "text": [
      "Epoch 1/15\n",
      "152/152 [==============================] - 11s 55ms/step - loss: 1.3525 - val_loss: 0.2911\n",
      "Epoch 2/15\n",
      "152/152 [==============================] - 8s 52ms/step - loss: 1.3394 - val_loss: 0.2881\n",
      "Epoch 3/15\n",
      "152/152 [==============================] - 8s 52ms/step - loss: 1.3384 - val_loss: 0.2858\n",
      "Epoch 4/15\n",
      "152/152 [==============================] - 8s 51ms/step - loss: 1.3376 - val_loss: 0.2859\n",
      "Epoch 5/15\n",
      "152/152 [==============================] - 8s 51ms/step - loss: 1.3375 - val_loss: 0.2847\n",
      "Epoch 6/15\n",
      "152/152 [==============================] - 8s 51ms/step - loss: 1.3368 - val_loss: 0.2847\n",
      "Epoch 7/15\n",
      "152/152 [==============================] - 8s 52ms/step - loss: 1.3367 - val_loss: 0.2835\n",
      "Epoch 8/15\n",
      "152/152 [==============================] - 8s 51ms/step - loss: 1.3375 - val_loss: 0.2835\n",
      "Epoch 9/15\n",
      "152/152 [==============================] - 8s 51ms/step - loss: 1.3374 - val_loss: 0.2839\n",
      "Epoch 10/15\n",
      "152/152 [==============================] - 8s 51ms/step - loss: 1.3369 - val_loss: 0.2838\n",
      "Epoch 11/15\n",
      "152/152 [==============================] - 8s 51ms/step - loss: 1.3368 - val_loss: 0.2835\n",
      "Epoch 12/15\n",
      "152/152 [==============================] - 8s 52ms/step - loss: 1.3366 - val_loss: 0.2833\n",
      "Epoch 13/15\n",
      "152/152 [==============================] - 8s 51ms/step - loss: 1.3368 - val_loss: 0.2839\n",
      "Epoch 14/15\n",
      "152/152 [==============================] - 8s 51ms/step - loss: 1.3357 - val_loss: 0.2840\n",
      "Epoch 15/15\n",
      "152/152 [==============================] - 8s 52ms/step - loss: 1.3360 - val_loss: 0.2828\n"
     ]
    },
    {
     "name": "stderr",
     "output_type": "stream",
     "text": [
      "WARNING:absl:Found untraced functions such as lstm_cell_35_layer_call_fn, lstm_cell_35_layer_call_and_return_conditional_losses while saving (showing 2 of 2). These functions will not be directly callable after loading.\n"
     ]
    },
    {
     "name": "stdout",
     "output_type": "stream",
     "text": [
      "INFO:tensorflow:Assets written to: Hybrid Univarite3/month2_7_step_lookahead_Hybrid\\assets\n"
     ]
    },
    {
     "name": "stderr",
     "output_type": "stream",
     "text": [
      "INFO:tensorflow:Assets written to: Hybrid Univarite3/month2_7_step_lookahead_Hybrid\\assets\n",
      "WARNING:absl:<keras.layers.recurrent.LSTMCell object at 0x0000015027C942B0> has the same name 'LSTMCell' as a built-in Keras object. Consider renaming <class 'keras.layers.recurrent.LSTMCell'> to avoid naming conflicts when loading with `tf.keras.models.load_model`. If renaming is not possible, pass the object in the `custom_objects` parameter of the load function.\n"
     ]
    },
    {
     "name": "stdout",
     "output_type": "stream",
     "text": [
      "152/152 [==============================] - 4s 21ms/step\n",
      "65/65 [==============================] - 1s 19ms/step\n"
     ]
    },
    {
     "name": "stderr",
     "output_type": "stream",
     "text": [
      "D:\\Anaconda\\lib\\site-packages\\pandas\\core\\frame.py:3678: SettingWithCopyWarning: \n",
      "A value is trying to be set on a copy of a slice from a DataFrame.\n",
      "Try using .loc[row_indexer,col_indexer] = value instead\n",
      "\n",
      "See the caveats in the documentation: https://pandas.pydata.org/pandas-docs/stable/user_guide/indexing.html#returning-a-view-versus-a-copy\n",
      "  self[col] = igetitem(value, i)\n"
     ]
    },
    {
     "name": "stdout",
     "output_type": "stream",
     "text": [
      "Epoch 1/15\n",
      "152/152 [==============================] - 10s 55ms/step - loss: 1.3581 - val_loss: 0.3078\n",
      "Epoch 2/15\n",
      "152/152 [==============================] - 8s 52ms/step - loss: 1.3470 - val_loss: 0.3046\n",
      "Epoch 3/15\n",
      "152/152 [==============================] - 8s 51ms/step - loss: 1.3458 - val_loss: 0.3030\n",
      "Epoch 4/15\n",
      "152/152 [==============================] - 8s 52ms/step - loss: 1.3445 - val_loss: 0.3025\n",
      "Epoch 5/15\n",
      "152/152 [==============================] - 8s 52ms/step - loss: 1.3447 - val_loss: 0.3024\n",
      "Epoch 6/15\n",
      "152/152 [==============================] - 8s 52ms/step - loss: 1.3450 - val_loss: 0.3017\n",
      "Epoch 7/15\n",
      "152/152 [==============================] - 8s 51ms/step - loss: 1.3442 - val_loss: 0.3025\n",
      "Epoch 8/15\n",
      "152/152 [==============================] - 8s 51ms/step - loss: 1.3443 - val_loss: 0.3017\n",
      "Epoch 9/15\n",
      "152/152 [==============================] - 8s 51ms/step - loss: 1.3428 - val_loss: 0.3037\n",
      "Epoch 10/15\n",
      "152/152 [==============================] - 8s 51ms/step - loss: 1.3438 - val_loss: 0.3045\n",
      "Epoch 11/15\n",
      "152/152 [==============================] - 8s 51ms/step - loss: 1.3444 - val_loss: 0.3014\n",
      "Epoch 12/15\n",
      "152/152 [==============================] - 8s 51ms/step - loss: 1.3432 - val_loss: 0.3021\n",
      "Epoch 13/15\n",
      "152/152 [==============================] - 8s 51ms/step - loss: 1.3420 - val_loss: 0.3058\n",
      "Epoch 14/15\n",
      "152/152 [==============================] - 8s 51ms/step - loss: 1.3434 - val_loss: 0.3056\n",
      "Epoch 15/15\n",
      "152/152 [==============================] - 8s 51ms/step - loss: 1.3435 - val_loss: 0.3043\n"
     ]
    },
    {
     "name": "stderr",
     "output_type": "stream",
     "text": [
      "WARNING:absl:Found untraced functions such as lstm_cell_36_layer_call_fn, lstm_cell_36_layer_call_and_return_conditional_losses while saving (showing 2 of 2). These functions will not be directly callable after loading.\n"
     ]
    },
    {
     "name": "stdout",
     "output_type": "stream",
     "text": [
      "INFO:tensorflow:Assets written to: Hybrid Univarite3/month2_8_step_lookahead_Hybrid\\assets\n"
     ]
    },
    {
     "name": "stderr",
     "output_type": "stream",
     "text": [
      "INFO:tensorflow:Assets written to: Hybrid Univarite3/month2_8_step_lookahead_Hybrid\\assets\n",
      "WARNING:absl:<keras.layers.recurrent.LSTMCell object at 0x0000014D3424F460> has the same name 'LSTMCell' as a built-in Keras object. Consider renaming <class 'keras.layers.recurrent.LSTMCell'> to avoid naming conflicts when loading with `tf.keras.models.load_model`. If renaming is not possible, pass the object in the `custom_objects` parameter of the load function.\n"
     ]
    },
    {
     "name": "stdout",
     "output_type": "stream",
     "text": [
      "152/152 [==============================] - 4s 21ms/step\n",
      "65/65 [==============================] - 1s 19ms/step\n"
     ]
    },
    {
     "name": "stderr",
     "output_type": "stream",
     "text": [
      "D:\\Anaconda\\lib\\site-packages\\pandas\\core\\frame.py:3678: SettingWithCopyWarning: \n",
      "A value is trying to be set on a copy of a slice from a DataFrame.\n",
      "Try using .loc[row_indexer,col_indexer] = value instead\n",
      "\n",
      "See the caveats in the documentation: https://pandas.pydata.org/pandas-docs/stable/user_guide/indexing.html#returning-a-view-versus-a-copy\n",
      "  self[col] = igetitem(value, i)\n"
     ]
    },
    {
     "name": "stdout",
     "output_type": "stream",
     "text": [
      "Epoch 1/15\n",
      "152/152 [==============================] - 10s 56ms/step - loss: 1.3553 - val_loss: 0.3058\n",
      "Epoch 2/15\n",
      "152/152 [==============================] - 8s 51ms/step - loss: 1.3499 - val_loss: 0.3147\n",
      "Epoch 3/15\n",
      "152/152 [==============================] - 8s 51ms/step - loss: 1.3489 - val_loss: 0.3036\n",
      "Epoch 4/15\n",
      "152/152 [==============================] - 8s 51ms/step - loss: 1.3500 - val_loss: 0.3042\n",
      "Epoch 5/15\n",
      "152/152 [==============================] - 8s 51ms/step - loss: 1.3488 - val_loss: 0.3028\n",
      "Epoch 6/15\n",
      "152/152 [==============================] - 8s 51ms/step - loss: 1.3491 - val_loss: 0.3024\n",
      "Epoch 7/15\n",
      "152/152 [==============================] - 8s 51ms/step - loss: 1.3490 - val_loss: 0.3029\n",
      "Epoch 8/15\n",
      "152/152 [==============================] - 8s 51ms/step - loss: 1.3483 - val_loss: 0.3026\n",
      "Epoch 9/15\n",
      "152/152 [==============================] - 8s 52ms/step - loss: 1.3493 - val_loss: 0.3018\n",
      "Epoch 10/15\n",
      "152/152 [==============================] - 8s 51ms/step - loss: 1.3485 - val_loss: 0.3027\n",
      "Epoch 11/15\n",
      "152/152 [==============================] - 8s 51ms/step - loss: 1.3476 - val_loss: 0.3032\n",
      "Epoch 12/15\n",
      "152/152 [==============================] - 8s 51ms/step - loss: 1.3472 - val_loss: 0.3090\n",
      "Epoch 13/15\n",
      "152/152 [==============================] - 8s 51ms/step - loss: 1.3481 - val_loss: 0.3032\n",
      "Epoch 14/15\n",
      "152/152 [==============================] - 8s 51ms/step - loss: 1.3465 - val_loss: 0.3059\n",
      "Epoch 15/15\n",
      "152/152 [==============================] - 8s 51ms/step - loss: 1.3460 - val_loss: 0.3062\n"
     ]
    },
    {
     "name": "stderr",
     "output_type": "stream",
     "text": [
      "WARNING:absl:Found untraced functions such as lstm_cell_37_layer_call_fn, lstm_cell_37_layer_call_and_return_conditional_losses while saving (showing 2 of 2). These functions will not be directly callable after loading.\n"
     ]
    },
    {
     "name": "stdout",
     "output_type": "stream",
     "text": [
      "INFO:tensorflow:Assets written to: Hybrid Univarite3/month2_9_step_lookahead_Hybrid\\assets\n"
     ]
    },
    {
     "name": "stderr",
     "output_type": "stream",
     "text": [
      "INFO:tensorflow:Assets written to: Hybrid Univarite3/month2_9_step_lookahead_Hybrid\\assets\n",
      "WARNING:absl:<keras.layers.recurrent.LSTMCell object at 0x0000014FD11A87F0> has the same name 'LSTMCell' as a built-in Keras object. Consider renaming <class 'keras.layers.recurrent.LSTMCell'> to avoid naming conflicts when loading with `tf.keras.models.load_model`. If renaming is not possible, pass the object in the `custom_objects` parameter of the load function.\n"
     ]
    },
    {
     "name": "stdout",
     "output_type": "stream",
     "text": [
      "152/152 [==============================] - 4s 21ms/step\n",
      "65/65 [==============================] - 1s 19ms/step\n"
     ]
    },
    {
     "name": "stderr",
     "output_type": "stream",
     "text": [
      "D:\\Anaconda\\lib\\site-packages\\pandas\\core\\frame.py:3678: SettingWithCopyWarning: \n",
      "A value is trying to be set on a copy of a slice from a DataFrame.\n",
      "Try using .loc[row_indexer,col_indexer] = value instead\n",
      "\n",
      "See the caveats in the documentation: https://pandas.pydata.org/pandas-docs/stable/user_guide/indexing.html#returning-a-view-versus-a-copy\n",
      "  self[col] = igetitem(value, i)\n"
     ]
    },
    {
     "name": "stdout",
     "output_type": "stream",
     "text": [
      "Epoch 1/15\n",
      "151/151 [==============================] - 10s 58ms/step - loss: 1.3667 - val_loss: 0.3070\n",
      "Epoch 2/15\n",
      "151/151 [==============================] - 8s 50ms/step - loss: 1.3587 - val_loss: 0.3057\n",
      "Epoch 3/15\n",
      "151/151 [==============================] - 8s 50ms/step - loss: 1.3574 - val_loss: 0.3044\n",
      "Epoch 4/15\n",
      "151/151 [==============================] - 8s 50ms/step - loss: 1.3556 - val_loss: 0.3187\n",
      "Epoch 5/15\n",
      "151/151 [==============================] - 8s 50ms/step - loss: 1.3575 - val_loss: 0.3035\n",
      "Epoch 6/15\n",
      "151/151 [==============================] - 8s 50ms/step - loss: 1.3565 - val_loss: 0.3063\n",
      "Epoch 7/15\n",
      "151/151 [==============================] - 8s 50ms/step - loss: 1.3560 - val_loss: 0.3090\n",
      "Epoch 8/15\n",
      "151/151 [==============================] - 8s 50ms/step - loss: 1.3568 - val_loss: 0.3070\n",
      "Epoch 9/15\n",
      "151/151 [==============================] - 8s 50ms/step - loss: 1.3556 - val_loss: 0.3028\n",
      "Epoch 10/15\n",
      "151/151 [==============================] - 8s 50ms/step - loss: 1.3561 - val_loss: 0.3021\n",
      "Epoch 11/15\n",
      "151/151 [==============================] - 8s 50ms/step - loss: 1.3546 - val_loss: 0.3094\n",
      "Epoch 12/15\n",
      "151/151 [==============================] - 8s 50ms/step - loss: 1.3560 - val_loss: 0.3073\n",
      "Epoch 13/15\n",
      "151/151 [==============================] - 8s 50ms/step - loss: 1.3558 - val_loss: 0.3046\n",
      "Epoch 14/15\n",
      "151/151 [==============================] - 8s 50ms/step - loss: 1.3553 - val_loss: 0.3059\n",
      "Epoch 15/15\n",
      "151/151 [==============================] - 8s 50ms/step - loss: 1.3556 - val_loss: 0.3055\n"
     ]
    },
    {
     "name": "stderr",
     "output_type": "stream",
     "text": [
      "WARNING:absl:Found untraced functions such as lstm_cell_38_layer_call_fn, lstm_cell_38_layer_call_and_return_conditional_losses while saving (showing 2 of 2). These functions will not be directly callable after loading.\n"
     ]
    },
    {
     "name": "stdout",
     "output_type": "stream",
     "text": [
      "INFO:tensorflow:Assets written to: Hybrid Univarite3/month2_10_step_lookahead_Hybrid\\assets\n"
     ]
    },
    {
     "name": "stderr",
     "output_type": "stream",
     "text": [
      "INFO:tensorflow:Assets written to: Hybrid Univarite3/month2_10_step_lookahead_Hybrid\\assets\n",
      "WARNING:absl:<keras.layers.recurrent.LSTMCell object at 0x0000014FCFD60AC0> has the same name 'LSTMCell' as a built-in Keras object. Consider renaming <class 'keras.layers.recurrent.LSTMCell'> to avoid naming conflicts when loading with `tf.keras.models.load_model`. If renaming is not possible, pass the object in the `custom_objects` parameter of the load function.\n"
     ]
    },
    {
     "name": "stdout",
     "output_type": "stream",
     "text": [
      "151/151 [==============================] - 4s 21ms/step\n",
      "65/65 [==============================] - 2s 19ms/step\n"
     ]
    },
    {
     "name": "stderr",
     "output_type": "stream",
     "text": [
      "D:\\Anaconda\\lib\\site-packages\\pandas\\core\\frame.py:3678: SettingWithCopyWarning: \n",
      "A value is trying to be set on a copy of a slice from a DataFrame.\n",
      "Try using .loc[row_indexer,col_indexer] = value instead\n",
      "\n",
      "See the caveats in the documentation: https://pandas.pydata.org/pandas-docs/stable/user_guide/indexing.html#returning-a-view-versus-a-copy\n",
      "  self[col] = igetitem(value, i)\n",
      "D:\\Anaconda\\lib\\site-packages\\pandas\\core\\frame.py:3678: SettingWithCopyWarning: \n",
      "A value is trying to be set on a copy of a slice from a DataFrame.\n",
      "Try using .loc[row_indexer,col_indexer] = value instead\n",
      "\n",
      "See the caveats in the documentation: https://pandas.pydata.org/pandas-docs/stable/user_guide/indexing.html#returning-a-view-versus-a-copy\n",
      "  self[col] = igetitem(value, i)\n"
     ]
    },
    {
     "name": "stdout",
     "output_type": "stream",
     "text": [
      "Epoch 1/15\n",
      "133/133 [==============================] - 10s 56ms/step - loss: 0.2553 - val_loss: 0.0271\n",
      "Epoch 2/15\n",
      "133/133 [==============================] - 7s 51ms/step - loss: 0.1470 - val_loss: 0.0213\n",
      "Epoch 3/15\n",
      "133/133 [==============================] - 7s 52ms/step - loss: 0.1328 - val_loss: 0.0194\n",
      "Epoch 4/15\n",
      "133/133 [==============================] - 7s 52ms/step - loss: 0.1264 - val_loss: 0.0186\n",
      "Epoch 5/15\n",
      "133/133 [==============================] - 7s 52ms/step - loss: 0.1219 - val_loss: 0.0179\n",
      "Epoch 6/15\n",
      "133/133 [==============================] - 7s 51ms/step - loss: 0.1181 - val_loss: 0.0226\n",
      "Epoch 7/15\n",
      "133/133 [==============================] - 7s 51ms/step - loss: 0.1166 - val_loss: 0.0171\n",
      "Epoch 8/15\n",
      "133/133 [==============================] - 7s 52ms/step - loss: 0.1141 - val_loss: 0.0167\n",
      "Epoch 9/15\n",
      "133/133 [==============================] - 7s 52ms/step - loss: 0.1129 - val_loss: 0.0191\n",
      "Epoch 10/15\n",
      "133/133 [==============================] - 7s 52ms/step - loss: 0.1117 - val_loss: 0.0166\n",
      "Epoch 11/15\n",
      "133/133 [==============================] - 7s 51ms/step - loss: 0.1113 - val_loss: 0.0168\n",
      "Epoch 12/15\n",
      "133/133 [==============================] - 7s 51ms/step - loss: 0.1100 - val_loss: 0.0159\n",
      "Epoch 13/15\n",
      "133/133 [==============================] - 7s 51ms/step - loss: 0.1097 - val_loss: 0.0194\n",
      "Epoch 14/15\n",
      "133/133 [==============================] - 7s 52ms/step - loss: 0.1082 - val_loss: 0.0153\n",
      "Epoch 15/15\n",
      "133/133 [==============================] - 7s 51ms/step - loss: 0.1086 - val_loss: 0.0158\n"
     ]
    },
    {
     "name": "stderr",
     "output_type": "stream",
     "text": [
      "WARNING:absl:Found untraced functions such as lstm_cell_39_layer_call_fn, lstm_cell_39_layer_call_and_return_conditional_losses while saving (showing 2 of 2). These functions will not be directly callable after loading.\n"
     ]
    },
    {
     "name": "stdout",
     "output_type": "stream",
     "text": [
      "INFO:tensorflow:Assets written to: Hybrid Univarite3/month3_1_step_lookahead_Hybrid\\assets\n"
     ]
    },
    {
     "name": "stderr",
     "output_type": "stream",
     "text": [
      "INFO:tensorflow:Assets written to: Hybrid Univarite3/month3_1_step_lookahead_Hybrid\\assets\n",
      "WARNING:absl:<keras.layers.recurrent.LSTMCell object at 0x0000015047B0A280> has the same name 'LSTMCell' as a built-in Keras object. Consider renaming <class 'keras.layers.recurrent.LSTMCell'> to avoid naming conflicts when loading with `tf.keras.models.load_model`. If renaming is not possible, pass the object in the `custom_objects` parameter of the load function.\n"
     ]
    },
    {
     "name": "stdout",
     "output_type": "stream",
     "text": [
      "133/133 [==============================] - 3s 21ms/step\n",
      "57/57 [==============================] - 1s 20ms/step\n"
     ]
    },
    {
     "name": "stderr",
     "output_type": "stream",
     "text": [
      "D:\\Anaconda\\lib\\site-packages\\pandas\\core\\frame.py:3678: SettingWithCopyWarning: \n",
      "A value is trying to be set on a copy of a slice from a DataFrame.\n",
      "Try using .loc[row_indexer,col_indexer] = value instead\n",
      "\n",
      "See the caveats in the documentation: https://pandas.pydata.org/pandas-docs/stable/user_guide/indexing.html#returning-a-view-versus-a-copy\n",
      "  self[col] = igetitem(value, i)\n"
     ]
    },
    {
     "name": "stdout",
     "output_type": "stream",
     "text": [
      "Epoch 1/15\n",
      "133/133 [==============================] - 10s 57ms/step - loss: 0.1921 - val_loss: 0.0197\n",
      "Epoch 2/15\n",
      "133/133 [==============================] - 7s 51ms/step - loss: 0.1531 - val_loss: 0.0184\n",
      "Epoch 3/15\n",
      "133/133 [==============================] - 7s 52ms/step - loss: 0.1487 - val_loss: 0.0181\n",
      "Epoch 4/15\n",
      "133/133 [==============================] - 7s 52ms/step - loss: 0.1437 - val_loss: 0.0177\n",
      "Epoch 5/15\n",
      "133/133 [==============================] - 7s 51ms/step - loss: 0.1410 - val_loss: 0.0178\n",
      "Epoch 6/15\n",
      "133/133 [==============================] - 7s 51ms/step - loss: 0.1390 - val_loss: 0.0174\n",
      "Epoch 7/15\n",
      "133/133 [==============================] - 7s 52ms/step - loss: 0.1377 - val_loss: 0.0174\n",
      "Epoch 8/15\n",
      "133/133 [==============================] - 7s 52ms/step - loss: 0.1365 - val_loss: 0.0170\n",
      "Epoch 9/15\n",
      "133/133 [==============================] - 7s 51ms/step - loss: 0.1354 - val_loss: 0.0171\n",
      "Epoch 10/15\n",
      "133/133 [==============================] - 7s 51ms/step - loss: 0.1349 - val_loss: 0.0174\n",
      "Epoch 11/15\n",
      "133/133 [==============================] - 7s 51ms/step - loss: 0.1347 - val_loss: 0.0172\n",
      "Epoch 12/15\n",
      "133/133 [==============================] - 7s 51ms/step - loss: 0.1333 - val_loss: 0.0168\n",
      "Epoch 13/15\n",
      "133/133 [==============================] - 7s 51ms/step - loss: 0.1321 - val_loss: 0.0170\n",
      "Epoch 14/15\n",
      "133/133 [==============================] - 7s 51ms/step - loss: 0.1318 - val_loss: 0.0166\n",
      "Epoch 15/15\n",
      "133/133 [==============================] - 7s 51ms/step - loss: 0.1331 - val_loss: 0.0169\n"
     ]
    },
    {
     "name": "stderr",
     "output_type": "stream",
     "text": [
      "WARNING:absl:Found untraced functions such as lstm_cell_40_layer_call_fn, lstm_cell_40_layer_call_and_return_conditional_losses while saving (showing 2 of 2). These functions will not be directly callable after loading.\n"
     ]
    },
    {
     "name": "stdout",
     "output_type": "stream",
     "text": [
      "INFO:tensorflow:Assets written to: Hybrid Univarite3/month3_2_step_lookahead_Hybrid\\assets\n"
     ]
    },
    {
     "name": "stderr",
     "output_type": "stream",
     "text": [
      "INFO:tensorflow:Assets written to: Hybrid Univarite3/month3_2_step_lookahead_Hybrid\\assets\n",
      "WARNING:absl:<keras.layers.recurrent.LSTMCell object at 0x0000014D2818C3D0> has the same name 'LSTMCell' as a built-in Keras object. Consider renaming <class 'keras.layers.recurrent.LSTMCell'> to avoid naming conflicts when loading with `tf.keras.models.load_model`. If renaming is not possible, pass the object in the `custom_objects` parameter of the load function.\n"
     ]
    },
    {
     "name": "stdout",
     "output_type": "stream",
     "text": [
      "133/133 [==============================] - 3s 21ms/step\n",
      "57/57 [==============================] - 1s 19ms/step\n"
     ]
    },
    {
     "name": "stderr",
     "output_type": "stream",
     "text": [
      "D:\\Anaconda\\lib\\site-packages\\pandas\\core\\frame.py:3678: SettingWithCopyWarning: \n",
      "A value is trying to be set on a copy of a slice from a DataFrame.\n",
      "Try using .loc[row_indexer,col_indexer] = value instead\n",
      "\n",
      "See the caveats in the documentation: https://pandas.pydata.org/pandas-docs/stable/user_guide/indexing.html#returning-a-view-versus-a-copy\n",
      "  self[col] = igetitem(value, i)\n"
     ]
    },
    {
     "name": "stdout",
     "output_type": "stream",
     "text": [
      "Epoch 1/15\n",
      "133/133 [==============================] - 9s 56ms/step - loss: 0.2316 - val_loss: 0.0216\n",
      "Epoch 2/15\n",
      "133/133 [==============================] - 7s 52ms/step - loss: 0.1655 - val_loss: 0.0183\n",
      "Epoch 3/15\n",
      "133/133 [==============================] - 7s 52ms/step - loss: 0.1581 - val_loss: 0.0181\n",
      "Epoch 4/15\n",
      "133/133 [==============================] - 7s 51ms/step - loss: 0.1548 - val_loss: 0.0172\n",
      "Epoch 5/15\n",
      "133/133 [==============================] - 7s 51ms/step - loss: 0.1530 - val_loss: 0.0184\n",
      "Epoch 6/15\n",
      "133/133 [==============================] - 7s 51ms/step - loss: 0.1518 - val_loss: 0.0175\n",
      "Epoch 7/15\n",
      "133/133 [==============================] - 7s 51ms/step - loss: 0.1506 - val_loss: 0.0167\n",
      "Epoch 8/15\n",
      "133/133 [==============================] - 7s 52ms/step - loss: 0.1495 - val_loss: 0.0166\n",
      "Epoch 9/15\n",
      "133/133 [==============================] - 7s 51ms/step - loss: 0.1492 - val_loss: 0.0166\n",
      "Epoch 10/15\n",
      "133/133 [==============================] - 7s 51ms/step - loss: 0.1485 - val_loss: 0.0170\n",
      "Epoch 11/15\n",
      "133/133 [==============================] - 7s 52ms/step - loss: 0.1481 - val_loss: 0.0165\n",
      "Epoch 12/15\n",
      "133/133 [==============================] - 7s 51ms/step - loss: 0.1476 - val_loss: 0.0166\n",
      "Epoch 13/15\n",
      "133/133 [==============================] - 7s 51ms/step - loss: 0.1477 - val_loss: 0.0170\n",
      "Epoch 14/15\n",
      "133/133 [==============================] - 7s 51ms/step - loss: 0.1468 - val_loss: 0.0167\n",
      "Epoch 15/15\n",
      "133/133 [==============================] - 7s 51ms/step - loss: 0.1460 - val_loss: 0.0166\n"
     ]
    },
    {
     "name": "stderr",
     "output_type": "stream",
     "text": [
      "WARNING:absl:Found untraced functions such as lstm_cell_41_layer_call_fn, lstm_cell_41_layer_call_and_return_conditional_losses while saving (showing 2 of 2). These functions will not be directly callable after loading.\n"
     ]
    },
    {
     "name": "stdout",
     "output_type": "stream",
     "text": [
      "INFO:tensorflow:Assets written to: Hybrid Univarite3/month3_3_step_lookahead_Hybrid\\assets\n"
     ]
    },
    {
     "name": "stderr",
     "output_type": "stream",
     "text": [
      "INFO:tensorflow:Assets written to: Hybrid Univarite3/month3_3_step_lookahead_Hybrid\\assets\n",
      "WARNING:absl:<keras.layers.recurrent.LSTMCell object at 0x0000014D350A67C0> has the same name 'LSTMCell' as a built-in Keras object. Consider renaming <class 'keras.layers.recurrent.LSTMCell'> to avoid naming conflicts when loading with `tf.keras.models.load_model`. If renaming is not possible, pass the object in the `custom_objects` parameter of the load function.\n"
     ]
    },
    {
     "name": "stdout",
     "output_type": "stream",
     "text": [
      "133/133 [==============================] - 3s 21ms/step\n",
      "57/57 [==============================] - 1s 19ms/step\n"
     ]
    },
    {
     "name": "stderr",
     "output_type": "stream",
     "text": [
      "D:\\Anaconda\\lib\\site-packages\\pandas\\core\\frame.py:3678: SettingWithCopyWarning: \n",
      "A value is trying to be set on a copy of a slice from a DataFrame.\n",
      "Try using .loc[row_indexer,col_indexer] = value instead\n",
      "\n",
      "See the caveats in the documentation: https://pandas.pydata.org/pandas-docs/stable/user_guide/indexing.html#returning-a-view-versus-a-copy\n",
      "  self[col] = igetitem(value, i)\n"
     ]
    },
    {
     "name": "stdout",
     "output_type": "stream",
     "text": [
      "Epoch 1/15\n",
      "133/133 [==============================] - 10s 56ms/step - loss: 0.2601 - val_loss: 0.0268\n",
      "Epoch 2/15\n",
      "133/133 [==============================] - 7s 52ms/step - loss: 0.1740 - val_loss: 0.0238\n",
      "Epoch 3/15\n",
      "133/133 [==============================] - 7s 52ms/step - loss: 0.1679 - val_loss: 0.0235\n",
      "Epoch 4/15\n",
      "133/133 [==============================] - 7s 51ms/step - loss: 0.1639 - val_loss: 0.0238\n",
      "Epoch 5/15\n",
      "133/133 [==============================] - 7s 51ms/step - loss: 0.1619 - val_loss: 0.0241\n",
      "Epoch 6/15\n",
      "133/133 [==============================] - 7s 52ms/step - loss: 0.1604 - val_loss: 0.0244\n",
      "Epoch 7/15\n",
      "133/133 [==============================] - 7s 51ms/step - loss: 0.1600 - val_loss: 0.0243\n",
      "Epoch 8/15\n",
      "133/133 [==============================] - 7s 51ms/step - loss: 0.1589 - val_loss: 0.0245\n",
      "Epoch 9/15\n",
      "133/133 [==============================] - 7s 51ms/step - loss: 0.1591 - val_loss: 0.0260\n",
      "Epoch 10/15\n",
      "133/133 [==============================] - 7s 51ms/step - loss: 0.1586 - val_loss: 0.0248\n",
      "Epoch 11/15\n",
      "133/133 [==============================] - 7s 51ms/step - loss: 0.1586 - val_loss: 0.0247\n",
      "Epoch 12/15\n",
      "133/133 [==============================] - 7s 51ms/step - loss: 0.1574 - val_loss: 0.0255\n",
      "Epoch 13/15\n",
      "133/133 [==============================] - 7s 52ms/step - loss: 0.1579 - val_loss: 0.0254\n",
      "Epoch 14/15\n",
      "133/133 [==============================] - 7s 51ms/step - loss: 0.1568 - val_loss: 0.0265\n",
      "Epoch 15/15\n",
      "133/133 [==============================] - 7s 51ms/step - loss: 0.1560 - val_loss: 0.0251\n"
     ]
    },
    {
     "name": "stderr",
     "output_type": "stream",
     "text": [
      "WARNING:absl:Found untraced functions such as lstm_cell_42_layer_call_fn, lstm_cell_42_layer_call_and_return_conditional_losses while saving (showing 2 of 2). These functions will not be directly callable after loading.\n"
     ]
    },
    {
     "name": "stdout",
     "output_type": "stream",
     "text": [
      "INFO:tensorflow:Assets written to: Hybrid Univarite3/month3_4_step_lookahead_Hybrid\\assets\n"
     ]
    },
    {
     "name": "stderr",
     "output_type": "stream",
     "text": [
      "INFO:tensorflow:Assets written to: Hybrid Univarite3/month3_4_step_lookahead_Hybrid\\assets\n",
      "WARNING:absl:<keras.layers.recurrent.LSTMCell object at 0x0000014FDD97D940> has the same name 'LSTMCell' as a built-in Keras object. Consider renaming <class 'keras.layers.recurrent.LSTMCell'> to avoid naming conflicts when loading with `tf.keras.models.load_model`. If renaming is not possible, pass the object in the `custom_objects` parameter of the load function.\n"
     ]
    },
    {
     "name": "stdout",
     "output_type": "stream",
     "text": [
      "133/133 [==============================] - 3s 21ms/step\n",
      "57/57 [==============================] - 1s 19ms/step\n"
     ]
    },
    {
     "name": "stderr",
     "output_type": "stream",
     "text": [
      "D:\\Anaconda\\lib\\site-packages\\pandas\\core\\frame.py:3678: SettingWithCopyWarning: \n",
      "A value is trying to be set on a copy of a slice from a DataFrame.\n",
      "Try using .loc[row_indexer,col_indexer] = value instead\n",
      "\n",
      "See the caveats in the documentation: https://pandas.pydata.org/pandas-docs/stable/user_guide/indexing.html#returning-a-view-versus-a-copy\n",
      "  self[col] = igetitem(value, i)\n"
     ]
    },
    {
     "name": "stdout",
     "output_type": "stream",
     "text": [
      "Epoch 1/15\n",
      "133/133 [==============================] - 10s 56ms/step - loss: 0.2589 - val_loss: 0.0263\n",
      "Epoch 2/15\n",
      "133/133 [==============================] - 7s 52ms/step - loss: 0.1760 - val_loss: 0.0240\n",
      "Epoch 3/15\n",
      "133/133 [==============================] - 7s 52ms/step - loss: 0.1714 - val_loss: 0.0236\n",
      "Epoch 4/15\n",
      "133/133 [==============================] - 7s 51ms/step - loss: 0.1691 - val_loss: 0.0237\n",
      "Epoch 5/15\n",
      "133/133 [==============================] - 7s 51ms/step - loss: 0.1683 - val_loss: 0.0250\n",
      "Epoch 6/15\n",
      "133/133 [==============================] - 7s 51ms/step - loss: 0.1669 - val_loss: 0.0247\n",
      "Epoch 7/15\n",
      "133/133 [==============================] - 7s 52ms/step - loss: 0.1661 - val_loss: 0.0243\n",
      "Epoch 8/15\n",
      "133/133 [==============================] - 7s 51ms/step - loss: 0.1662 - val_loss: 0.0248\n",
      "Epoch 9/15\n",
      "133/133 [==============================] - 7s 51ms/step - loss: 0.1656 - val_loss: 0.0250\n",
      "Epoch 10/15\n",
      "133/133 [==============================] - 7s 51ms/step - loss: 0.1662 - val_loss: 0.0246\n",
      "Epoch 11/15\n",
      "133/133 [==============================] - 7s 51ms/step - loss: 0.1664 - val_loss: 0.0245\n",
      "Epoch 12/15\n",
      "133/133 [==============================] - 7s 51ms/step - loss: 0.1652 - val_loss: 0.0248\n",
      "Epoch 13/15\n",
      "133/133 [==============================] - 7s 51ms/step - loss: 0.1650 - val_loss: 0.0245\n",
      "Epoch 14/15\n",
      "133/133 [==============================] - 7s 51ms/step - loss: 0.1652 - val_loss: 0.0246\n",
      "Epoch 15/15\n",
      "133/133 [==============================] - 7s 51ms/step - loss: 0.1646 - val_loss: 0.0247\n"
     ]
    },
    {
     "name": "stderr",
     "output_type": "stream",
     "text": [
      "WARNING:absl:Found untraced functions such as lstm_cell_43_layer_call_fn, lstm_cell_43_layer_call_and_return_conditional_losses while saving (showing 2 of 2). These functions will not be directly callable after loading.\n"
     ]
    },
    {
     "name": "stdout",
     "output_type": "stream",
     "text": [
      "INFO:tensorflow:Assets written to: Hybrid Univarite3/month3_5_step_lookahead_Hybrid\\assets\n"
     ]
    },
    {
     "name": "stderr",
     "output_type": "stream",
     "text": [
      "INFO:tensorflow:Assets written to: Hybrid Univarite3/month3_5_step_lookahead_Hybrid\\assets\n",
      "WARNING:absl:<keras.layers.recurrent.LSTMCell object at 0x0000014FF8B27550> has the same name 'LSTMCell' as a built-in Keras object. Consider renaming <class 'keras.layers.recurrent.LSTMCell'> to avoid naming conflicts when loading with `tf.keras.models.load_model`. If renaming is not possible, pass the object in the `custom_objects` parameter of the load function.\n"
     ]
    },
    {
     "name": "stdout",
     "output_type": "stream",
     "text": [
      "133/133 [==============================] - 3s 21ms/step\n",
      "57/57 [==============================] - 1s 19ms/step\n"
     ]
    },
    {
     "name": "stderr",
     "output_type": "stream",
     "text": [
      "D:\\Anaconda\\lib\\site-packages\\pandas\\core\\frame.py:3678: SettingWithCopyWarning: \n",
      "A value is trying to be set on a copy of a slice from a DataFrame.\n",
      "Try using .loc[row_indexer,col_indexer] = value instead\n",
      "\n",
      "See the caveats in the documentation: https://pandas.pydata.org/pandas-docs/stable/user_guide/indexing.html#returning-a-view-versus-a-copy\n",
      "  self[col] = igetitem(value, i)\n"
     ]
    },
    {
     "name": "stdout",
     "output_type": "stream",
     "text": [
      "Epoch 1/15\n",
      "133/133 [==============================] - 9s 56ms/step - loss: 0.2262 - val_loss: 0.0259\n",
      "Epoch 2/15\n",
      "133/133 [==============================] - 7s 52ms/step - loss: 0.1774 - val_loss: 0.0240\n",
      "Epoch 3/15\n",
      "133/133 [==============================] - 7s 52ms/step - loss: 0.1754 - val_loss: 0.0234\n",
      "Epoch 4/15\n",
      "133/133 [==============================] - 7s 52ms/step - loss: 0.1752 - val_loss: 0.0233\n",
      "Epoch 5/15\n",
      "133/133 [==============================] - 7s 52ms/step - loss: 0.1741 - val_loss: 0.0232\n",
      "Epoch 6/15\n",
      "133/133 [==============================] - 7s 51ms/step - loss: 0.1743 - val_loss: 0.0247\n",
      "Epoch 7/15\n",
      "133/133 [==============================] - 7s 52ms/step - loss: 0.1747 - val_loss: 0.0235\n",
      "Epoch 8/15\n",
      "133/133 [==============================] - 7s 51ms/step - loss: 0.1735 - val_loss: 0.0243\n",
      "Epoch 9/15\n",
      "133/133 [==============================] - 7s 51ms/step - loss: 0.1734 - val_loss: 0.0248\n",
      "Epoch 10/15\n",
      "133/133 [==============================] - 7s 51ms/step - loss: 0.1727 - val_loss: 0.0236\n",
      "Epoch 11/15\n",
      "133/133 [==============================] - 7s 51ms/step - loss: 0.1724 - val_loss: 0.0237\n",
      "Epoch 12/15\n",
      "133/133 [==============================] - 7s 51ms/step - loss: 0.1725 - val_loss: 0.0237\n",
      "Epoch 13/15\n",
      "133/133 [==============================] - 7s 52ms/step - loss: 0.1723 - val_loss: 0.0235\n",
      "Epoch 14/15\n",
      "133/133 [==============================] - 7s 51ms/step - loss: 0.1715 - val_loss: 0.0245\n",
      "Epoch 15/15\n",
      "133/133 [==============================] - 7s 51ms/step - loss: 0.1714 - val_loss: 0.0242\n"
     ]
    },
    {
     "name": "stderr",
     "output_type": "stream",
     "text": [
      "WARNING:absl:Found untraced functions such as lstm_cell_44_layer_call_fn, lstm_cell_44_layer_call_and_return_conditional_losses while saving (showing 2 of 2). These functions will not be directly callable after loading.\n"
     ]
    },
    {
     "name": "stdout",
     "output_type": "stream",
     "text": [
      "INFO:tensorflow:Assets written to: Hybrid Univarite3/month3_6_step_lookahead_Hybrid\\assets\n"
     ]
    },
    {
     "name": "stderr",
     "output_type": "stream",
     "text": [
      "INFO:tensorflow:Assets written to: Hybrid Univarite3/month3_6_step_lookahead_Hybrid\\assets\n",
      "WARNING:absl:<keras.layers.recurrent.LSTMCell object at 0x0000014D2559EF40> has the same name 'LSTMCell' as a built-in Keras object. Consider renaming <class 'keras.layers.recurrent.LSTMCell'> to avoid naming conflicts when loading with `tf.keras.models.load_model`. If renaming is not possible, pass the object in the `custom_objects` parameter of the load function.\n"
     ]
    },
    {
     "name": "stdout",
     "output_type": "stream",
     "text": [
      "133/133 [==============================] - 3s 21ms/step\n",
      "57/57 [==============================] - 1s 19ms/step\n"
     ]
    },
    {
     "name": "stderr",
     "output_type": "stream",
     "text": [
      "D:\\Anaconda\\lib\\site-packages\\pandas\\core\\frame.py:3678: SettingWithCopyWarning: \n",
      "A value is trying to be set on a copy of a slice from a DataFrame.\n",
      "Try using .loc[row_indexer,col_indexer] = value instead\n",
      "\n",
      "See the caveats in the documentation: https://pandas.pydata.org/pandas-docs/stable/user_guide/indexing.html#returning-a-view-versus-a-copy\n",
      "  self[col] = igetitem(value, i)\n"
     ]
    },
    {
     "name": "stdout",
     "output_type": "stream",
     "text": [
      "Epoch 1/15\n",
      "133/133 [==============================] - 9s 56ms/step - loss: 0.1967 - val_loss: 0.0267\n",
      "Epoch 2/15\n",
      "133/133 [==============================] - 7s 52ms/step - loss: 0.1819 - val_loss: 0.0267\n",
      "Epoch 3/15\n",
      "133/133 [==============================] - 7s 52ms/step - loss: 0.1811 - val_loss: 0.0265\n",
      "Epoch 4/15\n",
      "133/133 [==============================] - 7s 51ms/step - loss: 0.1809 - val_loss: 0.0274\n",
      "Epoch 5/15\n",
      "133/133 [==============================] - 7s 51ms/step - loss: 0.1808 - val_loss: 0.0282\n",
      "Epoch 6/15\n",
      "133/133 [==============================] - 7s 51ms/step - loss: 0.1813 - val_loss: 0.0266\n",
      "Epoch 7/15\n",
      "133/133 [==============================] - 7s 51ms/step - loss: 0.1816 - val_loss: 0.0279\n",
      "Epoch 8/15\n",
      "133/133 [==============================] - 7s 51ms/step - loss: 0.1807 - val_loss: 0.0271\n",
      "Epoch 9/15\n",
      "133/133 [==============================] - 7s 51ms/step - loss: 0.1804 - val_loss: 0.0268\n",
      "Epoch 10/15\n",
      "133/133 [==============================] - 7s 51ms/step - loss: 0.1807 - val_loss: 0.0272\n",
      "Epoch 11/15\n",
      "133/133 [==============================] - 7s 51ms/step - loss: 0.1803 - val_loss: 0.0270\n",
      "Epoch 12/15\n",
      "133/133 [==============================] - 7s 51ms/step - loss: 0.1801 - val_loss: 0.0270\n",
      "Epoch 13/15\n",
      "133/133 [==============================] - 7s 51ms/step - loss: 0.1800 - val_loss: 0.0298\n",
      "Epoch 14/15\n",
      "133/133 [==============================] - 7s 51ms/step - loss: 0.1805 - val_loss: 0.0273\n",
      "Epoch 15/15\n",
      "133/133 [==============================] - 7s 51ms/step - loss: 0.1801 - val_loss: 0.0271\n"
     ]
    },
    {
     "name": "stderr",
     "output_type": "stream",
     "text": [
      "WARNING:absl:Found untraced functions such as lstm_cell_45_layer_call_fn, lstm_cell_45_layer_call_and_return_conditional_losses while saving (showing 2 of 2). These functions will not be directly callable after loading.\n"
     ]
    },
    {
     "name": "stdout",
     "output_type": "stream",
     "text": [
      "INFO:tensorflow:Assets written to: Hybrid Univarite3/month3_7_step_lookahead_Hybrid\\assets\n"
     ]
    },
    {
     "name": "stderr",
     "output_type": "stream",
     "text": [
      "INFO:tensorflow:Assets written to: Hybrid Univarite3/month3_7_step_lookahead_Hybrid\\assets\n",
      "WARNING:absl:<keras.layers.recurrent.LSTMCell object at 0x0000014D3457E580> has the same name 'LSTMCell' as a built-in Keras object. Consider renaming <class 'keras.layers.recurrent.LSTMCell'> to avoid naming conflicts when loading with `tf.keras.models.load_model`. If renaming is not possible, pass the object in the `custom_objects` parameter of the load function.\n"
     ]
    },
    {
     "name": "stdout",
     "output_type": "stream",
     "text": [
      "133/133 [==============================] - 3s 20ms/step\n",
      "57/57 [==============================] - 1s 19ms/step\n"
     ]
    },
    {
     "name": "stderr",
     "output_type": "stream",
     "text": [
      "D:\\Anaconda\\lib\\site-packages\\pandas\\core\\frame.py:3678: SettingWithCopyWarning: \n",
      "A value is trying to be set on a copy of a slice from a DataFrame.\n",
      "Try using .loc[row_indexer,col_indexer] = value instead\n",
      "\n",
      "See the caveats in the documentation: https://pandas.pydata.org/pandas-docs/stable/user_guide/indexing.html#returning-a-view-versus-a-copy\n",
      "  self[col] = igetitem(value, i)\n"
     ]
    },
    {
     "name": "stdout",
     "output_type": "stream",
     "text": [
      "Epoch 1/15\n",
      "133/133 [==============================] - 9s 56ms/step - loss: 0.2229 - val_loss: 0.0286\n",
      "Epoch 2/15\n",
      "133/133 [==============================] - 7s 52ms/step - loss: 0.1890 - val_loss: 0.0285\n",
      "Epoch 3/15\n",
      "133/133 [==============================] - 7s 52ms/step - loss: 0.1873 - val_loss: 0.0272\n",
      "Epoch 4/15\n",
      "133/133 [==============================] - 7s 52ms/step - loss: 0.1873 - val_loss: 0.0285\n",
      "Epoch 5/15\n",
      "133/133 [==============================] - 7s 51ms/step - loss: 0.1873 - val_loss: 0.0274\n",
      "Epoch 6/15\n",
      "133/133 [==============================] - 7s 51ms/step - loss: 0.1862 - val_loss: 0.0324\n",
      "Epoch 7/15\n",
      "133/133 [==============================] - 7s 51ms/step - loss: 0.1865 - val_loss: 0.0272\n",
      "Epoch 8/15\n",
      "133/133 [==============================] - 7s 51ms/step - loss: 0.1872 - val_loss: 0.0285\n",
      "Epoch 9/15\n",
      "133/133 [==============================] - 7s 51ms/step - loss: 0.1860 - val_loss: 0.0276\n",
      "Epoch 10/15\n",
      "133/133 [==============================] - 7s 51ms/step - loss: 0.1857 - val_loss: 0.0273\n",
      "Epoch 11/15\n",
      "133/133 [==============================] - 7s 51ms/step - loss: 0.1857 - val_loss: 0.0285\n",
      "Epoch 12/15\n",
      "133/133 [==============================] - 7s 51ms/step - loss: 0.1859 - val_loss: 0.0274\n",
      "Epoch 13/15\n",
      "133/133 [==============================] - 7s 51ms/step - loss: 0.1855 - val_loss: 0.0273\n",
      "Epoch 14/15\n",
      "133/133 [==============================] - 7s 51ms/step - loss: 0.1851 - val_loss: 0.0272\n",
      "Epoch 15/15\n",
      "133/133 [==============================] - 7s 51ms/step - loss: 0.1854 - val_loss: 0.0272\n"
     ]
    },
    {
     "name": "stderr",
     "output_type": "stream",
     "text": [
      "WARNING:absl:Found untraced functions such as lstm_cell_46_layer_call_fn, lstm_cell_46_layer_call_and_return_conditional_losses while saving (showing 2 of 2). These functions will not be directly callable after loading.\n"
     ]
    },
    {
     "name": "stdout",
     "output_type": "stream",
     "text": [
      "INFO:tensorflow:Assets written to: Hybrid Univarite3/month3_8_step_lookahead_Hybrid\\assets\n"
     ]
    },
    {
     "name": "stderr",
     "output_type": "stream",
     "text": [
      "INFO:tensorflow:Assets written to: Hybrid Univarite3/month3_8_step_lookahead_Hybrid\\assets\n",
      "WARNING:absl:<keras.layers.recurrent.LSTMCell object at 0x0000014D42802370> has the same name 'LSTMCell' as a built-in Keras object. Consider renaming <class 'keras.layers.recurrent.LSTMCell'> to avoid naming conflicts when loading with `tf.keras.models.load_model`. If renaming is not possible, pass the object in the `custom_objects` parameter of the load function.\n"
     ]
    },
    {
     "name": "stdout",
     "output_type": "stream",
     "text": [
      "133/133 [==============================] - 3s 21ms/step\n",
      "57/57 [==============================] - 1s 19ms/step\n"
     ]
    },
    {
     "name": "stderr",
     "output_type": "stream",
     "text": [
      "D:\\Anaconda\\lib\\site-packages\\pandas\\core\\frame.py:3678: SettingWithCopyWarning: \n",
      "A value is trying to be set on a copy of a slice from a DataFrame.\n",
      "Try using .loc[row_indexer,col_indexer] = value instead\n",
      "\n",
      "See the caveats in the documentation: https://pandas.pydata.org/pandas-docs/stable/user_guide/indexing.html#returning-a-view-versus-a-copy\n",
      "  self[col] = igetitem(value, i)\n"
     ]
    },
    {
     "name": "stdout",
     "output_type": "stream",
     "text": [
      "Epoch 1/15\n",
      "133/133 [==============================] - 9s 56ms/step - loss: 0.3010 - val_loss: 0.0300\n",
      "Epoch 2/15\n",
      "133/133 [==============================] - 7s 52ms/step - loss: 0.1956 - val_loss: 0.0280\n",
      "Epoch 3/15\n",
      "133/133 [==============================] - 7s 52ms/step - loss: 0.1921 - val_loss: 0.0277\n",
      "Epoch 4/15\n",
      "133/133 [==============================] - 7s 51ms/step - loss: 0.1917 - val_loss: 0.0278\n",
      "Epoch 5/15\n",
      "133/133 [==============================] - 7s 52ms/step - loss: 0.1913 - val_loss: 0.0277\n",
      "Epoch 6/15\n",
      "133/133 [==============================] - 7s 51ms/step - loss: 0.1899 - val_loss: 0.0282\n",
      "Epoch 7/15\n",
      "133/133 [==============================] - 7s 52ms/step - loss: 0.1901 - val_loss: 0.0277\n",
      "Epoch 8/15\n",
      "133/133 [==============================] - 7s 52ms/step - loss: 0.1901 - val_loss: 0.0276\n",
      "Epoch 9/15\n",
      "133/133 [==============================] - 7s 52ms/step - loss: 0.1903 - val_loss: 0.0276\n",
      "Epoch 10/15\n",
      "133/133 [==============================] - 7s 52ms/step - loss: 0.1898 - val_loss: 0.0281\n",
      "Epoch 11/15\n",
      "133/133 [==============================] - 7s 51ms/step - loss: 0.1886 - val_loss: 0.0283\n",
      "Epoch 12/15\n",
      "133/133 [==============================] - 7s 51ms/step - loss: 0.1894 - val_loss: 0.0287\n",
      "Epoch 13/15\n",
      "133/133 [==============================] - 7s 51ms/step - loss: 0.1885 - val_loss: 0.0277\n",
      "Epoch 14/15\n",
      "133/133 [==============================] - 7s 51ms/step - loss: 0.1888 - val_loss: 0.0273\n",
      "Epoch 15/15\n",
      "133/133 [==============================] - 7s 52ms/step - loss: 0.1883 - val_loss: 0.0282\n"
     ]
    },
    {
     "name": "stderr",
     "output_type": "stream",
     "text": [
      "WARNING:absl:Found untraced functions such as lstm_cell_47_layer_call_fn, lstm_cell_47_layer_call_and_return_conditional_losses while saving (showing 2 of 2). These functions will not be directly callable after loading.\n"
     ]
    },
    {
     "name": "stdout",
     "output_type": "stream",
     "text": [
      "INFO:tensorflow:Assets written to: Hybrid Univarite3/month3_9_step_lookahead_Hybrid\\assets\n"
     ]
    },
    {
     "name": "stderr",
     "output_type": "stream",
     "text": [
      "INFO:tensorflow:Assets written to: Hybrid Univarite3/month3_9_step_lookahead_Hybrid\\assets\n",
      "WARNING:absl:<keras.layers.recurrent.LSTMCell object at 0x00000150259A8070> has the same name 'LSTMCell' as a built-in Keras object. Consider renaming <class 'keras.layers.recurrent.LSTMCell'> to avoid naming conflicts when loading with `tf.keras.models.load_model`. If renaming is not possible, pass the object in the `custom_objects` parameter of the load function.\n"
     ]
    },
    {
     "name": "stdout",
     "output_type": "stream",
     "text": [
      "133/133 [==============================] - 3s 20ms/step\n",
      "57/57 [==============================] - 1s 19ms/step\n"
     ]
    },
    {
     "name": "stderr",
     "output_type": "stream",
     "text": [
      "D:\\Anaconda\\lib\\site-packages\\pandas\\core\\frame.py:3678: SettingWithCopyWarning: \n",
      "A value is trying to be set on a copy of a slice from a DataFrame.\n",
      "Try using .loc[row_indexer,col_indexer] = value instead\n",
      "\n",
      "See the caveats in the documentation: https://pandas.pydata.org/pandas-docs/stable/user_guide/indexing.html#returning-a-view-versus-a-copy\n",
      "  self[col] = igetitem(value, i)\n"
     ]
    },
    {
     "name": "stdout",
     "output_type": "stream",
     "text": [
      "Epoch 1/15\n",
      "133/133 [==============================] - 10s 56ms/step - loss: 0.2386 - val_loss: 0.0295\n",
      "Epoch 2/15\n",
      "133/133 [==============================] - 7s 52ms/step - loss: 0.1952 - val_loss: 0.0284\n",
      "Epoch 3/15\n",
      "133/133 [==============================] - 7s 51ms/step - loss: 0.1939 - val_loss: 0.0360\n",
      "Epoch 4/15\n",
      "133/133 [==============================] - 7s 51ms/step - loss: 0.1933 - val_loss: 0.0282\n",
      "Epoch 5/15\n",
      "133/133 [==============================] - 7s 51ms/step - loss: 0.1933 - val_loss: 0.0298\n",
      "Epoch 6/15\n",
      "133/133 [==============================] - 7s 51ms/step - loss: 0.1929 - val_loss: 0.0299\n",
      "Epoch 7/15\n",
      "133/133 [==============================] - 7s 51ms/step - loss: 0.1927 - val_loss: 0.0312\n",
      "Epoch 8/15\n",
      "133/133 [==============================] - 7s 52ms/step - loss: 0.1930 - val_loss: 0.0284\n",
      "Epoch 9/15\n",
      "133/133 [==============================] - 7s 51ms/step - loss: 0.1926 - val_loss: 0.0303\n",
      "Epoch 10/15\n",
      "133/133 [==============================] - 7s 51ms/step - loss: 0.1928 - val_loss: 0.0282\n",
      "Epoch 11/15\n",
      "133/133 [==============================] - 7s 51ms/step - loss: 0.1926 - val_loss: 0.0283\n",
      "Epoch 12/15\n",
      "133/133 [==============================] - 7s 51ms/step - loss: 0.1927 - val_loss: 0.0283\n",
      "Epoch 13/15\n",
      "133/133 [==============================] - 7s 51ms/step - loss: 0.1926 - val_loss: 0.0283\n",
      "Epoch 14/15\n",
      "133/133 [==============================] - 7s 51ms/step - loss: 0.1921 - val_loss: 0.0290\n",
      "Epoch 15/15\n",
      "133/133 [==============================] - 7s 51ms/step - loss: 0.1926 - val_loss: 0.0290\n"
     ]
    },
    {
     "name": "stderr",
     "output_type": "stream",
     "text": [
      "WARNING:absl:Found untraced functions such as lstm_cell_48_layer_call_fn, lstm_cell_48_layer_call_and_return_conditional_losses while saving (showing 2 of 2). These functions will not be directly callable after loading.\n"
     ]
    },
    {
     "name": "stdout",
     "output_type": "stream",
     "text": [
      "INFO:tensorflow:Assets written to: Hybrid Univarite3/month3_10_step_lookahead_Hybrid\\assets\n"
     ]
    },
    {
     "name": "stderr",
     "output_type": "stream",
     "text": [
      "INFO:tensorflow:Assets written to: Hybrid Univarite3/month3_10_step_lookahead_Hybrid\\assets\n",
      "WARNING:absl:<keras.layers.recurrent.LSTMCell object at 0x0000014D37404430> has the same name 'LSTMCell' as a built-in Keras object. Consider renaming <class 'keras.layers.recurrent.LSTMCell'> to avoid naming conflicts when loading with `tf.keras.models.load_model`. If renaming is not possible, pass the object in the `custom_objects` parameter of the load function.\n"
     ]
    },
    {
     "name": "stdout",
     "output_type": "stream",
     "text": [
      "133/133 [==============================] - 3s 21ms/step\n",
      "57/57 [==============================] - 1s 19ms/step\n"
     ]
    },
    {
     "name": "stderr",
     "output_type": "stream",
     "text": [
      "D:\\Anaconda\\lib\\site-packages\\pandas\\core\\frame.py:3678: SettingWithCopyWarning: \n",
      "A value is trying to be set on a copy of a slice from a DataFrame.\n",
      "Try using .loc[row_indexer,col_indexer] = value instead\n",
      "\n",
      "See the caveats in the documentation: https://pandas.pydata.org/pandas-docs/stable/user_guide/indexing.html#returning-a-view-versus-a-copy\n",
      "  self[col] = igetitem(value, i)\n",
      "D:\\Anaconda\\lib\\site-packages\\pandas\\core\\frame.py:3678: SettingWithCopyWarning: \n",
      "A value is trying to be set on a copy of a slice from a DataFrame.\n",
      "Try using .loc[row_indexer,col_indexer] = value instead\n",
      "\n",
      "See the caveats in the documentation: https://pandas.pydata.org/pandas-docs/stable/user_guide/indexing.html#returning-a-view-versus-a-copy\n",
      "  self[col] = igetitem(value, i)\n"
     ]
    },
    {
     "name": "stdout",
     "output_type": "stream",
     "text": [
      "Epoch 1/15\n",
      "152/152 [==============================] - 10s 55ms/step - loss: 1.6073 - val_loss: 0.1228\n",
      "Epoch 2/15\n",
      "152/152 [==============================] - 8s 51ms/step - loss: 1.5591 - val_loss: 0.1075\n",
      "Epoch 3/15\n",
      "152/152 [==============================] - 8s 52ms/step - loss: 1.5324 - val_loss: 0.0907\n",
      "Epoch 4/15\n",
      "152/152 [==============================] - 8s 52ms/step - loss: 1.4693 - val_loss: 0.0660\n",
      "Epoch 5/15\n",
      "152/152 [==============================] - 8s 52ms/step - loss: 1.3905 - val_loss: 0.0549\n",
      "Epoch 6/15\n",
      "152/152 [==============================] - 8s 52ms/step - loss: 1.3521 - val_loss: 0.0519\n",
      "Epoch 7/15\n",
      "152/152 [==============================] - 8s 52ms/step - loss: 1.3106 - val_loss: 0.0465\n",
      "Epoch 8/15\n",
      "152/152 [==============================] - 8s 52ms/step - loss: 1.2843 - val_loss: 0.0461\n",
      "Epoch 9/15\n",
      "152/152 [==============================] - 8s 51ms/step - loss: 1.2619 - val_loss: 0.0435\n",
      "Epoch 10/15\n",
      "152/152 [==============================] - 8s 51ms/step - loss: 1.2425 - val_loss: 0.0428\n",
      "Epoch 11/15\n",
      "152/152 [==============================] - 8s 52ms/step - loss: 1.3051 - val_loss: 0.0417\n",
      "Epoch 12/15\n",
      "152/152 [==============================] - 8s 52ms/step - loss: 1.2125 - val_loss: 0.0420\n",
      "Epoch 13/15\n",
      "152/152 [==============================] - 8s 52ms/step - loss: 1.1935 - val_loss: 0.0409\n",
      "Epoch 14/15\n",
      "152/152 [==============================] - 8s 51ms/step - loss: 1.1760 - val_loss: 0.0414\n",
      "Epoch 15/15\n",
      "152/152 [==============================] - 8s 51ms/step - loss: 1.2130 - val_loss: 0.0422\n"
     ]
    },
    {
     "name": "stderr",
     "output_type": "stream",
     "text": [
      "WARNING:absl:Found untraced functions such as lstm_cell_49_layer_call_fn, lstm_cell_49_layer_call_and_return_conditional_losses while saving (showing 2 of 2). These functions will not be directly callable after loading.\n"
     ]
    },
    {
     "name": "stdout",
     "output_type": "stream",
     "text": [
      "INFO:tensorflow:Assets written to: Hybrid Univarite3/month4_1_step_lookahead_Hybrid\\assets\n"
     ]
    },
    {
     "name": "stderr",
     "output_type": "stream",
     "text": [
      "INFO:tensorflow:Assets written to: Hybrid Univarite3/month4_1_step_lookahead_Hybrid\\assets\n",
      "WARNING:absl:<keras.layers.recurrent.LSTMCell object at 0x0000014D359186D0> has the same name 'LSTMCell' as a built-in Keras object. Consider renaming <class 'keras.layers.recurrent.LSTMCell'> to avoid naming conflicts when loading with `tf.keras.models.load_model`. If renaming is not possible, pass the object in the `custom_objects` parameter of the load function.\n"
     ]
    },
    {
     "name": "stdout",
     "output_type": "stream",
     "text": [
      "152/152 [==============================] - 4s 21ms/step\n",
      "65/65 [==============================] - 1s 19ms/step\n"
     ]
    },
    {
     "name": "stderr",
     "output_type": "stream",
     "text": [
      "D:\\Anaconda\\lib\\site-packages\\pandas\\core\\frame.py:3678: SettingWithCopyWarning: \n",
      "A value is trying to be set on a copy of a slice from a DataFrame.\n",
      "Try using .loc[row_indexer,col_indexer] = value instead\n",
      "\n",
      "See the caveats in the documentation: https://pandas.pydata.org/pandas-docs/stable/user_guide/indexing.html#returning-a-view-versus-a-copy\n",
      "  self[col] = igetitem(value, i)\n"
     ]
    },
    {
     "name": "stdout",
     "output_type": "stream",
     "text": [
      "Epoch 1/15\n",
      "152/152 [==============================] - 10s 55ms/step - loss: 1.6414 - val_loss: 0.1296\n",
      "Epoch 2/15\n",
      "152/152 [==============================] - 8s 51ms/step - loss: 1.5646 - val_loss: 0.1094\n",
      "Epoch 3/15\n",
      "152/152 [==============================] - 8s 52ms/step - loss: 1.5363 - val_loss: 0.1015\n",
      "Epoch 4/15\n",
      "152/152 [==============================] - 8s 52ms/step - loss: 1.5129 - val_loss: 0.0877\n",
      "Epoch 5/15\n",
      "152/152 [==============================] - 8s 52ms/step - loss: 1.4854 - val_loss: 0.0833\n",
      "Epoch 6/15\n",
      "152/152 [==============================] - 8s 52ms/step - loss: 1.4625 - val_loss: 0.0620\n",
      "Epoch 7/15\n",
      "152/152 [==============================] - 8s 52ms/step - loss: 1.4440 - val_loss: 0.0597\n",
      "Epoch 8/15\n",
      "152/152 [==============================] - 8s 52ms/step - loss: 1.4225 - val_loss: 0.0602\n",
      "Epoch 9/15\n",
      "152/152 [==============================] - 8s 51ms/step - loss: 1.4048 - val_loss: 0.0606\n",
      "Epoch 10/15\n",
      "152/152 [==============================] - 8s 51ms/step - loss: 1.3898 - val_loss: 0.0631\n",
      "Epoch 11/15\n",
      "152/152 [==============================] - 8s 52ms/step - loss: 1.3841 - val_loss: 0.0554\n",
      "Epoch 12/15\n",
      "152/152 [==============================] - 8s 51ms/step - loss: 1.3635 - val_loss: 0.0560\n",
      "Epoch 13/15\n",
      "152/152 [==============================] - 8s 51ms/step - loss: 1.3511 - val_loss: 0.0603\n",
      "Epoch 14/15\n",
      "152/152 [==============================] - 8s 51ms/step - loss: 1.3395 - val_loss: 0.0576\n",
      "Epoch 15/15\n",
      "152/152 [==============================] - 8s 51ms/step - loss: 1.3281 - val_loss: 0.0581\n"
     ]
    },
    {
     "name": "stderr",
     "output_type": "stream",
     "text": [
      "WARNING:absl:Found untraced functions such as lstm_cell_50_layer_call_fn, lstm_cell_50_layer_call_and_return_conditional_losses while saving (showing 2 of 2). These functions will not be directly callable after loading.\n"
     ]
    },
    {
     "name": "stdout",
     "output_type": "stream",
     "text": [
      "INFO:tensorflow:Assets written to: Hybrid Univarite3/month4_2_step_lookahead_Hybrid\\assets\n"
     ]
    },
    {
     "name": "stderr",
     "output_type": "stream",
     "text": [
      "INFO:tensorflow:Assets written to: Hybrid Univarite3/month4_2_step_lookahead_Hybrid\\assets\n",
      "WARNING:absl:<keras.layers.recurrent.LSTMCell object at 0x0000014D36D492B0> has the same name 'LSTMCell' as a built-in Keras object. Consider renaming <class 'keras.layers.recurrent.LSTMCell'> to avoid naming conflicts when loading with `tf.keras.models.load_model`. If renaming is not possible, pass the object in the `custom_objects` parameter of the load function.\n"
     ]
    },
    {
     "name": "stdout",
     "output_type": "stream",
     "text": [
      "152/152 [==============================] - 4s 21ms/step\n",
      "65/65 [==============================] - 1s 19ms/step\n"
     ]
    },
    {
     "name": "stderr",
     "output_type": "stream",
     "text": [
      "D:\\Anaconda\\lib\\site-packages\\pandas\\core\\frame.py:3678: SettingWithCopyWarning: \n",
      "A value is trying to be set on a copy of a slice from a DataFrame.\n",
      "Try using .loc[row_indexer,col_indexer] = value instead\n",
      "\n",
      "See the caveats in the documentation: https://pandas.pydata.org/pandas-docs/stable/user_guide/indexing.html#returning-a-view-versus-a-copy\n",
      "  self[col] = igetitem(value, i)\n"
     ]
    },
    {
     "name": "stdout",
     "output_type": "stream",
     "text": [
      "Epoch 1/15\n",
      "152/152 [==============================] - 11s 55ms/step - loss: 1.6024 - val_loss: 0.0990\n",
      "Epoch 2/15\n",
      "152/152 [==============================] - 8s 52ms/step - loss: 1.5537 - val_loss: 0.0865\n",
      "Epoch 3/15\n",
      "152/152 [==============================] - 8s 52ms/step - loss: 1.5413 - val_loss: 0.0783\n",
      "Epoch 4/15\n",
      "152/152 [==============================] - 8s 52ms/step - loss: 1.5311 - val_loss: 0.0683\n",
      "Epoch 5/15\n",
      "152/152 [==============================] - 8s 52ms/step - loss: 1.5220 - val_loss: 0.0652\n",
      "Epoch 6/15\n",
      "152/152 [==============================] - 8s 52ms/step - loss: 1.5137 - val_loss: 0.0604\n",
      "Epoch 7/15\n",
      "152/152 [==============================] - 8s 52ms/step - loss: 1.5053 - val_loss: 0.0613\n",
      "Epoch 8/15\n",
      "152/152 [==============================] - 8s 51ms/step - loss: 1.4982 - val_loss: 0.0615\n",
      "Epoch 9/15\n",
      "152/152 [==============================] - 8s 51ms/step - loss: 1.4889 - val_loss: 0.0630\n",
      "Epoch 10/15\n",
      "152/152 [==============================] - 8s 51ms/step - loss: 1.4816 - val_loss: 0.0665\n",
      "Epoch 11/15\n",
      "152/152 [==============================] - 8s 51ms/step - loss: 1.4698 - val_loss: 0.0665\n",
      "Epoch 12/15\n",
      "152/152 [==============================] - 8s 51ms/step - loss: 1.4619 - val_loss: 0.0681\n",
      "Epoch 13/15\n",
      "152/152 [==============================] - 8s 51ms/step - loss: 1.4518 - val_loss: 0.0886\n",
      "Epoch 14/15\n",
      "152/152 [==============================] - 8s 51ms/step - loss: 1.4485 - val_loss: 0.0747\n",
      "Epoch 15/15\n",
      "152/152 [==============================] - 8s 51ms/step - loss: 1.4331 - val_loss: 0.0804\n"
     ]
    },
    {
     "name": "stderr",
     "output_type": "stream",
     "text": [
      "WARNING:absl:Found untraced functions such as lstm_cell_51_layer_call_fn, lstm_cell_51_layer_call_and_return_conditional_losses while saving (showing 2 of 2). These functions will not be directly callable after loading.\n"
     ]
    },
    {
     "name": "stdout",
     "output_type": "stream",
     "text": [
      "INFO:tensorflow:Assets written to: Hybrid Univarite3/month4_3_step_lookahead_Hybrid\\assets\n"
     ]
    },
    {
     "name": "stderr",
     "output_type": "stream",
     "text": [
      "INFO:tensorflow:Assets written to: Hybrid Univarite3/month4_3_step_lookahead_Hybrid\\assets\n",
      "WARNING:absl:<keras.layers.recurrent.LSTMCell object at 0x0000014D34CDC2E0> has the same name 'LSTMCell' as a built-in Keras object. Consider renaming <class 'keras.layers.recurrent.LSTMCell'> to avoid naming conflicts when loading with `tf.keras.models.load_model`. If renaming is not possible, pass the object in the `custom_objects` parameter of the load function.\n"
     ]
    },
    {
     "name": "stdout",
     "output_type": "stream",
     "text": [
      "152/152 [==============================] - 3s 20ms/step\n",
      "65/65 [==============================] - 1s 19ms/step\n"
     ]
    },
    {
     "name": "stderr",
     "output_type": "stream",
     "text": [
      "D:\\Anaconda\\lib\\site-packages\\pandas\\core\\frame.py:3678: SettingWithCopyWarning: \n",
      "A value is trying to be set on a copy of a slice from a DataFrame.\n",
      "Try using .loc[row_indexer,col_indexer] = value instead\n",
      "\n",
      "See the caveats in the documentation: https://pandas.pydata.org/pandas-docs/stable/user_guide/indexing.html#returning-a-view-versus-a-copy\n",
      "  self[col] = igetitem(value, i)\n"
     ]
    },
    {
     "name": "stdout",
     "output_type": "stream",
     "text": [
      "Epoch 1/15\n",
      "152/152 [==============================] - 11s 56ms/step - loss: 1.5965 - val_loss: 0.1161\n",
      "Epoch 2/15\n",
      "152/152 [==============================] - 8s 52ms/step - loss: 1.5754 - val_loss: 0.1086\n",
      "Epoch 3/15\n",
      "152/152 [==============================] - 8s 51ms/step - loss: 1.5708 - val_loss: 0.1034\n",
      "Epoch 4/15\n",
      "152/152 [==============================] - 8s 51ms/step - loss: 1.5674 - val_loss: 0.1048\n",
      "Epoch 5/15\n",
      "152/152 [==============================] - 8s 51ms/step - loss: 1.5654 - val_loss: 0.1019\n",
      "Epoch 6/15\n",
      "152/152 [==============================] - 8s 52ms/step - loss: 1.5614 - val_loss: 0.1001\n",
      "Epoch 7/15\n",
      "152/152 [==============================] - 8s 51ms/step - loss: 1.5594 - val_loss: 0.1022\n",
      "Epoch 8/15\n",
      "152/152 [==============================] - 8s 51ms/step - loss: 1.5571 - val_loss: 0.1010\n",
      "Epoch 9/15\n",
      "152/152 [==============================] - 8s 51ms/step - loss: 1.5540 - val_loss: 0.1008\n",
      "Epoch 10/15\n",
      "152/152 [==============================] - 8s 51ms/step - loss: 1.5541 - val_loss: 0.0988\n",
      "Epoch 11/15\n",
      "152/152 [==============================] - 8s 52ms/step - loss: 1.5513 - val_loss: 0.0986\n",
      "Epoch 12/15\n",
      "152/152 [==============================] - 8s 52ms/step - loss: 1.5530 - val_loss: 0.0975\n",
      "Epoch 13/15\n",
      "152/152 [==============================] - 8s 52ms/step - loss: 1.5499 - val_loss: 0.0946\n",
      "Epoch 14/15\n",
      "152/152 [==============================] - 8s 52ms/step - loss: 1.5473 - val_loss: 0.0950\n",
      "Epoch 15/15\n",
      "152/152 [==============================] - 8s 51ms/step - loss: 1.5459 - val_loss: 0.0965\n"
     ]
    },
    {
     "name": "stderr",
     "output_type": "stream",
     "text": [
      "WARNING:absl:Found untraced functions such as lstm_cell_52_layer_call_fn, lstm_cell_52_layer_call_and_return_conditional_losses while saving (showing 2 of 2). These functions will not be directly callable after loading.\n"
     ]
    },
    {
     "name": "stdout",
     "output_type": "stream",
     "text": [
      "INFO:tensorflow:Assets written to: Hybrid Univarite3/month4_4_step_lookahead_Hybrid\\assets\n"
     ]
    },
    {
     "name": "stderr",
     "output_type": "stream",
     "text": [
      "INFO:tensorflow:Assets written to: Hybrid Univarite3/month4_4_step_lookahead_Hybrid\\assets\n",
      "WARNING:absl:<keras.layers.recurrent.LSTMCell object at 0x00000150481E09A0> has the same name 'LSTMCell' as a built-in Keras object. Consider renaming <class 'keras.layers.recurrent.LSTMCell'> to avoid naming conflicts when loading with `tf.keras.models.load_model`. If renaming is not possible, pass the object in the `custom_objects` parameter of the load function.\n"
     ]
    },
    {
     "name": "stdout",
     "output_type": "stream",
     "text": [
      "152/152 [==============================] - 4s 21ms/step\n",
      "65/65 [==============================] - 1s 19ms/step\n"
     ]
    },
    {
     "name": "stderr",
     "output_type": "stream",
     "text": [
      "D:\\Anaconda\\lib\\site-packages\\pandas\\core\\frame.py:3678: SettingWithCopyWarning: \n",
      "A value is trying to be set on a copy of a slice from a DataFrame.\n",
      "Try using .loc[row_indexer,col_indexer] = value instead\n",
      "\n",
      "See the caveats in the documentation: https://pandas.pydata.org/pandas-docs/stable/user_guide/indexing.html#returning-a-view-versus-a-copy\n",
      "  self[col] = igetitem(value, i)\n"
     ]
    },
    {
     "name": "stdout",
     "output_type": "stream",
     "text": [
      "Epoch 1/15\n",
      "152/152 [==============================] - 10s 56ms/step - loss: 1.6359 - val_loss: 0.1196\n",
      "Epoch 2/15\n",
      "152/152 [==============================] - 8s 51ms/step - loss: 1.5823 - val_loss: 0.1143\n",
      "Epoch 3/15\n",
      "152/152 [==============================] - 8s 52ms/step - loss: 1.5790 - val_loss: 0.1128\n",
      "Epoch 4/15\n",
      "152/152 [==============================] - 8s 52ms/step - loss: 1.5761 - val_loss: 0.1117\n",
      "Epoch 5/15\n",
      "152/152 [==============================] - 8s 52ms/step - loss: 1.5735 - val_loss: 0.1181\n",
      "Epoch 6/15\n",
      "152/152 [==============================] - 8s 51ms/step - loss: 1.5724 - val_loss: 0.1148\n",
      "Epoch 7/15\n",
      "152/152 [==============================] - 8s 51ms/step - loss: 1.5709 - val_loss: 0.1147\n",
      "Epoch 8/15\n",
      "152/152 [==============================] - 8s 51ms/step - loss: 1.5719 - val_loss: 0.1153\n",
      "Epoch 9/15\n",
      "152/152 [==============================] - 8s 51ms/step - loss: 1.5698 - val_loss: 0.1211\n",
      "Epoch 10/15\n",
      "152/152 [==============================] - 8s 51ms/step - loss: 1.5659 - val_loss: 0.1202\n",
      "Epoch 11/15\n",
      "152/152 [==============================] - 8s 51ms/step - loss: 1.5653 - val_loss: 0.1268\n",
      "Epoch 12/15\n",
      "152/152 [==============================] - 8s 51ms/step - loss: 1.5662 - val_loss: 0.1261\n",
      "Epoch 13/15\n",
      "152/152 [==============================] - 8s 51ms/step - loss: 1.5712 - val_loss: 0.1191\n",
      "Epoch 14/15\n",
      "152/152 [==============================] - 8s 51ms/step - loss: 1.5609 - val_loss: 0.1151\n",
      "Epoch 15/15\n",
      "152/152 [==============================] - 8s 51ms/step - loss: 1.5496 - val_loss: 0.1456\n"
     ]
    },
    {
     "name": "stderr",
     "output_type": "stream",
     "text": [
      "WARNING:absl:Found untraced functions such as lstm_cell_53_layer_call_fn, lstm_cell_53_layer_call_and_return_conditional_losses while saving (showing 2 of 2). These functions will not be directly callable after loading.\n"
     ]
    },
    {
     "name": "stdout",
     "output_type": "stream",
     "text": [
      "INFO:tensorflow:Assets written to: Hybrid Univarite3/month4_5_step_lookahead_Hybrid\\assets\n"
     ]
    },
    {
     "name": "stderr",
     "output_type": "stream",
     "text": [
      "INFO:tensorflow:Assets written to: Hybrid Univarite3/month4_5_step_lookahead_Hybrid\\assets\n",
      "WARNING:absl:<keras.layers.recurrent.LSTMCell object at 0x000001504A929FA0> has the same name 'LSTMCell' as a built-in Keras object. Consider renaming <class 'keras.layers.recurrent.LSTMCell'> to avoid naming conflicts when loading with `tf.keras.models.load_model`. If renaming is not possible, pass the object in the `custom_objects` parameter of the load function.\n"
     ]
    },
    {
     "name": "stdout",
     "output_type": "stream",
     "text": [
      "152/152 [==============================] - 4s 21ms/step\n",
      "65/65 [==============================] - 1s 19ms/step\n"
     ]
    },
    {
     "name": "stderr",
     "output_type": "stream",
     "text": [
      "D:\\Anaconda\\lib\\site-packages\\pandas\\core\\frame.py:3678: SettingWithCopyWarning: \n",
      "A value is trying to be set on a copy of a slice from a DataFrame.\n",
      "Try using .loc[row_indexer,col_indexer] = value instead\n",
      "\n",
      "See the caveats in the documentation: https://pandas.pydata.org/pandas-docs/stable/user_guide/indexing.html#returning-a-view-versus-a-copy\n",
      "  self[col] = igetitem(value, i)\n"
     ]
    },
    {
     "name": "stdout",
     "output_type": "stream",
     "text": [
      "Epoch 1/15\n",
      "152/152 [==============================] - 11s 56ms/step - loss: 1.6052 - val_loss: 0.1115\n",
      "Epoch 2/15\n",
      "152/152 [==============================] - 8s 52ms/step - loss: 1.5801 - val_loss: 0.1083\n",
      "Epoch 3/15\n",
      "152/152 [==============================] - 8s 52ms/step - loss: 1.5782 - val_loss: 0.1093\n",
      "Epoch 4/15\n",
      "152/152 [==============================] - 8s 52ms/step - loss: 1.5808 - val_loss: 0.1147\n",
      "Epoch 5/15\n",
      "152/152 [==============================] - 8s 51ms/step - loss: 1.5805 - val_loss: 0.1102\n",
      "Epoch 6/15\n",
      "152/152 [==============================] - 8s 51ms/step - loss: 1.5739 - val_loss: 0.1125\n",
      "Epoch 7/15\n",
      "152/152 [==============================] - 8s 51ms/step - loss: 1.5709 - val_loss: 0.1180\n",
      "Epoch 8/15\n",
      "152/152 [==============================] - 8s 52ms/step - loss: 1.5684 - val_loss: 0.1223\n",
      "Epoch 9/15\n",
      "152/152 [==============================] - 8s 51ms/step - loss: 1.5675 - val_loss: 0.1248\n",
      "Epoch 10/15\n",
      "152/152 [==============================] - 8s 51ms/step - loss: 1.5646 - val_loss: 0.1349\n",
      "Epoch 11/15\n",
      "152/152 [==============================] - 8s 51ms/step - loss: 1.5621 - val_loss: 0.1395\n",
      "Epoch 12/15\n",
      "152/152 [==============================] - 8s 51ms/step - loss: 1.5575 - val_loss: 0.1293\n",
      "Epoch 13/15\n",
      "152/152 [==============================] - 8s 51ms/step - loss: 1.5591 - val_loss: 0.1177\n",
      "Epoch 14/15\n",
      "152/152 [==============================] - 8s 51ms/step - loss: 1.5523 - val_loss: 0.1332\n",
      "Epoch 15/15\n",
      "152/152 [==============================] - 8s 51ms/step - loss: 1.5510 - val_loss: 0.1619\n"
     ]
    },
    {
     "name": "stderr",
     "output_type": "stream",
     "text": [
      "WARNING:absl:Found untraced functions such as lstm_cell_54_layer_call_fn, lstm_cell_54_layer_call_and_return_conditional_losses while saving (showing 2 of 2). These functions will not be directly callable after loading.\n"
     ]
    },
    {
     "name": "stdout",
     "output_type": "stream",
     "text": [
      "INFO:tensorflow:Assets written to: Hybrid Univarite3/month4_6_step_lookahead_Hybrid\\assets\n"
     ]
    },
    {
     "name": "stderr",
     "output_type": "stream",
     "text": [
      "INFO:tensorflow:Assets written to: Hybrid Univarite3/month4_6_step_lookahead_Hybrid\\assets\n",
      "WARNING:absl:<keras.layers.recurrent.LSTMCell object at 0x0000014D33A51CD0> has the same name 'LSTMCell' as a built-in Keras object. Consider renaming <class 'keras.layers.recurrent.LSTMCell'> to avoid naming conflicts when loading with `tf.keras.models.load_model`. If renaming is not possible, pass the object in the `custom_objects` parameter of the load function.\n"
     ]
    },
    {
     "name": "stdout",
     "output_type": "stream",
     "text": [
      "152/152 [==============================] - 4s 21ms/step\n",
      "65/65 [==============================] - 1s 19ms/step\n"
     ]
    },
    {
     "name": "stderr",
     "output_type": "stream",
     "text": [
      "D:\\Anaconda\\lib\\site-packages\\pandas\\core\\frame.py:3678: SettingWithCopyWarning: \n",
      "A value is trying to be set on a copy of a slice from a DataFrame.\n",
      "Try using .loc[row_indexer,col_indexer] = value instead\n",
      "\n",
      "See the caveats in the documentation: https://pandas.pydata.org/pandas-docs/stable/user_guide/indexing.html#returning-a-view-versus-a-copy\n",
      "  self[col] = igetitem(value, i)\n"
     ]
    },
    {
     "name": "stdout",
     "output_type": "stream",
     "text": [
      "Epoch 1/15\n",
      "152/152 [==============================] - 11s 56ms/step - loss: 1.6209 - val_loss: 0.1255\n",
      "Epoch 2/15\n",
      "152/152 [==============================] - 8s 52ms/step - loss: 1.5836 - val_loss: 0.1209\n",
      "Epoch 3/15\n",
      "152/152 [==============================] - 8s 51ms/step - loss: 1.5795 - val_loss: 0.1301\n",
      "Epoch 4/15\n",
      "152/152 [==============================] - 8s 52ms/step - loss: 1.5791 - val_loss: 0.1305\n",
      "Epoch 5/15\n",
      "152/152 [==============================] - 8s 52ms/step - loss: 1.5769 - val_loss: 0.1278\n",
      "Epoch 6/15\n",
      "152/152 [==============================] - 8s 52ms/step - loss: 1.5719 - val_loss: 0.1423\n",
      "Epoch 7/15\n",
      "152/152 [==============================] - 8s 51ms/step - loss: 1.5710 - val_loss: 0.1391\n",
      "Epoch 8/15\n",
      "152/152 [==============================] - 8s 51ms/step - loss: 1.5726 - val_loss: 0.1301\n",
      "Epoch 9/15\n",
      "152/152 [==============================] - 8s 51ms/step - loss: 1.5688 - val_loss: 0.1317\n",
      "Epoch 10/15\n",
      "152/152 [==============================] - 8s 51ms/step - loss: 1.5573 - val_loss: 0.1596\n",
      "Epoch 11/15\n",
      "152/152 [==============================] - 8s 51ms/step - loss: 1.5715 - val_loss: 0.1271\n",
      "Epoch 12/15\n",
      "152/152 [==============================] - 8s 51ms/step - loss: 1.5661 - val_loss: 0.1334\n",
      "Epoch 13/15\n",
      "152/152 [==============================] - 8s 51ms/step - loss: 1.5563 - val_loss: 0.1386\n",
      "Epoch 14/15\n",
      "152/152 [==============================] - 8s 51ms/step - loss: 1.5496 - val_loss: 0.1418\n",
      "Epoch 15/15\n",
      "152/152 [==============================] - 8s 51ms/step - loss: 1.5472 - val_loss: 0.1455\n"
     ]
    },
    {
     "name": "stderr",
     "output_type": "stream",
     "text": [
      "WARNING:absl:Found untraced functions such as lstm_cell_55_layer_call_fn, lstm_cell_55_layer_call_and_return_conditional_losses while saving (showing 2 of 2). These functions will not be directly callable after loading.\n"
     ]
    },
    {
     "name": "stdout",
     "output_type": "stream",
     "text": [
      "INFO:tensorflow:Assets written to: Hybrid Univarite3/month4_7_step_lookahead_Hybrid\\assets\n"
     ]
    },
    {
     "name": "stderr",
     "output_type": "stream",
     "text": [
      "INFO:tensorflow:Assets written to: Hybrid Univarite3/month4_7_step_lookahead_Hybrid\\assets\n",
      "WARNING:absl:<keras.layers.recurrent.LSTMCell object at 0x0000014D36D72CD0> has the same name 'LSTMCell' as a built-in Keras object. Consider renaming <class 'keras.layers.recurrent.LSTMCell'> to avoid naming conflicts when loading with `tf.keras.models.load_model`. If renaming is not possible, pass the object in the `custom_objects` parameter of the load function.\n"
     ]
    },
    {
     "name": "stdout",
     "output_type": "stream",
     "text": [
      "152/152 [==============================] - 4s 21ms/step\n",
      "65/65 [==============================] - 1s 19ms/step\n"
     ]
    },
    {
     "name": "stderr",
     "output_type": "stream",
     "text": [
      "D:\\Anaconda\\lib\\site-packages\\pandas\\core\\frame.py:3678: SettingWithCopyWarning: \n",
      "A value is trying to be set on a copy of a slice from a DataFrame.\n",
      "Try using .loc[row_indexer,col_indexer] = value instead\n",
      "\n",
      "See the caveats in the documentation: https://pandas.pydata.org/pandas-docs/stable/user_guide/indexing.html#returning-a-view-versus-a-copy\n",
      "  self[col] = igetitem(value, i)\n"
     ]
    },
    {
     "name": "stdout",
     "output_type": "stream",
     "text": [
      "Epoch 1/15\n",
      "152/152 [==============================] - 10s 56ms/step - loss: 1.5924 - val_loss: 0.1163\n",
      "Epoch 2/15\n",
      "152/152 [==============================] - 8s 51ms/step - loss: 1.5828 - val_loss: 0.1200\n",
      "Epoch 3/15\n",
      "152/152 [==============================] - 8s 51ms/step - loss: 1.5803 - val_loss: 0.1324\n",
      "Epoch 4/15\n",
      "152/152 [==============================] - 8s 51ms/step - loss: 1.5766 - val_loss: 0.1386\n",
      "Epoch 5/15\n",
      "152/152 [==============================] - 8s 51ms/step - loss: 1.5711 - val_loss: 0.1551\n",
      "Epoch 6/15\n",
      "152/152 [==============================] - 8s 51ms/step - loss: 1.5622 - val_loss: 0.1462\n",
      "Epoch 7/15\n",
      "152/152 [==============================] - 8s 51ms/step - loss: 1.5780 - val_loss: 0.1338\n",
      "Epoch 8/15\n",
      "152/152 [==============================] - 8s 51ms/step - loss: 1.5431 - val_loss: 0.1385\n",
      "Epoch 9/15\n",
      "152/152 [==============================] - 8s 51ms/step - loss: 1.5896 - val_loss: 0.1378\n",
      "Epoch 10/15\n",
      "152/152 [==============================] - 8s 51ms/step - loss: 1.5852 - val_loss: 0.1432\n",
      "Epoch 11/15\n",
      "152/152 [==============================] - 8s 51ms/step - loss: 1.5819 - val_loss: 0.1448\n",
      "Epoch 12/15\n",
      "152/152 [==============================] - 8s 51ms/step - loss: 1.5800 - val_loss: 0.1474\n",
      "Epoch 13/15\n",
      "152/152 [==============================] - 8s 51ms/step - loss: 1.5787 - val_loss: 0.1496\n",
      "Epoch 14/15\n",
      "152/152 [==============================] - 8s 51ms/step - loss: 1.5730 - val_loss: 0.1511\n",
      "Epoch 15/15\n",
      "152/152 [==============================] - 8s 51ms/step - loss: 1.5520 - val_loss: 0.1835\n"
     ]
    },
    {
     "name": "stderr",
     "output_type": "stream",
     "text": [
      "WARNING:absl:Found untraced functions such as lstm_cell_56_layer_call_fn, lstm_cell_56_layer_call_and_return_conditional_losses while saving (showing 2 of 2). These functions will not be directly callable after loading.\n"
     ]
    },
    {
     "name": "stdout",
     "output_type": "stream",
     "text": [
      "INFO:tensorflow:Assets written to: Hybrid Univarite3/month4_8_step_lookahead_Hybrid\\assets\n"
     ]
    },
    {
     "name": "stderr",
     "output_type": "stream",
     "text": [
      "INFO:tensorflow:Assets written to: Hybrid Univarite3/month4_8_step_lookahead_Hybrid\\assets\n",
      "WARNING:absl:<keras.layers.recurrent.LSTMCell object at 0x0000014D1EF175E0> has the same name 'LSTMCell' as a built-in Keras object. Consider renaming <class 'keras.layers.recurrent.LSTMCell'> to avoid naming conflicts when loading with `tf.keras.models.load_model`. If renaming is not possible, pass the object in the `custom_objects` parameter of the load function.\n"
     ]
    },
    {
     "name": "stdout",
     "output_type": "stream",
     "text": [
      "152/152 [==============================] - 4s 21ms/step\n",
      "65/65 [==============================] - 1s 19ms/step\n"
     ]
    },
    {
     "name": "stderr",
     "output_type": "stream",
     "text": [
      "D:\\Anaconda\\lib\\site-packages\\pandas\\core\\frame.py:3678: SettingWithCopyWarning: \n",
      "A value is trying to be set on a copy of a slice from a DataFrame.\n",
      "Try using .loc[row_indexer,col_indexer] = value instead\n",
      "\n",
      "See the caveats in the documentation: https://pandas.pydata.org/pandas-docs/stable/user_guide/indexing.html#returning-a-view-versus-a-copy\n",
      "  self[col] = igetitem(value, i)\n"
     ]
    },
    {
     "name": "stdout",
     "output_type": "stream",
     "text": [
      "Epoch 1/15\n",
      "152/152 [==============================] - 11s 55ms/step - loss: 1.6123 - val_loss: 0.1191\n",
      "Epoch 2/15\n",
      "152/152 [==============================] - 8s 52ms/step - loss: 1.5869 - val_loss: 0.1160\n",
      "Epoch 3/15\n",
      "152/152 [==============================] - 8s 51ms/step - loss: 1.5850 - val_loss: 0.1170\n",
      "Epoch 4/15\n",
      "152/152 [==============================] - 8s 51ms/step - loss: 1.5835 - val_loss: 0.1212\n",
      "Epoch 5/15\n",
      "152/152 [==============================] - 8s 51ms/step - loss: 1.5811 - val_loss: 0.1256\n",
      "Epoch 6/15\n",
      "152/152 [==============================] - 8s 51ms/step - loss: 1.5787 - val_loss: 0.1367\n",
      "Epoch 7/15\n",
      "152/152 [==============================] - 8s 51ms/step - loss: 1.5720 - val_loss: 0.1423\n",
      "Epoch 8/15\n",
      "152/152 [==============================] - 8s 52ms/step - loss: 1.5722 - val_loss: 0.1546\n",
      "Epoch 9/15\n",
      "152/152 [==============================] - 8s 51ms/step - loss: 1.5753 - val_loss: 0.1202\n",
      "Epoch 10/15\n",
      "152/152 [==============================] - 8s 51ms/step - loss: 1.5531 - val_loss: 0.1236\n",
      "Epoch 11/15\n",
      "152/152 [==============================] - 8s 51ms/step - loss: 1.5833 - val_loss: 0.1227\n",
      "Epoch 12/15\n",
      "152/152 [==============================] - 8s 51ms/step - loss: 1.5837 - val_loss: 0.1195\n",
      "Epoch 13/15\n",
      "152/152 [==============================] - 8s 52ms/step - loss: 1.5849 - val_loss: 0.1238\n",
      "Epoch 14/15\n",
      "152/152 [==============================] - 8s 51ms/step - loss: 1.5801 - val_loss: 0.1220\n",
      "Epoch 15/15\n",
      "152/152 [==============================] - 8s 51ms/step - loss: 1.5812 - val_loss: 0.1234\n"
     ]
    },
    {
     "name": "stderr",
     "output_type": "stream",
     "text": [
      "WARNING:absl:Found untraced functions such as lstm_cell_57_layer_call_fn, lstm_cell_57_layer_call_and_return_conditional_losses while saving (showing 2 of 2). These functions will not be directly callable after loading.\n"
     ]
    },
    {
     "name": "stdout",
     "output_type": "stream",
     "text": [
      "INFO:tensorflow:Assets written to: Hybrid Univarite3/month4_9_step_lookahead_Hybrid\\assets\n"
     ]
    },
    {
     "name": "stderr",
     "output_type": "stream",
     "text": [
      "INFO:tensorflow:Assets written to: Hybrid Univarite3/month4_9_step_lookahead_Hybrid\\assets\n",
      "WARNING:absl:<keras.layers.recurrent.LSTMCell object at 0x0000014D440BB8E0> has the same name 'LSTMCell' as a built-in Keras object. Consider renaming <class 'keras.layers.recurrent.LSTMCell'> to avoid naming conflicts when loading with `tf.keras.models.load_model`. If renaming is not possible, pass the object in the `custom_objects` parameter of the load function.\n"
     ]
    },
    {
     "name": "stdout",
     "output_type": "stream",
     "text": [
      "152/152 [==============================] - 4s 21ms/step\n",
      "65/65 [==============================] - 1s 19ms/step\n"
     ]
    },
    {
     "name": "stderr",
     "output_type": "stream",
     "text": [
      "D:\\Anaconda\\lib\\site-packages\\pandas\\core\\frame.py:3678: SettingWithCopyWarning: \n",
      "A value is trying to be set on a copy of a slice from a DataFrame.\n",
      "Try using .loc[row_indexer,col_indexer] = value instead\n",
      "\n",
      "See the caveats in the documentation: https://pandas.pydata.org/pandas-docs/stable/user_guide/indexing.html#returning-a-view-versus-a-copy\n",
      "  self[col] = igetitem(value, i)\n"
     ]
    },
    {
     "name": "stdout",
     "output_type": "stream",
     "text": [
      "Epoch 1/15\n",
      "151/151 [==============================] - 10s 55ms/step - loss: 1.6217 - val_loss: 0.1203\n",
      "Epoch 2/15\n",
      "151/151 [==============================] - 8s 50ms/step - loss: 1.5881 - val_loss: 0.1221\n",
      "Epoch 3/15\n",
      "151/151 [==============================] - 8s 50ms/step - loss: 1.5850 - val_loss: 0.1263\n",
      "Epoch 4/15\n",
      "151/151 [==============================] - 8s 50ms/step - loss: 1.5828 - val_loss: 0.1378\n",
      "Epoch 5/15\n",
      "151/151 [==============================] - 8s 50ms/step - loss: 1.5784 - val_loss: 0.1447\n",
      "Epoch 6/15\n",
      "151/151 [==============================] - 8s 50ms/step - loss: 1.5743 - val_loss: 0.1645\n",
      "Epoch 7/15\n",
      "151/151 [==============================] - 8s 50ms/step - loss: 1.5714 - val_loss: 0.1577\n",
      "Epoch 8/15\n",
      "151/151 [==============================] - 8s 50ms/step - loss: 1.5735 - val_loss: 0.1439\n",
      "Epoch 9/15\n",
      "151/151 [==============================] - 8s 50ms/step - loss: 1.5621 - val_loss: 0.1416\n",
      "Epoch 10/15\n",
      "151/151 [==============================] - 8s 50ms/step - loss: 1.5545 - val_loss: 0.1485\n",
      "Epoch 11/15\n",
      "151/151 [==============================] - 8s 50ms/step - loss: 1.5477 - val_loss: 0.1438\n",
      "Epoch 12/15\n",
      "151/151 [==============================] - 8s 50ms/step - loss: 1.5262 - val_loss: 0.1416\n",
      "Epoch 13/15\n",
      "151/151 [==============================] - 8s 50ms/step - loss: 1.5717 - val_loss: 0.3024\n",
      "Epoch 14/15\n",
      "151/151 [==============================] - 8s 50ms/step - loss: 1.6272 - val_loss: 0.1681\n",
      "Epoch 15/15\n",
      "151/151 [==============================] - 8s 50ms/step - loss: 1.6277 - val_loss: 0.1572\n"
     ]
    },
    {
     "name": "stderr",
     "output_type": "stream",
     "text": [
      "WARNING:absl:Found untraced functions such as lstm_cell_58_layer_call_fn, lstm_cell_58_layer_call_and_return_conditional_losses while saving (showing 2 of 2). These functions will not be directly callable after loading.\n"
     ]
    },
    {
     "name": "stdout",
     "output_type": "stream",
     "text": [
      "INFO:tensorflow:Assets written to: Hybrid Univarite3/month4_10_step_lookahead_Hybrid\\assets\n"
     ]
    },
    {
     "name": "stderr",
     "output_type": "stream",
     "text": [
      "INFO:tensorflow:Assets written to: Hybrid Univarite3/month4_10_step_lookahead_Hybrid\\assets\n",
      "WARNING:absl:<keras.layers.recurrent.LSTMCell object at 0x0000014D7A99E430> has the same name 'LSTMCell' as a built-in Keras object. Consider renaming <class 'keras.layers.recurrent.LSTMCell'> to avoid naming conflicts when loading with `tf.keras.models.load_model`. If renaming is not possible, pass the object in the `custom_objects` parameter of the load function.\n"
     ]
    },
    {
     "name": "stdout",
     "output_type": "stream",
     "text": [
      "151/151 [==============================] - 4s 20ms/step\n",
      "65/65 [==============================] - 2s 19ms/step\n"
     ]
    },
    {
     "name": "stderr",
     "output_type": "stream",
     "text": [
      "D:\\Anaconda\\lib\\site-packages\\pandas\\core\\frame.py:3678: SettingWithCopyWarning: \n",
      "A value is trying to be set on a copy of a slice from a DataFrame.\n",
      "Try using .loc[row_indexer,col_indexer] = value instead\n",
      "\n",
      "See the caveats in the documentation: https://pandas.pydata.org/pandas-docs/stable/user_guide/indexing.html#returning-a-view-versus-a-copy\n",
      "  self[col] = igetitem(value, i)\n"
     ]
    }
   ],
   "source": [
    "end_dates = ['2021-12-26 23:55:00', '2022-01-26 23:55:00', '2022-02-26 23:55:00', '2022-03-26 23:55:00', '2022-04-26 23:55:00'  ]\n",
    "Start_dates = ['2021-11-26 00:00:00', '2021-12-26 00:00:00', '2022-01-26 23:55:00', '2022-02-26 23:55:00', '2022-03-26 23:55:00']\n",
    "\n",
    "#Create Training Examples for all lookaheads\n",
    "resample_rate = '5T'\n",
    "start_date='2021-11-26 00:00:00'\n",
    "end_date='2021-12-26 23:55:00' \n",
    "inputs = ['min_gas_price']\n",
    "#No of timesteps behind to forecast on, no of timesteps to forecast ahead\n",
    "n_steps_in = 2016\n",
    "n_steps_out = 1\n",
    "#How many timesteps between start of training examples\n",
    "step_interval = 1\n",
    "n_step_lookahead = 1\n",
    "\n",
    "y_hat_list=[]\n",
    "train_loss_list=[]\n",
    "val_loss_list=[]\n",
    "training_metrics_dicts=[]\n",
    "valdiation_metrics_dicts=[]\n",
    "for month in [0, 1, 2, 3, 4]:\n",
    "    n_step_lookahead=1\n",
    "    start_date=Start_dates[month]\n",
    "    end_date=end_dates[month]\n",
    "    X_train, y_train, X_val, y_val, scaler = generate_training_val_examples_univariate_output(data)\n",
    "    for i in range(1,11):\n",
    "        n_step_lookahead = i\n",
    "     \n",
    "\n",
    "\n",
    "        model, model_checkpoint_callback, checkpoint_filepath = LSTM_model()\n",
    "        train_history = model.fit(X_train, y_train,validation_data=(X_val, y_val), epochs=15, verbose=1, callbacks=[model_checkpoint_callback])\n",
    "        model.load_weights(checkpoint_filepath)\n",
    "        model.save(('Hybrid Univarite3/month' +str(month)+'_'+ str(i) + '_step_lookahead_Hybrid'))\n",
    "\n",
    "        yhat_train = model.predict(X_train, verbose=1)\n",
    "        yhat_val = model.predict(X_val, verbose=1)\n",
    "        y_hat_list.append(yhat_val)\n",
    "\n",
    "        train_loss_list.append(train_history.history['loss'])\n",
    "        val_loss_list.append(train_history.history['val_loss'])\n",
    "        pd.DataFrame(train_loss_list).to_csv('Hybrid Univarite3/train_loss')\n",
    "        pd.DataFrame(val_loss_list).to_csv('Hybrid Univarite3/val_loss')\n",
    "        \n",
    "        training_metrics_dicts.append(descale_y_retrun_metrics_univariate_y(yhat_train, y_train))\n",
    "        valdiation_metrics_dicts.append(descale_y_retrun_metrics_univariate_y(yhat_val, y_val))\n",
    "\n",
    "    \n",
    "        x_train_extended = []\n",
    "        for j in range(0, len(X_train)):\n",
    "            X_train_t = np.append(X_train[j], yhat_train[j])\n",
    "            x_train_extended.append(X_train_t)\n",
    "\n",
    "        x_val_extended = []\n",
    "        for k in range(0, len(X_val)):\n",
    "            X_val_t = np.append(X_val[k], yhat_val[k])\n",
    "            x_val_extended.append(X_val_t)\n",
    "\n",
    "        n_step_lookahead = i+1\n",
    "        X_traindummy, y_train, X_valdummy, y_val, scaler = generate_training_val_examples_univariate_output(data)\n",
    "        x_train = np.array(x_train_extended)\n",
    "        x_val = np.array(x_val_extended)\n",
    "        x_train = x_train.reshape(x_train.shape[0], x_train.shape[1],1)\n",
    "        x_val = x_val.reshape(x_val.shape[0], x_val.shape[1],1)\n",
    "        x_train = x_train[:,1:]\n",
    "        x_val = x_val[:,1:]\n",
    "        \n",
    "        #these are the lines of code that were cuasing the issue with the previous model.\n",
    "        #examples are now removed from the end of the array as the lookahead is exntended, when there is no longer sufficient data to support the final window\n",
    "        #examples were erroneously removed from the start in model 2\n",
    "        X_train = x_train[:(y_train.shape[0]),:,:]\n",
    "        X_val = x_val[:(y_val.shape[0]),:,:]\n",
    "        np.save(\"Hybrid Univarite3/train_metric_dict_1.npy\", training_metrics_dicts)  \n",
    "        np.save(\"Hybrid Univarite3/val_metric_dict_1.npy\", valdiation_metrics_dicts)  \n",
    "\n",
    "        \n",
    "        \n"
   ]
  },
  {
   "cell_type": "code",
   "execution_count": 43,
   "id": "0ec655c8",
   "metadata": {},
   "outputs": [],
   "source": [
    "from sklearn.preprocessing import MinMaxScaler\n",
    "from sklearn.metrics import r2_score\n",
    "from sklearn.metrics import mean_squared_error\n",
    "from sklearn.metrics import mean_absolute_error\n",
    "from sklearn.metrics import mean_absolute_percentage_error\n",
    "\n",
    "\n",
    "\n"
   ]
  },
  {
   "cell_type": "markdown",
   "id": "4b71867c-b942-43c5-ba9e-d5144cf1432a",
   "metadata": {},
   "source": [
    "### Visualisation; 1 step lookahead"
   ]
  },
  {
   "cell_type": "code",
   "execution_count": 42,
   "id": "72471a00-1cc7-43b1-becf-f122087ad997",
   "metadata": {},
   "outputs": [],
   "source": [
    "# get dates for the validation outputs\n",
    "def get_val_dates(): \n",
    "    series =data[:end_date].index.values.astype(np.int64) // 10 ** 9\n",
    "    x,y = split_sequence(series,n_steps_in, n_steps_out, step_interval, n_step_lookahead)\n",
    "    x_train, x_val = np.split(x, [int(0.7 * len(x))])\n",
    "    Y_train, Y_val_timestamps = np.split(y, [int(0.7 * len(y))])\n",
    "    return Y_val_timestamps\n"
   ]
  },
  {
   "cell_type": "code",
   "execution_count": 43,
   "id": "9bea2ecd-6bbc-4573-a8c2-c2b248e4d5f7",
   "metadata": {},
   "outputs": [],
   "source": [
    "# generates axis tick labels and intervals\n",
    "def generate_ticks_lables(X_train, X_val, y_train, y_val, tick_interval, n_step_lookahead):\n",
    "    ticks=np.arange(0,len(y_val),tick_interval)\n",
    "    DATE_TIME_STRING_FORMAT='%m-%d %H:%M'\n",
    "    y_val_ts = get_val_dates()\n",
    "    label_ts = y_val_ts[:,n_step_lookahead-1][0::tick_interval]\n",
    "    labels=[]\n",
    "    for i in label_ts:\n",
    "        labels.append(datetime.fromtimestamp(i).strftime('%m-%d %H:%M'))\n",
    "    \n",
    "    \n",
    "     \n",
    "    labels=labels[:len(ticks)]\n",
    "    return ticks, labels"
   ]
  },
  {
   "cell_type": "code",
   "execution_count": 44,
   "id": "e9c77119-20c0-4772-8379-f4480a7f3621",
   "metadata": {
    "tags": []
   },
   "outputs": [
    {
     "name": "stderr",
     "output_type": "stream",
     "text": [
      "D:\\Anaconda\\lib\\site-packages\\pandas\\core\\frame.py:3678: SettingWithCopyWarning: \n",
      "A value is trying to be set on a copy of a slice from a DataFrame.\n",
      "Try using .loc[row_indexer,col_indexer] = value instead\n",
      "\n",
      "See the caveats in the documentation: https://pandas.pydata.org/pandas-docs/stable/user_guide/indexing.html#returning-a-view-versus-a-copy\n",
      "  self[col] = igetitem(value, i)\n"
     ]
    }
   ],
   "source": [
    "## Generate data for the 1 step model\n",
    "\n",
    "#Create Training Examples for all lookaheads\n",
    "resample_rate = '5T'\n",
    "start_date='2021-11-26 00:00:00'\n",
    "end_date='2021-12-26 23:55:00' \n",
    "inputs = ['min_gas_price']\n",
    "#No of timesteps behind to forecast on, no of timesteps to forecast ahead\n",
    "n_steps_in = 2016\n",
    "n_steps_out = 1\n",
    "#How many timesteps between start of training examples\n",
    "step_interval = 1\n",
    "n_step_lookahead = 1\n",
    "\n",
    "X_train, y_train, X_val, y_val, scaler = generate_training_val_examples_univariate_output(data)\n"
   ]
  },
  {
   "cell_type": "code",
   "execution_count": 45,
   "id": "802f901d-1981-4c6a-b6cc-25f9c9776e14",
   "metadata": {
    "tags": []
   },
   "outputs": [],
   "source": [
    "# Load 1 step model\n",
    "model = keras.models.load_model('Hybrid Univarite2/month0_1_step_lookahead_Hybrid')"
   ]
  },
  {
   "cell_type": "code",
   "execution_count": 46,
   "id": "14f686a5-a8dd-49d9-8cec-8a2cd007e8d6",
   "metadata": {},
   "outputs": [
    {
     "name": "stdout",
     "output_type": "stream",
     "text": [
      "65/65 [==============================] - 2s 23ms/step\n"
     ]
    }
   ],
   "source": [
    "#Make forecasts\n",
    "yhat = model.predict(X_val, verbose=1)"
   ]
  },
  {
   "cell_type": "code",
   "execution_count": 47,
   "id": "2b426599-0912-43f7-872d-a2d50f494b5c",
   "metadata": {},
   "outputs": [],
   "source": [
    "ticks, labels = generate_ticks_lables(X_train, X_val, y_train, y_val, 144, 1)"
   ]
  },
  {
   "cell_type": "code",
   "execution_count": 49,
   "id": "716123c3",
   "metadata": {
    "tags": []
   },
   "outputs": [
    {
     "name": "stdout",
     "output_type": "stream",
     "text": [
      "RMSE 12.376244565530904\n",
      "MAE 7.559684908697512\n",
      "MAPE 0.10895594428332933\n",
      "R^2 0.7321184839909961\n"
     ]
    },
    {
     "data": {
      "image/png": "[encoded data removed]",
      "text/plain": [
       "<Figure size 1440x576 with 1 Axes>"
      ]
     },
     "metadata": {
      "needs_background": "light"
     },
     "output_type": "display_data"
    }
   ],
   "source": [
    "#Minmax scaler has been fit with nd data, add dummy columns so the scaler can be applied to min gas rpice\n",
    "pred_descaled= (scaler.inverse_transform(array([yhat,]*(len(inputs))).transpose()[0]))[:, :1]\n",
    "groud_truth_descaled= (scaler.inverse_transform(array([y_val,]*(len(inputs))).transpose()[0][0]))[ :, :1]\n",
    "\n",
    "\n",
    "f, (ax3) = plt.subplots(1, 1, sharey=True)\n",
    "f.set_figwidth(20)\n",
    "f.set_figheight(8)\n",
    "ax3.set_title('Hybrid 5 Min Lookahead', size=25)\n",
    "ax3.plot(groud_truth_descaled, color='blue',label='Real '+' Gas Price')\n",
    "ax3.plot(pred_descaled, color='red',label='Predicted '+' Gas Price')\n",
    "\n",
    "ax3.legend(loc='upper left',prop={'size': 25})\n",
    "plt.setp(ax3, xticks=ticks, xticklabels=labels)\n",
    "ax3.tick_params(axis='x', labelrotation=60,size=10, labelsize=20)\n",
    "ax3.tick_params(axis='y', labelsize=20,size=10)\n",
    "\n",
    "print('RMSE ' + str(mean_squared_error(groud_truth_descaled, pred_descaled, squared=False)))\n",
    "print('MAE ' + str(mean_absolute_error(groud_truth_descaled, pred_descaled)))\n",
    "print('MAPE ' + str(mean_absolute_percentage_error(groud_truth_descaled, pred_descaled)))\n",
    "print('R^2 ' + str(r2_score(groud_truth_descaled, pred_descaled)))"
   ]
  },
  {
   "cell_type": "markdown",
   "id": "524ec3f0-f7ff-403e-b165-ef8b856f6937",
   "metadata": {},
   "source": [
    "# Lets look at the 10 step lookahead"
   ]
  },
  {
   "cell_type": "code",
   "execution_count": 52,
   "id": "d6a2e77b-4982-49b6-9146-6b005fc20768",
   "metadata": {},
   "outputs": [
    {
     "name": "stderr",
     "output_type": "stream",
     "text": [
      "D:\\Anaconda\\lib\\site-packages\\pandas\\core\\frame.py:3678: SettingWithCopyWarning: \n",
      "A value is trying to be set on a copy of a slice from a DataFrame.\n",
      "Try using .loc[row_indexer,col_indexer] = value instead\n",
      "\n",
      "See the caveats in the documentation: https://pandas.pydata.org/pandas-docs/stable/user_guide/indexing.html#returning-a-view-versus-a-copy\n",
      "  self[col] = igetitem(value, i)\n"
     ]
    }
   ],
   "source": [
    "# Generate data for the 1 step model\n",
    "\n",
    "#Create Training Examples for all lookaheads\n",
    "resample_rate = '5T'\n",
    "start_date='2021-11-26 00:00:00'\n",
    "end_date='2021-12-26 23:55:00' \n",
    "inputs = ['min_gas_price']\n",
    "#No of timesteps behind to forecast on, no of timesteps to forecast ahead\n",
    "n_steps_in = 2016\n",
    "n_steps_out = 1\n",
    "#How many timesteps between start of training examples\n",
    "step_interval = 1\n",
    "n_step_lookahead = 10\n",
    "\n",
    "X_train, y_train, X_val, y_val, scaler = generate_training_val_examples_univariate_output(data)"
   ]
  },
  {
   "cell_type": "code",
   "execution_count": 53,
   "id": "5154e356-2618-4153-9780-9b0ded787e9c",
   "metadata": {
    "tags": []
   },
   "outputs": [],
   "source": [
    "#Load 10 step model\n",
    "model = keras.models.load_model('Hybrid Univarite3/month0_10_step_lookahead_Hybrid')"
   ]
  },
  {
   "cell_type": "code",
   "execution_count": 54,
   "id": "cc82b87b-7f13-4d96-84b6-1e424d965f46",
   "metadata": {},
   "outputs": [
    {
     "data": {
      "text/plain": [
       "(4832, 2016, 1)"
      ]
     },
     "execution_count": 54,
     "metadata": {},
     "output_type": "execute_result"
    }
   ],
   "source": [
    "X_train.shape"
   ]
  },
  {
   "cell_type": "code",
   "execution_count": 55,
   "id": "ca9f729c-2bca-4e04-a1f8-7ee594b694af",
   "metadata": {},
   "outputs": [
    {
     "name": "stdout",
     "output_type": "stream",
     "text": [
      "65/65 [==============================] - 3s 23ms/step\n"
     ]
    }
   ],
   "source": [
    "yhat = model.predict(X_val, verbose=1)"
   ]
  },
  {
   "cell_type": "code",
   "execution_count": 56,
   "id": "d19eeefa-366b-4318-b46b-24d39439ede4",
   "metadata": {},
   "outputs": [],
   "source": [
    "ticks, labels = generate_ticks_lables(X_train, X_val, y_train, y_val, 144, 1)"
   ]
  },
  {
   "cell_type": "code",
   "execution_count": 57,
   "id": "0d192096-7e7c-4c15-a6d6-616611f4779d",
   "metadata": {},
   "outputs": [
    {
     "name": "stdout",
     "output_type": "stream",
     "text": [
      "RMSE 19.074829382722392\n",
      "MAE 12.96347269571774\n",
      "MAPE 0.18702844774734162\n",
      "R^2 0.3644954669976387\n"
     ]
    },
    {
     "data": {
      "image/png": "[encoded data removed]",
      "text/plain": [
       "<Figure size 1440x576 with 1 Axes>"
      ]
     },
     "metadata": {
      "needs_background": "light"
     },
     "output_type": "display_data"
    }
   ],
   "source": [
    "#Minmax scaler has been fit with nd data, add dummy columns so the scaler can be applied to min gas rpice\n",
    "pred_descaled= (scaler.inverse_transform(array([yhat,]*(len(inputs))).transpose()[0]))[:, :1]\n",
    "groud_truth_descaled= (scaler.inverse_transform(array([y_val,]*(len(inputs))).transpose()[0][0]))[ :, :1]\n",
    "#groud_truth_descaled= (scaler.inverse_transform(array([y_val,]*(len(inputs))).transpose()[0][0]))[ :, :1]\n",
    "\n",
    "f, (ax3) = plt.subplots(1, 1, sharey=True)\n",
    "f.set_figwidth(20)\n",
    "f.set_figheight(8)\n",
    "ax3.set_title('Hybrid 50 Min Lookahead', size=25)\n",
    "ax3.plot(groud_truth_descaled, color='blue',label='Real '+' Gas Price')\n",
    "ax3.plot(pred_descaled, color='red',label='Predicted '+' Gas Price')\n",
    "\n",
    "ax3.legend(loc='upper left',prop={'size': 25})\n",
    "plt.setp(ax3, xticks=ticks, xticklabels=labels)\n",
    "ax3.tick_params(axis='x', labelrotation=60,size=10, labelsize=20)\n",
    "ax3.tick_params(axis='y', labelsize=20,size=10)\n",
    "\n",
    "print('RMSE ' + str(mean_squared_error(groud_truth_descaled, pred_descaled, squared=False)))\n",
    "print('MAE ' + str(mean_absolute_error(groud_truth_descaled, pred_descaled)))\n",
    "print('MAPE ' + str(mean_absolute_percentage_error(groud_truth_descaled, pred_descaled)))\n",
    "print('R^2 ' + str(r2_score(groud_truth_descaled, pred_descaled)))"
   ]
  }
 ],
 "metadata": {
  "kernelspec": {
   "display_name": "Python 3 (ipykernel)",
   "language": "python",
   "name": "python3"
  },
  "language_info": {
   "codemirror_mode": {
    "name": "ipython",
    "version": 3
   },
   "file_extension": ".py",
   "mimetype": "text/x-python",
   "name": "python",
   "nbconvert_exporter": "python",
   "pygments_lexer": "ipython3",
   "version": "3.9.7"
  }
 },
 "nbformat": 4,
 "nbformat_minor": 5
}
