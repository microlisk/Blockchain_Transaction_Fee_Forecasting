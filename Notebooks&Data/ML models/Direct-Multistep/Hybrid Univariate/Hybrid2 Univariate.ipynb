{
 "cells": [
  {
   "cell_type": "markdown",
   "id": "ed254beb-b30d-40dd-b1ab-1675290adaa0",
   "metadata": {},
   "source": [
    "# Hybrid Univariate #2"
   ]
  },
  {
   "cell_type": "markdown",
   "id": "273cf8a4-056b-49a8-8123-cc15d8f2f71b",
   "metadata": {},
   "source": [
    "We are training a seperate model for each timestep in the lookahead window; univariate input and output\n",
    "We are feeding the output of the previous model to each succesive model"
   ]
  },
  {
   "cell_type": "markdown",
   "id": "c35b9b4a-3b45-4a56-a6be-17351afd730e",
   "metadata": {},
   "source": [
    "We are using z-score noralization as opposed to min/max, callbacks, and a bigger dataset, versus the first iteration of this model"
   ]
  },
  {
   "cell_type": "markdown",
   "id": "57951ae2-e718-4189-a9b1-2824d2179080",
   "metadata": {},
   "source": [
    "After reviewing validation metrics, metrics and training loss did not decline after the first lookahead. This was due to an error in code that generates the training examples for succesive lookaheads. This is addressed in the third iteration"
   ]
  },
  {
   "cell_type": "markdown",
   "id": "9358f931-3eea-4754-9844-15de128fe5ba",
   "metadata": {
    "jp-MarkdownHeadingCollapsed": true,
    "tags": []
   },
   "source": [
    "## Load functions and data"
   ]
  },
  {
   "cell_type": "code",
   "execution_count": 1,
   "id": "2243fdcb-c389-4556-be27-9373234fc591",
   "metadata": {},
   "outputs": [],
   "source": [
    "import pandas as pd\n",
    "import numpy as np\n",
    "from numpy import array\n",
    "from numpy import mean\n",
    "from numpy import std\n",
    "import tensorflow as tf\n",
    "from tensorflow import keras\n",
    "from keras import optimizers\n",
    "from keras.models import Sequential\n",
    "from keras import callbacks\n",
    "from tensorflow.keras.utils import plot_model\n",
    "from tensorflow.keras.layers import LSTM, Dense, Dropout, TimeDistributed, Conv1D, MaxPooling1D, Flatten, Bidirectional, Input, Flatten, Activation, Reshape, RepeatVector, Concatenate\n",
    "from tensorflow.keras.models import Model\n",
    "import matplotlib.pyplot as plt\n",
    "\n"
   ]
  },
  {
   "cell_type": "code",
   "execution_count": 2,
   "id": "fd68e3ae-22e3-43af-b5e2-abdca3c87420",
   "metadata": {},
   "outputs": [],
   "source": [
    "def split_sequence(sequence, n_steps_in, n_steps_out, step_interval, n_step_lookahead):\n",
    "    X, y = list(), list()\n",
    "    example_count = int((len(sequence)/step_interval))\n",
    "    for i in range(example_count):\n",
    "        # find the end of this pattern\n",
    "        end_ix = (i*step_interval) + n_steps_in\n",
    "        out_start_ix = end_ix + n_step_lookahead -1\n",
    "        out_end_ix = end_ix + n_steps_out + n_step_lookahead -1\n",
    "        # check if we are beyond the sequence\n",
    "        if out_end_ix > len(sequence):\n",
    "            break\n",
    "        # gather input and output parts of the pattern\n",
    "        seq_x, seq_y = sequence[(i*step_interval):end_ix], sequence[out_start_ix:out_end_ix]\n",
    "        X.append(seq_x)\n",
    "        y.append(seq_y)\n",
    "    return array(X), array(y)"
   ]
  },
  {
   "cell_type": "code",
   "execution_count": 3,
   "id": "479cb03e-33f8-4df8-afe6-82b2351713ed",
   "metadata": {},
   "outputs": [
    {
     "data": {
      "text/plain": [
       "(array([[0, 1, 2, 3, 4],\n",
       "        [1, 2, 3, 4, 5],\n",
       "        [2, 3, 4, 5, 6],\n",
       "        [3, 4, 5, 6, 7]]),\n",
       " array([[ 9],\n",
       "        [10],\n",
       "        [11],\n",
       "        [12]]))"
      ]
     },
     "execution_count": 3,
     "metadata": {},
     "output_type": "execute_result"
    }
   ],
   "source": [
    "#To demonstrate above function\n",
    "sequence = range(0,13)\n",
    "n_steps_in = 1\n",
    "n_steps_in = 5\n",
    "n_steps_out =1\n",
    "step_interval =1\n",
    "n_step_lookahead=5\n",
    "split_sequence(sequence, n_steps_in, n_steps_out, step_interval, n_step_lookahead)"
   ]
  },
  {
   "cell_type": "code",
   "execution_count": 4,
   "id": "71242122-b9c7-4b3e-8bad-7f44d1f0a345",
   "metadata": {},
   "outputs": [],
   "source": [
    "percentile_data = pd.read_csv (r'C:\\Users/conal/Desktop/MCM/Practicum - Copy/data/block gas price percentile data.csv', header=0)\n",
    "percentile_data['datetime'] = pd.to_datetime(percentile_data['block_timestamp'], format = '%Y-%m-%d %H:%M:%S UTC')\n",
    "\n",
    "percentile_data = percentile_data.sort_values(by='datetime',ascending=False)\n",
    "percentile_data = percentile_data.set_index('datetime')\n",
    "percentile_data = percentile_data.resample('5T').mean()\n",
    "percentile_data = percentile_data/1000000000"
   ]
  },
  {
   "cell_type": "code",
   "execution_count": 5,
   "id": "addfff7a-1ca9-4e3c-b832-ef9531018074",
   "metadata": {},
   "outputs": [],
   "source": [
    "usage_data = pd.read_csv (r'C:\\Users\\conal\\Desktop\\MCM\\Practicum - Copy\\data\\ETH,gas,usage merged 11-26 to 05-26.csv', header=0)\n",
    "usage_data['datetime'] = pd.to_datetime(usage_data['datetime'], format = '%Y-%m-%d %H:%M:%S')\n",
    "usage_data = usage_data.set_index('datetime')\n",
    "\n",
    "usage_data = usage_data.squeeze()\n",
    "usage_data = usage_data.astype('float')\n",
    "usage_data = usage_data.resample('5T').mean()"
   ]
  },
  {
   "cell_type": "code",
   "execution_count": 6,
   "id": "6249d6f0-1245-44dc-8b97-18b4efb26ed4",
   "metadata": {},
   "outputs": [],
   "source": [
    "usage_data2 = pd.read_csv (r'C:\\Users\\conal\\Desktop\\MCM\\Practicum - Copy\\data\\Contract counts 2021-11-26 to 2022-05-26.csv', header=0, index_col=0)\n",
    "usage_data2['datetime'] = pd.to_datetime(usage_data2['block_timestamp'], format = '%Y-%m-%d %H:%M:%S') \n",
    "usage_data2 = usage_data2.set_index('datetime')\n",
    "usage_data2 = usage_data2.drop(['block_timestamp'], axis=1)\n",
    "usage_data2 = usage_data2.squeeze()\n",
    "usage_data2 = usage_data2.astype('float')\n",
    "usage_data2 = usage_data2.resample('5T').sum()"
   ]
  },
  {
   "cell_type": "code",
   "execution_count": 7,
   "id": "ecd8d838-d20b-44b3-b500-60255a2a295f",
   "metadata": {},
   "outputs": [],
   "source": [
    "data = usage_data.merge(percentile_data, left_index=True, right_index=True)\n",
    "data = data.merge(usage_data2, left_index=True, right_index=True)"
   ]
  },
  {
   "cell_type": "markdown",
   "id": "9123a9bf",
   "metadata": {},
   "source": [
    "Load data, datetime to index, downsample with left edge label, convert wei to gwei"
   ]
  },
  {
   "cell_type": "code",
   "execution_count": 8,
   "id": "ac449a8e",
   "metadata": {},
   "outputs": [],
   "source": [
    "def generate_training_val_examples_univariate_output(data):\n",
    " \n",
    "    #Filter inputs, standardize\n",
    "    data =data[inputs]\n",
    "    scaler = StandardScaler()\n",
    "    data[inputs] = scaler.fit_transform(data[inputs])\n",
    "    \n",
    "\n",
    "    #Creat input:output examples\n",
    "    data = data[start_date:end_date].to_numpy()\n",
    "    X, y = split_sequence(data, n_steps_in, n_steps_out, step_interval, n_step_lookahead)\n",
    "    \n",
    "    X_train, X_val = np.split(X, [int(0.7 * len(X))])\n",
    "    \n",
    "    y_train, y_val = np.split(y, [int(0.7 * len(X))])\n",
    "\n",
    "    \n",
    "    #Reshape to 3D for LSTM, filter output to only the first input\n",
    "    X_train = X_train.reshape((X_train.shape[0], X_train.shape[1], len(inputs)))\n",
    "    y_train =y_train.reshape((y_train.shape[0], y_train.shape[1], len(inputs)))[:,:,:1]\n",
    "    X_val = X_val.reshape((X_val.shape[0], X_val.shape[1], len(inputs)))\n",
    "    y_val = y_val.reshape((y_val.shape[0], y_val.shape[1], len(inputs)))[:,:,:1]\n",
    "\n",
    "    \n",
    "    return X_train, y_train, X_val, y_val, scaler\n"
   ]
  },
  {
   "cell_type": "code",
   "execution_count": 9,
   "id": "f5878928-c13c-4766-bcfe-2a6d1de3a51f",
   "metadata": {},
   "outputs": [],
   "source": [
    "from sklearn.preprocessing import MinMaxScaler\n",
    "from sklearn.preprocessing import StandardScaler\n",
    "from sklearn.metrics import r2_score\n",
    "from sklearn.metrics import mean_squared_error\n",
    "from sklearn.metrics import mean_absolute_error\n",
    "from sklearn.metrics import mean_absolute_percentage_error\n"
   ]
  },
  {
   "cell_type": "code",
   "execution_count": 10,
   "id": "464a45e7-5fd8-42b5-8d79-ca17e2da26c1",
   "metadata": {},
   "outputs": [],
   "source": [
    "def descale_y_retrun_metrics(yhat, y_val2):\n",
    "    #reverts standard scaling, returns dictionary of metrics for each output, for all lookaheads\n",
    "    dict_indexes=[]\n",
    "    dict_dfs=[]\n",
    "    for j in range(0, n_steps_out):\n",
    "        RMSE_list, MAE_list, MAPE_list, R2_list, MSE_list = [],[],[],[],[]\n",
    "        for i in range(0, len(inputs)):  \n",
    "            pred_descaled= (scaler.inverse_transform(yhat[:,j:j+1,:].reshape(yhat.shape[0], yhat.shape[2])))[:, i:i+1]\n",
    "            groud_truth_descaled= ((scaler.inverse_transform(y_val2[:,j:j+1,:].reshape(y_val2.shape[0], y_val2.shape[2]))))[:, i:i+1]\n",
    "            RMSE = mean_squared_error(groud_truth_descaled, pred_descaled, squared=False)\n",
    "            MSE = mean_squared_error(groud_truth_descaled, pred_descaled, squared=True)\n",
    "            MAE = mean_absolute_error(groud_truth_descaled, pred_descaled)\n",
    "            MAPE = mean_absolute_percentage_error(groud_truth_descaled, pred_descaled)\n",
    "            R2 = r2_score(groud_truth_descaled, pred_descaled)\n",
    "            RMSE_list.append(RMSE)\n",
    "            MAE_list.append(MAE)\n",
    "            MAPE_list.append(MAPE)\n",
    "            R2_list.append(R2)\n",
    "            MSE_list.append(MSE)\n",
    "        metrics_df = pd.DataFrame({'RMSE':RMSE_list, 'MSE':MSE_list, 'MAE':MAE_list, 'MAPE':MAPE_list, 'R2':R2_list}, index=inputs)\n",
    "        dict_dfs.append(metrics_df)\n",
    "        dict_indexes.append('Lookahead' +str(j))\n",
    "    metrics_dict = dict(zip(dict_indexes, dict_dfs))\n",
    "    return metrics_dict"
   ]
  },
  {
   "cell_type": "code",
   "execution_count": 11,
   "id": "56029e3c-602d-4fec-ae79-6988dcd5ae20",
   "metadata": {},
   "outputs": [],
   "source": [
    "def descale_y_retrun_metrics_univariate_y(yhat, y_val2):\n",
    "    #reverts standard scaling, returns dictionary of metrics for single output, for all lookaheads\n",
    "    dict_indexes=[]\n",
    "    dict_dfs=[]\n",
    "    RMSE_list, MAE_list, MAPE_list, R2_list, MSE_list = [],[],[],[],[]\n",
    "    for j in range(0, n_steps_out):\n",
    "        pred_descaled= scaler.inverse_transform(yhat)\n",
    "        groud_truth_descaled= scaler.inverse_transform(y_val2[:,0,])\n",
    "        RMSE = mean_squared_error(groud_truth_descaled, pred_descaled, squared=False)\n",
    "        MSE = mean_squared_error(groud_truth_descaled, pred_descaled, squared=True)\n",
    "        MAE = mean_absolute_error(groud_truth_descaled, pred_descaled)\n",
    "        MAPE = mean_absolute_percentage_error(groud_truth_descaled, pred_descaled)\n",
    "        R2 = r2_score(groud_truth_descaled, pred_descaled)\n",
    "        RMSE_list.append(RMSE)\n",
    "        MAE_list.append(MAE)\n",
    "        MAPE_list.append(MAPE)\n",
    "        R2_list.append(R2)\n",
    "        MSE_list.append(MSE)\n",
    "    metrics_df = pd.DataFrame({'RMSE':RMSE_list, 'MSE':MSE_list, 'MAE':MAE_list, 'MAPE':MAPE_list, 'R2':R2_list}, index=range(1, (n_steps_out+1)))\n",
    "\n",
    " \n",
    "    return metrics_df"
   ]
  },
  {
   "cell_type": "code",
   "execution_count": null,
   "id": "2d7f67f6-508e-4bbd-8eb0-feed0d350fea",
   "metadata": {},
   "outputs": [],
   "source": []
  },
  {
   "cell_type": "code",
   "execution_count": 12,
   "id": "59d345e1-b61a-4ca0-a546-5d11c2ae299a",
   "metadata": {},
   "outputs": [],
   "source": [
    "def LSTM_model():\n",
    "    checkpoint_filepath='./Hybrid Univarite2/'\n",
    "    model_checkpoint_callback = keras.callbacks.ModelCheckpoint(\n",
    "    filepath=checkpoint_filepath,\n",
    "    save_weights_only=True,\n",
    "    monitor='val_loss',\n",
    "    mode='min',\n",
    "    save_best_only=True)\n",
    "    \n",
    "    model = Sequential()\n",
    "    model.add(LSTM(units =15,activation='tanh',input_shape=(n_steps_in, len(inputs)),dropout=0.01))\n",
    "    model.add(Dense(n_steps_out))\n",
    "    model.compile(optimizer='adam', loss='mse')\n",
    "    return model, model_checkpoint_callback, checkpoint_filepath"
   ]
  },
  {
   "cell_type": "markdown",
   "id": "c1f61c25-4cc2-4f3a-b922-ba6fb4c21aaa",
   "metadata": {},
   "source": [
    "## Training loop"
   ]
  },
  {
   "cell_type": "code",
   "execution_count": 102,
   "id": "d85f0a74-b6c8-4ba0-aca0-8b2774d56f21",
   "metadata": {
    "collapsed": true,
    "jupyter": {
     "outputs_hidden": true
    },
    "tags": []
   },
   "outputs": [
    {
     "name": "stderr",
     "output_type": "stream",
     "text": [
      "D:\\Anaconda\\lib\\site-packages\\pandas\\core\\frame.py:3678: SettingWithCopyWarning: \n",
      "A value is trying to be set on a copy of a slice from a DataFrame.\n",
      "Try using .loc[row_indexer,col_indexer] = value instead\n",
      "\n",
      "See the caveats in the documentation: https://pandas.pydata.org/pandas-docs/stable/user_guide/indexing.html#returning-a-view-versus-a-copy\n",
      "  self[col] = igetitem(value, i)\n"
     ]
    },
    {
     "name": "stdout",
     "output_type": "stream",
     "text": [
      "Epoch 1/15\n",
      "152/152 [==============================] - 12s 59ms/step - loss: 0.3656 - val_loss: 0.0422\n",
      "Epoch 2/15\n",
      "152/152 [==============================] - 8s 54ms/step - loss: 0.2887 - val_loss: 0.0380\n",
      "Epoch 3/15\n",
      "152/152 [==============================] - 8s 54ms/step - loss: 0.2557 - val_loss: 0.0358\n",
      "Epoch 4/15\n",
      "152/152 [==============================] - 8s 54ms/step - loss: 0.2341 - val_loss: 0.0327\n",
      "Epoch 5/15\n",
      "152/152 [==============================] - 8s 54ms/step - loss: 0.2175 - val_loss: 0.0318\n",
      "Epoch 6/15\n",
      "152/152 [==============================] - 8s 54ms/step - loss: 0.2073 - val_loss: 0.0298\n",
      "Epoch 7/15\n",
      "152/152 [==============================] - 9s 58ms/step - loss: 0.2105 - val_loss: 0.0317\n",
      "Epoch 8/15\n",
      "152/152 [==============================] - 9s 60ms/step - loss: 0.2085 - val_loss: 0.0292\n",
      "Epoch 9/15\n",
      "152/152 [==============================] - 9s 58ms/step - loss: 0.1922 - val_loss: 0.0295\n",
      "Epoch 10/15\n",
      "152/152 [==============================] - 9s 57ms/step - loss: 0.1881 - val_loss: 0.0285\n",
      "Epoch 11/15\n",
      "152/152 [==============================] - 9s 57ms/step - loss: 0.1876 - val_loss: 0.0290\n",
      "Epoch 12/15\n",
      "152/152 [==============================] - 9s 56ms/step - loss: 0.1819 - val_loss: 0.0294\n",
      "Epoch 13/15\n",
      "152/152 [==============================] - 9s 56ms/step - loss: 0.1834 - val_loss: 0.0301\n",
      "Epoch 14/15\n",
      "152/152 [==============================] - 8s 56ms/step - loss: 0.1865 - val_loss: 0.0305\n",
      "Epoch 15/15\n",
      "152/152 [==============================] - 9s 57ms/step - loss: 0.1804 - val_loss: 0.0304\n"
     ]
    },
    {
     "name": "stderr",
     "output_type": "stream",
     "text": [
      "WARNING:absl:Found untraced functions such as lstm_cell_101_layer_call_fn, lstm_cell_101_layer_call_and_return_conditional_losses while saving (showing 2 of 2). These functions will not be directly callable after loading.\n"
     ]
    },
    {
     "name": "stdout",
     "output_type": "stream",
     "text": [
      "INFO:tensorflow:Assets written to: Hybrid Univarite2/month0_1_step_lookahead_Hybrid\\assets\n"
     ]
    },
    {
     "name": "stderr",
     "output_type": "stream",
     "text": [
      "INFO:tensorflow:Assets written to: Hybrid Univarite2/month0_1_step_lookahead_Hybrid\\assets\n",
      "WARNING:absl:<keras.layers.recurrent.LSTMCell object at 0x000001C4BB579610> has the same name 'LSTMCell' as a built-in Keras object. Consider renaming <class 'keras.layers.recurrent.LSTMCell'> to avoid naming conflicts when loading with `tf.keras.models.load_model`. If renaming is not possible, pass the object in the `custom_objects` parameter of the load function.\n"
     ]
    },
    {
     "name": "stdout",
     "output_type": "stream",
     "text": [
      "152/152 [==============================] - 4s 21ms/step\n",
      "65/65 [==============================] - 1s 21ms/step\n"
     ]
    },
    {
     "name": "stderr",
     "output_type": "stream",
     "text": [
      "D:\\Anaconda\\lib\\site-packages\\pandas\\core\\frame.py:3678: SettingWithCopyWarning: \n",
      "A value is trying to be set on a copy of a slice from a DataFrame.\n",
      "Try using .loc[row_indexer,col_indexer] = value instead\n",
      "\n",
      "See the caveats in the documentation: https://pandas.pydata.org/pandas-docs/stable/user_guide/indexing.html#returning-a-view-versus-a-copy\n",
      "  self[col] = igetitem(value, i)\n"
     ]
    },
    {
     "name": "stdout",
     "output_type": "stream",
     "text": [
      "Epoch 1/15\n",
      "152/152 [==============================] - 11s 61ms/step - loss: 0.5159 - val_loss: 0.0486\n",
      "Epoch 2/15\n",
      "152/152 [==============================] - 9s 59ms/step - loss: 0.3215 - val_loss: 0.0372\n",
      "Epoch 3/15\n",
      "152/152 [==============================] - 9s 56ms/step - loss: 0.2698 - val_loss: 0.0358\n",
      "Epoch 4/15\n",
      "152/152 [==============================] - 8s 55ms/step - loss: 0.2344 - val_loss: 0.0365\n",
      "Epoch 5/15\n",
      "152/152 [==============================] - 8s 54ms/step - loss: 0.2145 - val_loss: 0.0309\n",
      "Epoch 6/15\n",
      "152/152 [==============================] - 8s 54ms/step - loss: 0.2070 - val_loss: 0.0367\n",
      "Epoch 7/15\n",
      "152/152 [==============================] - 8s 54ms/step - loss: 0.1990 - val_loss: 0.0303\n",
      "Epoch 8/15\n",
      "152/152 [==============================] - 8s 54ms/step - loss: 0.1947 - val_loss: 0.0309\n",
      "Epoch 9/15\n",
      "152/152 [==============================] - 8s 54ms/step - loss: 0.1941 - val_loss: 0.0298\n",
      "Epoch 10/15\n",
      "152/152 [==============================] - 9s 56ms/step - loss: 0.1900 - val_loss: 0.0294\n",
      "Epoch 11/15\n",
      "152/152 [==============================] - 8s 55ms/step - loss: 0.1909 - val_loss: 0.0326\n",
      "Epoch 12/15\n",
      "152/152 [==============================] - 8s 55ms/step - loss: 0.1896 - val_loss: 0.0294\n",
      "Epoch 13/15\n",
      "152/152 [==============================] - 8s 54ms/step - loss: 0.1880 - val_loss: 0.0301\n",
      "Epoch 14/15\n",
      "152/152 [==============================] - 8s 55ms/step - loss: 0.1866 - val_loss: 0.0319\n",
      "Epoch 15/15\n",
      "152/152 [==============================] - 8s 54ms/step - loss: 0.1865 - val_loss: 0.0304\n"
     ]
    },
    {
     "name": "stderr",
     "output_type": "stream",
     "text": [
      "WARNING:absl:Found untraced functions such as lstm_cell_102_layer_call_fn, lstm_cell_102_layer_call_and_return_conditional_losses while saving (showing 2 of 2). These functions will not be directly callable after loading.\n"
     ]
    },
    {
     "name": "stdout",
     "output_type": "stream",
     "text": [
      "INFO:tensorflow:Assets written to: Hybrid Univarite2/month0_2_step_lookahead_Hybrid\\assets\n"
     ]
    },
    {
     "name": "stderr",
     "output_type": "stream",
     "text": [
      "INFO:tensorflow:Assets written to: Hybrid Univarite2/month0_2_step_lookahead_Hybrid\\assets\n",
      "WARNING:absl:<keras.layers.recurrent.LSTMCell object at 0x000001C4B7CDE520> has the same name 'LSTMCell' as a built-in Keras object. Consider renaming <class 'keras.layers.recurrent.LSTMCell'> to avoid naming conflicts when loading with `tf.keras.models.load_model`. If renaming is not possible, pass the object in the `custom_objects` parameter of the load function.\n"
     ]
    },
    {
     "name": "stdout",
     "output_type": "stream",
     "text": [
      "152/152 [==============================] - 4s 20ms/step\n",
      "65/65 [==============================] - 1s 20ms/step\n"
     ]
    },
    {
     "name": "stderr",
     "output_type": "stream",
     "text": [
      "D:\\Anaconda\\lib\\site-packages\\pandas\\core\\frame.py:3678: SettingWithCopyWarning: \n",
      "A value is trying to be set on a copy of a slice from a DataFrame.\n",
      "Try using .loc[row_indexer,col_indexer] = value instead\n",
      "\n",
      "See the caveats in the documentation: https://pandas.pydata.org/pandas-docs/stable/user_guide/indexing.html#returning-a-view-versus-a-copy\n",
      "  self[col] = igetitem(value, i)\n"
     ]
    },
    {
     "name": "stdout",
     "output_type": "stream",
     "text": [
      "Epoch 1/15\n",
      "152/152 [==============================] - 11s 59ms/step - loss: 0.3991 - val_loss: 0.0364\n",
      "Epoch 2/15\n",
      "152/152 [==============================] - 8s 56ms/step - loss: 0.3198 - val_loss: 0.0337\n",
      "Epoch 3/15\n",
      "152/152 [==============================] - 8s 55ms/step - loss: 0.2993 - val_loss: 0.0319\n",
      "Epoch 4/15\n",
      "152/152 [==============================] - 8s 55ms/step - loss: 0.2898 - val_loss: 0.0308\n",
      "Epoch 5/15\n",
      "152/152 [==============================] - 8s 54ms/step - loss: 0.2869 - val_loss: 0.0303\n",
      "Epoch 6/15\n",
      "152/152 [==============================] - 8s 54ms/step - loss: 0.2875 - val_loss: 0.0340\n",
      "Epoch 7/15\n",
      "152/152 [==============================] - 8s 54ms/step - loss: 0.2839 - val_loss: 0.0321\n",
      "Epoch 8/15\n",
      "152/152 [==============================] - 8s 55ms/step - loss: 0.2821 - val_loss: 0.0310\n",
      "Epoch 9/15\n",
      "152/152 [==============================] - 9s 57ms/step - loss: 0.2809 - val_loss: 0.0308\n",
      "Epoch 10/15\n",
      "152/152 [==============================] - 9s 57ms/step - loss: 0.2805 - val_loss: 0.0307\n",
      "Epoch 11/15\n",
      "152/152 [==============================] - 9s 57ms/step - loss: 0.2804 - val_loss: 0.0300\n",
      "Epoch 12/15\n",
      "152/152 [==============================] - 9s 58ms/step - loss: 0.2779 - val_loss: 0.0307\n",
      "Epoch 13/15\n",
      "152/152 [==============================] - 9s 58ms/step - loss: 0.2797 - val_loss: 0.0305\n",
      "Epoch 14/15\n",
      "152/152 [==============================] - 9s 60ms/step - loss: 0.2746 - val_loss: 0.0309\n",
      "Epoch 15/15\n",
      "152/152 [==============================] - 9s 59ms/step - loss: 0.2740 - val_loss: 0.0305\n"
     ]
    },
    {
     "name": "stderr",
     "output_type": "stream",
     "text": [
      "WARNING:absl:Found untraced functions such as lstm_cell_103_layer_call_fn, lstm_cell_103_layer_call_and_return_conditional_losses while saving (showing 2 of 2). These functions will not be directly callable after loading.\n"
     ]
    },
    {
     "name": "stdout",
     "output_type": "stream",
     "text": [
      "INFO:tensorflow:Assets written to: Hybrid Univarite2/month0_3_step_lookahead_Hybrid\\assets\n"
     ]
    },
    {
     "name": "stderr",
     "output_type": "stream",
     "text": [
      "INFO:tensorflow:Assets written to: Hybrid Univarite2/month0_3_step_lookahead_Hybrid\\assets\n",
      "WARNING:absl:<keras.layers.recurrent.LSTMCell object at 0x000001C4CAF17AF0> has the same name 'LSTMCell' as a built-in Keras object. Consider renaming <class 'keras.layers.recurrent.LSTMCell'> to avoid naming conflicts when loading with `tf.keras.models.load_model`. If renaming is not possible, pass the object in the `custom_objects` parameter of the load function.\n"
     ]
    },
    {
     "name": "stdout",
     "output_type": "stream",
     "text": [
      "152/152 [==============================] - 4s 23ms/step\n",
      "65/65 [==============================] - 1s 22ms/step\n"
     ]
    },
    {
     "name": "stderr",
     "output_type": "stream",
     "text": [
      "D:\\Anaconda\\lib\\site-packages\\pandas\\core\\frame.py:3678: SettingWithCopyWarning: \n",
      "A value is trying to be set on a copy of a slice from a DataFrame.\n",
      "Try using .loc[row_indexer,col_indexer] = value instead\n",
      "\n",
      "See the caveats in the documentation: https://pandas.pydata.org/pandas-docs/stable/user_guide/indexing.html#returning-a-view-versus-a-copy\n",
      "  self[col] = igetitem(value, i)\n"
     ]
    },
    {
     "name": "stdout",
     "output_type": "stream",
     "text": [
      "Epoch 1/15\n",
      "152/152 [==============================] - 12s 64ms/step - loss: 0.3202 - val_loss: 0.0306\n",
      "Epoch 2/15\n",
      "152/152 [==============================] - 9s 61ms/step - loss: 0.2973 - val_loss: 0.0310\n",
      "Epoch 3/15\n",
      "152/152 [==============================] - 9s 59ms/step - loss: 0.2906 - val_loss: 0.0302\n",
      "Epoch 4/15\n",
      "152/152 [==============================] - 9s 57ms/step - loss: 0.2855 - val_loss: 0.0324\n",
      "Epoch 5/15\n",
      "152/152 [==============================] - 8s 55ms/step - loss: 0.2816 - val_loss: 0.0314\n",
      "Epoch 6/15\n",
      "152/152 [==============================] - 9s 57ms/step - loss: 0.2816 - val_loss: 0.0299\n",
      "Epoch 7/15\n",
      "152/152 [==============================] - 9s 57ms/step - loss: 0.2817 - val_loss: 0.0304\n",
      "Epoch 8/15\n",
      "152/152 [==============================] - 8s 55ms/step - loss: 0.2789 - val_loss: 0.0302\n",
      "Epoch 9/15\n",
      "152/152 [==============================] - 9s 57ms/step - loss: 0.2789 - val_loss: 0.0304\n",
      "Epoch 10/15\n",
      "152/152 [==============================] - 9s 57ms/step - loss: 0.2777 - val_loss: 0.0296\n",
      "Epoch 11/15\n",
      "152/152 [==============================] - 8s 54ms/step - loss: 0.2771 - val_loss: 0.0301\n",
      "Epoch 12/15\n",
      "152/152 [==============================] - 8s 55ms/step - loss: 0.2792 - val_loss: 0.0306\n",
      "Epoch 13/15\n",
      "152/152 [==============================] - 8s 55ms/step - loss: 0.2764 - val_loss: 0.0297\n",
      "Epoch 14/15\n",
      "152/152 [==============================] - 8s 55ms/step - loss: 0.2736 - val_loss: 0.0293\n",
      "Epoch 15/15\n",
      "152/152 [==============================] - 8s 55ms/step - loss: 0.2783 - val_loss: 0.0298\n"
     ]
    },
    {
     "name": "stderr",
     "output_type": "stream",
     "text": [
      "WARNING:absl:Found untraced functions such as lstm_cell_104_layer_call_fn, lstm_cell_104_layer_call_and_return_conditional_losses while saving (showing 2 of 2). These functions will not be directly callable after loading.\n"
     ]
    },
    {
     "name": "stdout",
     "output_type": "stream",
     "text": [
      "INFO:tensorflow:Assets written to: Hybrid Univarite2/month0_4_step_lookahead_Hybrid\\assets\n"
     ]
    },
    {
     "name": "stderr",
     "output_type": "stream",
     "text": [
      "INFO:tensorflow:Assets written to: Hybrid Univarite2/month0_4_step_lookahead_Hybrid\\assets\n",
      "WARNING:absl:<keras.layers.recurrent.LSTMCell object at 0x000001C755B1FDF0> has the same name 'LSTMCell' as a built-in Keras object. Consider renaming <class 'keras.layers.recurrent.LSTMCell'> to avoid naming conflicts when loading with `tf.keras.models.load_model`. If renaming is not possible, pass the object in the `custom_objects` parameter of the load function.\n"
     ]
    },
    {
     "name": "stdout",
     "output_type": "stream",
     "text": [
      "152/152 [==============================] - 4s 22ms/step\n",
      "65/65 [==============================] - 1s 20ms/step\n"
     ]
    },
    {
     "name": "stderr",
     "output_type": "stream",
     "text": [
      "D:\\Anaconda\\lib\\site-packages\\pandas\\core\\frame.py:3678: SettingWithCopyWarning: \n",
      "A value is trying to be set on a copy of a slice from a DataFrame.\n",
      "Try using .loc[row_indexer,col_indexer] = value instead\n",
      "\n",
      "See the caveats in the documentation: https://pandas.pydata.org/pandas-docs/stable/user_guide/indexing.html#returning-a-view-versus-a-copy\n",
      "  self[col] = igetitem(value, i)\n"
     ]
    },
    {
     "name": "stdout",
     "output_type": "stream",
     "text": [
      "Epoch 1/15\n",
      "152/152 [==============================] - 12s 61ms/step - loss: 0.3354 - val_loss: 0.0314\n",
      "Epoch 2/15\n",
      "152/152 [==============================] - 8s 55ms/step - loss: 0.3008 - val_loss: 0.0332\n",
      "Epoch 3/15\n",
      "152/152 [==============================] - 8s 54ms/step - loss: 0.2892 - val_loss: 0.0308\n",
      "Epoch 4/15\n",
      "152/152 [==============================] - 9s 59ms/step - loss: 0.2871 - val_loss: 0.0321\n",
      "Epoch 5/15\n",
      "152/152 [==============================] - 9s 57ms/step - loss: 0.2836 - val_loss: 0.0330\n",
      "Epoch 6/15\n",
      "152/152 [==============================] - 9s 58ms/step - loss: 0.2803 - val_loss: 0.0303\n",
      "Epoch 7/15\n",
      "152/152 [==============================] - 9s 58ms/step - loss: 0.2790 - val_loss: 0.0306\n",
      "Epoch 8/15\n",
      "152/152 [==============================] - 9s 58ms/step - loss: 0.2781 - val_loss: 0.0301\n",
      "Epoch 9/15\n",
      "152/152 [==============================] - 8s 54ms/step - loss: 0.2771 - val_loss: 0.0300\n",
      "Epoch 10/15\n",
      "152/152 [==============================] - 8s 54ms/step - loss: 0.2823 - val_loss: 0.0322\n",
      "Epoch 11/15\n",
      "152/152 [==============================] - 8s 54ms/step - loss: 0.2745 - val_loss: 0.0300\n",
      "Epoch 12/15\n",
      "152/152 [==============================] - 9s 58ms/step - loss: 0.2766 - val_loss: 0.0300\n",
      "Epoch 13/15\n",
      "152/152 [==============================] - 9s 59ms/step - loss: 0.2755 - val_loss: 0.0313\n",
      "Epoch 14/15\n",
      "152/152 [==============================] - 9s 58ms/step - loss: 0.2735 - val_loss: 0.0322\n",
      "Epoch 15/15\n",
      "152/152 [==============================] - 9s 58ms/step - loss: 0.2742 - val_loss: 0.0306\n"
     ]
    },
    {
     "name": "stderr",
     "output_type": "stream",
     "text": [
      "WARNING:absl:Found untraced functions such as lstm_cell_105_layer_call_fn, lstm_cell_105_layer_call_and_return_conditional_losses while saving (showing 2 of 2). These functions will not be directly callable after loading.\n"
     ]
    },
    {
     "name": "stdout",
     "output_type": "stream",
     "text": [
      "INFO:tensorflow:Assets written to: Hybrid Univarite2/month0_5_step_lookahead_Hybrid\\assets\n"
     ]
    },
    {
     "name": "stderr",
     "output_type": "stream",
     "text": [
      "INFO:tensorflow:Assets written to: Hybrid Univarite2/month0_5_step_lookahead_Hybrid\\assets\n",
      "WARNING:absl:<keras.layers.recurrent.LSTMCell object at 0x000001C4BE842A00> has the same name 'LSTMCell' as a built-in Keras object. Consider renaming <class 'keras.layers.recurrent.LSTMCell'> to avoid naming conflicts when loading with `tf.keras.models.load_model`. If renaming is not possible, pass the object in the `custom_objects` parameter of the load function.\n"
     ]
    },
    {
     "name": "stdout",
     "output_type": "stream",
     "text": [
      "152/152 [==============================] - 4s 23ms/step\n",
      "65/65 [==============================] - 1s 21ms/step\n"
     ]
    },
    {
     "name": "stderr",
     "output_type": "stream",
     "text": [
      "D:\\Anaconda\\lib\\site-packages\\pandas\\core\\frame.py:3678: SettingWithCopyWarning: \n",
      "A value is trying to be set on a copy of a slice from a DataFrame.\n",
      "Try using .loc[row_indexer,col_indexer] = value instead\n",
      "\n",
      "See the caveats in the documentation: https://pandas.pydata.org/pandas-docs/stable/user_guide/indexing.html#returning-a-view-versus-a-copy\n",
      "  self[col] = igetitem(value, i)\n"
     ]
    },
    {
     "name": "stdout",
     "output_type": "stream",
     "text": [
      "Epoch 1/15\n",
      "152/152 [==============================] - 12s 64ms/step - loss: 0.4356 - val_loss: 0.0345\n",
      "Epoch 2/15\n",
      "152/152 [==============================] - 9s 58ms/step - loss: 0.3226 - val_loss: 0.0311\n",
      "Epoch 3/15\n",
      "152/152 [==============================] - 9s 57ms/step - loss: 0.3012 - val_loss: 0.0307\n",
      "Epoch 4/15\n",
      "152/152 [==============================] - 9s 58ms/step - loss: 0.2917 - val_loss: 0.0313\n",
      "Epoch 5/15\n",
      "152/152 [==============================] - 9s 58ms/step - loss: 0.2891 - val_loss: 0.0313\n",
      "Epoch 6/15\n",
      "152/152 [==============================] - 9s 58ms/step - loss: 0.2859 - val_loss: 0.0305\n",
      "Epoch 7/15\n",
      "152/152 [==============================] - 9s 58ms/step - loss: 0.2825 - val_loss: 0.0311\n",
      "Epoch 8/15\n",
      "152/152 [==============================] - 9s 58ms/step - loss: 0.2836 - val_loss: 0.0308\n",
      "Epoch 9/15\n",
      "152/152 [==============================] - 9s 58ms/step - loss: 0.2781 - val_loss: 0.0332\n",
      "Epoch 10/15\n",
      "152/152 [==============================] - 9s 58ms/step - loss: 0.2803 - val_loss: 0.0309\n",
      "Epoch 11/15\n",
      "152/152 [==============================] - 9s 57ms/step - loss: 0.2778 - val_loss: 0.0299\n",
      "Epoch 12/15\n",
      "152/152 [==============================] - 9s 60ms/step - loss: 0.2768 - val_loss: 0.0298\n",
      "Epoch 13/15\n",
      "152/152 [==============================] - 9s 59ms/step - loss: 0.2766 - val_loss: 0.0303\n",
      "Epoch 14/15\n",
      "152/152 [==============================] - 9s 58ms/step - loss: 0.2750 - val_loss: 0.0321\n",
      "Epoch 15/15\n",
      "152/152 [==============================] - 9s 59ms/step - loss: 0.2749 - val_loss: 0.0295\n"
     ]
    },
    {
     "name": "stderr",
     "output_type": "stream",
     "text": [
      "WARNING:absl:Found untraced functions such as lstm_cell_106_layer_call_fn, lstm_cell_106_layer_call_and_return_conditional_losses while saving (showing 2 of 2). These functions will not be directly callable after loading.\n"
     ]
    },
    {
     "name": "stdout",
     "output_type": "stream",
     "text": [
      "INFO:tensorflow:Assets written to: Hybrid Univarite2/month0_6_step_lookahead_Hybrid\\assets\n"
     ]
    },
    {
     "name": "stderr",
     "output_type": "stream",
     "text": [
      "INFO:tensorflow:Assets written to: Hybrid Univarite2/month0_6_step_lookahead_Hybrid\\assets\n",
      "WARNING:absl:<keras.layers.recurrent.LSTMCell object at 0x000001C4B7D57A30> has the same name 'LSTMCell' as a built-in Keras object. Consider renaming <class 'keras.layers.recurrent.LSTMCell'> to avoid naming conflicts when loading with `tf.keras.models.load_model`. If renaming is not possible, pass the object in the `custom_objects` parameter of the load function.\n"
     ]
    },
    {
     "name": "stdout",
     "output_type": "stream",
     "text": [
      "152/152 [==============================] - 4s 23ms/step\n",
      "65/65 [==============================] - 1s 21ms/step\n"
     ]
    },
    {
     "name": "stderr",
     "output_type": "stream",
     "text": [
      "D:\\Anaconda\\lib\\site-packages\\pandas\\core\\frame.py:3678: SettingWithCopyWarning: \n",
      "A value is trying to be set on a copy of a slice from a DataFrame.\n",
      "Try using .loc[row_indexer,col_indexer] = value instead\n",
      "\n",
      "See the caveats in the documentation: https://pandas.pydata.org/pandas-docs/stable/user_guide/indexing.html#returning-a-view-versus-a-copy\n",
      "  self[col] = igetitem(value, i)\n"
     ]
    },
    {
     "name": "stdout",
     "output_type": "stream",
     "text": [
      "Epoch 1/15\n",
      "152/152 [==============================] - 12s 60ms/step - loss: 0.4242 - val_loss: 0.0379\n",
      "Epoch 2/15\n",
      "152/152 [==============================] - 9s 58ms/step - loss: 0.3421 - val_loss: 0.0326\n",
      "Epoch 3/15\n",
      "152/152 [==============================] - 9s 58ms/step - loss: 0.3296 - val_loss: 0.0322\n",
      "Epoch 4/15\n",
      "152/152 [==============================] - 9s 58ms/step - loss: 0.3255 - val_loss: 0.0305\n",
      "Epoch 5/15\n",
      "152/152 [==============================] - 9s 58ms/step - loss: 0.3212 - val_loss: 0.0314\n",
      "Epoch 6/15\n",
      "152/152 [==============================] - 9s 57ms/step - loss: 0.3200 - val_loss: 0.0324\n",
      "Epoch 7/15\n",
      "152/152 [==============================] - 9s 57ms/step - loss: 0.3197 - val_loss: 0.0309\n",
      "Epoch 8/15\n",
      "152/152 [==============================] - 9s 56ms/step - loss: 0.3193 - val_loss: 0.0317\n",
      "Epoch 9/15\n",
      "152/152 [==============================] - 8s 56ms/step - loss: 0.3160 - val_loss: 0.0330\n",
      "Epoch 10/15\n",
      "152/152 [==============================] - 9s 58ms/step - loss: 0.3169 - val_loss: 0.0319\n",
      "Epoch 11/15\n",
      "152/152 [==============================] - 9s 59ms/step - loss: 0.3140 - val_loss: 0.0318\n",
      "Epoch 12/15\n",
      "152/152 [==============================] - 9s 59ms/step - loss: 0.3154 - val_loss: 0.0330\n",
      "Epoch 13/15\n",
      "152/152 [==============================] - 9s 58ms/step - loss: 0.3116 - val_loss: 0.0312\n",
      "Epoch 14/15\n",
      "152/152 [==============================] - 9s 58ms/step - loss: 0.3113 - val_loss: 0.0307\n",
      "Epoch 15/15\n",
      "152/152 [==============================] - 9s 57ms/step - loss: 0.3090 - val_loss: 0.0323\n"
     ]
    },
    {
     "name": "stderr",
     "output_type": "stream",
     "text": [
      "WARNING:absl:Found untraced functions such as lstm_cell_107_layer_call_fn, lstm_cell_107_layer_call_and_return_conditional_losses while saving (showing 2 of 2). These functions will not be directly callable after loading.\n"
     ]
    },
    {
     "name": "stdout",
     "output_type": "stream",
     "text": [
      "INFO:tensorflow:Assets written to: Hybrid Univarite2/month0_7_step_lookahead_Hybrid\\assets\n"
     ]
    },
    {
     "name": "stderr",
     "output_type": "stream",
     "text": [
      "INFO:tensorflow:Assets written to: Hybrid Univarite2/month0_7_step_lookahead_Hybrid\\assets\n",
      "WARNING:absl:<keras.layers.recurrent.LSTMCell object at 0x000001C4BAA14700> has the same name 'LSTMCell' as a built-in Keras object. Consider renaming <class 'keras.layers.recurrent.LSTMCell'> to avoid naming conflicts when loading with `tf.keras.models.load_model`. If renaming is not possible, pass the object in the `custom_objects` parameter of the load function.\n"
     ]
    },
    {
     "name": "stdout",
     "output_type": "stream",
     "text": [
      "152/152 [==============================] - 4s 22ms/step\n",
      "65/65 [==============================] - 1s 21ms/step\n"
     ]
    },
    {
     "name": "stderr",
     "output_type": "stream",
     "text": [
      "D:\\Anaconda\\lib\\site-packages\\pandas\\core\\frame.py:3678: SettingWithCopyWarning: \n",
      "A value is trying to be set on a copy of a slice from a DataFrame.\n",
      "Try using .loc[row_indexer,col_indexer] = value instead\n",
      "\n",
      "See the caveats in the documentation: https://pandas.pydata.org/pandas-docs/stable/user_guide/indexing.html#returning-a-view-versus-a-copy\n",
      "  self[col] = igetitem(value, i)\n"
     ]
    },
    {
     "name": "stdout",
     "output_type": "stream",
     "text": [
      "Epoch 1/15\n",
      "152/152 [==============================] - 12s 62ms/step - loss: 0.4419 - val_loss: 0.0344\n",
      "Epoch 2/15\n",
      "152/152 [==============================] - 9s 58ms/step - loss: 0.3434 - val_loss: 0.0320\n",
      "Epoch 3/15\n",
      "152/152 [==============================] - 9s 57ms/step - loss: 0.3293 - val_loss: 0.0317\n",
      "Epoch 4/15\n",
      "152/152 [==============================] - 9s 59ms/step - loss: 0.3246 - val_loss: 0.0326\n",
      "Epoch 5/15\n",
      "152/152 [==============================] - 9s 57ms/step - loss: 0.3215 - val_loss: 0.0312\n",
      "Epoch 6/15\n",
      "152/152 [==============================] - 9s 58ms/step - loss: 0.3181 - val_loss: 0.0304\n",
      "Epoch 7/15\n",
      "152/152 [==============================] - 9s 58ms/step - loss: 0.3133 - val_loss: 0.0307\n",
      "Epoch 8/15\n",
      "152/152 [==============================] - 9s 59ms/step - loss: 0.3105 - val_loss: 0.0337\n",
      "Epoch 9/15\n",
      "152/152 [==============================] - 9s 60ms/step - loss: 0.3095 - val_loss: 0.0305\n",
      "Epoch 10/15\n",
      "152/152 [==============================] - 9s 60ms/step - loss: 0.3070 - val_loss: 0.0323\n",
      "Epoch 11/15\n",
      "152/152 [==============================] - 9s 59ms/step - loss: 0.3042 - val_loss: 0.0316\n",
      "Epoch 12/15\n",
      "152/152 [==============================] - 9s 60ms/step - loss: 0.3052 - val_loss: 0.0316\n",
      "Epoch 13/15\n",
      "152/152 [==============================] - 9s 60ms/step - loss: 0.3013 - val_loss: 0.0332\n",
      "Epoch 14/15\n",
      "152/152 [==============================] - 9s 57ms/step - loss: 0.3074 - val_loss: 0.0332\n",
      "Epoch 15/15\n",
      "152/152 [==============================] - 9s 59ms/step - loss: 0.3010 - val_loss: 0.0317\n"
     ]
    },
    {
     "name": "stderr",
     "output_type": "stream",
     "text": [
      "WARNING:absl:Found untraced functions such as lstm_cell_108_layer_call_fn, lstm_cell_108_layer_call_and_return_conditional_losses while saving (showing 2 of 2). These functions will not be directly callable after loading.\n"
     ]
    },
    {
     "name": "stdout",
     "output_type": "stream",
     "text": [
      "INFO:tensorflow:Assets written to: Hybrid Univarite2/month0_8_step_lookahead_Hybrid\\assets\n"
     ]
    },
    {
     "name": "stderr",
     "output_type": "stream",
     "text": [
      "INFO:tensorflow:Assets written to: Hybrid Univarite2/month0_8_step_lookahead_Hybrid\\assets\n",
      "WARNING:absl:<keras.layers.recurrent.LSTMCell object at 0x000001C4CB970AC0> has the same name 'LSTMCell' as a built-in Keras object. Consider renaming <class 'keras.layers.recurrent.LSTMCell'> to avoid naming conflicts when loading with `tf.keras.models.load_model`. If renaming is not possible, pass the object in the `custom_objects` parameter of the load function.\n"
     ]
    },
    {
     "name": "stdout",
     "output_type": "stream",
     "text": [
      "152/152 [==============================] - 4s 22ms/step\n",
      "65/65 [==============================] - 1s 22ms/step\n"
     ]
    },
    {
     "name": "stderr",
     "output_type": "stream",
     "text": [
      "D:\\Anaconda\\lib\\site-packages\\pandas\\core\\frame.py:3678: SettingWithCopyWarning: \n",
      "A value is trying to be set on a copy of a slice from a DataFrame.\n",
      "Try using .loc[row_indexer,col_indexer] = value instead\n",
      "\n",
      "See the caveats in the documentation: https://pandas.pydata.org/pandas-docs/stable/user_guide/indexing.html#returning-a-view-versus-a-copy\n",
      "  self[col] = igetitem(value, i)\n"
     ]
    },
    {
     "name": "stdout",
     "output_type": "stream",
     "text": [
      "Epoch 1/15\n",
      "151/151 [==============================] - 11s 61ms/step - loss: 0.3741 - val_loss: 0.0321\n",
      "Epoch 2/15\n",
      "151/151 [==============================] - 8s 56ms/step - loss: 0.3375 - val_loss: 0.0313\n",
      "Epoch 3/15\n",
      "151/151 [==============================] - 9s 59ms/step - loss: 0.3284 - val_loss: 0.0314\n",
      "Epoch 4/15\n",
      "151/151 [==============================] - 9s 57ms/step - loss: 0.3233 - val_loss: 0.0314\n",
      "Epoch 5/15\n",
      "151/151 [==============================] - 8s 56ms/step - loss: 0.3212 - val_loss: 0.0306\n",
      "Epoch 6/15\n",
      "151/151 [==============================] - 8s 55ms/step - loss: 0.3189 - val_loss: 0.0310\n",
      "Epoch 7/15\n",
      "151/151 [==============================] - 8s 55ms/step - loss: 0.3180 - val_loss: 0.0302\n",
      "Epoch 8/15\n",
      "151/151 [==============================] - 8s 55ms/step - loss: 0.3141 - val_loss: 0.0329\n",
      "Epoch 9/15\n",
      "151/151 [==============================] - 8s 55ms/step - loss: 0.3099 - val_loss: 0.0309\n",
      "Epoch 10/15\n",
      "151/151 [==============================] - 8s 55ms/step - loss: 0.3183 - val_loss: 0.0304\n",
      "Epoch 11/15\n",
      "151/151 [==============================] - 8s 55ms/step - loss: 0.3132 - val_loss: 0.0311\n",
      "Epoch 12/15\n",
      "151/151 [==============================] - 9s 57ms/step - loss: 0.3056 - val_loss: 0.0306\n",
      "Epoch 13/15\n",
      "151/151 [==============================] - 8s 56ms/step - loss: 0.3072 - val_loss: 0.0302\n",
      "Epoch 14/15\n",
      "151/151 [==============================] - 8s 55ms/step - loss: 0.3055 - val_loss: 0.0300\n",
      "Epoch 15/15\n",
      "151/151 [==============================] - 8s 55ms/step - loss: 0.3043 - val_loss: 0.0310\n"
     ]
    },
    {
     "name": "stderr",
     "output_type": "stream",
     "text": [
      "WARNING:absl:Found untraced functions such as lstm_cell_109_layer_call_fn, lstm_cell_109_layer_call_and_return_conditional_losses while saving (showing 2 of 2). These functions will not be directly callable after loading.\n"
     ]
    },
    {
     "name": "stdout",
     "output_type": "stream",
     "text": [
      "INFO:tensorflow:Assets written to: Hybrid Univarite2/month0_9_step_lookahead_Hybrid\\assets\n"
     ]
    },
    {
     "name": "stderr",
     "output_type": "stream",
     "text": [
      "INFO:tensorflow:Assets written to: Hybrid Univarite2/month0_9_step_lookahead_Hybrid\\assets\n",
      "WARNING:absl:<keras.layers.recurrent.LSTMCell object at 0x000001C4A932C3D0> has the same name 'LSTMCell' as a built-in Keras object. Consider renaming <class 'keras.layers.recurrent.LSTMCell'> to avoid naming conflicts when loading with `tf.keras.models.load_model`. If renaming is not possible, pass the object in the `custom_objects` parameter of the load function.\n"
     ]
    },
    {
     "name": "stdout",
     "output_type": "stream",
     "text": [
      "151/151 [==============================] - 4s 22ms/step\n",
      "65/65 [==============================] - 2s 21ms/step\n"
     ]
    },
    {
     "name": "stderr",
     "output_type": "stream",
     "text": [
      "D:\\Anaconda\\lib\\site-packages\\pandas\\core\\frame.py:3678: SettingWithCopyWarning: \n",
      "A value is trying to be set on a copy of a slice from a DataFrame.\n",
      "Try using .loc[row_indexer,col_indexer] = value instead\n",
      "\n",
      "See the caveats in the documentation: https://pandas.pydata.org/pandas-docs/stable/user_guide/indexing.html#returning-a-view-versus-a-copy\n",
      "  self[col] = igetitem(value, i)\n"
     ]
    },
    {
     "name": "stdout",
     "output_type": "stream",
     "text": [
      "Epoch 1/15\n",
      "151/151 [==============================] - 10s 57ms/step - loss: 0.3717 - val_loss: 0.0341\n",
      "Epoch 2/15\n",
      "151/151 [==============================] - 8s 53ms/step - loss: 0.3470 - val_loss: 0.0339\n",
      "Epoch 3/15\n",
      "151/151 [==============================] - 8s 53ms/step - loss: 0.3412 - val_loss: 0.0395\n",
      "Epoch 4/15\n",
      "151/151 [==============================] - 8s 53ms/step - loss: 0.3397 - val_loss: 0.0316\n",
      "Epoch 5/15\n",
      "151/151 [==============================] - 8s 52ms/step - loss: 0.3370 - val_loss: 0.0322\n",
      "Epoch 6/15\n",
      "151/151 [==============================] - 8s 52ms/step - loss: 0.3349 - val_loss: 0.0311\n",
      "Epoch 7/15\n",
      "151/151 [==============================] - 8s 53ms/step - loss: 0.3347 - val_loss: 0.0323\n",
      "Epoch 8/15\n",
      "151/151 [==============================] - 8s 55ms/step - loss: 0.3339 - val_loss: 0.0318\n",
      "Epoch 9/15\n",
      "151/151 [==============================] - 8s 53ms/step - loss: 0.3323 - val_loss: 0.0317\n",
      "Epoch 10/15\n",
      "151/151 [==============================] - 8s 53ms/step - loss: 0.3319 - val_loss: 0.0328\n",
      "Epoch 11/15\n",
      "151/151 [==============================] - 8s 52ms/step - loss: 0.3300 - val_loss: 0.0321\n",
      "Epoch 12/15\n",
      "151/151 [==============================] - 8s 52ms/step - loss: 0.3312 - val_loss: 0.0332\n",
      "Epoch 13/15\n",
      "151/151 [==============================] - 8s 52ms/step - loss: 0.3291 - val_loss: 0.0326\n",
      "Epoch 14/15\n",
      "151/151 [==============================] - 8s 52ms/step - loss: 0.3298 - val_loss: 0.0329\n",
      "Epoch 15/15\n",
      "151/151 [==============================] - 9s 56ms/step - loss: 0.3285 - val_loss: 0.0321\n"
     ]
    },
    {
     "name": "stderr",
     "output_type": "stream",
     "text": [
      "WARNING:absl:Found untraced functions such as lstm_cell_110_layer_call_fn, lstm_cell_110_layer_call_and_return_conditional_losses while saving (showing 2 of 2). These functions will not be directly callable after loading.\n"
     ]
    },
    {
     "name": "stdout",
     "output_type": "stream",
     "text": [
      "INFO:tensorflow:Assets written to: Hybrid Univarite2/month0_10_step_lookahead_Hybrid\\assets\n"
     ]
    },
    {
     "name": "stderr",
     "output_type": "stream",
     "text": [
      "INFO:tensorflow:Assets written to: Hybrid Univarite2/month0_10_step_lookahead_Hybrid\\assets\n",
      "WARNING:absl:<keras.layers.recurrent.LSTMCell object at 0x000001C4BB75C670> has the same name 'LSTMCell' as a built-in Keras object. Consider renaming <class 'keras.layers.recurrent.LSTMCell'> to avoid naming conflicts when loading with `tf.keras.models.load_model`. If renaming is not possible, pass the object in the `custom_objects` parameter of the load function.\n"
     ]
    },
    {
     "name": "stdout",
     "output_type": "stream",
     "text": [
      "151/151 [==============================] - 4s 21ms/step\n",
      "65/65 [==============================] - 2s 22ms/step\n"
     ]
    },
    {
     "name": "stderr",
     "output_type": "stream",
     "text": [
      "D:\\Anaconda\\lib\\site-packages\\pandas\\core\\frame.py:3678: SettingWithCopyWarning: \n",
      "A value is trying to be set on a copy of a slice from a DataFrame.\n",
      "Try using .loc[row_indexer,col_indexer] = value instead\n",
      "\n",
      "See the caveats in the documentation: https://pandas.pydata.org/pandas-docs/stable/user_guide/indexing.html#returning-a-view-versus-a-copy\n",
      "  self[col] = igetitem(value, i)\n",
      "D:\\Anaconda\\lib\\site-packages\\pandas\\core\\frame.py:3678: SettingWithCopyWarning: \n",
      "A value is trying to be set on a copy of a slice from a DataFrame.\n",
      "Try using .loc[row_indexer,col_indexer] = value instead\n",
      "\n",
      "See the caveats in the documentation: https://pandas.pydata.org/pandas-docs/stable/user_guide/indexing.html#returning-a-view-versus-a-copy\n",
      "  self[col] = igetitem(value, i)\n"
     ]
    },
    {
     "name": "stdout",
     "output_type": "stream",
     "text": [
      "Epoch 1/15\n",
      "158/158 [==============================] - 11s 58ms/step - loss: 0.5760 - val_loss: 0.3832\n",
      "Epoch 2/15\n",
      "158/158 [==============================] - 8s 54ms/step - loss: 0.3479 - val_loss: 0.3284\n",
      "Epoch 3/15\n",
      "158/158 [==============================] - 8s 54ms/step - loss: 0.3144 - val_loss: 0.2945\n",
      "Epoch 4/15\n",
      "158/158 [==============================] - 9s 54ms/step - loss: 0.2898 - val_loss: 0.2672\n",
      "Epoch 5/15\n",
      "158/158 [==============================] - 9s 54ms/step - loss: 0.2746 - val_loss: 0.2546\n",
      "Epoch 6/15\n",
      "158/158 [==============================] - 8s 54ms/step - loss: 0.2640 - val_loss: 0.2475\n",
      "Epoch 7/15\n",
      "158/158 [==============================] - 8s 53ms/step - loss: 0.2583 - val_loss: 0.2398\n",
      "Epoch 8/15\n",
      "158/158 [==============================] - 9s 54ms/step - loss: 0.2614 - val_loss: 0.2372\n",
      "Epoch 9/15\n",
      "158/158 [==============================] - 9s 54ms/step - loss: 0.2524 - val_loss: 0.2351\n",
      "Epoch 10/15\n",
      "158/158 [==============================] - 8s 54ms/step - loss: 0.2503 - val_loss: 0.2328\n",
      "Epoch 11/15\n",
      "158/158 [==============================] - 8s 54ms/step - loss: 0.2516 - val_loss: 0.2334\n",
      "Epoch 12/15\n",
      "158/158 [==============================] - 8s 53ms/step - loss: 0.2506 - val_loss: 0.2336\n",
      "Epoch 13/15\n",
      "158/158 [==============================] - 8s 54ms/step - loss: 0.2541 - val_loss: 0.2303\n",
      "Epoch 14/15\n",
      "158/158 [==============================] - 9s 54ms/step - loss: 0.2550 - val_loss: 0.2295\n",
      "Epoch 15/15\n",
      "158/158 [==============================] - 8s 54ms/step - loss: 0.2515 - val_loss: 0.2305\n"
     ]
    },
    {
     "name": "stderr",
     "output_type": "stream",
     "text": [
      "WARNING:absl:Found untraced functions such as lstm_cell_111_layer_call_fn, lstm_cell_111_layer_call_and_return_conditional_losses while saving (showing 2 of 2). These functions will not be directly callable after loading.\n"
     ]
    },
    {
     "name": "stdout",
     "output_type": "stream",
     "text": [
      "INFO:tensorflow:Assets written to: Hybrid Univarite2/month1_1_step_lookahead_Hybrid\\assets\n"
     ]
    },
    {
     "name": "stderr",
     "output_type": "stream",
     "text": [
      "INFO:tensorflow:Assets written to: Hybrid Univarite2/month1_1_step_lookahead_Hybrid\\assets\n",
      "WARNING:absl:<keras.layers.recurrent.LSTMCell object at 0x000001C4BD0159D0> has the same name 'LSTMCell' as a built-in Keras object. Consider renaming <class 'keras.layers.recurrent.LSTMCell'> to avoid naming conflicts when loading with `tf.keras.models.load_model`. If renaming is not possible, pass the object in the `custom_objects` parameter of the load function.\n"
     ]
    },
    {
     "name": "stdout",
     "output_type": "stream",
     "text": [
      "158/158 [==============================] - 4s 21ms/step\n",
      "68/68 [==============================] - 1s 20ms/step\n"
     ]
    },
    {
     "name": "stderr",
     "output_type": "stream",
     "text": [
      "D:\\Anaconda\\lib\\site-packages\\pandas\\core\\frame.py:3678: SettingWithCopyWarning: \n",
      "A value is trying to be set on a copy of a slice from a DataFrame.\n",
      "Try using .loc[row_indexer,col_indexer] = value instead\n",
      "\n",
      "See the caveats in the documentation: https://pandas.pydata.org/pandas-docs/stable/user_guide/indexing.html#returning-a-view-versus-a-copy\n",
      "  self[col] = igetitem(value, i)\n"
     ]
    },
    {
     "name": "stdout",
     "output_type": "stream",
     "text": [
      "Epoch 1/15\n",
      "158/158 [==============================] - 11s 59ms/step - loss: 0.3957 - val_loss: 0.3183\n",
      "Epoch 2/15\n",
      "158/158 [==============================] - 9s 56ms/step - loss: 0.2983 - val_loss: 0.2777\n",
      "Epoch 3/15\n",
      "158/158 [==============================] - 9s 59ms/step - loss: 0.2790 - val_loss: 0.2587\n",
      "Epoch 4/15\n",
      "158/158 [==============================] - 9s 56ms/step - loss: 0.2640 - val_loss: 0.2490\n",
      "Epoch 5/15\n",
      "158/158 [==============================] - 9s 55ms/step - loss: 0.2637 - val_loss: 0.2423\n",
      "Epoch 6/15\n",
      "158/158 [==============================] - 9s 57ms/step - loss: 0.2550 - val_loss: 0.2436\n",
      "Epoch 7/15\n",
      "158/158 [==============================] - 10s 62ms/step - loss: 0.2631 - val_loss: 0.2454\n",
      "Epoch 8/15\n",
      "158/158 [==============================] - 10s 61ms/step - loss: 0.2568 - val_loss: 0.2355\n",
      "Epoch 9/15\n",
      "158/158 [==============================] - 9s 59ms/step - loss: 0.2527 - val_loss: 0.2341\n",
      "Epoch 10/15\n",
      "158/158 [==============================] - 9s 57ms/step - loss: 0.2523 - val_loss: 0.2316\n",
      "Epoch 11/15\n",
      "158/158 [==============================] - 9s 57ms/step - loss: 0.2490 - val_loss: 0.2308\n",
      "Epoch 12/15\n",
      "158/158 [==============================] - 9s 57ms/step - loss: 0.2540 - val_loss: 0.2306\n",
      "Epoch 13/15\n",
      "158/158 [==============================] - 9s 56ms/step - loss: 0.2490 - val_loss: 0.2312\n",
      "Epoch 14/15\n",
      "158/158 [==============================] - 9s 56ms/step - loss: 0.2519 - val_loss: 0.2289\n",
      "Epoch 15/15\n",
      "158/158 [==============================] - 9s 56ms/step - loss: 0.2480 - val_loss: 0.2342\n"
     ]
    },
    {
     "name": "stderr",
     "output_type": "stream",
     "text": [
      "WARNING:absl:Found untraced functions such as lstm_cell_112_layer_call_fn, lstm_cell_112_layer_call_and_return_conditional_losses while saving (showing 2 of 2). These functions will not be directly callable after loading.\n"
     ]
    },
    {
     "name": "stdout",
     "output_type": "stream",
     "text": [
      "INFO:tensorflow:Assets written to: Hybrid Univarite2/month1_2_step_lookahead_Hybrid\\assets\n"
     ]
    },
    {
     "name": "stderr",
     "output_type": "stream",
     "text": [
      "INFO:tensorflow:Assets written to: Hybrid Univarite2/month1_2_step_lookahead_Hybrid\\assets\n",
      "WARNING:absl:<keras.layers.recurrent.LSTMCell object at 0x000001C4CB9CDE50> has the same name 'LSTMCell' as a built-in Keras object. Consider renaming <class 'keras.layers.recurrent.LSTMCell'> to avoid naming conflicts when loading with `tf.keras.models.load_model`. If renaming is not possible, pass the object in the `custom_objects` parameter of the load function.\n"
     ]
    },
    {
     "name": "stdout",
     "output_type": "stream",
     "text": [
      "158/158 [==============================] - 4s 23ms/step\n",
      "68/68 [==============================] - 1s 20ms/step\n"
     ]
    },
    {
     "name": "stderr",
     "output_type": "stream",
     "text": [
      "D:\\Anaconda\\lib\\site-packages\\pandas\\core\\frame.py:3678: SettingWithCopyWarning: \n",
      "A value is trying to be set on a copy of a slice from a DataFrame.\n",
      "Try using .loc[row_indexer,col_indexer] = value instead\n",
      "\n",
      "See the caveats in the documentation: https://pandas.pydata.org/pandas-docs/stable/user_guide/indexing.html#returning-a-view-versus-a-copy\n",
      "  self[col] = igetitem(value, i)\n"
     ]
    },
    {
     "name": "stdout",
     "output_type": "stream",
     "text": [
      "Epoch 1/15\n",
      "158/158 [==============================] - 12s 60ms/step - loss: 0.4930 - val_loss: 0.3266\n",
      "Epoch 2/15\n",
      "158/158 [==============================] - 9s 56ms/step - loss: 0.2983 - val_loss: 0.2775\n",
      "Epoch 3/15\n",
      "158/158 [==============================] - 9s 56ms/step - loss: 0.2753 - val_loss: 0.2554\n",
      "Epoch 4/15\n",
      "158/158 [==============================] - 9s 56ms/step - loss: 0.2657 - val_loss: 0.2479\n",
      "Epoch 5/15\n",
      "158/158 [==============================] - 9s 56ms/step - loss: 0.2578 - val_loss: 0.2431\n",
      "Epoch 6/15\n",
      "158/158 [==============================] - 9s 56ms/step - loss: 0.2558 - val_loss: 0.2433\n",
      "Epoch 7/15\n",
      "158/158 [==============================] - 9s 56ms/step - loss: 0.2569 - val_loss: 0.2386\n",
      "Epoch 8/15\n",
      "158/158 [==============================] - 9s 57ms/step - loss: 0.2548 - val_loss: 0.2349\n",
      "Epoch 9/15\n",
      "158/158 [==============================] - 9s 56ms/step - loss: 0.2523 - val_loss: 0.2333\n",
      "Epoch 10/15\n",
      "158/158 [==============================] - 9s 56ms/step - loss: 0.2530 - val_loss: 0.2327\n",
      "Epoch 11/15\n",
      "158/158 [==============================] - 9s 56ms/step - loss: 0.2475 - val_loss: 0.2401\n",
      "Epoch 12/15\n",
      "158/158 [==============================] - 9s 55ms/step - loss: 0.2499 - val_loss: 0.2317\n",
      "Epoch 13/15\n",
      "158/158 [==============================] - 9s 56ms/step - loss: 0.2502 - val_loss: 0.2357\n",
      "Epoch 14/15\n",
      "158/158 [==============================] - 9s 56ms/step - loss: 0.2494 - val_loss: 0.2316\n",
      "Epoch 15/15\n",
      "158/158 [==============================] - 9s 56ms/step - loss: 0.2500 - val_loss: 0.2304\n"
     ]
    },
    {
     "name": "stderr",
     "output_type": "stream",
     "text": [
      "WARNING:absl:Found untraced functions such as lstm_cell_113_layer_call_fn, lstm_cell_113_layer_call_and_return_conditional_losses while saving (showing 2 of 2). These functions will not be directly callable after loading.\n"
     ]
    },
    {
     "name": "stdout",
     "output_type": "stream",
     "text": [
      "INFO:tensorflow:Assets written to: Hybrid Univarite2/month1_3_step_lookahead_Hybrid\\assets\n"
     ]
    },
    {
     "name": "stderr",
     "output_type": "stream",
     "text": [
      "INFO:tensorflow:Assets written to: Hybrid Univarite2/month1_3_step_lookahead_Hybrid\\assets\n",
      "WARNING:absl:<keras.layers.recurrent.LSTMCell object at 0x000001C4BB5ECF70> has the same name 'LSTMCell' as a built-in Keras object. Consider renaming <class 'keras.layers.recurrent.LSTMCell'> to avoid naming conflicts when loading with `tf.keras.models.load_model`. If renaming is not possible, pass the object in the `custom_objects` parameter of the load function.\n"
     ]
    },
    {
     "name": "stdout",
     "output_type": "stream",
     "text": [
      "158/158 [==============================] - 4s 22ms/step\n",
      "68/68 [==============================] - 1s 20ms/step\n"
     ]
    },
    {
     "name": "stderr",
     "output_type": "stream",
     "text": [
      "D:\\Anaconda\\lib\\site-packages\\pandas\\core\\frame.py:3678: SettingWithCopyWarning: \n",
      "A value is trying to be set on a copy of a slice from a DataFrame.\n",
      "Try using .loc[row_indexer,col_indexer] = value instead\n",
      "\n",
      "See the caveats in the documentation: https://pandas.pydata.org/pandas-docs/stable/user_guide/indexing.html#returning-a-view-versus-a-copy\n",
      "  self[col] = igetitem(value, i)\n"
     ]
    },
    {
     "name": "stdout",
     "output_type": "stream",
     "text": [
      "Epoch 1/15\n",
      "158/158 [==============================] - 12s 63ms/step - loss: 0.5987 - val_loss: 0.3381\n",
      "Epoch 2/15\n",
      "158/158 [==============================] - 9s 56ms/step - loss: 0.2989 - val_loss: 0.2678\n",
      "Epoch 3/15\n",
      "158/158 [==============================] - 9s 56ms/step - loss: 0.2669 - val_loss: 0.2488\n",
      "Epoch 4/15\n",
      "158/158 [==============================] - 9s 56ms/step - loss: 0.2582 - val_loss: 0.2433\n",
      "Epoch 5/15\n",
      "158/158 [==============================] - 9s 56ms/step - loss: 0.2545 - val_loss: 0.2398\n",
      "Epoch 6/15\n",
      "158/158 [==============================] - 9s 56ms/step - loss: 0.2531 - val_loss: 0.2406\n",
      "Epoch 7/15\n",
      "158/158 [==============================] - 9s 56ms/step - loss: 0.2534 - val_loss: 0.2389\n",
      "Epoch 8/15\n",
      "158/158 [==============================] - 9s 56ms/step - loss: 0.2530 - val_loss: 0.2337\n",
      "Epoch 9/15\n",
      "158/158 [==============================] - 9s 56ms/step - loss: 0.2497 - val_loss: 0.2346\n",
      "Epoch 10/15\n",
      "158/158 [==============================] - 9s 56ms/step - loss: 0.2537 - val_loss: 0.2363\n",
      "Epoch 11/15\n",
      "158/158 [==============================] - 9s 56ms/step - loss: 0.2496 - val_loss: 0.2310\n",
      "Epoch 12/15\n",
      "158/158 [==============================] - 9s 56ms/step - loss: 0.2496 - val_loss: 0.2310\n",
      "Epoch 13/15\n",
      "158/158 [==============================] - 9s 56ms/step - loss: 0.2463 - val_loss: 0.2294\n",
      "Epoch 14/15\n",
      "158/158 [==============================] - 9s 56ms/step - loss: 0.2518 - val_loss: 0.2336\n",
      "Epoch 15/15\n",
      "158/158 [==============================] - 9s 55ms/step - loss: 0.2480 - val_loss: 0.2282\n"
     ]
    },
    {
     "name": "stderr",
     "output_type": "stream",
     "text": [
      "WARNING:absl:Found untraced functions such as lstm_cell_114_layer_call_fn, lstm_cell_114_layer_call_and_return_conditional_losses while saving (showing 2 of 2). These functions will not be directly callable after loading.\n"
     ]
    },
    {
     "name": "stdout",
     "output_type": "stream",
     "text": [
      "INFO:tensorflow:Assets written to: Hybrid Univarite2/month1_4_step_lookahead_Hybrid\\assets\n"
     ]
    },
    {
     "name": "stderr",
     "output_type": "stream",
     "text": [
      "INFO:tensorflow:Assets written to: Hybrid Univarite2/month1_4_step_lookahead_Hybrid\\assets\n",
      "WARNING:absl:<keras.layers.recurrent.LSTMCell object at 0x000001C755A85070> has the same name 'LSTMCell' as a built-in Keras object. Consider renaming <class 'keras.layers.recurrent.LSTMCell'> to avoid naming conflicts when loading with `tf.keras.models.load_model`. If renaming is not possible, pass the object in the `custom_objects` parameter of the load function.\n"
     ]
    },
    {
     "name": "stdout",
     "output_type": "stream",
     "text": [
      "158/158 [==============================] - 4s 22ms/step\n",
      "68/68 [==============================] - 1s 21ms/step\n"
     ]
    },
    {
     "name": "stderr",
     "output_type": "stream",
     "text": [
      "D:\\Anaconda\\lib\\site-packages\\pandas\\core\\frame.py:3678: SettingWithCopyWarning: \n",
      "A value is trying to be set on a copy of a slice from a DataFrame.\n",
      "Try using .loc[row_indexer,col_indexer] = value instead\n",
      "\n",
      "See the caveats in the documentation: https://pandas.pydata.org/pandas-docs/stable/user_guide/indexing.html#returning-a-view-versus-a-copy\n",
      "  self[col] = igetitem(value, i)\n"
     ]
    },
    {
     "name": "stdout",
     "output_type": "stream",
     "text": [
      "Epoch 1/15\n",
      "158/158 [==============================] - 12s 60ms/step - loss: 0.6558 - val_loss: 0.3779\n",
      "Epoch 2/15\n",
      "158/158 [==============================] - 9s 56ms/step - loss: 0.3949 - val_loss: 0.3141\n",
      "Epoch 3/15\n",
      "158/158 [==============================] - 9s 56ms/step - loss: 0.3797 - val_loss: 0.2957\n",
      "Epoch 4/15\n",
      "158/158 [==============================] - 9s 57ms/step - loss: 0.3752 - val_loss: 0.2804\n",
      "Epoch 5/15\n",
      "158/158 [==============================] - 9s 56ms/step - loss: 0.3695 - val_loss: 0.2710\n",
      "Epoch 6/15\n",
      "158/158 [==============================] - 9s 56ms/step - loss: 0.3669 - val_loss: 0.2645\n",
      "Epoch 7/15\n",
      "158/158 [==============================] - 9s 56ms/step - loss: 0.3683 - val_loss: 0.2667\n",
      "Epoch 8/15\n",
      "158/158 [==============================] - 9s 55ms/step - loss: 0.3678 - val_loss: 0.2606\n",
      "Epoch 9/15\n",
      "158/158 [==============================] - 9s 56ms/step - loss: 0.3672 - val_loss: 0.2653\n",
      "Epoch 10/15\n",
      "158/158 [==============================] - 9s 56ms/step - loss: 0.3666 - val_loss: 0.2672\n",
      "Epoch 11/15\n",
      "158/158 [==============================] - 9s 56ms/step - loss: 0.3642 - val_loss: 0.2584\n",
      "Epoch 12/15\n",
      "158/158 [==============================] - 9s 56ms/step - loss: 0.3649 - val_loss: 0.2686\n",
      "Epoch 13/15\n",
      "158/158 [==============================] - 9s 56ms/step - loss: 0.3633 - val_loss: 0.2549\n",
      "Epoch 14/15\n",
      "158/158 [==============================] - 9s 56ms/step - loss: 0.3651 - val_loss: 0.2546\n",
      "Epoch 15/15\n",
      "158/158 [==============================] - 9s 56ms/step - loss: 0.3649 - val_loss: 0.2617\n"
     ]
    },
    {
     "name": "stderr",
     "output_type": "stream",
     "text": [
      "WARNING:absl:Found untraced functions such as lstm_cell_115_layer_call_fn, lstm_cell_115_layer_call_and_return_conditional_losses while saving (showing 2 of 2). These functions will not be directly callable after loading.\n"
     ]
    },
    {
     "name": "stdout",
     "output_type": "stream",
     "text": [
      "INFO:tensorflow:Assets written to: Hybrid Univarite2/month1_5_step_lookahead_Hybrid\\assets\n"
     ]
    },
    {
     "name": "stderr",
     "output_type": "stream",
     "text": [
      "INFO:tensorflow:Assets written to: Hybrid Univarite2/month1_5_step_lookahead_Hybrid\\assets\n",
      "WARNING:absl:<keras.layers.recurrent.LSTMCell object at 0x000001C4BABBB760> has the same name 'LSTMCell' as a built-in Keras object. Consider renaming <class 'keras.layers.recurrent.LSTMCell'> to avoid naming conflicts when loading with `tf.keras.models.load_model`. If renaming is not possible, pass the object in the `custom_objects` parameter of the load function.\n"
     ]
    },
    {
     "name": "stdout",
     "output_type": "stream",
     "text": [
      "158/158 [==============================] - 4s 22ms/step\n",
      "68/68 [==============================] - 1s 21ms/step\n"
     ]
    },
    {
     "name": "stderr",
     "output_type": "stream",
     "text": [
      "D:\\Anaconda\\lib\\site-packages\\pandas\\core\\frame.py:3678: SettingWithCopyWarning: \n",
      "A value is trying to be set on a copy of a slice from a DataFrame.\n",
      "Try using .loc[row_indexer,col_indexer] = value instead\n",
      "\n",
      "See the caveats in the documentation: https://pandas.pydata.org/pandas-docs/stable/user_guide/indexing.html#returning-a-view-versus-a-copy\n",
      "  self[col] = igetitem(value, i)\n"
     ]
    },
    {
     "name": "stdout",
     "output_type": "stream",
     "text": [
      "Epoch 1/15\n",
      "158/158 [==============================] - 12s 60ms/step - loss: 0.6077 - val_loss: 0.3713\n",
      "Epoch 2/15\n",
      "158/158 [==============================] - 9s 56ms/step - loss: 0.3939 - val_loss: 0.3018\n",
      "Epoch 3/15\n",
      "158/158 [==============================] - 9s 56ms/step - loss: 0.3768 - val_loss: 0.2761\n",
      "Epoch 4/15\n",
      "158/158 [==============================] - 9s 56ms/step - loss: 0.3701 - val_loss: 0.2691\n",
      "Epoch 5/15\n",
      "158/158 [==============================] - 9s 56ms/step - loss: 0.3672 - val_loss: 0.2660\n",
      "Epoch 6/15\n",
      "158/158 [==============================] - 9s 56ms/step - loss: 0.3665 - val_loss: 0.2757\n",
      "Epoch 7/15\n",
      "158/158 [==============================] - 9s 56ms/step - loss: 0.3662 - val_loss: 0.2637\n",
      "Epoch 8/15\n",
      "158/158 [==============================] - 9s 56ms/step - loss: 0.3665 - val_loss: 0.2600\n",
      "Epoch 9/15\n",
      "158/158 [==============================] - 9s 57ms/step - loss: 0.3658 - val_loss: 0.2584\n",
      "Epoch 10/15\n",
      "158/158 [==============================] - 9s 56ms/step - loss: 0.3664 - val_loss: 0.2620\n",
      "Epoch 11/15\n",
      "158/158 [==============================] - 9s 55ms/step - loss: 0.3641 - val_loss: 0.2708\n",
      "Epoch 12/15\n",
      "158/158 [==============================] - 9s 56ms/step - loss: 0.3655 - val_loss: 0.2630\n",
      "Epoch 13/15\n",
      "158/158 [==============================] - 9s 56ms/step - loss: 0.3630 - val_loss: 0.2577\n",
      "Epoch 14/15\n",
      "158/158 [==============================] - 9s 57ms/step - loss: 0.3631 - val_loss: 0.2577\n",
      "Epoch 15/15\n",
      "158/158 [==============================] - 9s 59ms/step - loss: 0.3623 - val_loss: 0.2535\n"
     ]
    },
    {
     "name": "stderr",
     "output_type": "stream",
     "text": [
      "WARNING:absl:Found untraced functions such as lstm_cell_116_layer_call_fn, lstm_cell_116_layer_call_and_return_conditional_losses while saving (showing 2 of 2). These functions will not be directly callable after loading.\n"
     ]
    },
    {
     "name": "stdout",
     "output_type": "stream",
     "text": [
      "INFO:tensorflow:Assets written to: Hybrid Univarite2/month1_6_step_lookahead_Hybrid\\assets\n"
     ]
    },
    {
     "name": "stderr",
     "output_type": "stream",
     "text": [
      "INFO:tensorflow:Assets written to: Hybrid Univarite2/month1_6_step_lookahead_Hybrid\\assets\n",
      "WARNING:absl:<keras.layers.recurrent.LSTMCell object at 0x000001C4CB38A400> has the same name 'LSTMCell' as a built-in Keras object. Consider renaming <class 'keras.layers.recurrent.LSTMCell'> to avoid naming conflicts when loading with `tf.keras.models.load_model`. If renaming is not possible, pass the object in the `custom_objects` parameter of the load function.\n"
     ]
    },
    {
     "name": "stdout",
     "output_type": "stream",
     "text": [
      "158/158 [==============================] - 4s 22ms/step\n",
      "68/68 [==============================] - 1s 21ms/step\n"
     ]
    },
    {
     "name": "stderr",
     "output_type": "stream",
     "text": [
      "D:\\Anaconda\\lib\\site-packages\\pandas\\core\\frame.py:3678: SettingWithCopyWarning: \n",
      "A value is trying to be set on a copy of a slice from a DataFrame.\n",
      "Try using .loc[row_indexer,col_indexer] = value instead\n",
      "\n",
      "See the caveats in the documentation: https://pandas.pydata.org/pandas-docs/stable/user_guide/indexing.html#returning-a-view-versus-a-copy\n",
      "  self[col] = igetitem(value, i)\n"
     ]
    },
    {
     "name": "stdout",
     "output_type": "stream",
     "text": [
      "Epoch 1/15\n",
      "158/158 [==============================] - 12s 59ms/step - loss: 0.5184 - val_loss: 0.3513\n",
      "Epoch 2/15\n",
      "158/158 [==============================] - 9s 56ms/step - loss: 0.3846 - val_loss: 0.2892\n",
      "Epoch 3/15\n",
      "158/158 [==============================] - 9s 56ms/step - loss: 0.3736 - val_loss: 0.2784\n",
      "Epoch 4/15\n",
      "158/158 [==============================] - 9s 56ms/step - loss: 0.3687 - val_loss: 0.2662\n",
      "Epoch 5/15\n",
      "158/158 [==============================] - 9s 55ms/step - loss: 0.3689 - val_loss: 0.2674\n",
      "Epoch 6/15\n",
      "158/158 [==============================] - 9s 56ms/step - loss: 0.3660 - val_loss: 0.2605\n",
      "Epoch 7/15\n",
      "158/158 [==============================] - 9s 56ms/step - loss: 0.3664 - val_loss: 0.2578\n",
      "Epoch 8/15\n",
      "158/158 [==============================] - 9s 56ms/step - loss: 0.3682 - val_loss: 0.2570\n",
      "Epoch 9/15\n",
      "158/158 [==============================] - 9s 56ms/step - loss: 0.3661 - val_loss: 0.2599\n",
      "Epoch 10/15\n",
      "158/158 [==============================] - 9s 56ms/step - loss: 0.3658 - val_loss: 0.2590\n",
      "Epoch 11/15\n",
      "158/158 [==============================] - 9s 55ms/step - loss: 0.3667 - val_loss: 0.2564\n",
      "Epoch 12/15\n",
      "158/158 [==============================] - 9s 56ms/step - loss: 0.3652 - val_loss: 0.2621\n",
      "Epoch 13/15\n",
      "158/158 [==============================] - 9s 55ms/step - loss: 0.3643 - val_loss: 0.2692\n",
      "Epoch 14/15\n",
      "158/158 [==============================] - 9s 55ms/step - loss: 0.3681 - val_loss: 0.2628\n",
      "Epoch 15/15\n",
      "158/158 [==============================] - 9s 56ms/step - loss: 0.3646 - val_loss: 0.2525\n"
     ]
    },
    {
     "name": "stderr",
     "output_type": "stream",
     "text": [
      "WARNING:absl:Found untraced functions such as lstm_cell_117_layer_call_fn, lstm_cell_117_layer_call_and_return_conditional_losses while saving (showing 2 of 2). These functions will not be directly callable after loading.\n"
     ]
    },
    {
     "name": "stdout",
     "output_type": "stream",
     "text": [
      "INFO:tensorflow:Assets written to: Hybrid Univarite2/month1_7_step_lookahead_Hybrid\\assets\n"
     ]
    },
    {
     "name": "stderr",
     "output_type": "stream",
     "text": [
      "INFO:tensorflow:Assets written to: Hybrid Univarite2/month1_7_step_lookahead_Hybrid\\assets\n",
      "WARNING:absl:<keras.layers.recurrent.LSTMCell object at 0x000001C4BA680670> has the same name 'LSTMCell' as a built-in Keras object. Consider renaming <class 'keras.layers.recurrent.LSTMCell'> to avoid naming conflicts when loading with `tf.keras.models.load_model`. If renaming is not possible, pass the object in the `custom_objects` parameter of the load function.\n"
     ]
    },
    {
     "name": "stdout",
     "output_type": "stream",
     "text": [
      "158/158 [==============================] - 4s 22ms/step\n",
      "68/68 [==============================] - 1s 20ms/step\n"
     ]
    },
    {
     "name": "stderr",
     "output_type": "stream",
     "text": [
      "D:\\Anaconda\\lib\\site-packages\\pandas\\core\\frame.py:3678: SettingWithCopyWarning: \n",
      "A value is trying to be set on a copy of a slice from a DataFrame.\n",
      "Try using .loc[row_indexer,col_indexer] = value instead\n",
      "\n",
      "See the caveats in the documentation: https://pandas.pydata.org/pandas-docs/stable/user_guide/indexing.html#returning-a-view-versus-a-copy\n",
      "  self[col] = igetitem(value, i)\n"
     ]
    },
    {
     "name": "stdout",
     "output_type": "stream",
     "text": [
      "Epoch 1/15\n",
      "158/158 [==============================] - 12s 62ms/step - loss: 0.5506 - val_loss: 0.3261\n",
      "Epoch 2/15\n",
      "158/158 [==============================] - 9s 56ms/step - loss: 0.4264 - val_loss: 0.3116\n",
      "Epoch 3/15\n",
      "158/158 [==============================] - 9s 56ms/step - loss: 0.4216 - val_loss: 0.2997\n",
      "Epoch 4/15\n",
      "158/158 [==============================] - 9s 56ms/step - loss: 0.4189 - val_loss: 0.2911\n",
      "Epoch 5/15\n",
      "158/158 [==============================] - 9s 56ms/step - loss: 0.4198 - val_loss: 0.2953\n",
      "Epoch 6/15\n",
      "158/158 [==============================] - 9s 56ms/step - loss: 0.4163 - val_loss: 0.2862\n",
      "Epoch 7/15\n",
      "158/158 [==============================] - 9s 56ms/step - loss: 0.4156 - val_loss: 0.2834\n",
      "Epoch 8/15\n",
      "158/158 [==============================] - 9s 56ms/step - loss: 0.4183 - val_loss: 0.2895\n",
      "Epoch 9/15\n",
      "158/158 [==============================] - 9s 55ms/step - loss: 0.4144 - val_loss: 0.2903\n",
      "Epoch 10/15\n",
      "158/158 [==============================] - 9s 56ms/step - loss: 0.4153 - val_loss: 0.2792\n",
      "Epoch 11/15\n",
      "158/158 [==============================] - 9s 56ms/step - loss: 0.4139 - val_loss: 0.2856\n",
      "Epoch 12/15\n",
      "158/158 [==============================] - 9s 55ms/step - loss: 0.4123 - val_loss: 0.2824\n",
      "Epoch 13/15\n",
      "158/158 [==============================] - 9s 56ms/step - loss: 0.4127 - val_loss: 0.2815\n",
      "Epoch 14/15\n",
      "158/158 [==============================] - 9s 56ms/step - loss: 0.4135 - val_loss: 0.2870\n",
      "Epoch 15/15\n",
      "158/158 [==============================] - 9s 56ms/step - loss: 0.4125 - val_loss: 0.3040\n"
     ]
    },
    {
     "name": "stderr",
     "output_type": "stream",
     "text": [
      "WARNING:absl:Found untraced functions such as lstm_cell_118_layer_call_fn, lstm_cell_118_layer_call_and_return_conditional_losses while saving (showing 2 of 2). These functions will not be directly callable after loading.\n"
     ]
    },
    {
     "name": "stdout",
     "output_type": "stream",
     "text": [
      "INFO:tensorflow:Assets written to: Hybrid Univarite2/month1_8_step_lookahead_Hybrid\\assets\n"
     ]
    },
    {
     "name": "stderr",
     "output_type": "stream",
     "text": [
      "INFO:tensorflow:Assets written to: Hybrid Univarite2/month1_8_step_lookahead_Hybrid\\assets\n",
      "WARNING:absl:<keras.layers.recurrent.LSTMCell object at 0x000001C4BD645130> has the same name 'LSTMCell' as a built-in Keras object. Consider renaming <class 'keras.layers.recurrent.LSTMCell'> to avoid naming conflicts when loading with `tf.keras.models.load_model`. If renaming is not possible, pass the object in the `custom_objects` parameter of the load function.\n"
     ]
    },
    {
     "name": "stdout",
     "output_type": "stream",
     "text": [
      "158/158 [==============================] - 4s 21ms/step\n",
      "68/68 [==============================] - 1s 21ms/step\n"
     ]
    },
    {
     "name": "stderr",
     "output_type": "stream",
     "text": [
      "D:\\Anaconda\\lib\\site-packages\\pandas\\core\\frame.py:3678: SettingWithCopyWarning: \n",
      "A value is trying to be set on a copy of a slice from a DataFrame.\n",
      "Try using .loc[row_indexer,col_indexer] = value instead\n",
      "\n",
      "See the caveats in the documentation: https://pandas.pydata.org/pandas-docs/stable/user_guide/indexing.html#returning-a-view-versus-a-copy\n",
      "  self[col] = igetitem(value, i)\n"
     ]
    },
    {
     "name": "stdout",
     "output_type": "stream",
     "text": [
      "Epoch 1/15\n",
      "158/158 [==============================] - 12s 59ms/step - loss: 0.5748 - val_loss: 0.3376\n",
      "Epoch 2/15\n",
      "158/158 [==============================] - 9s 56ms/step - loss: 0.4254 - val_loss: 0.2997\n",
      "Epoch 3/15\n",
      "158/158 [==============================] - 9s 56ms/step - loss: 0.4213 - val_loss: 0.2919\n",
      "Epoch 4/15\n",
      "158/158 [==============================] - 9s 56ms/step - loss: 0.4176 - val_loss: 0.2882\n",
      "Epoch 5/15\n",
      "158/158 [==============================] - 9s 56ms/step - loss: 0.4176 - val_loss: 0.2853\n",
      "Epoch 6/15\n",
      "158/158 [==============================] - 9s 56ms/step - loss: 0.4168 - val_loss: 0.2902\n",
      "Epoch 7/15\n",
      "158/158 [==============================] - 9s 56ms/step - loss: 0.4149 - val_loss: 0.2790\n",
      "Epoch 8/15\n",
      "158/158 [==============================] - 9s 55ms/step - loss: 0.4158 - val_loss: 0.2787\n",
      "Epoch 9/15\n",
      "158/158 [==============================] - 9s 56ms/step - loss: 0.4150 - val_loss: 0.2821\n",
      "Epoch 10/15\n",
      "158/158 [==============================] - 9s 56ms/step - loss: 0.4140 - val_loss: 0.2794\n",
      "Epoch 11/15\n",
      "158/158 [==============================] - 9s 59ms/step - loss: 0.4125 - val_loss: 0.2887\n",
      "Epoch 12/15\n",
      "158/158 [==============================] - 10s 66ms/step - loss: 0.4126 - val_loss: 0.2859\n",
      "Epoch 13/15\n",
      "158/158 [==============================] - 10s 65ms/step - loss: 0.4138 - val_loss: 0.2860\n",
      "Epoch 14/15\n",
      "158/158 [==============================] - 9s 55ms/step - loss: 0.4124 - val_loss: 0.2773\n",
      "Epoch 15/15\n",
      "158/158 [==============================] - 9s 56ms/step - loss: 0.4117 - val_loss: 0.2808\n"
     ]
    },
    {
     "name": "stderr",
     "output_type": "stream",
     "text": [
      "WARNING:absl:Found untraced functions such as lstm_cell_119_layer_call_fn, lstm_cell_119_layer_call_and_return_conditional_losses while saving (showing 2 of 2). These functions will not be directly callable after loading.\n"
     ]
    },
    {
     "name": "stdout",
     "output_type": "stream",
     "text": [
      "INFO:tensorflow:Assets written to: Hybrid Univarite2/month1_9_step_lookahead_Hybrid\\assets\n"
     ]
    },
    {
     "name": "stderr",
     "output_type": "stream",
     "text": [
      "INFO:tensorflow:Assets written to: Hybrid Univarite2/month1_9_step_lookahead_Hybrid\\assets\n",
      "WARNING:absl:<keras.layers.recurrent.LSTMCell object at 0x000001C4BA7536D0> has the same name 'LSTMCell' as a built-in Keras object. Consider renaming <class 'keras.layers.recurrent.LSTMCell'> to avoid naming conflicts when loading with `tf.keras.models.load_model`. If renaming is not possible, pass the object in the `custom_objects` parameter of the load function.\n"
     ]
    },
    {
     "name": "stdout",
     "output_type": "stream",
     "text": [
      "158/158 [==============================] - 4s 22ms/step\n",
      "68/68 [==============================] - 1s 21ms/step\n"
     ]
    },
    {
     "name": "stderr",
     "output_type": "stream",
     "text": [
      "D:\\Anaconda\\lib\\site-packages\\pandas\\core\\frame.py:3678: SettingWithCopyWarning: \n",
      "A value is trying to be set on a copy of a slice from a DataFrame.\n",
      "Try using .loc[row_indexer,col_indexer] = value instead\n",
      "\n",
      "See the caveats in the documentation: https://pandas.pydata.org/pandas-docs/stable/user_guide/indexing.html#returning-a-view-versus-a-copy\n",
      "  self[col] = igetitem(value, i)\n"
     ]
    },
    {
     "name": "stdout",
     "output_type": "stream",
     "text": [
      "Epoch 1/15\n",
      "158/158 [==============================] - 12s 59ms/step - loss: 0.8433 - val_loss: 0.3743\n",
      "Epoch 2/15\n",
      "158/158 [==============================] - 9s 56ms/step - loss: 0.4437 - val_loss: 0.3192\n",
      "Epoch 3/15\n",
      "158/158 [==============================] - 9s 56ms/step - loss: 0.4274 - val_loss: 0.2991\n",
      "Epoch 4/15\n",
      "158/158 [==============================] - 9s 56ms/step - loss: 0.4233 - val_loss: 0.2921\n",
      "Epoch 5/15\n",
      "158/158 [==============================] - 9s 56ms/step - loss: 0.4177 - val_loss: 0.2857\n",
      "Epoch 6/15\n",
      "158/158 [==============================] - 9s 57ms/step - loss: 0.4178 - val_loss: 0.2735\n",
      "Epoch 7/15\n",
      "158/158 [==============================] - 9s 56ms/step - loss: 0.4153 - val_loss: 0.2801\n",
      "Epoch 8/15\n",
      "158/158 [==============================] - 9s 56ms/step - loss: 0.4155 - val_loss: 0.2782\n",
      "Epoch 9/15\n",
      "158/158 [==============================] - 9s 57ms/step - loss: 0.4145 - val_loss: 0.2935\n",
      "Epoch 10/15\n",
      "158/158 [==============================] - 9s 56ms/step - loss: 0.4143 - val_loss: 0.2733\n",
      "Epoch 11/15\n",
      "158/158 [==============================] - 9s 56ms/step - loss: 0.4136 - val_loss: 0.2906\n",
      "Epoch 12/15\n",
      "158/158 [==============================] - 9s 56ms/step - loss: 0.4143 - val_loss: 0.2915\n",
      "Epoch 13/15\n",
      "158/158 [==============================] - 9s 56ms/step - loss: 0.4124 - val_loss: 0.2703\n",
      "Epoch 14/15\n",
      "158/158 [==============================] - 9s 58ms/step - loss: 0.4126 - val_loss: 0.2889\n",
      "Epoch 15/15\n",
      "158/158 [==============================] - 9s 58ms/step - loss: 0.4096 - val_loss: 0.2925\n"
     ]
    },
    {
     "name": "stderr",
     "output_type": "stream",
     "text": [
      "WARNING:absl:Found untraced functions such as lstm_cell_120_layer_call_fn, lstm_cell_120_layer_call_and_return_conditional_losses while saving (showing 2 of 2). These functions will not be directly callable after loading.\n"
     ]
    },
    {
     "name": "stdout",
     "output_type": "stream",
     "text": [
      "INFO:tensorflow:Assets written to: Hybrid Univarite2/month1_10_step_lookahead_Hybrid\\assets\n"
     ]
    },
    {
     "name": "stderr",
     "output_type": "stream",
     "text": [
      "INFO:tensorflow:Assets written to: Hybrid Univarite2/month1_10_step_lookahead_Hybrid\\assets\n",
      "WARNING:absl:<keras.layers.recurrent.LSTMCell object at 0x000001C4BEE1E790> has the same name 'LSTMCell' as a built-in Keras object. Consider renaming <class 'keras.layers.recurrent.LSTMCell'> to avoid naming conflicts when loading with `tf.keras.models.load_model`. If renaming is not possible, pass the object in the `custom_objects` parameter of the load function.\n"
     ]
    },
    {
     "name": "stdout",
     "output_type": "stream",
     "text": [
      "158/158 [==============================] - 4s 23ms/step\n",
      "68/68 [==============================] - 1s 20ms/step\n"
     ]
    },
    {
     "name": "stderr",
     "output_type": "stream",
     "text": [
      "D:\\Anaconda\\lib\\site-packages\\pandas\\core\\frame.py:3678: SettingWithCopyWarning: \n",
      "A value is trying to be set on a copy of a slice from a DataFrame.\n",
      "Try using .loc[row_indexer,col_indexer] = value instead\n",
      "\n",
      "See the caveats in the documentation: https://pandas.pydata.org/pandas-docs/stable/user_guide/indexing.html#returning-a-view-versus-a-copy\n",
      "  self[col] = igetitem(value, i)\n",
      "D:\\Anaconda\\lib\\site-packages\\pandas\\core\\frame.py:3678: SettingWithCopyWarning: \n",
      "A value is trying to be set on a copy of a slice from a DataFrame.\n",
      "Try using .loc[row_indexer,col_indexer] = value instead\n",
      "\n",
      "See the caveats in the documentation: https://pandas.pydata.org/pandas-docs/stable/user_guide/indexing.html#returning-a-view-versus-a-copy\n",
      "  self[col] = igetitem(value, i)\n"
     ]
    },
    {
     "name": "stdout",
     "output_type": "stream",
     "text": [
      "Epoch 1/15\n",
      "152/152 [==============================] - 11s 60ms/step - loss: 1.3418 - val_loss: 0.2776\n",
      "Epoch 2/15\n",
      "152/152 [==============================] - 8s 56ms/step - loss: 1.2932 - val_loss: 0.2604\n",
      "Epoch 3/15\n",
      "152/152 [==============================] - 9s 57ms/step - loss: 1.2852 - val_loss: 0.2515\n",
      "Epoch 4/15\n",
      "152/152 [==============================] - 8s 55ms/step - loss: 1.2809 - val_loss: 0.2463\n",
      "Epoch 5/15\n",
      "152/152 [==============================] - 8s 56ms/step - loss: 1.2768 - val_loss: 0.2367\n",
      "Epoch 6/15\n",
      "152/152 [==============================] - 8s 56ms/step - loss: 1.2713 - val_loss: 0.2320\n",
      "Epoch 7/15\n",
      "152/152 [==============================] - 8s 56ms/step - loss: 1.2678 - val_loss: 0.2274\n",
      "Epoch 8/15\n",
      "152/152 [==============================] - 9s 56ms/step - loss: 1.2659 - val_loss: 0.2255\n",
      "Epoch 9/15\n",
      "152/152 [==============================] - 9s 57ms/step - loss: 1.2647 - val_loss: 0.2244\n",
      "Epoch 10/15\n",
      "152/152 [==============================] - 9s 56ms/step - loss: 1.2636 - val_loss: 0.2228\n",
      "Epoch 11/15\n",
      "152/152 [==============================] - 8s 56ms/step - loss: 1.2622 - val_loss: 0.2232\n",
      "Epoch 12/15\n",
      "152/152 [==============================] - 8s 56ms/step - loss: 1.2609 - val_loss: 0.2239\n",
      "Epoch 13/15\n",
      "152/152 [==============================] - 8s 55ms/step - loss: 1.2603 - val_loss: 0.2236\n",
      "Epoch 14/15\n",
      "152/152 [==============================] - 8s 56ms/step - loss: 1.2606 - val_loss: 0.2233\n",
      "Epoch 15/15\n",
      "152/152 [==============================] - 8s 55ms/step - loss: 1.2602 - val_loss: 0.2231\n"
     ]
    },
    {
     "name": "stderr",
     "output_type": "stream",
     "text": [
      "WARNING:absl:Found untraced functions such as lstm_cell_121_layer_call_fn, lstm_cell_121_layer_call_and_return_conditional_losses while saving (showing 2 of 2). These functions will not be directly callable after loading.\n"
     ]
    },
    {
     "name": "stdout",
     "output_type": "stream",
     "text": [
      "INFO:tensorflow:Assets written to: Hybrid Univarite2/month2_1_step_lookahead_Hybrid\\assets\n"
     ]
    },
    {
     "name": "stderr",
     "output_type": "stream",
     "text": [
      "INFO:tensorflow:Assets written to: Hybrid Univarite2/month2_1_step_lookahead_Hybrid\\assets\n",
      "WARNING:absl:<keras.layers.recurrent.LSTMCell object at 0x000001C4C1800D60> has the same name 'LSTMCell' as a built-in Keras object. Consider renaming <class 'keras.layers.recurrent.LSTMCell'> to avoid naming conflicts when loading with `tf.keras.models.load_model`. If renaming is not possible, pass the object in the `custom_objects` parameter of the load function.\n"
     ]
    },
    {
     "name": "stdout",
     "output_type": "stream",
     "text": [
      "152/152 [==============================] - 4s 22ms/step\n",
      "65/65 [==============================] - 1s 21ms/step\n"
     ]
    },
    {
     "name": "stderr",
     "output_type": "stream",
     "text": [
      "D:\\Anaconda\\lib\\site-packages\\pandas\\core\\frame.py:3678: SettingWithCopyWarning: \n",
      "A value is trying to be set on a copy of a slice from a DataFrame.\n",
      "Try using .loc[row_indexer,col_indexer] = value instead\n",
      "\n",
      "See the caveats in the documentation: https://pandas.pydata.org/pandas-docs/stable/user_guide/indexing.html#returning-a-view-versus-a-copy\n",
      "  self[col] = igetitem(value, i)\n"
     ]
    },
    {
     "name": "stdout",
     "output_type": "stream",
     "text": [
      "Epoch 1/15\n",
      "152/152 [==============================] - 11s 59ms/step - loss: 1.3229 - val_loss: 0.2750\n",
      "Epoch 2/15\n",
      "152/152 [==============================] - 9s 57ms/step - loss: 1.2874 - val_loss: 0.2529\n",
      "Epoch 3/15\n",
      "152/152 [==============================] - 8s 56ms/step - loss: 1.2815 - val_loss: 0.2455\n",
      "Epoch 4/15\n",
      "152/152 [==============================] - 8s 53ms/step - loss: 1.2775 - val_loss: 0.2397\n",
      "Epoch 5/15\n",
      "152/152 [==============================] - 8s 52ms/step - loss: 1.2752 - val_loss: 0.2356\n",
      "Epoch 6/15\n",
      "152/152 [==============================] - 8s 52ms/step - loss: 1.2715 - val_loss: 0.2337\n",
      "Epoch 7/15\n",
      "152/152 [==============================] - 8s 53ms/step - loss: 1.2722 - val_loss: 0.2304\n",
      "Epoch 8/15\n",
      "152/152 [==============================] - 8s 52ms/step - loss: 1.2672 - val_loss: 0.2306\n",
      "Epoch 9/15\n",
      "152/152 [==============================] - 8s 52ms/step - loss: 1.2673 - val_loss: 0.2267\n",
      "Epoch 10/15\n",
      "152/152 [==============================] - 8s 53ms/step - loss: 1.2663 - val_loss: 0.2257\n",
      "Epoch 11/15\n",
      "152/152 [==============================] - 8s 52ms/step - loss: 1.2633 - val_loss: 0.2255\n",
      "Epoch 12/15\n",
      "152/152 [==============================] - 8s 53ms/step - loss: 1.2646 - val_loss: 0.2237\n",
      "Epoch 13/15\n",
      "152/152 [==============================] - 8s 52ms/step - loss: 1.2628 - val_loss: 0.2229\n",
      "Epoch 14/15\n",
      "152/152 [==============================] - 8s 52ms/step - loss: 1.2618 - val_loss: 0.2243\n",
      "Epoch 15/15\n",
      "152/152 [==============================] - 8s 52ms/step - loss: 1.2645 - val_loss: 0.2220\n"
     ]
    },
    {
     "name": "stderr",
     "output_type": "stream",
     "text": [
      "WARNING:absl:Found untraced functions such as lstm_cell_122_layer_call_fn, lstm_cell_122_layer_call_and_return_conditional_losses while saving (showing 2 of 2). These functions will not be directly callable after loading.\n"
     ]
    },
    {
     "name": "stdout",
     "output_type": "stream",
     "text": [
      "INFO:tensorflow:Assets written to: Hybrid Univarite2/month2_2_step_lookahead_Hybrid\\assets\n"
     ]
    },
    {
     "name": "stderr",
     "output_type": "stream",
     "text": [
      "INFO:tensorflow:Assets written to: Hybrid Univarite2/month2_2_step_lookahead_Hybrid\\assets\n",
      "WARNING:absl:<keras.layers.recurrent.LSTMCell object at 0x000001C4CB361AF0> has the same name 'LSTMCell' as a built-in Keras object. Consider renaming <class 'keras.layers.recurrent.LSTMCell'> to avoid naming conflicts when loading with `tf.keras.models.load_model`. If renaming is not possible, pass the object in the `custom_objects` parameter of the load function.\n"
     ]
    },
    {
     "name": "stdout",
     "output_type": "stream",
     "text": [
      "152/152 [==============================] - 4s 21ms/step\n",
      "65/65 [==============================] - 1s 20ms/step\n"
     ]
    },
    {
     "name": "stderr",
     "output_type": "stream",
     "text": [
      "D:\\Anaconda\\lib\\site-packages\\pandas\\core\\frame.py:3678: SettingWithCopyWarning: \n",
      "A value is trying to be set on a copy of a slice from a DataFrame.\n",
      "Try using .loc[row_indexer,col_indexer] = value instead\n",
      "\n",
      "See the caveats in the documentation: https://pandas.pydata.org/pandas-docs/stable/user_guide/indexing.html#returning-a-view-versus-a-copy\n",
      "  self[col] = igetitem(value, i)\n"
     ]
    },
    {
     "name": "stdout",
     "output_type": "stream",
     "text": [
      "Epoch 1/15\n",
      "152/152 [==============================] - 11s 60ms/step - loss: 1.3185 - val_loss: 0.2572\n",
      "Epoch 2/15\n",
      "152/152 [==============================] - 8s 53ms/step - loss: 1.2786 - val_loss: 0.2458\n",
      "Epoch 3/15\n",
      "152/152 [==============================] - 8s 53ms/step - loss: 1.2738 - val_loss: 0.2338\n",
      "Epoch 4/15\n",
      "152/152 [==============================] - 9s 57ms/step - loss: 1.2700 - val_loss: 0.2320\n",
      "Epoch 5/15\n",
      "152/152 [==============================] - 9s 56ms/step - loss: 1.2675 - val_loss: 0.2275\n",
      "Epoch 6/15\n",
      "152/152 [==============================] - 9s 56ms/step - loss: 1.2651 - val_loss: 0.2249\n",
      "Epoch 7/15\n",
      "152/152 [==============================] - 8s 55ms/step - loss: 1.2650 - val_loss: 0.2242\n",
      "Epoch 8/15\n",
      "152/152 [==============================] - 8s 55ms/step - loss: 1.2639 - val_loss: 0.2250\n",
      "Epoch 9/15\n",
      "152/152 [==============================] - 8s 55ms/step - loss: 1.2625 - val_loss: 0.2233\n",
      "Epoch 10/15\n",
      "152/152 [==============================] - 8s 54ms/step - loss: 1.2639 - val_loss: 0.2240\n",
      "Epoch 11/15\n",
      "152/152 [==============================] - 8s 55ms/step - loss: 1.2634 - val_loss: 0.2232\n",
      "Epoch 12/15\n",
      "152/152 [==============================] - 8s 55ms/step - loss: 1.2618 - val_loss: 0.2264\n",
      "Epoch 13/15\n",
      "152/152 [==============================] - 8s 55ms/step - loss: 1.2625 - val_loss: 0.2227\n",
      "Epoch 14/15\n",
      "152/152 [==============================] - 9s 57ms/step - loss: 1.2614 - val_loss: 0.2229\n",
      "Epoch 15/15\n",
      "152/152 [==============================] - 8s 55ms/step - loss: 1.2623 - val_loss: 0.2257\n"
     ]
    },
    {
     "name": "stderr",
     "output_type": "stream",
     "text": [
      "WARNING:absl:Found untraced functions such as lstm_cell_123_layer_call_fn, lstm_cell_123_layer_call_and_return_conditional_losses while saving (showing 2 of 2). These functions will not be directly callable after loading.\n"
     ]
    },
    {
     "name": "stdout",
     "output_type": "stream",
     "text": [
      "INFO:tensorflow:Assets written to: Hybrid Univarite2/month2_3_step_lookahead_Hybrid\\assets\n"
     ]
    },
    {
     "name": "stderr",
     "output_type": "stream",
     "text": [
      "INFO:tensorflow:Assets written to: Hybrid Univarite2/month2_3_step_lookahead_Hybrid\\assets\n",
      "WARNING:absl:<keras.layers.recurrent.LSTMCell object at 0x000001C4BD52FE50> has the same name 'LSTMCell' as a built-in Keras object. Consider renaming <class 'keras.layers.recurrent.LSTMCell'> to avoid naming conflicts when loading with `tf.keras.models.load_model`. If renaming is not possible, pass the object in the `custom_objects` parameter of the load function.\n"
     ]
    },
    {
     "name": "stdout",
     "output_type": "stream",
     "text": [
      "152/152 [==============================] - 4s 22ms/step\n",
      "65/65 [==============================] - 1s 20ms/step\n"
     ]
    },
    {
     "name": "stderr",
     "output_type": "stream",
     "text": [
      "D:\\Anaconda\\lib\\site-packages\\pandas\\core\\frame.py:3678: SettingWithCopyWarning: \n",
      "A value is trying to be set on a copy of a slice from a DataFrame.\n",
      "Try using .loc[row_indexer,col_indexer] = value instead\n",
      "\n",
      "See the caveats in the documentation: https://pandas.pydata.org/pandas-docs/stable/user_guide/indexing.html#returning-a-view-versus-a-copy\n",
      "  self[col] = igetitem(value, i)\n"
     ]
    },
    {
     "name": "stdout",
     "output_type": "stream",
     "text": [
      "Epoch 1/15\n",
      "152/152 [==============================] - 11s 58ms/step - loss: 1.3530 - val_loss: 0.2628\n",
      "Epoch 2/15\n",
      "152/152 [==============================] - 8s 54ms/step - loss: 1.3072 - val_loss: 0.2513\n",
      "Epoch 3/15\n",
      "152/152 [==============================] - 8s 54ms/step - loss: 1.3061 - val_loss: 0.2486\n",
      "Epoch 4/15\n",
      "152/152 [==============================] - 8s 54ms/step - loss: 1.3042 - val_loss: 0.2437\n",
      "Epoch 5/15\n",
      "152/152 [==============================] - 8s 55ms/step - loss: 1.3054 - val_loss: 0.2413\n",
      "Epoch 6/15\n",
      "152/152 [==============================] - 8s 55ms/step - loss: 1.3038 - val_loss: 0.2407\n",
      "Epoch 7/15\n",
      "152/152 [==============================] - 8s 55ms/step - loss: 1.3042 - val_loss: 0.2425\n",
      "Epoch 8/15\n",
      "152/152 [==============================] - 8s 54ms/step - loss: 1.3046 - val_loss: 0.2401\n",
      "Epoch 9/15\n",
      "152/152 [==============================] - 8s 54ms/step - loss: 1.3033 - val_loss: 0.2408\n",
      "Epoch 10/15\n",
      "152/152 [==============================] - 8s 54ms/step - loss: 1.3143 - val_loss: 0.2413\n",
      "Epoch 11/15\n",
      "152/152 [==============================] - 8s 54ms/step - loss: 1.3041 - val_loss: 0.2373\n",
      "Epoch 12/15\n",
      "152/152 [==============================] - 8s 54ms/step - loss: 1.3040 - val_loss: 0.2426\n",
      "Epoch 13/15\n",
      "152/152 [==============================] - 8s 54ms/step - loss: 1.3034 - val_loss: 0.2386\n",
      "Epoch 14/15\n",
      "152/152 [==============================] - 8s 54ms/step - loss: 1.3031 - val_loss: 0.2380\n",
      "Epoch 15/15\n",
      "152/152 [==============================] - 8s 54ms/step - loss: 1.3027 - val_loss: 0.2422\n"
     ]
    },
    {
     "name": "stderr",
     "output_type": "stream",
     "text": [
      "WARNING:absl:Found untraced functions such as lstm_cell_124_layer_call_fn, lstm_cell_124_layer_call_and_return_conditional_losses while saving (showing 2 of 2). These functions will not be directly callable after loading.\n"
     ]
    },
    {
     "name": "stdout",
     "output_type": "stream",
     "text": [
      "INFO:tensorflow:Assets written to: Hybrid Univarite2/month2_4_step_lookahead_Hybrid\\assets\n"
     ]
    },
    {
     "name": "stderr",
     "output_type": "stream",
     "text": [
      "INFO:tensorflow:Assets written to: Hybrid Univarite2/month2_4_step_lookahead_Hybrid\\assets\n",
      "WARNING:absl:<keras.layers.recurrent.LSTMCell object at 0x000001C4FEAF27F0> has the same name 'LSTMCell' as a built-in Keras object. Consider renaming <class 'keras.layers.recurrent.LSTMCell'> to avoid naming conflicts when loading with `tf.keras.models.load_model`. If renaming is not possible, pass the object in the `custom_objects` parameter of the load function.\n"
     ]
    },
    {
     "name": "stdout",
     "output_type": "stream",
     "text": [
      "152/152 [==============================] - 4s 22ms/step\n",
      "65/65 [==============================] - 1s 20ms/step\n"
     ]
    },
    {
     "name": "stderr",
     "output_type": "stream",
     "text": [
      "D:\\Anaconda\\lib\\site-packages\\pandas\\core\\frame.py:3678: SettingWithCopyWarning: \n",
      "A value is trying to be set on a copy of a slice from a DataFrame.\n",
      "Try using .loc[row_indexer,col_indexer] = value instead\n",
      "\n",
      "See the caveats in the documentation: https://pandas.pydata.org/pandas-docs/stable/user_guide/indexing.html#returning-a-view-versus-a-copy\n",
      "  self[col] = igetitem(value, i)\n"
     ]
    },
    {
     "name": "stdout",
     "output_type": "stream",
     "text": [
      "Epoch 1/15\n",
      "152/152 [==============================] - 11s 57ms/step - loss: 1.3293 - val_loss: 0.2568\n",
      "Epoch 2/15\n",
      "152/152 [==============================] - 8s 53ms/step - loss: 1.3061 - val_loss: 0.2462\n",
      "Epoch 3/15\n",
      "152/152 [==============================] - 9s 56ms/step - loss: 1.3050 - val_loss: 0.2424\n",
      "Epoch 4/15\n",
      "152/152 [==============================] - 8s 55ms/step - loss: 1.3042 - val_loss: 0.2465\n",
      "Epoch 5/15\n",
      "152/152 [==============================] - 8s 55ms/step - loss: 1.3046 - val_loss: 0.2400\n",
      "Epoch 6/15\n",
      "152/152 [==============================] - 9s 57ms/step - loss: 1.3044 - val_loss: 0.2382\n",
      "Epoch 7/15\n",
      "152/152 [==============================] - 8s 54ms/step - loss: 1.3040 - val_loss: 0.2407\n",
      "Epoch 8/15\n",
      "152/152 [==============================] - 8s 52ms/step - loss: 1.3042 - val_loss: 0.2383\n",
      "Epoch 9/15\n",
      "152/152 [==============================] - 8s 52ms/step - loss: 1.3036 - val_loss: 0.2381\n",
      "Epoch 10/15\n",
      "152/152 [==============================] - 8s 52ms/step - loss: 1.3031 - val_loss: 0.2443\n",
      "Epoch 11/15\n",
      "152/152 [==============================] - 8s 53ms/step - loss: 1.3042 - val_loss: 0.2388\n",
      "Epoch 12/15\n",
      "152/152 [==============================] - 8s 53ms/step - loss: 1.3042 - val_loss: 0.2368\n",
      "Epoch 13/15\n",
      "152/152 [==============================] - 8s 53ms/step - loss: 1.3039 - val_loss: 0.2366\n",
      "Epoch 14/15\n",
      "152/152 [==============================] - 8s 54ms/step - loss: 1.3036 - val_loss: 0.2359\n",
      "Epoch 15/15\n",
      "152/152 [==============================] - 8s 53ms/step - loss: 1.3022 - val_loss: 0.2419\n"
     ]
    },
    {
     "name": "stderr",
     "output_type": "stream",
     "text": [
      "WARNING:absl:Found untraced functions such as lstm_cell_125_layer_call_fn, lstm_cell_125_layer_call_and_return_conditional_losses while saving (showing 2 of 2). These functions will not be directly callable after loading.\n"
     ]
    },
    {
     "name": "stdout",
     "output_type": "stream",
     "text": [
      "INFO:tensorflow:Assets written to: Hybrid Univarite2/month2_5_step_lookahead_Hybrid\\assets\n"
     ]
    },
    {
     "name": "stderr",
     "output_type": "stream",
     "text": [
      "INFO:tensorflow:Assets written to: Hybrid Univarite2/month2_5_step_lookahead_Hybrid\\assets\n",
      "WARNING:absl:<keras.layers.recurrent.LSTMCell object at 0x000001C4C07DD490> has the same name 'LSTMCell' as a built-in Keras object. Consider renaming <class 'keras.layers.recurrent.LSTMCell'> to avoid naming conflicts when loading with `tf.keras.models.load_model`. If renaming is not possible, pass the object in the `custom_objects` parameter of the load function.\n"
     ]
    },
    {
     "name": "stdout",
     "output_type": "stream",
     "text": [
      "152/152 [==============================] - 4s 21ms/step\n",
      "65/65 [==============================] - 1s 19ms/step\n"
     ]
    },
    {
     "name": "stderr",
     "output_type": "stream",
     "text": [
      "D:\\Anaconda\\lib\\site-packages\\pandas\\core\\frame.py:3678: SettingWithCopyWarning: \n",
      "A value is trying to be set on a copy of a slice from a DataFrame.\n",
      "Try using .loc[row_indexer,col_indexer] = value instead\n",
      "\n",
      "See the caveats in the documentation: https://pandas.pydata.org/pandas-docs/stable/user_guide/indexing.html#returning-a-view-versus-a-copy\n",
      "  self[col] = igetitem(value, i)\n"
     ]
    },
    {
     "name": "stdout",
     "output_type": "stream",
     "text": [
      "Epoch 1/15\n",
      "152/152 [==============================] - 11s 56ms/step - loss: 1.3142 - val_loss: 0.2462\n",
      "Epoch 2/15\n",
      "152/152 [==============================] - 8s 54ms/step - loss: 1.3061 - val_loss: 0.2421\n",
      "Epoch 3/15\n",
      "152/152 [==============================] - 8s 53ms/step - loss: 1.3056 - val_loss: 0.2399\n",
      "Epoch 4/15\n",
      "152/152 [==============================] - 8s 53ms/step - loss: 1.3047 - val_loss: 0.2383\n",
      "Epoch 5/15\n",
      "152/152 [==============================] - 8s 53ms/step - loss: 1.3052 - val_loss: 0.2370\n",
      "Epoch 6/15\n",
      "152/152 [==============================] - 8s 53ms/step - loss: 1.3042 - val_loss: 0.2421\n",
      "Epoch 7/15\n",
      "152/152 [==============================] - 8s 53ms/step - loss: 1.3048 - val_loss: 0.2424\n",
      "Epoch 8/15\n",
      "152/152 [==============================] - 8s 52ms/step - loss: 1.3042 - val_loss: 0.2449\n",
      "Epoch 9/15\n",
      "152/152 [==============================] - 8s 52ms/step - loss: 1.3033 - val_loss: 0.2358\n",
      "Epoch 10/15\n",
      "152/152 [==============================] - 8s 53ms/step - loss: 1.3043 - val_loss: 0.2353\n",
      "Epoch 11/15\n",
      "152/152 [==============================] - 8s 53ms/step - loss: 1.3026 - val_loss: 0.2407\n",
      "Epoch 12/15\n",
      "152/152 [==============================] - 8s 53ms/step - loss: 1.3028 - val_loss: 0.2358\n",
      "Epoch 13/15\n",
      "152/152 [==============================] - 8s 52ms/step - loss: 1.3025 - val_loss: 0.2377\n",
      "Epoch 14/15\n",
      "152/152 [==============================] - 8s 52ms/step - loss: 1.3039 - val_loss: 0.2370\n",
      "Epoch 15/15\n",
      "152/152 [==============================] - 8s 53ms/step - loss: 1.3032 - val_loss: 0.2351\n"
     ]
    },
    {
     "name": "stderr",
     "output_type": "stream",
     "text": [
      "WARNING:absl:Found untraced functions such as lstm_cell_126_layer_call_fn, lstm_cell_126_layer_call_and_return_conditional_losses while saving (showing 2 of 2). These functions will not be directly callable after loading.\n"
     ]
    },
    {
     "name": "stdout",
     "output_type": "stream",
     "text": [
      "INFO:tensorflow:Assets written to: Hybrid Univarite2/month2_6_step_lookahead_Hybrid\\assets\n"
     ]
    },
    {
     "name": "stderr",
     "output_type": "stream",
     "text": [
      "INFO:tensorflow:Assets written to: Hybrid Univarite2/month2_6_step_lookahead_Hybrid\\assets\n",
      "WARNING:absl:<keras.layers.recurrent.LSTMCell object at 0x000001C4BE2D2100> has the same name 'LSTMCell' as a built-in Keras object. Consider renaming <class 'keras.layers.recurrent.LSTMCell'> to avoid naming conflicts when loading with `tf.keras.models.load_model`. If renaming is not possible, pass the object in the `custom_objects` parameter of the load function.\n"
     ]
    },
    {
     "name": "stdout",
     "output_type": "stream",
     "text": [
      "152/152 [==============================] - 3s 20ms/step\n",
      "65/65 [==============================] - 1s 20ms/step\n"
     ]
    },
    {
     "name": "stderr",
     "output_type": "stream",
     "text": [
      "D:\\Anaconda\\lib\\site-packages\\pandas\\core\\frame.py:3678: SettingWithCopyWarning: \n",
      "A value is trying to be set on a copy of a slice from a DataFrame.\n",
      "Try using .loc[row_indexer,col_indexer] = value instead\n",
      "\n",
      "See the caveats in the documentation: https://pandas.pydata.org/pandas-docs/stable/user_guide/indexing.html#returning-a-view-versus-a-copy\n",
      "  self[col] = igetitem(value, i)\n"
     ]
    },
    {
     "name": "stdout",
     "output_type": "stream",
     "text": [
      "Epoch 1/15\n",
      "152/152 [==============================] - 11s 57ms/step - loss: 1.3558 - val_loss: 0.2547\n",
      "Epoch 2/15\n",
      "152/152 [==============================] - 8s 53ms/step - loss: 1.3089 - val_loss: 0.2451\n",
      "Epoch 3/15\n",
      "152/152 [==============================] - 8s 52ms/step - loss: 1.3071 - val_loss: 0.2429\n",
      "Epoch 4/15\n",
      "152/152 [==============================] - 8s 54ms/step - loss: 1.3059 - val_loss: 0.2412\n",
      "Epoch 5/15\n",
      "152/152 [==============================] - 8s 53ms/step - loss: 1.3054 - val_loss: 0.2392\n",
      "Epoch 6/15\n",
      "152/152 [==============================] - 8s 52ms/step - loss: 1.3049 - val_loss: 0.2401\n",
      "Epoch 7/15\n",
      "152/152 [==============================] - 8s 52ms/step - loss: 1.3049 - val_loss: 0.2382\n",
      "Epoch 8/15\n",
      "152/152 [==============================] - 8s 53ms/step - loss: 1.3053 - val_loss: 0.2379\n",
      "Epoch 9/15\n",
      "152/152 [==============================] - 8s 52ms/step - loss: 1.3050 - val_loss: 0.2369\n",
      "Epoch 10/15\n",
      "152/152 [==============================] - 8s 52ms/step - loss: 1.3041 - val_loss: 0.2374\n",
      "Epoch 11/15\n",
      "152/152 [==============================] - 8s 52ms/step - loss: 1.3042 - val_loss: 0.2382\n",
      "Epoch 12/15\n",
      "152/152 [==============================] - 8s 52ms/step - loss: 1.3045 - val_loss: 0.2371\n",
      "Epoch 13/15\n",
      "152/152 [==============================] - 8s 54ms/step - loss: 1.3041 - val_loss: 0.2377\n",
      "Epoch 14/15\n",
      "152/152 [==============================] - 9s 58ms/step - loss: 1.3035 - val_loss: 0.2409\n",
      "Epoch 15/15\n",
      "152/152 [==============================] - 8s 54ms/step - loss: 1.3054 - val_loss: 0.2376\n"
     ]
    },
    {
     "name": "stderr",
     "output_type": "stream",
     "text": [
      "WARNING:absl:Found untraced functions such as lstm_cell_127_layer_call_fn, lstm_cell_127_layer_call_and_return_conditional_losses while saving (showing 2 of 2). These functions will not be directly callable after loading.\n"
     ]
    },
    {
     "name": "stdout",
     "output_type": "stream",
     "text": [
      "INFO:tensorflow:Assets written to: Hybrid Univarite2/month2_7_step_lookahead_Hybrid\\assets\n"
     ]
    },
    {
     "name": "stderr",
     "output_type": "stream",
     "text": [
      "INFO:tensorflow:Assets written to: Hybrid Univarite2/month2_7_step_lookahead_Hybrid\\assets\n",
      "WARNING:absl:<keras.layers.recurrent.LSTMCell object at 0x000001C4CDC2F940> has the same name 'LSTMCell' as a built-in Keras object. Consider renaming <class 'keras.layers.recurrent.LSTMCell'> to avoid naming conflicts when loading with `tf.keras.models.load_model`. If renaming is not possible, pass the object in the `custom_objects` parameter of the load function.\n"
     ]
    },
    {
     "name": "stdout",
     "output_type": "stream",
     "text": [
      "152/152 [==============================] - 4s 21ms/step\n",
      "65/65 [==============================] - 1s 19ms/step\n"
     ]
    },
    {
     "name": "stderr",
     "output_type": "stream",
     "text": [
      "D:\\Anaconda\\lib\\site-packages\\pandas\\core\\frame.py:3678: SettingWithCopyWarning: \n",
      "A value is trying to be set on a copy of a slice from a DataFrame.\n",
      "Try using .loc[row_indexer,col_indexer] = value instead\n",
      "\n",
      "See the caveats in the documentation: https://pandas.pydata.org/pandas-docs/stable/user_guide/indexing.html#returning-a-view-versus-a-copy\n",
      "  self[col] = igetitem(value, i)\n"
     ]
    },
    {
     "name": "stdout",
     "output_type": "stream",
     "text": [
      "Epoch 1/15\n",
      "152/152 [==============================] - 11s 56ms/step - loss: 1.3238 - val_loss: 0.2488\n",
      "Epoch 2/15\n",
      "152/152 [==============================] - 8s 53ms/step - loss: 1.3207 - val_loss: 0.2464\n",
      "Epoch 3/15\n",
      "152/152 [==============================] - 8s 54ms/step - loss: 1.3207 - val_loss: 0.2450\n",
      "Epoch 4/15\n",
      "152/152 [==============================] - 8s 54ms/step - loss: 1.3206 - val_loss: 0.2434\n",
      "Epoch 5/15\n",
      "152/152 [==============================] - 8s 53ms/step - loss: 1.3198 - val_loss: 0.2454\n",
      "Epoch 6/15\n",
      "152/152 [==============================] - 8s 53ms/step - loss: 1.3204 - val_loss: 0.2466\n",
      "Epoch 7/15\n",
      "152/152 [==============================] - 8s 52ms/step - loss: 1.3202 - val_loss: 0.2452\n",
      "Epoch 8/15\n",
      "152/152 [==============================] - 8s 52ms/step - loss: 1.3192 - val_loss: 0.2521\n",
      "Epoch 9/15\n",
      "152/152 [==============================] - 8s 53ms/step - loss: 1.3197 - val_loss: 0.2478\n",
      "Epoch 10/15\n",
      "152/152 [==============================] - 8s 53ms/step - loss: 1.3203 - val_loss: 0.2434\n",
      "Epoch 11/15\n",
      "152/152 [==============================] - 8s 54ms/step - loss: 1.3193 - val_loss: 0.2439\n",
      "Epoch 12/15\n",
      "152/152 [==============================] - 8s 54ms/step - loss: 1.3185 - val_loss: 0.2466\n",
      "Epoch 13/15\n",
      "152/152 [==============================] - 8s 53ms/step - loss: 1.3194 - val_loss: 0.2434\n",
      "Epoch 14/15\n",
      "152/152 [==============================] - 8s 54ms/step - loss: 1.3184 - val_loss: 0.2450\n",
      "Epoch 15/15\n",
      "152/152 [==============================] - 8s 54ms/step - loss: 1.3188 - val_loss: 0.2472\n"
     ]
    },
    {
     "name": "stderr",
     "output_type": "stream",
     "text": [
      "WARNING:absl:Found untraced functions such as lstm_cell_128_layer_call_fn, lstm_cell_128_layer_call_and_return_conditional_losses while saving (showing 2 of 2). These functions will not be directly callable after loading.\n"
     ]
    },
    {
     "name": "stdout",
     "output_type": "stream",
     "text": [
      "INFO:tensorflow:Assets written to: Hybrid Univarite2/month2_8_step_lookahead_Hybrid\\assets\n"
     ]
    },
    {
     "name": "stderr",
     "output_type": "stream",
     "text": [
      "INFO:tensorflow:Assets written to: Hybrid Univarite2/month2_8_step_lookahead_Hybrid\\assets\n",
      "WARNING:absl:<keras.layers.recurrent.LSTMCell object at 0x000001C4CDBC7C70> has the same name 'LSTMCell' as a built-in Keras object. Consider renaming <class 'keras.layers.recurrent.LSTMCell'> to avoid naming conflicts when loading with `tf.keras.models.load_model`. If renaming is not possible, pass the object in the `custom_objects` parameter of the load function.\n"
     ]
    },
    {
     "name": "stdout",
     "output_type": "stream",
     "text": [
      "152/152 [==============================] - 4s 21ms/step\n",
      "65/65 [==============================] - 1s 19ms/step\n"
     ]
    },
    {
     "name": "stderr",
     "output_type": "stream",
     "text": [
      "D:\\Anaconda\\lib\\site-packages\\pandas\\core\\frame.py:3678: SettingWithCopyWarning: \n",
      "A value is trying to be set on a copy of a slice from a DataFrame.\n",
      "Try using .loc[row_indexer,col_indexer] = value instead\n",
      "\n",
      "See the caveats in the documentation: https://pandas.pydata.org/pandas-docs/stable/user_guide/indexing.html#returning-a-view-versus-a-copy\n",
      "  self[col] = igetitem(value, i)\n"
     ]
    },
    {
     "name": "stdout",
     "output_type": "stream",
     "text": [
      "Epoch 1/15\n",
      "152/152 [==============================] - 11s 60ms/step - loss: 1.3260 - val_loss: 0.2449\n",
      "Epoch 2/15\n",
      "152/152 [==============================] - 9s 59ms/step - loss: 1.3204 - val_loss: 0.2509\n",
      "Epoch 3/15\n",
      "152/152 [==============================] - 9s 56ms/step - loss: 1.3204 - val_loss: 0.2436\n",
      "Epoch 4/15\n",
      "152/152 [==============================] - 8s 56ms/step - loss: 1.3199 - val_loss: 0.2430\n",
      "Epoch 5/15\n",
      "152/152 [==============================] - 8s 56ms/step - loss: 1.3197 - val_loss: 0.2434\n",
      "Epoch 6/15\n",
      "152/152 [==============================] - 8s 55ms/step - loss: 1.3196 - val_loss: 0.2435\n",
      "Epoch 7/15\n",
      "152/152 [==============================] - 8s 54ms/step - loss: 1.3194 - val_loss: 0.2443\n",
      "Epoch 8/15\n",
      "152/152 [==============================] - 8s 54ms/step - loss: 1.3199 - val_loss: 0.2445\n",
      "Epoch 9/15\n",
      "152/152 [==============================] - 8s 55ms/step - loss: 1.3191 - val_loss: 0.2427\n",
      "Epoch 10/15\n",
      "152/152 [==============================] - 8s 56ms/step - loss: 1.3183 - val_loss: 0.2428\n",
      "Epoch 11/15\n",
      "152/152 [==============================] - 8s 55ms/step - loss: 1.3200 - val_loss: 0.2443\n",
      "Epoch 12/15\n",
      "152/152 [==============================] - 8s 54ms/step - loss: 1.3181 - val_loss: 0.2541\n",
      "Epoch 13/15\n",
      "152/152 [==============================] - 8s 54ms/step - loss: 1.3205 - val_loss: 0.2433\n",
      "Epoch 14/15\n",
      "152/152 [==============================] - 8s 55ms/step - loss: 1.3186 - val_loss: 0.2431\n",
      "Epoch 15/15\n",
      "152/152 [==============================] - 8s 55ms/step - loss: 1.3185 - val_loss: 0.2539\n"
     ]
    },
    {
     "name": "stderr",
     "output_type": "stream",
     "text": [
      "WARNING:absl:Found untraced functions such as lstm_cell_129_layer_call_fn, lstm_cell_129_layer_call_and_return_conditional_losses while saving (showing 2 of 2). These functions will not be directly callable after loading.\n"
     ]
    },
    {
     "name": "stdout",
     "output_type": "stream",
     "text": [
      "INFO:tensorflow:Assets written to: Hybrid Univarite2/month2_9_step_lookahead_Hybrid\\assets\n"
     ]
    },
    {
     "name": "stderr",
     "output_type": "stream",
     "text": [
      "INFO:tensorflow:Assets written to: Hybrid Univarite2/month2_9_step_lookahead_Hybrid\\assets\n",
      "WARNING:absl:<keras.layers.recurrent.LSTMCell object at 0x000001C4CB27ACA0> has the same name 'LSTMCell' as a built-in Keras object. Consider renaming <class 'keras.layers.recurrent.LSTMCell'> to avoid naming conflicts when loading with `tf.keras.models.load_model`. If renaming is not possible, pass the object in the `custom_objects` parameter of the load function.\n"
     ]
    },
    {
     "name": "stdout",
     "output_type": "stream",
     "text": [
      "152/152 [==============================] - 4s 23ms/step\n",
      "65/65 [==============================] - 1s 20ms/step\n"
     ]
    },
    {
     "name": "stderr",
     "output_type": "stream",
     "text": [
      "D:\\Anaconda\\lib\\site-packages\\pandas\\core\\frame.py:3678: SettingWithCopyWarning: \n",
      "A value is trying to be set on a copy of a slice from a DataFrame.\n",
      "Try using .loc[row_indexer,col_indexer] = value instead\n",
      "\n",
      "See the caveats in the documentation: https://pandas.pydata.org/pandas-docs/stable/user_guide/indexing.html#returning-a-view-versus-a-copy\n",
      "  self[col] = igetitem(value, i)\n"
     ]
    },
    {
     "name": "stdout",
     "output_type": "stream",
     "text": [
      "Epoch 1/15\n",
      "151/151 [==============================] - 11s 58ms/step - loss: 1.3568 - val_loss: 0.2510\n",
      "Epoch 2/15\n",
      "151/151 [==============================] - 8s 53ms/step - loss: 1.3218 - val_loss: 0.2451\n",
      "Epoch 3/15\n",
      "151/151 [==============================] - 8s 54ms/step - loss: 1.3211 - val_loss: 0.2449\n",
      "Epoch 4/15\n",
      "151/151 [==============================] - 8s 54ms/step - loss: 1.3204 - val_loss: 0.2436\n",
      "Epoch 5/15\n",
      "151/151 [==============================] - 8s 54ms/step - loss: 1.3204 - val_loss: 0.2412\n",
      "Epoch 6/15\n",
      "151/151 [==============================] - 8s 54ms/step - loss: 1.3199 - val_loss: 0.2430\n",
      "Epoch 7/15\n",
      "151/151 [==============================] - 8s 53ms/step - loss: 1.3203 - val_loss: 0.2429\n",
      "Epoch 8/15\n",
      "151/151 [==============================] - 9s 57ms/step - loss: 1.3205 - val_loss: 0.2420\n",
      "Epoch 9/15\n",
      "151/151 [==============================] - 8s 53ms/step - loss: 1.3198 - val_loss: 0.2455\n",
      "Epoch 10/15\n",
      "151/151 [==============================] - 8s 53ms/step - loss: 1.3195 - val_loss: 0.2492\n",
      "Epoch 11/15\n",
      "151/151 [==============================] - 8s 53ms/step - loss: 1.3198 - val_loss: 0.2431\n",
      "Epoch 12/15\n",
      "151/151 [==============================] - 8s 54ms/step - loss: 1.3188 - val_loss: 0.2424\n",
      "Epoch 13/15\n",
      "151/151 [==============================] - 8s 52ms/step - loss: 1.3183 - val_loss: 0.2457\n",
      "Epoch 14/15\n",
      "151/151 [==============================] - 8s 52ms/step - loss: 1.3182 - val_loss: 0.2416\n",
      "Epoch 15/15\n",
      "151/151 [==============================] - 9s 56ms/step - loss: 1.3184 - val_loss: 0.2455\n"
     ]
    },
    {
     "name": "stderr",
     "output_type": "stream",
     "text": [
      "WARNING:absl:Found untraced functions such as lstm_cell_130_layer_call_fn, lstm_cell_130_layer_call_and_return_conditional_losses while saving (showing 2 of 2). These functions will not be directly callable after loading.\n"
     ]
    },
    {
     "name": "stdout",
     "output_type": "stream",
     "text": [
      "INFO:tensorflow:Assets written to: Hybrid Univarite2/month2_10_step_lookahead_Hybrid\\assets\n"
     ]
    },
    {
     "name": "stderr",
     "output_type": "stream",
     "text": [
      "INFO:tensorflow:Assets written to: Hybrid Univarite2/month2_10_step_lookahead_Hybrid\\assets\n",
      "WARNING:absl:<keras.layers.recurrent.LSTMCell object at 0x000001C4BA8492E0> has the same name 'LSTMCell' as a built-in Keras object. Consider renaming <class 'keras.layers.recurrent.LSTMCell'> to avoid naming conflicts when loading with `tf.keras.models.load_model`. If renaming is not possible, pass the object in the `custom_objects` parameter of the load function.\n"
     ]
    },
    {
     "name": "stdout",
     "output_type": "stream",
     "text": [
      "151/151 [==============================] - 4s 21ms/step\n",
      "65/65 [==============================] - 2s 19ms/step\n"
     ]
    },
    {
     "name": "stderr",
     "output_type": "stream",
     "text": [
      "D:\\Anaconda\\lib\\site-packages\\pandas\\core\\frame.py:3678: SettingWithCopyWarning: \n",
      "A value is trying to be set on a copy of a slice from a DataFrame.\n",
      "Try using .loc[row_indexer,col_indexer] = value instead\n",
      "\n",
      "See the caveats in the documentation: https://pandas.pydata.org/pandas-docs/stable/user_guide/indexing.html#returning-a-view-versus-a-copy\n",
      "  self[col] = igetitem(value, i)\n",
      "D:\\Anaconda\\lib\\site-packages\\pandas\\core\\frame.py:3678: SettingWithCopyWarning: \n",
      "A value is trying to be set on a copy of a slice from a DataFrame.\n",
      "Try using .loc[row_indexer,col_indexer] = value instead\n",
      "\n",
      "See the caveats in the documentation: https://pandas.pydata.org/pandas-docs/stable/user_guide/indexing.html#returning-a-view-versus-a-copy\n",
      "  self[col] = igetitem(value, i)\n"
     ]
    },
    {
     "name": "stdout",
     "output_type": "stream",
     "text": [
      "Epoch 1/15\n",
      "133/133 [==============================] - 10s 57ms/step - loss: 0.1842 - val_loss: 0.0213\n",
      "Epoch 2/15\n",
      "133/133 [==============================] - 7s 52ms/step - loss: 0.1428 - val_loss: 0.0217\n",
      "Epoch 3/15\n",
      "133/133 [==============================] - 7s 54ms/step - loss: 0.1327 - val_loss: 0.0202\n",
      "Epoch 4/15\n",
      "133/133 [==============================] - 7s 54ms/step - loss: 0.1267 - val_loss: 0.0188\n",
      "Epoch 5/15\n",
      "133/133 [==============================] - 7s 53ms/step - loss: 0.1235 - val_loss: 0.0184\n",
      "Epoch 6/15\n",
      "133/133 [==============================] - 7s 52ms/step - loss: 0.1201 - val_loss: 0.0186\n",
      "Epoch 7/15\n",
      "133/133 [==============================] - 7s 54ms/step - loss: 0.1186 - val_loss: 0.0178\n",
      "Epoch 8/15\n",
      "133/133 [==============================] - 7s 53ms/step - loss: 0.1160 - val_loss: 0.0188\n",
      "Epoch 9/15\n",
      "133/133 [==============================] - 7s 52ms/step - loss: 0.1143 - val_loss: 0.0176\n",
      "Epoch 10/15\n",
      "133/133 [==============================] - 7s 52ms/step - loss: 0.1131 - val_loss: 0.0164\n",
      "Epoch 11/15\n",
      "133/133 [==============================] - 7s 52ms/step - loss: 0.1124 - val_loss: 0.0164\n",
      "Epoch 12/15\n",
      "133/133 [==============================] - 7s 52ms/step - loss: 0.1090 - val_loss: 0.0164\n",
      "Epoch 13/15\n",
      "133/133 [==============================] - 7s 53ms/step - loss: 0.1104 - val_loss: 0.0154\n",
      "Epoch 14/15\n",
      "133/133 [==============================] - 7s 55ms/step - loss: 0.1091 - val_loss: 0.0176\n",
      "Epoch 15/15\n",
      "133/133 [==============================] - 7s 54ms/step - loss: 0.1084 - val_loss: 0.0156\n"
     ]
    },
    {
     "name": "stderr",
     "output_type": "stream",
     "text": [
      "WARNING:absl:Found untraced functions such as lstm_cell_131_layer_call_fn, lstm_cell_131_layer_call_and_return_conditional_losses while saving (showing 2 of 2). These functions will not be directly callable after loading.\n"
     ]
    },
    {
     "name": "stdout",
     "output_type": "stream",
     "text": [
      "INFO:tensorflow:Assets written to: Hybrid Univarite2/month3_1_step_lookahead_Hybrid\\assets\n"
     ]
    },
    {
     "name": "stderr",
     "output_type": "stream",
     "text": [
      "INFO:tensorflow:Assets written to: Hybrid Univarite2/month3_1_step_lookahead_Hybrid\\assets\n",
      "WARNING:absl:<keras.layers.recurrent.LSTMCell object at 0x000001C4CADBC370> has the same name 'LSTMCell' as a built-in Keras object. Consider renaming <class 'keras.layers.recurrent.LSTMCell'> to avoid naming conflicts when loading with `tf.keras.models.load_model`. If renaming is not possible, pass the object in the `custom_objects` parameter of the load function.\n"
     ]
    },
    {
     "name": "stdout",
     "output_type": "stream",
     "text": [
      "133/133 [==============================] - 3s 22ms/step\n",
      "57/57 [==============================] - 1s 20ms/step\n"
     ]
    },
    {
     "name": "stderr",
     "output_type": "stream",
     "text": [
      "D:\\Anaconda\\lib\\site-packages\\pandas\\core\\frame.py:3678: SettingWithCopyWarning: \n",
      "A value is trying to be set on a copy of a slice from a DataFrame.\n",
      "Try using .loc[row_indexer,col_indexer] = value instead\n",
      "\n",
      "See the caveats in the documentation: https://pandas.pydata.org/pandas-docs/stable/user_guide/indexing.html#returning-a-view-versus-a-copy\n",
      "  self[col] = igetitem(value, i)\n"
     ]
    },
    {
     "name": "stdout",
     "output_type": "stream",
     "text": [
      "Epoch 1/15\n",
      "133/133 [==============================] - 10s 60ms/step - loss: 0.4489 - val_loss: 0.0369\n",
      "Epoch 2/15\n",
      "133/133 [==============================] - 7s 53ms/step - loss: 0.1759 - val_loss: 0.0263\n",
      "Epoch 3/15\n",
      "133/133 [==============================] - 7s 54ms/step - loss: 0.1535 - val_loss: 0.0222\n",
      "Epoch 4/15\n",
      "133/133 [==============================] - 7s 54ms/step - loss: 0.1417 - val_loss: 0.0209\n",
      "Epoch 5/15\n",
      "133/133 [==============================] - 7s 53ms/step - loss: 0.1342 - val_loss: 0.0203\n",
      "Epoch 6/15\n",
      "133/133 [==============================] - 7s 54ms/step - loss: 0.1289 - val_loss: 0.0201\n",
      "Epoch 7/15\n",
      "133/133 [==============================] - 7s 53ms/step - loss: 0.1248 - val_loss: 0.0204\n",
      "Epoch 8/15\n",
      "133/133 [==============================] - 7s 52ms/step - loss: 0.1225 - val_loss: 0.0189\n",
      "Epoch 9/15\n",
      "133/133 [==============================] - 7s 53ms/step - loss: 0.1204 - val_loss: 0.0186\n",
      "Epoch 10/15\n",
      "133/133 [==============================] - 7s 53ms/step - loss: 0.1182 - val_loss: 0.0183\n",
      "Epoch 11/15\n",
      "133/133 [==============================] - 7s 53ms/step - loss: 0.1168 - val_loss: 0.0183\n",
      "Epoch 12/15\n",
      "133/133 [==============================] - 7s 53ms/step - loss: 0.1154 - val_loss: 0.0186\n",
      "Epoch 13/15\n",
      "133/133 [==============================] - 7s 53ms/step - loss: 0.1144 - val_loss: 0.0178\n",
      "Epoch 14/15\n",
      "133/133 [==============================] - 7s 53ms/step - loss: 0.1134 - val_loss: 0.0175\n",
      "Epoch 15/15\n",
      "133/133 [==============================] - 7s 52ms/step - loss: 0.1134 - val_loss: 0.0178\n"
     ]
    },
    {
     "name": "stderr",
     "output_type": "stream",
     "text": [
      "WARNING:absl:Found untraced functions such as lstm_cell_132_layer_call_fn, lstm_cell_132_layer_call_and_return_conditional_losses while saving (showing 2 of 2). These functions will not be directly callable after loading.\n"
     ]
    },
    {
     "name": "stdout",
     "output_type": "stream",
     "text": [
      "INFO:tensorflow:Assets written to: Hybrid Univarite2/month3_2_step_lookahead_Hybrid\\assets\n"
     ]
    },
    {
     "name": "stderr",
     "output_type": "stream",
     "text": [
      "INFO:tensorflow:Assets written to: Hybrid Univarite2/month3_2_step_lookahead_Hybrid\\assets\n",
      "WARNING:absl:<keras.layers.recurrent.LSTMCell object at 0x000001C4BCE3AD00> has the same name 'LSTMCell' as a built-in Keras object. Consider renaming <class 'keras.layers.recurrent.LSTMCell'> to avoid naming conflicts when loading with `tf.keras.models.load_model`. If renaming is not possible, pass the object in the `custom_objects` parameter of the load function.\n"
     ]
    },
    {
     "name": "stdout",
     "output_type": "stream",
     "text": [
      "133/133 [==============================] - 3s 22ms/step\n",
      "57/57 [==============================] - 1s 20ms/step\n"
     ]
    },
    {
     "name": "stderr",
     "output_type": "stream",
     "text": [
      "D:\\Anaconda\\lib\\site-packages\\pandas\\core\\frame.py:3678: SettingWithCopyWarning: \n",
      "A value is trying to be set on a copy of a slice from a DataFrame.\n",
      "Try using .loc[row_indexer,col_indexer] = value instead\n",
      "\n",
      "See the caveats in the documentation: https://pandas.pydata.org/pandas-docs/stable/user_guide/indexing.html#returning-a-view-versus-a-copy\n",
      "  self[col] = igetitem(value, i)\n"
     ]
    },
    {
     "name": "stdout",
     "output_type": "stream",
     "text": [
      "Epoch 1/15\n",
      "133/133 [==============================] - 10s 58ms/step - loss: 0.1327 - val_loss: 0.0184\n",
      "Epoch 2/15\n",
      "133/133 [==============================] - 7s 54ms/step - loss: 0.1228 - val_loss: 0.0171\n",
      "Epoch 3/15\n",
      "133/133 [==============================] - 7s 53ms/step - loss: 0.1182 - val_loss: 0.0174\n",
      "Epoch 4/15\n",
      "133/133 [==============================] - 7s 54ms/step - loss: 0.1155 - val_loss: 0.0171\n",
      "Epoch 5/15\n",
      "133/133 [==============================] - 7s 55ms/step - loss: 0.1138 - val_loss: 0.0175\n",
      "Epoch 6/15\n",
      "133/133 [==============================] - 7s 52ms/step - loss: 0.1134 - val_loss: 0.0173\n",
      "Epoch 7/15\n",
      "133/133 [==============================] - 7s 53ms/step - loss: 0.1111 - val_loss: 0.0177\n",
      "Epoch 8/15\n",
      "133/133 [==============================] - 7s 54ms/step - loss: 0.1118 - val_loss: 0.0173\n",
      "Epoch 9/15\n",
      "133/133 [==============================] - 7s 56ms/step - loss: 0.1103 - val_loss: 0.0180\n",
      "Epoch 10/15\n",
      "133/133 [==============================] - 7s 52ms/step - loss: 0.1094 - val_loss: 0.0174\n",
      "Epoch 11/15\n",
      "133/133 [==============================] - 7s 53ms/step - loss: 0.1098 - val_loss: 0.0192\n",
      "Epoch 12/15\n",
      "133/133 [==============================] - 7s 53ms/step - loss: 0.1082 - val_loss: 0.0180\n",
      "Epoch 13/15\n",
      "133/133 [==============================] - 7s 52ms/step - loss: 0.1088 - val_loss: 0.0174\n",
      "Epoch 14/15\n",
      "133/133 [==============================] - 7s 53ms/step - loss: 0.1086 - val_loss: 0.0174\n",
      "Epoch 15/15\n",
      "133/133 [==============================] - 7s 52ms/step - loss: 0.1083 - val_loss: 0.0171\n"
     ]
    },
    {
     "name": "stderr",
     "output_type": "stream",
     "text": [
      "WARNING:absl:Found untraced functions such as lstm_cell_133_layer_call_fn, lstm_cell_133_layer_call_and_return_conditional_losses while saving (showing 2 of 2). These functions will not be directly callable after loading.\n"
     ]
    },
    {
     "name": "stdout",
     "output_type": "stream",
     "text": [
      "INFO:tensorflow:Assets written to: Hybrid Univarite2/month3_3_step_lookahead_Hybrid\\assets\n"
     ]
    },
    {
     "name": "stderr",
     "output_type": "stream",
     "text": [
      "INFO:tensorflow:Assets written to: Hybrid Univarite2/month3_3_step_lookahead_Hybrid\\assets\n",
      "WARNING:absl:<keras.layers.recurrent.LSTMCell object at 0x000001C4BAC03430> has the same name 'LSTMCell' as a built-in Keras object. Consider renaming <class 'keras.layers.recurrent.LSTMCell'> to avoid naming conflicts when loading with `tf.keras.models.load_model`. If renaming is not possible, pass the object in the `custom_objects` parameter of the load function.\n"
     ]
    },
    {
     "name": "stdout",
     "output_type": "stream",
     "text": [
      "133/133 [==============================] - 4s 24ms/step\n",
      "57/57 [==============================] - 1s 21ms/step\n"
     ]
    },
    {
     "name": "stderr",
     "output_type": "stream",
     "text": [
      "D:\\Anaconda\\lib\\site-packages\\pandas\\core\\frame.py:3678: SettingWithCopyWarning: \n",
      "A value is trying to be set on a copy of a slice from a DataFrame.\n",
      "Try using .loc[row_indexer,col_indexer] = value instead\n",
      "\n",
      "See the caveats in the documentation: https://pandas.pydata.org/pandas-docs/stable/user_guide/indexing.html#returning-a-view-versus-a-copy\n",
      "  self[col] = igetitem(value, i)\n"
     ]
    },
    {
     "name": "stdout",
     "output_type": "stream",
     "text": [
      "Epoch 1/15\n",
      "133/133 [==============================] - 11s 60ms/step - loss: 0.2921 - val_loss: 0.0233\n",
      "Epoch 2/15\n",
      "133/133 [==============================] - 7s 55ms/step - loss: 0.1640 - val_loss: 0.0193\n",
      "Epoch 3/15\n",
      "133/133 [==============================] - 7s 52ms/step - loss: 0.1548 - val_loss: 0.0202\n",
      "Epoch 4/15\n",
      "133/133 [==============================] - 7s 52ms/step - loss: 0.1485 - val_loss: 0.0179\n",
      "Epoch 5/15\n",
      "133/133 [==============================] - 7s 53ms/step - loss: 0.1451 - val_loss: 0.0179\n",
      "Epoch 6/15\n",
      "133/133 [==============================] - 7s 52ms/step - loss: 0.1420 - val_loss: 0.0182\n",
      "Epoch 7/15\n",
      "133/133 [==============================] - 7s 52ms/step - loss: 0.1408 - val_loss: 0.0185\n",
      "Epoch 8/15\n",
      "133/133 [==============================] - 7s 53ms/step - loss: 0.1401 - val_loss: 0.0177\n",
      "Epoch 9/15\n",
      "133/133 [==============================] - 7s 53ms/step - loss: 0.1393 - val_loss: 0.0176\n",
      "Epoch 10/15\n",
      "133/133 [==============================] - 7s 53ms/step - loss: 0.1384 - val_loss: 0.0175\n",
      "Epoch 11/15\n",
      "133/133 [==============================] - 7s 52ms/step - loss: 0.1376 - val_loss: 0.0176\n",
      "Epoch 12/15\n",
      "133/133 [==============================] - 7s 52ms/step - loss: 0.1369 - val_loss: 0.0173\n",
      "Epoch 13/15\n",
      "133/133 [==============================] - 7s 52ms/step - loss: 0.1365 - val_loss: 0.0177\n",
      "Epoch 14/15\n",
      "133/133 [==============================] - 7s 54ms/step - loss: 0.1356 - val_loss: 0.0171\n",
      "Epoch 15/15\n",
      "133/133 [==============================] - 7s 55ms/step - loss: 0.1353 - val_loss: 0.0172\n"
     ]
    },
    {
     "name": "stderr",
     "output_type": "stream",
     "text": [
      "WARNING:absl:Found untraced functions such as lstm_cell_134_layer_call_fn, lstm_cell_134_layer_call_and_return_conditional_losses while saving (showing 2 of 2). These functions will not be directly callable after loading.\n"
     ]
    },
    {
     "name": "stdout",
     "output_type": "stream",
     "text": [
      "INFO:tensorflow:Assets written to: Hybrid Univarite2/month3_4_step_lookahead_Hybrid\\assets\n"
     ]
    },
    {
     "name": "stderr",
     "output_type": "stream",
     "text": [
      "INFO:tensorflow:Assets written to: Hybrid Univarite2/month3_4_step_lookahead_Hybrid\\assets\n",
      "WARNING:absl:<keras.layers.recurrent.LSTMCell object at 0x000001C4BCD78A30> has the same name 'LSTMCell' as a built-in Keras object. Consider renaming <class 'keras.layers.recurrent.LSTMCell'> to avoid naming conflicts when loading with `tf.keras.models.load_model`. If renaming is not possible, pass the object in the `custom_objects` parameter of the load function.\n"
     ]
    },
    {
     "name": "stdout",
     "output_type": "stream",
     "text": [
      "133/133 [==============================] - 3s 21ms/step\n",
      "57/57 [==============================] - 1s 20ms/step\n"
     ]
    },
    {
     "name": "stderr",
     "output_type": "stream",
     "text": [
      "D:\\Anaconda\\lib\\site-packages\\pandas\\core\\frame.py:3678: SettingWithCopyWarning: \n",
      "A value is trying to be set on a copy of a slice from a DataFrame.\n",
      "Try using .loc[row_indexer,col_indexer] = value instead\n",
      "\n",
      "See the caveats in the documentation: https://pandas.pydata.org/pandas-docs/stable/user_guide/indexing.html#returning-a-view-versus-a-copy\n",
      "  self[col] = igetitem(value, i)\n"
     ]
    },
    {
     "name": "stdout",
     "output_type": "stream",
     "text": [
      "Epoch 1/15\n",
      "133/133 [==============================] - 10s 58ms/step - loss: 0.1837 - val_loss: 0.0186\n",
      "Epoch 2/15\n",
      "133/133 [==============================] - 7s 53ms/step - loss: 0.1463 - val_loss: 0.0173\n",
      "Epoch 3/15\n",
      "133/133 [==============================] - 7s 52ms/step - loss: 0.1413 - val_loss: 0.0175\n",
      "Epoch 4/15\n",
      "133/133 [==============================] - 7s 53ms/step - loss: 0.1396 - val_loss: 0.0181\n",
      "Epoch 5/15\n",
      "133/133 [==============================] - 7s 53ms/step - loss: 0.1380 - val_loss: 0.0180\n",
      "Epoch 6/15\n",
      "133/133 [==============================] - 7s 52ms/step - loss: 0.1375 - val_loss: 0.0177\n",
      "Epoch 7/15\n",
      "133/133 [==============================] - 7s 52ms/step - loss: 0.1365 - val_loss: 0.0177\n",
      "Epoch 8/15\n",
      "133/133 [==============================] - 7s 53ms/step - loss: 0.1360 - val_loss: 0.0175\n",
      "Epoch 9/15\n",
      "133/133 [==============================] - 7s 53ms/step - loss: 0.1351 - val_loss: 0.0176\n",
      "Epoch 10/15\n",
      "133/133 [==============================] - 7s 52ms/step - loss: 0.1352 - val_loss: 0.0175\n",
      "Epoch 11/15\n",
      "133/133 [==============================] - 7s 52ms/step - loss: 0.1353 - val_loss: 0.0175\n",
      "Epoch 12/15\n",
      "133/133 [==============================] - 7s 51ms/step - loss: 0.1344 - val_loss: 0.0180\n",
      "Epoch 13/15\n",
      "133/133 [==============================] - 7s 52ms/step - loss: 0.1337 - val_loss: 0.0189\n",
      "Epoch 14/15\n",
      "133/133 [==============================] - 7s 52ms/step - loss: 0.1343 - val_loss: 0.0174\n",
      "Epoch 15/15\n",
      "133/133 [==============================] - 8s 58ms/step - loss: 0.1331 - val_loss: 0.0180\n"
     ]
    },
    {
     "name": "stderr",
     "output_type": "stream",
     "text": [
      "WARNING:absl:Found untraced functions such as lstm_cell_135_layer_call_fn, lstm_cell_135_layer_call_and_return_conditional_losses while saving (showing 2 of 2). These functions will not be directly callable after loading.\n"
     ]
    },
    {
     "name": "stdout",
     "output_type": "stream",
     "text": [
      "INFO:tensorflow:Assets written to: Hybrid Univarite2/month3_5_step_lookahead_Hybrid\\assets\n"
     ]
    },
    {
     "name": "stderr",
     "output_type": "stream",
     "text": [
      "INFO:tensorflow:Assets written to: Hybrid Univarite2/month3_5_step_lookahead_Hybrid\\assets\n",
      "WARNING:absl:<keras.layers.recurrent.LSTMCell object at 0x000001C4BB186DF0> has the same name 'LSTMCell' as a built-in Keras object. Consider renaming <class 'keras.layers.recurrent.LSTMCell'> to avoid naming conflicts when loading with `tf.keras.models.load_model`. If renaming is not possible, pass the object in the `custom_objects` parameter of the load function.\n"
     ]
    },
    {
     "name": "stdout",
     "output_type": "stream",
     "text": [
      "133/133 [==============================] - 3s 22ms/step\n",
      "57/57 [==============================] - 1s 20ms/step\n"
     ]
    },
    {
     "name": "stderr",
     "output_type": "stream",
     "text": [
      "D:\\Anaconda\\lib\\site-packages\\pandas\\core\\frame.py:3678: SettingWithCopyWarning: \n",
      "A value is trying to be set on a copy of a slice from a DataFrame.\n",
      "Try using .loc[row_indexer,col_indexer] = value instead\n",
      "\n",
      "See the caveats in the documentation: https://pandas.pydata.org/pandas-docs/stable/user_guide/indexing.html#returning-a-view-versus-a-copy\n",
      "  self[col] = igetitem(value, i)\n"
     ]
    },
    {
     "name": "stdout",
     "output_type": "stream",
     "text": [
      "Epoch 1/15\n",
      "133/133 [==============================] - 10s 57ms/step - loss: 0.2233 - val_loss: 0.0205\n",
      "Epoch 2/15\n",
      "133/133 [==============================] - 7s 52ms/step - loss: 0.1512 - val_loss: 0.0176\n",
      "Epoch 3/15\n",
      "133/133 [==============================] - 7s 52ms/step - loss: 0.1437 - val_loss: 0.0174\n",
      "Epoch 4/15\n",
      "133/133 [==============================] - 7s 52ms/step - loss: 0.1406 - val_loss: 0.0189\n",
      "Epoch 5/15\n",
      "133/133 [==============================] - 7s 52ms/step - loss: 0.1395 - val_loss: 0.0174\n",
      "Epoch 6/15\n",
      "133/133 [==============================] - 7s 52ms/step - loss: 0.1384 - val_loss: 0.0173\n",
      "Epoch 7/15\n",
      "133/133 [==============================] - 7s 53ms/step - loss: 0.1374 - val_loss: 0.0174\n",
      "Epoch 8/15\n",
      "133/133 [==============================] - 7s 54ms/step - loss: 0.1364 - val_loss: 0.0172\n",
      "Epoch 9/15\n",
      "133/133 [==============================] - 7s 52ms/step - loss: 0.1356 - val_loss: 0.0174\n",
      "Epoch 10/15\n",
      "133/133 [==============================] - 7s 52ms/step - loss: 0.1354 - val_loss: 0.0177\n",
      "Epoch 11/15\n",
      "133/133 [==============================] - 7s 52ms/step - loss: 0.1344 - val_loss: 0.0176\n",
      "Epoch 12/15\n",
      "133/133 [==============================] - 7s 53ms/step - loss: 0.1331 - val_loss: 0.0179\n",
      "Epoch 13/15\n",
      "133/133 [==============================] - 7s 52ms/step - loss: 0.1331 - val_loss: 0.0181\n",
      "Epoch 14/15\n",
      "133/133 [==============================] - 7s 52ms/step - loss: 0.1327 - val_loss: 0.0173\n",
      "Epoch 15/15\n",
      "133/133 [==============================] - 7s 52ms/step - loss: 0.1319 - val_loss: 0.0172\n"
     ]
    },
    {
     "name": "stderr",
     "output_type": "stream",
     "text": [
      "WARNING:absl:Found untraced functions such as lstm_cell_136_layer_call_fn, lstm_cell_136_layer_call_and_return_conditional_losses while saving (showing 2 of 2). These functions will not be directly callable after loading.\n"
     ]
    },
    {
     "name": "stdout",
     "output_type": "stream",
     "text": [
      "INFO:tensorflow:Assets written to: Hybrid Univarite2/month3_6_step_lookahead_Hybrid\\assets\n"
     ]
    },
    {
     "name": "stderr",
     "output_type": "stream",
     "text": [
      "INFO:tensorflow:Assets written to: Hybrid Univarite2/month3_6_step_lookahead_Hybrid\\assets\n",
      "WARNING:absl:<keras.layers.recurrent.LSTMCell object at 0x000001C4BA63D8B0> has the same name 'LSTMCell' as a built-in Keras object. Consider renaming <class 'keras.layers.recurrent.LSTMCell'> to avoid naming conflicts when loading with `tf.keras.models.load_model`. If renaming is not possible, pass the object in the `custom_objects` parameter of the load function.\n"
     ]
    },
    {
     "name": "stdout",
     "output_type": "stream",
     "text": [
      "133/133 [==============================] - 3s 21ms/step\n",
      "57/57 [==============================] - 1s 19ms/step\n"
     ]
    },
    {
     "name": "stderr",
     "output_type": "stream",
     "text": [
      "D:\\Anaconda\\lib\\site-packages\\pandas\\core\\frame.py:3678: SettingWithCopyWarning: \n",
      "A value is trying to be set on a copy of a slice from a DataFrame.\n",
      "Try using .loc[row_indexer,col_indexer] = value instead\n",
      "\n",
      "See the caveats in the documentation: https://pandas.pydata.org/pandas-docs/stable/user_guide/indexing.html#returning-a-view-versus-a-copy\n",
      "  self[col] = igetitem(value, i)\n"
     ]
    },
    {
     "name": "stdout",
     "output_type": "stream",
     "text": [
      "Epoch 1/15\n",
      "133/133 [==============================] - 10s 58ms/step - loss: 0.2062 - val_loss: 0.0199\n",
      "Epoch 2/15\n",
      "133/133 [==============================] - 7s 53ms/step - loss: 0.1567 - val_loss: 0.0175\n",
      "Epoch 3/15\n",
      "133/133 [==============================] - 7s 53ms/step - loss: 0.1532 - val_loss: 0.0171\n",
      "Epoch 4/15\n",
      "133/133 [==============================] - 7s 54ms/step - loss: 0.1517 - val_loss: 0.0170\n",
      "Epoch 5/15\n",
      "133/133 [==============================] - 7s 53ms/step - loss: 0.1505 - val_loss: 0.0169\n",
      "Epoch 6/15\n",
      "133/133 [==============================] - 7s 53ms/step - loss: 0.1504 - val_loss: 0.0169\n",
      "Epoch 7/15\n",
      "133/133 [==============================] - 7s 53ms/step - loss: 0.1500 - val_loss: 0.0169\n",
      "Epoch 8/15\n",
      "133/133 [==============================] - 7s 53ms/step - loss: 0.1497 - val_loss: 0.0168\n",
      "Epoch 9/15\n",
      "133/133 [==============================] - 7s 53ms/step - loss: 0.1495 - val_loss: 0.0167\n",
      "Epoch 10/15\n",
      "133/133 [==============================] - 7s 53ms/step - loss: 0.1493 - val_loss: 0.0178\n",
      "Epoch 11/15\n",
      "133/133 [==============================] - 7s 52ms/step - loss: 0.1496 - val_loss: 0.0169\n",
      "Epoch 12/15\n",
      "133/133 [==============================] - 7s 53ms/step - loss: 0.1488 - val_loss: 0.0172\n",
      "Epoch 13/15\n",
      "133/133 [==============================] - 7s 53ms/step - loss: 0.1488 - val_loss: 0.0168\n",
      "Epoch 14/15\n",
      "133/133 [==============================] - 7s 53ms/step - loss: 0.1488 - val_loss: 0.0184\n",
      "Epoch 15/15\n",
      "133/133 [==============================] - 7s 52ms/step - loss: 0.1481 - val_loss: 0.0171\n"
     ]
    },
    {
     "name": "stderr",
     "output_type": "stream",
     "text": [
      "WARNING:absl:Found untraced functions such as lstm_cell_137_layer_call_fn, lstm_cell_137_layer_call_and_return_conditional_losses while saving (showing 2 of 2). These functions will not be directly callable after loading.\n"
     ]
    },
    {
     "name": "stdout",
     "output_type": "stream",
     "text": [
      "INFO:tensorflow:Assets written to: Hybrid Univarite2/month3_7_step_lookahead_Hybrid\\assets\n"
     ]
    },
    {
     "name": "stderr",
     "output_type": "stream",
     "text": [
      "INFO:tensorflow:Assets written to: Hybrid Univarite2/month3_7_step_lookahead_Hybrid\\assets\n",
      "WARNING:absl:<keras.layers.recurrent.LSTMCell object at 0x000001C4BE93D160> has the same name 'LSTMCell' as a built-in Keras object. Consider renaming <class 'keras.layers.recurrent.LSTMCell'> to avoid naming conflicts when loading with `tf.keras.models.load_model`. If renaming is not possible, pass the object in the `custom_objects` parameter of the load function.\n"
     ]
    },
    {
     "name": "stdout",
     "output_type": "stream",
     "text": [
      "133/133 [==============================] - 3s 21ms/step\n",
      "57/57 [==============================] - 1s 19ms/step\n"
     ]
    },
    {
     "name": "stderr",
     "output_type": "stream",
     "text": [
      "D:\\Anaconda\\lib\\site-packages\\pandas\\core\\frame.py:3678: SettingWithCopyWarning: \n",
      "A value is trying to be set on a copy of a slice from a DataFrame.\n",
      "Try using .loc[row_indexer,col_indexer] = value instead\n",
      "\n",
      "See the caveats in the documentation: https://pandas.pydata.org/pandas-docs/stable/user_guide/indexing.html#returning-a-view-versus-a-copy\n",
      "  self[col] = igetitem(value, i)\n"
     ]
    },
    {
     "name": "stdout",
     "output_type": "stream",
     "text": [
      "Epoch 1/15\n",
      "133/133 [==============================] - 10s 57ms/step - loss: 0.2163 - val_loss: 0.0203\n",
      "Epoch 2/15\n",
      "133/133 [==============================] - 7s 52ms/step - loss: 0.1599 - val_loss: 0.0174\n",
      "Epoch 3/15\n",
      "133/133 [==============================] - 7s 53ms/step - loss: 0.1547 - val_loss: 0.0172\n",
      "Epoch 4/15\n",
      "133/133 [==============================] - 7s 53ms/step - loss: 0.1532 - val_loss: 0.0174\n",
      "Epoch 5/15\n",
      "133/133 [==============================] - 7s 52ms/step - loss: 0.1517 - val_loss: 0.0172\n",
      "Epoch 6/15\n",
      "133/133 [==============================] - 7s 52ms/step - loss: 0.1507 - val_loss: 0.0178\n",
      "Epoch 7/15\n",
      "133/133 [==============================] - 7s 53ms/step - loss: 0.1506 - val_loss: 0.0171\n",
      "Epoch 8/15\n",
      "133/133 [==============================] - 7s 52ms/step - loss: 0.1502 - val_loss: 0.0181\n",
      "Epoch 9/15\n",
      "133/133 [==============================] - 7s 53ms/step - loss: 0.1505 - val_loss: 0.0169\n",
      "Epoch 10/15\n",
      "133/133 [==============================] - 7s 54ms/step - loss: 0.1496 - val_loss: 0.0169\n",
      "Epoch 11/15\n",
      "133/133 [==============================] - 7s 55ms/step - loss: 0.1498 - val_loss: 0.0168\n",
      "Epoch 12/15\n",
      "133/133 [==============================] - 7s 54ms/step - loss: 0.1490 - val_loss: 0.0170\n",
      "Epoch 13/15\n",
      "133/133 [==============================] - 7s 55ms/step - loss: 0.1498 - val_loss: 0.0166\n",
      "Epoch 14/15\n",
      "133/133 [==============================] - 7s 56ms/step - loss: 0.1493 - val_loss: 0.0167\n",
      "Epoch 15/15\n",
      "133/133 [==============================] - 7s 54ms/step - loss: 0.1492 - val_loss: 0.0184\n"
     ]
    },
    {
     "name": "stderr",
     "output_type": "stream",
     "text": [
      "WARNING:absl:Found untraced functions such as lstm_cell_138_layer_call_fn, lstm_cell_138_layer_call_and_return_conditional_losses while saving (showing 2 of 2). These functions will not be directly callable after loading.\n"
     ]
    },
    {
     "name": "stdout",
     "output_type": "stream",
     "text": [
      "INFO:tensorflow:Assets written to: Hybrid Univarite2/month3_8_step_lookahead_Hybrid\\assets\n"
     ]
    },
    {
     "name": "stderr",
     "output_type": "stream",
     "text": [
      "INFO:tensorflow:Assets written to: Hybrid Univarite2/month3_8_step_lookahead_Hybrid\\assets\n",
      "WARNING:absl:<keras.layers.recurrent.LSTMCell object at 0x000001C4BABEF6D0> has the same name 'LSTMCell' as a built-in Keras object. Consider renaming <class 'keras.layers.recurrent.LSTMCell'> to avoid naming conflicts when loading with `tf.keras.models.load_model`. If renaming is not possible, pass the object in the `custom_objects` parameter of the load function.\n"
     ]
    },
    {
     "name": "stdout",
     "output_type": "stream",
     "text": [
      "133/133 [==============================] - 3s 21ms/step\n",
      "57/57 [==============================] - 1s 20ms/step\n"
     ]
    },
    {
     "name": "stderr",
     "output_type": "stream",
     "text": [
      "D:\\Anaconda\\lib\\site-packages\\pandas\\core\\frame.py:3678: SettingWithCopyWarning: \n",
      "A value is trying to be set on a copy of a slice from a DataFrame.\n",
      "Try using .loc[row_indexer,col_indexer] = value instead\n",
      "\n",
      "See the caveats in the documentation: https://pandas.pydata.org/pandas-docs/stable/user_guide/indexing.html#returning-a-view-versus-a-copy\n",
      "  self[col] = igetitem(value, i)\n"
     ]
    },
    {
     "name": "stdout",
     "output_type": "stream",
     "text": [
      "Epoch 1/15\n",
      "133/133 [==============================] - 10s 59ms/step - loss: 0.2734 - val_loss: 0.0216\n",
      "Epoch 2/15\n",
      "133/133 [==============================] - 7s 55ms/step - loss: 0.1698 - val_loss: 0.0178\n",
      "Epoch 3/15\n",
      "133/133 [==============================] - 7s 53ms/step - loss: 0.1623 - val_loss: 0.0171\n",
      "Epoch 4/15\n",
      "133/133 [==============================] - 7s 53ms/step - loss: 0.1576 - val_loss: 0.0170\n",
      "Epoch 5/15\n",
      "133/133 [==============================] - 7s 52ms/step - loss: 0.1552 - val_loss: 0.0177\n",
      "Epoch 6/15\n",
      "133/133 [==============================] - 7s 52ms/step - loss: 0.1529 - val_loss: 0.0177\n",
      "Epoch 7/15\n",
      "133/133 [==============================] - 7s 53ms/step - loss: 0.1519 - val_loss: 0.0173\n",
      "Epoch 8/15\n",
      "133/133 [==============================] - 7s 53ms/step - loss: 0.1515 - val_loss: 0.0174\n",
      "Epoch 9/15\n",
      "133/133 [==============================] - 7s 56ms/step - loss: 0.1504 - val_loss: 0.0175\n",
      "Epoch 10/15\n",
      "133/133 [==============================] - 7s 52ms/step - loss: 0.1504 - val_loss: 0.0172\n",
      "Epoch 11/15\n",
      "133/133 [==============================] - 7s 52ms/step - loss: 0.1500 - val_loss: 0.0174\n",
      "Epoch 12/15\n",
      "133/133 [==============================] - 7s 52ms/step - loss: 0.1499 - val_loss: 0.0170\n",
      "Epoch 13/15\n",
      "133/133 [==============================] - 7s 53ms/step - loss: 0.1491 - val_loss: 0.0172\n",
      "Epoch 14/15\n",
      "133/133 [==============================] - 7s 53ms/step - loss: 0.1500 - val_loss: 0.0169\n",
      "Epoch 15/15\n",
      "133/133 [==============================] - 7s 54ms/step - loss: 0.1490 - val_loss: 0.0169\n"
     ]
    },
    {
     "name": "stderr",
     "output_type": "stream",
     "text": [
      "WARNING:absl:Found untraced functions such as lstm_cell_139_layer_call_fn, lstm_cell_139_layer_call_and_return_conditional_losses while saving (showing 2 of 2). These functions will not be directly callable after loading.\n"
     ]
    },
    {
     "name": "stdout",
     "output_type": "stream",
     "text": [
      "INFO:tensorflow:Assets written to: Hybrid Univarite2/month3_9_step_lookahead_Hybrid\\assets\n"
     ]
    },
    {
     "name": "stderr",
     "output_type": "stream",
     "text": [
      "INFO:tensorflow:Assets written to: Hybrid Univarite2/month3_9_step_lookahead_Hybrid\\assets\n",
      "WARNING:absl:<keras.layers.recurrent.LSTMCell object at 0x000001C7558BFFA0> has the same name 'LSTMCell' as a built-in Keras object. Consider renaming <class 'keras.layers.recurrent.LSTMCell'> to avoid naming conflicts when loading with `tf.keras.models.load_model`. If renaming is not possible, pass the object in the `custom_objects` parameter of the load function.\n"
     ]
    },
    {
     "name": "stdout",
     "output_type": "stream",
     "text": [
      "133/133 [==============================] - 3s 22ms/step\n",
      "57/57 [==============================] - 1s 20ms/step\n"
     ]
    },
    {
     "name": "stderr",
     "output_type": "stream",
     "text": [
      "D:\\Anaconda\\lib\\site-packages\\pandas\\core\\frame.py:3678: SettingWithCopyWarning: \n",
      "A value is trying to be set on a copy of a slice from a DataFrame.\n",
      "Try using .loc[row_indexer,col_indexer] = value instead\n",
      "\n",
      "See the caveats in the documentation: https://pandas.pydata.org/pandas-docs/stable/user_guide/indexing.html#returning-a-view-versus-a-copy\n",
      "  self[col] = igetitem(value, i)\n"
     ]
    },
    {
     "name": "stdout",
     "output_type": "stream",
     "text": [
      "Epoch 1/15\n",
      "133/133 [==============================] - 11s 60ms/step - loss: 0.1878 - val_loss: 0.0178\n",
      "Epoch 2/15\n",
      "133/133 [==============================] - 7s 55ms/step - loss: 0.1625 - val_loss: 0.0170\n",
      "Epoch 3/15\n",
      "133/133 [==============================] - 7s 55ms/step - loss: 0.1604 - val_loss: 0.0170\n",
      "Epoch 4/15\n",
      "133/133 [==============================] - 7s 53ms/step - loss: 0.1597 - val_loss: 0.0174\n",
      "Epoch 5/15\n",
      "133/133 [==============================] - 7s 54ms/step - loss: 0.1598 - val_loss: 0.0178\n",
      "Epoch 6/15\n",
      "133/133 [==============================] - 7s 53ms/step - loss: 0.1588 - val_loss: 0.0174\n",
      "Epoch 7/15\n",
      "133/133 [==============================] - 7s 54ms/step - loss: 0.1592 - val_loss: 0.0171\n",
      "Epoch 8/15\n",
      "133/133 [==============================] - 7s 54ms/step - loss: 0.1591 - val_loss: 0.0171\n",
      "Epoch 9/15\n",
      "133/133 [==============================] - 7s 54ms/step - loss: 0.1597 - val_loss: 0.0174\n",
      "Epoch 10/15\n",
      "133/133 [==============================] - 7s 54ms/step - loss: 0.1590 - val_loss: 0.0168\n",
      "Epoch 11/15\n",
      "133/133 [==============================] - 7s 54ms/step - loss: 0.1588 - val_loss: 0.0169\n",
      "Epoch 12/15\n",
      "133/133 [==============================] - 7s 53ms/step - loss: 0.1587 - val_loss: 0.0173\n",
      "Epoch 13/15\n",
      "133/133 [==============================] - 7s 53ms/step - loss: 0.1581 - val_loss: 0.0166\n",
      "Epoch 14/15\n",
      "133/133 [==============================] - 7s 53ms/step - loss: 0.1582 - val_loss: 0.0168\n",
      "Epoch 15/15\n",
      "133/133 [==============================] - 7s 53ms/step - loss: 0.1584 - val_loss: 0.0164\n"
     ]
    },
    {
     "name": "stderr",
     "output_type": "stream",
     "text": [
      "WARNING:absl:Found untraced functions such as lstm_cell_140_layer_call_fn, lstm_cell_140_layer_call_and_return_conditional_losses while saving (showing 2 of 2). These functions will not be directly callable after loading.\n"
     ]
    },
    {
     "name": "stdout",
     "output_type": "stream",
     "text": [
      "INFO:tensorflow:Assets written to: Hybrid Univarite2/month3_10_step_lookahead_Hybrid\\assets\n"
     ]
    },
    {
     "name": "stderr",
     "output_type": "stream",
     "text": [
      "INFO:tensorflow:Assets written to: Hybrid Univarite2/month3_10_step_lookahead_Hybrid\\assets\n",
      "WARNING:absl:<keras.layers.recurrent.LSTMCell object at 0x000001C4CB2FA790> has the same name 'LSTMCell' as a built-in Keras object. Consider renaming <class 'keras.layers.recurrent.LSTMCell'> to avoid naming conflicts when loading with `tf.keras.models.load_model`. If renaming is not possible, pass the object in the `custom_objects` parameter of the load function.\n"
     ]
    },
    {
     "name": "stdout",
     "output_type": "stream",
     "text": [
      "133/133 [==============================] - 3s 21ms/step\n",
      "57/57 [==============================] - 1s 20ms/step\n"
     ]
    },
    {
     "name": "stderr",
     "output_type": "stream",
     "text": [
      "D:\\Anaconda\\lib\\site-packages\\pandas\\core\\frame.py:3678: SettingWithCopyWarning: \n",
      "A value is trying to be set on a copy of a slice from a DataFrame.\n",
      "Try using .loc[row_indexer,col_indexer] = value instead\n",
      "\n",
      "See the caveats in the documentation: https://pandas.pydata.org/pandas-docs/stable/user_guide/indexing.html#returning-a-view-versus-a-copy\n",
      "  self[col] = igetitem(value, i)\n",
      "D:\\Anaconda\\lib\\site-packages\\pandas\\core\\frame.py:3678: SettingWithCopyWarning: \n",
      "A value is trying to be set on a copy of a slice from a DataFrame.\n",
      "Try using .loc[row_indexer,col_indexer] = value instead\n",
      "\n",
      "See the caveats in the documentation: https://pandas.pydata.org/pandas-docs/stable/user_guide/indexing.html#returning-a-view-versus-a-copy\n",
      "  self[col] = igetitem(value, i)\n"
     ]
    },
    {
     "name": "stdout",
     "output_type": "stream",
     "text": [
      "Epoch 1/15\n",
      "152/152 [==============================] - 11s 57ms/step - loss: 1.6317 - val_loss: 0.1116\n",
      "Epoch 2/15\n",
      "152/152 [==============================] - 8s 54ms/step - loss: 1.5831 - val_loss: 0.0941\n",
      "Epoch 3/15\n",
      "152/152 [==============================] - 8s 54ms/step - loss: 1.5343 - val_loss: 0.0744\n",
      "Epoch 4/15\n",
      "152/152 [==============================] - 8s 54ms/step - loss: 1.4325 - val_loss: 0.0632\n",
      "Epoch 5/15\n",
      "152/152 [==============================] - 8s 54ms/step - loss: 1.3995 - val_loss: 0.0594\n",
      "Epoch 6/15\n",
      "152/152 [==============================] - 9s 56ms/step - loss: 1.3853 - val_loss: 0.0554\n",
      "Epoch 7/15\n",
      "152/152 [==============================] - 9s 56ms/step - loss: 1.3744 - val_loss: 0.0533\n",
      "Epoch 8/15\n",
      "152/152 [==============================] - 8s 54ms/step - loss: 1.3649 - val_loss: 0.0512\n",
      "Epoch 9/15\n",
      "152/152 [==============================] - 8s 54ms/step - loss: 1.3521 - val_loss: 0.0496\n",
      "Epoch 10/15\n",
      "152/152 [==============================] - 8s 53ms/step - loss: 1.3390 - val_loss: 0.0481\n",
      "Epoch 11/15\n",
      "152/152 [==============================] - 8s 53ms/step - loss: 1.3295 - val_loss: 0.0468\n",
      "Epoch 12/15\n",
      "152/152 [==============================] - 8s 54ms/step - loss: 1.3190 - val_loss: 0.0462\n",
      "Epoch 13/15\n",
      "152/152 [==============================] - 8s 53ms/step - loss: 1.3075 - val_loss: 0.0447\n",
      "Epoch 14/15\n",
      "152/152 [==============================] - 8s 53ms/step - loss: 1.3000 - val_loss: 0.0482\n",
      "Epoch 15/15\n",
      "152/152 [==============================] - 8s 53ms/step - loss: 1.2858 - val_loss: 0.0438\n"
     ]
    },
    {
     "name": "stderr",
     "output_type": "stream",
     "text": [
      "WARNING:absl:Found untraced functions such as lstm_cell_141_layer_call_fn, lstm_cell_141_layer_call_and_return_conditional_losses while saving (showing 2 of 2). These functions will not be directly callable after loading.\n"
     ]
    },
    {
     "name": "stdout",
     "output_type": "stream",
     "text": [
      "INFO:tensorflow:Assets written to: Hybrid Univarite2/month4_1_step_lookahead_Hybrid\\assets\n"
     ]
    },
    {
     "name": "stderr",
     "output_type": "stream",
     "text": [
      "INFO:tensorflow:Assets written to: Hybrid Univarite2/month4_1_step_lookahead_Hybrid\\assets\n",
      "WARNING:absl:<keras.layers.recurrent.LSTMCell object at 0x000001C4BB7E66A0> has the same name 'LSTMCell' as a built-in Keras object. Consider renaming <class 'keras.layers.recurrent.LSTMCell'> to avoid naming conflicts when loading with `tf.keras.models.load_model`. If renaming is not possible, pass the object in the `custom_objects` parameter of the load function.\n"
     ]
    },
    {
     "name": "stdout",
     "output_type": "stream",
     "text": [
      "152/152 [==============================] - 4s 21ms/step\n",
      "65/65 [==============================] - 1s 20ms/step\n"
     ]
    },
    {
     "name": "stderr",
     "output_type": "stream",
     "text": [
      "D:\\Anaconda\\lib\\site-packages\\pandas\\core\\frame.py:3678: SettingWithCopyWarning: \n",
      "A value is trying to be set on a copy of a slice from a DataFrame.\n",
      "Try using .loc[row_indexer,col_indexer] = value instead\n",
      "\n",
      "See the caveats in the documentation: https://pandas.pydata.org/pandas-docs/stable/user_guide/indexing.html#returning-a-view-versus-a-copy\n",
      "  self[col] = igetitem(value, i)\n"
     ]
    },
    {
     "name": "stdout",
     "output_type": "stream",
     "text": [
      "Epoch 1/15\n",
      "152/152 [==============================] - 12s 59ms/step - loss: 1.5293 - val_loss: 0.0768\n",
      "Epoch 2/15\n",
      "152/152 [==============================] - 8s 54ms/step - loss: 1.4521 - val_loss: 0.0661\n",
      "Epoch 3/15\n",
      "152/152 [==============================] - 8s 55ms/step - loss: 1.4162 - val_loss: 0.0563\n",
      "Epoch 4/15\n",
      "152/152 [==============================] - 8s 54ms/step - loss: 1.3799 - val_loss: 0.0491\n",
      "Epoch 5/15\n",
      "152/152 [==============================] - 8s 55ms/step - loss: 1.3412 - val_loss: 0.0455\n",
      "Epoch 6/15\n",
      "152/152 [==============================] - 8s 54ms/step - loss: 1.3050 - val_loss: 0.0443\n",
      "Epoch 7/15\n",
      "152/152 [==============================] - 8s 53ms/step - loss: 1.2712 - val_loss: 0.0428\n",
      "Epoch 8/15\n",
      "152/152 [==============================] - 8s 53ms/step - loss: 1.2434 - val_loss: 0.0424\n",
      "Epoch 9/15\n",
      "152/152 [==============================] - 8s 53ms/step - loss: 1.2210 - val_loss: 0.0422\n",
      "Epoch 10/15\n",
      "152/152 [==============================] - 8s 52ms/step - loss: 1.1939 - val_loss: 0.0423\n",
      "Epoch 11/15\n",
      "152/152 [==============================] - 8s 52ms/step - loss: 1.1667 - val_loss: 0.0429\n",
      "Epoch 12/15\n",
      "152/152 [==============================] - 8s 52ms/step - loss: 1.1526 - val_loss: 0.0434\n",
      "Epoch 13/15\n",
      "152/152 [==============================] - 8s 52ms/step - loss: 1.1298 - val_loss: 0.0436\n",
      "Epoch 14/15\n",
      "152/152 [==============================] - 8s 52ms/step - loss: 1.1099 - val_loss: 0.0440\n",
      "Epoch 15/15\n",
      "152/152 [==============================] - 8s 53ms/step - loss: 1.0943 - val_loss: 0.0460\n"
     ]
    },
    {
     "name": "stderr",
     "output_type": "stream",
     "text": [
      "WARNING:absl:Found untraced functions such as lstm_cell_142_layer_call_fn, lstm_cell_142_layer_call_and_return_conditional_losses while saving (showing 2 of 2). These functions will not be directly callable after loading.\n"
     ]
    },
    {
     "name": "stdout",
     "output_type": "stream",
     "text": [
      "INFO:tensorflow:Assets written to: Hybrid Univarite2/month4_2_step_lookahead_Hybrid\\assets\n"
     ]
    },
    {
     "name": "stderr",
     "output_type": "stream",
     "text": [
      "INFO:tensorflow:Assets written to: Hybrid Univarite2/month4_2_step_lookahead_Hybrid\\assets\n",
      "WARNING:absl:<keras.layers.recurrent.LSTMCell object at 0x000001C4BE06D940> has the same name 'LSTMCell' as a built-in Keras object. Consider renaming <class 'keras.layers.recurrent.LSTMCell'> to avoid naming conflicts when loading with `tf.keras.models.load_model`. If renaming is not possible, pass the object in the `custom_objects` parameter of the load function.\n"
     ]
    },
    {
     "name": "stdout",
     "output_type": "stream",
     "text": [
      "152/152 [==============================] - 4s 22ms/step\n",
      "65/65 [==============================] - 1s 21ms/step\n"
     ]
    },
    {
     "name": "stderr",
     "output_type": "stream",
     "text": [
      "D:\\Anaconda\\lib\\site-packages\\pandas\\core\\frame.py:3678: SettingWithCopyWarning: \n",
      "A value is trying to be set on a copy of a slice from a DataFrame.\n",
      "Try using .loc[row_indexer,col_indexer] = value instead\n",
      "\n",
      "See the caveats in the documentation: https://pandas.pydata.org/pandas-docs/stable/user_guide/indexing.html#returning-a-view-versus-a-copy\n",
      "  self[col] = igetitem(value, i)\n"
     ]
    },
    {
     "name": "stdout",
     "output_type": "stream",
     "text": [
      "Epoch 1/15\n",
      "152/152 [==============================] - 11s 57ms/step - loss: 1.5375 - val_loss: 0.0876\n",
      "Epoch 2/15\n",
      "152/152 [==============================] - 8s 53ms/step - loss: 1.4907 - val_loss: 0.0689\n",
      "Epoch 3/15\n",
      "152/152 [==============================] - 8s 53ms/step - loss: 1.4550 - val_loss: 0.0569\n",
      "Epoch 4/15\n",
      "152/152 [==============================] - 8s 53ms/step - loss: 1.4097 - val_loss: 0.0477\n",
      "Epoch 5/15\n",
      "152/152 [==============================] - 8s 53ms/step - loss: 1.3606 - val_loss: 0.0443\n",
      "Epoch 6/15\n",
      "152/152 [==============================] - 8s 53ms/step - loss: 1.2900 - val_loss: 0.0437\n",
      "Epoch 7/15\n",
      "152/152 [==============================] - 8s 53ms/step - loss: 1.2441 - val_loss: 0.0438\n",
      "Epoch 8/15\n",
      "152/152 [==============================] - 8s 53ms/step - loss: 1.2065 - val_loss: 0.0436\n",
      "Epoch 9/15\n",
      "152/152 [==============================] - 8s 53ms/step - loss: 1.1803 - val_loss: 0.0441\n",
      "Epoch 10/15\n",
      "152/152 [==============================] - 8s 53ms/step - loss: 1.1629 - val_loss: 0.0444\n",
      "Epoch 11/15\n",
      "152/152 [==============================] - 8s 53ms/step - loss: 1.1472 - val_loss: 0.0447\n",
      "Epoch 12/15\n",
      "152/152 [==============================] - 8s 53ms/step - loss: 1.1206 - val_loss: 0.0461\n",
      "Epoch 13/15\n",
      "152/152 [==============================] - 8s 52ms/step - loss: 1.1111 - val_loss: 0.0468\n",
      "Epoch 14/15\n",
      "152/152 [==============================] - 8s 52ms/step - loss: 1.0884 - val_loss: 0.0538\n",
      "Epoch 15/15\n",
      "152/152 [==============================] - 8s 54ms/step - loss: 1.0724 - val_loss: 0.0453\n"
     ]
    },
    {
     "name": "stderr",
     "output_type": "stream",
     "text": [
      "WARNING:absl:Found untraced functions such as lstm_cell_143_layer_call_fn, lstm_cell_143_layer_call_and_return_conditional_losses while saving (showing 2 of 2). These functions will not be directly callable after loading.\n"
     ]
    },
    {
     "name": "stdout",
     "output_type": "stream",
     "text": [
      "INFO:tensorflow:Assets written to: Hybrid Univarite2/month4_3_step_lookahead_Hybrid\\assets\n"
     ]
    },
    {
     "name": "stderr",
     "output_type": "stream",
     "text": [
      "INFO:tensorflow:Assets written to: Hybrid Univarite2/month4_3_step_lookahead_Hybrid\\assets\n",
      "WARNING:absl:<keras.layers.recurrent.LSTMCell object at 0x000001C4CAE3A850> has the same name 'LSTMCell' as a built-in Keras object. Consider renaming <class 'keras.layers.recurrent.LSTMCell'> to avoid naming conflicts when loading with `tf.keras.models.load_model`. If renaming is not possible, pass the object in the `custom_objects` parameter of the load function.\n"
     ]
    },
    {
     "name": "stdout",
     "output_type": "stream",
     "text": [
      "152/152 [==============================] - 4s 22ms/step\n",
      "65/65 [==============================] - 1s 20ms/step\n"
     ]
    },
    {
     "name": "stderr",
     "output_type": "stream",
     "text": [
      "D:\\Anaconda\\lib\\site-packages\\pandas\\core\\frame.py:3678: SettingWithCopyWarning: \n",
      "A value is trying to be set on a copy of a slice from a DataFrame.\n",
      "Try using .loc[row_indexer,col_indexer] = value instead\n",
      "\n",
      "See the caveats in the documentation: https://pandas.pydata.org/pandas-docs/stable/user_guide/indexing.html#returning-a-view-versus-a-copy\n",
      "  self[col] = igetitem(value, i)\n"
     ]
    },
    {
     "name": "stdout",
     "output_type": "stream",
     "text": [
      "Epoch 1/15\n",
      "152/152 [==============================] - 12s 59ms/step - loss: 1.6147 - val_loss: 0.1091\n",
      "Epoch 2/15\n",
      "152/152 [==============================] - 8s 55ms/step - loss: 1.5580 - val_loss: 0.0808\n",
      "Epoch 3/15\n",
      "152/152 [==============================] - 8s 53ms/step - loss: 1.5187 - val_loss: 0.0618\n",
      "Epoch 4/15\n",
      "152/152 [==============================] - 8s 54ms/step - loss: 1.4921 - val_loss: 0.0571\n",
      "Epoch 5/15\n",
      "152/152 [==============================] - 8s 53ms/step - loss: 1.4588 - val_loss: 0.0518\n",
      "Epoch 6/15\n",
      "152/152 [==============================] - 8s 53ms/step - loss: 1.4472 - val_loss: 0.0469\n",
      "Epoch 7/15\n",
      "152/152 [==============================] - 8s 53ms/step - loss: 1.4168 - val_loss: 0.0440\n",
      "Epoch 8/15\n",
      "152/152 [==============================] - 8s 52ms/step - loss: 1.3998 - val_loss: 0.0486\n",
      "Epoch 9/15\n",
      "152/152 [==============================] - 8s 52ms/step - loss: 1.3774 - val_loss: 0.0441\n",
      "Epoch 10/15\n",
      "152/152 [==============================] - 8s 52ms/step - loss: 1.3631 - val_loss: 0.0440\n",
      "Epoch 11/15\n",
      "152/152 [==============================] - 8s 52ms/step - loss: 1.3463 - val_loss: 0.0440\n",
      "Epoch 12/15\n",
      "152/152 [==============================] - 8s 53ms/step - loss: 1.3354 - val_loss: 0.0450\n",
      "Epoch 13/15\n",
      "152/152 [==============================] - 8s 53ms/step - loss: 1.3274 - val_loss: 0.0474\n",
      "Epoch 14/15\n",
      "152/152 [==============================] - 8s 52ms/step - loss: 1.3100 - val_loss: 0.0490\n",
      "Epoch 15/15\n",
      "152/152 [==============================] - 8s 52ms/step - loss: 1.3114 - val_loss: 0.0490\n"
     ]
    },
    {
     "name": "stderr",
     "output_type": "stream",
     "text": [
      "WARNING:absl:Found untraced functions such as lstm_cell_144_layer_call_fn, lstm_cell_144_layer_call_and_return_conditional_losses while saving (showing 2 of 2). These functions will not be directly callable after loading.\n"
     ]
    },
    {
     "name": "stdout",
     "output_type": "stream",
     "text": [
      "INFO:tensorflow:Assets written to: Hybrid Univarite2/month4_4_step_lookahead_Hybrid\\assets\n"
     ]
    },
    {
     "name": "stderr",
     "output_type": "stream",
     "text": [
      "INFO:tensorflow:Assets written to: Hybrid Univarite2/month4_4_step_lookahead_Hybrid\\assets\n",
      "WARNING:absl:<keras.layers.recurrent.LSTMCell object at 0x000001C4C0D0F370> has the same name 'LSTMCell' as a built-in Keras object. Consider renaming <class 'keras.layers.recurrent.LSTMCell'> to avoid naming conflicts when loading with `tf.keras.models.load_model`. If renaming is not possible, pass the object in the `custom_objects` parameter of the load function.\n"
     ]
    },
    {
     "name": "stdout",
     "output_type": "stream",
     "text": [
      "152/152 [==============================] - 4s 22ms/step\n",
      "65/65 [==============================] - 1s 19ms/step\n"
     ]
    },
    {
     "name": "stderr",
     "output_type": "stream",
     "text": [
      "D:\\Anaconda\\lib\\site-packages\\pandas\\core\\frame.py:3678: SettingWithCopyWarning: \n",
      "A value is trying to be set on a copy of a slice from a DataFrame.\n",
      "Try using .loc[row_indexer,col_indexer] = value instead\n",
      "\n",
      "See the caveats in the documentation: https://pandas.pydata.org/pandas-docs/stable/user_guide/indexing.html#returning-a-view-versus-a-copy\n",
      "  self[col] = igetitem(value, i)\n"
     ]
    },
    {
     "name": "stdout",
     "output_type": "stream",
     "text": [
      "Epoch 1/15\n",
      "152/152 [==============================] - 11s 56ms/step - loss: 1.6140 - val_loss: 0.0920\n",
      "Epoch 2/15\n",
      "152/152 [==============================] - 8s 53ms/step - loss: 1.5408 - val_loss: 0.0776\n",
      "Epoch 3/15\n",
      "152/152 [==============================] - 8s 53ms/step - loss: 1.5121 - val_loss: 0.0675\n",
      "Epoch 4/15\n",
      "152/152 [==============================] - 8s 54ms/step - loss: 1.4905 - val_loss: 0.0573\n",
      "Epoch 5/15\n",
      "152/152 [==============================] - 8s 53ms/step - loss: 1.4715 - val_loss: 0.0521\n",
      "Epoch 6/15\n",
      "152/152 [==============================] - 8s 53ms/step - loss: 1.4496 - val_loss: 0.0481\n",
      "Epoch 7/15\n",
      "152/152 [==============================] - 8s 53ms/step - loss: 1.4275 - val_loss: 0.0460\n",
      "Epoch 8/15\n",
      "152/152 [==============================] - 8s 53ms/step - loss: 1.4061 - val_loss: 0.0453\n",
      "Epoch 9/15\n",
      "152/152 [==============================] - 8s 52ms/step - loss: 1.3845 - val_loss: 0.0480\n",
      "Epoch 10/15\n",
      "152/152 [==============================] - 8s 53ms/step - loss: 1.3687 - val_loss: 0.0482\n",
      "Epoch 11/15\n",
      "152/152 [==============================] - 8s 52ms/step - loss: 1.3630 - val_loss: 0.0635\n",
      "Epoch 12/15\n",
      "152/152 [==============================] - 8s 54ms/step - loss: 1.3441 - val_loss: 0.0458\n",
      "Epoch 13/15\n",
      "152/152 [==============================] - 8s 54ms/step - loss: 1.3297 - val_loss: 0.0469\n",
      "Epoch 14/15\n",
      "152/152 [==============================] - 8s 52ms/step - loss: 1.3171 - val_loss: 0.0479\n",
      "Epoch 15/15\n",
      "152/152 [==============================] - 8s 52ms/step - loss: 1.3059 - val_loss: 0.0500\n"
     ]
    },
    {
     "name": "stderr",
     "output_type": "stream",
     "text": [
      "WARNING:absl:Found untraced functions such as lstm_cell_145_layer_call_fn, lstm_cell_145_layer_call_and_return_conditional_losses while saving (showing 2 of 2). These functions will not be directly callable after loading.\n"
     ]
    },
    {
     "name": "stdout",
     "output_type": "stream",
     "text": [
      "INFO:tensorflow:Assets written to: Hybrid Univarite2/month4_5_step_lookahead_Hybrid\\assets\n"
     ]
    },
    {
     "name": "stderr",
     "output_type": "stream",
     "text": [
      "INFO:tensorflow:Assets written to: Hybrid Univarite2/month4_5_step_lookahead_Hybrid\\assets\n",
      "WARNING:absl:<keras.layers.recurrent.LSTMCell object at 0x000001C4CAC81D30> has the same name 'LSTMCell' as a built-in Keras object. Consider renaming <class 'keras.layers.recurrent.LSTMCell'> to avoid naming conflicts when loading with `tf.keras.models.load_model`. If renaming is not possible, pass the object in the `custom_objects` parameter of the load function.\n"
     ]
    },
    {
     "name": "stdout",
     "output_type": "stream",
     "text": [
      "152/152 [==============================] - 4s 21ms/step\n",
      "65/65 [==============================] - 1s 20ms/step\n"
     ]
    },
    {
     "name": "stderr",
     "output_type": "stream",
     "text": [
      "D:\\Anaconda\\lib\\site-packages\\pandas\\core\\frame.py:3678: SettingWithCopyWarning: \n",
      "A value is trying to be set on a copy of a slice from a DataFrame.\n",
      "Try using .loc[row_indexer,col_indexer] = value instead\n",
      "\n",
      "See the caveats in the documentation: https://pandas.pydata.org/pandas-docs/stable/user_guide/indexing.html#returning-a-view-versus-a-copy\n",
      "  self[col] = igetitem(value, i)\n"
     ]
    },
    {
     "name": "stdout",
     "output_type": "stream",
     "text": [
      "Epoch 1/15\n",
      "152/152 [==============================] - 11s 56ms/step - loss: 1.5717 - val_loss: 0.0945\n",
      "Epoch 2/15\n",
      "152/152 [==============================] - 8s 53ms/step - loss: 1.5310 - val_loss: 0.0724\n",
      "Epoch 3/15\n",
      "152/152 [==============================] - 8s 52ms/step - loss: 1.5005 - val_loss: 0.0571\n",
      "Epoch 4/15\n",
      "152/152 [==============================] - 8s 52ms/step - loss: 1.4720 - val_loss: 0.0501\n",
      "Epoch 5/15\n",
      "152/152 [==============================] - 8s 52ms/step - loss: 1.4485 - val_loss: 0.0487\n",
      "Epoch 6/15\n",
      "152/152 [==============================] - 8s 53ms/step - loss: 1.4252 - val_loss: 0.0455\n",
      "Epoch 7/15\n",
      "152/152 [==============================] - 8s 53ms/step - loss: 1.4179 - val_loss: 0.0443\n",
      "Epoch 8/15\n",
      "152/152 [==============================] - 8s 54ms/step - loss: 1.3874 - val_loss: 0.0456\n",
      "Epoch 9/15\n",
      "152/152 [==============================] - 8s 53ms/step - loss: 1.3876 - val_loss: 0.0462\n",
      "Epoch 10/15\n",
      "152/152 [==============================] - 8s 52ms/step - loss: 1.3558 - val_loss: 0.0455\n",
      "Epoch 11/15\n",
      "152/152 [==============================] - 8s 53ms/step - loss: 1.3388 - val_loss: 0.0494\n",
      "Epoch 12/15\n",
      "152/152 [==============================] - 8s 52ms/step - loss: 1.3442 - val_loss: 0.0457\n",
      "Epoch 13/15\n",
      "152/152 [==============================] - 8s 52ms/step - loss: 1.3196 - val_loss: 0.0500\n",
      "Epoch 14/15\n",
      "152/152 [==============================] - 8s 52ms/step - loss: 1.3104 - val_loss: 0.0465\n",
      "Epoch 15/15\n",
      "152/152 [==============================] - 8s 52ms/step - loss: 1.2997 - val_loss: 0.0500\n"
     ]
    },
    {
     "name": "stderr",
     "output_type": "stream",
     "text": [
      "WARNING:absl:Found untraced functions such as lstm_cell_146_layer_call_fn, lstm_cell_146_layer_call_and_return_conditional_losses while saving (showing 2 of 2). These functions will not be directly callable after loading.\n"
     ]
    },
    {
     "name": "stdout",
     "output_type": "stream",
     "text": [
      "INFO:tensorflow:Assets written to: Hybrid Univarite2/month4_6_step_lookahead_Hybrid\\assets\n"
     ]
    },
    {
     "name": "stderr",
     "output_type": "stream",
     "text": [
      "INFO:tensorflow:Assets written to: Hybrid Univarite2/month4_6_step_lookahead_Hybrid\\assets\n",
      "WARNING:absl:<keras.layers.recurrent.LSTMCell object at 0x000001C4C1021490> has the same name 'LSTMCell' as a built-in Keras object. Consider renaming <class 'keras.layers.recurrent.LSTMCell'> to avoid naming conflicts when loading with `tf.keras.models.load_model`. If renaming is not possible, pass the object in the `custom_objects` parameter of the load function.\n"
     ]
    },
    {
     "name": "stdout",
     "output_type": "stream",
     "text": [
      "152/152 [==============================] - 4s 21ms/step\n",
      "65/65 [==============================] - 1s 19ms/step\n"
     ]
    },
    {
     "name": "stderr",
     "output_type": "stream",
     "text": [
      "D:\\Anaconda\\lib\\site-packages\\pandas\\core\\frame.py:3678: SettingWithCopyWarning: \n",
      "A value is trying to be set on a copy of a slice from a DataFrame.\n",
      "Try using .loc[row_indexer,col_indexer] = value instead\n",
      "\n",
      "See the caveats in the documentation: https://pandas.pydata.org/pandas-docs/stable/user_guide/indexing.html#returning-a-view-versus-a-copy\n",
      "  self[col] = igetitem(value, i)\n"
     ]
    },
    {
     "name": "stdout",
     "output_type": "stream",
     "text": [
      "Epoch 1/15\n",
      "152/152 [==============================] - 11s 56ms/step - loss: 1.5308 - val_loss: 0.0701\n",
      "Epoch 2/15\n",
      "152/152 [==============================] - 8s 53ms/step - loss: 1.4967 - val_loss: 0.0614\n",
      "Epoch 3/15\n",
      "152/152 [==============================] - 8s 53ms/step - loss: 1.4719 - val_loss: 0.0517\n",
      "Epoch 4/15\n",
      "152/152 [==============================] - 8s 53ms/step - loss: 1.4472 - val_loss: 0.0514\n",
      "Epoch 5/15\n",
      "152/152 [==============================] - 8s 54ms/step - loss: 1.4258 - val_loss: 0.0511\n",
      "Epoch 6/15\n",
      "152/152 [==============================] - 8s 52ms/step - loss: 1.4065 - val_loss: 0.0525\n",
      "Epoch 7/15\n",
      "152/152 [==============================] - 8s 52ms/step - loss: 1.3896 - val_loss: 0.0512\n",
      "Epoch 8/15\n",
      "152/152 [==============================] - 8s 52ms/step - loss: 1.3767 - val_loss: 0.0596\n",
      "Epoch 9/15\n",
      "152/152 [==============================] - 8s 52ms/step - loss: 1.3657 - val_loss: 0.0569\n",
      "Epoch 10/15\n",
      "152/152 [==============================] - 8s 52ms/step - loss: 1.3530 - val_loss: 0.0644\n",
      "Epoch 11/15\n",
      "152/152 [==============================] - 8s 52ms/step - loss: 1.3569 - val_loss: 0.0524\n",
      "Epoch 12/15\n",
      "152/152 [==============================] - 8s 52ms/step - loss: 1.3326 - val_loss: 0.0667\n",
      "Epoch 13/15\n",
      "152/152 [==============================] - 8s 53ms/step - loss: 1.3235 - val_loss: 0.0614\n",
      "Epoch 14/15\n",
      "152/152 [==============================] - 8s 52ms/step - loss: 1.3048 - val_loss: 0.0588\n",
      "Epoch 15/15\n",
      "152/152 [==============================] - 8s 53ms/step - loss: 1.2925 - val_loss: 0.0664\n"
     ]
    },
    {
     "name": "stderr",
     "output_type": "stream",
     "text": [
      "WARNING:absl:Found untraced functions such as lstm_cell_147_layer_call_fn, lstm_cell_147_layer_call_and_return_conditional_losses while saving (showing 2 of 2). These functions will not be directly callable after loading.\n"
     ]
    },
    {
     "name": "stdout",
     "output_type": "stream",
     "text": [
      "INFO:tensorflow:Assets written to: Hybrid Univarite2/month4_7_step_lookahead_Hybrid\\assets\n"
     ]
    },
    {
     "name": "stderr",
     "output_type": "stream",
     "text": [
      "INFO:tensorflow:Assets written to: Hybrid Univarite2/month4_7_step_lookahead_Hybrid\\assets\n",
      "WARNING:absl:<keras.layers.recurrent.LSTMCell object at 0x000001C4BABD0D00> has the same name 'LSTMCell' as a built-in Keras object. Consider renaming <class 'keras.layers.recurrent.LSTMCell'> to avoid naming conflicts when loading with `tf.keras.models.load_model`. If renaming is not possible, pass the object in the `custom_objects` parameter of the load function.\n"
     ]
    },
    {
     "name": "stdout",
     "output_type": "stream",
     "text": [
      "152/152 [==============================] - 4s 23ms/step\n",
      "65/65 [==============================] - 1s 19ms/step\n"
     ]
    },
    {
     "name": "stderr",
     "output_type": "stream",
     "text": [
      "D:\\Anaconda\\lib\\site-packages\\pandas\\core\\frame.py:3678: SettingWithCopyWarning: \n",
      "A value is trying to be set on a copy of a slice from a DataFrame.\n",
      "Try using .loc[row_indexer,col_indexer] = value instead\n",
      "\n",
      "See the caveats in the documentation: https://pandas.pydata.org/pandas-docs/stable/user_guide/indexing.html#returning-a-view-versus-a-copy\n",
      "  self[col] = igetitem(value, i)\n"
     ]
    },
    {
     "name": "stdout",
     "output_type": "stream",
     "text": [
      "Epoch 1/15\n",
      "152/152 [==============================] - 11s 57ms/step - loss: 1.5900 - val_loss: 0.0975\n",
      "Epoch 2/15\n",
      "152/152 [==============================] - 8s 53ms/step - loss: 1.5581 - val_loss: 0.0874\n",
      "Epoch 3/15\n",
      "152/152 [==============================] - 8s 53ms/step - loss: 1.5513 - val_loss: 0.0804\n",
      "Epoch 4/15\n",
      "152/152 [==============================] - 8s 53ms/step - loss: 1.5447 - val_loss: 0.0798\n",
      "Epoch 5/15\n",
      "152/152 [==============================] - 8s 53ms/step - loss: 1.5389 - val_loss: 0.0727\n",
      "Epoch 6/15\n",
      "152/152 [==============================] - 8s 53ms/step - loss: 1.5297 - val_loss: 0.0752\n",
      "Epoch 7/15\n",
      "152/152 [==============================] - 8s 53ms/step - loss: 1.5231 - val_loss: 0.0693\n",
      "Epoch 8/15\n",
      "152/152 [==============================] - 8s 55ms/step - loss: 1.5165 - val_loss: 0.0728\n",
      "Epoch 9/15\n",
      "152/152 [==============================] - 8s 53ms/step - loss: 1.5078 - val_loss: 0.0736\n",
      "Epoch 10/15\n",
      "152/152 [==============================] - 8s 53ms/step - loss: 1.5014 - val_loss: 0.0766\n",
      "Epoch 11/15\n",
      "152/152 [==============================] - 8s 53ms/step - loss: 1.5046 - val_loss: 0.0672\n",
      "Epoch 12/15\n",
      "152/152 [==============================] - 8s 52ms/step - loss: 1.4894 - val_loss: 0.0726\n",
      "Epoch 13/15\n",
      "152/152 [==============================] - 8s 54ms/step - loss: 1.4835 - val_loss: 0.0730\n",
      "Epoch 14/15\n",
      "152/152 [==============================] - 8s 52ms/step - loss: 1.4735 - val_loss: 0.0713\n",
      "Epoch 15/15\n",
      "152/152 [==============================] - 8s 53ms/step - loss: 1.4665 - val_loss: 0.0757\n"
     ]
    },
    {
     "name": "stderr",
     "output_type": "stream",
     "text": [
      "WARNING:absl:Found untraced functions such as lstm_cell_148_layer_call_fn, lstm_cell_148_layer_call_and_return_conditional_losses while saving (showing 2 of 2). These functions will not be directly callable after loading.\n"
     ]
    },
    {
     "name": "stdout",
     "output_type": "stream",
     "text": [
      "INFO:tensorflow:Assets written to: Hybrid Univarite2/month4_8_step_lookahead_Hybrid\\assets\n"
     ]
    },
    {
     "name": "stderr",
     "output_type": "stream",
     "text": [
      "INFO:tensorflow:Assets written to: Hybrid Univarite2/month4_8_step_lookahead_Hybrid\\assets\n",
      "WARNING:absl:<keras.layers.recurrent.LSTMCell object at 0x000001C4BAA49760> has the same name 'LSTMCell' as a built-in Keras object. Consider renaming <class 'keras.layers.recurrent.LSTMCell'> to avoid naming conflicts when loading with `tf.keras.models.load_model`. If renaming is not possible, pass the object in the `custom_objects` parameter of the load function.\n"
     ]
    },
    {
     "name": "stdout",
     "output_type": "stream",
     "text": [
      "152/152 [==============================] - 4s 21ms/step\n",
      "65/65 [==============================] - 1s 19ms/step\n"
     ]
    },
    {
     "name": "stderr",
     "output_type": "stream",
     "text": [
      "D:\\Anaconda\\lib\\site-packages\\pandas\\core\\frame.py:3678: SettingWithCopyWarning: \n",
      "A value is trying to be set on a copy of a slice from a DataFrame.\n",
      "Try using .loc[row_indexer,col_indexer] = value instead\n",
      "\n",
      "See the caveats in the documentation: https://pandas.pydata.org/pandas-docs/stable/user_guide/indexing.html#returning-a-view-versus-a-copy\n",
      "  self[col] = igetitem(value, i)\n"
     ]
    },
    {
     "name": "stdout",
     "output_type": "stream",
     "text": [
      "Epoch 1/15\n",
      "152/152 [==============================] - 11s 57ms/step - loss: 1.5698 - val_loss: 0.0854\n",
      "Epoch 2/15\n",
      "152/152 [==============================] - 8s 53ms/step - loss: 1.5425 - val_loss: 0.0751\n",
      "Epoch 3/15\n",
      "152/152 [==============================] - 8s 53ms/step - loss: 1.5318 - val_loss: 0.0654\n",
      "Epoch 4/15\n",
      "152/152 [==============================] - 8s 53ms/step - loss: 1.5191 - val_loss: 0.0539\n",
      "Epoch 5/15\n",
      "152/152 [==============================] - 8s 53ms/step - loss: 1.5082 - val_loss: 0.0598\n",
      "Epoch 6/15\n",
      "152/152 [==============================] - 8s 53ms/step - loss: 1.5012 - val_loss: 0.0510\n",
      "Epoch 7/15\n",
      "152/152 [==============================] - 8s 53ms/step - loss: 1.4960 - val_loss: 0.0537\n",
      "Epoch 8/15\n",
      "152/152 [==============================] - 8s 52ms/step - loss: 1.4847 - val_loss: 0.0689\n",
      "Epoch 9/15\n",
      "152/152 [==============================] - 8s 53ms/step - loss: 1.4752 - val_loss: 0.0575\n",
      "Epoch 10/15\n",
      "152/152 [==============================] - 8s 52ms/step - loss: 1.4746 - val_loss: 0.0606\n",
      "Epoch 11/15\n",
      "152/152 [==============================] - 8s 52ms/step - loss: 1.4588 - val_loss: 0.0684\n",
      "Epoch 12/15\n",
      "152/152 [==============================] - 8s 52ms/step - loss: 1.4421 - val_loss: 0.0764\n",
      "Epoch 13/15\n",
      "152/152 [==============================] - 8s 52ms/step - loss: 1.4528 - val_loss: 0.0670\n",
      "Epoch 14/15\n",
      "152/152 [==============================] - 8s 52ms/step - loss: 1.4232 - val_loss: 0.0717\n",
      "Epoch 15/15\n",
      "152/152 [==============================] - 8s 52ms/step - loss: 1.4534 - val_loss: 0.0671\n"
     ]
    },
    {
     "name": "stderr",
     "output_type": "stream",
     "text": [
      "WARNING:absl:Found untraced functions such as lstm_cell_149_layer_call_fn, lstm_cell_149_layer_call_and_return_conditional_losses while saving (showing 2 of 2). These functions will not be directly callable after loading.\n"
     ]
    },
    {
     "name": "stdout",
     "output_type": "stream",
     "text": [
      "INFO:tensorflow:Assets written to: Hybrid Univarite2/month4_9_step_lookahead_Hybrid\\assets\n"
     ]
    },
    {
     "name": "stderr",
     "output_type": "stream",
     "text": [
      "INFO:tensorflow:Assets written to: Hybrid Univarite2/month4_9_step_lookahead_Hybrid\\assets\n",
      "WARNING:absl:<keras.layers.recurrent.LSTMCell object at 0x000001C4BABC3400> has the same name 'LSTMCell' as a built-in Keras object. Consider renaming <class 'keras.layers.recurrent.LSTMCell'> to avoid naming conflicts when loading with `tf.keras.models.load_model`. If renaming is not possible, pass the object in the `custom_objects` parameter of the load function.\n"
     ]
    },
    {
     "name": "stdout",
     "output_type": "stream",
     "text": [
      "152/152 [==============================] - 4s 21ms/step\n",
      "65/65 [==============================] - 1s 19ms/step\n"
     ]
    },
    {
     "name": "stderr",
     "output_type": "stream",
     "text": [
      "D:\\Anaconda\\lib\\site-packages\\pandas\\core\\frame.py:3678: SettingWithCopyWarning: \n",
      "A value is trying to be set on a copy of a slice from a DataFrame.\n",
      "Try using .loc[row_indexer,col_indexer] = value instead\n",
      "\n",
      "See the caveats in the documentation: https://pandas.pydata.org/pandas-docs/stable/user_guide/indexing.html#returning-a-view-versus-a-copy\n",
      "  self[col] = igetitem(value, i)\n"
     ]
    },
    {
     "name": "stdout",
     "output_type": "stream",
     "text": [
      "Epoch 1/15\n",
      "151/151 [==============================] - 10s 55ms/step - loss: 1.6064 - val_loss: 0.0935\n",
      "Epoch 2/15\n",
      "151/151 [==============================] - 8s 52ms/step - loss: 1.5543 - val_loss: 0.0831\n",
      "Epoch 3/15\n",
      "151/151 [==============================] - 8s 52ms/step - loss: 1.5415 - val_loss: 0.0707\n",
      "Epoch 4/15\n",
      "151/151 [==============================] - 8s 52ms/step - loss: 1.5333 - val_loss: 0.0646\n",
      "Epoch 5/15\n",
      "151/151 [==============================] - 8s 52ms/step - loss: 1.5267 - val_loss: 0.0589\n",
      "Epoch 6/15\n",
      "151/151 [==============================] - 8s 51ms/step - loss: 1.5206 - val_loss: 0.0606\n",
      "Epoch 7/15\n",
      "151/151 [==============================] - 8s 52ms/step - loss: 1.5136 - val_loss: 0.0573\n",
      "Epoch 8/15\n",
      "151/151 [==============================] - 8s 52ms/step - loss: 1.5093 - val_loss: 0.0601\n",
      "Epoch 9/15\n",
      "151/151 [==============================] - 8s 51ms/step - loss: 1.5121 - val_loss: 0.0540\n",
      "Epoch 10/15\n",
      "151/151 [==============================] - 8s 51ms/step - loss: 1.5001 - val_loss: 0.0542\n",
      "Epoch 11/15\n",
      "151/151 [==============================] - 8s 52ms/step - loss: 1.4955 - val_loss: 0.0539\n",
      "Epoch 12/15\n",
      "151/151 [==============================] - 8s 52ms/step - loss: 1.4897 - val_loss: 0.0591\n",
      "Epoch 13/15\n",
      "151/151 [==============================] - 8s 53ms/step - loss: 1.4881 - val_loss: 0.0544\n",
      "Epoch 14/15\n",
      "151/151 [==============================] - 8s 52ms/step - loss: 1.4848 - val_loss: 0.0536\n",
      "Epoch 15/15\n",
      "151/151 [==============================] - 8s 53ms/step - loss: 1.4759 - val_loss: 0.0632\n"
     ]
    },
    {
     "name": "stderr",
     "output_type": "stream",
     "text": [
      "WARNING:absl:Found untraced functions such as lstm_cell_150_layer_call_fn, lstm_cell_150_layer_call_and_return_conditional_losses while saving (showing 2 of 2). These functions will not be directly callable after loading.\n"
     ]
    },
    {
     "name": "stdout",
     "output_type": "stream",
     "text": [
      "INFO:tensorflow:Assets written to: Hybrid Univarite2/month4_10_step_lookahead_Hybrid\\assets\n"
     ]
    },
    {
     "name": "stderr",
     "output_type": "stream",
     "text": [
      "INFO:tensorflow:Assets written to: Hybrid Univarite2/month4_10_step_lookahead_Hybrid\\assets\n",
      "WARNING:absl:<keras.layers.recurrent.LSTMCell object at 0x000001C4CB1D5310> has the same name 'LSTMCell' as a built-in Keras object. Consider renaming <class 'keras.layers.recurrent.LSTMCell'> to avoid naming conflicts when loading with `tf.keras.models.load_model`. If renaming is not possible, pass the object in the `custom_objects` parameter of the load function.\n"
     ]
    },
    {
     "name": "stdout",
     "output_type": "stream",
     "text": [
      "151/151 [==============================] - 4s 22ms/step\n",
      "65/65 [==============================] - 2s 20ms/step\n"
     ]
    },
    {
     "name": "stderr",
     "output_type": "stream",
     "text": [
      "D:\\Anaconda\\lib\\site-packages\\pandas\\core\\frame.py:3678: SettingWithCopyWarning: \n",
      "A value is trying to be set on a copy of a slice from a DataFrame.\n",
      "Try using .loc[row_indexer,col_indexer] = value instead\n",
      "\n",
      "See the caveats in the documentation: https://pandas.pydata.org/pandas-docs/stable/user_guide/indexing.html#returning-a-view-versus-a-copy\n",
      "  self[col] = igetitem(value, i)\n"
     ]
    }
   ],
   "source": [
    "end_dates = ['2021-12-26 23:55:00', '2022-01-26 23:55:00', '2022-02-26 23:55:00', '2022-03-26 23:55:00', '2022-04-26 23:55:00'  ]\n",
    "Start_dates = ['2021-11-26 00:00:00', '2021-12-26 00:00:00', '2022-01-26 23:55:00', '2022-02-26 23:55:00', '2022-03-26 23:55:00']\n",
    "\n",
    "#Create Training Examples for all lookaheads\n",
    "resample_rate = '5T'\n",
    "start_date='2021-11-26 00:00:00'\n",
    "end_date='2021-12-26 23:55:00' \n",
    "inputs = ['min_gas_price']\n",
    "#No of timesteps behind to forecast on, no of timesteps to forecast ahead\n",
    "n_steps_in = 2016\n",
    "n_steps_out = 1\n",
    "#How many timesteps between start of training examples\n",
    "step_interval = 1\n",
    "n_step_lookahead = 1\n",
    "\n",
    "y_hat_list=[]\n",
    "train_loss_list=[]\n",
    "val_loss_list=[]\n",
    "training_metrics_dicts=[]\n",
    "valdiation_metrics_dicts=[]\n",
    "for month in [0, 1, 2, 3, 4]:\n",
    "    n_step_lookahead=1\n",
    "    start_date=Start_dates[month]\n",
    "    end_date=end_dates[month]\n",
    "    #generate new training/val data each month\n",
    "    X_train, y_train, X_val, y_val, scaler = generate_training_val_examples_univariate_output(data)\n",
    "    for i in range(1,11):\n",
    "        n_step_lookahead = i\n",
    "        #train model with checkpoint best for best validation loss\n",
    "        model, model_checkpoint_callback, checkpoint_filepath = LSTM_model()\n",
    "        train_history = model.fit(X_train, y_train,validation_data=(X_val, y_val), epochs=15, verbose=1, callbacks=[model_checkpoint_callback])\n",
    "        model.load_weights(checkpoint_filepath)\n",
    "        model.save(('Hybrid Univarite2/month' +str(month)+'_'+ str(i) + '_step_lookahead_Hybrid'))\n",
    "\n",
    "        \n",
    "        yhat_train = model.predict(X_train, verbose=1)\n",
    "        yhat_val = model.predict(X_val, verbose=1)\n",
    "        y_hat_list.append(yhat_val)\n",
    "\n",
    "        train_loss_list.append(train_history.history['loss'])\n",
    "        val_loss_list.append(train_history.history['val_loss'])\n",
    "        pd.DataFrame(train_loss_list).to_csv('Hybrid Univarite2/train_loss')\n",
    "        pd.DataFrame(val_loss_list).to_csv('Hybrid Univarite2/val_loss')\n",
    "        \n",
    "        training_metrics_dicts.append(descale_y_retrun_metrics_univariate_y(yhat_train, y_train))\n",
    "        valdiation_metrics_dicts.append(descale_y_retrun_metrics_univariate_y(yhat_val, y_val))\n",
    "\n",
    "        # add output to next lookaheads training/val data\n",
    "        x_train_extended = []\n",
    "        for j in range(0, len(X_train)):\n",
    "            X_train_t = np.append(X_train[j], yhat_train[j])\n",
    "            x_train_extended.append(X_train_t)\n",
    "\n",
    "        x_val_extended = []\n",
    "        for k in range(0, len(X_val)):\n",
    "            X_val_t = np.append(X_val[k], yhat_val[k])\n",
    "            x_val_extended.append(X_val_t)\n",
    "            \n",
    "        #generate new targets\n",
    "        n_step_lookahead = i+1\n",
    "        X_traindummy, y_train, X_valdummy, y_val, scaler = generate_training_val_examples_univariate_output(data)\n",
    "        \n",
    "        #reshape input arrays; remove first timetep to keep dimenisons same,\n",
    "        x_train = np.array(x_train_extended)\n",
    "        x_val = np.array(x_val_extended)\n",
    "        x_train = x_train.reshape(x_train.shape[0], x_train.shape[1],1)\n",
    "        x_val = x_val.reshape(x_val.shape[0], x_val.shape[1],1)\n",
    "        x_train = x_train[:,1:]\n",
    "        x_val = x_val[:,1:]\n",
    "        \n",
    "        \n",
    "        \n",
    "        #as size of training/val window increases with increasing lookahead we lose examples\n",
    "        #remove examples from training/validation inputs, keep dimensiosn same as targets\n",
    "        # on reviewing the validation metrics, there is not reduction in metrics across lookaheads\n",
    "        #the following two lines of code are not behaving as expected, these were changed in the 3rd iteration\n",
    "        #we have sliced examples from the start of the series, not the end as intended\n",
    "\n",
    "        X_train = x_train[-(y_train.shape[0]):,:,:]\n",
    "        X_val = x_val[-(y_val.shape[0]):,:,:]\n",
    "        \n",
    "        np.save(\"Hybrid Univarite2/train_metric_dict_1.npy\", training_metrics_dicts)  \n",
    "        np.save(\"Hybrid Univarite2/val_metric_dict_1.npy\", valdiation_metrics_dicts)  \n",
    "\n",
    "        \n",
    "        \n"
   ]
  },
  {
   "cell_type": "code",
   "execution_count": 103,
   "id": "783cd52f-fb84-490e-b122-b44cf4349fa5",
   "metadata": {},
   "outputs": [],
   "source": [
    "np.save(\"Hybrid Univarite2/train_metric_dict_1.npy\", training_metrics_dicts)  \n",
    "np.save(\"Hybrid Univarite2/val_metric_dict_1.npy\", valdiation_metrics_dicts)  \n"
   ]
  },
  {
   "cell_type": "code",
   "execution_count": 4,
   "id": "bb3ee6a9-4750-4e97-9044-a1228f6bcb2a",
   "metadata": {},
   "outputs": [],
   "source": [
    "val_metrics = np.load(\"Hybrid Univarite2/val_metric_dict_1.npy\", allow_pickle=True)"
   ]
  },
  {
   "cell_type": "code",
   "execution_count": 6,
   "id": "91504bf7-2737-4327-9155-163203f559cb",
   "metadata": {},
   "outputs": [],
   "source": [
    "indexes=[]\n",
    "for j in range(1, 6):\n",
    "    for i in range(1,11):\n",
    "        indexes.append('month '+str(j)+' lookahead ' + str(i))"
   ]
  },
  {
   "cell_type": "code",
   "execution_count": 7,
   "id": "c32003a0-90cc-4a40-9db4-5795b5d81b90",
   "metadata": {},
   "outputs": [],
   "source": [
    "val_df = pd.DataFrame(val_metrics.reshape(val_metrics.shape[0], val_metrics.shape[2]), columns = ['RMSE', 'MSE', 'MAE', 'MAPE', 'R2'])"
   ]
  },
  {
   "cell_type": "code",
   "execution_count": 8,
   "id": "6f18ae1a-a7c1-4f4e-9174-8604a47ba217",
   "metadata": {},
   "outputs": [],
   "source": [
    "val_df.index=indexes[:len(val_df)]"
   ]
  },
  {
   "cell_type": "code",
   "execution_count": 9,
   "id": "f485d2ae-4f90-48de-afd8-49b067b0765e",
   "metadata": {},
   "outputs": [
    {
     "data": {
      "text/html": [
       "<div>\n",
       "<style scoped>\n",
       "    .dataframe tbody tr th:only-of-type {\n",
       "        vertical-align: middle;\n",
       "    }\n",
       "\n",
       "    .dataframe tbody tr th {\n",
       "        vertical-align: top;\n",
       "    }\n",
       "\n",
       "    .dataframe thead th {\n",
       "        text-align: right;\n",
       "    }\n",
       "</style>\n",
       "<table border=\"1\" class=\"dataframe\">\n",
       "  <thead>\n",
       "    <tr style=\"text-align: right;\">\n",
       "      <th></th>\n",
       "      <th>RMSE</th>\n",
       "      <th>MSE</th>\n",
       "      <th>MAE</th>\n",
       "      <th>MAPE</th>\n",
       "      <th>R2</th>\n",
       "    </tr>\n",
       "  </thead>\n",
       "  <tbody>\n",
       "    <tr>\n",
       "      <th>month 1 lookahead 1</th>\n",
       "      <td>12.376245</td>\n",
       "      <td>153.171430</td>\n",
       "      <td>7.559685</td>\n",
       "      <td>0.108956</td>\n",
       "      <td>0.732118</td>\n",
       "    </tr>\n",
       "    <tr>\n",
       "      <th>month 1 lookahead 2</th>\n",
       "      <td>12.551234</td>\n",
       "      <td>157.533487</td>\n",
       "      <td>7.567140</td>\n",
       "      <td>0.108327</td>\n",
       "      <td>0.724490</td>\n",
       "    </tr>\n",
       "    <tr>\n",
       "      <th>month 1 lookahead 3</th>\n",
       "      <td>12.692354</td>\n",
       "      <td>161.095839</td>\n",
       "      <td>7.857314</td>\n",
       "      <td>0.112133</td>\n",
       "      <td>0.718379</td>\n",
       "    </tr>\n",
       "    <tr>\n",
       "      <th>month 1 lookahead 4</th>\n",
       "      <td>12.536113</td>\n",
       "      <td>157.154126</td>\n",
       "      <td>7.835077</td>\n",
       "      <td>0.114042</td>\n",
       "      <td>0.725270</td>\n",
       "    </tr>\n",
       "    <tr>\n",
       "      <th>month 1 lookahead 5</th>\n",
       "      <td>12.681144</td>\n",
       "      <td>160.811410</td>\n",
       "      <td>8.049060</td>\n",
       "      <td>0.118607</td>\n",
       "      <td>0.718877</td>\n",
       "    </tr>\n",
       "    <tr>\n",
       "      <th>month 1 lookahead 6</th>\n",
       "      <td>12.590872</td>\n",
       "      <td>158.530053</td>\n",
       "      <td>7.959245</td>\n",
       "      <td>0.117496</td>\n",
       "      <td>0.722865</td>\n",
       "    </tr>\n",
       "    <tr>\n",
       "      <th>month 1 lookahead 7</th>\n",
       "      <td>12.785877</td>\n",
       "      <td>163.478641</td>\n",
       "      <td>8.193432</td>\n",
       "      <td>0.121809</td>\n",
       "      <td>0.714347</td>\n",
       "    </tr>\n",
       "    <tr>\n",
       "      <th>month 1 lookahead 8</th>\n",
       "      <td>12.778948</td>\n",
       "      <td>163.301507</td>\n",
       "      <td>8.086656</td>\n",
       "      <td>0.117917</td>\n",
       "      <td>0.714657</td>\n",
       "    </tr>\n",
       "    <tr>\n",
       "      <th>month 1 lookahead 9</th>\n",
       "      <td>12.692485</td>\n",
       "      <td>161.099179</td>\n",
       "      <td>7.935059</td>\n",
       "      <td>0.114795</td>\n",
       "      <td>0.718505</td>\n",
       "    </tr>\n",
       "    <tr>\n",
       "      <th>month 1 lookahead 10</th>\n",
       "      <td>12.919996</td>\n",
       "      <td>166.926287</td>\n",
       "      <td>8.199559</td>\n",
       "      <td>0.118975</td>\n",
       "      <td>0.708444</td>\n",
       "    </tr>\n",
       "    <tr>\n",
       "      <th>month 2 lookahead 1</th>\n",
       "      <td>35.093058</td>\n",
       "      <td>1231.522701</td>\n",
       "      <td>18.547645</td>\n",
       "      <td>0.120633</td>\n",
       "      <td>0.705031</td>\n",
       "    </tr>\n",
       "    <tr>\n",
       "      <th>month 2 lookahead 2</th>\n",
       "      <td>35.045576</td>\n",
       "      <td>1228.192407</td>\n",
       "      <td>18.298331</td>\n",
       "      <td>0.117273</td>\n",
       "      <td>0.705828</td>\n",
       "    </tr>\n",
       "    <tr>\n",
       "      <th>month 2 lookahead 3</th>\n",
       "      <td>35.156715</td>\n",
       "      <td>1235.994610</td>\n",
       "      <td>18.245734</td>\n",
       "      <td>0.116704</td>\n",
       "      <td>0.703960</td>\n",
       "    </tr>\n",
       "    <tr>\n",
       "      <th>month 2 lookahead 4</th>\n",
       "      <td>34.991150</td>\n",
       "      <td>1224.380552</td>\n",
       "      <td>18.155321</td>\n",
       "      <td>0.115894</td>\n",
       "      <td>0.706741</td>\n",
       "    </tr>\n",
       "    <tr>\n",
       "      <th>month 2 lookahead 5</th>\n",
       "      <td>36.960151</td>\n",
       "      <td>1366.052776</td>\n",
       "      <td>19.089075</td>\n",
       "      <td>0.124010</td>\n",
       "      <td>0.672777</td>\n",
       "    </tr>\n",
       "    <tr>\n",
       "      <th>month 2 lookahead 6</th>\n",
       "      <td>36.882598</td>\n",
       "      <td>1360.326047</td>\n",
       "      <td>18.596859</td>\n",
       "      <td>0.118780</td>\n",
       "      <td>0.674148</td>\n",
       "    </tr>\n",
       "    <tr>\n",
       "      <th>month 2 lookahead 7</th>\n",
       "      <td>36.803892</td>\n",
       "      <td>1354.526488</td>\n",
       "      <td>18.905351</td>\n",
       "      <td>0.122283</td>\n",
       "      <td>0.675538</td>\n",
       "    </tr>\n",
       "    <tr>\n",
       "      <th>month 2 lookahead 8</th>\n",
       "      <td>38.701133</td>\n",
       "      <td>1497.777712</td>\n",
       "      <td>19.988226</td>\n",
       "      <td>0.130311</td>\n",
       "      <td>0.641307</td>\n",
       "    </tr>\n",
       "    <tr>\n",
       "      <th>month 2 lookahead 9</th>\n",
       "      <td>38.573786</td>\n",
       "      <td>1487.936938</td>\n",
       "      <td>19.892173</td>\n",
       "      <td>0.129689</td>\n",
       "      <td>0.643664</td>\n",
       "    </tr>\n",
       "    <tr>\n",
       "      <th>month 2 lookahead 10</th>\n",
       "      <td>38.083830</td>\n",
       "      <td>1450.378114</td>\n",
       "      <td>19.363129</td>\n",
       "      <td>0.124561</td>\n",
       "      <td>0.652658</td>\n",
       "    </tr>\n",
       "    <tr>\n",
       "      <th>month 3 lookahead 1</th>\n",
       "      <td>34.576957</td>\n",
       "      <td>1195.565960</td>\n",
       "      <td>11.727050</td>\n",
       "      <td>0.144355</td>\n",
       "      <td>0.510378</td>\n",
       "    </tr>\n",
       "    <tr>\n",
       "      <th>month 3 lookahead 2</th>\n",
       "      <td>34.513792</td>\n",
       "      <td>1191.201820</td>\n",
       "      <td>11.962718</td>\n",
       "      <td>0.148776</td>\n",
       "      <td>0.512165</td>\n",
       "    </tr>\n",
       "    <tr>\n",
       "      <th>month 3 lookahead 3</th>\n",
       "      <td>34.569080</td>\n",
       "      <td>1195.021317</td>\n",
       "      <td>12.223336</td>\n",
       "      <td>0.154580</td>\n",
       "      <td>0.510601</td>\n",
       "    </tr>\n",
       "    <tr>\n",
       "      <th>month 3 lookahead 4</th>\n",
       "      <td>35.680733</td>\n",
       "      <td>1273.114719</td>\n",
       "      <td>13.059239</td>\n",
       "      <td>0.163516</td>\n",
       "      <td>0.478857</td>\n",
       "    </tr>\n",
       "    <tr>\n",
       "      <th>month 3 lookahead 5</th>\n",
       "      <td>35.577564</td>\n",
       "      <td>1265.763031</td>\n",
       "      <td>12.937943</td>\n",
       "      <td>0.162110</td>\n",
       "      <td>0.481866</td>\n",
       "    </tr>\n",
       "    <tr>\n",
       "      <th>month 3 lookahead 6</th>\n",
       "      <td>35.518846</td>\n",
       "      <td>1261.588431</td>\n",
       "      <td>13.117860</td>\n",
       "      <td>0.165849</td>\n",
       "      <td>0.483575</td>\n",
       "    </tr>\n",
       "    <tr>\n",
       "      <th>month 3 lookahead 7</th>\n",
       "      <td>35.649967</td>\n",
       "      <td>1270.920154</td>\n",
       "      <td>12.709303</td>\n",
       "      <td>0.156620</td>\n",
       "      <td>0.479755</td>\n",
       "    </tr>\n",
       "    <tr>\n",
       "      <th>month 3 lookahead 8</th>\n",
       "      <td>36.134449</td>\n",
       "      <td>1305.698395</td>\n",
       "      <td>13.450291</td>\n",
       "      <td>0.169463</td>\n",
       "      <td>0.465727</td>\n",
       "    </tr>\n",
       "    <tr>\n",
       "      <th>month 3 lookahead 9</th>\n",
       "      <td>36.085373</td>\n",
       "      <td>1302.154122</td>\n",
       "      <td>13.056407</td>\n",
       "      <td>0.162589</td>\n",
       "      <td>0.467177</td>\n",
       "    </tr>\n",
       "    <tr>\n",
       "      <th>month 3 lookahead 10</th>\n",
       "      <td>35.970492</td>\n",
       "      <td>1293.876303</td>\n",
       "      <td>13.330729</td>\n",
       "      <td>0.169277</td>\n",
       "      <td>0.470565</td>\n",
       "    </tr>\n",
       "    <tr>\n",
       "      <th>month 4 lookahead 1</th>\n",
       "      <td>9.097789</td>\n",
       "      <td>82.769759</td>\n",
       "      <td>5.846762</td>\n",
       "      <td>0.147386</td>\n",
       "      <td>0.752545</td>\n",
       "    </tr>\n",
       "    <tr>\n",
       "      <th>month 4 lookahead 2</th>\n",
       "      <td>9.698981</td>\n",
       "      <td>94.070228</td>\n",
       "      <td>6.450532</td>\n",
       "      <td>0.169243</td>\n",
       "      <td>0.718760</td>\n",
       "    </tr>\n",
       "    <tr>\n",
       "      <th>month 4 lookahead 3</th>\n",
       "      <td>9.577744</td>\n",
       "      <td>91.733177</td>\n",
       "      <td>6.117447</td>\n",
       "      <td>0.150739</td>\n",
       "      <td>0.725747</td>\n",
       "    </tr>\n",
       "    <tr>\n",
       "      <th>month 4 lookahead 4</th>\n",
       "      <td>9.577562</td>\n",
       "      <td>91.729689</td>\n",
       "      <td>6.176650</td>\n",
       "      <td>0.154585</td>\n",
       "      <td>0.725829</td>\n",
       "    </tr>\n",
       "    <tr>\n",
       "      <th>month 4 lookahead 5</th>\n",
       "      <td>9.641995</td>\n",
       "      <td>92.968070</td>\n",
       "      <td>6.139115</td>\n",
       "      <td>0.150482</td>\n",
       "      <td>0.722127</td>\n",
       "    </tr>\n",
       "    <tr>\n",
       "      <th>month 4 lookahead 6</th>\n",
       "      <td>9.608177</td>\n",
       "      <td>92.317073</td>\n",
       "      <td>6.142178</td>\n",
       "      <td>0.151686</td>\n",
       "      <td>0.724073</td>\n",
       "    </tr>\n",
       "    <tr>\n",
       "      <th>month 4 lookahead 7</th>\n",
       "      <td>9.477601</td>\n",
       "      <td>89.824913</td>\n",
       "      <td>6.212691</td>\n",
       "      <td>0.158998</td>\n",
       "      <td>0.731612</td>\n",
       "    </tr>\n",
       "    <tr>\n",
       "      <th>month 4 lookahead 8</th>\n",
       "      <td>9.440444</td>\n",
       "      <td>89.121979</td>\n",
       "      <td>6.058577</td>\n",
       "      <td>0.151188</td>\n",
       "      <td>0.733712</td>\n",
       "    </tr>\n",
       "    <tr>\n",
       "      <th>month 4 lookahead 9</th>\n",
       "      <td>9.509796</td>\n",
       "      <td>90.436219</td>\n",
       "      <td>6.161344</td>\n",
       "      <td>0.154066</td>\n",
       "      <td>0.729786</td>\n",
       "    </tr>\n",
       "    <tr>\n",
       "      <th>month 4 lookahead 10</th>\n",
       "      <td>9.381752</td>\n",
       "      <td>88.017279</td>\n",
       "      <td>6.113092</td>\n",
       "      <td>0.156327</td>\n",
       "      <td>0.737143</td>\n",
       "    </tr>\n",
       "    <tr>\n",
       "      <th>month 5 lookahead 1</th>\n",
       "      <td>15.322737</td>\n",
       "      <td>234.786269</td>\n",
       "      <td>7.023801</td>\n",
       "      <td>0.124408</td>\n",
       "      <td>0.792481</td>\n",
       "    </tr>\n",
       "    <tr>\n",
       "      <th>month 5 lookahead 2</th>\n",
       "      <td>15.041826</td>\n",
       "      <td>226.256523</td>\n",
       "      <td>7.482092</td>\n",
       "      <td>0.135450</td>\n",
       "      <td>0.800020</td>\n",
       "    </tr>\n",
       "    <tr>\n",
       "      <th>month 5 lookahead 3</th>\n",
       "      <td>15.292547</td>\n",
       "      <td>233.861990</td>\n",
       "      <td>7.314670</td>\n",
       "      <td>0.134315</td>\n",
       "      <td>0.793298</td>\n",
       "    </tr>\n",
       "    <tr>\n",
       "      <th>month 5 lookahead 4</th>\n",
       "      <td>15.357817</td>\n",
       "      <td>235.862543</td>\n",
       "      <td>7.731533</td>\n",
       "      <td>0.149328</td>\n",
       "      <td>0.791581</td>\n",
       "    </tr>\n",
       "    <tr>\n",
       "      <th>month 5 lookahead 5</th>\n",
       "      <td>15.584488</td>\n",
       "      <td>242.876260</td>\n",
       "      <td>8.755496</td>\n",
       "      <td>0.186118</td>\n",
       "      <td>0.785383</td>\n",
       "    </tr>\n",
       "    <tr>\n",
       "      <th>month 5 lookahead 6</th>\n",
       "      <td>15.411760</td>\n",
       "      <td>237.522352</td>\n",
       "      <td>8.183710</td>\n",
       "      <td>0.167737</td>\n",
       "      <td>0.790114</td>\n",
       "    </tr>\n",
       "    <tr>\n",
       "      <th>month 5 lookahead 7</th>\n",
       "      <td>16.565274</td>\n",
       "      <td>274.408312</td>\n",
       "      <td>8.884408</td>\n",
       "      <td>0.187644</td>\n",
       "      <td>0.757520</td>\n",
       "    </tr>\n",
       "    <tr>\n",
       "      <th>month 5 lookahead 8</th>\n",
       "      <td>18.984969</td>\n",
       "      <td>360.429045</td>\n",
       "      <td>9.537833</td>\n",
       "      <td>0.192504</td>\n",
       "      <td>0.681594</td>\n",
       "    </tr>\n",
       "    <tr>\n",
       "      <th>month 5 lookahead 9</th>\n",
       "      <td>16.539077</td>\n",
       "      <td>273.541074</td>\n",
       "      <td>8.767533</td>\n",
       "      <td>0.173001</td>\n",
       "      <td>0.758352</td>\n",
       "    </tr>\n",
       "    <tr>\n",
       "      <th>month 5 lookahead 10</th>\n",
       "      <td>16.964314</td>\n",
       "      <td>287.787964</td>\n",
       "      <td>8.422125</td>\n",
       "      <td>0.157414</td>\n",
       "      <td>0.745766</td>\n",
       "    </tr>\n",
       "  </tbody>\n",
       "</table>\n",
       "</div>"
      ],
      "text/plain": [
       "                           RMSE          MSE        MAE      MAPE        R2\n",
       "month 1 lookahead 1   12.376245   153.171430   7.559685  0.108956  0.732118\n",
       "month 1 lookahead 2   12.551234   157.533487   7.567140  0.108327  0.724490\n",
       "month 1 lookahead 3   12.692354   161.095839   7.857314  0.112133  0.718379\n",
       "month 1 lookahead 4   12.536113   157.154126   7.835077  0.114042  0.725270\n",
       "month 1 lookahead 5   12.681144   160.811410   8.049060  0.118607  0.718877\n",
       "month 1 lookahead 6   12.590872   158.530053   7.959245  0.117496  0.722865\n",
       "month 1 lookahead 7   12.785877   163.478641   8.193432  0.121809  0.714347\n",
       "month 1 lookahead 8   12.778948   163.301507   8.086656  0.117917  0.714657\n",
       "month 1 lookahead 9   12.692485   161.099179   7.935059  0.114795  0.718505\n",
       "month 1 lookahead 10  12.919996   166.926287   8.199559  0.118975  0.708444\n",
       "month 2 lookahead 1   35.093058  1231.522701  18.547645  0.120633  0.705031\n",
       "month 2 lookahead 2   35.045576  1228.192407  18.298331  0.117273  0.705828\n",
       "month 2 lookahead 3   35.156715  1235.994610  18.245734  0.116704  0.703960\n",
       "month 2 lookahead 4   34.991150  1224.380552  18.155321  0.115894  0.706741\n",
       "month 2 lookahead 5   36.960151  1366.052776  19.089075  0.124010  0.672777\n",
       "month 2 lookahead 6   36.882598  1360.326047  18.596859  0.118780  0.674148\n",
       "month 2 lookahead 7   36.803892  1354.526488  18.905351  0.122283  0.675538\n",
       "month 2 lookahead 8   38.701133  1497.777712  19.988226  0.130311  0.641307\n",
       "month 2 lookahead 9   38.573786  1487.936938  19.892173  0.129689  0.643664\n",
       "month 2 lookahead 10  38.083830  1450.378114  19.363129  0.124561  0.652658\n",
       "month 3 lookahead 1   34.576957  1195.565960  11.727050  0.144355  0.510378\n",
       "month 3 lookahead 2   34.513792  1191.201820  11.962718  0.148776  0.512165\n",
       "month 3 lookahead 3   34.569080  1195.021317  12.223336  0.154580  0.510601\n",
       "month 3 lookahead 4   35.680733  1273.114719  13.059239  0.163516  0.478857\n",
       "month 3 lookahead 5   35.577564  1265.763031  12.937943  0.162110  0.481866\n",
       "month 3 lookahead 6   35.518846  1261.588431  13.117860  0.165849  0.483575\n",
       "month 3 lookahead 7   35.649967  1270.920154  12.709303  0.156620  0.479755\n",
       "month 3 lookahead 8   36.134449  1305.698395  13.450291  0.169463  0.465727\n",
       "month 3 lookahead 9   36.085373  1302.154122  13.056407  0.162589  0.467177\n",
       "month 3 lookahead 10  35.970492  1293.876303  13.330729  0.169277  0.470565\n",
       "month 4 lookahead 1    9.097789    82.769759   5.846762  0.147386  0.752545\n",
       "month 4 lookahead 2    9.698981    94.070228   6.450532  0.169243  0.718760\n",
       "month 4 lookahead 3    9.577744    91.733177   6.117447  0.150739  0.725747\n",
       "month 4 lookahead 4    9.577562    91.729689   6.176650  0.154585  0.725829\n",
       "month 4 lookahead 5    9.641995    92.968070   6.139115  0.150482  0.722127\n",
       "month 4 lookahead 6    9.608177    92.317073   6.142178  0.151686  0.724073\n",
       "month 4 lookahead 7    9.477601    89.824913   6.212691  0.158998  0.731612\n",
       "month 4 lookahead 8    9.440444    89.121979   6.058577  0.151188  0.733712\n",
       "month 4 lookahead 9    9.509796    90.436219   6.161344  0.154066  0.729786\n",
       "month 4 lookahead 10   9.381752    88.017279   6.113092  0.156327  0.737143\n",
       "month 5 lookahead 1   15.322737   234.786269   7.023801  0.124408  0.792481\n",
       "month 5 lookahead 2   15.041826   226.256523   7.482092  0.135450  0.800020\n",
       "month 5 lookahead 3   15.292547   233.861990   7.314670  0.134315  0.793298\n",
       "month 5 lookahead 4   15.357817   235.862543   7.731533  0.149328  0.791581\n",
       "month 5 lookahead 5   15.584488   242.876260   8.755496  0.186118  0.785383\n",
       "month 5 lookahead 6   15.411760   237.522352   8.183710  0.167737  0.790114\n",
       "month 5 lookahead 7   16.565274   274.408312   8.884408  0.187644  0.757520\n",
       "month 5 lookahead 8   18.984969   360.429045   9.537833  0.192504  0.681594\n",
       "month 5 lookahead 9   16.539077   273.541074   8.767533  0.173001  0.758352\n",
       "month 5 lookahead 10  16.964314   287.787964   8.422125  0.157414  0.745766"
      ]
     },
     "execution_count": 9,
     "metadata": {},
     "output_type": "execute_result"
    }
   ],
   "source": [
    "val_df"
   ]
  },
  {
   "cell_type": "code",
   "execution_count": null,
   "id": "38eb873a-59f3-467f-af52-2d337bb8ecc6",
   "metadata": {},
   "outputs": [],
   "source": []
  }
 ],
 "metadata": {
  "kernelspec": {
   "display_name": "Python 3 (ipykernel)",
   "language": "python",
   "name": "python3"
  },
  "language_info": {
   "codemirror_mode": {
    "name": "ipython",
    "version": 3
   },
   "file_extension": ".py",
   "mimetype": "text/x-python",
   "name": "python",
   "nbconvert_exporter": "python",
   "pygments_lexer": "ipython3",
   "version": "3.9.7"
  }
 },
 "nbformat": 4,
 "nbformat_minor": 5
}
