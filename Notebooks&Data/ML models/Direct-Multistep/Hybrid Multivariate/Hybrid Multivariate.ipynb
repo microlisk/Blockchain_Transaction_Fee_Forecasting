{
 "cells": [
  {
   "cell_type": "markdown",
   "id": "ed254beb-b30d-40dd-b1ab-1675290adaa0",
   "metadata": {},
   "source": [
    "# Hybrid model multivariate"
   ]
  },
  {
   "cell_type": "markdown",
   "id": "273cf8a4-056b-49a8-8123-cc15d8f2f71b",
   "metadata": {},
   "source": [
    "We are training a seperate model for each timestep in the lookahead window; multivariate input and output\n",
    "We are feeding the output of the previous model to each succesive model\n"
   ]
  },
  {
   "cell_type": "markdown",
   "id": "f4c0baa8-3e61-4a56-8228-c0d5cfa610b1",
   "metadata": {},
   "source": [
    "## Load functions and data"
   ]
  },
  {
   "cell_type": "code",
   "execution_count": 2,
   "id": "2243fdcb-c389-4556-be27-9373234fc591",
   "metadata": {},
   "outputs": [],
   "source": [
    "import pandas as pd\n",
    "import numpy as np\n",
    "from numpy import array\n",
    "from numpy import mean\n",
    "from numpy import std\n",
    "from tensorflow import keras\n",
    "from keras import optimizers\n",
    "from keras.models import Sequential\n",
    "from tensorflow.keras.layers import LSTM\n",
    "from keras.layers import Dense\n",
    "import matplotlib.pyplot as plt\n",
    "from keras.layers import TimeDistributed\n",
    "from sklearn.preprocessing import MinMaxScaler\n",
    "import pywt"
   ]
  },
  {
   "cell_type": "code",
   "execution_count": 9,
   "id": "fd68e3ae-22e3-43af-b5e2-abdca3c87420",
   "metadata": {},
   "outputs": [],
   "source": [
    "def split_sequence(sequence, n_steps_in, n_steps_out, step_interval, n_step_lookahead):\n",
    "    X, y = list(), list()\n",
    "    example_count = int((len(sequence)/step_interval))\n",
    "    for i in range(example_count):\n",
    "        # find the end of this pattern\n",
    "        end_ix = (i*step_interval) + n_steps_in\n",
    "        out_start_ix = end_ix + n_step_lookahead -1\n",
    "        out_end_ix = end_ix + n_steps_out + n_step_lookahead -1\n",
    "        # check if we are beyond the sequence\n",
    "        if out_end_ix > len(sequence):\n",
    "            break\n",
    "        # gather input and output parts of the pattern\n",
    "        seq_x, seq_y = sequence[(i*step_interval):end_ix], sequence[out_start_ix:out_end_ix]\n",
    "        X.append(seq_x)\n",
    "        y.append(seq_y)\n",
    "    return array(X), array(y)"
   ]
  },
  {
   "cell_type": "code",
   "execution_count": 10,
   "id": "479cb03e-33f8-4df8-afe6-82b2351713ed",
   "metadata": {},
   "outputs": [
    {
     "data": {
      "text/plain": [
       "(array([[0, 1, 2, 3, 4],\n",
       "        [1, 2, 3, 4, 5],\n",
       "        [2, 3, 4, 5, 6],\n",
       "        [3, 4, 5, 6, 7]]),\n",
       " array([[ 9],\n",
       "        [10],\n",
       "        [11],\n",
       "        [12]]))"
      ]
     },
     "execution_count": 10,
     "metadata": {},
     "output_type": "execute_result"
    }
   ],
   "source": [
    "#To demonstrate above function\n",
    "sequence = range(0,13)\n",
    "n_steps_in = 1\n",
    "n_steps_in = 5\n",
    "n_steps_out =1\n",
    "step_interval =1\n",
    "n_step_lookahead=5\n",
    "split_sequence(sequence, n_steps_in, n_steps_out, step_interval, n_step_lookahead)"
   ]
  },
  {
   "cell_type": "code",
   "execution_count": 11,
   "id": "8e0113c1-d102-4605-9fc3-542f00bd488e",
   "metadata": {},
   "outputs": [],
   "source": [
    "percentile_data = pd.read_csv (r'C:\\Users/conal/Desktop/MCM/Practicum - Copy/data/block gas price percentile data.csv', header=0)\n",
    "percentile_data['datetime'] = pd.to_datetime(percentile_data['block_timestamp'], format = '%Y-%m-%d %H:%M:%S UTC')\n",
    "\n",
    "percentile_data = percentile_data.sort_values(by='datetime',ascending=False)\n",
    "percentile_data = percentile_data.set_index('datetime')\n",
    "percentile_data = percentile_data.resample('5T').mean()\n",
    "percentile_data = percentile_data/1000000000"
   ]
  },
  {
   "cell_type": "code",
   "execution_count": 12,
   "id": "a7a6b649-6d02-4b5c-8892-6ca97fa10813",
   "metadata": {},
   "outputs": [],
   "source": [
    "usage_data = pd.read_csv (r'C:\\Users\\conal\\Desktop\\MCM\\Practicum - Copy\\data\\ETH,gas,usage merged 11-26 to 05-26.csv', header=0)\n",
    "usage_data['datetime'] = pd.to_datetime(usage_data['datetime'], format = '%Y-%m-%d %H:%M:%S')\n",
    "usage_data = usage_data.set_index('datetime')\n",
    "\n",
    "usage_data = usage_data.squeeze()\n",
    "usage_data = usage_data.astype('float')\n",
    "usage_data = usage_data.resample('5T').mean()"
   ]
  },
  {
   "cell_type": "code",
   "execution_count": 13,
   "id": "49359adb-72a2-4d36-92a3-160ae229ffc1",
   "metadata": {},
   "outputs": [],
   "source": [
    "usage_data2 = pd.read_csv (r'C:\\Users\\conal\\Desktop\\MCM\\Practicum - Copy\\data\\Contract counts 2021-11-26 to 2022-05-26.csv', header=0, index_col=0)\n",
    "usage_data2['datetime'] = pd.to_datetime(usage_data2['block_timestamp'], format = '%Y-%m-%d %H:%M:%S') \n",
    "usage_data2 = usage_data2.set_index('datetime')\n",
    "usage_data2 = usage_data2.drop(['block_timestamp'], axis=1)\n",
    "usage_data2 = usage_data2.squeeze()\n",
    "usage_data2 = usage_data2.astype('float')\n",
    "usage_data2 = usage_data2.resample('5T').sum()"
   ]
  },
  {
   "cell_type": "code",
   "execution_count": 14,
   "id": "8901dad6-24e3-4393-bce8-03d4ff7aa1c7",
   "metadata": {},
   "outputs": [],
   "source": [
    "data = usage_data.merge(percentile_data, left_index=True, right_index=True)\n",
    "data = data.merge(usage_data2, left_index=True, right_index=True)"
   ]
  },
  {
   "cell_type": "markdown",
   "id": "9123a9bf",
   "metadata": {},
   "source": [
    "Load data, datetime to index, downsample with left edge label, convert wei to gwei"
   ]
  },
  {
   "cell_type": "code",
   "execution_count": 15,
   "id": "ac449a8e",
   "metadata": {},
   "outputs": [],
   "source": [
    "def generate_training_val_examples(data):\n",
    "    #Load data as float, datetime to index\n",
    "\n",
    "\n",
    "\n",
    "\n",
    "\n",
    "    #Filter inputs\n",
    "    data =data[inputs]\n",
    "    scaler = StandardScaler()\n",
    "    data[inputs] = scaler.fit_transform(data[inputs])\n",
    "    \n",
    "\n",
    "    #Creat input:output examples\n",
    "    data = data[start_date:end_date].to_numpy()\n",
    "    X, y = split_sequence(data, n_steps_in, n_steps_out, step_interval, n_step_lookahead)\n",
    "    \n",
    "    X_train, X_val = np.split(X, [int(0.7 * len(X))])\n",
    "    #we are only lookign to forecast the min gas price\n",
    "    y_train, y_val = np.split(y, [int(0.7 * len(X))])\n",
    "\n",
    "    \n",
    "    #Reshape to 3D for LSTM\n",
    "    X_train = X_train.reshape((X_train.shape[0], X_train.shape[1], len(inputs)))\n",
    "    y_train =y_train.reshape((y_train.shape[0], y_train.shape[1], len(inputs)))\n",
    "    X_val = X_val.reshape((X_val.shape[0], X_val.shape[1], len(inputs)))\n",
    "    y_val = y_val.reshape((y_val.shape[0], y_val.shape[1], len(inputs)))\n",
    "\n",
    "    \n",
    "    return X_train, y_train, X_val, y_val, scaler\n",
    "\n"
   ]
  },
  {
   "cell_type": "code",
   "execution_count": 16,
   "id": "046086f6-7346-4550-8d58-ba108d69ceed",
   "metadata": {},
   "outputs": [],
   "source": [
    "def LSTM_model():\n",
    "    model = Sequential()\n",
    "  \n",
    "    model.add(LSTM(units =15,activation='tanh',input_shape=(n_steps_in, len(inputs))))\n",
    "    model.add(Dense(len(inputs)))\n",
    "    opt = keras.optimizers.Adam(learning_rate=0.01, decay=0.0001)\n",
    "    model.compile(optimizer='adam', loss='mse')\n",
    "    return model"
   ]
  },
  {
   "cell_type": "code",
   "execution_count": 17,
   "id": "f5878928-c13c-4766-bcfe-2a6d1de3a51f",
   "metadata": {},
   "outputs": [],
   "source": [
    "from sklearn.preprocessing import MinMaxScaler\n",
    "from sklearn.preprocessing import StandardScaler\n",
    "from sklearn.metrics import r2_score\n",
    "from sklearn.metrics import mean_squared_error\n",
    "from sklearn.metrics import mean_absolute_error\n",
    "from sklearn.metrics import mean_absolute_percentage_error\n"
   ]
  },
  {
   "cell_type": "code",
   "execution_count": 18,
   "id": "464a45e7-5fd8-42b5-8d79-ca17e2da26c1",
   "metadata": {},
   "outputs": [],
   "source": [
    "def descale_y_retrun_metrics(yhat, y_val2):\n",
    "    #We will use validation data that has not had outleirs limited, will be a different min/max scaler as such\n",
    "    pred_descaled= (scaler.inverse_transform(array([yhat,]*(len(inputs))).transpose()[0]))[:, :1]\n",
    "    groud_truth_descaled= (scaler2.inverse_transform(array([y_val2,]*(len(inputs))).transpose()[0][0]))[ :, :1]\n",
    "    RMSE = mean_squared_error(groud_truth_descaled, pred_descaled, squared=False)\n",
    "    MSE = mean_squared_error(groud_truth_descaled, pred_descaled, squared=True)\n",
    "    MAE = mean_absolute_error(groud_truth_descaled, pred_descaled)\n",
    "    MAPE = mean_absolute_percentage_error(groud_truth_descaled, pred_descaled)\n",
    "    R2 = r2_score(groud_truth_descaled, pred_descaled)\n",
    "    return RMSE, MAE, MAPE, R2, MSE"
   ]
  },
  {
   "cell_type": "code",
   "execution_count": null,
   "id": "7be4516c-2ca8-4fc3-a897-43caaad854be",
   "metadata": {},
   "outputs": [],
   "source": []
  },
  {
   "cell_type": "markdown",
   "id": "25b30ba3-e69e-4e2d-a5f2-6a50969f49bc",
   "metadata": {},
   "source": [
    "## Training loop"
   ]
  },
  {
   "cell_type": "markdown",
   "id": "9ded7ba7-d394-44d1-9ca5-5b4f2465c611",
   "metadata": {},
   "source": [
    "# Lets run the loop for one lookahead and one month first"
   ]
  },
  {
   "cell_type": "code",
   "execution_count": 19,
   "id": "d85f0a74-b6c8-4ba0-aca0-8b2774d56f21",
   "metadata": {
    "collapsed": true,
    "jupyter": {
     "outputs_hidden": true
    },
    "tags": []
   },
   "outputs": [
    {
     "name": "stderr",
     "output_type": "stream",
     "text": [
      "D:\\Anaconda\\lib\\site-packages\\pandas\\core\\frame.py:3678: SettingWithCopyWarning: \n",
      "A value is trying to be set on a copy of a slice from a DataFrame.\n",
      "Try using .loc[row_indexer,col_indexer] = value instead\n",
      "\n",
      "See the caveats in the documentation: https://pandas.pydata.org/pandas-docs/stable/user_guide/indexing.html#returning-a-view-versus-a-copy\n",
      "  self[col] = igetitem(value, i)\n",
      "D:\\Anaconda\\lib\\site-packages\\pandas\\core\\frame.py:3678: SettingWithCopyWarning: \n",
      "A value is trying to be set on a copy of a slice from a DataFrame.\n",
      "Try using .loc[row_indexer,col_indexer] = value instead\n",
      "\n",
      "See the caveats in the documentation: https://pandas.pydata.org/pandas-docs/stable/user_guide/indexing.html#returning-a-view-versus-a-copy\n",
      "  self[col] = igetitem(value, i)\n"
     ]
    },
    {
     "name": "stdout",
     "output_type": "stream",
     "text": [
      "Epoch 1/15\n",
      "108/108 [==============================] - 16s 115ms/step - loss: 0.7137 - val_loss: 0.3590\n",
      "Epoch 2/15\n",
      "108/108 [==============================] - 12s 108ms/step - loss: 0.5996 - val_loss: 0.3527\n",
      "Epoch 3/15\n",
      "108/108 [==============================] - 12s 107ms/step - loss: 0.5957 - val_loss: 0.3548\n",
      "Epoch 4/15\n",
      "108/108 [==============================] - 12s 107ms/step - loss: 0.5948 - val_loss: 0.3516\n",
      "Epoch 5/15\n",
      "108/108 [==============================] - 11s 106ms/step - loss: 0.5943 - val_loss: 0.3542\n",
      "Epoch 6/15\n",
      "108/108 [==============================] - 12s 107ms/step - loss: 0.5940 - val_loss: 0.3535\n",
      "Epoch 7/15\n",
      "108/108 [==============================] - 12s 108ms/step - loss: 0.5939 - val_loss: 0.3511\n",
      "Epoch 8/15\n",
      "108/108 [==============================] - 12s 108ms/step - loss: 0.5936 - val_loss: 0.3515\n",
      "Epoch 9/15\n",
      "108/108 [==============================] - 11s 106ms/step - loss: 0.5937 - val_loss: 0.3504\n",
      "Epoch 10/15\n",
      "108/108 [==============================] - 11s 106ms/step - loss: 0.5936 - val_loss: 0.3496\n",
      "Epoch 11/15\n",
      "108/108 [==============================] - 12s 108ms/step - loss: 0.5935 - val_loss: 0.3546\n",
      "Epoch 12/15\n",
      "108/108 [==============================] - 12s 107ms/step - loss: 0.5933 - val_loss: 0.3514\n",
      "Epoch 13/15\n",
      "108/108 [==============================] - 11s 106ms/step - loss: 0.5935 - val_loss: 0.3494\n",
      "Epoch 14/15\n",
      "108/108 [==============================] - 11s 106ms/step - loss: 0.5930 - val_loss: 0.3442\n",
      "Epoch 15/15\n",
      "108/108 [==============================] - 11s 106ms/step - loss: 0.5934 - val_loss: 0.3524\n"
     ]
    },
    {
     "name": "stderr",
     "output_type": "stream",
     "text": [
      "WARNING:absl:Found untraced functions such as lstm_cell_layer_call_fn, lstm_cell_layer_call_and_return_conditional_losses while saving (showing 2 of 2). These functions will not be directly callable after loading.\n"
     ]
    },
    {
     "name": "stdout",
     "output_type": "stream",
     "text": [
      "INFO:tensorflow:Assets written to: Hybrid Multivariate/Month0_1_step_lookahead\\assets\n"
     ]
    },
    {
     "name": "stderr",
     "output_type": "stream",
     "text": [
      "INFO:tensorflow:Assets written to: Hybrid Multivariate/Month0_1_step_lookahead\\assets\n",
      "WARNING:absl:<keras.layers.recurrent.LSTMCell object at 0x000002359B5AC070> has the same name 'LSTMCell' as a built-in Keras object. Consider renaming <class 'keras.layers.recurrent.LSTMCell'> to avoid naming conflicts when loading with `tf.keras.models.load_model`. If renaming is not possible, pass the object in the `custom_objects` parameter of the load function.\n"
     ]
    },
    {
     "name": "stdout",
     "output_type": "stream",
     "text": [
      "108/108 [==============================] - 5s 40ms/step\n",
      "46/46 [==============================] - 2s 43ms/step\n"
     ]
    },
    {
     "name": "stderr",
     "output_type": "stream",
     "text": [
      "D:\\Anaconda\\lib\\site-packages\\pandas\\core\\frame.py:3678: SettingWithCopyWarning: \n",
      "A value is trying to be set on a copy of a slice from a DataFrame.\n",
      "Try using .loc[row_indexer,col_indexer] = value instead\n",
      "\n",
      "See the caveats in the documentation: https://pandas.pydata.org/pandas-docs/stable/user_guide/indexing.html#returning-a-view-versus-a-copy\n",
      "  self[col] = igetitem(value, i)\n",
      "D:\\Anaconda\\lib\\site-packages\\pandas\\core\\frame.py:3678: SettingWithCopyWarning: \n",
      "A value is trying to be set on a copy of a slice from a DataFrame.\n",
      "Try using .loc[row_indexer,col_indexer] = value instead\n",
      "\n",
      "See the caveats in the documentation: https://pandas.pydata.org/pandas-docs/stable/user_guide/indexing.html#returning-a-view-versus-a-copy\n",
      "  self[col] = igetitem(value, i)\n"
     ]
    }
   ],
   "source": [
    "#Create Training Examples for all lookaheads\n",
    "resample_rate = '5T'\n",
    "end_dates = ['2021-12-26 23:55:00', '2022-01-26 23:55:00', '2022-02-26 23:55:00', '2022-03-26 23:55:00', '2022-04-26 23:55:00'  ]\n",
    "Start_dates = ['2021-11-26 00:00:00', '2021-12-26 00:00:00', '2022-01-26 23:55:00', '2022-02-26 23:55:00', '2022-03-26 23:55:00']\n",
    "\n",
    "#end_dates = ['2022-01-26 23:55:00', '2022-03-26 23:55:00']\n",
    "#Start_dates = ['2021-11-26 00:00:00', '2022-01-26 00:00:00']\n",
    "inputs = ['min_gas_price', 'block_gas_5th_percentile', 'block_gas_95th_percentile', 'gas_used', 'base_fee_per_gas', 'transaction_count', 'size', 'Open', 'contracts']\n",
    "#No of timesteps behind to forecast on, no of timesteps to forecast ahead\n",
    "n_steps_in = 4032\n",
    "n_steps_out = 1\n",
    "#How many timesteps between start of training examples\n",
    "step_interval = 1\n",
    "n_step_lookahead = 1\n",
    "recursive_lookahead=2\n",
    "\n",
    "\n",
    "\n",
    "\n",
    "dict_indexes=[]\n",
    "dict_dfs=[]\n",
    "n_step_lookahead = 1\n",
    "RMSE_list, MAE_list, MAPE_list, R2_list, MSE_list = [],[],[],[],[]\n",
    "y_hat_list=[]\n",
    "train_loss_list=[]\n",
    "val_loss_list=[]\n",
    "for month in [0]:\n",
    "    n_step_lookahead = 1\n",
    "    start_date=Start_dates[month]\n",
    "    end_date=end_dates[month]\n",
    "    X_train, y_train, X_val, y_val, scaler = generate_training_val_examples(data)\n",
    "    X_train2, y_train2, X_val2, y_val2, scaler2 = generate_training_val_examples(data)\n",
    "    RMSE_list, MAE_list, MAPE_list, R2_list, MSE_list = [],[],[],[],[]\n",
    "    y_hat_list=[]\n",
    "    train_loss_list=[]\n",
    "    val_loss_list=[]\n",
    "    for i in range(1,recursive_lookahead):\n",
    "        n_step_lookahead = i\n",
    "        X_train = X_train[:len(y_train)]\n",
    "        X_val = X_val[:len(y_val2)]\n",
    "\n",
    "\n",
    "\n",
    "        model = LSTM_model()\n",
    "        train_history = model.fit(X_train, y_train,validation_data=(X_val, y_val), epochs=15, verbose=1)\n",
    "        train_loss_list.append(train_history.history['loss'])\n",
    "        val_loss_list.append(train_history.history['val_loss'])\n",
    "        model.save(('Hybrid Multivariate/Month' +str(month) +'_' + str(i) + '_step_lookahead'))\n",
    "\n",
    "        yhat_train = model.predict(X_train, verbose=1)\n",
    "        yhat_val = model.predict(X_val, verbose=1)\n",
    "        y_hat_list.append(yhat_val)\n",
    "\n",
    "        x_train_extended = []\n",
    "        for k in range(0, len(X_train)):\n",
    "            X_train_t = np.append(X_train[k], yhat_train[k]).reshape((X_train.shape[1]+1),len(inputs))\n",
    "            x_train_extended.append(X_train_t)\n",
    "\n",
    "        x_val_extended = []\n",
    "        for l in range(0, len(X_val)):\n",
    "            X_val_t = np.append(X_val[l], yhat_val[l]).reshape((X_val.shape[1]+1),len(inputs))\n",
    "            x_val_extended.append(X_val_t)\n",
    "\n",
    "        RMSE, MAE, MAPE, R2, MSE = descale_y_retrun_metrics(yhat_val, y_val2)\n",
    "        RMSE_list.append(RMSE)\n",
    "        MAE_list.append(MAE)\n",
    "        MAPE_list.append(MAPE)\n",
    "        R2_list.append(R2)\n",
    "        MSE_list.append(MSE)   \n",
    "\n",
    "        x_train = np.array(x_train_extended)\n",
    "        x_val = np.array(x_val_extended)\n",
    "        x_train = x_train.reshape(x_train.shape[0], x_train.shape[1],len(inputs))\n",
    "        x_val = x_val.reshape(x_val.shape[0], x_val.shape[1],len(inputs))\n",
    "        X_train = x_train[:,1:]\n",
    "        X_val = x_val[:,1:]\n",
    "\n",
    "\n",
    "\n",
    "        n_step_lookahead = i+1\n",
    "        X_traindummy, y_train, X_valdummy, y_val, scaler = generate_training_val_examples(data)\n",
    "        X_train2, y_train2, X_val2, y_val2, scaler2 = generate_training_val_examples(data)\n",
    "        if i==max(range(1,recursive_lookahead)):\n",
    "            pd.DataFrame(train_loss_list).to_csv('Hybrid Multivariate/Month'+str(month)+'_train_loss.csv')\n",
    "            pd.DataFrame(val_loss_list).to_csv('Hybrid Multivariate/Month'+str(month)+'_val_loss.csv')\n",
    "            metrics_df = pd.DataFrame({'RMSE':RMSE_list, 'MSE':MSE_list, 'MAE':MAE_list, 'MAPE':MAPE_list, 'R2':R2_list}, index=range(1,recursive_lookahead))\n",
    "            dict_dfs.append(metrics_df)\n",
    "            dict_indexes.append('Month_' +str(month))\n",
    "            \n",
    "        \n",
    "metrics_dict = dict(zip(dict_indexes, dict_dfs))\n",
    "np.save(\"Hybrid Multivariate/metric_dict_1.npy\", metrics_dict)       \n",
    "            "
   ]
  },
  {
   "cell_type": "code",
   "execution_count": 20,
   "id": "bcbce871-8c28-4216-8129-0cf7c4a2ed39",
   "metadata": {},
   "outputs": [
    {
     "data": {
      "text/html": [
       "<div>\n",
       "<style scoped>\n",
       "    .dataframe tbody tr th:only-of-type {\n",
       "        vertical-align: middle;\n",
       "    }\n",
       "\n",
       "    .dataframe tbody tr th {\n",
       "        vertical-align: top;\n",
       "    }\n",
       "\n",
       "    .dataframe thead th {\n",
       "        text-align: right;\n",
       "    }\n",
       "</style>\n",
       "<table border=\"1\" class=\"dataframe\">\n",
       "  <thead>\n",
       "    <tr style=\"text-align: right;\">\n",
       "      <th></th>\n",
       "      <th>RMSE</th>\n",
       "      <th>MSE</th>\n",
       "      <th>MAE</th>\n",
       "      <th>MAPE</th>\n",
       "      <th>R2</th>\n",
       "    </tr>\n",
       "  </thead>\n",
       "  <tbody>\n",
       "    <tr>\n",
       "      <th>1</th>\n",
       "      <td>24.417865</td>\n",
       "      <td>596.232153</td>\n",
       "      <td>19.611333</td>\n",
       "      <td>0.3192</td>\n",
       "      <td>-0.042374</td>\n",
       "    </tr>\n",
       "  </tbody>\n",
       "</table>\n",
       "</div>"
      ],
      "text/plain": [
       "        RMSE         MSE        MAE    MAPE        R2\n",
       "1  24.417865  596.232153  19.611333  0.3192 -0.042374"
      ]
     },
     "execution_count": 20,
     "metadata": {},
     "output_type": "execute_result"
    }
   ],
   "source": [
    "metrics_df"
   ]
  },
  {
   "cell_type": "markdown",
   "id": "65cf2429-887b-4ef9-9255-169e8ea494f8",
   "metadata": {},
   "source": [
    "We are getting a performanace decrease when the model is trained for multiple outputs, further, the model does not seem to learn after a single epoch . This presents an issue for the multivariate hybrid approach; does a different model need to be trained for each variable? This would take apporoximately 6 hours to train for a single model; back testing would take a long time"
   ]
  },
  {
   "cell_type": "markdown",
   "id": "21b62917-fdc7-487c-9136-0a77f227527d",
   "metadata": {},
   "source": [
    "### Lets get metrics for all variables"
   ]
  },
  {
   "cell_type": "code",
   "execution_count": 36,
   "id": "3a0c24d8-1238-4db8-9e84-aa038ed0ba34",
   "metadata": {},
   "outputs": [],
   "source": [
    "RMSE_list, MAE_list, MAPE_list, R2_list, MSE_list = [],[],[],[],[]\n",
    "for i in range(0,9):\n",
    "    pred_descaled= (scaler.inverse_transform(array([yhat_val,]*(len(inputs))).transpose()[0]))[:, i]\n",
    "    groud_truth_descaled= (scaler2.inverse_transform(array([y_val,]*(len(inputs))).transpose()[0][0]))[ :, i]\n",
    "    \n",
    "\n",
    "    \n",
    "    RMSE = mean_squared_error(groud_truth_descaled, pred_descaled, squared=False)\n",
    "    MSE = mean_squared_error(groud_truth_descaled, pred_descaled, squared=True)\n",
    "    MAE = mean_absolute_error(groud_truth_descaled, pred_descaled)\n",
    "    MAPE = mean_absolute_percentage_error(groud_truth_descaled, pred_descaled)\n",
    "    R2 = r2_score(groud_truth_descaled, pred_descaled)\n",
    "    RMSE_list.append(RMSE)\n",
    "    MAE_list.append(MAE)\n",
    "    MAPE_list.append(MAPE)\n",
    "    R2_list.append(R2)\n",
    "    MSE_list.append(MSE) \n",
    "    \n",
    "metrics = pd.DataFrame({'RMSE':RMSE_list, 'MSE':MSE_list, 'MAE':MAE_list, 'MAPE':MAPE_list, 'R2':R2_list}, index=inputs)\n",
    "\n",
    "    "
   ]
  },
  {
   "cell_type": "code",
   "execution_count": 40,
   "id": "087d04ed-7b12-422d-9da4-cd1ac39b0e6e",
   "metadata": {},
   "outputs": [
    {
     "data": {
      "text/html": [
       "<div>\n",
       "<style scoped>\n",
       "    .dataframe tbody tr th:only-of-type {\n",
       "        vertical-align: middle;\n",
       "    }\n",
       "\n",
       "    .dataframe tbody tr th {\n",
       "        vertical-align: top;\n",
       "    }\n",
       "\n",
       "    .dataframe thead th {\n",
       "        text-align: right;\n",
       "    }\n",
       "</style>\n",
       "<table border=\"1\" class=\"dataframe\">\n",
       "  <thead>\n",
       "    <tr style=\"text-align: right;\">\n",
       "      <th></th>\n",
       "      <th>RMSE</th>\n",
       "      <th>MSE</th>\n",
       "      <th>MAE</th>\n",
       "      <th>MAPE</th>\n",
       "      <th>R2</th>\n",
       "    </tr>\n",
       "  </thead>\n",
       "  <tbody>\n",
       "    <tr>\n",
       "      <th>min_gas_price</th>\n",
       "      <td>24.417865</td>\n",
       "      <td>5.962322e+02</td>\n",
       "      <td>19.611333</td>\n",
       "      <td>0.319200</td>\n",
       "      <td>-0.042374</td>\n",
       "    </tr>\n",
       "    <tr>\n",
       "      <th>block_gas_5th_percentile</th>\n",
       "      <td>26.712095</td>\n",
       "      <td>7.135360e+02</td>\n",
       "      <td>21.453955</td>\n",
       "      <td>0.363973</td>\n",
       "      <td>-0.042374</td>\n",
       "    </tr>\n",
       "    <tr>\n",
       "      <th>block_gas_95th_percentile</th>\n",
       "      <td>42.668984</td>\n",
       "      <td>1.820642e+03</td>\n",
       "      <td>34.269812</td>\n",
       "      <td>0.429470</td>\n",
       "      <td>-0.042374</td>\n",
       "    </tr>\n",
       "    <tr>\n",
       "      <th>gas_used</th>\n",
       "      <td>669550.810325</td>\n",
       "      <td>4.482983e+11</td>\n",
       "      <td>537753.146371</td>\n",
       "      <td>0.032236</td>\n",
       "      <td>-0.042374</td>\n",
       "    </tr>\n",
       "    <tr>\n",
       "      <th>base_fee_per_gas</th>\n",
       "      <td>21.093605</td>\n",
       "      <td>4.449402e+02</td>\n",
       "      <td>16.941436</td>\n",
       "      <td>0.264557</td>\n",
       "      <td>-0.042374</td>\n",
       "    </tr>\n",
       "    <tr>\n",
       "      <th>transaction_count</th>\n",
       "      <td>12.819530</td>\n",
       "      <td>1.643404e+02</td>\n",
       "      <td>10.296071</td>\n",
       "      <td>0.051783</td>\n",
       "      <td>-0.042374</td>\n",
       "    </tr>\n",
       "    <tr>\n",
       "      <th>size</th>\n",
       "      <td>6869.776577</td>\n",
       "      <td>4.719383e+07</td>\n",
       "      <td>5517.496045</td>\n",
       "      <td>0.060487</td>\n",
       "      <td>-0.042374</td>\n",
       "    </tr>\n",
       "    <tr>\n",
       "      <th>Open</th>\n",
       "      <td>186.300499</td>\n",
       "      <td>3.470788e+04</td>\n",
       "      <td>149.628193</td>\n",
       "      <td>0.047305</td>\n",
       "      <td>-0.042374</td>\n",
       "    </tr>\n",
       "    <tr>\n",
       "      <th>contracts</th>\n",
       "      <td>17.014927</td>\n",
       "      <td>2.895077e+02</td>\n",
       "      <td>13.665625</td>\n",
       "      <td>0.357373</td>\n",
       "      <td>-0.042374</td>\n",
       "    </tr>\n",
       "  </tbody>\n",
       "</table>\n",
       "</div>"
      ],
      "text/plain": [
       "                                    RMSE           MSE            MAE  \\\n",
       "min_gas_price                  24.417865  5.962322e+02      19.611333   \n",
       "block_gas_5th_percentile       26.712095  7.135360e+02      21.453955   \n",
       "block_gas_95th_percentile      42.668984  1.820642e+03      34.269812   \n",
       "gas_used                   669550.810325  4.482983e+11  537753.146371   \n",
       "base_fee_per_gas               21.093605  4.449402e+02      16.941436   \n",
       "transaction_count              12.819530  1.643404e+02      10.296071   \n",
       "size                         6869.776577  4.719383e+07    5517.496045   \n",
       "Open                          186.300499  3.470788e+04     149.628193   \n",
       "contracts                      17.014927  2.895077e+02      13.665625   \n",
       "\n",
       "                               MAPE        R2  \n",
       "min_gas_price              0.319200 -0.042374  \n",
       "block_gas_5th_percentile   0.363973 -0.042374  \n",
       "block_gas_95th_percentile  0.429470 -0.042374  \n",
       "gas_used                   0.032236 -0.042374  \n",
       "base_fee_per_gas           0.264557 -0.042374  \n",
       "transaction_count          0.051783 -0.042374  \n",
       "size                       0.060487 -0.042374  \n",
       "Open                       0.047305 -0.042374  \n",
       "contracts                  0.357373 -0.042374  "
      ]
     },
     "execution_count": 40,
     "metadata": {},
     "output_type": "execute_result"
    }
   ],
   "source": [
    "metrics"
   ]
  }
 ],
 "metadata": {
  "kernelspec": {
   "display_name": "Python 3 (ipykernel)",
   "language": "python",
   "name": "python3"
  },
  "language_info": {
   "codemirror_mode": {
    "name": "ipython",
    "version": 3
   },
   "file_extension": ".py",
   "mimetype": "text/x-python",
   "name": "python",
   "nbconvert_exporter": "python",
   "pygments_lexer": "ipython3",
   "version": "3.9.7"
  }
 },
 "nbformat": 4,
 "nbformat_minor": 5
}
