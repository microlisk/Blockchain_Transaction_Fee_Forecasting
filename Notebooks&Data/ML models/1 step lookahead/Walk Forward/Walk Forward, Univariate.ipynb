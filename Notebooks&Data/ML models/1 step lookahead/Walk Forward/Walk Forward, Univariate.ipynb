{
 "cells": [
  {
   "cell_type": "markdown",
   "id": "ed254beb-b30d-40dd-b1ab-1675290adaa0",
   "metadata": {},
   "source": [
    "# Walk forward univariate"
   ]
  },
  {
   "cell_type": "markdown",
   "id": "273cf8a4-056b-49a8-8123-cc15d8f2f71b",
   "metadata": {},
   "source": [
    "Lets test walk forward validation on a univariate model"
   ]
  },
  {
   "cell_type": "markdown",
   "id": "c31ac40a-248e-4c91-b5b1-d3e24d9577ca",
   "metadata": {},
   "source": [
    "Time to train walking forward with each timestep would lead to excessive training times as there is a lot of data. Lets train a model then walk the training/validation window forward by one day until we have assesed all the data"
   ]
  },
  {
   "cell_type": "markdown",
   "id": "8c14f65b-83ab-4af1-a114-621420eb1438",
   "metadata": {},
   "source": [
    "We can plot how the metrics change over time to visualise how the data becomes easier or harder to model"
   ]
  },
  {
   "cell_type": "markdown",
   "id": "739c47f6-0e3e-4c20-9652-eb70e51342ef",
   "metadata": {
    "jp-MarkdownHeadingCollapsed": true,
    "tags": []
   },
   "source": [
    "## Load data and functions"
   ]
  },
  {
   "cell_type": "code",
   "execution_count": 22,
   "id": "2243fdcb-c389-4556-be27-9373234fc591",
   "metadata": {},
   "outputs": [],
   "source": [
    "from datetime import datetime\n",
    "import pandas as pd\n",
    "import numpy as np\n",
    "from numpy import array\n",
    "from numpy import mean\n",
    "from numpy import std\n",
    "import tensorflow as tf\n",
    "from tensorflow import keras\n",
    "from keras import optimizers\n",
    "from keras.models import Sequential\n",
    "from keras import callbacks\n",
    "from tensorflow.keras.utils import plot_model\n",
    "from tensorflow.keras.layers import LSTM, Dense, Dropout, TimeDistributed, Conv1D, MaxPooling1D, Flatten, Bidirectional, Input, Flatten, Activation, Reshape, RepeatVector, Concatenate\n",
    "from tensorflow.keras.models import Model\n",
    "import matplotlib.pyplot as plt\n",
    "\n"
   ]
  },
  {
   "cell_type": "code",
   "execution_count": 2,
   "id": "fd68e3ae-22e3-43af-b5e2-abdca3c87420",
   "metadata": {},
   "outputs": [],
   "source": [
    "def split_sequence(sequence, n_steps_in, n_steps_out, step_interval, n_step_lookahead):\n",
    "    X, y = list(), list()\n",
    "    example_count = int((len(sequence)/step_interval))\n",
    "    for i in range(example_count):\n",
    "        # find the end of this pattern\n",
    "        end_ix = (i*step_interval) + n_steps_in\n",
    "        out_start_ix = end_ix + n_step_lookahead -1\n",
    "        out_end_ix = end_ix + n_steps_out + n_step_lookahead -1\n",
    "        # check if we are beyond the sequence\n",
    "        if out_end_ix > len(sequence):\n",
    "            break\n",
    "        # gather input and output parts of the pattern\n",
    "        seq_x, seq_y = sequence[(i*step_interval):end_ix], sequence[out_start_ix:out_end_ix]\n",
    "        X.append(seq_x)\n",
    "        y.append(seq_y)\n",
    "    return array(X), array(y)"
   ]
  },
  {
   "cell_type": "code",
   "execution_count": 3,
   "id": "479cb03e-33f8-4df8-afe6-82b2351713ed",
   "metadata": {},
   "outputs": [
    {
     "data": {
      "text/plain": [
       "(array([[0, 1, 2, 3, 4],\n",
       "        [1, 2, 3, 4, 5],\n",
       "        [2, 3, 4, 5, 6],\n",
       "        [3, 4, 5, 6, 7]]),\n",
       " array([[ 9],\n",
       "        [10],\n",
       "        [11],\n",
       "        [12]]))"
      ]
     },
     "execution_count": 3,
     "metadata": {},
     "output_type": "execute_result"
    }
   ],
   "source": [
    "#To demonstrate above function\n",
    "sequence = range(0,13)\n",
    "n_steps_in = 1\n",
    "n_steps_in = 5\n",
    "n_steps_out =1\n",
    "step_interval =1\n",
    "n_step_lookahead=5\n",
    "split_sequence(sequence, n_steps_in, n_steps_out, step_interval, n_step_lookahead)"
   ]
  },
  {
   "cell_type": "code",
   "execution_count": 4,
   "id": "71242122-b9c7-4b3e-8bad-7f44d1f0a345",
   "metadata": {},
   "outputs": [],
   "source": [
    "percentile_data = pd.read_csv (r'C:\\Users/conal/Desktop/MCM/Practicum - Copy/data/block gas price percentile data.csv', header=0)\n",
    "percentile_data['datetime'] = pd.to_datetime(percentile_data['block_timestamp'], format = '%Y-%m-%d %H:%M:%S UTC')\n",
    "\n",
    "percentile_data = percentile_data.sort_values(by='datetime',ascending=False)\n",
    "percentile_data = percentile_data.set_index('datetime')\n",
    "percentile_data = percentile_data.resample('5T').mean()\n",
    "percentile_data = percentile_data/1000000000"
   ]
  },
  {
   "cell_type": "code",
   "execution_count": 5,
   "id": "addfff7a-1ca9-4e3c-b832-ef9531018074",
   "metadata": {},
   "outputs": [],
   "source": [
    "usage_data = pd.read_csv (r'C:\\Users\\conal\\Desktop\\MCM\\Practicum - Copy\\data\\ETH,gas,usage merged 11-26 to 05-26.csv', header=0)\n",
    "usage_data['datetime'] = pd.to_datetime(usage_data['datetime'], format = '%Y-%m-%d %H:%M:%S')\n",
    "usage_data = usage_data.set_index('datetime')\n",
    "\n",
    "usage_data = usage_data.squeeze()\n",
    "usage_data = usage_data.astype('float')\n",
    "usage_data = usage_data.resample('5T').mean()"
   ]
  },
  {
   "cell_type": "code",
   "execution_count": 6,
   "id": "6249d6f0-1245-44dc-8b97-18b4efb26ed4",
   "metadata": {},
   "outputs": [],
   "source": [
    "usage_data2 = pd.read_csv (r'C:\\Users\\conal\\Desktop\\MCM\\Practicum - Copy\\data\\Contract counts 2021-11-26 to 2022-05-26.csv', header=0, index_col=0)\n",
    "usage_data2['datetime'] = pd.to_datetime(usage_data2['block_timestamp'], format = '%Y-%m-%d %H:%M:%S') \n",
    "usage_data2 = usage_data2.set_index('datetime')\n",
    "usage_data2 = usage_data2.drop(['block_timestamp'], axis=1)\n",
    "usage_data2 = usage_data2.squeeze()\n",
    "usage_data2 = usage_data2.astype('float')\n",
    "usage_data2 = usage_data2.resample('5T').sum()"
   ]
  },
  {
   "cell_type": "code",
   "execution_count": 7,
   "id": "ecd8d838-d20b-44b3-b500-60255a2a295f",
   "metadata": {},
   "outputs": [],
   "source": [
    "data = usage_data.merge(percentile_data, left_index=True, right_index=True)\n",
    "data = data.merge(usage_data2, left_index=True, right_index=True)"
   ]
  },
  {
   "cell_type": "markdown",
   "id": "9123a9bf",
   "metadata": {},
   "source": [
    "Load data, datetime to index, downsample with left edge label, convert wei to gwei"
   ]
  },
  {
   "cell_type": "code",
   "execution_count": 8,
   "id": "ac449a8e",
   "metadata": {},
   "outputs": [],
   "source": [
    "def generate_training_val_examples_univariate_output(data):\n",
    " \n",
    "    #Filter inputs, standardize\n",
    "    data =data[inputs]\n",
    "    scaler = StandardScaler()\n",
    "    data[inputs] = scaler.fit_transform(data[inputs])\n",
    "    \n",
    "\n",
    "    #Creat input:output examples\n",
    "    data = data[start_date:end_date].to_numpy()\n",
    "    X, y = split_sequence(data, n_steps_in, n_steps_out, step_interval, n_step_lookahead)\n",
    "    \n",
    "    X_train, X_val = np.split(X, [int(0.7 * len(X))])\n",
    "    \n",
    "    y_train, y_val = np.split(y, [int(0.7 * len(X))])\n",
    "\n",
    "    \n",
    "    #Reshape to 3D for LSTM, filter output to only the first input\n",
    "    X_train = X_train.reshape((X_train.shape[0], X_train.shape[1], len(inputs)))\n",
    "    y_train =y_train.reshape((y_train.shape[0], y_train.shape[1], len(inputs)))[:,:,:1]\n",
    "    X_val = X_val.reshape((X_val.shape[0], X_val.shape[1], len(inputs)))\n",
    "    y_val = y_val.reshape((y_val.shape[0], y_val.shape[1], len(inputs)))[:,:,:1]\n",
    "\n",
    "    \n",
    "    return X_train, y_train, X_val, y_val, scaler\n"
   ]
  },
  {
   "cell_type": "code",
   "execution_count": 9,
   "id": "f5878928-c13c-4766-bcfe-2a6d1de3a51f",
   "metadata": {},
   "outputs": [],
   "source": [
    "from sklearn.preprocessing import MinMaxScaler\n",
    "from sklearn.preprocessing import StandardScaler\n",
    "from sklearn.metrics import r2_score\n",
    "from sklearn.metrics import mean_squared_error\n",
    "from sklearn.metrics import mean_absolute_error\n",
    "from sklearn.metrics import mean_absolute_percentage_error\n"
   ]
  },
  {
   "cell_type": "code",
   "execution_count": 10,
   "id": "464a45e7-5fd8-42b5-8d79-ca17e2da26c1",
   "metadata": {},
   "outputs": [],
   "source": [
    "def descale_y_retrun_metrics(yhat, y_val2):\n",
    "    #reverts standard scaling, returns dictionary of metrics for each output, for all lookaheads\n",
    "    dict_indexes=[]\n",
    "    dict_dfs=[]\n",
    "    for j in range(0, n_steps_out):\n",
    "        RMSE_list, MAE_list, MAPE_list, R2_list, MSE_list = [],[],[],[],[]\n",
    "        for i in range(0, len(inputs)):  \n",
    "            pred_descaled= (scaler.inverse_transform(yhat[:,j:j+1,:].reshape(yhat.shape[0], yhat.shape[2])))[:, i:i+1]\n",
    "            groud_truth_descaled= ((scaler.inverse_transform(y_val2[:,j:j+1,:].reshape(y_val2.shape[0], y_val2.shape[2]))))[:, i:i+1]\n",
    "            RMSE = mean_squared_error(groud_truth_descaled, pred_descaled, squared=False)\n",
    "            MSE = mean_squared_error(groud_truth_descaled, pred_descaled, squared=True)\n",
    "            MAE = mean_absolute_error(groud_truth_descaled, pred_descaled)\n",
    "            MAPE = mean_absolute_percentage_error(groud_truth_descaled, pred_descaled)\n",
    "            R2 = r2_score(groud_truth_descaled, pred_descaled)\n",
    "            RMSE_list.append(RMSE)\n",
    "            MAE_list.append(MAE)\n",
    "            MAPE_list.append(MAPE)\n",
    "            R2_list.append(R2)\n",
    "            MSE_list.append(MSE)\n",
    "        metrics_df = pd.DataFrame({'RMSE':RMSE_list, 'MSE':MSE_list, 'MAE':MAE_list, 'MAPE':MAPE_list, 'R2':R2_list}, index=inputs)\n",
    "        dict_dfs.append(metrics_df)\n",
    "        dict_indexes.append('Lookahead' +str(j))\n",
    "    metrics_dict = dict(zip(dict_indexes, dict_dfs))\n",
    "    return metrics_dict"
   ]
  },
  {
   "cell_type": "code",
   "execution_count": 11,
   "id": "56029e3c-602d-4fec-ae79-6988dcd5ae20",
   "metadata": {},
   "outputs": [],
   "source": [
    "def descale_y_retrun_metrics_univariate_y(yhat, y_val2):\n",
    "    #reverts standard scaling, returns dictionary of metrics for single output, for all lookaheads\n",
    "    dict_indexes=[]\n",
    "    dict_dfs=[]\n",
    "    RMSE_list, MAE_list, MAPE_list, R2_list, MSE_list = [],[],[],[],[]\n",
    "    for j in range(0, n_steps_out):\n",
    "        pred_descaled= scaler.inverse_transform(yhat)\n",
    "        groud_truth_descaled= scaler.inverse_transform(y_val2[:,0,])\n",
    "        RMSE = mean_squared_error(groud_truth_descaled, pred_descaled, squared=False)\n",
    "        MSE = mean_squared_error(groud_truth_descaled, pred_descaled, squared=True)\n",
    "        MAE = mean_absolute_error(groud_truth_descaled, pred_descaled)\n",
    "        MAPE = mean_absolute_percentage_error(groud_truth_descaled, pred_descaled)\n",
    "        R2 = r2_score(groud_truth_descaled, pred_descaled)\n",
    "        RMSE_list.append(RMSE)\n",
    "        MAE_list.append(MAE)\n",
    "        MAPE_list.append(MAPE)\n",
    "        R2_list.append(R2)\n",
    "        MSE_list.append(MSE)\n",
    "    metrics_df = pd.DataFrame({'RMSE':RMSE_list, 'MSE':MSE_list, 'MAE':MAE_list, 'MAPE':MAPE_list, 'R2':R2_list}, index=range(1, (n_steps_out+1)))\n",
    "\n",
    " \n",
    "    return metrics_df"
   ]
  },
  {
   "cell_type": "code",
   "execution_count": 44,
   "id": "59d345e1-b61a-4ca0-a546-5d11c2ae299a",
   "metadata": {},
   "outputs": [],
   "source": [
    "def LSTM_model():\n",
    "    checkpoint_filepath='./walk_forward/'\n",
    "    model_checkpoint_callback = keras.callbacks.ModelCheckpoint(\n",
    "    filepath=checkpoint_filepath,\n",
    "    save_weights_only=True,\n",
    "    monitor='val_loss',\n",
    "    mode='min',\n",
    "    save_best_only=True)\n",
    "    \n",
    "    model = Sequential()\n",
    "    model.add(LSTM(units =15,activation='tanh',input_shape=(n_steps_in, len(inputs)),dropout=0.01))\n",
    "    model.add(Dense(n_steps_out))\n",
    "    model.compile(optimizer='adam', loss='mse')\n",
    "    return model, model_checkpoint_callback, checkpoint_filepath"
   ]
  },
  {
   "cell_type": "markdown",
   "id": "b56bafc0-1de1-428d-9dc2-85c26cecfdaf",
   "metadata": {},
   "source": [
    "## Loop for training models"
   ]
  },
  {
   "cell_type": "code",
   "execution_count": 45,
   "id": "43028e66-0ae3-4aa2-8db6-5c4b95571b8f",
   "metadata": {
    "tags": []
   },
   "outputs": [],
   "source": [
    "start_date_list_py = pd.date_range(start='2021-11-26 00:00:00',end=\"2022-04-26 00:00:00\").to_pydatetime().tolist()\n",
    "end_date_list_py = pd.date_range(start='2021-12-26 23:55:00',end=\"2022-04-26 23:55:00\").to_pydatetime().tolist()\n",
    "\n",
    "start_dates=[]\n",
    "end_dates=[]\n",
    "\n",
    "for i in start_date_list_py:\n",
    "    start_dates.append(i.strftime(\"%Y-%m-%d %H:%M:%S\"))\n",
    "    \n",
    "for i in end_date_list_py:\n",
    "    end_dates.append(i.strftime(\"%Y-%m-%d %H:%M:%S\"))"
   ]
  },
  {
   "cell_type": "code",
   "execution_count": 53,
   "id": "d85f0a74-b6c8-4ba0-aca0-8b2774d56f21",
   "metadata": {
    "collapsed": true,
    "jupyter": {
     "outputs_hidden": true
    },
    "tags": []
   },
   "outputs": [
    {
     "name": "stderr",
     "output_type": "stream",
     "text": [
      "D:\\Anaconda\\lib\\site-packages\\pandas\\core\\frame.py:3678: SettingWithCopyWarning: \n",
      "A value is trying to be set on a copy of a slice from a DataFrame.\n",
      "Try using .loc[row_indexer,col_indexer] = value instead\n",
      "\n",
      "See the caveats in the documentation: https://pandas.pydata.org/pandas-docs/stable/user_guide/indexing.html#returning-a-view-versus-a-copy\n",
      "  self[col] = igetitem(value, i)\n"
     ]
    },
    {
     "name": "stdout",
     "output_type": "stream",
     "text": [
      "Epoch 1/15\n",
      "152/152 [==============================] - 11s 59ms/step - loss: 0.3873 - val_loss: 0.0447\n",
      "Epoch 2/15\n",
      "152/152 [==============================] - 8s 53ms/step - loss: 0.2894 - val_loss: 0.0350\n",
      "Epoch 3/15\n",
      "152/152 [==============================] - 8s 53ms/step - loss: 0.2503 - val_loss: 0.0319\n",
      "Epoch 4/15\n",
      "152/152 [==============================] - 8s 52ms/step - loss: 0.2315 - val_loss: 0.0327\n",
      "Epoch 5/15\n",
      "152/152 [==============================] - 8s 55ms/step - loss: 0.2196 - val_loss: 0.0291\n",
      "Epoch 6/15\n",
      "152/152 [==============================] - 8s 54ms/step - loss: 0.2121 - val_loss: 0.0294\n",
      "Epoch 7/15\n",
      "152/152 [==============================] - 8s 52ms/step - loss: 0.2077 - val_loss: 0.0305\n",
      "Epoch 8/15\n",
      "152/152 [==============================] - 8s 52ms/step - loss: 0.1993 - val_loss: 0.0302\n",
      "Epoch 9/15\n",
      "152/152 [==============================] - 8s 52ms/step - loss: 0.1972 - val_loss: 0.0295\n",
      "Epoch 10/15\n",
      "152/152 [==============================] - 8s 54ms/step - loss: 0.1940 - val_loss: 0.0287\n",
      "Epoch 11/15\n",
      "152/152 [==============================] - 8s 54ms/step - loss: 0.1922 - val_loss: 0.0294\n",
      "Epoch 12/15\n",
      "152/152 [==============================] - 8s 53ms/step - loss: 0.1898 - val_loss: 0.0298\n",
      "Epoch 13/15\n",
      "152/152 [==============================] - 8s 52ms/step - loss: 0.1984 - val_loss: 0.0295\n",
      "Epoch 14/15\n",
      "152/152 [==============================] - 8s 52ms/step - loss: 0.1872 - val_loss: 0.0295\n",
      "Epoch 15/15\n",
      "152/152 [==============================] - 8s 52ms/step - loss: 0.1870 - val_loss: 0.0302\n"
     ]
    },
    {
     "name": "stderr",
     "output_type": "stream",
     "text": [
      "WARNING:absl:Found untraced functions such as lstm_cell_5_layer_call_fn, lstm_cell_5_layer_call_and_return_conditional_losses while saving (showing 2 of 2). These functions will not be directly callable after loading.\n"
     ]
    },
    {
     "name": "stdout",
     "output_type": "stream",
     "text": [
      "INFO:tensorflow:Assets written to: Walk_forward/models/day0\\assets\n"
     ]
    },
    {
     "name": "stderr",
     "output_type": "stream",
     "text": [
      "INFO:tensorflow:Assets written to: Walk_forward/models/day0\\assets\n",
      "WARNING:absl:<keras.layers.recurrent.LSTMCell object at 0x000001D1D36BC550> has the same name 'LSTMCell' as a built-in Keras object. Consider renaming <class 'keras.layers.recurrent.LSTMCell'> to avoid naming conflicts when loading with `tf.keras.models.load_model`. If renaming is not possible, pass the object in the `custom_objects` parameter of the load function.\n"
     ]
    },
    {
     "name": "stdout",
     "output_type": "stream",
     "text": [
      "152/152 [==============================] - 4s 21ms/step\n",
      "65/65 [==============================] - 1s 19ms/step\n"
     ]
    },
    {
     "name": "stderr",
     "output_type": "stream",
     "text": [
      "D:\\Anaconda\\lib\\site-packages\\pandas\\core\\frame.py:3678: SettingWithCopyWarning: \n",
      "A value is trying to be set on a copy of a slice from a DataFrame.\n",
      "Try using .loc[row_indexer,col_indexer] = value instead\n",
      "\n",
      "See the caveats in the documentation: https://pandas.pydata.org/pandas-docs/stable/user_guide/indexing.html#returning-a-view-versus-a-copy\n",
      "  self[col] = igetitem(value, i)\n"
     ]
    },
    {
     "name": "stdout",
     "output_type": "stream",
     "text": [
      "Epoch 1/15\n",
      "152/152 [==============================] - 11s 56ms/step - loss: 0.4892 - val_loss: 0.0566\n",
      "Epoch 2/15\n",
      "152/152 [==============================] - 8s 52ms/step - loss: 0.3418 - val_loss: 0.0483\n",
      "Epoch 3/15\n",
      "152/152 [==============================] - 8s 52ms/step - loss: 0.2788 - val_loss: 0.0448\n",
      "Epoch 4/15\n",
      "152/152 [==============================] - 8s 52ms/step - loss: 0.2406 - val_loss: 0.0383\n",
      "Epoch 5/15\n",
      "152/152 [==============================] - 8s 52ms/step - loss: 0.2300 - val_loss: 0.0330\n",
      "Epoch 6/15\n",
      "152/152 [==============================] - 8s 52ms/step - loss: 0.2133 - val_loss: 0.0335\n",
      "Epoch 7/15\n",
      "152/152 [==============================] - 8s 52ms/step - loss: 0.2046 - val_loss: 0.0310\n",
      "Epoch 8/15\n",
      "152/152 [==============================] - 8s 54ms/step - loss: 0.1986 - val_loss: 0.0311\n",
      "Epoch 9/15\n",
      "152/152 [==============================] - 8s 53ms/step - loss: 0.1994 - val_loss: 0.0309\n",
      "Epoch 10/15\n",
      "152/152 [==============================] - 8s 52ms/step - loss: 0.1901 - val_loss: 0.0314\n",
      "Epoch 11/15\n",
      "152/152 [==============================] - 8s 53ms/step - loss: 0.2032 - val_loss: 0.0323\n",
      "Epoch 12/15\n",
      "152/152 [==============================] - 8s 54ms/step - loss: 0.1954 - val_loss: 0.0293\n",
      "Epoch 13/15\n",
      "152/152 [==============================] - 8s 52ms/step - loss: 0.1850 - val_loss: 0.0384\n",
      "Epoch 14/15\n",
      "152/152 [==============================] - 8s 53ms/step - loss: 0.1875 - val_loss: 0.0307\n",
      "Epoch 15/15\n",
      "152/152 [==============================] - 8s 53ms/step - loss: 0.1856 - val_loss: 0.0312\n"
     ]
    },
    {
     "name": "stderr",
     "output_type": "stream",
     "text": [
      "WARNING:absl:Found untraced functions such as lstm_cell_6_layer_call_fn, lstm_cell_6_layer_call_and_return_conditional_losses while saving (showing 2 of 2). These functions will not be directly callable after loading.\n"
     ]
    },
    {
     "name": "stdout",
     "output_type": "stream",
     "text": [
      "INFO:tensorflow:Assets written to: Walk_forward/models/day1\\assets\n"
     ]
    },
    {
     "name": "stderr",
     "output_type": "stream",
     "text": [
      "INFO:tensorflow:Assets written to: Walk_forward/models/day1\\assets\n",
      "WARNING:absl:<keras.layers.recurrent.LSTMCell object at 0x000001D21F87CDF0> has the same name 'LSTMCell' as a built-in Keras object. Consider renaming <class 'keras.layers.recurrent.LSTMCell'> to avoid naming conflicts when loading with `tf.keras.models.load_model`. If renaming is not possible, pass the object in the `custom_objects` parameter of the load function.\n"
     ]
    },
    {
     "name": "stdout",
     "output_type": "stream",
     "text": [
      "152/152 [==============================] - 4s 20ms/step\n",
      "65/65 [==============================] - 1s 19ms/step\n"
     ]
    },
    {
     "name": "stderr",
     "output_type": "stream",
     "text": [
      "D:\\Anaconda\\lib\\site-packages\\pandas\\core\\frame.py:3678: SettingWithCopyWarning: \n",
      "A value is trying to be set on a copy of a slice from a DataFrame.\n",
      "Try using .loc[row_indexer,col_indexer] = value instead\n",
      "\n",
      "See the caveats in the documentation: https://pandas.pydata.org/pandas-docs/stable/user_guide/indexing.html#returning-a-view-versus-a-copy\n",
      "  self[col] = igetitem(value, i)\n"
     ]
    },
    {
     "name": "stdout",
     "output_type": "stream",
     "text": [
      "Epoch 1/15\n",
      "152/152 [==============================] - 11s 56ms/step - loss: 0.2485 - val_loss: 0.0644\n",
      "Epoch 2/15\n",
      "152/152 [==============================] - 8s 52ms/step - loss: 0.2248 - val_loss: 0.0568\n",
      "Epoch 3/15\n",
      "152/152 [==============================] - 8s 52ms/step - loss: 0.2109 - val_loss: 0.0492\n",
      "Epoch 4/15\n",
      "152/152 [==============================] - 8s 52ms/step - loss: 0.1979 - val_loss: 0.0452\n",
      "Epoch 5/15\n",
      "152/152 [==============================] - 8s 52ms/step - loss: 0.1893 - val_loss: 0.0433\n",
      "Epoch 6/15\n",
      "152/152 [==============================] - 8s 53ms/step - loss: 0.1818 - val_loss: 0.0409\n",
      "Epoch 7/15\n",
      "152/152 [==============================] - 8s 53ms/step - loss: 0.1762 - val_loss: 0.0393\n",
      "Epoch 8/15\n",
      "152/152 [==============================] - 8s 52ms/step - loss: 0.1733 - val_loss: 0.0400\n",
      "Epoch 9/15\n",
      "152/152 [==============================] - 8s 52ms/step - loss: 0.1726 - val_loss: 0.0372\n",
      "Epoch 10/15\n",
      "152/152 [==============================] - 8s 53ms/step - loss: 0.1678 - val_loss: 0.0413\n",
      "Epoch 11/15\n",
      "152/152 [==============================] - 8s 52ms/step - loss: 0.1682 - val_loss: 0.0377\n",
      "Epoch 12/15\n",
      "152/152 [==============================] - 8s 52ms/step - loss: 0.1684 - val_loss: 0.0382\n",
      "Epoch 13/15\n",
      "152/152 [==============================] - 8s 53ms/step - loss: 0.1650 - val_loss: 0.0374\n",
      "Epoch 14/15\n",
      "152/152 [==============================] - 8s 54ms/step - loss: 0.1655 - val_loss: 0.0386\n",
      "Epoch 15/15\n",
      "152/152 [==============================] - 8s 53ms/step - loss: 0.1640 - val_loss: 0.0376\n"
     ]
    },
    {
     "name": "stderr",
     "output_type": "stream",
     "text": [
      "WARNING:absl:Found untraced functions such as lstm_cell_7_layer_call_fn, lstm_cell_7_layer_call_and_return_conditional_losses while saving (showing 2 of 2). These functions will not be directly callable after loading.\n"
     ]
    },
    {
     "name": "stdout",
     "output_type": "stream",
     "text": [
      "INFO:tensorflow:Assets written to: Walk_forward/models/day2\\assets\n"
     ]
    },
    {
     "name": "stderr",
     "output_type": "stream",
     "text": [
      "INFO:tensorflow:Assets written to: Walk_forward/models/day2\\assets\n",
      "WARNING:absl:<keras.layers.recurrent.LSTMCell object at 0x000001D248807D60> has the same name 'LSTMCell' as a built-in Keras object. Consider renaming <class 'keras.layers.recurrent.LSTMCell'> to avoid naming conflicts when loading with `tf.keras.models.load_model`. If renaming is not possible, pass the object in the `custom_objects` parameter of the load function.\n"
     ]
    },
    {
     "name": "stdout",
     "output_type": "stream",
     "text": [
      "152/152 [==============================] - 4s 21ms/step\n",
      "65/65 [==============================] - 1s 19ms/step\n"
     ]
    },
    {
     "name": "stderr",
     "output_type": "stream",
     "text": [
      "D:\\Anaconda\\lib\\site-packages\\pandas\\core\\frame.py:3678: SettingWithCopyWarning: \n",
      "A value is trying to be set on a copy of a slice from a DataFrame.\n",
      "Try using .loc[row_indexer,col_indexer] = value instead\n",
      "\n",
      "See the caveats in the documentation: https://pandas.pydata.org/pandas-docs/stable/user_guide/indexing.html#returning-a-view-versus-a-copy\n",
      "  self[col] = igetitem(value, i)\n"
     ]
    },
    {
     "name": "stdout",
     "output_type": "stream",
     "text": [
      "Epoch 1/15\n",
      "152/152 [==============================] - 12s 57ms/step - loss: 0.2434 - val_loss: 0.0696\n",
      "Epoch 2/15\n",
      "152/152 [==============================] - 8s 53ms/step - loss: 0.2171 - val_loss: 0.0601\n",
      "Epoch 3/15\n",
      "152/152 [==============================] - 8s 53ms/step - loss: 0.2060 - val_loss: 0.0538\n",
      "Epoch 4/15\n",
      "152/152 [==============================] - 8s 52ms/step - loss: 0.1933 - val_loss: 0.0484\n",
      "Epoch 5/15\n",
      "152/152 [==============================] - 8s 52ms/step - loss: 0.1834 - val_loss: 0.0448\n",
      "Epoch 6/15\n",
      "152/152 [==============================] - 8s 53ms/step - loss: 0.1766 - val_loss: 0.0431\n",
      "Epoch 7/15\n",
      "152/152 [==============================] - 8s 52ms/step - loss: 0.1713 - val_loss: 0.0424\n",
      "Epoch 8/15\n",
      "152/152 [==============================] - 8s 52ms/step - loss: 0.1681 - val_loss: 0.0414\n",
      "Epoch 9/15\n",
      "152/152 [==============================] - 8s 52ms/step - loss: 0.1649 - val_loss: 0.0413\n",
      "Epoch 10/15\n",
      "152/152 [==============================] - 8s 52ms/step - loss: 0.1630 - val_loss: 0.0415\n",
      "Epoch 11/15\n",
      "152/152 [==============================] - 8s 52ms/step - loss: 0.1629 - val_loss: 0.0422\n",
      "Epoch 12/15\n",
      "152/152 [==============================] - 8s 52ms/step - loss: 0.1643 - val_loss: 0.0417\n",
      "Epoch 13/15\n",
      "152/152 [==============================] - 8s 52ms/step - loss: 0.1608 - val_loss: 0.0425\n",
      "Epoch 14/15\n",
      "152/152 [==============================] - 8s 53ms/step - loss: 0.1596 - val_loss: 0.0424\n",
      "Epoch 15/15\n",
      "152/152 [==============================] - 8s 52ms/step - loss: 0.1585 - val_loss: 0.0430\n"
     ]
    },
    {
     "name": "stderr",
     "output_type": "stream",
     "text": [
      "WARNING:absl:Found untraced functions such as lstm_cell_8_layer_call_fn, lstm_cell_8_layer_call_and_return_conditional_losses while saving (showing 2 of 2). These functions will not be directly callable after loading.\n"
     ]
    },
    {
     "name": "stdout",
     "output_type": "stream",
     "text": [
      "INFO:tensorflow:Assets written to: Walk_forward/models/day3\\assets\n"
     ]
    },
    {
     "name": "stderr",
     "output_type": "stream",
     "text": [
      "INFO:tensorflow:Assets written to: Walk_forward/models/day3\\assets\n",
      "WARNING:absl:<keras.layers.recurrent.LSTMCell object at 0x000001D248183700> has the same name 'LSTMCell' as a built-in Keras object. Consider renaming <class 'keras.layers.recurrent.LSTMCell'> to avoid naming conflicts when loading with `tf.keras.models.load_model`. If renaming is not possible, pass the object in the `custom_objects` parameter of the load function.\n"
     ]
    },
    {
     "name": "stdout",
     "output_type": "stream",
     "text": [
      "152/152 [==============================] - 4s 21ms/step\n",
      "65/65 [==============================] - 1s 19ms/step\n"
     ]
    },
    {
     "name": "stderr",
     "output_type": "stream",
     "text": [
      "D:\\Anaconda\\lib\\site-packages\\pandas\\core\\frame.py:3678: SettingWithCopyWarning: \n",
      "A value is trying to be set on a copy of a slice from a DataFrame.\n",
      "Try using .loc[row_indexer,col_indexer] = value instead\n",
      "\n",
      "See the caveats in the documentation: https://pandas.pydata.org/pandas-docs/stable/user_guide/indexing.html#returning-a-view-versus-a-copy\n",
      "  self[col] = igetitem(value, i)\n"
     ]
    },
    {
     "name": "stdout",
     "output_type": "stream",
     "text": [
      "Epoch 1/15\n",
      "152/152 [==============================] - 12s 58ms/step - loss: 0.2343 - val_loss: 0.0710\n",
      "Epoch 2/15\n",
      "152/152 [==============================] - 8s 54ms/step - loss: 0.2201 - val_loss: 0.0612\n",
      "Epoch 3/15\n",
      "152/152 [==============================] - 8s 54ms/step - loss: 0.2086 - val_loss: 0.0548\n",
      "Epoch 4/15\n",
      "152/152 [==============================] - 8s 52ms/step - loss: 0.1965 - val_loss: 0.0489\n",
      "Epoch 5/15\n",
      "152/152 [==============================] - 8s 53ms/step - loss: 0.1833 - val_loss: 0.0458\n",
      "Epoch 6/15\n",
      "152/152 [==============================] - 8s 54ms/step - loss: 0.1748 - val_loss: 0.0445\n",
      "Epoch 7/15\n",
      "152/152 [==============================] - 8s 52ms/step - loss: 0.1675 - val_loss: 0.0448\n",
      "Epoch 8/15\n",
      "152/152 [==============================] - 8s 52ms/step - loss: 0.1651 - val_loss: 0.0440\n",
      "Epoch 9/15\n",
      "152/152 [==============================] - 8s 52ms/step - loss: 0.1649 - val_loss: 0.0467\n",
      "Epoch 10/15\n",
      "152/152 [==============================] - 8s 52ms/step - loss: 0.1601 - val_loss: 0.0436\n",
      "Epoch 11/15\n",
      "152/152 [==============================] - 8s 53ms/step - loss: 0.1586 - val_loss: 0.0445\n",
      "Epoch 12/15\n",
      "152/152 [==============================] - 8s 51ms/step - loss: 0.1581 - val_loss: 0.0442\n",
      "Epoch 13/15\n",
      "152/152 [==============================] - 8s 52ms/step - loss: 0.1560 - val_loss: 0.0453\n",
      "Epoch 14/15\n",
      "152/152 [==============================] - 8s 51ms/step - loss: 0.1549 - val_loss: 0.0453\n",
      "Epoch 15/15\n",
      "152/152 [==============================] - 8s 51ms/step - loss: 0.1542 - val_loss: 0.0457\n"
     ]
    },
    {
     "name": "stderr",
     "output_type": "stream",
     "text": [
      "WARNING:absl:Found untraced functions such as lstm_cell_9_layer_call_fn, lstm_cell_9_layer_call_and_return_conditional_losses while saving (showing 2 of 2). These functions will not be directly callable after loading.\n"
     ]
    },
    {
     "name": "stdout",
     "output_type": "stream",
     "text": [
      "INFO:tensorflow:Assets written to: Walk_forward/models/day4\\assets\n"
     ]
    },
    {
     "name": "stderr",
     "output_type": "stream",
     "text": [
      "INFO:tensorflow:Assets written to: Walk_forward/models/day4\\assets\n",
      "WARNING:absl:<keras.layers.recurrent.LSTMCell object at 0x000001D226300A30> has the same name 'LSTMCell' as a built-in Keras object. Consider renaming <class 'keras.layers.recurrent.LSTMCell'> to avoid naming conflicts when loading with `tf.keras.models.load_model`. If renaming is not possible, pass the object in the `custom_objects` parameter of the load function.\n"
     ]
    },
    {
     "name": "stdout",
     "output_type": "stream",
     "text": [
      "152/152 [==============================] - 4s 21ms/step\n",
      "65/65 [==============================] - 1s 19ms/step\n"
     ]
    },
    {
     "name": "stderr",
     "output_type": "stream",
     "text": [
      "D:\\Anaconda\\lib\\site-packages\\pandas\\core\\frame.py:3678: SettingWithCopyWarning: \n",
      "A value is trying to be set on a copy of a slice from a DataFrame.\n",
      "Try using .loc[row_indexer,col_indexer] = value instead\n",
      "\n",
      "See the caveats in the documentation: https://pandas.pydata.org/pandas-docs/stable/user_guide/indexing.html#returning-a-view-versus-a-copy\n",
      "  self[col] = igetitem(value, i)\n"
     ]
    },
    {
     "name": "stdout",
     "output_type": "stream",
     "text": [
      "Epoch 1/15\n",
      "152/152 [==============================] - 11s 61ms/step - loss: 0.2646 - val_loss: 0.0741\n",
      "Epoch 2/15\n",
      "152/152 [==============================] - 8s 51ms/step - loss: 0.2233 - val_loss: 0.0630\n",
      "Epoch 3/15\n",
      "152/152 [==============================] - 8s 52ms/step - loss: 0.2100 - val_loss: 0.0556\n",
      "Epoch 4/15\n",
      "152/152 [==============================] - 8s 52ms/step - loss: 0.1974 - val_loss: 0.0499\n",
      "Epoch 5/15\n",
      "152/152 [==============================] - 8s 52ms/step - loss: 0.1844 - val_loss: 0.0440\n",
      "Epoch 6/15\n",
      "152/152 [==============================] - 8s 52ms/step - loss: 0.1768 - val_loss: 0.0420\n",
      "Epoch 7/15\n",
      "152/152 [==============================] - 8s 54ms/step - loss: 0.1717 - val_loss: 0.0402\n",
      "Epoch 8/15\n",
      "152/152 [==============================] - 8s 54ms/step - loss: 0.1743 - val_loss: 0.0396\n",
      "Epoch 9/15\n",
      "152/152 [==============================] - 8s 53ms/step - loss: 0.1663 - val_loss: 0.0397\n",
      "Epoch 10/15\n",
      "152/152 [==============================] - 8s 52ms/step - loss: 0.1636 - val_loss: 0.0391\n",
      "Epoch 11/15\n",
      "152/152 [==============================] - 8s 54ms/step - loss: 0.1629 - val_loss: 0.0388\n",
      "Epoch 12/15\n",
      "152/152 [==============================] - 8s 53ms/step - loss: 0.1617 - val_loss: 0.0390\n",
      "Epoch 13/15\n",
      "152/152 [==============================] - 8s 55ms/step - loss: 0.1596 - val_loss: 0.0403\n",
      "Epoch 14/15\n",
      "152/152 [==============================] - 8s 54ms/step - loss: 0.1593 - val_loss: 0.0395\n",
      "Epoch 15/15\n",
      "152/152 [==============================] - 8s 53ms/step - loss: 0.1594 - val_loss: 0.0390\n"
     ]
    },
    {
     "name": "stderr",
     "output_type": "stream",
     "text": [
      "WARNING:absl:Found untraced functions such as lstm_cell_10_layer_call_fn, lstm_cell_10_layer_call_and_return_conditional_losses while saving (showing 2 of 2). These functions will not be directly callable after loading.\n"
     ]
    },
    {
     "name": "stdout",
     "output_type": "stream",
     "text": [
      "INFO:tensorflow:Assets written to: Walk_forward/models/day5\\assets\n"
     ]
    },
    {
     "name": "stderr",
     "output_type": "stream",
     "text": [
      "INFO:tensorflow:Assets written to: Walk_forward/models/day5\\assets\n",
      "WARNING:absl:<keras.layers.recurrent.LSTMCell object at 0x000001D24828B2E0> has the same name 'LSTMCell' as a built-in Keras object. Consider renaming <class 'keras.layers.recurrent.LSTMCell'> to avoid naming conflicts when loading with `tf.keras.models.load_model`. If renaming is not possible, pass the object in the `custom_objects` parameter of the load function.\n"
     ]
    },
    {
     "name": "stdout",
     "output_type": "stream",
     "text": [
      "152/152 [==============================] - 3s 20ms/step\n",
      "65/65 [==============================] - 1s 19ms/step\n"
     ]
    },
    {
     "name": "stderr",
     "output_type": "stream",
     "text": [
      "D:\\Anaconda\\lib\\site-packages\\pandas\\core\\frame.py:3678: SettingWithCopyWarning: \n",
      "A value is trying to be set on a copy of a slice from a DataFrame.\n",
      "Try using .loc[row_indexer,col_indexer] = value instead\n",
      "\n",
      "See the caveats in the documentation: https://pandas.pydata.org/pandas-docs/stable/user_guide/indexing.html#returning-a-view-versus-a-copy\n",
      "  self[col] = igetitem(value, i)\n"
     ]
    },
    {
     "name": "stdout",
     "output_type": "stream",
     "text": [
      "Epoch 1/15\n",
      "152/152 [==============================] - 11s 56ms/step - loss: 0.2556 - val_loss: 0.0856\n",
      "Epoch 2/15\n",
      "152/152 [==============================] - 8s 53ms/step - loss: 0.2207 - val_loss: 0.0673\n",
      "Epoch 3/15\n",
      "152/152 [==============================] - 8s 52ms/step - loss: 0.2069 - val_loss: 0.0563\n",
      "Epoch 4/15\n",
      "152/152 [==============================] - 8s 52ms/step - loss: 0.1896 - val_loss: 0.0501\n",
      "Epoch 5/15\n",
      "152/152 [==============================] - 8s 52ms/step - loss: 0.1781 - val_loss: 0.0464\n",
      "Epoch 6/15\n",
      "152/152 [==============================] - 8s 53ms/step - loss: 0.1715 - val_loss: 0.0445\n",
      "Epoch 7/15\n",
      "152/152 [==============================] - 8s 54ms/step - loss: 0.1664 - val_loss: 0.0433\n",
      "Epoch 8/15\n",
      "152/152 [==============================] - 8s 53ms/step - loss: 0.1671 - val_loss: 0.0428\n",
      "Epoch 9/15\n",
      "152/152 [==============================] - 8s 53ms/step - loss: 0.1619 - val_loss: 0.0436\n",
      "Epoch 10/15\n",
      "152/152 [==============================] - 8s 51ms/step - loss: 0.1611 - val_loss: 0.0435\n",
      "Epoch 11/15\n",
      "152/152 [==============================] - 8s 52ms/step - loss: 0.1602 - val_loss: 0.0432\n",
      "Epoch 12/15\n",
      "152/152 [==============================] - 8s 52ms/step - loss: 0.1598 - val_loss: 0.0448\n",
      "Epoch 13/15\n",
      "152/152 [==============================] - 8s 52ms/step - loss: 0.1590 - val_loss: 0.0435\n",
      "Epoch 14/15\n",
      "152/152 [==============================] - 8s 52ms/step - loss: 0.1580 - val_loss: 0.0435\n",
      "Epoch 15/15\n",
      "152/152 [==============================] - 8s 51ms/step - loss: 0.1567 - val_loss: 0.0438\n"
     ]
    },
    {
     "name": "stderr",
     "output_type": "stream",
     "text": [
      "WARNING:absl:Found untraced functions such as lstm_cell_11_layer_call_fn, lstm_cell_11_layer_call_and_return_conditional_losses while saving (showing 2 of 2). These functions will not be directly callable after loading.\n"
     ]
    },
    {
     "name": "stdout",
     "output_type": "stream",
     "text": [
      "INFO:tensorflow:Assets written to: Walk_forward/models/day6\\assets\n"
     ]
    },
    {
     "name": "stderr",
     "output_type": "stream",
     "text": [
      "INFO:tensorflow:Assets written to: Walk_forward/models/day6\\assets\n",
      "WARNING:absl:<keras.layers.recurrent.LSTMCell object at 0x000001D219884AC0> has the same name 'LSTMCell' as a built-in Keras object. Consider renaming <class 'keras.layers.recurrent.LSTMCell'> to avoid naming conflicts when loading with `tf.keras.models.load_model`. If renaming is not possible, pass the object in the `custom_objects` parameter of the load function.\n"
     ]
    },
    {
     "name": "stdout",
     "output_type": "stream",
     "text": [
      "152/152 [==============================] - 5s 22ms/step\n",
      "65/65 [==============================] - 1s 19ms/step\n"
     ]
    },
    {
     "name": "stderr",
     "output_type": "stream",
     "text": [
      "D:\\Anaconda\\lib\\site-packages\\pandas\\core\\frame.py:3678: SettingWithCopyWarning: \n",
      "A value is trying to be set on a copy of a slice from a DataFrame.\n",
      "Try using .loc[row_indexer,col_indexer] = value instead\n",
      "\n",
      "See the caveats in the documentation: https://pandas.pydata.org/pandas-docs/stable/user_guide/indexing.html#returning-a-view-versus-a-copy\n",
      "  self[col] = igetitem(value, i)\n"
     ]
    },
    {
     "name": "stdout",
     "output_type": "stream",
     "text": [
      "Epoch 1/15\n",
      "152/152 [==============================] - 11s 56ms/step - loss: 0.2282 - val_loss: 0.1118\n",
      "Epoch 2/15\n",
      "152/152 [==============================] - 8s 53ms/step - loss: 0.2108 - val_loss: 0.0968\n",
      "Epoch 3/15\n",
      "152/152 [==============================] - 8s 52ms/step - loss: 0.2016 - val_loss: 0.0830\n",
      "Epoch 4/15\n",
      "152/152 [==============================] - 8s 53ms/step - loss: 0.1876 - val_loss: 0.0676\n",
      "Epoch 5/15\n",
      "152/152 [==============================] - 8s 52ms/step - loss: 0.1764 - val_loss: 0.0627\n",
      "Epoch 6/15\n",
      "152/152 [==============================] - 8s 52ms/step - loss: 0.1686 - val_loss: 0.0609\n",
      "Epoch 7/15\n",
      "152/152 [==============================] - 8s 52ms/step - loss: 0.1650 - val_loss: 0.0597\n",
      "Epoch 8/15\n",
      "152/152 [==============================] - 8s 52ms/step - loss: 0.1656 - val_loss: 0.0596\n",
      "Epoch 9/15\n",
      "152/152 [==============================] - 8s 52ms/step - loss: 0.1607 - val_loss: 0.0596\n",
      "Epoch 10/15\n",
      "152/152 [==============================] - 8s 52ms/step - loss: 0.1600 - val_loss: 0.0615\n",
      "Epoch 11/15\n",
      "152/152 [==============================] - 8s 52ms/step - loss: 0.1591 - val_loss: 0.0617\n",
      "Epoch 12/15\n",
      "152/152 [==============================] - 8s 51ms/step - loss: 0.1568 - val_loss: 0.0601\n",
      "Epoch 13/15\n",
      "152/152 [==============================] - 8s 51ms/step - loss: 0.1845 - val_loss: 0.0616\n",
      "Epoch 14/15\n",
      "152/152 [==============================] - 8s 51ms/step - loss: 0.1562 - val_loss: 0.0604\n",
      "Epoch 15/15\n",
      "152/152 [==============================] - 8s 51ms/step - loss: 0.1551 - val_loss: 0.0607\n"
     ]
    },
    {
     "name": "stderr",
     "output_type": "stream",
     "text": [
      "WARNING:absl:Found untraced functions such as lstm_cell_12_layer_call_fn, lstm_cell_12_layer_call_and_return_conditional_losses while saving (showing 2 of 2). These functions will not be directly callable after loading.\n"
     ]
    },
    {
     "name": "stdout",
     "output_type": "stream",
     "text": [
      "INFO:tensorflow:Assets written to: Walk_forward/models/day7\\assets\n"
     ]
    },
    {
     "name": "stderr",
     "output_type": "stream",
     "text": [
      "INFO:tensorflow:Assets written to: Walk_forward/models/day7\\assets\n",
      "WARNING:absl:<keras.layers.recurrent.LSTMCell object at 0x000001D1D2860C10> has the same name 'LSTMCell' as a built-in Keras object. Consider renaming <class 'keras.layers.recurrent.LSTMCell'> to avoid naming conflicts when loading with `tf.keras.models.load_model`. If renaming is not possible, pass the object in the `custom_objects` parameter of the load function.\n"
     ]
    },
    {
     "name": "stdout",
     "output_type": "stream",
     "text": [
      "152/152 [==============================] - 4s 21ms/step\n",
      "65/65 [==============================] - 1s 19ms/step\n"
     ]
    },
    {
     "name": "stderr",
     "output_type": "stream",
     "text": [
      "D:\\Anaconda\\lib\\site-packages\\pandas\\core\\frame.py:3678: SettingWithCopyWarning: \n",
      "A value is trying to be set on a copy of a slice from a DataFrame.\n",
      "Try using .loc[row_indexer,col_indexer] = value instead\n",
      "\n",
      "See the caveats in the documentation: https://pandas.pydata.org/pandas-docs/stable/user_guide/indexing.html#returning-a-view-versus-a-copy\n",
      "  self[col] = igetitem(value, i)\n"
     ]
    },
    {
     "name": "stdout",
     "output_type": "stream",
     "text": [
      "Epoch 1/15\n",
      "152/152 [==============================] - 11s 57ms/step - loss: 0.1631 - val_loss: 0.1312\n",
      "Epoch 2/15\n",
      "152/152 [==============================] - 8s 53ms/step - loss: 0.1443 - val_loss: 0.1144\n",
      "Epoch 3/15\n",
      "152/152 [==============================] - 8s 52ms/step - loss: 0.1374 - val_loss: 0.1030\n",
      "Epoch 4/15\n",
      "152/152 [==============================] - 8s 53ms/step - loss: 0.1325 - val_loss: 0.0931\n",
      "Epoch 5/15\n",
      "152/152 [==============================] - 8s 52ms/step - loss: 0.1278 - val_loss: 0.0871\n",
      "Epoch 6/15\n",
      "152/152 [==============================] - 8s 52ms/step - loss: 0.1232 - val_loss: 0.0793\n",
      "Epoch 7/15\n",
      "152/152 [==============================] - 8s 52ms/step - loss: 0.1196 - val_loss: 0.0739\n",
      "Epoch 8/15\n",
      "152/152 [==============================] - 8s 52ms/step - loss: 0.1161 - val_loss: 0.0693\n",
      "Epoch 9/15\n",
      "152/152 [==============================] - 8s 52ms/step - loss: 0.1154 - val_loss: 0.0680\n",
      "Epoch 10/15\n",
      "152/152 [==============================] - 8s 51ms/step - loss: 0.1126 - val_loss: 0.0691\n",
      "Epoch 11/15\n",
      "152/152 [==============================] - 8s 52ms/step - loss: 0.1128 - val_loss: 0.0674\n",
      "Epoch 12/15\n",
      "152/152 [==============================] - 8s 52ms/step - loss: 0.1117 - val_loss: 0.0667\n",
      "Epoch 13/15\n",
      "152/152 [==============================] - 8s 51ms/step - loss: 0.1104 - val_loss: 0.0675\n",
      "Epoch 14/15\n",
      "152/152 [==============================] - 8s 52ms/step - loss: 0.1114 - val_loss: 0.0683\n",
      "Epoch 15/15\n",
      "152/152 [==============================] - 8s 54ms/step - loss: 0.1107 - val_loss: 0.0672\n"
     ]
    },
    {
     "name": "stderr",
     "output_type": "stream",
     "text": [
      "WARNING:absl:Found untraced functions such as lstm_cell_13_layer_call_fn, lstm_cell_13_layer_call_and_return_conditional_losses while saving (showing 2 of 2). These functions will not be directly callable after loading.\n"
     ]
    },
    {
     "name": "stdout",
     "output_type": "stream",
     "text": [
      "INFO:tensorflow:Assets written to: Walk_forward/models/day8\\assets\n"
     ]
    },
    {
     "name": "stderr",
     "output_type": "stream",
     "text": [
      "INFO:tensorflow:Assets written to: Walk_forward/models/day8\\assets\n",
      "WARNING:absl:<keras.layers.recurrent.LSTMCell object at 0x000001D24BB862B0> has the same name 'LSTMCell' as a built-in Keras object. Consider renaming <class 'keras.layers.recurrent.LSTMCell'> to avoid naming conflicts when loading with `tf.keras.models.load_model`. If renaming is not possible, pass the object in the `custom_objects` parameter of the load function.\n"
     ]
    },
    {
     "name": "stdout",
     "output_type": "stream",
     "text": [
      "152/152 [==============================] - 4s 21ms/step\n",
      "65/65 [==============================] - 1s 19ms/step\n"
     ]
    },
    {
     "name": "stderr",
     "output_type": "stream",
     "text": [
      "D:\\Anaconda\\lib\\site-packages\\pandas\\core\\frame.py:3678: SettingWithCopyWarning: \n",
      "A value is trying to be set on a copy of a slice from a DataFrame.\n",
      "Try using .loc[row_indexer,col_indexer] = value instead\n",
      "\n",
      "See the caveats in the documentation: https://pandas.pydata.org/pandas-docs/stable/user_guide/indexing.html#returning-a-view-versus-a-copy\n",
      "  self[col] = igetitem(value, i)\n"
     ]
    },
    {
     "name": "stdout",
     "output_type": "stream",
     "text": [
      "Epoch 1/15\n",
      "152/152 [==============================] - 11s 55ms/step - loss: 0.1561 - val_loss: 0.1534\n",
      "Epoch 2/15\n",
      "152/152 [==============================] - 8s 51ms/step - loss: 0.1412 - val_loss: 0.1341\n",
      "Epoch 3/15\n",
      "152/152 [==============================] - 8s 51ms/step - loss: 0.1337 - val_loss: 0.1158\n",
      "Epoch 4/15\n",
      "152/152 [==============================] - 8s 52ms/step - loss: 0.1266 - val_loss: 0.1065\n",
      "Epoch 5/15\n",
      "152/152 [==============================] - 8s 52ms/step - loss: 0.1213 - val_loss: 0.1005\n",
      "Epoch 6/15\n",
      "152/152 [==============================] - 8s 52ms/step - loss: 0.1189 - val_loss: 0.0972\n",
      "Epoch 7/15\n",
      "152/152 [==============================] - 8s 53ms/step - loss: 0.1178 - val_loss: 0.0930\n",
      "Epoch 8/15\n",
      "152/152 [==============================] - 8s 52ms/step - loss: 0.1162 - val_loss: 0.0928\n",
      "Epoch 9/15\n",
      "152/152 [==============================] - 8s 53ms/step - loss: 0.1177 - val_loss: 0.0909\n",
      "Epoch 10/15\n",
      "152/152 [==============================] - 8s 54ms/step - loss: 0.1143 - val_loss: 0.0921\n",
      "Epoch 11/15\n",
      "152/152 [==============================] - 8s 52ms/step - loss: 0.1136 - val_loss: 0.0901\n",
      "Epoch 12/15\n",
      "152/152 [==============================] - 8s 52ms/step - loss: 0.1142 - val_loss: 0.0895\n",
      "Epoch 13/15\n",
      "152/152 [==============================] - 8s 52ms/step - loss: 0.1141 - val_loss: 0.0911\n",
      "Epoch 14/15\n",
      "152/152 [==============================] - 8s 52ms/step - loss: 0.1141 - val_loss: 0.0920\n",
      "Epoch 15/15\n",
      "152/152 [==============================] - 8s 51ms/step - loss: 0.1136 - val_loss: 0.0901\n"
     ]
    },
    {
     "name": "stderr",
     "output_type": "stream",
     "text": [
      "WARNING:absl:Found untraced functions such as lstm_cell_14_layer_call_fn, lstm_cell_14_layer_call_and_return_conditional_losses while saving (showing 2 of 2). These functions will not be directly callable after loading.\n"
     ]
    },
    {
     "name": "stdout",
     "output_type": "stream",
     "text": [
      "INFO:tensorflow:Assets written to: Walk_forward/models/day9\\assets\n"
     ]
    },
    {
     "name": "stderr",
     "output_type": "stream",
     "text": [
      "INFO:tensorflow:Assets written to: Walk_forward/models/day9\\assets\n",
      "WARNING:absl:<keras.layers.recurrent.LSTMCell object at 0x000001D2381E1670> has the same name 'LSTMCell' as a built-in Keras object. Consider renaming <class 'keras.layers.recurrent.LSTMCell'> to avoid naming conflicts when loading with `tf.keras.models.load_model`. If renaming is not possible, pass the object in the `custom_objects` parameter of the load function.\n"
     ]
    },
    {
     "name": "stdout",
     "output_type": "stream",
     "text": [
      "152/152 [==============================] - 4s 20ms/step\n",
      "65/65 [==============================] - 1s 19ms/step\n"
     ]
    },
    {
     "name": "stderr",
     "output_type": "stream",
     "text": [
      "D:\\Anaconda\\lib\\site-packages\\pandas\\core\\frame.py:3678: SettingWithCopyWarning: \n",
      "A value is trying to be set on a copy of a slice from a DataFrame.\n",
      "Try using .loc[row_indexer,col_indexer] = value instead\n",
      "\n",
      "See the caveats in the documentation: https://pandas.pydata.org/pandas-docs/stable/user_guide/indexing.html#returning-a-view-versus-a-copy\n",
      "  self[col] = igetitem(value, i)\n"
     ]
    },
    {
     "name": "stdout",
     "output_type": "stream",
     "text": [
      "Epoch 1/15\n",
      "152/152 [==============================] - 11s 61ms/step - loss: 0.1730 - val_loss: 0.2005\n",
      "Epoch 2/15\n",
      "152/152 [==============================] - 8s 53ms/step - loss: 0.1455 - val_loss: 0.1760\n",
      "Epoch 3/15\n",
      "152/152 [==============================] - 8s 52ms/step - loss: 0.1373 - val_loss: 0.1578\n",
      "Epoch 4/15\n",
      "152/152 [==============================] - 8s 52ms/step - loss: 0.1311 - val_loss: 0.1434\n",
      "Epoch 5/15\n",
      "152/152 [==============================] - 8s 51ms/step - loss: 0.1270 - val_loss: 0.1435\n",
      "Epoch 6/15\n",
      "152/152 [==============================] - 8s 52ms/step - loss: 0.1229 - val_loss: 0.1290\n",
      "Epoch 7/15\n",
      "152/152 [==============================] - 8s 53ms/step - loss: 0.1203 - val_loss: 0.1206\n",
      "Epoch 8/15\n",
      "152/152 [==============================] - 8s 53ms/step - loss: 0.1185 - val_loss: 0.1183\n",
      "Epoch 9/15\n",
      "152/152 [==============================] - 8s 53ms/step - loss: 0.1168 - val_loss: 0.1161\n",
      "Epoch 10/15\n",
      "152/152 [==============================] - 8s 52ms/step - loss: 0.1151 - val_loss: 0.1148\n",
      "Epoch 11/15\n",
      "152/152 [==============================] - 8s 52ms/step - loss: 0.1153 - val_loss: 0.1137\n",
      "Epoch 12/15\n",
      "152/152 [==============================] - 8s 54ms/step - loss: 0.1135 - val_loss: 0.1136\n",
      "Epoch 13/15\n",
      "152/152 [==============================] - 8s 53ms/step - loss: 0.1131 - val_loss: 0.1156\n",
      "Epoch 14/15\n",
      "152/152 [==============================] - 8s 52ms/step - loss: 0.1128 - val_loss: 0.1113\n",
      "Epoch 15/15\n",
      "152/152 [==============================] - 8s 52ms/step - loss: 0.1145 - val_loss: 0.1123\n"
     ]
    },
    {
     "name": "stderr",
     "output_type": "stream",
     "text": [
      "WARNING:absl:Found untraced functions such as lstm_cell_15_layer_call_fn, lstm_cell_15_layer_call_and_return_conditional_losses while saving (showing 2 of 2). These functions will not be directly callable after loading.\n"
     ]
    },
    {
     "name": "stdout",
     "output_type": "stream",
     "text": [
      "INFO:tensorflow:Assets written to: Walk_forward/models/day10\\assets\n"
     ]
    },
    {
     "name": "stderr",
     "output_type": "stream",
     "text": [
      "INFO:tensorflow:Assets written to: Walk_forward/models/day10\\assets\n",
      "WARNING:absl:<keras.layers.recurrent.LSTMCell object at 0x000001CF5CA4EBB0> has the same name 'LSTMCell' as a built-in Keras object. Consider renaming <class 'keras.layers.recurrent.LSTMCell'> to avoid naming conflicts when loading with `tf.keras.models.load_model`. If renaming is not possible, pass the object in the `custom_objects` parameter of the load function.\n"
     ]
    },
    {
     "name": "stdout",
     "output_type": "stream",
     "text": [
      "152/152 [==============================] - 4s 20ms/step\n",
      "65/65 [==============================] - 1s 19ms/step\n"
     ]
    },
    {
     "name": "stderr",
     "output_type": "stream",
     "text": [
      "D:\\Anaconda\\lib\\site-packages\\pandas\\core\\frame.py:3678: SettingWithCopyWarning: \n",
      "A value is trying to be set on a copy of a slice from a DataFrame.\n",
      "Try using .loc[row_indexer,col_indexer] = value instead\n",
      "\n",
      "See the caveats in the documentation: https://pandas.pydata.org/pandas-docs/stable/user_guide/indexing.html#returning-a-view-versus-a-copy\n",
      "  self[col] = igetitem(value, i)\n"
     ]
    },
    {
     "name": "stdout",
     "output_type": "stream",
     "text": [
      "Epoch 1/15\n",
      "152/152 [==============================] - 11s 56ms/step - loss: 0.1939 - val_loss: 0.2265\n",
      "Epoch 2/15\n",
      "152/152 [==============================] - 8s 52ms/step - loss: 0.1458 - val_loss: 0.1990\n",
      "Epoch 3/15\n",
      "152/152 [==============================] - 8s 53ms/step - loss: 0.1373 - val_loss: 0.1791\n",
      "Epoch 4/15\n",
      "152/152 [==============================] - 8s 52ms/step - loss: 0.1301 - val_loss: 0.1630\n",
      "Epoch 5/15\n",
      "152/152 [==============================] - 8s 52ms/step - loss: 0.1251 - val_loss: 0.1503\n",
      "Epoch 6/15\n",
      "152/152 [==============================] - 8s 52ms/step - loss: 0.1199 - val_loss: 0.1425\n",
      "Epoch 7/15\n",
      "152/152 [==============================] - 8s 53ms/step - loss: 0.1156 - val_loss: 0.1308\n",
      "Epoch 8/15\n",
      "152/152 [==============================] - 8s 52ms/step - loss: 0.1141 - val_loss: 0.1311\n",
      "Epoch 9/15\n",
      "152/152 [==============================] - 8s 52ms/step - loss: 0.1131 - val_loss: 0.1259\n",
      "Epoch 10/15\n",
      "152/152 [==============================] - 8s 53ms/step - loss: 0.1113 - val_loss: 0.1233\n",
      "Epoch 11/15\n",
      "152/152 [==============================] - 8s 52ms/step - loss: 0.1102 - val_loss: 0.1247\n",
      "Epoch 12/15\n",
      "152/152 [==============================] - 8s 52ms/step - loss: 0.1093 - val_loss: 0.1233\n",
      "Epoch 13/15\n",
      "152/152 [==============================] - 8s 52ms/step - loss: 0.1085 - val_loss: 0.1213\n",
      "Epoch 14/15\n",
      "152/152 [==============================] - 8s 53ms/step - loss: 0.1094 - val_loss: 0.1212\n",
      "Epoch 15/15\n",
      "152/152 [==============================] - 8s 52ms/step - loss: 0.1087 - val_loss: 0.1208\n"
     ]
    },
    {
     "name": "stderr",
     "output_type": "stream",
     "text": [
      "WARNING:absl:Found untraced functions such as lstm_cell_16_layer_call_fn, lstm_cell_16_layer_call_and_return_conditional_losses while saving (showing 2 of 2). These functions will not be directly callable after loading.\n"
     ]
    },
    {
     "name": "stdout",
     "output_type": "stream",
     "text": [
      "INFO:tensorflow:Assets written to: Walk_forward/models/day11\\assets\n"
     ]
    },
    {
     "name": "stderr",
     "output_type": "stream",
     "text": [
      "INFO:tensorflow:Assets written to: Walk_forward/models/day11\\assets\n",
      "WARNING:absl:<keras.layers.recurrent.LSTMCell object at 0x000001D2489B3D60> has the same name 'LSTMCell' as a built-in Keras object. Consider renaming <class 'keras.layers.recurrent.LSTMCell'> to avoid naming conflicts when loading with `tf.keras.models.load_model`. If renaming is not possible, pass the object in the `custom_objects` parameter of the load function.\n"
     ]
    },
    {
     "name": "stdout",
     "output_type": "stream",
     "text": [
      "152/152 [==============================] - 4s 21ms/step\n",
      "65/65 [==============================] - 1s 19ms/step\n"
     ]
    },
    {
     "name": "stderr",
     "output_type": "stream",
     "text": [
      "D:\\Anaconda\\lib\\site-packages\\pandas\\core\\frame.py:3678: SettingWithCopyWarning: \n",
      "A value is trying to be set on a copy of a slice from a DataFrame.\n",
      "Try using .loc[row_indexer,col_indexer] = value instead\n",
      "\n",
      "See the caveats in the documentation: https://pandas.pydata.org/pandas-docs/stable/user_guide/indexing.html#returning-a-view-versus-a-copy\n",
      "  self[col] = igetitem(value, i)\n"
     ]
    },
    {
     "name": "stdout",
     "output_type": "stream",
     "text": [
      "Epoch 1/15\n",
      "152/152 [==============================] - 11s 56ms/step - loss: 0.1777 - val_loss: 0.2496\n",
      "Epoch 2/15\n",
      "152/152 [==============================] - 8s 52ms/step - loss: 0.1391 - val_loss: 0.2122\n",
      "Epoch 3/15\n",
      "152/152 [==============================] - 8s 53ms/step - loss: 0.1328 - val_loss: 0.1903\n",
      "Epoch 4/15\n",
      "152/152 [==============================] - 8s 52ms/step - loss: 0.1253 - val_loss: 0.1710\n",
      "Epoch 5/15\n",
      "152/152 [==============================] - 8s 52ms/step - loss: 0.1198 - val_loss: 0.1527\n",
      "Epoch 6/15\n",
      "152/152 [==============================] - 8s 52ms/step - loss: 0.1165 - val_loss: 0.1441\n",
      "Epoch 7/15\n",
      "152/152 [==============================] - 8s 52ms/step - loss: 0.1135 - val_loss: 0.1429\n",
      "Epoch 8/15\n",
      "152/152 [==============================] - 8s 52ms/step - loss: 0.1117 - val_loss: 0.1380\n",
      "Epoch 9/15\n",
      "152/152 [==============================] - 8s 52ms/step - loss: 0.1114 - val_loss: 0.1402\n",
      "Epoch 10/15\n",
      "152/152 [==============================] - 8s 52ms/step - loss: 0.1105 - val_loss: 0.1390\n",
      "Epoch 11/15\n",
      "152/152 [==============================] - 8s 52ms/step - loss: 0.1113 - val_loss: 0.1345\n",
      "Epoch 12/15\n",
      "152/152 [==============================] - 8s 52ms/step - loss: 0.1192 - val_loss: 0.1355\n",
      "Epoch 13/15\n",
      "152/152 [==============================] - 8s 53ms/step - loss: 0.1093 - val_loss: 0.1374\n",
      "Epoch 14/15\n",
      "152/152 [==============================] - 8s 52ms/step - loss: 0.1111 - val_loss: 0.1344\n",
      "Epoch 15/15\n",
      "152/152 [==============================] - 8s 52ms/step - loss: 0.1077 - val_loss: 0.1378\n"
     ]
    },
    {
     "name": "stderr",
     "output_type": "stream",
     "text": [
      "WARNING:absl:Found untraced functions such as lstm_cell_17_layer_call_fn, lstm_cell_17_layer_call_and_return_conditional_losses while saving (showing 2 of 2). These functions will not be directly callable after loading.\n"
     ]
    },
    {
     "name": "stdout",
     "output_type": "stream",
     "text": [
      "INFO:tensorflow:Assets written to: Walk_forward/models/day12\\assets\n"
     ]
    },
    {
     "name": "stderr",
     "output_type": "stream",
     "text": [
      "INFO:tensorflow:Assets written to: Walk_forward/models/day12\\assets\n",
      "WARNING:absl:<keras.layers.recurrent.LSTMCell object at 0x000001D24E66B6D0> has the same name 'LSTMCell' as a built-in Keras object. Consider renaming <class 'keras.layers.recurrent.LSTMCell'> to avoid naming conflicts when loading with `tf.keras.models.load_model`. If renaming is not possible, pass the object in the `custom_objects` parameter of the load function.\n"
     ]
    },
    {
     "name": "stdout",
     "output_type": "stream",
     "text": [
      "152/152 [==============================] - 4s 21ms/step\n",
      "65/65 [==============================] - 1s 19ms/step\n"
     ]
    },
    {
     "name": "stderr",
     "output_type": "stream",
     "text": [
      "D:\\Anaconda\\lib\\site-packages\\pandas\\core\\frame.py:3678: SettingWithCopyWarning: \n",
      "A value is trying to be set on a copy of a slice from a DataFrame.\n",
      "Try using .loc[row_indexer,col_indexer] = value instead\n",
      "\n",
      "See the caveats in the documentation: https://pandas.pydata.org/pandas-docs/stable/user_guide/indexing.html#returning-a-view-versus-a-copy\n",
      "  self[col] = igetitem(value, i)\n"
     ]
    },
    {
     "name": "stdout",
     "output_type": "stream",
     "text": [
      "Epoch 1/15\n",
      "152/152 [==============================] - 11s 56ms/step - loss: 0.1851 - val_loss: 0.2604\n",
      "Epoch 2/15\n",
      "152/152 [==============================] - 8s 52ms/step - loss: 0.1465 - val_loss: 0.2220\n",
      "Epoch 3/15\n",
      "152/152 [==============================] - 8s 53ms/step - loss: 0.1374 - val_loss: 0.2070\n",
      "Epoch 4/15\n",
      "152/152 [==============================] - 8s 53ms/step - loss: 0.1306 - val_loss: 0.1914\n",
      "Epoch 5/15\n",
      "152/152 [==============================] - 8s 54ms/step - loss: 0.1251 - val_loss: 0.1778\n",
      "Epoch 6/15\n",
      "152/152 [==============================] - 8s 54ms/step - loss: 0.1199 - val_loss: 0.1585\n",
      "Epoch 7/15\n",
      "152/152 [==============================] - 8s 53ms/step - loss: 0.1163 - val_loss: 0.1529\n",
      "Epoch 8/15\n",
      "152/152 [==============================] - 8s 52ms/step - loss: 0.1133 - val_loss: 0.1450\n",
      "Epoch 9/15\n",
      "152/152 [==============================] - 8s 52ms/step - loss: 0.1118 - val_loss: 0.1469\n",
      "Epoch 10/15\n",
      "152/152 [==============================] - 8s 52ms/step - loss: 0.1121 - val_loss: 0.1439\n",
      "Epoch 11/15\n",
      "152/152 [==============================] - 8s 53ms/step - loss: 0.1106 - val_loss: 0.1444\n",
      "Epoch 12/15\n",
      "152/152 [==============================] - 8s 52ms/step - loss: 0.1100 - val_loss: 0.1420\n",
      "Epoch 13/15\n",
      "152/152 [==============================] - 8s 52ms/step - loss: 0.1099 - val_loss: 0.1409\n",
      "Epoch 14/15\n",
      "152/152 [==============================] - 8s 52ms/step - loss: 0.1107 - val_loss: 0.1426\n",
      "Epoch 15/15\n",
      "152/152 [==============================] - 8s 52ms/step - loss: 0.1089 - val_loss: 0.1422\n"
     ]
    },
    {
     "name": "stderr",
     "output_type": "stream",
     "text": [
      "WARNING:absl:Found untraced functions such as lstm_cell_18_layer_call_fn, lstm_cell_18_layer_call_and_return_conditional_losses while saving (showing 2 of 2). These functions will not be directly callable after loading.\n"
     ]
    },
    {
     "name": "stdout",
     "output_type": "stream",
     "text": [
      "INFO:tensorflow:Assets written to: Walk_forward/models/day13\\assets\n"
     ]
    },
    {
     "name": "stderr",
     "output_type": "stream",
     "text": [
      "INFO:tensorflow:Assets written to: Walk_forward/models/day13\\assets\n",
      "WARNING:absl:<keras.layers.recurrent.LSTMCell object at 0x000001D247DDB250> has the same name 'LSTMCell' as a built-in Keras object. Consider renaming <class 'keras.layers.recurrent.LSTMCell'> to avoid naming conflicts when loading with `tf.keras.models.load_model`. If renaming is not possible, pass the object in the `custom_objects` parameter of the load function.\n"
     ]
    },
    {
     "name": "stdout",
     "output_type": "stream",
     "text": [
      "152/152 [==============================] - 4s 21ms/step\n",
      "65/65 [==============================] - 1s 19ms/step\n"
     ]
    },
    {
     "name": "stderr",
     "output_type": "stream",
     "text": [
      "D:\\Anaconda\\lib\\site-packages\\pandas\\core\\frame.py:3678: SettingWithCopyWarning: \n",
      "A value is trying to be set on a copy of a slice from a DataFrame.\n",
      "Try using .loc[row_indexer,col_indexer] = value instead\n",
      "\n",
      "See the caveats in the documentation: https://pandas.pydata.org/pandas-docs/stable/user_guide/indexing.html#returning-a-view-versus-a-copy\n",
      "  self[col] = igetitem(value, i)\n"
     ]
    },
    {
     "name": "stdout",
     "output_type": "stream",
     "text": [
      "Epoch 1/15\n",
      "152/152 [==============================] - 11s 55ms/step - loss: 0.1660 - val_loss: 0.3148\n",
      "Epoch 2/15\n",
      "152/152 [==============================] - 8s 52ms/step - loss: 0.1394 - val_loss: 0.2994\n",
      "Epoch 3/15\n",
      "152/152 [==============================] - 8s 52ms/step - loss: 0.1342 - val_loss: 0.2657\n",
      "Epoch 4/15\n",
      "152/152 [==============================] - 8s 52ms/step - loss: 0.1295 - val_loss: 0.2561\n",
      "Epoch 5/15\n",
      "152/152 [==============================] - 8s 52ms/step - loss: 0.1239 - val_loss: 0.2306\n",
      "Epoch 6/15\n",
      "152/152 [==============================] - 8s 53ms/step - loss: 0.1183 - val_loss: 0.2155\n",
      "Epoch 7/15\n",
      "152/152 [==============================] - 8s 52ms/step - loss: 0.1146 - val_loss: 0.1947\n",
      "Epoch 8/15\n",
      "152/152 [==============================] - 8s 52ms/step - loss: 0.1127 - val_loss: 0.1984\n",
      "Epoch 9/15\n",
      "152/152 [==============================] - 8s 53ms/step - loss: 0.1112 - val_loss: 0.1918\n",
      "Epoch 10/15\n",
      "152/152 [==============================] - 8s 52ms/step - loss: 0.1091 - val_loss: 0.1909\n",
      "Epoch 11/15\n",
      "152/152 [==============================] - 8s 53ms/step - loss: 0.1090 - val_loss: 0.1838\n",
      "Epoch 12/15\n",
      "152/152 [==============================] - 8s 53ms/step - loss: 0.1075 - val_loss: 0.1828\n",
      "Epoch 13/15\n",
      "152/152 [==============================] - 8s 55ms/step - loss: 0.1069 - val_loss: 0.1820\n",
      "Epoch 14/15\n",
      "152/152 [==============================] - 8s 53ms/step - loss: 0.1092 - val_loss: 0.1872\n",
      "Epoch 15/15\n",
      "152/152 [==============================] - 8s 54ms/step - loss: 0.1060 - val_loss: 0.1799\n"
     ]
    },
    {
     "name": "stderr",
     "output_type": "stream",
     "text": [
      "WARNING:absl:Found untraced functions such as lstm_cell_19_layer_call_fn, lstm_cell_19_layer_call_and_return_conditional_losses while saving (showing 2 of 2). These functions will not be directly callable after loading.\n"
     ]
    },
    {
     "name": "stdout",
     "output_type": "stream",
     "text": [
      "INFO:tensorflow:Assets written to: Walk_forward/models/day14\\assets\n"
     ]
    },
    {
     "name": "stderr",
     "output_type": "stream",
     "text": [
      "INFO:tensorflow:Assets written to: Walk_forward/models/day14\\assets\n",
      "WARNING:absl:<keras.layers.recurrent.LSTMCell object at 0x000001D226CB5A00> has the same name 'LSTMCell' as a built-in Keras object. Consider renaming <class 'keras.layers.recurrent.LSTMCell'> to avoid naming conflicts when loading with `tf.keras.models.load_model`. If renaming is not possible, pass the object in the `custom_objects` parameter of the load function.\n"
     ]
    },
    {
     "name": "stdout",
     "output_type": "stream",
     "text": [
      "152/152 [==============================] - 4s 20ms/step\n",
      "65/65 [==============================] - 1s 19ms/step\n"
     ]
    },
    {
     "name": "stderr",
     "output_type": "stream",
     "text": [
      "D:\\Anaconda\\lib\\site-packages\\pandas\\core\\frame.py:3678: SettingWithCopyWarning: \n",
      "A value is trying to be set on a copy of a slice from a DataFrame.\n",
      "Try using .loc[row_indexer,col_indexer] = value instead\n",
      "\n",
      "See the caveats in the documentation: https://pandas.pydata.org/pandas-docs/stable/user_guide/indexing.html#returning-a-view-versus-a-copy\n",
      "  self[col] = igetitem(value, i)\n"
     ]
    },
    {
     "name": "stdout",
     "output_type": "stream",
     "text": [
      "Epoch 1/15\n",
      "152/152 [==============================] - 11s 56ms/step - loss: 0.1174 - val_loss: 0.4123\n",
      "Epoch 2/15\n",
      "152/152 [==============================] - 8s 52ms/step - loss: 0.0925 - val_loss: 0.3422\n",
      "Epoch 3/15\n",
      "152/152 [==============================] - 8s 52ms/step - loss: 0.0827 - val_loss: 0.2891\n",
      "Epoch 4/15\n",
      "152/152 [==============================] - 8s 52ms/step - loss: 0.0751 - val_loss: 0.2565\n",
      "Epoch 5/15\n",
      "152/152 [==============================] - 8s 53ms/step - loss: 0.0702 - val_loss: 0.2347\n",
      "Epoch 6/15\n",
      "152/152 [==============================] - 8s 52ms/step - loss: 0.0678 - val_loss: 0.2155\n",
      "Epoch 7/15\n",
      "152/152 [==============================] - 8s 52ms/step - loss: 0.0654 - val_loss: 0.2280\n",
      "Epoch 8/15\n",
      "152/152 [==============================] - 8s 52ms/step - loss: 0.0641 - val_loss: 0.2206\n",
      "Epoch 9/15\n",
      "152/152 [==============================] - 8s 52ms/step - loss: 0.0644 - val_loss: 0.2177\n",
      "Epoch 10/15\n",
      "152/152 [==============================] - 8s 52ms/step - loss: 0.0642 - val_loss: 0.2113\n",
      "Epoch 11/15\n",
      "152/152 [==============================] - 8s 51ms/step - loss: 0.0640 - val_loss: 0.2168\n",
      "Epoch 12/15\n",
      "152/152 [==============================] - 8s 52ms/step - loss: 0.0634 - val_loss: 0.2207\n",
      "Epoch 13/15\n",
      "152/152 [==============================] - 8s 52ms/step - loss: 0.0635 - val_loss: 0.2168\n",
      "Epoch 14/15\n",
      "152/152 [==============================] - 8s 52ms/step - loss: 0.0633 - val_loss: 0.2046\n",
      "Epoch 15/15\n",
      "152/152 [==============================] - 8s 52ms/step - loss: 0.0639 - val_loss: 0.2096\n"
     ]
    },
    {
     "name": "stderr",
     "output_type": "stream",
     "text": [
      "WARNING:absl:Found untraced functions such as lstm_cell_20_layer_call_fn, lstm_cell_20_layer_call_and_return_conditional_losses while saving (showing 2 of 2). These functions will not be directly callable after loading.\n"
     ]
    },
    {
     "name": "stdout",
     "output_type": "stream",
     "text": [
      "INFO:tensorflow:Assets written to: Walk_forward/models/day15\\assets\n"
     ]
    },
    {
     "name": "stderr",
     "output_type": "stream",
     "text": [
      "INFO:tensorflow:Assets written to: Walk_forward/models/day15\\assets\n",
      "WARNING:absl:<keras.layers.recurrent.LSTMCell object at 0x000001D22642D460> has the same name 'LSTMCell' as a built-in Keras object. Consider renaming <class 'keras.layers.recurrent.LSTMCell'> to avoid naming conflicts when loading with `tf.keras.models.load_model`. If renaming is not possible, pass the object in the `custom_objects` parameter of the load function.\n"
     ]
    },
    {
     "name": "stdout",
     "output_type": "stream",
     "text": [
      "152/152 [==============================] - 4s 21ms/step\n",
      "65/65 [==============================] - 1s 19ms/step\n"
     ]
    },
    {
     "name": "stderr",
     "output_type": "stream",
     "text": [
      "D:\\Anaconda\\lib\\site-packages\\pandas\\core\\frame.py:3678: SettingWithCopyWarning: \n",
      "A value is trying to be set on a copy of a slice from a DataFrame.\n",
      "Try using .loc[row_indexer,col_indexer] = value instead\n",
      "\n",
      "See the caveats in the documentation: https://pandas.pydata.org/pandas-docs/stable/user_guide/indexing.html#returning-a-view-versus-a-copy\n",
      "  self[col] = igetitem(value, i)\n"
     ]
    },
    {
     "name": "stdout",
     "output_type": "stream",
     "text": [
      "Epoch 1/15\n",
      "152/152 [==============================] - 11s 57ms/step - loss: 0.1380 - val_loss: 0.4217\n",
      "Epoch 2/15\n",
      "152/152 [==============================] - 8s 52ms/step - loss: 0.1104 - val_loss: 0.3204\n",
      "Epoch 3/15\n",
      "152/152 [==============================] - 8s 53ms/step - loss: 0.0962 - val_loss: 0.2711\n",
      "Epoch 4/15\n",
      "152/152 [==============================] - 8s 52ms/step - loss: 0.0871 - val_loss: 0.2546\n",
      "Epoch 5/15\n",
      "152/152 [==============================] - 8s 52ms/step - loss: 0.0804 - val_loss: 0.2345\n",
      "Epoch 6/15\n",
      "152/152 [==============================] - 8s 52ms/step - loss: 0.0776 - val_loss: 0.2590\n",
      "Epoch 7/15\n",
      "152/152 [==============================] - 8s 52ms/step - loss: 0.0755 - val_loss: 0.2268\n",
      "Epoch 8/15\n",
      "152/152 [==============================] - 8s 52ms/step - loss: 0.0744 - val_loss: 0.2158\n",
      "Epoch 9/15\n",
      "152/152 [==============================] - 8s 52ms/step - loss: 0.0743 - val_loss: 0.2105\n",
      "Epoch 10/15\n",
      "152/152 [==============================] - 8s 52ms/step - loss: 0.0743 - val_loss: 0.2263\n",
      "Epoch 11/15\n",
      "152/152 [==============================] - 8s 53ms/step - loss: 0.0738 - val_loss: 0.2078\n",
      "Epoch 12/15\n",
      "152/152 [==============================] - 8s 52ms/step - loss: 0.0739 - val_loss: 0.2121\n",
      "Epoch 13/15\n",
      "152/152 [==============================] - 8s 52ms/step - loss: 0.0730 - val_loss: 0.2159\n",
      "Epoch 14/15\n",
      "152/152 [==============================] - 8s 52ms/step - loss: 0.0737 - val_loss: 0.2075\n",
      "Epoch 15/15\n",
      "152/152 [==============================] - 8s 52ms/step - loss: 0.0725 - val_loss: 0.2116\n"
     ]
    },
    {
     "name": "stderr",
     "output_type": "stream",
     "text": [
      "WARNING:absl:Found untraced functions such as lstm_cell_21_layer_call_fn, lstm_cell_21_layer_call_and_return_conditional_losses while saving (showing 2 of 2). These functions will not be directly callable after loading.\n"
     ]
    },
    {
     "name": "stdout",
     "output_type": "stream",
     "text": [
      "INFO:tensorflow:Assets written to: Walk_forward/models/day16\\assets\n"
     ]
    },
    {
     "name": "stderr",
     "output_type": "stream",
     "text": [
      "INFO:tensorflow:Assets written to: Walk_forward/models/day16\\assets\n",
      "WARNING:absl:<keras.layers.recurrent.LSTMCell object at 0x000001D1D4294040> has the same name 'LSTMCell' as a built-in Keras object. Consider renaming <class 'keras.layers.recurrent.LSTMCell'> to avoid naming conflicts when loading with `tf.keras.models.load_model`. If renaming is not possible, pass the object in the `custom_objects` parameter of the load function.\n"
     ]
    },
    {
     "name": "stdout",
     "output_type": "stream",
     "text": [
      "152/152 [==============================] - 4s 21ms/step\n",
      "65/65 [==============================] - 1s 19ms/step\n"
     ]
    },
    {
     "name": "stderr",
     "output_type": "stream",
     "text": [
      "D:\\Anaconda\\lib\\site-packages\\pandas\\core\\frame.py:3678: SettingWithCopyWarning: \n",
      "A value is trying to be set on a copy of a slice from a DataFrame.\n",
      "Try using .loc[row_indexer,col_indexer] = value instead\n",
      "\n",
      "See the caveats in the documentation: https://pandas.pydata.org/pandas-docs/stable/user_guide/indexing.html#returning-a-view-versus-a-copy\n",
      "  self[col] = igetitem(value, i)\n"
     ]
    },
    {
     "name": "stdout",
     "output_type": "stream",
     "text": [
      "Epoch 1/15\n",
      "152/152 [==============================] - 11s 56ms/step - loss: 0.1651 - val_loss: 0.6848\n",
      "Epoch 2/15\n",
      "152/152 [==============================] - 8s 52ms/step - loss: 0.1115 - val_loss: 0.5204\n",
      "Epoch 3/15\n",
      "152/152 [==============================] - 8s 53ms/step - loss: 0.0953 - val_loss: 0.4481\n",
      "Epoch 4/15\n",
      "152/152 [==============================] - 8s 52ms/step - loss: 0.0874 - val_loss: 0.4285\n",
      "Epoch 5/15\n",
      "152/152 [==============================] - 8s 52ms/step - loss: 0.0783 - val_loss: 0.4009\n",
      "Epoch 6/15\n",
      "152/152 [==============================] - 8s 53ms/step - loss: 0.0716 - val_loss: 0.3787\n",
      "Epoch 7/15\n",
      "152/152 [==============================] - 8s 52ms/step - loss: 0.0692 - val_loss: 0.3730\n",
      "Epoch 8/15\n",
      "152/152 [==============================] - 8s 52ms/step - loss: 0.0677 - val_loss: 0.3647\n",
      "Epoch 9/15\n",
      "152/152 [==============================] - 8s 52ms/step - loss: 0.0680 - val_loss: 0.3600\n",
      "Epoch 10/15\n",
      "152/152 [==============================] - 8s 53ms/step - loss: 0.0666 - val_loss: 0.3535\n",
      "Epoch 11/15\n",
      "152/152 [==============================] - 8s 52ms/step - loss: 0.0681 - val_loss: 0.3433\n",
      "Epoch 12/15\n",
      "152/152 [==============================] - 8s 52ms/step - loss: 0.0669 - val_loss: 0.3506\n",
      "Epoch 13/15\n",
      "152/152 [==============================] - 8s 52ms/step - loss: 0.0657 - val_loss: 0.3531\n",
      "Epoch 14/15\n",
      "152/152 [==============================] - 8s 52ms/step - loss: 0.0662 - val_loss: 0.3503\n",
      "Epoch 15/15\n",
      "152/152 [==============================] - 8s 52ms/step - loss: 0.0659 - val_loss: 0.3489\n"
     ]
    },
    {
     "name": "stderr",
     "output_type": "stream",
     "text": [
      "WARNING:absl:Found untraced functions such as lstm_cell_22_layer_call_fn, lstm_cell_22_layer_call_and_return_conditional_losses while saving (showing 2 of 2). These functions will not be directly callable after loading.\n"
     ]
    },
    {
     "name": "stdout",
     "output_type": "stream",
     "text": [
      "INFO:tensorflow:Assets written to: Walk_forward/models/day17\\assets\n"
     ]
    },
    {
     "name": "stderr",
     "output_type": "stream",
     "text": [
      "INFO:tensorflow:Assets written to: Walk_forward/models/day17\\assets\n",
      "WARNING:absl:<keras.layers.recurrent.LSTMCell object at 0x000001D1D348C9D0> has the same name 'LSTMCell' as a built-in Keras object. Consider renaming <class 'keras.layers.recurrent.LSTMCell'> to avoid naming conflicts when loading with `tf.keras.models.load_model`. If renaming is not possible, pass the object in the `custom_objects` parameter of the load function.\n"
     ]
    },
    {
     "name": "stdout",
     "output_type": "stream",
     "text": [
      "152/152 [==============================] - 4s 21ms/step\n",
      "65/65 [==============================] - 1s 19ms/step\n"
     ]
    },
    {
     "name": "stderr",
     "output_type": "stream",
     "text": [
      "D:\\Anaconda\\lib\\site-packages\\pandas\\core\\frame.py:3678: SettingWithCopyWarning: \n",
      "A value is trying to be set on a copy of a slice from a DataFrame.\n",
      "Try using .loc[row_indexer,col_indexer] = value instead\n",
      "\n",
      "See the caveats in the documentation: https://pandas.pydata.org/pandas-docs/stable/user_guide/indexing.html#returning-a-view-versus-a-copy\n",
      "  self[col] = igetitem(value, i)\n"
     ]
    },
    {
     "name": "stdout",
     "output_type": "stream",
     "text": [
      "Epoch 1/15\n",
      "152/152 [==============================] - 11s 56ms/step - loss: 0.1902 - val_loss: 0.5903\n",
      "Epoch 2/15\n",
      "152/152 [==============================] - 8s 52ms/step - loss: 0.1225 - val_loss: 0.4792\n",
      "Epoch 3/15\n",
      "152/152 [==============================] - 8s 52ms/step - loss: 0.1039 - val_loss: 0.4273\n",
      "Epoch 4/15\n",
      "152/152 [==============================] - 8s 53ms/step - loss: 0.0916 - val_loss: 0.3940\n",
      "Epoch 5/15\n",
      "152/152 [==============================] - 8s 52ms/step - loss: 0.0845 - val_loss: 0.3694\n",
      "Epoch 6/15\n",
      "152/152 [==============================] - 8s 52ms/step - loss: 0.0785 - val_loss: 0.3726\n",
      "Epoch 7/15\n",
      "152/152 [==============================] - 8s 52ms/step - loss: 0.0770 - val_loss: 0.3602\n",
      "Epoch 8/15\n",
      "152/152 [==============================] - 8s 52ms/step - loss: 0.0748 - val_loss: 0.3488\n",
      "Epoch 9/15\n",
      "152/152 [==============================] - 8s 53ms/step - loss: 0.0832 - val_loss: 0.3480\n",
      "Epoch 10/15\n",
      "152/152 [==============================] - 8s 52ms/step - loss: 0.0730 - val_loss: 0.3511\n",
      "Epoch 11/15\n",
      "152/152 [==============================] - 8s 52ms/step - loss: 0.0746 - val_loss: 0.3539\n",
      "Epoch 12/15\n",
      "152/152 [==============================] - 8s 52ms/step - loss: 0.0739 - val_loss: 0.3551\n",
      "Epoch 13/15\n",
      "152/152 [==============================] - 8s 52ms/step - loss: 0.0732 - val_loss: 0.3388\n",
      "Epoch 14/15\n",
      "152/152 [==============================] - 8s 52ms/step - loss: 0.0721 - val_loss: 0.3494\n",
      "Epoch 15/15\n",
      "152/152 [==============================] - 8s 52ms/step - loss: 0.0733 - val_loss: 0.3541\n"
     ]
    },
    {
     "name": "stderr",
     "output_type": "stream",
     "text": [
      "WARNING:absl:Found untraced functions such as lstm_cell_23_layer_call_fn, lstm_cell_23_layer_call_and_return_conditional_losses while saving (showing 2 of 2). These functions will not be directly callable after loading.\n"
     ]
    },
    {
     "name": "stdout",
     "output_type": "stream",
     "text": [
      "INFO:tensorflow:Assets written to: Walk_forward/models/day18\\assets\n"
     ]
    },
    {
     "name": "stderr",
     "output_type": "stream",
     "text": [
      "INFO:tensorflow:Assets written to: Walk_forward/models/day18\\assets\n",
      "WARNING:absl:<keras.layers.recurrent.LSTMCell object at 0x000001D24D11BAF0> has the same name 'LSTMCell' as a built-in Keras object. Consider renaming <class 'keras.layers.recurrent.LSTMCell'> to avoid naming conflicts when loading with `tf.keras.models.load_model`. If renaming is not possible, pass the object in the `custom_objects` parameter of the load function.\n"
     ]
    },
    {
     "name": "stdout",
     "output_type": "stream",
     "text": [
      "152/152 [==============================] - 4s 21ms/step\n",
      "65/65 [==============================] - 1s 19ms/step\n"
     ]
    },
    {
     "name": "stderr",
     "output_type": "stream",
     "text": [
      "D:\\Anaconda\\lib\\site-packages\\pandas\\core\\frame.py:3678: SettingWithCopyWarning: \n",
      "A value is trying to be set on a copy of a slice from a DataFrame.\n",
      "Try using .loc[row_indexer,col_indexer] = value instead\n",
      "\n",
      "See the caveats in the documentation: https://pandas.pydata.org/pandas-docs/stable/user_guide/indexing.html#returning-a-view-versus-a-copy\n",
      "  self[col] = igetitem(value, i)\n"
     ]
    },
    {
     "name": "stdout",
     "output_type": "stream",
     "text": [
      "Epoch 1/15\n",
      "152/152 [==============================] - 10s 55ms/step - loss: 0.1645 - val_loss: 0.6358\n",
      "Epoch 2/15\n",
      "152/152 [==============================] - 8s 52ms/step - loss: 0.1212 - val_loss: 0.5329\n",
      "Epoch 3/15\n",
      "152/152 [==============================] - 8s 52ms/step - loss: 0.1044 - val_loss: 0.4576\n",
      "Epoch 4/15\n",
      "152/152 [==============================] - 8s 52ms/step - loss: 0.0934 - val_loss: 0.4550\n",
      "Epoch 5/15\n",
      "152/152 [==============================] - 8s 52ms/step - loss: 0.0907 - val_loss: 0.4336\n",
      "Epoch 6/15\n",
      "152/152 [==============================] - 8s 52ms/step - loss: 0.0856 - val_loss: 0.4215\n",
      "Epoch 7/15\n",
      "152/152 [==============================] - 8s 52ms/step - loss: 0.0895 - val_loss: 0.4125\n",
      "Epoch 8/15\n",
      "152/152 [==============================] - 8s 52ms/step - loss: 0.0824 - val_loss: 0.4091\n",
      "Epoch 9/15\n",
      "152/152 [==============================] - 8s 52ms/step - loss: 0.0855 - val_loss: 0.4009\n",
      "Epoch 10/15\n",
      "152/152 [==============================] - 8s 52ms/step - loss: 0.0809 - val_loss: 0.3952\n",
      "Epoch 11/15\n",
      "152/152 [==============================] - 8s 51ms/step - loss: 0.0832 - val_loss: 0.4033\n",
      "Epoch 12/15\n",
      "152/152 [==============================] - 8s 52ms/step - loss: 0.0858 - val_loss: 0.3945\n",
      "Epoch 13/15\n",
      "152/152 [==============================] - 8s 51ms/step - loss: 0.0807 - val_loss: 0.3944\n",
      "Epoch 14/15\n",
      "152/152 [==============================] - 8s 52ms/step - loss: 0.0833 - val_loss: 0.3940\n",
      "Epoch 15/15\n",
      "152/152 [==============================] - 8s 51ms/step - loss: 0.0790 - val_loss: 0.3870\n"
     ]
    },
    {
     "name": "stderr",
     "output_type": "stream",
     "text": [
      "WARNING:absl:Found untraced functions such as lstm_cell_24_layer_call_fn, lstm_cell_24_layer_call_and_return_conditional_losses while saving (showing 2 of 2). These functions will not be directly callable after loading.\n"
     ]
    },
    {
     "name": "stdout",
     "output_type": "stream",
     "text": [
      "INFO:tensorflow:Assets written to: Walk_forward/models/day19\\assets\n"
     ]
    },
    {
     "name": "stderr",
     "output_type": "stream",
     "text": [
      "INFO:tensorflow:Assets written to: Walk_forward/models/day19\\assets\n",
      "WARNING:absl:<keras.layers.recurrent.LSTMCell object at 0x000001D2481274C0> has the same name 'LSTMCell' as a built-in Keras object. Consider renaming <class 'keras.layers.recurrent.LSTMCell'> to avoid naming conflicts when loading with `tf.keras.models.load_model`. If renaming is not possible, pass the object in the `custom_objects` parameter of the load function.\n"
     ]
    },
    {
     "name": "stdout",
     "output_type": "stream",
     "text": [
      "152/152 [==============================] - 4s 21ms/step\n",
      "65/65 [==============================] - 1s 19ms/step\n"
     ]
    },
    {
     "name": "stderr",
     "output_type": "stream",
     "text": [
      "D:\\Anaconda\\lib\\site-packages\\pandas\\core\\frame.py:3678: SettingWithCopyWarning: \n",
      "A value is trying to be set on a copy of a slice from a DataFrame.\n",
      "Try using .loc[row_indexer,col_indexer] = value instead\n",
      "\n",
      "See the caveats in the documentation: https://pandas.pydata.org/pandas-docs/stable/user_guide/indexing.html#returning-a-view-versus-a-copy\n",
      "  self[col] = igetitem(value, i)\n"
     ]
    },
    {
     "name": "stdout",
     "output_type": "stream",
     "text": [
      "Epoch 1/15\n",
      "152/152 [==============================] - 10s 55ms/step - loss: 0.2523 - val_loss: 0.7367\n",
      "Epoch 2/15\n",
      "152/152 [==============================] - 8s 51ms/step - loss: 0.1409 - val_loss: 0.5969\n",
      "Epoch 3/15\n",
      "152/152 [==============================] - 8s 52ms/step - loss: 0.1192 - val_loss: 0.5319\n",
      "Epoch 4/15\n",
      "152/152 [==============================] - 8s 52ms/step - loss: 0.1049 - val_loss: 0.4571\n",
      "Epoch 5/15\n",
      "152/152 [==============================] - 8s 51ms/step - loss: 0.0945 - val_loss: 0.4376\n",
      "Epoch 6/15\n",
      "152/152 [==============================] - 8s 51ms/step - loss: 0.0886 - val_loss: 0.4159\n",
      "Epoch 7/15\n",
      "152/152 [==============================] - 8s 51ms/step - loss: 0.0869 - val_loss: 0.4181\n",
      "Epoch 8/15\n",
      "152/152 [==============================] - 8s 51ms/step - loss: 0.0880 - val_loss: 0.4087\n",
      "Epoch 9/15\n",
      "152/152 [==============================] - 8s 52ms/step - loss: 0.0834 - val_loss: 0.4038\n",
      "Epoch 10/15\n",
      "152/152 [==============================] - 8s 52ms/step - loss: 0.0830 - val_loss: 0.4105\n",
      "Epoch 11/15\n",
      "152/152 [==============================] - 8s 53ms/step - loss: 0.0833 - val_loss: 0.3997\n",
      "Epoch 12/15\n",
      "152/152 [==============================] - 8s 52ms/step - loss: 0.0855 - val_loss: 0.3989\n",
      "Epoch 13/15\n",
      "152/152 [==============================] - 8s 52ms/step - loss: 0.0817 - val_loss: 0.4036\n",
      "Epoch 14/15\n",
      "152/152 [==============================] - 8s 52ms/step - loss: 0.0818 - val_loss: 0.3968\n",
      "Epoch 15/15\n",
      "152/152 [==============================] - 8s 53ms/step - loss: 0.0822 - val_loss: 0.4138\n"
     ]
    },
    {
     "name": "stderr",
     "output_type": "stream",
     "text": [
      "WARNING:absl:Found untraced functions such as lstm_cell_25_layer_call_fn, lstm_cell_25_layer_call_and_return_conditional_losses while saving (showing 2 of 2). These functions will not be directly callable after loading.\n"
     ]
    },
    {
     "name": "stdout",
     "output_type": "stream",
     "text": [
      "INFO:tensorflow:Assets written to: Walk_forward/models/day20\\assets\n"
     ]
    },
    {
     "name": "stderr",
     "output_type": "stream",
     "text": [
      "INFO:tensorflow:Assets written to: Walk_forward/models/day20\\assets\n",
      "WARNING:absl:<keras.layers.recurrent.LSTMCell object at 0x000001D1D42457C0> has the same name 'LSTMCell' as a built-in Keras object. Consider renaming <class 'keras.layers.recurrent.LSTMCell'> to avoid naming conflicts when loading with `tf.keras.models.load_model`. If renaming is not possible, pass the object in the `custom_objects` parameter of the load function.\n"
     ]
    },
    {
     "name": "stdout",
     "output_type": "stream",
     "text": [
      "152/152 [==============================] - 4s 21ms/step\n",
      "65/65 [==============================] - 1s 19ms/step\n"
     ]
    },
    {
     "name": "stderr",
     "output_type": "stream",
     "text": [
      "D:\\Anaconda\\lib\\site-packages\\pandas\\core\\frame.py:3678: SettingWithCopyWarning: \n",
      "A value is trying to be set on a copy of a slice from a DataFrame.\n",
      "Try using .loc[row_indexer,col_indexer] = value instead\n",
      "\n",
      "See the caveats in the documentation: https://pandas.pydata.org/pandas-docs/stable/user_guide/indexing.html#returning-a-view-versus-a-copy\n",
      "  self[col] = igetitem(value, i)\n"
     ]
    },
    {
     "name": "stdout",
     "output_type": "stream",
     "text": [
      "Epoch 1/15\n",
      "152/152 [==============================] - 10s 55ms/step - loss: 0.3177 - val_loss: 0.7166\n",
      "Epoch 2/15\n",
      "152/152 [==============================] - 8s 52ms/step - loss: 0.1707 - val_loss: 0.5540\n",
      "Epoch 3/15\n",
      "152/152 [==============================] - 8s 52ms/step - loss: 0.1441 - val_loss: 0.4895\n",
      "Epoch 4/15\n",
      "152/152 [==============================] - 8s 51ms/step - loss: 0.1252 - val_loss: 0.4505\n",
      "Epoch 5/15\n",
      "152/152 [==============================] - 8s 52ms/step - loss: 0.1134 - val_loss: 0.4224\n",
      "Epoch 6/15\n",
      "152/152 [==============================] - 8s 52ms/step - loss: 0.1080 - val_loss: 0.4084\n",
      "Epoch 7/15\n",
      "152/152 [==============================] - 8s 52ms/step - loss: 0.1034 - val_loss: 0.3983\n",
      "Epoch 8/15\n",
      "152/152 [==============================] - 8s 52ms/step - loss: 0.1055 - val_loss: 0.3877\n",
      "Epoch 9/15\n",
      "152/152 [==============================] - 8s 51ms/step - loss: 0.1001 - val_loss: 0.3896\n",
      "Epoch 10/15\n",
      "152/152 [==============================] - 8s 51ms/step - loss: 0.1043 - val_loss: 0.3817\n",
      "Epoch 11/15\n",
      "152/152 [==============================] - 8s 52ms/step - loss: 0.0996 - val_loss: 0.3858\n",
      "Epoch 12/15\n",
      "152/152 [==============================] - 8s 51ms/step - loss: 0.0967 - val_loss: 0.3896\n",
      "Epoch 13/15\n",
      "152/152 [==============================] - 8s 51ms/step - loss: 0.0972 - val_loss: 0.3796\n",
      "Epoch 14/15\n",
      "152/152 [==============================] - 8s 52ms/step - loss: 0.0983 - val_loss: 0.3813\n",
      "Epoch 15/15\n",
      "152/152 [==============================] - 8s 51ms/step - loss: 0.0959 - val_loss: 0.3804\n"
     ]
    },
    {
     "name": "stderr",
     "output_type": "stream",
     "text": [
      "WARNING:absl:Found untraced functions such as lstm_cell_26_layer_call_fn, lstm_cell_26_layer_call_and_return_conditional_losses while saving (showing 2 of 2). These functions will not be directly callable after loading.\n"
     ]
    },
    {
     "name": "stdout",
     "output_type": "stream",
     "text": [
      "INFO:tensorflow:Assets written to: Walk_forward/models/day21\\assets\n"
     ]
    },
    {
     "name": "stderr",
     "output_type": "stream",
     "text": [
      "INFO:tensorflow:Assets written to: Walk_forward/models/day21\\assets\n",
      "WARNING:absl:<keras.layers.recurrent.LSTMCell object at 0x000001CF5E551220> has the same name 'LSTMCell' as a built-in Keras object. Consider renaming <class 'keras.layers.recurrent.LSTMCell'> to avoid naming conflicts when loading with `tf.keras.models.load_model`. If renaming is not possible, pass the object in the `custom_objects` parameter of the load function.\n"
     ]
    },
    {
     "name": "stdout",
     "output_type": "stream",
     "text": [
      "152/152 [==============================] - 4s 21ms/step\n",
      "65/65 [==============================] - 1s 19ms/step\n"
     ]
    },
    {
     "name": "stderr",
     "output_type": "stream",
     "text": [
      "D:\\Anaconda\\lib\\site-packages\\pandas\\core\\frame.py:3678: SettingWithCopyWarning: \n",
      "A value is trying to be set on a copy of a slice from a DataFrame.\n",
      "Try using .loc[row_indexer,col_indexer] = value instead\n",
      "\n",
      "See the caveats in the documentation: https://pandas.pydata.org/pandas-docs/stable/user_guide/indexing.html#returning-a-view-versus-a-copy\n",
      "  self[col] = igetitem(value, i)\n"
     ]
    },
    {
     "name": "stdout",
     "output_type": "stream",
     "text": [
      "Epoch 1/15\n",
      "152/152 [==============================] - 11s 55ms/step - loss: 0.3472 - val_loss: 0.5186\n",
      "Epoch 2/15\n",
      "152/152 [==============================] - 8s 51ms/step - loss: 0.1817 - val_loss: 0.4719\n",
      "Epoch 3/15\n",
      "152/152 [==============================] - 8s 52ms/step - loss: 0.1557 - val_loss: 0.4396\n",
      "Epoch 4/15\n",
      "152/152 [==============================] - 8s 51ms/step - loss: 0.1395 - val_loss: 0.4159\n",
      "Epoch 5/15\n",
      "152/152 [==============================] - 8s 52ms/step - loss: 0.1273 - val_loss: 0.4037\n",
      "Epoch 6/15\n",
      "152/152 [==============================] - 8s 52ms/step - loss: 0.1224 - val_loss: 0.3958\n",
      "Epoch 7/15\n",
      "152/152 [==============================] - 8s 51ms/step - loss: 0.1181 - val_loss: 0.3974\n",
      "Epoch 8/15\n",
      "152/152 [==============================] - 8s 51ms/step - loss: 0.1191 - val_loss: 0.3858\n",
      "Epoch 9/15\n",
      "152/152 [==============================] - 8s 51ms/step - loss: 0.1147 - val_loss: 0.3868\n",
      "Epoch 10/15\n",
      "152/152 [==============================] - 8s 52ms/step - loss: 0.1150 - val_loss: 0.3861\n",
      "Epoch 11/15\n",
      "152/152 [==============================] - 8s 52ms/step - loss: 0.1149 - val_loss: 0.3861\n",
      "Epoch 12/15\n",
      "152/152 [==============================] - 8s 51ms/step - loss: 0.1137 - val_loss: 0.3881\n",
      "Epoch 13/15\n",
      "152/152 [==============================] - 8s 51ms/step - loss: 0.1114 - val_loss: 0.3808\n",
      "Epoch 14/15\n",
      "152/152 [==============================] - 8s 52ms/step - loss: 0.1263 - val_loss: 0.3803\n",
      "Epoch 15/15\n",
      "152/152 [==============================] - 8s 52ms/step - loss: 0.1151 - val_loss: 0.3775\n"
     ]
    },
    {
     "name": "stderr",
     "output_type": "stream",
     "text": [
      "WARNING:absl:Found untraced functions such as lstm_cell_27_layer_call_fn, lstm_cell_27_layer_call_and_return_conditional_losses while saving (showing 2 of 2). These functions will not be directly callable after loading.\n"
     ]
    },
    {
     "name": "stdout",
     "output_type": "stream",
     "text": [
      "INFO:tensorflow:Assets written to: Walk_forward/models/day22\\assets\n"
     ]
    },
    {
     "name": "stderr",
     "output_type": "stream",
     "text": [
      "INFO:tensorflow:Assets written to: Walk_forward/models/day22\\assets\n",
      "WARNING:absl:<keras.layers.recurrent.LSTMCell object at 0x000001D226120E20> has the same name 'LSTMCell' as a built-in Keras object. Consider renaming <class 'keras.layers.recurrent.LSTMCell'> to avoid naming conflicts when loading with `tf.keras.models.load_model`. If renaming is not possible, pass the object in the `custom_objects` parameter of the load function.\n"
     ]
    },
    {
     "name": "stdout",
     "output_type": "stream",
     "text": [
      "152/152 [==============================] - 4s 21ms/step\n",
      "65/65 [==============================] - 1s 19ms/step\n"
     ]
    },
    {
     "name": "stderr",
     "output_type": "stream",
     "text": [
      "D:\\Anaconda\\lib\\site-packages\\pandas\\core\\frame.py:3678: SettingWithCopyWarning: \n",
      "A value is trying to be set on a copy of a slice from a DataFrame.\n",
      "Try using .loc[row_indexer,col_indexer] = value instead\n",
      "\n",
      "See the caveats in the documentation: https://pandas.pydata.org/pandas-docs/stable/user_guide/indexing.html#returning-a-view-versus-a-copy\n",
      "  self[col] = igetitem(value, i)\n"
     ]
    },
    {
     "name": "stdout",
     "output_type": "stream",
     "text": [
      "Epoch 1/15\n",
      "152/152 [==============================] - 11s 55ms/step - loss: 0.4572 - val_loss: 0.5349\n",
      "Epoch 2/15\n",
      "152/152 [==============================] - 8s 52ms/step - loss: 0.2244 - val_loss: 0.4768\n",
      "Epoch 3/15\n",
      "152/152 [==============================] - 8s 52ms/step - loss: 0.1928 - val_loss: 0.4335\n",
      "Epoch 4/15\n",
      "152/152 [==============================] - 8s 52ms/step - loss: 0.1701 - val_loss: 0.4106\n",
      "Epoch 5/15\n",
      "152/152 [==============================] - 8s 54ms/step - loss: 0.1569 - val_loss: 0.3907\n",
      "Epoch 6/15\n",
      "152/152 [==============================] - 8s 52ms/step - loss: 0.1456 - val_loss: 0.3780\n",
      "Epoch 7/15\n",
      "152/152 [==============================] - 8s 52ms/step - loss: 0.1388 - val_loss: 0.3701\n",
      "Epoch 8/15\n",
      "152/152 [==============================] - 8s 52ms/step - loss: 0.1415 - val_loss: 0.3628\n",
      "Epoch 9/15\n",
      "152/152 [==============================] - 8s 51ms/step - loss: 0.1359 - val_loss: 0.3604\n",
      "Epoch 10/15\n",
      "152/152 [==============================] - 8s 52ms/step - loss: 0.1405 - val_loss: 0.3556\n",
      "Epoch 11/15\n",
      "152/152 [==============================] - 8s 52ms/step - loss: 0.1335 - val_loss: 0.3532\n",
      "Epoch 12/15\n",
      "152/152 [==============================] - 8s 52ms/step - loss: 0.1293 - val_loss: 0.3505\n",
      "Epoch 13/15\n",
      "152/152 [==============================] - 8s 52ms/step - loss: 0.1307 - val_loss: 0.3510\n",
      "Epoch 14/15\n",
      "152/152 [==============================] - 8s 52ms/step - loss: 0.1334 - val_loss: 0.3490\n",
      "Epoch 15/15\n",
      "152/152 [==============================] - 8s 52ms/step - loss: 0.1295 - val_loss: 0.3481\n"
     ]
    },
    {
     "name": "stderr",
     "output_type": "stream",
     "text": [
      "WARNING:absl:Found untraced functions such as lstm_cell_28_layer_call_fn, lstm_cell_28_layer_call_and_return_conditional_losses while saving (showing 2 of 2). These functions will not be directly callable after loading.\n"
     ]
    },
    {
     "name": "stdout",
     "output_type": "stream",
     "text": [
      "INFO:tensorflow:Assets written to: Walk_forward/models/day23\\assets\n"
     ]
    },
    {
     "name": "stderr",
     "output_type": "stream",
     "text": [
      "INFO:tensorflow:Assets written to: Walk_forward/models/day23\\assets\n",
      "WARNING:absl:<keras.layers.recurrent.LSTMCell object at 0x000001D1D3E42940> has the same name 'LSTMCell' as a built-in Keras object. Consider renaming <class 'keras.layers.recurrent.LSTMCell'> to avoid naming conflicts when loading with `tf.keras.models.load_model`. If renaming is not possible, pass the object in the `custom_objects` parameter of the load function.\n"
     ]
    },
    {
     "name": "stdout",
     "output_type": "stream",
     "text": [
      "152/152 [==============================] - 4s 21ms/step\n",
      "65/65 [==============================] - 1s 19ms/step\n"
     ]
    },
    {
     "name": "stderr",
     "output_type": "stream",
     "text": [
      "D:\\Anaconda\\lib\\site-packages\\pandas\\core\\frame.py:3678: SettingWithCopyWarning: \n",
      "A value is trying to be set on a copy of a slice from a DataFrame.\n",
      "Try using .loc[row_indexer,col_indexer] = value instead\n",
      "\n",
      "See the caveats in the documentation: https://pandas.pydata.org/pandas-docs/stable/user_guide/indexing.html#returning-a-view-versus-a-copy\n",
      "  self[col] = igetitem(value, i)\n"
     ]
    },
    {
     "name": "stdout",
     "output_type": "stream",
     "text": [
      "Epoch 1/15\n",
      "152/152 [==============================] - 10s 56ms/step - loss: 0.3495 - val_loss: 0.4162\n",
      "Epoch 2/15\n",
      "152/152 [==============================] - 8s 52ms/step - loss: 0.2213 - val_loss: 0.3779\n",
      "Epoch 3/15\n",
      "152/152 [==============================] - 8s 52ms/step - loss: 0.2024 - val_loss: 0.3590\n",
      "Epoch 4/15\n",
      "152/152 [==============================] - 8s 52ms/step - loss: 0.1922 - val_loss: 0.3466\n",
      "Epoch 5/15\n",
      "152/152 [==============================] - 8s 52ms/step - loss: 0.1855 - val_loss: 0.3344\n",
      "Epoch 6/15\n",
      "152/152 [==============================] - 8s 52ms/step - loss: 0.1799 - val_loss: 0.3265\n",
      "Epoch 7/15\n",
      "152/152 [==============================] - 8s 52ms/step - loss: 0.1715 - val_loss: 0.3306\n",
      "Epoch 8/15\n",
      "152/152 [==============================] - 8s 52ms/step - loss: 0.1659 - val_loss: 0.3173\n",
      "Epoch 9/15\n",
      "152/152 [==============================] - 8s 52ms/step - loss: 0.1684 - val_loss: 0.3151\n",
      "Epoch 10/15\n",
      "152/152 [==============================] - 8s 52ms/step - loss: 0.1599 - val_loss: 0.3105\n",
      "Epoch 11/15\n",
      "152/152 [==============================] - 8s 52ms/step - loss: 0.1592 - val_loss: 0.3129\n",
      "Epoch 12/15\n",
      "152/152 [==============================] - 8s 52ms/step - loss: 0.1624 - val_loss: 0.3088\n",
      "Epoch 13/15\n",
      "152/152 [==============================] - 8s 52ms/step - loss: 0.1562 - val_loss: 0.3075\n",
      "Epoch 14/15\n",
      "152/152 [==============================] - 8s 52ms/step - loss: 0.1542 - val_loss: 0.3070\n",
      "Epoch 15/15\n",
      "152/152 [==============================] - 8s 52ms/step - loss: 0.1565 - val_loss: 0.3086\n"
     ]
    },
    {
     "name": "stderr",
     "output_type": "stream",
     "text": [
      "WARNING:absl:Found untraced functions such as lstm_cell_29_layer_call_fn, lstm_cell_29_layer_call_and_return_conditional_losses while saving (showing 2 of 2). These functions will not be directly callable after loading.\n"
     ]
    },
    {
     "name": "stdout",
     "output_type": "stream",
     "text": [
      "INFO:tensorflow:Assets written to: Walk_forward/models/day24\\assets\n"
     ]
    },
    {
     "name": "stderr",
     "output_type": "stream",
     "text": [
      "INFO:tensorflow:Assets written to: Walk_forward/models/day24\\assets\n",
      "WARNING:absl:<keras.layers.recurrent.LSTMCell object at 0x000001D247D95B50> has the same name 'LSTMCell' as a built-in Keras object. Consider renaming <class 'keras.layers.recurrent.LSTMCell'> to avoid naming conflicts when loading with `tf.keras.models.load_model`. If renaming is not possible, pass the object in the `custom_objects` parameter of the load function.\n"
     ]
    },
    {
     "name": "stdout",
     "output_type": "stream",
     "text": [
      "152/152 [==============================] - 4s 21ms/step\n",
      "65/65 [==============================] - 1s 19ms/step\n"
     ]
    },
    {
     "name": "stderr",
     "output_type": "stream",
     "text": [
      "D:\\Anaconda\\lib\\site-packages\\pandas\\core\\frame.py:3678: SettingWithCopyWarning: \n",
      "A value is trying to be set on a copy of a slice from a DataFrame.\n",
      "Try using .loc[row_indexer,col_indexer] = value instead\n",
      "\n",
      "See the caveats in the documentation: https://pandas.pydata.org/pandas-docs/stable/user_guide/indexing.html#returning-a-view-versus-a-copy\n",
      "  self[col] = igetitem(value, i)\n"
     ]
    },
    {
     "name": "stdout",
     "output_type": "stream",
     "text": [
      "Epoch 1/15\n",
      "152/152 [==============================] - 10s 55ms/step - loss: 0.5227 - val_loss: 0.4209\n",
      "Epoch 2/15\n",
      "152/152 [==============================] - 8s 52ms/step - loss: 0.3007 - val_loss: 0.3656\n",
      "Epoch 3/15\n",
      "152/152 [==============================] - 8s 52ms/step - loss: 0.2663 - val_loss: 0.3273\n",
      "Epoch 4/15\n",
      "152/152 [==============================] - 8s 52ms/step - loss: 0.2431 - val_loss: 0.2995\n",
      "Epoch 5/15\n",
      "152/152 [==============================] - 8s 51ms/step - loss: 0.2285 - val_loss: 0.2841\n",
      "Epoch 6/15\n",
      "152/152 [==============================] - 8s 51ms/step - loss: 0.2195 - val_loss: 0.2738\n",
      "Epoch 7/15\n",
      "152/152 [==============================] - 8s 51ms/step - loss: 0.2142 - val_loss: 0.2692\n",
      "Epoch 8/15\n",
      "152/152 [==============================] - 8s 52ms/step - loss: 0.2132 - val_loss: 0.2648\n",
      "Epoch 9/15\n",
      "152/152 [==============================] - 8s 52ms/step - loss: 0.2080 - val_loss: 0.2625\n",
      "Epoch 10/15\n",
      "152/152 [==============================] - 8s 52ms/step - loss: 0.2053 - val_loss: 0.2625\n",
      "Epoch 11/15\n",
      "152/152 [==============================] - 8s 51ms/step - loss: 0.2072 - val_loss: 0.2597\n",
      "Epoch 12/15\n",
      "152/152 [==============================] - 8s 51ms/step - loss: 0.2042 - val_loss: 0.2679\n",
      "Epoch 13/15\n",
      "152/152 [==============================] - 8s 51ms/step - loss: 0.2045 - val_loss: 0.2577\n",
      "Epoch 14/15\n",
      "152/152 [==============================] - 8s 51ms/step - loss: 0.2047 - val_loss: 0.2584\n",
      "Epoch 15/15\n",
      "152/152 [==============================] - 8s 51ms/step - loss: 0.2092 - val_loss: 0.2597\n"
     ]
    },
    {
     "name": "stderr",
     "output_type": "stream",
     "text": [
      "WARNING:absl:Found untraced functions such as lstm_cell_30_layer_call_fn, lstm_cell_30_layer_call_and_return_conditional_losses while saving (showing 2 of 2). These functions will not be directly callable after loading.\n"
     ]
    },
    {
     "name": "stdout",
     "output_type": "stream",
     "text": [
      "INFO:tensorflow:Assets written to: Walk_forward/models/day25\\assets\n"
     ]
    },
    {
     "name": "stderr",
     "output_type": "stream",
     "text": [
      "INFO:tensorflow:Assets written to: Walk_forward/models/day25\\assets\n",
      "WARNING:absl:<keras.layers.recurrent.LSTMCell object at 0x000001D249060E80> has the same name 'LSTMCell' as a built-in Keras object. Consider renaming <class 'keras.layers.recurrent.LSTMCell'> to avoid naming conflicts when loading with `tf.keras.models.load_model`. If renaming is not possible, pass the object in the `custom_objects` parameter of the load function.\n"
     ]
    },
    {
     "name": "stdout",
     "output_type": "stream",
     "text": [
      "152/152 [==============================] - 4s 21ms/step\n",
      "65/65 [==============================] - 1s 20ms/step\n"
     ]
    },
    {
     "name": "stderr",
     "output_type": "stream",
     "text": [
      "D:\\Anaconda\\lib\\site-packages\\pandas\\core\\frame.py:3678: SettingWithCopyWarning: \n",
      "A value is trying to be set on a copy of a slice from a DataFrame.\n",
      "Try using .loc[row_indexer,col_indexer] = value instead\n",
      "\n",
      "See the caveats in the documentation: https://pandas.pydata.org/pandas-docs/stable/user_guide/indexing.html#returning-a-view-versus-a-copy\n",
      "  self[col] = igetitem(value, i)\n"
     ]
    },
    {
     "name": "stdout",
     "output_type": "stream",
     "text": [
      "Epoch 1/15\n",
      "152/152 [==============================] - 13s 75ms/step - loss: 0.5977 - val_loss: 0.3528\n",
      "Epoch 2/15\n",
      "152/152 [==============================] - 8s 53ms/step - loss: 0.3436 - val_loss: 0.3071\n",
      "Epoch 3/15\n",
      "152/152 [==============================] - 8s 53ms/step - loss: 0.3078 - val_loss: 0.2833\n",
      "Epoch 4/15\n",
      "152/152 [==============================] - 8s 52ms/step - loss: 0.2843 - val_loss: 0.2635\n",
      "Epoch 5/15\n",
      "152/152 [==============================] - 8s 52ms/step - loss: 0.2720 - val_loss: 0.2537\n",
      "Epoch 6/15\n",
      "152/152 [==============================] - 8s 52ms/step - loss: 0.2607 - val_loss: 0.2402\n",
      "Epoch 7/15\n",
      "152/152 [==============================] - 8s 52ms/step - loss: 0.2509 - val_loss: 0.2348\n",
      "Epoch 8/15\n",
      "152/152 [==============================] - 8s 52ms/step - loss: 0.2493 - val_loss: 0.2321\n",
      "Epoch 9/15\n",
      "152/152 [==============================] - 8s 51ms/step - loss: 0.2414 - val_loss: 0.2278\n",
      "Epoch 10/15\n",
      "152/152 [==============================] - 8s 52ms/step - loss: 0.2435 - val_loss: 0.2240\n",
      "Epoch 11/15\n",
      "152/152 [==============================] - 8s 51ms/step - loss: 0.2362 - val_loss: 0.2220\n",
      "Epoch 12/15\n",
      "152/152 [==============================] - 8s 52ms/step - loss: 0.2313 - val_loss: 0.2208\n",
      "Epoch 13/15\n",
      "152/152 [==============================] - 8s 52ms/step - loss: 0.2334 - val_loss: 0.2226\n",
      "Epoch 14/15\n",
      "152/152 [==============================] - 8s 52ms/step - loss: 0.2318 - val_loss: 0.2185\n",
      "Epoch 15/15\n",
      "152/152 [==============================] - 8s 52ms/step - loss: 0.2303 - val_loss: 0.2178\n"
     ]
    },
    {
     "name": "stderr",
     "output_type": "stream",
     "text": [
      "WARNING:absl:Found untraced functions such as lstm_cell_31_layer_call_fn, lstm_cell_31_layer_call_and_return_conditional_losses while saving (showing 2 of 2). These functions will not be directly callable after loading.\n"
     ]
    },
    {
     "name": "stdout",
     "output_type": "stream",
     "text": [
      "INFO:tensorflow:Assets written to: Walk_forward/models/day26\\assets\n"
     ]
    },
    {
     "name": "stderr",
     "output_type": "stream",
     "text": [
      "INFO:tensorflow:Assets written to: Walk_forward/models/day26\\assets\n",
      "WARNING:absl:<keras.layers.recurrent.LSTMCell object at 0x000001D2486413D0> has the same name 'LSTMCell' as a built-in Keras object. Consider renaming <class 'keras.layers.recurrent.LSTMCell'> to avoid naming conflicts when loading with `tf.keras.models.load_model`. If renaming is not possible, pass the object in the `custom_objects` parameter of the load function.\n"
     ]
    },
    {
     "name": "stdout",
     "output_type": "stream",
     "text": [
      "152/152 [==============================] - 3s 20ms/step\n",
      "65/65 [==============================] - 1s 19ms/step\n"
     ]
    },
    {
     "name": "stderr",
     "output_type": "stream",
     "text": [
      "D:\\Anaconda\\lib\\site-packages\\pandas\\core\\frame.py:3678: SettingWithCopyWarning: \n",
      "A value is trying to be set on a copy of a slice from a DataFrame.\n",
      "Try using .loc[row_indexer,col_indexer] = value instead\n",
      "\n",
      "See the caveats in the documentation: https://pandas.pydata.org/pandas-docs/stable/user_guide/indexing.html#returning-a-view-versus-a-copy\n",
      "  self[col] = igetitem(value, i)\n"
     ]
    },
    {
     "name": "stdout",
     "output_type": "stream",
     "text": [
      "Epoch 1/15\n",
      "152/152 [==============================] - 11s 56ms/step - loss: 0.5208 - val_loss: 0.3364\n",
      "Epoch 2/15\n",
      "152/152 [==============================] - 8s 52ms/step - loss: 0.3115 - val_loss: 0.2924\n",
      "Epoch 3/15\n",
      "152/152 [==============================] - 8s 52ms/step - loss: 0.2775 - val_loss: 0.2616\n",
      "Epoch 4/15\n",
      "152/152 [==============================] - 8s 52ms/step - loss: 0.2576 - val_loss: 0.2515\n",
      "Epoch 5/15\n",
      "152/152 [==============================] - 8s 51ms/step - loss: 0.2468 - val_loss: 0.2345\n",
      "Epoch 6/15\n",
      "152/152 [==============================] - 8s 52ms/step - loss: 0.2389 - val_loss: 0.2272\n",
      "Epoch 7/15\n",
      "152/152 [==============================] - 8s 51ms/step - loss: 0.2362 - val_loss: 0.2259\n",
      "Epoch 8/15\n",
      "152/152 [==============================] - 8s 51ms/step - loss: 0.2292 - val_loss: 0.2235\n",
      "Epoch 9/15\n",
      "152/152 [==============================] - 8s 51ms/step - loss: 0.2297 - val_loss: 0.2243\n",
      "Epoch 10/15\n",
      "152/152 [==============================] - 8s 51ms/step - loss: 0.2321 - val_loss: 0.2220\n",
      "Epoch 11/15\n",
      "152/152 [==============================] - 8s 51ms/step - loss: 0.2290 - val_loss: 0.2216\n",
      "Epoch 12/15\n",
      "152/152 [==============================] - 8s 52ms/step - loss: 0.2294 - val_loss: 0.2309\n",
      "Epoch 13/15\n",
      "152/152 [==============================] - 8s 51ms/step - loss: 0.2368 - val_loss: 0.2227\n",
      "Epoch 14/15\n",
      "152/152 [==============================] - 8s 51ms/step - loss: 0.2375 - val_loss: 0.2209\n",
      "Epoch 15/15\n",
      "152/152 [==============================] - 8s 52ms/step - loss: 0.2311 - val_loss: 0.2205\n"
     ]
    },
    {
     "name": "stderr",
     "output_type": "stream",
     "text": [
      "WARNING:absl:Found untraced functions such as lstm_cell_32_layer_call_fn, lstm_cell_32_layer_call_and_return_conditional_losses while saving (showing 2 of 2). These functions will not be directly callable after loading.\n"
     ]
    },
    {
     "name": "stdout",
     "output_type": "stream",
     "text": [
      "INFO:tensorflow:Assets written to: Walk_forward/models/day27\\assets\n"
     ]
    },
    {
     "name": "stderr",
     "output_type": "stream",
     "text": [
      "INFO:tensorflow:Assets written to: Walk_forward/models/day27\\assets\n",
      "WARNING:absl:<keras.layers.recurrent.LSTMCell object at 0x000001D24C955340> has the same name 'LSTMCell' as a built-in Keras object. Consider renaming <class 'keras.layers.recurrent.LSTMCell'> to avoid naming conflicts when loading with `tf.keras.models.load_model`. If renaming is not possible, pass the object in the `custom_objects` parameter of the load function.\n"
     ]
    },
    {
     "name": "stdout",
     "output_type": "stream",
     "text": [
      "152/152 [==============================] - 4s 21ms/step\n",
      "65/65 [==============================] - 1s 20ms/step\n"
     ]
    },
    {
     "name": "stderr",
     "output_type": "stream",
     "text": [
      "D:\\Anaconda\\lib\\site-packages\\pandas\\core\\frame.py:3678: SettingWithCopyWarning: \n",
      "A value is trying to be set on a copy of a slice from a DataFrame.\n",
      "Try using .loc[row_indexer,col_indexer] = value instead\n",
      "\n",
      "See the caveats in the documentation: https://pandas.pydata.org/pandas-docs/stable/user_guide/indexing.html#returning-a-view-versus-a-copy\n",
      "  self[col] = igetitem(value, i)\n"
     ]
    },
    {
     "name": "stdout",
     "output_type": "stream",
     "text": [
      "Epoch 1/15\n",
      "152/152 [==============================] - 11s 56ms/step - loss: 0.4750 - val_loss: 0.3898\n",
      "Epoch 2/15\n",
      "152/152 [==============================] - 8s 52ms/step - loss: 0.3374 - val_loss: 0.3344\n",
      "Epoch 3/15\n",
      "152/152 [==============================] - 8s 52ms/step - loss: 0.3007 - val_loss: 0.2975\n",
      "Epoch 4/15\n",
      "152/152 [==============================] - 8s 52ms/step - loss: 0.2731 - val_loss: 0.2778\n",
      "Epoch 5/15\n",
      "152/152 [==============================] - 8s 54ms/step - loss: 0.2600 - val_loss: 0.2617\n",
      "Epoch 6/15\n",
      "152/152 [==============================] - 8s 54ms/step - loss: 0.2480 - val_loss: 0.2532\n",
      "Epoch 7/15\n",
      "152/152 [==============================] - 8s 55ms/step - loss: 0.2394 - val_loss: 0.2476\n",
      "Epoch 8/15\n",
      "152/152 [==============================] - 8s 53ms/step - loss: 0.2373 - val_loss: 0.2446\n",
      "Epoch 9/15\n",
      "152/152 [==============================] - 8s 52ms/step - loss: 0.2334 - val_loss: 0.2427\n",
      "Epoch 10/15\n",
      "152/152 [==============================] - 8s 52ms/step - loss: 0.2362 - val_loss: 0.2414\n",
      "Epoch 11/15\n",
      "152/152 [==============================] - 8s 52ms/step - loss: 0.2402 - val_loss: 0.2406\n",
      "Epoch 12/15\n",
      "152/152 [==============================] - 8s 52ms/step - loss: 0.2331 - val_loss: 0.2422\n",
      "Epoch 13/15\n",
      "152/152 [==============================] - 8s 51ms/step - loss: 0.2446 - val_loss: 0.2423\n",
      "Epoch 14/15\n",
      "152/152 [==============================] - 8s 51ms/step - loss: 0.2320 - val_loss: 0.2388\n",
      "Epoch 15/15\n",
      "152/152 [==============================] - 8s 51ms/step - loss: 0.2329 - val_loss: 0.2383\n"
     ]
    },
    {
     "name": "stderr",
     "output_type": "stream",
     "text": [
      "WARNING:absl:Found untraced functions such as lstm_cell_33_layer_call_fn, lstm_cell_33_layer_call_and_return_conditional_losses while saving (showing 2 of 2). These functions will not be directly callable after loading.\n"
     ]
    },
    {
     "name": "stdout",
     "output_type": "stream",
     "text": [
      "INFO:tensorflow:Assets written to: Walk_forward/models/day28\\assets\n"
     ]
    },
    {
     "name": "stderr",
     "output_type": "stream",
     "text": [
      "INFO:tensorflow:Assets written to: Walk_forward/models/day28\\assets\n",
      "WARNING:absl:<keras.layers.recurrent.LSTMCell object at 0x000001D234FD0040> has the same name 'LSTMCell' as a built-in Keras object. Consider renaming <class 'keras.layers.recurrent.LSTMCell'> to avoid naming conflicts when loading with `tf.keras.models.load_model`. If renaming is not possible, pass the object in the `custom_objects` parameter of the load function.\n"
     ]
    },
    {
     "name": "stdout",
     "output_type": "stream",
     "text": [
      "152/152 [==============================] - 4s 25ms/step\n",
      "65/65 [==============================] - 1s 19ms/step\n"
     ]
    },
    {
     "name": "stderr",
     "output_type": "stream",
     "text": [
      "D:\\Anaconda\\lib\\site-packages\\pandas\\core\\frame.py:3678: SettingWithCopyWarning: \n",
      "A value is trying to be set on a copy of a slice from a DataFrame.\n",
      "Try using .loc[row_indexer,col_indexer] = value instead\n",
      "\n",
      "See the caveats in the documentation: https://pandas.pydata.org/pandas-docs/stable/user_guide/indexing.html#returning-a-view-versus-a-copy\n",
      "  self[col] = igetitem(value, i)\n"
     ]
    },
    {
     "name": "stdout",
     "output_type": "stream",
     "text": [
      "Epoch 1/15\n",
      "152/152 [==============================] - 10s 56ms/step - loss: 0.4863 - val_loss: 0.3382\n",
      "Epoch 2/15\n",
      "152/152 [==============================] - 8s 52ms/step - loss: 0.3336 - val_loss: 0.2747\n",
      "Epoch 3/15\n",
      "152/152 [==============================] - 8s 52ms/step - loss: 0.2987 - val_loss: 0.2414\n",
      "Epoch 4/15\n",
      "152/152 [==============================] - 8s 52ms/step - loss: 0.2814 - val_loss: 0.2299\n",
      "Epoch 5/15\n",
      "152/152 [==============================] - 8s 52ms/step - loss: 0.2819 - val_loss: 0.2203\n",
      "Epoch 6/15\n",
      "152/152 [==============================] - 8s 52ms/step - loss: 0.2613 - val_loss: 0.2158\n",
      "Epoch 7/15\n",
      "152/152 [==============================] - 8s 52ms/step - loss: 0.2649 - val_loss: 0.2104\n",
      "Epoch 8/15\n",
      "152/152 [==============================] - 8s 52ms/step - loss: 0.2585 - val_loss: 0.2093\n",
      "Epoch 9/15\n",
      "152/152 [==============================] - 8s 52ms/step - loss: 0.2538 - val_loss: 0.2045\n",
      "Epoch 10/15\n",
      "152/152 [==============================] - 8s 53ms/step - loss: 0.2677 - val_loss: 0.2048\n",
      "Epoch 11/15\n",
      "152/152 [==============================] - 8s 51ms/step - loss: 0.2563 - val_loss: 0.2142\n",
      "Epoch 12/15\n",
      "152/152 [==============================] - 8s 52ms/step - loss: 0.2552 - val_loss: 0.2023\n",
      "Epoch 13/15\n",
      "152/152 [==============================] - 8s 52ms/step - loss: 0.2538 - val_loss: 0.2068\n",
      "Epoch 14/15\n",
      "152/152 [==============================] - 8s 52ms/step - loss: 0.2502 - val_loss: 0.2011\n",
      "Epoch 15/15\n",
      "152/152 [==============================] - 8s 52ms/step - loss: 0.2530 - val_loss: 0.2046\n"
     ]
    },
    {
     "name": "stderr",
     "output_type": "stream",
     "text": [
      "WARNING:absl:Found untraced functions such as lstm_cell_34_layer_call_fn, lstm_cell_34_layer_call_and_return_conditional_losses while saving (showing 2 of 2). These functions will not be directly callable after loading.\n"
     ]
    },
    {
     "name": "stdout",
     "output_type": "stream",
     "text": [
      "INFO:tensorflow:Assets written to: Walk_forward/models/day29\\assets\n"
     ]
    },
    {
     "name": "stderr",
     "output_type": "stream",
     "text": [
      "INFO:tensorflow:Assets written to: Walk_forward/models/day29\\assets\n",
      "WARNING:absl:<keras.layers.recurrent.LSTMCell object at 0x000001D248AFAAC0> has the same name 'LSTMCell' as a built-in Keras object. Consider renaming <class 'keras.layers.recurrent.LSTMCell'> to avoid naming conflicts when loading with `tf.keras.models.load_model`. If renaming is not possible, pass the object in the `custom_objects` parameter of the load function.\n"
     ]
    },
    {
     "name": "stdout",
     "output_type": "stream",
     "text": [
      "152/152 [==============================] - 4s 21ms/step\n",
      "65/65 [==============================] - 1s 19ms/step\n"
     ]
    },
    {
     "name": "stderr",
     "output_type": "stream",
     "text": [
      "D:\\Anaconda\\lib\\site-packages\\pandas\\core\\frame.py:3678: SettingWithCopyWarning: \n",
      "A value is trying to be set on a copy of a slice from a DataFrame.\n",
      "Try using .loc[row_indexer,col_indexer] = value instead\n",
      "\n",
      "See the caveats in the documentation: https://pandas.pydata.org/pandas-docs/stable/user_guide/indexing.html#returning-a-view-versus-a-copy\n",
      "  self[col] = igetitem(value, i)\n"
     ]
    },
    {
     "name": "stdout",
     "output_type": "stream",
     "text": [
      "Epoch 1/15\n",
      "152/152 [==============================] - 11s 56ms/step - loss: 0.5008 - val_loss: 0.3783\n",
      "Epoch 2/15\n",
      "152/152 [==============================] - 8s 52ms/step - loss: 0.3403 - val_loss: 0.3104\n",
      "Epoch 3/15\n",
      "152/152 [==============================] - 8s 52ms/step - loss: 0.3067 - val_loss: 0.2825\n",
      "Epoch 4/15\n",
      "152/152 [==============================] - 8s 52ms/step - loss: 0.2842 - val_loss: 0.2626\n",
      "Epoch 5/15\n",
      "152/152 [==============================] - 8s 52ms/step - loss: 0.2707 - val_loss: 0.2503\n",
      "Epoch 6/15\n",
      "152/152 [==============================] - 8s 53ms/step - loss: 0.2768 - val_loss: 0.2446\n",
      "Epoch 7/15\n",
      "152/152 [==============================] - 8s 52ms/step - loss: 0.2640 - val_loss: 0.2399\n",
      "Epoch 8/15\n",
      "152/152 [==============================] - 8s 52ms/step - loss: 0.2598 - val_loss: 0.2367\n",
      "Epoch 9/15\n",
      "152/152 [==============================] - 8s 52ms/step - loss: 0.2559 - val_loss: 0.2380\n",
      "Epoch 10/15\n",
      "152/152 [==============================] - 8s 52ms/step - loss: 0.2592 - val_loss: 0.2337\n",
      "Epoch 11/15\n",
      "152/152 [==============================] - 8s 52ms/step - loss: 0.2564 - val_loss: 0.2321\n",
      "Epoch 12/15\n",
      "152/152 [==============================] - 8s 52ms/step - loss: 0.2661 - val_loss: 0.2323\n",
      "Epoch 13/15\n",
      "152/152 [==============================] - 8s 52ms/step - loss: 0.2671 - val_loss: 0.2337\n",
      "Epoch 14/15\n",
      "152/152 [==============================] - 8s 52ms/step - loss: 0.2584 - val_loss: 0.2344\n",
      "Epoch 15/15\n",
      "152/152 [==============================] - 8s 52ms/step - loss: 0.2610 - val_loss: 0.2306\n"
     ]
    },
    {
     "name": "stderr",
     "output_type": "stream",
     "text": [
      "WARNING:absl:Found untraced functions such as lstm_cell_35_layer_call_fn, lstm_cell_35_layer_call_and_return_conditional_losses while saving (showing 2 of 2). These functions will not be directly callable after loading.\n"
     ]
    },
    {
     "name": "stdout",
     "output_type": "stream",
     "text": [
      "INFO:tensorflow:Assets written to: Walk_forward/models/day30\\assets\n"
     ]
    },
    {
     "name": "stderr",
     "output_type": "stream",
     "text": [
      "INFO:tensorflow:Assets written to: Walk_forward/models/day30\\assets\n",
      "WARNING:absl:<keras.layers.recurrent.LSTMCell object at 0x000001D234F06160> has the same name 'LSTMCell' as a built-in Keras object. Consider renaming <class 'keras.layers.recurrent.LSTMCell'> to avoid naming conflicts when loading with `tf.keras.models.load_model`. If renaming is not possible, pass the object in the `custom_objects` parameter of the load function.\n"
     ]
    },
    {
     "name": "stdout",
     "output_type": "stream",
     "text": [
      "152/152 [==============================] - 4s 21ms/step\n",
      "65/65 [==============================] - 1s 19ms/step\n"
     ]
    },
    {
     "name": "stderr",
     "output_type": "stream",
     "text": [
      "D:\\Anaconda\\lib\\site-packages\\pandas\\core\\frame.py:3678: SettingWithCopyWarning: \n",
      "A value is trying to be set on a copy of a slice from a DataFrame.\n",
      "Try using .loc[row_indexer,col_indexer] = value instead\n",
      "\n",
      "See the caveats in the documentation: https://pandas.pydata.org/pandas-docs/stable/user_guide/indexing.html#returning-a-view-versus-a-copy\n",
      "  self[col] = igetitem(value, i)\n"
     ]
    },
    {
     "name": "stdout",
     "output_type": "stream",
     "text": [
      "Epoch 1/15\n",
      "152/152 [==============================] - 11s 56ms/step - loss: 0.6720 - val_loss: 0.4326\n",
      "Epoch 2/15\n",
      "152/152 [==============================] - 8s 52ms/step - loss: 0.3684 - val_loss: 0.3614\n",
      "Epoch 3/15\n",
      "152/152 [==============================] - 8s 52ms/step - loss: 0.3276 - val_loss: 0.3177\n",
      "Epoch 4/15\n",
      "152/152 [==============================] - 9s 60ms/step - loss: 0.3077 - val_loss: 0.2956\n",
      "Epoch 5/15\n",
      "152/152 [==============================] - 8s 55ms/step - loss: 0.2926 - val_loss: 0.2799\n",
      "Epoch 6/15\n",
      "152/152 [==============================] - 8s 53ms/step - loss: 0.2803 - val_loss: 0.2673\n",
      "Epoch 7/15\n",
      "152/152 [==============================] - 8s 53ms/step - loss: 0.2725 - val_loss: 0.2571\n",
      "Epoch 8/15\n",
      "152/152 [==============================] - 8s 54ms/step - loss: 0.2729 - val_loss: 0.2509\n",
      "Epoch 9/15\n",
      "152/152 [==============================] - 8s 55ms/step - loss: 0.2633 - val_loss: 0.2466\n",
      "Epoch 10/15\n",
      "152/152 [==============================] - 8s 54ms/step - loss: 0.2588 - val_loss: 0.2442\n",
      "Epoch 11/15\n",
      "152/152 [==============================] - 8s 54ms/step - loss: 0.2687 - val_loss: 0.2405\n",
      "Epoch 12/15\n",
      "152/152 [==============================] - 8s 53ms/step - loss: 0.2563 - val_loss: 0.2399\n",
      "Epoch 13/15\n",
      "152/152 [==============================] - 8s 53ms/step - loss: 0.2575 - val_loss: 0.2403\n",
      "Epoch 14/15\n",
      "152/152 [==============================] - 8s 53ms/step - loss: 0.2565 - val_loss: 0.2362\n",
      "Epoch 15/15\n",
      "152/152 [==============================] - 8s 53ms/step - loss: 0.2608 - val_loss: 0.2355\n"
     ]
    },
    {
     "name": "stderr",
     "output_type": "stream",
     "text": [
      "WARNING:absl:Found untraced functions such as lstm_cell_36_layer_call_fn, lstm_cell_36_layer_call_and_return_conditional_losses while saving (showing 2 of 2). These functions will not be directly callable after loading.\n"
     ]
    },
    {
     "name": "stdout",
     "output_type": "stream",
     "text": [
      "INFO:tensorflow:Assets written to: Walk_forward/models/day31\\assets\n"
     ]
    },
    {
     "name": "stderr",
     "output_type": "stream",
     "text": [
      "INFO:tensorflow:Assets written to: Walk_forward/models/day31\\assets\n",
      "WARNING:absl:<keras.layers.recurrent.LSTMCell object at 0x000001CF5C718880> has the same name 'LSTMCell' as a built-in Keras object. Consider renaming <class 'keras.layers.recurrent.LSTMCell'> to avoid naming conflicts when loading with `tf.keras.models.load_model`. If renaming is not possible, pass the object in the `custom_objects` parameter of the load function.\n"
     ]
    },
    {
     "name": "stdout",
     "output_type": "stream",
     "text": [
      "152/152 [==============================] - 4s 21ms/step\n",
      "65/65 [==============================] - 1s 20ms/step\n"
     ]
    },
    {
     "name": "stderr",
     "output_type": "stream",
     "text": [
      "D:\\Anaconda\\lib\\site-packages\\pandas\\core\\frame.py:3678: SettingWithCopyWarning: \n",
      "A value is trying to be set on a copy of a slice from a DataFrame.\n",
      "Try using .loc[row_indexer,col_indexer] = value instead\n",
      "\n",
      "See the caveats in the documentation: https://pandas.pydata.org/pandas-docs/stable/user_guide/indexing.html#returning-a-view-versus-a-copy\n",
      "  self[col] = igetitem(value, i)\n"
     ]
    },
    {
     "name": "stdout",
     "output_type": "stream",
     "text": [
      "Epoch 1/15\n",
      "152/152 [==============================] - 11s 57ms/step - loss: 0.8200 - val_loss: 0.3658\n",
      "Epoch 2/15\n",
      "152/152 [==============================] - 8s 53ms/step - loss: 0.4279 - val_loss: 0.2852\n",
      "Epoch 3/15\n",
      "152/152 [==============================] - 8s 53ms/step - loss: 0.3651 - val_loss: 0.2501\n",
      "Epoch 4/15\n",
      "152/152 [==============================] - 8s 53ms/step - loss: 0.3341 - val_loss: 0.2321\n",
      "Epoch 5/15\n",
      "152/152 [==============================] - 8s 53ms/step - loss: 0.3155 - val_loss: 0.2209\n",
      "Epoch 6/15\n",
      "152/152 [==============================] - 8s 53ms/step - loss: 0.3047 - val_loss: 0.2135\n",
      "Epoch 7/15\n",
      "152/152 [==============================] - 8s 53ms/step - loss: 0.2981 - val_loss: 0.2071\n",
      "Epoch 8/15\n",
      "152/152 [==============================] - 8s 53ms/step - loss: 0.2893 - val_loss: 0.2040\n",
      "Epoch 9/15\n",
      "152/152 [==============================] - 8s 53ms/step - loss: 0.2852 - val_loss: 0.2016\n",
      "Epoch 10/15\n",
      "152/152 [==============================] - 8s 54ms/step - loss: 0.2818 - val_loss: 0.2002\n",
      "Epoch 11/15\n",
      "152/152 [==============================] - 8s 53ms/step - loss: 0.2773 - val_loss: 0.2001\n",
      "Epoch 12/15\n",
      "152/152 [==============================] - 8s 53ms/step - loss: 0.2790 - val_loss: 0.2022\n",
      "Epoch 13/15\n",
      "152/152 [==============================] - 8s 53ms/step - loss: 0.2785 - val_loss: 0.1982\n",
      "Epoch 14/15\n",
      "152/152 [==============================] - 8s 53ms/step - loss: 0.2769 - val_loss: 0.2003\n",
      "Epoch 15/15\n",
      "152/152 [==============================] - 8s 52ms/step - loss: 0.2828 - val_loss: 0.1985\n"
     ]
    },
    {
     "name": "stderr",
     "output_type": "stream",
     "text": [
      "WARNING:absl:Found untraced functions such as lstm_cell_37_layer_call_fn, lstm_cell_37_layer_call_and_return_conditional_losses while saving (showing 2 of 2). These functions will not be directly callable after loading.\n"
     ]
    },
    {
     "name": "stdout",
     "output_type": "stream",
     "text": [
      "INFO:tensorflow:Assets written to: Walk_forward/models/day32\\assets\n"
     ]
    },
    {
     "name": "stderr",
     "output_type": "stream",
     "text": [
      "INFO:tensorflow:Assets written to: Walk_forward/models/day32\\assets\n",
      "WARNING:absl:<keras.layers.recurrent.LSTMCell object at 0x000001D24D4081C0> has the same name 'LSTMCell' as a built-in Keras object. Consider renaming <class 'keras.layers.recurrent.LSTMCell'> to avoid naming conflicts when loading with `tf.keras.models.load_model`. If renaming is not possible, pass the object in the `custom_objects` parameter of the load function.\n"
     ]
    },
    {
     "name": "stdout",
     "output_type": "stream",
     "text": [
      "152/152 [==============================] - 4s 20ms/step\n",
      "65/65 [==============================] - 1s 19ms/step\n"
     ]
    },
    {
     "name": "stderr",
     "output_type": "stream",
     "text": [
      "D:\\Anaconda\\lib\\site-packages\\pandas\\core\\frame.py:3678: SettingWithCopyWarning: \n",
      "A value is trying to be set on a copy of a slice from a DataFrame.\n",
      "Try using .loc[row_indexer,col_indexer] = value instead\n",
      "\n",
      "See the caveats in the documentation: https://pandas.pydata.org/pandas-docs/stable/user_guide/indexing.html#returning-a-view-versus-a-copy\n",
      "  self[col] = igetitem(value, i)\n"
     ]
    },
    {
     "name": "stdout",
     "output_type": "stream",
     "text": [
      "Epoch 1/15\n",
      "152/152 [==============================] - 11s 57ms/step - loss: 0.6924 - val_loss: 0.3070\n",
      "Epoch 2/15\n",
      "152/152 [==============================] - 8s 53ms/step - loss: 0.4015 - val_loss: 0.2423\n",
      "Epoch 3/15\n",
      "152/152 [==============================] - 8s 53ms/step - loss: 0.3570 - val_loss: 0.2138\n",
      "Epoch 4/15\n",
      "152/152 [==============================] - 8s 53ms/step - loss: 0.3321 - val_loss: 0.1976\n",
      "Epoch 5/15\n",
      "152/152 [==============================] - 8s 53ms/step - loss: 0.3157 - val_loss: 0.1915\n",
      "Epoch 6/15\n",
      "152/152 [==============================] - 8s 54ms/step - loss: 0.3084 - val_loss: 0.1811\n",
      "Epoch 7/15\n",
      "152/152 [==============================] - 8s 53ms/step - loss: 0.2983 - val_loss: 0.1849\n",
      "Epoch 8/15\n",
      "152/152 [==============================] - 8s 53ms/step - loss: 0.2891 - val_loss: 0.1744\n",
      "Epoch 9/15\n",
      "152/152 [==============================] - 8s 53ms/step - loss: 0.2855 - val_loss: 0.1714\n",
      "Epoch 10/15\n",
      "152/152 [==============================] - 8s 53ms/step - loss: 0.2824 - val_loss: 0.1706\n",
      "Epoch 11/15\n",
      "152/152 [==============================] - 8s 53ms/step - loss: 0.2826 - val_loss: 0.1708\n",
      "Epoch 12/15\n",
      "152/152 [==============================] - 8s 53ms/step - loss: 0.2813 - val_loss: 0.1687\n",
      "Epoch 13/15\n",
      "152/152 [==============================] - 8s 53ms/step - loss: 0.2781 - val_loss: 0.1733\n",
      "Epoch 14/15\n",
      "152/152 [==============================] - 8s 52ms/step - loss: 0.2798 - val_loss: 0.1741\n",
      "Epoch 15/15\n",
      "152/152 [==============================] - 8s 53ms/step - loss: 0.2801 - val_loss: 0.1676\n"
     ]
    },
    {
     "name": "stderr",
     "output_type": "stream",
     "text": [
      "WARNING:absl:Found untraced functions such as lstm_cell_38_layer_call_fn, lstm_cell_38_layer_call_and_return_conditional_losses while saving (showing 2 of 2). These functions will not be directly callable after loading.\n"
     ]
    },
    {
     "name": "stdout",
     "output_type": "stream",
     "text": [
      "INFO:tensorflow:Assets written to: Walk_forward/models/day33\\assets\n"
     ]
    },
    {
     "name": "stderr",
     "output_type": "stream",
     "text": [
      "INFO:tensorflow:Assets written to: Walk_forward/models/day33\\assets\n",
      "WARNING:absl:<keras.layers.recurrent.LSTMCell object at 0x000001D22289A880> has the same name 'LSTMCell' as a built-in Keras object. Consider renaming <class 'keras.layers.recurrent.LSTMCell'> to avoid naming conflicts when loading with `tf.keras.models.load_model`. If renaming is not possible, pass the object in the `custom_objects` parameter of the load function.\n"
     ]
    },
    {
     "name": "stdout",
     "output_type": "stream",
     "text": [
      "152/152 [==============================] - 4s 21ms/step\n",
      "65/65 [==============================] - 1s 19ms/step\n"
     ]
    },
    {
     "name": "stderr",
     "output_type": "stream",
     "text": [
      "D:\\Anaconda\\lib\\site-packages\\pandas\\core\\frame.py:3678: SettingWithCopyWarning: \n",
      "A value is trying to be set on a copy of a slice from a DataFrame.\n",
      "Try using .loc[row_indexer,col_indexer] = value instead\n",
      "\n",
      "See the caveats in the documentation: https://pandas.pydata.org/pandas-docs/stable/user_guide/indexing.html#returning-a-view-versus-a-copy\n",
      "  self[col] = igetitem(value, i)\n"
     ]
    },
    {
     "name": "stdout",
     "output_type": "stream",
     "text": [
      "Epoch 1/15\n",
      "152/152 [==============================] - 11s 56ms/step - loss: 0.7614 - val_loss: 0.2211\n",
      "Epoch 2/15\n",
      "152/152 [==============================] - 8s 53ms/step - loss: 0.4157 - val_loss: 0.1896\n",
      "Epoch 3/15\n",
      "152/152 [==============================] - 8s 53ms/step - loss: 0.3664 - val_loss: 0.1757\n",
      "Epoch 4/15\n",
      "152/152 [==============================] - 8s 53ms/step - loss: 0.3347 - val_loss: 0.1641\n",
      "Epoch 5/15\n",
      "152/152 [==============================] - 8s 53ms/step - loss: 0.3135 - val_loss: 0.1750\n",
      "Epoch 6/15\n",
      "152/152 [==============================] - 8s 53ms/step - loss: 0.3061 - val_loss: 0.1550\n",
      "Epoch 7/15\n",
      "152/152 [==============================] - 8s 53ms/step - loss: 0.3022 - val_loss: 0.1569\n",
      "Epoch 8/15\n",
      "152/152 [==============================] - 8s 53ms/step - loss: 0.2911 - val_loss: 0.1527\n",
      "Epoch 9/15\n",
      "152/152 [==============================] - 8s 53ms/step - loss: 0.2861 - val_loss: 0.1498\n",
      "Epoch 10/15\n",
      "152/152 [==============================] - 8s 53ms/step - loss: 0.2869 - val_loss: 0.1479\n",
      "Epoch 11/15\n",
      "152/152 [==============================] - 8s 53ms/step - loss: 0.2848 - val_loss: 0.1478\n",
      "Epoch 12/15\n",
      "152/152 [==============================] - 8s 53ms/step - loss: 0.2863 - val_loss: 0.1470\n",
      "Epoch 13/15\n",
      "152/152 [==============================] - 8s 53ms/step - loss: 0.2784 - val_loss: 0.1459\n",
      "Epoch 14/15\n",
      "152/152 [==============================] - 8s 53ms/step - loss: 0.2794 - val_loss: 0.1509\n",
      "Epoch 15/15\n",
      "152/152 [==============================] - 8s 53ms/step - loss: 0.2801 - val_loss: 0.1461\n"
     ]
    },
    {
     "name": "stderr",
     "output_type": "stream",
     "text": [
      "WARNING:absl:Found untraced functions such as lstm_cell_39_layer_call_fn, lstm_cell_39_layer_call_and_return_conditional_losses while saving (showing 2 of 2). These functions will not be directly callable after loading.\n"
     ]
    },
    {
     "name": "stdout",
     "output_type": "stream",
     "text": [
      "INFO:tensorflow:Assets written to: Walk_forward/models/day34\\assets\n"
     ]
    },
    {
     "name": "stderr",
     "output_type": "stream",
     "text": [
      "INFO:tensorflow:Assets written to: Walk_forward/models/day34\\assets\n",
      "WARNING:absl:<keras.layers.recurrent.LSTMCell object at 0x000001D229025C10> has the same name 'LSTMCell' as a built-in Keras object. Consider renaming <class 'keras.layers.recurrent.LSTMCell'> to avoid naming conflicts when loading with `tf.keras.models.load_model`. If renaming is not possible, pass the object in the `custom_objects` parameter of the load function.\n"
     ]
    },
    {
     "name": "stdout",
     "output_type": "stream",
     "text": [
      "152/152 [==============================] - 4s 22ms/step\n",
      "65/65 [==============================] - 1s 19ms/step\n"
     ]
    },
    {
     "name": "stderr",
     "output_type": "stream",
     "text": [
      "D:\\Anaconda\\lib\\site-packages\\pandas\\core\\frame.py:3678: SettingWithCopyWarning: \n",
      "A value is trying to be set on a copy of a slice from a DataFrame.\n",
      "Try using .loc[row_indexer,col_indexer] = value instead\n",
      "\n",
      "See the caveats in the documentation: https://pandas.pydata.org/pandas-docs/stable/user_guide/indexing.html#returning-a-view-versus-a-copy\n",
      "  self[col] = igetitem(value, i)\n"
     ]
    },
    {
     "name": "stdout",
     "output_type": "stream",
     "text": [
      "Epoch 1/15\n",
      "152/152 [==============================] - 12s 56ms/step - loss: 0.6664 - val_loss: 0.4166\n",
      "Epoch 2/15\n",
      "152/152 [==============================] - 8s 53ms/step - loss: 0.4025 - val_loss: 0.3937\n",
      "Epoch 3/15\n",
      "152/152 [==============================] - 8s 53ms/step - loss: 0.3660 - val_loss: 0.3738\n",
      "Epoch 4/15\n",
      "152/152 [==============================] - 8s 53ms/step - loss: 0.3405 - val_loss: 0.3612\n",
      "Epoch 5/15\n",
      "152/152 [==============================] - 8s 53ms/step - loss: 0.3238 - val_loss: 0.3464\n",
      "Epoch 6/15\n",
      "152/152 [==============================] - 8s 53ms/step - loss: 0.3132 - val_loss: 0.3363\n",
      "Epoch 7/15\n",
      "152/152 [==============================] - 8s 53ms/step - loss: 0.3063 - val_loss: 0.3264\n",
      "Epoch 8/15\n",
      "152/152 [==============================] - 8s 53ms/step - loss: 0.2969 - val_loss: 0.3220\n",
      "Epoch 9/15\n",
      "152/152 [==============================] - 8s 53ms/step - loss: 0.2891 - val_loss: 0.3136\n",
      "Epoch 10/15\n",
      "152/152 [==============================] - 8s 53ms/step - loss: 0.2851 - val_loss: 0.3096\n",
      "Epoch 11/15\n",
      "152/152 [==============================] - 8s 53ms/step - loss: 0.2827 - val_loss: 0.3086\n",
      "Epoch 12/15\n",
      "152/152 [==============================] - 8s 53ms/step - loss: 0.2865 - val_loss: 0.3084\n",
      "Epoch 13/15\n",
      "152/152 [==============================] - 8s 53ms/step - loss: 0.2801 - val_loss: 0.3034\n",
      "Epoch 14/15\n",
      "152/152 [==============================] - 8s 53ms/step - loss: 0.2814 - val_loss: 0.3021\n",
      "Epoch 15/15\n",
      "152/152 [==============================] - 8s 53ms/step - loss: 0.2829 - val_loss: 0.2996\n"
     ]
    },
    {
     "name": "stderr",
     "output_type": "stream",
     "text": [
      "WARNING:absl:Found untraced functions such as lstm_cell_40_layer_call_fn, lstm_cell_40_layer_call_and_return_conditional_losses while saving (showing 2 of 2). These functions will not be directly callable after loading.\n"
     ]
    },
    {
     "name": "stdout",
     "output_type": "stream",
     "text": [
      "INFO:tensorflow:Assets written to: Walk_forward/models/day35\\assets\n"
     ]
    },
    {
     "name": "stderr",
     "output_type": "stream",
     "text": [
      "INFO:tensorflow:Assets written to: Walk_forward/models/day35\\assets\n",
      "WARNING:absl:<keras.layers.recurrent.LSTMCell object at 0x000001D225E1D400> has the same name 'LSTMCell' as a built-in Keras object. Consider renaming <class 'keras.layers.recurrent.LSTMCell'> to avoid naming conflicts when loading with `tf.keras.models.load_model`. If renaming is not possible, pass the object in the `custom_objects` parameter of the load function.\n"
     ]
    },
    {
     "name": "stdout",
     "output_type": "stream",
     "text": [
      "152/152 [==============================] - 4s 21ms/step\n",
      "65/65 [==============================] - 1s 19ms/step\n"
     ]
    },
    {
     "name": "stderr",
     "output_type": "stream",
     "text": [
      "D:\\Anaconda\\lib\\site-packages\\pandas\\core\\frame.py:3678: SettingWithCopyWarning: \n",
      "A value is trying to be set on a copy of a slice from a DataFrame.\n",
      "Try using .loc[row_indexer,col_indexer] = value instead\n",
      "\n",
      "See the caveats in the documentation: https://pandas.pydata.org/pandas-docs/stable/user_guide/indexing.html#returning-a-view-versus-a-copy\n",
      "  self[col] = igetitem(value, i)\n"
     ]
    },
    {
     "name": "stdout",
     "output_type": "stream",
     "text": [
      "Epoch 1/15\n",
      "152/152 [==============================] - 11s 57ms/step - loss: 0.7032 - val_loss: 0.4105\n",
      "Epoch 2/15\n",
      "152/152 [==============================] - 8s 53ms/step - loss: 0.3956 - val_loss: 0.3743\n",
      "Epoch 3/15\n",
      "152/152 [==============================] - 8s 53ms/step - loss: 0.3512 - val_loss: 0.3580\n",
      "Epoch 4/15\n",
      "152/152 [==============================] - 8s 53ms/step - loss: 0.3361 - val_loss: 0.3354\n",
      "Epoch 5/15\n",
      "152/152 [==============================] - 8s 53ms/step - loss: 0.3172 - val_loss: 0.3226\n",
      "Epoch 6/15\n",
      "152/152 [==============================] - 8s 53ms/step - loss: 0.3036 - val_loss: 0.3139\n",
      "Epoch 7/15\n",
      "152/152 [==============================] - 8s 53ms/step - loss: 0.2933 - val_loss: 0.3025\n",
      "Epoch 8/15\n",
      "152/152 [==============================] - 8s 53ms/step - loss: 0.3009 - val_loss: 0.3029\n",
      "Epoch 9/15\n",
      "152/152 [==============================] - 8s 53ms/step - loss: 0.2887 - val_loss: 0.2929\n",
      "Epoch 10/15\n",
      "152/152 [==============================] - 8s 53ms/step - loss: 0.2867 - val_loss: 0.2947\n",
      "Epoch 11/15\n",
      "152/152 [==============================] - 8s 53ms/step - loss: 0.2800 - val_loss: 0.2895\n",
      "Epoch 12/15\n",
      "152/152 [==============================] - 8s 53ms/step - loss: 0.2824 - val_loss: 0.2848\n",
      "Epoch 13/15\n",
      "152/152 [==============================] - 8s 53ms/step - loss: 0.2816 - val_loss: 0.2844\n",
      "Epoch 14/15\n",
      "152/152 [==============================] - 8s 53ms/step - loss: 0.2784 - val_loss: 0.2847\n",
      "Epoch 15/15\n",
      "152/152 [==============================] - 8s 53ms/step - loss: 0.2784 - val_loss: 0.2850\n"
     ]
    },
    {
     "name": "stderr",
     "output_type": "stream",
     "text": [
      "WARNING:absl:Found untraced functions such as lstm_cell_41_layer_call_fn, lstm_cell_41_layer_call_and_return_conditional_losses while saving (showing 2 of 2). These functions will not be directly callable after loading.\n"
     ]
    },
    {
     "name": "stdout",
     "output_type": "stream",
     "text": [
      "INFO:tensorflow:Assets written to: Walk_forward/models/day36\\assets\n"
     ]
    },
    {
     "name": "stderr",
     "output_type": "stream",
     "text": [
      "INFO:tensorflow:Assets written to: Walk_forward/models/day36\\assets\n",
      "WARNING:absl:<keras.layers.recurrent.LSTMCell object at 0x000001D235130310> has the same name 'LSTMCell' as a built-in Keras object. Consider renaming <class 'keras.layers.recurrent.LSTMCell'> to avoid naming conflicts when loading with `tf.keras.models.load_model`. If renaming is not possible, pass the object in the `custom_objects` parameter of the load function.\n"
     ]
    },
    {
     "name": "stdout",
     "output_type": "stream",
     "text": [
      "152/152 [==============================] - 4s 21ms/step\n",
      "65/65 [==============================] - 1s 19ms/step\n"
     ]
    },
    {
     "name": "stderr",
     "output_type": "stream",
     "text": [
      "D:\\Anaconda\\lib\\site-packages\\pandas\\core\\frame.py:3678: SettingWithCopyWarning: \n",
      "A value is trying to be set on a copy of a slice from a DataFrame.\n",
      "Try using .loc[row_indexer,col_indexer] = value instead\n",
      "\n",
      "See the caveats in the documentation: https://pandas.pydata.org/pandas-docs/stable/user_guide/indexing.html#returning-a-view-versus-a-copy\n",
      "  self[col] = igetitem(value, i)\n"
     ]
    },
    {
     "name": "stdout",
     "output_type": "stream",
     "text": [
      "Epoch 1/15\n",
      "152/152 [==============================] - 11s 57ms/step - loss: 0.7175 - val_loss: 0.4347\n",
      "Epoch 2/15\n",
      "152/152 [==============================] - 8s 53ms/step - loss: 0.4292 - val_loss: 0.3725\n",
      "Epoch 3/15\n",
      "152/152 [==============================] - 8s 54ms/step - loss: 0.3625 - val_loss: 0.3391\n",
      "Epoch 4/15\n",
      "152/152 [==============================] - 8s 53ms/step - loss: 0.3350 - val_loss: 0.3148\n",
      "Epoch 5/15\n",
      "152/152 [==============================] - 8s 53ms/step - loss: 0.3188 - val_loss: 0.3014\n",
      "Epoch 6/15\n",
      "152/152 [==============================] - 8s 54ms/step - loss: 0.3088 - val_loss: 0.2964\n",
      "Epoch 7/15\n",
      "152/152 [==============================] - 8s 54ms/step - loss: 0.3043 - val_loss: 0.2890\n",
      "Epoch 8/15\n",
      "152/152 [==============================] - 9s 57ms/step - loss: 0.3072 - val_loss: 0.2861\n",
      "Epoch 9/15\n",
      "152/152 [==============================] - 8s 53ms/step - loss: 0.2985 - val_loss: 0.2811\n",
      "Epoch 10/15\n",
      "152/152 [==============================] - 8s 53ms/step - loss: 0.3014 - val_loss: 0.2801\n",
      "Epoch 11/15\n",
      "152/152 [==============================] - 8s 53ms/step - loss: 0.2980 - val_loss: 0.2763\n",
      "Epoch 12/15\n",
      "152/152 [==============================] - 8s 53ms/step - loss: 0.2971 - val_loss: 0.2752\n",
      "Epoch 13/15\n",
      "152/152 [==============================] - 8s 53ms/step - loss: 0.2963 - val_loss: 0.2733\n",
      "Epoch 14/15\n",
      "152/152 [==============================] - 8s 53ms/step - loss: 0.2974 - val_loss: 0.2718\n",
      "Epoch 15/15\n",
      "152/152 [==============================] - 8s 53ms/step - loss: 0.2925 - val_loss: 0.2705\n"
     ]
    },
    {
     "name": "stderr",
     "output_type": "stream",
     "text": [
      "WARNING:absl:Found untraced functions such as lstm_cell_42_layer_call_fn, lstm_cell_42_layer_call_and_return_conditional_losses while saving (showing 2 of 2). These functions will not be directly callable after loading.\n"
     ]
    },
    {
     "name": "stdout",
     "output_type": "stream",
     "text": [
      "INFO:tensorflow:Assets written to: Walk_forward/models/day37\\assets\n"
     ]
    },
    {
     "name": "stderr",
     "output_type": "stream",
     "text": [
      "INFO:tensorflow:Assets written to: Walk_forward/models/day37\\assets\n",
      "WARNING:absl:<keras.layers.recurrent.LSTMCell object at 0x000001D24CB12640> has the same name 'LSTMCell' as a built-in Keras object. Consider renaming <class 'keras.layers.recurrent.LSTMCell'> to avoid naming conflicts when loading with `tf.keras.models.load_model`. If renaming is not possible, pass the object in the `custom_objects` parameter of the load function.\n"
     ]
    },
    {
     "name": "stdout",
     "output_type": "stream",
     "text": [
      "152/152 [==============================] - 4s 22ms/step\n",
      "65/65 [==============================] - 1s 22ms/step\n"
     ]
    },
    {
     "name": "stderr",
     "output_type": "stream",
     "text": [
      "D:\\Anaconda\\lib\\site-packages\\pandas\\core\\frame.py:3678: SettingWithCopyWarning: \n",
      "A value is trying to be set on a copy of a slice from a DataFrame.\n",
      "Try using .loc[row_indexer,col_indexer] = value instead\n",
      "\n",
      "See the caveats in the documentation: https://pandas.pydata.org/pandas-docs/stable/user_guide/indexing.html#returning-a-view-versus-a-copy\n",
      "  self[col] = igetitem(value, i)\n"
     ]
    },
    {
     "name": "stdout",
     "output_type": "stream",
     "text": [
      "Epoch 1/15\n",
      "152/152 [==============================] - 12s 63ms/step - loss: 0.6221 - val_loss: 0.5303\n",
      "Epoch 2/15\n",
      "152/152 [==============================] - 8s 53ms/step - loss: 0.3902 - val_loss: 0.4749\n",
      "Epoch 3/15\n",
      "152/152 [==============================] - 8s 53ms/step - loss: 0.3477 - val_loss: 0.4362\n",
      "Epoch 4/15\n",
      "152/152 [==============================] - 8s 52ms/step - loss: 0.3242 - val_loss: 0.4105\n",
      "Epoch 5/15\n",
      "152/152 [==============================] - 8s 53ms/step - loss: 0.3103 - val_loss: 0.3965\n",
      "Epoch 6/15\n",
      "152/152 [==============================] - 8s 52ms/step - loss: 0.2992 - val_loss: 0.3769\n",
      "Epoch 7/15\n",
      "152/152 [==============================] - 8s 53ms/step - loss: 0.2994 - val_loss: 0.3743\n",
      "Epoch 8/15\n",
      "152/152 [==============================] - 8s 52ms/step - loss: 0.2949 - val_loss: 0.3596\n",
      "Epoch 9/15\n",
      "152/152 [==============================] - 8s 52ms/step - loss: 0.2883 - val_loss: 0.3561\n",
      "Epoch 10/15\n",
      "152/152 [==============================] - 8s 52ms/step - loss: 0.2861 - val_loss: 0.3514\n",
      "Epoch 11/15\n",
      "152/152 [==============================] - 8s 52ms/step - loss: 0.2863 - val_loss: 0.3500\n",
      "Epoch 12/15\n",
      "152/152 [==============================] - 8s 52ms/step - loss: 0.2839 - val_loss: 0.3584\n",
      "Epoch 13/15\n",
      "152/152 [==============================] - 8s 56ms/step - loss: 0.2864 - val_loss: 0.3491\n",
      "Epoch 14/15\n",
      "152/152 [==============================] - 9s 57ms/step - loss: 0.2875 - val_loss: 0.3483\n",
      "Epoch 15/15\n",
      "152/152 [==============================] - 8s 54ms/step - loss: 0.2883 - val_loss: 0.3459\n"
     ]
    },
    {
     "name": "stderr",
     "output_type": "stream",
     "text": [
      "WARNING:absl:Found untraced functions such as lstm_cell_43_layer_call_fn, lstm_cell_43_layer_call_and_return_conditional_losses while saving (showing 2 of 2). These functions will not be directly callable after loading.\n"
     ]
    },
    {
     "name": "stdout",
     "output_type": "stream",
     "text": [
      "INFO:tensorflow:Assets written to: Walk_forward/models/day38\\assets\n"
     ]
    },
    {
     "name": "stderr",
     "output_type": "stream",
     "text": [
      "INFO:tensorflow:Assets written to: Walk_forward/models/day38\\assets\n",
      "WARNING:absl:<keras.layers.recurrent.LSTMCell object at 0x000001D24C3DE160> has the same name 'LSTMCell' as a built-in Keras object. Consider renaming <class 'keras.layers.recurrent.LSTMCell'> to avoid naming conflicts when loading with `tf.keras.models.load_model`. If renaming is not possible, pass the object in the `custom_objects` parameter of the load function.\n"
     ]
    },
    {
     "name": "stdout",
     "output_type": "stream",
     "text": [
      "152/152 [==============================] - 4s 21ms/step\n",
      "65/65 [==============================] - 1s 19ms/step\n"
     ]
    },
    {
     "name": "stderr",
     "output_type": "stream",
     "text": [
      "D:\\Anaconda\\lib\\site-packages\\pandas\\core\\frame.py:3678: SettingWithCopyWarning: \n",
      "A value is trying to be set on a copy of a slice from a DataFrame.\n",
      "Try using .loc[row_indexer,col_indexer] = value instead\n",
      "\n",
      "See the caveats in the documentation: https://pandas.pydata.org/pandas-docs/stable/user_guide/indexing.html#returning-a-view-versus-a-copy\n",
      "  self[col] = igetitem(value, i)\n"
     ]
    },
    {
     "name": "stdout",
     "output_type": "stream",
     "text": [
      "Epoch 1/15\n",
      "152/152 [==============================] - 11s 58ms/step - loss: 0.5552 - val_loss: 0.5355\n",
      "Epoch 2/15\n",
      "152/152 [==============================] - 8s 54ms/step - loss: 0.3613 - val_loss: 0.4785\n",
      "Epoch 3/15\n",
      "152/152 [==============================] - 8s 54ms/step - loss: 0.3245 - val_loss: 0.4421\n",
      "Epoch 4/15\n",
      "152/152 [==============================] - 8s 55ms/step - loss: 0.3047 - val_loss: 0.4211\n",
      "Epoch 5/15\n",
      "152/152 [==============================] - 8s 55ms/step - loss: 0.2931 - val_loss: 0.4039\n",
      "Epoch 6/15\n",
      "152/152 [==============================] - 8s 53ms/step - loss: 0.2864 - val_loss: 0.3919\n",
      "Epoch 7/15\n",
      "152/152 [==============================] - 8s 52ms/step - loss: 0.2830 - val_loss: 0.3835\n",
      "Epoch 8/15\n",
      "152/152 [==============================] - 8s 52ms/step - loss: 0.2780 - val_loss: 0.3769\n",
      "Epoch 9/15\n",
      "152/152 [==============================] - 8s 52ms/step - loss: 0.2870 - val_loss: 0.3740\n",
      "Epoch 10/15\n",
      "152/152 [==============================] - 8s 52ms/step - loss: 0.2853 - val_loss: 0.3734\n",
      "Epoch 11/15\n",
      "152/152 [==============================] - 8s 53ms/step - loss: 0.2790 - val_loss: 0.3729\n",
      "Epoch 12/15\n",
      "152/152 [==============================] - 8s 53ms/step - loss: 0.2780 - val_loss: 0.3694\n",
      "Epoch 13/15\n",
      "152/152 [==============================] - 8s 52ms/step - loss: 0.2742 - val_loss: 0.3696\n",
      "Epoch 14/15\n",
      "152/152 [==============================] - 8s 52ms/step - loss: 0.2794 - val_loss: 0.3674\n",
      "Epoch 15/15\n",
      "152/152 [==============================] - 8s 53ms/step - loss: 0.2737 - val_loss: 0.3701\n"
     ]
    },
    {
     "name": "stderr",
     "output_type": "stream",
     "text": [
      "WARNING:absl:Found untraced functions such as lstm_cell_44_layer_call_fn, lstm_cell_44_layer_call_and_return_conditional_losses while saving (showing 2 of 2). These functions will not be directly callable after loading.\n"
     ]
    },
    {
     "name": "stdout",
     "output_type": "stream",
     "text": [
      "INFO:tensorflow:Assets written to: Walk_forward/models/day39\\assets\n"
     ]
    },
    {
     "name": "stderr",
     "output_type": "stream",
     "text": [
      "INFO:tensorflow:Assets written to: Walk_forward/models/day39\\assets\n",
      "WARNING:absl:<keras.layers.recurrent.LSTMCell object at 0x000001D2486E8520> has the same name 'LSTMCell' as a built-in Keras object. Consider renaming <class 'keras.layers.recurrent.LSTMCell'> to avoid naming conflicts when loading with `tf.keras.models.load_model`. If renaming is not possible, pass the object in the `custom_objects` parameter of the load function.\n"
     ]
    },
    {
     "name": "stdout",
     "output_type": "stream",
     "text": [
      "152/152 [==============================] - 4s 21ms/step\n",
      "65/65 [==============================] - 1s 19ms/step\n"
     ]
    },
    {
     "name": "stderr",
     "output_type": "stream",
     "text": [
      "D:\\Anaconda\\lib\\site-packages\\pandas\\core\\frame.py:3678: SettingWithCopyWarning: \n",
      "A value is trying to be set on a copy of a slice from a DataFrame.\n",
      "Try using .loc[row_indexer,col_indexer] = value instead\n",
      "\n",
      "See the caveats in the documentation: https://pandas.pydata.org/pandas-docs/stable/user_guide/indexing.html#returning-a-view-versus-a-copy\n",
      "  self[col] = igetitem(value, i)\n"
     ]
    },
    {
     "name": "stdout",
     "output_type": "stream",
     "text": [
      "Epoch 1/15\n",
      "152/152 [==============================] - 11s 56ms/step - loss: 0.5462 - val_loss: 0.5331\n",
      "Epoch 2/15\n",
      "152/152 [==============================] - 8s 53ms/step - loss: 0.3685 - val_loss: 0.4815\n",
      "Epoch 3/15\n",
      "152/152 [==============================] - 8s 53ms/step - loss: 0.3290 - val_loss: 0.4508\n",
      "Epoch 4/15\n",
      "152/152 [==============================] - 8s 52ms/step - loss: 0.3073 - val_loss: 0.4282\n",
      "Epoch 5/15\n",
      "152/152 [==============================] - 8s 52ms/step - loss: 0.2930 - val_loss: 0.4071\n",
      "Epoch 6/15\n",
      "152/152 [==============================] - 8s 52ms/step - loss: 0.2821 - val_loss: 0.3924\n",
      "Epoch 7/15\n",
      "152/152 [==============================] - 8s 52ms/step - loss: 0.2789 - val_loss: 0.3824\n",
      "Epoch 8/15\n",
      "152/152 [==============================] - 8s 52ms/step - loss: 0.2742 - val_loss: 0.3763\n",
      "Epoch 9/15\n",
      "152/152 [==============================] - 8s 52ms/step - loss: 0.2762 - val_loss: 0.3712\n",
      "Epoch 10/15\n",
      "152/152 [==============================] - 8s 53ms/step - loss: 0.2695 - val_loss: 0.3682\n",
      "Epoch 11/15\n",
      "152/152 [==============================] - 8s 53ms/step - loss: 0.2721 - val_loss: 0.3652\n",
      "Epoch 12/15\n",
      "152/152 [==============================] - 8s 52ms/step - loss: 0.2738 - val_loss: 0.3635\n",
      "Epoch 13/15\n",
      "152/152 [==============================] - 8s 52ms/step - loss: 0.2662 - val_loss: 0.3624\n",
      "Epoch 14/15\n",
      "152/152 [==============================] - 8s 54ms/step - loss: 0.2629 - val_loss: 0.3612\n",
      "Epoch 15/15\n",
      "152/152 [==============================] - 8s 53ms/step - loss: 0.2651 - val_loss: 0.3594\n"
     ]
    },
    {
     "name": "stderr",
     "output_type": "stream",
     "text": [
      "WARNING:absl:Found untraced functions such as lstm_cell_45_layer_call_fn, lstm_cell_45_layer_call_and_return_conditional_losses while saving (showing 2 of 2). These functions will not be directly callable after loading.\n"
     ]
    },
    {
     "name": "stdout",
     "output_type": "stream",
     "text": [
      "INFO:tensorflow:Assets written to: Walk_forward/models/day40\\assets\n"
     ]
    },
    {
     "name": "stderr",
     "output_type": "stream",
     "text": [
      "INFO:tensorflow:Assets written to: Walk_forward/models/day40\\assets\n",
      "WARNING:absl:<keras.layers.recurrent.LSTMCell object at 0x000001CF5E45D1C0> has the same name 'LSTMCell' as a built-in Keras object. Consider renaming <class 'keras.layers.recurrent.LSTMCell'> to avoid naming conflicts when loading with `tf.keras.models.load_model`. If renaming is not possible, pass the object in the `custom_objects` parameter of the load function.\n"
     ]
    },
    {
     "name": "stdout",
     "output_type": "stream",
     "text": [
      "152/152 [==============================] - 4s 21ms/step\n",
      "65/65 [==============================] - 1s 20ms/step\n"
     ]
    },
    {
     "name": "stderr",
     "output_type": "stream",
     "text": [
      "D:\\Anaconda\\lib\\site-packages\\pandas\\core\\frame.py:3678: SettingWithCopyWarning: \n",
      "A value is trying to be set on a copy of a slice from a DataFrame.\n",
      "Try using .loc[row_indexer,col_indexer] = value instead\n",
      "\n",
      "See the caveats in the documentation: https://pandas.pydata.org/pandas-docs/stable/user_guide/indexing.html#returning-a-view-versus-a-copy\n",
      "  self[col] = igetitem(value, i)\n"
     ]
    },
    {
     "name": "stdout",
     "output_type": "stream",
     "text": [
      "Epoch 1/15\n",
      "152/152 [==============================] - 11s 58ms/step - loss: 0.6124 - val_loss: 3.1731\n",
      "Epoch 2/15\n",
      "152/152 [==============================] - 8s 54ms/step - loss: 0.3214 - val_loss: 3.1234\n",
      "Epoch 3/15\n",
      "152/152 [==============================] - 8s 53ms/step - loss: 0.2806 - val_loss: 3.0874\n",
      "Epoch 4/15\n",
      "152/152 [==============================] - 8s 53ms/step - loss: 0.2502 - val_loss: 3.0587\n",
      "Epoch 5/15\n",
      "152/152 [==============================] - 9s 56ms/step - loss: 0.2369 - val_loss: 3.0451\n",
      "Epoch 6/15\n",
      "152/152 [==============================] - 8s 55ms/step - loss: 0.2259 - val_loss: 3.0253\n",
      "Epoch 7/15\n",
      "152/152 [==============================] - 8s 54ms/step - loss: 0.2251 - val_loss: 3.0138\n",
      "Epoch 8/15\n",
      "152/152 [==============================] - 8s 54ms/step - loss: 0.2117 - val_loss: 3.0045\n",
      "Epoch 9/15\n",
      "152/152 [==============================] - 8s 53ms/step - loss: 0.2060 - val_loss: 3.0006\n",
      "Epoch 10/15\n",
      "152/152 [==============================] - 8s 54ms/step - loss: 0.2043 - val_loss: 2.9945\n",
      "Epoch 11/15\n",
      "152/152 [==============================] - 8s 53ms/step - loss: 0.2043 - val_loss: 2.9904\n",
      "Epoch 12/15\n",
      "152/152 [==============================] - 8s 52ms/step - loss: 0.2011 - val_loss: 2.9905\n",
      "Epoch 13/15\n",
      "152/152 [==============================] - 8s 53ms/step - loss: 0.2024 - val_loss: 2.9866\n",
      "Epoch 14/15\n",
      "152/152 [==============================] - 8s 52ms/step - loss: 0.2056 - val_loss: 2.9861\n",
      "Epoch 15/15\n",
      "152/152 [==============================] - 8s 55ms/step - loss: 0.1998 - val_loss: 2.9850\n"
     ]
    },
    {
     "name": "stderr",
     "output_type": "stream",
     "text": [
      "WARNING:absl:Found untraced functions such as lstm_cell_46_layer_call_fn, lstm_cell_46_layer_call_and_return_conditional_losses while saving (showing 2 of 2). These functions will not be directly callable after loading.\n"
     ]
    },
    {
     "name": "stdout",
     "output_type": "stream",
     "text": [
      "INFO:tensorflow:Assets written to: Walk_forward/models/day41\\assets\n"
     ]
    },
    {
     "name": "stderr",
     "output_type": "stream",
     "text": [
      "INFO:tensorflow:Assets written to: Walk_forward/models/day41\\assets\n",
      "WARNING:absl:<keras.layers.recurrent.LSTMCell object at 0x000001D226124640> has the same name 'LSTMCell' as a built-in Keras object. Consider renaming <class 'keras.layers.recurrent.LSTMCell'> to avoid naming conflicts when loading with `tf.keras.models.load_model`. If renaming is not possible, pass the object in the `custom_objects` parameter of the load function.\n"
     ]
    },
    {
     "name": "stdout",
     "output_type": "stream",
     "text": [
      "152/152 [==============================] - 4s 20ms/step\n",
      "65/65 [==============================] - 1s 19ms/step\n"
     ]
    },
    {
     "name": "stderr",
     "output_type": "stream",
     "text": [
      "D:\\Anaconda\\lib\\site-packages\\pandas\\core\\frame.py:3678: SettingWithCopyWarning: \n",
      "A value is trying to be set on a copy of a slice from a DataFrame.\n",
      "Try using .loc[row_indexer,col_indexer] = value instead\n",
      "\n",
      "See the caveats in the documentation: https://pandas.pydata.org/pandas-docs/stable/user_guide/indexing.html#returning-a-view-versus-a-copy\n",
      "  self[col] = igetitem(value, i)\n"
     ]
    },
    {
     "name": "stdout",
     "output_type": "stream",
     "text": [
      "Epoch 1/15\n",
      "152/152 [==============================] - 11s 58ms/step - loss: 0.3191 - val_loss: 3.0853\n",
      "Epoch 2/15\n",
      "152/152 [==============================] - 8s 54ms/step - loss: 0.2594 - val_loss: 3.0517\n",
      "Epoch 3/15\n",
      "152/152 [==============================] - 8s 52ms/step - loss: 0.2318 - val_loss: 3.0266\n",
      "Epoch 4/15\n",
      "152/152 [==============================] - 8s 55ms/step - loss: 0.2175 - val_loss: 3.0100\n",
      "Epoch 5/15\n",
      "152/152 [==============================] - 9s 56ms/step - loss: 0.2139 - val_loss: 2.9992\n",
      "Epoch 6/15\n",
      "152/152 [==============================] - 9s 56ms/step - loss: 0.2114 - val_loss: 2.9945\n",
      "Epoch 7/15\n",
      "152/152 [==============================] - 8s 53ms/step - loss: 0.2050 - val_loss: 2.9884\n",
      "Epoch 8/15\n",
      "152/152 [==============================] - 8s 53ms/step - loss: 0.2071 - val_loss: 2.9850\n",
      "Epoch 9/15\n",
      "152/152 [==============================] - 8s 54ms/step - loss: 0.2012 - val_loss: 2.9853\n",
      "Epoch 10/15\n",
      "152/152 [==============================] - 8s 54ms/step - loss: 0.1991 - val_loss: 2.9831\n",
      "Epoch 11/15\n",
      "152/152 [==============================] - 8s 54ms/step - loss: 0.1978 - val_loss: 2.9780\n",
      "Epoch 12/15\n",
      "152/152 [==============================] - 8s 53ms/step - loss: 0.1967 - val_loss: 2.9752\n",
      "Epoch 13/15\n",
      "152/152 [==============================] - 8s 53ms/step - loss: 0.2016 - val_loss: 2.9740\n",
      "Epoch 14/15\n",
      "152/152 [==============================] - 8s 54ms/step - loss: 0.2008 - val_loss: 2.9734\n",
      "Epoch 15/15\n",
      "152/152 [==============================] - 8s 53ms/step - loss: 0.1990 - val_loss: 2.9767\n"
     ]
    },
    {
     "name": "stderr",
     "output_type": "stream",
     "text": [
      "WARNING:absl:Found untraced functions such as lstm_cell_47_layer_call_fn, lstm_cell_47_layer_call_and_return_conditional_losses while saving (showing 2 of 2). These functions will not be directly callable after loading.\n"
     ]
    },
    {
     "name": "stdout",
     "output_type": "stream",
     "text": [
      "INFO:tensorflow:Assets written to: Walk_forward/models/day42\\assets\n"
     ]
    },
    {
     "name": "stderr",
     "output_type": "stream",
     "text": [
      "INFO:tensorflow:Assets written to: Walk_forward/models/day42\\assets\n",
      "WARNING:absl:<keras.layers.recurrent.LSTMCell object at 0x000001D23812EB20> has the same name 'LSTMCell' as a built-in Keras object. Consider renaming <class 'keras.layers.recurrent.LSTMCell'> to avoid naming conflicts when loading with `tf.keras.models.load_model`. If renaming is not possible, pass the object in the `custom_objects` parameter of the load function.\n"
     ]
    },
    {
     "name": "stdout",
     "output_type": "stream",
     "text": [
      "152/152 [==============================] - 4s 21ms/step\n",
      "65/65 [==============================] - 1s 19ms/step\n"
     ]
    },
    {
     "name": "stderr",
     "output_type": "stream",
     "text": [
      "D:\\Anaconda\\lib\\site-packages\\pandas\\core\\frame.py:3678: SettingWithCopyWarning: \n",
      "A value is trying to be set on a copy of a slice from a DataFrame.\n",
      "Try using .loc[row_indexer,col_indexer] = value instead\n",
      "\n",
      "See the caveats in the documentation: https://pandas.pydata.org/pandas-docs/stable/user_guide/indexing.html#returning-a-view-versus-a-copy\n",
      "  self[col] = igetitem(value, i)\n"
     ]
    },
    {
     "name": "stdout",
     "output_type": "stream",
     "text": [
      "Epoch 1/15\n",
      "152/152 [==============================] - 11s 56ms/step - loss: 0.4043 - val_loss: 2.9076\n",
      "Epoch 2/15\n",
      "152/152 [==============================] - 8s 53ms/step - loss: 0.3173 - val_loss: 2.8786\n",
      "Epoch 3/15\n",
      "152/152 [==============================] - 8s 56ms/step - loss: 0.2946 - val_loss: 2.8574\n",
      "Epoch 4/15\n",
      "152/152 [==============================] - 8s 54ms/step - loss: 0.2785 - val_loss: 2.8416\n",
      "Epoch 5/15\n",
      "152/152 [==============================] - 8s 55ms/step - loss: 0.2655 - val_loss: 2.8315\n",
      "Epoch 6/15\n",
      "152/152 [==============================] - 8s 53ms/step - loss: 0.2596 - val_loss: 2.8255\n",
      "Epoch 7/15\n",
      "152/152 [==============================] - 8s 53ms/step - loss: 0.2503 - val_loss: 2.8206\n",
      "Epoch 8/15\n",
      "152/152 [==============================] - 8s 55ms/step - loss: 0.2526 - val_loss: 2.8211\n",
      "Epoch 9/15\n",
      "152/152 [==============================] - 8s 51ms/step - loss: 0.2441 - val_loss: 2.8208\n",
      "Epoch 10/15\n",
      "152/152 [==============================] - 8s 52ms/step - loss: 0.2502 - val_loss: 2.8211\n",
      "Epoch 11/15\n",
      "152/152 [==============================] - 8s 53ms/step - loss: 0.2402 - val_loss: 2.8211\n",
      "Epoch 12/15\n",
      "152/152 [==============================] - 8s 53ms/step - loss: 0.2443 - val_loss: 2.8228\n",
      "Epoch 13/15\n",
      "152/152 [==============================] - 8s 52ms/step - loss: 0.2400 - val_loss: 2.8221\n",
      "Epoch 14/15\n",
      "152/152 [==============================] - 8s 53ms/step - loss: 0.2421 - val_loss: 2.8228\n",
      "Epoch 15/15\n",
      "152/152 [==============================] - 8s 53ms/step - loss: 0.2431 - val_loss: 2.8236\n"
     ]
    },
    {
     "name": "stderr",
     "output_type": "stream",
     "text": [
      "WARNING:absl:Found untraced functions such as lstm_cell_48_layer_call_fn, lstm_cell_48_layer_call_and_return_conditional_losses while saving (showing 2 of 2). These functions will not be directly callable after loading.\n"
     ]
    },
    {
     "name": "stdout",
     "output_type": "stream",
     "text": [
      "INFO:tensorflow:Assets written to: Walk_forward/models/day43\\assets\n"
     ]
    },
    {
     "name": "stderr",
     "output_type": "stream",
     "text": [
      "INFO:tensorflow:Assets written to: Walk_forward/models/day43\\assets\n",
      "WARNING:absl:<keras.layers.recurrent.LSTMCell object at 0x000001D2136EED60> has the same name 'LSTMCell' as a built-in Keras object. Consider renaming <class 'keras.layers.recurrent.LSTMCell'> to avoid naming conflicts when loading with `tf.keras.models.load_model`. If renaming is not possible, pass the object in the `custom_objects` parameter of the load function.\n"
     ]
    },
    {
     "name": "stdout",
     "output_type": "stream",
     "text": [
      "152/152 [==============================] - 4s 21ms/step\n",
      "65/65 [==============================] - 1s 21ms/step\n"
     ]
    },
    {
     "name": "stderr",
     "output_type": "stream",
     "text": [
      "D:\\Anaconda\\lib\\site-packages\\pandas\\core\\frame.py:3678: SettingWithCopyWarning: \n",
      "A value is trying to be set on a copy of a slice from a DataFrame.\n",
      "Try using .loc[row_indexer,col_indexer] = value instead\n",
      "\n",
      "See the caveats in the documentation: https://pandas.pydata.org/pandas-docs/stable/user_guide/indexing.html#returning-a-view-versus-a-copy\n",
      "  self[col] = igetitem(value, i)\n"
     ]
    },
    {
     "name": "stdout",
     "output_type": "stream",
     "text": [
      "Epoch 1/15\n",
      "152/152 [==============================] - 11s 59ms/step - loss: 0.6770 - val_loss: 2.9282\n",
      "Epoch 2/15\n",
      "152/152 [==============================] - 9s 57ms/step - loss: 0.3741 - val_loss: 2.8858\n",
      "Epoch 3/15\n",
      "152/152 [==============================] - 8s 54ms/step - loss: 0.3341 - val_loss: 2.8598\n",
      "Epoch 4/15\n",
      "152/152 [==============================] - 8s 52ms/step - loss: 0.3048 - val_loss: 2.8421\n",
      "Epoch 5/15\n",
      "152/152 [==============================] - 8s 54ms/step - loss: 0.2846 - val_loss: 2.8344\n",
      "Epoch 6/15\n",
      "152/152 [==============================] - 8s 54ms/step - loss: 0.2733 - val_loss: 2.8241\n",
      "Epoch 7/15\n",
      "152/152 [==============================] - 8s 53ms/step - loss: 0.2702 - val_loss: 2.8228\n",
      "Epoch 8/15\n",
      "152/152 [==============================] - 8s 53ms/step - loss: 0.2624 - val_loss: 2.8207\n",
      "Epoch 9/15\n",
      "152/152 [==============================] - 8s 53ms/step - loss: 0.2576 - val_loss: 2.8288\n",
      "Epoch 10/15\n",
      "152/152 [==============================] - 8s 53ms/step - loss: 0.2578 - val_loss: 2.8205\n",
      "Epoch 11/15\n",
      "152/152 [==============================] - 8s 53ms/step - loss: 0.2534 - val_loss: 2.8103\n",
      "Epoch 12/15\n",
      "152/152 [==============================] - 8s 56ms/step - loss: 0.2516 - val_loss: 2.8096\n",
      "Epoch 13/15\n",
      "152/152 [==============================] - 8s 54ms/step - loss: 0.2513 - val_loss: 2.8138\n",
      "Epoch 14/15\n",
      "152/152 [==============================] - 8s 53ms/step - loss: 0.2477 - val_loss: 2.8089\n",
      "Epoch 15/15\n",
      "152/152 [==============================] - 8s 52ms/step - loss: 0.2509 - val_loss: 2.8156\n"
     ]
    },
    {
     "name": "stderr",
     "output_type": "stream",
     "text": [
      "WARNING:absl:Found untraced functions such as lstm_cell_49_layer_call_fn, lstm_cell_49_layer_call_and_return_conditional_losses while saving (showing 2 of 2). These functions will not be directly callable after loading.\n"
     ]
    },
    {
     "name": "stdout",
     "output_type": "stream",
     "text": [
      "INFO:tensorflow:Assets written to: Walk_forward/models/day44\\assets\n"
     ]
    },
    {
     "name": "stderr",
     "output_type": "stream",
     "text": [
      "INFO:tensorflow:Assets written to: Walk_forward/models/day44\\assets\n",
      "WARNING:absl:<keras.layers.recurrent.LSTMCell object at 0x000001D225EAF070> has the same name 'LSTMCell' as a built-in Keras object. Consider renaming <class 'keras.layers.recurrent.LSTMCell'> to avoid naming conflicts when loading with `tf.keras.models.load_model`. If renaming is not possible, pass the object in the `custom_objects` parameter of the load function.\n"
     ]
    },
    {
     "name": "stdout",
     "output_type": "stream",
     "text": [
      "152/152 [==============================] - 4s 21ms/step\n",
      "65/65 [==============================] - 1s 19ms/step\n"
     ]
    },
    {
     "name": "stderr",
     "output_type": "stream",
     "text": [
      "D:\\Anaconda\\lib\\site-packages\\pandas\\core\\frame.py:3678: SettingWithCopyWarning: \n",
      "A value is trying to be set on a copy of a slice from a DataFrame.\n",
      "Try using .loc[row_indexer,col_indexer] = value instead\n",
      "\n",
      "See the caveats in the documentation: https://pandas.pydata.org/pandas-docs/stable/user_guide/indexing.html#returning-a-view-versus-a-copy\n",
      "  self[col] = igetitem(value, i)\n"
     ]
    },
    {
     "name": "stdout",
     "output_type": "stream",
     "text": [
      "Epoch 1/15\n",
      "152/152 [==============================] - 11s 57ms/step - loss: 0.9333 - val_loss: 2.8395\n",
      "Epoch 2/15\n",
      "152/152 [==============================] - 8s 53ms/step - loss: 0.4573 - val_loss: 2.8050\n",
      "Epoch 3/15\n",
      "152/152 [==============================] - 8s 54ms/step - loss: 0.3917 - val_loss: 2.7845\n",
      "Epoch 4/15\n",
      "152/152 [==============================] - 8s 54ms/step - loss: 0.3579 - val_loss: 2.7728\n",
      "Epoch 5/15\n",
      "152/152 [==============================] - 8s 53ms/step - loss: 0.3348 - val_loss: 2.7626\n",
      "Epoch 6/15\n",
      "152/152 [==============================] - 8s 52ms/step - loss: 0.3138 - val_loss: 2.7545\n",
      "Epoch 7/15\n",
      "152/152 [==============================] - 8s 52ms/step - loss: 0.2989 - val_loss: 2.7497\n",
      "Epoch 8/15\n",
      "152/152 [==============================] - 8s 52ms/step - loss: 0.2886 - val_loss: 2.7489\n",
      "Epoch 9/15\n",
      "152/152 [==============================] - 8s 54ms/step - loss: 0.2828 - val_loss: 2.7436\n",
      "Epoch 10/15\n",
      "152/152 [==============================] - 8s 53ms/step - loss: 0.2813 - val_loss: 2.7420\n",
      "Epoch 11/15\n",
      "152/152 [==============================] - 8s 52ms/step - loss: 0.2776 - val_loss: 2.7456\n",
      "Epoch 12/15\n",
      "152/152 [==============================] - 8s 52ms/step - loss: 0.2747 - val_loss: 2.7454\n",
      "Epoch 13/15\n",
      "152/152 [==============================] - 8s 53ms/step - loss: 0.2720 - val_loss: 2.7465\n",
      "Epoch 14/15\n",
      "152/152 [==============================] - 8s 54ms/step - loss: 0.2711 - val_loss: 2.7481\n",
      "Epoch 15/15\n",
      "152/152 [==============================] - 8s 52ms/step - loss: 0.2775 - val_loss: 2.7472\n"
     ]
    },
    {
     "name": "stderr",
     "output_type": "stream",
     "text": [
      "WARNING:absl:Found untraced functions such as lstm_cell_50_layer_call_fn, lstm_cell_50_layer_call_and_return_conditional_losses while saving (showing 2 of 2). These functions will not be directly callable after loading.\n"
     ]
    },
    {
     "name": "stdout",
     "output_type": "stream",
     "text": [
      "INFO:tensorflow:Assets written to: Walk_forward/models/day45\\assets\n"
     ]
    },
    {
     "name": "stderr",
     "output_type": "stream",
     "text": [
      "INFO:tensorflow:Assets written to: Walk_forward/models/day45\\assets\n",
      "WARNING:absl:<keras.layers.recurrent.LSTMCell object at 0x000001D209E56BE0> has the same name 'LSTMCell' as a built-in Keras object. Consider renaming <class 'keras.layers.recurrent.LSTMCell'> to avoid naming conflicts when loading with `tf.keras.models.load_model`. If renaming is not possible, pass the object in the `custom_objects` parameter of the load function.\n"
     ]
    },
    {
     "name": "stdout",
     "output_type": "stream",
     "text": [
      "152/152 [==============================] - 4s 21ms/step\n",
      "65/65 [==============================] - 1s 20ms/step\n"
     ]
    },
    {
     "name": "stderr",
     "output_type": "stream",
     "text": [
      "D:\\Anaconda\\lib\\site-packages\\pandas\\core\\frame.py:3678: SettingWithCopyWarning: \n",
      "A value is trying to be set on a copy of a slice from a DataFrame.\n",
      "Try using .loc[row_indexer,col_indexer] = value instead\n",
      "\n",
      "See the caveats in the documentation: https://pandas.pydata.org/pandas-docs/stable/user_guide/indexing.html#returning-a-view-versus-a-copy\n",
      "  self[col] = igetitem(value, i)\n"
     ]
    },
    {
     "name": "stdout",
     "output_type": "stream",
     "text": [
      "Epoch 1/15\n",
      "152/152 [==============================] - 11s 56ms/step - loss: 0.5969 - val_loss: 2.9018\n",
      "Epoch 2/15\n",
      "152/152 [==============================] - 8s 53ms/step - loss: 0.3904 - val_loss: 2.8829\n",
      "Epoch 3/15\n",
      "152/152 [==============================] - 8s 54ms/step - loss: 0.3368 - val_loss: 2.8754\n",
      "Epoch 4/15\n",
      "152/152 [==============================] - 8s 55ms/step - loss: 0.3143 - val_loss: 2.8679\n",
      "Epoch 5/15\n",
      "152/152 [==============================] - 8s 53ms/step - loss: 0.2920 - val_loss: 2.8627\n",
      "Epoch 6/15\n",
      "152/152 [==============================] - 8s 54ms/step - loss: 0.2813 - val_loss: 2.8586\n",
      "Epoch 7/15\n",
      "152/152 [==============================] - 8s 54ms/step - loss: 0.2800 - val_loss: 2.8589\n",
      "Epoch 8/15\n",
      "152/152 [==============================] - 8s 53ms/step - loss: 0.2707 - val_loss: 2.8577\n",
      "Epoch 9/15\n",
      "152/152 [==============================] - 8s 55ms/step - loss: 0.2717 - val_loss: 2.8592\n",
      "Epoch 10/15\n",
      "152/152 [==============================] - 8s 53ms/step - loss: 0.2735 - val_loss: 2.8693\n",
      "Epoch 11/15\n",
      "152/152 [==============================] - 8s 52ms/step - loss: 0.3044 - val_loss: 2.8646\n",
      "Epoch 12/15\n",
      "152/152 [==============================] - 8s 52ms/step - loss: 0.2609 - val_loss: 2.8586\n",
      "Epoch 13/15\n",
      "152/152 [==============================] - 8s 53ms/step - loss: 0.2603 - val_loss: 2.8597\n",
      "Epoch 14/15\n",
      "152/152 [==============================] - 8s 52ms/step - loss: 0.2590 - val_loss: 2.8603\n",
      "Epoch 15/15\n",
      "152/152 [==============================] - 8s 52ms/step - loss: 0.2576 - val_loss: 2.8612\n"
     ]
    },
    {
     "name": "stderr",
     "output_type": "stream",
     "text": [
      "WARNING:absl:Found untraced functions such as lstm_cell_51_layer_call_fn, lstm_cell_51_layer_call_and_return_conditional_losses while saving (showing 2 of 2). These functions will not be directly callable after loading.\n"
     ]
    },
    {
     "name": "stdout",
     "output_type": "stream",
     "text": [
      "INFO:tensorflow:Assets written to: Walk_forward/models/day46\\assets\n"
     ]
    },
    {
     "name": "stderr",
     "output_type": "stream",
     "text": [
      "INFO:tensorflow:Assets written to: Walk_forward/models/day46\\assets\n",
      "WARNING:absl:<keras.layers.recurrent.LSTMCell object at 0x000001D222891370> has the same name 'LSTMCell' as a built-in Keras object. Consider renaming <class 'keras.layers.recurrent.LSTMCell'> to avoid naming conflicts when loading with `tf.keras.models.load_model`. If renaming is not possible, pass the object in the `custom_objects` parameter of the load function.\n"
     ]
    },
    {
     "name": "stdout",
     "output_type": "stream",
     "text": [
      "152/152 [==============================] - 4s 21ms/step\n",
      "65/65 [==============================] - 1s 19ms/step\n"
     ]
    },
    {
     "name": "stderr",
     "output_type": "stream",
     "text": [
      "D:\\Anaconda\\lib\\site-packages\\pandas\\core\\frame.py:3678: SettingWithCopyWarning: \n",
      "A value is trying to be set on a copy of a slice from a DataFrame.\n",
      "Try using .loc[row_indexer,col_indexer] = value instead\n",
      "\n",
      "See the caveats in the documentation: https://pandas.pydata.org/pandas-docs/stable/user_guide/indexing.html#returning-a-view-versus-a-copy\n",
      "  self[col] = igetitem(value, i)\n"
     ]
    },
    {
     "name": "stdout",
     "output_type": "stream",
     "text": [
      "Epoch 1/15\n",
      "152/152 [==============================] - 11s 61ms/step - loss: 0.5052 - val_loss: 2.8652\n",
      "Epoch 2/15\n",
      "152/152 [==============================] - 8s 53ms/step - loss: 0.3663 - val_loss: 2.8553\n",
      "Epoch 3/15\n",
      "152/152 [==============================] - 8s 54ms/step - loss: 0.3353 - val_loss: 2.8460\n",
      "Epoch 4/15\n",
      "152/152 [==============================] - 8s 54ms/step - loss: 0.3169 - val_loss: 2.8452\n",
      "Epoch 5/15\n",
      "152/152 [==============================] - 8s 54ms/step - loss: 0.3034 - val_loss: 2.8386\n",
      "Epoch 6/15\n",
      "152/152 [==============================] - 8s 56ms/step - loss: 0.2941 - val_loss: 2.8363\n",
      "Epoch 7/15\n",
      "152/152 [==============================] - 8s 55ms/step - loss: 0.2960 - val_loss: 2.8349\n",
      "Epoch 8/15\n",
      "152/152 [==============================] - 8s 53ms/step - loss: 0.2902 - val_loss: 2.8357\n",
      "Epoch 9/15\n",
      "152/152 [==============================] - 8s 52ms/step - loss: 0.2810 - val_loss: 2.8350\n",
      "Epoch 10/15\n",
      "152/152 [==============================] - 8s 54ms/step - loss: 0.2850 - val_loss: 2.8388\n",
      "Epoch 11/15\n",
      "152/152 [==============================] - 8s 53ms/step - loss: 0.2814 - val_loss: 2.8358\n",
      "Epoch 12/15\n",
      "152/152 [==============================] - 8s 54ms/step - loss: 0.2790 - val_loss: 2.8383\n",
      "Epoch 13/15\n",
      "152/152 [==============================] - 8s 53ms/step - loss: 0.2742 - val_loss: 2.8341\n",
      "Epoch 14/15\n",
      "152/152 [==============================] - 8s 53ms/step - loss: 0.2736 - val_loss: 2.8357\n",
      "Epoch 15/15\n",
      "152/152 [==============================] - 8s 53ms/step - loss: 0.2746 - val_loss: 2.8335\n"
     ]
    },
    {
     "name": "stderr",
     "output_type": "stream",
     "text": [
      "WARNING:absl:Found untraced functions such as lstm_cell_52_layer_call_fn, lstm_cell_52_layer_call_and_return_conditional_losses while saving (showing 2 of 2). These functions will not be directly callable after loading.\n"
     ]
    },
    {
     "name": "stdout",
     "output_type": "stream",
     "text": [
      "INFO:tensorflow:Assets written to: Walk_forward/models/day47\\assets\n"
     ]
    },
    {
     "name": "stderr",
     "output_type": "stream",
     "text": [
      "INFO:tensorflow:Assets written to: Walk_forward/models/day47\\assets\n",
      "WARNING:absl:<keras.layers.recurrent.LSTMCell object at 0x000001CF5C8B4EB0> has the same name 'LSTMCell' as a built-in Keras object. Consider renaming <class 'keras.layers.recurrent.LSTMCell'> to avoid naming conflicts when loading with `tf.keras.models.load_model`. If renaming is not possible, pass the object in the `custom_objects` parameter of the load function.\n"
     ]
    },
    {
     "name": "stdout",
     "output_type": "stream",
     "text": [
      "152/152 [==============================] - 3s 19ms/step\n",
      "65/65 [==============================] - 1s 20ms/step\n"
     ]
    },
    {
     "name": "stderr",
     "output_type": "stream",
     "text": [
      "D:\\Anaconda\\lib\\site-packages\\pandas\\core\\frame.py:3678: SettingWithCopyWarning: \n",
      "A value is trying to be set on a copy of a slice from a DataFrame.\n",
      "Try using .loc[row_indexer,col_indexer] = value instead\n",
      "\n",
      "See the caveats in the documentation: https://pandas.pydata.org/pandas-docs/stable/user_guide/indexing.html#returning-a-view-versus-a-copy\n",
      "  self[col] = igetitem(value, i)\n"
     ]
    },
    {
     "name": "stdout",
     "output_type": "stream",
     "text": [
      "Epoch 1/15\n",
      "152/152 [==============================] - 11s 57ms/step - loss: 1.5794 - val_loss: 0.2399\n",
      "Epoch 2/15\n",
      "152/152 [==============================] - 8s 54ms/step - loss: 1.4646 - val_loss: 0.2342\n",
      "Epoch 3/15\n",
      "152/152 [==============================] - 8s 53ms/step - loss: 1.4366 - val_loss: 0.2367\n",
      "Epoch 4/15\n",
      "152/152 [==============================] - 8s 52ms/step - loss: 1.4161 - val_loss: 0.2368\n",
      "Epoch 5/15\n",
      "152/152 [==============================] - 8s 52ms/step - loss: 1.4035 - val_loss: 0.2347\n",
      "Epoch 6/15\n",
      "152/152 [==============================] - 8s 53ms/step - loss: 1.4024 - val_loss: 0.2360\n",
      "Epoch 7/15\n",
      "152/152 [==============================] - 8s 52ms/step - loss: 1.3940 - val_loss: 0.2375\n",
      "Epoch 8/15\n",
      "152/152 [==============================] - 8s 53ms/step - loss: 1.3982 - val_loss: 0.2204\n",
      "Epoch 9/15\n",
      "152/152 [==============================] - 8s 52ms/step - loss: 1.3930 - val_loss: 0.2208\n",
      "Epoch 10/15\n",
      "152/152 [==============================] - 8s 53ms/step - loss: 1.3899 - val_loss: 0.2328\n",
      "Epoch 11/15\n",
      "152/152 [==============================] - 8s 53ms/step - loss: 1.3995 - val_loss: 0.2273\n",
      "Epoch 12/15\n",
      "152/152 [==============================] - 8s 54ms/step - loss: 1.4034 - val_loss: 0.2139\n",
      "Epoch 13/15\n",
      "152/152 [==============================] - 8s 54ms/step - loss: 1.4008 - val_loss: 0.2370\n",
      "Epoch 14/15\n",
      "152/152 [==============================] - 8s 54ms/step - loss: 1.4053 - val_loss: 0.2384\n",
      "Epoch 15/15\n",
      "152/152 [==============================] - 8s 55ms/step - loss: 1.3929 - val_loss: 0.2431\n"
     ]
    },
    {
     "name": "stderr",
     "output_type": "stream",
     "text": [
      "WARNING:absl:Found untraced functions such as lstm_cell_53_layer_call_fn, lstm_cell_53_layer_call_and_return_conditional_losses while saving (showing 2 of 2). These functions will not be directly callable after loading.\n"
     ]
    },
    {
     "name": "stdout",
     "output_type": "stream",
     "text": [
      "INFO:tensorflow:Assets written to: Walk_forward/models/day48\\assets\n"
     ]
    },
    {
     "name": "stderr",
     "output_type": "stream",
     "text": [
      "INFO:tensorflow:Assets written to: Walk_forward/models/day48\\assets\n",
      "WARNING:absl:<keras.layers.recurrent.LSTMCell object at 0x000001D1D2FB5760> has the same name 'LSTMCell' as a built-in Keras object. Consider renaming <class 'keras.layers.recurrent.LSTMCell'> to avoid naming conflicts when loading with `tf.keras.models.load_model`. If renaming is not possible, pass the object in the `custom_objects` parameter of the load function.\n"
     ]
    },
    {
     "name": "stdout",
     "output_type": "stream",
     "text": [
      "152/152 [==============================] - 4s 22ms/step\n",
      "65/65 [==============================] - 1s 20ms/step\n"
     ]
    },
    {
     "name": "stderr",
     "output_type": "stream",
     "text": [
      "D:\\Anaconda\\lib\\site-packages\\pandas\\core\\frame.py:3678: SettingWithCopyWarning: \n",
      "A value is trying to be set on a copy of a slice from a DataFrame.\n",
      "Try using .loc[row_indexer,col_indexer] = value instead\n",
      "\n",
      "See the caveats in the documentation: https://pandas.pydata.org/pandas-docs/stable/user_guide/indexing.html#returning-a-view-versus-a-copy\n",
      "  self[col] = igetitem(value, i)\n"
     ]
    },
    {
     "name": "stdout",
     "output_type": "stream",
     "text": [
      "Epoch 1/15\n",
      "152/152 [==============================] - 11s 57ms/step - loss: 1.5947 - val_loss: 0.2655\n",
      "Epoch 2/15\n",
      "152/152 [==============================] - 8s 54ms/step - loss: 1.4503 - val_loss: 0.2434\n",
      "Epoch 3/15\n",
      "152/152 [==============================] - 8s 53ms/step - loss: 1.4209 - val_loss: 0.2303\n",
      "Epoch 4/15\n",
      "152/152 [==============================] - 8s 54ms/step - loss: 1.4150 - val_loss: 0.2255\n",
      "Epoch 5/15\n",
      "152/152 [==============================] - 8s 54ms/step - loss: 1.3925 - val_loss: 0.2183\n",
      "Epoch 6/15\n",
      "152/152 [==============================] - 8s 54ms/step - loss: 1.3845 - val_loss: 0.2178\n",
      "Epoch 7/15\n",
      "152/152 [==============================] - 8s 54ms/step - loss: 1.3762 - val_loss: 0.2166\n",
      "Epoch 8/15\n",
      "152/152 [==============================] - 8s 55ms/step - loss: 1.3696 - val_loss: 0.2116\n",
      "Epoch 9/15\n",
      "152/152 [==============================] - 8s 54ms/step - loss: 1.3691 - val_loss: 0.2326\n",
      "Epoch 10/15\n",
      "152/152 [==============================] - 8s 55ms/step - loss: 1.3673 - val_loss: 0.2204\n",
      "Epoch 11/15\n",
      "152/152 [==============================] - 8s 53ms/step - loss: 1.3588 - val_loss: 0.2121\n",
      "Epoch 12/15\n",
      "152/152 [==============================] - 8s 53ms/step - loss: 1.3648 - val_loss: 0.2193\n",
      "Epoch 13/15\n",
      "152/152 [==============================] - 8s 53ms/step - loss: 1.3625 - val_loss: 0.2233\n",
      "Epoch 14/15\n",
      "152/152 [==============================] - 8s 53ms/step - loss: 1.3584 - val_loss: 0.2200\n",
      "Epoch 15/15\n",
      "152/152 [==============================] - 8s 52ms/step - loss: 1.3580 - val_loss: 0.2166\n"
     ]
    },
    {
     "name": "stderr",
     "output_type": "stream",
     "text": [
      "WARNING:absl:Found untraced functions such as lstm_cell_54_layer_call_fn, lstm_cell_54_layer_call_and_return_conditional_losses while saving (showing 2 of 2). These functions will not be directly callable after loading.\n"
     ]
    },
    {
     "name": "stdout",
     "output_type": "stream",
     "text": [
      "INFO:tensorflow:Assets written to: Walk_forward/models/day49\\assets\n"
     ]
    },
    {
     "name": "stderr",
     "output_type": "stream",
     "text": [
      "INFO:tensorflow:Assets written to: Walk_forward/models/day49\\assets\n",
      "WARNING:absl:<keras.layers.recurrent.LSTMCell object at 0x000001D248FE0730> has the same name 'LSTMCell' as a built-in Keras object. Consider renaming <class 'keras.layers.recurrent.LSTMCell'> to avoid naming conflicts when loading with `tf.keras.models.load_model`. If renaming is not possible, pass the object in the `custom_objects` parameter of the load function.\n"
     ]
    },
    {
     "name": "stdout",
     "output_type": "stream",
     "text": [
      "152/152 [==============================] - 4s 21ms/step\n",
      "65/65 [==============================] - 1s 19ms/step\n"
     ]
    },
    {
     "name": "stderr",
     "output_type": "stream",
     "text": [
      "D:\\Anaconda\\lib\\site-packages\\pandas\\core\\frame.py:3678: SettingWithCopyWarning: \n",
      "A value is trying to be set on a copy of a slice from a DataFrame.\n",
      "Try using .loc[row_indexer,col_indexer] = value instead\n",
      "\n",
      "See the caveats in the documentation: https://pandas.pydata.org/pandas-docs/stable/user_guide/indexing.html#returning-a-view-versus-a-copy\n",
      "  self[col] = igetitem(value, i)\n"
     ]
    },
    {
     "name": "stdout",
     "output_type": "stream",
     "text": [
      "Epoch 1/15\n",
      "152/152 [==============================] - 11s 58ms/step - loss: 1.6932 - val_loss: 0.3187\n",
      "Epoch 2/15\n",
      "152/152 [==============================] - 8s 53ms/step - loss: 1.4832 - val_loss: 0.2818\n",
      "Epoch 3/15\n",
      "152/152 [==============================] - 8s 52ms/step - loss: 1.4495 - val_loss: 0.2555\n",
      "Epoch 4/15\n",
      "152/152 [==============================] - 8s 53ms/step - loss: 1.4296 - val_loss: 0.2428\n",
      "Epoch 5/15\n",
      "152/152 [==============================] - 8s 54ms/step - loss: 1.4155 - val_loss: 0.2330\n",
      "Epoch 6/15\n",
      "152/152 [==============================] - 8s 52ms/step - loss: 1.4042 - val_loss: 0.2282\n",
      "Epoch 7/15\n",
      "152/152 [==============================] - 8s 52ms/step - loss: 1.3918 - val_loss: 0.2220\n",
      "Epoch 8/15\n",
      "152/152 [==============================] - 8s 53ms/step - loss: 1.3826 - val_loss: 0.2213\n",
      "Epoch 9/15\n",
      "152/152 [==============================] - 8s 52ms/step - loss: 1.3757 - val_loss: 0.2176\n",
      "Epoch 10/15\n",
      "152/152 [==============================] - 8s 53ms/step - loss: 1.3683 - val_loss: 0.2135\n",
      "Epoch 11/15\n",
      "152/152 [==============================] - 9s 57ms/step - loss: 1.3695 - val_loss: 0.2141\n",
      "Epoch 12/15\n",
      "152/152 [==============================] - 8s 54ms/step - loss: 1.3632 - val_loss: 0.2142\n",
      "Epoch 13/15\n",
      "152/152 [==============================] - 8s 55ms/step - loss: 1.3658 - val_loss: 0.2162\n",
      "Epoch 14/15\n",
      "152/152 [==============================] - 8s 53ms/step - loss: 1.3570 - val_loss: 0.2143\n",
      "Epoch 15/15\n",
      "152/152 [==============================] - 8s 53ms/step - loss: 1.3617 - val_loss: 0.2149\n"
     ]
    },
    {
     "name": "stderr",
     "output_type": "stream",
     "text": [
      "WARNING:absl:Found untraced functions such as lstm_cell_55_layer_call_fn, lstm_cell_55_layer_call_and_return_conditional_losses while saving (showing 2 of 2). These functions will not be directly callable after loading.\n"
     ]
    },
    {
     "name": "stdout",
     "output_type": "stream",
     "text": [
      "INFO:tensorflow:Assets written to: Walk_forward/models/day50\\assets\n"
     ]
    },
    {
     "name": "stderr",
     "output_type": "stream",
     "text": [
      "INFO:tensorflow:Assets written to: Walk_forward/models/day50\\assets\n",
      "WARNING:absl:<keras.layers.recurrent.LSTMCell object at 0x000001D22DDD61C0> has the same name 'LSTMCell' as a built-in Keras object. Consider renaming <class 'keras.layers.recurrent.LSTMCell'> to avoid naming conflicts when loading with `tf.keras.models.load_model`. If renaming is not possible, pass the object in the `custom_objects` parameter of the load function.\n"
     ]
    },
    {
     "name": "stdout",
     "output_type": "stream",
     "text": [
      "152/152 [==============================] - 4s 21ms/step\n",
      "65/65 [==============================] - 1s 19ms/step\n"
     ]
    },
    {
     "name": "stderr",
     "output_type": "stream",
     "text": [
      "D:\\Anaconda\\lib\\site-packages\\pandas\\core\\frame.py:3678: SettingWithCopyWarning: \n",
      "A value is trying to be set on a copy of a slice from a DataFrame.\n",
      "Try using .loc[row_indexer,col_indexer] = value instead\n",
      "\n",
      "See the caveats in the documentation: https://pandas.pydata.org/pandas-docs/stable/user_guide/indexing.html#returning-a-view-versus-a-copy\n",
      "  self[col] = igetitem(value, i)\n"
     ]
    },
    {
     "name": "stdout",
     "output_type": "stream",
     "text": [
      "Epoch 1/15\n",
      "152/152 [==============================] - 10s 55ms/step - loss: 1.5418 - val_loss: 0.2595\n",
      "Epoch 2/15\n",
      "152/152 [==============================] - 8s 51ms/step - loss: 1.4306 - val_loss: 0.2431\n",
      "Epoch 3/15\n",
      "152/152 [==============================] - 8s 52ms/step - loss: 1.4103 - val_loss: 0.2418\n",
      "Epoch 4/15\n",
      "152/152 [==============================] - 8s 53ms/step - loss: 1.3943 - val_loss: 0.2267\n",
      "Epoch 5/15\n",
      "152/152 [==============================] - 8s 55ms/step - loss: 1.3771 - val_loss: 0.2266\n",
      "Epoch 6/15\n",
      "152/152 [==============================] - 8s 53ms/step - loss: 1.3684 - val_loss: 0.2238\n",
      "Epoch 7/15\n",
      "152/152 [==============================] - 8s 52ms/step - loss: 1.3604 - val_loss: 0.2199\n",
      "Epoch 8/15\n",
      "152/152 [==============================] - 8s 52ms/step - loss: 1.3551 - val_loss: 0.2237\n",
      "Epoch 9/15\n",
      "152/152 [==============================] - 8s 52ms/step - loss: 1.3588 - val_loss: 0.2241\n",
      "Epoch 10/15\n",
      "152/152 [==============================] - 8s 52ms/step - loss: 1.3528 - val_loss: 0.2227\n",
      "Epoch 11/15\n",
      "152/152 [==============================] - 8s 52ms/step - loss: 1.3495 - val_loss: 0.2228\n",
      "Epoch 12/15\n",
      "152/152 [==============================] - 8s 52ms/step - loss: 1.3541 - val_loss: 0.2244\n",
      "Epoch 13/15\n",
      "152/152 [==============================] - 8s 51ms/step - loss: 1.3480 - val_loss: 0.2333\n",
      "Epoch 14/15\n",
      "152/152 [==============================] - 8s 52ms/step - loss: 1.3462 - val_loss: 0.2303\n",
      "Epoch 15/15\n",
      "152/152 [==============================] - 8s 52ms/step - loss: 1.3500 - val_loss: 0.2375\n"
     ]
    },
    {
     "name": "stderr",
     "output_type": "stream",
     "text": [
      "WARNING:absl:Found untraced functions such as lstm_cell_56_layer_call_fn, lstm_cell_56_layer_call_and_return_conditional_losses while saving (showing 2 of 2). These functions will not be directly callable after loading.\n"
     ]
    },
    {
     "name": "stdout",
     "output_type": "stream",
     "text": [
      "INFO:tensorflow:Assets written to: Walk_forward/models/day51\\assets\n"
     ]
    },
    {
     "name": "stderr",
     "output_type": "stream",
     "text": [
      "INFO:tensorflow:Assets written to: Walk_forward/models/day51\\assets\n",
      "WARNING:absl:<keras.layers.recurrent.LSTMCell object at 0x000001D247D2DDC0> has the same name 'LSTMCell' as a built-in Keras object. Consider renaming <class 'keras.layers.recurrent.LSTMCell'> to avoid naming conflicts when loading with `tf.keras.models.load_model`. If renaming is not possible, pass the object in the `custom_objects` parameter of the load function.\n"
     ]
    },
    {
     "name": "stdout",
     "output_type": "stream",
     "text": [
      "152/152 [==============================] - 4s 21ms/step\n",
      "65/65 [==============================] - 1s 19ms/step\n"
     ]
    },
    {
     "name": "stderr",
     "output_type": "stream",
     "text": [
      "D:\\Anaconda\\lib\\site-packages\\pandas\\core\\frame.py:3678: SettingWithCopyWarning: \n",
      "A value is trying to be set on a copy of a slice from a DataFrame.\n",
      "Try using .loc[row_indexer,col_indexer] = value instead\n",
      "\n",
      "See the caveats in the documentation: https://pandas.pydata.org/pandas-docs/stable/user_guide/indexing.html#returning-a-view-versus-a-copy\n",
      "  self[col] = igetitem(value, i)\n"
     ]
    },
    {
     "name": "stdout",
     "output_type": "stream",
     "text": [
      "Epoch 1/15\n",
      "152/152 [==============================] - 11s 56ms/step - loss: 1.5378 - val_loss: 0.2798\n",
      "Epoch 2/15\n",
      "152/152 [==============================] - 8s 53ms/step - loss: 1.4458 - val_loss: 0.2624\n",
      "Epoch 3/15\n",
      "152/152 [==============================] - 8s 53ms/step - loss: 1.4174 - val_loss: 0.2532\n",
      "Epoch 4/15\n",
      "152/152 [==============================] - 8s 52ms/step - loss: 1.4006 - val_loss: 0.2454\n",
      "Epoch 5/15\n",
      "152/152 [==============================] - 8s 52ms/step - loss: 1.3839 - val_loss: 0.2345\n",
      "Epoch 6/15\n",
      "152/152 [==============================] - 8s 52ms/step - loss: 1.3762 - val_loss: 0.2341\n",
      "Epoch 7/15\n",
      "152/152 [==============================] - 8s 52ms/step - loss: 1.3642 - val_loss: 0.2313\n",
      "Epoch 8/15\n",
      "152/152 [==============================] - 8s 52ms/step - loss: 1.3573 - val_loss: 0.2241\n",
      "Epoch 9/15\n",
      "152/152 [==============================] - 8s 52ms/step - loss: 1.3499 - val_loss: 0.2301\n",
      "Epoch 10/15\n",
      "152/152 [==============================] - 8s 52ms/step - loss: 1.3524 - val_loss: 0.2241\n",
      "Epoch 11/15\n",
      "152/152 [==============================] - 8s 53ms/step - loss: 1.3485 - val_loss: 0.2266\n",
      "Epoch 12/15\n",
      "152/152 [==============================] - 8s 55ms/step - loss: 1.3504 - val_loss: 0.2234\n",
      "Epoch 13/15\n",
      "152/152 [==============================] - 8s 53ms/step - loss: 1.3418 - val_loss: 0.2279\n",
      "Epoch 14/15\n",
      "152/152 [==============================] - 8s 52ms/step - loss: 1.3428 - val_loss: 0.2283\n",
      "Epoch 15/15\n",
      "152/152 [==============================] - 8s 52ms/step - loss: 1.3425 - val_loss: 0.2256\n"
     ]
    },
    {
     "name": "stderr",
     "output_type": "stream",
     "text": [
      "WARNING:absl:Found untraced functions such as lstm_cell_57_layer_call_fn, lstm_cell_57_layer_call_and_return_conditional_losses while saving (showing 2 of 2). These functions will not be directly callable after loading.\n"
     ]
    },
    {
     "name": "stdout",
     "output_type": "stream",
     "text": [
      "INFO:tensorflow:Assets written to: Walk_forward/models/day52\\assets\n"
     ]
    },
    {
     "name": "stderr",
     "output_type": "stream",
     "text": [
      "INFO:tensorflow:Assets written to: Walk_forward/models/day52\\assets\n",
      "WARNING:absl:<keras.layers.recurrent.LSTMCell object at 0x000001D226204070> has the same name 'LSTMCell' as a built-in Keras object. Consider renaming <class 'keras.layers.recurrent.LSTMCell'> to avoid naming conflicts when loading with `tf.keras.models.load_model`. If renaming is not possible, pass the object in the `custom_objects` parameter of the load function.\n"
     ]
    },
    {
     "name": "stdout",
     "output_type": "stream",
     "text": [
      "152/152 [==============================] - 4s 21ms/step\n",
      "65/65 [==============================] - 1s 19ms/step\n"
     ]
    },
    {
     "name": "stderr",
     "output_type": "stream",
     "text": [
      "D:\\Anaconda\\lib\\site-packages\\pandas\\core\\frame.py:3678: SettingWithCopyWarning: \n",
      "A value is trying to be set on a copy of a slice from a DataFrame.\n",
      "Try using .loc[row_indexer,col_indexer] = value instead\n",
      "\n",
      "See the caveats in the documentation: https://pandas.pydata.org/pandas-docs/stable/user_guide/indexing.html#returning-a-view-versus-a-copy\n",
      "  self[col] = igetitem(value, i)\n"
     ]
    },
    {
     "name": "stdout",
     "output_type": "stream",
     "text": [
      "Epoch 1/15\n",
      "152/152 [==============================] - 12s 57ms/step - loss: 1.5966 - val_loss: 0.1093\n",
      "Epoch 2/15\n",
      "152/152 [==============================] - 8s 54ms/step - loss: 1.4799 - val_loss: 0.1003\n",
      "Epoch 3/15\n",
      "152/152 [==============================] - 9s 57ms/step - loss: 1.4545 - val_loss: 0.0918\n",
      "Epoch 4/15\n",
      "152/152 [==============================] - 8s 54ms/step - loss: 1.4399 - val_loss: 0.0879\n",
      "Epoch 5/15\n",
      "152/152 [==============================] - 8s 52ms/step - loss: 1.4306 - val_loss: 0.0853\n",
      "Epoch 6/15\n",
      "152/152 [==============================] - 8s 52ms/step - loss: 1.4203 - val_loss: 0.0791\n",
      "Epoch 7/15\n",
      "152/152 [==============================] - 8s 52ms/step - loss: 1.4175 - val_loss: 0.0810\n",
      "Epoch 8/15\n",
      "152/152 [==============================] - 8s 53ms/step - loss: 1.4115 - val_loss: 0.0785\n",
      "Epoch 9/15\n",
      "152/152 [==============================] - 8s 53ms/step - loss: 1.4080 - val_loss: 0.0774\n",
      "Epoch 10/15\n",
      "152/152 [==============================] - 8s 52ms/step - loss: 1.4094 - val_loss: 0.0808\n",
      "Epoch 11/15\n",
      "152/152 [==============================] - 8s 52ms/step - loss: 1.4046 - val_loss: 0.0795\n",
      "Epoch 12/15\n",
      "152/152 [==============================] - 8s 52ms/step - loss: 1.3985 - val_loss: 0.0784\n",
      "Epoch 13/15\n",
      "152/152 [==============================] - 8s 52ms/step - loss: 1.4028 - val_loss: 0.0822\n",
      "Epoch 14/15\n",
      "152/152 [==============================] - 8s 52ms/step - loss: 1.4074 - val_loss: 0.0806\n",
      "Epoch 15/15\n",
      "152/152 [==============================] - 8s 52ms/step - loss: 1.4361 - val_loss: 0.0813\n"
     ]
    },
    {
     "name": "stderr",
     "output_type": "stream",
     "text": [
      "WARNING:absl:Found untraced functions such as lstm_cell_58_layer_call_fn, lstm_cell_58_layer_call_and_return_conditional_losses while saving (showing 2 of 2). These functions will not be directly callable after loading.\n"
     ]
    },
    {
     "name": "stdout",
     "output_type": "stream",
     "text": [
      "INFO:tensorflow:Assets written to: Walk_forward/models/day53\\assets\n"
     ]
    },
    {
     "name": "stderr",
     "output_type": "stream",
     "text": [
      "INFO:tensorflow:Assets written to: Walk_forward/models/day53\\assets\n",
      "WARNING:absl:<keras.layers.recurrent.LSTMCell object at 0x000001D24864AD30> has the same name 'LSTMCell' as a built-in Keras object. Consider renaming <class 'keras.layers.recurrent.LSTMCell'> to avoid naming conflicts when loading with `tf.keras.models.load_model`. If renaming is not possible, pass the object in the `custom_objects` parameter of the load function.\n"
     ]
    },
    {
     "name": "stdout",
     "output_type": "stream",
     "text": [
      "152/152 [==============================] - 4s 21ms/step\n",
      "65/65 [==============================] - 1s 19ms/step\n"
     ]
    },
    {
     "name": "stderr",
     "output_type": "stream",
     "text": [
      "D:\\Anaconda\\lib\\site-packages\\pandas\\core\\frame.py:3678: SettingWithCopyWarning: \n",
      "A value is trying to be set on a copy of a slice from a DataFrame.\n",
      "Try using .loc[row_indexer,col_indexer] = value instead\n",
      "\n",
      "See the caveats in the documentation: https://pandas.pydata.org/pandas-docs/stable/user_guide/indexing.html#returning-a-view-versus-a-copy\n",
      "  self[col] = igetitem(value, i)\n"
     ]
    },
    {
     "name": "stdout",
     "output_type": "stream",
     "text": [
      "Epoch 1/15\n",
      "152/152 [==============================] - 11s 58ms/step - loss: 1.6375 - val_loss: 0.1216\n",
      "Epoch 2/15\n",
      "152/152 [==============================] - 8s 54ms/step - loss: 1.4817 - val_loss: 0.1034\n",
      "Epoch 3/15\n",
      "152/152 [==============================] - 8s 52ms/step - loss: 1.4517 - val_loss: 0.0962\n",
      "Epoch 4/15\n",
      "152/152 [==============================] - 8s 52ms/step - loss: 1.4324 - val_loss: 0.0921\n",
      "Epoch 5/15\n",
      "152/152 [==============================] - 8s 55ms/step - loss: 1.4194 - val_loss: 0.0819\n",
      "Epoch 6/15\n",
      "152/152 [==============================] - 8s 54ms/step - loss: 1.4253 - val_loss: 0.0767\n",
      "Epoch 7/15\n",
      "152/152 [==============================] - 8s 53ms/step - loss: 1.4081 - val_loss: 0.1118\n",
      "Epoch 8/15\n",
      "152/152 [==============================] - 8s 53ms/step - loss: 1.4057 - val_loss: 0.0747\n",
      "Epoch 9/15\n",
      "152/152 [==============================] - 8s 54ms/step - loss: 1.3972 - val_loss: 0.0772\n",
      "Epoch 10/15\n",
      "152/152 [==============================] - 8s 53ms/step - loss: 1.3944 - val_loss: 0.0725\n",
      "Epoch 11/15\n",
      "152/152 [==============================] - 8s 52ms/step - loss: 1.3945 - val_loss: 0.0733\n",
      "Epoch 12/15\n",
      "152/152 [==============================] - 8s 52ms/step - loss: 1.3997 - val_loss: 0.0742\n",
      "Epoch 13/15\n",
      "152/152 [==============================] - 8s 52ms/step - loss: 1.3933 - val_loss: 0.0802\n",
      "Epoch 14/15\n",
      "152/152 [==============================] - 8s 52ms/step - loss: 1.3895 - val_loss: 0.0739\n",
      "Epoch 15/15\n",
      "152/152 [==============================] - 8s 52ms/step - loss: 1.3907 - val_loss: 0.0727\n"
     ]
    },
    {
     "name": "stderr",
     "output_type": "stream",
     "text": [
      "WARNING:absl:Found untraced functions such as lstm_cell_59_layer_call_fn, lstm_cell_59_layer_call_and_return_conditional_losses while saving (showing 2 of 2). These functions will not be directly callable after loading.\n"
     ]
    },
    {
     "name": "stdout",
     "output_type": "stream",
     "text": [
      "INFO:tensorflow:Assets written to: Walk_forward/models/day54\\assets\n"
     ]
    },
    {
     "name": "stderr",
     "output_type": "stream",
     "text": [
      "INFO:tensorflow:Assets written to: Walk_forward/models/day54\\assets\n",
      "WARNING:absl:<keras.layers.recurrent.LSTMCell object at 0x000001D248848280> has the same name 'LSTMCell' as a built-in Keras object. Consider renaming <class 'keras.layers.recurrent.LSTMCell'> to avoid naming conflicts when loading with `tf.keras.models.load_model`. If renaming is not possible, pass the object in the `custom_objects` parameter of the load function.\n"
     ]
    },
    {
     "name": "stdout",
     "output_type": "stream",
     "text": [
      "152/152 [==============================] - 4s 21ms/step\n",
      "65/65 [==============================] - 1s 19ms/step\n"
     ]
    },
    {
     "name": "stderr",
     "output_type": "stream",
     "text": [
      "D:\\Anaconda\\lib\\site-packages\\pandas\\core\\frame.py:3678: SettingWithCopyWarning: \n",
      "A value is trying to be set on a copy of a slice from a DataFrame.\n",
      "Try using .loc[row_indexer,col_indexer] = value instead\n",
      "\n",
      "See the caveats in the documentation: https://pandas.pydata.org/pandas-docs/stable/user_guide/indexing.html#returning-a-view-versus-a-copy\n",
      "  self[col] = igetitem(value, i)\n"
     ]
    },
    {
     "name": "stdout",
     "output_type": "stream",
     "text": [
      "Epoch 1/15\n",
      "152/152 [==============================] - 11s 56ms/step - loss: 1.5927 - val_loss: 0.1025\n",
      "Epoch 2/15\n",
      "152/152 [==============================] - 8s 53ms/step - loss: 1.4766 - val_loss: 0.0916\n",
      "Epoch 3/15\n",
      "152/152 [==============================] - 8s 53ms/step - loss: 1.4472 - val_loss: 0.0816\n",
      "Epoch 4/15\n",
      "152/152 [==============================] - 8s 54ms/step - loss: 1.4292 - val_loss: 0.0825\n",
      "Epoch 5/15\n",
      "152/152 [==============================] - 8s 55ms/step - loss: 1.4191 - val_loss: 0.0711\n",
      "Epoch 6/15\n",
      "152/152 [==============================] - 8s 52ms/step - loss: 1.4098 - val_loss: 0.0699\n",
      "Epoch 7/15\n",
      "152/152 [==============================] - 8s 52ms/step - loss: 1.4051 - val_loss: 0.0680\n",
      "Epoch 8/15\n",
      "152/152 [==============================] - 8s 53ms/step - loss: 1.4123 - val_loss: 0.0703\n",
      "Epoch 9/15\n",
      "152/152 [==============================] - 8s 53ms/step - loss: 1.4085 - val_loss: 0.0687\n",
      "Epoch 10/15\n",
      "152/152 [==============================] - 8s 53ms/step - loss: 1.3947 - val_loss: 0.0691\n",
      "Epoch 11/15\n",
      "152/152 [==============================] - 8s 52ms/step - loss: 1.3898 - val_loss: 0.0769\n",
      "Epoch 12/15\n",
      "152/152 [==============================] - 8s 52ms/step - loss: 1.3898 - val_loss: 0.0717\n",
      "Epoch 13/15\n",
      "152/152 [==============================] - 8s 52ms/step - loss: 1.3882 - val_loss: 0.0693\n",
      "Epoch 14/15\n",
      "152/152 [==============================] - 8s 52ms/step - loss: 1.3879 - val_loss: 0.0666\n",
      "Epoch 15/15\n",
      "152/152 [==============================] - 8s 52ms/step - loss: 1.3876 - val_loss: 0.0683\n"
     ]
    },
    {
     "name": "stderr",
     "output_type": "stream",
     "text": [
      "WARNING:absl:Found untraced functions such as lstm_cell_60_layer_call_fn, lstm_cell_60_layer_call_and_return_conditional_losses while saving (showing 2 of 2). These functions will not be directly callable after loading.\n"
     ]
    },
    {
     "name": "stdout",
     "output_type": "stream",
     "text": [
      "INFO:tensorflow:Assets written to: Walk_forward/models/day55\\assets\n"
     ]
    },
    {
     "name": "stderr",
     "output_type": "stream",
     "text": [
      "INFO:tensorflow:Assets written to: Walk_forward/models/day55\\assets\n",
      "WARNING:absl:<keras.layers.recurrent.LSTMCell object at 0x000001D226280760> has the same name 'LSTMCell' as a built-in Keras object. Consider renaming <class 'keras.layers.recurrent.LSTMCell'> to avoid naming conflicts when loading with `tf.keras.models.load_model`. If renaming is not possible, pass the object in the `custom_objects` parameter of the load function.\n"
     ]
    },
    {
     "name": "stdout",
     "output_type": "stream",
     "text": [
      "152/152 [==============================] - 4s 21ms/step\n",
      "65/65 [==============================] - 1s 19ms/step\n"
     ]
    },
    {
     "name": "stderr",
     "output_type": "stream",
     "text": [
      "D:\\Anaconda\\lib\\site-packages\\pandas\\core\\frame.py:3678: SettingWithCopyWarning: \n",
      "A value is trying to be set on a copy of a slice from a DataFrame.\n",
      "Try using .loc[row_indexer,col_indexer] = value instead\n",
      "\n",
      "See the caveats in the documentation: https://pandas.pydata.org/pandas-docs/stable/user_guide/indexing.html#returning-a-view-versus-a-copy\n",
      "  self[col] = igetitem(value, i)\n"
     ]
    },
    {
     "name": "stdout",
     "output_type": "stream",
     "text": [
      "Epoch 1/15\n",
      "152/152 [==============================] - 11s 58ms/step - loss: 1.5309 - val_loss: 0.1797\n",
      "Epoch 2/15\n",
      "152/152 [==============================] - 8s 53ms/step - loss: 1.4578 - val_loss: 0.1695\n",
      "Epoch 3/15\n",
      "152/152 [==============================] - 8s 53ms/step - loss: 1.4391 - val_loss: 0.1546\n",
      "Epoch 4/15\n",
      "152/152 [==============================] - 8s 52ms/step - loss: 1.4242 - val_loss: 0.1546\n",
      "Epoch 5/15\n",
      "152/152 [==============================] - 8s 52ms/step - loss: 1.4172 - val_loss: 0.1439\n",
      "Epoch 6/15\n",
      "152/152 [==============================] - 8s 52ms/step - loss: 1.4084 - val_loss: 0.1466\n",
      "Epoch 7/15\n",
      "152/152 [==============================] - 8s 52ms/step - loss: 1.4080 - val_loss: 0.1382\n",
      "Epoch 8/15\n",
      "152/152 [==============================] - 8s 52ms/step - loss: 1.3973 - val_loss: 0.1445\n",
      "Epoch 9/15\n",
      "152/152 [==============================] - 8s 52ms/step - loss: 1.3903 - val_loss: 0.1354\n",
      "Epoch 10/15\n",
      "152/152 [==============================] - 8s 52ms/step - loss: 1.3865 - val_loss: 0.1390\n",
      "Epoch 11/15\n",
      "152/152 [==============================] - 8s 52ms/step - loss: 1.3918 - val_loss: 0.1344\n",
      "Epoch 12/15\n",
      "152/152 [==============================] - 8s 52ms/step - loss: 1.3789 - val_loss: 0.1351\n",
      "Epoch 13/15\n",
      "152/152 [==============================] - 8s 52ms/step - loss: 1.3810 - val_loss: 0.1616\n",
      "Epoch 14/15\n",
      "152/152 [==============================] - 8s 52ms/step - loss: 1.3812 - val_loss: 0.1348\n",
      "Epoch 15/15\n",
      "152/152 [==============================] - 8s 55ms/step - loss: 1.3822 - val_loss: 0.1333\n"
     ]
    },
    {
     "name": "stderr",
     "output_type": "stream",
     "text": [
      "WARNING:absl:Found untraced functions such as lstm_cell_61_layer_call_fn, lstm_cell_61_layer_call_and_return_conditional_losses while saving (showing 2 of 2). These functions will not be directly callable after loading.\n"
     ]
    },
    {
     "name": "stdout",
     "output_type": "stream",
     "text": [
      "INFO:tensorflow:Assets written to: Walk_forward/models/day56\\assets\n"
     ]
    },
    {
     "name": "stderr",
     "output_type": "stream",
     "text": [
      "INFO:tensorflow:Assets written to: Walk_forward/models/day56\\assets\n",
      "WARNING:absl:<keras.layers.recurrent.LSTMCell object at 0x000001D2263BEB50> has the same name 'LSTMCell' as a built-in Keras object. Consider renaming <class 'keras.layers.recurrent.LSTMCell'> to avoid naming conflicts when loading with `tf.keras.models.load_model`. If renaming is not possible, pass the object in the `custom_objects` parameter of the load function.\n"
     ]
    },
    {
     "name": "stdout",
     "output_type": "stream",
     "text": [
      "152/152 [==============================] - 4s 21ms/step\n",
      "65/65 [==============================] - 1s 20ms/step\n"
     ]
    },
    {
     "name": "stderr",
     "output_type": "stream",
     "text": [
      "D:\\Anaconda\\lib\\site-packages\\pandas\\core\\frame.py:3678: SettingWithCopyWarning: \n",
      "A value is trying to be set on a copy of a slice from a DataFrame.\n",
      "Try using .loc[row_indexer,col_indexer] = value instead\n",
      "\n",
      "See the caveats in the documentation: https://pandas.pydata.org/pandas-docs/stable/user_guide/indexing.html#returning-a-view-versus-a-copy\n",
      "  self[col] = igetitem(value, i)\n"
     ]
    },
    {
     "name": "stdout",
     "output_type": "stream",
     "text": [
      "Epoch 1/15\n",
      "152/152 [==============================] - 11s 57ms/step - loss: 1.5191 - val_loss: 0.1709\n",
      "Epoch 2/15\n",
      "152/152 [==============================] - 8s 53ms/step - loss: 1.4584 - val_loss: 0.1620\n",
      "Epoch 3/15\n",
      "152/152 [==============================] - 8s 53ms/step - loss: 1.4342 - val_loss: 0.1493\n",
      "Epoch 4/15\n",
      "152/152 [==============================] - 8s 53ms/step - loss: 1.4181 - val_loss: 0.1457\n",
      "Epoch 5/15\n",
      "152/152 [==============================] - 8s 52ms/step - loss: 1.4009 - val_loss: 0.1448\n",
      "Epoch 6/15\n",
      "152/152 [==============================] - 8s 53ms/step - loss: 1.3896 - val_loss: 0.1484\n",
      "Epoch 7/15\n",
      "152/152 [==============================] - 8s 52ms/step - loss: 1.3851 - val_loss: 0.1347\n",
      "Epoch 8/15\n",
      "152/152 [==============================] - 8s 53ms/step - loss: 1.3812 - val_loss: 0.1334\n",
      "Epoch 9/15\n",
      "152/152 [==============================] - 8s 52ms/step - loss: 1.3814 - val_loss: 0.1358\n",
      "Epoch 10/15\n",
      "152/152 [==============================] - 8s 52ms/step - loss: 1.3756 - val_loss: 0.1347\n",
      "Epoch 11/15\n",
      "152/152 [==============================] - 8s 52ms/step - loss: 1.3756 - val_loss: 0.1356\n",
      "Epoch 12/15\n",
      "152/152 [==============================] - 8s 52ms/step - loss: 1.3741 - val_loss: 0.1406\n",
      "Epoch 13/15\n",
      "152/152 [==============================] - 8s 52ms/step - loss: 1.3723 - val_loss: 0.1346\n",
      "Epoch 14/15\n",
      "152/152 [==============================] - 8s 52ms/step - loss: 1.3727 - val_loss: 0.1387\n",
      "Epoch 15/15\n",
      "152/152 [==============================] - 8s 52ms/step - loss: 1.3714 - val_loss: 0.1348\n"
     ]
    },
    {
     "name": "stderr",
     "output_type": "stream",
     "text": [
      "WARNING:absl:Found untraced functions such as lstm_cell_62_layer_call_fn, lstm_cell_62_layer_call_and_return_conditional_losses while saving (showing 2 of 2). These functions will not be directly callable after loading.\n"
     ]
    },
    {
     "name": "stdout",
     "output_type": "stream",
     "text": [
      "INFO:tensorflow:Assets written to: Walk_forward/models/day57\\assets\n"
     ]
    },
    {
     "name": "stderr",
     "output_type": "stream",
     "text": [
      "INFO:tensorflow:Assets written to: Walk_forward/models/day57\\assets\n",
      "WARNING:absl:<keras.layers.recurrent.LSTMCell object at 0x000001D248954160> has the same name 'LSTMCell' as a built-in Keras object. Consider renaming <class 'keras.layers.recurrent.LSTMCell'> to avoid naming conflicts when loading with `tf.keras.models.load_model`. If renaming is not possible, pass the object in the `custom_objects` parameter of the load function.\n"
     ]
    },
    {
     "name": "stdout",
     "output_type": "stream",
     "text": [
      "152/152 [==============================] - 4s 21ms/step\n",
      "65/65 [==============================] - 1s 19ms/step\n"
     ]
    },
    {
     "name": "stderr",
     "output_type": "stream",
     "text": [
      "D:\\Anaconda\\lib\\site-packages\\pandas\\core\\frame.py:3678: SettingWithCopyWarning: \n",
      "A value is trying to be set on a copy of a slice from a DataFrame.\n",
      "Try using .loc[row_indexer,col_indexer] = value instead\n",
      "\n",
      "See the caveats in the documentation: https://pandas.pydata.org/pandas-docs/stable/user_guide/indexing.html#returning-a-view-versus-a-copy\n",
      "  self[col] = igetitem(value, i)\n"
     ]
    },
    {
     "name": "stdout",
     "output_type": "stream",
     "text": [
      "Epoch 1/15\n",
      "152/152 [==============================] - 11s 57ms/step - loss: 1.5614 - val_loss: 0.1605\n",
      "Epoch 2/15\n",
      "152/152 [==============================] - 8s 53ms/step - loss: 1.4796 - val_loss: 0.1497\n",
      "Epoch 3/15\n",
      "152/152 [==============================] - 8s 53ms/step - loss: 1.4527 - val_loss: 0.1484\n",
      "Epoch 4/15\n",
      "152/152 [==============================] - 8s 53ms/step - loss: 1.4352 - val_loss: 0.1396\n",
      "Epoch 5/15\n",
      "152/152 [==============================] - 8s 53ms/step - loss: 1.4220 - val_loss: 0.1355\n",
      "Epoch 6/15\n",
      "152/152 [==============================] - 8s 53ms/step - loss: 1.4115 - val_loss: 0.1318\n",
      "Epoch 7/15\n",
      "152/152 [==============================] - 8s 52ms/step - loss: 1.4013 - val_loss: 0.1249\n",
      "Epoch 8/15\n",
      "152/152 [==============================] - 8s 52ms/step - loss: 1.3942 - val_loss: 0.1244\n",
      "Epoch 9/15\n",
      "152/152 [==============================] - 8s 52ms/step - loss: 1.3888 - val_loss: 0.1216\n",
      "Epoch 10/15\n",
      "152/152 [==============================] - 8s 52ms/step - loss: 1.3839 - val_loss: 0.1409\n",
      "Epoch 11/15\n",
      "152/152 [==============================] - 8s 52ms/step - loss: 1.3900 - val_loss: 0.1195\n",
      "Epoch 12/15\n",
      "152/152 [==============================] - 8s 53ms/step - loss: 1.3801 - val_loss: 0.1195\n",
      "Epoch 13/15\n",
      "152/152 [==============================] - 8s 52ms/step - loss: 1.3792 - val_loss: 0.1193\n",
      "Epoch 14/15\n",
      "152/152 [==============================] - 8s 52ms/step - loss: 1.3766 - val_loss: 0.1193\n",
      "Epoch 15/15\n",
      "152/152 [==============================] - 8s 52ms/step - loss: 1.3765 - val_loss: 0.1197\n"
     ]
    },
    {
     "name": "stderr",
     "output_type": "stream",
     "text": [
      "WARNING:absl:Found untraced functions such as lstm_cell_63_layer_call_fn, lstm_cell_63_layer_call_and_return_conditional_losses while saving (showing 2 of 2). These functions will not be directly callable after loading.\n"
     ]
    },
    {
     "name": "stdout",
     "output_type": "stream",
     "text": [
      "INFO:tensorflow:Assets written to: Walk_forward/models/day58\\assets\n"
     ]
    },
    {
     "name": "stderr",
     "output_type": "stream",
     "text": [
      "INFO:tensorflow:Assets written to: Walk_forward/models/day58\\assets\n",
      "WARNING:absl:<keras.layers.recurrent.LSTMCell object at 0x000001D1D30A9B80> has the same name 'LSTMCell' as a built-in Keras object. Consider renaming <class 'keras.layers.recurrent.LSTMCell'> to avoid naming conflicts when loading with `tf.keras.models.load_model`. If renaming is not possible, pass the object in the `custom_objects` parameter of the load function.\n"
     ]
    },
    {
     "name": "stdout",
     "output_type": "stream",
     "text": [
      "152/152 [==============================] - 4s 21ms/step\n",
      "65/65 [==============================] - 1s 20ms/step\n"
     ]
    },
    {
     "name": "stderr",
     "output_type": "stream",
     "text": [
      "D:\\Anaconda\\lib\\site-packages\\pandas\\core\\frame.py:3678: SettingWithCopyWarning: \n",
      "A value is trying to be set on a copy of a slice from a DataFrame.\n",
      "Try using .loc[row_indexer,col_indexer] = value instead\n",
      "\n",
      "See the caveats in the documentation: https://pandas.pydata.org/pandas-docs/stable/user_guide/indexing.html#returning-a-view-versus-a-copy\n",
      "  self[col] = igetitem(value, i)\n"
     ]
    },
    {
     "name": "stdout",
     "output_type": "stream",
     "text": [
      "Epoch 1/15\n",
      "152/152 [==============================] - 11s 61ms/step - loss: 1.4737 - val_loss: 0.2306\n",
      "Epoch 2/15\n",
      "152/152 [==============================] - 8s 53ms/step - loss: 1.3810 - val_loss: 0.2145\n",
      "Epoch 3/15\n",
      "152/152 [==============================] - 8s 52ms/step - loss: 1.3586 - val_loss: 0.2050\n",
      "Epoch 4/15\n",
      "152/152 [==============================] - 8s 53ms/step - loss: 1.3465 - val_loss: 0.1958\n",
      "Epoch 5/15\n",
      "152/152 [==============================] - 8s 53ms/step - loss: 1.3345 - val_loss: 0.1865\n",
      "Epoch 6/15\n",
      "152/152 [==============================] - 8s 55ms/step - loss: 1.3235 - val_loss: 0.1788\n",
      "Epoch 7/15\n",
      "152/152 [==============================] - 8s 54ms/step - loss: 1.3244 - val_loss: 0.1787\n",
      "Epoch 8/15\n",
      "152/152 [==============================] - 8s 52ms/step - loss: 1.3153 - val_loss: 0.1914\n",
      "Epoch 9/15\n",
      "152/152 [==============================] - 8s 52ms/step - loss: 1.3160 - val_loss: 0.1754\n",
      "Epoch 10/15\n",
      "152/152 [==============================] - 8s 53ms/step - loss: 1.3104 - val_loss: 0.1742\n",
      "Epoch 11/15\n",
      "152/152 [==============================] - 8s 52ms/step - loss: 1.3113 - val_loss: 0.1720\n",
      "Epoch 12/15\n",
      "152/152 [==============================] - 8s 53ms/step - loss: 1.3094 - val_loss: 0.1735\n",
      "Epoch 13/15\n",
      "152/152 [==============================] - 8s 52ms/step - loss: 1.3080 - val_loss: 0.1763\n",
      "Epoch 14/15\n",
      "152/152 [==============================] - 8s 52ms/step - loss: 1.3072 - val_loss: 0.1727\n",
      "Epoch 15/15\n",
      "152/152 [==============================] - 8s 53ms/step - loss: 1.3083 - val_loss: 0.1721\n"
     ]
    },
    {
     "name": "stderr",
     "output_type": "stream",
     "text": [
      "WARNING:absl:Found untraced functions such as lstm_cell_64_layer_call_fn, lstm_cell_64_layer_call_and_return_conditional_losses while saving (showing 2 of 2). These functions will not be directly callable after loading.\n"
     ]
    },
    {
     "name": "stdout",
     "output_type": "stream",
     "text": [
      "INFO:tensorflow:Assets written to: Walk_forward/models/day59\\assets\n"
     ]
    },
    {
     "name": "stderr",
     "output_type": "stream",
     "text": [
      "INFO:tensorflow:Assets written to: Walk_forward/models/day59\\assets\n",
      "WARNING:absl:<keras.layers.recurrent.LSTMCell object at 0x000001D2228918E0> has the same name 'LSTMCell' as a built-in Keras object. Consider renaming <class 'keras.layers.recurrent.LSTMCell'> to avoid naming conflicts when loading with `tf.keras.models.load_model`. If renaming is not possible, pass the object in the `custom_objects` parameter of the load function.\n"
     ]
    },
    {
     "name": "stdout",
     "output_type": "stream",
     "text": [
      "152/152 [==============================] - 4s 21ms/step\n",
      "65/65 [==============================] - 1s 19ms/step\n"
     ]
    },
    {
     "name": "stderr",
     "output_type": "stream",
     "text": [
      "D:\\Anaconda\\lib\\site-packages\\pandas\\core\\frame.py:3678: SettingWithCopyWarning: \n",
      "A value is trying to be set on a copy of a slice from a DataFrame.\n",
      "Try using .loc[row_indexer,col_indexer] = value instead\n",
      "\n",
      "See the caveats in the documentation: https://pandas.pydata.org/pandas-docs/stable/user_guide/indexing.html#returning-a-view-versus-a-copy\n",
      "  self[col] = igetitem(value, i)\n"
     ]
    },
    {
     "name": "stdout",
     "output_type": "stream",
     "text": [
      "Epoch 1/15\n",
      "152/152 [==============================] - 11s 57ms/step - loss: 1.4432 - val_loss: 0.2266\n",
      "Epoch 2/15\n",
      "152/152 [==============================] - 8s 52ms/step - loss: 1.3656 - val_loss: 0.2001\n",
      "Epoch 3/15\n",
      "152/152 [==============================] - 8s 52ms/step - loss: 1.3450 - val_loss: 0.1857\n",
      "Epoch 4/15\n",
      "152/152 [==============================] - 8s 55ms/step - loss: 1.3327 - val_loss: 0.1799\n",
      "Epoch 5/15\n",
      "152/152 [==============================] - 8s 56ms/step - loss: 1.3269 - val_loss: 0.1751\n",
      "Epoch 6/15\n",
      "152/152 [==============================] - 8s 55ms/step - loss: 1.3220 - val_loss: 0.1691\n",
      "Epoch 7/15\n",
      "152/152 [==============================] - 8s 54ms/step - loss: 1.3149 - val_loss: 0.1672\n",
      "Epoch 8/15\n",
      "152/152 [==============================] - 8s 53ms/step - loss: 1.3151 - val_loss: 0.1670\n",
      "Epoch 9/15\n",
      "152/152 [==============================] - 8s 53ms/step - loss: 1.3140 - val_loss: 0.1660\n",
      "Epoch 10/15\n",
      "152/152 [==============================] - 8s 56ms/step - loss: 1.3175 - val_loss: 0.1732\n",
      "Epoch 11/15\n",
      "152/152 [==============================] - 8s 53ms/step - loss: 1.3108 - val_loss: 0.1653\n",
      "Epoch 12/15\n",
      "152/152 [==============================] - 9s 57ms/step - loss: 1.3098 - val_loss: 0.1770\n",
      "Epoch 13/15\n",
      "152/152 [==============================] - 8s 55ms/step - loss: 1.3123 - val_loss: 0.1655\n",
      "Epoch 14/15\n",
      "152/152 [==============================] - 8s 53ms/step - loss: 1.3090 - val_loss: 0.1651\n",
      "Epoch 15/15\n",
      "152/152 [==============================] - 8s 53ms/step - loss: 1.3075 - val_loss: 0.1653\n"
     ]
    },
    {
     "name": "stderr",
     "output_type": "stream",
     "text": [
      "WARNING:absl:Found untraced functions such as lstm_cell_65_layer_call_fn, lstm_cell_65_layer_call_and_return_conditional_losses while saving (showing 2 of 2). These functions will not be directly callable after loading.\n"
     ]
    },
    {
     "name": "stdout",
     "output_type": "stream",
     "text": [
      "INFO:tensorflow:Assets written to: Walk_forward/models/day60\\assets\n"
     ]
    },
    {
     "name": "stderr",
     "output_type": "stream",
     "text": [
      "INFO:tensorflow:Assets written to: Walk_forward/models/day60\\assets\n",
      "WARNING:absl:<keras.layers.recurrent.LSTMCell object at 0x000001D24CD12FA0> has the same name 'LSTMCell' as a built-in Keras object. Consider renaming <class 'keras.layers.recurrent.LSTMCell'> to avoid naming conflicts when loading with `tf.keras.models.load_model`. If renaming is not possible, pass the object in the `custom_objects` parameter of the load function.\n"
     ]
    },
    {
     "name": "stdout",
     "output_type": "stream",
     "text": [
      "152/152 [==============================] - 4s 20ms/step\n",
      "65/65 [==============================] - 1s 20ms/step\n"
     ]
    },
    {
     "name": "stderr",
     "output_type": "stream",
     "text": [
      "D:\\Anaconda\\lib\\site-packages\\pandas\\core\\frame.py:3678: SettingWithCopyWarning: \n",
      "A value is trying to be set on a copy of a slice from a DataFrame.\n",
      "Try using .loc[row_indexer,col_indexer] = value instead\n",
      "\n",
      "See the caveats in the documentation: https://pandas.pydata.org/pandas-docs/stable/user_guide/indexing.html#returning-a-view-versus-a-copy\n",
      "  self[col] = igetitem(value, i)\n"
     ]
    },
    {
     "name": "stdout",
     "output_type": "stream",
     "text": [
      "Epoch 1/15\n",
      "152/152 [==============================] - 11s 57ms/step - loss: 1.3776 - val_loss: 0.2016\n",
      "Epoch 2/15\n",
      "152/152 [==============================] - 8s 54ms/step - loss: 1.3472 - val_loss: 0.1875\n",
      "Epoch 3/15\n",
      "152/152 [==============================] - 8s 54ms/step - loss: 1.3326 - val_loss: 0.1816\n",
      "Epoch 4/15\n",
      "152/152 [==============================] - 8s 54ms/step - loss: 1.3225 - val_loss: 0.1753\n",
      "Epoch 5/15\n",
      "152/152 [==============================] - 8s 54ms/step - loss: 1.3155 - val_loss: 0.1717\n",
      "Epoch 6/15\n",
      "152/152 [==============================] - 8s 53ms/step - loss: 1.3093 - val_loss: 0.1724\n",
      "Epoch 7/15\n",
      "152/152 [==============================] - 8s 54ms/step - loss: 1.3068 - val_loss: 0.1677\n",
      "Epoch 8/15\n",
      "152/152 [==============================] - 8s 53ms/step - loss: 1.3083 - val_loss: 0.1666\n",
      "Epoch 9/15\n",
      "152/152 [==============================] - 8s 54ms/step - loss: 1.3014 - val_loss: 0.1647\n",
      "Epoch 10/15\n",
      "152/152 [==============================] - 9s 56ms/step - loss: 1.3010 - val_loss: 0.1650\n",
      "Epoch 11/15\n",
      "152/152 [==============================] - 8s 54ms/step - loss: 1.3018 - val_loss: 0.1641\n",
      "Epoch 12/15\n",
      "152/152 [==============================] - 8s 56ms/step - loss: 1.3008 - val_loss: 0.1655\n",
      "Epoch 13/15\n",
      "152/152 [==============================] - 8s 54ms/step - loss: 1.2983 - val_loss: 0.1648\n",
      "Epoch 14/15\n",
      "152/152 [==============================] - 8s 53ms/step - loss: 1.2982 - val_loss: 0.1642\n",
      "Epoch 15/15\n",
      "152/152 [==============================] - 8s 53ms/step - loss: 1.2971 - val_loss: 0.1632\n"
     ]
    },
    {
     "name": "stderr",
     "output_type": "stream",
     "text": [
      "WARNING:absl:Found untraced functions such as lstm_cell_66_layer_call_fn, lstm_cell_66_layer_call_and_return_conditional_losses while saving (showing 2 of 2). These functions will not be directly callable after loading.\n"
     ]
    },
    {
     "name": "stdout",
     "output_type": "stream",
     "text": [
      "INFO:tensorflow:Assets written to: Walk_forward/models/day61\\assets\n"
     ]
    },
    {
     "name": "stderr",
     "output_type": "stream",
     "text": [
      "INFO:tensorflow:Assets written to: Walk_forward/models/day61\\assets\n",
      "WARNING:absl:<keras.layers.recurrent.LSTMCell object at 0x000001D238305F10> has the same name 'LSTMCell' as a built-in Keras object. Consider renaming <class 'keras.layers.recurrent.LSTMCell'> to avoid naming conflicts when loading with `tf.keras.models.load_model`. If renaming is not possible, pass the object in the `custom_objects` parameter of the load function.\n"
     ]
    },
    {
     "name": "stdout",
     "output_type": "stream",
     "text": [
      "152/152 [==============================] - 4s 22ms/step\n",
      "65/65 [==============================] - 1s 20ms/step\n"
     ]
    },
    {
     "name": "stderr",
     "output_type": "stream",
     "text": [
      "D:\\Anaconda\\lib\\site-packages\\pandas\\core\\frame.py:3678: SettingWithCopyWarning: \n",
      "A value is trying to be set on a copy of a slice from a DataFrame.\n",
      "Try using .loc[row_indexer,col_indexer] = value instead\n",
      "\n",
      "See the caveats in the documentation: https://pandas.pydata.org/pandas-docs/stable/user_guide/indexing.html#returning-a-view-versus-a-copy\n",
      "  self[col] = igetitem(value, i)\n"
     ]
    },
    {
     "name": "stdout",
     "output_type": "stream",
     "text": [
      "Epoch 1/15\n",
      "152/152 [==============================] - 11s 57ms/step - loss: 1.3055 - val_loss: 0.2654\n",
      "Epoch 2/15\n",
      "152/152 [==============================] - 8s 54ms/step - loss: 1.2870 - val_loss: 0.2519\n",
      "Epoch 3/15\n",
      "152/152 [==============================] - 8s 54ms/step - loss: 1.2811 - val_loss: 0.2446\n",
      "Epoch 4/15\n",
      "152/152 [==============================] - 8s 54ms/step - loss: 1.2768 - val_loss: 0.2371\n",
      "Epoch 5/15\n",
      "152/152 [==============================] - 8s 53ms/step - loss: 1.2727 - val_loss: 0.2453\n",
      "Epoch 6/15\n",
      "152/152 [==============================] - 8s 53ms/step - loss: 1.2718 - val_loss: 0.2305\n",
      "Epoch 7/15\n",
      "152/152 [==============================] - 8s 54ms/step - loss: 1.2680 - val_loss: 0.2269\n",
      "Epoch 8/15\n",
      "152/152 [==============================] - 8s 54ms/step - loss: 1.2648 - val_loss: 0.2329\n",
      "Epoch 9/15\n",
      "152/152 [==============================] - 8s 53ms/step - loss: 1.2674 - val_loss: 0.2245\n",
      "Epoch 10/15\n",
      "152/152 [==============================] - 8s 54ms/step - loss: 1.2657 - val_loss: 0.2231\n",
      "Epoch 11/15\n",
      "152/152 [==============================] - 8s 54ms/step - loss: 1.2635 - val_loss: 0.2227\n",
      "Epoch 12/15\n",
      "152/152 [==============================] - 9s 57ms/step - loss: 1.2626 - val_loss: 0.2235\n",
      "Epoch 13/15\n",
      "152/152 [==============================] - 8s 55ms/step - loss: 1.2614 - val_loss: 0.2244\n",
      "Epoch 14/15\n",
      "152/152 [==============================] - 9s 57ms/step - loss: 1.2636 - val_loss: 0.2225\n",
      "Epoch 15/15\n",
      "152/152 [==============================] - 8s 55ms/step - loss: 1.2611 - val_loss: 0.2212\n"
     ]
    },
    {
     "name": "stderr",
     "output_type": "stream",
     "text": [
      "WARNING:absl:Found untraced functions such as lstm_cell_67_layer_call_fn, lstm_cell_67_layer_call_and_return_conditional_losses while saving (showing 2 of 2). These functions will not be directly callable after loading.\n"
     ]
    },
    {
     "name": "stdout",
     "output_type": "stream",
     "text": [
      "INFO:tensorflow:Assets written to: Walk_forward/models/day62\\assets\n"
     ]
    },
    {
     "name": "stderr",
     "output_type": "stream",
     "text": [
      "INFO:tensorflow:Assets written to: Walk_forward/models/day62\\assets\n",
      "WARNING:absl:<keras.layers.recurrent.LSTMCell object at 0x000001D24B31F2B0> has the same name 'LSTMCell' as a built-in Keras object. Consider renaming <class 'keras.layers.recurrent.LSTMCell'> to avoid naming conflicts when loading with `tf.keras.models.load_model`. If renaming is not possible, pass the object in the `custom_objects` parameter of the load function.\n"
     ]
    },
    {
     "name": "stdout",
     "output_type": "stream",
     "text": [
      "152/152 [==============================] - 4s 21ms/step\n",
      "65/65 [==============================] - 1s 20ms/step\n"
     ]
    },
    {
     "name": "stderr",
     "output_type": "stream",
     "text": [
      "D:\\Anaconda\\lib\\site-packages\\pandas\\core\\frame.py:3678: SettingWithCopyWarning: \n",
      "A value is trying to be set on a copy of a slice from a DataFrame.\n",
      "Try using .loc[row_indexer,col_indexer] = value instead\n",
      "\n",
      "See the caveats in the documentation: https://pandas.pydata.org/pandas-docs/stable/user_guide/indexing.html#returning-a-view-versus-a-copy\n",
      "  self[col] = igetitem(value, i)\n"
     ]
    },
    {
     "name": "stdout",
     "output_type": "stream",
     "text": [
      "Epoch 1/15\n",
      "152/152 [==============================] - 11s 57ms/step - loss: 1.4712 - val_loss: 0.2677\n",
      "Epoch 2/15\n",
      "152/152 [==============================] - 8s 54ms/step - loss: 1.3323 - val_loss: 0.2257\n",
      "Epoch 3/15\n",
      "152/152 [==============================] - 8s 55ms/step - loss: 1.3135 - val_loss: 0.2021\n",
      "Epoch 4/15\n",
      "152/152 [==============================] - 8s 54ms/step - loss: 1.3029 - val_loss: 0.1897\n",
      "Epoch 5/15\n",
      "152/152 [==============================] - 8s 54ms/step - loss: 1.2975 - val_loss: 0.1813\n",
      "Epoch 6/15\n",
      "152/152 [==============================] - 8s 54ms/step - loss: 1.2910 - val_loss: 0.1794\n",
      "Epoch 7/15\n",
      "152/152 [==============================] - 8s 54ms/step - loss: 1.2869 - val_loss: 0.1692\n",
      "Epoch 8/15\n",
      "152/152 [==============================] - 8s 54ms/step - loss: 1.2853 - val_loss: 0.1657\n",
      "Epoch 9/15\n",
      "152/152 [==============================] - 8s 54ms/step - loss: 1.2824 - val_loss: 0.1626\n",
      "Epoch 10/15\n",
      "152/152 [==============================] - 8s 54ms/step - loss: 1.2814 - val_loss: 0.1613\n",
      "Epoch 11/15\n",
      "152/152 [==============================] - 8s 54ms/step - loss: 1.2777 - val_loss: 0.1686\n",
      "Epoch 12/15\n",
      "152/152 [==============================] - 8s 54ms/step - loss: 1.2768 - val_loss: 0.1572\n",
      "Epoch 13/15\n",
      "152/152 [==============================] - 8s 54ms/step - loss: 1.2776 - val_loss: 0.1575\n",
      "Epoch 14/15\n",
      "152/152 [==============================] - 8s 53ms/step - loss: 1.2747 - val_loss: 0.1574\n",
      "Epoch 15/15\n",
      "152/152 [==============================] - 8s 53ms/step - loss: 1.2756 - val_loss: 0.1603\n"
     ]
    },
    {
     "name": "stderr",
     "output_type": "stream",
     "text": [
      "WARNING:absl:Found untraced functions such as lstm_cell_68_layer_call_fn, lstm_cell_68_layer_call_and_return_conditional_losses while saving (showing 2 of 2). These functions will not be directly callable after loading.\n"
     ]
    },
    {
     "name": "stdout",
     "output_type": "stream",
     "text": [
      "INFO:tensorflow:Assets written to: Walk_forward/models/day63\\assets\n"
     ]
    },
    {
     "name": "stderr",
     "output_type": "stream",
     "text": [
      "INFO:tensorflow:Assets written to: Walk_forward/models/day63\\assets\n",
      "WARNING:absl:<keras.layers.recurrent.LSTMCell object at 0x000001D247ED4370> has the same name 'LSTMCell' as a built-in Keras object. Consider renaming <class 'keras.layers.recurrent.LSTMCell'> to avoid naming conflicts when loading with `tf.keras.models.load_model`. If renaming is not possible, pass the object in the `custom_objects` parameter of the load function.\n"
     ]
    },
    {
     "name": "stdout",
     "output_type": "stream",
     "text": [
      "152/152 [==============================] - 4s 21ms/step\n",
      "65/65 [==============================] - 1s 20ms/step\n"
     ]
    },
    {
     "name": "stderr",
     "output_type": "stream",
     "text": [
      "D:\\Anaconda\\lib\\site-packages\\pandas\\core\\frame.py:3678: SettingWithCopyWarning: \n",
      "A value is trying to be set on a copy of a slice from a DataFrame.\n",
      "Try using .loc[row_indexer,col_indexer] = value instead\n",
      "\n",
      "See the caveats in the documentation: https://pandas.pydata.org/pandas-docs/stable/user_guide/indexing.html#returning-a-view-versus-a-copy\n",
      "  self[col] = igetitem(value, i)\n"
     ]
    },
    {
     "name": "stdout",
     "output_type": "stream",
     "text": [
      "Epoch 1/15\n",
      "152/152 [==============================] - 12s 57ms/step - loss: 1.3700 - val_loss: 0.2739\n",
      "Epoch 2/15\n",
      "152/152 [==============================] - 8s 54ms/step - loss: 1.3138 - val_loss: 0.2436\n",
      "Epoch 3/15\n",
      "152/152 [==============================] - 8s 54ms/step - loss: 1.3026 - val_loss: 0.2251\n",
      "Epoch 4/15\n",
      "152/152 [==============================] - 8s 54ms/step - loss: 1.2934 - val_loss: 0.2223\n",
      "Epoch 5/15\n",
      "152/152 [==============================] - 8s 54ms/step - loss: 1.2852 - val_loss: 0.2006\n",
      "Epoch 6/15\n",
      "152/152 [==============================] - 8s 53ms/step - loss: 1.2830 - val_loss: 0.1887\n",
      "Epoch 7/15\n",
      "152/152 [==============================] - 8s 53ms/step - loss: 1.2806 - val_loss: 0.1850\n",
      "Epoch 8/15\n",
      "152/152 [==============================] - 8s 54ms/step - loss: 1.2785 - val_loss: 0.1817\n",
      "Epoch 9/15\n",
      "152/152 [==============================] - 8s 53ms/step - loss: 1.2775 - val_loss: 0.1870\n",
      "Epoch 10/15\n",
      "152/152 [==============================] - 8s 53ms/step - loss: 1.2767 - val_loss: 0.1780\n",
      "Epoch 11/15\n",
      "152/152 [==============================] - 8s 53ms/step - loss: 1.2751 - val_loss: 0.1765\n",
      "Epoch 12/15\n",
      "152/152 [==============================] - 8s 54ms/step - loss: 1.2730 - val_loss: 0.1759\n",
      "Epoch 13/15\n",
      "152/152 [==============================] - 8s 54ms/step - loss: 1.2726 - val_loss: 0.1754\n",
      "Epoch 14/15\n",
      "152/152 [==============================] - 8s 53ms/step - loss: 1.2747 - val_loss: 0.1765\n",
      "Epoch 15/15\n",
      "152/152 [==============================] - 8s 53ms/step - loss: 1.2720 - val_loss: 0.1759\n"
     ]
    },
    {
     "name": "stderr",
     "output_type": "stream",
     "text": [
      "WARNING:absl:Found untraced functions such as lstm_cell_69_layer_call_fn, lstm_cell_69_layer_call_and_return_conditional_losses while saving (showing 2 of 2). These functions will not be directly callable after loading.\n"
     ]
    },
    {
     "name": "stdout",
     "output_type": "stream",
     "text": [
      "INFO:tensorflow:Assets written to: Walk_forward/models/day64\\assets\n"
     ]
    },
    {
     "name": "stderr",
     "output_type": "stream",
     "text": [
      "INFO:tensorflow:Assets written to: Walk_forward/models/day64\\assets\n",
      "WARNING:absl:<keras.layers.recurrent.LSTMCell object at 0x000001D2382E7580> has the same name 'LSTMCell' as a built-in Keras object. Consider renaming <class 'keras.layers.recurrent.LSTMCell'> to avoid naming conflicts when loading with `tf.keras.models.load_model`. If renaming is not possible, pass the object in the `custom_objects` parameter of the load function.\n"
     ]
    },
    {
     "name": "stdout",
     "output_type": "stream",
     "text": [
      "152/152 [==============================] - 4s 21ms/step\n",
      "65/65 [==============================] - 1s 20ms/step\n"
     ]
    },
    {
     "name": "stderr",
     "output_type": "stream",
     "text": [
      "D:\\Anaconda\\lib\\site-packages\\pandas\\core\\frame.py:3678: SettingWithCopyWarning: \n",
      "A value is trying to be set on a copy of a slice from a DataFrame.\n",
      "Try using .loc[row_indexer,col_indexer] = value instead\n",
      "\n",
      "See the caveats in the documentation: https://pandas.pydata.org/pandas-docs/stable/user_guide/indexing.html#returning-a-view-versus-a-copy\n",
      "  self[col] = igetitem(value, i)\n"
     ]
    },
    {
     "name": "stdout",
     "output_type": "stream",
     "text": [
      "Epoch 1/15\n",
      "152/152 [==============================] - 12s 62ms/step - loss: 0.1852 - val_loss: 0.2378\n",
      "Epoch 2/15\n",
      "152/152 [==============================] - 8s 54ms/step - loss: 0.1726 - val_loss: 0.2202\n",
      "Epoch 3/15\n",
      "152/152 [==============================] - 8s 54ms/step - loss: 0.1663 - val_loss: 0.2068\n",
      "Epoch 4/15\n",
      "152/152 [==============================] - 8s 53ms/step - loss: 0.1620 - val_loss: 0.1965\n",
      "Epoch 5/15\n",
      "152/152 [==============================] - 8s 53ms/step - loss: 0.1572 - val_loss: 0.1867\n",
      "Epoch 6/15\n",
      "152/152 [==============================] - 8s 53ms/step - loss: 0.1530 - val_loss: 0.1803\n",
      "Epoch 7/15\n",
      "152/152 [==============================] - 8s 53ms/step - loss: 0.1500 - val_loss: 0.1757\n",
      "Epoch 8/15\n",
      "152/152 [==============================] - 8s 53ms/step - loss: 0.1489 - val_loss: 0.1739\n",
      "Epoch 9/15\n",
      "152/152 [==============================] - 8s 53ms/step - loss: 0.1464 - val_loss: 0.1721\n",
      "Epoch 10/15\n",
      "152/152 [==============================] - 8s 53ms/step - loss: 0.1458 - val_loss: 0.1705\n",
      "Epoch 11/15\n",
      "152/152 [==============================] - 8s 53ms/step - loss: 0.1458 - val_loss: 0.1694\n",
      "Epoch 12/15\n",
      "152/152 [==============================] - 8s 54ms/step - loss: 0.1449 - val_loss: 0.1691\n",
      "Epoch 13/15\n",
      "152/152 [==============================] - 8s 53ms/step - loss: 0.1474 - val_loss: 0.1702\n",
      "Epoch 14/15\n",
      "152/152 [==============================] - 9s 56ms/step - loss: 0.1451 - val_loss: 0.1696\n",
      "Epoch 15/15\n",
      "152/152 [==============================] - 8s 53ms/step - loss: 0.1456 - val_loss: 0.1702\n"
     ]
    },
    {
     "name": "stderr",
     "output_type": "stream",
     "text": [
      "WARNING:absl:Found untraced functions such as lstm_cell_70_layer_call_fn, lstm_cell_70_layer_call_and_return_conditional_losses while saving (showing 2 of 2). These functions will not be directly callable after loading.\n"
     ]
    },
    {
     "name": "stdout",
     "output_type": "stream",
     "text": [
      "INFO:tensorflow:Assets written to: Walk_forward/models/day65\\assets\n"
     ]
    },
    {
     "name": "stderr",
     "output_type": "stream",
     "text": [
      "INFO:tensorflow:Assets written to: Walk_forward/models/day65\\assets\n",
      "WARNING:absl:<keras.layers.recurrent.LSTMCell object at 0x000001D1E5F4FA90> has the same name 'LSTMCell' as a built-in Keras object. Consider renaming <class 'keras.layers.recurrent.LSTMCell'> to avoid naming conflicts when loading with `tf.keras.models.load_model`. If renaming is not possible, pass the object in the `custom_objects` parameter of the load function.\n"
     ]
    },
    {
     "name": "stdout",
     "output_type": "stream",
     "text": [
      "152/152 [==============================] - 3s 20ms/step\n",
      "65/65 [==============================] - 1s 20ms/step\n"
     ]
    },
    {
     "name": "stderr",
     "output_type": "stream",
     "text": [
      "D:\\Anaconda\\lib\\site-packages\\pandas\\core\\frame.py:3678: SettingWithCopyWarning: \n",
      "A value is trying to be set on a copy of a slice from a DataFrame.\n",
      "Try using .loc[row_indexer,col_indexer] = value instead\n",
      "\n",
      "See the caveats in the documentation: https://pandas.pydata.org/pandas-docs/stable/user_guide/indexing.html#returning-a-view-versus-a-copy\n",
      "  self[col] = igetitem(value, i)\n"
     ]
    },
    {
     "name": "stdout",
     "output_type": "stream",
     "text": [
      "Epoch 1/15\n",
      "152/152 [==============================] - 11s 57ms/step - loss: 0.2167 - val_loss: 0.1734\n",
      "Epoch 2/15\n",
      "152/152 [==============================] - 8s 54ms/step - loss: 0.1960 - val_loss: 0.1553\n",
      "Epoch 3/15\n",
      "152/152 [==============================] - 8s 53ms/step - loss: 0.1908 - val_loss: 0.1426\n",
      "Epoch 4/15\n",
      "152/152 [==============================] - 8s 53ms/step - loss: 0.1824 - val_loss: 0.1335\n",
      "Epoch 5/15\n",
      "152/152 [==============================] - 8s 54ms/step - loss: 0.1789 - val_loss: 0.1260\n",
      "Epoch 6/15\n",
      "152/152 [==============================] - 8s 53ms/step - loss: 0.1752 - val_loss: 0.1211\n",
      "Epoch 7/15\n",
      "152/152 [==============================] - 8s 54ms/step - loss: 0.1731 - val_loss: 0.1186\n",
      "Epoch 8/15\n",
      "152/152 [==============================] - 8s 54ms/step - loss: 0.1712 - val_loss: 0.1144\n",
      "Epoch 9/15\n",
      "152/152 [==============================] - 8s 53ms/step - loss: 0.1712 - val_loss: 0.1135\n",
      "Epoch 10/15\n",
      "152/152 [==============================] - 8s 54ms/step - loss: 0.1699 - val_loss: 0.1127\n",
      "Epoch 11/15\n",
      "152/152 [==============================] - 8s 53ms/step - loss: 0.1700 - val_loss: 0.1134\n",
      "Epoch 12/15\n",
      "152/152 [==============================] - 8s 53ms/step - loss: 0.1692 - val_loss: 0.1135\n",
      "Epoch 13/15\n",
      "152/152 [==============================] - 8s 53ms/step - loss: 0.1701 - val_loss: 0.1133\n",
      "Epoch 14/15\n",
      "152/152 [==============================] - 8s 53ms/step - loss: 0.1698 - val_loss: 0.1134\n",
      "Epoch 15/15\n",
      "152/152 [==============================] - 8s 53ms/step - loss: 0.1691 - val_loss: 0.1130\n"
     ]
    },
    {
     "name": "stderr",
     "output_type": "stream",
     "text": [
      "WARNING:absl:Found untraced functions such as lstm_cell_71_layer_call_fn, lstm_cell_71_layer_call_and_return_conditional_losses while saving (showing 2 of 2). These functions will not be directly callable after loading.\n"
     ]
    },
    {
     "name": "stdout",
     "output_type": "stream",
     "text": [
      "INFO:tensorflow:Assets written to: Walk_forward/models/day66\\assets\n"
     ]
    },
    {
     "name": "stderr",
     "output_type": "stream",
     "text": [
      "INFO:tensorflow:Assets written to: Walk_forward/models/day66\\assets\n",
      "WARNING:absl:<keras.layers.recurrent.LSTMCell object at 0x000001CF5C726B20> has the same name 'LSTMCell' as a built-in Keras object. Consider renaming <class 'keras.layers.recurrent.LSTMCell'> to avoid naming conflicts when loading with `tf.keras.models.load_model`. If renaming is not possible, pass the object in the `custom_objects` parameter of the load function.\n"
     ]
    },
    {
     "name": "stdout",
     "output_type": "stream",
     "text": [
      "152/152 [==============================] - 4s 21ms/step\n",
      "65/65 [==============================] - 1s 20ms/step\n"
     ]
    },
    {
     "name": "stderr",
     "output_type": "stream",
     "text": [
      "D:\\Anaconda\\lib\\site-packages\\pandas\\core\\frame.py:3678: SettingWithCopyWarning: \n",
      "A value is trying to be set on a copy of a slice from a DataFrame.\n",
      "Try using .loc[row_indexer,col_indexer] = value instead\n",
      "\n",
      "See the caveats in the documentation: https://pandas.pydata.org/pandas-docs/stable/user_guide/indexing.html#returning-a-view-versus-a-copy\n",
      "  self[col] = igetitem(value, i)\n"
     ]
    },
    {
     "name": "stdout",
     "output_type": "stream",
     "text": [
      "Epoch 1/15\n",
      "152/152 [==============================] - 11s 58ms/step - loss: 0.2708 - val_loss: 0.1625\n",
      "Epoch 2/15\n",
      "152/152 [==============================] - 8s 53ms/step - loss: 0.2053 - val_loss: 0.1419\n",
      "Epoch 3/15\n",
      "152/152 [==============================] - 8s 53ms/step - loss: 0.1947 - val_loss: 0.1288\n",
      "Epoch 4/15\n",
      "152/152 [==============================] - 8s 54ms/step - loss: 0.1872 - val_loss: 0.1206\n",
      "Epoch 5/15\n",
      "152/152 [==============================] - 8s 53ms/step - loss: 0.1800 - val_loss: 0.1112\n",
      "Epoch 6/15\n",
      "152/152 [==============================] - 8s 54ms/step - loss: 0.1759 - val_loss: 0.1079\n",
      "Epoch 7/15\n",
      "152/152 [==============================] - 8s 54ms/step - loss: 0.1736 - val_loss: 0.1055\n",
      "Epoch 8/15\n",
      "152/152 [==============================] - 8s 53ms/step - loss: 0.1728 - val_loss: 0.1102\n",
      "Epoch 9/15\n",
      "152/152 [==============================] - 8s 53ms/step - loss: 0.1713 - val_loss: 0.1019\n",
      "Epoch 10/15\n",
      "152/152 [==============================] - 8s 53ms/step - loss: 0.1707 - val_loss: 0.1021\n",
      "Epoch 11/15\n",
      "152/152 [==============================] - 8s 53ms/step - loss: 0.1718 - val_loss: 0.1005\n",
      "Epoch 12/15\n",
      "152/152 [==============================] - 8s 54ms/step - loss: 0.1699 - val_loss: 0.1002\n",
      "Epoch 13/15\n",
      "152/152 [==============================] - 8s 54ms/step - loss: 0.1708 - val_loss: 0.0997\n",
      "Epoch 14/15\n",
      "152/152 [==============================] - 8s 53ms/step - loss: 0.1700 - val_loss: 0.1001\n",
      "Epoch 15/15\n",
      "152/152 [==============================] - 8s 54ms/step - loss: 0.1698 - val_loss: 0.0995\n"
     ]
    },
    {
     "name": "stderr",
     "output_type": "stream",
     "text": [
      "WARNING:absl:Found untraced functions such as lstm_cell_72_layer_call_fn, lstm_cell_72_layer_call_and_return_conditional_losses while saving (showing 2 of 2). These functions will not be directly callable after loading.\n"
     ]
    },
    {
     "name": "stdout",
     "output_type": "stream",
     "text": [
      "INFO:tensorflow:Assets written to: Walk_forward/models/day67\\assets\n"
     ]
    },
    {
     "name": "stderr",
     "output_type": "stream",
     "text": [
      "INFO:tensorflow:Assets written to: Walk_forward/models/day67\\assets\n",
      "WARNING:absl:<keras.layers.recurrent.LSTMCell object at 0x000001D24E640700> has the same name 'LSTMCell' as a built-in Keras object. Consider renaming <class 'keras.layers.recurrent.LSTMCell'> to avoid naming conflicts when loading with `tf.keras.models.load_model`. If renaming is not possible, pass the object in the `custom_objects` parameter of the load function.\n"
     ]
    },
    {
     "name": "stdout",
     "output_type": "stream",
     "text": [
      "152/152 [==============================] - 4s 20ms/step\n",
      "65/65 [==============================] - 1s 19ms/step\n"
     ]
    },
    {
     "name": "stderr",
     "output_type": "stream",
     "text": [
      "D:\\Anaconda\\lib\\site-packages\\pandas\\core\\frame.py:3678: SettingWithCopyWarning: \n",
      "A value is trying to be set on a copy of a slice from a DataFrame.\n",
      "Try using .loc[row_indexer,col_indexer] = value instead\n",
      "\n",
      "See the caveats in the documentation: https://pandas.pydata.org/pandas-docs/stable/user_guide/indexing.html#returning-a-view-versus-a-copy\n",
      "  self[col] = igetitem(value, i)\n"
     ]
    },
    {
     "name": "stdout",
     "output_type": "stream",
     "text": [
      "Epoch 1/15\n",
      "152/152 [==============================] - 11s 57ms/step - loss: 0.2149 - val_loss: 0.1328\n",
      "Epoch 2/15\n",
      "152/152 [==============================] - 8s 54ms/step - loss: 0.1909 - val_loss: 0.1227\n",
      "Epoch 3/15\n",
      "152/152 [==============================] - 8s 53ms/step - loss: 0.1841 - val_loss: 0.1145\n",
      "Epoch 4/15\n",
      "152/152 [==============================] - 8s 54ms/step - loss: 0.1763 - val_loss: 0.1056\n",
      "Epoch 5/15\n",
      "152/152 [==============================] - 8s 54ms/step - loss: 0.1722 - val_loss: 0.1015\n",
      "Epoch 6/15\n",
      "152/152 [==============================] - 8s 53ms/step - loss: 0.1697 - val_loss: 0.1006\n",
      "Epoch 7/15\n",
      "152/152 [==============================] - 8s 54ms/step - loss: 0.1688 - val_loss: 0.0988\n",
      "Epoch 8/15\n",
      "152/152 [==============================] - 8s 53ms/step - loss: 0.1714 - val_loss: 0.1011\n",
      "Epoch 9/15\n",
      "152/152 [==============================] - 8s 54ms/step - loss: 0.1694 - val_loss: 0.0987\n",
      "Epoch 10/15\n",
      "152/152 [==============================] - 8s 53ms/step - loss: 0.1678 - val_loss: 0.0999\n",
      "Epoch 11/15\n",
      "152/152 [==============================] - 8s 53ms/step - loss: 0.1682 - val_loss: 0.0991\n",
      "Epoch 12/15\n",
      "152/152 [==============================] - 8s 53ms/step - loss: 0.1671 - val_loss: 0.0983\n",
      "Epoch 13/15\n",
      "152/152 [==============================] - 8s 54ms/step - loss: 0.1701 - val_loss: 0.0998\n",
      "Epoch 14/15\n",
      "152/152 [==============================] - 8s 53ms/step - loss: 0.1680 - val_loss: 0.0983\n",
      "Epoch 15/15\n",
      "152/152 [==============================] - 8s 53ms/step - loss: 0.1671 - val_loss: 0.1001\n"
     ]
    },
    {
     "name": "stderr",
     "output_type": "stream",
     "text": [
      "WARNING:absl:Found untraced functions such as lstm_cell_73_layer_call_fn, lstm_cell_73_layer_call_and_return_conditional_losses while saving (showing 2 of 2). These functions will not be directly callable after loading.\n"
     ]
    },
    {
     "name": "stdout",
     "output_type": "stream",
     "text": [
      "INFO:tensorflow:Assets written to: Walk_forward/models/day68\\assets\n"
     ]
    },
    {
     "name": "stderr",
     "output_type": "stream",
     "text": [
      "INFO:tensorflow:Assets written to: Walk_forward/models/day68\\assets\n",
      "WARNING:absl:<keras.layers.recurrent.LSTMCell object at 0x000001D2490653D0> has the same name 'LSTMCell' as a built-in Keras object. Consider renaming <class 'keras.layers.recurrent.LSTMCell'> to avoid naming conflicts when loading with `tf.keras.models.load_model`. If renaming is not possible, pass the object in the `custom_objects` parameter of the load function.\n"
     ]
    },
    {
     "name": "stdout",
     "output_type": "stream",
     "text": [
      "152/152 [==============================] - 3s 20ms/step\n",
      "65/65 [==============================] - 1s 20ms/step\n"
     ]
    },
    {
     "name": "stderr",
     "output_type": "stream",
     "text": [
      "D:\\Anaconda\\lib\\site-packages\\pandas\\core\\frame.py:3678: SettingWithCopyWarning: \n",
      "A value is trying to be set on a copy of a slice from a DataFrame.\n",
      "Try using .loc[row_indexer,col_indexer] = value instead\n",
      "\n",
      "See the caveats in the documentation: https://pandas.pydata.org/pandas-docs/stable/user_guide/indexing.html#returning-a-view-versus-a-copy\n",
      "  self[col] = igetitem(value, i)\n"
     ]
    },
    {
     "name": "stdout",
     "output_type": "stream",
     "text": [
      "Epoch 1/15\n",
      "152/152 [==============================] - 11s 57ms/step - loss: 0.2969 - val_loss: 0.0769\n",
      "Epoch 2/15\n",
      "152/152 [==============================] - 8s 53ms/step - loss: 0.2234 - val_loss: 0.0647\n",
      "Epoch 3/15\n",
      "152/152 [==============================] - 8s 53ms/step - loss: 0.2112 - val_loss: 0.0582\n",
      "Epoch 4/15\n",
      "152/152 [==============================] - 8s 54ms/step - loss: 0.2036 - val_loss: 0.0556\n",
      "Epoch 5/15\n",
      "152/152 [==============================] - 8s 54ms/step - loss: 0.1992 - val_loss: 0.0503\n",
      "Epoch 6/15\n",
      "152/152 [==============================] - 8s 54ms/step - loss: 0.1955 - val_loss: 0.0531\n",
      "Epoch 7/15\n",
      "152/152 [==============================] - 8s 53ms/step - loss: 0.1950 - val_loss: 0.0478\n",
      "Epoch 8/15\n",
      "152/152 [==============================] - 8s 53ms/step - loss: 0.1936 - val_loss: 0.0437\n",
      "Epoch 9/15\n",
      "152/152 [==============================] - 8s 53ms/step - loss: 0.1922 - val_loss: 0.0449\n",
      "Epoch 10/15\n",
      "152/152 [==============================] - 8s 53ms/step - loss: 0.1930 - val_loss: 0.0438\n",
      "Epoch 11/15\n",
      "152/152 [==============================] - 8s 54ms/step - loss: 0.1935 - val_loss: 0.0451\n",
      "Epoch 12/15\n",
      "152/152 [==============================] - 8s 53ms/step - loss: 0.1923 - val_loss: 0.0415\n",
      "Epoch 13/15\n",
      "152/152 [==============================] - 8s 54ms/step - loss: 0.1911 - val_loss: 0.0431\n",
      "Epoch 14/15\n",
      "152/152 [==============================] - 8s 53ms/step - loss: 0.1911 - val_loss: 0.0407\n",
      "Epoch 15/15\n",
      "152/152 [==============================] - 8s 54ms/step - loss: 0.1899 - val_loss: 0.0418\n"
     ]
    },
    {
     "name": "stderr",
     "output_type": "stream",
     "text": [
      "WARNING:absl:Found untraced functions such as lstm_cell_74_layer_call_fn, lstm_cell_74_layer_call_and_return_conditional_losses while saving (showing 2 of 2). These functions will not be directly callable after loading.\n"
     ]
    },
    {
     "name": "stdout",
     "output_type": "stream",
     "text": [
      "INFO:tensorflow:Assets written to: Walk_forward/models/day69\\assets\n"
     ]
    },
    {
     "name": "stderr",
     "output_type": "stream",
     "text": [
      "INFO:tensorflow:Assets written to: Walk_forward/models/day69\\assets\n",
      "WARNING:absl:<keras.layers.recurrent.LSTMCell object at 0x000001D24D05CFA0> has the same name 'LSTMCell' as a built-in Keras object. Consider renaming <class 'keras.layers.recurrent.LSTMCell'> to avoid naming conflicts when loading with `tf.keras.models.load_model`. If renaming is not possible, pass the object in the `custom_objects` parameter of the load function.\n"
     ]
    },
    {
     "name": "stdout",
     "output_type": "stream",
     "text": [
      "152/152 [==============================] - 3s 20ms/step\n",
      "65/65 [==============================] - 1s 20ms/step\n"
     ]
    },
    {
     "name": "stderr",
     "output_type": "stream",
     "text": [
      "D:\\Anaconda\\lib\\site-packages\\pandas\\core\\frame.py:3678: SettingWithCopyWarning: \n",
      "A value is trying to be set on a copy of a slice from a DataFrame.\n",
      "Try using .loc[row_indexer,col_indexer] = value instead\n",
      "\n",
      "See the caveats in the documentation: https://pandas.pydata.org/pandas-docs/stable/user_guide/indexing.html#returning-a-view-versus-a-copy\n",
      "  self[col] = igetitem(value, i)\n"
     ]
    },
    {
     "name": "stdout",
     "output_type": "stream",
     "text": [
      "Epoch 1/15\n",
      "152/152 [==============================] - 12s 57ms/step - loss: 0.1818 - val_loss: 0.1371\n",
      "Epoch 2/15\n",
      "152/152 [==============================] - 8s 54ms/step - loss: 0.1539 - val_loss: 0.1117\n",
      "Epoch 3/15\n",
      "152/152 [==============================] - 9s 57ms/step - loss: 0.1452 - val_loss: 0.0958\n",
      "Epoch 4/15\n",
      "152/152 [==============================] - 9s 59ms/step - loss: 0.1373 - val_loss: 0.0868\n",
      "Epoch 5/15\n",
      "152/152 [==============================] - 9s 59ms/step - loss: 0.1328 - val_loss: 0.0782\n",
      "Epoch 6/15\n",
      "152/152 [==============================] - 8s 55ms/step - loss: 0.1293 - val_loss: 0.0732\n",
      "Epoch 7/15\n",
      "152/152 [==============================] - 8s 54ms/step - loss: 0.1284 - val_loss: 0.0695\n",
      "Epoch 8/15\n",
      "152/152 [==============================] - 8s 55ms/step - loss: 0.1267 - val_loss: 0.0692\n",
      "Epoch 9/15\n",
      "152/152 [==============================] - 8s 54ms/step - loss: 0.1268 - val_loss: 0.0652\n",
      "Epoch 10/15\n",
      "152/152 [==============================] - 8s 56ms/step - loss: 0.1256 - val_loss: 0.0658\n",
      "Epoch 11/15\n",
      "152/152 [==============================] - 8s 55ms/step - loss: 0.1260 - val_loss: 0.0642\n",
      "Epoch 12/15\n",
      "152/152 [==============================] - 8s 54ms/step - loss: 0.1259 - val_loss: 0.0637\n",
      "Epoch 13/15\n",
      "152/152 [==============================] - 8s 54ms/step - loss: 0.1263 - val_loss: 0.0647\n",
      "Epoch 14/15\n",
      "152/152 [==============================] - 8s 53ms/step - loss: 0.1257 - val_loss: 0.0638\n",
      "Epoch 15/15\n",
      "152/152 [==============================] - 8s 53ms/step - loss: 0.1237 - val_loss: 0.0621\n"
     ]
    },
    {
     "name": "stderr",
     "output_type": "stream",
     "text": [
      "WARNING:absl:Found untraced functions such as lstm_cell_75_layer_call_fn, lstm_cell_75_layer_call_and_return_conditional_losses while saving (showing 2 of 2). These functions will not be directly callable after loading.\n"
     ]
    },
    {
     "name": "stdout",
     "output_type": "stream",
     "text": [
      "INFO:tensorflow:Assets written to: Walk_forward/models/day70\\assets\n"
     ]
    },
    {
     "name": "stderr",
     "output_type": "stream",
     "text": [
      "INFO:tensorflow:Assets written to: Walk_forward/models/day70\\assets\n",
      "WARNING:absl:<keras.layers.recurrent.LSTMCell object at 0x000001D24CBCBCA0> has the same name 'LSTMCell' as a built-in Keras object. Consider renaming <class 'keras.layers.recurrent.LSTMCell'> to avoid naming conflicts when loading with `tf.keras.models.load_model`. If renaming is not possible, pass the object in the `custom_objects` parameter of the load function.\n"
     ]
    },
    {
     "name": "stdout",
     "output_type": "stream",
     "text": [
      "152/152 [==============================] - 4s 21ms/step\n",
      "65/65 [==============================] - 1s 20ms/step\n"
     ]
    },
    {
     "name": "stderr",
     "output_type": "stream",
     "text": [
      "D:\\Anaconda\\lib\\site-packages\\pandas\\core\\frame.py:3678: SettingWithCopyWarning: \n",
      "A value is trying to be set on a copy of a slice from a DataFrame.\n",
      "Try using .loc[row_indexer,col_indexer] = value instead\n",
      "\n",
      "See the caveats in the documentation: https://pandas.pydata.org/pandas-docs/stable/user_guide/indexing.html#returning-a-view-versus-a-copy\n",
      "  self[col] = igetitem(value, i)\n"
     ]
    },
    {
     "name": "stdout",
     "output_type": "stream",
     "text": [
      "Epoch 1/15\n",
      "152/152 [==============================] - 11s 58ms/step - loss: 0.1818 - val_loss: 0.1411\n",
      "Epoch 2/15\n",
      "152/152 [==============================] - 8s 54ms/step - loss: 0.1551 - val_loss: 0.1133\n",
      "Epoch 3/15\n",
      "152/152 [==============================] - 8s 54ms/step - loss: 0.1439 - val_loss: 0.0949\n",
      "Epoch 4/15\n",
      "152/152 [==============================] - 9s 57ms/step - loss: 0.1366 - val_loss: 0.0806\n",
      "Epoch 5/15\n",
      "152/152 [==============================] - 8s 55ms/step - loss: 0.1306 - val_loss: 0.0749\n",
      "Epoch 6/15\n",
      "152/152 [==============================] - 8s 54ms/step - loss: 0.1282 - val_loss: 0.0696\n",
      "Epoch 7/15\n",
      "152/152 [==============================] - 8s 54ms/step - loss: 0.1269 - val_loss: 0.0656\n",
      "Epoch 8/15\n",
      "152/152 [==============================] - 8s 55ms/step - loss: 0.1263 - val_loss: 0.0644\n",
      "Epoch 9/15\n",
      "152/152 [==============================] - 8s 53ms/step - loss: 0.1268 - val_loss: 0.0645\n",
      "Epoch 10/15\n",
      "152/152 [==============================] - 8s 53ms/step - loss: 0.1249 - val_loss: 0.0649\n",
      "Epoch 11/15\n",
      "152/152 [==============================] - 8s 53ms/step - loss: 0.1240 - val_loss: 0.0647\n",
      "Epoch 12/15\n",
      "152/152 [==============================] - 8s 53ms/step - loss: 0.1246 - val_loss: 0.0651\n",
      "Epoch 13/15\n",
      "152/152 [==============================] - 8s 53ms/step - loss: 0.1236 - val_loss: 0.0644\n",
      "Epoch 14/15\n",
      "152/152 [==============================] - 8s 53ms/step - loss: 0.1246 - val_loss: 0.0644\n",
      "Epoch 15/15\n",
      "152/152 [==============================] - 8s 53ms/step - loss: 0.1260 - val_loss: 0.0682\n"
     ]
    },
    {
     "name": "stderr",
     "output_type": "stream",
     "text": [
      "WARNING:absl:Found untraced functions such as lstm_cell_76_layer_call_fn, lstm_cell_76_layer_call_and_return_conditional_losses while saving (showing 2 of 2). These functions will not be directly callable after loading.\n"
     ]
    },
    {
     "name": "stdout",
     "output_type": "stream",
     "text": [
      "INFO:tensorflow:Assets written to: Walk_forward/models/day71\\assets\n"
     ]
    },
    {
     "name": "stderr",
     "output_type": "stream",
     "text": [
      "INFO:tensorflow:Assets written to: Walk_forward/models/day71\\assets\n",
      "WARNING:absl:<keras.layers.recurrent.LSTMCell object at 0x000001D22631BC40> has the same name 'LSTMCell' as a built-in Keras object. Consider renaming <class 'keras.layers.recurrent.LSTMCell'> to avoid naming conflicts when loading with `tf.keras.models.load_model`. If renaming is not possible, pass the object in the `custom_objects` parameter of the load function.\n"
     ]
    },
    {
     "name": "stdout",
     "output_type": "stream",
     "text": [
      "152/152 [==============================] - 3s 20ms/step\n",
      "65/65 [==============================] - 1s 20ms/step\n"
     ]
    },
    {
     "name": "stderr",
     "output_type": "stream",
     "text": [
      "D:\\Anaconda\\lib\\site-packages\\pandas\\core\\frame.py:3678: SettingWithCopyWarning: \n",
      "A value is trying to be set on a copy of a slice from a DataFrame.\n",
      "Try using .loc[row_indexer,col_indexer] = value instead\n",
      "\n",
      "See the caveats in the documentation: https://pandas.pydata.org/pandas-docs/stable/user_guide/indexing.html#returning-a-view-versus-a-copy\n",
      "  self[col] = igetitem(value, i)\n"
     ]
    },
    {
     "name": "stdout",
     "output_type": "stream",
     "text": [
      "Epoch 1/15\n",
      "152/152 [==============================] - 11s 58ms/step - loss: 0.2570 - val_loss: 0.0983\n",
      "Epoch 2/15\n",
      "152/152 [==============================] - 8s 54ms/step - loss: 0.1753 - val_loss: 0.0752\n",
      "Epoch 3/15\n",
      "152/152 [==============================] - 8s 53ms/step - loss: 0.1561 - val_loss: 0.0617\n",
      "Epoch 4/15\n",
      "152/152 [==============================] - 8s 54ms/step - loss: 0.1489 - val_loss: 0.0551\n",
      "Epoch 5/15\n",
      "152/152 [==============================] - 8s 53ms/step - loss: 0.1423 - val_loss: 0.0496\n",
      "Epoch 6/15\n",
      "152/152 [==============================] - 8s 54ms/step - loss: 0.1392 - val_loss: 0.0470\n",
      "Epoch 7/15\n",
      "152/152 [==============================] - 8s 54ms/step - loss: 0.1368 - val_loss: 0.0452\n",
      "Epoch 8/15\n",
      "152/152 [==============================] - 8s 54ms/step - loss: 0.1352 - val_loss: 0.0429\n",
      "Epoch 9/15\n",
      "152/152 [==============================] - 8s 53ms/step - loss: 0.1335 - val_loss: 0.0431\n",
      "Epoch 10/15\n",
      "152/152 [==============================] - 8s 53ms/step - loss: 0.1339 - val_loss: 0.0403\n",
      "Epoch 11/15\n",
      "152/152 [==============================] - 8s 53ms/step - loss: 0.1347 - val_loss: 0.0404\n",
      "Epoch 12/15\n",
      "152/152 [==============================] - 8s 53ms/step - loss: 0.1333 - val_loss: 0.0404\n",
      "Epoch 13/15\n",
      "152/152 [==============================] - 8s 53ms/step - loss: 0.1326 - val_loss: 0.0401\n",
      "Epoch 14/15\n",
      "152/152 [==============================] - 8s 54ms/step - loss: 0.1326 - val_loss: 0.0400\n",
      "Epoch 15/15\n",
      "152/152 [==============================] - 8s 53ms/step - loss: 0.1366 - val_loss: 0.0407\n"
     ]
    },
    {
     "name": "stderr",
     "output_type": "stream",
     "text": [
      "WARNING:absl:Found untraced functions such as lstm_cell_77_layer_call_fn, lstm_cell_77_layer_call_and_return_conditional_losses while saving (showing 2 of 2). These functions will not be directly callable after loading.\n"
     ]
    },
    {
     "name": "stdout",
     "output_type": "stream",
     "text": [
      "INFO:tensorflow:Assets written to: Walk_forward/models/day72\\assets\n"
     ]
    },
    {
     "name": "stderr",
     "output_type": "stream",
     "text": [
      "INFO:tensorflow:Assets written to: Walk_forward/models/day72\\assets\n",
      "WARNING:absl:<keras.layers.recurrent.LSTMCell object at 0x000001D2549D0BE0> has the same name 'LSTMCell' as a built-in Keras object. Consider renaming <class 'keras.layers.recurrent.LSTMCell'> to avoid naming conflicts when loading with `tf.keras.models.load_model`. If renaming is not possible, pass the object in the `custom_objects` parameter of the load function.\n"
     ]
    },
    {
     "name": "stdout",
     "output_type": "stream",
     "text": [
      "152/152 [==============================] - 4s 22ms/step\n",
      "65/65 [==============================] - 1s 20ms/step\n"
     ]
    },
    {
     "name": "stderr",
     "output_type": "stream",
     "text": [
      "D:\\Anaconda\\lib\\site-packages\\pandas\\core\\frame.py:3678: SettingWithCopyWarning: \n",
      "A value is trying to be set on a copy of a slice from a DataFrame.\n",
      "Try using .loc[row_indexer,col_indexer] = value instead\n",
      "\n",
      "See the caveats in the documentation: https://pandas.pydata.org/pandas-docs/stable/user_guide/indexing.html#returning-a-view-versus-a-copy\n",
      "  self[col] = igetitem(value, i)\n"
     ]
    },
    {
     "name": "stdout",
     "output_type": "stream",
     "text": [
      "Epoch 1/15\n",
      "152/152 [==============================] - 11s 57ms/step - loss: 0.1696 - val_loss: 0.0672\n",
      "Epoch 2/15\n",
      "152/152 [==============================] - 8s 53ms/step - loss: 0.1536 - val_loss: 0.0578\n",
      "Epoch 3/15\n",
      "152/152 [==============================] - 8s 53ms/step - loss: 0.1461 - val_loss: 0.0520\n",
      "Epoch 4/15\n",
      "152/152 [==============================] - 8s 54ms/step - loss: 0.1431 - val_loss: 0.0482\n",
      "Epoch 5/15\n",
      "152/152 [==============================] - 8s 54ms/step - loss: 0.1376 - val_loss: 0.0460\n",
      "Epoch 6/15\n",
      "152/152 [==============================] - 8s 53ms/step - loss: 0.1350 - val_loss: 0.0431\n",
      "Epoch 7/15\n",
      "152/152 [==============================] - 8s 53ms/step - loss: 0.1318 - val_loss: 0.0399\n",
      "Epoch 8/15\n",
      "152/152 [==============================] - 8s 53ms/step - loss: 0.1332 - val_loss: 0.0393\n",
      "Epoch 9/15\n",
      "152/152 [==============================] - 8s 53ms/step - loss: 0.1320 - val_loss: 0.0372\n",
      "Epoch 10/15\n",
      "152/152 [==============================] - 8s 52ms/step - loss: 0.1327 - val_loss: 0.0420\n",
      "Epoch 11/15\n",
      "152/152 [==============================] - 8s 51ms/step - loss: 0.1312 - val_loss: 0.0391\n",
      "Epoch 12/15\n",
      "152/152 [==============================] - 8s 51ms/step - loss: 0.1326 - val_loss: 0.0374\n",
      "Epoch 13/15\n",
      "152/152 [==============================] - 8s 52ms/step - loss: 0.1314 - val_loss: 0.0371\n",
      "Epoch 14/15\n",
      "152/152 [==============================] - 8s 52ms/step - loss: 0.1311 - val_loss: 0.0368\n",
      "Epoch 15/15\n",
      "152/152 [==============================] - 8s 52ms/step - loss: 0.1327 - val_loss: 0.0364\n"
     ]
    },
    {
     "name": "stderr",
     "output_type": "stream",
     "text": [
      "WARNING:absl:Found untraced functions such as lstm_cell_78_layer_call_fn, lstm_cell_78_layer_call_and_return_conditional_losses while saving (showing 2 of 2). These functions will not be directly callable after loading.\n"
     ]
    },
    {
     "name": "stdout",
     "output_type": "stream",
     "text": [
      "INFO:tensorflow:Assets written to: Walk_forward/models/day73\\assets\n"
     ]
    },
    {
     "name": "stderr",
     "output_type": "stream",
     "text": [
      "INFO:tensorflow:Assets written to: Walk_forward/models/day73\\assets\n",
      "WARNING:absl:<keras.layers.recurrent.LSTMCell object at 0x000001D234E13E50> has the same name 'LSTMCell' as a built-in Keras object. Consider renaming <class 'keras.layers.recurrent.LSTMCell'> to avoid naming conflicts when loading with `tf.keras.models.load_model`. If renaming is not possible, pass the object in the `custom_objects` parameter of the load function.\n"
     ]
    },
    {
     "name": "stdout",
     "output_type": "stream",
     "text": [
      "152/152 [==============================] - 4s 21ms/step\n",
      "65/65 [==============================] - 1s 19ms/step\n"
     ]
    },
    {
     "name": "stderr",
     "output_type": "stream",
     "text": [
      "D:\\Anaconda\\lib\\site-packages\\pandas\\core\\frame.py:3678: SettingWithCopyWarning: \n",
      "A value is trying to be set on a copy of a slice from a DataFrame.\n",
      "Try using .loc[row_indexer,col_indexer] = value instead\n",
      "\n",
      "See the caveats in the documentation: https://pandas.pydata.org/pandas-docs/stable/user_guide/indexing.html#returning-a-view-versus-a-copy\n",
      "  self[col] = igetitem(value, i)\n"
     ]
    },
    {
     "name": "stdout",
     "output_type": "stream",
     "text": [
      "Epoch 1/15\n",
      "152/152 [==============================] - 11s 56ms/step - loss: 0.2425 - val_loss: 0.0991\n",
      "Epoch 2/15\n",
      "152/152 [==============================] - 8s 52ms/step - loss: 0.1737 - val_loss: 0.0756\n",
      "Epoch 3/15\n",
      "152/152 [==============================] - 8s 52ms/step - loss: 0.1610 - val_loss: 0.0649\n",
      "Epoch 4/15\n",
      "152/152 [==============================] - 8s 52ms/step - loss: 0.1517 - val_loss: 0.0578\n",
      "Epoch 5/15\n",
      "152/152 [==============================] - 8s 52ms/step - loss: 0.1460 - val_loss: 0.0521\n",
      "Epoch 6/15\n",
      "152/152 [==============================] - 8s 52ms/step - loss: 0.1422 - val_loss: 0.0483\n",
      "Epoch 7/15\n",
      "152/152 [==============================] - 8s 53ms/step - loss: 0.1383 - val_loss: 0.0452\n",
      "Epoch 8/15\n",
      "152/152 [==============================] - 8s 52ms/step - loss: 0.1366 - val_loss: 0.0429\n",
      "Epoch 9/15\n",
      "152/152 [==============================] - 8s 52ms/step - loss: 0.1346 - val_loss: 0.0418\n",
      "Epoch 10/15\n",
      "152/152 [==============================] - 8s 52ms/step - loss: 0.1333 - val_loss: 0.0395\n",
      "Epoch 11/15\n",
      "152/152 [==============================] - 8s 53ms/step - loss: 0.1316 - val_loss: 0.0393\n",
      "Epoch 12/15\n",
      "152/152 [==============================] - 8s 52ms/step - loss: 0.1317 - val_loss: 0.0374\n",
      "Epoch 13/15\n",
      "152/152 [==============================] - 8s 52ms/step - loss: 0.1305 - val_loss: 0.0374\n",
      "Epoch 14/15\n",
      "152/152 [==============================] - 8s 52ms/step - loss: 0.1309 - val_loss: 0.0370\n",
      "Epoch 15/15\n",
      "152/152 [==============================] - 8s 53ms/step - loss: 0.1342 - val_loss: 0.0364\n"
     ]
    },
    {
     "name": "stderr",
     "output_type": "stream",
     "text": [
      "WARNING:absl:Found untraced functions such as lstm_cell_79_layer_call_fn, lstm_cell_79_layer_call_and_return_conditional_losses while saving (showing 2 of 2). These functions will not be directly callable after loading.\n"
     ]
    },
    {
     "name": "stdout",
     "output_type": "stream",
     "text": [
      "INFO:tensorflow:Assets written to: Walk_forward/models/day74\\assets\n"
     ]
    },
    {
     "name": "stderr",
     "output_type": "stream",
     "text": [
      "INFO:tensorflow:Assets written to: Walk_forward/models/day74\\assets\n",
      "WARNING:absl:<keras.layers.recurrent.LSTMCell object at 0x000001D23808BDF0> has the same name 'LSTMCell' as a built-in Keras object. Consider renaming <class 'keras.layers.recurrent.LSTMCell'> to avoid naming conflicts when loading with `tf.keras.models.load_model`. If renaming is not possible, pass the object in the `custom_objects` parameter of the load function.\n"
     ]
    },
    {
     "name": "stdout",
     "output_type": "stream",
     "text": [
      "152/152 [==============================] - 4s 21ms/step\n",
      "65/65 [==============================] - 1s 19ms/step\n"
     ]
    },
    {
     "name": "stderr",
     "output_type": "stream",
     "text": [
      "D:\\Anaconda\\lib\\site-packages\\pandas\\core\\frame.py:3678: SettingWithCopyWarning: \n",
      "A value is trying to be set on a copy of a slice from a DataFrame.\n",
      "Try using .loc[row_indexer,col_indexer] = value instead\n",
      "\n",
      "See the caveats in the documentation: https://pandas.pydata.org/pandas-docs/stable/user_guide/indexing.html#returning-a-view-versus-a-copy\n",
      "  self[col] = igetitem(value, i)\n"
     ]
    },
    {
     "name": "stdout",
     "output_type": "stream",
     "text": [
      "Epoch 1/15\n",
      "152/152 [==============================] - 11s 56ms/step - loss: 0.2369 - val_loss: 0.0953\n",
      "Epoch 2/15\n",
      "152/152 [==============================] - 8s 54ms/step - loss: 0.1713 - val_loss: 0.0762\n",
      "Epoch 3/15\n",
      "152/152 [==============================] - 8s 52ms/step - loss: 0.1548 - val_loss: 0.0646\n",
      "Epoch 4/15\n",
      "152/152 [==============================] - 8s 52ms/step - loss: 0.1454 - val_loss: 0.0565\n",
      "Epoch 5/15\n",
      "152/152 [==============================] - 8s 52ms/step - loss: 0.1392 - val_loss: 0.0512\n",
      "Epoch 6/15\n",
      "152/152 [==============================] - 8s 53ms/step - loss: 0.1327 - val_loss: 0.0471\n",
      "Epoch 7/15\n",
      "152/152 [==============================] - 8s 52ms/step - loss: 0.1292 - val_loss: 0.0424\n",
      "Epoch 8/15\n",
      "152/152 [==============================] - 8s 52ms/step - loss: 0.1272 - val_loss: 0.0399\n",
      "Epoch 9/15\n",
      "152/152 [==============================] - 8s 52ms/step - loss: 0.1247 - val_loss: 0.0391\n",
      "Epoch 10/15\n",
      "152/152 [==============================] - 8s 52ms/step - loss: 0.1235 - val_loss: 0.0377\n",
      "Epoch 11/15\n",
      "152/152 [==============================] - 8s 51ms/step - loss: 0.1232 - val_loss: 0.0378\n",
      "Epoch 12/15\n",
      "152/152 [==============================] - 8s 52ms/step - loss: 0.1235 - val_loss: 0.0363\n",
      "Epoch 13/15\n",
      "152/152 [==============================] - 8s 52ms/step - loss: 0.1226 - val_loss: 0.0366\n",
      "Epoch 14/15\n",
      "152/152 [==============================] - 8s 51ms/step - loss: 0.1230 - val_loss: 0.0367\n",
      "Epoch 15/15\n",
      "152/152 [==============================] - 8s 52ms/step - loss: 0.1219 - val_loss: 0.0353\n"
     ]
    },
    {
     "name": "stderr",
     "output_type": "stream",
     "text": [
      "WARNING:absl:Found untraced functions such as lstm_cell_80_layer_call_fn, lstm_cell_80_layer_call_and_return_conditional_losses while saving (showing 2 of 2). These functions will not be directly callable after loading.\n"
     ]
    },
    {
     "name": "stdout",
     "output_type": "stream",
     "text": [
      "INFO:tensorflow:Assets written to: Walk_forward/models/day75\\assets\n"
     ]
    },
    {
     "name": "stderr",
     "output_type": "stream",
     "text": [
      "INFO:tensorflow:Assets written to: Walk_forward/models/day75\\assets\n",
      "WARNING:absl:<keras.layers.recurrent.LSTMCell object at 0x000001CF5DCDC0D0> has the same name 'LSTMCell' as a built-in Keras object. Consider renaming <class 'keras.layers.recurrent.LSTMCell'> to avoid naming conflicts when loading with `tf.keras.models.load_model`. If renaming is not possible, pass the object in the `custom_objects` parameter of the load function.\n"
     ]
    },
    {
     "name": "stdout",
     "output_type": "stream",
     "text": [
      "152/152 [==============================] - 4s 21ms/step\n",
      "65/65 [==============================] - 1s 19ms/step\n"
     ]
    },
    {
     "name": "stderr",
     "output_type": "stream",
     "text": [
      "D:\\Anaconda\\lib\\site-packages\\pandas\\core\\frame.py:3678: SettingWithCopyWarning: \n",
      "A value is trying to be set on a copy of a slice from a DataFrame.\n",
      "Try using .loc[row_indexer,col_indexer] = value instead\n",
      "\n",
      "See the caveats in the documentation: https://pandas.pydata.org/pandas-docs/stable/user_guide/indexing.html#returning-a-view-versus-a-copy\n",
      "  self[col] = igetitem(value, i)\n"
     ]
    },
    {
     "name": "stdout",
     "output_type": "stream",
     "text": [
      "Epoch 1/15\n",
      "152/152 [==============================] - 10s 55ms/step - loss: 0.2295 - val_loss: 0.0890\n",
      "Epoch 2/15\n",
      "152/152 [==============================] - 8s 52ms/step - loss: 0.1628 - val_loss: 0.0750\n",
      "Epoch 3/15\n",
      "152/152 [==============================] - 8s 52ms/step - loss: 0.1483 - val_loss: 0.0627\n",
      "Epoch 4/15\n",
      "152/152 [==============================] - 8s 52ms/step - loss: 0.1380 - val_loss: 0.0522\n",
      "Epoch 5/15\n",
      "152/152 [==============================] - 8s 52ms/step - loss: 0.1312 - val_loss: 0.0465\n",
      "Epoch 6/15\n",
      "152/152 [==============================] - 8s 52ms/step - loss: 0.1270 - val_loss: 0.0433\n",
      "Epoch 7/15\n",
      "152/152 [==============================] - 8s 52ms/step - loss: 0.1245 - val_loss: 0.0412\n",
      "Epoch 8/15\n",
      "152/152 [==============================] - 8s 52ms/step - loss: 0.1228 - val_loss: 0.0416\n",
      "Epoch 9/15\n",
      "152/152 [==============================] - 8s 52ms/step - loss: 0.1223 - val_loss: 0.0406\n",
      "Epoch 10/15\n",
      "152/152 [==============================] - 8s 52ms/step - loss: 0.1218 - val_loss: 0.0372\n",
      "Epoch 11/15\n",
      "152/152 [==============================] - 8s 52ms/step - loss: 0.1214 - val_loss: 0.0389\n",
      "Epoch 12/15\n",
      "152/152 [==============================] - 8s 51ms/step - loss: 0.1205 - val_loss: 0.0363\n",
      "Epoch 13/15\n",
      "152/152 [==============================] - 8s 52ms/step - loss: 0.1198 - val_loss: 0.0370\n",
      "Epoch 14/15\n",
      "152/152 [==============================] - 8s 52ms/step - loss: 0.1208 - val_loss: 0.0347\n",
      "Epoch 15/15\n",
      "152/152 [==============================] - 8s 52ms/step - loss: 0.1221 - val_loss: 0.0346\n"
     ]
    },
    {
     "name": "stderr",
     "output_type": "stream",
     "text": [
      "WARNING:absl:Found untraced functions such as lstm_cell_81_layer_call_fn, lstm_cell_81_layer_call_and_return_conditional_losses while saving (showing 2 of 2). These functions will not be directly callable after loading.\n"
     ]
    },
    {
     "name": "stdout",
     "output_type": "stream",
     "text": [
      "INFO:tensorflow:Assets written to: Walk_forward/models/day76\\assets\n"
     ]
    },
    {
     "name": "stderr",
     "output_type": "stream",
     "text": [
      "INFO:tensorflow:Assets written to: Walk_forward/models/day76\\assets\n",
      "WARNING:absl:<keras.layers.recurrent.LSTMCell object at 0x000001D1D4540D90> has the same name 'LSTMCell' as a built-in Keras object. Consider renaming <class 'keras.layers.recurrent.LSTMCell'> to avoid naming conflicts when loading with `tf.keras.models.load_model`. If renaming is not possible, pass the object in the `custom_objects` parameter of the load function.\n"
     ]
    },
    {
     "name": "stdout",
     "output_type": "stream",
     "text": [
      "152/152 [==============================] - 4s 21ms/step\n",
      "65/65 [==============================] - 1s 19ms/step\n"
     ]
    },
    {
     "name": "stderr",
     "output_type": "stream",
     "text": [
      "D:\\Anaconda\\lib\\site-packages\\pandas\\core\\frame.py:3678: SettingWithCopyWarning: \n",
      "A value is trying to be set on a copy of a slice from a DataFrame.\n",
      "Try using .loc[row_indexer,col_indexer] = value instead\n",
      "\n",
      "See the caveats in the documentation: https://pandas.pydata.org/pandas-docs/stable/user_guide/indexing.html#returning-a-view-versus-a-copy\n",
      "  self[col] = igetitem(value, i)\n"
     ]
    },
    {
     "name": "stdout",
     "output_type": "stream",
     "text": [
      "Epoch 1/15\n",
      "152/152 [==============================] - 10s 56ms/step - loss: 0.1776 - val_loss: 0.0571\n",
      "Epoch 2/15\n",
      "152/152 [==============================] - 8s 52ms/step - loss: 0.1514 - val_loss: 0.0559\n",
      "Epoch 3/15\n",
      "152/152 [==============================] - 8s 52ms/step - loss: 0.1419 - val_loss: 0.0551\n",
      "Epoch 4/15\n",
      "152/152 [==============================] - 8s 52ms/step - loss: 0.1351 - val_loss: 0.0563\n",
      "Epoch 5/15\n",
      "152/152 [==============================] - 8s 51ms/step - loss: 0.1310 - val_loss: 0.0557\n",
      "Epoch 6/15\n",
      "152/152 [==============================] - 8s 52ms/step - loss: 0.1290 - val_loss: 0.0554\n",
      "Epoch 7/15\n",
      "152/152 [==============================] - 8s 51ms/step - loss: 0.1245 - val_loss: 0.0581\n",
      "Epoch 8/15\n",
      "152/152 [==============================] - 8s 51ms/step - loss: 0.1231 - val_loss: 0.0658\n",
      "Epoch 9/15\n",
      "152/152 [==============================] - 8s 52ms/step - loss: 0.1228 - val_loss: 0.0571\n",
      "Epoch 10/15\n",
      "152/152 [==============================] - 8s 51ms/step - loss: 0.1213 - val_loss: 0.0568\n",
      "Epoch 11/15\n",
      "152/152 [==============================] - 8s 51ms/step - loss: 0.1211 - val_loss: 0.0577\n",
      "Epoch 12/15\n",
      "152/152 [==============================] - 8s 53ms/step - loss: 0.1222 - val_loss: 0.0585\n",
      "Epoch 13/15\n",
      "152/152 [==============================] - 8s 53ms/step - loss: 0.1201 - val_loss: 0.0588\n",
      "Epoch 14/15\n",
      "152/152 [==============================] - 8s 52ms/step - loss: 0.1202 - val_loss: 0.0586\n",
      "Epoch 15/15\n",
      "152/152 [==============================] - 8s 52ms/step - loss: 0.1196 - val_loss: 0.0590\n"
     ]
    },
    {
     "name": "stderr",
     "output_type": "stream",
     "text": [
      "WARNING:absl:Found untraced functions such as lstm_cell_82_layer_call_fn, lstm_cell_82_layer_call_and_return_conditional_losses while saving (showing 2 of 2). These functions will not be directly callable after loading.\n"
     ]
    },
    {
     "name": "stdout",
     "output_type": "stream",
     "text": [
      "INFO:tensorflow:Assets written to: Walk_forward/models/day77\\assets\n"
     ]
    },
    {
     "name": "stderr",
     "output_type": "stream",
     "text": [
      "INFO:tensorflow:Assets written to: Walk_forward/models/day77\\assets\n",
      "WARNING:absl:<keras.layers.recurrent.LSTMCell object at 0x000001D24957EDF0> has the same name 'LSTMCell' as a built-in Keras object. Consider renaming <class 'keras.layers.recurrent.LSTMCell'> to avoid naming conflicts when loading with `tf.keras.models.load_model`. If renaming is not possible, pass the object in the `custom_objects` parameter of the load function.\n"
     ]
    },
    {
     "name": "stdout",
     "output_type": "stream",
     "text": [
      "152/152 [==============================] - 4s 21ms/step\n",
      "65/65 [==============================] - 1s 20ms/step\n"
     ]
    },
    {
     "name": "stderr",
     "output_type": "stream",
     "text": [
      "D:\\Anaconda\\lib\\site-packages\\pandas\\core\\frame.py:3678: SettingWithCopyWarning: \n",
      "A value is trying to be set on a copy of a slice from a DataFrame.\n",
      "Try using .loc[row_indexer,col_indexer] = value instead\n",
      "\n",
      "See the caveats in the documentation: https://pandas.pydata.org/pandas-docs/stable/user_guide/indexing.html#returning-a-view-versus-a-copy\n",
      "  self[col] = igetitem(value, i)\n"
     ]
    },
    {
     "name": "stdout",
     "output_type": "stream",
     "text": [
      "Epoch 1/15\n",
      "152/152 [==============================] - 11s 55ms/step - loss: 0.3130 - val_loss: 0.0643\n",
      "Epoch 2/15\n",
      "152/152 [==============================] - 8s 52ms/step - loss: 0.1965 - val_loss: 0.0592\n",
      "Epoch 3/15\n",
      "152/152 [==============================] - 8s 52ms/step - loss: 0.1669 - val_loss: 0.0589\n",
      "Epoch 4/15\n",
      "152/152 [==============================] - 8s 52ms/step - loss: 0.1505 - val_loss: 0.0661\n",
      "Epoch 5/15\n",
      "152/152 [==============================] - 8s 52ms/step - loss: 0.1383 - val_loss: 0.0583\n",
      "Epoch 6/15\n",
      "152/152 [==============================] - 8s 52ms/step - loss: 0.1328 - val_loss: 0.0561\n",
      "Epoch 7/15\n",
      "152/152 [==============================] - 8s 52ms/step - loss: 0.1272 - val_loss: 0.0564\n",
      "Epoch 8/15\n",
      "152/152 [==============================] - 8s 52ms/step - loss: 0.1251 - val_loss: 0.0564\n",
      "Epoch 9/15\n",
      "152/152 [==============================] - 8s 51ms/step - loss: 0.1229 - val_loss: 0.0573\n",
      "Epoch 10/15\n",
      "152/152 [==============================] - 8s 52ms/step - loss: 0.1222 - val_loss: 0.0632\n",
      "Epoch 11/15\n",
      "152/152 [==============================] - 8s 52ms/step - loss: 0.1212 - val_loss: 0.0573\n",
      "Epoch 12/15\n",
      "152/152 [==============================] - 8s 52ms/step - loss: 0.1211 - val_loss: 0.0575\n",
      "Epoch 13/15\n",
      "152/152 [==============================] - 8s 52ms/step - loss: 0.1203 - val_loss: 0.0593\n",
      "Epoch 14/15\n",
      "152/152 [==============================] - 8s 52ms/step - loss: 0.1194 - val_loss: 0.0593\n",
      "Epoch 15/15\n",
      "152/152 [==============================] - 8s 52ms/step - loss: 0.1192 - val_loss: 0.0595\n"
     ]
    },
    {
     "name": "stderr",
     "output_type": "stream",
     "text": [
      "WARNING:absl:Found untraced functions such as lstm_cell_83_layer_call_fn, lstm_cell_83_layer_call_and_return_conditional_losses while saving (showing 2 of 2). These functions will not be directly callable after loading.\n"
     ]
    },
    {
     "name": "stdout",
     "output_type": "stream",
     "text": [
      "INFO:tensorflow:Assets written to: Walk_forward/models/day78\\assets\n"
     ]
    },
    {
     "name": "stderr",
     "output_type": "stream",
     "text": [
      "INFO:tensorflow:Assets written to: Walk_forward/models/day78\\assets\n",
      "WARNING:absl:<keras.layers.recurrent.LSTMCell object at 0x000001D24CA5BA00> has the same name 'LSTMCell' as a built-in Keras object. Consider renaming <class 'keras.layers.recurrent.LSTMCell'> to avoid naming conflicts when loading with `tf.keras.models.load_model`. If renaming is not possible, pass the object in the `custom_objects` parameter of the load function.\n"
     ]
    },
    {
     "name": "stdout",
     "output_type": "stream",
     "text": [
      "152/152 [==============================] - 4s 21ms/step\n",
      "65/65 [==============================] - 1s 19ms/step\n"
     ]
    },
    {
     "name": "stderr",
     "output_type": "stream",
     "text": [
      "D:\\Anaconda\\lib\\site-packages\\pandas\\core\\frame.py:3678: SettingWithCopyWarning: \n",
      "A value is trying to be set on a copy of a slice from a DataFrame.\n",
      "Try using .loc[row_indexer,col_indexer] = value instead\n",
      "\n",
      "See the caveats in the documentation: https://pandas.pydata.org/pandas-docs/stable/user_guide/indexing.html#returning-a-view-versus-a-copy\n",
      "  self[col] = igetitem(value, i)\n"
     ]
    },
    {
     "name": "stdout",
     "output_type": "stream",
     "text": [
      "Epoch 1/15\n",
      "152/152 [==============================] - 11s 61ms/step - loss: 0.2078 - val_loss: 0.0530\n",
      "Epoch 2/15\n",
      "152/152 [==============================] - 8s 52ms/step - loss: 0.1625 - val_loss: 0.0506\n",
      "Epoch 3/15\n",
      "152/152 [==============================] - 8s 52ms/step - loss: 0.1494 - val_loss: 0.0499\n",
      "Epoch 4/15\n",
      "152/152 [==============================] - 8s 52ms/step - loss: 0.1403 - val_loss: 0.0499\n",
      "Epoch 5/15\n",
      "152/152 [==============================] - 8s 51ms/step - loss: 0.1332 - val_loss: 0.0505\n",
      "Epoch 6/15\n",
      "152/152 [==============================] - 8s 52ms/step - loss: 0.1286 - val_loss: 0.0556\n",
      "Epoch 7/15\n",
      "152/152 [==============================] - 8s 51ms/step - loss: 0.1286 - val_loss: 0.0510\n",
      "Epoch 8/15\n",
      "152/152 [==============================] - 8s 51ms/step - loss: 0.1295 - val_loss: 0.0509\n",
      "Epoch 9/15\n",
      "152/152 [==============================] - 8s 52ms/step - loss: 0.1242 - val_loss: 0.0517\n",
      "Epoch 10/15\n",
      "152/152 [==============================] - 8s 52ms/step - loss: 0.1275 - val_loss: 0.0528\n",
      "Epoch 11/15\n",
      "152/152 [==============================] - 8s 52ms/step - loss: 0.1228 - val_loss: 0.0521\n",
      "Epoch 12/15\n",
      "152/152 [==============================] - 8s 51ms/step - loss: 0.1217 - val_loss: 0.0537\n",
      "Epoch 13/15\n",
      "152/152 [==============================] - 8s 51ms/step - loss: 0.1215 - val_loss: 0.0536\n",
      "Epoch 14/15\n",
      "152/152 [==============================] - 8s 52ms/step - loss: 0.1201 - val_loss: 0.0533\n",
      "Epoch 15/15\n",
      "152/152 [==============================] - 8s 52ms/step - loss: 0.1207 - val_loss: 0.0538\n"
     ]
    },
    {
     "name": "stderr",
     "output_type": "stream",
     "text": [
      "WARNING:absl:Found untraced functions such as lstm_cell_84_layer_call_fn, lstm_cell_84_layer_call_and_return_conditional_losses while saving (showing 2 of 2). These functions will not be directly callable after loading.\n"
     ]
    },
    {
     "name": "stdout",
     "output_type": "stream",
     "text": [
      "INFO:tensorflow:Assets written to: Walk_forward/models/day79\\assets\n"
     ]
    },
    {
     "name": "stderr",
     "output_type": "stream",
     "text": [
      "INFO:tensorflow:Assets written to: Walk_forward/models/day79\\assets\n",
      "WARNING:absl:<keras.layers.recurrent.LSTMCell object at 0x000001CF5CA76AC0> has the same name 'LSTMCell' as a built-in Keras object. Consider renaming <class 'keras.layers.recurrent.LSTMCell'> to avoid naming conflicts when loading with `tf.keras.models.load_model`. If renaming is not possible, pass the object in the `custom_objects` parameter of the load function.\n"
     ]
    },
    {
     "name": "stdout",
     "output_type": "stream",
     "text": [
      "152/152 [==============================] - 4s 21ms/step\n",
      "65/65 [==============================] - 1s 19ms/step\n"
     ]
    },
    {
     "name": "stderr",
     "output_type": "stream",
     "text": [
      "D:\\Anaconda\\lib\\site-packages\\pandas\\core\\frame.py:3678: SettingWithCopyWarning: \n",
      "A value is trying to be set on a copy of a slice from a DataFrame.\n",
      "Try using .loc[row_indexer,col_indexer] = value instead\n",
      "\n",
      "See the caveats in the documentation: https://pandas.pydata.org/pandas-docs/stable/user_guide/indexing.html#returning-a-view-versus-a-copy\n",
      "  self[col] = igetitem(value, i)\n"
     ]
    },
    {
     "name": "stdout",
     "output_type": "stream",
     "text": [
      "Epoch 1/15\n",
      "152/152 [==============================] - 11s 56ms/step - loss: 0.2101 - val_loss: 0.0561\n",
      "Epoch 2/15\n",
      "152/152 [==============================] - 8s 52ms/step - loss: 0.1500 - val_loss: 0.0554\n",
      "Epoch 3/15\n",
      "152/152 [==============================] - 8s 52ms/step - loss: 0.1317 - val_loss: 0.0520\n",
      "Epoch 4/15\n",
      "152/152 [==============================] - 8s 52ms/step - loss: 0.1204 - val_loss: 0.0518\n",
      "Epoch 5/15\n",
      "152/152 [==============================] - 8s 52ms/step - loss: 0.1127 - val_loss: 0.0515\n",
      "Epoch 6/15\n",
      "152/152 [==============================] - 8s 52ms/step - loss: 0.1081 - val_loss: 0.0508\n",
      "Epoch 7/15\n",
      "152/152 [==============================] - 8s 52ms/step - loss: 0.1025 - val_loss: 0.0514\n",
      "Epoch 8/15\n",
      "152/152 [==============================] - 8s 52ms/step - loss: 0.0997 - val_loss: 0.0510\n",
      "Epoch 9/15\n",
      "152/152 [==============================] - 8s 52ms/step - loss: 0.0971 - val_loss: 0.0516\n",
      "Epoch 10/15\n",
      "152/152 [==============================] - 8s 52ms/step - loss: 0.0958 - val_loss: 0.0518\n",
      "Epoch 11/15\n",
      "152/152 [==============================] - 8s 52ms/step - loss: 0.0977 - val_loss: 0.0542\n",
      "Epoch 12/15\n",
      "152/152 [==============================] - 8s 51ms/step - loss: 0.0931 - val_loss: 0.0549\n",
      "Epoch 13/15\n",
      "152/152 [==============================] - 8s 52ms/step - loss: 0.0934 - val_loss: 0.0552\n",
      "Epoch 14/15\n",
      "152/152 [==============================] - 8s 51ms/step - loss: 0.0916 - val_loss: 0.0538\n",
      "Epoch 15/15\n",
      "152/152 [==============================] - 8s 52ms/step - loss: 0.0927 - val_loss: 0.0549\n"
     ]
    },
    {
     "name": "stderr",
     "output_type": "stream",
     "text": [
      "WARNING:absl:Found untraced functions such as lstm_cell_85_layer_call_fn, lstm_cell_85_layer_call_and_return_conditional_losses while saving (showing 2 of 2). These functions will not be directly callable after loading.\n"
     ]
    },
    {
     "name": "stdout",
     "output_type": "stream",
     "text": [
      "INFO:tensorflow:Assets written to: Walk_forward/models/day80\\assets\n"
     ]
    },
    {
     "name": "stderr",
     "output_type": "stream",
     "text": [
      "INFO:tensorflow:Assets written to: Walk_forward/models/day80\\assets\n",
      "WARNING:absl:<keras.layers.recurrent.LSTMCell object at 0x000001D247BA0B80> has the same name 'LSTMCell' as a built-in Keras object. Consider renaming <class 'keras.layers.recurrent.LSTMCell'> to avoid naming conflicts when loading with `tf.keras.models.load_model`. If renaming is not possible, pass the object in the `custom_objects` parameter of the load function.\n"
     ]
    },
    {
     "name": "stdout",
     "output_type": "stream",
     "text": [
      "152/152 [==============================] - 3s 20ms/step\n",
      "65/65 [==============================] - 1s 19ms/step\n"
     ]
    },
    {
     "name": "stderr",
     "output_type": "stream",
     "text": [
      "D:\\Anaconda\\lib\\site-packages\\pandas\\core\\frame.py:3678: SettingWithCopyWarning: \n",
      "A value is trying to be set on a copy of a slice from a DataFrame.\n",
      "Try using .loc[row_indexer,col_indexer] = value instead\n",
      "\n",
      "See the caveats in the documentation: https://pandas.pydata.org/pandas-docs/stable/user_guide/indexing.html#returning-a-view-versus-a-copy\n",
      "  self[col] = igetitem(value, i)\n"
     ]
    },
    {
     "name": "stdout",
     "output_type": "stream",
     "text": [
      "Epoch 1/15\n",
      "152/152 [==============================] - 11s 55ms/step - loss: 0.2315 - val_loss: 0.1046\n",
      "Epoch 2/15\n",
      "152/152 [==============================] - 8s 52ms/step - loss: 0.1533 - val_loss: 0.0935\n",
      "Epoch 3/15\n",
      "152/152 [==============================] - 8s 52ms/step - loss: 0.1323 - val_loss: 0.0890\n",
      "Epoch 4/15\n",
      "152/152 [==============================] - 8s 52ms/step - loss: 0.1170 - val_loss: 0.0892\n",
      "Epoch 5/15\n",
      "152/152 [==============================] - 8s 52ms/step - loss: 0.1087 - val_loss: 0.0846\n",
      "Epoch 6/15\n",
      "152/152 [==============================] - 8s 52ms/step - loss: 0.1010 - val_loss: 0.0851\n",
      "Epoch 7/15\n",
      "152/152 [==============================] - 8s 52ms/step - loss: 0.0998 - val_loss: 0.0840\n",
      "Epoch 8/15\n",
      "152/152 [==============================] - 8s 52ms/step - loss: 0.0952 - val_loss: 0.0843\n",
      "Epoch 9/15\n",
      "152/152 [==============================] - 8s 52ms/step - loss: 0.0964 - val_loss: 0.0846\n",
      "Epoch 10/15\n",
      "152/152 [==============================] - 8s 52ms/step - loss: 0.0923 - val_loss: 0.0850\n",
      "Epoch 11/15\n",
      "152/152 [==============================] - 8s 52ms/step - loss: 0.0926 - val_loss: 0.0853\n",
      "Epoch 12/15\n",
      "152/152 [==============================] - 8s 52ms/step - loss: 0.0911 - val_loss: 0.0853\n",
      "Epoch 13/15\n",
      "152/152 [==============================] - 8s 51ms/step - loss: 0.0898 - val_loss: 0.0902\n",
      "Epoch 14/15\n",
      "152/152 [==============================] - 8s 51ms/step - loss: 0.0903 - val_loss: 0.0861\n",
      "Epoch 15/15\n",
      "152/152 [==============================] - 8s 51ms/step - loss: 0.0893 - val_loss: 0.0873\n"
     ]
    },
    {
     "name": "stderr",
     "output_type": "stream",
     "text": [
      "WARNING:absl:Found untraced functions such as lstm_cell_86_layer_call_fn, lstm_cell_86_layer_call_and_return_conditional_losses while saving (showing 2 of 2). These functions will not be directly callable after loading.\n"
     ]
    },
    {
     "name": "stdout",
     "output_type": "stream",
     "text": [
      "INFO:tensorflow:Assets written to: Walk_forward/models/day81\\assets\n"
     ]
    },
    {
     "name": "stderr",
     "output_type": "stream",
     "text": [
      "INFO:tensorflow:Assets written to: Walk_forward/models/day81\\assets\n",
      "WARNING:absl:<keras.layers.recurrent.LSTMCell object at 0x000001D22611DBE0> has the same name 'LSTMCell' as a built-in Keras object. Consider renaming <class 'keras.layers.recurrent.LSTMCell'> to avoid naming conflicts when loading with `tf.keras.models.load_model`. If renaming is not possible, pass the object in the `custom_objects` parameter of the load function.\n"
     ]
    },
    {
     "name": "stdout",
     "output_type": "stream",
     "text": [
      "152/152 [==============================] - 4s 20ms/step\n",
      "65/65 [==============================] - 1s 19ms/step\n"
     ]
    },
    {
     "name": "stderr",
     "output_type": "stream",
     "text": [
      "D:\\Anaconda\\lib\\site-packages\\pandas\\core\\frame.py:3678: SettingWithCopyWarning: \n",
      "A value is trying to be set on a copy of a slice from a DataFrame.\n",
      "Try using .loc[row_indexer,col_indexer] = value instead\n",
      "\n",
      "See the caveats in the documentation: https://pandas.pydata.org/pandas-docs/stable/user_guide/indexing.html#returning-a-view-versus-a-copy\n",
      "  self[col] = igetitem(value, i)\n"
     ]
    },
    {
     "name": "stdout",
     "output_type": "stream",
     "text": [
      "Epoch 1/15\n",
      "152/152 [==============================] - 11s 56ms/step - loss: 0.1570 - val_loss: 0.2013\n",
      "Epoch 2/15\n",
      "152/152 [==============================] - 8s 52ms/step - loss: 0.1247 - val_loss: 0.1934\n",
      "Epoch 3/15\n",
      "152/152 [==============================] - 8s 52ms/step - loss: 0.1091 - val_loss: 0.1895\n",
      "Epoch 4/15\n",
      "152/152 [==============================] - 8s 52ms/step - loss: 0.1001 - val_loss: 0.1882\n",
      "Epoch 5/15\n",
      "152/152 [==============================] - 8s 52ms/step - loss: 0.0949 - val_loss: 0.1896\n",
      "Epoch 6/15\n",
      "152/152 [==============================] - 8s 52ms/step - loss: 0.0930 - val_loss: 0.1879\n",
      "Epoch 7/15\n",
      "152/152 [==============================] - 8s 51ms/step - loss: 0.0908 - val_loss: 0.1885\n",
      "Epoch 8/15\n",
      "152/152 [==============================] - 8s 52ms/step - loss: 0.0900 - val_loss: 0.1888\n",
      "Epoch 9/15\n",
      "152/152 [==============================] - 8s 52ms/step - loss: 0.0877 - val_loss: 0.1923\n",
      "Epoch 10/15\n",
      "152/152 [==============================] - 8s 51ms/step - loss: 0.0895 - val_loss: 0.1899\n",
      "Epoch 11/15\n",
      "152/152 [==============================] - 8s 52ms/step - loss: 0.0875 - val_loss: 0.1899\n",
      "Epoch 12/15\n",
      "152/152 [==============================] - 8s 52ms/step - loss: 0.0869 - val_loss: 0.1912\n",
      "Epoch 13/15\n",
      "152/152 [==============================] - 8s 51ms/step - loss: 0.0865 - val_loss: 0.1905\n",
      "Epoch 14/15\n",
      "152/152 [==============================] - 8s 51ms/step - loss: 0.0861 - val_loss: 0.1911\n",
      "Epoch 15/15\n",
      "152/152 [==============================] - 8s 52ms/step - loss: 0.0867 - val_loss: 0.1915\n"
     ]
    },
    {
     "name": "stderr",
     "output_type": "stream",
     "text": [
      "WARNING:absl:Found untraced functions such as lstm_cell_87_layer_call_fn, lstm_cell_87_layer_call_and_return_conditional_losses while saving (showing 2 of 2). These functions will not be directly callable after loading.\n"
     ]
    },
    {
     "name": "stdout",
     "output_type": "stream",
     "text": [
      "INFO:tensorflow:Assets written to: Walk_forward/models/day82\\assets\n"
     ]
    },
    {
     "name": "stderr",
     "output_type": "stream",
     "text": [
      "INFO:tensorflow:Assets written to: Walk_forward/models/day82\\assets\n",
      "WARNING:absl:<keras.layers.recurrent.LSTMCell object at 0x000001D24E5F09A0> has the same name 'LSTMCell' as a built-in Keras object. Consider renaming <class 'keras.layers.recurrent.LSTMCell'> to avoid naming conflicts when loading with `tf.keras.models.load_model`. If renaming is not possible, pass the object in the `custom_objects` parameter of the load function.\n"
     ]
    },
    {
     "name": "stdout",
     "output_type": "stream",
     "text": [
      "152/152 [==============================] - 4s 21ms/step\n",
      "65/65 [==============================] - 1s 19ms/step\n"
     ]
    },
    {
     "name": "stderr",
     "output_type": "stream",
     "text": [
      "D:\\Anaconda\\lib\\site-packages\\pandas\\core\\frame.py:3678: SettingWithCopyWarning: \n",
      "A value is trying to be set on a copy of a slice from a DataFrame.\n",
      "Try using .loc[row_indexer,col_indexer] = value instead\n",
      "\n",
      "See the caveats in the documentation: https://pandas.pydata.org/pandas-docs/stable/user_guide/indexing.html#returning-a-view-versus-a-copy\n",
      "  self[col] = igetitem(value, i)\n"
     ]
    },
    {
     "name": "stdout",
     "output_type": "stream",
     "text": [
      "Epoch 1/15\n",
      "152/152 [==============================] - 10s 55ms/step - loss: 0.1064 - val_loss: 0.1950\n",
      "Epoch 2/15\n",
      "152/152 [==============================] - 8s 52ms/step - loss: 0.0911 - val_loss: 0.1903\n",
      "Epoch 3/15\n",
      "152/152 [==============================] - 8s 52ms/step - loss: 0.0821 - val_loss: 0.1875\n",
      "Epoch 4/15\n",
      "152/152 [==============================] - 8s 52ms/step - loss: 0.0726 - val_loss: 0.1870\n",
      "Epoch 5/15\n",
      "152/152 [==============================] - 8s 52ms/step - loss: 0.0664 - val_loss: 0.1863\n",
      "Epoch 6/15\n",
      "152/152 [==============================] - 8s 51ms/step - loss: 0.0658 - val_loss: 0.1864\n",
      "Epoch 7/15\n",
      "152/152 [==============================] - 8s 51ms/step - loss: 0.0635 - val_loss: 0.1879\n",
      "Epoch 8/15\n",
      "152/152 [==============================] - 8s 52ms/step - loss: 0.0620 - val_loss: 0.1883\n",
      "Epoch 9/15\n",
      "152/152 [==============================] - 8s 52ms/step - loss: 0.0613 - val_loss: 0.1905\n",
      "Epoch 10/15\n",
      "152/152 [==============================] - 8s 51ms/step - loss: 0.0608 - val_loss: 0.1913\n",
      "Epoch 11/15\n",
      "152/152 [==============================] - 8s 52ms/step - loss: 0.0614 - val_loss: 0.1916\n",
      "Epoch 12/15\n",
      "152/152 [==============================] - 8s 52ms/step - loss: 0.0602 - val_loss: 0.1915\n",
      "Epoch 13/15\n",
      "152/152 [==============================] - 8s 52ms/step - loss: 0.0634 - val_loss: 0.1924\n",
      "Epoch 14/15\n",
      "152/152 [==============================] - 8s 51ms/step - loss: 0.0626 - val_loss: 0.1932\n",
      "Epoch 15/15\n",
      "152/152 [==============================] - 8s 52ms/step - loss: 0.0605 - val_loss: 0.1950\n"
     ]
    },
    {
     "name": "stderr",
     "output_type": "stream",
     "text": [
      "WARNING:absl:Found untraced functions such as lstm_cell_88_layer_call_fn, lstm_cell_88_layer_call_and_return_conditional_losses while saving (showing 2 of 2). These functions will not be directly callable after loading.\n"
     ]
    },
    {
     "name": "stdout",
     "output_type": "stream",
     "text": [
      "INFO:tensorflow:Assets written to: Walk_forward/models/day83\\assets\n"
     ]
    },
    {
     "name": "stderr",
     "output_type": "stream",
     "text": [
      "INFO:tensorflow:Assets written to: Walk_forward/models/day83\\assets\n",
      "WARNING:absl:<keras.layers.recurrent.LSTMCell object at 0x000001D2354342B0> has the same name 'LSTMCell' as a built-in Keras object. Consider renaming <class 'keras.layers.recurrent.LSTMCell'> to avoid naming conflicts when loading with `tf.keras.models.load_model`. If renaming is not possible, pass the object in the `custom_objects` parameter of the load function.\n"
     ]
    },
    {
     "name": "stdout",
     "output_type": "stream",
     "text": [
      "152/152 [==============================] - 4s 21ms/step\n",
      "65/65 [==============================] - 1s 19ms/step\n"
     ]
    },
    {
     "name": "stderr",
     "output_type": "stream",
     "text": [
      "D:\\Anaconda\\lib\\site-packages\\pandas\\core\\frame.py:3678: SettingWithCopyWarning: \n",
      "A value is trying to be set on a copy of a slice from a DataFrame.\n",
      "Try using .loc[row_indexer,col_indexer] = value instead\n",
      "\n",
      "See the caveats in the documentation: https://pandas.pydata.org/pandas-docs/stable/user_guide/indexing.html#returning-a-view-versus-a-copy\n",
      "  self[col] = igetitem(value, i)\n"
     ]
    },
    {
     "name": "stdout",
     "output_type": "stream",
     "text": [
      "Epoch 1/15\n",
      "152/152 [==============================] - 11s 56ms/step - loss: 0.1362 - val_loss: 0.1682\n",
      "Epoch 2/15\n",
      "152/152 [==============================] - 8s 52ms/step - loss: 0.1092 - val_loss: 0.1593\n",
      "Epoch 3/15\n",
      "152/152 [==============================] - 8s 52ms/step - loss: 0.0996 - val_loss: 0.1560\n",
      "Epoch 4/15\n",
      "152/152 [==============================] - 8s 52ms/step - loss: 0.0922 - val_loss: 0.1522\n",
      "Epoch 5/15\n",
      "152/152 [==============================] - 8s 52ms/step - loss: 0.0874 - val_loss: 0.1508\n",
      "Epoch 6/15\n",
      "152/152 [==============================] - 8s 52ms/step - loss: 0.0844 - val_loss: 0.1488\n",
      "Epoch 7/15\n",
      "152/152 [==============================] - 8s 52ms/step - loss: 0.0824 - val_loss: 0.1486\n",
      "Epoch 8/15\n",
      "152/152 [==============================] - 8s 52ms/step - loss: 0.0809 - val_loss: 0.1481\n",
      "Epoch 9/15\n",
      "152/152 [==============================] - 8s 52ms/step - loss: 0.0790 - val_loss: 0.1503\n",
      "Epoch 10/15\n",
      "152/152 [==============================] - 8s 52ms/step - loss: 0.0788 - val_loss: 0.1466\n",
      "Epoch 11/15\n",
      "152/152 [==============================] - 8s 52ms/step - loss: 0.0777 - val_loss: 0.1478\n",
      "Epoch 12/15\n",
      "152/152 [==============================] - 8s 52ms/step - loss: 0.0812 - val_loss: 0.1467\n",
      "Epoch 13/15\n",
      "152/152 [==============================] - 8s 52ms/step - loss: 0.0816 - val_loss: 0.1462\n",
      "Epoch 14/15\n",
      "152/152 [==============================] - 8s 52ms/step - loss: 0.0774 - val_loss: 0.1460\n",
      "Epoch 15/15\n",
      "152/152 [==============================] - 8s 52ms/step - loss: 0.0775 - val_loss: 0.1463\n"
     ]
    },
    {
     "name": "stderr",
     "output_type": "stream",
     "text": [
      "WARNING:absl:Found untraced functions such as lstm_cell_89_layer_call_fn, lstm_cell_89_layer_call_and_return_conditional_losses while saving (showing 2 of 2). These functions will not be directly callable after loading.\n"
     ]
    },
    {
     "name": "stdout",
     "output_type": "stream",
     "text": [
      "INFO:tensorflow:Assets written to: Walk_forward/models/day84\\assets\n"
     ]
    },
    {
     "name": "stderr",
     "output_type": "stream",
     "text": [
      "INFO:tensorflow:Assets written to: Walk_forward/models/day84\\assets\n",
      "WARNING:absl:<keras.layers.recurrent.LSTMCell object at 0x000001CF5C7261F0> has the same name 'LSTMCell' as a built-in Keras object. Consider renaming <class 'keras.layers.recurrent.LSTMCell'> to avoid naming conflicts when loading with `tf.keras.models.load_model`. If renaming is not possible, pass the object in the `custom_objects` parameter of the load function.\n"
     ]
    },
    {
     "name": "stdout",
     "output_type": "stream",
     "text": [
      "152/152 [==============================] - 4s 21ms/step\n",
      "65/65 [==============================] - 1s 19ms/step\n"
     ]
    },
    {
     "name": "stderr",
     "output_type": "stream",
     "text": [
      "D:\\Anaconda\\lib\\site-packages\\pandas\\core\\frame.py:3678: SettingWithCopyWarning: \n",
      "A value is trying to be set on a copy of a slice from a DataFrame.\n",
      "Try using .loc[row_indexer,col_indexer] = value instead\n",
      "\n",
      "See the caveats in the documentation: https://pandas.pydata.org/pandas-docs/stable/user_guide/indexing.html#returning-a-view-versus-a-copy\n",
      "  self[col] = igetitem(value, i)\n"
     ]
    },
    {
     "name": "stdout",
     "output_type": "stream",
     "text": [
      "Epoch 1/15\n",
      "152/152 [==============================] - 11s 56ms/step - loss: 0.1859 - val_loss: 0.1852\n",
      "Epoch 2/15\n",
      "152/152 [==============================] - 8s 52ms/step - loss: 0.1217 - val_loss: 0.1677\n",
      "Epoch 3/15\n",
      "152/152 [==============================] - 8s 52ms/step - loss: 0.1101 - val_loss: 0.1589\n",
      "Epoch 4/15\n",
      "152/152 [==============================] - 8s 52ms/step - loss: 0.1017 - val_loss: 0.1545\n",
      "Epoch 5/15\n",
      "152/152 [==============================] - 8s 52ms/step - loss: 0.0928 - val_loss: 0.1517\n",
      "Epoch 6/15\n",
      "152/152 [==============================] - 8s 52ms/step - loss: 0.0884 - val_loss: 0.1501\n",
      "Epoch 7/15\n",
      "152/152 [==============================] - 8s 52ms/step - loss: 0.0841 - val_loss: 0.1493\n",
      "Epoch 8/15\n",
      "152/152 [==============================] - 8s 52ms/step - loss: 0.0819 - val_loss: 0.1476\n",
      "Epoch 9/15\n",
      "152/152 [==============================] - 8s 52ms/step - loss: 0.0809 - val_loss: 0.1474\n",
      "Epoch 10/15\n",
      "152/152 [==============================] - 8s 52ms/step - loss: 0.0766 - val_loss: 0.1468\n",
      "Epoch 11/15\n",
      "152/152 [==============================] - 8s 52ms/step - loss: 0.0783 - val_loss: 0.1463\n",
      "Epoch 12/15\n",
      "152/152 [==============================] - 8s 52ms/step - loss: 0.0753 - val_loss: 0.1456\n",
      "Epoch 13/15\n",
      "152/152 [==============================] - 8s 52ms/step - loss: 0.0758 - val_loss: 0.1459\n",
      "Epoch 14/15\n",
      "152/152 [==============================] - 8s 52ms/step - loss: 0.0782 - val_loss: 0.1451\n",
      "Epoch 15/15\n",
      "152/152 [==============================] - 8s 52ms/step - loss: 0.0754 - val_loss: 0.1455\n"
     ]
    },
    {
     "name": "stderr",
     "output_type": "stream",
     "text": [
      "WARNING:absl:Found untraced functions such as lstm_cell_90_layer_call_fn, lstm_cell_90_layer_call_and_return_conditional_losses while saving (showing 2 of 2). These functions will not be directly callable after loading.\n"
     ]
    },
    {
     "name": "stdout",
     "output_type": "stream",
     "text": [
      "INFO:tensorflow:Assets written to: Walk_forward/models/day85\\assets\n"
     ]
    },
    {
     "name": "stderr",
     "output_type": "stream",
     "text": [
      "INFO:tensorflow:Assets written to: Walk_forward/models/day85\\assets\n",
      "WARNING:absl:<keras.layers.recurrent.LSTMCell object at 0x000001D247C89E80> has the same name 'LSTMCell' as a built-in Keras object. Consider renaming <class 'keras.layers.recurrent.LSTMCell'> to avoid naming conflicts when loading with `tf.keras.models.load_model`. If renaming is not possible, pass the object in the `custom_objects` parameter of the load function.\n"
     ]
    },
    {
     "name": "stdout",
     "output_type": "stream",
     "text": [
      "152/152 [==============================] - 4s 21ms/step\n",
      "65/65 [==============================] - 1s 19ms/step\n"
     ]
    },
    {
     "name": "stderr",
     "output_type": "stream",
     "text": [
      "D:\\Anaconda\\lib\\site-packages\\pandas\\core\\frame.py:3678: SettingWithCopyWarning: \n",
      "A value is trying to be set on a copy of a slice from a DataFrame.\n",
      "Try using .loc[row_indexer,col_indexer] = value instead\n",
      "\n",
      "See the caveats in the documentation: https://pandas.pydata.org/pandas-docs/stable/user_guide/indexing.html#returning-a-view-versus-a-copy\n",
      "  self[col] = igetitem(value, i)\n"
     ]
    },
    {
     "name": "stdout",
     "output_type": "stream",
     "text": [
      "Epoch 1/15\n",
      "152/152 [==============================] - 11s 56ms/step - loss: 0.1262 - val_loss: 0.1707\n",
      "Epoch 2/15\n",
      "152/152 [==============================] - 8s 52ms/step - loss: 0.0821 - val_loss: 0.1658\n",
      "Epoch 3/15\n",
      "152/152 [==============================] - 8s 52ms/step - loss: 0.0747 - val_loss: 0.1593\n",
      "Epoch 4/15\n",
      "152/152 [==============================] - 8s 52ms/step - loss: 0.0685 - val_loss: 0.1561\n",
      "Epoch 5/15\n",
      "152/152 [==============================] - 8s 52ms/step - loss: 0.0633 - val_loss: 0.1551\n",
      "Epoch 6/15\n",
      "152/152 [==============================] - 8s 52ms/step - loss: 0.0596 - val_loss: 0.1525\n",
      "Epoch 7/15\n",
      "152/152 [==============================] - 8s 52ms/step - loss: 0.0563 - val_loss: 0.1565\n",
      "Epoch 8/15\n",
      "152/152 [==============================] - 8s 52ms/step - loss: 0.0549 - val_loss: 0.1499\n",
      "Epoch 9/15\n",
      "152/152 [==============================] - 8s 52ms/step - loss: 0.0525 - val_loss: 0.1494\n",
      "Epoch 10/15\n",
      "152/152 [==============================] - 8s 52ms/step - loss: 0.0504 - val_loss: 0.1487\n",
      "Epoch 11/15\n",
      "152/152 [==============================] - 8s 52ms/step - loss: 0.0503 - val_loss: 0.1489\n",
      "Epoch 12/15\n",
      "152/152 [==============================] - 8s 52ms/step - loss: 0.0500 - val_loss: 0.1470\n",
      "Epoch 13/15\n",
      "152/152 [==============================] - 8s 52ms/step - loss: 0.0494 - val_loss: 0.1471\n",
      "Epoch 14/15\n",
      "152/152 [==============================] - 8s 51ms/step - loss: 0.0495 - val_loss: 0.1475\n",
      "Epoch 15/15\n",
      "152/152 [==============================] - 8s 52ms/step - loss: 0.0496 - val_loss: 0.1467\n"
     ]
    },
    {
     "name": "stderr",
     "output_type": "stream",
     "text": [
      "WARNING:absl:Found untraced functions such as lstm_cell_91_layer_call_fn, lstm_cell_91_layer_call_and_return_conditional_losses while saving (showing 2 of 2). These functions will not be directly callable after loading.\n"
     ]
    },
    {
     "name": "stdout",
     "output_type": "stream",
     "text": [
      "INFO:tensorflow:Assets written to: Walk_forward/models/day86\\assets\n"
     ]
    },
    {
     "name": "stderr",
     "output_type": "stream",
     "text": [
      "INFO:tensorflow:Assets written to: Walk_forward/models/day86\\assets\n",
      "WARNING:absl:<keras.layers.recurrent.LSTMCell object at 0x000001D21466D0A0> has the same name 'LSTMCell' as a built-in Keras object. Consider renaming <class 'keras.layers.recurrent.LSTMCell'> to avoid naming conflicts when loading with `tf.keras.models.load_model`. If renaming is not possible, pass the object in the `custom_objects` parameter of the load function.\n"
     ]
    },
    {
     "name": "stdout",
     "output_type": "stream",
     "text": [
      "152/152 [==============================] - 4s 21ms/step\n",
      "65/65 [==============================] - 1s 19ms/step\n"
     ]
    },
    {
     "name": "stderr",
     "output_type": "stream",
     "text": [
      "D:\\Anaconda\\lib\\site-packages\\pandas\\core\\frame.py:3678: SettingWithCopyWarning: \n",
      "A value is trying to be set on a copy of a slice from a DataFrame.\n",
      "Try using .loc[row_indexer,col_indexer] = value instead\n",
      "\n",
      "See the caveats in the documentation: https://pandas.pydata.org/pandas-docs/stable/user_guide/indexing.html#returning-a-view-versus-a-copy\n",
      "  self[col] = igetitem(value, i)\n"
     ]
    },
    {
     "name": "stdout",
     "output_type": "stream",
     "text": [
      "Epoch 1/15\n",
      "152/152 [==============================] - 10s 56ms/step - loss: 0.1841 - val_loss: 0.1885\n",
      "Epoch 2/15\n",
      "152/152 [==============================] - 8s 52ms/step - loss: 0.0925 - val_loss: 0.1700\n",
      "Epoch 3/15\n",
      "152/152 [==============================] - 8s 52ms/step - loss: 0.0796 - val_loss: 0.1628\n",
      "Epoch 4/15\n",
      "152/152 [==============================] - 8s 52ms/step - loss: 0.0731 - val_loss: 0.1588\n",
      "Epoch 5/15\n",
      "152/152 [==============================] - 8s 52ms/step - loss: 0.0671 - val_loss: 0.1553\n",
      "Epoch 6/15\n",
      "152/152 [==============================] - 8s 52ms/step - loss: 0.0624 - val_loss: 0.1533\n",
      "Epoch 7/15\n",
      "152/152 [==============================] - 8s 53ms/step - loss: 0.0602 - val_loss: 0.1518\n",
      "Epoch 8/15\n",
      "152/152 [==============================] - 8s 52ms/step - loss: 0.0561 - val_loss: 0.1508\n",
      "Epoch 9/15\n",
      "152/152 [==============================] - 8s 52ms/step - loss: 0.0541 - val_loss: 0.1505\n",
      "Epoch 10/15\n",
      "152/152 [==============================] - 8s 52ms/step - loss: 0.0516 - val_loss: 0.1502\n",
      "Epoch 11/15\n",
      "152/152 [==============================] - 8s 52ms/step - loss: 0.0519 - val_loss: 0.1506\n",
      "Epoch 12/15\n",
      "152/152 [==============================] - 8s 52ms/step - loss: 0.0515 - val_loss: 0.1491\n",
      "Epoch 13/15\n",
      "152/152 [==============================] - 8s 53ms/step - loss: 0.0517 - val_loss: 0.1490\n",
      "Epoch 14/15\n",
      "152/152 [==============================] - 8s 52ms/step - loss: 0.0498 - val_loss: 0.1490\n",
      "Epoch 15/15\n",
      "152/152 [==============================] - 8s 52ms/step - loss: 0.0498 - val_loss: 0.1486\n"
     ]
    },
    {
     "name": "stderr",
     "output_type": "stream",
     "text": [
      "WARNING:absl:Found untraced functions such as lstm_cell_92_layer_call_fn, lstm_cell_92_layer_call_and_return_conditional_losses while saving (showing 2 of 2). These functions will not be directly callable after loading.\n"
     ]
    },
    {
     "name": "stdout",
     "output_type": "stream",
     "text": [
      "INFO:tensorflow:Assets written to: Walk_forward/models/day87\\assets\n"
     ]
    },
    {
     "name": "stderr",
     "output_type": "stream",
     "text": [
      "INFO:tensorflow:Assets written to: Walk_forward/models/day87\\assets\n",
      "WARNING:absl:<keras.layers.recurrent.LSTMCell object at 0x000001D24B390940> has the same name 'LSTMCell' as a built-in Keras object. Consider renaming <class 'keras.layers.recurrent.LSTMCell'> to avoid naming conflicts when loading with `tf.keras.models.load_model`. If renaming is not possible, pass the object in the `custom_objects` parameter of the load function.\n"
     ]
    },
    {
     "name": "stdout",
     "output_type": "stream",
     "text": [
      "152/152 [==============================] - 4s 21ms/step\n",
      "65/65 [==============================] - 1s 19ms/step\n"
     ]
    },
    {
     "name": "stderr",
     "output_type": "stream",
     "text": [
      "D:\\Anaconda\\lib\\site-packages\\pandas\\core\\frame.py:3678: SettingWithCopyWarning: \n",
      "A value is trying to be set on a copy of a slice from a DataFrame.\n",
      "Try using .loc[row_indexer,col_indexer] = value instead\n",
      "\n",
      "See the caveats in the documentation: https://pandas.pydata.org/pandas-docs/stable/user_guide/indexing.html#returning-a-view-versus-a-copy\n",
      "  self[col] = igetitem(value, i)\n"
     ]
    },
    {
     "name": "stdout",
     "output_type": "stream",
     "text": [
      "Epoch 1/15\n",
      "152/152 [==============================] - 11s 56ms/step - loss: 0.1363 - val_loss: 0.1261\n",
      "Epoch 2/15\n",
      "152/152 [==============================] - 8s 52ms/step - loss: 0.0866 - val_loss: 0.1271\n",
      "Epoch 3/15\n",
      "152/152 [==============================] - 8s 52ms/step - loss: 0.0776 - val_loss: 0.1206\n",
      "Epoch 4/15\n",
      "152/152 [==============================] - 8s 52ms/step - loss: 0.0705 - val_loss: 0.1192\n",
      "Epoch 5/15\n",
      "152/152 [==============================] - 8s 52ms/step - loss: 0.0671 - val_loss: 0.1178\n",
      "Epoch 6/15\n",
      "152/152 [==============================] - 8s 52ms/step - loss: 0.0643 - val_loss: 0.1176\n",
      "Epoch 7/15\n",
      "152/152 [==============================] - 8s 52ms/step - loss: 0.0616 - val_loss: 0.1175\n",
      "Epoch 8/15\n",
      "152/152 [==============================] - 8s 52ms/step - loss: 0.0604 - val_loss: 0.1177\n",
      "Epoch 9/15\n",
      "152/152 [==============================] - 8s 52ms/step - loss: 0.0586 - val_loss: 0.1171\n",
      "Epoch 10/15\n",
      "152/152 [==============================] - 8s 52ms/step - loss: 0.0580 - val_loss: 0.1160\n",
      "Epoch 11/15\n",
      "152/152 [==============================] - 8s 52ms/step - loss: 0.0577 - val_loss: 0.1161\n",
      "Epoch 12/15\n",
      "152/152 [==============================] - 8s 53ms/step - loss: 0.0568 - val_loss: 0.1192\n",
      "Epoch 13/15\n",
      "152/152 [==============================] - 8s 52ms/step - loss: 0.0560 - val_loss: 0.1152\n",
      "Epoch 14/15\n",
      "152/152 [==============================] - 8s 52ms/step - loss: 0.0558 - val_loss: 0.1155\n",
      "Epoch 15/15\n",
      "152/152 [==============================] - 8s 52ms/step - loss: 0.0557 - val_loss: 0.1150\n"
     ]
    },
    {
     "name": "stderr",
     "output_type": "stream",
     "text": [
      "WARNING:absl:Found untraced functions such as lstm_cell_93_layer_call_fn, lstm_cell_93_layer_call_and_return_conditional_losses while saving (showing 2 of 2). These functions will not be directly callable after loading.\n"
     ]
    },
    {
     "name": "stdout",
     "output_type": "stream",
     "text": [
      "INFO:tensorflow:Assets written to: Walk_forward/models/day88\\assets\n"
     ]
    },
    {
     "name": "stderr",
     "output_type": "stream",
     "text": [
      "INFO:tensorflow:Assets written to: Walk_forward/models/day88\\assets\n",
      "WARNING:absl:<keras.layers.recurrent.LSTMCell object at 0x000001CF5DE9E400> has the same name 'LSTMCell' as a built-in Keras object. Consider renaming <class 'keras.layers.recurrent.LSTMCell'> to avoid naming conflicts when loading with `tf.keras.models.load_model`. If renaming is not possible, pass the object in the `custom_objects` parameter of the load function.\n"
     ]
    },
    {
     "name": "stdout",
     "output_type": "stream",
     "text": [
      "152/152 [==============================] - 4s 21ms/step\n",
      "65/65 [==============================] - 1s 19ms/step\n"
     ]
    },
    {
     "name": "stderr",
     "output_type": "stream",
     "text": [
      "D:\\Anaconda\\lib\\site-packages\\pandas\\core\\frame.py:3678: SettingWithCopyWarning: \n",
      "A value is trying to be set on a copy of a slice from a DataFrame.\n",
      "Try using .loc[row_indexer,col_indexer] = value instead\n",
      "\n",
      "See the caveats in the documentation: https://pandas.pydata.org/pandas-docs/stable/user_guide/indexing.html#returning-a-view-versus-a-copy\n",
      "  self[col] = igetitem(value, i)\n"
     ]
    },
    {
     "name": "stdout",
     "output_type": "stream",
     "text": [
      "Epoch 1/15\n",
      "152/152 [==============================] - 11s 56ms/step - loss: 0.2033 - val_loss: 0.0232\n",
      "Epoch 2/15\n",
      "152/152 [==============================] - 8s 52ms/step - loss: 0.1377 - val_loss: 0.0204\n",
      "Epoch 3/15\n",
      "152/152 [==============================] - 8s 52ms/step - loss: 0.1264 - val_loss: 0.0187\n",
      "Epoch 4/15\n",
      "152/152 [==============================] - 8s 52ms/step - loss: 0.1184 - val_loss: 0.0182\n",
      "Epoch 5/15\n",
      "152/152 [==============================] - 8s 52ms/step - loss: 0.1155 - val_loss: 0.0167\n",
      "Epoch 6/15\n",
      "152/152 [==============================] - 8s 52ms/step - loss: 0.1089 - val_loss: 0.0158\n",
      "Epoch 7/15\n",
      "152/152 [==============================] - 8s 52ms/step - loss: 0.1061 - val_loss: 0.0151\n",
      "Epoch 8/15\n",
      "152/152 [==============================] - 8s 52ms/step - loss: 0.1046 - val_loss: 0.0151\n",
      "Epoch 9/15\n",
      "152/152 [==============================] - 9s 59ms/step - loss: 0.1025 - val_loss: 0.0143\n",
      "Epoch 10/15\n",
      "152/152 [==============================] - 9s 56ms/step - loss: 0.1011 - val_loss: 0.0143\n",
      "Epoch 11/15\n",
      "152/152 [==============================] - 8s 53ms/step - loss: 0.1015 - val_loss: 0.0141\n",
      "Epoch 12/15\n",
      "152/152 [==============================] - 8s 55ms/step - loss: 0.0997 - val_loss: 0.0135\n",
      "Epoch 13/15\n",
      "152/152 [==============================] - 8s 54ms/step - loss: 0.0996 - val_loss: 0.0152\n",
      "Epoch 14/15\n",
      "152/152 [==============================] - 8s 54ms/step - loss: 0.0998 - val_loss: 0.0133\n",
      "Epoch 15/15\n",
      "152/152 [==============================] - 8s 53ms/step - loss: 0.0993 - val_loss: 0.0132\n"
     ]
    },
    {
     "name": "stderr",
     "output_type": "stream",
     "text": [
      "WARNING:absl:Found untraced functions such as lstm_cell_94_layer_call_fn, lstm_cell_94_layer_call_and_return_conditional_losses while saving (showing 2 of 2). These functions will not be directly callable after loading.\n"
     ]
    },
    {
     "name": "stdout",
     "output_type": "stream",
     "text": [
      "INFO:tensorflow:Assets written to: Walk_forward/models/day89\\assets\n"
     ]
    },
    {
     "name": "stderr",
     "output_type": "stream",
     "text": [
      "INFO:tensorflow:Assets written to: Walk_forward/models/day89\\assets\n",
      "WARNING:absl:<keras.layers.recurrent.LSTMCell object at 0x000001D238222E50> has the same name 'LSTMCell' as a built-in Keras object. Consider renaming <class 'keras.layers.recurrent.LSTMCell'> to avoid naming conflicts when loading with `tf.keras.models.load_model`. If renaming is not possible, pass the object in the `custom_objects` parameter of the load function.\n"
     ]
    },
    {
     "name": "stdout",
     "output_type": "stream",
     "text": [
      "152/152 [==============================] - 4s 21ms/step\n",
      "65/65 [==============================] - 1s 20ms/step\n"
     ]
    },
    {
     "name": "stderr",
     "output_type": "stream",
     "text": [
      "D:\\Anaconda\\lib\\site-packages\\pandas\\core\\frame.py:3678: SettingWithCopyWarning: \n",
      "A value is trying to be set on a copy of a slice from a DataFrame.\n",
      "Try using .loc[row_indexer,col_indexer] = value instead\n",
      "\n",
      "See the caveats in the documentation: https://pandas.pydata.org/pandas-docs/stable/user_guide/indexing.html#returning-a-view-versus-a-copy\n",
      "  self[col] = igetitem(value, i)\n"
     ]
    },
    {
     "name": "stdout",
     "output_type": "stream",
     "text": [
      "Epoch 1/15\n",
      "152/152 [==============================] - 11s 62ms/step - loss: 0.2548 - val_loss: 0.0247\n",
      "Epoch 2/15\n",
      "152/152 [==============================] - 9s 57ms/step - loss: 0.1408 - val_loss: 0.0198\n",
      "Epoch 3/15\n",
      "152/152 [==============================] - 8s 53ms/step - loss: 0.1303 - val_loss: 0.0186\n",
      "Epoch 4/15\n",
      "152/152 [==============================] - 8s 53ms/step - loss: 0.1228 - val_loss: 0.0178\n",
      "Epoch 5/15\n",
      "152/152 [==============================] - 8s 53ms/step - loss: 0.1175 - val_loss: 0.0172\n",
      "Epoch 6/15\n",
      "152/152 [==============================] - 8s 54ms/step - loss: 0.1119 - val_loss: 0.0168\n",
      "Epoch 7/15\n",
      "152/152 [==============================] - 8s 54ms/step - loss: 0.1100 - val_loss: 0.0160\n",
      "Epoch 8/15\n",
      "152/152 [==============================] - 8s 53ms/step - loss: 0.1075 - val_loss: 0.0162\n",
      "Epoch 9/15\n",
      "152/152 [==============================] - 8s 52ms/step - loss: 0.1043 - val_loss: 0.0154\n",
      "Epoch 10/15\n",
      "152/152 [==============================] - 8s 52ms/step - loss: 0.1031 - val_loss: 0.0147\n",
      "Epoch 11/15\n",
      "152/152 [==============================] - 8s 54ms/step - loss: 0.1022 - val_loss: 0.0141\n",
      "Epoch 12/15\n",
      "152/152 [==============================] - 8s 53ms/step - loss: 0.1011 - val_loss: 0.0142\n",
      "Epoch 13/15\n",
      "152/152 [==============================] - 8s 52ms/step - loss: 0.0982 - val_loss: 0.0137\n",
      "Epoch 14/15\n",
      "152/152 [==============================] - 8s 53ms/step - loss: 0.0997 - val_loss: 0.0144\n",
      "Epoch 15/15\n",
      "152/152 [==============================] - 8s 53ms/step - loss: 0.0994 - val_loss: 0.0132\n"
     ]
    },
    {
     "name": "stderr",
     "output_type": "stream",
     "text": [
      "WARNING:absl:Found untraced functions such as lstm_cell_95_layer_call_fn, lstm_cell_95_layer_call_and_return_conditional_losses while saving (showing 2 of 2). These functions will not be directly callable after loading.\n"
     ]
    },
    {
     "name": "stdout",
     "output_type": "stream",
     "text": [
      "INFO:tensorflow:Assets written to: Walk_forward/models/day90\\assets\n"
     ]
    },
    {
     "name": "stderr",
     "output_type": "stream",
     "text": [
      "INFO:tensorflow:Assets written to: Walk_forward/models/day90\\assets\n",
      "WARNING:absl:<keras.layers.recurrent.LSTMCell object at 0x000001D24866F490> has the same name 'LSTMCell' as a built-in Keras object. Consider renaming <class 'keras.layers.recurrent.LSTMCell'> to avoid naming conflicts when loading with `tf.keras.models.load_model`. If renaming is not possible, pass the object in the `custom_objects` parameter of the load function.\n"
     ]
    },
    {
     "name": "stdout",
     "output_type": "stream",
     "text": [
      "152/152 [==============================] - 4s 22ms/step\n",
      "65/65 [==============================] - 1s 20ms/step\n"
     ]
    },
    {
     "name": "stderr",
     "output_type": "stream",
     "text": [
      "D:\\Anaconda\\lib\\site-packages\\pandas\\core\\frame.py:3678: SettingWithCopyWarning: \n",
      "A value is trying to be set on a copy of a slice from a DataFrame.\n",
      "Try using .loc[row_indexer,col_indexer] = value instead\n",
      "\n",
      "See the caveats in the documentation: https://pandas.pydata.org/pandas-docs/stable/user_guide/indexing.html#returning-a-view-versus-a-copy\n",
      "  self[col] = igetitem(value, i)\n"
     ]
    },
    {
     "name": "stdout",
     "output_type": "stream",
     "text": [
      "Epoch 1/15\n",
      "152/152 [==============================] - 11s 57ms/step - loss: 0.1704 - val_loss: 0.4212\n",
      "Epoch 2/15\n",
      "152/152 [==============================] - 8s 53ms/step - loss: 0.1317 - val_loss: 0.4067\n",
      "Epoch 3/15\n",
      "152/152 [==============================] - 8s 54ms/step - loss: 0.1224 - val_loss: 0.3939\n",
      "Epoch 4/15\n",
      "152/152 [==============================] - 8s 53ms/step - loss: 0.1169 - val_loss: 0.3808\n",
      "Epoch 5/15\n",
      "152/152 [==============================] - 8s 52ms/step - loss: 0.1126 - val_loss: 0.3722\n",
      "Epoch 6/15\n",
      "152/152 [==============================] - 8s 53ms/step - loss: 0.1124 - val_loss: 0.3654\n",
      "Epoch 7/15\n",
      "152/152 [==============================] - 8s 52ms/step - loss: 0.1071 - val_loss: 0.3569\n",
      "Epoch 8/15\n",
      "152/152 [==============================] - 8s 52ms/step - loss: 0.1051 - val_loss: 0.3521\n",
      "Epoch 9/15\n",
      "152/152 [==============================] - 8s 52ms/step - loss: 0.1033 - val_loss: 0.3460\n",
      "Epoch 10/15\n",
      "152/152 [==============================] - 8s 52ms/step - loss: 0.1020 - val_loss: 0.3427\n",
      "Epoch 11/15\n",
      "152/152 [==============================] - 8s 52ms/step - loss: 0.1013 - val_loss: 0.3402\n",
      "Epoch 12/15\n",
      "152/152 [==============================] - 8s 52ms/step - loss: 0.1000 - val_loss: 0.3354\n",
      "Epoch 13/15\n",
      "152/152 [==============================] - 8s 52ms/step - loss: 0.0989 - val_loss: 0.3340\n",
      "Epoch 14/15\n",
      "152/152 [==============================] - 8s 52ms/step - loss: 0.0979 - val_loss: 0.3323\n",
      "Epoch 15/15\n",
      "152/152 [==============================] - 8s 52ms/step - loss: 0.0971 - val_loss: 0.3301\n"
     ]
    },
    {
     "name": "stderr",
     "output_type": "stream",
     "text": [
      "WARNING:absl:Found untraced functions such as lstm_cell_96_layer_call_fn, lstm_cell_96_layer_call_and_return_conditional_losses while saving (showing 2 of 2). These functions will not be directly callable after loading.\n"
     ]
    },
    {
     "name": "stdout",
     "output_type": "stream",
     "text": [
      "INFO:tensorflow:Assets written to: Walk_forward/models/day91\\assets\n"
     ]
    },
    {
     "name": "stderr",
     "output_type": "stream",
     "text": [
      "INFO:tensorflow:Assets written to: Walk_forward/models/day91\\assets\n",
      "WARNING:absl:<keras.layers.recurrent.LSTMCell object at 0x000001D234FBAE20> has the same name 'LSTMCell' as a built-in Keras object. Consider renaming <class 'keras.layers.recurrent.LSTMCell'> to avoid naming conflicts when loading with `tf.keras.models.load_model`. If renaming is not possible, pass the object in the `custom_objects` parameter of the load function.\n"
     ]
    },
    {
     "name": "stdout",
     "output_type": "stream",
     "text": [
      "152/152 [==============================] - 4s 21ms/step\n",
      "65/65 [==============================] - 1s 20ms/step\n"
     ]
    },
    {
     "name": "stderr",
     "output_type": "stream",
     "text": [
      "D:\\Anaconda\\lib\\site-packages\\pandas\\core\\frame.py:3678: SettingWithCopyWarning: \n",
      "A value is trying to be set on a copy of a slice from a DataFrame.\n",
      "Try using .loc[row_indexer,col_indexer] = value instead\n",
      "\n",
      "See the caveats in the documentation: https://pandas.pydata.org/pandas-docs/stable/user_guide/indexing.html#returning-a-view-versus-a-copy\n",
      "  self[col] = igetitem(value, i)\n"
     ]
    },
    {
     "name": "stdout",
     "output_type": "stream",
     "text": [
      "Epoch 1/15\n",
      "152/152 [==============================] - 11s 57ms/step - loss: 0.1958 - val_loss: 1.6894\n",
      "Epoch 2/15\n",
      "152/152 [==============================] - 8s 53ms/step - loss: 0.1315 - val_loss: 1.6401\n",
      "Epoch 3/15\n",
      "152/152 [==============================] - 8s 53ms/step - loss: 0.1229 - val_loss: 1.5916\n",
      "Epoch 4/15\n",
      "152/152 [==============================] - 8s 53ms/step - loss: 0.1170 - val_loss: 1.5380\n",
      "Epoch 5/15\n",
      "152/152 [==============================] - 8s 53ms/step - loss: 0.1130 - val_loss: 1.4928\n",
      "Epoch 6/15\n",
      "152/152 [==============================] - 8s 53ms/step - loss: 0.1094 - val_loss: 1.4533\n",
      "Epoch 7/15\n",
      "152/152 [==============================] - 8s 53ms/step - loss: 0.1072 - val_loss: 1.4241\n",
      "Epoch 8/15\n",
      "152/152 [==============================] - 8s 53ms/step - loss: 0.1037 - val_loss: 1.3947\n",
      "Epoch 9/15\n",
      "152/152 [==============================] - 8s 53ms/step - loss: 0.1030 - val_loss: 1.3742\n",
      "Epoch 10/15\n",
      "152/152 [==============================] - 8s 52ms/step - loss: 0.1020 - val_loss: 1.3585\n",
      "Epoch 11/15\n",
      "152/152 [==============================] - 8s 52ms/step - loss: 0.1051 - val_loss: 1.3592\n",
      "Epoch 12/15\n",
      "152/152 [==============================] - 8s 52ms/step - loss: 0.0998 - val_loss: 1.3378\n",
      "Epoch 13/15\n",
      "152/152 [==============================] - 8s 52ms/step - loss: 0.0994 - val_loss: 1.3292\n",
      "Epoch 14/15\n",
      "152/152 [==============================] - 8s 52ms/step - loss: 0.0982 - val_loss: 1.3148\n",
      "Epoch 15/15\n",
      "152/152 [==============================] - 8s 52ms/step - loss: 0.0986 - val_loss: 1.3091\n"
     ]
    },
    {
     "name": "stderr",
     "output_type": "stream",
     "text": [
      "WARNING:absl:Found untraced functions such as lstm_cell_97_layer_call_fn, lstm_cell_97_layer_call_and_return_conditional_losses while saving (showing 2 of 2). These functions will not be directly callable after loading.\n"
     ]
    },
    {
     "name": "stdout",
     "output_type": "stream",
     "text": [
      "INFO:tensorflow:Assets written to: Walk_forward/models/day92\\assets\n"
     ]
    },
    {
     "name": "stderr",
     "output_type": "stream",
     "text": [
      "INFO:tensorflow:Assets written to: Walk_forward/models/day92\\assets\n",
      "WARNING:absl:<keras.layers.recurrent.LSTMCell object at 0x000001D235114D60> has the same name 'LSTMCell' as a built-in Keras object. Consider renaming <class 'keras.layers.recurrent.LSTMCell'> to avoid naming conflicts when loading with `tf.keras.models.load_model`. If renaming is not possible, pass the object in the `custom_objects` parameter of the load function.\n"
     ]
    },
    {
     "name": "stdout",
     "output_type": "stream",
     "text": [
      "152/152 [==============================] - 4s 21ms/step\n",
      "65/65 [==============================] - 1s 19ms/step\n"
     ]
    },
    {
     "name": "stderr",
     "output_type": "stream",
     "text": [
      "D:\\Anaconda\\lib\\site-packages\\pandas\\core\\frame.py:3678: SettingWithCopyWarning: \n",
      "A value is trying to be set on a copy of a slice from a DataFrame.\n",
      "Try using .loc[row_indexer,col_indexer] = value instead\n",
      "\n",
      "See the caveats in the documentation: https://pandas.pydata.org/pandas-docs/stable/user_guide/indexing.html#returning-a-view-versus-a-copy\n",
      "  self[col] = igetitem(value, i)\n"
     ]
    },
    {
     "name": "stdout",
     "output_type": "stream",
     "text": [
      "Epoch 1/15\n",
      "152/152 [==============================] - 11s 56ms/step - loss: 0.2316 - val_loss: 1.7967\n",
      "Epoch 2/15\n",
      "152/152 [==============================] - 8s 52ms/step - loss: 0.1486 - val_loss: 1.7351\n",
      "Epoch 3/15\n",
      "152/152 [==============================] - 8s 52ms/step - loss: 0.1369 - val_loss: 1.6895\n",
      "Epoch 4/15\n",
      "152/152 [==============================] - 9s 57ms/step - loss: 0.1295 - val_loss: 1.6539\n",
      "Epoch 5/15\n",
      "152/152 [==============================] - 9s 56ms/step - loss: 0.1233 - val_loss: 1.6250\n",
      "Epoch 6/15\n",
      "152/152 [==============================] - 8s 55ms/step - loss: 0.1187 - val_loss: 1.5944\n",
      "Epoch 7/15\n",
      "152/152 [==============================] - 9s 57ms/step - loss: 0.1156 - val_loss: 1.5579\n",
      "Epoch 8/15\n",
      "152/152 [==============================] - 8s 53ms/step - loss: 0.1123 - val_loss: 1.5225\n",
      "Epoch 9/15\n",
      "152/152 [==============================] - 8s 52ms/step - loss: 0.1102 - val_loss: 1.4956\n",
      "Epoch 10/15\n",
      "152/152 [==============================] - 8s 52ms/step - loss: 0.1082 - val_loss: 1.4684\n",
      "Epoch 11/15\n",
      "152/152 [==============================] - 8s 53ms/step - loss: 0.1061 - val_loss: 1.4455\n",
      "Epoch 12/15\n",
      "152/152 [==============================] - 8s 52ms/step - loss: 0.1047 - val_loss: 1.4182\n",
      "Epoch 13/15\n",
      "152/152 [==============================] - 8s 54ms/step - loss: 0.1040 - val_loss: 1.4006\n",
      "Epoch 14/15\n",
      "152/152 [==============================] - 8s 52ms/step - loss: 0.1029 - val_loss: 1.3825\n",
      "Epoch 15/15\n",
      "152/152 [==============================] - 8s 52ms/step - loss: 0.1043 - val_loss: 1.3646\n"
     ]
    },
    {
     "name": "stderr",
     "output_type": "stream",
     "text": [
      "WARNING:absl:Found untraced functions such as lstm_cell_98_layer_call_fn, lstm_cell_98_layer_call_and_return_conditional_losses while saving (showing 2 of 2). These functions will not be directly callable after loading.\n"
     ]
    },
    {
     "name": "stdout",
     "output_type": "stream",
     "text": [
      "INFO:tensorflow:Assets written to: Walk_forward/models/day93\\assets\n"
     ]
    },
    {
     "name": "stderr",
     "output_type": "stream",
     "text": [
      "INFO:tensorflow:Assets written to: Walk_forward/models/day93\\assets\n",
      "WARNING:absl:<keras.layers.recurrent.LSTMCell object at 0x000001D1D43B09A0> has the same name 'LSTMCell' as a built-in Keras object. Consider renaming <class 'keras.layers.recurrent.LSTMCell'> to avoid naming conflicts when loading with `tf.keras.models.load_model`. If renaming is not possible, pass the object in the `custom_objects` parameter of the load function.\n"
     ]
    },
    {
     "name": "stdout",
     "output_type": "stream",
     "text": [
      "152/152 [==============================] - 4s 21ms/step\n",
      "65/65 [==============================] - 1s 20ms/step\n"
     ]
    },
    {
     "name": "stderr",
     "output_type": "stream",
     "text": [
      "D:\\Anaconda\\lib\\site-packages\\pandas\\core\\frame.py:3678: SettingWithCopyWarning: \n",
      "A value is trying to be set on a copy of a slice from a DataFrame.\n",
      "Try using .loc[row_indexer,col_indexer] = value instead\n",
      "\n",
      "See the caveats in the documentation: https://pandas.pydata.org/pandas-docs/stable/user_guide/indexing.html#returning-a-view-versus-a-copy\n",
      "  self[col] = igetitem(value, i)\n"
     ]
    },
    {
     "name": "stdout",
     "output_type": "stream",
     "text": [
      "Epoch 1/15\n",
      "152/152 [==============================] - 12s 63ms/step - loss: 0.1179 - val_loss: 1.6363\n",
      "Epoch 2/15\n",
      "152/152 [==============================] - 8s 52ms/step - loss: 0.0991 - val_loss: 1.6080\n",
      "Epoch 3/15\n",
      "152/152 [==============================] - 8s 52ms/step - loss: 0.0968 - val_loss: 1.5853\n",
      "Epoch 4/15\n",
      "152/152 [==============================] - 8s 52ms/step - loss: 0.0946 - val_loss: 1.5691\n",
      "Epoch 5/15\n",
      "152/152 [==============================] - 8s 52ms/step - loss: 0.0932 - val_loss: 1.5485\n",
      "Epoch 6/15\n",
      "152/152 [==============================] - 8s 52ms/step - loss: 0.0922 - val_loss: 1.5332\n",
      "Epoch 7/15\n",
      "152/152 [==============================] - 8s 52ms/step - loss: 0.0915 - val_loss: 1.5168\n",
      "Epoch 8/15\n",
      "152/152 [==============================] - 8s 52ms/step - loss: 0.0911 - val_loss: 1.5129\n",
      "Epoch 9/15\n",
      "152/152 [==============================] - 8s 52ms/step - loss: 0.0903 - val_loss: 1.4988\n",
      "Epoch 10/15\n",
      "152/152 [==============================] - 8s 52ms/step - loss: 0.0896 - val_loss: 1.4909\n",
      "Epoch 11/15\n",
      "152/152 [==============================] - 8s 52ms/step - loss: 0.0888 - val_loss: 1.4824\n",
      "Epoch 12/15\n",
      "152/152 [==============================] - 8s 53ms/step - loss: 0.0888 - val_loss: 1.4777\n",
      "Epoch 13/15\n",
      "152/152 [==============================] - 8s 52ms/step - loss: 0.0886 - val_loss: 1.4750\n",
      "Epoch 14/15\n",
      "152/152 [==============================] - 8s 52ms/step - loss: 0.0884 - val_loss: 1.4654\n",
      "Epoch 15/15\n",
      "152/152 [==============================] - 8s 53ms/step - loss: 0.0876 - val_loss: 1.4613\n"
     ]
    },
    {
     "name": "stderr",
     "output_type": "stream",
     "text": [
      "WARNING:absl:Found untraced functions such as lstm_cell_99_layer_call_fn, lstm_cell_99_layer_call_and_return_conditional_losses while saving (showing 2 of 2). These functions will not be directly callable after loading.\n"
     ]
    },
    {
     "name": "stdout",
     "output_type": "stream",
     "text": [
      "INFO:tensorflow:Assets written to: Walk_forward/models/day94\\assets\n"
     ]
    },
    {
     "name": "stderr",
     "output_type": "stream",
     "text": [
      "INFO:tensorflow:Assets written to: Walk_forward/models/day94\\assets\n",
      "WARNING:absl:<keras.layers.recurrent.LSTMCell object at 0x000001D1D3492DF0> has the same name 'LSTMCell' as a built-in Keras object. Consider renaming <class 'keras.layers.recurrent.LSTMCell'> to avoid naming conflicts when loading with `tf.keras.models.load_model`. If renaming is not possible, pass the object in the `custom_objects` parameter of the load function.\n"
     ]
    },
    {
     "name": "stdout",
     "output_type": "stream",
     "text": [
      "152/152 [==============================] - 4s 21ms/step\n",
      "65/65 [==============================] - 1s 19ms/step\n"
     ]
    },
    {
     "name": "stderr",
     "output_type": "stream",
     "text": [
      "D:\\Anaconda\\lib\\site-packages\\pandas\\core\\frame.py:3678: SettingWithCopyWarning: \n",
      "A value is trying to be set on a copy of a slice from a DataFrame.\n",
      "Try using .loc[row_indexer,col_indexer] = value instead\n",
      "\n",
      "See the caveats in the documentation: https://pandas.pydata.org/pandas-docs/stable/user_guide/indexing.html#returning-a-view-versus-a-copy\n",
      "  self[col] = igetitem(value, i)\n"
     ]
    },
    {
     "name": "stdout",
     "output_type": "stream",
     "text": [
      "Epoch 1/15\n",
      "152/152 [==============================] - 11s 56ms/step - loss: 0.1459 - val_loss: 1.7809\n",
      "Epoch 2/15\n",
      "152/152 [==============================] - 8s 52ms/step - loss: 0.1076 - val_loss: 1.7189\n",
      "Epoch 3/15\n",
      "152/152 [==============================] - 8s 52ms/step - loss: 0.1022 - val_loss: 1.6583\n",
      "Epoch 4/15\n",
      "152/152 [==============================] - 8s 53ms/step - loss: 0.0991 - val_loss: 1.6166\n",
      "Epoch 5/15\n",
      "152/152 [==============================] - 8s 52ms/step - loss: 0.0965 - val_loss: 1.5856\n",
      "Epoch 6/15\n",
      "152/152 [==============================] - 8s 52ms/step - loss: 0.0951 - val_loss: 1.5589\n",
      "Epoch 7/15\n",
      "152/152 [==============================] - 8s 52ms/step - loss: 0.0940 - val_loss: 1.5369\n",
      "Epoch 8/15\n",
      "152/152 [==============================] - 8s 53ms/step - loss: 0.0926 - val_loss: 1.5211\n",
      "Epoch 9/15\n",
      "152/152 [==============================] - 8s 53ms/step - loss: 0.0921 - val_loss: 1.5069\n",
      "Epoch 10/15\n",
      "152/152 [==============================] - 8s 53ms/step - loss: 0.0914 - val_loss: 1.4898\n",
      "Epoch 11/15\n",
      "152/152 [==============================] - 8s 52ms/step - loss: 0.0912 - val_loss: 1.4772\n",
      "Epoch 12/15\n",
      "152/152 [==============================] - 8s 53ms/step - loss: 0.0902 - val_loss: 1.4680\n",
      "Epoch 13/15\n",
      "152/152 [==============================] - 8s 53ms/step - loss: 0.0898 - val_loss: 1.4594\n",
      "Epoch 14/15\n",
      "152/152 [==============================] - 8s 53ms/step - loss: 0.0895 - val_loss: 1.4549\n",
      "Epoch 15/15\n",
      "152/152 [==============================] - 8s 53ms/step - loss: 0.0888 - val_loss: 1.4454\n"
     ]
    },
    {
     "name": "stderr",
     "output_type": "stream",
     "text": [
      "WARNING:absl:Found untraced functions such as lstm_cell_100_layer_call_fn, lstm_cell_100_layer_call_and_return_conditional_losses while saving (showing 2 of 2). These functions will not be directly callable after loading.\n"
     ]
    },
    {
     "name": "stdout",
     "output_type": "stream",
     "text": [
      "INFO:tensorflow:Assets written to: Walk_forward/models/day95\\assets\n"
     ]
    },
    {
     "name": "stderr",
     "output_type": "stream",
     "text": [
      "INFO:tensorflow:Assets written to: Walk_forward/models/day95\\assets\n",
      "WARNING:absl:<keras.layers.recurrent.LSTMCell object at 0x000001D2483772E0> has the same name 'LSTMCell' as a built-in Keras object. Consider renaming <class 'keras.layers.recurrent.LSTMCell'> to avoid naming conflicts when loading with `tf.keras.models.load_model`. If renaming is not possible, pass the object in the `custom_objects` parameter of the load function.\n"
     ]
    },
    {
     "name": "stdout",
     "output_type": "stream",
     "text": [
      "152/152 [==============================] - 4s 21ms/step\n",
      "65/65 [==============================] - 1s 19ms/step\n"
     ]
    },
    {
     "name": "stderr",
     "output_type": "stream",
     "text": [
      "D:\\Anaconda\\lib\\site-packages\\pandas\\core\\frame.py:3678: SettingWithCopyWarning: \n",
      "A value is trying to be set on a copy of a slice from a DataFrame.\n",
      "Try using .loc[row_indexer,col_indexer] = value instead\n",
      "\n",
      "See the caveats in the documentation: https://pandas.pydata.org/pandas-docs/stable/user_guide/indexing.html#returning-a-view-versus-a-copy\n",
      "  self[col] = igetitem(value, i)\n"
     ]
    },
    {
     "name": "stdout",
     "output_type": "stream",
     "text": [
      "Epoch 1/15\n",
      "152/152 [==============================] - 11s 56ms/step - loss: 0.1460 - val_loss: 1.7414\n",
      "Epoch 2/15\n",
      "152/152 [==============================] - 8s 52ms/step - loss: 0.1021 - val_loss: 1.6917\n",
      "Epoch 3/15\n",
      "152/152 [==============================] - 8s 52ms/step - loss: 0.0983 - val_loss: 1.6509\n",
      "Epoch 4/15\n",
      "152/152 [==============================] - 8s 52ms/step - loss: 0.0956 - val_loss: 1.6112\n",
      "Epoch 5/15\n",
      "152/152 [==============================] - 8s 52ms/step - loss: 0.0938 - val_loss: 1.5772\n",
      "Epoch 6/15\n",
      "152/152 [==============================] - 8s 52ms/step - loss: 0.0926 - val_loss: 1.5547\n",
      "Epoch 7/15\n",
      "152/152 [==============================] - 8s 52ms/step - loss: 0.0915 - val_loss: 1.5405\n",
      "Epoch 8/15\n",
      "152/152 [==============================] - 8s 52ms/step - loss: 0.0904 - val_loss: 1.5229\n",
      "Epoch 9/15\n",
      "152/152 [==============================] - 8s 52ms/step - loss: 0.0900 - val_loss: 1.5039\n",
      "Epoch 10/15\n",
      "152/152 [==============================] - 8s 52ms/step - loss: 0.0896 - val_loss: 1.4952\n",
      "Epoch 11/15\n",
      "152/152 [==============================] - 8s 52ms/step - loss: 0.0890 - val_loss: 1.4865\n",
      "Epoch 12/15\n",
      "152/152 [==============================] - 8s 52ms/step - loss: 0.0885 - val_loss: 1.4741\n",
      "Epoch 13/15\n",
      "152/152 [==============================] - 8s 52ms/step - loss: 0.0884 - val_loss: 1.4701\n",
      "Epoch 14/15\n",
      "152/152 [==============================] - 8s 52ms/step - loss: 0.0879 - val_loss: 1.4670\n",
      "Epoch 15/15\n",
      "152/152 [==============================] - 8s 52ms/step - loss: 0.0874 - val_loss: 1.4656\n"
     ]
    },
    {
     "name": "stderr",
     "output_type": "stream",
     "text": [
      "WARNING:absl:Found untraced functions such as lstm_cell_101_layer_call_fn, lstm_cell_101_layer_call_and_return_conditional_losses while saving (showing 2 of 2). These functions will not be directly callable after loading.\n"
     ]
    },
    {
     "name": "stdout",
     "output_type": "stream",
     "text": [
      "INFO:tensorflow:Assets written to: Walk_forward/models/day96\\assets\n"
     ]
    },
    {
     "name": "stderr",
     "output_type": "stream",
     "text": [
      "INFO:tensorflow:Assets written to: Walk_forward/models/day96\\assets\n",
      "WARNING:absl:<keras.layers.recurrent.LSTMCell object at 0x000001D22DDDE430> has the same name 'LSTMCell' as a built-in Keras object. Consider renaming <class 'keras.layers.recurrent.LSTMCell'> to avoid naming conflicts when loading with `tf.keras.models.load_model`. If renaming is not possible, pass the object in the `custom_objects` parameter of the load function.\n"
     ]
    },
    {
     "name": "stdout",
     "output_type": "stream",
     "text": [
      "152/152 [==============================] - 4s 21ms/step\n",
      "65/65 [==============================] - 1s 19ms/step\n"
     ]
    },
    {
     "name": "stderr",
     "output_type": "stream",
     "text": [
      "D:\\Anaconda\\lib\\site-packages\\pandas\\core\\frame.py:3678: SettingWithCopyWarning: \n",
      "A value is trying to be set on a copy of a slice from a DataFrame.\n",
      "Try using .loc[row_indexer,col_indexer] = value instead\n",
      "\n",
      "See the caveats in the documentation: https://pandas.pydata.org/pandas-docs/stable/user_guide/indexing.html#returning-a-view-versus-a-copy\n",
      "  self[col] = igetitem(value, i)\n"
     ]
    },
    {
     "name": "stdout",
     "output_type": "stream",
     "text": [
      "Epoch 1/15\n",
      "152/152 [==============================] - 11s 57ms/step - loss: 0.1369 - val_loss: 1.7772\n",
      "Epoch 2/15\n",
      "152/152 [==============================] - 8s 53ms/step - loss: 0.1033 - val_loss: 1.7438\n",
      "Epoch 3/15\n",
      "152/152 [==============================] - 8s 54ms/step - loss: 0.0995 - val_loss: 1.7089\n",
      "Epoch 4/15\n",
      "152/152 [==============================] - 8s 54ms/step - loss: 0.0965 - val_loss: 1.6646\n",
      "Epoch 5/15\n",
      "152/152 [==============================] - 8s 54ms/step - loss: 0.0946 - val_loss: 1.6350\n",
      "Epoch 6/15\n",
      "152/152 [==============================] - 8s 53ms/step - loss: 0.0935 - val_loss: 1.6124\n",
      "Epoch 7/15\n",
      "152/152 [==============================] - 8s 53ms/step - loss: 0.0925 - val_loss: 1.5905\n",
      "Epoch 8/15\n",
      "152/152 [==============================] - 8s 53ms/step - loss: 0.0916 - val_loss: 1.5750\n",
      "Epoch 9/15\n",
      "152/152 [==============================] - 8s 53ms/step - loss: 0.0907 - val_loss: 1.5568\n",
      "Epoch 10/15\n",
      "152/152 [==============================] - 8s 53ms/step - loss: 0.0902 - val_loss: 1.5365\n",
      "Epoch 11/15\n",
      "152/152 [==============================] - 8s 52ms/step - loss: 0.0898 - val_loss: 1.5337\n",
      "Epoch 12/15\n",
      "152/152 [==============================] - 8s 53ms/step - loss: 0.0895 - val_loss: 1.5207\n",
      "Epoch 13/15\n",
      "152/152 [==============================] - 8s 54ms/step - loss: 0.0888 - val_loss: 1.5081\n",
      "Epoch 14/15\n",
      "152/152 [==============================] - 8s 52ms/step - loss: 0.0886 - val_loss: 1.5240\n",
      "Epoch 15/15\n",
      "152/152 [==============================] - 8s 52ms/step - loss: 0.0881 - val_loss: 1.5047\n"
     ]
    },
    {
     "name": "stderr",
     "output_type": "stream",
     "text": [
      "WARNING:absl:Found untraced functions such as lstm_cell_102_layer_call_fn, lstm_cell_102_layer_call_and_return_conditional_losses while saving (showing 2 of 2). These functions will not be directly callable after loading.\n"
     ]
    },
    {
     "name": "stdout",
     "output_type": "stream",
     "text": [
      "INFO:tensorflow:Assets written to: Walk_forward/models/day97\\assets\n"
     ]
    },
    {
     "name": "stderr",
     "output_type": "stream",
     "text": [
      "INFO:tensorflow:Assets written to: Walk_forward/models/day97\\assets\n",
      "WARNING:absl:<keras.layers.recurrent.LSTMCell object at 0x000001D248388AF0> has the same name 'LSTMCell' as a built-in Keras object. Consider renaming <class 'keras.layers.recurrent.LSTMCell'> to avoid naming conflicts when loading with `tf.keras.models.load_model`. If renaming is not possible, pass the object in the `custom_objects` parameter of the load function.\n"
     ]
    },
    {
     "name": "stdout",
     "output_type": "stream",
     "text": [
      "152/152 [==============================] - 4s 21ms/step\n",
      "65/65 [==============================] - 1s 19ms/step\n"
     ]
    },
    {
     "name": "stderr",
     "output_type": "stream",
     "text": [
      "D:\\Anaconda\\lib\\site-packages\\pandas\\core\\frame.py:3678: SettingWithCopyWarning: \n",
      "A value is trying to be set on a copy of a slice from a DataFrame.\n",
      "Try using .loc[row_indexer,col_indexer] = value instead\n",
      "\n",
      "See the caveats in the documentation: https://pandas.pydata.org/pandas-docs/stable/user_guide/indexing.html#returning-a-view-versus-a-copy\n",
      "  self[col] = igetitem(value, i)\n"
     ]
    },
    {
     "name": "stdout",
     "output_type": "stream",
     "text": [
      "Epoch 1/15\n",
      "152/152 [==============================] - 11s 56ms/step - loss: 0.3211 - val_loss: 1.5793\n",
      "Epoch 2/15\n",
      "152/152 [==============================] - 8s 53ms/step - loss: 0.2475 - val_loss: 1.5138\n",
      "Epoch 3/15\n",
      "152/152 [==============================] - 8s 53ms/step - loss: 0.2381 - val_loss: 1.4666\n",
      "Epoch 4/15\n",
      "152/152 [==============================] - 8s 53ms/step - loss: 0.2300 - val_loss: 1.4325\n",
      "Epoch 5/15\n",
      "152/152 [==============================] - 8s 53ms/step - loss: 0.2233 - val_loss: 1.3870\n",
      "Epoch 6/15\n",
      "152/152 [==============================] - 8s 53ms/step - loss: 0.2160 - val_loss: 1.3465\n",
      "Epoch 7/15\n",
      "152/152 [==============================] - 8s 53ms/step - loss: 0.2105 - val_loss: 1.3109\n",
      "Epoch 8/15\n",
      "152/152 [==============================] - 8s 53ms/step - loss: 0.2048 - val_loss: 1.2593\n",
      "Epoch 9/15\n",
      "152/152 [==============================] - 8s 53ms/step - loss: 0.2009 - val_loss: 1.2196\n",
      "Epoch 10/15\n",
      "152/152 [==============================] - 8s 53ms/step - loss: 0.1962 - val_loss: 1.1958\n",
      "Epoch 11/15\n",
      "152/152 [==============================] - 8s 52ms/step - loss: 0.1941 - val_loss: 1.1675\n",
      "Epoch 12/15\n",
      "152/152 [==============================] - 8s 53ms/step - loss: 0.1919 - val_loss: 1.1529\n",
      "Epoch 13/15\n",
      "152/152 [==============================] - 8s 53ms/step - loss: 0.1887 - val_loss: 1.1413\n",
      "Epoch 14/15\n",
      "152/152 [==============================] - 8s 53ms/step - loss: 0.1872 - val_loss: 1.1221\n",
      "Epoch 15/15\n",
      "152/152 [==============================] - 8s 53ms/step - loss: 0.1871 - val_loss: 1.1258\n"
     ]
    },
    {
     "name": "stderr",
     "output_type": "stream",
     "text": [
      "WARNING:absl:Found untraced functions such as lstm_cell_103_layer_call_fn, lstm_cell_103_layer_call_and_return_conditional_losses while saving (showing 2 of 2). These functions will not be directly callable after loading.\n"
     ]
    },
    {
     "name": "stdout",
     "output_type": "stream",
     "text": [
      "INFO:tensorflow:Assets written to: Walk_forward/models/day98\\assets\n"
     ]
    },
    {
     "name": "stderr",
     "output_type": "stream",
     "text": [
      "INFO:tensorflow:Assets written to: Walk_forward/models/day98\\assets\n",
      "WARNING:absl:<keras.layers.recurrent.LSTMCell object at 0x000001CF5C60FA30> has the same name 'LSTMCell' as a built-in Keras object. Consider renaming <class 'keras.layers.recurrent.LSTMCell'> to avoid naming conflicts when loading with `tf.keras.models.load_model`. If renaming is not possible, pass the object in the `custom_objects` parameter of the load function.\n"
     ]
    },
    {
     "name": "stdout",
     "output_type": "stream",
     "text": [
      "152/152 [==============================] - 4s 20ms/step\n",
      "65/65 [==============================] - 1s 20ms/step\n"
     ]
    },
    {
     "name": "stderr",
     "output_type": "stream",
     "text": [
      "D:\\Anaconda\\lib\\site-packages\\pandas\\core\\frame.py:3678: SettingWithCopyWarning: \n",
      "A value is trying to be set on a copy of a slice from a DataFrame.\n",
      "Try using .loc[row_indexer,col_indexer] = value instead\n",
      "\n",
      "See the caveats in the documentation: https://pandas.pydata.org/pandas-docs/stable/user_guide/indexing.html#returning-a-view-versus-a-copy\n",
      "  self[col] = igetitem(value, i)\n"
     ]
    },
    {
     "name": "stdout",
     "output_type": "stream",
     "text": [
      "Epoch 1/15\n",
      "152/152 [==============================] - 11s 56ms/step - loss: 0.8193 - val_loss: 0.1209\n",
      "Epoch 2/15\n",
      "152/152 [==============================] - 8s 53ms/step - loss: 0.7412 - val_loss: 0.1173\n",
      "Epoch 3/15\n",
      "152/152 [==============================] - 8s 52ms/step - loss: 0.7101 - val_loss: 0.1209\n",
      "Epoch 4/15\n",
      "152/152 [==============================] - 8s 52ms/step - loss: 0.6633 - val_loss: 0.1136\n",
      "Epoch 5/15\n",
      "152/152 [==============================] - 8s 53ms/step - loss: 0.6356 - val_loss: 0.1168\n",
      "Epoch 6/15\n",
      "152/152 [==============================] - 8s 52ms/step - loss: 0.6294 - val_loss: 0.1142\n",
      "Epoch 7/15\n",
      "152/152 [==============================] - 8s 52ms/step - loss: 0.5936 - val_loss: 0.1090\n",
      "Epoch 8/15\n",
      "152/152 [==============================] - 8s 53ms/step - loss: 0.5798 - val_loss: 0.1115\n",
      "Epoch 9/15\n",
      "152/152 [==============================] - 8s 53ms/step - loss: 0.5662 - val_loss: 0.1124\n",
      "Epoch 10/15\n",
      "152/152 [==============================] - 8s 52ms/step - loss: 0.5561 - val_loss: 0.1082\n",
      "Epoch 11/15\n",
      "152/152 [==============================] - 8s 52ms/step - loss: 0.5455 - val_loss: 0.1143\n",
      "Epoch 12/15\n",
      "152/152 [==============================] - 8s 52ms/step - loss: 0.5374 - val_loss: 0.1129\n",
      "Epoch 13/15\n",
      "152/152 [==============================] - 8s 53ms/step - loss: 0.5326 - val_loss: 0.1126\n",
      "Epoch 14/15\n",
      "152/152 [==============================] - 8s 53ms/step - loss: 0.5236 - val_loss: 0.1122\n",
      "Epoch 15/15\n",
      "152/152 [==============================] - 8s 53ms/step - loss: 0.5182 - val_loss: 0.1147\n"
     ]
    },
    {
     "name": "stderr",
     "output_type": "stream",
     "text": [
      "WARNING:absl:Found untraced functions such as lstm_cell_104_layer_call_fn, lstm_cell_104_layer_call_and_return_conditional_losses while saving (showing 2 of 2). These functions will not be directly callable after loading.\n"
     ]
    },
    {
     "name": "stdout",
     "output_type": "stream",
     "text": [
      "INFO:tensorflow:Assets written to: Walk_forward/models/day99\\assets\n"
     ]
    },
    {
     "name": "stderr",
     "output_type": "stream",
     "text": [
      "INFO:tensorflow:Assets written to: Walk_forward/models/day99\\assets\n",
      "WARNING:absl:<keras.layers.recurrent.LSTMCell object at 0x000001D2487CDE80> has the same name 'LSTMCell' as a built-in Keras object. Consider renaming <class 'keras.layers.recurrent.LSTMCell'> to avoid naming conflicts when loading with `tf.keras.models.load_model`. If renaming is not possible, pass the object in the `custom_objects` parameter of the load function.\n"
     ]
    },
    {
     "name": "stdout",
     "output_type": "stream",
     "text": [
      "152/152 [==============================] - 4s 21ms/step\n",
      "65/65 [==============================] - 1s 20ms/step\n"
     ]
    },
    {
     "name": "stderr",
     "output_type": "stream",
     "text": [
      "D:\\Anaconda\\lib\\site-packages\\pandas\\core\\frame.py:3678: SettingWithCopyWarning: \n",
      "A value is trying to be set on a copy of a slice from a DataFrame.\n",
      "Try using .loc[row_indexer,col_indexer] = value instead\n",
      "\n",
      "See the caveats in the documentation: https://pandas.pydata.org/pandas-docs/stable/user_guide/indexing.html#returning-a-view-versus-a-copy\n",
      "  self[col] = igetitem(value, i)\n"
     ]
    },
    {
     "name": "stdout",
     "output_type": "stream",
     "text": [
      "Epoch 1/15\n",
      "152/152 [==============================] - 12s 57ms/step - loss: 0.8042 - val_loss: 3.4099\n",
      "Epoch 2/15\n",
      "152/152 [==============================] - 8s 53ms/step - loss: 0.7548 - val_loss: 3.3154\n",
      "Epoch 3/15\n",
      "152/152 [==============================] - 8s 53ms/step - loss: 0.7090 - val_loss: 3.1769\n",
      "Epoch 4/15\n",
      "152/152 [==============================] - 8s 53ms/step - loss: 0.6686 - val_loss: 3.0206\n",
      "Epoch 5/15\n",
      "152/152 [==============================] - 8s 53ms/step - loss: 0.6321 - val_loss: 2.9024\n",
      "Epoch 6/15\n",
      "152/152 [==============================] - 8s 53ms/step - loss: 0.6098 - val_loss: 2.8115\n",
      "Epoch 7/15\n",
      "152/152 [==============================] - 8s 53ms/step - loss: 0.5883 - val_loss: 2.7575\n",
      "Epoch 8/15\n",
      "152/152 [==============================] - 8s 53ms/step - loss: 0.5739 - val_loss: 2.7111\n",
      "Epoch 9/15\n",
      "152/152 [==============================] - 8s 52ms/step - loss: 0.5711 - val_loss: 2.6737\n",
      "Epoch 10/15\n",
      "152/152 [==============================] - 8s 52ms/step - loss: 0.5568 - val_loss: 2.6365\n",
      "Epoch 11/15\n",
      "152/152 [==============================] - 8s 53ms/step - loss: 0.5502 - val_loss: 2.6036\n",
      "Epoch 12/15\n",
      "152/152 [==============================] - 8s 53ms/step - loss: 0.5412 - val_loss: 2.5730\n",
      "Epoch 13/15\n",
      "152/152 [==============================] - 8s 53ms/step - loss: 0.5346 - val_loss: 2.5462\n",
      "Epoch 14/15\n",
      "152/152 [==============================] - 8s 53ms/step - loss: 0.5279 - val_loss: 2.5193\n",
      "Epoch 15/15\n",
      "152/152 [==============================] - 8s 53ms/step - loss: 0.5414 - val_loss: 2.4992\n"
     ]
    },
    {
     "name": "stderr",
     "output_type": "stream",
     "text": [
      "WARNING:absl:Found untraced functions such as lstm_cell_105_layer_call_fn, lstm_cell_105_layer_call_and_return_conditional_losses while saving (showing 2 of 2). These functions will not be directly callable after loading.\n"
     ]
    },
    {
     "name": "stdout",
     "output_type": "stream",
     "text": [
      "INFO:tensorflow:Assets written to: Walk_forward/models/day100\\assets\n"
     ]
    },
    {
     "name": "stderr",
     "output_type": "stream",
     "text": [
      "INFO:tensorflow:Assets written to: Walk_forward/models/day100\\assets\n",
      "WARNING:absl:<keras.layers.recurrent.LSTMCell object at 0x000001D2484B7760> has the same name 'LSTMCell' as a built-in Keras object. Consider renaming <class 'keras.layers.recurrent.LSTMCell'> to avoid naming conflicts when loading with `tf.keras.models.load_model`. If renaming is not possible, pass the object in the `custom_objects` parameter of the load function.\n"
     ]
    },
    {
     "name": "stdout",
     "output_type": "stream",
     "text": [
      "152/152 [==============================] - 4s 20ms/step\n",
      "65/65 [==============================] - 1s 19ms/step\n"
     ]
    },
    {
     "name": "stderr",
     "output_type": "stream",
     "text": [
      "D:\\Anaconda\\lib\\site-packages\\pandas\\core\\frame.py:3678: SettingWithCopyWarning: \n",
      "A value is trying to be set on a copy of a slice from a DataFrame.\n",
      "Try using .loc[row_indexer,col_indexer] = value instead\n",
      "\n",
      "See the caveats in the documentation: https://pandas.pydata.org/pandas-docs/stable/user_guide/indexing.html#returning-a-view-versus-a-copy\n",
      "  self[col] = igetitem(value, i)\n"
     ]
    },
    {
     "name": "stdout",
     "output_type": "stream",
     "text": [
      "Epoch 1/15\n",
      "152/152 [==============================] - 11s 57ms/step - loss: 0.8958 - val_loss: 3.4663\n",
      "Epoch 2/15\n",
      "152/152 [==============================] - 8s 54ms/step - loss: 0.7831 - val_loss: 3.3820\n",
      "Epoch 3/15\n",
      "152/152 [==============================] - 8s 53ms/step - loss: 0.7452 - val_loss: 3.2856\n",
      "Epoch 4/15\n",
      "152/152 [==============================] - 8s 53ms/step - loss: 0.6957 - val_loss: 3.1610\n",
      "Epoch 5/15\n",
      "152/152 [==============================] - 8s 53ms/step - loss: 0.6734 - val_loss: 3.0884\n",
      "Epoch 6/15\n",
      "152/152 [==============================] - 8s 53ms/step - loss: 0.6475 - val_loss: 3.0430\n",
      "Epoch 7/15\n",
      "152/152 [==============================] - 8s 52ms/step - loss: 0.6340 - val_loss: 3.0044\n",
      "Epoch 8/15\n",
      "152/152 [==============================] - 8s 53ms/step - loss: 0.6249 - val_loss: 2.9772\n",
      "Epoch 9/15\n",
      "152/152 [==============================] - 8s 53ms/step - loss: 0.6140 - val_loss: 2.9460\n",
      "Epoch 10/15\n",
      "152/152 [==============================] - 8s 53ms/step - loss: 0.6067 - val_loss: 2.9181\n",
      "Epoch 11/15\n",
      "152/152 [==============================] - 8s 53ms/step - loss: 0.6065 - val_loss: 2.8966\n",
      "Epoch 12/15\n",
      "152/152 [==============================] - 8s 53ms/step - loss: 0.5986 - val_loss: 2.8728\n",
      "Epoch 13/15\n",
      "152/152 [==============================] - 8s 53ms/step - loss: 0.5833 - val_loss: 2.8476\n",
      "Epoch 14/15\n",
      "152/152 [==============================] - 8s 53ms/step - loss: 0.5760 - val_loss: 2.8263\n",
      "Epoch 15/15\n",
      "152/152 [==============================] - 8s 53ms/step - loss: 0.5693 - val_loss: 2.8011\n"
     ]
    },
    {
     "name": "stderr",
     "output_type": "stream",
     "text": [
      "WARNING:absl:Found untraced functions such as lstm_cell_106_layer_call_fn, lstm_cell_106_layer_call_and_return_conditional_losses while saving (showing 2 of 2). These functions will not be directly callable after loading.\n"
     ]
    },
    {
     "name": "stdout",
     "output_type": "stream",
     "text": [
      "INFO:tensorflow:Assets written to: Walk_forward/models/day101\\assets\n"
     ]
    },
    {
     "name": "stderr",
     "output_type": "stream",
     "text": [
      "INFO:tensorflow:Assets written to: Walk_forward/models/day101\\assets\n",
      "WARNING:absl:<keras.layers.recurrent.LSTMCell object at 0x000001D24CA4B280> has the same name 'LSTMCell' as a built-in Keras object. Consider renaming <class 'keras.layers.recurrent.LSTMCell'> to avoid naming conflicts when loading with `tf.keras.models.load_model`. If renaming is not possible, pass the object in the `custom_objects` parameter of the load function.\n"
     ]
    },
    {
     "name": "stdout",
     "output_type": "stream",
     "text": [
      "152/152 [==============================] - 4s 22ms/step\n",
      "65/65 [==============================] - 1s 23ms/step\n"
     ]
    },
    {
     "name": "stderr",
     "output_type": "stream",
     "text": [
      "D:\\Anaconda\\lib\\site-packages\\pandas\\core\\frame.py:3678: SettingWithCopyWarning: \n",
      "A value is trying to be set on a copy of a slice from a DataFrame.\n",
      "Try using .loc[row_indexer,col_indexer] = value instead\n",
      "\n",
      "See the caveats in the documentation: https://pandas.pydata.org/pandas-docs/stable/user_guide/indexing.html#returning-a-view-versus-a-copy\n",
      "  self[col] = igetitem(value, i)\n"
     ]
    },
    {
     "name": "stdout",
     "output_type": "stream",
     "text": [
      "Epoch 1/15\n",
      "152/152 [==============================] - 11s 59ms/step - loss: 0.8875 - val_loss: 3.6268\n",
      "Epoch 2/15\n",
      "152/152 [==============================] - 8s 53ms/step - loss: 0.7780 - val_loss: 3.4147\n",
      "Epoch 3/15\n",
      "152/152 [==============================] - 8s 53ms/step - loss: 0.7252 - val_loss: 3.2598\n",
      "Epoch 4/15\n",
      "152/152 [==============================] - 8s 52ms/step - loss: 0.6708 - val_loss: 3.0918\n",
      "Epoch 5/15\n",
      "152/152 [==============================] - 8s 53ms/step - loss: 0.6498 - val_loss: 2.9897\n",
      "Epoch 6/15\n",
      "152/152 [==============================] - 8s 52ms/step - loss: 0.6130 - val_loss: 2.9236\n",
      "Epoch 7/15\n",
      "152/152 [==============================] - 8s 52ms/step - loss: 0.5955 - val_loss: 2.8588\n",
      "Epoch 8/15\n",
      "152/152 [==============================] - 8s 53ms/step - loss: 0.5808 - val_loss: 2.8198\n",
      "Epoch 9/15\n",
      "152/152 [==============================] - 8s 53ms/step - loss: 0.5682 - val_loss: 2.7710\n",
      "Epoch 10/15\n",
      "152/152 [==============================] - 8s 52ms/step - loss: 0.5579 - val_loss: 2.7344\n",
      "Epoch 11/15\n",
      "152/152 [==============================] - 8s 53ms/step - loss: 0.5492 - val_loss: 2.6999\n",
      "Epoch 12/15\n",
      "152/152 [==============================] - 8s 55ms/step - loss: 0.5400 - val_loss: 2.6704\n",
      "Epoch 13/15\n",
      "152/152 [==============================] - 8s 53ms/step - loss: 0.5346 - val_loss: 2.6385\n",
      "Epoch 14/15\n",
      "152/152 [==============================] - 8s 53ms/step - loss: 0.5253 - val_loss: 2.6085\n",
      "Epoch 15/15\n",
      "152/152 [==============================] - 8s 54ms/step - loss: 0.5187 - val_loss: 2.5817\n"
     ]
    },
    {
     "name": "stderr",
     "output_type": "stream",
     "text": [
      "WARNING:absl:Found untraced functions such as lstm_cell_107_layer_call_fn, lstm_cell_107_layer_call_and_return_conditional_losses while saving (showing 2 of 2). These functions will not be directly callable after loading.\n"
     ]
    },
    {
     "name": "stdout",
     "output_type": "stream",
     "text": [
      "INFO:tensorflow:Assets written to: Walk_forward/models/day102\\assets\n"
     ]
    },
    {
     "name": "stderr",
     "output_type": "stream",
     "text": [
      "INFO:tensorflow:Assets written to: Walk_forward/models/day102\\assets\n",
      "WARNING:absl:<keras.layers.recurrent.LSTMCell object at 0x000001D234E45DC0> has the same name 'LSTMCell' as a built-in Keras object. Consider renaming <class 'keras.layers.recurrent.LSTMCell'> to avoid naming conflicts when loading with `tf.keras.models.load_model`. If renaming is not possible, pass the object in the `custom_objects` parameter of the load function.\n"
     ]
    },
    {
     "name": "stdout",
     "output_type": "stream",
     "text": [
      "152/152 [==============================] - 4s 20ms/step\n",
      "65/65 [==============================] - 1s 20ms/step\n"
     ]
    },
    {
     "name": "stderr",
     "output_type": "stream",
     "text": [
      "D:\\Anaconda\\lib\\site-packages\\pandas\\core\\frame.py:3678: SettingWithCopyWarning: \n",
      "A value is trying to be set on a copy of a slice from a DataFrame.\n",
      "Try using .loc[row_indexer,col_indexer] = value instead\n",
      "\n",
      "See the caveats in the documentation: https://pandas.pydata.org/pandas-docs/stable/user_guide/indexing.html#returning-a-view-versus-a-copy\n",
      "  self[col] = igetitem(value, i)\n"
     ]
    },
    {
     "name": "stdout",
     "output_type": "stream",
     "text": [
      "Epoch 1/15\n",
      "152/152 [==============================] - 11s 57ms/step - loss: 1.0398 - val_loss: 3.6694\n",
      "Epoch 2/15\n",
      "152/152 [==============================] - 8s 53ms/step - loss: 0.8541 - val_loss: 3.5779\n",
      "Epoch 3/15\n",
      "152/152 [==============================] - 8s 53ms/step - loss: 0.8122 - val_loss: 3.4819\n",
      "Epoch 4/15\n",
      "152/152 [==============================] - 8s 53ms/step - loss: 0.7724 - val_loss: 3.3638\n",
      "Epoch 5/15\n",
      "152/152 [==============================] - 8s 53ms/step - loss: 0.7296 - val_loss: 3.2182\n",
      "Epoch 6/15\n",
      "152/152 [==============================] - 8s 55ms/step - loss: 0.6844 - val_loss: 3.1059\n",
      "Epoch 7/15\n",
      "152/152 [==============================] - 8s 55ms/step - loss: 0.6527 - val_loss: 3.0473\n",
      "Epoch 8/15\n",
      "152/152 [==============================] - 8s 54ms/step - loss: 0.6629 - val_loss: 3.0114\n",
      "Epoch 9/15\n",
      "152/152 [==============================] - 8s 54ms/step - loss: 0.6240 - val_loss: 2.9762\n",
      "Epoch 10/15\n",
      "152/152 [==============================] - 8s 54ms/step - loss: 0.6139 - val_loss: 2.9453\n",
      "Epoch 11/15\n",
      "152/152 [==============================] - 8s 53ms/step - loss: 0.6033 - val_loss: 2.9158\n",
      "Epoch 12/15\n",
      "152/152 [==============================] - 9s 60ms/step - loss: 0.5943 - val_loss: 2.8902\n",
      "Epoch 13/15\n",
      "152/152 [==============================] - 8s 54ms/step - loss: 0.5873 - val_loss: 2.8653\n",
      "Epoch 14/15\n",
      "152/152 [==============================] - 8s 54ms/step - loss: 0.5800 - val_loss: 2.8401\n",
      "Epoch 15/15\n",
      "152/152 [==============================] - 8s 53ms/step - loss: 0.5727 - val_loss: 2.8185\n"
     ]
    },
    {
     "name": "stderr",
     "output_type": "stream",
     "text": [
      "WARNING:absl:Found untraced functions such as lstm_cell_108_layer_call_fn, lstm_cell_108_layer_call_and_return_conditional_losses while saving (showing 2 of 2). These functions will not be directly callable after loading.\n"
     ]
    },
    {
     "name": "stdout",
     "output_type": "stream",
     "text": [
      "INFO:tensorflow:Assets written to: Walk_forward/models/day103\\assets\n"
     ]
    },
    {
     "name": "stderr",
     "output_type": "stream",
     "text": [
      "INFO:tensorflow:Assets written to: Walk_forward/models/day103\\assets\n",
      "WARNING:absl:<keras.layers.recurrent.LSTMCell object at 0x000001D22DD23940> has the same name 'LSTMCell' as a built-in Keras object. Consider renaming <class 'keras.layers.recurrent.LSTMCell'> to avoid naming conflicts when loading with `tf.keras.models.load_model`. If renaming is not possible, pass the object in the `custom_objects` parameter of the load function.\n"
     ]
    },
    {
     "name": "stdout",
     "output_type": "stream",
     "text": [
      "152/152 [==============================] - 4s 21ms/step\n",
      "65/65 [==============================] - 1s 20ms/step\n"
     ]
    },
    {
     "name": "stderr",
     "output_type": "stream",
     "text": [
      "D:\\Anaconda\\lib\\site-packages\\pandas\\core\\frame.py:3678: SettingWithCopyWarning: \n",
      "A value is trying to be set on a copy of a slice from a DataFrame.\n",
      "Try using .loc[row_indexer,col_indexer] = value instead\n",
      "\n",
      "See the caveats in the documentation: https://pandas.pydata.org/pandas-docs/stable/user_guide/indexing.html#returning-a-view-versus-a-copy\n",
      "  self[col] = igetitem(value, i)\n"
     ]
    },
    {
     "name": "stdout",
     "output_type": "stream",
     "text": [
      "Epoch 1/15\n",
      "152/152 [==============================] - 11s 57ms/step - loss: 0.8508 - val_loss: 3.4504\n",
      "Epoch 2/15\n",
      "152/152 [==============================] - 8s 53ms/step - loss: 0.7901 - val_loss: 3.3706\n",
      "Epoch 3/15\n",
      "152/152 [==============================] - 8s 53ms/step - loss: 0.7441 - val_loss: 3.2459\n",
      "Epoch 4/15\n",
      "152/152 [==============================] - 8s 53ms/step - loss: 0.7030 - val_loss: 3.1339\n",
      "Epoch 5/15\n",
      "152/152 [==============================] - 8s 53ms/step - loss: 0.6720 - val_loss: 3.0408\n",
      "Epoch 6/15\n",
      "152/152 [==============================] - 8s 54ms/step - loss: 0.6509 - val_loss: 2.9757\n",
      "Epoch 7/15\n",
      "152/152 [==============================] - 8s 53ms/step - loss: 0.6307 - val_loss: 2.9204\n",
      "Epoch 8/15\n",
      "152/152 [==============================] - 8s 53ms/step - loss: 0.6164 - val_loss: 2.8631\n",
      "Epoch 9/15\n",
      "152/152 [==============================] - 8s 53ms/step - loss: 0.6010 - val_loss: 2.8127\n",
      "Epoch 10/15\n",
      "152/152 [==============================] - 8s 53ms/step - loss: 0.5864 - val_loss: 2.7669\n",
      "Epoch 11/15\n",
      "152/152 [==============================] - 8s 54ms/step - loss: 0.5770 - val_loss: 2.7347\n",
      "Epoch 12/15\n",
      "152/152 [==============================] - 8s 53ms/step - loss: 0.5683 - val_loss: 2.7045\n",
      "Epoch 13/15\n",
      "152/152 [==============================] - 8s 54ms/step - loss: 0.5609 - val_loss: 2.6736\n",
      "Epoch 14/15\n",
      "152/152 [==============================] - 8s 54ms/step - loss: 0.5546 - val_loss: 2.6477\n",
      "Epoch 15/15\n",
      "152/152 [==============================] - 8s 53ms/step - loss: 0.5482 - val_loss: 2.6326\n"
     ]
    },
    {
     "name": "stderr",
     "output_type": "stream",
     "text": [
      "WARNING:absl:Found untraced functions such as lstm_cell_109_layer_call_fn, lstm_cell_109_layer_call_and_return_conditional_losses while saving (showing 2 of 2). These functions will not be directly callable after loading.\n"
     ]
    },
    {
     "name": "stdout",
     "output_type": "stream",
     "text": [
      "INFO:tensorflow:Assets written to: Walk_forward/models/day104\\assets\n"
     ]
    },
    {
     "name": "stderr",
     "output_type": "stream",
     "text": [
      "INFO:tensorflow:Assets written to: Walk_forward/models/day104\\assets\n",
      "WARNING:absl:<keras.layers.recurrent.LSTMCell object at 0x000001D2487F2C40> has the same name 'LSTMCell' as a built-in Keras object. Consider renaming <class 'keras.layers.recurrent.LSTMCell'> to avoid naming conflicts when loading with `tf.keras.models.load_model`. If renaming is not possible, pass the object in the `custom_objects` parameter of the load function.\n"
     ]
    },
    {
     "name": "stdout",
     "output_type": "stream",
     "text": [
      "152/152 [==============================] - 4s 21ms/step\n",
      "65/65 [==============================] - 1s 19ms/step\n"
     ]
    },
    {
     "name": "stderr",
     "output_type": "stream",
     "text": [
      "D:\\Anaconda\\lib\\site-packages\\pandas\\core\\frame.py:3678: SettingWithCopyWarning: \n",
      "A value is trying to be set on a copy of a slice from a DataFrame.\n",
      "Try using .loc[row_indexer,col_indexer] = value instead\n",
      "\n",
      "See the caveats in the documentation: https://pandas.pydata.org/pandas-docs/stable/user_guide/indexing.html#returning-a-view-versus-a-copy\n",
      "  self[col] = igetitem(value, i)\n"
     ]
    },
    {
     "name": "stdout",
     "output_type": "stream",
     "text": [
      "Epoch 1/15\n",
      "152/152 [==============================] - 11s 57ms/step - loss: 0.8786 - val_loss: 3.5906\n",
      "Epoch 2/15\n",
      "152/152 [==============================] - 8s 53ms/step - loss: 0.8398 - val_loss: 3.4986\n",
      "Epoch 3/15\n",
      "152/152 [==============================] - 8s 53ms/step - loss: 0.7814 - val_loss: 3.2812\n",
      "Epoch 4/15\n",
      "152/152 [==============================] - 8s 53ms/step - loss: 0.7176 - val_loss: 3.0566\n",
      "Epoch 5/15\n",
      "152/152 [==============================] - 8s 53ms/step - loss: 0.6636 - val_loss: 2.8947\n",
      "Epoch 6/15\n",
      "152/152 [==============================] - 8s 53ms/step - loss: 0.6248 - val_loss: 2.8161\n",
      "Epoch 7/15\n",
      "152/152 [==============================] - 8s 53ms/step - loss: 0.6041 - val_loss: 2.7692\n",
      "Epoch 8/15\n",
      "152/152 [==============================] - 8s 53ms/step - loss: 0.5897 - val_loss: 2.7272\n",
      "Epoch 9/15\n",
      "152/152 [==============================] - 8s 53ms/step - loss: 0.5784 - val_loss: 2.6814\n",
      "Epoch 10/15\n",
      "152/152 [==============================] - 8s 53ms/step - loss: 0.5631 - val_loss: 2.6239\n",
      "Epoch 11/15\n",
      "152/152 [==============================] - 8s 53ms/step - loss: 0.5506 - val_loss: 2.5773\n",
      "Epoch 12/15\n",
      "152/152 [==============================] - 8s 53ms/step - loss: 0.5407 - val_loss: 2.5457\n",
      "Epoch 13/15\n",
      "152/152 [==============================] - 8s 53ms/step - loss: 0.5341 - val_loss: 2.5254\n",
      "Epoch 14/15\n",
      "152/152 [==============================] - 8s 54ms/step - loss: 0.5530 - val_loss: 2.5062\n",
      "Epoch 15/15\n",
      "152/152 [==============================] - 8s 53ms/step - loss: 0.5258 - val_loss: 2.4748\n"
     ]
    },
    {
     "name": "stderr",
     "output_type": "stream",
     "text": [
      "WARNING:absl:Found untraced functions such as lstm_cell_110_layer_call_fn, lstm_cell_110_layer_call_and_return_conditional_losses while saving (showing 2 of 2). These functions will not be directly callable after loading.\n"
     ]
    },
    {
     "name": "stdout",
     "output_type": "stream",
     "text": [
      "INFO:tensorflow:Assets written to: Walk_forward/models/day105\\assets\n"
     ]
    },
    {
     "name": "stderr",
     "output_type": "stream",
     "text": [
      "INFO:tensorflow:Assets written to: Walk_forward/models/day105\\assets\n",
      "WARNING:absl:<keras.layers.recurrent.LSTMCell object at 0x000001D235441070> has the same name 'LSTMCell' as a built-in Keras object. Consider renaming <class 'keras.layers.recurrent.LSTMCell'> to avoid naming conflicts when loading with `tf.keras.models.load_model`. If renaming is not possible, pass the object in the `custom_objects` parameter of the load function.\n"
     ]
    },
    {
     "name": "stdout",
     "output_type": "stream",
     "text": [
      "152/152 [==============================] - 4s 21ms/step\n",
      "65/65 [==============================] - 1s 20ms/step\n"
     ]
    },
    {
     "name": "stderr",
     "output_type": "stream",
     "text": [
      "D:\\Anaconda\\lib\\site-packages\\pandas\\core\\frame.py:3678: SettingWithCopyWarning: \n",
      "A value is trying to be set on a copy of a slice from a DataFrame.\n",
      "Try using .loc[row_indexer,col_indexer] = value instead\n",
      "\n",
      "See the caveats in the documentation: https://pandas.pydata.org/pandas-docs/stable/user_guide/indexing.html#returning-a-view-versus-a-copy\n",
      "  self[col] = igetitem(value, i)\n"
     ]
    },
    {
     "name": "stdout",
     "output_type": "stream",
     "text": [
      "Epoch 1/15\n",
      "152/152 [==============================] - 11s 57ms/step - loss: 0.7640 - val_loss: 3.2977\n",
      "Epoch 2/15\n",
      "152/152 [==============================] - 8s 54ms/step - loss: 0.7004 - val_loss: 3.1790\n",
      "Epoch 3/15\n",
      "152/152 [==============================] - 8s 53ms/step - loss: 0.6586 - val_loss: 3.0504\n",
      "Epoch 4/15\n",
      "152/152 [==============================] - 8s 53ms/step - loss: 0.6193 - val_loss: 2.9505\n",
      "Epoch 5/15\n",
      "152/152 [==============================] - 8s 53ms/step - loss: 0.5921 - val_loss: 2.8614\n",
      "Epoch 6/15\n",
      "152/152 [==============================] - 8s 54ms/step - loss: 0.5709 - val_loss: 2.8045\n",
      "Epoch 7/15\n",
      "152/152 [==============================] - 8s 54ms/step - loss: 0.5530 - val_loss: 2.7671\n",
      "Epoch 8/15\n",
      "152/152 [==============================] - 8s 53ms/step - loss: 0.5407 - val_loss: 2.7201\n",
      "Epoch 9/15\n",
      "152/152 [==============================] - 8s 53ms/step - loss: 0.5296 - val_loss: 2.6867\n",
      "Epoch 10/15\n",
      "152/152 [==============================] - 8s 53ms/step - loss: 0.5190 - val_loss: 2.6551\n",
      "Epoch 11/15\n",
      "152/152 [==============================] - 8s 53ms/step - loss: 0.5111 - val_loss: 2.6329\n",
      "Epoch 12/15\n",
      "152/152 [==============================] - 8s 53ms/step - loss: 0.5038 - val_loss: 2.5984\n",
      "Epoch 13/15\n",
      "152/152 [==============================] - 8s 54ms/step - loss: 0.4963 - val_loss: 2.5680\n",
      "Epoch 14/15\n",
      "152/152 [==============================] - 8s 53ms/step - loss: 0.4877 - val_loss: 2.5442\n",
      "Epoch 15/15\n",
      "152/152 [==============================] - 8s 53ms/step - loss: 0.4938 - val_loss: 2.5186\n"
     ]
    },
    {
     "name": "stderr",
     "output_type": "stream",
     "text": [
      "WARNING:absl:Found untraced functions such as lstm_cell_111_layer_call_fn, lstm_cell_111_layer_call_and_return_conditional_losses while saving (showing 2 of 2). These functions will not be directly callable after loading.\n"
     ]
    },
    {
     "name": "stdout",
     "output_type": "stream",
     "text": [
      "INFO:tensorflow:Assets written to: Walk_forward/models/day106\\assets\n"
     ]
    },
    {
     "name": "stderr",
     "output_type": "stream",
     "text": [
      "INFO:tensorflow:Assets written to: Walk_forward/models/day106\\assets\n",
      "WARNING:absl:<keras.layers.recurrent.LSTMCell object at 0x000001D248CFED00> has the same name 'LSTMCell' as a built-in Keras object. Consider renaming <class 'keras.layers.recurrent.LSTMCell'> to avoid naming conflicts when loading with `tf.keras.models.load_model`. If renaming is not possible, pass the object in the `custom_objects` parameter of the load function.\n"
     ]
    },
    {
     "name": "stdout",
     "output_type": "stream",
     "text": [
      "152/152 [==============================] - 4s 22ms/step\n",
      "65/65 [==============================] - 1s 19ms/step\n"
     ]
    },
    {
     "name": "stderr",
     "output_type": "stream",
     "text": [
      "D:\\Anaconda\\lib\\site-packages\\pandas\\core\\frame.py:3678: SettingWithCopyWarning: \n",
      "A value is trying to be set on a copy of a slice from a DataFrame.\n",
      "Try using .loc[row_indexer,col_indexer] = value instead\n",
      "\n",
      "See the caveats in the documentation: https://pandas.pydata.org/pandas-docs/stable/user_guide/indexing.html#returning-a-view-versus-a-copy\n",
      "  self[col] = igetitem(value, i)\n"
     ]
    },
    {
     "name": "stdout",
     "output_type": "stream",
     "text": [
      "Epoch 1/15\n",
      "152/152 [==============================] - 11s 62ms/step - loss: 0.9181 - val_loss: 3.6522\n",
      "Epoch 2/15\n",
      "152/152 [==============================] - 8s 53ms/step - loss: 0.8093 - val_loss: 3.5482\n",
      "Epoch 3/15\n",
      "152/152 [==============================] - 8s 54ms/step - loss: 0.7360 - val_loss: 3.2384\n",
      "Epoch 4/15\n",
      "152/152 [==============================] - 8s 53ms/step - loss: 0.6754 - val_loss: 3.1470\n",
      "Epoch 5/15\n",
      "152/152 [==============================] - 8s 54ms/step - loss: 0.6485 - val_loss: 3.0635\n",
      "Epoch 6/15\n",
      "152/152 [==============================] - 8s 53ms/step - loss: 0.6278 - val_loss: 3.0211\n",
      "Epoch 7/15\n",
      "152/152 [==============================] - 8s 53ms/step - loss: 0.6140 - val_loss: 2.9857\n",
      "Epoch 8/15\n",
      "152/152 [==============================] - 8s 54ms/step - loss: 0.6318 - val_loss: 2.9649\n",
      "Epoch 9/15\n",
      "152/152 [==============================] - 8s 54ms/step - loss: 0.5921 - val_loss: 2.9417\n",
      "Epoch 10/15\n",
      "152/152 [==============================] - 8s 53ms/step - loss: 0.5805 - val_loss: 2.8957\n",
      "Epoch 11/15\n",
      "152/152 [==============================] - 8s 53ms/step - loss: 0.5714 - val_loss: 2.8698\n",
      "Epoch 12/15\n",
      "152/152 [==============================] - 8s 53ms/step - loss: 0.5637 - val_loss: 2.8369\n",
      "Epoch 13/15\n",
      "152/152 [==============================] - 8s 54ms/step - loss: 0.5531 - val_loss: 2.7949\n",
      "Epoch 14/15\n",
      "152/152 [==============================] - 8s 53ms/step - loss: 0.5432 - val_loss: 2.7658\n",
      "Epoch 15/15\n",
      "152/152 [==============================] - 8s 52ms/step - loss: 0.5359 - val_loss: 2.7456\n"
     ]
    },
    {
     "name": "stderr",
     "output_type": "stream",
     "text": [
      "WARNING:absl:Found untraced functions such as lstm_cell_112_layer_call_fn, lstm_cell_112_layer_call_and_return_conditional_losses while saving (showing 2 of 2). These functions will not be directly callable after loading.\n"
     ]
    },
    {
     "name": "stdout",
     "output_type": "stream",
     "text": [
      "INFO:tensorflow:Assets written to: Walk_forward/models/day107\\assets\n"
     ]
    },
    {
     "name": "stderr",
     "output_type": "stream",
     "text": [
      "INFO:tensorflow:Assets written to: Walk_forward/models/day107\\assets\n",
      "WARNING:absl:<keras.layers.recurrent.LSTMCell object at 0x000001D24D0AC5B0> has the same name 'LSTMCell' as a built-in Keras object. Consider renaming <class 'keras.layers.recurrent.LSTMCell'> to avoid naming conflicts when loading with `tf.keras.models.load_model`. If renaming is not possible, pass the object in the `custom_objects` parameter of the load function.\n"
     ]
    },
    {
     "name": "stdout",
     "output_type": "stream",
     "text": [
      "152/152 [==============================] - 4s 21ms/step\n",
      "65/65 [==============================] - 1s 20ms/step\n"
     ]
    },
    {
     "name": "stderr",
     "output_type": "stream",
     "text": [
      "D:\\Anaconda\\lib\\site-packages\\pandas\\core\\frame.py:3678: SettingWithCopyWarning: \n",
      "A value is trying to be set on a copy of a slice from a DataFrame.\n",
      "Try using .loc[row_indexer,col_indexer] = value instead\n",
      "\n",
      "See the caveats in the documentation: https://pandas.pydata.org/pandas-docs/stable/user_guide/indexing.html#returning-a-view-versus-a-copy\n",
      "  self[col] = igetitem(value, i)\n"
     ]
    },
    {
     "name": "stdout",
     "output_type": "stream",
     "text": [
      "Epoch 1/15\n",
      "152/152 [==============================] - 11s 56ms/step - loss: 2.2197 - val_loss: 0.0859\n",
      "Epoch 2/15\n",
      "152/152 [==============================] - 8s 52ms/step - loss: 2.1128 - val_loss: 0.0863\n",
      "Epoch 3/15\n",
      "152/152 [==============================] - 8s 52ms/step - loss: 1.9842 - val_loss: 0.0875\n",
      "Epoch 4/15\n",
      "152/152 [==============================] - 8s 53ms/step - loss: 1.8613 - val_loss: 0.0841\n",
      "Epoch 5/15\n",
      "152/152 [==============================] - 8s 53ms/step - loss: 1.7634 - val_loss: 0.0812\n",
      "Epoch 6/15\n",
      "152/152 [==============================] - 8s 53ms/step - loss: 1.7048 - val_loss: 0.0826\n",
      "Epoch 7/15\n",
      "152/152 [==============================] - 8s 53ms/step - loss: 1.6610 - val_loss: 0.0839\n",
      "Epoch 8/15\n",
      "152/152 [==============================] - 8s 52ms/step - loss: 1.6231 - val_loss: 0.0854\n",
      "Epoch 9/15\n",
      "152/152 [==============================] - 8s 53ms/step - loss: 1.5929 - val_loss: 0.0874\n",
      "Epoch 10/15\n",
      "152/152 [==============================] - 8s 53ms/step - loss: 1.5768 - val_loss: 0.0885\n",
      "Epoch 11/15\n",
      "152/152 [==============================] - 8s 52ms/step - loss: 1.5291 - val_loss: 0.0984\n",
      "Epoch 12/15\n",
      "152/152 [==============================] - 8s 53ms/step - loss: 1.5033 - val_loss: 0.0990\n",
      "Epoch 13/15\n",
      "152/152 [==============================] - 8s 52ms/step - loss: 1.4929 - val_loss: 0.0992\n",
      "Epoch 14/15\n",
      "152/152 [==============================] - 8s 53ms/step - loss: 1.4552 - val_loss: 0.0971\n",
      "Epoch 15/15\n",
      "152/152 [==============================] - 8s 53ms/step - loss: 1.4295 - val_loss: 0.0986\n"
     ]
    },
    {
     "name": "stderr",
     "output_type": "stream",
     "text": [
      "WARNING:absl:Found untraced functions such as lstm_cell_113_layer_call_fn, lstm_cell_113_layer_call_and_return_conditional_losses while saving (showing 2 of 2). These functions will not be directly callable after loading.\n"
     ]
    },
    {
     "name": "stdout",
     "output_type": "stream",
     "text": [
      "INFO:tensorflow:Assets written to: Walk_forward/models/day108\\assets\n"
     ]
    },
    {
     "name": "stderr",
     "output_type": "stream",
     "text": [
      "INFO:tensorflow:Assets written to: Walk_forward/models/day108\\assets\n",
      "WARNING:absl:<keras.layers.recurrent.LSTMCell object at 0x000001D24CA59BB0> has the same name 'LSTMCell' as a built-in Keras object. Consider renaming <class 'keras.layers.recurrent.LSTMCell'> to avoid naming conflicts when loading with `tf.keras.models.load_model`. If renaming is not possible, pass the object in the `custom_objects` parameter of the load function.\n"
     ]
    },
    {
     "name": "stdout",
     "output_type": "stream",
     "text": [
      "152/152 [==============================] - 4s 21ms/step\n",
      "65/65 [==============================] - 1s 20ms/step\n"
     ]
    },
    {
     "name": "stderr",
     "output_type": "stream",
     "text": [
      "D:\\Anaconda\\lib\\site-packages\\pandas\\core\\frame.py:3678: SettingWithCopyWarning: \n",
      "A value is trying to be set on a copy of a slice from a DataFrame.\n",
      "Try using .loc[row_indexer,col_indexer] = value instead\n",
      "\n",
      "See the caveats in the documentation: https://pandas.pydata.org/pandas-docs/stable/user_guide/indexing.html#returning-a-view-versus-a-copy\n",
      "  self[col] = igetitem(value, i)\n"
     ]
    },
    {
     "name": "stdout",
     "output_type": "stream",
     "text": [
      "Epoch 1/15\n",
      "152/152 [==============================] - 11s 57ms/step - loss: 2.2516 - val_loss: 0.0675\n",
      "Epoch 2/15\n",
      "152/152 [==============================] - 8s 53ms/step - loss: 2.1640 - val_loss: 0.0673\n",
      "Epoch 3/15\n",
      "152/152 [==============================] - 8s 53ms/step - loss: 2.0787 - val_loss: 0.0658\n",
      "Epoch 4/15\n",
      "152/152 [==============================] - 8s 53ms/step - loss: 1.9293 - val_loss: 0.0656\n",
      "Epoch 5/15\n",
      "152/152 [==============================] - 8s 53ms/step - loss: 1.8270 - val_loss: 0.0669\n",
      "Epoch 6/15\n",
      "152/152 [==============================] - 8s 52ms/step - loss: 1.7727 - val_loss: 0.0678\n",
      "Epoch 7/15\n",
      "152/152 [==============================] - 8s 53ms/step - loss: 1.7331 - val_loss: 0.0693\n",
      "Epoch 8/15\n",
      "152/152 [==============================] - 8s 53ms/step - loss: 1.6953 - val_loss: 0.0688\n",
      "Epoch 9/15\n",
      "152/152 [==============================] - 8s 53ms/step - loss: 1.6630 - val_loss: 0.0697\n",
      "Epoch 10/15\n",
      "152/152 [==============================] - 8s 52ms/step - loss: 1.6325 - val_loss: 0.0741\n",
      "Epoch 11/15\n",
      "152/152 [==============================] - 8s 53ms/step - loss: 1.6069 - val_loss: 0.0746\n",
      "Epoch 12/15\n",
      "152/152 [==============================] - 8s 53ms/step - loss: 1.5789 - val_loss: 0.0746\n",
      "Epoch 13/15\n",
      "152/152 [==============================] - 8s 53ms/step - loss: 1.5486 - val_loss: 0.0765\n",
      "Epoch 14/15\n",
      "152/152 [==============================] - 8s 53ms/step - loss: 1.5214 - val_loss: 0.0888\n",
      "Epoch 15/15\n",
      "152/152 [==============================] - 8s 52ms/step - loss: 1.4967 - val_loss: 0.0826\n"
     ]
    },
    {
     "name": "stderr",
     "output_type": "stream",
     "text": [
      "WARNING:absl:Found untraced functions such as lstm_cell_114_layer_call_fn, lstm_cell_114_layer_call_and_return_conditional_losses while saving (showing 2 of 2). These functions will not be directly callable after loading.\n"
     ]
    },
    {
     "name": "stdout",
     "output_type": "stream",
     "text": [
      "INFO:tensorflow:Assets written to: Walk_forward/models/day109\\assets\n"
     ]
    },
    {
     "name": "stderr",
     "output_type": "stream",
     "text": [
      "INFO:tensorflow:Assets written to: Walk_forward/models/day109\\assets\n",
      "WARNING:absl:<keras.layers.recurrent.LSTMCell object at 0x000001D2263D7400> has the same name 'LSTMCell' as a built-in Keras object. Consider renaming <class 'keras.layers.recurrent.LSTMCell'> to avoid naming conflicts when loading with `tf.keras.models.load_model`. If renaming is not possible, pass the object in the `custom_objects` parameter of the load function.\n"
     ]
    },
    {
     "name": "stdout",
     "output_type": "stream",
     "text": [
      "152/152 [==============================] - 4s 21ms/step\n",
      "65/65 [==============================] - 1s 19ms/step\n"
     ]
    },
    {
     "name": "stderr",
     "output_type": "stream",
     "text": [
      "D:\\Anaconda\\lib\\site-packages\\pandas\\core\\frame.py:3678: SettingWithCopyWarning: \n",
      "A value is trying to be set on a copy of a slice from a DataFrame.\n",
      "Try using .loc[row_indexer,col_indexer] = value instead\n",
      "\n",
      "See the caveats in the documentation: https://pandas.pydata.org/pandas-docs/stable/user_guide/indexing.html#returning-a-view-versus-a-copy\n",
      "  self[col] = igetitem(value, i)\n"
     ]
    },
    {
     "name": "stdout",
     "output_type": "stream",
     "text": [
      "Epoch 1/15\n",
      "152/152 [==============================] - 11s 58ms/step - loss: 2.1252 - val_loss: 0.0636\n",
      "Epoch 2/15\n",
      "152/152 [==============================] - 8s 53ms/step - loss: 2.0061 - val_loss: 0.0578\n",
      "Epoch 3/15\n",
      "152/152 [==============================] - 8s 54ms/step - loss: 1.9090 - val_loss: 0.0659\n",
      "Epoch 4/15\n",
      "152/152 [==============================] - 8s 53ms/step - loss: 1.8593 - val_loss: 0.0610\n",
      "Epoch 5/15\n",
      "152/152 [==============================] - 8s 53ms/step - loss: 1.8190 - val_loss: 0.0585\n",
      "Epoch 6/15\n",
      "152/152 [==============================] - 8s 52ms/step - loss: 1.7863 - val_loss: 0.0661\n",
      "Epoch 7/15\n",
      "152/152 [==============================] - 8s 53ms/step - loss: 1.7903 - val_loss: 0.0643\n",
      "Epoch 8/15\n",
      "152/152 [==============================] - 8s 53ms/step - loss: 1.7312 - val_loss: 0.0639\n",
      "Epoch 9/15\n",
      "152/152 [==============================] - 8s 53ms/step - loss: 1.7028 - val_loss: 0.0631\n",
      "Epoch 10/15\n",
      "152/152 [==============================] - 8s 53ms/step - loss: 1.6758 - val_loss: 0.0654\n",
      "Epoch 11/15\n",
      "152/152 [==============================] - 8s 53ms/step - loss: 1.6519 - val_loss: 0.0654\n",
      "Epoch 12/15\n",
      "152/152 [==============================] - 8s 53ms/step - loss: 1.6292 - val_loss: 0.0665\n",
      "Epoch 13/15\n",
      "152/152 [==============================] - 8s 54ms/step - loss: 1.6067 - val_loss: 0.0681\n",
      "Epoch 14/15\n",
      "152/152 [==============================] - 8s 52ms/step - loss: 1.5828 - val_loss: 0.0711\n",
      "Epoch 15/15\n",
      "152/152 [==============================] - 8s 52ms/step - loss: 1.5649 - val_loss: 0.0706\n"
     ]
    },
    {
     "name": "stderr",
     "output_type": "stream",
     "text": [
      "WARNING:absl:Found untraced functions such as lstm_cell_115_layer_call_fn, lstm_cell_115_layer_call_and_return_conditional_losses while saving (showing 2 of 2). These functions will not be directly callable after loading.\n"
     ]
    },
    {
     "name": "stdout",
     "output_type": "stream",
     "text": [
      "INFO:tensorflow:Assets written to: Walk_forward/models/day110\\assets\n"
     ]
    },
    {
     "name": "stderr",
     "output_type": "stream",
     "text": [
      "INFO:tensorflow:Assets written to: Walk_forward/models/day110\\assets\n",
      "WARNING:absl:<keras.layers.recurrent.LSTMCell object at 0x000001D24EA583D0> has the same name 'LSTMCell' as a built-in Keras object. Consider renaming <class 'keras.layers.recurrent.LSTMCell'> to avoid naming conflicts when loading with `tf.keras.models.load_model`. If renaming is not possible, pass the object in the `custom_objects` parameter of the load function.\n"
     ]
    },
    {
     "name": "stdout",
     "output_type": "stream",
     "text": [
      "152/152 [==============================] - 4s 21ms/step\n",
      "65/65 [==============================] - 1s 19ms/step\n"
     ]
    },
    {
     "name": "stderr",
     "output_type": "stream",
     "text": [
      "D:\\Anaconda\\lib\\site-packages\\pandas\\core\\frame.py:3678: SettingWithCopyWarning: \n",
      "A value is trying to be set on a copy of a slice from a DataFrame.\n",
      "Try using .loc[row_indexer,col_indexer] = value instead\n",
      "\n",
      "See the caveats in the documentation: https://pandas.pydata.org/pandas-docs/stable/user_guide/indexing.html#returning-a-view-versus-a-copy\n",
      "  self[col] = igetitem(value, i)\n"
     ]
    },
    {
     "name": "stdout",
     "output_type": "stream",
     "text": [
      "Epoch 1/15\n",
      "152/152 [==============================] - 11s 57ms/step - loss: 2.1467 - val_loss: 0.0663\n",
      "Epoch 2/15\n",
      "152/152 [==============================] - 8s 53ms/step - loss: 2.0441 - val_loss: 0.0675\n",
      "Epoch 3/15\n",
      "152/152 [==============================] - 8s 53ms/step - loss: 1.9562 - val_loss: 0.0635\n",
      "Epoch 4/15\n",
      "152/152 [==============================] - 8s 53ms/step - loss: 1.8810 - val_loss: 0.0666\n",
      "Epoch 5/15\n",
      "152/152 [==============================] - 8s 53ms/step - loss: 1.8142 - val_loss: 0.0635\n",
      "Epoch 6/15\n",
      "152/152 [==============================] - 8s 53ms/step - loss: 1.7589 - val_loss: 0.0642\n",
      "Epoch 7/15\n",
      "152/152 [==============================] - 8s 53ms/step - loss: 1.7116 - val_loss: 0.0656\n",
      "Epoch 8/15\n",
      "152/152 [==============================] - 8s 52ms/step - loss: 1.6719 - val_loss: 0.0678\n",
      "Epoch 9/15\n",
      "152/152 [==============================] - 8s 53ms/step - loss: 1.6444 - val_loss: 0.0691\n",
      "Epoch 10/15\n",
      "152/152 [==============================] - 8s 52ms/step - loss: 1.6144 - val_loss: 0.0702\n",
      "Epoch 11/15\n",
      "152/152 [==============================] - 8s 52ms/step - loss: 1.5767 - val_loss: 0.0754\n",
      "Epoch 12/15\n",
      "152/152 [==============================] - 8s 53ms/step - loss: 1.5508 - val_loss: 0.0739\n",
      "Epoch 13/15\n",
      "152/152 [==============================] - 8s 55ms/step - loss: 1.5239 - val_loss: 0.0760\n",
      "Epoch 14/15\n",
      "152/152 [==============================] - 8s 55ms/step - loss: 1.5003 - val_loss: 0.0822\n",
      "Epoch 15/15\n",
      "152/152 [==============================] - 8s 53ms/step - loss: 1.4797 - val_loss: 0.0820\n"
     ]
    },
    {
     "name": "stderr",
     "output_type": "stream",
     "text": [
      "WARNING:absl:Found untraced functions such as lstm_cell_116_layer_call_fn, lstm_cell_116_layer_call_and_return_conditional_losses while saving (showing 2 of 2). These functions will not be directly callable after loading.\n"
     ]
    },
    {
     "name": "stdout",
     "output_type": "stream",
     "text": [
      "INFO:tensorflow:Assets written to: Walk_forward/models/day111\\assets\n"
     ]
    },
    {
     "name": "stderr",
     "output_type": "stream",
     "text": [
      "INFO:tensorflow:Assets written to: Walk_forward/models/day111\\assets\n",
      "WARNING:absl:<keras.layers.recurrent.LSTMCell object at 0x000001D1E5F05B80> has the same name 'LSTMCell' as a built-in Keras object. Consider renaming <class 'keras.layers.recurrent.LSTMCell'> to avoid naming conflicts when loading with `tf.keras.models.load_model`. If renaming is not possible, pass the object in the `custom_objects` parameter of the load function.\n"
     ]
    },
    {
     "name": "stdout",
     "output_type": "stream",
     "text": [
      "152/152 [==============================] - 4s 22ms/step\n",
      "65/65 [==============================] - 1s 20ms/step\n"
     ]
    },
    {
     "name": "stderr",
     "output_type": "stream",
     "text": [
      "D:\\Anaconda\\lib\\site-packages\\pandas\\core\\frame.py:3678: SettingWithCopyWarning: \n",
      "A value is trying to be set on a copy of a slice from a DataFrame.\n",
      "Try using .loc[row_indexer,col_indexer] = value instead\n",
      "\n",
      "See the caveats in the documentation: https://pandas.pydata.org/pandas-docs/stable/user_guide/indexing.html#returning-a-view-versus-a-copy\n",
      "  self[col] = igetitem(value, i)\n"
     ]
    },
    {
     "name": "stdout",
     "output_type": "stream",
     "text": [
      "Epoch 1/15\n",
      "152/152 [==============================] - 11s 57ms/step - loss: 2.1850 - val_loss: 0.0252\n",
      "Epoch 2/15\n",
      "152/152 [==============================] - 8s 54ms/step - loss: 2.0596 - val_loss: 0.0232\n",
      "Epoch 3/15\n",
      "152/152 [==============================] - 8s 53ms/step - loss: 1.9461 - val_loss: 0.0226\n",
      "Epoch 4/15\n",
      "152/152 [==============================] - 8s 53ms/step - loss: 1.8695 - val_loss: 0.0239\n",
      "Epoch 5/15\n",
      "152/152 [==============================] - 8s 53ms/step - loss: 1.8550 - val_loss: 0.0224\n",
      "Epoch 6/15\n",
      "152/152 [==============================] - 8s 53ms/step - loss: 1.7624 - val_loss: 0.0236\n",
      "Epoch 7/15\n",
      "152/152 [==============================] - 8s 53ms/step - loss: 1.7240 - val_loss: 0.0220\n",
      "Epoch 8/15\n",
      "152/152 [==============================] - 8s 53ms/step - loss: 1.6855 - val_loss: 0.0230\n",
      "Epoch 9/15\n",
      "152/152 [==============================] - 8s 53ms/step - loss: 1.6407 - val_loss: 0.0234\n",
      "Epoch 10/15\n",
      "152/152 [==============================] - 8s 53ms/step - loss: 1.6110 - val_loss: 0.0258\n",
      "Epoch 11/15\n",
      "152/152 [==============================] - 8s 53ms/step - loss: 1.5826 - val_loss: 0.0299\n",
      "Epoch 12/15\n",
      "152/152 [==============================] - 8s 53ms/step - loss: 1.5470 - val_loss: 0.0255\n",
      "Epoch 13/15\n",
      "152/152 [==============================] - 8s 54ms/step - loss: 1.5125 - val_loss: 0.0269\n",
      "Epoch 14/15\n",
      "152/152 [==============================] - 8s 54ms/step - loss: 1.4801 - val_loss: 0.0286\n",
      "Epoch 15/15\n",
      "152/152 [==============================] - 8s 53ms/step - loss: 1.4553 - val_loss: 0.0237\n"
     ]
    },
    {
     "name": "stderr",
     "output_type": "stream",
     "text": [
      "WARNING:absl:Found untraced functions such as lstm_cell_117_layer_call_fn, lstm_cell_117_layer_call_and_return_conditional_losses while saving (showing 2 of 2). These functions will not be directly callable after loading.\n"
     ]
    },
    {
     "name": "stdout",
     "output_type": "stream",
     "text": [
      "INFO:tensorflow:Assets written to: Walk_forward/models/day112\\assets\n"
     ]
    },
    {
     "name": "stderr",
     "output_type": "stream",
     "text": [
      "INFO:tensorflow:Assets written to: Walk_forward/models/day112\\assets\n",
      "WARNING:absl:<keras.layers.recurrent.LSTMCell object at 0x000001D24E5B6940> has the same name 'LSTMCell' as a built-in Keras object. Consider renaming <class 'keras.layers.recurrent.LSTMCell'> to avoid naming conflicts when loading with `tf.keras.models.load_model`. If renaming is not possible, pass the object in the `custom_objects` parameter of the load function.\n"
     ]
    },
    {
     "name": "stdout",
     "output_type": "stream",
     "text": [
      "152/152 [==============================] - 4s 22ms/step\n",
      "65/65 [==============================] - 1s 20ms/step\n"
     ]
    },
    {
     "name": "stderr",
     "output_type": "stream",
     "text": [
      "D:\\Anaconda\\lib\\site-packages\\pandas\\core\\frame.py:3678: SettingWithCopyWarning: \n",
      "A value is trying to be set on a copy of a slice from a DataFrame.\n",
      "Try using .loc[row_indexer,col_indexer] = value instead\n",
      "\n",
      "See the caveats in the documentation: https://pandas.pydata.org/pandas-docs/stable/user_guide/indexing.html#returning-a-view-versus-a-copy\n",
      "  self[col] = igetitem(value, i)\n"
     ]
    },
    {
     "name": "stdout",
     "output_type": "stream",
     "text": [
      "Epoch 1/15\n",
      "152/152 [==============================] - 11s 57ms/step - loss: 2.2399 - val_loss: 0.0260\n",
      "Epoch 2/15\n",
      "152/152 [==============================] - 8s 52ms/step - loss: 2.1447 - val_loss: 0.0291\n",
      "Epoch 3/15\n",
      "152/152 [==============================] - 8s 52ms/step - loss: 2.1175 - val_loss: 0.0258\n",
      "Epoch 4/15\n",
      "152/152 [==============================] - 8s 53ms/step - loss: 1.9852 - val_loss: 0.0225\n",
      "Epoch 5/15\n",
      "152/152 [==============================] - 8s 53ms/step - loss: 1.9019 - val_loss: 0.0342\n",
      "Epoch 6/15\n",
      "152/152 [==============================] - 8s 53ms/step - loss: 1.8535 - val_loss: 0.0240\n",
      "Epoch 7/15\n",
      "152/152 [==============================] - 8s 53ms/step - loss: 1.8151 - val_loss: 0.0216\n",
      "Epoch 8/15\n",
      "152/152 [==============================] - 8s 54ms/step - loss: 1.7810 - val_loss: 0.0262\n",
      "Epoch 9/15\n",
      "152/152 [==============================] - 8s 52ms/step - loss: 1.7439 - val_loss: 0.0263\n",
      "Epoch 10/15\n",
      "152/152 [==============================] - 8s 52ms/step - loss: 1.7038 - val_loss: 0.0301\n",
      "Epoch 11/15\n",
      "152/152 [==============================] - 8s 53ms/step - loss: 1.6724 - val_loss: 0.0245\n",
      "Epoch 12/15\n",
      "152/152 [==============================] - 8s 55ms/step - loss: 1.6444 - val_loss: 0.0233\n",
      "Epoch 13/15\n",
      "152/152 [==============================] - 8s 52ms/step - loss: 1.6126 - val_loss: 0.0334\n",
      "Epoch 14/15\n",
      "152/152 [==============================] - 8s 52ms/step - loss: 1.6102 - val_loss: 0.0281\n",
      "Epoch 15/15\n",
      "152/152 [==============================] - 8s 56ms/step - loss: 1.5687 - val_loss: 0.0246\n"
     ]
    },
    {
     "name": "stderr",
     "output_type": "stream",
     "text": [
      "WARNING:absl:Found untraced functions such as lstm_cell_118_layer_call_fn, lstm_cell_118_layer_call_and_return_conditional_losses while saving (showing 2 of 2). These functions will not be directly callable after loading.\n"
     ]
    },
    {
     "name": "stdout",
     "output_type": "stream",
     "text": [
      "INFO:tensorflow:Assets written to: Walk_forward/models/day113\\assets\n"
     ]
    },
    {
     "name": "stderr",
     "output_type": "stream",
     "text": [
      "INFO:tensorflow:Assets written to: Walk_forward/models/day113\\assets\n",
      "WARNING:absl:<keras.layers.recurrent.LSTMCell object at 0x000001D24882C1C0> has the same name 'LSTMCell' as a built-in Keras object. Consider renaming <class 'keras.layers.recurrent.LSTMCell'> to avoid naming conflicts when loading with `tf.keras.models.load_model`. If renaming is not possible, pass the object in the `custom_objects` parameter of the load function.\n"
     ]
    },
    {
     "name": "stdout",
     "output_type": "stream",
     "text": [
      "152/152 [==============================] - 4s 22ms/step\n",
      "65/65 [==============================] - 1s 20ms/step\n"
     ]
    },
    {
     "name": "stderr",
     "output_type": "stream",
     "text": [
      "D:\\Anaconda\\lib\\site-packages\\pandas\\core\\frame.py:3678: SettingWithCopyWarning: \n",
      "A value is trying to be set on a copy of a slice from a DataFrame.\n",
      "Try using .loc[row_indexer,col_indexer] = value instead\n",
      "\n",
      "See the caveats in the documentation: https://pandas.pydata.org/pandas-docs/stable/user_guide/indexing.html#returning-a-view-versus-a-copy\n",
      "  self[col] = igetitem(value, i)\n"
     ]
    },
    {
     "name": "stdout",
     "output_type": "stream",
     "text": [
      "Epoch 1/15\n",
      "152/152 [==============================] - 11s 56ms/step - loss: 2.4417 - val_loss: 0.0305\n",
      "Epoch 2/15\n",
      "152/152 [==============================] - 8s 53ms/step - loss: 2.1786 - val_loss: 0.0254\n",
      "Epoch 3/15\n",
      "152/152 [==============================] - 8s 54ms/step - loss: 2.0211 - val_loss: 0.0270\n",
      "Epoch 4/15\n",
      "152/152 [==============================] - 8s 54ms/step - loss: 1.8830 - val_loss: 0.0234\n",
      "Epoch 5/15\n",
      "152/152 [==============================] - 8s 53ms/step - loss: 1.8048 - val_loss: 0.0258\n",
      "Epoch 6/15\n",
      "152/152 [==============================] - 8s 53ms/step - loss: 1.7507 - val_loss: 0.0218\n",
      "Epoch 7/15\n",
      "152/152 [==============================] - 8s 53ms/step - loss: 1.7045 - val_loss: 0.0235\n",
      "Epoch 8/15\n",
      "152/152 [==============================] - 8s 53ms/step - loss: 1.6635 - val_loss: 0.0215\n",
      "Epoch 9/15\n",
      "152/152 [==============================] - 8s 54ms/step - loss: 1.6300 - val_loss: 0.0220\n",
      "Epoch 10/15\n",
      "152/152 [==============================] - 8s 55ms/step - loss: 1.5975 - val_loss: 0.0239\n",
      "Epoch 11/15\n",
      "152/152 [==============================] - 8s 53ms/step - loss: 1.5680 - val_loss: 0.0228\n",
      "Epoch 12/15\n",
      "152/152 [==============================] - 8s 53ms/step - loss: 1.5404 - val_loss: 0.0231\n",
      "Epoch 13/15\n",
      "152/152 [==============================] - 8s 52ms/step - loss: 1.5149 - val_loss: 0.0229\n",
      "Epoch 14/15\n",
      "152/152 [==============================] - 8s 52ms/step - loss: 1.4919 - val_loss: 0.0228\n",
      "Epoch 15/15\n",
      "152/152 [==============================] - 8s 52ms/step - loss: 1.4680 - val_loss: 0.0243\n"
     ]
    },
    {
     "name": "stderr",
     "output_type": "stream",
     "text": [
      "WARNING:absl:Found untraced functions such as lstm_cell_119_layer_call_fn, lstm_cell_119_layer_call_and_return_conditional_losses while saving (showing 2 of 2). These functions will not be directly callable after loading.\n"
     ]
    },
    {
     "name": "stdout",
     "output_type": "stream",
     "text": [
      "INFO:tensorflow:Assets written to: Walk_forward/models/day114\\assets\n"
     ]
    },
    {
     "name": "stderr",
     "output_type": "stream",
     "text": [
      "INFO:tensorflow:Assets written to: Walk_forward/models/day114\\assets\n",
      "WARNING:absl:<keras.layers.recurrent.LSTMCell object at 0x000001D249065460> has the same name 'LSTMCell' as a built-in Keras object. Consider renaming <class 'keras.layers.recurrent.LSTMCell'> to avoid naming conflicts when loading with `tf.keras.models.load_model`. If renaming is not possible, pass the object in the `custom_objects` parameter of the load function.\n"
     ]
    },
    {
     "name": "stdout",
     "output_type": "stream",
     "text": [
      "152/152 [==============================] - 4s 21ms/step\n",
      "65/65 [==============================] - 1s 20ms/step\n"
     ]
    },
    {
     "name": "stderr",
     "output_type": "stream",
     "text": [
      "D:\\Anaconda\\lib\\site-packages\\pandas\\core\\frame.py:3678: SettingWithCopyWarning: \n",
      "A value is trying to be set on a copy of a slice from a DataFrame.\n",
      "Try using .loc[row_indexer,col_indexer] = value instead\n",
      "\n",
      "See the caveats in the documentation: https://pandas.pydata.org/pandas-docs/stable/user_guide/indexing.html#returning-a-view-versus-a-copy\n",
      "  self[col] = igetitem(value, i)\n"
     ]
    },
    {
     "name": "stdout",
     "output_type": "stream",
     "text": [
      "Epoch 1/15\n",
      "152/152 [==============================] - 11s 56ms/step - loss: 2.0477 - val_loss: 0.0635\n",
      "Epoch 2/15\n",
      "152/152 [==============================] - 8s 52ms/step - loss: 1.9518 - val_loss: 0.0608\n",
      "Epoch 3/15\n",
      "152/152 [==============================] - 8s 53ms/step - loss: 1.8276 - val_loss: 0.0510\n",
      "Epoch 4/15\n",
      "152/152 [==============================] - 8s 53ms/step - loss: 1.7270 - val_loss: 0.0488\n",
      "Epoch 5/15\n",
      "152/152 [==============================] - 8s 53ms/step - loss: 1.6634 - val_loss: 0.0480\n",
      "Epoch 6/15\n",
      "152/152 [==============================] - 8s 54ms/step - loss: 1.6172 - val_loss: 0.0494\n",
      "Epoch 7/15\n",
      "152/152 [==============================] - 8s 53ms/step - loss: 1.5586 - val_loss: 0.0418\n",
      "Epoch 8/15\n",
      "152/152 [==============================] - 8s 53ms/step - loss: 1.5300 - val_loss: 0.0409\n",
      "Epoch 9/15\n",
      "152/152 [==============================] - 8s 53ms/step - loss: 1.5073 - val_loss: 0.0422\n",
      "Epoch 10/15\n",
      "152/152 [==============================] - 8s 52ms/step - loss: 1.4707 - val_loss: 0.0437\n",
      "Epoch 11/15\n",
      "152/152 [==============================] - 8s 53ms/step - loss: 1.4436 - val_loss: 0.0413\n",
      "Epoch 12/15\n",
      "152/152 [==============================] - 8s 54ms/step - loss: 1.4201 - val_loss: 0.0403\n",
      "Epoch 13/15\n",
      "152/152 [==============================] - 8s 53ms/step - loss: 1.3958 - val_loss: 0.0416\n",
      "Epoch 14/15\n",
      "152/152 [==============================] - 8s 53ms/step - loss: 1.3733 - val_loss: 0.0438\n",
      "Epoch 15/15\n",
      "152/152 [==============================] - 8s 54ms/step - loss: 1.3510 - val_loss: 0.0400\n"
     ]
    },
    {
     "name": "stderr",
     "output_type": "stream",
     "text": [
      "WARNING:absl:Found untraced functions such as lstm_cell_120_layer_call_fn, lstm_cell_120_layer_call_and_return_conditional_losses while saving (showing 2 of 2). These functions will not be directly callable after loading.\n"
     ]
    },
    {
     "name": "stdout",
     "output_type": "stream",
     "text": [
      "INFO:tensorflow:Assets written to: Walk_forward/models/day115\\assets\n"
     ]
    },
    {
     "name": "stderr",
     "output_type": "stream",
     "text": [
      "INFO:tensorflow:Assets written to: Walk_forward/models/day115\\assets\n",
      "WARNING:absl:<keras.layers.recurrent.LSTMCell object at 0x000001D24E5BB8E0> has the same name 'LSTMCell' as a built-in Keras object. Consider renaming <class 'keras.layers.recurrent.LSTMCell'> to avoid naming conflicts when loading with `tf.keras.models.load_model`. If renaming is not possible, pass the object in the `custom_objects` parameter of the load function.\n"
     ]
    },
    {
     "name": "stdout",
     "output_type": "stream",
     "text": [
      "152/152 [==============================] - 4s 21ms/step\n",
      "65/65 [==============================] - 1s 19ms/step\n"
     ]
    },
    {
     "name": "stderr",
     "output_type": "stream",
     "text": [
      "D:\\Anaconda\\lib\\site-packages\\pandas\\core\\frame.py:3678: SettingWithCopyWarning: \n",
      "A value is trying to be set on a copy of a slice from a DataFrame.\n",
      "Try using .loc[row_indexer,col_indexer] = value instead\n",
      "\n",
      "See the caveats in the documentation: https://pandas.pydata.org/pandas-docs/stable/user_guide/indexing.html#returning-a-view-versus-a-copy\n",
      "  self[col] = igetitem(value, i)\n"
     ]
    },
    {
     "name": "stdout",
     "output_type": "stream",
     "text": [
      "Epoch 1/15\n",
      "152/152 [==============================] - 11s 57ms/step - loss: 1.5556 - val_loss: 0.0983\n",
      "Epoch 2/15\n",
      "152/152 [==============================] - 8s 53ms/step - loss: 1.5313 - val_loss: 0.0907\n",
      "Epoch 3/15\n",
      "152/152 [==============================] - 8s 54ms/step - loss: 1.5023 - val_loss: 0.0846\n",
      "Epoch 4/15\n",
      "152/152 [==============================] - 8s 54ms/step - loss: 1.4702 - val_loss: 0.0743\n",
      "Epoch 5/15\n",
      "152/152 [==============================] - 8s 53ms/step - loss: 1.4286 - val_loss: 0.0668\n",
      "Epoch 6/15\n",
      "152/152 [==============================] - 8s 53ms/step - loss: 1.3912 - val_loss: 0.0574\n",
      "Epoch 7/15\n",
      "152/152 [==============================] - 8s 53ms/step - loss: 1.3661 - val_loss: 0.0526\n",
      "Epoch 8/15\n",
      "152/152 [==============================] - 8s 53ms/step - loss: 1.3391 - val_loss: 0.0504\n",
      "Epoch 9/15\n",
      "152/152 [==============================] - 8s 53ms/step - loss: 1.3177 - val_loss: 0.0480\n",
      "Epoch 10/15\n",
      "152/152 [==============================] - 8s 53ms/step - loss: 1.2978 - val_loss: 0.0498\n",
      "Epoch 11/15\n",
      "152/152 [==============================] - 8s 52ms/step - loss: 1.2828 - val_loss: 0.0449\n",
      "Epoch 12/15\n",
      "152/152 [==============================] - 8s 53ms/step - loss: 1.2631 - val_loss: 0.0469\n",
      "Epoch 13/15\n",
      "152/152 [==============================] - 8s 53ms/step - loss: 1.2373 - val_loss: 0.0454\n",
      "Epoch 14/15\n",
      "152/152 [==============================] - 8s 54ms/step - loss: 1.2155 - val_loss: 0.0438\n",
      "Epoch 15/15\n",
      "152/152 [==============================] - 8s 56ms/step - loss: 1.1979 - val_loss: 0.0465\n"
     ]
    },
    {
     "name": "stderr",
     "output_type": "stream",
     "text": [
      "WARNING:absl:Found untraced functions such as lstm_cell_121_layer_call_fn, lstm_cell_121_layer_call_and_return_conditional_losses while saving (showing 2 of 2). These functions will not be directly callable after loading.\n"
     ]
    },
    {
     "name": "stdout",
     "output_type": "stream",
     "text": [
      "INFO:tensorflow:Assets written to: Walk_forward/models/day116\\assets\n"
     ]
    },
    {
     "name": "stderr",
     "output_type": "stream",
     "text": [
      "INFO:tensorflow:Assets written to: Walk_forward/models/day116\\assets\n",
      "WARNING:absl:<keras.layers.recurrent.LSTMCell object at 0x000001D1D291B6A0> has the same name 'LSTMCell' as a built-in Keras object. Consider renaming <class 'keras.layers.recurrent.LSTMCell'> to avoid naming conflicts when loading with `tf.keras.models.load_model`. If renaming is not possible, pass the object in the `custom_objects` parameter of the load function.\n"
     ]
    },
    {
     "name": "stdout",
     "output_type": "stream",
     "text": [
      "152/152 [==============================] - 4s 21ms/step\n",
      "65/65 [==============================] - 1s 20ms/step\n"
     ]
    },
    {
     "name": "stderr",
     "output_type": "stream",
     "text": [
      "D:\\Anaconda\\lib\\site-packages\\pandas\\core\\frame.py:3678: SettingWithCopyWarning: \n",
      "A value is trying to be set on a copy of a slice from a DataFrame.\n",
      "Try using .loc[row_indexer,col_indexer] = value instead\n",
      "\n",
      "See the caveats in the documentation: https://pandas.pydata.org/pandas-docs/stable/user_guide/indexing.html#returning-a-view-versus-a-copy\n",
      "  self[col] = igetitem(value, i)\n"
     ]
    },
    {
     "name": "stdout",
     "output_type": "stream",
     "text": [
      "Epoch 1/15\n",
      "152/152 [==============================] - 11s 59ms/step - loss: 1.5073 - val_loss: 0.0878\n",
      "Epoch 2/15\n",
      "152/152 [==============================] - 8s 54ms/step - loss: 1.4746 - val_loss: 0.0778\n",
      "Epoch 3/15\n",
      "152/152 [==============================] - 8s 53ms/step - loss: 1.4478 - val_loss: 0.0719\n",
      "Epoch 4/15\n",
      "152/152 [==============================] - 8s 54ms/step - loss: 1.4326 - val_loss: 0.0654\n",
      "Epoch 5/15\n",
      "152/152 [==============================] - 8s 54ms/step - loss: 1.3809 - val_loss: 0.0614\n",
      "Epoch 6/15\n",
      "152/152 [==============================] - 8s 54ms/step - loss: 1.3494 - val_loss: 0.0590\n",
      "Epoch 7/15\n",
      "152/152 [==============================] - 8s 54ms/step - loss: 1.3152 - val_loss: 0.0548\n",
      "Epoch 8/15\n",
      "152/152 [==============================] - 8s 53ms/step - loss: 1.2811 - val_loss: 0.0540\n",
      "Epoch 9/15\n",
      "152/152 [==============================] - 8s 53ms/step - loss: 1.2530 - val_loss: 0.0533\n",
      "Epoch 10/15\n",
      "152/152 [==============================] - 8s 52ms/step - loss: 1.2440 - val_loss: 0.0542\n",
      "Epoch 11/15\n",
      "152/152 [==============================] - 8s 54ms/step - loss: 1.2161 - val_loss: 0.0526\n",
      "Epoch 12/15\n",
      "152/152 [==============================] - 8s 53ms/step - loss: 1.1971 - val_loss: 0.0516\n",
      "Epoch 13/15\n",
      "152/152 [==============================] - 8s 54ms/step - loss: 1.1816 - val_loss: 0.0513\n",
      "Epoch 14/15\n",
      "152/152 [==============================] - 8s 53ms/step - loss: 1.1690 - val_loss: 0.0512\n",
      "Epoch 15/15\n",
      "152/152 [==============================] - 8s 53ms/step - loss: 1.1549 - val_loss: 0.0520\n"
     ]
    },
    {
     "name": "stderr",
     "output_type": "stream",
     "text": [
      "WARNING:absl:Found untraced functions such as lstm_cell_122_layer_call_fn, lstm_cell_122_layer_call_and_return_conditional_losses while saving (showing 2 of 2). These functions will not be directly callable after loading.\n"
     ]
    },
    {
     "name": "stdout",
     "output_type": "stream",
     "text": [
      "INFO:tensorflow:Assets written to: Walk_forward/models/day117\\assets\n"
     ]
    },
    {
     "name": "stderr",
     "output_type": "stream",
     "text": [
      "INFO:tensorflow:Assets written to: Walk_forward/models/day117\\assets\n",
      "WARNING:absl:<keras.layers.recurrent.LSTMCell object at 0x000001D1D23A4940> has the same name 'LSTMCell' as a built-in Keras object. Consider renaming <class 'keras.layers.recurrent.LSTMCell'> to avoid naming conflicts when loading with `tf.keras.models.load_model`. If renaming is not possible, pass the object in the `custom_objects` parameter of the load function.\n"
     ]
    },
    {
     "name": "stdout",
     "output_type": "stream",
     "text": [
      "152/152 [==============================] - 4s 21ms/step\n",
      "65/65 [==============================] - 1s 20ms/step\n"
     ]
    },
    {
     "name": "stderr",
     "output_type": "stream",
     "text": [
      "D:\\Anaconda\\lib\\site-packages\\pandas\\core\\frame.py:3678: SettingWithCopyWarning: \n",
      "A value is trying to be set on a copy of a slice from a DataFrame.\n",
      "Try using .loc[row_indexer,col_indexer] = value instead\n",
      "\n",
      "See the caveats in the documentation: https://pandas.pydata.org/pandas-docs/stable/user_guide/indexing.html#returning-a-view-versus-a-copy\n",
      "  self[col] = igetitem(value, i)\n"
     ]
    },
    {
     "name": "stdout",
     "output_type": "stream",
     "text": [
      "Epoch 1/15\n",
      "152/152 [==============================] - 11s 57ms/step - loss: 1.5154 - val_loss: 0.0910\n",
      "Epoch 2/15\n",
      "152/152 [==============================] - 8s 53ms/step - loss: 1.4759 - val_loss: 0.0799\n",
      "Epoch 3/15\n",
      "152/152 [==============================] - 8s 54ms/step - loss: 1.4478 - val_loss: 0.0724\n",
      "Epoch 4/15\n",
      "152/152 [==============================] - 8s 54ms/step - loss: 1.4138 - val_loss: 0.0678\n",
      "Epoch 5/15\n",
      "152/152 [==============================] - 8s 53ms/step - loss: 1.3918 - val_loss: 0.0626\n",
      "Epoch 6/15\n",
      "152/152 [==============================] - 8s 53ms/step - loss: 1.3707 - val_loss: 0.0576\n",
      "Epoch 7/15\n",
      "152/152 [==============================] - 8s 53ms/step - loss: 1.3251 - val_loss: 0.0561\n",
      "Epoch 8/15\n",
      "152/152 [==============================] - 8s 54ms/step - loss: 1.2900 - val_loss: 0.0503\n",
      "Epoch 9/15\n",
      "152/152 [==============================] - 8s 53ms/step - loss: 1.2692 - val_loss: 0.0485\n",
      "Epoch 10/15\n",
      "152/152 [==============================] - 8s 53ms/step - loss: 1.2533 - val_loss: 0.0492\n",
      "Epoch 11/15\n",
      "152/152 [==============================] - 8s 52ms/step - loss: 1.2396 - val_loss: 0.0523\n",
      "Epoch 12/15\n",
      "152/152 [==============================] - 8s 52ms/step - loss: 1.2307 - val_loss: 0.0482\n",
      "Epoch 13/15\n",
      "152/152 [==============================] - 8s 52ms/step - loss: 1.2135 - val_loss: 0.0481\n",
      "Epoch 14/15\n",
      "152/152 [==============================] - 8s 52ms/step - loss: 1.2016 - val_loss: 0.0487\n",
      "Epoch 15/15\n",
      "152/152 [==============================] - 8s 52ms/step - loss: 1.1887 - val_loss: 0.0477\n"
     ]
    },
    {
     "name": "stderr",
     "output_type": "stream",
     "text": [
      "WARNING:absl:Found untraced functions such as lstm_cell_123_layer_call_fn, lstm_cell_123_layer_call_and_return_conditional_losses while saving (showing 2 of 2). These functions will not be directly callable after loading.\n"
     ]
    },
    {
     "name": "stdout",
     "output_type": "stream",
     "text": [
      "INFO:tensorflow:Assets written to: Walk_forward/models/day118\\assets\n"
     ]
    },
    {
     "name": "stderr",
     "output_type": "stream",
     "text": [
      "INFO:tensorflow:Assets written to: Walk_forward/models/day118\\assets\n",
      "WARNING:absl:<keras.layers.recurrent.LSTMCell object at 0x000001D247C71C70> has the same name 'LSTMCell' as a built-in Keras object. Consider renaming <class 'keras.layers.recurrent.LSTMCell'> to avoid naming conflicts when loading with `tf.keras.models.load_model`. If renaming is not possible, pass the object in the `custom_objects` parameter of the load function.\n"
     ]
    },
    {
     "name": "stdout",
     "output_type": "stream",
     "text": [
      "152/152 [==============================] - 4s 21ms/step\n",
      "65/65 [==============================] - 1s 19ms/step\n"
     ]
    },
    {
     "name": "stderr",
     "output_type": "stream",
     "text": [
      "D:\\Anaconda\\lib\\site-packages\\pandas\\core\\frame.py:3678: SettingWithCopyWarning: \n",
      "A value is trying to be set on a copy of a slice from a DataFrame.\n",
      "Try using .loc[row_indexer,col_indexer] = value instead\n",
      "\n",
      "See the caveats in the documentation: https://pandas.pydata.org/pandas-docs/stable/user_guide/indexing.html#returning-a-view-versus-a-copy\n",
      "  self[col] = igetitem(value, i)\n"
     ]
    },
    {
     "name": "stdout",
     "output_type": "stream",
     "text": [
      "Epoch 1/15\n",
      "152/152 [==============================] - 11s 56ms/step - loss: 1.5961 - val_loss: 0.1150\n",
      "Epoch 2/15\n",
      "152/152 [==============================] - 8s 52ms/step - loss: 1.5380 - val_loss: 0.0939\n",
      "Epoch 3/15\n",
      "152/152 [==============================] - 8s 52ms/step - loss: 1.4812 - val_loss: 0.1241\n",
      "Epoch 4/15\n",
      "152/152 [==============================] - 8s 52ms/step - loss: 1.4096 - val_loss: 0.0681\n",
      "Epoch 5/15\n",
      "152/152 [==============================] - 8s 52ms/step - loss: 1.3676 - val_loss: 0.0636\n",
      "Epoch 6/15\n",
      "152/152 [==============================] - 8s 52ms/step - loss: 1.3360 - val_loss: 0.0593\n",
      "Epoch 7/15\n",
      "152/152 [==============================] - 8s 52ms/step - loss: 1.3096 - val_loss: 0.0567\n",
      "Epoch 8/15\n",
      "152/152 [==============================] - 8s 52ms/step - loss: 1.2838 - val_loss: 0.0603\n",
      "Epoch 9/15\n",
      "152/152 [==============================] - 8s 52ms/step - loss: 1.3442 - val_loss: 0.0539\n",
      "Epoch 10/15\n",
      "152/152 [==============================] - 8s 53ms/step - loss: 1.2487 - val_loss: 0.0539\n",
      "Epoch 11/15\n",
      "152/152 [==============================] - 8s 52ms/step - loss: 1.2335 - val_loss: 0.0541\n",
      "Epoch 12/15\n",
      "152/152 [==============================] - 8s 52ms/step - loss: 1.2180 - val_loss: 0.0565\n",
      "Epoch 13/15\n",
      "152/152 [==============================] - 8s 52ms/step - loss: 1.2056 - val_loss: 0.0536\n",
      "Epoch 14/15\n",
      "152/152 [==============================] - 8s 52ms/step - loss: 1.1900 - val_loss: 0.0537\n",
      "Epoch 15/15\n",
      "152/152 [==============================] - 8s 52ms/step - loss: 1.1769 - val_loss: 0.0546\n"
     ]
    },
    {
     "name": "stderr",
     "output_type": "stream",
     "text": [
      "WARNING:absl:Found untraced functions such as lstm_cell_124_layer_call_fn, lstm_cell_124_layer_call_and_return_conditional_losses while saving (showing 2 of 2). These functions will not be directly callable after loading.\n"
     ]
    },
    {
     "name": "stdout",
     "output_type": "stream",
     "text": [
      "INFO:tensorflow:Assets written to: Walk_forward/models/day119\\assets\n"
     ]
    },
    {
     "name": "stderr",
     "output_type": "stream",
     "text": [
      "INFO:tensorflow:Assets written to: Walk_forward/models/day119\\assets\n",
      "WARNING:absl:<keras.layers.recurrent.LSTMCell object at 0x000001D228FC50D0> has the same name 'LSTMCell' as a built-in Keras object. Consider renaming <class 'keras.layers.recurrent.LSTMCell'> to avoid naming conflicts when loading with `tf.keras.models.load_model`. If renaming is not possible, pass the object in the `custom_objects` parameter of the load function.\n"
     ]
    },
    {
     "name": "stdout",
     "output_type": "stream",
     "text": [
      "152/152 [==============================] - 4s 21ms/step\n",
      "65/65 [==============================] - 1s 19ms/step\n"
     ]
    },
    {
     "name": "stderr",
     "output_type": "stream",
     "text": [
      "D:\\Anaconda\\lib\\site-packages\\pandas\\core\\frame.py:3678: SettingWithCopyWarning: \n",
      "A value is trying to be set on a copy of a slice from a DataFrame.\n",
      "Try using .loc[row_indexer,col_indexer] = value instead\n",
      "\n",
      "See the caveats in the documentation: https://pandas.pydata.org/pandas-docs/stable/user_guide/indexing.html#returning-a-view-versus-a-copy\n",
      "  self[col] = igetitem(value, i)\n"
     ]
    },
    {
     "name": "stdout",
     "output_type": "stream",
     "text": [
      "Epoch 1/15\n",
      "152/152 [==============================] - 11s 56ms/step - loss: 1.6613 - val_loss: 0.1221\n",
      "Epoch 2/15\n",
      "152/152 [==============================] - 8s 52ms/step - loss: 1.5971 - val_loss: 0.1069\n",
      "Epoch 3/15\n",
      "152/152 [==============================] - 8s 52ms/step - loss: 1.5289 - val_loss: 0.0796\n",
      "Epoch 4/15\n",
      "152/152 [==============================] - 8s 53ms/step - loss: 1.4734 - val_loss: 0.0675\n",
      "Epoch 5/15\n",
      "152/152 [==============================] - 8s 54ms/step - loss: 1.4287 - val_loss: 0.0590\n",
      "Epoch 6/15\n",
      "152/152 [==============================] - 8s 52ms/step - loss: 1.3804 - val_loss: 0.0672\n",
      "Epoch 7/15\n",
      "152/152 [==============================] - 8s 53ms/step - loss: 1.3413 - val_loss: 0.0503\n",
      "Epoch 8/15\n",
      "152/152 [==============================] - 8s 54ms/step - loss: 1.3142 - val_loss: 0.0482\n",
      "Epoch 9/15\n",
      "152/152 [==============================] - 8s 52ms/step - loss: 1.2744 - val_loss: 0.0490\n",
      "Epoch 10/15\n",
      "152/152 [==============================] - 8s 52ms/step - loss: 1.2479 - val_loss: 0.0465\n",
      "Epoch 11/15\n",
      "152/152 [==============================] - 8s 52ms/step - loss: 1.2352 - val_loss: 0.0459\n",
      "Epoch 12/15\n",
      "152/152 [==============================] - 8s 52ms/step - loss: 1.2214 - val_loss: 0.0481\n",
      "Epoch 13/15\n",
      "152/152 [==============================] - 8s 52ms/step - loss: 1.2053 - val_loss: 0.0468\n",
      "Epoch 14/15\n",
      "152/152 [==============================] - 8s 52ms/step - loss: 1.1922 - val_loss: 0.0502\n",
      "Epoch 15/15\n",
      "152/152 [==============================] - 8s 52ms/step - loss: 1.1754 - val_loss: 0.0467\n"
     ]
    },
    {
     "name": "stderr",
     "output_type": "stream",
     "text": [
      "WARNING:absl:Found untraced functions such as lstm_cell_125_layer_call_fn, lstm_cell_125_layer_call_and_return_conditional_losses while saving (showing 2 of 2). These functions will not be directly callable after loading.\n"
     ]
    },
    {
     "name": "stdout",
     "output_type": "stream",
     "text": [
      "INFO:tensorflow:Assets written to: Walk_forward/models/day120\\assets\n"
     ]
    },
    {
     "name": "stderr",
     "output_type": "stream",
     "text": [
      "INFO:tensorflow:Assets written to: Walk_forward/models/day120\\assets\n",
      "WARNING:absl:<keras.layers.recurrent.LSTMCell object at 0x000001D24E5BCB80> has the same name 'LSTMCell' as a built-in Keras object. Consider renaming <class 'keras.layers.recurrent.LSTMCell'> to avoid naming conflicts when loading with `tf.keras.models.load_model`. If renaming is not possible, pass the object in the `custom_objects` parameter of the load function.\n"
     ]
    },
    {
     "name": "stdout",
     "output_type": "stream",
     "text": [
      "152/152 [==============================] - 4s 21ms/step\n",
      "65/65 [==============================] - 1s 19ms/step\n"
     ]
    },
    {
     "name": "stderr",
     "output_type": "stream",
     "text": [
      "D:\\Anaconda\\lib\\site-packages\\pandas\\core\\frame.py:3678: SettingWithCopyWarning: \n",
      "A value is trying to be set on a copy of a slice from a DataFrame.\n",
      "Try using .loc[row_indexer,col_indexer] = value instead\n",
      "\n",
      "See the caveats in the documentation: https://pandas.pydata.org/pandas-docs/stable/user_guide/indexing.html#returning-a-view-versus-a-copy\n",
      "  self[col] = igetitem(value, i)\n"
     ]
    },
    {
     "name": "stdout",
     "output_type": "stream",
     "text": [
      "Epoch 1/15\n",
      "152/152 [==============================] - 11s 56ms/step - loss: 1.6621 - val_loss: 0.1287\n",
      "Epoch 2/15\n",
      "152/152 [==============================] - 8s 52ms/step - loss: 1.5601 - val_loss: 0.1106\n",
      "Epoch 3/15\n",
      "152/152 [==============================] - 8s 53ms/step - loss: 1.5032 - val_loss: 0.0973\n",
      "Epoch 4/15\n",
      "152/152 [==============================] - 8s 52ms/step - loss: 1.4565 - val_loss: 0.0863\n",
      "Epoch 5/15\n",
      "152/152 [==============================] - 8s 52ms/step - loss: 1.4212 - val_loss: 0.0766\n",
      "Epoch 6/15\n",
      "152/152 [==============================] - 8s 52ms/step - loss: 1.3823 - val_loss: 0.0637\n",
      "Epoch 7/15\n",
      "152/152 [==============================] - 8s 52ms/step - loss: 1.3480 - val_loss: 0.0565\n",
      "Epoch 8/15\n",
      "152/152 [==============================] - 8s 52ms/step - loss: 1.3267 - val_loss: 0.0522\n",
      "Epoch 9/15\n",
      "152/152 [==============================] - 8s 52ms/step - loss: 1.3084 - val_loss: 0.0489\n",
      "Epoch 10/15\n",
      "152/152 [==============================] - 8s 53ms/step - loss: 1.2925 - val_loss: 0.0470\n",
      "Epoch 11/15\n",
      "152/152 [==============================] - 8s 52ms/step - loss: 1.2788 - val_loss: 0.0462\n",
      "Epoch 12/15\n",
      "152/152 [==============================] - 8s 52ms/step - loss: 1.2654 - val_loss: 0.0450\n",
      "Epoch 13/15\n",
      "152/152 [==============================] - 8s 52ms/step - loss: 1.2522 - val_loss: 0.0458\n",
      "Epoch 14/15\n",
      "152/152 [==============================] - 8s 52ms/step - loss: 1.2404 - val_loss: 0.0457\n",
      "Epoch 15/15\n",
      "152/152 [==============================] - 8s 52ms/step - loss: 1.2297 - val_loss: 0.0428\n"
     ]
    },
    {
     "name": "stderr",
     "output_type": "stream",
     "text": [
      "WARNING:absl:Found untraced functions such as lstm_cell_126_layer_call_fn, lstm_cell_126_layer_call_and_return_conditional_losses while saving (showing 2 of 2). These functions will not be directly callable after loading.\n"
     ]
    },
    {
     "name": "stdout",
     "output_type": "stream",
     "text": [
      "INFO:tensorflow:Assets written to: Walk_forward/models/day121\\assets\n"
     ]
    },
    {
     "name": "stderr",
     "output_type": "stream",
     "text": [
      "INFO:tensorflow:Assets written to: Walk_forward/models/day121\\assets\n",
      "WARNING:absl:<keras.layers.recurrent.LSTMCell object at 0x000001D2363F1910> has the same name 'LSTMCell' as a built-in Keras object. Consider renaming <class 'keras.layers.recurrent.LSTMCell'> to avoid naming conflicts when loading with `tf.keras.models.load_model`. If renaming is not possible, pass the object in the `custom_objects` parameter of the load function.\n"
     ]
    },
    {
     "name": "stdout",
     "output_type": "stream",
     "text": [
      "152/152 [==============================] - 4s 21ms/step\n",
      "65/65 [==============================] - 1s 19ms/step\n"
     ]
    },
    {
     "ename": "IndexError",
     "evalue": "list index out of range",
     "output_type": "error",
     "traceback": [
      "\u001b[1;31m---------------------------------------------------------------------------\u001b[0m",
      "\u001b[1;31mIndexError\u001b[0m                                Traceback (most recent call last)",
      "\u001b[1;32m~\\AppData\\Local\\Temp/ipykernel_31268/2339888888.py\u001b[0m in \u001b[0;36m<module>\u001b[1;34m\u001b[0m\n\u001b[0;32m     17\u001b[0m     \u001b[0mn_step_lookahead\u001b[0m\u001b[1;33m=\u001b[0m\u001b[1;36m1\u001b[0m\u001b[1;33m\u001b[0m\u001b[1;33m\u001b[0m\u001b[0m\n\u001b[0;32m     18\u001b[0m     \u001b[0mstart_date\u001b[0m\u001b[1;33m=\u001b[0m\u001b[0mstart_dates\u001b[0m\u001b[1;33m[\u001b[0m\u001b[0mmonth\u001b[0m\u001b[1;33m]\u001b[0m\u001b[1;33m\u001b[0m\u001b[1;33m\u001b[0m\u001b[0m\n\u001b[1;32m---> 19\u001b[1;33m     \u001b[0mend_date\u001b[0m\u001b[1;33m=\u001b[0m\u001b[0mend_dates\u001b[0m\u001b[1;33m[\u001b[0m\u001b[0mmonth\u001b[0m\u001b[1;33m]\u001b[0m\u001b[1;33m\u001b[0m\u001b[1;33m\u001b[0m\u001b[0m\n\u001b[0m\u001b[0;32m     20\u001b[0m     \u001b[0mX_train\u001b[0m\u001b[1;33m,\u001b[0m \u001b[0my_train\u001b[0m\u001b[1;33m,\u001b[0m \u001b[0mX_val\u001b[0m\u001b[1;33m,\u001b[0m \u001b[0my_val\u001b[0m\u001b[1;33m,\u001b[0m \u001b[0mscaler\u001b[0m \u001b[1;33m=\u001b[0m \u001b[0mgenerate_training_val_examples_univariate_output\u001b[0m\u001b[1;33m(\u001b[0m\u001b[0mdata\u001b[0m\u001b[1;33m)\u001b[0m\u001b[1;33m\u001b[0m\u001b[1;33m\u001b[0m\u001b[0m\n\u001b[0;32m     21\u001b[0m     \u001b[1;32mfor\u001b[0m \u001b[0mi\u001b[0m \u001b[1;32min\u001b[0m \u001b[0mrange\u001b[0m\u001b[1;33m(\u001b[0m\u001b[1;36m1\u001b[0m\u001b[1;33m,\u001b[0m\u001b[1;36m2\u001b[0m\u001b[1;33m)\u001b[0m\u001b[1;33m:\u001b[0m\u001b[1;33m\u001b[0m\u001b[1;33m\u001b[0m\u001b[0m\n",
      "\u001b[1;31mIndexError\u001b[0m: list index out of range"
     ]
    }
   ],
   "source": [
    "#Create Training Examples for all lookaheads\n",
    "resample_rate = '5T'\n",
    "inputs = ['min_gas_price']\n",
    "#No of timesteps behind to forecast on, no of timesteps to forecast ahead\n",
    "n_steps_in = 2016\n",
    "n_steps_out = 1\n",
    "#How many timesteps between start of training examples\n",
    "step_interval = 1\n",
    "n_step_lookahead = 1\n",
    "\n",
    "y_hat_list=[]\n",
    "train_loss_list=[]\n",
    "val_loss_list=[]\n",
    "training_metrics_dicts=[]\n",
    "valdiation_metrics_dicts=[]\n",
    "for month in range(0, len(start_dates)):\n",
    "    n_step_lookahead=1\n",
    "    start_date=start_dates[month]\n",
    "    end_date=end_dates[month]\n",
    "    X_train, y_train, X_val, y_val, scaler = generate_training_val_examples_univariate_output(data)\n",
    "    for i in range(1,2):\n",
    "        n_step_lookahead = i\n",
    "     \n",
    "\n",
    "        model, model_checkpoint_callback, checkpoint_filepath = LSTM_model()\n",
    "        train_history = model.fit(X_train, y_train,validation_data=(X_val, y_val), epochs=15, verbose=1, callbacks=[model_checkpoint_callback])\n",
    "        model.load_weights(checkpoint_filepath)\n",
    "        model.save(('Walk_forward/models/day' +str(month)))\n",
    "\n",
    "        yhat_train = model.predict(X_train, verbose=1)\n",
    "        yhat_val = model.predict(X_val, verbose=1)\n",
    "        y_hat_list.append(yhat_val)\n",
    "\n",
    "        train_loss_list.append(train_history.history['loss'])\n",
    "        val_loss_list.append(train_history.history['val_loss'])\n",
    "        pd.DataFrame(train_loss_list).to_csv('Walk_forward/train_loss/'+str(month))\n",
    "        pd.DataFrame(val_loss_list).to_csv('Walk_forward/val_loss/'+str(month))\n",
    "        \n",
    "        training_metrics_dicts.append(descale_y_retrun_metrics_univariate_y(yhat_train, y_train))\n",
    "        valdiation_metrics_dicts.append(descale_y_retrun_metrics_univariate_y(yhat_val, y_val))\n",
    "\n",
    "        np.save(\"Walk_forward/train_metric_dict_1.npy\", training_metrics_dicts)  \n",
    "        np.save(\"Walk_forward/val_metric_dict_1.npy\", valdiation_metrics_dicts)  \n",
    "\n",
    "        \n",
    "        \n"
   ]
  },
  {
   "cell_type": "markdown",
   "id": "652c4844-7278-4438-91ec-c0cde3df4c9d",
   "metadata": {},
   "source": [
    "## Plot validation metrics for each model trained"
   ]
  },
  {
   "cell_type": "code",
   "execution_count": 75,
   "id": "d311cff6-5cc6-4081-8976-908a7fea1cc3",
   "metadata": {},
   "outputs": [],
   "source": [
    "train_RMSE_list = []\n",
    "train_MAE_list=[]\n",
    "train_MAPE_list=[]\n",
    "train_R2_list=[]\n",
    "\n",
    "for i in training_metrics_dicts:\n",
    "    train_RMSE_list.append(i['RMSE'].values[0])\n",
    "    train_MAE_list.append(i['MAE'].values[0])\n",
    "    train_MAPE_list.append(i['MAPE'].values[0])\n",
    "    train_R2_list.append(i['R2'].values[0])             "
   ]
  },
  {
   "cell_type": "code",
   "execution_count": 76,
   "id": "e00571d0-a1b3-4327-afef-5296070aea32",
   "metadata": {},
   "outputs": [],
   "source": [
    "val_RMSE_list = []\n",
    "val_MAE_list=[]\n",
    "val_MAPE_list=[]\n",
    "val_R2_list=[]\n",
    "\n",
    "for i in valdiation_metrics_dicts:\n",
    "    val_RMSE_list.append(i['RMSE'].values[0])\n",
    "    val_MAE_list.append(i['MAE'].values[0])\n",
    "    val_MAPE_list.append(i['MAPE'].values[0])\n",
    "    val_R2_list.append(i['R2'].values[0])     "
   ]
  },
  {
   "cell_type": "code",
   "execution_count": 130,
   "id": "ee01d1f3-091e-4e3d-b7af-35ec1a8456e5",
   "metadata": {},
   "outputs": [],
   "source": [
    "day = [5,36,67,95]\n",
    "month = ['Dec', 'Jan', 'Feb', 'March']"
   ]
  },
  {
   "cell_type": "code",
   "execution_count": 153,
   "id": "73822928-ff3e-4dab-a548-74aed18d59ab",
   "metadata": {},
   "outputs": [
    {
     "data": {
      "image/png": "[encoded data removed]",
      "text/plain": [
       "<Figure size 1080x1080 with 4 Axes>"
      ]
     },
     "metadata": {
      "needs_background": "light"
     },
     "output_type": "display_data"
    }
   ],
   "source": [
    "graph, ((plot1, plot2), (plot3, plot4)) = plt.subplots(2, 2)\n",
    "\n",
    "\n",
    "plot1.plot(val_RMSE_list)\n",
    "plot1.set_title('RMSE', size=15)\n",
    "plot1.set_ylim([0,140])\n",
    "\n",
    "plot2.plot(val_MAE_list)\n",
    "plot2.set_title('MAE',size=15)\n",
    "plot2.set_ylim([0,140])\n",
    "\n",
    "plot3.plot(val_MAPE_list)\n",
    "plot3.set_title('MAPE',size=15)\n",
    "\n",
    "\n",
    "plot4.plot(val_R2_list)\n",
    "plot4.set_title('R2',size=15)\n",
    "plot4.invert_yaxis()\n",
    "\n",
    "\n",
    "graph.set_figheight(15)\n",
    "graph.set_figwidth(15)\n",
    "\n",
    "for i in[plot1,plot2,plot3,plot4]:\n",
    "    plt.sca(i)\n",
    "    plt.xticks(day, month, size=15)\n",
    "    plt.yticks(size=15)\n",
    "    \n",
    "\n"
   ]
  }
 ],
 "metadata": {
  "kernelspec": {
   "display_name": "Python 3 (ipykernel)",
   "language": "python",
   "name": "python3"
  },
  "language_info": {
   "codemirror_mode": {
    "name": "ipython",
    "version": 3
   },
   "file_extension": ".py",
   "mimetype": "text/x-python",
   "name": "python",
   "nbconvert_exporter": "python",
   "pygments_lexer": "ipython3",
   "version": "3.9.7"
  }
 },
 "nbformat": 4,
 "nbformat_minor": 5
}
