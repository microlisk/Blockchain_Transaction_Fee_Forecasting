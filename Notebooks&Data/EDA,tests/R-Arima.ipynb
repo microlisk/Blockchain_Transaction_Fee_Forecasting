{
 "cells": [
  {
   "cell_type": "code",
   "execution_count": 1,
   "id": "72ff9f94",
   "metadata": {
    "collapsed": true,
    "jupyter": {
     "outputs_hidden": true
    },
    "tags": []
   },
   "outputs": [
    {
     "name": "stderr",
     "output_type": "stream",
     "text": [
      "\n",
      "Attaching package: 'zoo'\n",
      "\n",
      "\n",
      "The following objects are masked from 'package:base':\n",
      "\n",
      "    as.Date, as.Date.numeric\n",
      "\n",
      "\n",
      "Registered S3 method overwritten by 'quantmod':\n",
      "  method            from\n",
      "  as.zoo.data.frame zoo \n",
      "\n",
      "\n",
      "Attaching package: 'astsa'\n",
      "\n",
      "\n",
      "The following object is masked from 'package:forecast':\n",
      "\n",
      "    gas\n",
      "\n",
      "\n",
      "\n",
      "Attaching package: 'aTSA'\n",
      "\n",
      "\n",
      "The following object is masked from 'package:forecast':\n",
      "\n",
      "    forecast\n",
      "\n",
      "\n",
      "The following object is masked from 'package:graphics':\n",
      "\n",
      "    identify\n",
      "\n",
      "\n",
      "\n",
      "Attaching package: 'plotly'\n",
      "\n",
      "\n",
      "The following object is masked from 'package:ggplot2':\n",
      "\n",
      "    last_plot\n",
      "\n",
      "\n",
      "The following object is masked from 'package:stats':\n",
      "\n",
      "    filter\n",
      "\n",
      "\n",
      "The following object is masked from 'package:graphics':\n",
      "\n",
      "    layout\n",
      "\n",
      "\n",
      "\n",
      "Attaching package: 'MLmetrics'\n",
      "\n",
      "\n",
      "The following object is masked from 'package:base':\n",
      "\n",
      "    Recall\n",
      "\n",
      "\n"
     ]
    }
   ],
   "source": [
    "library(\"zoo\")                        # Load zoo package\n",
    "library(forecast)\n",
    "library(ggplot2)\n",
    "library(astsa)\n",
    "library(aTSA)\n",
    "library(xts)\n",
    "library(plotly)\n",
    "library(TSstudio)\n",
    "library(MLmetrics)"
   ]
  },
  {
   "cell_type": "markdown",
   "id": "4a611163-a70e-48f4-91e2-8aa3a9ded42d",
   "metadata": {},
   "source": [
    "## We will model on a 1 hour timestep, inclusion of Seasonal components on the order of 100+ timesteps proved difficult"
   ]
  },
  {
   "cell_type": "code",
   "execution_count": 2,
   "id": "8075fbab",
   "metadata": {},
   "outputs": [],
   "source": [
    "Data <- read.csv(\"C:\\\\Users\\\\conal\\\\Desktop\\\\MCM\\\\Practicum\\\\data\\\\ETH,gas,usage merged_60min 11-26 to 01-26.csv\")"
   ]
  },
  {
   "cell_type": "code",
   "execution_count": 3,
   "id": "fd1732c3",
   "metadata": {},
   "outputs": [
    {
     "data": {
      "text/html": [
       "<table class=\"dataframe\">\n",
       "<caption>A data.frame: 6 × 8</caption>\n",
       "<thead>\n",
       "\t<tr><th></th><th scope=col>datetime</th><th scope=col>gas_limit</th><th scope=col>gas_used</th><th scope=col>Open</th><th scope=col>avg_gas_price</th><th scope=col>max_gas_price</th><th scope=col>min_gas_price</th><th scope=col>block_utilisation</th></tr>\n",
       "\t<tr><th></th><th scope=col>&lt;chr&gt;</th><th scope=col>&lt;dbl&gt;</th><th scope=col>&lt;dbl&gt;</th><th scope=col>&lt;dbl&gt;</th><th scope=col>&lt;dbl&gt;</th><th scope=col>&lt;dbl&gt;</th><th scope=col>&lt;dbl&gt;</th><th scope=col>&lt;dbl&gt;</th></tr>\n",
       "</thead>\n",
       "<tbody>\n",
       "\t<tr><th scope=row>1483</th><td>2022-01-26 18:00:00</td><td>30039394</td><td>16307131</td><td>2576.415</td><td>192.7273</td><td> 624.3503</td><td>178.1387</td><td>0.5428974</td></tr>\n",
       "\t<tr><th scope=row>1484</th><td>2022-01-26 19:00:00</td><td>30019397</td><td>16767827</td><td>2631.031</td><td>267.7959</td><td> 910.0090</td><td>247.4973</td><td>0.5585605</td></tr>\n",
       "\t<tr><th scope=row>1485</th><td>2022-01-26 20:00:00</td><td>30014227</td><td>16442355</td><td>2510.596</td><td>246.0085</td><td>1519.3978</td><td>222.6770</td><td>0.5478010</td></tr>\n",
       "\t<tr><th scope=row>1486</th><td>2022-01-26 21:00:00</td><td>30019470</td><td>16624025</td><td>2478.345</td><td>174.1559</td><td> 569.1457</td><td>162.0970</td><td>0.5537652</td></tr>\n",
       "\t<tr><th scope=row>1487</th><td>2022-01-26 22:00:00</td><td>30025820</td><td>16567251</td><td>2425.639</td><td>159.4330</td><td> 577.7036</td><td>147.5472</td><td>0.5517893</td></tr>\n",
       "\t<tr><th scope=row>1488</th><td>2022-01-26 23:00:00</td><td>30015798</td><td>17513092</td><td>2461.215</td><td>193.7382</td><td> 662.0043</td><td>178.6380</td><td>0.5834066</td></tr>\n",
       "</tbody>\n",
       "</table>\n"
      ],
      "text/latex": [
       "A data.frame: 6 × 8\n",
       "\\begin{tabular}{r|llllllll}\n",
       "  & datetime & gas\\_limit & gas\\_used & Open & avg\\_gas\\_price & max\\_gas\\_price & min\\_gas\\_price & block\\_utilisation\\\\\n",
       "  & <chr> & <dbl> & <dbl> & <dbl> & <dbl> & <dbl> & <dbl> & <dbl>\\\\\n",
       "\\hline\n",
       "\t1483 & 2022-01-26 18:00:00 & 30039394 & 16307131 & 2576.415 & 192.7273 &  624.3503 & 178.1387 & 0.5428974\\\\\n",
       "\t1484 & 2022-01-26 19:00:00 & 30019397 & 16767827 & 2631.031 & 267.7959 &  910.0090 & 247.4973 & 0.5585605\\\\\n",
       "\t1485 & 2022-01-26 20:00:00 & 30014227 & 16442355 & 2510.596 & 246.0085 & 1519.3978 & 222.6770 & 0.5478010\\\\\n",
       "\t1486 & 2022-01-26 21:00:00 & 30019470 & 16624025 & 2478.345 & 174.1559 &  569.1457 & 162.0970 & 0.5537652\\\\\n",
       "\t1487 & 2022-01-26 22:00:00 & 30025820 & 16567251 & 2425.639 & 159.4330 &  577.7036 & 147.5472 & 0.5517893\\\\\n",
       "\t1488 & 2022-01-26 23:00:00 & 30015798 & 17513092 & 2461.215 & 193.7382 &  662.0043 & 178.6380 & 0.5834066\\\\\n",
       "\\end{tabular}\n"
      ],
      "text/markdown": [
       "\n",
       "A data.frame: 6 × 8\n",
       "\n",
       "| <!--/--> | datetime &lt;chr&gt; | gas_limit &lt;dbl&gt; | gas_used &lt;dbl&gt; | Open &lt;dbl&gt; | avg_gas_price &lt;dbl&gt; | max_gas_price &lt;dbl&gt; | min_gas_price &lt;dbl&gt; | block_utilisation &lt;dbl&gt; |\n",
       "|---|---|---|---|---|---|---|---|---|\n",
       "| 1483 | 2022-01-26 18:00:00 | 30039394 | 16307131 | 2576.415 | 192.7273 |  624.3503 | 178.1387 | 0.5428974 |\n",
       "| 1484 | 2022-01-26 19:00:00 | 30019397 | 16767827 | 2631.031 | 267.7959 |  910.0090 | 247.4973 | 0.5585605 |\n",
       "| 1485 | 2022-01-26 20:00:00 | 30014227 | 16442355 | 2510.596 | 246.0085 | 1519.3978 | 222.6770 | 0.5478010 |\n",
       "| 1486 | 2022-01-26 21:00:00 | 30019470 | 16624025 | 2478.345 | 174.1559 |  569.1457 | 162.0970 | 0.5537652 |\n",
       "| 1487 | 2022-01-26 22:00:00 | 30025820 | 16567251 | 2425.639 | 159.4330 |  577.7036 | 147.5472 | 0.5517893 |\n",
       "| 1488 | 2022-01-26 23:00:00 | 30015798 | 17513092 | 2461.215 | 193.7382 |  662.0043 | 178.6380 | 0.5834066 |\n",
       "\n"
      ],
      "text/plain": [
       "     datetime            gas_limit gas_used Open     avg_gas_price\n",
       "1483 2022-01-26 18:00:00 30039394  16307131 2576.415 192.7273     \n",
       "1484 2022-01-26 19:00:00 30019397  16767827 2631.031 267.7959     \n",
       "1485 2022-01-26 20:00:00 30014227  16442355 2510.596 246.0085     \n",
       "1486 2022-01-26 21:00:00 30019470  16624025 2478.345 174.1559     \n",
       "1487 2022-01-26 22:00:00 30025820  16567251 2425.639 159.4330     \n",
       "1488 2022-01-26 23:00:00 30015798  17513092 2461.215 193.7382     \n",
       "     max_gas_price min_gas_price block_utilisation\n",
       "1483  624.3503     178.1387      0.5428974        \n",
       "1484  910.0090     247.4973      0.5585605        \n",
       "1485 1519.3978     222.6770      0.5478010        \n",
       "1486  569.1457     162.0970      0.5537652        \n",
       "1487  577.7036     147.5472      0.5517893        \n",
       "1488  662.0043     178.6380      0.5834066        "
      ]
     },
     "metadata": {},
     "output_type": "display_data"
    }
   ],
   "source": [
    "FullData <- na.locf(Data)\n",
    "tail(FullData)"
   ]
  },
  {
   "cell_type": "code",
   "execution_count": 4,
   "id": "5cf2c837",
   "metadata": {},
   "outputs": [
    {
     "data": {
      "text/html": [
       "<table class=\"dataframe\">\n",
       "<caption>A data.frame: 6 × 8</caption>\n",
       "<thead>\n",
       "\t<tr><th></th><th scope=col>datetime</th><th scope=col>gas_limit</th><th scope=col>gas_used</th><th scope=col>Open</th><th scope=col>avg_gas_price</th><th scope=col>max_gas_price</th><th scope=col>min_gas_price</th><th scope=col>block_utilisation</th></tr>\n",
       "\t<tr><th></th><th scope=col>&lt;chr&gt;</th><th scope=col>&lt;dbl&gt;</th><th scope=col>&lt;dbl&gt;</th><th scope=col>&lt;dbl&gt;</th><th scope=col>&lt;dbl&gt;</th><th scope=col>&lt;dbl&gt;</th><th scope=col>&lt;dbl&gt;</th><th scope=col>&lt;dbl&gt;</th></tr>\n",
       "</thead>\n",
       "<tbody>\n",
       "\t<tr><th scope=row>1483</th><td>2022-01-26 18:00:00</td><td>30039394</td><td>16307131</td><td>2576.415</td><td>192.7273</td><td> 624.3503</td><td>178.1387</td><td>0.5428974</td></tr>\n",
       "\t<tr><th scope=row>1484</th><td>2022-01-26 19:00:00</td><td>30019397</td><td>16767827</td><td>2631.031</td><td>267.7959</td><td> 910.0090</td><td>247.4973</td><td>0.5585605</td></tr>\n",
       "\t<tr><th scope=row>1485</th><td>2022-01-26 20:00:00</td><td>30014227</td><td>16442355</td><td>2510.596</td><td>246.0085</td><td>1519.3978</td><td>222.6770</td><td>0.5478010</td></tr>\n",
       "\t<tr><th scope=row>1486</th><td>2022-01-26 21:00:00</td><td>30019470</td><td>16624025</td><td>2478.345</td><td>174.1559</td><td> 569.1457</td><td>162.0970</td><td>0.5537652</td></tr>\n",
       "\t<tr><th scope=row>1487</th><td>2022-01-26 22:00:00</td><td>30025820</td><td>16567251</td><td>2425.639</td><td>159.4330</td><td> 577.7036</td><td>147.5472</td><td>0.5517893</td></tr>\n",
       "\t<tr><th scope=row>1488</th><td>2022-01-26 23:00:00</td><td>30015798</td><td>17513092</td><td>2461.215</td><td>193.7382</td><td> 662.0043</td><td>178.6380</td><td>0.5834066</td></tr>\n",
       "</tbody>\n",
       "</table>\n"
      ],
      "text/latex": [
       "A data.frame: 6 × 8\n",
       "\\begin{tabular}{r|llllllll}\n",
       "  & datetime & gas\\_limit & gas\\_used & Open & avg\\_gas\\_price & max\\_gas\\_price & min\\_gas\\_price & block\\_utilisation\\\\\n",
       "  & <chr> & <dbl> & <dbl> & <dbl> & <dbl> & <dbl> & <dbl> & <dbl>\\\\\n",
       "\\hline\n",
       "\t1483 & 2022-01-26 18:00:00 & 30039394 & 16307131 & 2576.415 & 192.7273 &  624.3503 & 178.1387 & 0.5428974\\\\\n",
       "\t1484 & 2022-01-26 19:00:00 & 30019397 & 16767827 & 2631.031 & 267.7959 &  910.0090 & 247.4973 & 0.5585605\\\\\n",
       "\t1485 & 2022-01-26 20:00:00 & 30014227 & 16442355 & 2510.596 & 246.0085 & 1519.3978 & 222.6770 & 0.5478010\\\\\n",
       "\t1486 & 2022-01-26 21:00:00 & 30019470 & 16624025 & 2478.345 & 174.1559 &  569.1457 & 162.0970 & 0.5537652\\\\\n",
       "\t1487 & 2022-01-26 22:00:00 & 30025820 & 16567251 & 2425.639 & 159.4330 &  577.7036 & 147.5472 & 0.5517893\\\\\n",
       "\t1488 & 2022-01-26 23:00:00 & 30015798 & 17513092 & 2461.215 & 193.7382 &  662.0043 & 178.6380 & 0.5834066\\\\\n",
       "\\end{tabular}\n"
      ],
      "text/markdown": [
       "\n",
       "A data.frame: 6 × 8\n",
       "\n",
       "| <!--/--> | datetime &lt;chr&gt; | gas_limit &lt;dbl&gt; | gas_used &lt;dbl&gt; | Open &lt;dbl&gt; | avg_gas_price &lt;dbl&gt; | max_gas_price &lt;dbl&gt; | min_gas_price &lt;dbl&gt; | block_utilisation &lt;dbl&gt; |\n",
       "|---|---|---|---|---|---|---|---|---|\n",
       "| 1483 | 2022-01-26 18:00:00 | 30039394 | 16307131 | 2576.415 | 192.7273 |  624.3503 | 178.1387 | 0.5428974 |\n",
       "| 1484 | 2022-01-26 19:00:00 | 30019397 | 16767827 | 2631.031 | 267.7959 |  910.0090 | 247.4973 | 0.5585605 |\n",
       "| 1485 | 2022-01-26 20:00:00 | 30014227 | 16442355 | 2510.596 | 246.0085 | 1519.3978 | 222.6770 | 0.5478010 |\n",
       "| 1486 | 2022-01-26 21:00:00 | 30019470 | 16624025 | 2478.345 | 174.1559 |  569.1457 | 162.0970 | 0.5537652 |\n",
       "| 1487 | 2022-01-26 22:00:00 | 30025820 | 16567251 | 2425.639 | 159.4330 |  577.7036 | 147.5472 | 0.5517893 |\n",
       "| 1488 | 2022-01-26 23:00:00 | 30015798 | 17513092 | 2461.215 | 193.7382 |  662.0043 | 178.6380 | 0.5834066 |\n",
       "\n"
      ],
      "text/plain": [
       "     datetime            gas_limit gas_used Open     avg_gas_price\n",
       "1483 2022-01-26 18:00:00 30039394  16307131 2576.415 192.7273     \n",
       "1484 2022-01-26 19:00:00 30019397  16767827 2631.031 267.7959     \n",
       "1485 2022-01-26 20:00:00 30014227  16442355 2510.596 246.0085     \n",
       "1486 2022-01-26 21:00:00 30019470  16624025 2478.345 174.1559     \n",
       "1487 2022-01-26 22:00:00 30025820  16567251 2425.639 159.4330     \n",
       "1488 2022-01-26 23:00:00 30015798  17513092 2461.215 193.7382     \n",
       "     max_gas_price min_gas_price block_utilisation\n",
       "1483  624.3503     178.1387      0.5428974        \n",
       "1484  910.0090     247.4973      0.5585605        \n",
       "1485 1519.3978     222.6770      0.5478010        \n",
       "1486  569.1457     162.0970      0.5537652        \n",
       "1487  577.7036     147.5472      0.5517893        \n",
       "1488  662.0043     178.6380      0.5834066        "
      ]
     },
     "metadata": {},
     "output_type": "display_data"
    }
   ],
   "source": [
    "Data <- FullData[0:1440,]\n",
    "Test <- FullData[1441:1488,]\n",
    "tail(Test)"
   ]
  },
  {
   "cell_type": "code",
   "execution_count": 5,
   "id": "bd1a12d5",
   "metadata": {},
   "outputs": [
    {
     "data": {
      "text/html": [
       "<style>\n",
       ".dl-inline {width: auto; margin:0; padding: 0}\n",
       ".dl-inline>dt, .dl-inline>dd {float: none; width: auto; display: inline-block}\n",
       ".dl-inline>dt::after {content: \":\\0020\"; padding-right: .5ex}\n",
       ".dl-inline>dt:not(:first-of-type) {padding-left: .5ex}\n",
       "</style><dl class=dl-inline><dt>datetime</dt><dd>FALSE</dd><dt>gas_limit</dt><dd>FALSE</dd><dt>gas_used</dt><dd>FALSE</dd><dt>Open</dt><dd>FALSE</dd><dt>avg_gas_price</dt><dd>FALSE</dd><dt>max_gas_price</dt><dd>FALSE</dd><dt>min_gas_price</dt><dd>FALSE</dd><dt>block_utilisation</dt><dd>FALSE</dd></dl>\n"
      ],
      "text/latex": [
       "\\begin{description*}\n",
       "\\item[datetime] FALSE\n",
       "\\item[gas\\textbackslash{}\\_limit] FALSE\n",
       "\\item[gas\\textbackslash{}\\_used] FALSE\n",
       "\\item[Open] FALSE\n",
       "\\item[avg\\textbackslash{}\\_gas\\textbackslash{}\\_price] FALSE\n",
       "\\item[max\\textbackslash{}\\_gas\\textbackslash{}\\_price] FALSE\n",
       "\\item[min\\textbackslash{}\\_gas\\textbackslash{}\\_price] FALSE\n",
       "\\item[block\\textbackslash{}\\_utilisation] FALSE\n",
       "\\end{description*}\n"
      ],
      "text/markdown": [
       "datetime\n",
       ":   FALSEgas_limit\n",
       ":   FALSEgas_used\n",
       ":   FALSEOpen\n",
       ":   FALSEavg_gas_price\n",
       ":   FALSEmax_gas_price\n",
       ":   FALSEmin_gas_price\n",
       ":   FALSEblock_utilisation\n",
       ":   FALSE\n",
       "\n"
      ],
      "text/plain": [
       "         datetime         gas_limit          gas_used              Open \n",
       "            FALSE             FALSE             FALSE             FALSE \n",
       "    avg_gas_price     max_gas_price     min_gas_price block_utilisation \n",
       "            FALSE             FALSE             FALSE             FALSE "
      ]
     },
     "metadata": {},
     "output_type": "display_data"
    }
   ],
   "source": [
    "apply(Data, 2, function(x) any(is.na(x)))"
   ]
  },
  {
   "cell_type": "code",
   "execution_count": 6,
   "id": "24818fae",
   "metadata": {},
   "outputs": [],
   "source": [
    "Timestamp = Data$timestamp_y\n",
    "gas_limit  = Data$gas_limit\n",
    "gas_used  = Data$gas_used\n",
    "Open  = Data$Open\n",
    "avg_gas_price  = Data$avg_gas_price\n",
    "max_gas_price  = Data$max_gas_price\n",
    "min_gas_price  = Data$min_gas_price\n",
    "block_utilisation  = Data$block_utilisation\n",
    "\n",
    "min_gas_price_Test  = Test$min_gas_price"
   ]
  },
  {
   "cell_type": "code",
   "execution_count": 7,
   "id": "ce5732a0",
   "metadata": {},
   "outputs": [
    {
     "data": {
      "text/plain": [
       "Series: min_gas_price \n",
       "ARIMA(1,1,2) \n",
       "\n",
       "Coefficients:\n",
       "         ar1      ma1     ma2\n",
       "      0.7420  -1.1963  0.2148\n",
       "s.e.  0.0327   0.0442  0.0414\n",
       "\n",
       "sigma^2 = 1070:  log likelihood = -7060.02\n",
       "AIC=14128.03   AICc=14128.06   BIC=14149.12"
      ]
     },
     "metadata": {},
     "output_type": "display_data"
    },
    {
     "name": "stdout",
     "output_type": "stream",
     "text": [
      "\n",
      "\tLjung-Box test\n",
      "\n",
      "data:  Residuals from ARIMA(1,1,2)\n",
      "Q* = 7.7924, df = 7, p-value = 0.3513\n",
      "\n",
      "Model df: 3.   Total lags used: 10\n",
      "\n"
     ]
    },
    {
     "data": {
      "image/png": "[encoded data removed]",
      "text/plain": [
       "plot without title"
      ]
     },
     "metadata": {
      "image/png": {
       "height": 420,
       "width": 420
      }
     },
     "output_type": "display_data"
    }
   ],
   "source": [
    "fit <- auto.arima(min_gas_price)\n",
    "auto.arima(min_gas_price)\n",
    "checkresiduals(fit)\n"
   ]
  },
  {
   "cell_type": "markdown",
   "id": "e6a06f54",
   "metadata": {},
   "source": [
    "AutoARIMA does not seem to detect seasonality, forcing with arguments does not seem to work either\n",
    "\n",
    "P=2 and P=3 SARIMA models are similar "
   ]
  },
  {
   "cell_type": "code",
   "execution_count": 8,
   "id": "f0ee9f3c",
   "metadata": {
    "tags": []
   },
   "outputs": [
    {
     "name": "stdout",
     "output_type": "stream",
     "text": [
      "initial  value 3.936828 \n",
      "iter   2 value 3.648166\n",
      "iter   3 value 3.543245\n",
      "iter   4 value 3.529442\n",
      "iter   5 value 3.504635\n",
      "iter   6 value 3.486229\n",
      "iter   7 value 3.481993\n",
      "iter   8 value 3.479638\n",
      "iter   9 value 3.479199\n",
      "iter  10 value 3.479063\n",
      "iter  11 value 3.478964\n",
      "iter  12 value 3.478962\n",
      "iter  12 value 3.478962\n",
      "iter  12 value 3.478962\n",
      "final  value 3.478962 \n",
      "converged\n",
      "initial  value 3.480615 \n",
      "iter   2 value 3.480535\n",
      "iter   3 value 3.480474\n",
      "iter   4 value 3.480474\n",
      "iter   5 value 3.480473\n",
      "iter   6 value 3.480472\n",
      "iter   6 value 3.480472\n",
      "iter   6 value 3.480472\n",
      "final  value 3.480472 \n",
      "converged\n"
     ]
    },
    {
     "data": {
      "text/plain": [
       "$fit\n",
       "\n",
       "Call:\n",
       "arima(x = xdata, order = c(p, d, q), seasonal = list(order = c(P, D, Q), period = S), \n",
       "    include.mean = !no.constant, transform.pars = trans, fixed = fixed, optim.control = list(trace = trc, \n",
       "        REPORT = 1, reltol = tol))\n",
       "\n",
       "Coefficients:\n",
       "          ma1      ma2      ma3     sar1     sar2     sar3     sma1\n",
       "      -0.5354  -0.1808  -0.1340  -0.0201  -0.0113  -0.0394  -0.9379\n",
       "s.e.   0.0264   0.0325   0.0259   0.0288   0.0289   0.0289   0.0135\n",
       "\n",
       "sigma^2 estimated as 1014:  log likelihood = -6932.67,  aic = 13881.33\n",
       "\n",
       "$degrees_of_freedom\n",
       "[1] 1408\n",
       "\n",
       "$ttable\n",
       "     Estimate     SE  t.value p.value\n",
       "ma1   -0.5354 0.0264 -20.2611  0.0000\n",
       "ma2   -0.1808 0.0325  -5.5669  0.0000\n",
       "ma3   -0.1340 0.0259  -5.1767  0.0000\n",
       "sar1  -0.0201 0.0288  -0.6971  0.4859\n",
       "sar2  -0.0113 0.0289  -0.3912  0.6957\n",
       "sar3  -0.0394 0.0289  -1.3669  0.1719\n",
       "sma1  -0.9379 0.0135 -69.3903  0.0000\n",
       "\n",
       "$AIC\n",
       "[1] 9.810129\n",
       "\n",
       "$AICc\n",
       "[1] 9.810186\n",
       "\n",
       "$BIC\n",
       "[1] 9.839839\n"
      ]
     },
     "metadata": {},
     "output_type": "display_data"
    },
    {
     "data": {
      "image/png": "[encoded data removed]",
      "text/plain": [
       "Plot with title \"p values for Ljung-Box statistic\""
      ]
     },
     "metadata": {
      "image/png": {
       "height": 420,
       "width": 420
      }
     },
     "output_type": "display_data"
    }
   ],
   "source": [
    "sarima(min_gas_price, 0,1,3,3,1,1,24)\n"
   ]
  },
  {
   "cell_type": "code",
   "execution_count": 9,
   "id": "a8bf60fe",
   "metadata": {},
   "outputs": [
    {
     "data": {
      "image/png": "[encoded data removed]",
      "text/plain": [
       "plot without title"
      ]
     },
     "metadata": {
      "image/png": {
       "height": 420,
       "width": 420
      }
     },
     "output_type": "display_data"
    }
   ],
   "source": [
    "forecast = sarima.for(min_gas_price, 48, 0,1,3,3,1,1,24)"
   ]
  },
  {
   "cell_type": "code",
   "execution_count": 10,
   "id": "4d6cf35a",
   "metadata": {},
   "outputs": [],
   "source": [
    "Test_ts <- xts(Test$min_gas_price, order.by=(as.POSIXct(Test$datetime, format=\"%Y-%m-%d %H:%M:%S\")))\n",
    "\n"
   ]
  },
  {
   "cell_type": "code",
   "execution_count": 11,
   "id": "116fd13e",
   "metadata": {},
   "outputs": [],
   "source": [
    "Forecast_ts <- xts(forecast$pred, start=2022-01-25, order.by=(as.POSIXct(Test$datetime, format=\"%Y-%m-%d %H:%M:%S\")))"
   ]
  },
  {
   "cell_type": "code",
   "execution_count": 12,
   "id": "06f59e63",
   "metadata": {},
   "outputs": [
    {
     "data": {
      "text/html": [
       "851.579524733272"
      ],
      "text/latex": [
       "851.579524733272"
      ],
      "text/markdown": [
       "851.579524733272"
      ],
      "text/plain": [
       "[1] 851.5795"
      ]
     },
     "metadata": {},
     "output_type": "display_data"
    }
   ],
   "source": [
    "mean((Test_ts - Forecast_ts)^2)"
   ]
  },
  {
   "cell_type": "code",
   "execution_count": 13,
   "id": "42cd2aab",
   "metadata": {},
   "outputs": [
    {
     "data": {
      "text/html": [
       "0.156186817755496"
      ],
      "text/latex": [
       "0.156186817755496"
      ],
      "text/markdown": [
       "0.156186817755496"
      ],
      "text/plain": [
       "[1] 0.1561868"
      ]
     },
     "metadata": {},
     "output_type": "display_data"
    }
   ],
   "source": [
    "MAPE(Forecast_ts, Test_ts)"
   ]
  },
  {
   "cell_type": "code",
   "execution_count": 14,
   "id": "c01058c5",
   "metadata": {},
   "outputs": [
    {
     "data": {
      "text/html": [
       "21.9464181639669"
      ],
      "text/latex": [
       "21.9464181639669"
      ],
      "text/markdown": [
       "21.9464181639669"
      ],
      "text/plain": [
       "[1] 21.94642"
      ]
     },
     "metadata": {},
     "output_type": "display_data"
    }
   ],
   "source": [
    "MAE(Forecast_ts, Test_ts)"
   ]
  },
  {
   "cell_type": "code",
   "execution_count": 20,
   "id": "c6b0f584",
   "metadata": {},
   "outputs": [],
   "source": [
    "merged_ts <- merge(Test_ts,Forecast_ts,join='inner')"
   ]
  },
  {
   "cell_type": "code",
   "execution_count": 16,
   "id": "639da087",
   "metadata": {},
   "outputs": [
    {
     "data": {
      "text/html": [
       "29.1818355271438"
      ],
      "text/latex": [
       "29.1818355271438"
      ],
      "text/markdown": [
       "29.1818355271438"
      ],
      "text/plain": [
       "[1] 29.18184"
      ]
     },
     "metadata": {},
     "output_type": "display_data"
    }
   ],
   "source": [
    "RMSE(Forecast_ts, Test_ts)"
   ]
  },
  {
   "cell_type": "code",
   "execution_count": 30,
   "id": "448e9d48",
   "metadata": {},
   "outputs": [],
   "source": [
    "mseries <- cbind(merged_ts) # mseries is a xts object with multiple variables\n"
   ]
  },
  {
   "cell_type": "code",
   "execution_count": null,
   "id": "125e21f6-5fad-403c-8b94-13f2cdaf8ed4",
   "metadata": {},
   "outputs": [],
   "source": []
  },
  {
   "cell_type": "code",
   "execution_count": 64,
   "id": "b85a61b5",
   "metadata": {},
   "outputs": [
    {
     "data": {
      "image/png": "[encoded data removed]",
      "text/plain": [
       "plot without title"
      ]
     },
     "metadata": {
      "image/png": {
       "height": 420,
       "width": 420
      }
     },
     "output_type": "display_data"
    }
   ],
   "source": [
    "plot <- autoplot.zoo(mseries, facets=NULL)\n",
    "plot + \n",
    "theme_bw() + \n",
    "xlab(\"Datetime\")+ \n",
    "ylab(\"Min Block Gas Price\")+\n",
    "theme(axis.text=element_text(size=12, face=\"bold\"),\n",
    "        axis.title=element_text(size=14,face=\"bold\"))+\n",
    "theme(legend.text = element_text(size=12))+\n",
    "theme(legend.title = element_text(size=14, face=\"bold\"))+\n",
    "geom_line(size = 1)"
   ]
  }
 ],
 "metadata": {
  "kernelspec": {
   "display_name": "R",
   "language": "R",
   "name": "ir"
  },
  "language_info": {
   "codemirror_mode": "r",
   "file_extension": ".r",
   "mimetype": "text/x-r-source",
   "name": "R",
   "pygments_lexer": "r",
   "version": "4.1.2"
  }
 },
 "nbformat": 4,
 "nbformat_minor": 5
}
