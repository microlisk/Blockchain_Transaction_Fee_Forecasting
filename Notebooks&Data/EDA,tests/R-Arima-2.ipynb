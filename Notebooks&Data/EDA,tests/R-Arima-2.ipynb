{
 "cells": [
  {
   "cell_type": "code",
   "execution_count": 72,
   "id": "38285a11",
   "metadata": {},
   "outputs": [
    {
     "name": "stderr",
     "output_type": "stream",
     "text": [
      "Warning message:\n",
      "\"package 'MLmetrics' is in use and will not be installed\"\n"
     ]
    }
   ],
   "source": []
  },
  {
   "cell_type": "code",
   "execution_count": 5,
   "id": "72ff9f94",
   "metadata": {
    "tags": []
   },
   "outputs": [],
   "source": [
    "library(\"zoo\")                        # Load zoo package\n",
    "library(forecast)\n",
    "library(ggplot2)\n",
    "library(astsa)\n",
    "library(aTSA)\n",
    "library(xts)\n",
    "library(plotly)\n",
    "library(TSstudio)\n",
    "library(MLmetrics)"
   ]
  },
  {
   "cell_type": "code",
   "execution_count": 6,
   "id": "8075fbab",
   "metadata": {},
   "outputs": [],
   "source": [
    "Data <- read.csv(\"C:\\\\Users\\\\conal\\\\Desktop\\\\MCM\\\\Practicum\\\\data\\\\ETH,gas,usage merged_5min 11-26 to 01-26.csv\")"
   ]
  },
  {
   "cell_type": "code",
   "execution_count": 7,
   "id": "fd1732c3",
   "metadata": {},
   "outputs": [
    {
     "data": {
      "text/html": [
       "<table class=\"dataframe\">\n",
       "<caption>A data.frame: 6 × 8</caption>\n",
       "<thead>\n",
       "\t<tr><th></th><th scope=col>datetime</th><th scope=col>gas_limit</th><th scope=col>gas_used</th><th scope=col>Open</th><th scope=col>avg_gas_price</th><th scope=col>max_gas_price</th><th scope=col>min_gas_price</th><th scope=col>block_utilisation</th></tr>\n",
       "\t<tr><th></th><th scope=col>&lt;chr&gt;</th><th scope=col>&lt;dbl&gt;</th><th scope=col>&lt;dbl&gt;</th><th scope=col>&lt;dbl&gt;</th><th scope=col>&lt;dbl&gt;</th><th scope=col>&lt;dbl&gt;</th><th scope=col>&lt;dbl&gt;</th><th scope=col>&lt;dbl&gt;</th></tr>\n",
       "</thead>\n",
       "<tbody>\n",
       "\t<tr><th scope=row>17851</th><td>2022-01-26 23:30:00</td><td>30035402</td><td>17285399</td><td>2473.084</td><td>199.4940</td><td>622.8463</td><td>182.6880</td><td>0.5755651</td></tr>\n",
       "\t<tr><th scope=row>17852</th><td>2022-01-26 23:35:00</td><td>29986314</td><td>17167475</td><td>2472.904</td><td>225.7147</td><td>639.8999</td><td>213.4140</td><td>0.5723475</td></tr>\n",
       "\t<tr><th scope=row>17853</th><td>2022-01-26 23:40:00</td><td>30040262</td><td>16597248</td><td>2465.274</td><td>187.5205</td><td>606.5557</td><td>168.6087</td><td>0.5523320</td></tr>\n",
       "\t<tr><th scope=row>17854</th><td>2022-01-26 23:45:00</td><td>30030977</td><td>18624956</td><td>2464.988</td><td>201.5362</td><td>553.9399</td><td>187.3668</td><td>0.6200280</td></tr>\n",
       "\t<tr><th scope=row>17855</th><td>2022-01-26 23:50:00</td><td>29998993</td><td>17161175</td><td>2466.846</td><td>169.6238</td><td>649.6818</td><td>151.0162</td><td>0.5721265</td></tr>\n",
       "\t<tr><th scope=row>17856</th><td>2022-01-26 23:55:00</td><td>30015425</td><td>19644043</td><td>2464.224</td><td>158.5139</td><td>548.5618</td><td>143.7652</td><td>0.6544351</td></tr>\n",
       "</tbody>\n",
       "</table>\n"
      ],
      "text/latex": [
       "A data.frame: 6 × 8\n",
       "\\begin{tabular}{r|llllllll}\n",
       "  & datetime & gas\\_limit & gas\\_used & Open & avg\\_gas\\_price & max\\_gas\\_price & min\\_gas\\_price & block\\_utilisation\\\\\n",
       "  & <chr> & <dbl> & <dbl> & <dbl> & <dbl> & <dbl> & <dbl> & <dbl>\\\\\n",
       "\\hline\n",
       "\t17851 & 2022-01-26 23:30:00 & 30035402 & 17285399 & 2473.084 & 199.4940 & 622.8463 & 182.6880 & 0.5755651\\\\\n",
       "\t17852 & 2022-01-26 23:35:00 & 29986314 & 17167475 & 2472.904 & 225.7147 & 639.8999 & 213.4140 & 0.5723475\\\\\n",
       "\t17853 & 2022-01-26 23:40:00 & 30040262 & 16597248 & 2465.274 & 187.5205 & 606.5557 & 168.6087 & 0.5523320\\\\\n",
       "\t17854 & 2022-01-26 23:45:00 & 30030977 & 18624956 & 2464.988 & 201.5362 & 553.9399 & 187.3668 & 0.6200280\\\\\n",
       "\t17855 & 2022-01-26 23:50:00 & 29998993 & 17161175 & 2466.846 & 169.6238 & 649.6818 & 151.0162 & 0.5721265\\\\\n",
       "\t17856 & 2022-01-26 23:55:00 & 30015425 & 19644043 & 2464.224 & 158.5139 & 548.5618 & 143.7652 & 0.6544351\\\\\n",
       "\\end{tabular}\n"
      ],
      "text/markdown": [
       "\n",
       "A data.frame: 6 × 8\n",
       "\n",
       "| <!--/--> | datetime &lt;chr&gt; | gas_limit &lt;dbl&gt; | gas_used &lt;dbl&gt; | Open &lt;dbl&gt; | avg_gas_price &lt;dbl&gt; | max_gas_price &lt;dbl&gt; | min_gas_price &lt;dbl&gt; | block_utilisation &lt;dbl&gt; |\n",
       "|---|---|---|---|---|---|---|---|---|\n",
       "| 17851 | 2022-01-26 23:30:00 | 30035402 | 17285399 | 2473.084 | 199.4940 | 622.8463 | 182.6880 | 0.5755651 |\n",
       "| 17852 | 2022-01-26 23:35:00 | 29986314 | 17167475 | 2472.904 | 225.7147 | 639.8999 | 213.4140 | 0.5723475 |\n",
       "| 17853 | 2022-01-26 23:40:00 | 30040262 | 16597248 | 2465.274 | 187.5205 | 606.5557 | 168.6087 | 0.5523320 |\n",
       "| 17854 | 2022-01-26 23:45:00 | 30030977 | 18624956 | 2464.988 | 201.5362 | 553.9399 | 187.3668 | 0.6200280 |\n",
       "| 17855 | 2022-01-26 23:50:00 | 29998993 | 17161175 | 2466.846 | 169.6238 | 649.6818 | 151.0162 | 0.5721265 |\n",
       "| 17856 | 2022-01-26 23:55:00 | 30015425 | 19644043 | 2464.224 | 158.5139 | 548.5618 | 143.7652 | 0.6544351 |\n",
       "\n"
      ],
      "text/plain": [
       "      datetime            gas_limit gas_used Open     avg_gas_price\n",
       "17851 2022-01-26 23:30:00 30035402  17285399 2473.084 199.4940     \n",
       "17852 2022-01-26 23:35:00 29986314  17167475 2472.904 225.7147     \n",
       "17853 2022-01-26 23:40:00 30040262  16597248 2465.274 187.5205     \n",
       "17854 2022-01-26 23:45:00 30030977  18624956 2464.988 201.5362     \n",
       "17855 2022-01-26 23:50:00 29998993  17161175 2466.846 169.6238     \n",
       "17856 2022-01-26 23:55:00 30015425  19644043 2464.224 158.5139     \n",
       "      max_gas_price min_gas_price block_utilisation\n",
       "17851 622.8463      182.6880      0.5755651        \n",
       "17852 639.8999      213.4140      0.5723475        \n",
       "17853 606.5557      168.6087      0.5523320        \n",
       "17854 553.9399      187.3668      0.6200280        \n",
       "17855 649.6818      151.0162      0.5721265        \n",
       "17856 548.5618      143.7652      0.6544351        "
      ]
     },
     "metadata": {},
     "output_type": "display_data"
    }
   ],
   "source": [
    "FullData <- na.locf(Data)\n",
    "tail(FullData)"
   ]
  },
  {
   "cell_type": "code",
   "execution_count": 8,
   "id": "5cf2c837",
   "metadata": {},
   "outputs": [
    {
     "data": {
      "text/html": [
       "<table class=\"dataframe\">\n",
       "<caption>A data.frame: 6 × 8</caption>\n",
       "<thead>\n",
       "\t<tr><th></th><th scope=col>datetime</th><th scope=col>gas_limit</th><th scope=col>gas_used</th><th scope=col>Open</th><th scope=col>avg_gas_price</th><th scope=col>max_gas_price</th><th scope=col>min_gas_price</th><th scope=col>block_utilisation</th></tr>\n",
       "\t<tr><th></th><th scope=col>&lt;chr&gt;</th><th scope=col>&lt;dbl&gt;</th><th scope=col>&lt;dbl&gt;</th><th scope=col>&lt;dbl&gt;</th><th scope=col>&lt;dbl&gt;</th><th scope=col>&lt;dbl&gt;</th><th scope=col>&lt;dbl&gt;</th><th scope=col>&lt;dbl&gt;</th></tr>\n",
       "</thead>\n",
       "<tbody>\n",
       "\t<tr><th scope=row>1483</th><td>2021-12-01 03:30:00</td><td>29950163</td><td>17030906</td><td>4732.534</td><td>267.3648</td><td>557.0441</td><td>242.5746</td><td>0.5685773</td></tr>\n",
       "\t<tr><th scope=row>1484</th><td>2021-12-01 03:35:00</td><td>29961358</td><td>15906881</td><td>4728.840</td><td>291.8672</td><td>734.5097</td><td>277.3734</td><td>0.5309674</td></tr>\n",
       "\t<tr><th scope=row>1485</th><td>2021-12-01 03:40:00</td><td>29975124</td><td>14944021</td><td>4742.594</td><td>336.8420</td><td>592.7097</td><td>314.3215</td><td>0.4984287</td></tr>\n",
       "\t<tr><th scope=row>1486</th><td>2021-12-01 03:45:00</td><td>29968464</td><td>14335224</td><td>4729.260</td><td>226.8234</td><td>529.0747</td><td>171.4656</td><td>0.4783787</td></tr>\n",
       "\t<tr><th scope=row>1487</th><td>2021-12-01 03:50:00</td><td>29962809</td><td>18352470</td><td>4741.576</td><td>208.4274</td><td>858.5369</td><td>178.3819</td><td>0.6124540</td></tr>\n",
       "\t<tr><th scope=row>1488</th><td>2021-12-01 03:55:00</td><td>30002429</td><td>16134525</td><td>4745.664</td><td>213.2842</td><td>546.6245</td><td>189.2235</td><td>0.5377978</td></tr>\n",
       "</tbody>\n",
       "</table>\n"
      ],
      "text/latex": [
       "A data.frame: 6 × 8\n",
       "\\begin{tabular}{r|llllllll}\n",
       "  & datetime & gas\\_limit & gas\\_used & Open & avg\\_gas\\_price & max\\_gas\\_price & min\\_gas\\_price & block\\_utilisation\\\\\n",
       "  & <chr> & <dbl> & <dbl> & <dbl> & <dbl> & <dbl> & <dbl> & <dbl>\\\\\n",
       "\\hline\n",
       "\t1483 & 2021-12-01 03:30:00 & 29950163 & 17030906 & 4732.534 & 267.3648 & 557.0441 & 242.5746 & 0.5685773\\\\\n",
       "\t1484 & 2021-12-01 03:35:00 & 29961358 & 15906881 & 4728.840 & 291.8672 & 734.5097 & 277.3734 & 0.5309674\\\\\n",
       "\t1485 & 2021-12-01 03:40:00 & 29975124 & 14944021 & 4742.594 & 336.8420 & 592.7097 & 314.3215 & 0.4984287\\\\\n",
       "\t1486 & 2021-12-01 03:45:00 & 29968464 & 14335224 & 4729.260 & 226.8234 & 529.0747 & 171.4656 & 0.4783787\\\\\n",
       "\t1487 & 2021-12-01 03:50:00 & 29962809 & 18352470 & 4741.576 & 208.4274 & 858.5369 & 178.3819 & 0.6124540\\\\\n",
       "\t1488 & 2021-12-01 03:55:00 & 30002429 & 16134525 & 4745.664 & 213.2842 & 546.6245 & 189.2235 & 0.5377978\\\\\n",
       "\\end{tabular}\n"
      ],
      "text/markdown": [
       "\n",
       "A data.frame: 6 × 8\n",
       "\n",
       "| <!--/--> | datetime &lt;chr&gt; | gas_limit &lt;dbl&gt; | gas_used &lt;dbl&gt; | Open &lt;dbl&gt; | avg_gas_price &lt;dbl&gt; | max_gas_price &lt;dbl&gt; | min_gas_price &lt;dbl&gt; | block_utilisation &lt;dbl&gt; |\n",
       "|---|---|---|---|---|---|---|---|---|\n",
       "| 1483 | 2021-12-01 03:30:00 | 29950163 | 17030906 | 4732.534 | 267.3648 | 557.0441 | 242.5746 | 0.5685773 |\n",
       "| 1484 | 2021-12-01 03:35:00 | 29961358 | 15906881 | 4728.840 | 291.8672 | 734.5097 | 277.3734 | 0.5309674 |\n",
       "| 1485 | 2021-12-01 03:40:00 | 29975124 | 14944021 | 4742.594 | 336.8420 | 592.7097 | 314.3215 | 0.4984287 |\n",
       "| 1486 | 2021-12-01 03:45:00 | 29968464 | 14335224 | 4729.260 | 226.8234 | 529.0747 | 171.4656 | 0.4783787 |\n",
       "| 1487 | 2021-12-01 03:50:00 | 29962809 | 18352470 | 4741.576 | 208.4274 | 858.5369 | 178.3819 | 0.6124540 |\n",
       "| 1488 | 2021-12-01 03:55:00 | 30002429 | 16134525 | 4745.664 | 213.2842 | 546.6245 | 189.2235 | 0.5377978 |\n",
       "\n"
      ],
      "text/plain": [
       "     datetime            gas_limit gas_used Open     avg_gas_price\n",
       "1483 2021-12-01 03:30:00 29950163  17030906 4732.534 267.3648     \n",
       "1484 2021-12-01 03:35:00 29961358  15906881 4728.840 291.8672     \n",
       "1485 2021-12-01 03:40:00 29975124  14944021 4742.594 336.8420     \n",
       "1486 2021-12-01 03:45:00 29968464  14335224 4729.260 226.8234     \n",
       "1487 2021-12-01 03:50:00 29962809  18352470 4741.576 208.4274     \n",
       "1488 2021-12-01 03:55:00 30002429  16134525 4745.664 213.2842     \n",
       "     max_gas_price min_gas_price block_utilisation\n",
       "1483 557.0441      242.5746      0.5685773        \n",
       "1484 734.5097      277.3734      0.5309674        \n",
       "1485 592.7097      314.3215      0.4984287        \n",
       "1486 529.0747      171.4656      0.4783787        \n",
       "1487 858.5369      178.3819      0.6124540        \n",
       "1488 546.6245      189.2235      0.5377978        "
      ]
     },
     "metadata": {},
     "output_type": "display_data"
    }
   ],
   "source": [
    "Data <- FullData[0:1440,]\n",
    "Test <- FullData[1441:1488,]\n",
    "tail(Test)"
   ]
  },
  {
   "cell_type": "code",
   "execution_count": 9,
   "id": "bd1a12d5",
   "metadata": {},
   "outputs": [
    {
     "data": {
      "text/html": [
       "<style>\n",
       ".dl-inline {width: auto; margin:0; padding: 0}\n",
       ".dl-inline>dt, .dl-inline>dd {float: none; width: auto; display: inline-block}\n",
       ".dl-inline>dt::after {content: \":\\0020\"; padding-right: .5ex}\n",
       ".dl-inline>dt:not(:first-of-type) {padding-left: .5ex}\n",
       "</style><dl class=dl-inline><dt>datetime</dt><dd>FALSE</dd><dt>gas_limit</dt><dd>FALSE</dd><dt>gas_used</dt><dd>FALSE</dd><dt>Open</dt><dd>FALSE</dd><dt>avg_gas_price</dt><dd>FALSE</dd><dt>max_gas_price</dt><dd>FALSE</dd><dt>min_gas_price</dt><dd>FALSE</dd><dt>block_utilisation</dt><dd>FALSE</dd></dl>\n"
      ],
      "text/latex": [
       "\\begin{description*}\n",
       "\\item[datetime] FALSE\n",
       "\\item[gas\\textbackslash{}\\_limit] FALSE\n",
       "\\item[gas\\textbackslash{}\\_used] FALSE\n",
       "\\item[Open] FALSE\n",
       "\\item[avg\\textbackslash{}\\_gas\\textbackslash{}\\_price] FALSE\n",
       "\\item[max\\textbackslash{}\\_gas\\textbackslash{}\\_price] FALSE\n",
       "\\item[min\\textbackslash{}\\_gas\\textbackslash{}\\_price] FALSE\n",
       "\\item[block\\textbackslash{}\\_utilisation] FALSE\n",
       "\\end{description*}\n"
      ],
      "text/markdown": [
       "datetime\n",
       ":   FALSEgas_limit\n",
       ":   FALSEgas_used\n",
       ":   FALSEOpen\n",
       ":   FALSEavg_gas_price\n",
       ":   FALSEmax_gas_price\n",
       ":   FALSEmin_gas_price\n",
       ":   FALSEblock_utilisation\n",
       ":   FALSE\n",
       "\n"
      ],
      "text/plain": [
       "         datetime         gas_limit          gas_used              Open \n",
       "            FALSE             FALSE             FALSE             FALSE \n",
       "    avg_gas_price     max_gas_price     min_gas_price block_utilisation \n",
       "            FALSE             FALSE             FALSE             FALSE "
      ]
     },
     "metadata": {},
     "output_type": "display_data"
    }
   ],
   "source": [
    "apply(Data, 2, function(x) any(is.na(x)))"
   ]
  },
  {
   "cell_type": "code",
   "execution_count": 10,
   "id": "24818fae",
   "metadata": {},
   "outputs": [],
   "source": [
    "Timestamp = Data$timestamp_y\n",
    "gas_limit  = Data$gas_limit\n",
    "gas_used  = Data$gas_used\n",
    "Open  = Data$Open\n",
    "avg_gas_price  = Data$avg_gas_price\n",
    "max_gas_price  = Data$max_gas_price\n",
    "min_gas_price  = Data$min_gas_price\n",
    "block_utilisation  = Data$block_utilisation\n",
    "\n",
    "min_gas_price_Test  = Test$min_gas_price"
   ]
  },
  {
   "cell_type": "code",
   "execution_count": 11,
   "id": "ce5732a0",
   "metadata": {},
   "outputs": [
    {
     "data": {
      "text/plain": [
       "Series: min_gas_price \n",
       "ARIMA(1,1,3) \n",
       "\n",
       "Coefficients:\n",
       "         ar1      ma1      ma2      ma3\n",
       "      0.2224  -0.3339  -0.3905  -0.1870\n",
       "s.e.  0.0889   0.0886   0.0333   0.0537\n",
       "\n",
       "sigma^2 = 1809:  log likelihood = -7437.21\n",
       "AIC=14884.42   AICc=14884.46   BIC=14910.78"
      ]
     },
     "metadata": {},
     "output_type": "display_data"
    },
    {
     "name": "stdout",
     "output_type": "stream",
     "text": [
      "\n",
      "\tLjung-Box test\n",
      "\n",
      "data:  Residuals from ARIMA(1,1,3)\n",
      "Q* = 2.5202, df = 6, p-value = 0.8662\n",
      "\n",
      "Model df: 4.   Total lags used: 10\n",
      "\n"
     ]
    },
    {
     "data": {
      "image/png": "[encoded data removed]",
      "text/plain": [
       "plot without title"
      ]
     },
     "metadata": {
      "image/png": {
       "height": 420,
       "width": 420
      }
     },
     "output_type": "display_data"
    }
   ],
   "source": [
    "fit <- auto.arima(min_gas_price)\n",
    "auto.arima(min_gas_price)\n",
    "checkresiduals(fit)\n"
   ]
  },
  {
   "cell_type": "markdown",
   "id": "e6a06f54",
   "metadata": {},
   "source": [
    "AutoARIMA does not seem to detect seasonality, forcing with arguments does not seem to work either\n",
    "\n",
    "P=2 and P=3 SARIMA models are similar "
   ]
  },
  {
   "cell_type": "code",
   "execution_count": 12,
   "id": "f0ee9f3c",
   "metadata": {},
   "outputs": [
    {
     "name": "stdout",
     "output_type": "stream",
     "text": [
      "initial  value 4.254304 \n",
      "iter   2 value 3.902469\n",
      "iter   3 value 3.833656\n",
      "iter   4 value 3.827644\n",
      "iter   5 value 3.817810\n",
      "iter   6 value 3.810150\n",
      "iter   7 value 3.803145\n",
      "iter   8 value 3.800466\n",
      "iter   9 value 3.798644\n",
      "iter  10 value 3.796749\n",
      "iter  11 value 3.796381\n",
      "iter  12 value 3.796279\n",
      "iter  13 value 3.796268\n",
      "iter  14 value 3.796268\n",
      "iter  14 value 3.796268\n",
      "iter  14 value 3.796268\n",
      "final  value 3.796268 \n",
      "converged\n",
      "initial  value 3.784054 \n",
      "iter   2 value 3.783722\n",
      "iter   3 value 3.783374\n",
      "iter   4 value 3.783356\n",
      "iter   5 value 3.783336\n",
      "iter   6 value 3.783335\n",
      "iter   7 value 3.783335\n",
      "iter   7 value 3.783335\n",
      "iter   7 value 3.783335\n",
      "final  value 3.783335 \n",
      "converged\n"
     ]
    },
    {
     "data": {
      "text/plain": [
       "$fit\n",
       "\n",
       "Call:\n",
       "arima(x = xdata, order = c(p, d, q), seasonal = list(order = c(P, D, Q), period = S), \n",
       "    include.mean = !no.constant, transform.pars = trans, fixed = fixed, optim.control = list(trace = trc, \n",
       "        REPORT = 1, reltol = tol))\n",
       "\n",
       "Coefficients:\n",
       "          ma1      ma2      ma3     sar1     sar2    sar3     sma1\n",
       "      -0.1269  -0.4466  -0.2858  -0.0430  -0.0382  0.0037  -0.9602\n",
       "s.e.   0.0252   0.0244   0.0251   0.0292   0.0366  0.0362   0.0174\n",
       "\n",
       "sigma^2 estimated as 1844:  log likelihood = -7361.22,  aic = 14738.43\n",
       "\n",
       "$degrees_of_freedom\n",
       "[1] 1408\n",
       "\n",
       "$ttable\n",
       "     Estimate     SE  t.value p.value\n",
       "ma1   -0.1269 0.0252  -5.0304  0.0000\n",
       "ma2   -0.4466 0.0244 -18.2998  0.0000\n",
       "ma3   -0.2858 0.0251 -11.4006  0.0000\n",
       "sar1  -0.0430 0.0292  -1.4737  0.1408\n",
       "sar2  -0.0382 0.0366  -1.0435  0.2969\n",
       "sar3   0.0037 0.0362   0.1023  0.9185\n",
       "sma1  -0.9602 0.0174 -55.1566  0.0000\n",
       "\n",
       "$AIC\n",
       "[1] 10.41585\n",
       "\n",
       "$AICc\n",
       "[1] 10.41591\n",
       "\n",
       "$BIC\n",
       "[1] 10.44556\n"
      ]
     },
     "metadata": {},
     "output_type": "display_data"
    },
    {
     "data": {
      "image/png": "[encoded data removed]",
      "text/plain": [
       "Plot with title \"p values for Ljung-Box statistic\""
      ]
     },
     "metadata": {
      "image/png": {
       "height": 420,
       "width": 420
      }
     },
     "output_type": "display_data"
    }
   ],
   "source": [
    "sarima(min_gas_price, 0,1,3,3,1,1,24)\n"
   ]
  },
  {
   "cell_type": "code",
   "execution_count": 13,
   "id": "a8bf60fe",
   "metadata": {},
   "outputs": [
    {
     "data": {
      "image/png": "[encoded data removed]",
      "text/plain": [
       "plot without title"
      ]
     },
     "metadata": {
      "image/png": {
       "height": 420,
       "width": 420
      }
     },
     "output_type": "display_data"
    }
   ],
   "source": [
    "forecast = sarima.for(min_gas_price, 48, 0,1,3,3,1,1,24)"
   ]
  },
  {
   "cell_type": "code",
   "execution_count": 14,
   "id": "4d6cf35a",
   "metadata": {},
   "outputs": [],
   "source": [
    "Test_ts <- xts(Test$min_gas_price, order.by=(as.POSIXct(Test$datetime, format=\"%Y-%m-%d %H:%M:%S\")))\n",
    "\n"
   ]
  },
  {
   "cell_type": "code",
   "execution_count": 15,
   "id": "116fd13e",
   "metadata": {},
   "outputs": [],
   "source": [
    "Forecast_ts <- xts(forecast$pred, start=2022-01-25, order.by=(as.POSIXct(Test$datetime, format=\"%Y-%m-%d %H:%M:%S\")))"
   ]
  },
  {
   "cell_type": "code",
   "execution_count": 16,
   "id": "06f59e63",
   "metadata": {},
   "outputs": [
    {
     "data": {
      "text/html": [
       "2031.54387927324"
      ],
      "text/latex": [
       "2031.54387927324"
      ],
      "text/markdown": [
       "2031.54387927324"
      ],
      "text/plain": [
       "[1] 2031.544"
      ]
     },
     "metadata": {},
     "output_type": "display_data"
    }
   ],
   "source": [
    "mean((Test_ts - Forecast_ts)^2)"
   ]
  },
  {
   "cell_type": "code",
   "execution_count": 17,
   "id": "42cd2aab",
   "metadata": {},
   "outputs": [
    {
     "data": {
      "text/html": [
       "0.225248674013984"
      ],
      "text/latex": [
       "0.225248674013984"
      ],
      "text/markdown": [
       "0.225248674013984"
      ],
      "text/plain": [
       "[1] 0.2252487"
      ]
     },
     "metadata": {},
     "output_type": "display_data"
    }
   ],
   "source": [
    "MAPE(Forecast_ts, Test_ts)"
   ]
  },
  {
   "cell_type": "code",
   "execution_count": 18,
   "id": "c01058c5",
   "metadata": {},
   "outputs": [
    {
     "data": {
      "text/html": [
       "35.1444411309077"
      ],
      "text/latex": [
       "35.1444411309077"
      ],
      "text/markdown": [
       "35.1444411309077"
      ],
      "text/plain": [
       "[1] 35.14444"
      ]
     },
     "metadata": {},
     "output_type": "display_data"
    }
   ],
   "source": [
    "MAE(Forecast_ts, Test_ts)"
   ]
  },
  {
   "cell_type": "code",
   "execution_count": 21,
   "id": "c6b0f584",
   "metadata": {},
   "outputs": [],
   "source": [
    "merged_ts <- merge(Test_ts,Forecast_ts,join='inner')"
   ]
  },
  {
   "cell_type": "code",
   "execution_count": 22,
   "id": "639da087",
   "metadata": {},
   "outputs": [
    {
     "data": {
      "text/html": [
       "45.0726511231948"
      ],
      "text/latex": [
       "45.0726511231948"
      ],
      "text/markdown": [
       "45.0726511231948"
      ],
      "text/plain": [
       "[1] 45.07265"
      ]
     },
     "metadata": {},
     "output_type": "display_data"
    }
   ],
   "source": [
    "RMSE(Forecast_ts, Test_ts)"
   ]
  },
  {
   "cell_type": "code",
   "execution_count": 23,
   "id": "448e9d48",
   "metadata": {},
   "outputs": [],
   "source": [
    "mseries <- cbind(merged_ts) # mseries is a xts object with multiple variables\n"
   ]
  },
  {
   "cell_type": "code",
   "execution_count": 24,
   "id": "b85a61b5",
   "metadata": {},
   "outputs": [
    {
     "data": {
      "image/png": "[encoded data removed]",
      "text/plain": [
       "plot without title"
      ]
     },
     "metadata": {
      "image/png": {
       "height": 420,
       "width": 420
      }
     },
     "output_type": "display_data"
    }
   ],
   "source": [
    "plot <- autoplot.zoo(mseries, facets=NULL)\n",
    "plot + \n",
    "theme_bw() + \n",
    "xlab(\"Datetime\")+ \n",
    "ylab(\"Min Block Gas Price\")+\n",
    "theme(axis.text=element_text(size=12, face=\"bold\"),\n",
    "        axis.title=element_text(size=14,face=\"bold\"))+\n",
    "theme(legend.text = element_text(size=12))+\n",
    "theme(legend.title = element_text(size=14, face=\"bold\"))+\n",
    "geom_line(size = 1)"
   ]
  },
  {
   "cell_type": "code",
   "execution_count": null,
   "id": "e3541c7d-12ab-498b-a1d1-a3341529ec75",
   "metadata": {},
   "outputs": [],
   "source": []
  }
 ],
 "metadata": {
  "kernelspec": {
   "display_name": "R",
   "language": "R",
   "name": "ir"
  },
  "language_info": {
   "codemirror_mode": "r",
   "file_extension": ".r",
   "mimetype": "text/x-r-source",
   "name": "R",
   "pygments_lexer": "r",
   "version": "4.1.2"
  }
 },
 "nbformat": 4,
 "nbformat_minor": 5
}
